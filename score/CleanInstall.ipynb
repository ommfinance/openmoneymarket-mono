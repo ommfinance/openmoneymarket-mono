{
 "cells": [
  {
   "cell_type": "markdown",
   "metadata": {
    "slideshow": {
     "slide_type": "slide"
    }
   },
   "source": [
    "# Jupyter Notebook to clean install all the contracts"
   ]
  },
  {
   "cell_type": "markdown",
   "metadata": {
    "slideshow": {
     "slide_type": "slide"
    }
   },
   "source": [
    "\n",
    "### Necessary packages "
   ]
  },
  {
   "cell_type": "code",
   "execution_count": 1,
   "metadata": {},
   "outputs": [
    {
     "data": {
      "text/html": [
       "<style>.container { width:100% !important; }</style>"
      ],
      "text/plain": [
       "<IPython.core.display.HTML object>"
      ]
     },
     "metadata": {},
     "output_type": "display_data"
    }
   ],
   "source": [
    "from IPython.core.display import display, HTML\n",
    "display(HTML(\"<style>.container { width:100% !important; }</style>\"))\n"
   ]
  },
  {
   "cell_type": "markdown",
   "metadata": {},
   "source": [
    "# Set Up Environment"
   ]
  },
  {
   "cell_type": "code",
   "execution_count": 75,
   "metadata": {},
   "outputs": [],
   "source": [
    "network = \"yeouido\"  # set this to one of mainnet, yeouido, euljiro, pagoda, or custom\n",
    "contracts_file_custom = 'contracts_20201108141815.pkl'\n",
    "#contracts_20201109120425\n",
    "\n",
    "connections = {\n",
    "\"mainnet\": {\"iconservice\": \"https://ctz.solidwallet.io\",       \"nid\": 1},\n",
    "\"yeouido\": {\"iconservice\": \"https://bicon.net.solidwallet.io\", \"nid\": 3},\n",
    "\"euljiro\": {\"iconservice\": \"https://test-ctz.solidwallet.io\",  \"nid\": 2},\n",
    "\"pagoda\":  {\"iconservice\": \"https://zicon.net.solidwallet.io\", \"nid\":80},\n",
    "\"custom\":  {\"iconservice\": \"http://18.237.205.52:9000/\",       \"nid\": 3},\n",
    "\"local\":   {\"iconservice\": \"http://localhost:9000/\",           \"nid\": 3}\n",
    "}\n",
    "\n",
    "env = connections[network]"
   ]
  },
  {
   "cell_type": "code",
   "execution_count": 76,
   "metadata": {},
   "outputs": [],
   "source": [
    "class AutoVivification(dict):\n",
    "    \"\"\"Implementation of perl's autovivification feature.\"\"\"\n",
    "    def __getitem__(self, item):\n",
    "        try:\n",
    "            return dict.__getitem__(self, item)\n",
    "        except KeyError:\n",
    "            value = self[item] = type(self)()\n",
    "            return value"
   ]
  },
  {
   "cell_type": "code",
   "execution_count": 79,
   "metadata": {
    "slideshow": {
     "slide_type": "-"
    }
   },
   "outputs": [],
   "source": [
    "from iconsdk.exception import JSONRPCException\n",
    "from iconsdk.libs.in_memory_zip import gen_deploy_data_content\n",
    "from iconsdk.icon_service import IconService\n",
    "from iconsdk.providers.http_provider import HTTPProvider\n",
    "from iconsdk.builder.transaction_builder import CallTransactionBuilder, TransactionBuilder, DeployTransactionBuilder\n",
    "from iconsdk.builder.call_builder import CallBuilder\n",
    "from iconsdk.signed_transaction import SignedTransaction\n",
    "from iconsdk.wallet.wallet import KeyWallet\n",
    "from iconsdk.utils.convert_type import convert_hex_str_to_int\n",
    "from datetime import datetime\n",
    "from repeater import retry\n",
    "from shutil import make_archive\n",
    "import requests\n",
    "import json\n",
    "import pickle as pkl\n",
    "import csv\n",
    "import os\n",
    "from pprint import pprint\n",
    "from getpass import getpass\n",
    "from lendingPoolCore.Math import *\n",
    "\n",
    "ICX = 1000000000000000000 # 10**18\n",
    "GOVERNANCE_ADDRESS = \"cx0000000000000000000000000000000000000000\"\n",
    "\n",
    "\n",
    "with open(contracts_file_custom, 'rb') as f:\n",
    "    contracts = pkl.load(f)\n",
    "\n",
    "@retry(JSONRPCException, tries=10, delay=1, back_off=2)\n",
    "def get_tx_result(_tx_hash):\n",
    "    tx_result = icon_service.get_transaction_result(_tx_hash)\n",
    "    return tx_result\n",
    "\n",
    "\n"
   ]
  },
  {
   "cell_type": "code",
   "execution_count": 80,
   "metadata": {
    "tags": []
   },
   "outputs": [
    {
     "output_type": "stream",
     "name": "stdout",
     "text": "{'addressProvider': 'cxed440f1da2cf3087ac5ef12217a13f6321de0375',\n 'feeProvider': 'cxede316aa65b7df13633599e67490daf1fd32b8a5',\n 'lendingPool': 'cx35b12ca4e9c672518db3c06d92ed60d50e7d5554',\n 'lendingPoolCore': 'cx327a386a9f8076045679fc132a8baa9e270ca43b',\n 'lendingPoolDataProvider': 'cxa198eaf0a589adf0ab31b523d1f8912f47f6f293',\n 'oICX': 'cxf6e3d64db674c0edbf732462e80e2e3352280548',\n 'oToken': 'cx4258464e395b3ef3b73a146947eb41393e8c5873',\n 'priceOracle': 'cx3f6477bf290eb91257b806ece614ab18b1c7be41',\n 'sample_token': 'cx19be1be7b4e7750863edf966faac3f42dec21025',\n 'sicx': 'cxb7eda227d9ed9c6fc2a74aa5dd7e9a3913f6c281',\n 'staking': 'cxadd9557a07d4aab925dd04b7a6da4ea1d67bef9c'}\n"
    }
   ],
   "source": [
    "pprint(contracts)"
   ]
  },
  {
   "cell_type": "markdown",
   "metadata": {
    "slideshow": {
     "slide_type": "-"
    }
   },
   "source": [
    "### Required service"
   ]
  },
  {
   "cell_type": "code",
   "execution_count": 81,
   "metadata": {},
   "outputs": [],
   "source": [
    "icon_service = IconService(HTTPProvider(env[\"iconservice\"], 3))\n",
    "NID = env[\"nid\"]"
   ]
  },
  {
   "cell_type": "code",
   "execution_count": 5,
   "metadata": {
    "tags": []
   },
   "outputs": [
    {
     "output_type": "stream",
     "name": "stdout",
     "text": "{'addressProvider': 'cxdcbae76661c0edbf968d048c3bba3311bde57e37',\n 'feeProvider': 'cx52555a5dda72b98a3ed692b58761f68af9486073',\n 'lendingPool': 'cx348b53ff3bb5c6411f8c3e7082cde123bd86c67e',\n 'lendingPoolCore': 'cxc15058ed8a262ff3b3a2400786848a3c32c274a5',\n 'lendingPoolDataProvider': 'cx45bd68dd4f903160f4c7f2c43791fa741debb582',\n 'liquidationManager': 'cx001794d12ea9170f4bb7a620e0a03a157f35a429',\n 'oICX': 'cx7dcf7232084a085507bf2685f785589ebb0b52a1',\n 'oToken': 'cx77d34d57f7ea300637058ef65babc52da91376a4',\n 'priceOracle': 'cx0b57375df6a814ca3f589e91b15015f135fbd046',\n 'sample_token': 'cx9da823297393ecb193030b983ce334f25af20aac',\n 'sicx': 'cxb7eda227d9ed9c6fc2a74aa5dd7e9a3913f6c281',\n 'staking': 'cxadd9557a07d4aab925dd04b7a6da4ea1d67bef9c'}\n"
    }
   ],
   "source": [
    "\n",
    "\n",
    "\"\"\"\n",
    "contracts = {\n",
    "\n",
    "}\n",
    "pprint(contracts)\n",
    "\"\"\"\n",
    "pprint(contracts)"
   ]
  },
  {
   "cell_type": "markdown",
   "metadata": {
    "slideshow": {
     "slide_type": "-"
    }
   },
   "source": [
    "# Importing wallet"
   ]
  },
  {
   "cell_type": "markdown",
   "metadata": {},
   "source": [
    "### Importing from private key"
   ]
  },
  {
   "cell_type": "code",
   "execution_count": 82,
   "metadata": {
    "scrolled": true
   },
   "outputs": [
    {
     "output_type": "execute_result",
     "data": {
      "text/plain": "'hx91bf040426f226b3bfcd2f0b5967bbb0320525ce'"
     },
     "metadata": {},
     "execution_count": 82
    }
   ],
   "source": [
    "\n",
    "private=\"a691ef7d5601f9b5be4f9b9d80215159ea6ff0b88003e3d34e078d40e778b39a\"\n",
    "deployer_wallet = KeyWallet.load(bytes.fromhex(private))\n",
    "deployer_wallet.get_address()\n"
   ]
  },
  {
   "cell_type": "code",
   "execution_count": 7,
   "metadata": {},
   "outputs": [
    {
     "data": {
      "text/plain": [
       "78700095085177400000000000"
      ]
     },
     "execution_count": 7,
     "metadata": {},
     "output_type": "execute_result"
    }
   ],
   "source": [
    "icon_service.get_balance(\"hx91bf040426f226b3bfcd2f0b5967bbb0320525ce\")"
   ]
  },
  {
   "cell_type": "markdown",
   "metadata": {},
   "source": [
    "### Importing wallet from keystore file"
   ]
  },
  {
   "cell_type": "code",
   "execution_count": 8,
   "metadata": {
    "tags": []
   },
   "outputs": [
    {
     "data": {
      "text/plain": [
       "708876575999000000000000000"
      ]
     },
     "execution_count": 8,
     "metadata": {},
     "output_type": "execute_result"
    }
   ],
   "source": [
    "# Set to the address of the keystore file and give the password when prompted\n",
    "password = getpass()\n",
    "deployer_wallet = KeyWallet.load(\"./keystores/keystore_test1.json\",password)\n",
    "deployer_wallet.get_address()\n",
    "icon_service.get_balance(deployer_wallet.get_address())"
   ]
  },
  {
   "cell_type": "code",
   "execution_count": 7,
   "metadata": {
    "tags": []
   },
   "outputs": [
    {
     "output_type": "stream",
     "name": "stdout",
     "text": "hxd29037f1eb8c3f0e8630d797edc7410507c0089a\nhx66ee5acace86d9ce23127599b7c9daae70c9d7c1\nhx65902dd4139d04765534a4539319be874ad7aa0b\n"
    }
   ],
   "source": [
    "private2=\"b3d4e18d733f05dc21f326ba4fe150514874327c738c4a19ddd357d0e8e2efed\"\n",
    "deployer_wallet2 = KeyWallet.load(bytes.fromhex(private2))\n",
    "print(deployer_wallet2.get_address())\n",
    "\n",
    "private3=\"c3d5e9afe753a07c983bb14e34f73907e40a997793ce2f7d2895cddec27f81c6\"\n",
    "deployer_wallet3 = KeyWallet.load(bytes.fromhex(private3))\n",
    "print(deployer_wallet3.get_address())\n",
    "\n",
    "private4=\"2ffb9ef51826d555189d4804161058036cf87ae8290f1a308a79d045f6cdd428\"\n",
    "deployer_wallet4 = KeyWallet.load(bytes.fromhex(private4))\n",
    "print(deployer_wallet4.get_address())\n",
    "wallets=[deployer_wallet2,deployer_wallet3,deployer_wallet4]"
   ]
  },
  {
   "cell_type": "markdown",
   "metadata": {},
   "source": [
    "# Deploying all contracts\n"
   ]
  },
  {
   "cell_type": "code",
   "execution_count": 9,
   "metadata": {
    "slideshow": {
     "slide_type": "-"
    },
    "tags": []
   },
   "outputs": [
    {
     "name": "stderr",
     "output_type": "stream",
     "text": [
      "Raised JSONRPCException while returning the custom response. Error message: {'code': -32602, 'message': 'Pending transaction'}\n",
      "{'code': -32602, 'message': 'Pending transaction'} (Json rpc error), Retrying in 1 seconds...\n",
      "Raised JSONRPCException while returning the custom response. Error message: {'code': -32602, 'message': 'Pending transaction'}\n",
      "{'code': -32602, 'message': 'Pending transaction'} (Json rpc error), Retrying in 1 seconds...\n",
      "Raised JSONRPCException while returning the custom response. Error message: {'code': -32602, 'message': 'Pending transaction'}\n",
      "{'code': -32602, 'message': 'Pending transaction'} (Json rpc error), Retrying in 1 seconds...\n",
      "Raised JSONRPCException while returning the custom response. Error message: {'code': -32602, 'message': 'Pending transaction'}\n",
      "{'code': -32602, 'message': 'Pending transaction'} (Json rpc error), Retrying in 1 seconds...\n",
      "Raised JSONRPCException while returning the custom response. Error message: {'code': -32602, 'message': 'Pending transaction'}\n",
      "{'code': -32602, 'message': 'Pending transaction'} (Json rpc error), Retrying in 1 seconds...\n",
      "{'txHash': '0xe5468682dd8fd027e9e841a65965012688407aa2ccb3848ddb33a1479179f8fc', 'blockHeight': 1870861, 'blockHash': '0x21f789649f85b0f257c7862d586bec33b421003d7779f8a8780e6cbf851fda6e', 'txIndex': 1, 'to': 'cx0000000000000000000000000000000000000000', 'scoreAddress': 'cxf872138faf25dfc5a1216a7a85cad24b8172d988', 'stepUsed': 1144284440, 'stepPrice': 10000000000, 'cumulativeStepUsed': 1144284440, 'eventLogs': [], 'logsBloom': b'\\x00\\x00\\x00\\x00\\x00\\x00\\x00\\x00\\x00\\x00\\x00\\x00\\x00\\x00\\x00\\x00\\x00\\x00\\x00\\x00\\x00\\x00\\x00\\x00\\x00\\x00\\x00\\x00\\x00\\x00\\x00\\x00\\x00\\x00\\x00\\x00\\x00\\x00\\x00\\x00\\x00\\x00\\x00\\x00\\x00\\x00\\x00\\x00\\x00\\x00\\x00\\x00\\x00\\x00\\x00\\x00\\x00\\x00\\x00\\x00\\x00\\x00\\x00\\x00\\x00\\x00\\x00\\x00\\x00\\x00\\x00\\x00\\x00\\x00\\x00\\x00\\x00\\x00\\x00\\x00\\x00\\x00\\x00\\x00\\x00\\x00\\x00\\x00\\x00\\x00\\x00\\x00\\x00\\x00\\x00\\x00\\x00\\x00\\x00\\x00\\x00\\x00\\x00\\x00\\x00\\x00\\x00\\x00\\x00\\x00\\x00\\x00\\x00\\x00\\x00\\x00\\x00\\x00\\x00\\x00\\x00\\x00\\x00\\x00\\x00\\x00\\x00\\x00\\x00\\x00\\x00\\x00\\x00\\x00\\x00\\x00\\x00\\x00\\x00\\x00\\x00\\x00\\x00\\x00\\x00\\x00\\x00\\x00\\x00\\x00\\x00\\x00\\x00\\x00\\x00\\x00\\x00\\x00\\x00\\x00\\x00\\x00\\x00\\x00\\x00\\x00\\x00\\x00\\x00\\x00\\x00\\x00\\x00\\x00\\x00\\x00\\x00\\x00\\x00\\x00\\x00\\x00\\x00\\x00\\x00\\x00\\x00\\x00\\x00\\x00\\x00\\x00\\x00\\x00\\x00\\x00\\x00\\x00\\x00\\x00\\x00\\x00\\x00\\x00\\x00\\x00\\x00\\x00\\x00\\x00\\x00\\x00\\x00\\x00\\x00\\x00\\x00\\x00\\x00\\x00\\x00\\x00\\x00\\x00\\x00\\x00\\x00\\x00\\x00\\x00\\x00\\x00\\x00\\x00\\x00\\x00\\x00\\x00\\x00\\x00\\x00\\x00\\x00\\x00\\x00\\x00\\x00\\x00\\x00\\x00\\x00\\x00\\x00\\x00\\x00\\x00', 'status': 1}\n",
      "saving contracts list as custom_contracts_20201212140312.pkl\n"
     ]
    },
    {
     "data": {
      "text/plain": [
       "{'addressProvider': 'cxc595228d12cc267c748026a6629af41060654dab',\n",
       " 'feeProvider': 'cxb76322c7df895a14e47bc14b4aa21566b3edc069',\n",
       " 'lendingPool': 'cxf44d5c379d7b458fe4bba1ecb0f8fd4a54e9d65c',\n",
       " 'lendingPoolCore': 'cx515613f46e2b333f6bdfa5d7fd1bf93fa3043e14',\n",
       " 'lendingPoolDataProvider': 'cxfdff702158ae5bfce3f25a4c040b850d96e25af8',\n",
       " 'oICX': 'cxf872138faf25dfc5a1216a7a85cad24b8172d988',\n",
       " 'oToken': 'cx9732efc2d75905dfe4d8bc2d055c2cf226391d00',\n",
       " 'priceOracle': 'cx1fbce991b255545bcd31634ab6beda5605201f46',\n",
       " 'sample_token': 'cxc88281539407ee6d766e58d302f27c50d517783c',\n",
       " 'sicx': 'cx400639d22b6bce4def6e7d7be2bc36e7a39192ee',\n",
       " 'liquidationManager': 'cx847bb94d386b34af9ba86dfdcace651dbd5af822'}"
      ]
     },
     "execution_count": 9,
     "metadata": {},
     "output_type": "execute_result"
    }
   ],
   "source": [
    "#contracts=AutoVivification()\n",
    "\n",
    "deploy = ['addressProvider', 'feeProvider', 'lendingPool', 'lendingPoolCore', 'lendingPoolDataProvider','oToken','priceOracle','sample_token', 'sicx', 'liquidationManager']\n",
    "# for directory in {\"score\"}:\n",
    "directory=os.getcwd()\n",
    "for item in deploy:\n",
    "    params = {}\n",
    "    if item == \"sample_token\":\n",
    "        params = {'_initialSupply':500000000, '_decimals': 18}\n",
    "    elif item == \"sicx\":\n",
    "        params = {'_initialSupply':500000000, '_decimals': 18}\n",
    "    elif item == \"oToken\":\n",
    "        params = {\"_name\":\"BridgeUSDInterestToken\",\"_symbol\":\"oUSDb\"}\n",
    "    deploy_transaction = DeployTransactionBuilder()\\\n",
    "        .from_(deployer_wallet.get_address())\\\n",
    "        .to(GOVERNANCE_ADDRESS)\\\n",
    "        .nid(NID)\\\n",
    "        .nonce(100)\\\n",
    "        .content_type(\"application/zip\")\\\n",
    "        .content(gen_deploy_data_content(item))\\\n",
    "        .params(params)\\\n",
    "        .build()\n",
    "\n",
    "    step_limit = icon_service.estimate_step(deploy_transaction) + 100000\n",
    "    \n",
    "    signed_transaction = SignedTransaction(deploy_transaction, deployer_wallet, step_limit)\n",
    "    tx_hash = icon_service.send_transaction(signed_transaction)\n",
    "\n",
    "    res = get_tx_result(tx_hash)\n",
    "    contracts[item] = res.get('scoreAddress', '')\n",
    "\n",
    "#deploy oICX \n",
    "params = {\"_name\":\"ICXinterestToken\",\"_symbol\":\"oICX\"}\n",
    "deploy_transaction = DeployTransactionBuilder()\\\n",
    "        .from_(deployer_wallet.get_address())\\\n",
    "        .to(GOVERNANCE_ADDRESS)\\\n",
    "        .nid(NID)\\\n",
    "        .nonce(100)\\\n",
    "        .content_type(\"application/zip\")\\\n",
    "        .content(gen_deploy_data_content('oToken'))\\\n",
    "        .params(params)\\\n",
    "        .build()\n",
    "\n",
    "step_limit = icon_service.estimate_step(deploy_transaction) + 100000\n",
    "\n",
    "signed_transaction = SignedTransaction(deploy_transaction, deployer_wallet, step_limit)\n",
    "tx_hash = icon_service.send_transaction(signed_transaction)\n",
    "\n",
    "res = get_tx_result(tx_hash)\n",
    "print(res)\n",
    "contracts['oICX'] = res.get('scoreAddress', '')\n",
    "\n",
    "now = datetime.utcnow()\n",
    "\n",
    "filename = f'contracts_{now.year}{str(now.month).zfill(2)}{str(now.day).zfill(2)}{str(now.hour).zfill(2)}{str(now.minute).zfill(2)}{str(now.second).zfill(2)}.pkl'\n",
    "filename=network+'_'+filename\n",
    "print(f'saving contracts list as {filename}')\n",
    "with open(filename, 'wb') as f:\n",
    "    pkl.dump(contracts, f)\n",
    "\n",
    "contracts"
   ]
  },
  {
   "cell_type": "code",
   "execution_count": 13,
   "metadata": {
    "tags": []
   },
   "outputs": [
    {
     "output_type": "stream",
     "name": "stdout",
     "text": "saving contracts list as contracts_20201108141815.pkl\n"
    }
   ],
   "source": [
    "now = datetime.utcnow()\n",
    "\n",
    "filename = f'contracts_{now.year}{str(now.month).zfill(2)}{str(now.day).zfill(2)}{str(now.hour).zfill(2)}{str(now.minute).zfill(2)}{str(now.second).zfill(2)}.pkl'\n",
    "filename=network+'_'+filename\n",
    "print(f'saving contracts list as {filename}')\n",
    "with open(filename, 'wb') as f:\n",
    "    pkl.dump(contracts, f)"
   ]
  },
  {
   "cell_type": "markdown",
   "metadata": {},
   "source": [
    "## Save updated contract"
   ]
  },
  {
   "cell_type": "markdown",
   "metadata": {},
   "source": []
  },
  {
   "cell_type": "code",
   "execution_count": 46,
   "metadata": {},
   "outputs": [
    {
     "name": "stdout",
     "output_type": "stream",
     "text": [
      "saving contracts list as updated20201125_custom_contracts_20201122161857.pkl\n"
     ]
    },
    {
     "data": {
      "text/plain": [
       "{'lendingPoolDataProvider': {'zip': '/home/shubham/Work/ICON/openmoneymarket-mono/score/lendingPoolDataProvider',\n",
       "  'SCORE': 'cx726e8bacc442256099dda50438c11d004215afc5'},\n",
       " 'lendingPool': {'zip': '/home/shubham/Work/ICON/openmoneymarket-mono/score/lendingPool',\n",
       "  'SCORE': 'cxbfd0ecb9892ca2e1ae3d0494d48f6618620b7e48'},\n",
       " 'feeProvider': {'zip': '/home/shubham/Work/ICON/openmoneymarket-mono/score/feeProvider',\n",
       "  'SCORE': 'cxe408b46a010ff5f82e9e45610a0aadb4ff2b073c'},\n",
       " 'lendingPoolCore': {'zip': '/home/shubham/Work/ICON/openmoneymarket-mono/score/lendingPoolCore',\n",
       "  'SCORE': 'cx3daa5c2517fdd44bdf37904e5e537eefafb4d69d'},\n",
       " 'oToken': {'zip': '/home/shubham/Work/ICON/openmoneymarket-mono/score/oToken',\n",
       "  'SCORE': 'cx2f4c43ec2c69321573e93549d89462de4a25fdbe'},\n",
       " 'priceOracle': {'zip': '/home/shubham/Work/ICON/openmoneymarket-mono/score/priceOracle',\n",
       "  'SCORE': 'cx6703fdc7e0e65c5195d6dbfb59a838f76a9c19b1'},\n",
       " 'sample_token': {'zip': '/home/shubham/Work/ICON/openmoneymarket-mono/score/sample_token',\n",
       "  'SCORE': 'cx134a1a0309aaf88a00ad1fee4983b7ed43454ab6'},\n",
       " 'addressProvider': {'zip': '/home/shubham/Work/ICON/openmoneymarket-mono/score/addressProvider',\n",
       "  'SCORE': 'cx1e6df31409cf3f68fe4028848dca876314a5fbfc'},\n",
       " 'oICX': {'SCORE': 'cx6dbb85df52d7b12d2c00d673d89c5bf21ee29be2',\n",
       "  'zip': '/home/shubham/Work/ICON/openmoneymarket-mono/score/oToken'},\n",
       " 'sicx': {'SCORE': 'cx735ee7e87d30d76a83b27c7bc62a84b5beafa34b',\n",
       "  'zip': '/home/shubham/Work/ICON/openmoneymarket-mono/score/sicx'}}"
      ]
     },
     "execution_count": 46,
     "metadata": {},
     "output_type": "execute_result"
    }
   ],
   "source": [
    "#use this to update a pre existing pkl file\n",
    "filename = 'updated20201125_' + contracts_file_custom\n",
    "print(f'saving contracts list as {filename}')\n",
    "with open(filename, 'wb') as f:\n",
    "    pkl.dump(contracts, f)\n",
    "contracts"
   ]
  },
  {
   "cell_type": "markdown",
   "metadata": {},
   "source": [
    "# ICX transfer"
   ]
  },
  {
   "cell_type": "code",
   "execution_count": 17,
   "metadata": {
    "tags": []
   },
   "outputs": [
    {
     "data": {
      "text/plain": [
       "{'txHash': '0x3c546494f559d4ea9d34534f13387c74aa80658c67ac2630ce1adaf514e1bc86',\n",
       " 'blockHeight': 1425621,\n",
       " 'blockHash': '0xc6a2b22340f3c2756027f1926f731d1eaa78ed6c65653e92e85f58e7ee2d2b66',\n",
       " 'txIndex': 1,\n",
       " 'to': 'hx49c8a4c31e84b9abe7f8c8395eb7133b2151aeae',\n",
       " 'stepUsed': 100000,\n",
       " 'stepPrice': 10000000000,\n",
       " 'cumulativeStepUsed': 100000,\n",
       " 'eventLogs': [],\n",
       " 'logsBloom': b'\\x00\\x00\\x00\\x00\\x00\\x00\\x00\\x00\\x00\\x00\\x00\\x00\\x00\\x00\\x00\\x00\\x00\\x00\\x00\\x00\\x00\\x00\\x00\\x00\\x00\\x00\\x00\\x00\\x00\\x00\\x00\\x00\\x00\\x00\\x00\\x00\\x00\\x00\\x00\\x00\\x00\\x00\\x00\\x00\\x00\\x00\\x00\\x00\\x00\\x00\\x00\\x00\\x00\\x00\\x00\\x00\\x00\\x00\\x00\\x00\\x00\\x00\\x00\\x00\\x00\\x00\\x00\\x00\\x00\\x00\\x00\\x00\\x00\\x00\\x00\\x00\\x00\\x00\\x00\\x00\\x00\\x00\\x00\\x00\\x00\\x00\\x00\\x00\\x00\\x00\\x00\\x00\\x00\\x00\\x00\\x00\\x00\\x00\\x00\\x00\\x00\\x00\\x00\\x00\\x00\\x00\\x00\\x00\\x00\\x00\\x00\\x00\\x00\\x00\\x00\\x00\\x00\\x00\\x00\\x00\\x00\\x00\\x00\\x00\\x00\\x00\\x00\\x00\\x00\\x00\\x00\\x00\\x00\\x00\\x00\\x00\\x00\\x00\\x00\\x00\\x00\\x00\\x00\\x00\\x00\\x00\\x00\\x00\\x00\\x00\\x00\\x00\\x00\\x00\\x00\\x00\\x00\\x00\\x00\\x00\\x00\\x00\\x00\\x00\\x00\\x00\\x00\\x00\\x00\\x00\\x00\\x00\\x00\\x00\\x00\\x00\\x00\\x00\\x00\\x00\\x00\\x00\\x00\\x00\\x00\\x00\\x00\\x00\\x00\\x00\\x00\\x00\\x00\\x00\\x00\\x00\\x00\\x00\\x00\\x00\\x00\\x00\\x00\\x00\\x00\\x00\\x00\\x00\\x00\\x00\\x00\\x00\\x00\\x00\\x00\\x00\\x00\\x00\\x00\\x00\\x00\\x00\\x00\\x00\\x00\\x00\\x00\\x00\\x00\\x00\\x00\\x00\\x00\\x00\\x00\\x00\\x00\\x00\\x00\\x00\\x00\\x00\\x00\\x00\\x00\\x00\\x00\\x00\\x00\\x00\\x00\\x00\\x00\\x00\\x00\\x00',\n",
       " 'status': 1}"
      ]
     },
     "execution_count": 17,
     "metadata": {},
     "output_type": "execute_result"
    }
   ],
   "source": [
    "transaction = TransactionBuilder()\\\n",
    "    .from_(deployer_wallet.get_address())\\\n",
    "    .to(\"hx49c8a4c31e84b9abe7f8c8395eb7133b2151aeae\")\\\n",
    "    .nid(3) \\\n",
    "    .nonce(100) \\\n",
    "    .value(1000000*10**18)\\\n",
    "    .build()\n",
    "\n",
    "estimate_step = icon_service.estimate_step(transaction)\n",
    "step_limit = estimate_step + 100000\n",
    "# Returns the signed transaction object having a signature\n",
    "signed_transaction = SignedTransaction(transaction, deployer_wallet,step_limit)\n",
    "\n",
    "\n",
    "# Sends the transaction\n",
    "tx_hash = icon_service.send_transaction(signed_transaction)\n",
    "\n",
    "get_tx_result(tx_hash)"
   ]
  },
  {
   "cell_type": "code",
   "execution_count": 25,
   "metadata": {},
   "outputs": [
    {
     "name": "stderr",
     "output_type": "stream",
     "text": [
      "Raised JSONRPCException while returning the custom response. Error message: {'code': -32602, 'message': 'Pending transaction'}\n",
      "{'code': -32602, 'message': 'Pending transaction'} (Json rpc error), Retrying in 1 seconds...\n"
     ]
    },
    {
     "data": {
      "text/plain": [
       "{'txHash': '0x2e044c431b4da18bd8d57bb81662e176a9e0c35d0258d0f8fdd9e064801d6738',\n",
       " 'blockHeight': 10244800,\n",
       " 'blockHash': '0x136d86ac10f8ae06e8b9c76f13b9074e34011902bbfe20314ac21d4215a77af9',\n",
       " 'txIndex': 1,\n",
       " 'to': 'cx93119bb51b7885b502293882004bbc5dc74e8215',\n",
       " 'stepUsed': 142400,\n",
       " 'stepPrice': 10000000000,\n",
       " 'cumulativeStepUsed': 142400,\n",
       " 'eventLogs': [],\n",
       " 'logsBloom': b'\\x00\\x00\\x00\\x00\\x00\\x00\\x00\\x00\\x00\\x00\\x00\\x00\\x00\\x00\\x00\\x00\\x00\\x00\\x00\\x00\\x00\\x00\\x00\\x00\\x00\\x00\\x00\\x00\\x00\\x00\\x00\\x00\\x00\\x00\\x00\\x00\\x00\\x00\\x00\\x00\\x00\\x00\\x00\\x00\\x00\\x00\\x00\\x00\\x00\\x00\\x00\\x00\\x00\\x00\\x00\\x00\\x00\\x00\\x00\\x00\\x00\\x00\\x00\\x00\\x00\\x00\\x00\\x00\\x00\\x00\\x00\\x00\\x00\\x00\\x00\\x00\\x00\\x00\\x00\\x00\\x00\\x00\\x00\\x00\\x00\\x00\\x00\\x00\\x00\\x00\\x00\\x00\\x00\\x00\\x00\\x00\\x00\\x00\\x00\\x00\\x00\\x00\\x00\\x00\\x00\\x00\\x00\\x00\\x00\\x00\\x00\\x00\\x00\\x00\\x00\\x00\\x00\\x00\\x00\\x00\\x00\\x00\\x00\\x00\\x00\\x00\\x00\\x00\\x00\\x00\\x00\\x00\\x00\\x00\\x00\\x00\\x00\\x00\\x00\\x00\\x00\\x00\\x00\\x00\\x00\\x00\\x00\\x00\\x00\\x00\\x00\\x00\\x00\\x00\\x00\\x00\\x00\\x00\\x00\\x00\\x00\\x00\\x00\\x00\\x00\\x00\\x00\\x00\\x00\\x00\\x00\\x00\\x00\\x00\\x00\\x00\\x00\\x00\\x00\\x00\\x00\\x00\\x00\\x00\\x00\\x00\\x00\\x00\\x00\\x00\\x00\\x00\\x00\\x00\\x00\\x00\\x00\\x00\\x00\\x00\\x00\\x00\\x00\\x00\\x00\\x00\\x00\\x00\\x00\\x00\\x00\\x00\\x00\\x00\\x00\\x00\\x00\\x00\\x00\\x00\\x00\\x00\\x00\\x00\\x00\\x00\\x00\\x00\\x00\\x00\\x00\\x00\\x00\\x00\\x00\\x00\\x00\\x00\\x00\\x00\\x00\\x00\\x00\\x00\\x00\\x00\\x00\\x00\\x00\\x00\\x00\\x00\\x00\\x00\\x00\\x00',\n",
       " 'status': 1}"
      ]
     },
     "execution_count": 25,
     "metadata": {},
     "output_type": "execute_result"
    }
   ],
   "source": [
    "params = {\"_owner\":\"hx91bf040426f226b3bfcd2f0b5967bbb0320525ce\"}\n",
    "transaction = CallTransactionBuilder()\\\n",
    "    .from_(deployer_wallet.get_address())\\\n",
    "    .to(contracts['sample_token'])\\\n",
    "    .value(0)\\\n",
    "    .step_limit(10000000)\\\n",
    "    .nid(3)\\\n",
    "    .nonce(100)\\\n",
    "    .method(\"balanceOf\")\\\n",
    "    .params(params)\\\n",
    "    .build()\n",
    "signed_transaction = SignedTransaction(transaction, deployer_wallet)\n",
    "tx_hash = icon_service.send_transaction(signed_transaction)\n",
    "get_tx_result(tx_hash)"
   ]
  },
  {
   "cell_type": "markdown",
   "metadata": {
    "tags": []
   },
   "source": [
    "# Updating a contract"
   ]
  },
  {
   "cell_type": "code",
   "execution_count": 88,
   "metadata": {
    "slideshow": {
     "slide_type": "-"
    },
    "tags": []
   },
   "outputs": [
    {
     "output_type": "stream",
     "name": "stdout",
     "text": "update oToken cxf6e3d64db674c0edbf732462e80e2e3352280548\nRaised JSONRPCException while returning the custom response. Error message: {'code': -32602, 'message': 'Pending transaction'}\n{'code': -32602, 'message': 'Pending transaction'} (Json rpc error), Retrying in 1 seconds...\nRaised JSONRPCException while returning the custom response. Error message: {'code': -32602, 'message': 'Pending transaction'}\n{'code': -32602, 'message': 'Pending transaction'} (Json rpc error), Retrying in 2 seconds...\n"
    },
    {
     "output_type": "execute_result",
     "data": {
      "text/plain": "{'txHash': '0x8b8ba012c9f3d7b9a10b76be01b90842caab62c091a914672c418f33f11d5103',\n 'blockHeight': 11575540,\n 'blockHash': '0x5a0fe4ff5c60c6d3c16a2a5bf88c44d9fbcbb3c66cc9ad3806a3d025ddee8c66',\n 'txIndex': 1,\n 'to': 'cxf6e3d64db674c0edbf732462e80e2e3352280548',\n 'scoreAddress': 'cxf6e3d64db674c0edbf732462e80e2e3352280548',\n 'stepUsed': 1743719200,\n 'stepPrice': 10000000000,\n 'cumulativeStepUsed': 1743719200,\n 'eventLogs': [],\n 'logsBloom': b'\\x00\\x00\\x00\\x00\\x00\\x00\\x00\\x00\\x00\\x00\\x00\\x00\\x00\\x00\\x00\\x00\\x00\\x00\\x00\\x00\\x00\\x00\\x00\\x00\\x00\\x00\\x00\\x00\\x00\\x00\\x00\\x00\\x00\\x00\\x00\\x00\\x00\\x00\\x00\\x00\\x00\\x00\\x00\\x00\\x00\\x00\\x00\\x00\\x00\\x00\\x00\\x00\\x00\\x00\\x00\\x00\\x00\\x00\\x00\\x00\\x00\\x00\\x00\\x00\\x00\\x00\\x00\\x00\\x00\\x00\\x00\\x00\\x00\\x00\\x00\\x00\\x00\\x00\\x00\\x00\\x00\\x00\\x00\\x00\\x00\\x00\\x00\\x00\\x00\\x00\\x00\\x00\\x00\\x00\\x00\\x00\\x00\\x00\\x00\\x00\\x00\\x00\\x00\\x00\\x00\\x00\\x00\\x00\\x00\\x00\\x00\\x00\\x00\\x00\\x00\\x00\\x00\\x00\\x00\\x00\\x00\\x00\\x00\\x00\\x00\\x00\\x00\\x00\\x00\\x00\\x00\\x00\\x00\\x00\\x00\\x00\\x00\\x00\\x00\\x00\\x00\\x00\\x00\\x00\\x00\\x00\\x00\\x00\\x00\\x00\\x00\\x00\\x00\\x00\\x00\\x00\\x00\\x00\\x00\\x00\\x00\\x00\\x00\\x00\\x00\\x00\\x00\\x00\\x00\\x00\\x00\\x00\\x00\\x00\\x00\\x00\\x00\\x00\\x00\\x00\\x00\\x00\\x00\\x00\\x00\\x00\\x00\\x00\\x00\\x00\\x00\\x00\\x00\\x00\\x00\\x00\\x00\\x00\\x00\\x00\\x00\\x00\\x00\\x00\\x00\\x00\\x00\\x00\\x00\\x00\\x00\\x00\\x00\\x00\\x00\\x00\\x00\\x00\\x00\\x00\\x00\\x00\\x00\\x00\\x00\\x00\\x00\\x00\\x00\\x00\\x00\\x00\\x00\\x00\\x00\\x00\\x00\\x00\\x00\\x00\\x00\\x00\\x00\\x00\\x00\\x00\\x00\\x00\\x00\\x00\\x00\\x00\\x00\\x00\\x00\\x00',\n 'status': 1}"
     },
     "metadata": {},
     "execution_count": 88
    }
   ],
   "source": [
    "#deploy = ['addressProvider', 'feeProvider', 'lendingPool', 'lendingPoolCore', 'lendingPoolDataProvider','oToken','priceOracle','sample_token', 'sicx', 'oICX', 'liquidationManager']\n",
    "#for contract_ in deploy:\n",
    "\n",
    "\n",
    "contract_ = 'oICX'\n",
    "if contract_ == 'oICX':\n",
    "    update = contracts['oICX']\n",
    "    contract_ = 'oToken' \n",
    "else:\n",
    "    update = contracts[contract_]\n",
    "#update = contracts[contract_]\n",
    "print('update',contract_, update)\n",
    "\n",
    "deploy_transaction = DeployTransactionBuilder()\\\n",
    "    .from_(deployer_wallet.get_address())\\\n",
    "    .to(update)\\\n",
    "    .nid(NID)\\\n",
    "    .nonce(100)\\\n",
    "    .content_type(\"application/zip\")\\\n",
    "    .content(gen_deploy_data_content(contract_))\\\n",
    "    .build()\n",
    "\n",
    "step_limit = icon_service.estimate_step(deploy_transaction) + 100000\n",
    "\n",
    "signed_transaction = SignedTransaction(deploy_transaction, deployer_wallet, step_limit)\n",
    "tx_hash = icon_service.send_transaction(signed_transaction)\n",
    "\n",
    "get_tx_result(tx_hash)\n"
   ]
  },
  {
   "cell_type": "code",
   "execution_count": 66,
   "metadata": {},
   "outputs": [
    {
     "name": "stderr",
     "output_type": "stream",
     "text": [
      "Raised JSONRPCException while returning the custom response. Error message: {'code': -32602, 'message': 'Pending transaction'}\n",
      "{'code': -32602, 'message': 'Pending transaction'} (Json rpc error), Retrying in 1 seconds...\n"
     ]
    },
    {
     "data": {
      "text/plain": [
       "{'txHash': '0x2b9631e6573e89fdaa9c672b46fea43fc2453f26e641d564f9c0dab5e4e75234',\n",
       " 'blockHeight': 1787871,\n",
       " 'blockHash': '0x5d5730cfdc2ece16aa225eaaf85d7a12f6d57643f20882ac4249e489d7a5c594',\n",
       " 'txIndex': 1,\n",
       " 'to': 'cxc34e4610de51d36edddcb8822e393dcbb14603a4',\n",
       " 'stepUsed': 155440,\n",
       " 'stepPrice': 10000000000,\n",
       " 'cumulativeStepUsed': 155440,\n",
       " 'eventLogs': [],\n",
       " 'logsBloom': b'\\x00\\x00\\x00\\x00\\x00\\x00\\x00\\x00\\x00\\x00\\x00\\x00\\x00\\x00\\x00\\x00\\x00\\x00\\x00\\x00\\x00\\x00\\x00\\x00\\x00\\x00\\x00\\x00\\x00\\x00\\x00\\x00\\x00\\x00\\x00\\x00\\x00\\x00\\x00\\x00\\x00\\x00\\x00\\x00\\x00\\x00\\x00\\x00\\x00\\x00\\x00\\x00\\x00\\x00\\x00\\x00\\x00\\x00\\x00\\x00\\x00\\x00\\x00\\x00\\x00\\x00\\x00\\x00\\x00\\x00\\x00\\x00\\x00\\x00\\x00\\x00\\x00\\x00\\x00\\x00\\x00\\x00\\x00\\x00\\x00\\x00\\x00\\x00\\x00\\x00\\x00\\x00\\x00\\x00\\x00\\x00\\x00\\x00\\x00\\x00\\x00\\x00\\x00\\x00\\x00\\x00\\x00\\x00\\x00\\x00\\x00\\x00\\x00\\x00\\x00\\x00\\x00\\x00\\x00\\x00\\x00\\x00\\x00\\x00\\x00\\x00\\x00\\x00\\x00\\x00\\x00\\x00\\x00\\x00\\x00\\x00\\x00\\x00\\x00\\x00\\x00\\x00\\x00\\x00\\x00\\x00\\x00\\x00\\x00\\x00\\x00\\x00\\x00\\x00\\x00\\x00\\x00\\x00\\x00\\x00\\x00\\x00\\x00\\x00\\x00\\x00\\x00\\x00\\x00\\x00\\x00\\x00\\x00\\x00\\x00\\x00\\x00\\x00\\x00\\x00\\x00\\x00\\x00\\x00\\x00\\x00\\x00\\x00\\x00\\x00\\x00\\x00\\x00\\x00\\x00\\x00\\x00\\x00\\x00\\x00\\x00\\x00\\x00\\x00\\x00\\x00\\x00\\x00\\x00\\x00\\x00\\x00\\x00\\x00\\x00\\x00\\x00\\x00\\x00\\x00\\x00\\x00\\x00\\x00\\x00\\x00\\x00\\x00\\x00\\x00\\x00\\x00\\x00\\x00\\x00\\x00\\x00\\x00\\x00\\x00\\x00\\x00\\x00\\x00\\x00\\x00\\x00\\x00\\x00\\x00\\x00\\x00\\x00\\x00\\x00\\x00',\n",
       " 'status': 1}"
      ]
     },
     "execution_count": 66,
     "metadata": {},
     "output_type": "execute_result"
    }
   ],
   "source": [
    "params = {\"_reserveAddress\": contracts['sicx'], \"_liquidationBonus\": 1 * 10 ** 17 }\n",
    "transaction = CallTransactionBuilder()\\\n",
    "    .from_(deployer_wallet.get_address())\\\n",
    "    .to(contracts['lendingPoolCore'])\\\n",
    "    .value(0)\\\n",
    "    .step_limit(10000000)\\\n",
    "    .nid(3)\\\n",
    "    .nonce(100)\\\n",
    "    .method(\"updateLiquidationBonus\")\\\n",
    "    .params(params)\\\n",
    "    .build()\n",
    "signed_transaction = SignedTransaction(transaction, deployer_wallet)\n",
    "tx_hash = icon_service.send_transaction(signed_transaction)\n",
    "get_tx_result(tx_hash)"
   ]
  },
  {
   "cell_type": "markdown",
   "metadata": {},
   "source": [
    "# Configuring SCOREs's parameters"
   ]
  },
  {
   "cell_type": "code",
   "execution_count": 15,
   "metadata": {
    "scrolled": false,
    "slideshow": {
     "slide_type": "-"
    },
    "tags": []
   },
   "outputs": [],
   "source": [
    "settings = [{'contract': 'lendingPool', 'method': 'setLendingPoolCoreAddress', 'params':{'_address': contracts['lendingPoolCore']}},\n",
    "            {'contract': 'lendingPool', 'method': 'setDataProvider', 'params':{'_address': contracts['lendingPoolDataProvider']}},\n",
    "            {'contract': 'lendingPool', 'method': 'setFeeProvider', 'params':{'_address': contracts['feeProvider']}},\n",
    "            {'contract': 'lendingPool', 'method': 'setLiquidationManagerAddress','params': {'_address':contracts['liquidationManager']}},\n",
    "            {'contract': 'lendingPool', 'method': 'setStakingAddress', 'params':{'_address': contracts['staking']}},\n",
    "            {'contract': 'lendingPool', 'method': 'setOICXAddress', 'params':{'_address': contracts['oICX']}},\n",
    "            {'contract': 'feeProvider', 'method': 'setLoanOriginationFeePercentage', 'params':{'_percentage': 1*10**15}},\n",
    "            {'contract': 'lendingPoolDataProvider', 'method': 'setSymbol', 'params':{'_reserveAddress': contracts['sample_token'],'_sym':\"USDb\"}},\n",
    "            {'contract': 'lendingPoolDataProvider', 'method': 'setSymbol', 'params':{'_reserveAddress': contracts['sicx'],'_sym':\"ICX\"}},\n",
    "            {'contract': 'lendingPoolDataProvider', 'method': 'setLendingPoolCoreAddress', 'params':{'_address': contracts['lendingPoolCore']}},\n",
    "            {'contract': 'lendingPoolDataProvider', 'method': 'setOracleAddress', 'params':{'_address': contracts['priceOracle']}},\n",
    "            {'contract': 'lendingPoolDataProvider', 'method': 'setLendingPoolAddress', 'params':{'_address': contracts['lendingPool']}},\n",
    "            {'contract': 'lendingPoolDataProvider', 'method': 'setLiquidationAddress', 'params':{'_address': contracts['liquidationManager']}},\n",
    "            {'contract': 'lendingPoolDataProvider', 'method': 'setStakingAddress', 'params':{'_address': contracts['staking']}},\n",
    "            {'contract': 'oToken', 'method': 'setCoreAddress', 'params':{'_address':contracts['lendingPoolCore']}},\n",
    "            {'contract': 'oToken', 'method': 'setReserveAddress', 'params':{'_address':contracts['sample_token']}},\n",
    "            {'contract': 'oToken', 'method': 'setDataProviderAddress', 'params':{'_address':contracts['lendingPoolDataProvider']}},\n",
    "            {'contract': 'oToken', 'method': 'setLendingPoolAddress', 'params':{'_address':contracts['lendingPool']}},\n",
    "            {'contract': 'priceOracle', 'method': 'set_reference_data', 'params':{'_base':'USDb','_quote':'USD','_rate':1*10**18}},\n",
    "            {'contract': 'priceOracle', 'method': 'set_reference_data', 'params':{'_base':'ICX','_quote':'USD','_rate':5*10**17}},\n",
    "            {'contract': 'addressProvider', 'method': 'setLendingPool', 'params':{'_address':contracts['lendingPool']}},\n",
    "            {'contract': 'addressProvider', 'method': 'setLendingPoolDataProvider', 'params':{'_address':contracts['lendingPoolDataProvider']}},\n",
    "            {'contract': 'addressProvider', 'method': 'setUSDb', 'params':{'_address':contracts['sample_token']}},\n",
    "            {'contract': 'addressProvider', 'method': 'setoUSDb', 'params':{'_address':contracts['oToken']}},\n",
    "            {'contract': 'addressProvider', 'method': 'setsICX', 'params':{'_address':contracts['sicx']}},\n",
    "            {'contract': 'addressProvider', 'method': 'setoICX', 'params':{'_address':contracts['oICX']}},\n",
    "            {'contract': 'addressProvider', 'method': 'setStaking', 'params':{'_address':contracts['staking']}\n",
    "            {'contract': 'lendingPoolCore', 'method': 'setReserveConstants', 'params' :{\"_constants\": [{\"reserve\":contracts['sample_token'],\"optimalUtilizationRate\":f\"8{'0'*17}\",\"baseBorrowRate\":f\"2{'0'*16}\",\"slopeRate1\":f\"4{'0'*16}\",\"slopeRate2\":f\"1{'0'*18}\"} ]}},\n",
    "            {'contract': 'lendingPool', 'method': 'setSICXAddress', 'params':{'_address': contracts['sicx']}},  \n",
    "            {'contract': 'lendingPoolCore', 'method': 'setReserveConstants', 'params' :{\"_constants\": [{\"reserve\":contracts['sicx'],\"optimalUtilizationRate\":f\"6{'0'*17}\",\"baseBorrowRate\":f\"0{'0'*17}\",\"slopeRate1\":f\"8{'0'*16}\",\"slopeRate2\":f\"2{'0'*18}\"} ]}},\n",
    "            {'contract': 'oICX', 'method': 'setCoreAddress', 'params':{'_address':contracts['lendingPoolCore']}},\n",
    "            {'contract': 'oICX', 'method': 'setReserveAddress', 'params':{'_address':contracts['sicx']}},\n",
    "            {'contract': 'oICX', 'method': 'setDataProviderAddress', 'params':{'_address':contracts['lendingPoolDataProvider']}},\n",
    "            {'contract': 'oICX', 'method': 'setLendingPoolAddress', 'params':{'_address':contracts['lendingPool']}},\n",
    "            {'contract': 'liquidationManager', 'method': 'setDataProviderAddress', 'params': {'_address':contracts['lendingPoolDataProvider']}},\n",
    "            {'contract': 'liquidationManager', 'method': 'setCoreAddress', 'params': {'_address':contracts['lendingPoolCore']}},\n",
    "            {'contract': 'liquidationManager', 'method': 'setOracleAddress','params': {'_address':contracts['priceOracle']}},\n",
    "            {'contract': 'liquidationManager', 'method': 'setFeeProviderAddress','params': {'_address':contracts['feeProvider']}},]"
   ]
  },
  {
   "cell_type": "code",
   "execution_count": 16,
   "metadata": {
    "tags": [
     "outputPrepend"
    ]
   },
   "outputs": [
    {
     "name": "stdout",
     "output_type": "stream",
     "text": [
      "'stepUsed': 149120, 'stepPrice': 10000000000, 'cumulativeStepUsed': 149120, 'eventLogs': [], 'logsBloom': b'\\x00\\x00\\x00\\x00\\x00\\x00\\x00\\x00\\x00\\x00\\x00\\x00\\x00\\x00\\x00\\x00\\x00\\x00\\x00\\x00\\x00\\x00\\x00\\x00\\x00\\x00\\x00\\x00\\x00\\x00\\x00\\x00\\x00\\x00\\x00\\x00\\x00\\x00\\x00\\x00\\x00\\x00\\x00\\x00\\x00\\x00\\x00\\x00\\x00\\x00\\x00\\x00\\x00\\x00\\x00\\x00\\x00\\x00\\x00\\x00\\x00\\x00\\x00\\x00\\x00\\x00\\x00\\x00\\x00\\x00\\x00\\x00\\x00\\x00\\x00\\x00\\x00\\x00\\x00\\x00\\x00\\x00\\x00\\x00\\x00\\x00\\x00\\x00\\x00\\x00\\x00\\x00\\x00\\x00\\x00\\x00\\x00\\x00\\x00\\x00\\x00\\x00\\x00\\x00\\x00\\x00\\x00\\x00\\x00\\x00\\x00\\x00\\x00\\x00\\x00\\x00\\x00\\x00\\x00\\x00\\x00\\x00\\x00\\x00\\x00\\x00\\x00\\x00\\x00\\x00\\x00\\x00\\x00\\x00\\x00\\x00\\x00\\x00\\x00\\x00\\x00\\x00\\x00\\x00\\x00\\x00\\x00\\x00\\x00\\x00\\x00\\x00\\x00\\x00\\x00\\x00\\x00\\x00\\x00\\x00\\x00\\x00\\x00\\x00\\x00\\x00\\x00\\x00\\x00\\x00\\x00\\x00\\x00\\x00\\x00\\x00\\x00\\x00\\x00\\x00\\x00\\x00\\x00\\x00\\x00\\x00\\x00\\x00\\x00\\x00\\x00\\x00\\x00\\x00\\x00\\x00\\x00\\x00\\x00\\x00\\x00\\x00\\x00\\x00\\x00\\x00\\x00\\x00\\x00\\x00\\x00\\x00\\x00\\x00\\x00\\x00\\x00\\x00\\x00\\x00\\x00\\x00\\x00\\x00\\x00\\x00\\x00\\x00\\x00\\x00\\x00\\x00\\x00\\x00\\x00\\x00\\x00\\x00\\x00\\x00\\x00\\x00\\x00\\x00\\x00\\x00\\x00\\x00\\x00\\x00\\x00\\x00\\x00\\x00\\x00\\x00', 'status': 1}\n",
      "\n",
      "\n",
      "Calling setoICX, with parameters {'_address': 'cxf872138faf25dfc5a1216a7a85cad24b8172d988'} on the addressProvider contract.\n",
      "Raised JSONRPCException while returning the custom response. Error message: {'code': -32602, 'message': 'Pending transaction'}\n",
      "{'code': -32602, 'message': 'Pending transaction'} (Json rpc error), Retrying in 1 seconds...\n",
      "{'txHash': '0x16717fcc799db40efa9bba907bd2af0f3d7b4577ad409a30c5e0a1039ec9c7bc', 'blockHeight': 1870939, 'blockHash': '0x29ea189c288aab889353855b1b2b1ec0e92c7b0a6418330a803e121d11e91213', 'txIndex': 1, 'to': 'cxc595228d12cc267c748026a6629af41060654dab', 'stepUsed': 149120, 'stepPrice': 10000000000, 'cumulativeStepUsed': 149120, 'eventLogs': [], 'logsBloom': b'\\x00\\x00\\x00\\x00\\x00\\x00\\x00\\x00\\x00\\x00\\x00\\x00\\x00\\x00\\x00\\x00\\x00\\x00\\x00\\x00\\x00\\x00\\x00\\x00\\x00\\x00\\x00\\x00\\x00\\x00\\x00\\x00\\x00\\x00\\x00\\x00\\x00\\x00\\x00\\x00\\x00\\x00\\x00\\x00\\x00\\x00\\x00\\x00\\x00\\x00\\x00\\x00\\x00\\x00\\x00\\x00\\x00\\x00\\x00\\x00\\x00\\x00\\x00\\x00\\x00\\x00\\x00\\x00\\x00\\x00\\x00\\x00\\x00\\x00\\x00\\x00\\x00\\x00\\x00\\x00\\x00\\x00\\x00\\x00\\x00\\x00\\x00\\x00\\x00\\x00\\x00\\x00\\x00\\x00\\x00\\x00\\x00\\x00\\x00\\x00\\x00\\x00\\x00\\x00\\x00\\x00\\x00\\x00\\x00\\x00\\x00\\x00\\x00\\x00\\x00\\x00\\x00\\x00\\x00\\x00\\x00\\x00\\x00\\x00\\x00\\x00\\x00\\x00\\x00\\x00\\x00\\x00\\x00\\x00\\x00\\x00\\x00\\x00\\x00\\x00\\x00\\x00\\x00\\x00\\x00\\x00\\x00\\x00\\x00\\x00\\x00\\x00\\x00\\x00\\x00\\x00\\x00\\x00\\x00\\x00\\x00\\x00\\x00\\x00\\x00\\x00\\x00\\x00\\x00\\x00\\x00\\x00\\x00\\x00\\x00\\x00\\x00\\x00\\x00\\x00\\x00\\x00\\x00\\x00\\x00\\x00\\x00\\x00\\x00\\x00\\x00\\x00\\x00\\x00\\x00\\x00\\x00\\x00\\x00\\x00\\x00\\x00\\x00\\x00\\x00\\x00\\x00\\x00\\x00\\x00\\x00\\x00\\x00\\x00\\x00\\x00\\x00\\x00\\x00\\x00\\x00\\x00\\x00\\x00\\x00\\x00\\x00\\x00\\x00\\x00\\x00\\x00\\x00\\x00\\x00\\x00\\x00\\x00\\x00\\x00\\x00\\x00\\x00\\x00\\x00\\x00\\x00\\x00\\x00\\x00\\x00\\x00\\x00\\x00\\x00\\x00', 'status': 1}\n",
      "\n",
      "\n",
      "Calling setReserveConstants, with parameters {'_constants': [{'reserve': 'cx400639d22b6bce4def6e7d7be2bc36e7a39192ee', 'optimalUtilizationRate': '600000000000000000', 'baseBorrowRate': '000000000000000000', 'slopeRate1': '70000000000000000', 'slopeRate2': '3000000000000000000'}]} on the lendingPoolCore contract.\n",
      "Raised JSONRPCException while returning the custom response. Error message: {'code': -32602, 'message': 'Pending transaction'}\n",
      "{'code': -32602, 'message': 'Pending transaction'} (Json rpc error), Retrying in 1 seconds...\n",
      "{'txHash': '0xe2ea49c6fdd0d6554160a79983440cdf8a5f85797aa3453e8e2ed6c671ab5d5e', 'blockHeight': 1870940, 'blockHash': '0xeb450fbe09a6fe25dad02f3e68a0159179bfb66d55c3936a573aef8c81d63c00', 'txIndex': 1, 'to': 'cx515613f46e2b333f6bdfa5d7fd1bf93fa3043e14', 'stepUsed': 186400, 'stepPrice': 10000000000, 'cumulativeStepUsed': 186400, 'eventLogs': [], 'logsBloom': b'\\x00\\x00\\x00\\x00\\x00\\x00\\x00\\x00\\x00\\x00\\x00\\x00\\x00\\x00\\x00\\x00\\x00\\x00\\x00\\x00\\x00\\x00\\x00\\x00\\x00\\x00\\x00\\x00\\x00\\x00\\x00\\x00\\x00\\x00\\x00\\x00\\x00\\x00\\x00\\x00\\x00\\x00\\x00\\x00\\x00\\x00\\x00\\x00\\x00\\x00\\x00\\x00\\x00\\x00\\x00\\x00\\x00\\x00\\x00\\x00\\x00\\x00\\x00\\x00\\x00\\x00\\x00\\x00\\x00\\x00\\x00\\x00\\x00\\x00\\x00\\x00\\x00\\x00\\x00\\x00\\x00\\x00\\x00\\x00\\x00\\x00\\x00\\x00\\x00\\x00\\x00\\x00\\x00\\x00\\x00\\x00\\x00\\x00\\x00\\x00\\x00\\x00\\x00\\x00\\x00\\x00\\x00\\x00\\x00\\x00\\x00\\x00\\x00\\x00\\x00\\x00\\x00\\x00\\x00\\x00\\x00\\x00\\x00\\x00\\x00\\x00\\x00\\x00\\x00\\x00\\x00\\x00\\x00\\x00\\x00\\x00\\x00\\x00\\x00\\x00\\x00\\x00\\x00\\x00\\x00\\x00\\x00\\x00\\x00\\x00\\x00\\x00\\x00\\x00\\x00\\x00\\x00\\x00\\x00\\x00\\x00\\x00\\x00\\x00\\x00\\x00\\x00\\x00\\x00\\x00\\x00\\x00\\x00\\x00\\x00\\x00\\x00\\x00\\x00\\x00\\x00\\x00\\x00\\x00\\x00\\x00\\x00\\x00\\x00\\x00\\x00\\x00\\x00\\x00\\x00\\x00\\x00\\x00\\x00\\x00\\x00\\x00\\x00\\x00\\x00\\x00\\x00\\x00\\x00\\x00\\x00\\x00\\x00\\x00\\x00\\x00\\x00\\x00\\x00\\x00\\x00\\x00\\x00\\x00\\x00\\x00\\x00\\x00\\x00\\x00\\x00\\x00\\x00\\x00\\x00\\x00\\x00\\x00\\x00\\x00\\x00\\x00\\x00\\x00\\x00\\x00\\x00\\x00\\x00\\x00\\x00\\x00\\x00\\x00\\x00\\x00', 'status': 1}\n",
      "\n",
      "\n",
      "Calling setCoreAddress, with parameters {'_address': 'cx515613f46e2b333f6bdfa5d7fd1bf93fa3043e14'} on the oICX contract.\n",
      "Raised JSONRPCException while returning the custom response. Error message: {'code': -32602, 'message': 'Pending transaction'}\n",
      "{'code': -32602, 'message': 'Pending transaction'} (Json rpc error), Retrying in 1 seconds...\n",
      "{'txHash': '0x905fe480549fab5e99e9676840ecbbfd0132b346b0e3ac8469ec726d903f84e4', 'blockHeight': 1870942, 'blockHash': '0xa46d7deac246295b394c0f4a51aac798cd716df1aba8a2ff607c55504c7ae554', 'txIndex': 1, 'to': 'cxf872138faf25dfc5a1216a7a85cad24b8172d988', 'stepUsed': 150520, 'stepPrice': 10000000000, 'cumulativeStepUsed': 150520, 'eventLogs': [], 'logsBloom': b'\\x00\\x00\\x00\\x00\\x00\\x00\\x00\\x00\\x00\\x00\\x00\\x00\\x00\\x00\\x00\\x00\\x00\\x00\\x00\\x00\\x00\\x00\\x00\\x00\\x00\\x00\\x00\\x00\\x00\\x00\\x00\\x00\\x00\\x00\\x00\\x00\\x00\\x00\\x00\\x00\\x00\\x00\\x00\\x00\\x00\\x00\\x00\\x00\\x00\\x00\\x00\\x00\\x00\\x00\\x00\\x00\\x00\\x00\\x00\\x00\\x00\\x00\\x00\\x00\\x00\\x00\\x00\\x00\\x00\\x00\\x00\\x00\\x00\\x00\\x00\\x00\\x00\\x00\\x00\\x00\\x00\\x00\\x00\\x00\\x00\\x00\\x00\\x00\\x00\\x00\\x00\\x00\\x00\\x00\\x00\\x00\\x00\\x00\\x00\\x00\\x00\\x00\\x00\\x00\\x00\\x00\\x00\\x00\\x00\\x00\\x00\\x00\\x00\\x00\\x00\\x00\\x00\\x00\\x00\\x00\\x00\\x00\\x00\\x00\\x00\\x00\\x00\\x00\\x00\\x00\\x00\\x00\\x00\\x00\\x00\\x00\\x00\\x00\\x00\\x00\\x00\\x00\\x00\\x00\\x00\\x00\\x00\\x00\\x00\\x00\\x00\\x00\\x00\\x00\\x00\\x00\\x00\\x00\\x00\\x00\\x00\\x00\\x00\\x00\\x00\\x00\\x00\\x00\\x00\\x00\\x00\\x00\\x00\\x00\\x00\\x00\\x00\\x00\\x00\\x00\\x00\\x00\\x00\\x00\\x00\\x00\\x00\\x00\\x00\\x00\\x00\\x00\\x00\\x00\\x00\\x00\\x00\\x00\\x00\\x00\\x00\\x00\\x00\\x00\\x00\\x00\\x00\\x00\\x00\\x00\\x00\\x00\\x00\\x00\\x00\\x00\\x00\\x00\\x00\\x00\\x00\\x00\\x00\\x00\\x00\\x00\\x00\\x00\\x00\\x00\\x00\\x00\\x00\\x00\\x00\\x00\\x00\\x00\\x00\\x00\\x00\\x00\\x00\\x00\\x00\\x00\\x00\\x00\\x00\\x00\\x00\\x00\\x00\\x00\\x00\\x00', 'status': 1}\n",
      "\n",
      "\n",
      "Calling setReserveAddress, with parameters {'_address': 'cx400639d22b6bce4def6e7d7be2bc36e7a39192ee'} on the oICX contract.\n",
      "Raised JSONRPCException while returning the custom response. Error message: {'code': -32602, 'message': 'Pending transaction'}\n",
      "{'code': -32602, 'message': 'Pending transaction'} (Json rpc error), Retrying in 1 seconds...\n",
      "{'txHash': '0x11f5d7d04b5558f6ffcc32787211533575e8577f2d7ebaa6895253ec5376d2f1', 'blockHeight': 1870943, 'blockHash': '0x93136cff9cc81c7c6cb5a0cc296c065c57c8adf0a8b6d8cec1e5fd35b9dbacac', 'txIndex': 1, 'to': 'cxf872138faf25dfc5a1216a7a85cad24b8172d988', 'stepUsed': 151120, 'stepPrice': 10000000000, 'cumulativeStepUsed': 151120, 'eventLogs': [], 'logsBloom': b'\\x00\\x00\\x00\\x00\\x00\\x00\\x00\\x00\\x00\\x00\\x00\\x00\\x00\\x00\\x00\\x00\\x00\\x00\\x00\\x00\\x00\\x00\\x00\\x00\\x00\\x00\\x00\\x00\\x00\\x00\\x00\\x00\\x00\\x00\\x00\\x00\\x00\\x00\\x00\\x00\\x00\\x00\\x00\\x00\\x00\\x00\\x00\\x00\\x00\\x00\\x00\\x00\\x00\\x00\\x00\\x00\\x00\\x00\\x00\\x00\\x00\\x00\\x00\\x00\\x00\\x00\\x00\\x00\\x00\\x00\\x00\\x00\\x00\\x00\\x00\\x00\\x00\\x00\\x00\\x00\\x00\\x00\\x00\\x00\\x00\\x00\\x00\\x00\\x00\\x00\\x00\\x00\\x00\\x00\\x00\\x00\\x00\\x00\\x00\\x00\\x00\\x00\\x00\\x00\\x00\\x00\\x00\\x00\\x00\\x00\\x00\\x00\\x00\\x00\\x00\\x00\\x00\\x00\\x00\\x00\\x00\\x00\\x00\\x00\\x00\\x00\\x00\\x00\\x00\\x00\\x00\\x00\\x00\\x00\\x00\\x00\\x00\\x00\\x00\\x00\\x00\\x00\\x00\\x00\\x00\\x00\\x00\\x00\\x00\\x00\\x00\\x00\\x00\\x00\\x00\\x00\\x00\\x00\\x00\\x00\\x00\\x00\\x00\\x00\\x00\\x00\\x00\\x00\\x00\\x00\\x00\\x00\\x00\\x00\\x00\\x00\\x00\\x00\\x00\\x00\\x00\\x00\\x00\\x00\\x00\\x00\\x00\\x00\\x00\\x00\\x00\\x00\\x00\\x00\\x00\\x00\\x00\\x00\\x00\\x00\\x00\\x00\\x00\\x00\\x00\\x00\\x00\\x00\\x00\\x00\\x00\\x00\\x00\\x00\\x00\\x00\\x00\\x00\\x00\\x00\\x00\\x00\\x00\\x00\\x00\\x00\\x00\\x00\\x00\\x00\\x00\\x00\\x00\\x00\\x00\\x00\\x00\\x00\\x00\\x00\\x00\\x00\\x00\\x00\\x00\\x00\\x00\\x00\\x00\\x00\\x00\\x00\\x00\\x00\\x00\\x00', 'status': 1}\n",
      "\n",
      "\n",
      "Calling setDataProviderAddress, with parameters {'_address': 'cxfdff702158ae5bfce3f25a4c040b850d96e25af8'} on the oICX contract.\n",
      "{'txHash': '0xcd37ec59fae157aab44dbdf1302eab93ccbb7ff8e51e43730135afd800dd5a03', 'blockHeight': 1870944, 'blockHash': '0xc7267110dcf2f1e46fb1086430bd0932dcaee1fce33f629cf4ddc163ecadd431', 'txIndex': 1, 'to': 'cxf872138faf25dfc5a1216a7a85cad24b8172d988', 'stepUsed': 152120, 'stepPrice': 10000000000, 'cumulativeStepUsed': 152120, 'eventLogs': [], 'logsBloom': b'\\x00\\x00\\x00\\x00\\x00\\x00\\x00\\x00\\x00\\x00\\x00\\x00\\x00\\x00\\x00\\x00\\x00\\x00\\x00\\x00\\x00\\x00\\x00\\x00\\x00\\x00\\x00\\x00\\x00\\x00\\x00\\x00\\x00\\x00\\x00\\x00\\x00\\x00\\x00\\x00\\x00\\x00\\x00\\x00\\x00\\x00\\x00\\x00\\x00\\x00\\x00\\x00\\x00\\x00\\x00\\x00\\x00\\x00\\x00\\x00\\x00\\x00\\x00\\x00\\x00\\x00\\x00\\x00\\x00\\x00\\x00\\x00\\x00\\x00\\x00\\x00\\x00\\x00\\x00\\x00\\x00\\x00\\x00\\x00\\x00\\x00\\x00\\x00\\x00\\x00\\x00\\x00\\x00\\x00\\x00\\x00\\x00\\x00\\x00\\x00\\x00\\x00\\x00\\x00\\x00\\x00\\x00\\x00\\x00\\x00\\x00\\x00\\x00\\x00\\x00\\x00\\x00\\x00\\x00\\x00\\x00\\x00\\x00\\x00\\x00\\x00\\x00\\x00\\x00\\x00\\x00\\x00\\x00\\x00\\x00\\x00\\x00\\x00\\x00\\x00\\x00\\x00\\x00\\x00\\x00\\x00\\x00\\x00\\x00\\x00\\x00\\x00\\x00\\x00\\x00\\x00\\x00\\x00\\x00\\x00\\x00\\x00\\x00\\x00\\x00\\x00\\x00\\x00\\x00\\x00\\x00\\x00\\x00\\x00\\x00\\x00\\x00\\x00\\x00\\x00\\x00\\x00\\x00\\x00\\x00\\x00\\x00\\x00\\x00\\x00\\x00\\x00\\x00\\x00\\x00\\x00\\x00\\x00\\x00\\x00\\x00\\x00\\x00\\x00\\x00\\x00\\x00\\x00\\x00\\x00\\x00\\x00\\x00\\x00\\x00\\x00\\x00\\x00\\x00\\x00\\x00\\x00\\x00\\x00\\x00\\x00\\x00\\x00\\x00\\x00\\x00\\x00\\x00\\x00\\x00\\x00\\x00\\x00\\x00\\x00\\x00\\x00\\x00\\x00\\x00\\x00\\x00\\x00\\x00\\x00\\x00\\x00\\x00\\x00\\x00\\x00', 'status': 1}\n",
      "\n",
      "\n",
      "Calling setLendingPoolAddress, with parameters {'_address': 'cxf44d5c379d7b458fe4bba1ecb0f8fd4a54e9d65c'} on the oICX contract.\n",
      "Raised JSONRPCException while returning the custom response. Error message: {'code': -32602, 'message': 'Pending transaction'}\n",
      "{'code': -32602, 'message': 'Pending transaction'} (Json rpc error), Retrying in 1 seconds...\n",
      "{'txHash': '0x472560f31e805e10f5fd770b8dca91a536fd0b0584542562dee0b13b0946e671', 'blockHeight': 1870945, 'blockHash': '0x11f0e177b7adba968cb6cffdaf39ec318b69a1b93b620e8c05097b20470a92ab', 'txIndex': 1, 'to': 'cxf872138faf25dfc5a1216a7a85cad24b8172d988', 'stepUsed': 151920, 'stepPrice': 10000000000, 'cumulativeStepUsed': 151920, 'eventLogs': [], 'logsBloom': b'\\x00\\x00\\x00\\x00\\x00\\x00\\x00\\x00\\x00\\x00\\x00\\x00\\x00\\x00\\x00\\x00\\x00\\x00\\x00\\x00\\x00\\x00\\x00\\x00\\x00\\x00\\x00\\x00\\x00\\x00\\x00\\x00\\x00\\x00\\x00\\x00\\x00\\x00\\x00\\x00\\x00\\x00\\x00\\x00\\x00\\x00\\x00\\x00\\x00\\x00\\x00\\x00\\x00\\x00\\x00\\x00\\x00\\x00\\x00\\x00\\x00\\x00\\x00\\x00\\x00\\x00\\x00\\x00\\x00\\x00\\x00\\x00\\x00\\x00\\x00\\x00\\x00\\x00\\x00\\x00\\x00\\x00\\x00\\x00\\x00\\x00\\x00\\x00\\x00\\x00\\x00\\x00\\x00\\x00\\x00\\x00\\x00\\x00\\x00\\x00\\x00\\x00\\x00\\x00\\x00\\x00\\x00\\x00\\x00\\x00\\x00\\x00\\x00\\x00\\x00\\x00\\x00\\x00\\x00\\x00\\x00\\x00\\x00\\x00\\x00\\x00\\x00\\x00\\x00\\x00\\x00\\x00\\x00\\x00\\x00\\x00\\x00\\x00\\x00\\x00\\x00\\x00\\x00\\x00\\x00\\x00\\x00\\x00\\x00\\x00\\x00\\x00\\x00\\x00\\x00\\x00\\x00\\x00\\x00\\x00\\x00\\x00\\x00\\x00\\x00\\x00\\x00\\x00\\x00\\x00\\x00\\x00\\x00\\x00\\x00\\x00\\x00\\x00\\x00\\x00\\x00\\x00\\x00\\x00\\x00\\x00\\x00\\x00\\x00\\x00\\x00\\x00\\x00\\x00\\x00\\x00\\x00\\x00\\x00\\x00\\x00\\x00\\x00\\x00\\x00\\x00\\x00\\x00\\x00\\x00\\x00\\x00\\x00\\x00\\x00\\x00\\x00\\x00\\x00\\x00\\x00\\x00\\x00\\x00\\x00\\x00\\x00\\x00\\x00\\x00\\x00\\x00\\x00\\x00\\x00\\x00\\x00\\x00\\x00\\x00\\x00\\x00\\x00\\x00\\x00\\x00\\x00\\x00\\x00\\x00\\x00\\x00\\x00\\x00\\x00\\x00', 'status': 1}\n",
      "\n",
      "\n",
      "Calling setLiquidationManagerAddress, with parameters {'_address': 'cx847bb94d386b34af9ba86dfdcace651dbd5af822'} on the lendingPool contract.\n",
      "{'txHash': '0x0cf25ed8e4c8390026126c43b96624b2d32519a14a0cd2cda441e908e22408e9', 'blockHeight': 1870946, 'blockHash': '0x29869e6461ab60e6bdb90390ec7933fbcafcbceb50f31b63c25d05f56bd42bec', 'txIndex': 1, 'to': 'cxf44d5c379d7b458fe4bba1ecb0f8fd4a54e9d65c', 'stepUsed': 153320, 'stepPrice': 10000000000, 'cumulativeStepUsed': 153320, 'eventLogs': [], 'logsBloom': b'\\x00\\x00\\x00\\x00\\x00\\x00\\x00\\x00\\x00\\x00\\x00\\x00\\x00\\x00\\x00\\x00\\x00\\x00\\x00\\x00\\x00\\x00\\x00\\x00\\x00\\x00\\x00\\x00\\x00\\x00\\x00\\x00\\x00\\x00\\x00\\x00\\x00\\x00\\x00\\x00\\x00\\x00\\x00\\x00\\x00\\x00\\x00\\x00\\x00\\x00\\x00\\x00\\x00\\x00\\x00\\x00\\x00\\x00\\x00\\x00\\x00\\x00\\x00\\x00\\x00\\x00\\x00\\x00\\x00\\x00\\x00\\x00\\x00\\x00\\x00\\x00\\x00\\x00\\x00\\x00\\x00\\x00\\x00\\x00\\x00\\x00\\x00\\x00\\x00\\x00\\x00\\x00\\x00\\x00\\x00\\x00\\x00\\x00\\x00\\x00\\x00\\x00\\x00\\x00\\x00\\x00\\x00\\x00\\x00\\x00\\x00\\x00\\x00\\x00\\x00\\x00\\x00\\x00\\x00\\x00\\x00\\x00\\x00\\x00\\x00\\x00\\x00\\x00\\x00\\x00\\x00\\x00\\x00\\x00\\x00\\x00\\x00\\x00\\x00\\x00\\x00\\x00\\x00\\x00\\x00\\x00\\x00\\x00\\x00\\x00\\x00\\x00\\x00\\x00\\x00\\x00\\x00\\x00\\x00\\x00\\x00\\x00\\x00\\x00\\x00\\x00\\x00\\x00\\x00\\x00\\x00\\x00\\x00\\x00\\x00\\x00\\x00\\x00\\x00\\x00\\x00\\x00\\x00\\x00\\x00\\x00\\x00\\x00\\x00\\x00\\x00\\x00\\x00\\x00\\x00\\x00\\x00\\x00\\x00\\x00\\x00\\x00\\x00\\x00\\x00\\x00\\x00\\x00\\x00\\x00\\x00\\x00\\x00\\x00\\x00\\x00\\x00\\x00\\x00\\x00\\x00\\x00\\x00\\x00\\x00\\x00\\x00\\x00\\x00\\x00\\x00\\x00\\x00\\x00\\x00\\x00\\x00\\x00\\x00\\x00\\x00\\x00\\x00\\x00\\x00\\x00\\x00\\x00\\x00\\x00\\x00\\x00\\x00\\x00\\x00\\x00', 'status': 1}\n",
      "\n",
      "\n",
      "Calling setDataProviderAddress, with parameters {'_address': 'cxfdff702158ae5bfce3f25a4c040b850d96e25af8'} on the liquidationManager contract.\n",
      "Raised JSONRPCException while returning the custom response. Error message: {'code': -32602, 'message': 'Pending transaction'}\n",
      "{'code': -32602, 'message': 'Pending transaction'} (Json rpc error), Retrying in 1 seconds...\n",
      "{'txHash': '0x260303cb81d09284aa8f74b0a57188b5e3a4105ff92843dfc0f81854a5d7bfac', 'blockHeight': 1870947, 'blockHash': '0x813178dde3ed2cb1dfd99ae0a93207bfb0d108826604677f3f386428f6595082', 'txIndex': 1, 'to': 'cx847bb94d386b34af9ba86dfdcace651dbd5af822', 'stepUsed': 152120, 'stepPrice': 10000000000, 'cumulativeStepUsed': 152120, 'eventLogs': [], 'logsBloom': b'\\x00\\x00\\x00\\x00\\x00\\x00\\x00\\x00\\x00\\x00\\x00\\x00\\x00\\x00\\x00\\x00\\x00\\x00\\x00\\x00\\x00\\x00\\x00\\x00\\x00\\x00\\x00\\x00\\x00\\x00\\x00\\x00\\x00\\x00\\x00\\x00\\x00\\x00\\x00\\x00\\x00\\x00\\x00\\x00\\x00\\x00\\x00\\x00\\x00\\x00\\x00\\x00\\x00\\x00\\x00\\x00\\x00\\x00\\x00\\x00\\x00\\x00\\x00\\x00\\x00\\x00\\x00\\x00\\x00\\x00\\x00\\x00\\x00\\x00\\x00\\x00\\x00\\x00\\x00\\x00\\x00\\x00\\x00\\x00\\x00\\x00\\x00\\x00\\x00\\x00\\x00\\x00\\x00\\x00\\x00\\x00\\x00\\x00\\x00\\x00\\x00\\x00\\x00\\x00\\x00\\x00\\x00\\x00\\x00\\x00\\x00\\x00\\x00\\x00\\x00\\x00\\x00\\x00\\x00\\x00\\x00\\x00\\x00\\x00\\x00\\x00\\x00\\x00\\x00\\x00\\x00\\x00\\x00\\x00\\x00\\x00\\x00\\x00\\x00\\x00\\x00\\x00\\x00\\x00\\x00\\x00\\x00\\x00\\x00\\x00\\x00\\x00\\x00\\x00\\x00\\x00\\x00\\x00\\x00\\x00\\x00\\x00\\x00\\x00\\x00\\x00\\x00\\x00\\x00\\x00\\x00\\x00\\x00\\x00\\x00\\x00\\x00\\x00\\x00\\x00\\x00\\x00\\x00\\x00\\x00\\x00\\x00\\x00\\x00\\x00\\x00\\x00\\x00\\x00\\x00\\x00\\x00\\x00\\x00\\x00\\x00\\x00\\x00\\x00\\x00\\x00\\x00\\x00\\x00\\x00\\x00\\x00\\x00\\x00\\x00\\x00\\x00\\x00\\x00\\x00\\x00\\x00\\x00\\x00\\x00\\x00\\x00\\x00\\x00\\x00\\x00\\x00\\x00\\x00\\x00\\x00\\x00\\x00\\x00\\x00\\x00\\x00\\x00\\x00\\x00\\x00\\x00\\x00\\x00\\x00\\x00\\x00\\x00\\x00\\x00\\x00', 'status': 1}\n",
      "\n",
      "\n",
      "Calling setCoreAddress, with parameters {'_address': 'cx515613f46e2b333f6bdfa5d7fd1bf93fa3043e14'} on the liquidationManager contract.\n",
      "Raised JSONRPCException while returning the custom response. Error message: {'code': -32602, 'message': 'Pending transaction'}\n",
      "{'code': -32602, 'message': 'Pending transaction'} (Json rpc error), Retrying in 1 seconds...\n",
      "{'txHash': '0x34a92cff3956570228e6b59235c4357e6037da62229a6ccd5c6b56116daa5a75', 'blockHeight': 1870949, 'blockHash': '0x3126f45f8fd17d7b1e6b86d7b476146c271546511ca89f6bb39e2d119749d17b', 'txIndex': 1, 'to': 'cx847bb94d386b34af9ba86dfdcace651dbd5af822', 'stepUsed': 150520, 'stepPrice': 10000000000, 'cumulativeStepUsed': 150520, 'eventLogs': [], 'logsBloom': b'\\x00\\x00\\x00\\x00\\x00\\x00\\x00\\x00\\x00\\x00\\x00\\x00\\x00\\x00\\x00\\x00\\x00\\x00\\x00\\x00\\x00\\x00\\x00\\x00\\x00\\x00\\x00\\x00\\x00\\x00\\x00\\x00\\x00\\x00\\x00\\x00\\x00\\x00\\x00\\x00\\x00\\x00\\x00\\x00\\x00\\x00\\x00\\x00\\x00\\x00\\x00\\x00\\x00\\x00\\x00\\x00\\x00\\x00\\x00\\x00\\x00\\x00\\x00\\x00\\x00\\x00\\x00\\x00\\x00\\x00\\x00\\x00\\x00\\x00\\x00\\x00\\x00\\x00\\x00\\x00\\x00\\x00\\x00\\x00\\x00\\x00\\x00\\x00\\x00\\x00\\x00\\x00\\x00\\x00\\x00\\x00\\x00\\x00\\x00\\x00\\x00\\x00\\x00\\x00\\x00\\x00\\x00\\x00\\x00\\x00\\x00\\x00\\x00\\x00\\x00\\x00\\x00\\x00\\x00\\x00\\x00\\x00\\x00\\x00\\x00\\x00\\x00\\x00\\x00\\x00\\x00\\x00\\x00\\x00\\x00\\x00\\x00\\x00\\x00\\x00\\x00\\x00\\x00\\x00\\x00\\x00\\x00\\x00\\x00\\x00\\x00\\x00\\x00\\x00\\x00\\x00\\x00\\x00\\x00\\x00\\x00\\x00\\x00\\x00\\x00\\x00\\x00\\x00\\x00\\x00\\x00\\x00\\x00\\x00\\x00\\x00\\x00\\x00\\x00\\x00\\x00\\x00\\x00\\x00\\x00\\x00\\x00\\x00\\x00\\x00\\x00\\x00\\x00\\x00\\x00\\x00\\x00\\x00\\x00\\x00\\x00\\x00\\x00\\x00\\x00\\x00\\x00\\x00\\x00\\x00\\x00\\x00\\x00\\x00\\x00\\x00\\x00\\x00\\x00\\x00\\x00\\x00\\x00\\x00\\x00\\x00\\x00\\x00\\x00\\x00\\x00\\x00\\x00\\x00\\x00\\x00\\x00\\x00\\x00\\x00\\x00\\x00\\x00\\x00\\x00\\x00\\x00\\x00\\x00\\x00\\x00\\x00\\x00\\x00\\x00\\x00', 'status': 1}\n",
      "\n",
      "\n",
      "Calling setOracleAddress, with parameters {'_address': 'cx1fbce991b255545bcd31634ab6beda5605201f46'} on the liquidationManager contract.\n",
      "{'txHash': '0x1c1988a41348f6acca80e7f51cdf9150be08981f1f264a2e780c956b55130f7c', 'blockHeight': 1870950, 'blockHash': '0x808a5763111382b731e3ded2314479092cc246141dc8381021174c34e5cab542', 'txIndex': 1, 'to': 'cx847bb94d386b34af9ba86dfdcace651dbd5af822', 'stepUsed': 150920, 'stepPrice': 10000000000, 'cumulativeStepUsed': 150920, 'eventLogs': [], 'logsBloom': b'\\x00\\x00\\x00\\x00\\x00\\x00\\x00\\x00\\x00\\x00\\x00\\x00\\x00\\x00\\x00\\x00\\x00\\x00\\x00\\x00\\x00\\x00\\x00\\x00\\x00\\x00\\x00\\x00\\x00\\x00\\x00\\x00\\x00\\x00\\x00\\x00\\x00\\x00\\x00\\x00\\x00\\x00\\x00\\x00\\x00\\x00\\x00\\x00\\x00\\x00\\x00\\x00\\x00\\x00\\x00\\x00\\x00\\x00\\x00\\x00\\x00\\x00\\x00\\x00\\x00\\x00\\x00\\x00\\x00\\x00\\x00\\x00\\x00\\x00\\x00\\x00\\x00\\x00\\x00\\x00\\x00\\x00\\x00\\x00\\x00\\x00\\x00\\x00\\x00\\x00\\x00\\x00\\x00\\x00\\x00\\x00\\x00\\x00\\x00\\x00\\x00\\x00\\x00\\x00\\x00\\x00\\x00\\x00\\x00\\x00\\x00\\x00\\x00\\x00\\x00\\x00\\x00\\x00\\x00\\x00\\x00\\x00\\x00\\x00\\x00\\x00\\x00\\x00\\x00\\x00\\x00\\x00\\x00\\x00\\x00\\x00\\x00\\x00\\x00\\x00\\x00\\x00\\x00\\x00\\x00\\x00\\x00\\x00\\x00\\x00\\x00\\x00\\x00\\x00\\x00\\x00\\x00\\x00\\x00\\x00\\x00\\x00\\x00\\x00\\x00\\x00\\x00\\x00\\x00\\x00\\x00\\x00\\x00\\x00\\x00\\x00\\x00\\x00\\x00\\x00\\x00\\x00\\x00\\x00\\x00\\x00\\x00\\x00\\x00\\x00\\x00\\x00\\x00\\x00\\x00\\x00\\x00\\x00\\x00\\x00\\x00\\x00\\x00\\x00\\x00\\x00\\x00\\x00\\x00\\x00\\x00\\x00\\x00\\x00\\x00\\x00\\x00\\x00\\x00\\x00\\x00\\x00\\x00\\x00\\x00\\x00\\x00\\x00\\x00\\x00\\x00\\x00\\x00\\x00\\x00\\x00\\x00\\x00\\x00\\x00\\x00\\x00\\x00\\x00\\x00\\x00\\x00\\x00\\x00\\x00\\x00\\x00\\x00\\x00\\x00\\x00', 'status': 1}\n",
      "\n",
      "\n",
      "Calling setFeeProviderAddress, with parameters {'_address': 'cxb76322c7df895a14e47bc14b4aa21566b3edc069'} on the liquidationManager contract.\n",
      "Raised JSONRPCException while returning the custom response. Error message: {'code': -32602, 'message': 'Pending transaction'}\n",
      "{'code': -32602, 'message': 'Pending transaction'} (Json rpc error), Retrying in 1 seconds...\n",
      "{'txHash': '0xbfa50e8d55798ed06363729819b804946084d941baf6bc004cc4cb48057b2fd8', 'blockHeight': 1870951, 'blockHash': '0xc4b1f39e8984080363ac79b0dfad2a4317bd6646e81e015e5f8862eaece88666', 'txIndex': 1, 'to': 'cx847bb94d386b34af9ba86dfdcace651dbd5af822', 'stepUsed': 151920, 'stepPrice': 10000000000, 'cumulativeStepUsed': 151920, 'eventLogs': [], 'logsBloom': b'\\x00\\x00\\x00\\x00\\x00\\x00\\x00\\x00\\x00\\x00\\x00\\x00\\x00\\x00\\x00\\x00\\x00\\x00\\x00\\x00\\x00\\x00\\x00\\x00\\x00\\x00\\x00\\x00\\x00\\x00\\x00\\x00\\x00\\x00\\x00\\x00\\x00\\x00\\x00\\x00\\x00\\x00\\x00\\x00\\x00\\x00\\x00\\x00\\x00\\x00\\x00\\x00\\x00\\x00\\x00\\x00\\x00\\x00\\x00\\x00\\x00\\x00\\x00\\x00\\x00\\x00\\x00\\x00\\x00\\x00\\x00\\x00\\x00\\x00\\x00\\x00\\x00\\x00\\x00\\x00\\x00\\x00\\x00\\x00\\x00\\x00\\x00\\x00\\x00\\x00\\x00\\x00\\x00\\x00\\x00\\x00\\x00\\x00\\x00\\x00\\x00\\x00\\x00\\x00\\x00\\x00\\x00\\x00\\x00\\x00\\x00\\x00\\x00\\x00\\x00\\x00\\x00\\x00\\x00\\x00\\x00\\x00\\x00\\x00\\x00\\x00\\x00\\x00\\x00\\x00\\x00\\x00\\x00\\x00\\x00\\x00\\x00\\x00\\x00\\x00\\x00\\x00\\x00\\x00\\x00\\x00\\x00\\x00\\x00\\x00\\x00\\x00\\x00\\x00\\x00\\x00\\x00\\x00\\x00\\x00\\x00\\x00\\x00\\x00\\x00\\x00\\x00\\x00\\x00\\x00\\x00\\x00\\x00\\x00\\x00\\x00\\x00\\x00\\x00\\x00\\x00\\x00\\x00\\x00\\x00\\x00\\x00\\x00\\x00\\x00\\x00\\x00\\x00\\x00\\x00\\x00\\x00\\x00\\x00\\x00\\x00\\x00\\x00\\x00\\x00\\x00\\x00\\x00\\x00\\x00\\x00\\x00\\x00\\x00\\x00\\x00\\x00\\x00\\x00\\x00\\x00\\x00\\x00\\x00\\x00\\x00\\x00\\x00\\x00\\x00\\x00\\x00\\x00\\x00\\x00\\x00\\x00\\x00\\x00\\x00\\x00\\x00\\x00\\x00\\x00\\x00\\x00\\x00\\x00\\x00\\x00\\x00\\x00\\x00\\x00\\x00', 'status': 1}\n"
     ]
    }
   ],
   "source": [
    "for sett in settings:\n",
    "    print(f'\\n')\n",
    "    print(f'Calling {sett[\"method\"]}, with parameters {sett[\"params\"]} on the {sett[\"contract\"]} contract.')\n",
    "    transaction = CallTransactionBuilder()\\\n",
    "        .from_(deployer_wallet.get_address())\\\n",
    "        .to(contracts[sett['contract']])\\\n",
    "        .value(0)\\\n",
    "        .step_limit(10000000)\\\n",
    "        .nid(NID)\\\n",
    "        .nonce(100)\\\n",
    "        .method(sett['method'])\\\n",
    "        .params(sett['params'])\\\n",
    "        .build()\n",
    "    signed_transaction = SignedTransaction(transaction, deployer_wallet)\n",
    "    tx_hash = icon_service.send_transaction(signed_transaction)\n",
    "    tx_hash\n",
    "    print(get_tx_result(tx_hash))"
   ]
  },
  {
   "cell_type": "markdown",
   "metadata": {},
   "source": [
    "## Adding USDb reserve in LendingPoolCore\n",
    "\n"
   ]
  },
  {
   "cell_type": "code",
   "execution_count": 17,
   "metadata": {
    "tags": []
   },
   "outputs": [
    {
     "name": "stderr",
     "output_type": "stream",
     "text": [
      "Raised JSONRPCException while returning the custom response. Error message: {'code': -32602, 'message': 'Pending transaction'}\n",
      "{'code': -32602, 'message': 'Pending transaction'} (Json rpc error), Retrying in 1 seconds...\n"
     ]
    },
    {
     "data": {
      "text/plain": [
       "{'txHash': '0x60ce824a361933578553b94aa4267d2435c07e3681f164e72fbcdfc42b220a27',\n",
       " 'blockHeight': 1870957,\n",
       " 'blockHash': '0x5148eb18e52af3de67f5ceeccc02cb725b962a68b824df9db938aee4d77883bd',\n",
       " 'txIndex': 1,\n",
       " 'to': 'cx515613f46e2b333f6bdfa5d7fd1bf93fa3043e14',\n",
       " 'stepUsed': 277040,\n",
       " 'stepPrice': 10000000000,\n",
       " 'cumulativeStepUsed': 277040,\n",
       " 'eventLogs': [],\n",
       " 'logsBloom': b'\\x00\\x00\\x00\\x00\\x00\\x00\\x00\\x00\\x00\\x00\\x00\\x00\\x00\\x00\\x00\\x00\\x00\\x00\\x00\\x00\\x00\\x00\\x00\\x00\\x00\\x00\\x00\\x00\\x00\\x00\\x00\\x00\\x00\\x00\\x00\\x00\\x00\\x00\\x00\\x00\\x00\\x00\\x00\\x00\\x00\\x00\\x00\\x00\\x00\\x00\\x00\\x00\\x00\\x00\\x00\\x00\\x00\\x00\\x00\\x00\\x00\\x00\\x00\\x00\\x00\\x00\\x00\\x00\\x00\\x00\\x00\\x00\\x00\\x00\\x00\\x00\\x00\\x00\\x00\\x00\\x00\\x00\\x00\\x00\\x00\\x00\\x00\\x00\\x00\\x00\\x00\\x00\\x00\\x00\\x00\\x00\\x00\\x00\\x00\\x00\\x00\\x00\\x00\\x00\\x00\\x00\\x00\\x00\\x00\\x00\\x00\\x00\\x00\\x00\\x00\\x00\\x00\\x00\\x00\\x00\\x00\\x00\\x00\\x00\\x00\\x00\\x00\\x00\\x00\\x00\\x00\\x00\\x00\\x00\\x00\\x00\\x00\\x00\\x00\\x00\\x00\\x00\\x00\\x00\\x00\\x00\\x00\\x00\\x00\\x00\\x00\\x00\\x00\\x00\\x00\\x00\\x00\\x00\\x00\\x00\\x00\\x00\\x00\\x00\\x00\\x00\\x00\\x00\\x00\\x00\\x00\\x00\\x00\\x00\\x00\\x00\\x00\\x00\\x00\\x00\\x00\\x00\\x00\\x00\\x00\\x00\\x00\\x00\\x00\\x00\\x00\\x00\\x00\\x00\\x00\\x00\\x00\\x00\\x00\\x00\\x00\\x00\\x00\\x00\\x00\\x00\\x00\\x00\\x00\\x00\\x00\\x00\\x00\\x00\\x00\\x00\\x00\\x00\\x00\\x00\\x00\\x00\\x00\\x00\\x00\\x00\\x00\\x00\\x00\\x00\\x00\\x00\\x00\\x00\\x00\\x00\\x00\\x00\\x00\\x00\\x00\\x00\\x00\\x00\\x00\\x00\\x00\\x00\\x00\\x00\\x00\\x00\\x00\\x00\\x00\\x00',\n",
       " 'status': 1}"
      ]
     },
     "execution_count": 17,
     "metadata": {},
     "output_type": "execute_result"
    }
   ],
   "source": [
    "params ={\"_reserve\": {\"reserveAddress\":contracts['sample_token'],\"oTokenAddress\":contracts['oToken'],\"totalBorrows\":\"0\",\"lastUpdateTimestamp\": \"0\",\"liquidityRate\":\"0\",\"borrowRate\":\"0\",\"liquidityCumulativeIndex\":f\"1{'0'*18}\",\"borrowCumulativeIndex\":f\"1{'0'*18}\",\"baseLTVasCollateral\":\"330000000000000000\",\"liquidationThreshold\":\"650000000000000000\",\"liquidationBonus\":\"100000000000000000\",\"decimals\":\"18\",\"borrowingEnabled\": \"1\",\"usageAsCollateralEnabled\":\"1\",\"isFreezed\":\"0\",\"isActive\":\"1\"} }\n",
    "call_transaction = CallTransactionBuilder()\\\n",
    "    .from_(deployer_wallet.get_address())\\\n",
    "    .to(contracts['lendingPoolCore']) \\\n",
    "    .nid(NID) \\\n",
    "    .nonce(100) \\\n",
    "    .method(\"addReserveData\")\\\n",
    "    .params(params)\\\n",
    "    .build()\n",
    "\n",
    "estimate_step = icon_service.estimate_step(call_transaction)\n",
    "step_limit = estimate_step + 100000\n",
    "# Returns the signed transaction object having a signature\n",
    "signed_transaction = SignedTransaction(call_transaction, deployer_wallet,step_limit)\n",
    "\n",
    "# Reads params to transfer to nodes\n",
    "# print(signed_transaction.signed_transaction_dict)\n",
    "\n",
    "# Sends the transaction\n",
    "tx_hash = icon_service.send_transaction(signed_transaction)\n",
    "\n",
    "get_tx_result(tx_hash)"
   ]
  },
  {
   "cell_type": "markdown",
   "metadata": {},
   "source": [
    "## Adding ICX reserve"
   ]
  },
  {
   "cell_type": "code",
   "execution_count": 18,
   "metadata": {
    "tags": []
   },
   "outputs": [
    {
     "data": {
      "text/plain": [
       "{'txHash': '0x62d984b4d8378d1e0cf0c2067ab7ed32da82f111b4cb2755586879824c6434ef',\n",
       " 'blockHeight': 1870960,\n",
       " 'blockHash': '0xa2b37b48ba8f5b076c482ec35d6f822e1c053f20121632ee1a4ce947b73f65a1',\n",
       " 'txIndex': 1,\n",
       " 'to': 'cx515613f46e2b333f6bdfa5d7fd1bf93fa3043e14',\n",
       " 'stepUsed': 276800,\n",
       " 'stepPrice': 10000000000,\n",
       " 'cumulativeStepUsed': 276800,\n",
       " 'eventLogs': [],\n",
       " 'logsBloom': b'\\x00\\x00\\x00\\x00\\x00\\x00\\x00\\x00\\x00\\x00\\x00\\x00\\x00\\x00\\x00\\x00\\x00\\x00\\x00\\x00\\x00\\x00\\x00\\x00\\x00\\x00\\x00\\x00\\x00\\x00\\x00\\x00\\x00\\x00\\x00\\x00\\x00\\x00\\x00\\x00\\x00\\x00\\x00\\x00\\x00\\x00\\x00\\x00\\x00\\x00\\x00\\x00\\x00\\x00\\x00\\x00\\x00\\x00\\x00\\x00\\x00\\x00\\x00\\x00\\x00\\x00\\x00\\x00\\x00\\x00\\x00\\x00\\x00\\x00\\x00\\x00\\x00\\x00\\x00\\x00\\x00\\x00\\x00\\x00\\x00\\x00\\x00\\x00\\x00\\x00\\x00\\x00\\x00\\x00\\x00\\x00\\x00\\x00\\x00\\x00\\x00\\x00\\x00\\x00\\x00\\x00\\x00\\x00\\x00\\x00\\x00\\x00\\x00\\x00\\x00\\x00\\x00\\x00\\x00\\x00\\x00\\x00\\x00\\x00\\x00\\x00\\x00\\x00\\x00\\x00\\x00\\x00\\x00\\x00\\x00\\x00\\x00\\x00\\x00\\x00\\x00\\x00\\x00\\x00\\x00\\x00\\x00\\x00\\x00\\x00\\x00\\x00\\x00\\x00\\x00\\x00\\x00\\x00\\x00\\x00\\x00\\x00\\x00\\x00\\x00\\x00\\x00\\x00\\x00\\x00\\x00\\x00\\x00\\x00\\x00\\x00\\x00\\x00\\x00\\x00\\x00\\x00\\x00\\x00\\x00\\x00\\x00\\x00\\x00\\x00\\x00\\x00\\x00\\x00\\x00\\x00\\x00\\x00\\x00\\x00\\x00\\x00\\x00\\x00\\x00\\x00\\x00\\x00\\x00\\x00\\x00\\x00\\x00\\x00\\x00\\x00\\x00\\x00\\x00\\x00\\x00\\x00\\x00\\x00\\x00\\x00\\x00\\x00\\x00\\x00\\x00\\x00\\x00\\x00\\x00\\x00\\x00\\x00\\x00\\x00\\x00\\x00\\x00\\x00\\x00\\x00\\x00\\x00\\x00\\x00\\x00\\x00\\x00\\x00\\x00\\x00',\n",
       " 'status': 1}"
      ]
     },
     "execution_count": 18,
     "metadata": {},
     "output_type": "execute_result"
    }
   ],
   "source": [
    "params ={\"_reserve\": {\"reserveAddress\":contracts['sicx'],\"oTokenAddress\":contracts['oICX'],\"totalBorrows\":\"0\",\"lastUpdateTimestamp\": \"0\",\"liquidityRate\":\"0\",\"borrowRate\":\"0\",\"liquidityCumulativeIndex\":f\"1{'0'*18}\",\"borrowCumulativeIndex\":f\"1{'0'*18}\",\"baseLTVasCollateral\":\"330000000000000000\",\"liquidationThreshold\":\"650000000000000000\",\"liquidationBonus\":\"100000000000000000\",\"decimals\":\"18\",\"borrowingEnabled\": \"1\",\"usageAsCollateralEnabled\":\"1\",\"isFreezed\":\"0\",\"isActive\":\"1\"} }\n",
    "call_transaction = CallTransactionBuilder()\\\n",
    "    .from_(deployer_wallet.get_address())\\\n",
    "    .to(contracts['lendingPoolCore']) \\\n",
    "    .nid(NID) \\\n",
    "    .nonce(100) \\\n",
    "    .method(\"addReserveData\")\\\n",
    "    .params(params)\\\n",
    "    .build()\n",
    "\n",
    "estimate_step = icon_service.estimate_step(call_transaction)\n",
    "step_limit = estimate_step + 100000\n",
    "# Returns the signed transaction object having a signature\n",
    "signed_transaction = SignedTransaction(call_transaction, deployer_wallet,step_limit)\n",
    "\n",
    "# Reads params to transfer to nodes\n",
    "# print(signed_transaction.signed_transaction_dict)\n",
    "\n",
    "# Sends the transaction\n",
    "tx_hash = icon_service.send_transaction(signed_transaction)\n",
    "\n",
    "get_tx_result(tx_hash)"
   ]
  },
  {
   "cell_type": "markdown",
   "metadata": {},
   "source": [
    "# Transfering USDb to a wallet"
   ]
  },
  {
   "cell_type": "code",
   "execution_count": 25,
   "metadata": {
    "tags": []
   },
   "outputs": [
    {
     "output_type": "stream",
     "name": "stderr",
     "text": "Raised JSONRPCException while returning the custom response. Error message: {'code': -32602, 'message': 'Pending transaction'}\n{'code': -32602, 'message': 'Pending transaction'} (Json rpc error), Retrying in 1 seconds...\nRaised JSONRPCException while returning the custom response. Error message: {'code': -32602, 'message': 'Pending transaction'}\n{'code': -32602, 'message': 'Pending transaction'} (Json rpc error), Retrying in 2 seconds...\n"
    },
    {
     "output_type": "execute_result",
     "data": {
      "text/plain": "{'txHash': '0xc07b16c637e63952a12a3b781feb0850c60c1bbf9a749d471d9dc64d8d4725a9',\n 'blockHeight': 11297686,\n 'blockHash': '0xec3e2eb18730a98e4388d0efe781d08ba83163bc4a56c9fa83723f63a4d94685',\n 'txIndex': 1,\n 'to': 'cx19be1be7b4e7750863edf966faac3f42dec21025',\n 'stepUsed': 161460,\n 'stepPrice': 10000000000,\n 'cumulativeStepUsed': 161460,\n 'eventLogs': [{'scoreAddress': 'cx19be1be7b4e7750863edf966faac3f42dec21025',\n   'indexed': ['Transfer(Address,Address,int,bytes)',\n    'hx91bf040426f226b3bfcd2f0b5967bbb0320525ce',\n    'hxb6084c615cc424ef2fc5329c07e2e6d2fbc7f0f8',\n    '0x21e19e0c9bab2400000'],\n   'data': ['0x4e6f6e65']}],\n 'logsBloom': b'\\x00\\x00\\x00\\x00\\x00\\x00\\x00\\x00\\x00\\x00\\x00 \\x00\\x00\\x00\\x00\\x00\\x00\\x00\\x00\\x00\\x00\\x00\\x00\\x00\\x00\\x00\\x00\\x00\\x00\\x00\\x00\\x00\\x00\\x00\\x00\\x00\\x00\\x00\\x00\\x00\\x00\\x00\\x00\\x00\\x00\\x00\\x00\\x00\\x00\\x00\\x00\\x00\\x00\\x00\\x00\\x00\\x00\\x00\\x80\\x00\\x00\\x00\\x00\\x00\\x00\\x00\\x00\\x00\\x00\\x00\\x00\\x00\\x00\\x00\\x00\\x00\\x00\\x00\\x00\\x00\\x00\\x00\\x00@\\x02\\x00\\x00\\x00\\x00\\x00\\x00\\x00\\x00\\x00\\x00\\x00\\x00\\x00\\x00\\x00\\x00\\x00\\x00\\x00\\x00\\x00\\x00\\x00\\x00@\\x08\\x00\\x00\\x00\\x00\\x00\\x00\\x00\\x00\\x00\\x80\\x00\\x00\\x00\\x00\\x00\\x00\\x00\\x00\\x00\\x00\\x00\\x00\\x00\\x00\\x00\\x00\\x00\\x04\\x00\\x00\\x00\\x00\\x00\\x00\\x01\\x00\\x00\\x00\\x00\\x00\\x00\\x00\\x00\\x00\\x00\\x10\\x00\\x00\\x00\\x00\\x00\\x00\\x00\\x00\\x00\\x00\\x00\\x00\\x00\\x00\\x00\\x80\\x00\\x00\\x00\\x00\\x00\\x00\\x00\\x00\\x00\\x00\\x00\\x00\\x00\\x00\\x00\\x00\\x00\\x00\\x04\\x00\\x00\\x00\\x00\\x00\\x00\\x00\\x00\\x00\\x00\\x00\\x00\\x00\\x00\\x00\\x00\\x00\\x00\\x00\\x00\\x01\\x00\\x00\\x00\\x00\\x00\\x00\\x08\\x00\\x00\\x00\\x00\\x00\\x00\\x00\\x00\\x00\\x00\\x00\\x00\\x00\\x00\\x00\\x00\\x00\\x00\\x00\\x00\\x00\\x00\\x00 \\x00\\x00\\x00\\x00\\x00\\x00\\x00\\x00\\x00\\x00\\x00',\n 'status': 1}"
     },
     "metadata": {},
     "execution_count": 25
    }
   ],
   "source": [
    "params = {\"_to\": \"hxb6084c615cc424ef2fc5329c07e2e6d2fbc7f0f8\", \"_value\": 10000 * 10 ** 18}\n",
    "transaction = CallTransactionBuilder()\\\n",
    "    .from_(deployer_wallet.get_address())\\\n",
    "    .to(contracts['sample_token'])\\\n",
    "    .value(0)\\\n",
    "    .step_limit(10000000)\\\n",
    "    .nid(3)\\\n",
    "    .nonce(100)\\\n",
    "    .method(\"transfer\")\\\n",
    "    .params(params)\\\n",
    "    .build()\n",
    "signed_transaction = SignedTransaction(transaction, deployer_wallet)\n",
    "tx_hash = icon_service.send_transaction(signed_transaction)\n",
    "get_tx_result(tx_hash)"
   ]
  },
  {
   "cell_type": "code",
   "execution_count": 8,
   "metadata": {},
   "outputs": [
    {
     "name": "stdout",
     "output_type": "stream",
     "text": [
      "{'addressProvider': {'SCORE': 'cxed440f1da2cf3087ac5ef12217a13f6321de0375',\n",
      "                     'zip': '/home/shubham/Work/ICON/openmoneymarket-mono/score/addressProvider'},\n",
      " 'feeProvider': {'SCORE': 'cxede316aa65b7df13633599e67490daf1fd32b8a5',\n",
      "                 'zip': '/home/shubham/Work/ICON/openmoneymarket-mono/score/feeProvider'},\n",
      " 'lendingPool': {'SCORE': 'cx35b12ca4e9c672518db3c06d92ed60d50e7d5554',\n",
      "                 'zip': '/home/shubham/Work/ICON/openmoneymarket-mono/score/lendingPool'},\n",
      " 'lendingPoolCore': {'SCORE': 'cx327a386a9f8076045679fc132a8baa9e270ca43b',\n",
      "                     'zip': '/home/shubham/Work/ICON/openmoneymarket-mono/score/lendingPoolCore'},\n",
      " 'lendingPoolDataProvider': {'SCORE': 'cxa198eaf0a589adf0ab31b523d1f8912f47f6f293',\n",
      "                             'zip': '/home/shubham/Work/ICON/openmoneymarket-mono/score/lendingPoolDataProvider'},\n",
      " 'oICX': {'SCORE': 'cxf6e3d64db674c0edbf732462e80e2e3352280548',\n",
      "          'zip': '/home/shubham/Work/ICON/openmoneymarket-mono/score/oToken'},\n",
      " 'oToken': {'SCORE': 'cx4258464e395b3ef3b73a146947eb41393e8c5873',\n",
      "            'zip': '/home/shubham/Work/ICON/openmoneymarket-mono/score/oToken'},\n",
      " 'priceOracle': {'SCORE': 'cx3f6477bf290eb91257b806ece614ab18b1c7be41',\n",
      "                 'zip': '/home/shubham/Work/ICON/openmoneymarket-mono/score/priceOracle'},\n",
      " 'sample_token': {'SCORE': 'cx19be1be7b4e7750863edf966faac3f42dec21025',\n",
      "                  'zip': '/home/shubham/Work/ICON/openmoneymarket-mono/score/sample_token'},\n",
      " 'sicx': {'SCORE': 'cx3e9d38175d112cd5cf05a90080cce779f202ba27',\n",
      "          'zip': '/home/shubham/Work/ICON/openmoneymarket-mono/score/sicx'}}\n"
     ]
    }
   ],
   "source": [
    "pprint(contracts)"
   ]
  },
  {
   "cell_type": "markdown",
   "metadata": {},
   "source": [
    "# Depositing USDb from a wallet"
   ]
  },
  {
   "cell_type": "code",
   "execution_count": 109,
   "metadata": {
    "tags": []
   },
   "outputs": [
    {
     "data": {
      "text/plain": [
       "{'txHash': '0xd61dd328e5dfa251632609893233dd383a15c76e680cf0b5f4d8751867e6340a',\n",
       " 'blockHeight': 1353677,\n",
       " 'blockHash': '0xa0b52c7c33c17a11f4d114baab6c9a18c87e500fd8e375cdaa00395c2b8aba9c',\n",
       " 'txIndex': 1,\n",
       " 'to': 'cxf27f51fe6a092437fd54c5f74983391515dfec2d',\n",
       " 'stepUsed': 751720,\n",
       " 'stepPrice': 10000000000,\n",
       " 'cumulativeStepUsed': 751720,\n",
       " 'eventLogs': [{'scoreAddress': 'cx6146eab7f96fa77400d4c9e9884f0ddc65e01855',\n",
       "   'indexed': ['PrintData(str,int,int,int)',\n",
       "    'params check core line 408',\n",
       "    '0x3635c9adc5dea00000',\n",
       "    '0x0'],\n",
       "   'data': ['0x0']},\n",
       "  {'scoreAddress': 'cx6146eab7f96fa77400d4c9e9884f0ddc65e01855',\n",
       "   'indexed': ['PrintData(str,int,int,int)',\n",
       "    'rate value core line 412',\n",
       "    '0x0',\n",
       "    '0x2386f26fc10000'],\n",
       "   'data': ['0x0']},\n",
       "  {'scoreAddress': 'cx6146eab7f96fa77400d4c9e9884f0ddc65e01855',\n",
       "   'indexed': ['ReserveUpdated(Address,int,int,int,int)',\n",
       "    'cxf27f51fe6a092437fd54c5f74983391515dfec2d',\n",
       "    '0x0',\n",
       "    '0x2386f26fc10000'],\n",
       "   'data': ['0xde0b6b3a7640000', '0xde0b6b3a7640000']},\n",
       "  {'scoreAddress': 'cxc3011b3da8a3df88e9411efefe1207c6d3471e65',\n",
       "   'indexed': ['Mint(Address,int)',\n",
       "    'hx91bf040426f226b3bfcd2f0b5967bbb0320525ce'],\n",
       "   'data': ['0x0']},\n",
       "  {'scoreAddress': 'cxc3011b3da8a3df88e9411efefe1207c6d3471e65',\n",
       "   'indexed': ['Mint(Address,int)',\n",
       "    'hx91bf040426f226b3bfcd2f0b5967bbb0320525ce'],\n",
       "   'data': ['0x3635c9adc5dea00000']},\n",
       "  {'scoreAddress': 'cxc3011b3da8a3df88e9411efefe1207c6d3471e65',\n",
       "   'indexed': ['MintOnDeposit(Address,int,int,int)',\n",
       "    'hx91bf040426f226b3bfcd2f0b5967bbb0320525ce',\n",
       "    '0x3635c9adc5dea00000',\n",
       "    '0x0'],\n",
       "   'data': ['0xde0b6b3a7640000']},\n",
       "  {'scoreAddress': 'cxf27f51fe6a092437fd54c5f74983391515dfec2d',\n",
       "   'indexed': ['Transfer(Address,Address,int,bytes)',\n",
       "    'cx43184421f5f5743ae5435f59f12720e5b6c9a2c1',\n",
       "    'cx6146eab7f96fa77400d4c9e9884f0ddc65e01855',\n",
       "    '0x3635c9adc5dea00000'],\n",
       "   'data': ['0x4e6f6e65']},\n",
       "  {'scoreAddress': 'cx43184421f5f5743ae5435f59f12720e5b6c9a2c1',\n",
       "   'indexed': ['Deposit(Address,Address,int,int)',\n",
       "    'cxf27f51fe6a092437fd54c5f74983391515dfec2d',\n",
       "    'hx91bf040426f226b3bfcd2f0b5967bbb0320525ce',\n",
       "    '0x3635c9adc5dea00000'],\n",
       "   'data': ['0x5b553bcdb6c3f']},\n",
       "  {'scoreAddress': 'cxf27f51fe6a092437fd54c5f74983391515dfec2d',\n",
       "   'indexed': ['Transfer(Address,Address,int,bytes)',\n",
       "    'hx91bf040426f226b3bfcd2f0b5967bbb0320525ce',\n",
       "    'cx43184421f5f5743ae5435f59f12720e5b6c9a2c1',\n",
       "    '0x3635c9adc5dea00000'],\n",
       "   'data': ['0x7b226d6574686f64223a20226465706f736974222c2022706172616d73223a207b22616d6f756e74223a20313030303030303030303030303030303030303030307d7d']}],\n",
       " 'logsBloom': b'\\x00\\x00\\x00 \\x00\\x00\\x000\\x00\\x00\\x00  \\x00\\x00\\x00\\x00\\x00\\x00\\x00\\x00\\x00\\x00\\x00\\x00\\x00\\x00\\x00\\x00\\x00@\\x00\\x10\\x00\\x00\\x00\\x01@\\x13\\x01\\x00\\x00\\x00\\x00\\x00\\x00\\x00\\x00\\x80\\x00\\x01\\x80\\x00@\\x00\\x00\\x00\\x00\\x00\\x80\\x00\\x00\\x80\\x80\\x08\\x00\\x02\\x00\\x00\\x00 \\x04\\x01\\x00\\x00\\x10\\x00\\x01\\x00\\x00\\x00\\x02\\x00\\x00\\x00\\x00\\x00\\x10\\x00\\x00\\x00\\x00\\x00\\x00\\x00\\x00\\x80 \\x00 @\\x00\\x10\\x00\\x00\\x00\\x00\\x00\\x00\\x00@\\x00\\x00\\x00\\x00\\n\\x00\\x00\\x00\\x00\\x00\\x00\\x00\\x00\\x00\\x00\\x00\\x00\\x00\\x00\\x000\\x00\\x00\\x00\\x00\\x00\\x00\\x00 \\x00\\x04\\x00\\x00\\x00\\x00\\x01\\x02\\x00\\x00\\x00\\x00 \\x00\\x00\\x00\\x00\\x10\\x00\\x10\\x00\\x00\\x00\\x00B \\x02\\x00\\x00\\x00\\x00\\x00\\x00\\x00@\\x00\\x00\\x00\\x00\\x00\\x00\\x00\\x00\\x80\\x00\\x00\\x00\\x00\\x00\\x16\\x00\\x00\\x00\\x00\\x00\\x00\\x00\\x00\\x00\\x00\\x00\\x00\\x00\\x02\\x00\\x00\\x00@\\x00\\x00\\x08\\x00\\x00\\x03\\x00\\x08\\x00\\x00\\x00\\x00\\x00\\x00\\x00\\x00\\x80\\x00\\x00\\x00\\x00\\x00\\x01\\x00\\x00\\x00\\x00\\x02\\x00\\x00\\x01\\x00\\x00\\x00\\x00\\x00 \\x00\\x00\\x10\\x80\\x00\\x00\\x00\\x00\\x00\\x00\\x00',\n",
       " 'status': 1}"
      ]
     },
     "execution_count": 109,
     "metadata": {},
     "output_type": "execute_result"
    }
   ],
   "source": [
    "data = \"{\\\"method\\\": \\\"deposit\\\", \\\"params\\\": {\\\"amount\\\": 1000000000000000000000}}\".encode(\"utf-8\")\n",
    "params = {\"_to\": contracts['lendingPool'], \"_value\": 1000000000000000000000, \"_data\": data}\n",
    "transaction = CallTransactionBuilder()\\\n",
    "    .from_(deployer_wallet.get_address())\\\n",
    "    .to(contracts['sample_token'])\\\n",
    "    .value(0)\\\n",
    "    .step_limit(10000000)\\\n",
    "    .nid(3)\\\n",
    "    .nonce(100)\\\n",
    "    .method(\"transfer\")\\\n",
    "    .params(params)\\\n",
    "    .build()\n",
    "signed_transaction = SignedTransaction(transaction, deployer_wallet)\n",
    "tx_hash = icon_service.send_transaction(signed_transaction)\n",
    "get_tx_result(tx_hash)"
   ]
  },
  {
   "cell_type": "markdown",
   "metadata": {},
   "source": [
    "# Borrowing USDb"
   ]
  },
  {
   "cell_type": "code",
   "execution_count": 110,
   "metadata": {
    "tags": []
   },
   "outputs": [
    {
     "name": "stdout",
     "output_type": "stream",
     "text": [
      "{'version': '0x3', 'from': 'hx91bf040426f226b3bfcd2f0b5967bbb0320525ce', 'to': 'cx43184421f5f5743ae5435f59f12720e5b6c9a2c1', 'stepLimit': '0x146dc4', 'timestamp': '0x5b553bdb121c6', 'nid': '0x3', 'nonce': '0x64', 'dataType': 'call', 'data': {'method': 'borrow', 'params': {'_reserve': 'cxf27f51fe6a092437fd54c5f74983391515dfec2d', '_amount': '0x8ac7230489e80000'}}, 'signature': 'yxSWWut7ryf4/6NtDopmBxaHiCw+r5dhQzzezt7x14YKG0fSVISEjPYE6Timllqvv4lfWcJ4RD+A7/ww7J3/5gE='}\n",
      "Raised JSONRPCException while returning the custom response. Error message: {'code': -32602, 'message': 'Pending transaction'}\n",
      "{'code': -32602, 'message': 'Pending transaction'} (Json rpc error), Retrying in 1 seconds...\n"
     ]
    },
    {
     "data": {
      "text/plain": [
       "{'txHash': '0xd14ec29c4c2ecb85012d82d6882410d9399c4a41da0a560a472262781a009594',\n",
       " 'blockHeight': 1353685,\n",
       " 'blockHash': '0x0ccccb53393581722268081256f49cd12598f808c55a12c9189e73283682de1b',\n",
       " 'txIndex': 1,\n",
       " 'to': 'cx43184421f5f5743ae5435f59f12720e5b6c9a2c1',\n",
       " 'stepUsed': 1238820,\n",
       " 'stepPrice': 10000000000,\n",
       " 'cumulativeStepUsed': 1238820,\n",
       " 'eventLogs': [{'scoreAddress': 'cx43184421f5f5743ae5435f59f12720e5b6c9a2c1',\n",
       "   'indexed': ['PrintData(str,int,int,int)',\n",
       "    'available liquidity at pool line 245',\n",
       "    '0x3635c9adc5dea00000',\n",
       "    '0x0'],\n",
       "   'data': ['0x0']},\n",
       "  {'scoreAddress': 'cx43184421f5f5743ae5435f59f12720e5b6c9a2c1',\n",
       "   'indexed': ['PrintData(str,int,int,int)',\n",
       "    'data at pool line 256',\n",
       "    '0x3635c9adc5dea00000',\n",
       "    '0x0'],\n",
       "   'data': ['0x0']},\n",
       "  {'scoreAddress': 'cx43184421f5f5743ae5435f59f12720e5b6c9a2c1',\n",
       "   'indexed': ['PrintData(str,int,int,int)',\n",
       "    'amout of collateral needed USD pool line 268',\n",
       "    '0xe74be5079082aaab',\n",
       "    '0x0'],\n",
       "   'data': ['0x0']},\n",
       "  {'scoreAddress': 'cx6146eab7f96fa77400d4c9e9884f0ddc65e01855',\n",
       "   'indexed': ['PrintData(str,int,int,int)',\n",
       "    'params check at core line 456',\n",
       "    '0x8ac7230489e80000',\n",
       "    '0x58d15e17628000'],\n",
       "   'data': ['0x0']},\n",
       "  {'scoreAddress': 'cx6146eab7f96fa77400d4c9e9884f0ddc65e01855',\n",
       "   'indexed': ['PrintData(str,int,int,int)',\n",
       "    'user borrow balances',\n",
       "    '0x0',\n",
       "    '0x0'],\n",
       "   'data': ['0x0']},\n",
       "  {'scoreAddress': 'cx6146eab7f96fa77400d4c9e9884f0ddc65e01855',\n",
       "   'indexed': ['PrintData(str,int,int,int)',\n",
       "    'initial total borrows core line 497',\n",
       "    '0x0',\n",
       "    '0x0'],\n",
       "   'data': ['0x0']},\n",
       "  {'scoreAddress': 'cx6146eab7f96fa77400d4c9e9884f0ddc65e01855',\n",
       "   'indexed': ['PrintData(str,int,int,int)',\n",
       "    'new total borrows core line 499',\n",
       "    '0x8ac7230489e80000',\n",
       "    '0x0'],\n",
       "   'data': ['0x0']},\n",
       "  {'scoreAddress': 'cx6146eab7f96fa77400d4c9e9884f0ddc65e01855',\n",
       "   'indexed': ['PrintData(str,int,int,int)',\n",
       "    'params check core line 508',\n",
       "    '0x8ac7230489e80000',\n",
       "    '0x0'],\n",
       "   'data': ['0x58d15e17628000']},\n",
       "  {'scoreAddress': 'cx6146eab7f96fa77400d4c9e9884f0ddc65e01855',\n",
       "   'indexed': ['PrintData(str,int,int,int)',\n",
       "    'user data core line 514',\n",
       "    '0x0',\n",
       "    '0x0'],\n",
       "   'data': ['0xde0b6b3a7640000']},\n",
       "  {'scoreAddress': 'cx6146eab7f96fa77400d4c9e9884f0ddc65e01855',\n",
       "   'indexed': ['PrintData(str,int,int,int)',\n",
       "    'params check core line 408',\n",
       "    '0x0',\n",
       "    '0x8ac7230489e80000'],\n",
       "   'data': ['0x0']},\n",
       "  {'scoreAddress': 'cx6146eab7f96fa77400d4c9e9884f0ddc65e01855',\n",
       "   'indexed': ['PrintData(str,int,int,int)',\n",
       "    'rate value core line 412',\n",
       "    '0x574fbde60000',\n",
       "    '0x25e546dd9aaaab'],\n",
       "   'data': ['0x0']},\n",
       "  {'scoreAddress': 'cx6146eab7f96fa77400d4c9e9884f0ddc65e01855',\n",
       "   'indexed': ['ReserveUpdated(Address,int,int,int,int)',\n",
       "    'cxf27f51fe6a092437fd54c5f74983391515dfec2d',\n",
       "    '0x574fbde60000',\n",
       "    '0x25e546dd9aaaab'],\n",
       "   'data': ['0xde0b6b3a7640000', '0xde0b6b3a7640000']},\n",
       "  {'scoreAddress': 'cxf27f51fe6a092437fd54c5f74983391515dfec2d',\n",
       "   'indexed': ['Transfer(Address,Address,int,bytes)',\n",
       "    'cx6146eab7f96fa77400d4c9e9884f0ddc65e01855',\n",
       "    'hx91bf040426f226b3bfcd2f0b5967bbb0320525ce',\n",
       "    '0x8ac7230489e80000'],\n",
       "   'data': ['0x4e6f6e65']},\n",
       "  {'scoreAddress': 'cx43184421f5f5743ae5435f59f12720e5b6c9a2c1',\n",
       "   'indexed': ['Borrow(Address,Address,int,int,int,int,int)',\n",
       "    'cxf27f51fe6a092437fd54c5f74983391515dfec2d',\n",
       "    'hx91bf040426f226b3bfcd2f0b5967bbb0320525ce',\n",
       "    '0x8ac7230489e80000'],\n",
       "   'data': ['0x25e546dd9aaaab',\n",
       "    '0x58d15e17628000',\n",
       "    '0x0',\n",
       "    '0x5b553bdcfe290']}],\n",
       " 'logsBloom': b'\\x00\\x00\\x00\\x00\\x01\\x00\\x080\\x00\\x00\\x00  \\x00\\x00\\x00\\x00\\x00\\x00\\x00\\x00\\x00\\x00\\x00\\x00\\x04\\x90\\x00\\x00\\x10@\\x00\\x10\\x00\\x00\\x00\\x01\\x00\\x13\\x00\\x00\\x00\\x00\\x00@@\\x00\\x00\\x88\\x00\\x00\\xc0\\x00@\\x00\\x00\\x80\\x00\\x01\\x00\\x08\\x00\\x90\\x00\\n\\x00\\x03\\x00\\x00\\x00 \\x82\\x01\\x00\\x00\"\\x00\\x01\\x01\\x00\\x00\\x02\\x00\\x00\\x00\\x00\\x00\\x00\\x00\\x00\\x00\\x10\\x00\\x01\\x00\\x00\\x10 \\x00 \\x00\\x00\\x02\\x00\\x00\\x00\\x10\\x80\\x00\\x00\\x00\\x00\\x00\\x00\\x00\\x08\\x00\\x10\\x00\\x00\\x00\\x02\\x00\\x00\\x00\\x00\\x00\\x00\\x00\\x94\\x00\\x10\\x00\\x00\\x00\\x00\\x00\\x80\\x00 \\x00\\x04\\x00\\x00\\x00\\x00\\x00\\x00\\x01\\x00\\x00\\x04 \\x00\\x00\\x00\\x00\\x10\\x00\\x00\\x08\\x00\\x00\\x00\\x02 \\x02\\x00\\x00\\x00\\x00\\x00\\x00\\x00@`\\x00\\x00\\x04\\x00\\x00\\x00\\x00\\x80\\x02\\x00\\x00\\x00@\\x10\\x00\\x00\\x00\\x00\\x00\\x00\\x00\\x00\\x00\\x00\\x00\\x00\\x00\\x00@\\x00\\x00\\x00\\x00\\x00\\x00\\x00\\x08\\x03\\x04\\x00\\x02\\x00\\x00\\x00\\x00\\x00\\x00\\x00\\x80\\x02\\x80\\x00\\x01\\x00\\x01\\x00\\x00\\x00\\x00\\x00\\x00\\x00\\x00\\x00\\x00\\x00\\x10\\x00 \\x00\\x00\\x00\\x00\\x00\\x00\\x00\\x00\\x00\\x00\\x00',\n",
       " 'status': 1}"
      ]
     },
     "execution_count": 110,
     "metadata": {},
     "output_type": "execute_result"
    }
   ],
   "source": [
    "params ={\"_reserve\": contracts['sample_token'], \"_amount\":10*10**18 }\n",
    "call_transaction = CallTransactionBuilder()\\\n",
    "    .from_(deployer_wallet.get_address())\\\n",
    "    .to(contracts['lendingPool']) \\\n",
    "    .nid(NID) \\\n",
    "    .nonce(100) \\\n",
    "    .method(\"borrow\")\\\n",
    "    .params(params)\\\n",
    "    .build()\n",
    "\n",
    "estimate_step = icon_service.estimate_step(call_transaction)\n",
    "step_limit = estimate_step + 100000\n",
    "# Returns the signed transaction object having a signature\n",
    "signed_transaction = SignedTransaction(call_transaction, deployer_wallet,step_limit)\n",
    "\n",
    "# Reads params to transfer to nodes\n",
    "print(signed_transaction.signed_transaction_dict)\n",
    "\n",
    "# Sends the transaction\n",
    "tx_hash = icon_service.send_transaction(signed_transaction)\n",
    "get_tx_result(tx_hash)"
   ]
  },
  {
   "cell_type": "markdown",
   "metadata": {},
   "source": [
    "# Reedeming/Withdrawing USDb"
   ]
  },
  {
   "cell_type": "code",
   "execution_count": 111,
   "metadata": {},
   "outputs": [
    {
     "name": "stdout",
     "output_type": "stream",
     "text": [
      "{'version': '0x3', 'from': 'hx91bf040426f226b3bfcd2f0b5967bbb0320525ce', 'to': 'cxc3011b3da8a3df88e9411efefe1207c6d3471e65', 'stepLimit': '0x143ebc', 'timestamp': '0x5b553bf01f180', 'nid': '0x3', 'nonce': '0x64', 'dataType': 'call', 'data': {'method': 'redeem', 'params': {'_amount': '0x8ac7230489e80000'}}, 'signature': 'A6J8pKu1O6z4b6+yRLpfqwyJ4duW7yxDUyS/z0tw5TRaYflRZ4z98yS881ACeFNCL+V/TjvTpJGOWm35iNIKoQE='}\n",
      "Raised JSONRPCException while returning the custom response. Error message: {'code': -32602, 'message': 'Pending transaction'}\n",
      "{'code': -32602, 'message': 'Pending transaction'} (Json rpc error), Retrying in 1 seconds...\n"
     ]
    },
    {
     "data": {
      "text/plain": [
       "{'txHash': '0x5b0cc66a6ff064bf2ecc8d9d50b0512570308396c11a958925a403a1ec357a5f',\n",
       " 'blockHeight': 1353696,\n",
       " 'blockHash': '0x2a41466d89cd9b869a0500d849a6422bf8e41065b272106100973ce157886430',\n",
       " 'txIndex': 1,\n",
       " 'to': 'cxc3011b3da8a3df88e9411efefe1207c6d3471e65',\n",
       " 'stepUsed': 1226780,\n",
       " 'stepPrice': 10000000000,\n",
       " 'cumulativeStepUsed': 1226780,\n",
       " 'eventLogs': [{'scoreAddress': 'cxc3011b3da8a3df88e9411efefe1207c6d3471e65',\n",
       "   'indexed': ['Mint(Address,int)',\n",
       "    'hx91bf040426f226b3bfcd2f0b5967bbb0320525ce'],\n",
       "   'data': ['0xf97c99928']},\n",
       "  {'scoreAddress': 'cxc3011b3da8a3df88e9411efefe1207c6d3471e65',\n",
       "   'indexed': ['Burn(Address,int)',\n",
       "    'hx91bf040426f226b3bfcd2f0b5967bbb0320525ce'],\n",
       "   'data': ['0x8ac7230489e80000']},\n",
       "  {'scoreAddress': 'cx6146eab7f96fa77400d4c9e9884f0ddc65e01855',\n",
       "   'indexed': ['PrintData(str,int,int,int)',\n",
       "    'params check core line 408',\n",
       "    '0x0',\n",
       "    '0x8ac7230489e80000'],\n",
       "   'data': ['0x0']},\n",
       "  {'scoreAddress': 'cx6146eab7f96fa77400d4c9e9884f0ddc65e01855',\n",
       "   'indexed': ['PrintData(str,int,int,int)',\n",
       "    'rate value core line 412',\n",
       "    '0x583fc53bc5bd',\n",
       "    '0x25eb66bfaef761'],\n",
       "   'data': ['0x0']},\n",
       "  {'scoreAddress': 'cx6146eab7f96fa77400d4c9e9884f0ddc65e01855',\n",
       "   'indexed': ['ReserveUpdated(Address,int,int,int,int)',\n",
       "    'cxf27f51fe6a092437fd54c5f74983391515dfec2d',\n",
       "    '0x583fc53bc5bd',\n",
       "    '0x25eb66bfaef761'],\n",
       "   'data': ['0xde0b6b3ab61e5c9', '0xde0b6b562ec2d65']},\n",
       "  {'scoreAddress': 'cxf27f51fe6a092437fd54c5f74983391515dfec2d',\n",
       "   'indexed': ['Transfer(Address,Address,int,bytes)',\n",
       "    'cx6146eab7f96fa77400d4c9e9884f0ddc65e01855',\n",
       "    'hx91bf040426f226b3bfcd2f0b5967bbb0320525ce',\n",
       "    '0x8ac7230489e80000'],\n",
       "   'data': ['0x4e6f6e65']},\n",
       "  {'scoreAddress': 'cx43184421f5f5743ae5435f59f12720e5b6c9a2c1',\n",
       "   'indexed': ['RedeemUnderlying(Address,Address,int,int)',\n",
       "    'cxf27f51fe6a092437fd54c5f74983391515dfec2d',\n",
       "    'hx91bf040426f226b3bfcd2f0b5967bbb0320525ce',\n",
       "    '0x8ac7230489e80000'],\n",
       "   'data': ['0x5b553bf1ffc5c']},\n",
       "  {'scoreAddress': 'cxc3011b3da8a3df88e9411efefe1207c6d3471e65',\n",
       "   'indexed': ['Redeem(Address,int,int,int)',\n",
       "    'hx91bf040426f226b3bfcd2f0b5967bbb0320525ce',\n",
       "    '0x8ac7230489e80000',\n",
       "    '0xf97c99928'],\n",
       "   'data': ['0xde0b6b3ab61e5c9']}],\n",
       " 'logsBloom': b'\\x00\\x00\\x00 \\x00\\x00\\x000\\x00\\x10\\x00  \\x00\\x00\\x00@\\x00\\x00\\x00\\x00\\x00\\x00\\x00\\x00\\x00\\x00\\x08\\x00\\x00@\\x00\\x10\\x00\\x00\\x00\\x01\\x00\\x03\\x01\\x00\\x00\\x00\\x00\\x00\\x00\\x00\\x00\\x80\\x00 \\x80\\x00\\x00\\x00\\x00\\x80\\x00\\x00\\x80\\x00\\x00\\x80\\x00\\x08\\x00\\x02\\x00\\x00\\x00 \\x08\\x01\\x00\\x00\\x12\\x00\\x01\\x00\\x04\\x00\\x02\\x00\\x00\\x00\\x00\\x00\\x00\\x00\\x00\\x00\\x10\\x00\\x00\\x00\\x00\\x10 \\x00 \\x00\\x00\\x00\\x00\\x00\\x00\\x10\\x80\\x00\\x00@\\x00\\x00\\x00@\\x08\\x00\\x00\\x00\\x00\\x00\\x00\\x10\\x00\\x00\\x00\\x00\\x00\\x00\\x00\\x00\\x10\\x00\\x00\\x00\\x00\\x00\\x00\\x00 \\x00\\x04\\x00\\x01\\x10\\x00\\x01\\x02\\x10\\x00\\x00\\x00 \\x00\\x00\\x00\\x00\\x10\\x04\\x00\\x00\\x00\\x00\\x00\\x02\\x00\\x02\\x00\\x00\\x00\\x02\\x00\\x00\\x00@\\x00\\x00\\x00\\x00\\x00\\x00\\x00\\x00\\x80\\x00\\x00\\x00\\x00\\x00\\x02\\x04\\x00\\x00\\x00\\x00\\x00\\x00\\x00\\x04\\x00\\x00\\x00\\x00\\x00@\\x00\\x00\\x00\\x00\\x01\\x00\\x00\\x00\\x01\\x04\\x08\\x00\\x00\\x00\\x00\\x00\\x00\\x00\\x00\\x80\\x02\\x00\\x00\\x00\\x00\\x10\\x00\\x00\\x00\\x00\\x00\\x00\\x00\\x00\\x00\\x00\\x04\\x00\\x00 \\x00\\x00\\x00\\x00\\x00\\x00\\x00\\x00\\x00\\x00\\x00',\n",
       " 'status': 1}"
      ]
     },
     "execution_count": 111,
     "metadata": {},
     "output_type": "execute_result"
    }
   ],
   "source": [
    "params ={\"_amount\": 10*10**18 }\n",
    "call_transaction = CallTransactionBuilder()\\\n",
    "    .from_(deployer_wallet.get_address())\\\n",
    "    .to(contracts['oToken']) \\\n",
    "    .nid(NID) \\\n",
    "    .nonce(100) \\\n",
    "    .method(\"redeem\")\\\n",
    "    .params(params)\\\n",
    "    .build()\n",
    "\n",
    "estimate_step = icon_service.estimate_step(call_transaction)\n",
    "step_limit = estimate_step + 100000\n",
    "# Returns the signed transaction object having a signature\n",
    "signed_transaction = SignedTransaction(call_transaction, deployer_wallet,step_limit)\n",
    "\n",
    "# Reads params to transfer to nodes\n",
    "print(signed_transaction.signed_transaction_dict)\n",
    "\n",
    "# Sends the transaction\n",
    "tx_hash = icon_service.send_transaction(signed_transaction)\n",
    "get_tx_result(tx_hash)"
   ]
  },
  {
   "cell_type": "code",
   "execution_count": 112,
   "metadata": {
    "tags": []
   },
   "outputs": [
    {
     "name": "stdout",
     "output_type": "stream",
     "text": [
      "{'version': '0x3', 'from': 'hx91bf040426f226b3bfcd2f0b5967bbb0320525ce', 'to': 'cx6146eab7f96fa77400d4c9e9884f0ddc65e01855', 'stepLimit': '0x3ea80', 'timestamp': '0x5b553c06ebdc6', 'nid': '0x3', 'nonce': '0x64', 'dataType': 'call', 'data': {'method': 'updateBaseLTVasCollateral', 'params': {'_reserveAddress': 'cxf27f51fe6a092437fd54c5f74983391515dfec2d', '_baseLTVasCollateral': '0x494654067e10000'}}, 'signature': '79de8WIdF8kiL8fPiEdEOhCZE8E3ccr1MEVFQLQv1G8+mWWe7G22aAzjG93wIm6O9OG3xu1QOnEF0vcSfNApbAA='}\n",
      "Raised JSONRPCException while returning the custom response. Error message: {'code': -32602, 'message': 'Pending transaction'}\n",
      "{'code': -32602, 'message': 'Pending transaction'} (Json rpc error), Retrying in 1 seconds...\n"
     ]
    },
    {
     "data": {
      "text/plain": [
       "{'txHash': '0x9b656a472068de6e8f2b40f3003b4cfcae8fb206557ecef3a00da84c67d816c7',\n",
       " 'blockHeight': 1353708,\n",
       " 'blockHash': '0xd794c262f864c4f681a19ed983b8b36cb5f855cdaf0244ecc6ab7b1cace2fcef',\n",
       " 'txIndex': 1,\n",
       " 'to': 'cx6146eab7f96fa77400d4c9e9884f0ddc65e01855',\n",
       " 'stepUsed': 156640,\n",
       " 'stepPrice': 10000000000,\n",
       " 'cumulativeStepUsed': 156640,\n",
       " 'eventLogs': [],\n",
       " 'logsBloom': b'\\x00\\x00\\x00\\x00\\x00\\x00\\x00\\x00\\x00\\x00\\x00\\x00\\x00\\x00\\x00\\x00\\x00\\x00\\x00\\x00\\x00\\x00\\x00\\x00\\x00\\x00\\x00\\x00\\x00\\x00\\x00\\x00\\x00\\x00\\x00\\x00\\x00\\x00\\x00\\x00\\x00\\x00\\x00\\x00\\x00\\x00\\x00\\x00\\x00\\x00\\x00\\x00\\x00\\x00\\x00\\x00\\x00\\x00\\x00\\x00\\x00\\x00\\x00\\x00\\x00\\x00\\x00\\x00\\x00\\x00\\x00\\x00\\x00\\x00\\x00\\x00\\x00\\x00\\x00\\x00\\x00\\x00\\x00\\x00\\x00\\x00\\x00\\x00\\x00\\x00\\x00\\x00\\x00\\x00\\x00\\x00\\x00\\x00\\x00\\x00\\x00\\x00\\x00\\x00\\x00\\x00\\x00\\x00\\x00\\x00\\x00\\x00\\x00\\x00\\x00\\x00\\x00\\x00\\x00\\x00\\x00\\x00\\x00\\x00\\x00\\x00\\x00\\x00\\x00\\x00\\x00\\x00\\x00\\x00\\x00\\x00\\x00\\x00\\x00\\x00\\x00\\x00\\x00\\x00\\x00\\x00\\x00\\x00\\x00\\x00\\x00\\x00\\x00\\x00\\x00\\x00\\x00\\x00\\x00\\x00\\x00\\x00\\x00\\x00\\x00\\x00\\x00\\x00\\x00\\x00\\x00\\x00\\x00\\x00\\x00\\x00\\x00\\x00\\x00\\x00\\x00\\x00\\x00\\x00\\x00\\x00\\x00\\x00\\x00\\x00\\x00\\x00\\x00\\x00\\x00\\x00\\x00\\x00\\x00\\x00\\x00\\x00\\x00\\x00\\x00\\x00\\x00\\x00\\x00\\x00\\x00\\x00\\x00\\x00\\x00\\x00\\x00\\x00\\x00\\x00\\x00\\x00\\x00\\x00\\x00\\x00\\x00\\x00\\x00\\x00\\x00\\x00\\x00\\x00\\x00\\x00\\x00\\x00\\x00\\x00\\x00\\x00\\x00\\x00\\x00\\x00\\x00\\x00\\x00\\x00\\x00\\x00\\x00\\x00\\x00\\x00',\n",
       " 'status': 1}"
      ]
     },
     "execution_count": 112,
     "metadata": {},
     "output_type": "execute_result"
    }
   ],
   "source": [
    "params ={\"_reserveAddress\": contracts['sample_token'],\"_baseLTVasCollateral\" :33*10**16}\n",
    "call_transaction = CallTransactionBuilder()\\\n",
    "    .from_(deployer_wallet.get_address())\\\n",
    "    .to(contracts['lendingPoolCore']) \\\n",
    "    .nid(NID) \\\n",
    "    .nonce(100) \\\n",
    "    .method(\"updateBaseLTVasCollateral\")\\\n",
    "    .params(params)\\\n",
    "    .build()\n",
    "\n",
    "estimate_step = icon_service.estimate_step(call_transaction)\n",
    "step_limit = estimate_step + 100000\n",
    "# Returns the signed transaction object having a signature\n",
    "signed_transaction = SignedTransaction(call_transaction, deployer_wallet,step_limit)\n",
    "\n",
    "# Reads params to transfer to nodes\n",
    "print(signed_transaction.signed_transaction_dict)\n",
    "\n",
    "# Sends the transaction\n",
    "tx_hash = icon_service.send_transaction(signed_transaction)\n",
    "get_tx_result(tx_hash)"
   ]
  },
  {
   "cell_type": "markdown",
   "metadata": {},
   "source": [
    "# Repaying USDb"
   ]
  },
  {
   "cell_type": "code",
   "execution_count": 113,
   "metadata": {
    "tags": []
   },
   "outputs": [
    {
     "name": "stderr",
     "output_type": "stream",
     "text": [
      "Raised JSONRPCException while returning the custom response. Error message: {'code': -32602, 'message': 'Pending transaction'}\n",
      "{'code': -32602, 'message': 'Pending transaction'} (Json rpc error), Retrying in 1 seconds...\n"
     ]
    },
    {
     "data": {
      "text/plain": [
       "{'txHash': '0x277fae145ad2b5aba3b4658c75f9c795b9cd26d2a014e803f440349f706b0ed5',\n",
       " 'blockHeight': 1353714,\n",
       " 'blockHash': '0x807be102e3e53321d0192a4fea9efc26acedd859277c2fcfe785651ebea33f5b',\n",
       " 'txIndex': 1,\n",
       " 'to': 'cxf27f51fe6a092437fd54c5f74983391515dfec2d',\n",
       " 'stepUsed': 929860,\n",
       " 'stepPrice': 10000000000,\n",
       " 'cumulativeStepUsed': 929860,\n",
       " 'eventLogs': [{'scoreAddress': 'cx6146eab7f96fa77400d4c9e9884f0ddc65e01855',\n",
       "   'indexed': ['PrintData(str,int,int,int)',\n",
       "    'params check core line 408',\n",
       "    '0x8a6e51a672858000',\n",
       "    '0x0'],\n",
       "   'data': ['0x0']},\n",
       "  {'scoreAddress': 'cx6146eab7f96fa77400d4c9e9884f0ddc65e01855',\n",
       "   'indexed': ['PrintData(str,int,int,int)',\n",
       "    'rate value core line 412',\n",
       "    '0x34ece5a8f5',\n",
       "    '0x23887a690fba23'],\n",
       "   'data': ['0x0']},\n",
       "  {'scoreAddress': 'cx6146eab7f96fa77400d4c9e9884f0ddc65e01855',\n",
       "   'indexed': ['ReserveUpdated(Address,int,int,int,int)',\n",
       "    'cxf27f51fe6a092437fd54c5f74983391515dfec2d',\n",
       "    '0x34ece5a8f5',\n",
       "    '0x23887a690fba23'],\n",
       "   'data': ['0xde0b6b3b1fc0d06', '0xde0b6b839290a2e']},\n",
       "  {'scoreAddress': 'cxf27f51fe6a092437fd54c5f74983391515dfec2d',\n",
       "   'indexed': ['Transfer(Address,Address,int,bytes)',\n",
       "    'cx43184421f5f5743ae5435f59f12720e5b6c9a2c1',\n",
       "    'cx6146eab7f96fa77400d4c9e9884f0ddc65e01855',\n",
       "    '0x8a6e51a672858000'],\n",
       "   'data': ['0x4e6f6e65']},\n",
       "  {'scoreAddress': 'cx43184421f5f5743ae5435f59f12720e5b6c9a2c1',\n",
       "   'indexed': ['Repay(Address,Address,int,int,int,int)',\n",
       "    'cxf27f51fe6a092437fd54c5f74983391515dfec2d',\n",
       "    'hx91bf040426f226b3bfcd2f0b5967bbb0320525ce',\n",
       "    '0x8a6e51a672858000'],\n",
       "   'data': ['0x58d15e17628000', '0x2db1b265cc', '0x5b553c14604f5']},\n",
       "  {'scoreAddress': 'cxf27f51fe6a092437fd54c5f74983391515dfec2d',\n",
       "   'indexed': ['Transfer(Address,Address,int,bytes)',\n",
       "    'hx91bf040426f226b3bfcd2f0b5967bbb0320525ce',\n",
       "    'cx43184421f5f5743ae5435f59f12720e5b6c9a2c1',\n",
       "    '0x8ac7230489e80000'],\n",
       "   'data': ['0x7b226d6574686f64223a20227265706179222c2022706172616d73223a207b22616d6f756e74223a2031303030303030303030303030303030303030307d7d']}],\n",
       " 'logsBloom': b'\\x00\\x00\\x00\\x00\\x00\\x00\\x000\\x00\\x00\\x00  \\x00\\x00\\x00\\x00\\x00\\x00\\x00\\x00\\x00\\x00\\x00\\x00\\x00\\x00\\x00\\x00\\x00@\\x00\\x10\\x02\\x00\\x00\\x01@\\x13\\x00\\x00\\x00\\x00\\x00@\\x00\\x00\\x00\\x80\\x00\\x00\\x81\\x00\\x00\\x00\\x00\\x02\\x00\\x00\\x80\\x00\\x00\\x80\\x80\\x08\\x00\\x02\\x00\\x00\\x00 \\x00\\x01\\x00\\x00\\x00\\x00\\x00\\x04\\x00\\x00\\x02\\x00\\x00\\x00\\x00\\x00\\x00\\x00\\x00\\x00\\x10\\x00\\x00\\x00\\x00\\x00\\x00\\x00 @\\x00\\x10\\x00\\x00\\x00\\x10\\x80\\x02\\x00@\\x00\\x00\\x00\\x00\\x88\\x00\\x00\\x02\\x00\\x00\\x00\\x00\\x00\\x00\\x00\\x00\\x00\\x00\\x00\\x00\\x10\\x00\\x00\\x00\\x00\\x00\\x00\\x00 \\x10\\x84\\x00\\x00\\x00\\x00\\x01\\x00\\x00\\x00\\x00\\x00\\x00\\x00\\x00\\x00\\x00\\x10\\x00\\x00\\x00\\x00\\x00\\x00\\x02\\x00\\x02\\x00\\x00\\x00\\x00\\x00\\x00\\x00@\\x00\\x00\\x00\\x00\\x00\\x00\\x00\\x00\\x80\\x00\\x00\\x00\\x00\\x00\\x04\\x00\\x02\\x00\\x80\\x00\\x00\\x00\\x00\\x00\\x00\\x00\\x00\\x00\\x02\\x00\\x00\\x00@\\x00\\x00\\x00\\x00\\x00\\x03\\x00\\x00\\x00\\x00\\x00\\x00\\x00\\x00\\x00\\x00\\x80\\x00\\x00\\x00\\x08\\x00\\x01\\x00\\x00\\x00\\x00\\x00\\x00\\x00\\x01\\x00\\x00\\x00\\x00\\x00 \\x00\\x00\\x18\\x00\\x00\\x00\\x00\\x00\\x00\\x00\\x00',\n",
       " 'status': 1}"
      ]
     },
     "execution_count": 113,
     "metadata": {},
     "output_type": "execute_result"
    }
   ],
   "source": [
    "data = \"{\\\"method\\\": \\\"repay\\\", \\\"params\\\": {\\\"amount\\\": 10000000000000000000}}\".encode(\"utf-8\")\n",
    "params = {\"_to\": contracts['lendingPool'], \"_value\": 10000000000000000000, \"_data\": data}\n",
    "transaction = CallTransactionBuilder()\\\n",
    "    .from_(deployer_wallet.get_address())\\\n",
    "    .to(contracts['sample_token'])\\\n",
    "    .value(0)\\\n",
    "    .step_limit(10000000)\\\n",
    "    .nid(3)\\\n",
    "    .nonce(100)\\\n",
    "    .method(\"transfer\")\\\n",
    "    .params(params)\\\n",
    "    .build()\n",
    "signed_transaction = SignedTransaction(transaction, deployer_wallet)\n",
    "tx_hash = icon_service.send_transaction(signed_transaction)\n",
    "get_tx_result(tx_hash)"
   ]
  },
  {
   "cell_type": "code",
   "execution_count": 23,
   "metadata": {},
   "outputs": [
    {
     "name": "stdout",
     "output_type": "stream",
     "text": [
      "9450000385630198414715\n"
     ]
    }
   ],
   "source": [
    "print(icon_service.get_balance(\"hx91bf040426f226b3bfcd2f0b5967bbb0320525ce\"))"
   ]
  },
  {
   "cell_type": "markdown",
   "metadata": {},
   "source": [
    "# Depositing ICX from Wallet"
   ]
  },
  {
   "cell_type": "code",
   "execution_count": 10,
   "metadata": {
    "tags": []
   },
   "outputs": [
    {
     "output_type": "stream",
     "name": "stdout",
     "text": "{'addressProvider': 'cxdcbae76661c0edbf968d048c3bba3311bde57e37',\n 'feeProvider': 'cx52555a5dda72b98a3ed692b58761f68af9486073',\n 'lendingPool': 'cx348b53ff3bb5c6411f8c3e7082cde123bd86c67e',\n 'lendingPoolCore': 'cxc15058ed8a262ff3b3a2400786848a3c32c274a5',\n 'lendingPoolDataProvider': 'cx45bd68dd4f903160f4c7f2c43791fa741debb582',\n 'liquidationManager': 'cx001794d12ea9170f4bb7a620e0a03a157f35a429',\n 'oICX': 'cx7dcf7232084a085507bf2685f785589ebb0b52a1',\n 'oToken': 'cx77d34d57f7ea300637058ef65babc52da91376a4',\n 'priceOracle': 'cx0b57375df6a814ca3f589e91b15015f135fbd046',\n 'sample_token': 'cx9da823297393ecb193030b983ce334f25af20aac',\n 'sicx': 'cxb7eda227d9ed9c6fc2a74aa5dd7e9a3913f6c281',\n 'staking': 'cxadd9557a07d4aab925dd04b7a6da4ea1d67bef9c'}\n"
    }
   ],
   "source": [
    "pprint(contracts)"
   ]
  },
  {
   "cell_type": "code",
   "execution_count": 35,
   "metadata": {
    "tags": []
   },
   "outputs": [
    {
     "output_type": "stream",
     "name": "stderr",
     "text": "Raised JSONRPCException while returning the custom response. Error message: {'code': -32602, 'message': 'Pending transaction'}\n{'code': -32602, 'message': 'Pending transaction'} (Json rpc error), Retrying in 1 seconds...\nRaised JSONRPCException while returning the custom response. Error message: {'code': -32602, 'message': 'Pending transaction'}\n{'code': -32602, 'message': 'Pending transaction'} (Json rpc error), Retrying in 2 seconds...\n"
    },
    {
     "output_type": "execute_result",
     "data": {
      "text/plain": "{'txHash': '0x41a41b24672c9d75a0e4a0b929ff8e1237476eac6ea3f695a867687f72b7a74a',\n 'blockHeight': 11571320,\n 'blockHash': '0xb2fb5cb050d4c286955b1ee0a5996f973445d6530f5f2d27ee95316c8865339a',\n 'txIndex': 1,\n 'to': 'cx348b53ff3bb5c6411f8c3e7082cde123bd86c67e',\n 'stepUsed': 893020,\n 'stepPrice': 10000000000,\n 'cumulativeStepUsed': 893020,\n 'eventLogs': [{'scoreAddress': 'cx348b53ff3bb5c6411f8c3e7082cde123bd86c67e',\n   'indexed': ['ICXTransfer(Address,Address,int)',\n    'cx348b53ff3bb5c6411f8c3e7082cde123bd86c67e',\n    'cxadd9557a07d4aab925dd04b7a6da4ea1d67bef9c',\n    '0x2b5e3af16b1880000'],\n   'data': []},\n  {'scoreAddress': 'cxb7eda227d9ed9c6fc2a74aa5dd7e9a3913f6c281',\n   'indexed': ['Transfer(Address,Address,int,bytes)',\n    'cxb7eda227d9ed9c6fc2a74aa5dd7e9a3913f6c281',\n    'cxc15058ed8a262ff3b3a2400786848a3c32c274a5',\n    '0x2b57aaf7f533de0d2'],\n   'data': ['0x4e6f6e65']},\n  {'scoreAddress': 'cxb7eda227d9ed9c6fc2a74aa5dd7e9a3913f6c281',\n   'indexed': ['Mint(Address,int,bytes)',\n    'cxc15058ed8a262ff3b3a2400786848a3c32c274a5'],\n   'data': ['0x2b57aaf7f533de0d2', '0x4e6f6e65']},\n  {'scoreAddress': 'cxadd9557a07d4aab925dd04b7a6da4ea1d67bef9c',\n   'indexed': ['TokenTransfer(Address,int,str)',\n    'cxc15058ed8a262ff3b3a2400786848a3c32c274a5',\n    '0x2b57aaf7f533de0d2'],\n   'data': ['49.97044557683503 sICX minted to cxc15058ed8a262ff3b3a2400786848a3c32c274a5']},\n  {'scoreAddress': 'cxc15058ed8a262ff3b3a2400786848a3c32c274a5',\n   'indexed': ['PrintData(str,int,int,int)',\n    'params check core line 408',\n    '0x2b57aaf7f533de0d2',\n    '0x0'],\n   'data': ['0x0']},\n  {'scoreAddress': 'cxc15058ed8a262ff3b3a2400786848a3c32c274a5',\n   'indexed': ['PrintData(str,int,int,int)',\n    'rate value core line 412',\n    '0x0',\n    '0x0'],\n   'data': ['0x0']},\n  {'scoreAddress': 'cxc15058ed8a262ff3b3a2400786848a3c32c274a5',\n   'indexed': ['ReserveUpdated(Address,int,int,int,int)',\n    'cxb7eda227d9ed9c6fc2a74aa5dd7e9a3913f6c281',\n    '0x0',\n    '0x0'],\n   'data': ['0xde0b6b3a7640000', '0xde0b6b3a7640000']},\n  {'scoreAddress': 'cx7dcf7232084a085507bf2685f785589ebb0b52a1',\n   'indexed': ['Mint(Address,int)',\n    'hx91bf040426f226b3bfcd2f0b5967bbb0320525ce'],\n   'data': ['0x0']},\n  {'scoreAddress': 'cx7dcf7232084a085507bf2685f785589ebb0b52a1',\n   'indexed': ['Mint(Address,int)',\n    'hx91bf040426f226b3bfcd2f0b5967bbb0320525ce'],\n   'data': ['0x2b57aaf7f533de0d2']},\n  {'scoreAddress': 'cx7dcf7232084a085507bf2685f785589ebb0b52a1',\n   'indexed': ['MintOnDeposit(Address,int,int,int)',\n    'hx91bf040426f226b3bfcd2f0b5967bbb0320525ce',\n    '0x2b57aaf7f533de0d2',\n    '0x0'],\n   'data': ['0xde0b6b3a7640000']},\n  {'scoreAddress': 'cx348b53ff3bb5c6411f8c3e7082cde123bd86c67e',\n   'indexed': ['Deposit(Address,Address,int,int)',\n    'cxb7eda227d9ed9c6fc2a74aa5dd7e9a3913f6c281',\n    'hx91bf040426f226b3bfcd2f0b5967bbb0320525ce',\n    '0x2b57aaf7f533de0d2'],\n   'data': ['0x5b8b138aaccf7']}],\n 'logsBloom': b'\\x00\\x00\\x00\\x00\\x04@\\x000\\x00\\x00\\x00! \\x00\\x00\\x00\\x00\\x00\\x00\\x00\\x00\\x00\\x00\\x10\\x00\\x00\\x00\\x00\\x04\\x00\\x00\\x00\\x00\\x00\\x00\\x00\\x00\\x00\\x12\\x00\\x00\\x00\\x00\\x00\\x00\\x00\\x00\\x00\\x00\\x00\\x01\\x80\\x03\\x00\\x00\\x00\\x00@\\x08\\x80\\x00\\x00\\x00\\x00\\x00\\x00\\x02\\x00\\x00\\x80\\x00\\x00\\x01\\x00 \\x10\\x00\\x01\\x00\\x00\\x00\\x02\\x00\\x08\\x00\\x00\\x00\\x01\\x00\\x00\\x00\\x08\\x00\\x00\\x00\\x00\\x80  $\\x00\\x00\\x00\\x00\\x08\\x00\\x00\\x00\\x80\\x00@\\x00\\x02\\x00\\x00\\x02\\x00\\x00\\x00\\x00\\x00\\x08\\x00\\x00\\x00\\x00\\x00\\x00\\x00\\x00\\x000\\x00\\x00 \\x00\\x00\\x00\\x00\\x00\\x00\\x04\\x00\\x00@\\x00\\x11\\x02\\x00@\\x00\\x00\\xa0\\x00  \\x00\\x10\\x00\\x00\\x00\\x00\\x00\\x00\\x03\\x08\\x00\\x01\\x00\\x00\\x00\\x00\\x00\\x00\\x00\\x00\\x00`\\x00\\x00\\x00\\x00\\x00\\x80\\x00\\x00\\x00\\x00\\x00\\x00\\x00\\x08\\x00\\x00\\x18!\\x10\\x00\\x00\\x00\\x00\\x00\\x00\\x00\\x10\\x00\\x00\\x00\\x00\\x00\\x00\\x00@C\\x00\\x08\\x00\\x02\\x00\\x00\\x00\\x00\\x00\\x00\\x80\\x00\\x00\\x00\\x00\\x00!\\x00\\x00\\x80\\x00\\x02\\x00\\x00\\x00\\x00\\x00\\x00\\x00 0\\x00\\x00\\x00\\x80\\x00\\x00\\x00\\x00\\x00@\\x00',\n 'status': 1}"
     },
     "metadata": {},
     "execution_count": 35
    }
   ],
   "source": [
    "params = {\"_amount\": 50 * 10 ** 18}\n",
    "call_transaction = CallTransactionBuilder() \\\n",
    "    .from_(deployer_wallet.get_address()) \\\n",
    "    .to(contracts['lendingPool']) \\\n",
    "    .nid(3) \\\n",
    "    .step_limit(1000000000) \\\n",
    "    .nonce(100) \\\n",
    "    .value(50 * 10 ** 18) \\\n",
    "    .method(\"deposit\") \\\n",
    "    .params(params) \\\n",
    "    .build() \n",
    "\n",
    "signed_transaction = SignedTransaction(call_transaction, deployer_wallet)\n",
    "tx_hash = icon_service.send_transaction(signed_transaction)\n",
    "get_tx_result(tx_hash)\n"
   ]
  },
  {
   "cell_type": "markdown",
   "metadata": {},
   "source": [
    "# Withdrawing ICX "
   ]
  },
  {
   "cell_type": "code",
   "execution_count": 48,
   "metadata": {
    "tags": []
   },
   "outputs": [
    {
     "output_type": "stream",
     "name": "stdout",
     "text": "1000591438055510743\n9994089115367006256\n"
    }
   ],
   "source": [
    "_call = CallBuilder()\\\n",
    "    .from_(deployer_wallet.get_address())\\\n",
    "    .to(contracts['staking'])\\\n",
    "    .method(\"getTodayRate\")\\\n",
    "    .build()\n",
    "todayRate = int(icon_service.call(_call),0)\n",
    "pprint(todayRate)\n",
    "# ICX_amount = 10 * ICX\n",
    "# sicx_amount =exaDiv(ICX_amount,todayRate)\n",
    "# print(sicx_amount)"
   ]
  },
  {
   "cell_type": "code",
   "execution_count": 73,
   "metadata": {
    "tags": []
   },
   "outputs": [
    {
     "output_type": "stream",
     "name": "stderr",
     "text": "Raised JSONRPCException while returning the custom response. Error message: {'code': -32602, 'message': 'Pending transaction'}\n{'code': -32602, 'message': 'Pending transaction'} (Json rpc error), Retrying in 1 seconds...\nRaised JSONRPCException while returning the custom response. Error message: {'code': -32602, 'message': 'Pending transaction'}\n{'code': -32602, 'message': 'Pending transaction'} (Json rpc error), Retrying in 2 seconds...\n"
    },
    {
     "output_type": "execute_result",
     "data": {
      "text/plain": "{'txHash': '0xa954018acdf12a077db10a19c1ba9d1915538d4c8626d9da88c024e16dc0f247',\n 'blockHeight': 11573867,\n 'blockHash': '0xe688be7bbf0b89dbe349ff6c4fe424e7a74097cab73ec61fb03fb2e376745e8e',\n 'txIndex': 1,\n 'to': 'cx7dcf7232084a085507bf2685f785589ebb0b52a1',\n 'stepUsed': 1351100,\n 'stepPrice': 10000000000,\n 'cumulativeStepUsed': 1351100,\n 'eventLogs': [{'scoreAddress': 'cx7dcf7232084a085507bf2685f785589ebb0b52a1',\n   'indexed': ['Mint(Address,int)',\n    'hx91bf040426f226b3bfcd2f0b5967bbb0320525ce'],\n   'data': ['0x0']},\n  {'scoreAddress': 'cx7dcf7232084a085507bf2685f785589ebb0b52a1',\n   'indexed': ['Burn(Address,int)',\n    'hx91bf040426f226b3bfcd2f0b5967bbb0320525ce'],\n   'data': ['0x115644632ee18c060']},\n  {'scoreAddress': 'cxc15058ed8a262ff3b3a2400786848a3c32c274a5',\n   'indexed': ['PrintData(str,int,int,int)',\n    'params check core line 408',\n    '0x0',\n    '0x115644632ee18c060'],\n   'data': ['0x0']},\n  {'scoreAddress': 'cxc15058ed8a262ff3b3a2400786848a3c32c274a5',\n   'indexed': ['PrintData(str,int,int,int)',\n    'rate value core line 412',\n    '0x0',\n    '0x0'],\n   'data': ['0x0']},\n  {'scoreAddress': 'cxc15058ed8a262ff3b3a2400786848a3c32c274a5',\n   'indexed': ['ReserveUpdated(Address,int,int,int,int)',\n    'cxb7eda227d9ed9c6fc2a74aa5dd7e9a3913f6c281',\n    '0x0',\n    '0x0'],\n   'data': ['0xde0b6b3a7640000', '0xde0b6b3a7640000']},\n  {'scoreAddress': 'cxb7eda227d9ed9c6fc2a74aa5dd7e9a3913f6c281',\n   'indexed': ['Burn(Address,int)',\n    'cxadd9557a07d4aab925dd04b7a6da4ea1d67bef9c'],\n   'data': ['0x115644632ee18c060']},\n  {'scoreAddress': 'cxb7eda227d9ed9c6fc2a74aa5dd7e9a3913f6c281',\n   'indexed': ['Transfer(Address,Address,int,bytes)',\n    'cxc15058ed8a262ff3b3a2400786848a3c32c274a5',\n    'cxadd9557a07d4aab925dd04b7a6da4ea1d67bef9c',\n    '0x115644632ee18c060'],\n   'data': ['0x7b226d6574686f64223a2022756e7374616b65227d']},\n  {'scoreAddress': 'cx348b53ff3bb5c6411f8c3e7082cde123bd86c67e',\n   'indexed': ['RedeemUnderlying(Address,Address,int,int)',\n    'cxb7eda227d9ed9c6fc2a74aa5dd7e9a3913f6c281',\n    'hx91bf040426f226b3bfcd2f0b5967bbb0320525ce',\n    '0x115644632ee18c060'],\n   'data': ['0x5b8b26955bff9']},\n  {'scoreAddress': 'cx7dcf7232084a085507bf2685f785589ebb0b52a1',\n   'indexed': ['Redeem(Address,int,int,int)',\n    'hx91bf040426f226b3bfcd2f0b5967bbb0320525ce',\n    '0x115644632ee18c060',\n    '0x0'],\n   'data': ['0xde0b6b3a7640000']}],\n 'logsBloom': b'\\x00\\x00\\x00\\x00\\x00@\\x000\\x00\\x10\\x00  \\x00\\x00\\x00@\\x00\\x00\\x00\\x00\\x00\\x00\\x10\\x00\\x00\\x00\\x08\\x04\\x00\\x00\\x00\\x00\\x08\\x00\\x00\\x00\\x00\\x12\\x00\\x00\\x00\\x00\\x00\\x00\\x00\\x00\\x00\\x00\\x00\\x00\\x80\\x00\\x00\\x00\\x00\\x00@\\x00\\x80\\x00\\x00\\x00\\x00\\x00\\x00\\x02\\x00\\x00\\x00\\x00\\x00\\x01\\x00 \\x10\\x00\\x01\\x00\\x04\\x00\\x02\\x00\\x00\\x00\\x00\\x00\\x01\\x00\\x00\\x00\\x00\\x00\\x00\\x00\\x00\\x00  $\\x00\\x00\\x00\\x00\\x08\\x00\\x00\\x00\\x00\\x00@\\x00\\x00\\x00\\x00\\x00\\x00\\x00\\x00\\x00\\x00\\x00\\x00\\x00\\x00\\x00\\x00\\x00\\x00\\x00\\x00\\x10\\x00\\x00 \\x00\\x00\\x00\\x00\\x00\\x00\\x04\\x00\\x01\\x00\\x00\\x11\\x02\\x10@\\x00\\x00\\xa0\\x00 \\x00\\x00\\x10\\x00\\x00\\x00\\x00\\x00\\x00\\x02H\\x00\\x01\\x04\\x00\\x00\\x00\\x00\\x00\\x00\\x00\\x00 \\x01\\x00\\x00\\x00\\x00\\x80\\x00\\x80\\x00\\x00\\x00 \\x00\\x08\\x00\\x00\\x00 \\x00\\x00\\x00\\x00\\x01\\x00\\x00\\x00\\x10\\x00\\x00\\x00\\x00\\x01\\x00\\x00\\x00\\x03\\x00\\x08\\x00\\x00\\x00\\x00\\x00\\x00\\x00\\x00\\x80\\x00\\x10\\x00\\x00\\x00\\x11\\x00\\x00\\x00\\x00\\x00\\x00\\x00\\x00\\x00\\x00\\x04\\x00\\x00 \\x00\\x00\\x00\\x00\\x00\\x00\\x00\\x01\\x00@\\x00',\n 'status': 1}"
     },
     "metadata": {},
     "execution_count": 73
    }
   ],
   "source": [
    "ICX_amount = 20 * ICX\n",
    "sicx_amount =exaDiv(ICX_amount,todayRate)\n",
    "params = {\"_amount\": sicx_amount,\"_waitForUnstaking\":1}\n",
    "call_transaction = CallTransactionBuilder() \\\n",
    "    .from_(deployer_wallet.get_address())\\\n",
    "    .to(contracts['oICX'])\\\n",
    "    .nid(3) \\\n",
    "    .step_limit(10000000) \\\n",
    "    .nonce(100) \\\n",
    "    .method(\"redeem\") \\\n",
    "    .params(params) \\\n",
    "    .build()\n",
    "signed_transaction = SignedTransaction(call_transaction, deployer_wallet)\n",
    "tx_hash = icon_service.send_transaction(signed_transaction)\n",
    "get_tx_result(tx_hash)\n",
    "        "
   ]
  },
  {
   "cell_type": "code",
   "execution_count": 52,
   "metadata": {
    "tags": []
   },
   "outputs": [
    {
     "output_type": "stream",
     "name": "stdout",
     "text": "{'addressProvider': 'cxdcbae76661c0edbf968d048c3bba3311bde57e37',\n 'feeProvider': 'cx52555a5dda72b98a3ed692b58761f68af9486073',\n 'lendingPool': 'cx348b53ff3bb5c6411f8c3e7082cde123bd86c67e',\n 'lendingPoolCore': 'cxc15058ed8a262ff3b3a2400786848a3c32c274a5',\n 'lendingPoolDataProvider': 'cx45bd68dd4f903160f4c7f2c43791fa741debb582',\n 'liquidationManager': 'cx001794d12ea9170f4bb7a620e0a03a157f35a429',\n 'oICX': 'cx7dcf7232084a085507bf2685f785589ebb0b52a1',\n 'oToken': 'cx77d34d57f7ea300637058ef65babc52da91376a4',\n 'priceOracle': 'cx0b57375df6a814ca3f589e91b15015f135fbd046',\n 'sample_token': 'cx9da823297393ecb193030b983ce334f25af20aac',\n 'sicx': 'cxb7eda227d9ed9c6fc2a74aa5dd7e9a3913f6c281',\n 'staking': 'cxadd9557a07d4aab925dd04b7a6da4ea1d67bef9c'}\n"
    }
   ],
   "source": [
    "pprint(contracts)"
   ]
  },
  {
   "cell_type": "markdown",
   "metadata": {},
   "source": [
    "# Borrowing sicx"
   ]
  },
  {
   "cell_type": "code",
   "execution_count": 26,
   "metadata": {
    "tags": []
   },
   "outputs": [
    {
     "name": "stdout",
     "output_type": "stream",
     "text": [
      "{'version': '0x3', 'from': 'hx91bf040426f226b3bfcd2f0b5967bbb0320525ce', 'to': 'cx35b12ca4e9c672518db3c06d92ed60d50e7d5554', 'stepLimit': '0x18a290', 'timestamp': '0x5b56a6cdd75f1', 'nid': '0x3', 'nonce': '0x64', 'dataType': 'call', 'data': {'method': 'borrow', 'params': {'_reserve': 'cx3e9d38175d112cd5cf05a90080cce779f202ba27', '_amount': '0x56bc75e2d63100000'}}, 'signature': 'FpOevHks4R+7T08A8dEF5XIXJgZljUnkjYvuFmke3ytj0fJBOrAu+BrUzZrMTFaKN2P38jH5WgrgHR7N0jnHywE='}\n",
      "Raised JSONRPCException while returning the custom response. Error message: {'code': -32602, 'message': 'Invalid params txHash'}\n",
      "{'code': -32602, 'message': 'Invalid params txHash'} (Json rpc error), Retrying in 1 seconds...\n",
      "Raised JSONRPCException while returning the custom response. Error message: {'code': -32602, 'message': 'Pending transaction'}\n",
      "{'code': -32602, 'message': 'Pending transaction'} (Json rpc error), Retrying in 2 seconds...\n"
     ]
    },
    {
     "data": {
      "text/plain": [
       "{'txHash': '0x1f0f72eab1db758de1b644b7e1054de762de98699c7e2f5c4f840d01cc6fb92a',\n",
       " 'blockHeight': 9908027,\n",
       " 'blockHash': '0xd3b91a1a3a7cf36f636c3a0b57a6f6e7ac032add02a83002308a1415f7524cbd',\n",
       " 'txIndex': 1,\n",
       " 'to': 'cx35b12ca4e9c672518db3c06d92ed60d50e7d5554',\n",
       " 'stepUsed': 1514480,\n",
       " 'stepPrice': 10000000000,\n",
       " 'cumulativeStepUsed': 1514480,\n",
       " 'eventLogs': [{'scoreAddress': 'cx35b12ca4e9c672518db3c06d92ed60d50e7d5554',\n",
       "   'indexed': ['PrintData(str,int,int,int)',\n",
       "    'available liquidity at pool line 245',\n",
       "    '0xba4414334ab230000',\n",
       "    '0x0'],\n",
       "   'data': ['0x0']},\n",
       "  {'scoreAddress': 'cx35b12ca4e9c672518db3c06d92ed60d50e7d5554',\n",
       "   'indexed': ['PrintData(str,int,int,int)',\n",
       "    'data at pool line 256',\n",
       "    '0x14c09b0f07ec6d8a819',\n",
       "    '0x1174b6c563054415d'],\n",
       "   'data': ['0x0']},\n",
       "  {'scoreAddress': 'cx35b12ca4e9c672518db3c06d92ed60d50e7d5554',\n",
       "   'indexed': ['PrintData(str,int,int,int)',\n",
       "    'amout of collateral needed USD pool line 268',\n",
       "    '0xb850adebe4f559f48',\n",
       "    '0x0'],\n",
       "   'data': ['0x0']},\n",
       "  {'scoreAddress': 'cx327a386a9f8076045679fc132a8baa9e270ca43b',\n",
       "   'indexed': ['PrintData(str,int,int,int)',\n",
       "    'params check at core line 456',\n",
       "    '0x56bc75e2d63100000',\n",
       "    '0x3782dace9d90000'],\n",
       "   'data': ['0x0']},\n",
       "  {'scoreAddress': 'cx327a386a9f8076045679fc132a8baa9e270ca43b',\n",
       "   'indexed': ['PrintData(str,int,int,int)',\n",
       "    'user borrow balances',\n",
       "    '0x22e95962bd7eaf0e7',\n",
       "    '0x1428088bd91d2'],\n",
       "   'data': ['0x0']},\n",
       "  {'scoreAddress': 'cx327a386a9f8076045679fc132a8baa9e270ca43b',\n",
       "   'indexed': ['PrintData(str,int,int,int)',\n",
       "    'initial total borrows core line 497',\n",
       "    '0x23c764cdf7f4ef0e7',\n",
       "    '0x0'],\n",
       "   'data': ['0x0']},\n",
       "  {'scoreAddress': 'cx327a386a9f8076045679fc132a8baa9e270ca43b',\n",
       "   'indexed': ['PrintData(str,int,int,int)',\n",
       "    'new total borrows core line 499',\n",
       "    '0x7a83eed8d6b1c82b9',\n",
       "    '0x0'],\n",
       "   'data': ['0x0']},\n",
       "  {'scoreAddress': 'cx327a386a9f8076045679fc132a8baa9e270ca43b',\n",
       "   'indexed': ['PrintData(str,int,int,int)',\n",
       "    'params check core line 508',\n",
       "    '0x56bc75e2d63100000',\n",
       "    '0x1428088bd91d2'],\n",
       "   'data': ['0x3782dace9d90000']},\n",
       "  {'scoreAddress': 'cx327a386a9f8076045679fc132a8baa9e270ca43b',\n",
       "   'indexed': ['PrintData(str,int,int,int)',\n",
       "    'user data core line 514',\n",
       "    '0x22e95962bd7eaf0e7',\n",
       "    '0x0'],\n",
       "   'data': ['0xde0c0f54a9ce390']},\n",
       "  {'scoreAddress': 'cx327a386a9f8076045679fc132a8baa9e270ca43b',\n",
       "   'indexed': ['PrintData(str,int,int,int)',\n",
       "    'params check core line 408',\n",
       "    '0x0',\n",
       "    '0x56bc75e2d63100000'],\n",
       "   'data': ['0x0']},\n",
       "  {'scoreAddress': 'cx327a386a9f8076045679fc132a8baa9e270ca43b',\n",
       "   'indexed': ['PrintData(str,int,int,int)',\n",
       "    'rate value core line 412',\n",
       "    '0x7190e20b4079e4',\n",
       "    '0xe4b1df2a4c2a0d'],\n",
       "   'data': ['0x0']},\n",
       "  {'scoreAddress': 'cx327a386a9f8076045679fc132a8baa9e270ca43b',\n",
       "   'indexed': ['ReserveUpdated(Address,int,int,int,int)',\n",
       "    'cx3e9d38175d112cd5cf05a90080cce779f202ba27',\n",
       "    '0x7190e20b4079e4',\n",
       "    '0xe4b1df2a4c2a0d'],\n",
       "   'data': ['0xde0b8a722c35090', '0xde0c0f54a9ce390']},\n",
       "  {'scoreAddress': 'cx3e9d38175d112cd5cf05a90080cce779f202ba27',\n",
       "   'indexed': ['Transfer(Address,Address,int,bytes)',\n",
       "    'cx327a386a9f8076045679fc132a8baa9e270ca43b',\n",
       "    'hx91bf040426f226b3bfcd2f0b5967bbb0320525ce',\n",
       "    '0x56bc75e2d63100000'],\n",
       "   'data': ['0x4e6f6e65']},\n",
       "  {'scoreAddress': 'cx35b12ca4e9c672518db3c06d92ed60d50e7d5554',\n",
       "   'indexed': ['Borrow(Address,Address,int,int,int,int,int)',\n",
       "    'cx3e9d38175d112cd5cf05a90080cce779f202ba27',\n",
       "    'hx91bf040426f226b3bfcd2f0b5967bbb0320525ce',\n",
       "    '0x56bc75e2d63100000'],\n",
       "   'data': ['0xe4b1df2a4c2a0d',\n",
       "    '0x3782dace9d90000',\n",
       "    '0x1428088bd91d2',\n",
       "    '0x5b56a6ce8e866']}],\n",
       " 'logsBloom': b'\\x00\\x00\\x08\\x00\\x05\\x00\\x180\\x00\\x00\\x00  \\x00\\x00\\x02\\x00\\x00\\x00 \\x00\\x00\\x00\\x00\\x00\\x04\\x80\\x00\\x04\\x10\\x00\\x00\\x80\\x00\\x00\\x00\\x00\\x00\\x12\\x00\\x00\\x00\\x00\\x01\\x00\\x04\\x00\\x00\\x08\\x00\\x00\\xc4\\x00\\x00\\x00\\x00\\x00\\x00\\x01\\x00\\x00\\x00\\x10\\x00\\x02\\x00\\x03\\x00\\x00\\x00\\x00\\x02A\\x00@a\\x00\\x01\\x01\\x00\\x00\\x02\\x00\\x00@\\x00\\x00\\x04\\x80\\x00 \\x00\\x00\\x01\\x04\\x00\\x00 \\x00 \\x00\\x00\\x02\\x00\\x00\\x00\\x00\\x92\\x00\\x00\\x00\\x00\\x00\\x10\\x00\\x00\\x00\\x10\\x00\\x00\\x00\\x02\\x80\\x00\\x00\\x00\\x00 \\x00\\x92\\x00\\x10\\x00\\x00\\x00\\x08\\x00\\x84\\x00\\x00\\x00\\x04\\x08\\x00\\x00\\x01\\x00\\x00\\x01\\x00\\x01\\x04 \\x00\\x00\\x00\\x00\\x10\\x00\\x80\\x80\\x00\\x00\\x00\\x02\\x00\\x00\\x00\\x00\\x00\\x00\\x00\\x00\\x04@ \\x00\\x00@\\x00\\x00\\x00\\x00\\x80\\x00\\x00\\x00\\x00\\x00@\\x00\\x00\\x00\\x00\\x00\\x00\\x00\\x00\\x00\\x00\\x00\\x08\\x00\\x00\\x00\\x00\\x00 \\x80\\x00\\x00\\x00\\x08\\x03@\\x80\\x02\\x02\\xc0\\x08\\x00\\x00\\x00\\x00\\x80\\x00\\x00\\x00\\x05\\x02\\x01\\x00\\x08\\x00\\x00\\x00\\x08\\x00\\x00\\x00\\x10\\x80\\x11\\x00 \\x00\\x02\\x00\\x00\\x00\\x01\\x00\\x00\\x00\\x00\\x00',\n",
       " 'status': 1}"
      ]
     },
     "execution_count": 26,
     "metadata": {},
     "output_type": "execute_result"
    }
   ],
   "source": [
    "#borrow sicx\n",
    "params ={\"_reserve\": contracts['sicx'], \"_amount\":100*10**18 }\n",
    "call_transaction = CallTransactionBuilder()\\\n",
    "    .from_(deployer_wallet.get_address())\\\n",
    "    .to(contracts['lendingPool']) \\\n",
    "    .nid(NID) \\\n",
    "    .nonce(100) \\\n",
    "    .method(\"borrow\")\\\n",
    "    .params(params)\\\n",
    "    .build()\n",
    "\n",
    "estimate_step = icon_service.estimate_step(call_transaction)\n",
    "step_limit = estimate_step + 100000\n",
    "# Returns the signed transaction object having a signature\n",
    "signed_transaction = SignedTransaction(call_transaction, deployer_wallet,step_limit)\n",
    "\n",
    "# Reads params to transfer to nodes\n",
    "print(signed_transaction.signed_transaction_dict)\n",
    "\n",
    "# Sends the transaction\n",
    "tx_hash = icon_service.send_transaction(signed_transaction)\n",
    "get_tx_result(tx_hash)"
   ]
  },
  {
   "cell_type": "markdown",
   "metadata": {},
   "source": [
    "# Repay sicx"
   ]
  },
  {
   "cell_type": "code",
   "execution_count": 29,
   "metadata": {
    "tags": []
   },
   "outputs": [
    {
     "name": "stderr",
     "output_type": "stream",
     "text": [
      "Raised JSONRPCException while returning the custom response. Error message: {'code': -32602, 'message': 'Pending transaction'}\n",
      "{'code': -32602, 'message': 'Pending transaction'} (Json rpc error), Retrying in 1 seconds...\n",
      "Raised JSONRPCException while returning the custom response. Error message: {'code': -32602, 'message': 'Pending transaction'}\n",
      "{'code': -32602, 'message': 'Pending transaction'} (Json rpc error), Retrying in 2 seconds...\n"
     ]
    },
    {
     "data": {
      "text/plain": [
       "{'txHash': '0x4b95d8683af8ba72d8ab4ba223c31b1c9c2f5e5b9ad262a4fa6f1a2ad45138f7',\n",
       " 'blockHeight': 9908080,\n",
       " 'blockHash': '0x51f885287ac717250a1775e9dc72600273acde6d78f3b4689fff9b3a40594a29',\n",
       " 'txIndex': 1,\n",
       " 'to': 'cx3e9d38175d112cd5cf05a90080cce779f202ba27',\n",
       " 'stepUsed': 867000,\n",
       " 'stepPrice': 10000000000,\n",
       " 'cumulativeStepUsed': 867000,\n",
       " 'eventLogs': [{'scoreAddress': 'cx327a386a9f8076045679fc132a8baa9e270ca43b',\n",
       "   'indexed': ['PrintData(str,int,int,int)',\n",
       "    'params check core line 408',\n",
       "    '0x5684f308079370000',\n",
       "    '0x0'],\n",
       "   'data': ['0x0']},\n",
       "  {'scoreAddress': 'cx327a386a9f8076045679fc132a8baa9e270ca43b',\n",
       "   'indexed': ['PrintData(str,int,int,int)',\n",
       "    'rate value core line 412',\n",
       "    '0x9cdabb163294f',\n",
       "    '0x433145f3bf1722'],\n",
       "   'data': ['0x0']},\n",
       "  {'scoreAddress': 'cx327a386a9f8076045679fc132a8baa9e270ca43b',\n",
       "   'indexed': ['ReserveUpdated(Address,int,int,int,int)',\n",
       "    'cx3e9d38175d112cd5cf05a90080cce779f202ba27',\n",
       "    '0x9cdabb163294f',\n",
       "    '0x433145f3bf1722'],\n",
       "   'data': ['0xde0b8c027031a6b', '0xde0c127ab5dddd2']},\n",
       "  {'scoreAddress': 'cx3e9d38175d112cd5cf05a90080cce779f202ba27',\n",
       "   'indexed': ['Transfer(Address,Address,int,bytes)',\n",
       "    'cx35b12ca4e9c672518db3c06d92ed60d50e7d5554',\n",
       "    'cx327a386a9f8076045679fc132a8baa9e270ca43b',\n",
       "    '0x5684f308079370000'],\n",
       "   'data': ['0x4e6f6e65']},\n",
       "  {'scoreAddress': 'cx35b12ca4e9c672518db3c06d92ed60d50e7d5554',\n",
       "   'indexed': ['Repay(Address,Address,int,int,int,int)',\n",
       "    'cx3e9d38175d112cd5cf05a90080cce779f202ba27',\n",
       "    'hx91bf040426f226b3bfcd2f0b5967bbb0320525ce',\n",
       "    '0x5684f308079370000'],\n",
       "   'data': ['0x3782dace9d90000', '0x1b9975064193', '0x5b56a733f65d8']},\n",
       "  {'scoreAddress': 'cx3e9d38175d112cd5cf05a90080cce779f202ba27',\n",
       "   'indexed': ['Transfer(Address,Address,int,bytes)',\n",
       "    'hx91bf040426f226b3bfcd2f0b5967bbb0320525ce',\n",
       "    'cx35b12ca4e9c672518db3c06d92ed60d50e7d5554',\n",
       "    '0x56bc75e2d63100000'],\n",
       "   'data': ['0x7b226d6574686f64223a20227265706179222c2022706172616d73223a207b22616d6f756e74223a203130303030303030303030303030303030303030307d7d']}],\n",
       " 'logsBloom': b'\\x00\\x00\\x00\\x00\\x00\\x00\\x000\\x00\\x00\\x00  \\x00\\x00B\\x00\\x00\\x00\\x00\\x00\\x00\\x00\\x10\\x00\\x00\\x00\\x00\\x00\\x00\\x00\\x00\\x00\\x02\\x00\\x00\\x02\\x00\\x12\\x00\\x00\\x00\\x00\\x00\\x00\\x00\\x00\\x00\\x00\\x00\\x00\\x80\\x01\\x00\\x00\\x00\\x00\\x00\\x00\\x80\\x00\\x00\\x00\\x00\\x00\\x00\\x02\\x00\\x00\\x00\\x00\\x00A\\x00\\x00\\x00\\x01\\x00\\x00\\x80\\x80\\x02\\x00\\x00\\x00\\x00\\x08\\x00\\x80\\x00\\x00\\x00\\x00\\x00\\x04\\x00\\x00\\xc0\\x00 \\x00\\x00\\x00\\x00\\x00\\x00\\x00\\x10\\x00\\x00@\\x00\\x00\\x10\\x00\\x00\\x00\\x00\\x02\\x00\\x00\\x00\\x00\\x00\\x10\\x00\\x00\\x00\\x00\\x02\\x00\\x10\\x00\\x00\\x00\\x00\\x00\\x00\\x00\\x00\\x00\\x04\\x08\\x00\\x00\\x00\\x01\\x00\\x00\\x00\\x00\\x00\\x00\\x00\\x00\\x00\\x00\\x10\\x00\\x80\\x00\\x00\\x00\\x00\\x02\\x00 \\x00\\x00\\x00\\x00\\x00\\x00\\x00\\x00\\x00\\x02\\x00\\x00@\\x00\\x00\\x02\\x80\\x00\\x00\\x00\\x00\\x00\\x00\\x00\\x00\\x00\\x00\\x00\\x00\\x00\\x00\\x00\\x00\\x00\\x00\\x00\\x00\\x00\\x08\\x00 \\x00\\x00\\x00\\x01\\x00\\x03@\\x00\\x00\\x02\\xc0\\x00\\x00\\x00\\x00\\x00\\x88\\x00\\x00\\x00\\x08\\x01\\x01\\x02\\x00\\x00\\x00\\x00\\x00\\x00\\x00\\x00\\x00\\x00\\x00\\x00 \\x00\\x00\\x00\\x00\\x00\\x01\\x00\\x00\\x00\\x00\\x00',\n",
       " 'status': 1}"
      ]
     },
     "execution_count": 29,
     "metadata": {},
     "output_type": "execute_result"
    }
   ],
   "source": [
    "\n",
    "data = \"{\\\"method\\\": \\\"repay\\\", \\\"params\\\": {\\\"amount\\\": 100000000000000000000}}\".encode(\"utf-8\")\n",
    "params = {\"_to\": contracts['lendingPool'], \"_value\": 100000000000000000000, \"_data\": data}\n",
    "transaction = CallTransactionBuilder()\\\n",
    "    .from_(deployer_wallet.get_address())\\\n",
    "    .to(contracts['sicx'])\\\n",
    "    .value(0)\\\n",
    "    .step_limit(10000000)\\\n",
    "    .nid(3)\\\n",
    "    .nonce(100)\\\n",
    "    .method(\"transfer\")\\\n",
    "    .params(params)\\\n",
    "    .build()\n",
    "signed_transaction = SignedTransaction(transaction, deployer_wallet)\n",
    "tx_hash = icon_service.send_transaction(signed_transaction)\n",
    "get_tx_result(tx_hash)"
   ]
  },
  {
   "cell_type": "markdown",
   "metadata": {},
   "source": [
    "# Readonly methods to get data"
   ]
  },
  {
   "cell_type": "markdown",
   "metadata": {},
   "source": [
    "### Getting all the addresses"
   ]
  },
  {
   "cell_type": "code",
   "execution_count": 14,
   "metadata": {
    "tags": []
   },
   "outputs": [
    {
     "output_type": "stream",
     "name": "stdout",
     "text": "{'collateral': {'USDb': 'cx9da823297393ecb193030b983ce334f25af20aac',\n                'sICX': 'cxb7eda227d9ed9c6fc2a74aa5dd7e9a3913f6c281'},\n 'oTokens': {'oICX': 'cx7dcf7232084a085507bf2685f785589ebb0b52a1',\n             'oUSDb': 'cx77d34d57f7ea300637058ef65babc52da91376a4'},\n 'systemContract': {'LendingPool': 'cx348b53ff3bb5c6411f8c3e7082cde123bd86c67e',\n                    'LendingPoolDataProvider': 'cx45bd68dd4f903160f4c7f2c43791fa741debb582'}}\n"
    }
   ],
   "source": [
    "_call = CallBuilder()\\\n",
    "    .from_(deployer_wallet.get_address())\\\n",
    "    .to(contracts['addressProvider'])\\\n",
    "    .method(\"getAllAddresses\")\\\n",
    "    .build()\n",
    "response = icon_service.call(_call)\n",
    "pprint(response)"
   ]
  },
  {
   "cell_type": "markdown",
   "metadata": {},
   "source": [
    "### Getting specific reserve data"
   ]
  },
  {
   "cell_type": "code",
   "execution_count": 53,
   "metadata": {
    "tags": []
   },
   "outputs": [
    {
     "output_type": "stream",
     "name": "stdout",
     "text": "{'availableLiquidity': 201.01049207728127,\n 'baseLTVasCollateral': 0.5,\n 'borrowCumulativeIndex': 1.0,\n 'borrowRate': '0x0',\n 'borrowingEnabled': '0x1',\n 'decimals': 1.8e-17,\n 'exchangePrice': 0.5,\n 'isActive': '0x1',\n 'isFreezed': '0x0',\n 'lastUpdateTimestamp': 1610447043554731,\n 'liquidationBonus': 0.1,\n 'liquidationThreshold': 0.65,\n 'liquidityCumulativeIndex': 1.0,\n 'liquidityRate': '0x0',\n 'oTokenAddress': 'cx7dcf7232084a085507bf2685f785589ebb0b52a1',\n 'reserveAddress': 'cxb7eda227d9ed9c6fc2a74aa5dd7e9a3913f6c281',\n 'todaySicxRate': 1.0005914380555108,\n 'totalBorrows': '0x0',\n 'totalLiquidity': 201.01049207728127,\n 'totalSicxBalance': 200.89167709441227,\n 'usageAsCollateralEnabled': '0x1'}\n"
    }
   ],
   "source": [
    "#this returns the reserve data of USDb\n",
    "params = {'_reserve': contracts['sicx']}\n",
    "_call = CallBuilder()\\\n",
    "    .from_(deployer_wallet.get_address())\\\n",
    "    .to(contracts['lendingPoolDataProvider'])\\\n",
    "    .method(\"getReserveData\")\\\n",
    "    .params(params)\\\n",
    "    .build()\n",
    "response = icon_service.call(_call)\n",
    "for key,values in response.items():\n",
    "    if values==\"0x1\" or values ==\"0x0\" or \"Address\" in key:\n",
    "        continue\n",
    "    if key!=\"lastUpdateTimestamp\":\n",
    "        response[key]=int(values,0)/10**18\n",
    "    else:\n",
    "        response[key]=int(values,0)\n",
    "\n",
    "pprint(response)"
   ]
  },
  {
   "cell_type": "markdown",
   "metadata": {},
   "source": [
    "# Reserve Account Data"
   ]
  },
  {
   "cell_type": "code",
   "execution_count": 54,
   "metadata": {
    "tags": []
   },
   "outputs": [
    {
     "output_type": "stream",
     "name": "stdout",
     "text": "{'availableLiquidityBalanceUSD': 100.50524603864064,\n 'totalBorrowsBalanceUSD': 0.0,\n 'totalCollateralBalanceUSD': 100.50524603864064,\n 'totalLiquidityBalanceUSD': 100.50524603864064}\n"
    }
   ],
   "source": [
    "#this returns the reserve data of USDb\n",
    "\n",
    "_call = CallBuilder()\\\n",
    "    .from_(deployer_wallet.get_address())\\\n",
    "    .to(contracts['lendingPoolDataProvider'])\\\n",
    "    .method(\"getReserveAccountData\")\\\n",
    "    .build()\n",
    "response = icon_service.call(_call)\n",
    "# print(response)\n",
    "for key,values in response.items():\n",
    "    response[key]=int(values,0)/10**18\n",
    "        \n",
    "\n",
    "pprint(response)"
   ]
  },
  {
   "cell_type": "markdown",
   "metadata": {},
   "source": [
    "### Getting data of all reserves"
   ]
  },
  {
   "cell_type": "code",
   "execution_count": 55,
   "metadata": {
    "tags": []
   },
   "outputs": [
    {
     "output_type": "stream",
     "name": "stdout",
     "text": "{'ICX': {'availableLiquidity': 201.01049207728127,\n         'baseLTVasCollateral': 0.5,\n         'borrowCumulativeIndex': 1.0,\n         'borrowRate': '0x0',\n         'borrowingEnabled': '0x1',\n         'decimals': 1.8e-17,\n         'exchangePrice': 0.5,\n         'isActive': '0x1',\n         'isFreezed': '0x0',\n         'lastUpdateTimestamp': 1610447043554731,\n         'liquidationBonus': 0.1,\n         'liquidationThreshold': 0.65,\n         'liquidityCumulativeIndex': 1.0,\n         'liquidityRate': '0x0',\n         'oTokenAddress': 'cx7dcf7232084a085507bf2685f785589ebb0b52a1',\n         'reserveAddress': 'cxb7eda227d9ed9c6fc2a74aa5dd7e9a3913f6c281',\n         'todaySicxRate': 1.0005914380555108,\n         'totalBorrows': '0x0',\n         'totalLiquidity': 201.01049207728127,\n         'totalSicxBalance': 200.89167709441227,\n         'usageAsCollateralEnabled': '0x1'},\n 'USDb': {'availableLiquidity': '0x0',\n          'baseLTVasCollateral': 0.5,\n          'borrowCumulativeIndex': 1.0,\n          'borrowRate': '0x0',\n          'borrowingEnabled': '0x1',\n          'decimals': 1.8e-17,\n          'exchangePrice': 1.0,\n          'isActive': '0x1',\n          'isFreezed': '0x0',\n          'lastUpdateTimestamp': '0x0',\n          'liquidationBonus': 0.1,\n          'liquidationThreshold': 0.65,\n          'liquidityCumulativeIndex': 1.0,\n          'liquidityRate': '0x0',\n          'oTokenAddress': 'cx77d34d57f7ea300637058ef65babc52da91376a4',\n          'reserveAddress': 'cx9da823297393ecb193030b983ce334f25af20aac',\n          'totalBorrows': '0x0',\n          'totalLiquidity': '0x0',\n          'usageAsCollateralEnabled': '0x1'}}\n"
    }
   ],
   "source": [
    "#this returns the reserve data of all the reserves\n",
    "params = {'_reserve': contracts['sample_token']}\n",
    "_call = CallBuilder()\\\n",
    "    .from_(deployer_wallet.get_address())\\\n",
    "    .to(contracts['lendingPoolDataProvider'])\\\n",
    "    .method(\"getAllReserveData\")\\\n",
    "    .build()\n",
    "response = icon_service.call(_call)\n",
    "for key,values in response.items():\n",
    "    for k,v in values.items():\n",
    "        if v==\"0x1\" or v ==\"0x0\" or \"Address\" in k:\n",
    "            continue\n",
    "        if k!=\"lastUpdateTimestamp\":\n",
    "            response[key][k]=int(v,0)/10**18\n",
    "        else:\n",
    "            response[key][k]=int(v,0)\n",
    "pprint(response)"
   ]
  },
  {
   "cell_type": "markdown",
   "metadata": {},
   "source": [
    "### Getting user account data"
   ]
  },
  {
   "cell_type": "code",
   "execution_count": 56,
   "metadata": {
    "tags": []
   },
   "outputs": [
    {
     "output_type": "stream",
     "name": "stdout",
     "text": "{'availableBorrowsUSD': 50.25262301932032,\n 'borrowingPower': 0.0,\n 'currentLiquidationThreshold': 0.65,\n 'currentLtv': 0.5,\n 'healthFactor': -1e-18,\n 'healthFactorBelowThreshold': 0.0,\n 'totalBorrowBalanceUSD': 0.0,\n 'totalCollateralBalanceUSD': 100.50524603864064,\n 'totalFeesUSD': 0.0,\n 'totalLiquidityBalanceUSD': 100.50524603864064}\n"
    }
   ],
   "source": [
    "#returns the user data of all the reserves combined\n",
    "params = {'_user': 'hx91bf040426f226b3bfcd2f0b5967bbb0320525ce'}\n",
    "_call = CallBuilder()\\\n",
    "    .from_(deployer_wallet.get_address())\\\n",
    "    .to(contracts['lendingPoolDataProvider'])\\\n",
    "    .method(\"getUserAccountData\")\\\n",
    "    .params(params)\\\n",
    "    .build()\n",
    "response = icon_service.call(_call)\n",
    "for key,values in response.items():\n",
    "    if key!=\"lastUpdateTimestamp\":\n",
    "        response[key]=int(values,0)/10**18\n",
    "    else:\n",
    "        response[key]=int(values,0)\n",
    "pprint(response)"
   ]
  },
  {
   "cell_type": "code",
   "execution_count": 49,
   "metadata": {
    "tags": []
   },
   "outputs": [
    {
     "name": "stdout",
     "output_type": "stream",
     "text": [
      "20.0\n"
     ]
    }
   ],
   "source": [
    "#returns the user data of all the reserves combined\n",
    "params = {'_reserve': contracts['sample_token'],'_amount':10*10**18,\"_fee\":1,'_userCurrentBorrowBalanceUSD':0,'_userCurrentFeesUSD':0,'_userCurrentLtv':5*10**17}\n",
    "_call = CallBuilder()\\\n",
    "    .from_(deployer_wallet.get_address())\\\n",
    "    .to(contracts['lendingPoolDataProvider'])\\\n",
    "    .method(\"calculateCollateralNeededUSD\")\\\n",
    "    .params(params)\\\n",
    "    .build()\n",
    "response = icon_service.call(_call)\n",
    "response = int(response,0)/10**18\n",
    "# for key,values in response.items():\n",
    "#     if key!=\"lastUpdateTimestamp\":\n",
    "#         response[key]=int(values,0)/10**18\n",
    "#     else:\n",
    "#         response[key]=int(values,0)\n",
    "print(response)"
   ]
  },
  {
   "cell_type": "markdown",
   "metadata": {},
   "source": [
    "### Getting user reserve data"
   ]
  },
  {
   "cell_type": "code",
   "execution_count": 57,
   "metadata": {
    "tags": []
   },
   "outputs": [
    {
     "output_type": "stream",
     "name": "stdout",
     "text": "{'borrowRate': 0.0,\n 'currentBorrowBalance': 0.0,\n 'currentBorrowBalanceUSD': 0.0,\n 'currentOTokenBalance': 201.01049207728127,\n 'currentOTokenBalanceUSD': 100.56468866592635,\n 'exchangeRate': 0.5002957190277554,\n 'lastUpdateTimestamp': 0,\n 'liquidityRate': 0.0,\n 'originationFee': 0.0,\n 'principalBorrowBalance': 0.0,\n 'principalBorrowBalanceUSD': 0.0,\n 'principalOTokenBalance': 201.01049207728127,\n 'principalOTokenBalanceUSD': 100.56468866592635,\n 'useAsCollateral': 1e-18,\n 'userBorrowCumulativeIndex': 0.0}\n"
    }
   ],
   "source": [
    "#returns the data of a specific user for a specific reserve\n",
    "#this returns the data of user for USDb reserve\n",
    "params = {'_user': 'hx91bf040426f226b3bfcd2f0b5967bbb0320525ce' ,\"_reserve\":contracts['sicx']}\n",
    "_call = CallBuilder()\\\n",
    "    .from_(deployer_wallet.get_address())\\\n",
    "    .to(contracts['lendingPoolDataProvider'])\\\n",
    "    .method(\"getUserReserveData\")\\\n",
    "    .params(params)\\\n",
    "    .build()\n",
    "response = icon_service.call(_call)\n",
    "for key,values in response.items():\n",
    "    if key!=\"lastUpdateTimestamp\":\n",
    "        response[key]=int(values,0)/10**18\n",
    "    else:\n",
    "        response[key]=int(values,0)\n",
    "pprint(response)"
   ]
  },
  {
   "cell_type": "markdown",
   "metadata": {},
   "source": [
    "# Getting All Reserve Data"
   ]
  },
  {
   "cell_type": "code",
   "execution_count": 44,
   "metadata": {},
   "outputs": [
    {
     "name": "stdout",
     "output_type": "stream",
     "text": [
      "{'USDb': {'availableLiquidity': '0x3f35b7a91f3815900000',\n",
      "          'baseLTVasCollateral': '0x853a0d2313c0000',\n",
      "          'borrowCumulativeIndex': '0xde0b7c160e6fb0d',\n",
      "          'borrowRate': '0x128fc221d15a6e5',\n",
      "          'borrowingEnabled': '0x1',\n",
      "          'decimals': '0x12',\n",
      "          'isActive': '0x1',\n",
      "          'isFreezed': '0x0',\n",
      "          'lastUpdateTimestamp': '0x5b4bfa2ee7bf9',\n",
      "          'liquidationBonus': '0xa',\n",
      "          'liquidationThreshold': '0x905438e60010000',\n",
      "          'liquidityCumulativeIndex': '0xde0b73a80e1fe23',\n",
      "          'liquidityRate': '0xa78e20466e3ea9',\n",
      "          'oTokenAddress': 'cx2f4c43ec2c69321573e93549d89462de4a25fdbe',\n",
      "          'reserveAddress': 'cx134a1a0309aaf88a00ad1fee4983b7ed43454ab6',\n",
      "          'totalBorrows': '0x6a32602b7ababa00e840',\n",
      "          'totalLiquidity': '0xa96817d499f2cf90e840',\n",
      "          'usageAsCollateralEnabled': '0x1'},\n",
      " 'sICX': {'availableLiquidity': '0x0',\n",
      "          'baseLTVasCollateral': '0x494654067e10000',\n",
      "          'borrowCumulativeIndex': '0xde0b6b3a7640000',\n",
      "          'borrowRate': '0x0',\n",
      "          'borrowingEnabled': '0x1',\n",
      "          'decimals': '0x12',\n",
      "          'isActive': '0x1',\n",
      "          'isFreezed': '0x0',\n",
      "          'lastUpdateTimestamp': '0x0',\n",
      "          'liquidationBonus': '0xa',\n",
      "          'liquidationThreshold': '0x905438e60010000',\n",
      "          'liquidityCumulativeIndex': '0xde0b6b3a7640000',\n",
      "          'liquidityRate': '0x0',\n",
      "          'oTokenAddress': 'cx6dbb85df52d7b12d2c00d673d89c5bf21ee29be2',\n",
      "          'reserveAddress': 'cx735ee7e87d30d76a83b27c7bc62a84b5beafa34b',\n",
      "          'totalBorrows': '0x0',\n",
      "          'totalLiquidity': '0x0',\n",
      "          'usageAsCollateralEnabled': '0x1'}}\n"
     ]
    }
   ],
   "source": [
    "_call = CallBuilder()\\\n",
    "    .from_(deployer_wallet.get_address())\\\n",
    "    .to(contracts['lendingPoolDataProvider'])\\\n",
    "    .method(\"getAllReserveData\")\\\n",
    "    .build()\n",
    "response = icon_service.call(_call)\n",
    "pprint(response)"
   ]
  },
  {
   "cell_type": "markdown",
   "metadata": {},
   "source": [
    "### Getting the data of user for all reserves"
   ]
  },
  {
   "cell_type": "code",
   "execution_count": 42,
   "metadata": {
    "tags": []
   },
   "outputs": [
    {
     "name": "stdout",
     "output_type": "stream",
     "text": [
      "{'USDb': {'borrowRate': 0.0,\n",
      "          'currentBorrowBalance': 0.0,\n",
      "          'currentBorrowBalanceUSD': 0.0,\n",
      "          'currentOTokenBalance': 0.0,\n",
      "          'currentOTokenBalanceUSD': 0.0,\n",
      "          'lastUpdateTimestamp': 0,\n",
      "          'liquidityRate': 0.0,\n",
      "          'originationFee': 0.0,\n",
      "          'principalBorrowBalance': 0.0,\n",
      "          'principalBorrowBalanceUSD': 0.0,\n",
      "          'useAsCollateral': 0.0,\n",
      "          'userBorrowCumulativeIndex': 0.0},\n",
      " 'sICX': {'borrowRate': 0.0,\n",
      "          'currentBorrowBalance': 0.0,\n",
      "          'currentBorrowBalanceUSD': 0.0,\n",
      "          'currentOTokenBalance': 0.0,\n",
      "          'currentOTokenBalanceUSD': 0.0,\n",
      "          'lastUpdateTimestamp': 0,\n",
      "          'liquidityRate': 0.0,\n",
      "          'originationFee': 0.0,\n",
      "          'principalBorrowBalance': 0.0,\n",
      "          'principalBorrowBalanceUSD': 0.0,\n",
      "          'useAsCollateral': 0.0,\n",
      "          'userBorrowCumulativeIndex': 0.0}}\n"
     ]
    }
   ],
   "source": [
    "#returns the data of a specific user for all reserves\n",
    "\n",
    "params = {'_user': 'hx91bf040426f226b3bfcd2f0b5967bbb0320525ce'}\n",
    "_call = CallBuilder()\\\n",
    "    .from_(deployer_wallet.get_address())\\\n",
    "    .to(contracts['lendingPoolDataProvider'])\\\n",
    "    .method(\"getUserAllReserveData\")\\\n",
    "    .params(params)\\\n",
    "    .build()\n",
    "response = icon_service.call(_call)\n",
    "for key,values in response.items():\n",
    "    for k,v in values.items():\n",
    "        if k!=\"lastUpdateTimestamp\":\n",
    "            response[key][k]=int(v,0)/10**18\n",
    "        else:\n",
    "            response[key][k]=int(v,0)\n",
    "pprint(response)"
   ]
  },
  {
   "cell_type": "markdown",
   "metadata": {},
   "source": [
    "### Get reserve configurations\n"
   ]
  },
  {
   "cell_type": "code",
   "execution_count": 61,
   "metadata": {
    "tags": []
   },
   "outputs": [
    {
     "name": "stdout",
     "output_type": "stream",
     "text": [
      "{'baseLTVasCollateral': 330000000000000000,\n",
      " 'borrowingEnabled': 1,\n",
      " 'decimals': 18,\n",
      " 'isActive': 1,\n",
      " 'liquidationBonus': 10,\n",
      " 'liquidationThreshold': 650000000000000000,\n",
      " 'usageAsCollateralEnabled': 1}\n"
     ]
    }
   ],
   "source": [
    "#returns the configurations of a specific reserve\n",
    "params = {\"_reserve\":contracts['sample_token']}\n",
    "_call = CallBuilder()\\\n",
    "    .from_(deployer_wallet.get_address())\\\n",
    "    .to(contracts['lendingPoolDataProvider'])\\\n",
    "    .method(\"getReserveConfigurationData\")\\\n",
    "    .params(params)\\\n",
    "    .build()\n",
    "response = icon_service.call(_call)\n",
    "for key,values in response.items():\n",
    "    response[key]=int(values,0)\n",
    "pprint(response)\n"
   ]
  },
  {
   "cell_type": "markdown",
   "metadata": {},
   "source": [
    "### Get all reserves configurations"
   ]
  },
  {
   "cell_type": "code",
   "execution_count": 62,
   "metadata": {
    "tags": []
   },
   "outputs": [
    {
     "name": "stdout",
     "output_type": "stream",
     "text": [
      "{'USDb': {'baseLTVasCollateral': 330000000000000000,\n",
      "          'borrowingEnabled': 1,\n",
      "          'decimals': 18,\n",
      "          'isActive': 1,\n",
      "          'liquidationBonus': 10,\n",
      "          'liquidationThreshold': 650000000000000000,\n",
      "          'usageAsCollateralEnabled': 1},\n",
      " 'icx': {'baseLTVasCollateral': 330000000000000000,\n",
      "         'borrowingEnabled': 1,\n",
      "         'decimals': 18,\n",
      "         'isActive': 1,\n",
      "         'liquidationBonus': 10,\n",
      "         'liquidationThreshold': 650000000000000000,\n",
      "         'usageAsCollateralEnabled': 1}}\n"
     ]
    }
   ],
   "source": [
    "#returns the configurations of all the   reserves\n",
    "\n",
    "_call = CallBuilder()\\\n",
    "    .from_(deployer_wallet.get_address())\\\n",
    "    .to(contracts['lendingPoolDataProvider'])\\\n",
    "    .method(\"getAllReserveConfigurationData\")\\\n",
    "    .build()\n",
    "response = icon_service.call(_call)\n",
    "for key,values in response.items():\n",
    "    for k,v in values.items():\n",
    "        response[key][k]=int(v,0)\n",
    "pprint(response)\n"
   ]
  },
  {
   "cell_type": "markdown",
   "metadata": {},
   "source": [
    "## Realtime USDb balance of user(with accrued interest)"
   ]
  },
  {
   "cell_type": "code",
   "execution_count": 33,
   "metadata": {
    "tags": []
   },
   "outputs": [
    {
     "name": "stdout",
     "output_type": "stream",
     "text": [
      "0\n"
     ]
    }
   ],
   "source": [
    "\n",
    "params = {'_user': 'hx91bf040426f226b3bfcd2f0b5967bbb0320525ce' }\n",
    "\n",
    "_call = CallBuilder()\\\n",
    "    .from_(deployer_wallet.get_address())\\\n",
    "    .to(contracts['oToken'])\\\n",
    "    .method(\"balanceOf\")\\\n",
    "    .params(params)\\\n",
    "    .build()\n",
    "response = icon_service.call(_call)\n",
    "\n",
    "print(int(response,0))"
   ]
  },
  {
   "cell_type": "code",
   "execution_count": 20,
   "metadata": {
    "tags": []
   },
   "outputs": [
    {
     "name": "stdout",
     "output_type": "stream",
     "text": [
      "cx8397f621adac63d786c24cfdf920e683ae320dfd\n"
     ]
    }
   ],
   "source": [
    "\n",
    "# params = {'_owner': 'hx91bf040426f226b3bfcd2f0b5967bbb0320525ce' }\n",
    "\n",
    "_call = CallBuilder()\\\n",
    "    .from_(deployer_wallet.get_address())\\\n",
    "    .to(contracts['lendingPoolDataProvider'])\\\n",
    "    .method(\"getOracleAddress\")\\\n",
    "    .build()\n",
    "response = icon_service.call(_call)\n",
    "print(response)"
   ]
  }
 ],
 "metadata": {
  "celltoolbar": "Slideshow",
  "kernelspec": {
   "display_name": "Python 3",
   "language": "python",
   "name": "python3"
  },
  "language_info": {
   "codemirror_mode": {
    "name": "ipython",
    "version": 3
   },
   "file_extension": ".py",
   "mimetype": "text/x-python",
   "name": "python",
   "nbconvert_exporter": "python",
   "pygments_lexer": "ipython3",
   "version": "3.8.5"
  },
  "rise": {
   "scroll": true
  }
 },
 "nbformat": 4,
 "nbformat_minor": 2
}