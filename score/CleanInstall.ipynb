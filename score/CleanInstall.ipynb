{
 "cells": [
  {
   "cell_type": "markdown",
   "metadata": {
    "slideshow": {
     "slide_type": "slide"
    }
   },
   "source": [
    "# Jupyter Notebook to clean install all the contracts"
   ]
  },
  {
   "cell_type": "markdown",
   "metadata": {
    "slideshow": {
     "slide_type": "slide"
    }
   },
   "source": [
    "\n",
    "### Necessary packages "
   ]
  },
  {
   "cell_type": "code",
   "execution_count": 1,
   "metadata": {},
   "outputs": [
    {
     "data": {
      "text/html": [
       "<style>.container { width:100% !important; }</style>"
      ],
      "text/plain": [
       "<IPython.core.display.HTML object>"
      ]
     },
     "metadata": {},
     "output_type": "display_data"
    }
   ],
   "source": [
    "from IPython.core.display import display, HTML\n",
    "display(HTML(\"<style>.container { width:100% !important; }</style>\"))\n"
   ]
  },
  {
   "cell_type": "markdown",
   "metadata": {},
   "source": [
    "# Set Up Environment"
   ]
  },
  {
   "cell_type": "code",
   "execution_count": 2,
   "metadata": {},
   "outputs": [],
   "source": [
    "network = \"yeouido\"  # set this to one of mainnet, yeouido, euljiro, pagoda, or custom\n",
    "contracts_file_custom = 'yeouido contracts_20210219095435.pkl'\n",
    "#contracts_20201109120425\n",
    "\n",
    "connections = {\n",
    "\"mainnet\": {\"iconservice\": \"https://ctz.solidwallet.io\",       \"nid\": 1},\n",
    "\"yeouido\": {\"iconservice\": \"https://bicon.net.solidwallet.io\", \"nid\": 3},\n",
    "\"euljiro\": {\"iconservice\": \"https://test-ctz.solidwallet.io\",  \"nid\": 2},\n",
    "\"pagoda\":  {\"iconservice\": \"https://zicon.net.solidwallet.io\", \"nid\":80},\n",
    "\"custom\":  {\"iconservice\": \"http://18.237.205.52:9000/\",       \"nid\": 3},\n",
    "\"local\":   {\"iconservice\": \"http://localhost:9000/\",           \"nid\": 3}\n",
    "}\n",
    "\n",
    "env = connections[network]"
   ]
  },
  {
   "cell_type": "code",
   "execution_count": 3,
   "metadata": {
    "slideshow": {
     "slide_type": "-"
    }
   },
   "outputs": [],
   "source": [
    "from iconsdk.exception import JSONRPCException\n",
    "from iconsdk.libs.in_memory_zip import gen_deploy_data_content\n",
    "from iconsdk.icon_service import IconService\n",
    "from iconsdk.providers.http_provider import HTTPProvider\n",
    "from iconsdk.builder.transaction_builder import CallTransactionBuilder, TransactionBuilder, DeployTransactionBuilder\n",
    "from iconsdk.builder.call_builder import CallBuilder\n",
    "from iconsdk.signed_transaction import SignedTransaction\n",
    "from iconsdk.wallet.wallet import KeyWallet\n",
    "from iconsdk.utils.convert_type import convert_hex_str_to_int\n",
    "from datetime import datetime\n",
    "from repeater import retry\n",
    "from shutil import make_archive\n",
    "import requests\n",
    "import json\n",
    "import pickle as pkl\n",
    "import csv\n",
    "import os\n",
    "from pprint import pprint\n",
    "from getpass import getpass\n",
    "\n",
    "\n",
    "ICX = 1000000000000000000 # 10**18\n",
    "GOVERNANCE_ADDRESS = \"cx0000000000000000000000000000000000000000\"\n",
    "\n",
    "\n",
    "with open(contracts_file_custom, 'rb') as f:\n",
    "    contracts = pkl.load(f)\n",
    "\n",
    "@retry(JSONRPCException, tries=10, delay=1, back_off=2)\n",
    "def get_tx_result(_tx_hash):\n",
    "    tx_result = icon_service.get_transaction_result(_tx_hash)\n",
    "    return tx_result\n",
    "\n",
    "\n"
   ]
  },
  {
   "cell_type": "markdown",
   "metadata": {
    "slideshow": {
     "slide_type": "-"
    }
   },
   "source": [
    "### Required service"
   ]
  },
  {
   "cell_type": "code",
   "execution_count": 4,
   "metadata": {},
   "outputs": [],
   "source": [
    "icon_service = IconService(HTTPProvider(env[\"iconservice\"], 3))\n",
    "NID = env[\"nid\"]"
   ]
  },
  {
   "cell_type": "code",
   "execution_count": 28,
   "metadata": {
    "tags": []
   },
   "outputs": [
    {
     "name": "stdout",
     "output_type": "stream",
     "text": [
      "{'addressProvider': 'cx797bc63e7b27758816910cb35f0fa1f546b57c33',\n",
      " 'daoFund': 'cxb2e669fbb8b94f2a4525345f22e466933b8d2075',\n",
      " 'delegation': 'cx24e32367425660a67c91d6e3c1077914df4e0286',\n",
      " 'feeProvider': 'cxd55f27870c9b219272ea4fc31d5d7ec8dc78a97e',\n",
      " 'governance': 'cx672132f49f0ef02969cc6b223613206e46ff34b1',\n",
      " 'iusdc': 'cx65f639254090820361da483df233f6d0e69af9b7',\n",
      " 'lendingPool': 'cx0be0870a036ef7a08997bd12e1cd0bfed2dd5d85',\n",
      " 'lendingPoolCore': 'cx2d844c9613b5f864f5dace7fed82997c4c62ef01',\n",
      " 'lendingPoolDataProvider': 'cx88ae036091243916d87cbc3b11f39e317dcd46ad',\n",
      " 'liquidationManager': 'cx21b6ee09cd144b2a778bdcf69a46ef2cf898ff1c',\n",
      " 'oICX': 'cx9dfe6300788178da4ac43e7eb7114380f5addc69',\n",
      " 'oIUSDC': 'cx5bdb716d9d5531927f9cab4dfd26937a595ad52c',\n",
      " 'oToken': 'cxf3e8b176a276a1d6bde232638656ed835f5cb058',\n",
      " 'oUSDb': 'cxa15c0e87237dfb3c7818078f34d371398b46fe29',\n",
      " 'ommToken': 'cxa96491850d5dd69efa5d64afa9138fd4a66cd348',\n",
      " 'priceOracle': 'cxe76fd817fae3b485ae6e4fea2cf88d050d379b63',\n",
      " 'rewards': 'cx3e9b334a82529797818ca824cc58c51b52a26087',\n",
      " 'sample_token': 'cxc88e39248bf428d3ab0b9c9fbafef9ff423c3a75',\n",
      " 'sicx': 'cxb7eda227d9ed9c6fc2a74aa5dd7e9a3913f6c281',\n",
      " 'snapshot': 'cx584f740fedab472057bd8ee6e32d97b9b0a05b9d',\n",
      " 'staking': 'cxadd9557a07d4aab925dd04b7a6da4ea1d67bef9c',\n",
      " 'usdb': 'cxaa068556df80f9917ef146e889f0b2c4b13ab634',\n",
      " 'worker_token': 'cxd4e8a5dd852439ccdec73a2b4cd973148f09775d'}\n"
     ]
    }
   ],
   "source": [
    "\n",
    "\n",
    "\"\"\"\n",
    "contracts = {\n",
    "\n",
    "}\n",
    "pprint(contracts)\n",
    "\"\"\"\n",
    "pprint(contracts)"
   ]
  },
  {
   "cell_type": "markdown",
   "metadata": {
    "slideshow": {
     "slide_type": "-"
    }
   },
   "source": [
    "# Importing wallet"
   ]
  },
  {
   "cell_type": "markdown",
   "metadata": {},
   "source": [
    "### Importing from private key"
   ]
  },
  {
   "cell_type": "code",
   "execution_count": 6,
   "metadata": {
    "scrolled": true
   },
   "outputs": [
    {
     "data": {
      "text/plain": [
       "'hx91bf040426f226b3bfcd2f0b5967bbb0320525ce'"
      ]
     },
     "execution_count": 6,
     "metadata": {},
     "output_type": "execute_result"
    }
   ],
   "source": [
    "\n",
    "private=\"a691ef7d5601f9b5be4f9b9d80215159ea6ff0b88003e3d34e078d40e778b39a\"\n",
    "deployer_wallet = KeyWallet.load(bytes.fromhex(private))\n",
    "deployer_wallet.get_address()\n"
   ]
  },
  {
   "cell_type": "code",
   "execution_count": 7,
   "metadata": {},
   "outputs": [
    {
     "data": {
      "text/plain": [
       "16700592761150298909795"
      ]
     },
     "execution_count": 7,
     "metadata": {},
     "output_type": "execute_result"
    }
   ],
   "source": [
    "icon_service.get_balance(\"hx91bf040426f226b3bfcd2f0b5967bbb0320525ce\")"
   ]
  },
  {
   "cell_type": "markdown",
   "metadata": {},
   "source": [
    "### Importing wallet from keystore file"
   ]
  },
  {
   "cell_type": "code",
   "execution_count": 8,
   "metadata": {
    "tags": []
   },
   "outputs": [
    {
     "data": {
      "text/plain": [
       "708876575999000000000000000"
      ]
     },
     "execution_count": 8,
     "metadata": {},
     "output_type": "execute_result"
    }
   ],
   "source": [
    "# Set to the address of the keystore file and give the password when prompted\n",
    "password = getpass()\n",
    "deployer_wallet = KeyWallet.load(\"./keystores/keystore_test1.json\",password)\n",
    "deployer_wallet.get_address()\n",
    "icon_service.get_balance(deployer_wallet.get_address())"
   ]
  },
  {
   "cell_type": "markdown",
   "metadata": {},
   "source": [
    "### Creating new wallet"
   ]
  },
  {
   "cell_type": "code",
   "execution_count": null,
   "metadata": {},
   "outputs": [],
   "source": [
    "deployer_wallet = KeyWallet.create()\n",
    "print(deployer_wallet.get_address())\n",
    "caller_wallet = KeyWallet.create()\n",
    "print(caller_wallet.get_address())"
   ]
  },
  {
   "cell_type": "markdown",
   "metadata": {},
   "source": [
    "# Deploying all contracts\n"
   ]
  },
  {
   "cell_type": "code",
   "execution_count": 9,
   "metadata": {
    "slideshow": {
     "slide_type": "-"
    },
    "tags": []
   },
   "outputs": [
    {
     "name": "stderr",
     "output_type": "stream",
     "text": [
      "Raised JSONRPCException while returning the custom response. Error message: {'code': -32602, 'message': 'Pending transaction'}\n",
      "{'code': -32602, 'message': 'Pending transaction'} (Json rpc error), Retrying in 1 seconds...\n",
      "Raised JSONRPCException while returning the custom response. Error message: {'code': -32602, 'message': 'Pending transaction'}\n",
      "{'code': -32602, 'message': 'Pending transaction'} (Json rpc error), Retrying in 1 seconds...\n",
      "Raised JSONRPCException while returning the custom response. Error message: {'code': -32602, 'message': 'Pending transaction'}\n",
      "{'code': -32602, 'message': 'Pending transaction'} (Json rpc error), Retrying in 1 seconds...\n",
      "Raised JSONRPCException while returning the custom response. Error message: {'code': -32602, 'message': 'Pending transaction'}\n",
      "{'code': -32602, 'message': 'Pending transaction'} (Json rpc error), Retrying in 1 seconds...\n",
      "Raised JSONRPCException while returning the custom response. Error message: {'code': -32602, 'message': 'Pending transaction'}\n",
      "{'code': -32602, 'message': 'Pending transaction'} (Json rpc error), Retrying in 1 seconds...\n",
      "{'txHash': '0xe5468682dd8fd027e9e841a65965012688407aa2ccb3848ddb33a1479179f8fc', 'blockHeight': 1870861, 'blockHash': '0x21f789649f85b0f257c7862d586bec33b421003d7779f8a8780e6cbf851fda6e', 'txIndex': 1, 'to': 'cx0000000000000000000000000000000000000000', 'scoreAddress': 'cxf872138faf25dfc5a1216a7a85cad24b8172d988', 'stepUsed': 1144284440, 'stepPrice': 10000000000, 'cumulativeStepUsed': 1144284440, 'eventLogs': [], 'logsBloom': b'\\x00\\x00\\x00\\x00\\x00\\x00\\x00\\x00\\x00\\x00\\x00\\x00\\x00\\x00\\x00\\x00\\x00\\x00\\x00\\x00\\x00\\x00\\x00\\x00\\x00\\x00\\x00\\x00\\x00\\x00\\x00\\x00\\x00\\x00\\x00\\x00\\x00\\x00\\x00\\x00\\x00\\x00\\x00\\x00\\x00\\x00\\x00\\x00\\x00\\x00\\x00\\x00\\x00\\x00\\x00\\x00\\x00\\x00\\x00\\x00\\x00\\x00\\x00\\x00\\x00\\x00\\x00\\x00\\x00\\x00\\x00\\x00\\x00\\x00\\x00\\x00\\x00\\x00\\x00\\x00\\x00\\x00\\x00\\x00\\x00\\x00\\x00\\x00\\x00\\x00\\x00\\x00\\x00\\x00\\x00\\x00\\x00\\x00\\x00\\x00\\x00\\x00\\x00\\x00\\x00\\x00\\x00\\x00\\x00\\x00\\x00\\x00\\x00\\x00\\x00\\x00\\x00\\x00\\x00\\x00\\x00\\x00\\x00\\x00\\x00\\x00\\x00\\x00\\x00\\x00\\x00\\x00\\x00\\x00\\x00\\x00\\x00\\x00\\x00\\x00\\x00\\x00\\x00\\x00\\x00\\x00\\x00\\x00\\x00\\x00\\x00\\x00\\x00\\x00\\x00\\x00\\x00\\x00\\x00\\x00\\x00\\x00\\x00\\x00\\x00\\x00\\x00\\x00\\x00\\x00\\x00\\x00\\x00\\x00\\x00\\x00\\x00\\x00\\x00\\x00\\x00\\x00\\x00\\x00\\x00\\x00\\x00\\x00\\x00\\x00\\x00\\x00\\x00\\x00\\x00\\x00\\x00\\x00\\x00\\x00\\x00\\x00\\x00\\x00\\x00\\x00\\x00\\x00\\x00\\x00\\x00\\x00\\x00\\x00\\x00\\x00\\x00\\x00\\x00\\x00\\x00\\x00\\x00\\x00\\x00\\x00\\x00\\x00\\x00\\x00\\x00\\x00\\x00\\x00\\x00\\x00\\x00\\x00\\x00\\x00\\x00\\x00\\x00\\x00\\x00\\x00\\x00\\x00\\x00\\x00\\x00\\x00\\x00\\x00\\x00\\x00', 'status': 1}\n",
      "saving contracts list as custom_contracts_20201212140312.pkl\n"
     ]
    },
    {
     "data": {
      "text/plain": [
       "{'addressProvider': 'cxc595228d12cc267c748026a6629af41060654dab',\n",
       " 'feeProvider': 'cxb76322c7df895a14e47bc14b4aa21566b3edc069',\n",
       " 'lendingPool': 'cxf44d5c379d7b458fe4bba1ecb0f8fd4a54e9d65c',\n",
       " 'lendingPoolCore': 'cx515613f46e2b333f6bdfa5d7fd1bf93fa3043e14',\n",
       " 'lendingPoolDataProvider': 'cxfdff702158ae5bfce3f25a4c040b850d96e25af8',\n",
       " 'oICX': 'cxf872138faf25dfc5a1216a7a85cad24b8172d988',\n",
       " 'oToken': 'cx9732efc2d75905dfe4d8bc2d055c2cf226391d00',\n",
       " 'priceOracle': 'cx1fbce991b255545bcd31634ab6beda5605201f46',\n",
       " 'sample_token': 'cxc88281539407ee6d766e58d302f27c50d517783c',\n",
       " 'sicx': 'cx400639d22b6bce4def6e7d7be2bc36e7a39192ee',\n",
       " 'liquidationManager': 'cx847bb94d386b34af9ba86dfdcace651dbd5af822'}"
      ]
     },
     "execution_count": 9,
     "metadata": {},
     "output_type": "execute_result"
    }
   ],
   "source": [
    "#contracts=AutoVivification()\n",
    "\n",
    "deploy = ['addressProvider', 'feeProvider', 'lendingPool', 'lendingPoolCore', 'lendingPoolDataProvider','oToken','priceOracle','sample_token', 'sicx', 'liquidationManager']\n",
    "# for directory in {\"score\"}:\n",
    "directory=os.getcwd()\n",
    "for item in deploy:\n",
    "    params = {}\n",
    "    if item == \"sample_token\":\n",
    "        params = {'_initialSupply':500000000, '_decimals': 18}\n",
    "    elif item == \"sicx\":\n",
    "        params = {'_initialSupply':500000000, '_decimals': 18}\n",
    "    elif item == \"oToken\":\n",
    "        params = {\"_name\":\"BridgeUSDInterestToken\",\"_symbol\":\"oUSDb\"}\n",
    "    deploy_transaction = DeployTransactionBuilder()\\\n",
    "        .from_(deployer_wallet.get_address())\\\n",
    "        .to(GOVERNANCE_ADDRESS)\\\n",
    "        .nid(NID)\\\n",
    "        .nonce(100)\\\n",
    "        .content_type(\"application/zip\")\\\n",
    "        .content(gen_deploy_data_content(item))\\\n",
    "        .params(params)\\\n",
    "        .build()\n",
    "\n",
    "    step_limit = icon_service.estimate_step(deploy_transaction) + 100000\n",
    "    \n",
    "    signed_transaction = SignedTransaction(deploy_transaction, deployer_wallet, step_limit)\n",
    "    tx_hash = icon_service.send_transaction(signed_transaction)\n",
    "\n",
    "    res = get_tx_result(tx_hash)\n",
    "    contracts[item] = res.get('scoreAddress', '')\n",
    "\n",
    "#deploy oICX \n",
    "params = {\"_name\":\"ICXinterestToken\",\"_symbol\":\"oICX\"}\n",
    "deploy_transaction = DeployTransactionBuilder()\\\n",
    "        .from_(deployer_wallet.get_address())\\\n",
    "        .to(GOVERNANCE_ADDRESS)\\\n",
    "        .nid(NID)\\\n",
    "        .nonce(100)\\\n",
    "        .content_type(\"application/zip\")\\\n",
    "        .content(gen_deploy_data_content('oToken'))\\\n",
    "        .params(params)\\\n",
    "        .build()\n",
    "\n",
    "step_limit = icon_service.estimate_step(deploy_transaction) + 100000\n",
    "\n",
    "signed_transaction = SignedTransaction(deploy_transaction, deployer_wallet, step_limit)\n",
    "tx_hash = icon_service.send_transaction(signed_transaction)\n",
    "\n",
    "res = get_tx_result(tx_hash)\n",
    "print(res)\n",
    "contracts['oICX'] = res.get('scoreAddress', '')\n",
    "\n",
    "now = datetime.utcnow()\n",
    "\n",
    "filename = f'contracts_{now.year}{str(now.month).zfill(2)}{str(now.day).zfill(2)}{str(now.hour).zfill(2)}{str(now.minute).zfill(2)}{str(now.second).zfill(2)}.pkl'\n",
    "filename=network+'_'+filename\n",
    "print(f'saving contracts list as {filename}')\n",
    "with open(filename, 'wb') as f:\n",
    "    pkl.dump(contracts, f)\n",
    "\n",
    "contracts"
   ]
  },
  {
   "cell_type": "code",
   "execution_count": 11,
   "metadata": {},
   "outputs": [
    {
     "name": "stdout",
     "output_type": "stream",
     "text": [
      "saving contracts list as custom_yeouido_DevTestcontracts_20201210064637.pkl\n"
     ]
    }
   ],
   "source": [
    "now = datetime.utcnow()\n",
    "\n",
    "filename = f'contracts_{now.year}{str(now.month).zfill(2)}{str(now.day).zfill(2)}{str(now.hour).zfill(2)}{str(now.minute).zfill(2)}{str(now.second).zfill(2)}.pkl'\n",
    "filename=network+'_'+filename\n",
    "print(f'saving contracts list as {filename}')\n",
    "with open(filename, 'wb') as f:\n",
    "    pkl.dump(contracts, f)"
   ]
  },
  {
   "cell_type": "markdown",
   "metadata": {},
   "source": [
    "## Save updated contract"
   ]
  },
  {
   "cell_type": "markdown",
   "metadata": {},
   "source": []
  },
  {
   "cell_type": "code",
   "execution_count": 46,
   "metadata": {},
   "outputs": [
    {
     "name": "stdout",
     "output_type": "stream",
     "text": [
      "saving contracts list as updated20201125_custom_contracts_20201122161857.pkl\n"
     ]
    },
    {
     "data": {
      "text/plain": [
       "{'lendingPoolDataProvider': {'zip': '/home/shubham/Work/ICON/openmoneymarket-mono/score/lendingPoolDataProvider',\n",
       "  'SCORE': 'cx726e8bacc442256099dda50438c11d004215afc5'},\n",
       " 'lendingPool': {'zip': '/home/shubham/Work/ICON/openmoneymarket-mono/score/lendingPool',\n",
       "  'SCORE': 'cxbfd0ecb9892ca2e1ae3d0494d48f6618620b7e48'},\n",
       " 'feeProvider': {'zip': '/home/shubham/Work/ICON/openmoneymarket-mono/score/feeProvider',\n",
       "  'SCORE': 'cxe408b46a010ff5f82e9e45610a0aadb4ff2b073c'},\n",
       " 'lendingPoolCore': {'zip': '/home/shubham/Work/ICON/openmoneymarket-mono/score/lendingPoolCore',\n",
       "  'SCORE': 'cx3daa5c2517fdd44bdf37904e5e537eefafb4d69d'},\n",
       " 'oToken': {'zip': '/home/shubham/Work/ICON/openmoneymarket-mono/score/oToken',\n",
       "  'SCORE': 'cx2f4c43ec2c69321573e93549d89462de4a25fdbe'},\n",
       " 'priceOracle': {'zip': '/home/shubham/Work/ICON/openmoneymarket-mono/score/priceOracle',\n",
       "  'SCORE': 'cx6703fdc7e0e65c5195d6dbfb59a838f76a9c19b1'},\n",
       " 'sample_token': {'zip': '/home/shubham/Work/ICON/openmoneymarket-mono/score/sample_token',\n",
       "  'SCORE': 'cx134a1a0309aaf88a00ad1fee4983b7ed43454ab6'},\n",
       " 'addressProvider': {'zip': '/home/shubham/Work/ICON/openmoneymarket-mono/score/addressProvider',\n",
       "  'SCORE': 'cx1e6df31409cf3f68fe4028848dca876314a5fbfc'},\n",
       " 'oICX': {'SCORE': 'cx6dbb85df52d7b12d2c00d673d89c5bf21ee29be2',\n",
       "  'zip': '/home/shubham/Work/ICON/openmoneymarket-mono/score/oToken'},\n",
       " 'sicx': {'SCORE': 'cx735ee7e87d30d76a83b27c7bc62a84b5beafa34b',\n",
       "  'zip': '/home/shubham/Work/ICON/openmoneymarket-mono/score/sicx'}}"
      ]
     },
     "execution_count": 46,
     "metadata": {},
     "output_type": "execute_result"
    }
   ],
   "source": [
    "#use this to update a pre existing pkl file\n",
    "filename = 'updated20201125_' + contracts_file_custom\n",
    "print(f'saving contracts list as {filename}')\n",
    "with open(filename, 'wb') as f:\n",
    "    pkl.dump(contracts, f)\n",
    "contracts"
   ]
  },
  {
   "cell_type": "markdown",
   "metadata": {},
   "source": [
    "# ICX transfer"
   ]
  },
  {
   "cell_type": "code",
   "execution_count": 17,
   "metadata": {
    "tags": []
   },
   "outputs": [
    {
     "data": {
      "text/plain": [
       "{'txHash': '0x3c546494f559d4ea9d34534f13387c74aa80658c67ac2630ce1adaf514e1bc86',\n",
       " 'blockHeight': 1425621,\n",
       " 'blockHash': '0xc6a2b22340f3c2756027f1926f731d1eaa78ed6c65653e92e85f58e7ee2d2b66',\n",
       " 'txIndex': 1,\n",
       " 'to': 'hx49c8a4c31e84b9abe7f8c8395eb7133b2151aeae',\n",
       " 'stepUsed': 100000,\n",
       " 'stepPrice': 10000000000,\n",
       " 'cumulativeStepUsed': 100000,\n",
       " 'eventLogs': [],\n",
       " 'logsBloom': b'\\x00\\x00\\x00\\x00\\x00\\x00\\x00\\x00\\x00\\x00\\x00\\x00\\x00\\x00\\x00\\x00\\x00\\x00\\x00\\x00\\x00\\x00\\x00\\x00\\x00\\x00\\x00\\x00\\x00\\x00\\x00\\x00\\x00\\x00\\x00\\x00\\x00\\x00\\x00\\x00\\x00\\x00\\x00\\x00\\x00\\x00\\x00\\x00\\x00\\x00\\x00\\x00\\x00\\x00\\x00\\x00\\x00\\x00\\x00\\x00\\x00\\x00\\x00\\x00\\x00\\x00\\x00\\x00\\x00\\x00\\x00\\x00\\x00\\x00\\x00\\x00\\x00\\x00\\x00\\x00\\x00\\x00\\x00\\x00\\x00\\x00\\x00\\x00\\x00\\x00\\x00\\x00\\x00\\x00\\x00\\x00\\x00\\x00\\x00\\x00\\x00\\x00\\x00\\x00\\x00\\x00\\x00\\x00\\x00\\x00\\x00\\x00\\x00\\x00\\x00\\x00\\x00\\x00\\x00\\x00\\x00\\x00\\x00\\x00\\x00\\x00\\x00\\x00\\x00\\x00\\x00\\x00\\x00\\x00\\x00\\x00\\x00\\x00\\x00\\x00\\x00\\x00\\x00\\x00\\x00\\x00\\x00\\x00\\x00\\x00\\x00\\x00\\x00\\x00\\x00\\x00\\x00\\x00\\x00\\x00\\x00\\x00\\x00\\x00\\x00\\x00\\x00\\x00\\x00\\x00\\x00\\x00\\x00\\x00\\x00\\x00\\x00\\x00\\x00\\x00\\x00\\x00\\x00\\x00\\x00\\x00\\x00\\x00\\x00\\x00\\x00\\x00\\x00\\x00\\x00\\x00\\x00\\x00\\x00\\x00\\x00\\x00\\x00\\x00\\x00\\x00\\x00\\x00\\x00\\x00\\x00\\x00\\x00\\x00\\x00\\x00\\x00\\x00\\x00\\x00\\x00\\x00\\x00\\x00\\x00\\x00\\x00\\x00\\x00\\x00\\x00\\x00\\x00\\x00\\x00\\x00\\x00\\x00\\x00\\x00\\x00\\x00\\x00\\x00\\x00\\x00\\x00\\x00\\x00\\x00\\x00\\x00\\x00\\x00\\x00\\x00',\n",
       " 'status': 1}"
      ]
     },
     "execution_count": 17,
     "metadata": {},
     "output_type": "execute_result"
    }
   ],
   "source": [
    "transaction = TransactionBuilder()\\\n",
    "    .from_(deployer_wallet.get_address())\\\n",
    "    .to(\"hx49c8a4c31e84b9abe7f8c8395eb7133b2151aeae\")\\\n",
    "    .nid(3) \\\n",
    "    .nonce(100) \\\n",
    "    .value(1000000*10**18)\\\n",
    "    .build()\n",
    "\n",
    "estimate_step = icon_service.estimate_step(transaction)\n",
    "step_limit = estimate_step + 100000\n",
    "# Returns the signed transaction object having a signature\n",
    "signed_transaction = SignedTransaction(transaction, deployer_wallet,step_limit)\n",
    "\n",
    "\n",
    "# Sends the transaction\n",
    "tx_hash = icon_service.send_transaction(signed_transaction)\n",
    "\n",
    "get_tx_result(tx_hash)"
   ]
  },
  {
   "cell_type": "code",
   "execution_count": 25,
   "metadata": {},
   "outputs": [
    {
     "name": "stderr",
     "output_type": "stream",
     "text": [
      "Raised JSONRPCException while returning the custom response. Error message: {'code': -32602, 'message': 'Pending transaction'}\n",
      "{'code': -32602, 'message': 'Pending transaction'} (Json rpc error), Retrying in 1 seconds...\n"
     ]
    },
    {
     "data": {
      "text/plain": [
       "{'txHash': '0x2e044c431b4da18bd8d57bb81662e176a9e0c35d0258d0f8fdd9e064801d6738',\n",
       " 'blockHeight': 10244800,\n",
       " 'blockHash': '0x136d86ac10f8ae06e8b9c76f13b9074e34011902bbfe20314ac21d4215a77af9',\n",
       " 'txIndex': 1,\n",
       " 'to': 'cx93119bb51b7885b502293882004bbc5dc74e8215',\n",
       " 'stepUsed': 142400,\n",
       " 'stepPrice': 10000000000,\n",
       " 'cumulativeStepUsed': 142400,\n",
       " 'eventLogs': [],\n",
       " 'logsBloom': b'\\x00\\x00\\x00\\x00\\x00\\x00\\x00\\x00\\x00\\x00\\x00\\x00\\x00\\x00\\x00\\x00\\x00\\x00\\x00\\x00\\x00\\x00\\x00\\x00\\x00\\x00\\x00\\x00\\x00\\x00\\x00\\x00\\x00\\x00\\x00\\x00\\x00\\x00\\x00\\x00\\x00\\x00\\x00\\x00\\x00\\x00\\x00\\x00\\x00\\x00\\x00\\x00\\x00\\x00\\x00\\x00\\x00\\x00\\x00\\x00\\x00\\x00\\x00\\x00\\x00\\x00\\x00\\x00\\x00\\x00\\x00\\x00\\x00\\x00\\x00\\x00\\x00\\x00\\x00\\x00\\x00\\x00\\x00\\x00\\x00\\x00\\x00\\x00\\x00\\x00\\x00\\x00\\x00\\x00\\x00\\x00\\x00\\x00\\x00\\x00\\x00\\x00\\x00\\x00\\x00\\x00\\x00\\x00\\x00\\x00\\x00\\x00\\x00\\x00\\x00\\x00\\x00\\x00\\x00\\x00\\x00\\x00\\x00\\x00\\x00\\x00\\x00\\x00\\x00\\x00\\x00\\x00\\x00\\x00\\x00\\x00\\x00\\x00\\x00\\x00\\x00\\x00\\x00\\x00\\x00\\x00\\x00\\x00\\x00\\x00\\x00\\x00\\x00\\x00\\x00\\x00\\x00\\x00\\x00\\x00\\x00\\x00\\x00\\x00\\x00\\x00\\x00\\x00\\x00\\x00\\x00\\x00\\x00\\x00\\x00\\x00\\x00\\x00\\x00\\x00\\x00\\x00\\x00\\x00\\x00\\x00\\x00\\x00\\x00\\x00\\x00\\x00\\x00\\x00\\x00\\x00\\x00\\x00\\x00\\x00\\x00\\x00\\x00\\x00\\x00\\x00\\x00\\x00\\x00\\x00\\x00\\x00\\x00\\x00\\x00\\x00\\x00\\x00\\x00\\x00\\x00\\x00\\x00\\x00\\x00\\x00\\x00\\x00\\x00\\x00\\x00\\x00\\x00\\x00\\x00\\x00\\x00\\x00\\x00\\x00\\x00\\x00\\x00\\x00\\x00\\x00\\x00\\x00\\x00\\x00\\x00\\x00\\x00\\x00\\x00\\x00',\n",
       " 'status': 1}"
      ]
     },
     "execution_count": 25,
     "metadata": {},
     "output_type": "execute_result"
    }
   ],
   "source": [
    "params = {\"_owner\":\"hx91bf040426f226b3bfcd2f0b5967bbb0320525ce\"}\n",
    "transaction = CallTransactionBuilder()\\\n",
    "    .from_(deployer_wallet.get_address())\\\n",
    "    .to(contracts['sample_token'])\\\n",
    "    .value(0)\\\n",
    "    .step_limit(10000000)\\\n",
    "    .nid(3)\\\n",
    "    .nonce(100)\\\n",
    "    .method(\"balanceOf\")\\\n",
    "    .params(params)\\\n",
    "    .build()\n",
    "signed_transaction = SignedTransaction(transaction, deployer_wallet)\n",
    "tx_hash = icon_service.send_transaction(signed_transaction)\n",
    "get_tx_result(tx_hash)"
   ]
  },
  {
   "cell_type": "code",
   "execution_count": 12,
   "metadata": {
    "tags": []
   },
   "outputs": [
    {
     "name": "stdout",
     "output_type": "stream",
     "text": [
      "{'addressProvider': 'cx797bc63e7b27758816910cb35f0fa1f546b57c33',\n",
      " 'daoFund': 'cxb2e669fbb8b94f2a4525345f22e466933b8d2075',\n",
      " 'delegation': 'cx24e32367425660a67c91d6e3c1077914df4e0286',\n",
      " 'feeProvider': 'cxd55f27870c9b219272ea4fc31d5d7ec8dc78a97e',\n",
      " 'governance': 'cx672132f49f0ef02969cc6b223613206e46ff34b1',\n",
      " 'iusdc': 'cx65f639254090820361da483df233f6d0e69af9b7',\n",
      " 'lendingPool': 'cx0be0870a036ef7a08997bd12e1cd0bfed2dd5d85',\n",
      " 'lendingPoolCore': 'cx2d844c9613b5f864f5dace7fed82997c4c62ef01',\n",
      " 'lendingPoolDataProvider': 'cx88ae036091243916d87cbc3b11f39e317dcd46ad',\n",
      " 'liquidationManager': 'cx21b6ee09cd144b2a778bdcf69a46ef2cf898ff1c',\n",
      " 'oICX': 'cx9dfe6300788178da4ac43e7eb7114380f5addc69',\n",
      " 'oIUSDC': 'cx5bdb716d9d5531927f9cab4dfd26937a595ad52c',\n",
      " 'oToken': 'cxf3e8b176a276a1d6bde232638656ed835f5cb058',\n",
      " 'oUSDb': 'cxa15c0e87237dfb3c7818078f34d371398b46fe29',\n",
      " 'ommToken': 'cxa96491850d5dd69efa5d64afa9138fd4a66cd348',\n",
      " 'priceOracle': 'cxe76fd817fae3b485ae6e4fea2cf88d050d379b63',\n",
      " 'rewards': 'cx3e9b334a82529797818ca824cc58c51b52a26087',\n",
      " 'sample_token': 'cxc88e39248bf428d3ab0b9c9fbafef9ff423c3a75',\n",
      " 'sicx': 'cxb7eda227d9ed9c6fc2a74aa5dd7e9a3913f6c281',\n",
      " 'snapshot': 'cx584f740fedab472057bd8ee6e32d97b9b0a05b9d',\n",
      " 'staking': 'cxadd9557a07d4aab925dd04b7a6da4ea1d67bef9c',\n",
      " 'usdb': 'cxaa068556df80f9917ef146e889f0b2c4b13ab634',\n",
      " 'worker_token': 'cxd4e8a5dd852439ccdec73a2b4cd973148f09775d'}\n"
     ]
    }
   ],
   "source": [
    "pprint(contracts)"
   ]
  },
  {
   "cell_type": "markdown",
   "metadata": {
    "tags": []
   },
   "source": [
    "# Updating a contract"
   ]
  },
  {
   "cell_type": "code",
   "execution_count": 58,
   "metadata": {
    "slideshow": {
     "slide_type": "-"
    },
    "tags": []
   },
   "outputs": [
    {
     "name": "stdout",
     "output_type": "stream",
     "text": [
      "update ommToken cxa96491850d5dd69efa5d64afa9138fd4a66cd348\n",
      "Raised JSONRPCException while returning the custom response. Error message: {'code': -32602, 'message': 'Pending transaction'}\n",
      "{'code': -32602, 'message': 'Pending transaction'} (Json rpc error), Retrying in 1 seconds...\n"
     ]
    },
    {
     "data": {
      "text/plain": [
       "{'txHash': '0x54caadbb819efd425e144aa68380360c2bde0b300a279470a9af7f44034f143f',\n",
       " 'blockHeight': 14379618,\n",
       " 'blockHash': '0x506abb3e84707fe4cae1cc02ef7cc1a3e1b502099f5522d23186c2da6a335bf3',\n",
       " 'txIndex': 1,\n",
       " 'to': 'cxa96491850d5dd69efa5d64afa9138fd4a66cd348',\n",
       " 'scoreAddress': 'cxa96491850d5dd69efa5d64afa9138fd4a66cd348',\n",
       " 'stepUsed': 1794274400,\n",
       " 'stepPrice': 10000000000,\n",
       " 'cumulativeStepUsed': 1794274400,\n",
       " 'eventLogs': [],\n",
       " 'logsBloom': b'\\x00\\x00\\x00\\x00\\x00\\x00\\x00\\x00\\x00\\x00\\x00\\x00\\x00\\x00\\x00\\x00\\x00\\x00\\x00\\x00\\x00\\x00\\x00\\x00\\x00\\x00\\x00\\x00\\x00\\x00\\x00\\x00\\x00\\x00\\x00\\x00\\x00\\x00\\x00\\x00\\x00\\x00\\x00\\x00\\x00\\x00\\x00\\x00\\x00\\x00\\x00\\x00\\x00\\x00\\x00\\x00\\x00\\x00\\x00\\x00\\x00\\x00\\x00\\x00\\x00\\x00\\x00\\x00\\x00\\x00\\x00\\x00\\x00\\x00\\x00\\x00\\x00\\x00\\x00\\x00\\x00\\x00\\x00\\x00\\x00\\x00\\x00\\x00\\x00\\x00\\x00\\x00\\x00\\x00\\x00\\x00\\x00\\x00\\x00\\x00\\x00\\x00\\x00\\x00\\x00\\x00\\x00\\x00\\x00\\x00\\x00\\x00\\x00\\x00\\x00\\x00\\x00\\x00\\x00\\x00\\x00\\x00\\x00\\x00\\x00\\x00\\x00\\x00\\x00\\x00\\x00\\x00\\x00\\x00\\x00\\x00\\x00\\x00\\x00\\x00\\x00\\x00\\x00\\x00\\x00\\x00\\x00\\x00\\x00\\x00\\x00\\x00\\x00\\x00\\x00\\x00\\x00\\x00\\x00\\x00\\x00\\x00\\x00\\x00\\x00\\x00\\x00\\x00\\x00\\x00\\x00\\x00\\x00\\x00\\x00\\x00\\x00\\x00\\x00\\x00\\x00\\x00\\x00\\x00\\x00\\x00\\x00\\x00\\x00\\x00\\x00\\x00\\x00\\x00\\x00\\x00\\x00\\x00\\x00\\x00\\x00\\x00\\x00\\x00\\x00\\x00\\x00\\x00\\x00\\x00\\x00\\x00\\x00\\x00\\x00\\x00\\x00\\x00\\x00\\x00\\x00\\x00\\x00\\x00\\x00\\x00\\x00\\x00\\x00\\x00\\x00\\x00\\x00\\x00\\x00\\x00\\x00\\x00\\x00\\x00\\x00\\x00\\x00\\x00\\x00\\x00\\x00\\x00\\x00\\x00\\x00\\x00\\x00\\x00\\x00\\x00',\n",
       " 'status': 1}"
      ]
     },
     "execution_count": 58,
     "metadata": {},
     "output_type": "execute_result"
    }
   ],
   "source": [
    "#deploy = ['addressProvider', 'feeProvider', 'lendingPool', 'lendingPoolCore', 'lendingPoolDataProvider','oToken','priceOracle','sample_token', 'sicx', 'oICX', 'liquidationManager']\n",
    "#for contract_ in deploy:\n",
    "\n",
    "\n",
    "contract_ = 'ommToken'\n",
    "if contract_ == 'oICX':\n",
    "    update = contracts['oICX']\n",
    "    contract_ = 'oToken' \n",
    "elif contract_ == 'oUSDb':\n",
    "    update = contracts['oUSDb']\n",
    "    contract_ = 'oToken'\n",
    "elif contract_ == 'oIUSDC':\n",
    "    update = contracts['oIUSDC']\n",
    "    contract_ = 'oToken' \n",
    "else:\n",
    "    update = contracts[contract_]\n",
    "#update = contracts[contract_]\n",
    "print('update',contract_, update)\n",
    "\n",
    "deploy_transaction = DeployTransactionBuilder()\\\n",
    "    .from_(deployer_wallet.get_address())\\\n",
    "    .to(update)\\\n",
    "    .nid(NID)\\\n",
    "    .nonce(100)\\\n",
    "    .content_type(\"application/zip\")\\\n",
    "    .content(gen_deploy_data_content(contract_))\\\n",
    "    .build()\n",
    "\n",
    "step_limit = icon_service.estimate_step(deploy_transaction) + 100000\n",
    "\n",
    "signed_transaction = SignedTransaction(deploy_transaction, deployer_wallet, step_limit)\n",
    "tx_hash = icon_service.send_transaction(signed_transaction)\n",
    "\n",
    "get_tx_result(tx_hash)\n"
   ]
  },
  {
   "cell_type": "code",
   "execution_count": 59,
   "metadata": {
    "tags": []
   },
   "outputs": [
    {
     "name": "stdout",
     "output_type": "stream",
     "text": [
      "{'addressProvider': 'cx797bc63e7b27758816910cb35f0fa1f546b57c33',\n",
      " 'daoFund': 'cxb2e669fbb8b94f2a4525345f22e466933b8d2075',\n",
      " 'delegation': 'cx24e32367425660a67c91d6e3c1077914df4e0286',\n",
      " 'feeProvider': 'cxd55f27870c9b219272ea4fc31d5d7ec8dc78a97e',\n",
      " 'governance': 'cx672132f49f0ef02969cc6b223613206e46ff34b1',\n",
      " 'iusdc': 'cx65f639254090820361da483df233f6d0e69af9b7',\n",
      " 'lendingPool': 'cx0be0870a036ef7a08997bd12e1cd0bfed2dd5d85',\n",
      " 'lendingPoolCore': 'cx2d844c9613b5f864f5dace7fed82997c4c62ef01',\n",
      " 'lendingPoolDataProvider': 'cx88ae036091243916d87cbc3b11f39e317dcd46ad',\n",
      " 'liquidationManager': 'cx21b6ee09cd144b2a778bdcf69a46ef2cf898ff1c',\n",
      " 'oICX': 'cx9dfe6300788178da4ac43e7eb7114380f5addc69',\n",
      " 'oIUSDC': 'cx5bdb716d9d5531927f9cab4dfd26937a595ad52c',\n",
      " 'oToken': 'cxf3e8b176a276a1d6bde232638656ed835f5cb058',\n",
      " 'oUSDb': 'cxa15c0e87237dfb3c7818078f34d371398b46fe29',\n",
      " 'ommToken': 'cxa96491850d5dd69efa5d64afa9138fd4a66cd348',\n",
      " 'priceOracle': 'cxe76fd817fae3b485ae6e4fea2cf88d050d379b63',\n",
      " 'rewards': 'cx3e9b334a82529797818ca824cc58c51b52a26087',\n",
      " 'sample_token': 'cxc88e39248bf428d3ab0b9c9fbafef9ff423c3a75',\n",
      " 'sicx': 'cxb7eda227d9ed9c6fc2a74aa5dd7e9a3913f6c281',\n",
      " 'snapshot': 'cx584f740fedab472057bd8ee6e32d97b9b0a05b9d',\n",
      " 'staking': 'cxadd9557a07d4aab925dd04b7a6da4ea1d67bef9c',\n",
      " 'usdb': 'cxaa068556df80f9917ef146e889f0b2c4b13ab634',\n",
      " 'worker_token': 'cxd4e8a5dd852439ccdec73a2b4cd973148f09775d'}\n"
     ]
    }
   ],
   "source": [
    "pprint(contracts)"
   ]
  },
  {
   "cell_type": "code",
   "execution_count": 53,
   "metadata": {
    "tags": []
   },
   "outputs": [
    {
     "name": "stdout",
     "output_type": "stream",
     "text": [
      "100.0\n"
     ]
    }
   ],
   "source": [
    "print(int(\"0x56bc75e2d63100000\",0)/10**18)"
   ]
  },
  {
   "cell_type": "code",
   "execution_count": 54,
   "metadata": {
    "tags": []
   },
   "outputs": [
    {
     "name": "stderr",
     "output_type": "stream",
     "text": [
      "Raised JSONRPCException while returning the custom response. Error message: {'code': -32602, 'message': 'Pending transaction'}\n",
      "{'code': -32602, 'message': 'Pending transaction'} (Json rpc error), Retrying in 1 seconds...\n"
     ]
    },
    {
     "data": {
      "text/plain": [
       "{'txHash': '0x451879e53693836eb082a4f5950abe17da959c51c4c629f2e91a658285b225ef',\n",
       " 'blockHeight': 14314758,\n",
       " 'blockHash': '0x2e4482cd6130d4199a3d71c40b8e65fd8ef86bace447d18ea72c4e69b34f6e50',\n",
       " 'txIndex': 1,\n",
       " 'to': 'cxa96491850d5dd69efa5d64afa9138fd4a66cd348',\n",
       " 'stepUsed': 148040,\n",
       " 'stepPrice': 10000000000,\n",
       " 'cumulativeStepUsed': 148040,\n",
       " 'eventLogs': [],\n",
       " 'logsBloom': b'\\x00\\x00\\x00\\x00\\x00\\x00\\x00\\x00\\x00\\x00\\x00\\x00\\x00\\x00\\x00\\x00\\x00\\x00\\x00\\x00\\x00\\x00\\x00\\x00\\x00\\x00\\x00\\x00\\x00\\x00\\x00\\x00\\x00\\x00\\x00\\x00\\x00\\x00\\x00\\x00\\x00\\x00\\x00\\x00\\x00\\x00\\x00\\x00\\x00\\x00\\x00\\x00\\x00\\x00\\x00\\x00\\x00\\x00\\x00\\x00\\x00\\x00\\x00\\x00\\x00\\x00\\x00\\x00\\x00\\x00\\x00\\x00\\x00\\x00\\x00\\x00\\x00\\x00\\x00\\x00\\x00\\x00\\x00\\x00\\x00\\x00\\x00\\x00\\x00\\x00\\x00\\x00\\x00\\x00\\x00\\x00\\x00\\x00\\x00\\x00\\x00\\x00\\x00\\x00\\x00\\x00\\x00\\x00\\x00\\x00\\x00\\x00\\x00\\x00\\x00\\x00\\x00\\x00\\x00\\x00\\x00\\x00\\x00\\x00\\x00\\x00\\x00\\x00\\x00\\x00\\x00\\x00\\x00\\x00\\x00\\x00\\x00\\x00\\x00\\x00\\x00\\x00\\x00\\x00\\x00\\x00\\x00\\x00\\x00\\x00\\x00\\x00\\x00\\x00\\x00\\x00\\x00\\x00\\x00\\x00\\x00\\x00\\x00\\x00\\x00\\x00\\x00\\x00\\x00\\x00\\x00\\x00\\x00\\x00\\x00\\x00\\x00\\x00\\x00\\x00\\x00\\x00\\x00\\x00\\x00\\x00\\x00\\x00\\x00\\x00\\x00\\x00\\x00\\x00\\x00\\x00\\x00\\x00\\x00\\x00\\x00\\x00\\x00\\x00\\x00\\x00\\x00\\x00\\x00\\x00\\x00\\x00\\x00\\x00\\x00\\x00\\x00\\x00\\x00\\x00\\x00\\x00\\x00\\x00\\x00\\x00\\x00\\x00\\x00\\x00\\x00\\x00\\x00\\x00\\x00\\x00\\x00\\x00\\x00\\x00\\x00\\x00\\x00\\x00\\x00\\x00\\x00\\x00\\x00\\x00\\x00\\x00\\x00\\x00\\x00\\x00',\n",
       " 'status': 1}"
      ]
     },
     "execution_count": 54,
     "metadata": {},
     "output_type": "execute_result"
    }
   ],
   "source": [
    "params = {\"_value\": 150 * 10 ** 18}\n",
    "call_transaction = CallTransactionBuilder() \\\n",
    "    .from_(deployer_wallet.get_address()) \\\n",
    "    .to(contracts['ommToken']) \\\n",
    "    .nid(3) \\\n",
    "    .step_limit(1000000000) \\\n",
    "    .nonce(100) \\\n",
    "    .method(\"stake\") \\\n",
    "    .params(params) \\\n",
    "    .build() \n",
    "\n",
    "signed_transaction = SignedTransaction(call_transaction, deployer_wallet)\n",
    "tx_hash = icon_service.send_transaction(signed_transaction)\n",
    "get_tx_result(tx_hash)\n"
   ]
  },
  {
   "cell_type": "markdown",
   "metadata": {},
   "source": [
    "## Depositing USDb from a wallet"
   ]
  },
  {
   "cell_type": "code",
   "execution_count": 109,
   "metadata": {
    "tags": []
   },
   "outputs": [
    {
     "data": {
      "text/plain": [
       "{'txHash': '0xd61dd328e5dfa251632609893233dd383a15c76e680cf0b5f4d8751867e6340a',\n",
       " 'blockHeight': 1353677,\n",
       " 'blockHash': '0xa0b52c7c33c17a11f4d114baab6c9a18c87e500fd8e375cdaa00395c2b8aba9c',\n",
       " 'txIndex': 1,\n",
       " 'to': 'cxf27f51fe6a092437fd54c5f74983391515dfec2d',\n",
       " 'stepUsed': 751720,\n",
       " 'stepPrice': 10000000000,\n",
       " 'cumulativeStepUsed': 751720,\n",
       " 'eventLogs': [{'scoreAddress': 'cx6146eab7f96fa77400d4c9e9884f0ddc65e01855',\n",
       "   'indexed': ['PrintData(str,int,int,int)',\n",
       "    'params check core line 408',\n",
       "    '0x3635c9adc5dea00000',\n",
       "    '0x0'],\n",
       "   'data': ['0x0']},\n",
       "  {'scoreAddress': 'cx6146eab7f96fa77400d4c9e9884f0ddc65e01855',\n",
       "   'indexed': ['PrintData(str,int,int,int)',\n",
       "    'rate value core line 412',\n",
       "    '0x0',\n",
       "    '0x2386f26fc10000'],\n",
       "   'data': ['0x0']},\n",
       "  {'scoreAddress': 'cx6146eab7f96fa77400d4c9e9884f0ddc65e01855',\n",
       "   'indexed': ['ReserveUpdated(Address,int,int,int,int)',\n",
       "    'cxf27f51fe6a092437fd54c5f74983391515dfec2d',\n",
       "    '0x0',\n",
       "    '0x2386f26fc10000'],\n",
       "   'data': ['0xde0b6b3a7640000', '0xde0b6b3a7640000']},\n",
       "  {'scoreAddress': 'cxc3011b3da8a3df88e9411efefe1207c6d3471e65',\n",
       "   'indexed': ['Mint(Address,int)',\n",
       "    'hx91bf040426f226b3bfcd2f0b5967bbb0320525ce'],\n",
       "   'data': ['0x0']},\n",
       "  {'scoreAddress': 'cxc3011b3da8a3df88e9411efefe1207c6d3471e65',\n",
       "   'indexed': ['Mint(Address,int)',\n",
       "    'hx91bf040426f226b3bfcd2f0b5967bbb0320525ce'],\n",
       "   'data': ['0x3635c9adc5dea00000']},\n",
       "  {'scoreAddress': 'cxc3011b3da8a3df88e9411efefe1207c6d3471e65',\n",
       "   'indexed': ['MintOnDeposit(Address,int,int,int)',\n",
       "    'hx91bf040426f226b3bfcd2f0b5967bbb0320525ce',\n",
       "    '0x3635c9adc5dea00000',\n",
       "    '0x0'],\n",
       "   'data': ['0xde0b6b3a7640000']},\n",
       "  {'scoreAddress': 'cxf27f51fe6a092437fd54c5f74983391515dfec2d',\n",
       "   'indexed': ['Transfer(Address,Address,int,bytes)',\n",
       "    'cx43184421f5f5743ae5435f59f12720e5b6c9a2c1',\n",
       "    'cx6146eab7f96fa77400d4c9e9884f0ddc65e01855',\n",
       "    '0x3635c9adc5dea00000'],\n",
       "   'data': ['0x4e6f6e65']},\n",
       "  {'scoreAddress': 'cx43184421f5f5743ae5435f59f12720e5b6c9a2c1',\n",
       "   'indexed': ['Deposit(Address,Address,int,int)',\n",
       "    'cxf27f51fe6a092437fd54c5f74983391515dfec2d',\n",
       "    'hx91bf040426f226b3bfcd2f0b5967bbb0320525ce',\n",
       "    '0x3635c9adc5dea00000'],\n",
       "   'data': ['0x5b553bcdb6c3f']},\n",
       "  {'scoreAddress': 'cxf27f51fe6a092437fd54c5f74983391515dfec2d',\n",
       "   'indexed': ['Transfer(Address,Address,int,bytes)',\n",
       "    'hx91bf040426f226b3bfcd2f0b5967bbb0320525ce',\n",
       "    'cx43184421f5f5743ae5435f59f12720e5b6c9a2c1',\n",
       "    '0x3635c9adc5dea00000'],\n",
       "   'data': ['0x7b226d6574686f64223a20226465706f736974222c2022706172616d73223a207b22616d6f756e74223a20313030303030303030303030303030303030303030307d7d']}],\n",
       " 'logsBloom': b'\\x00\\x00\\x00 \\x00\\x00\\x000\\x00\\x00\\x00  \\x00\\x00\\x00\\x00\\x00\\x00\\x00\\x00\\x00\\x00\\x00\\x00\\x00\\x00\\x00\\x00\\x00@\\x00\\x10\\x00\\x00\\x00\\x01@\\x13\\x01\\x00\\x00\\x00\\x00\\x00\\x00\\x00\\x00\\x80\\x00\\x01\\x80\\x00@\\x00\\x00\\x00\\x00\\x00\\x80\\x00\\x00\\x80\\x80\\x08\\x00\\x02\\x00\\x00\\x00 \\x04\\x01\\x00\\x00\\x10\\x00\\x01\\x00\\x00\\x00\\x02\\x00\\x00\\x00\\x00\\x00\\x10\\x00\\x00\\x00\\x00\\x00\\x00\\x00\\x00\\x80 \\x00 @\\x00\\x10\\x00\\x00\\x00\\x00\\x00\\x00\\x00@\\x00\\x00\\x00\\x00\\n\\x00\\x00\\x00\\x00\\x00\\x00\\x00\\x00\\x00\\x00\\x00\\x00\\x00\\x00\\x000\\x00\\x00\\x00\\x00\\x00\\x00\\x00 \\x00\\x04\\x00\\x00\\x00\\x00\\x01\\x02\\x00\\x00\\x00\\x00 \\x00\\x00\\x00\\x00\\x10\\x00\\x10\\x00\\x00\\x00\\x00B \\x02\\x00\\x00\\x00\\x00\\x00\\x00\\x00@\\x00\\x00\\x00\\x00\\x00\\x00\\x00\\x00\\x80\\x00\\x00\\x00\\x00\\x00\\x16\\x00\\x00\\x00\\x00\\x00\\x00\\x00\\x00\\x00\\x00\\x00\\x00\\x00\\x02\\x00\\x00\\x00@\\x00\\x00\\x08\\x00\\x00\\x03\\x00\\x08\\x00\\x00\\x00\\x00\\x00\\x00\\x00\\x00\\x80\\x00\\x00\\x00\\x00\\x00\\x01\\x00\\x00\\x00\\x00\\x02\\x00\\x00\\x01\\x00\\x00\\x00\\x00\\x00 \\x00\\x00\\x10\\x80\\x00\\x00\\x00\\x00\\x00\\x00\\x00',\n",
       " 'status': 1}"
      ]
     },
     "execution_count": 109,
     "metadata": {},
     "output_type": "execute_result"
    }
   ],
   "source": [
    "data = \"{\\\"method\\\": \\\"deposit\\\", \\\"params\\\": {\\\"amount\\\": 1000000000000000000000}}\".encode(\"utf-8\")\n",
    "params = {\"_to\": contracts['lendingPool'], \"_value\": 1000000000000000000000, \"_data\": data}\n",
    "transaction = CallTransactionBuilder()\\\n",
    "    .from_(deployer_wallet.get_address())\\\n",
    "    .to(contracts['sample_token'])\\\n",
    "    .value(0)\\\n",
    "    .step_limit(10000000)\\\n",
    "    .nid(3)\\\n",
    "    .nonce(100)\\\n",
    "    .method(\"transfer\")\\\n",
    "    .params(params)\\\n",
    "    .build()\n",
    "signed_transaction = SignedTransaction(transaction, deployer_wallet)\n",
    "tx_hash = icon_service.send_transaction(signed_transaction)\n",
    "get_tx_result(tx_hash)"
   ]
  },
  {
   "cell_type": "markdown",
   "metadata": {},
   "source": [
    "# Borrowing USDb"
   ]
  },
  {
   "cell_type": "code",
   "execution_count": 36,
   "metadata": {
    "tags": []
   },
   "outputs": [
    {
     "name": "stderr",
     "output_type": "stream",
     "text": [
      "Raised JSONRPCException while returning the custom response. Error message: {'code': -32006, 'message': \"Type mismatch: name=_userData type_hint=<class '01837b298e3e5aae24b7ebcc093f168414c3babcb3.0x62819c6f01b36b7caa2670e22560a4398e0ef7b076961030fb668197d8696362.snapshot.UserSnapshotData'> value_type=<class 'dict'>\"}\n"
     ]
    },
    {
     "ename": "JSONRPCException",
     "evalue": "{'code': -32006, 'message': \"Type mismatch: name=_userData type_hint=<class '01837b298e3e5aae24b7ebcc093f168414c3babcb3.0x62819c6f01b36b7caa2670e22560a4398e0ef7b076961030fb668197d8696362.snapshot.UserSnapshotData'> value_type=<class 'dict'>\"} (Json rpc error)",
     "output_type": "error",
     "traceback": [
      "\u001b[0;31m---------------------------------------------------------------------------\u001b[0m",
      "\u001b[0;31mJSONRPCException\u001b[0m                          Traceback (most recent call last)",
      "\u001b[0;32m<ipython-input-36-339c848e87bc>\u001b[0m in \u001b[0;36m<module>\u001b[0;34m\u001b[0m\n\u001b[1;32m      9\u001b[0m     \u001b[0;34m.\u001b[0m\u001b[0mbuild\u001b[0m\u001b[0;34m(\u001b[0m\u001b[0;34m)\u001b[0m\u001b[0;34m\u001b[0m\u001b[0;34m\u001b[0m\u001b[0m\n\u001b[1;32m     10\u001b[0m \u001b[0;34m\u001b[0m\u001b[0m\n\u001b[0;32m---> 11\u001b[0;31m \u001b[0mestimate_step\u001b[0m \u001b[0;34m=\u001b[0m \u001b[0micon_service\u001b[0m\u001b[0;34m.\u001b[0m\u001b[0mestimate_step\u001b[0m\u001b[0;34m(\u001b[0m\u001b[0mcall_transaction\u001b[0m\u001b[0;34m)\u001b[0m\u001b[0;34m\u001b[0m\u001b[0;34m\u001b[0m\u001b[0m\n\u001b[0m\u001b[1;32m     12\u001b[0m \u001b[0mstep_limit\u001b[0m \u001b[0;34m=\u001b[0m \u001b[0mestimate_step\u001b[0m \u001b[0;34m+\u001b[0m \u001b[0;36m100000\u001b[0m\u001b[0;34m\u001b[0m\u001b[0;34m\u001b[0m\u001b[0m\n\u001b[1;32m     13\u001b[0m \u001b[0;31m# Returns the signed transaction object having a signature\u001b[0m\u001b[0;34m\u001b[0m\u001b[0;34m\u001b[0m\u001b[0;34m\u001b[0m\u001b[0m\n",
      "\u001b[0;32m/usr/local/lib/python3.8/dist-packages/iconsdk/icon_service.py\u001b[0m in \u001b[0;36mestimate_step\u001b[0;34m(self, transaction)\u001b[0m\n\u001b[1;32m    280\u001b[0m             \u001b[0mparams\u001b[0m\u001b[0;34m[\u001b[0m\u001b[0;34m\"data\"\u001b[0m\u001b[0;34m]\u001b[0m \u001b[0;34m=\u001b[0m \u001b[0mtransaction\u001b[0m\u001b[0;34m.\u001b[0m\u001b[0mdata\u001b[0m\u001b[0;34m\u001b[0m\u001b[0;34m\u001b[0m\u001b[0m\n\u001b[1;32m    281\u001b[0m \u001b[0;34m\u001b[0m\u001b[0m\n\u001b[0;32m--> 282\u001b[0;31m         \u001b[0mresult\u001b[0m \u001b[0;34m=\u001b[0m \u001b[0mself\u001b[0m\u001b[0;34m.\u001b[0m\u001b[0m__provider\u001b[0m\u001b[0;34m.\u001b[0m\u001b[0mmake_request\u001b[0m\u001b[0;34m(\u001b[0m\u001b[0;34m'debug_estimateStep'\u001b[0m\u001b[0;34m,\u001b[0m \u001b[0mparams\u001b[0m\u001b[0;34m)\u001b[0m\u001b[0;34m\u001b[0m\u001b[0;34m\u001b[0m\u001b[0m\n\u001b[0m\u001b[1;32m    283\u001b[0m         \u001b[0;32mreturn\u001b[0m \u001b[0mint\u001b[0m\u001b[0;34m(\u001b[0m\u001b[0mresult\u001b[0m\u001b[0;34m,\u001b[0m \u001b[0;36m16\u001b[0m\u001b[0;34m)\u001b[0m\u001b[0;34m\u001b[0m\u001b[0;34m\u001b[0m\u001b[0m\n",
      "\u001b[0;32m/usr/local/lib/python3.8/dist-packages/iconsdk/providers/http_provider.py\u001b[0m in \u001b[0;36mmake_request\u001b[0;34m(self, method, params, full_response)\u001b[0m\n\u001b[1;32m    127\u001b[0m         \u001b[0mfull_path_url\u001b[0m \u001b[0;34m=\u001b[0m \u001b[0mself\u001b[0m\u001b[0;34m.\u001b[0m\u001b[0m_full_path_url\u001b[0m \u001b[0;32mif\u001b[0m \u001b[0mself\u001b[0m\u001b[0;34m.\u001b[0m\u001b[0m_full_path_url\u001b[0m \u001b[0;32melse\u001b[0m \u001b[0mself\u001b[0m\u001b[0;34m.\u001b[0m\u001b[0m_get_full_path_url\u001b[0m\u001b[0;34m(\u001b[0m\u001b[0mmethod\u001b[0m\u001b[0;34m)\u001b[0m\u001b[0;34m\u001b[0m\u001b[0;34m\u001b[0m\u001b[0m\n\u001b[1;32m    128\u001b[0m         \u001b[0mresponse\u001b[0m \u001b[0;34m=\u001b[0m \u001b[0mself\u001b[0m\u001b[0;34m.\u001b[0m\u001b[0m_make_post_request\u001b[0m\u001b[0;34m(\u001b[0m\u001b[0mfull_path_url\u001b[0m\u001b[0;34m,\u001b[0m \u001b[0mrpc_dict\u001b[0m\u001b[0;34m,\u001b[0m \u001b[0;34m**\u001b[0m\u001b[0mself\u001b[0m\u001b[0;34m.\u001b[0m\u001b[0m_get_request_kwargs\u001b[0m\u001b[0;34m(\u001b[0m\u001b[0;34m)\u001b[0m\u001b[0;34m)\u001b[0m\u001b[0;34m\u001b[0m\u001b[0;34m\u001b[0m\u001b[0m\n\u001b[0;32m--> 129\u001b[0;31m         \u001b[0mcustom_response\u001b[0m \u001b[0;34m=\u001b[0m \u001b[0mself\u001b[0m\u001b[0;34m.\u001b[0m\u001b[0m_return_custom_response\u001b[0m\u001b[0;34m(\u001b[0m\u001b[0mresponse\u001b[0m\u001b[0;34m,\u001b[0m \u001b[0mfull_response\u001b[0m\u001b[0;34m)\u001b[0m\u001b[0;34m\u001b[0m\u001b[0;34m\u001b[0m\u001b[0m\n\u001b[0m\u001b[1;32m    130\u001b[0m \u001b[0;34m\u001b[0m\u001b[0m\n\u001b[1;32m    131\u001b[0m         \u001b[0mlogger\u001b[0m\u001b[0;34m.\u001b[0m\u001b[0mdebug\u001b[0m\u001b[0;34m(\u001b[0m\u001b[0;34mf\"Request: {rpc_dict}\"\u001b[0m\u001b[0;34m)\u001b[0m\u001b[0;34m\u001b[0m\u001b[0;34m\u001b[0m\u001b[0m\n",
      "\u001b[0;32m/usr/local/lib/python3.8/dist-packages/iconsdk/providers/http_provider.py\u001b[0m in \u001b[0;36m_return_custom_response\u001b[0;34m(response, full_response)\u001b[0m\n\u001b[1;32m    152\u001b[0m                 logger.error(f\"Raised JSONRPCException while returning the custom response. \"\n\u001b[1;32m    153\u001b[0m                              f\"Error message: {content_as_dict['error']}\")\n\u001b[0;32m--> 154\u001b[0;31m                 \u001b[0;32mraise\u001b[0m \u001b[0mJSONRPCException\u001b[0m\u001b[0;34m(\u001b[0m\u001b[0mcontent_as_dict\u001b[0m\u001b[0;34m[\u001b[0m\u001b[0;34m\"error\"\u001b[0m\u001b[0;34m]\u001b[0m\u001b[0;34m)\u001b[0m\u001b[0;34m\u001b[0m\u001b[0;34m\u001b[0m\u001b[0m\n\u001b[0m\u001b[1;32m    155\u001b[0m \u001b[0;34m\u001b[0m\u001b[0m\n\u001b[1;32m    156\u001b[0m     \u001b[0;32mdef\u001b[0m \u001b[0mis_connected\u001b[0m\u001b[0;34m(\u001b[0m\u001b[0mself\u001b[0m\u001b[0;34m)\u001b[0m \u001b[0;34m->\u001b[0m \u001b[0mbool\u001b[0m\u001b[0;34m:\u001b[0m\u001b[0;34m\u001b[0m\u001b[0;34m\u001b[0m\u001b[0m\n",
      "\u001b[0;31mJSONRPCException\u001b[0m: {'code': -32006, 'message': \"Type mismatch: name=_userData type_hint=<class '01837b298e3e5aae24b7ebcc093f168414c3babcb3.0x62819c6f01b36b7caa2670e22560a4398e0ef7b076961030fb668197d8696362.snapshot.UserSnapshotData'> value_type=<class 'dict'>\"} (Json rpc error)"
     ]
    }
   ],
   "source": [
    "params ={\"_reserve\": contracts['usdb'], \"_amount\":10*10**18 }\n",
    "call_transaction = CallTransactionBuilder()\\\n",
    "    .from_(deployer_wallet.get_address())\\\n",
    "    .to(contracts['lendingPool']) \\\n",
    "    .nid(NID) \\\n",
    "    .nonce(100) \\\n",
    "    .method(\"borrow\")\\\n",
    "    .params(params)\\\n",
    "    .build()\n",
    "\n",
    "estimate_step = icon_service.estimate_step(call_transaction)\n",
    "step_limit = estimate_step + 100000\n",
    "# Returns the signed transaction object having a signature\n",
    "signed_transaction = SignedTransaction(call_transaction, deployer_wallet,step_limit)\n",
    "\n",
    "# Reads params to transfer to nodes\n",
    "print(signed_transaction.signed_transaction_dict)\n",
    "\n",
    "# Sends the transaction\n",
    "tx_hash = icon_service.send_transaction(signed_transaction)\n",
    "get_tx_result(tx_hash)"
   ]
  },
  {
   "cell_type": "markdown",
   "metadata": {},
   "source": [
    "# Reedeming/Withdrawing USDb"
   ]
  },
  {
   "cell_type": "code",
   "execution_count": 111,
   "metadata": {},
   "outputs": [
    {
     "name": "stdout",
     "output_type": "stream",
     "text": [
      "{'version': '0x3', 'from': 'hx91bf040426f226b3bfcd2f0b5967bbb0320525ce', 'to': 'cxc3011b3da8a3df88e9411efefe1207c6d3471e65', 'stepLimit': '0x143ebc', 'timestamp': '0x5b553bf01f180', 'nid': '0x3', 'nonce': '0x64', 'dataType': 'call', 'data': {'method': 'redeem', 'params': {'_amount': '0x8ac7230489e80000'}}, 'signature': 'A6J8pKu1O6z4b6+yRLpfqwyJ4duW7yxDUyS/z0tw5TRaYflRZ4z98yS881ACeFNCL+V/TjvTpJGOWm35iNIKoQE='}\n",
      "Raised JSONRPCException while returning the custom response. Error message: {'code': -32602, 'message': 'Pending transaction'}\n",
      "{'code': -32602, 'message': 'Pending transaction'} (Json rpc error), Retrying in 1 seconds...\n"
     ]
    },
    {
     "data": {
      "text/plain": [
       "{'txHash': '0x5b0cc66a6ff064bf2ecc8d9d50b0512570308396c11a958925a403a1ec357a5f',\n",
       " 'blockHeight': 1353696,\n",
       " 'blockHash': '0x2a41466d89cd9b869a0500d849a6422bf8e41065b272106100973ce157886430',\n",
       " 'txIndex': 1,\n",
       " 'to': 'cxc3011b3da8a3df88e9411efefe1207c6d3471e65',\n",
       " 'stepUsed': 1226780,\n",
       " 'stepPrice': 10000000000,\n",
       " 'cumulativeStepUsed': 1226780,\n",
       " 'eventLogs': [{'scoreAddress': 'cxc3011b3da8a3df88e9411efefe1207c6d3471e65',\n",
       "   'indexed': ['Mint(Address,int)',\n",
       "    'hx91bf040426f226b3bfcd2f0b5967bbb0320525ce'],\n",
       "   'data': ['0xf97c99928']},\n",
       "  {'scoreAddress': 'cxc3011b3da8a3df88e9411efefe1207c6d3471e65',\n",
       "   'indexed': ['Burn(Address,int)',\n",
       "    'hx91bf040426f226b3bfcd2f0b5967bbb0320525ce'],\n",
       "   'data': ['0x8ac7230489e80000']},\n",
       "  {'scoreAddress': 'cx6146eab7f96fa77400d4c9e9884f0ddc65e01855',\n",
       "   'indexed': ['PrintData(str,int,int,int)',\n",
       "    'params check core line 408',\n",
       "    '0x0',\n",
       "    '0x8ac7230489e80000'],\n",
       "   'data': ['0x0']},\n",
       "  {'scoreAddress': 'cx6146eab7f96fa77400d4c9e9884f0ddc65e01855',\n",
       "   'indexed': ['PrintData(str,int,int,int)',\n",
       "    'rate value core line 412',\n",
       "    '0x583fc53bc5bd',\n",
       "    '0x25eb66bfaef761'],\n",
       "   'data': ['0x0']},\n",
       "  {'scoreAddress': 'cx6146eab7f96fa77400d4c9e9884f0ddc65e01855',\n",
       "   'indexed': ['ReserveUpdated(Address,int,int,int,int)',\n",
       "    'cxf27f51fe6a092437fd54c5f74983391515dfec2d',\n",
       "    '0x583fc53bc5bd',\n",
       "    '0x25eb66bfaef761'],\n",
       "   'data': ['0xde0b6b3ab61e5c9', '0xde0b6b562ec2d65']},\n",
       "  {'scoreAddress': 'cxf27f51fe6a092437fd54c5f74983391515dfec2d',\n",
       "   'indexed': ['Transfer(Address,Address,int,bytes)',\n",
       "    'cx6146eab7f96fa77400d4c9e9884f0ddc65e01855',\n",
       "    'hx91bf040426f226b3bfcd2f0b5967bbb0320525ce',\n",
       "    '0x8ac7230489e80000'],\n",
       "   'data': ['0x4e6f6e65']},\n",
       "  {'scoreAddress': 'cx43184421f5f5743ae5435f59f12720e5b6c9a2c1',\n",
       "   'indexed': ['RedeemUnderlying(Address,Address,int,int)',\n",
       "    'cxf27f51fe6a092437fd54c5f74983391515dfec2d',\n",
       "    'hx91bf040426f226b3bfcd2f0b5967bbb0320525ce',\n",
       "    '0x8ac7230489e80000'],\n",
       "   'data': ['0x5b553bf1ffc5c']},\n",
       "  {'scoreAddress': 'cxc3011b3da8a3df88e9411efefe1207c6d3471e65',\n",
       "   'indexed': ['Redeem(Address,int,int,int)',\n",
       "    'hx91bf040426f226b3bfcd2f0b5967bbb0320525ce',\n",
       "    '0x8ac7230489e80000',\n",
       "    '0xf97c99928'],\n",
       "   'data': ['0xde0b6b3ab61e5c9']}],\n",
       " 'logsBloom': b'\\x00\\x00\\x00 \\x00\\x00\\x000\\x00\\x10\\x00  \\x00\\x00\\x00@\\x00\\x00\\x00\\x00\\x00\\x00\\x00\\x00\\x00\\x00\\x08\\x00\\x00@\\x00\\x10\\x00\\x00\\x00\\x01\\x00\\x03\\x01\\x00\\x00\\x00\\x00\\x00\\x00\\x00\\x00\\x80\\x00 \\x80\\x00\\x00\\x00\\x00\\x80\\x00\\x00\\x80\\x00\\x00\\x80\\x00\\x08\\x00\\x02\\x00\\x00\\x00 \\x08\\x01\\x00\\x00\\x12\\x00\\x01\\x00\\x04\\x00\\x02\\x00\\x00\\x00\\x00\\x00\\x00\\x00\\x00\\x00\\x10\\x00\\x00\\x00\\x00\\x10 \\x00 \\x00\\x00\\x00\\x00\\x00\\x00\\x10\\x80\\x00\\x00@\\x00\\x00\\x00@\\x08\\x00\\x00\\x00\\x00\\x00\\x00\\x10\\x00\\x00\\x00\\x00\\x00\\x00\\x00\\x00\\x10\\x00\\x00\\x00\\x00\\x00\\x00\\x00 \\x00\\x04\\x00\\x01\\x10\\x00\\x01\\x02\\x10\\x00\\x00\\x00 \\x00\\x00\\x00\\x00\\x10\\x04\\x00\\x00\\x00\\x00\\x00\\x02\\x00\\x02\\x00\\x00\\x00\\x02\\x00\\x00\\x00@\\x00\\x00\\x00\\x00\\x00\\x00\\x00\\x00\\x80\\x00\\x00\\x00\\x00\\x00\\x02\\x04\\x00\\x00\\x00\\x00\\x00\\x00\\x00\\x04\\x00\\x00\\x00\\x00\\x00@\\x00\\x00\\x00\\x00\\x01\\x00\\x00\\x00\\x01\\x04\\x08\\x00\\x00\\x00\\x00\\x00\\x00\\x00\\x00\\x80\\x02\\x00\\x00\\x00\\x00\\x10\\x00\\x00\\x00\\x00\\x00\\x00\\x00\\x00\\x00\\x00\\x04\\x00\\x00 \\x00\\x00\\x00\\x00\\x00\\x00\\x00\\x00\\x00\\x00\\x00',\n",
       " 'status': 1}"
      ]
     },
     "execution_count": 111,
     "metadata": {},
     "output_type": "execute_result"
    }
   ],
   "source": [
    "params ={\"_amount\": 10*10**18 }\n",
    "call_transaction = CallTransactionBuilder()\\\n",
    "    .from_(deployer_wallet.get_address())\\\n",
    "    .to(contracts['oToken']) \\\n",
    "    .nid(NID) \\\n",
    "    .nonce(100) \\\n",
    "    .method(\"redeem\")\\\n",
    "    .params(params)\\\n",
    "    .build()\n",
    "\n",
    "estimate_step = icon_service.estimate_step(call_transaction)\n",
    "step_limit = estimate_step + 100000\n",
    "# Returns the signed transaction object having a signature\n",
    "signed_transaction = SignedTransaction(call_transaction, deployer_wallet,step_limit)\n",
    "\n",
    "# Reads params to transfer to nodes\n",
    "print(signed_transaction.signed_transaction_dict)\n",
    "\n",
    "# Sends the transaction\n",
    "tx_hash = icon_service.send_transaction(signed_transaction)\n",
    "get_tx_result(tx_hash)"
   ]
  },
  {
   "cell_type": "markdown",
   "metadata": {},
   "source": [
    "# Repaying USDb"
   ]
  },
  {
   "cell_type": "code",
   "execution_count": 113,
   "metadata": {
    "tags": []
   },
   "outputs": [
    {
     "name": "stderr",
     "output_type": "stream",
     "text": [
      "Raised JSONRPCException while returning the custom response. Error message: {'code': -32602, 'message': 'Pending transaction'}\n",
      "{'code': -32602, 'message': 'Pending transaction'} (Json rpc error), Retrying in 1 seconds...\n"
     ]
    },
    {
     "data": {
      "text/plain": [
       "{'txHash': '0x277fae145ad2b5aba3b4658c75f9c795b9cd26d2a014e803f440349f706b0ed5',\n",
       " 'blockHeight': 1353714,\n",
       " 'blockHash': '0x807be102e3e53321d0192a4fea9efc26acedd859277c2fcfe785651ebea33f5b',\n",
       " 'txIndex': 1,\n",
       " 'to': 'cxf27f51fe6a092437fd54c5f74983391515dfec2d',\n",
       " 'stepUsed': 929860,\n",
       " 'stepPrice': 10000000000,\n",
       " 'cumulativeStepUsed': 929860,\n",
       " 'eventLogs': [{'scoreAddress': 'cx6146eab7f96fa77400d4c9e9884f0ddc65e01855',\n",
       "   'indexed': ['PrintData(str,int,int,int)',\n",
       "    'params check core line 408',\n",
       "    '0x8a6e51a672858000',\n",
       "    '0x0'],\n",
       "   'data': ['0x0']},\n",
       "  {'scoreAddress': 'cx6146eab7f96fa77400d4c9e9884f0ddc65e01855',\n",
       "   'indexed': ['PrintData(str,int,int,int)',\n",
       "    'rate value core line 412',\n",
       "    '0x34ece5a8f5',\n",
       "    '0x23887a690fba23'],\n",
       "   'data': ['0x0']},\n",
       "  {'scoreAddress': 'cx6146eab7f96fa77400d4c9e9884f0ddc65e01855',\n",
       "   'indexed': ['ReserveUpdated(Address,int,int,int,int)',\n",
       "    'cxf27f51fe6a092437fd54c5f74983391515dfec2d',\n",
       "    '0x34ece5a8f5',\n",
       "    '0x23887a690fba23'],\n",
       "   'data': ['0xde0b6b3b1fc0d06', '0xde0b6b839290a2e']},\n",
       "  {'scoreAddress': 'cxf27f51fe6a092437fd54c5f74983391515dfec2d',\n",
       "   'indexed': ['Transfer(Address,Address,int,bytes)',\n",
       "    'cx43184421f5f5743ae5435f59f12720e5b6c9a2c1',\n",
       "    'cx6146eab7f96fa77400d4c9e9884f0ddc65e01855',\n",
       "    '0x8a6e51a672858000'],\n",
       "   'data': ['0x4e6f6e65']},\n",
       "  {'scoreAddress': 'cx43184421f5f5743ae5435f59f12720e5b6c9a2c1',\n",
       "   'indexed': ['Repay(Address,Address,int,int,int,int)',\n",
       "    'cxf27f51fe6a092437fd54c5f74983391515dfec2d',\n",
       "    'hx91bf040426f226b3bfcd2f0b5967bbb0320525ce',\n",
       "    '0x8a6e51a672858000'],\n",
       "   'data': ['0x58d15e17628000', '0x2db1b265cc', '0x5b553c14604f5']},\n",
       "  {'scoreAddress': 'cxf27f51fe6a092437fd54c5f74983391515dfec2d',\n",
       "   'indexed': ['Transfer(Address,Address,int,bytes)',\n",
       "    'hx91bf040426f226b3bfcd2f0b5967bbb0320525ce',\n",
       "    'cx43184421f5f5743ae5435f59f12720e5b6c9a2c1',\n",
       "    '0x8ac7230489e80000'],\n",
       "   'data': ['0x7b226d6574686f64223a20227265706179222c2022706172616d73223a207b22616d6f756e74223a2031303030303030303030303030303030303030307d7d']}],\n",
       " 'logsBloom': b'\\x00\\x00\\x00\\x00\\x00\\x00\\x000\\x00\\x00\\x00  \\x00\\x00\\x00\\x00\\x00\\x00\\x00\\x00\\x00\\x00\\x00\\x00\\x00\\x00\\x00\\x00\\x00@\\x00\\x10\\x02\\x00\\x00\\x01@\\x13\\x00\\x00\\x00\\x00\\x00@\\x00\\x00\\x00\\x80\\x00\\x00\\x81\\x00\\x00\\x00\\x00\\x02\\x00\\x00\\x80\\x00\\x00\\x80\\x80\\x08\\x00\\x02\\x00\\x00\\x00 \\x00\\x01\\x00\\x00\\x00\\x00\\x00\\x04\\x00\\x00\\x02\\x00\\x00\\x00\\x00\\x00\\x00\\x00\\x00\\x00\\x10\\x00\\x00\\x00\\x00\\x00\\x00\\x00 @\\x00\\x10\\x00\\x00\\x00\\x10\\x80\\x02\\x00@\\x00\\x00\\x00\\x00\\x88\\x00\\x00\\x02\\x00\\x00\\x00\\x00\\x00\\x00\\x00\\x00\\x00\\x00\\x00\\x00\\x10\\x00\\x00\\x00\\x00\\x00\\x00\\x00 \\x10\\x84\\x00\\x00\\x00\\x00\\x01\\x00\\x00\\x00\\x00\\x00\\x00\\x00\\x00\\x00\\x00\\x10\\x00\\x00\\x00\\x00\\x00\\x00\\x02\\x00\\x02\\x00\\x00\\x00\\x00\\x00\\x00\\x00@\\x00\\x00\\x00\\x00\\x00\\x00\\x00\\x00\\x80\\x00\\x00\\x00\\x00\\x00\\x04\\x00\\x02\\x00\\x80\\x00\\x00\\x00\\x00\\x00\\x00\\x00\\x00\\x00\\x02\\x00\\x00\\x00@\\x00\\x00\\x00\\x00\\x00\\x03\\x00\\x00\\x00\\x00\\x00\\x00\\x00\\x00\\x00\\x00\\x80\\x00\\x00\\x00\\x08\\x00\\x01\\x00\\x00\\x00\\x00\\x00\\x00\\x00\\x01\\x00\\x00\\x00\\x00\\x00 \\x00\\x00\\x18\\x00\\x00\\x00\\x00\\x00\\x00\\x00\\x00',\n",
       " 'status': 1}"
      ]
     },
     "execution_count": 113,
     "metadata": {},
     "output_type": "execute_result"
    }
   ],
   "source": [
    "data = \"{\\\"method\\\": \\\"repay\\\", \\\"params\\\": {\\\"amount\\\": 10000000000000000000}}\".encode(\"utf-8\")\n",
    "params = {\"_to\": contracts['lendingPool'], \"_value\": 10000000000000000000, \"_data\": data}\n",
    "transaction = CallTransactionBuilder()\\\n",
    "    .from_(deployer_wallet.get_address())\\\n",
    "    .to(contracts['sample_token'])\\\n",
    "    .value(0)\\\n",
    "    .step_limit(10000000)\\\n",
    "    .nid(3)\\\n",
    "    .nonce(100)\\\n",
    "    .method(\"transfer\")\\\n",
    "    .params(params)\\\n",
    "    .build()\n",
    "signed_transaction = SignedTransaction(transaction, deployer_wallet)\n",
    "tx_hash = icon_service.send_transaction(signed_transaction)\n",
    "get_tx_result(tx_hash)"
   ]
  },
  {
   "cell_type": "markdown",
   "metadata": {},
   "source": [
    "# Depositing ICX from Wallet"
   ]
  },
  {
   "cell_type": "code",
   "execution_count": 114,
   "metadata": {},
   "outputs": [
    {
     "name": "stderr",
     "output_type": "stream",
     "text": [
      "Raised JSONRPCException while returning the custom response. Error message: {'code': -32602, 'message': 'Pending transaction'}\n",
      "{'code': -32602, 'message': 'Pending transaction'} (Json rpc error), Retrying in 1 seconds...\n"
     ]
    },
    {
     "data": {
      "text/plain": [
       "{'txHash': '0x5142a4c6b2ed37986f2e06689ec53d7e884a8cd7ccdced40f64e4f482261d568',\n",
       " 'blockHeight': 1353718,\n",
       " 'blockHash': '0x1ce2ce8efae957061913479ec271b5a504a5049d594020d57a18704130fe3de3',\n",
       " 'txIndex': 1,\n",
       " 'to': 'cx43184421f5f5743ae5435f59f12720e5b6c9a2c1',\n",
       " 'stepUsed': 571080,\n",
       " 'stepPrice': 10000000000,\n",
       " 'cumulativeStepUsed': 571080,\n",
       " 'eventLogs': [{'scoreAddress': 'cx43184421f5f5743ae5435f59f12720e5b6c9a2c1',\n",
       "   'indexed': ['ICXTransfer(Address,Address,int)',\n",
       "    'cx43184421f5f5743ae5435f59f12720e5b6c9a2c1',\n",
       "    'cx2d53c5e8347915733500bda8bdf2aabefdd833d9',\n",
       "    '0x1b1ae4d6e2ef500000'],\n",
       "   'data': []},\n",
       "  {'scoreAddress': 'cx2d53c5e8347915733500bda8bdf2aabefdd833d9',\n",
       "   'indexed': ['Mint(Address,int)',\n",
       "    'cx6146eab7f96fa77400d4c9e9884f0ddc65e01855',\n",
       "    '0x1b1ae4d6e2ef500000'],\n",
       "   'data': []},\n",
       "  {'scoreAddress': 'cx6146eab7f96fa77400d4c9e9884f0ddc65e01855',\n",
       "   'indexed': ['PrintData(str,int,int,int)',\n",
       "    'params check core line 408',\n",
       "    '0x1b1ae4d6e2ef500000',\n",
       "    '0x0'],\n",
       "   'data': ['0x0']},\n",
       "  {'scoreAddress': 'cx6146eab7f96fa77400d4c9e9884f0ddc65e01855',\n",
       "   'indexed': ['PrintData(str,int,int,int)',\n",
       "    'rate value core line 412',\n",
       "    '0x0',\n",
       "    '0x0'],\n",
       "   'data': ['0x0']},\n",
       "  {'scoreAddress': 'cx6146eab7f96fa77400d4c9e9884f0ddc65e01855',\n",
       "   'indexed': ['ReserveUpdated(Address,int,int,int,int)',\n",
       "    'cx2d53c5e8347915733500bda8bdf2aabefdd833d9',\n",
       "    '0x0',\n",
       "    '0x0'],\n",
       "   'data': ['0xde0b6b3a7640000', '0xde0b6b3a7640000']},\n",
       "  {'scoreAddress': 'cx91a8f04a2a5adcf110168e68479e34a3b33424c9',\n",
       "   'indexed': ['Mint(Address,int)',\n",
       "    'hx91bf040426f226b3bfcd2f0b5967bbb0320525ce'],\n",
       "   'data': ['0x0']},\n",
       "  {'scoreAddress': 'cx91a8f04a2a5adcf110168e68479e34a3b33424c9',\n",
       "   'indexed': ['Mint(Address,int)',\n",
       "    'hx91bf040426f226b3bfcd2f0b5967bbb0320525ce'],\n",
       "   'data': ['0x1b1ae4d6e2ef500000']},\n",
       "  {'scoreAddress': 'cx91a8f04a2a5adcf110168e68479e34a3b33424c9',\n",
       "   'indexed': ['MintOnDeposit(Address,int,int,int)',\n",
       "    'hx91bf040426f226b3bfcd2f0b5967bbb0320525ce',\n",
       "    '0x1b1ae4d6e2ef500000',\n",
       "    '0x0'],\n",
       "   'data': ['0xde0b6b3a7640000']},\n",
       "  {'scoreAddress': 'cx43184421f5f5743ae5435f59f12720e5b6c9a2c1',\n",
       "   'indexed': ['Deposit(Address,Address,int,int)',\n",
       "    'cx2d53c5e8347915733500bda8bdf2aabefdd833d9',\n",
       "    'hx91bf040426f226b3bfcd2f0b5967bbb0320525ce',\n",
       "    '0x1b1ae4d6e2ef500000'],\n",
       "   'data': ['0x5b553c1c032e3']}],\n",
       " 'logsBloom': b'\\x00\\x00\\x00\\x00\\x00\\x01\\x000\\x00\\x00\\x08\\x01 \\x00 \\x00\\x00\\x00\\x00\\x10\\x00\\x00\\x00\\x00\\x00\\x01\\x00\\x00\\x00\\x00\\x00\\x00\\x10\\x10\\x00\\x00\\x00\\x00\\x13\\x00\\x00\\x00@\\x00\\x00\\x00\\x00\\x00\\x00\\x00\\x01\\x80\\x00\\x00\\x00\\x00\\x00\\x00\\x08\\x80\\x00\\x00\\x00\\x80\\x00\\x00\\x02`\\x00\\x00\\x00\\x00\\x01\\x00\\x00\\x12\\x00\\x01\\x00\\x00\\x00\\x02\\x00\\x00\\x00\\x00\\x00\\x00\\x00\\x00\\x00\\x00\\x00\\x00\\x00\\x00\\x90 \\x00!\\x00\\x00\\x00\\x00\\x00\\x01\\x00\\x00\\x00\\x00@\\x00\\x00\\x00\\x00J\\x00\\x00\\x00\\x00\\x00\\x00\\x00\\x00\\x00\\x00\\x00\\x00\\x00\\x00\\x000\\x00\\x00\\x00\\x00\\x00\\x00\\x00 \\x00\\x04\\x00\\x00\\x00\\x00\\x01\\x02\\x00\\x00\\x00\\x00 \\x00\\x00 \\x04\\x00\\x00\\x00\\x00\\x00\\x00\\x00\\x02\\x00\\x02\\x04\\x00\\x00\\x00\\x00\\x00\\x00@\\x00\\x00\\x00\\x00\\x00\\x00\\x00\\x00\\x80\\x00\\x00\\x00\\x00\\x00\\x04\\x00\\x00\\x00\\x00\\x00\\x02\\x00\\x02\\x00\\x00\\x00\\x00\\x00\\x02\\x00\\x00\\x00\\x00\\x00\\x00\\x00\\x00\\x00\\x02\\x00\\x08\\x00\\x00\\x00\\x00\\x00\\x08\\x00\\x00\\x80\\x02\\x00\\x00\\x00\\x00\\x01\\x00\\x00\\x00\\x00\\x02\\x00\\x00\\x00\\x00\\x00\\x00\\x00\\x00 \\x00\\x00\\x00\\x80\\x00\\x00\\x00\\x00\\x00\\x00\\x00',\n",
       " 'status': 1}"
      ]
     },
     "execution_count": 114,
     "metadata": {},
     "output_type": "execute_result"
    }
   ],
   "source": [
    "params = {\"_amount\": 500 * 10 ** 18}\n",
    "call_transaction = CallTransactionBuilder() \\\n",
    "    .from_(deployer_wallet.get_address()) \\\n",
    "    .to(contracts['lendingPool']) \\\n",
    "    .nid(3) \\\n",
    "    .step_limit(1000000000) \\\n",
    "    .nonce(100) \\\n",
    "    .value(500 * 10 ** 18) \\\n",
    "    .method(\"deposit\") \\\n",
    "    .params(params) \\\n",
    "    .build() \n",
    "\n",
    "signed_transaction = SignedTransaction(call_transaction, deployer_wallet)\n",
    "tx_hash = icon_service.send_transaction(signed_transaction)\n",
    "get_tx_result(tx_hash)\n"
   ]
  },
  {
   "cell_type": "markdown",
   "metadata": {},
   "source": [
    "# Withdrawing ICX "
   ]
  },
  {
   "cell_type": "code",
   "execution_count": 115,
   "metadata": {},
   "outputs": [
    {
     "name": "stderr",
     "output_type": "stream",
     "text": [
      "Raised JSONRPCException while returning the custom response. Error message: {'code': -32602, 'message': 'Pending transaction'}\n",
      "{'code': -32602, 'message': 'Pending transaction'} (Json rpc error), Retrying in 1 seconds...\n"
     ]
    },
    {
     "data": {
      "text/plain": [
       "{'txHash': '0x4e18d42ba4451db152afef7509f2ab5c4cbb0efb3e9123ef47930d2a2641721d',\n",
       " 'blockHeight': 1353723,\n",
       " 'blockHash': '0x7e9f49501066c8329b270e447d413c104bab52118103d07edbfff08f78f7e25a',\n",
       " 'txIndex': 1,\n",
       " 'to': 'cx91a8f04a2a5adcf110168e68479e34a3b33424c9',\n",
       " 'stepUsed': 1396820,\n",
       " 'stepPrice': 10000000000,\n",
       " 'cumulativeStepUsed': 1396820,\n",
       " 'eventLogs': [{'scoreAddress': 'cx91a8f04a2a5adcf110168e68479e34a3b33424c9',\n",
       "   'indexed': ['Mint(Address,int)',\n",
       "    'hx91bf040426f226b3bfcd2f0b5967bbb0320525ce'],\n",
       "   'data': ['0x0']},\n",
       "  {'scoreAddress': 'cx91a8f04a2a5adcf110168e68479e34a3b33424c9',\n",
       "   'indexed': ['Burn(Address,int)',\n",
       "    'hx91bf040426f226b3bfcd2f0b5967bbb0320525ce'],\n",
       "   'data': ['0xd8d726b7177a80000']},\n",
       "  {'scoreAddress': 'cx6146eab7f96fa77400d4c9e9884f0ddc65e01855',\n",
       "   'indexed': ['PrintData(str,int,int,int)',\n",
       "    'params check core line 408',\n",
       "    '0x0',\n",
       "    '0xd8d726b7177a80000'],\n",
       "   'data': ['0x0']},\n",
       "  {'scoreAddress': 'cx6146eab7f96fa77400d4c9e9884f0ddc65e01855',\n",
       "   'indexed': ['PrintData(str,int,int,int)',\n",
       "    'rate value core line 412',\n",
       "    '0x0',\n",
       "    '0x0'],\n",
       "   'data': ['0x0']},\n",
       "  {'scoreAddress': 'cx6146eab7f96fa77400d4c9e9884f0ddc65e01855',\n",
       "   'indexed': ['ReserveUpdated(Address,int,int,int,int)',\n",
       "    'cx2d53c5e8347915733500bda8bdf2aabefdd833d9',\n",
       "    '0x0',\n",
       "    '0x0'],\n",
       "   'data': ['0xde0b6b3a7640000', '0xde0b6b3a7640000']},\n",
       "  {'scoreAddress': 'cx2d53c5e8347915733500bda8bdf2aabefdd833d9',\n",
       "   'indexed': ['Transfer(Address,Address,int,bytes)',\n",
       "    'cx6146eab7f96fa77400d4c9e9884f0ddc65e01855',\n",
       "    'hx91bf040426f226b3bfcd2f0b5967bbb0320525ce',\n",
       "    '0xd8d726b7177a80000'],\n",
       "   'data': ['0x4e6f6e65']},\n",
       "  {'scoreAddress': 'cx43184421f5f5743ae5435f59f12720e5b6c9a2c1',\n",
       "   'indexed': ['RedeemUnderlying(Address,Address,int,int)',\n",
       "    'cx2d53c5e8347915733500bda8bdf2aabefdd833d9',\n",
       "    'hx91bf040426f226b3bfcd2f0b5967bbb0320525ce',\n",
       "    '0xd8d726b7177a80000'],\n",
       "   'data': ['0x5b553c258f305']},\n",
       "  {'scoreAddress': 'cx91a8f04a2a5adcf110168e68479e34a3b33424c9',\n",
       "   'indexed': ['Redeem(Address,int,int,int)',\n",
       "    'hx91bf040426f226b3bfcd2f0b5967bbb0320525ce',\n",
       "    '0xd8d726b7177a80000',\n",
       "    '0x0'],\n",
       "   'data': ['0xde0b6b3a7640000']}],\n",
       " 'logsBloom': b'\\x00\\x00\\x00\\x08\\x00\\x11\\x000\\x00\\x10\\x00  \\x00\\x00\\x00@\\x00\\x00\\x00\\x00\\x00\\x00\\x00\\x00\\x01\\x00\\x08\\x00\\x00\\x00\\x00\\x10\\x10\\x00\\x00\\x00\\x00\\x13\\x00\\x00\\x00\\x00\\x00\\x00\\x00\\x00\\x00\\x00\\x00\\x00\\x80\\x00\\x00\\x00\\x00\\x00\\x00\\x00\\x80\\x00\\x00\\x00\\x00\\x00\\x00\\x02@\\x00\\x00\\x00\\x00\\x01\\x00\\x00\\x12\\x00\\x01\\x00\\x04\\x00\\x02\\x00\\x00\\x00\\x00\\x00\\x00\\x00\\x08\\x00\\x00\\x04\\x00\\x00\\x00\\x10 \\x00!\\x00\\x00\\x00\\x00\\x00\\x00\\x00\\x00\\x00\\x00@\\x00\\x00\\x00\\x00H\\x00\\x00\\x00\\x00\\x00\\x00\\x00\\x00\\x00\\x00\\x00\\x00\\x00\\x00\\x00\\x10\\x00\\x00\\x00\\x00\\x00\\x00\\x00 \\x00\\x04\\x00\\x01\\x00\\x00\\x01\\x02\\x10\\x00\\x00\\x00 \\x00\\x00\\x00\\x04\\x10\\x00\\x00\\x00\\x00\\x00\\x00\\x02\\x00\\x02\\x04\\x00\\x00\\x00\\x04\\x00\\x00@\\x00\\x00\\x00\\x00\\x00\\x00\\x00\\x00\\x80\\x00\\x00\\x00\\x00\\x00\\x00\\x00\\x00\\x00\\x00\\x00\\x00\\x00\\x00\\x00\\x00\\x00\\x00\\x00\\x00\\x00\\x00\\x00\\x00\\x00\\x01\\x00\\x00\\x00\\x03\\x00\\x08\\x00\\x00\\x00\\x00\\x00\\x08\\x00\\x00\\x80\\x02\\x00\\x00\\x00\\x00\\x11\\x00\\x00\\x00\\x00\\x00\\x00\\x00\\x00\\x00\\x00\\x04\\x00\\x00 \\x00\\x00\\x02\\x00\\x00\\x00\\x00\\x00\\x00\\x00\\x00',\n",
       " 'status': 1}"
      ]
     },
     "execution_count": 115,
     "metadata": {},
     "output_type": "execute_result"
    }
   ],
   "source": [
    "params = {\"_amount\": 250 * 10 ** 18}\n",
    "call_transaction = CallTransactionBuilder() \\\n",
    "    .from_(deployer_wallet.get_address())\\\n",
    "    .to(contracts['oICX'])\\\n",
    "    .nid(3) \\\n",
    "    .step_limit(10000000) \\\n",
    "    .nonce(100) \\\n",
    "    .method(\"redeem\") \\\n",
    "    .params(params) \\\n",
    "    .build()\n",
    "signed_transaction = SignedTransaction(call_transaction, deployer_wallet)\n",
    "tx_hash = icon_service.send_transaction(signed_transaction)\n",
    "get_tx_result(tx_hash)\n",
    "        "
   ]
  },
  {
   "cell_type": "markdown",
   "metadata": {},
   "source": [
    "# Borrowing sicx"
   ]
  },
  {
   "cell_type": "code",
   "execution_count": 30,
   "metadata": {
    "tags": []
   },
   "outputs": [
    {
     "name": "stderr",
     "output_type": "stream",
     "text": [
      "Raised JSONRPCException while returning the custom response. Error message: {'code': -32006, 'message': 'Too many arguments'}\n"
     ]
    },
    {
     "ename": "JSONRPCException",
     "evalue": "{'code': -32006, 'message': 'Too many arguments'} (Json rpc error)",
     "output_type": "error",
     "traceback": [
      "\u001b[0;31m---------------------------------------------------------------------------\u001b[0m",
      "\u001b[0;31mJSONRPCException\u001b[0m                          Traceback (most recent call last)",
      "\u001b[0;32m<ipython-input-30-bd4b32782cec>\u001b[0m in \u001b[0;36m<module>\u001b[0;34m\u001b[0m\n\u001b[1;32m     10\u001b[0m     \u001b[0;34m.\u001b[0m\u001b[0mbuild\u001b[0m\u001b[0;34m(\u001b[0m\u001b[0;34m)\u001b[0m\u001b[0;34m\u001b[0m\u001b[0;34m\u001b[0m\u001b[0m\n\u001b[1;32m     11\u001b[0m \u001b[0;34m\u001b[0m\u001b[0m\n\u001b[0;32m---> 12\u001b[0;31m \u001b[0mestimate_step\u001b[0m \u001b[0;34m=\u001b[0m \u001b[0micon_service\u001b[0m\u001b[0;34m.\u001b[0m\u001b[0mestimate_step\u001b[0m\u001b[0;34m(\u001b[0m\u001b[0mcall_transaction\u001b[0m\u001b[0;34m)\u001b[0m\u001b[0;34m\u001b[0m\u001b[0;34m\u001b[0m\u001b[0m\n\u001b[0m\u001b[1;32m     13\u001b[0m \u001b[0mstep_limit\u001b[0m \u001b[0;34m=\u001b[0m \u001b[0mestimate_step\u001b[0m \u001b[0;34m+\u001b[0m \u001b[0;36m100000\u001b[0m\u001b[0;34m\u001b[0m\u001b[0;34m\u001b[0m\u001b[0m\n\u001b[1;32m     14\u001b[0m \u001b[0;31m# Returns the signed transaction object having a signature\u001b[0m\u001b[0;34m\u001b[0m\u001b[0;34m\u001b[0m\u001b[0;34m\u001b[0m\u001b[0m\n",
      "\u001b[0;32m/usr/local/lib/python3.8/dist-packages/iconsdk/icon_service.py\u001b[0m in \u001b[0;36mestimate_step\u001b[0;34m(self, transaction)\u001b[0m\n\u001b[1;32m    280\u001b[0m             \u001b[0mparams\u001b[0m\u001b[0;34m[\u001b[0m\u001b[0;34m\"data\"\u001b[0m\u001b[0;34m]\u001b[0m \u001b[0;34m=\u001b[0m \u001b[0mtransaction\u001b[0m\u001b[0;34m.\u001b[0m\u001b[0mdata\u001b[0m\u001b[0;34m\u001b[0m\u001b[0;34m\u001b[0m\u001b[0m\n\u001b[1;32m    281\u001b[0m \u001b[0;34m\u001b[0m\u001b[0m\n\u001b[0;32m--> 282\u001b[0;31m         \u001b[0mresult\u001b[0m \u001b[0;34m=\u001b[0m \u001b[0mself\u001b[0m\u001b[0;34m.\u001b[0m\u001b[0m__provider\u001b[0m\u001b[0;34m.\u001b[0m\u001b[0mmake_request\u001b[0m\u001b[0;34m(\u001b[0m\u001b[0;34m'debug_estimateStep'\u001b[0m\u001b[0;34m,\u001b[0m \u001b[0mparams\u001b[0m\u001b[0;34m)\u001b[0m\u001b[0;34m\u001b[0m\u001b[0;34m\u001b[0m\u001b[0m\n\u001b[0m\u001b[1;32m    283\u001b[0m         \u001b[0;32mreturn\u001b[0m \u001b[0mint\u001b[0m\u001b[0;34m(\u001b[0m\u001b[0mresult\u001b[0m\u001b[0;34m,\u001b[0m \u001b[0;36m16\u001b[0m\u001b[0;34m)\u001b[0m\u001b[0;34m\u001b[0m\u001b[0;34m\u001b[0m\u001b[0m\n",
      "\u001b[0;32m/usr/local/lib/python3.8/dist-packages/iconsdk/providers/http_provider.py\u001b[0m in \u001b[0;36mmake_request\u001b[0;34m(self, method, params, full_response)\u001b[0m\n\u001b[1;32m    127\u001b[0m         \u001b[0mfull_path_url\u001b[0m \u001b[0;34m=\u001b[0m \u001b[0mself\u001b[0m\u001b[0;34m.\u001b[0m\u001b[0m_full_path_url\u001b[0m \u001b[0;32mif\u001b[0m \u001b[0mself\u001b[0m\u001b[0;34m.\u001b[0m\u001b[0m_full_path_url\u001b[0m \u001b[0;32melse\u001b[0m \u001b[0mself\u001b[0m\u001b[0;34m.\u001b[0m\u001b[0m_get_full_path_url\u001b[0m\u001b[0;34m(\u001b[0m\u001b[0mmethod\u001b[0m\u001b[0;34m)\u001b[0m\u001b[0;34m\u001b[0m\u001b[0;34m\u001b[0m\u001b[0m\n\u001b[1;32m    128\u001b[0m         \u001b[0mresponse\u001b[0m \u001b[0;34m=\u001b[0m \u001b[0mself\u001b[0m\u001b[0;34m.\u001b[0m\u001b[0m_make_post_request\u001b[0m\u001b[0;34m(\u001b[0m\u001b[0mfull_path_url\u001b[0m\u001b[0;34m,\u001b[0m \u001b[0mrpc_dict\u001b[0m\u001b[0;34m,\u001b[0m \u001b[0;34m**\u001b[0m\u001b[0mself\u001b[0m\u001b[0;34m.\u001b[0m\u001b[0m_get_request_kwargs\u001b[0m\u001b[0;34m(\u001b[0m\u001b[0;34m)\u001b[0m\u001b[0;34m)\u001b[0m\u001b[0;34m\u001b[0m\u001b[0;34m\u001b[0m\u001b[0m\n\u001b[0;32m--> 129\u001b[0;31m         \u001b[0mcustom_response\u001b[0m \u001b[0;34m=\u001b[0m \u001b[0mself\u001b[0m\u001b[0;34m.\u001b[0m\u001b[0m_return_custom_response\u001b[0m\u001b[0;34m(\u001b[0m\u001b[0mresponse\u001b[0m\u001b[0;34m,\u001b[0m \u001b[0mfull_response\u001b[0m\u001b[0;34m)\u001b[0m\u001b[0;34m\u001b[0m\u001b[0;34m\u001b[0m\u001b[0m\n\u001b[0m\u001b[1;32m    130\u001b[0m \u001b[0;34m\u001b[0m\u001b[0m\n\u001b[1;32m    131\u001b[0m         \u001b[0mlogger\u001b[0m\u001b[0;34m.\u001b[0m\u001b[0mdebug\u001b[0m\u001b[0;34m(\u001b[0m\u001b[0;34mf\"Request: {rpc_dict}\"\u001b[0m\u001b[0;34m)\u001b[0m\u001b[0;34m\u001b[0m\u001b[0;34m\u001b[0m\u001b[0m\n",
      "\u001b[0;32m/usr/local/lib/python3.8/dist-packages/iconsdk/providers/http_provider.py\u001b[0m in \u001b[0;36m_return_custom_response\u001b[0;34m(response, full_response)\u001b[0m\n\u001b[1;32m    152\u001b[0m                 logger.error(f\"Raised JSONRPCException while returning the custom response. \"\n\u001b[1;32m    153\u001b[0m                              f\"Error message: {content_as_dict['error']}\")\n\u001b[0;32m--> 154\u001b[0;31m                 \u001b[0;32mraise\u001b[0m \u001b[0mJSONRPCException\u001b[0m\u001b[0;34m(\u001b[0m\u001b[0mcontent_as_dict\u001b[0m\u001b[0;34m[\u001b[0m\u001b[0;34m\"error\"\u001b[0m\u001b[0;34m]\u001b[0m\u001b[0;34m)\u001b[0m\u001b[0;34m\u001b[0m\u001b[0;34m\u001b[0m\u001b[0m\n\u001b[0m\u001b[1;32m    155\u001b[0m \u001b[0;34m\u001b[0m\u001b[0m\n\u001b[1;32m    156\u001b[0m     \u001b[0;32mdef\u001b[0m \u001b[0mis_connected\u001b[0m\u001b[0;34m(\u001b[0m\u001b[0mself\u001b[0m\u001b[0;34m)\u001b[0m \u001b[0;34m->\u001b[0m \u001b[0mbool\u001b[0m\u001b[0;34m:\u001b[0m\u001b[0;34m\u001b[0m\u001b[0;34m\u001b[0m\u001b[0m\n",
      "\u001b[0;31mJSONRPCException\u001b[0m: {'code': -32006, 'message': 'Too many arguments'} (Json rpc error)"
     ]
    }
   ],
   "source": [
    "#borrow sicx\n",
    "params ={\"_reserve\": contracts['sicx'], \"_amount\":1*10**18 }\n",
    "call_transaction = CallTransactionBuilder()\\\n",
    "    .from_(deployer_wallet.get_address())\\\n",
    "    .to(contracts['lendingPool']) \\\n",
    "    .nid(NID) \\\n",
    "    .nonce(100) \\\n",
    "    .method(\"borrow\")\\\n",
    "    .params(params)\\\n",
    "    .build()\n",
    "\n",
    "estimate_step = icon_service.estimate_step(call_transaction)\n",
    "step_limit = estimate_step + 100000\n",
    "# Returns the signed transaction object having a signature\n",
    "signed_transaction = SignedTransaction(call_transaction, deployer_wallet,step_limit)\n",
    "\n",
    "# Reads params to transfer to nodes\n",
    "print(signed_transaction.signed_transaction_dict)\n",
    "\n",
    "# Sends the transaction\n",
    "tx_hash = icon_service.send_transaction(signed_transaction)\n",
    "get_tx_result(tx_hash)"
   ]
  },
  {
   "cell_type": "markdown",
   "metadata": {},
   "source": [
    "# Repay sicx"
   ]
  },
  {
   "cell_type": "code",
   "execution_count": 29,
   "metadata": {
    "tags": []
   },
   "outputs": [
    {
     "name": "stderr",
     "output_type": "stream",
     "text": [
      "Raised JSONRPCException while returning the custom response. Error message: {'code': -32602, 'message': 'Pending transaction'}\n",
      "{'code': -32602, 'message': 'Pending transaction'} (Json rpc error), Retrying in 1 seconds...\n",
      "Raised JSONRPCException while returning the custom response. Error message: {'code': -32602, 'message': 'Pending transaction'}\n",
      "{'code': -32602, 'message': 'Pending transaction'} (Json rpc error), Retrying in 2 seconds...\n"
     ]
    },
    {
     "data": {
      "text/plain": [
       "{'txHash': '0x4b95d8683af8ba72d8ab4ba223c31b1c9c2f5e5b9ad262a4fa6f1a2ad45138f7',\n",
       " 'blockHeight': 9908080,\n",
       " 'blockHash': '0x51f885287ac717250a1775e9dc72600273acde6d78f3b4689fff9b3a40594a29',\n",
       " 'txIndex': 1,\n",
       " 'to': 'cx3e9d38175d112cd5cf05a90080cce779f202ba27',\n",
       " 'stepUsed': 867000,\n",
       " 'stepPrice': 10000000000,\n",
       " 'cumulativeStepUsed': 867000,\n",
       " 'eventLogs': [{'scoreAddress': 'cx327a386a9f8076045679fc132a8baa9e270ca43b',\n",
       "   'indexed': ['PrintData(str,int,int,int)',\n",
       "    'params check core line 408',\n",
       "    '0x5684f308079370000',\n",
       "    '0x0'],\n",
       "   'data': ['0x0']},\n",
       "  {'scoreAddress': 'cx327a386a9f8076045679fc132a8baa9e270ca43b',\n",
       "   'indexed': ['PrintData(str,int,int,int)',\n",
       "    'rate value core line 412',\n",
       "    '0x9cdabb163294f',\n",
       "    '0x433145f3bf1722'],\n",
       "   'data': ['0x0']},\n",
       "  {'scoreAddress': 'cx327a386a9f8076045679fc132a8baa9e270ca43b',\n",
       "   'indexed': ['ReserveUpdated(Address,int,int,int,int)',\n",
       "    'cx3e9d38175d112cd5cf05a90080cce779f202ba27',\n",
       "    '0x9cdabb163294f',\n",
       "    '0x433145f3bf1722'],\n",
       "   'data': ['0xde0b8c027031a6b', '0xde0c127ab5dddd2']},\n",
       "  {'scoreAddress': 'cx3e9d38175d112cd5cf05a90080cce779f202ba27',\n",
       "   'indexed': ['Transfer(Address,Address,int,bytes)',\n",
       "    'cx35b12ca4e9c672518db3c06d92ed60d50e7d5554',\n",
       "    'cx327a386a9f8076045679fc132a8baa9e270ca43b',\n",
       "    '0x5684f308079370000'],\n",
       "   'data': ['0x4e6f6e65']},\n",
       "  {'scoreAddress': 'cx35b12ca4e9c672518db3c06d92ed60d50e7d5554',\n",
       "   'indexed': ['Repay(Address,Address,int,int,int,int)',\n",
       "    'cx3e9d38175d112cd5cf05a90080cce779f202ba27',\n",
       "    'hx91bf040426f226b3bfcd2f0b5967bbb0320525ce',\n",
       "    '0x5684f308079370000'],\n",
       "   'data': ['0x3782dace9d90000', '0x1b9975064193', '0x5b56a733f65d8']},\n",
       "  {'scoreAddress': 'cx3e9d38175d112cd5cf05a90080cce779f202ba27',\n",
       "   'indexed': ['Transfer(Address,Address,int,bytes)',\n",
       "    'hx91bf040426f226b3bfcd2f0b5967bbb0320525ce',\n",
       "    'cx35b12ca4e9c672518db3c06d92ed60d50e7d5554',\n",
       "    '0x56bc75e2d63100000'],\n",
       "   'data': ['0x7b226d6574686f64223a20227265706179222c2022706172616d73223a207b22616d6f756e74223a203130303030303030303030303030303030303030307d7d']}],\n",
       " 'logsBloom': b'\\x00\\x00\\x00\\x00\\x00\\x00\\x000\\x00\\x00\\x00  \\x00\\x00B\\x00\\x00\\x00\\x00\\x00\\x00\\x00\\x10\\x00\\x00\\x00\\x00\\x00\\x00\\x00\\x00\\x00\\x02\\x00\\x00\\x02\\x00\\x12\\x00\\x00\\x00\\x00\\x00\\x00\\x00\\x00\\x00\\x00\\x00\\x00\\x80\\x01\\x00\\x00\\x00\\x00\\x00\\x00\\x80\\x00\\x00\\x00\\x00\\x00\\x00\\x02\\x00\\x00\\x00\\x00\\x00A\\x00\\x00\\x00\\x01\\x00\\x00\\x80\\x80\\x02\\x00\\x00\\x00\\x00\\x08\\x00\\x80\\x00\\x00\\x00\\x00\\x00\\x04\\x00\\x00\\xc0\\x00 \\x00\\x00\\x00\\x00\\x00\\x00\\x00\\x10\\x00\\x00@\\x00\\x00\\x10\\x00\\x00\\x00\\x00\\x02\\x00\\x00\\x00\\x00\\x00\\x10\\x00\\x00\\x00\\x00\\x02\\x00\\x10\\x00\\x00\\x00\\x00\\x00\\x00\\x00\\x00\\x00\\x04\\x08\\x00\\x00\\x00\\x01\\x00\\x00\\x00\\x00\\x00\\x00\\x00\\x00\\x00\\x00\\x10\\x00\\x80\\x00\\x00\\x00\\x00\\x02\\x00 \\x00\\x00\\x00\\x00\\x00\\x00\\x00\\x00\\x00\\x02\\x00\\x00@\\x00\\x00\\x02\\x80\\x00\\x00\\x00\\x00\\x00\\x00\\x00\\x00\\x00\\x00\\x00\\x00\\x00\\x00\\x00\\x00\\x00\\x00\\x00\\x00\\x00\\x08\\x00 \\x00\\x00\\x00\\x01\\x00\\x03@\\x00\\x00\\x02\\xc0\\x00\\x00\\x00\\x00\\x00\\x88\\x00\\x00\\x00\\x08\\x01\\x01\\x02\\x00\\x00\\x00\\x00\\x00\\x00\\x00\\x00\\x00\\x00\\x00\\x00 \\x00\\x00\\x00\\x00\\x00\\x01\\x00\\x00\\x00\\x00\\x00',\n",
       " 'status': 1}"
      ]
     },
     "execution_count": 29,
     "metadata": {},
     "output_type": "execute_result"
    }
   ],
   "source": [
    "\n",
    "data = \"{\\\"method\\\": \\\"repay\\\", \\\"params\\\": {\\\"amount\\\": 100000000000000000000}}\".encode(\"utf-8\")\n",
    "params = {\"_to\": contracts['lendingPool'], \"_value\": 100000000000000000000, \"_data\": data}\n",
    "transaction = CallTransactionBuilder()\\\n",
    "    .from_(deployer_wallet.get_address())\\\n",
    "    .to(contracts['sicx'])\\\n",
    "    .value(0)\\\n",
    "    .step_limit(10000000)\\\n",
    "    .nid(3)\\\n",
    "    .nonce(100)\\\n",
    "    .method(\"transfer\")\\\n",
    "    .params(params)\\\n",
    "    .build()\n",
    "signed_transaction = SignedTransaction(transaction, deployer_wallet)\n",
    "tx_hash = icon_service.send_transaction(signed_transaction)\n",
    "get_tx_result(tx_hash)"
   ]
  },
  {
   "cell_type": "markdown",
   "metadata": {},
   "source": [
    "## Minting  omm tokens"
   ]
  },
  {
   "cell_type": "code",
   "execution_count": null,
   "metadata": {},
   "outputs": [],
   "source": [
    "params = {\"_amount\": 50 * 10 ** 18}\n",
    "call_transaction = CallTransactionBuilder() \\\n",
    "    .from_(deployer_wallet.get_address()) \\\n",
    "    .to(contracts['ommToken']) \\\n",
    "    .nid(3) \\\n",
    "    .step_limit(1000000000) \\\n",
    "    .nonce(100) \\\n",
    "    .method(\"testMint\") \\\n",
    "    .params(params) \\\n",
    "    .build() \n",
    "\n",
    "signed_transaction = SignedTransaction(call_transaction, deployer_wallet)\n",
    "tx_hash = icon_service.send_transaction(signed_transaction)\n",
    "get_tx_result(tx_hash)\n"
   ]
  },
  {
   "cell_type": "markdown",
   "metadata": {},
   "source": [
    "## Staking omm tokens"
   ]
  },
  {
   "cell_type": "code",
   "execution_count": null,
   "metadata": {},
   "outputs": [],
   "source": [
    "params = {\"_value\": 500 * 10 ** 18}\n",
    "call_transaction = CallTransactionBuilder() \\\n",
    "    .from_(deployer_wallet.get_address()) \\\n",
    "    .to(contracts['ommToken']) \\\n",
    "    .nid(3) \\\n",
    "    .step_limit(1000000000) \\\n",
    "    .nonce(100) \\\n",
    "    .method(\"stake\") \\\n",
    "    .params(params) \\\n",
    "    .build() \n",
    "\n",
    "signed_transaction = SignedTransaction(call_transaction, deployer_wallet)\n",
    "tx_hash = icon_service.send_transaction(signed_transaction)\n",
    "get_tx_result(tx_hash)\n"
   ]
  },
  {
   "cell_type": "markdown",
   "metadata": {},
   "source": [
    "## Updating delegation preference of user"
   ]
  },
  {
   "cell_type": "code",
   "execution_count": null,
   "metadata": {},
   "outputs": [],
   "source": [
    "\n",
    "params = {\"_delegations\":[{\"_address\":\"hxd3be921dfe193cd49ed7494a53743044e3376cd3\",\"_votes_in_per\":str(6*10**17)},\n",
    "                          {\"_address\":\"hxec79e9c1c882632688f8c8f9a07832bcabe8be8f\",\"_votes_in_per\":str(4*10**17)}]}\n",
    "call_transaction = CallTransactionBuilder() \\\n",
    "    .from_(deployer_wallet.get_address()) \\\n",
    "    .to(contracts['delegation']) \\\n",
    "    .nid(3) \\\n",
    "    .step_limit(1000000000) \\\n",
    "    .nonce(100) \\\n",
    "    .method(\"updateDelegations\") \\\n",
    "    .params(params) \\\n",
    "    .build() \n",
    "\n",
    "signed_transaction = SignedTransaction(call_transaction, deployer_wallet)\n",
    "tx_hash = icon_service.send_transaction(signed_transaction)\n",
    "get_tx_result(tx_hash)\n"
   ]
  },
  {
   "cell_type": "markdown",
   "metadata": {},
   "source": [
    "# Readonly methods to get data"
   ]
  },
  {
   "cell_type": "markdown",
   "metadata": {},
   "source": [
    "### Getting all the addresses"
   ]
  },
  {
   "cell_type": "code",
   "execution_count": 10,
   "metadata": {
    "tags": []
   },
   "outputs": [
    {
     "name": "stdout",
     "output_type": "stream",
     "text": [
      "{'collateral': {'IUSDC': 'cx65f639254090820361da483df233f6d0e69af9b7',\n",
      "                'USDb': 'cxaa068556df80f9917ef146e889f0b2c4b13ab634',\n",
      "                'sICX': 'cxb7eda227d9ed9c6fc2a74aa5dd7e9a3913f6c281'},\n",
      " 'oTokens': {'oICX': 'cx04e21bb3d2e09b0e753af2dff0eeddb011a4be75',\n",
      "             'oIUSDC': 'cx42a4734508068d0f8edd7ef0778b515788b3f3b8',\n",
      "             'oUSDb': 'cx47549e03024584dca6eeb26b7de8f189bf2b6ff9'},\n",
      " 'systemContract': {'Delegation': 'cx0ac8854f9fbe0126e830386046ed26bbb6769bf1',\n",
      "                    'LendingPool': 'cx0287ab61ae0bec1af11ccb108257b7d292422d39',\n",
      "                    'LendingPoolDataProvider': 'cx5b611522f541f77dfeab6a8f874e0e87db320a78',\n",
      "                    'OmmToken': 'cx5dc583ebe474fd99db3962e32deff60c76328b61',\n",
      "                    'Rewards': 'cx1c1d88f6039ebb04572d194d52e9b190f37514d6',\n",
      "                    'Staking': 'cxadd9557a07d4aab925dd04b7a6da4ea1d67bef9c'}}\n"
     ]
    }
   ],
   "source": [
    "_call = CallBuilder()\\\n",
    "    .from_(deployer_wallet.get_address())\\\n",
    "    .to(contracts['addressProvider'])\\\n",
    "    .method(\"getAllAddresses\")\\\n",
    "    .build()\n",
    "response = icon_service.call(_call)\n",
    "pprint(response)"
   ]
  },
  {
   "cell_type": "markdown",
   "metadata": {},
   "source": [
    "### Getting specific reserve data"
   ]
  },
  {
   "cell_type": "code",
   "execution_count": 63,
   "metadata": {
    "tags": []
   },
   "outputs": [
    {
     "name": "stdout",
     "output_type": "stream",
     "text": [
      "{'availableLiquidity': 884483729472659675269,\n",
      " 'availableLiquidityUSD': 1622548221761714694568,\n",
      " 'baseLTVasCollateral': 500000000000000000,\n",
      " 'borrowCumulativeIndex': 1000000405752481418,\n",
      " 'borrowRate': 6782998786072307,\n",
      " 'borrowingEnabled': '0x1',\n",
      " 'decimals': 18,\n",
      " 'exchangePrice': 1797000000000000000,\n",
      " 'isActive': '0x1',\n",
      " 'isFreezed': '0x0',\n",
      " 'lastUpdateTimestamp': 1614765046165446,\n",
      " 'liquidationBonus': 100000000000000000,\n",
      " 'liquidationThreshold': 650000000000000000,\n",
      " 'liquidityCumulativeIndex': 1000000073818905134,\n",
      " 'liquidityRate': 414081652786726,\n",
      " 'oTokenAddress': 'cx04e21bb3d2e09b0e753af2dff0eeddb011a4be75',\n",
      " 'reserveAddress': 'cxb7eda227d9ed9c6fc2a74aa5dd7e9a3913f6c281',\n",
      " 'sICXRate': 1020844721329202557,\n",
      " 'totalBorrows': 100000000000000000000,\n",
      " 'totalBorrowsUSD': 183445796422857699500,\n",
      " 'totalLiquidity': 984483729472659675269,\n",
      " 'totalLiquidityUSD': 1805994018184572394068,\n",
      " 'usageAsCollateralEnabled': '0x1'}\n"
     ]
    }
   ],
   "source": [
    "#this returns the reserve data of USDb\n",
    "params = {'_reserve': contracts['sicx']}\n",
    "_call = CallBuilder()\\\n",
    "    .from_(deployer_wallet.get_address())\\\n",
    "    .to(contracts['lendingPoolDataProvider'])\\\n",
    "    .method(\"getReserveData\")\\\n",
    "    .params(params)\\\n",
    "    .build()\n",
    "response = icon_service.call(_call)\n",
    "for key,values in response.items():\n",
    "    if values==\"0x1\" or values ==\"0x0\" or \"Address\" in key:\n",
    "        continue\n",
    "    if key!=\"lastUpdateTimestamp\":\n",
    "        response[key]=int(values,0)\n",
    "    else:\n",
    "        response[key]=int(values,0)\n",
    "\n",
    "pprint(response)"
   ]
  },
  {
   "cell_type": "markdown",
   "metadata": {},
   "source": [
    "# Reserve Account Data"
   ]
  },
  {
   "cell_type": "code",
   "execution_count": 39,
   "metadata": {
    "tags": []
   },
   "outputs": [
    {
     "name": "stdout",
     "output_type": "stream",
     "text": [
      "{'availableLiquidityBalanceUSD': 0.0,\n",
      " 'totalBorrowsBalanceUSD': 0.0,\n",
      " 'totalCollateralBalanceUSD': 0.0,\n",
      " 'totalLiquidityBalanceUSD': 0.0}\n"
     ]
    }
   ],
   "source": [
    "#this returns the reserve data of USDb\n",
    "\n",
    "_call = CallBuilder()\\\n",
    "    .from_(deployer_wallet.get_address())\\\n",
    "    .to(contracts['lendingPoolDataProvider'])\\\n",
    "    .method(\"getReserveAccountData\")\\\n",
    "    .build()\n",
    "response = icon_service.call(_call)\n",
    "# print(response)\n",
    "for key,values in response.items():\n",
    "    response[key]=int(values,0)/10**18\n",
    "        \n",
    "\n",
    "pprint(response)"
   ]
  },
  {
   "cell_type": "markdown",
   "metadata": {},
   "source": [
    "### Getting data of all reserves"
   ]
  },
  {
   "cell_type": "code",
   "execution_count": 159,
   "metadata": {
    "tags": []
   },
   "outputs": [
    {
     "name": "stdout",
     "output_type": "stream",
     "text": [
      "{'USDb': {'availableLiquidity': 298500.0,\n",
      "          'baseLTVasCollateral': 0.6,\n",
      "          'borrowCumulativeIndex': 1.0000011584585715,\n",
      "          'borrowRate': 0.08359381655340004,\n",
      "          'borrowingEnabled': '0x1',\n",
      "          'decimals': 1.8e-17,\n",
      "          'isActive': '0x1',\n",
      "          'isFreezed': '0x0',\n",
      "          'lastUpdateTimestamp': 1606110048844793,\n",
      "          'liquidationBonus': 1e-17,\n",
      "          'liquidationThreshold': 0.65,\n",
      "          'liquidityCumulativeIndex': 1.0000005791745306,\n",
      "          'liquidityRate': 0.04716259038240734,\n",
      "          'oTokenAddress': 'cx2f4c43ec2c69321573e93549d89462de4a25fdbe',\n",
      "          'reserveAddress': 'cx134a1a0309aaf88a00ad1fee4983b7ed43454ab6',\n",
      "          'totalBorrows': 501500.1141552619,\n",
      "          'totalLiquidity': 800000.1141552619,\n",
      "          'usageAsCollateralEnabled': '0x1'},\n",
      " 'sICX': {'availableLiquidity': '0x0',\n",
      "          'baseLTVasCollateral': 0.33,\n",
      "          'borrowCumulativeIndex': 1.0,\n",
      "          'borrowRate': '0x0',\n",
      "          'borrowingEnabled': '0x1',\n",
      "          'decimals': 1.8e-17,\n",
      "          'isActive': '0x1',\n",
      "          'isFreezed': '0x0',\n",
      "          'lastUpdateTimestamp': '0x0',\n",
      "          'liquidationBonus': 1e-17,\n",
      "          'liquidationThreshold': 0.65,\n",
      "          'liquidityCumulativeIndex': 1.0,\n",
      "          'liquidityRate': '0x0',\n",
      "          'oTokenAddress': 'cx6dbb85df52d7b12d2c00d673d89c5bf21ee29be2',\n",
      "          'reserveAddress': 'cx735ee7e87d30d76a83b27c7bc62a84b5beafa34b',\n",
      "          'totalBorrows': '0x0',\n",
      "          'totalLiquidity': '0x0',\n",
      "          'usageAsCollateralEnabled': '0x1'}}\n"
     ]
    }
   ],
   "source": [
    "#this returns the reserve data of all the reserves\n",
    "params = {'_reserve': contracts['sample_token']}\n",
    "_call = CallBuilder()\\\n",
    "    .from_(deployer_wallet.get_address())\\\n",
    "    .to(contracts['lendingPoolDataProvider'])\\\n",
    "    .method(\"getAllReserveData\")\\\n",
    "    .build()\n",
    "response = icon_service.call(_call)\n",
    "for key,values in response.items():\n",
    "    for k,v in values.items():\n",
    "        if v==\"0x1\" or v ==\"0x0\" or \"Address\" in k:\n",
    "            continue\n",
    "        if k!=\"lastUpdateTimestamp\":\n",
    "            response[key][k]=int(v,0)/10**18\n",
    "        else:\n",
    "            response[key][k]=int(v,0)\n",
    "pprint(response)"
   ]
  },
  {
   "cell_type": "markdown",
   "metadata": {},
   "source": [
    "### Getting user account data"
   ]
  },
  {
   "cell_type": "code",
   "execution_count": 41,
   "metadata": {
    "tags": []
   },
   "outputs": [
    {
     "name": "stdout",
     "output_type": "stream",
     "text": [
      "{'borrowingPower': 0.0,\n",
      " 'currentLiquidationThreshold': 0.0,\n",
      " 'currentLtv': 0.0,\n",
      " 'healthFactor': -1e-18,\n",
      " 'healthFactorBelowThreshold': 0.0,\n",
      " 'totalBorrowBalanceUSD': 0.0,\n",
      " 'totalCollateralBalanceUSD': 0.0,\n",
      " 'totalFeesUSD': 0.0,\n",
      " 'totalLiquidityBalanceUSD': 0.0}\n"
     ]
    }
   ],
   "source": [
    "#returns the user data of all the reserves combined\n",
    "params = {'_user': 'hx91bf040426f226b3bfcd2f0b5967bbb0320525ce'}\n",
    "_call = CallBuilder()\\\n",
    "    .from_(deployer_wallet.get_address())\\\n",
    "    .to(contracts['lendingPoolDataProvider'])\\\n",
    "    .method(\"getUserAccountData\")\\\n",
    "    .params(params)\\\n",
    "    .build()\n",
    "response = icon_service.call(_call)\n",
    "for key,values in response.items():\n",
    "    if key!=\"lastUpdateTimestamp\":\n",
    "        response[key]=int(values,0)/10**18\n",
    "    else:\n",
    "        response[key]=int(values,0)\n",
    "pprint(response)"
   ]
  },
  {
   "cell_type": "markdown",
   "metadata": {},
   "source": [
    "### Getting user reserve data"
   ]
  },
  {
   "cell_type": "code",
   "execution_count": 31,
   "metadata": {
    "tags": []
   },
   "outputs": [
    {
     "name": "stdout",
     "output_type": "stream",
     "text": [
      "{'borrowRate': 0.018912999951505187,\n",
      " 'currentBorrowBalance': 40.500628612069235,\n",
      " 'currentBorrowBalanceUSD': 20.250314306034618,\n",
      " 'currentOTokenBalance': 250.00056435725696,\n",
      " 'currentOTokenBalanceUSD': 125.00028217862848,\n",
      " 'lastUpdateTimestamp': 1606843688248792,\n",
      " 'liquidityRate': 0.002759412089563471,\n",
      " 'originationFee': 0.0,\n",
      " 'principalBorrowBalance': 40.50062730044531,\n",
      " 'principalBorrowBalanceUSD': 20.250313650222655,\n",
      " 'useAsCollateral': 1e-18,\n",
      " 'userBorrowCumulativeIndex': 1.000011493399191}\n"
     ]
    }
   ],
   "source": [
    "#returns the data of a specific user for a specific reserve\n",
    "#this returns the data of user for USDb reserve\n",
    "params = {'_user': 'hx91bf040426f226b3bfcd2f0b5967bbb0320525ce' ,\"_reserve\":contracts['sicx']}\n",
    "_call = CallBuilder()\\\n",
    "    .from_(deployer_wallet.get_address())\\\n",
    "    .to(contracts['lendingPoolDataProvider'])\\\n",
    "    .method(\"getUserReserveData\")\\\n",
    "    .params(params)\\\n",
    "    .build()\n",
    "response = icon_service.call(_call)\n",
    "for key,values in response.items():\n",
    "    if key!=\"lastUpdateTimestamp\":\n",
    "        response[key]=int(values,0)/10**18\n",
    "    else:\n",
    "        response[key]=int(values,0)\n",
    "pprint(response)"
   ]
  },
  {
   "cell_type": "markdown",
   "metadata": {},
   "source": [
    "# Getting All Reserve Data"
   ]
  },
  {
   "cell_type": "code",
   "execution_count": 44,
   "metadata": {},
   "outputs": [
    {
     "name": "stdout",
     "output_type": "stream",
     "text": [
      "{'USDb': {'availableLiquidity': '0x3f35b7a91f3815900000',\n",
      "          'baseLTVasCollateral': '0x853a0d2313c0000',\n",
      "          'borrowCumulativeIndex': '0xde0b7c160e6fb0d',\n",
      "          'borrowRate': '0x128fc221d15a6e5',\n",
      "          'borrowingEnabled': '0x1',\n",
      "          'decimals': '0x12',\n",
      "          'isActive': '0x1',\n",
      "          'isFreezed': '0x0',\n",
      "          'lastUpdateTimestamp': '0x5b4bfa2ee7bf9',\n",
      "          'liquidationBonus': '0xa',\n",
      "          'liquidationThreshold': '0x905438e60010000',\n",
      "          'liquidityCumulativeIndex': '0xde0b73a80e1fe23',\n",
      "          'liquidityRate': '0xa78e20466e3ea9',\n",
      "          'oTokenAddress': 'cx2f4c43ec2c69321573e93549d89462de4a25fdbe',\n",
      "          'reserveAddress': 'cx134a1a0309aaf88a00ad1fee4983b7ed43454ab6',\n",
      "          'totalBorrows': '0x6a32602b7ababa00e840',\n",
      "          'totalLiquidity': '0xa96817d499f2cf90e840',\n",
      "          'usageAsCollateralEnabled': '0x1'},\n",
      " 'sICX': {'availableLiquidity': '0x0',\n",
      "          'baseLTVasCollateral': '0x494654067e10000',\n",
      "          'borrowCumulativeIndex': '0xde0b6b3a7640000',\n",
      "          'borrowRate': '0x0',\n",
      "          'borrowingEnabled': '0x1',\n",
      "          'decimals': '0x12',\n",
      "          'isActive': '0x1',\n",
      "          'isFreezed': '0x0',\n",
      "          'lastUpdateTimestamp': '0x0',\n",
      "          'liquidationBonus': '0xa',\n",
      "          'liquidationThreshold': '0x905438e60010000',\n",
      "          'liquidityCumulativeIndex': '0xde0b6b3a7640000',\n",
      "          'liquidityRate': '0x0',\n",
      "          'oTokenAddress': 'cx6dbb85df52d7b12d2c00d673d89c5bf21ee29be2',\n",
      "          'reserveAddress': 'cx735ee7e87d30d76a83b27c7bc62a84b5beafa34b',\n",
      "          'totalBorrows': '0x0',\n",
      "          'totalLiquidity': '0x0',\n",
      "          'usageAsCollateralEnabled': '0x1'}}\n"
     ]
    }
   ],
   "source": [
    "_call = CallBuilder()\\\n",
    "    .from_(deployer_wallet.get_address())\\\n",
    "    .to(contracts['lendingPoolDataProvider'])\\\n",
    "    .method(\"getAllReserveData\")\\\n",
    "    .build()\n",
    "response = icon_service.call(_call)\n",
    "pprint(response)"
   ]
  },
  {
   "cell_type": "markdown",
   "metadata": {},
   "source": [
    "### Getting the data of user for all reserves"
   ]
  },
  {
   "cell_type": "code",
   "execution_count": 42,
   "metadata": {
    "tags": []
   },
   "outputs": [
    {
     "name": "stdout",
     "output_type": "stream",
     "text": [
      "{'USDb': {'borrowRate': 0.0,\n",
      "          'currentBorrowBalance': 0.0,\n",
      "          'currentBorrowBalanceUSD': 0.0,\n",
      "          'currentOTokenBalance': 0.0,\n",
      "          'currentOTokenBalanceUSD': 0.0,\n",
      "          'lastUpdateTimestamp': 0,\n",
      "          'liquidityRate': 0.0,\n",
      "          'originationFee': 0.0,\n",
      "          'principalBorrowBalance': 0.0,\n",
      "          'principalBorrowBalanceUSD': 0.0,\n",
      "          'useAsCollateral': 0.0,\n",
      "          'userBorrowCumulativeIndex': 0.0},\n",
      " 'sICX': {'borrowRate': 0.0,\n",
      "          'currentBorrowBalance': 0.0,\n",
      "          'currentBorrowBalanceUSD': 0.0,\n",
      "          'currentOTokenBalance': 0.0,\n",
      "          'currentOTokenBalanceUSD': 0.0,\n",
      "          'lastUpdateTimestamp': 0,\n",
      "          'liquidityRate': 0.0,\n",
      "          'originationFee': 0.0,\n",
      "          'principalBorrowBalance': 0.0,\n",
      "          'principalBorrowBalanceUSD': 0.0,\n",
      "          'useAsCollateral': 0.0,\n",
      "          'userBorrowCumulativeIndex': 0.0}}\n"
     ]
    }
   ],
   "source": [
    "#returns the data of a specific user for all reserves\n",
    "\n",
    "params = {'_user': 'hx91bf040426f226b3bfcd2f0b5967bbb0320525ce'}\n",
    "_call = CallBuilder()\\\n",
    "    .from_(deployer_wallet.get_address())\\\n",
    "    .to(contracts['lendingPoolDataProvider'])\\\n",
    "    .method(\"getUserAllReserveData\")\\\n",
    "    .params(params)\\\n",
    "    .build()\n",
    "response = icon_service.call(_call)\n",
    "for key,values in response.items():\n",
    "    for k,v in values.items():\n",
    "        if k!=\"lastUpdateTimestamp\":\n",
    "            response[key][k]=int(v,0)/10**18\n",
    "        else:\n",
    "            response[key][k]=int(v,0)\n",
    "pprint(response)"
   ]
  },
  {
   "cell_type": "markdown",
   "metadata": {},
   "source": [
    "## Getting user delegation preference"
   ]
  },
  {
   "cell_type": "code",
   "execution_count": null,
   "metadata": {},
   "outputs": [],
   "source": [
    "params = {'_user':deployer_wallet.get_address()}\n",
    "# params = {'_user':\"hx81bf040426f226b3bfcd2f0b5967bbb0320525cf\"}\n",
    "_call = CallBuilder()\\\n",
    "    .from_(\"hx81bf040426f226b3bfcd2f0b5967bbb0320525cf\")\\\n",
    "    .to(contracts['delegation'])\\\n",
    "    .method(\"getUserDelegationDetails\")\\\n",
    "    .params(params)\\\n",
    "    .build()\n",
    "response = icon_service.call(_call)\n",
    "pprint(response)"
   ]
  },
  {
   "cell_type": "markdown",
   "metadata": {},
   "source": [
    "## Getting delegation percentage for preps"
   ]
  },
  {
   "cell_type": "code",
   "execution_count": null,
   "metadata": {},
   "outputs": [],
   "source": [
    "\n",
    "_call = CallBuilder()\\\n",
    "    .from_(\"hx91bf040426f226b3bfcd2f0b5967bbb0320525ce\")\\\n",
    "    .to(contracts['delegation'])\\\n",
    "    .method(\"computeDelegationPercentages\")\\\n",
    "    .build()\n",
    "response = icon_service.call(_call)\n",
    "data = []\n",
    "for items in response:\n",
    "    items['_votes_in_per']= int(items['_votes_in_per'],0) / 10**18\n",
    "    data.append(items)\n",
    "\n",
    "pprint(data)\n",
    "# hxec79e9c1c882632688f8c8f9a07832bcabe8be8f\n",
    "# hxec79e9c1c882632688f8c8f9a07832bcabe8be8f"
   ]
  },
  {
   "cell_type": "markdown",
   "metadata": {},
   "source": [
    "## Getting top preps from testnet"
   ]
  },
  {
   "cell_type": "code",
   "execution_count": null,
   "metadata": {},
   "outputs": [],
   "source": [
    "params = {\"startRanking\": 1,\"endRanking\":2}\n",
    "_call = CallBuilder()\\\n",
    "    .from_(\"hx91bf040426f226b3bfcd2f0b5967bbb0320525ce\")\\\n",
    "    .to(GOVERNANCE_ADDRESS)\\\n",
    "    .method(\"getPReps\")\\\n",
    "    .params(params)\\\n",
    "    .build()\n",
    "response = icon_service.call(_call)\n",
    "pprint(response)\n",
    "hxec79e9c1c882632688f8c8f9a07832bcabe8be8f\n",
    "hxec79e9c1c882632688f8c8f9a07832bcabe8be8f"
   ]
  }
 ],
 "metadata": {
  "celltoolbar": "Slideshow",
  "kernelspec": {
   "display_name": "Python 3",
   "language": "python",
   "name": "python3"
  },
  "language_info": {
   "codemirror_mode": {
    "name": "ipython",
    "version": 3
   },
   "file_extension": ".py",
   "mimetype": "text/x-python",
   "name": "python",
   "nbconvert_exporter": "python",
   "pygments_lexer": "ipython3",
   "version": "3.7.0"
  },
  "rise": {
   "scroll": true
  }
 },
 "nbformat": 4,
 "nbformat_minor": 2
}
