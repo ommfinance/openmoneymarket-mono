{
 "cells": [
  {
   "cell_type": "markdown",
   "metadata": {
    "slideshow": {
     "slide_type": "slide"
    }
   },
   "source": [
    "# Jupyter Notebook to clean install all the contracts"
   ]
  },
  {
   "cell_type": "markdown",
   "metadata": {
    "slideshow": {
     "slide_type": "slide"
    }
   },
   "source": [
    "\n",
    "### Necessary packages "
   ]
  },
  {
   "cell_type": "code",
   "execution_count": 23,
   "metadata": {},
   "outputs": [
    {
     "output_type": "display_data",
     "data": {
      "text/plain": "<IPython.core.display.HTML object>",
      "text/html": "<style>.container { width:100% !important; }</style>"
     },
     "metadata": {}
    }
   ],
   "source": [
    "from IPython.core.display import display, HTML\n",
    "display(HTML(\"<style>.container { width:100% !important; }</style>\"))\n"
   ]
  },
  {
   "cell_type": "markdown",
   "metadata": {},
   "source": [
    "# Set Up Environment"
   ]
  },
  {
   "cell_type": "code",
   "execution_count": 2,
   "metadata": {
    "tags": []
   },
   "outputs": [
    {
     "output_type": "stream",
     "name": "stdout",
     "text": [
      "Pretty printing has been turned OFF\n"
     ]
    }
   ],
   "source": [
    "pprint(contracts)"
   ]
  },
  {
   "cell_type": "code",
   "execution_count": 31,
   "metadata": {},
   "outputs": [],
   "source": [
    "network = \"custom\"  # set this to one of mainnet, yeouido, euljiro, pagoda, or custom\n",
    "contracts_file_custom = 'custom_contracts_20201125111607.pkl'\n",
    "#contracts_20201109120425\n",
    "\n",
    "connections = {\n",
    "\"mainnet\": {\"iconservice\": \"https://ctz.solidwallet.io\",       \"nid\": 1},\n",
    "\"yeouido\": {\"iconservice\": \"https://bicon.net.solidwallet.io\", \"nid\": 3},\n",
    "\"euljiro\": {\"iconservice\": \"https://test-ctz.solidwallet.io\",  \"nid\": 2},\n",
    "\"pagoda\":  {\"iconservice\": \"https://zicon.net.solidwallet.io\", \"nid\":80},\n",
    "\"custom\":  {\"iconservice\": \"http://18.237.205.52:9000/\",       \"nid\": 3},\n",
    "\"local\":   {\"iconservice\": \"http://localhost:9000/\",           \"nid\": 3}\n",
    "}\n",
    "\n",
    "env = connections[network]"
   ]
  },
  {
   "cell_type": "code",
   "execution_count": 32,
   "metadata": {},
   "outputs": [],
   "source": [
    "class AutoVivification(dict):\n",
    "    \"\"\"Implementation of perl's autovivification feature.\"\"\"\n",
    "    def __getitem__(self, item):\n",
    "        try:\n",
    "            return dict.__getitem__(self, item)\n",
    "        except KeyError:\n",
    "            value = self[item] = type(self)()\n",
    "            return value"
   ]
  },
  {
   "cell_type": "code",
   "execution_count": 33,
   "metadata": {
    "slideshow": {
     "slide_type": "-"
    }
   },
   "outputs": [],
   "source": [
    "from iconsdk.exception import JSONRPCException\n",
    "from iconsdk.libs.in_memory_zip import gen_deploy_data_content\n",
    "from iconsdk.icon_service import IconService\n",
    "from iconsdk.providers.http_provider import HTTPProvider\n",
    "from iconsdk.builder.transaction_builder import CallTransactionBuilder, TransactionBuilder, DeployTransactionBuilder\n",
    "from iconsdk.builder.call_builder import CallBuilder\n",
    "from iconsdk.signed_transaction import SignedTransaction\n",
    "from iconsdk.wallet.wallet import KeyWallet\n",
    "from iconsdk.utils.convert_type import convert_hex_str_to_int\n",
    "from datetime import datetime\n",
    "from repeater import retry\n",
    "from shutil import make_archive\n",
    "import requests\n",
    "import json\n",
    "import pickle as pkl\n",
    "import csv\n",
    "import os\n",
    "from pprint import pprint\n",
    "from getpass import getpass\n",
    "\n",
    "\n",
    "ICX = 1000000000000000000 # 10**18\n",
    "GOVERNANCE_ADDRESS = \"cx0000000000000000000000000000000000000000\"\n",
    "\n",
    "\n",
    "with open(contracts_file_custom, 'rb') as f:\n",
    "    contracts = pkl.load(f)\n",
    "\n",
    "@retry(JSONRPCException, tries=10, delay=1, back_off=2)\n",
    "def get_tx_result(_tx_hash):\n",
    "    tx_result = icon_service.get_transaction_result(_tx_hash)\n",
    "    return tx_result\n",
    "\n",
    "\n"
   ]
  },
  {
   "cell_type": "markdown",
   "metadata": {
    "slideshow": {
     "slide_type": "-"
    }
   },
   "source": [
    "### Required service"
   ]
  },
  {
   "cell_type": "code",
   "execution_count": 34,
   "metadata": {},
   "outputs": [],
   "source": [
    "icon_service = IconService(HTTPProvider(env[\"iconservice\"], 3))\n",
    "NID = env[\"nid\"]"
   ]
  },
  {
   "cell_type": "code",
   "execution_count": 35,
   "metadata": {},
   "outputs": [
    {
     "output_type": "stream",
     "name": "stdout",
     "text": [
      "{'addressProvider': {'SCORE': 'cx2a4267624dfeb9a79b931424fd8ac7b81c5cf805',\n                     'zip': '/home/elite/Desktop/OMM '\n                            'OG/openmoneymarket-mono/score/addressProvider'},\n 'feeProvider': {'SCORE': 'cx14ed4464849d2b34a43a54e4ae8bbdcf64bae671',\n                 'zip': '/home/elite/Desktop/OMM '\n                        'OG/openmoneymarket-mono/score/feeProvider'},\n 'lendingPool': {'SCORE': 'cx5dbae1f5dc20f2d0d16034a07869b6f0bedd14f6',\n                 'zip': '/home/elite/Desktop/OMM '\n                        'OG/openmoneymarket-mono/score/lendingPool'},\n 'lendingPoolCore': {'SCORE': 'cxaa345a5dbea93b27754e44024d5ea14ccbf09c62',\n                     'zip': '/home/elite/Desktop/OMM '\n                            'OG/openmoneymarket-mono/score/lendingPoolCore'},\n 'lendingPoolDataProvider': {'SCORE': 'cxb5083e61b035b31b0bffa7350ff276349069eb60',\n                             'zip': '/home/elite/Desktop/OMM '\n                                    'OG/openmoneymarket-mono/score/lendingPoolDataProvider'},\n 'oICX': {'SCORE': 'cxe6b279229d10c9230b59cb50349589a015401925',\n          'zip': '/home/elite/Desktop/OMM '\n                 'OG/openmoneymarket-mono/score/oToken'},\n 'oToken': {'SCORE': 'cxb7e290801d011961da1974dd84818082cf881246',\n            'zip': '/home/elite/Desktop/OMM '\n                   'OG/openmoneymarket-mono/score/oToken'},\n 'priceOracle': {'SCORE': 'cx790de19720a6af19c50d264f53529bab60fe6837',\n                 'zip': '/home/elite/Desktop/OMM '\n                        'OG/openmoneymarket-mono/score/priceOracle'},\n 'sample_token': {'SCORE': 'cx629b3f914cb8202745ff6da14d69f1aee1087cc1',\n                  'zip': '/home/elite/Desktop/OMM '\n                         'OG/openmoneymarket-mono/score/sample_token'},\n 'sicx': {'SCORE': 'cxe74650f0903ef43102b74fb7d4949ad2f42eeff9',\n          'zip': '/home/elite/Desktop/OMM OG/openmoneymarket-mono/score/sicx'}}\n"
     ]
    }
   ],
   "source": [
    "pprint(contracts)"
   ]
  },
  {
   "cell_type": "markdown",
   "metadata": {
    "slideshow": {
     "slide_type": "-"
    }
   },
   "source": [
    "# Importing wallet"
   ]
  },
  {
   "cell_type": "markdown",
   "metadata": {},
   "source": [
    "### Importing from private key"
   ]
  },
  {
   "cell_type": "code",
   "execution_count": 36,
   "metadata": {
    "scrolled": true
   },
   "outputs": [
    {
     "output_type": "execute_result",
     "data": {
      "text/plain": [
       "'hx91bf040426f226b3bfcd2f0b5967bbb0320525ce'"
      ]
     },
     "metadata": {},
     "execution_count": 36
    }
   ],
   "source": [
    "\n",
    "private=\"a691ef7d5601f9b5be4f9b9d80215159ea6ff0b88003e3d34e078d40e778b39a\"\n",
    "deployer_wallet = KeyWallet.load(bytes.fromhex(private))\n",
    "deployer_wallet.get_address()\n"
   ]
  },
  {
   "cell_type": "code",
   "execution_count": 37,
   "metadata": {},
   "outputs": [
    {
     "output_type": "execute_result",
     "data": {
      "text/plain": [
       "78703506361792600000000000"
      ]
     },
     "metadata": {},
     "execution_count": 37
    }
   ],
   "source": [
    "icon_service.get_balance(\"hx91bf040426f226b3bfcd2f0b5967bbb0320525ce\")"
   ]
  },
  {
   "cell_type": "markdown",
   "metadata": {},
   "source": [
    "### Importing wallet from keystore file"
   ]
  },
  {
   "cell_type": "code",
   "execution_count": 9,
   "metadata": {
    "tags": []
   },
   "outputs": [
    {
     "output_type": "stream",
     "name": "stderr",
     "text": [
      "Raised KeyStoreException while loading the wallet by the keystore file because the file is not found.\nTraceback (most recent call last):\n  File \"/home/elite/.local/lib/python3.8/site-packages/iconsdk/wallet/wallet.py\", line 101, in load\n    with open(file_path, 'rb') as file:\nFileNotFoundError: [Errno 2] No such file or directory: './keystores/keystore_test1.json'\n"
     ]
    },
    {
     "output_type": "error",
     "ename": "KeyStoreException",
     "evalue": "File is not found. (Key store error)",
     "traceback": [
      "\u001b[0;31m---------------------------------------------------------------------------\u001b[0m",
      "\u001b[0;31mFileNotFoundError\u001b[0m                         Traceback (most recent call last)",
      "\u001b[0;32m~/.local/lib/python3.8/site-packages/iconsdk/wallet/wallet.py\u001b[0m in \u001b[0;36mload\u001b[0;34m(file_path, password)\u001b[0m\n\u001b[1;32m    100\u001b[0m         \u001b[0;32mtry\u001b[0m\u001b[0;34m:\u001b[0m\u001b[0;34m\u001b[0m\u001b[0;34m\u001b[0m\u001b[0m\n\u001b[0;32m--> 101\u001b[0;31m             \u001b[0;32mwith\u001b[0m \u001b[0mopen\u001b[0m\u001b[0;34m(\u001b[0m\u001b[0mfile_path\u001b[0m\u001b[0;34m,\u001b[0m \u001b[0;34m'rb'\u001b[0m\u001b[0;34m)\u001b[0m \u001b[0;32mas\u001b[0m \u001b[0mfile\u001b[0m\u001b[0;34m:\u001b[0m\u001b[0;34m\u001b[0m\u001b[0;34m\u001b[0m\u001b[0m\n\u001b[0m\u001b[1;32m    102\u001b[0m                 \u001b[0mprivate_key\u001b[0m\u001b[0;34m:\u001b[0m \u001b[0mbytes\u001b[0m \u001b[0;34m=\u001b[0m \u001b[0mextract_key_from_keyfile\u001b[0m\u001b[0;34m(\u001b[0m\u001b[0mfile\u001b[0m\u001b[0;34m,\u001b[0m \u001b[0mbytes\u001b[0m\u001b[0;34m(\u001b[0m\u001b[0mpassword\u001b[0m\u001b[0;34m,\u001b[0m \u001b[0;34m'utf-8'\u001b[0m\u001b[0;34m)\u001b[0m\u001b[0;34m)\u001b[0m\u001b[0;34m\u001b[0m\u001b[0;34m\u001b[0m\u001b[0m\n",
      "\u001b[0;31mFileNotFoundError\u001b[0m: [Errno 2] No such file or directory: './keystores/keystore_test1.json'",
      "\nDuring handling of the above exception, another exception occurred:\n",
      "\u001b[0;31mKeyStoreException\u001b[0m                         Traceback (most recent call last)",
      "\u001b[0;32m<ipython-input-9-2c57555b4573>\u001b[0m in \u001b[0;36m<module>\u001b[0;34m\u001b[0m\n\u001b[1;32m      1\u001b[0m \u001b[0;31m# Set to the address of the keystore file and give the password when prompted\u001b[0m\u001b[0;34m\u001b[0m\u001b[0;34m\u001b[0m\u001b[0;34m\u001b[0m\u001b[0m\n\u001b[1;32m      2\u001b[0m \u001b[0mpassword\u001b[0m \u001b[0;34m=\u001b[0m \u001b[0mgetpass\u001b[0m\u001b[0;34m(\u001b[0m\u001b[0;34m)\u001b[0m\u001b[0;34m\u001b[0m\u001b[0;34m\u001b[0m\u001b[0m\n\u001b[0;32m----> 3\u001b[0;31m \u001b[0mdeployer_wallet\u001b[0m \u001b[0;34m=\u001b[0m \u001b[0mKeyWallet\u001b[0m\u001b[0;34m.\u001b[0m\u001b[0mload\u001b[0m\u001b[0;34m(\u001b[0m\u001b[0;34m\"./keystores/keystore_test1.json\"\u001b[0m\u001b[0;34m,\u001b[0m\u001b[0mpassword\u001b[0m\u001b[0;34m)\u001b[0m\u001b[0;34m\u001b[0m\u001b[0;34m\u001b[0m\u001b[0m\n\u001b[0m\u001b[1;32m      4\u001b[0m \u001b[0mdeployer_wallet\u001b[0m\u001b[0;34m.\u001b[0m\u001b[0mget_address\u001b[0m\u001b[0;34m(\u001b[0m\u001b[0;34m)\u001b[0m\u001b[0;34m\u001b[0m\u001b[0;34m\u001b[0m\u001b[0m\n\u001b[1;32m      5\u001b[0m \u001b[0micon_service\u001b[0m\u001b[0;34m.\u001b[0m\u001b[0mget_balance\u001b[0m\u001b[0;34m(\u001b[0m\u001b[0mdeployer_wallet\u001b[0m\u001b[0;34m.\u001b[0m\u001b[0mget_address\u001b[0m\u001b[0;34m(\u001b[0m\u001b[0;34m)\u001b[0m\u001b[0;34m)\u001b[0m\u001b[0;34m\u001b[0m\u001b[0;34m\u001b[0m\u001b[0m\n",
      "\u001b[0;32m~/.local/lib/python3.8/site-packages/multipledispatch/dispatcher.py\u001b[0m in \u001b[0;36m__call__\u001b[0;34m(self, *args, **kwargs)\u001b[0m\n\u001b[1;32m    276\u001b[0m             \u001b[0mself\u001b[0m\u001b[0;34m.\u001b[0m\u001b[0m_cache\u001b[0m\u001b[0;34m[\u001b[0m\u001b[0mtypes\u001b[0m\u001b[0;34m]\u001b[0m \u001b[0;34m=\u001b[0m \u001b[0mfunc\u001b[0m\u001b[0;34m\u001b[0m\u001b[0;34m\u001b[0m\u001b[0m\n\u001b[1;32m    277\u001b[0m         \u001b[0;32mtry\u001b[0m\u001b[0;34m:\u001b[0m\u001b[0;34m\u001b[0m\u001b[0;34m\u001b[0m\u001b[0m\n\u001b[0;32m--> 278\u001b[0;31m             \u001b[0;32mreturn\u001b[0m \u001b[0mfunc\u001b[0m\u001b[0;34m(\u001b[0m\u001b[0;34m*\u001b[0m\u001b[0margs\u001b[0m\u001b[0;34m,\u001b[0m \u001b[0;34m**\u001b[0m\u001b[0mkwargs\u001b[0m\u001b[0;34m)\u001b[0m\u001b[0;34m\u001b[0m\u001b[0;34m\u001b[0m\u001b[0m\n\u001b[0m\u001b[1;32m    279\u001b[0m \u001b[0;34m\u001b[0m\u001b[0m\n\u001b[1;32m    280\u001b[0m         \u001b[0;32mexcept\u001b[0m \u001b[0mMDNotImplementedError\u001b[0m\u001b[0;34m:\u001b[0m\u001b[0;34m\u001b[0m\u001b[0;34m\u001b[0m\u001b[0m\n",
      "\u001b[0;32m~/.local/lib/python3.8/site-packages/iconsdk/wallet/wallet.py\u001b[0m in \u001b[0;36mload\u001b[0;34m(file_path, password)\u001b[0m\n\u001b[1;32m    109\u001b[0m             logger.exception(\n\u001b[1;32m    110\u001b[0m                 f\"Raised KeyStoreException while loading the wallet by the keystore file because the file is not found.\")\n\u001b[0;32m--> 111\u001b[0;31m             \u001b[0;32mraise\u001b[0m \u001b[0mKeyStoreException\u001b[0m\u001b[0;34m(\u001b[0m\u001b[0;34m\"File is not found.\"\u001b[0m\u001b[0;34m)\u001b[0m\u001b[0;34m\u001b[0m\u001b[0;34m\u001b[0m\u001b[0m\n\u001b[0m\u001b[1;32m    112\u001b[0m         \u001b[0;32mexcept\u001b[0m \u001b[0mValueError\u001b[0m\u001b[0;34m:\u001b[0m\u001b[0;34m\u001b[0m\u001b[0;34m\u001b[0m\u001b[0m\n\u001b[1;32m    113\u001b[0m             logger.exception(\n",
      "\u001b[0;31mKeyStoreException\u001b[0m: File is not found. (Key store error)"
     ]
    }
   ],
   "source": [
    "# Set to the address of the keystore file and give the password when prompted\n",
    "password = getpass()\n",
    "deployer_wallet = KeyWallet.load(\"./keystores/keystore_test1.json\",password)\n",
    "deployer_wallet.get_address()\n",
    "icon_service.get_balance(deployer_wallet.get_address())"
   ]
  },
  {
   "cell_type": "markdown",
   "metadata": {},
   "source": [
    "### Creating new wallet"
   ]
  },
  {
   "cell_type": "code",
   "execution_count": null,
   "metadata": {},
   "outputs": [],
   "source": [
    "deployer_wallet = KeyWallet.create()\n",
    "print(deployer_wallet.get_address())\n",
    "caller_wallet = KeyWallet.create()\n",
    "print(caller_wallet.get_address())"
   ]
  },
  {
   "cell_type": "code",
   "execution_count": 20,
   "metadata": {
    "slideshow": {
     "slide_type": "-"
    },
    "tags": []
   },
   "outputs": [
    {
     "output_type": "execute_result",
     "data": {
      "text/plain": [
       "{'oToken': {'zip': '/home/elite/Desktop/OMM OG/openmoneymarket-mono/score/oToken'},\n",
       " 'sicx': {'zip': '/home/elite/Desktop/OMM OG/openmoneymarket-mono/score/sicx'},\n",
       " 'addressProvider': {'zip': '/home/elite/Desktop/OMM OG/openmoneymarket-mono/score/addressProvider'},\n",
       " 'lendingPoolDataProvider': {'zip': '/home/elite/Desktop/OMM OG/openmoneymarket-mono/score/lendingPoolDataProvider'},\n",
       " 'priceOracle': {'zip': '/home/elite/Desktop/OMM OG/openmoneymarket-mono/score/priceOracle'},\n",
       " 'sample_token': {'zip': '/home/elite/Desktop/OMM OG/openmoneymarket-mono/score/sample_token'},\n",
       " 'lendingPoolCore': {'zip': '/home/elite/Desktop/OMM OG/openmoneymarket-mono/score/lendingPoolCore'},\n",
       " 'lendingPool': {'zip': '/home/elite/Desktop/OMM OG/openmoneymarket-mono/score/lendingPool'},\n",
       " 'feeProvider': {'zip': '/home/elite/Desktop/OMM OG/openmoneymarket-mono/score/feeProvider'},\n",
       " 'oICX': {'zip': '/home/elite/Desktop/OMM OG/openmoneymarket-mono/score/oToken'}}"
      ]
     },
     "metadata": {},
     "execution_count": 20
    }
   ],
   "source": [
    "# Add the contracts. Copy the output from this cell the the one above to save the contract addresses.\n",
    "#Run this when you need to zip the contract codes (before deploying them)\n",
    "contracts=AutoVivification()\n",
    "\n",
    "deploy = ['addressProvider', 'feeProvider', 'lendingPool', 'lendingPoolCore', 'lendingPoolDataProvider','oToken','priceOracle','sample_token', 'sicx']\n",
    "# for directory in {\"score\"}:\n",
    "directory=os.getcwd()\n",
    "with os.scandir(directory) as it:\n",
    "    for file in it:\n",
    "        archive_name = directory + \"/\" + file.name\n",
    "        if file.is_dir() and file.name in deploy:\n",
    "            # make_archive(archive_name, \"zip\", directory, file.name)\n",
    "            contracts[file.name]['zip'] = archive_name \n",
    "contracts['oICX']['zip'] = directory + \"/oToken\"\n",
    "\n",
    "contracts"
   ]
  },
  {
   "cell_type": "markdown",
   "metadata": {},
   "source": [
    "# Deploying all contracts\n"
   ]
  },
  {
   "cell_type": "code",
   "execution_count": 30,
   "metadata": {
    "tags": []
   },
   "outputs": [
    {
     "output_type": "stream",
     "name": "stdout",
     "text": [
      "oToken {'zip': '/home/elite/Desktop/OMM OG/openmoneymarket-mono/score/oToken', 'SCORE': 'cx3c3b8a599b0b90e8cf5f95ca390083c82a838c04'}\n",
      "Raised JSONRPCException while returning the custom response. Error message: {'code': -32602, 'message': 'Pending transaction'}\n",
      "{'code': -32602, 'message': 'Pending transaction'} (Json rpc error), Retrying in 1 seconds...\n",
      "sicx {'zip': '/home/elite/Desktop/OMM OG/openmoneymarket-mono/score/sicx', 'SCORE': 'cxe2e5282c47555534c4d3cd9c922e459651db4b5b'}\n",
      "Raised JSONRPCException while returning the custom response. Error message: {'code': -32602, 'message': 'Pending transaction'}\n",
      "{'code': -32602, 'message': 'Pending transaction'} (Json rpc error), Retrying in 1 seconds...\n",
      "addressProvider {'zip': '/home/elite/Desktop/OMM OG/openmoneymarket-mono/score/addressProvider', 'SCORE': 'cxfbb26f333587547e2119459956c1a9bfa17c909c'}\n",
      "lendingPoolDataProvider {'zip': '/home/elite/Desktop/OMM OG/openmoneymarket-mono/score/lendingPoolDataProvider', 'SCORE': 'cx37d4865a0bc41e5f386134570825ae11a28a41a8'}\n",
      "Raised JSONRPCException while returning the custom response. Error message: {'code': -32602, 'message': 'Pending transaction'}\n",
      "{'code': -32602, 'message': 'Pending transaction'} (Json rpc error), Retrying in 1 seconds...\n",
      "priceOracle {'zip': '/home/elite/Desktop/OMM OG/openmoneymarket-mono/score/priceOracle', 'SCORE': 'cx9fecd8180ac69932e477ddd98457d2b73fa1bf71'}\n",
      "Raised JSONRPCException while returning the custom response. Error message: {'code': -32602, 'message': 'Pending transaction'}\n",
      "{'code': -32602, 'message': 'Pending transaction'} (Json rpc error), Retrying in 1 seconds...\n",
      "sample_token {'zip': '/home/elite/Desktop/OMM OG/openmoneymarket-mono/score/sample_token', 'SCORE': 'cx5d2cd385ce7cba5776fed8b531132a4f7a073369'}\n",
      "Raised JSONRPCException while returning the custom response. Error message: {'code': -32602, 'message': 'Pending transaction'}\n",
      "{'code': -32602, 'message': 'Pending transaction'} (Json rpc error), Retrying in 1 seconds...\n",
      "lendingPoolCore {'zip': '/home/elite/Desktop/OMM OG/openmoneymarket-mono/score/lendingPoolCore', 'SCORE': 'cx473260a416832a70d0d3b4360db2b09545a92573'}\n",
      "Raised JSONRPCException while returning the custom response. Error message: {'code': -32602, 'message': 'Pending transaction'}\n",
      "{'code': -32602, 'message': 'Pending transaction'} (Json rpc error), Retrying in 1 seconds...\n",
      "lendingPool {'zip': '/home/elite/Desktop/OMM OG/openmoneymarket-mono/score/lendingPool', 'SCORE': 'cxd622e901e3111929e05dcc7975536afb74d7e41c'}\n",
      "Raised JSONRPCException while returning the custom response. Error message: {'code': -32602, 'message': 'Pending transaction'}\n",
      "{'code': -32602, 'message': 'Pending transaction'} (Json rpc error), Retrying in 1 seconds...\n",
      "feeProvider {'zip': '/home/elite/Desktop/OMM OG/openmoneymarket-mono/score/feeProvider', 'SCORE': 'cx57e9b5a46ee6c89affbde8eaad092d2a8f62226b'}\n",
      "Raised JSONRPCException while returning the custom response. Error message: {'code': -32602, 'message': 'Pending transaction'}\n",
      "{'code': -32602, 'message': 'Pending transaction'} (Json rpc error), Retrying in 1 seconds...\n",
      "oICX {'zip': '/home/elite/Desktop/OMM OG/openmoneymarket-mono/score/oToken', 'SCORE': 'cx7b48837b4898d840c8bdf862030c0d7dd9a8a9ab'}\n",
      "Raised JSONRPCException while returning the custom response. Error message: {'code': -32602, 'message': 'Pending transaction'}\n",
      "{'code': -32602, 'message': 'Pending transaction'} (Json rpc error), Retrying in 1 seconds...\n",
      "saving contracts list as custom_contracts_20201125111607.pkl\n"
     ]
    },
    {
     "output_type": "execute_result",
     "data": {
      "text/plain": [
       "{'oToken': {'zip': '/home/elite/Desktop/OMM OG/openmoneymarket-mono/score/oToken',\n",
       "  'SCORE': 'cxb7e290801d011961da1974dd84818082cf881246'},\n",
       " 'sicx': {'zip': '/home/elite/Desktop/OMM OG/openmoneymarket-mono/score/sicx',\n",
       "  'SCORE': 'cxe74650f0903ef43102b74fb7d4949ad2f42eeff9'},\n",
       " 'addressProvider': {'zip': '/home/elite/Desktop/OMM OG/openmoneymarket-mono/score/addressProvider',\n",
       "  'SCORE': 'cx2a4267624dfeb9a79b931424fd8ac7b81c5cf805'},\n",
       " 'lendingPoolDataProvider': {'zip': '/home/elite/Desktop/OMM OG/openmoneymarket-mono/score/lendingPoolDataProvider',\n",
       "  'SCORE': 'cxb5083e61b035b31b0bffa7350ff276349069eb60'},\n",
       " 'priceOracle': {'zip': '/home/elite/Desktop/OMM OG/openmoneymarket-mono/score/priceOracle',\n",
       "  'SCORE': 'cx790de19720a6af19c50d264f53529bab60fe6837'},\n",
       " 'sample_token': {'zip': '/home/elite/Desktop/OMM OG/openmoneymarket-mono/score/sample_token',\n",
       "  'SCORE': 'cx629b3f914cb8202745ff6da14d69f1aee1087cc1'},\n",
       " 'lendingPoolCore': {'zip': '/home/elite/Desktop/OMM OG/openmoneymarket-mono/score/lendingPoolCore',\n",
       "  'SCORE': 'cxaa345a5dbea93b27754e44024d5ea14ccbf09c62'},\n",
       " 'lendingPool': {'zip': '/home/elite/Desktop/OMM OG/openmoneymarket-mono/score/lendingPool',\n",
       "  'SCORE': 'cx5dbae1f5dc20f2d0d16034a07869b6f0bedd14f6'},\n",
       " 'feeProvider': {'zip': '/home/elite/Desktop/OMM OG/openmoneymarket-mono/score/feeProvider',\n",
       "  'SCORE': 'cx14ed4464849d2b34a43a54e4ae8bbdcf64bae671'},\n",
       " 'oICX': {'zip': '/home/elite/Desktop/OMM OG/openmoneymarket-mono/score/oToken',\n",
       "  'SCORE': 'cxe6b279229d10c9230b59cb50349589a015401925'}}"
      ]
     },
     "metadata": {},
     "execution_count": 30
    }
   ],
   "source": [
    "#this cell needs to run only when you need to deploy new set of contracts\n",
    "for score, loc in contracts.items():\n",
    "    params = {}\n",
    "    print(score,loc)\n",
    "    if score == \"sample_token\":\n",
    "        params = {'_initialSupply':500000000, '_decimals': 18}\n",
    "    elif score == \"sicx\":\n",
    "        params = {'_initialSupply':500000000, '_decimals': 18}\n",
    "    elif score == \"oICX\":\n",
    "        params = {\"_name\":\"BridgeICXInterestToken\",\"_symbol\":\"oICX\"}\n",
    "    elif score == \"oToken\":\n",
    "        params = {\"_name\":\"BridgeUSDInterestToken\",\"_symbol\":\"oUSDb\"}\n",
    "    deploy_transaction = DeployTransactionBuilder()\\\n",
    "        .from_(deployer_wallet.get_address())\\\n",
    "        .to(GOVERNANCE_ADDRESS)\\\n",
    "        .nid(NID)\\\n",
    "        .nonce(100)\\\n",
    "        .content_type(\"application/zip\")\\\n",
    "        .content(gen_deploy_data_content(loc[\"zip\"]))\\\n",
    "        .params(params)\\\n",
    "        .build()\n",
    "\n",
    "    step_limit = icon_service.estimate_step(deploy_transaction) + 100000\n",
    "    \n",
    "    signed_transaction = SignedTransaction(deploy_transaction, deployer_wallet, step_limit)\n",
    "    tx_hash = icon_service.send_transaction(signed_transaction)\n",
    "\n",
    "    res = get_tx_result(tx_hash)\n",
    "    contracts[score][\"SCORE\"] = res.get('scoreAddress', '')\n",
    "now = datetime.utcnow()\n",
    "filename = f'contracts_{now.year}{str(now.month).zfill(2)}{str(now.day).zfill(2)}{str(now.hour).zfill(2)}{str(now.minute).zfill(2)}{str(now.second).zfill(2)}.pkl'\n",
    "filename=network+'_'+filename\n",
    "print(f'saving contracts list as {filename}')\n",
    "with open(filename, 'wb') as f:\n",
    "    pkl.dump(contracts, f)\n",
    "contracts"
   ]
  },
  {
   "source": [],
   "cell_type": "markdown",
   "metadata": {}
  },
  {
   "cell_type": "code",
   "execution_count": 46,
   "metadata": {},
   "outputs": [
    {
     "output_type": "stream",
     "name": "stdout",
     "text": [
      "saving contracts list as updated20201125_custom_contracts_20201122161857.pkl\n"
     ]
    },
    {
     "output_type": "execute_result",
     "data": {
      "text/plain": [
       "{'lendingPoolDataProvider': {'zip': '/home/shubham/Work/ICON/openmoneymarket-mono/score/lendingPoolDataProvider',\n",
       "  'SCORE': 'cx726e8bacc442256099dda50438c11d004215afc5'},\n",
       " 'lendingPool': {'zip': '/home/shubham/Work/ICON/openmoneymarket-mono/score/lendingPool',\n",
       "  'SCORE': 'cxbfd0ecb9892ca2e1ae3d0494d48f6618620b7e48'},\n",
       " 'feeProvider': {'zip': '/home/shubham/Work/ICON/openmoneymarket-mono/score/feeProvider',\n",
       "  'SCORE': 'cxe408b46a010ff5f82e9e45610a0aadb4ff2b073c'},\n",
       " 'lendingPoolCore': {'zip': '/home/shubham/Work/ICON/openmoneymarket-mono/score/lendingPoolCore',\n",
       "  'SCORE': 'cx3daa5c2517fdd44bdf37904e5e537eefafb4d69d'},\n",
       " 'oToken': {'zip': '/home/shubham/Work/ICON/openmoneymarket-mono/score/oToken',\n",
       "  'SCORE': 'cx2f4c43ec2c69321573e93549d89462de4a25fdbe'},\n",
       " 'priceOracle': {'zip': '/home/shubham/Work/ICON/openmoneymarket-mono/score/priceOracle',\n",
       "  'SCORE': 'cx6703fdc7e0e65c5195d6dbfb59a838f76a9c19b1'},\n",
       " 'sample_token': {'zip': '/home/shubham/Work/ICON/openmoneymarket-mono/score/sample_token',\n",
       "  'SCORE': 'cx134a1a0309aaf88a00ad1fee4983b7ed43454ab6'},\n",
       " 'addressProvider': {'zip': '/home/shubham/Work/ICON/openmoneymarket-mono/score/addressProvider',\n",
       "  'SCORE': 'cx1e6df31409cf3f68fe4028848dca876314a5fbfc'},\n",
       " 'oICX': {'SCORE': 'cx6dbb85df52d7b12d2c00d673d89c5bf21ee29be2',\n",
       "  'zip': '/home/shubham/Work/ICON/openmoneymarket-mono/score/oToken'},\n",
       " 'sicx': {'SCORE': 'cx735ee7e87d30d76a83b27c7bc62a84b5beafa34b',\n",
       "  'zip': '/home/shubham/Work/ICON/openmoneymarket-mono/score/sicx'}}"
      ]
     },
     "metadata": {},
     "execution_count": 46
    }
   ],
   "source": [
    "#use this to update a pre existing pkl file\n",
    "filename = 'updated20201125_' + contracts_file_custom\n",
    "print(f'saving contracts list as {filename}')\n",
    "with open(filename, 'wb') as f:\n",
    "    pkl.dump(contracts, f)\n",
    "contracts"
   ]
  },
  {
   "cell_type": "code",
   "execution_count": 38,
   "metadata": {},
   "outputs": [
    {
     "output_type": "stream",
     "name": "stdout",
     "text": [
      "{'addressProvider': {'SCORE': 'cx2a4267624dfeb9a79b931424fd8ac7b81c5cf805',\n                     'zip': '/home/elite/Desktop/OMM '\n                            'OG/openmoneymarket-mono/score/addressProvider'},\n 'feeProvider': {'SCORE': 'cx14ed4464849d2b34a43a54e4ae8bbdcf64bae671',\n                 'zip': '/home/elite/Desktop/OMM '\n                        'OG/openmoneymarket-mono/score/feeProvider'},\n 'lendingPool': {'SCORE': 'cx5dbae1f5dc20f2d0d16034a07869b6f0bedd14f6',\n                 'zip': '/home/elite/Desktop/OMM '\n                        'OG/openmoneymarket-mono/score/lendingPool'},\n 'lendingPoolCore': {'SCORE': 'cxaa345a5dbea93b27754e44024d5ea14ccbf09c62',\n                     'zip': '/home/elite/Desktop/OMM '\n                            'OG/openmoneymarket-mono/score/lendingPoolCore'},\n 'lendingPoolDataProvider': {'SCORE': 'cxb5083e61b035b31b0bffa7350ff276349069eb60',\n                             'zip': '/home/elite/Desktop/OMM '\n                                    'OG/openmoneymarket-mono/score/lendingPoolDataProvider'},\n 'oICX': {'SCORE': 'cxe6b279229d10c9230b59cb50349589a015401925',\n          'zip': '/home/elite/Desktop/OMM '\n                 'OG/openmoneymarket-mono/score/oToken'},\n 'oToken': {'SCORE': 'cxb7e290801d011961da1974dd84818082cf881246',\n            'zip': '/home/elite/Desktop/OMM '\n                   'OG/openmoneymarket-mono/score/oToken'},\n 'priceOracle': {'SCORE': 'cx790de19720a6af19c50d264f53529bab60fe6837',\n                 'zip': '/home/elite/Desktop/OMM '\n                        'OG/openmoneymarket-mono/score/priceOracle'},\n 'sample_token': {'SCORE': 'cx629b3f914cb8202745ff6da14d69f1aee1087cc1',\n                  'zip': '/home/elite/Desktop/OMM '\n                         'OG/openmoneymarket-mono/score/sample_token'},\n 'sicx': {'SCORE': 'cxe74650f0903ef43102b74fb7d4949ad2f42eeff9',\n          'zip': '/home/elite/Desktop/OMM OG/openmoneymarket-mono/score/sicx'}}\ndict_items([('oToken', {'zip': '/home/elite/Desktop/OMM OG/openmoneymarket-mono/score/oToken', 'SCORE': 'cxb7e290801d011961da1974dd84818082cf881246'}), ('sicx', {'zip': '/home/elite/Desktop/OMM OG/openmoneymarket-mono/score/sicx', 'SCORE': 'cxe74650f0903ef43102b74fb7d4949ad2f42eeff9'}), ('addressProvider', {'zip': '/home/elite/Desktop/OMM OG/openmoneymarket-mono/score/addressProvider', 'SCORE': 'cx2a4267624dfeb9a79b931424fd8ac7b81c5cf805'}), ('lendingPoolDataProvider', {'zip': '/home/elite/Desktop/OMM OG/openmoneymarket-mono/score/lendingPoolDataProvider', 'SCORE': 'cxb5083e61b035b31b0bffa7350ff276349069eb60'}), ('priceOracle', {'zip': '/home/elite/Desktop/OMM OG/openmoneymarket-mono/score/priceOracle', 'SCORE': 'cx790de19720a6af19c50d264f53529bab60fe6837'}), ('sample_token', {'zip': '/home/elite/Desktop/OMM OG/openmoneymarket-mono/score/sample_token', 'SCORE': 'cx629b3f914cb8202745ff6da14d69f1aee1087cc1'}), ('lendingPoolCore', {'zip': '/home/elite/Desktop/OMM OG/openmoneymarket-mono/score/lendingPoolCore', 'SCORE': 'cxaa345a5dbea93b27754e44024d5ea14ccbf09c62'}), ('lendingPool', {'zip': '/home/elite/Desktop/OMM OG/openmoneymarket-mono/score/lendingPool', 'SCORE': 'cx5dbae1f5dc20f2d0d16034a07869b6f0bedd14f6'}), ('feeProvider', {'zip': '/home/elite/Desktop/OMM OG/openmoneymarket-mono/score/feeProvider', 'SCORE': 'cx14ed4464849d2b34a43a54e4ae8bbdcf64bae671'}), ('oICX', {'zip': '/home/elite/Desktop/OMM OG/openmoneymarket-mono/score/oToken', 'SCORE': 'cxe6b279229d10c9230b59cb50349589a015401925'})])\n"
     ]
    }
   ],
   "source": [
    "pprint(contracts)\n",
    "print(contracts.items())"
   ]
  },
  {
   "cell_type": "markdown",
   "metadata": {},
   "source": [
    "# Deploying otoken and sicx for icx"
   ]
  },
  {
   "cell_type": "code",
   "execution_count": 31,
   "metadata": {},
   "outputs": [
    {
     "output_type": "stream",
     "name": "stderr",
     "text": [
      "Raised JSONRPCException while returning the custom response. Error message: {'code': -32602, 'message': 'Pending transaction'}\n",
      "{'code': -32602, 'message': 'Pending transaction'} (Json rpc error), Retrying in 1 seconds...\n",
      "{'txHash': '0xb1ae2334359e4fb41741ac4bbf66cc9166ee4daeafac8fb2885d800fa62c554c', 'blockHeight': 1128147, 'blockHash': '0xc836630e1d11925b0b4286f38e469d779301c15aa98994c5d795070aa1955a44', 'txIndex': 1, 'to': 'cx0000000000000000000000000000000000000000', 'scoreAddress': 'cx6dbb85df52d7b12d2c00d673d89c5bf21ee29be2', 'stepUsed': 1144284440, 'stepPrice': 10000000000, 'cumulativeStepUsed': 1144284440, 'eventLogs': [], 'logsBloom': b'\\x00\\x00\\x00\\x00\\x00\\x00\\x00\\x00\\x00\\x00\\x00\\x00\\x00\\x00\\x00\\x00\\x00\\x00\\x00\\x00\\x00\\x00\\x00\\x00\\x00\\x00\\x00\\x00\\x00\\x00\\x00\\x00\\x00\\x00\\x00\\x00\\x00\\x00\\x00\\x00\\x00\\x00\\x00\\x00\\x00\\x00\\x00\\x00\\x00\\x00\\x00\\x00\\x00\\x00\\x00\\x00\\x00\\x00\\x00\\x00\\x00\\x00\\x00\\x00\\x00\\x00\\x00\\x00\\x00\\x00\\x00\\x00\\x00\\x00\\x00\\x00\\x00\\x00\\x00\\x00\\x00\\x00\\x00\\x00\\x00\\x00\\x00\\x00\\x00\\x00\\x00\\x00\\x00\\x00\\x00\\x00\\x00\\x00\\x00\\x00\\x00\\x00\\x00\\x00\\x00\\x00\\x00\\x00\\x00\\x00\\x00\\x00\\x00\\x00\\x00\\x00\\x00\\x00\\x00\\x00\\x00\\x00\\x00\\x00\\x00\\x00\\x00\\x00\\x00\\x00\\x00\\x00\\x00\\x00\\x00\\x00\\x00\\x00\\x00\\x00\\x00\\x00\\x00\\x00\\x00\\x00\\x00\\x00\\x00\\x00\\x00\\x00\\x00\\x00\\x00\\x00\\x00\\x00\\x00\\x00\\x00\\x00\\x00\\x00\\x00\\x00\\x00\\x00\\x00\\x00\\x00\\x00\\x00\\x00\\x00\\x00\\x00\\x00\\x00\\x00\\x00\\x00\\x00\\x00\\x00\\x00\\x00\\x00\\x00\\x00\\x00\\x00\\x00\\x00\\x00\\x00\\x00\\x00\\x00\\x00\\x00\\x00\\x00\\x00\\x00\\x00\\x00\\x00\\x00\\x00\\x00\\x00\\x00\\x00\\x00\\x00\\x00\\x00\\x00\\x00\\x00\\x00\\x00\\x00\\x00\\x00\\x00\\x00\\x00\\x00\\x00\\x00\\x00\\x00\\x00\\x00\\x00\\x00\\x00\\x00\\x00\\x00\\x00\\x00\\x00\\x00\\x00\\x00\\x00\\x00\\x00\\x00\\x00\\x00\\x00\\x00', 'status': 1}\n",
      "Raised JSONRPCException while returning the custom response. Error message: {'code': -32602, 'message': 'Pending transaction'}\n",
      "{'code': -32602, 'message': 'Pending transaction'} (Json rpc error), Retrying in 1 seconds...\n",
      "{'txHash': '0x38d17f3fe9eb9608a789a58cab9d6f30224e71a170d599f0c074c6ddc73f56bc', 'blockHeight': 1128149, 'blockHash': '0x2fa1a7706d70ccb146481a97bbcc6c05e632d87a24a353aecbea3c8a0c9839cf', 'txIndex': 1, 'to': 'cx0000000000000000000000000000000000000000', 'scoreAddress': 'cx735ee7e87d30d76a83b27c7bc62a84b5beafa34b', 'stepUsed': 1144284440, 'stepPrice': 10000000000, 'cumulativeStepUsed': 1144284440, 'eventLogs': [], 'logsBloom': b'\\x00\\x00\\x00\\x00\\x00\\x00\\x00\\x00\\x00\\x00\\x00\\x00\\x00\\x00\\x00\\x00\\x00\\x00\\x00\\x00\\x00\\x00\\x00\\x00\\x00\\x00\\x00\\x00\\x00\\x00\\x00\\x00\\x00\\x00\\x00\\x00\\x00\\x00\\x00\\x00\\x00\\x00\\x00\\x00\\x00\\x00\\x00\\x00\\x00\\x00\\x00\\x00\\x00\\x00\\x00\\x00\\x00\\x00\\x00\\x00\\x00\\x00\\x00\\x00\\x00\\x00\\x00\\x00\\x00\\x00\\x00\\x00\\x00\\x00\\x00\\x00\\x00\\x00\\x00\\x00\\x00\\x00\\x00\\x00\\x00\\x00\\x00\\x00\\x00\\x00\\x00\\x00\\x00\\x00\\x00\\x00\\x00\\x00\\x00\\x00\\x00\\x00\\x00\\x00\\x00\\x00\\x00\\x00\\x00\\x00\\x00\\x00\\x00\\x00\\x00\\x00\\x00\\x00\\x00\\x00\\x00\\x00\\x00\\x00\\x00\\x00\\x00\\x00\\x00\\x00\\x00\\x00\\x00\\x00\\x00\\x00\\x00\\x00\\x00\\x00\\x00\\x00\\x00\\x00\\x00\\x00\\x00\\x00\\x00\\x00\\x00\\x00\\x00\\x00\\x00\\x00\\x00\\x00\\x00\\x00\\x00\\x00\\x00\\x00\\x00\\x00\\x00\\x00\\x00\\x00\\x00\\x00\\x00\\x00\\x00\\x00\\x00\\x00\\x00\\x00\\x00\\x00\\x00\\x00\\x00\\x00\\x00\\x00\\x00\\x00\\x00\\x00\\x00\\x00\\x00\\x00\\x00\\x00\\x00\\x00\\x00\\x00\\x00\\x00\\x00\\x00\\x00\\x00\\x00\\x00\\x00\\x00\\x00\\x00\\x00\\x00\\x00\\x00\\x00\\x00\\x00\\x00\\x00\\x00\\x00\\x00\\x00\\x00\\x00\\x00\\x00\\x00\\x00\\x00\\x00\\x00\\x00\\x00\\x00\\x00\\x00\\x00\\x00\\x00\\x00\\x00\\x00\\x00\\x00\\x00\\x00\\x00\\x00\\x00\\x00\\x00', 'status': 1}\n"
     ]
    }
   ],
   "source": [
    "params = {\"_name\":\"ICXinterestToken\",\"_symbol\":\"oICX\"}\n",
    "deploy_transaction = DeployTransactionBuilder()\\\n",
    "        .from_(deployer_wallet.get_address())\\\n",
    "        .to(GOVERNANCE_ADDRESS)\\\n",
    "        .nid(NID)\\\n",
    "        .nonce(100)\\\n",
    "        .content_type(\"application/zip\")\\\n",
    "        .content(gen_deploy_data_content('oToken'))\\\n",
    "        .params(params)\\\n",
    "        .build()\n",
    "\n",
    "step_limit = icon_service.estimate_step(deploy_transaction) + 100000\n",
    "\n",
    "signed_transaction = SignedTransaction(deploy_transaction, deployer_wallet, step_limit)\n",
    "tx_hash = icon_service.send_transaction(signed_transaction)\n",
    "\n",
    "res = get_tx_result(tx_hash)\n",
    "print(res)\n",
    "contracts['oICX'][\"SCORE\"] = res.get('scoreAddress', '')\n",
    "contracts['oICX'][\"zip\"] = '/home/shubham/Work/ICON/openmoneymarket-mono/score/oToken'\n",
    "\n",
    "params = {\"_name\":\"ICXinterestToken\",\"_symbol\":\"oICX\"}\n",
    "deploy_transaction = DeployTransactionBuilder()\\\n",
    "        .from_(deployer_wallet.get_address())\\\n",
    "        .to(GOVERNANCE_ADDRESS)\\\n",
    "        .nid(NID)\\\n",
    "        .nonce(100)\\\n",
    "        .content_type(\"application/zip\")\\\n",
    "        .content(gen_deploy_data_content('oToken'))\\\n",
    "        .params(params)\\\n",
    "        .build()\n",
    "\n",
    "step_limit = icon_service.estimate_step(deploy_transaction) + 100000\n",
    "\n",
    "signed_transaction = SignedTransaction(deploy_transaction, deployer_wallet, step_limit)\n",
    "tx_hash = icon_service.send_transaction(signed_transaction)\n",
    "\n",
    "res = get_tx_result(tx_hash)\n",
    "print(res)\n",
    "contracts['sicx'][\"SCORE\"] = res.get('scoreAddress', '')\n",
    "contracts['sicx'][\"zip\"] = '/home/shubham/Work/ICON/openmoneymarket-mono/score/sicx'"
   ]
  },
  {
   "cell_type": "code",
   "execution_count": 57,
   "metadata": {
    "tags": []
   },
   "outputs": [
    {
     "output_type": "stream",
     "name": "stdout",
     "text": [
      "{'addressProvider': {'SCORE': 'cxed440f1da2cf3087ac5ef12217a13f6321de0375',\n                     'zip': '/home/elite/Desktop/OMM '\n                            'OG/openmoneymarket-mono/score/addressProvider'},\n 'feeProvider': {'SCORE': 'cxede316aa65b7df13633599e67490daf1fd32b8a5',\n                 'zip': '/home/elite/Desktop/OMM '\n                        'OG/openmoneymarket-mono/score/feeProvider'},\n 'lendingPool': {'SCORE': 'cx35b12ca4e9c672518db3c06d92ed60d50e7d5554',\n                 'zip': '/home/elite/Desktop/OMM '\n                        'OG/openmoneymarket-mono/score/lendingPool'},\n 'lendingPoolCore': {'SCORE': 'cx327a386a9f8076045679fc132a8baa9e270ca43b',\n                     'zip': '/home/elite/Desktop/OMM '\n                            'OG/openmoneymarket-mono/score/lendingPoolCore'},\n 'lendingPoolDataProvider': {'SCORE': 'cxa198eaf0a589adf0ab31b523d1f8912f47f6f293',\n                             'zip': '/home/elite/Desktop/OMM '\n                                    'OG/openmoneymarket-mono/score/lendingPoolDataProvider'},\n 'oToken': {'SCORE': 'cx4258464e395b3ef3b73a146947eb41393e8c5873',\n            'zip': '/home/elite/Desktop/OMM '\n                   'OG/openmoneymarket-mono/score/oToken'},\n 'priceOracle': {'SCORE': 'cx3f6477bf290eb91257b806ece614ab18b1c7be41',\n                 'zip': '/home/elite/Desktop/OMM '\n                        'OG/openmoneymarket-mono/score/priceOracle'},\n 'sample_token': {'SCORE': 'cx19be1be7b4e7750863edf966faac3f42dec21025',\n                  'zip': '/home/elite/Desktop/OMM '\n                         'OG/openmoneymarket-mono/score/sample_token'}}\n"
     ]
    }
   ],
   "source": [
    "pprint(contracts)"
   ]
  },
  {
   "cell_type": "markdown",
   "metadata": {
    "tags": []
   },
   "source": [
    "# Updating a contract"
   ]
  },
  {
   "cell_type": "code",
   "execution_count": 33,
   "metadata": {
    "slideshow": {
     "slide_type": "-"
    },
    "tags": []
   },
   "outputs": [
    {
     "output_type": "error",
     "ename": "ValueError",
     "evalue": "Invalid path /home/shubham/Work/ICON/openmoneymarket-mono/score/lendingPool",
     "traceback": [
      "\u001b[0;31m---------------------------------------------------------------------------\u001b[0m",
      "\u001b[0;31mValueError\u001b[0m                                Traceback (most recent call last)",
      "\u001b[0;32m<ipython-input-33-57869c49f3e4>\u001b[0m in \u001b[0;36m<module>\u001b[0;34m\u001b[0m\n\u001b[1;32m      7\u001b[0m     \u001b[0;34m.\u001b[0m\u001b[0mnonce\u001b[0m\u001b[0;34m(\u001b[0m\u001b[0;36m100\u001b[0m\u001b[0;34m)\u001b[0m\u001b[0;31m\\\u001b[0m\u001b[0;34m\u001b[0m\u001b[0;34m\u001b[0m\u001b[0m\n\u001b[1;32m      8\u001b[0m     \u001b[0;34m.\u001b[0m\u001b[0mcontent_type\u001b[0m\u001b[0;34m(\u001b[0m\u001b[0;34m\"application/zip\"\u001b[0m\u001b[0;34m)\u001b[0m\u001b[0;31m\\\u001b[0m\u001b[0;34m\u001b[0m\u001b[0;34m\u001b[0m\u001b[0m\n\u001b[0;32m----> 9\u001b[0;31m     \u001b[0;34m.\u001b[0m\u001b[0mcontent\u001b[0m\u001b[0;34m(\u001b[0m\u001b[0mgen_deploy_data_content\u001b[0m\u001b[0;34m(\u001b[0m\u001b[0mcontracts\u001b[0m\u001b[0;34m[\u001b[0m\u001b[0mcontract\u001b[0m\u001b[0;34m]\u001b[0m\u001b[0;34m[\u001b[0m\u001b[0;34m\"zip\"\u001b[0m\u001b[0;34m]\u001b[0m\u001b[0;34m)\u001b[0m\u001b[0;34m)\u001b[0m\u001b[0;31m\\\u001b[0m\u001b[0;34m\u001b[0m\u001b[0;34m\u001b[0m\u001b[0m\n\u001b[0m\u001b[1;32m     10\u001b[0m     \u001b[0;34m.\u001b[0m\u001b[0mbuild\u001b[0m\u001b[0;34m(\u001b[0m\u001b[0;34m)\u001b[0m\u001b[0;34m\u001b[0m\u001b[0;34m\u001b[0m\u001b[0m\n\u001b[1;32m     11\u001b[0m \u001b[0;34m\u001b[0m\u001b[0m\n",
      "\u001b[0;32m~/.local/lib/python3.8/site-packages/iconsdk/libs/in_memory_zip.py\u001b[0m in \u001b[0;36mgen_deploy_data_content\u001b[0;34m(_path)\u001b[0m\n\u001b[1;32m     27\u001b[0m     \"\"\"\n\u001b[1;32m     28\u001b[0m     \u001b[0;32mif\u001b[0m \u001b[0mpath\u001b[0m\u001b[0;34m.\u001b[0m\u001b[0misdir\u001b[0m\u001b[0;34m(\u001b[0m\u001b[0m_path\u001b[0m\u001b[0;34m)\u001b[0m \u001b[0;32mis\u001b[0m \u001b[0;32mFalse\u001b[0m \u001b[0;32mand\u001b[0m \u001b[0mpath\u001b[0m\u001b[0;34m.\u001b[0m\u001b[0misfile\u001b[0m\u001b[0;34m(\u001b[0m\u001b[0m_path\u001b[0m\u001b[0;34m)\u001b[0m \u001b[0;32mis\u001b[0m \u001b[0;32mFalse\u001b[0m\u001b[0;34m:\u001b[0m\u001b[0;34m\u001b[0m\u001b[0;34m\u001b[0m\u001b[0m\n\u001b[0;32m---> 29\u001b[0;31m         \u001b[0;32mraise\u001b[0m \u001b[0mValueError\u001b[0m\u001b[0;34m(\u001b[0m\u001b[0;34mf\"Invalid path {_path}\"\u001b[0m\u001b[0;34m)\u001b[0m\u001b[0;34m\u001b[0m\u001b[0;34m\u001b[0m\u001b[0m\n\u001b[0m\u001b[1;32m     30\u001b[0m     \u001b[0;32mtry\u001b[0m\u001b[0;34m:\u001b[0m\u001b[0;34m\u001b[0m\u001b[0;34m\u001b[0m\u001b[0m\n\u001b[1;32m     31\u001b[0m         \u001b[0mmemory_zip\u001b[0m \u001b[0;34m=\u001b[0m \u001b[0mInMemoryZip\u001b[0m\u001b[0;34m(\u001b[0m\u001b[0;34m)\u001b[0m\u001b[0;34m\u001b[0m\u001b[0;34m\u001b[0m\u001b[0m\n",
      "\u001b[0;31mValueError\u001b[0m: Invalid path /home/shubham/Work/ICON/openmoneymarket-mono/score/lendingPool"
     ]
    }
   ],
   "source": [
    "contract = 'lendingPool'\n",
    "update = contracts[contract]['SCORE']\n",
    "deploy_transaction = DeployTransactionBuilder()\\\n",
    "    .from_(deployer_wallet.get_address())\\\n",
    "    .to(update)\\\n",
    "    .nid(NID)\\\n",
    "    .nonce(100)\\\n",
    "    .content_type(\"application/zip\")\\\n",
    "    .content(gen_deploy_data_content(contracts[contract][\"zip\"]))\\\n",
    "    .build()\n",
    "\n",
    "step_limit = icon_service.estimate_step(deploy_transaction) + 100000\n",
    "\n",
    "signed_transaction = SignedTransaction(deploy_transaction, deployer_wallet, step_limit)\n",
    "tx_hash = icon_service.send_transaction(signed_transaction)\n",
    "\n",
    "get_tx_result(tx_hash)"
   ]
  },
  {
   "cell_type": "markdown",
   "metadata": {},
   "source": [
    "# Configuring SCOREs's parameters"
   ]
  },
  {
   "cell_type": "code",
   "execution_count": 39,
   "metadata": {
    "scrolled": false,
    "slideshow": {
     "slide_type": "-"
    },
    "tags": []
   },
   "outputs": [],
   "source": [
    "settings = [{'contract': 'lendingPool', 'method': 'setLendingPoolCoreAddress', 'params':{'_address': contracts['lendingPoolCore']['SCORE']}},\n",
    "            {'contract': 'lendingPool', 'method': 'setUSDbAddress', 'params':{'_address': contracts['sample_token']['SCORE']}},\n",
    "            {'contract': 'lendingPool', 'method': 'setDataProvider', 'params':{'_address': contracts['lendingPoolDataProvider']['SCORE']}},\n",
    "            {'contract': 'lendingPool', 'method': 'setFeeProvider', 'params':{'_address': contracts['feeProvider']['SCORE']}},\n",
    "            {'contract': 'lendingPool', 'method': 'setSicxAddress', 'params':{'_address': contracts['sicx']['SCORE']}},\n",
    "            {'contract': 'feeProvider', 'method': 'setLoanOriginationFeePercentage', 'params':{'_percentage': 25*10**14}},\n",
    "            {'contract': 'lendingPoolDataProvider', 'method': 'setSymbol', 'params':{'_reserveAddress': contracts['sample_token']['SCORE'],'_sym':\"USDb\"}},\n",
    "            {'contract': 'lendingPoolDataProvider', 'method': 'setLendingPoolCoreAddress', 'params':{'_address': contracts['lendingPoolCore']['SCORE']}},\n",
    "            {'contract': 'lendingPoolDataProvider', 'method': 'setOracleAddress', 'params':{'_address': contracts['priceOracle']['SCORE']}},\n",
    "            {'contract': 'oToken', 'method': 'setCoreAddress', 'params':{'_address':contracts['lendingPoolCore']['SCORE']}},\n",
    "            {'contract': 'oToken', 'method': 'setReserveAddress', 'params':{'_address':contracts['sample_token']['SCORE']}},\n",
    "            {'contract': 'oToken', 'method': 'setDataProviderAddress', 'params':{'_address':contracts['lendingPoolDataProvider']['SCORE']}},\n",
    "            {'contract': 'oToken', 'method': 'setLendingPoolAddress', 'params':{'_address':contracts['lendingPool']['SCORE']}},\n",
    "            {'contract': 'priceOracle', 'method': 'set_reference_data', 'params':{'_base':'USDb','_quote':'USD','_rate':1*10**18}},\n",
    "            {'contract': 'addressProvider', 'method': 'setLendingPool', 'params':{'_address':contracts['lendingPool']['SCORE']}},\n",
    "            {'contract': 'addressProvider', 'method': 'setLendingPoolDataProvider', 'params':{'_address':contracts['lendingPoolDataProvider']['SCORE']}},\n",
    "            {'contract': 'addressProvider', 'method': 'setUSDb', 'params':{'_address':contracts['sample_token']['SCORE']}},\n",
    "            {'contract': 'addressProvider', 'method': 'setoUSDb', 'params':{'_address':contracts['oToken']['SCORE']}},\n",
    "            {'contract': 'lendingPoolCore', 'method': 'setReserveConstants', 'params' :{\"_constants\": [{\"reserve\":contracts['sample_token']['SCORE'],\"optimalUtilizationRate\":f\"6{'0'*17}\",\"baseBorrowRate\":f\"1{'0'*16}\",\"slopeRate1\":f\"4{'0'*16}\",\"slopeRate2\":f\"5{'0'*17}\"} ]}}]"
   ]
  },
  {
   "cell_type": "code",
   "execution_count": 40,
   "metadata": {
    "tags": [
     "outputPrepend"
    ]
   },
   "outputs": [
    {
     "output_type": "stream",
     "name": "stdout",
     "text": [
      "0569fdedc8baa33ef424773e53700dc09c9d0e4fee230a86e9a159b6', 'blockHeight': 1132418, 'blockHash': '0x6934c8ab479b2b01614c5eaf36db63e65092401b31d65d510214e7a3a1fac510', 'txIndex': 1, 'to': 'cxb5083e61b035b31b0bffa7350ff276349069eb60', 'stepUsed': 152720, 'stepPrice': 10000000000, 'cumulativeStepUsed': 152720, 'eventLogs': [], 'logsBloom': b'\\x00\\x00\\x00\\x00\\x00\\x00\\x00\\x00\\x00\\x00\\x00\\x00\\x00\\x00\\x00\\x00\\x00\\x00\\x00\\x00\\x00\\x00\\x00\\x00\\x00\\x00\\x00\\x00\\x00\\x00\\x00\\x00\\x00\\x00\\x00\\x00\\x00\\x00\\x00\\x00\\x00\\x00\\x00\\x00\\x00\\x00\\x00\\x00\\x00\\x00\\x00\\x00\\x00\\x00\\x00\\x00\\x00\\x00\\x00\\x00\\x00\\x00\\x00\\x00\\x00\\x00\\x00\\x00\\x00\\x00\\x00\\x00\\x00\\x00\\x00\\x00\\x00\\x00\\x00\\x00\\x00\\x00\\x00\\x00\\x00\\x00\\x00\\x00\\x00\\x00\\x00\\x00\\x00\\x00\\x00\\x00\\x00\\x00\\x00\\x00\\x00\\x00\\x00\\x00\\x00\\x00\\x00\\x00\\x00\\x00\\x00\\x00\\x00\\x00\\x00\\x00\\x00\\x00\\x00\\x00\\x00\\x00\\x00\\x00\\x00\\x00\\x00\\x00\\x00\\x00\\x00\\x00\\x00\\x00\\x00\\x00\\x00\\x00\\x00\\x00\\x00\\x00\\x00\\x00\\x00\\x00\\x00\\x00\\x00\\x00\\x00\\x00\\x00\\x00\\x00\\x00\\x00\\x00\\x00\\x00\\x00\\x00\\x00\\x00\\x00\\x00\\x00\\x00\\x00\\x00\\x00\\x00\\x00\\x00\\x00\\x00\\x00\\x00\\x00\\x00\\x00\\x00\\x00\\x00\\x00\\x00\\x00\\x00\\x00\\x00\\x00\\x00\\x00\\x00\\x00\\x00\\x00\\x00\\x00\\x00\\x00\\x00\\x00\\x00\\x00\\x00\\x00\\x00\\x00\\x00\\x00\\x00\\x00\\x00\\x00\\x00\\x00\\x00\\x00\\x00\\x00\\x00\\x00\\x00\\x00\\x00\\x00\\x00\\x00\\x00\\x00\\x00\\x00\\x00\\x00\\x00\\x00\\x00\\x00\\x00\\x00\\x00\\x00\\x00\\x00\\x00\\x00\\x00\\x00\\x00\\x00\\x00\\x00\\x00\\x00\\x00', 'status': 1}\n",
      "\n",
      "\n",
      "Calling setOracleAddress, with parameters {'_address': 'cx790de19720a6af19c50d264f53529bab60fe6837'} on the lendingPoolDataProvider contract.\n",
      "Raised JSONRPCException while returning the custom response. Error message: {'code': -32602, 'message': 'Pending transaction'}\n",
      "{'code': -32602, 'message': 'Pending transaction'} (Json rpc error), Retrying in 1 seconds...\n",
      "{'txHash': '0xbd8eecb660e2778beba8b358c9000dbcd250737fa3f264cb0edb6998f23a8e6c', 'blockHeight': 1132419, 'blockHash': '0x0f8050ec8e48c6be535677820f27279c747b887dbd667fd815e0e5f9d409aec3', 'txIndex': 1, 'to': 'cxb5083e61b035b31b0bffa7350ff276349069eb60', 'stepUsed': 150920, 'stepPrice': 10000000000, 'cumulativeStepUsed': 150920, 'eventLogs': [], 'logsBloom': b'\\x00\\x00\\x00\\x00\\x00\\x00\\x00\\x00\\x00\\x00\\x00\\x00\\x00\\x00\\x00\\x00\\x00\\x00\\x00\\x00\\x00\\x00\\x00\\x00\\x00\\x00\\x00\\x00\\x00\\x00\\x00\\x00\\x00\\x00\\x00\\x00\\x00\\x00\\x00\\x00\\x00\\x00\\x00\\x00\\x00\\x00\\x00\\x00\\x00\\x00\\x00\\x00\\x00\\x00\\x00\\x00\\x00\\x00\\x00\\x00\\x00\\x00\\x00\\x00\\x00\\x00\\x00\\x00\\x00\\x00\\x00\\x00\\x00\\x00\\x00\\x00\\x00\\x00\\x00\\x00\\x00\\x00\\x00\\x00\\x00\\x00\\x00\\x00\\x00\\x00\\x00\\x00\\x00\\x00\\x00\\x00\\x00\\x00\\x00\\x00\\x00\\x00\\x00\\x00\\x00\\x00\\x00\\x00\\x00\\x00\\x00\\x00\\x00\\x00\\x00\\x00\\x00\\x00\\x00\\x00\\x00\\x00\\x00\\x00\\x00\\x00\\x00\\x00\\x00\\x00\\x00\\x00\\x00\\x00\\x00\\x00\\x00\\x00\\x00\\x00\\x00\\x00\\x00\\x00\\x00\\x00\\x00\\x00\\x00\\x00\\x00\\x00\\x00\\x00\\x00\\x00\\x00\\x00\\x00\\x00\\x00\\x00\\x00\\x00\\x00\\x00\\x00\\x00\\x00\\x00\\x00\\x00\\x00\\x00\\x00\\x00\\x00\\x00\\x00\\x00\\x00\\x00\\x00\\x00\\x00\\x00\\x00\\x00\\x00\\x00\\x00\\x00\\x00\\x00\\x00\\x00\\x00\\x00\\x00\\x00\\x00\\x00\\x00\\x00\\x00\\x00\\x00\\x00\\x00\\x00\\x00\\x00\\x00\\x00\\x00\\x00\\x00\\x00\\x00\\x00\\x00\\x00\\x00\\x00\\x00\\x00\\x00\\x00\\x00\\x00\\x00\\x00\\x00\\x00\\x00\\x00\\x00\\x00\\x00\\x00\\x00\\x00\\x00\\x00\\x00\\x00\\x00\\x00\\x00\\x00\\x00\\x00\\x00\\x00\\x00\\x00', 'status': 1}\n",
      "\n",
      "\n",
      "Calling setCoreAddress, with parameters {'_address': 'cxaa345a5dbea93b27754e44024d5ea14ccbf09c62'} on the oToken contract.\n",
      "{'txHash': '0xe2533962ec11832dcf0a6c6f9126a5a79ca64c4cd9d6bcb8b677135d372f1302', 'blockHeight': 1132420, 'blockHash': '0x31b4c7306dc1c00b3d2b416c911f6a6b19fd4bd393d2ecc76ef93e23a4bf81e9', 'txIndex': 1, 'to': 'cxb7e290801d011961da1974dd84818082cf881246', 'stepUsed': 150520, 'stepPrice': 10000000000, 'cumulativeStepUsed': 150520, 'eventLogs': [], 'logsBloom': b'\\x00\\x00\\x00\\x00\\x00\\x00\\x00\\x00\\x00\\x00\\x00\\x00\\x00\\x00\\x00\\x00\\x00\\x00\\x00\\x00\\x00\\x00\\x00\\x00\\x00\\x00\\x00\\x00\\x00\\x00\\x00\\x00\\x00\\x00\\x00\\x00\\x00\\x00\\x00\\x00\\x00\\x00\\x00\\x00\\x00\\x00\\x00\\x00\\x00\\x00\\x00\\x00\\x00\\x00\\x00\\x00\\x00\\x00\\x00\\x00\\x00\\x00\\x00\\x00\\x00\\x00\\x00\\x00\\x00\\x00\\x00\\x00\\x00\\x00\\x00\\x00\\x00\\x00\\x00\\x00\\x00\\x00\\x00\\x00\\x00\\x00\\x00\\x00\\x00\\x00\\x00\\x00\\x00\\x00\\x00\\x00\\x00\\x00\\x00\\x00\\x00\\x00\\x00\\x00\\x00\\x00\\x00\\x00\\x00\\x00\\x00\\x00\\x00\\x00\\x00\\x00\\x00\\x00\\x00\\x00\\x00\\x00\\x00\\x00\\x00\\x00\\x00\\x00\\x00\\x00\\x00\\x00\\x00\\x00\\x00\\x00\\x00\\x00\\x00\\x00\\x00\\x00\\x00\\x00\\x00\\x00\\x00\\x00\\x00\\x00\\x00\\x00\\x00\\x00\\x00\\x00\\x00\\x00\\x00\\x00\\x00\\x00\\x00\\x00\\x00\\x00\\x00\\x00\\x00\\x00\\x00\\x00\\x00\\x00\\x00\\x00\\x00\\x00\\x00\\x00\\x00\\x00\\x00\\x00\\x00\\x00\\x00\\x00\\x00\\x00\\x00\\x00\\x00\\x00\\x00\\x00\\x00\\x00\\x00\\x00\\x00\\x00\\x00\\x00\\x00\\x00\\x00\\x00\\x00\\x00\\x00\\x00\\x00\\x00\\x00\\x00\\x00\\x00\\x00\\x00\\x00\\x00\\x00\\x00\\x00\\x00\\x00\\x00\\x00\\x00\\x00\\x00\\x00\\x00\\x00\\x00\\x00\\x00\\x00\\x00\\x00\\x00\\x00\\x00\\x00\\x00\\x00\\x00\\x00\\x00\\x00\\x00\\x00\\x00\\x00\\x00', 'status': 1}\n",
      "\n",
      "\n",
      "Calling setReserveAddress, with parameters {'_address': 'cx629b3f914cb8202745ff6da14d69f1aee1087cc1'} on the oToken contract.\n",
      "Raised JSONRPCException while returning the custom response. Error message: {'code': -32602, 'message': 'Pending transaction'}\n",
      "{'code': -32602, 'message': 'Pending transaction'} (Json rpc error), Retrying in 1 seconds...\n",
      "{'txHash': '0xe9019ca7d76e455803fdf3e72d7bfb418f73e3902f429885813122bc7c24783f', 'blockHeight': 1132421, 'blockHash': '0x0faa491fc55f615c3d28b1d13103917af6e26f30089dbfe1e0106b0f659303ed', 'txIndex': 1, 'to': 'cxb7e290801d011961da1974dd84818082cf881246', 'stepUsed': 151120, 'stepPrice': 10000000000, 'cumulativeStepUsed': 151120, 'eventLogs': [], 'logsBloom': b'\\x00\\x00\\x00\\x00\\x00\\x00\\x00\\x00\\x00\\x00\\x00\\x00\\x00\\x00\\x00\\x00\\x00\\x00\\x00\\x00\\x00\\x00\\x00\\x00\\x00\\x00\\x00\\x00\\x00\\x00\\x00\\x00\\x00\\x00\\x00\\x00\\x00\\x00\\x00\\x00\\x00\\x00\\x00\\x00\\x00\\x00\\x00\\x00\\x00\\x00\\x00\\x00\\x00\\x00\\x00\\x00\\x00\\x00\\x00\\x00\\x00\\x00\\x00\\x00\\x00\\x00\\x00\\x00\\x00\\x00\\x00\\x00\\x00\\x00\\x00\\x00\\x00\\x00\\x00\\x00\\x00\\x00\\x00\\x00\\x00\\x00\\x00\\x00\\x00\\x00\\x00\\x00\\x00\\x00\\x00\\x00\\x00\\x00\\x00\\x00\\x00\\x00\\x00\\x00\\x00\\x00\\x00\\x00\\x00\\x00\\x00\\x00\\x00\\x00\\x00\\x00\\x00\\x00\\x00\\x00\\x00\\x00\\x00\\x00\\x00\\x00\\x00\\x00\\x00\\x00\\x00\\x00\\x00\\x00\\x00\\x00\\x00\\x00\\x00\\x00\\x00\\x00\\x00\\x00\\x00\\x00\\x00\\x00\\x00\\x00\\x00\\x00\\x00\\x00\\x00\\x00\\x00\\x00\\x00\\x00\\x00\\x00\\x00\\x00\\x00\\x00\\x00\\x00\\x00\\x00\\x00\\x00\\x00\\x00\\x00\\x00\\x00\\x00\\x00\\x00\\x00\\x00\\x00\\x00\\x00\\x00\\x00\\x00\\x00\\x00\\x00\\x00\\x00\\x00\\x00\\x00\\x00\\x00\\x00\\x00\\x00\\x00\\x00\\x00\\x00\\x00\\x00\\x00\\x00\\x00\\x00\\x00\\x00\\x00\\x00\\x00\\x00\\x00\\x00\\x00\\x00\\x00\\x00\\x00\\x00\\x00\\x00\\x00\\x00\\x00\\x00\\x00\\x00\\x00\\x00\\x00\\x00\\x00\\x00\\x00\\x00\\x00\\x00\\x00\\x00\\x00\\x00\\x00\\x00\\x00\\x00\\x00\\x00\\x00\\x00\\x00', 'status': 1}\n",
      "\n",
      "\n",
      "Calling setDataProviderAddress, with parameters {'_address': 'cxb5083e61b035b31b0bffa7350ff276349069eb60'} on the oToken contract.\n",
      "{'txHash': '0x3926f02810f9db6a173588e19aae4d07f97d51173e3569ff78b4d5b86e9e7897', 'blockHeight': 1132422, 'blockHash': '0x3b5fde7a9d96db5ce44b4337f928e44675a4ebcd01a72f93e1a90269e4a47d9e', 'txIndex': 1, 'to': 'cxb7e290801d011961da1974dd84818082cf881246', 'stepUsed': 152120, 'stepPrice': 10000000000, 'cumulativeStepUsed': 152120, 'eventLogs': [], 'logsBloom': b'\\x00\\x00\\x00\\x00\\x00\\x00\\x00\\x00\\x00\\x00\\x00\\x00\\x00\\x00\\x00\\x00\\x00\\x00\\x00\\x00\\x00\\x00\\x00\\x00\\x00\\x00\\x00\\x00\\x00\\x00\\x00\\x00\\x00\\x00\\x00\\x00\\x00\\x00\\x00\\x00\\x00\\x00\\x00\\x00\\x00\\x00\\x00\\x00\\x00\\x00\\x00\\x00\\x00\\x00\\x00\\x00\\x00\\x00\\x00\\x00\\x00\\x00\\x00\\x00\\x00\\x00\\x00\\x00\\x00\\x00\\x00\\x00\\x00\\x00\\x00\\x00\\x00\\x00\\x00\\x00\\x00\\x00\\x00\\x00\\x00\\x00\\x00\\x00\\x00\\x00\\x00\\x00\\x00\\x00\\x00\\x00\\x00\\x00\\x00\\x00\\x00\\x00\\x00\\x00\\x00\\x00\\x00\\x00\\x00\\x00\\x00\\x00\\x00\\x00\\x00\\x00\\x00\\x00\\x00\\x00\\x00\\x00\\x00\\x00\\x00\\x00\\x00\\x00\\x00\\x00\\x00\\x00\\x00\\x00\\x00\\x00\\x00\\x00\\x00\\x00\\x00\\x00\\x00\\x00\\x00\\x00\\x00\\x00\\x00\\x00\\x00\\x00\\x00\\x00\\x00\\x00\\x00\\x00\\x00\\x00\\x00\\x00\\x00\\x00\\x00\\x00\\x00\\x00\\x00\\x00\\x00\\x00\\x00\\x00\\x00\\x00\\x00\\x00\\x00\\x00\\x00\\x00\\x00\\x00\\x00\\x00\\x00\\x00\\x00\\x00\\x00\\x00\\x00\\x00\\x00\\x00\\x00\\x00\\x00\\x00\\x00\\x00\\x00\\x00\\x00\\x00\\x00\\x00\\x00\\x00\\x00\\x00\\x00\\x00\\x00\\x00\\x00\\x00\\x00\\x00\\x00\\x00\\x00\\x00\\x00\\x00\\x00\\x00\\x00\\x00\\x00\\x00\\x00\\x00\\x00\\x00\\x00\\x00\\x00\\x00\\x00\\x00\\x00\\x00\\x00\\x00\\x00\\x00\\x00\\x00\\x00\\x00\\x00\\x00\\x00\\x00', 'status': 1}\n",
      "\n",
      "\n",
      "Calling setLendingPoolAddress, with parameters {'_address': 'cx5dbae1f5dc20f2d0d16034a07869b6f0bedd14f6'} on the oToken contract.\n",
      "Raised JSONRPCException while returning the custom response. Error message: {'code': -32602, 'message': 'Pending transaction'}\n",
      "{'code': -32602, 'message': 'Pending transaction'} (Json rpc error), Retrying in 1 seconds...\n",
      "{'txHash': '0x661b085d3fa8893114d77bbe13ad45b0dc26885c109d98e62e11dbedaab03a85', 'blockHeight': 1132423, 'blockHash': '0x14bb132e337ccbdcbd07f554890aed395e17aee6b68f926c8b1bca9e3bc55fab', 'txIndex': 1, 'to': 'cxb7e290801d011961da1974dd84818082cf881246', 'stepUsed': 151920, 'stepPrice': 10000000000, 'cumulativeStepUsed': 151920, 'eventLogs': [], 'logsBloom': b'\\x00\\x00\\x00\\x00\\x00\\x00\\x00\\x00\\x00\\x00\\x00\\x00\\x00\\x00\\x00\\x00\\x00\\x00\\x00\\x00\\x00\\x00\\x00\\x00\\x00\\x00\\x00\\x00\\x00\\x00\\x00\\x00\\x00\\x00\\x00\\x00\\x00\\x00\\x00\\x00\\x00\\x00\\x00\\x00\\x00\\x00\\x00\\x00\\x00\\x00\\x00\\x00\\x00\\x00\\x00\\x00\\x00\\x00\\x00\\x00\\x00\\x00\\x00\\x00\\x00\\x00\\x00\\x00\\x00\\x00\\x00\\x00\\x00\\x00\\x00\\x00\\x00\\x00\\x00\\x00\\x00\\x00\\x00\\x00\\x00\\x00\\x00\\x00\\x00\\x00\\x00\\x00\\x00\\x00\\x00\\x00\\x00\\x00\\x00\\x00\\x00\\x00\\x00\\x00\\x00\\x00\\x00\\x00\\x00\\x00\\x00\\x00\\x00\\x00\\x00\\x00\\x00\\x00\\x00\\x00\\x00\\x00\\x00\\x00\\x00\\x00\\x00\\x00\\x00\\x00\\x00\\x00\\x00\\x00\\x00\\x00\\x00\\x00\\x00\\x00\\x00\\x00\\x00\\x00\\x00\\x00\\x00\\x00\\x00\\x00\\x00\\x00\\x00\\x00\\x00\\x00\\x00\\x00\\x00\\x00\\x00\\x00\\x00\\x00\\x00\\x00\\x00\\x00\\x00\\x00\\x00\\x00\\x00\\x00\\x00\\x00\\x00\\x00\\x00\\x00\\x00\\x00\\x00\\x00\\x00\\x00\\x00\\x00\\x00\\x00\\x00\\x00\\x00\\x00\\x00\\x00\\x00\\x00\\x00\\x00\\x00\\x00\\x00\\x00\\x00\\x00\\x00\\x00\\x00\\x00\\x00\\x00\\x00\\x00\\x00\\x00\\x00\\x00\\x00\\x00\\x00\\x00\\x00\\x00\\x00\\x00\\x00\\x00\\x00\\x00\\x00\\x00\\x00\\x00\\x00\\x00\\x00\\x00\\x00\\x00\\x00\\x00\\x00\\x00\\x00\\x00\\x00\\x00\\x00\\x00\\x00\\x00\\x00\\x00\\x00\\x00', 'status': 1}\n",
      "\n",
      "\n",
      "Calling set_reference_data, with parameters {'_base': 'USDb', '_quote': 'USD', '_rate': 1000000000000000000} on the priceOracle contract.\n",
      "{'txHash': '0x4934c3b90eceb841653cbe7a349a5906f9523cae97de911057e8da55df722121', 'blockHeight': 1132424, 'blockHash': '0x5b7c6ca380c508d819408be976f7772e4dccb93e47ec0c33694d90d5cae3789b', 'txIndex': 1, 'to': 'cx790de19720a6af19c50d264f53529bab60fe6837', 'stepUsed': 147560, 'stepPrice': 10000000000, 'cumulativeStepUsed': 147560, 'eventLogs': [], 'logsBloom': b'\\x00\\x00\\x00\\x00\\x00\\x00\\x00\\x00\\x00\\x00\\x00\\x00\\x00\\x00\\x00\\x00\\x00\\x00\\x00\\x00\\x00\\x00\\x00\\x00\\x00\\x00\\x00\\x00\\x00\\x00\\x00\\x00\\x00\\x00\\x00\\x00\\x00\\x00\\x00\\x00\\x00\\x00\\x00\\x00\\x00\\x00\\x00\\x00\\x00\\x00\\x00\\x00\\x00\\x00\\x00\\x00\\x00\\x00\\x00\\x00\\x00\\x00\\x00\\x00\\x00\\x00\\x00\\x00\\x00\\x00\\x00\\x00\\x00\\x00\\x00\\x00\\x00\\x00\\x00\\x00\\x00\\x00\\x00\\x00\\x00\\x00\\x00\\x00\\x00\\x00\\x00\\x00\\x00\\x00\\x00\\x00\\x00\\x00\\x00\\x00\\x00\\x00\\x00\\x00\\x00\\x00\\x00\\x00\\x00\\x00\\x00\\x00\\x00\\x00\\x00\\x00\\x00\\x00\\x00\\x00\\x00\\x00\\x00\\x00\\x00\\x00\\x00\\x00\\x00\\x00\\x00\\x00\\x00\\x00\\x00\\x00\\x00\\x00\\x00\\x00\\x00\\x00\\x00\\x00\\x00\\x00\\x00\\x00\\x00\\x00\\x00\\x00\\x00\\x00\\x00\\x00\\x00\\x00\\x00\\x00\\x00\\x00\\x00\\x00\\x00\\x00\\x00\\x00\\x00\\x00\\x00\\x00\\x00\\x00\\x00\\x00\\x00\\x00\\x00\\x00\\x00\\x00\\x00\\x00\\x00\\x00\\x00\\x00\\x00\\x00\\x00\\x00\\x00\\x00\\x00\\x00\\x00\\x00\\x00\\x00\\x00\\x00\\x00\\x00\\x00\\x00\\x00\\x00\\x00\\x00\\x00\\x00\\x00\\x00\\x00\\x00\\x00\\x00\\x00\\x00\\x00\\x00\\x00\\x00\\x00\\x00\\x00\\x00\\x00\\x00\\x00\\x00\\x00\\x00\\x00\\x00\\x00\\x00\\x00\\x00\\x00\\x00\\x00\\x00\\x00\\x00\\x00\\x00\\x00\\x00\\x00\\x00\\x00\\x00\\x00\\x00', 'status': 1}\n",
      "\n",
      "\n",
      "Calling setLendingPool, with parameters {'_address': 'cx5dbae1f5dc20f2d0d16034a07869b6f0bedd14f6'} on the addressProvider contract.\n",
      "Raised JSONRPCException while returning the custom response. Error message: {'code': -32602, 'message': 'Pending transaction'}\n",
      "{'code': -32602, 'message': 'Pending transaction'} (Json rpc error), Retrying in 1 seconds...\n",
      "{'txHash': '0xbfc0be42ea0d611818cd06977b4a39fb1219861c2d5d52bd47475c4847790fb5', 'blockHeight': 1132425, 'blockHash': '0xea610b9fcde8837d2363f65597520d40ddfd9c9ab4190663a37b5bece21de3a0', 'txIndex': 1, 'to': 'cx2a4267624dfeb9a79b931424fd8ac7b81c5cf805', 'stepUsed': 150520, 'stepPrice': 10000000000, 'cumulativeStepUsed': 150520, 'eventLogs': [], 'logsBloom': b'\\x00\\x00\\x00\\x00\\x00\\x00\\x00\\x00\\x00\\x00\\x00\\x00\\x00\\x00\\x00\\x00\\x00\\x00\\x00\\x00\\x00\\x00\\x00\\x00\\x00\\x00\\x00\\x00\\x00\\x00\\x00\\x00\\x00\\x00\\x00\\x00\\x00\\x00\\x00\\x00\\x00\\x00\\x00\\x00\\x00\\x00\\x00\\x00\\x00\\x00\\x00\\x00\\x00\\x00\\x00\\x00\\x00\\x00\\x00\\x00\\x00\\x00\\x00\\x00\\x00\\x00\\x00\\x00\\x00\\x00\\x00\\x00\\x00\\x00\\x00\\x00\\x00\\x00\\x00\\x00\\x00\\x00\\x00\\x00\\x00\\x00\\x00\\x00\\x00\\x00\\x00\\x00\\x00\\x00\\x00\\x00\\x00\\x00\\x00\\x00\\x00\\x00\\x00\\x00\\x00\\x00\\x00\\x00\\x00\\x00\\x00\\x00\\x00\\x00\\x00\\x00\\x00\\x00\\x00\\x00\\x00\\x00\\x00\\x00\\x00\\x00\\x00\\x00\\x00\\x00\\x00\\x00\\x00\\x00\\x00\\x00\\x00\\x00\\x00\\x00\\x00\\x00\\x00\\x00\\x00\\x00\\x00\\x00\\x00\\x00\\x00\\x00\\x00\\x00\\x00\\x00\\x00\\x00\\x00\\x00\\x00\\x00\\x00\\x00\\x00\\x00\\x00\\x00\\x00\\x00\\x00\\x00\\x00\\x00\\x00\\x00\\x00\\x00\\x00\\x00\\x00\\x00\\x00\\x00\\x00\\x00\\x00\\x00\\x00\\x00\\x00\\x00\\x00\\x00\\x00\\x00\\x00\\x00\\x00\\x00\\x00\\x00\\x00\\x00\\x00\\x00\\x00\\x00\\x00\\x00\\x00\\x00\\x00\\x00\\x00\\x00\\x00\\x00\\x00\\x00\\x00\\x00\\x00\\x00\\x00\\x00\\x00\\x00\\x00\\x00\\x00\\x00\\x00\\x00\\x00\\x00\\x00\\x00\\x00\\x00\\x00\\x00\\x00\\x00\\x00\\x00\\x00\\x00\\x00\\x00\\x00\\x00\\x00\\x00\\x00\\x00', 'status': 1}\n",
      "\n",
      "\n",
      "Calling setLendingPoolDataProvider, with parameters {'_address': 'cxb5083e61b035b31b0bffa7350ff276349069eb60'} on the addressProvider contract.\n",
      "{'txHash': '0xb154679b095ea149e22cd6e42f8a84b5e4bcc9c7173e062ad788467bf328ef44', 'blockHeight': 1132426, 'blockHash': '0x3e34ad0296afbcd02be68aa4431f2985edb10712904093808faded8d4557d742', 'txIndex': 1, 'to': 'cx2a4267624dfeb9a79b931424fd8ac7b81c5cf805', 'stepUsed': 152920, 'stepPrice': 10000000000, 'cumulativeStepUsed': 152920, 'eventLogs': [], 'logsBloom': b'\\x00\\x00\\x00\\x00\\x00\\x00\\x00\\x00\\x00\\x00\\x00\\x00\\x00\\x00\\x00\\x00\\x00\\x00\\x00\\x00\\x00\\x00\\x00\\x00\\x00\\x00\\x00\\x00\\x00\\x00\\x00\\x00\\x00\\x00\\x00\\x00\\x00\\x00\\x00\\x00\\x00\\x00\\x00\\x00\\x00\\x00\\x00\\x00\\x00\\x00\\x00\\x00\\x00\\x00\\x00\\x00\\x00\\x00\\x00\\x00\\x00\\x00\\x00\\x00\\x00\\x00\\x00\\x00\\x00\\x00\\x00\\x00\\x00\\x00\\x00\\x00\\x00\\x00\\x00\\x00\\x00\\x00\\x00\\x00\\x00\\x00\\x00\\x00\\x00\\x00\\x00\\x00\\x00\\x00\\x00\\x00\\x00\\x00\\x00\\x00\\x00\\x00\\x00\\x00\\x00\\x00\\x00\\x00\\x00\\x00\\x00\\x00\\x00\\x00\\x00\\x00\\x00\\x00\\x00\\x00\\x00\\x00\\x00\\x00\\x00\\x00\\x00\\x00\\x00\\x00\\x00\\x00\\x00\\x00\\x00\\x00\\x00\\x00\\x00\\x00\\x00\\x00\\x00\\x00\\x00\\x00\\x00\\x00\\x00\\x00\\x00\\x00\\x00\\x00\\x00\\x00\\x00\\x00\\x00\\x00\\x00\\x00\\x00\\x00\\x00\\x00\\x00\\x00\\x00\\x00\\x00\\x00\\x00\\x00\\x00\\x00\\x00\\x00\\x00\\x00\\x00\\x00\\x00\\x00\\x00\\x00\\x00\\x00\\x00\\x00\\x00\\x00\\x00\\x00\\x00\\x00\\x00\\x00\\x00\\x00\\x00\\x00\\x00\\x00\\x00\\x00\\x00\\x00\\x00\\x00\\x00\\x00\\x00\\x00\\x00\\x00\\x00\\x00\\x00\\x00\\x00\\x00\\x00\\x00\\x00\\x00\\x00\\x00\\x00\\x00\\x00\\x00\\x00\\x00\\x00\\x00\\x00\\x00\\x00\\x00\\x00\\x00\\x00\\x00\\x00\\x00\\x00\\x00\\x00\\x00\\x00\\x00\\x00\\x00\\x00\\x00', 'status': 1}\n",
      "\n",
      "\n",
      "Calling setUSDb, with parameters {'_address': 'cx629b3f914cb8202745ff6da14d69f1aee1087cc1'} on the addressProvider contract.\n",
      "Raised JSONRPCException while returning the custom response. Error message: {'code': -32602, 'message': 'Pending transaction'}\n",
      "{'code': -32602, 'message': 'Pending transaction'} (Json rpc error), Retrying in 1 seconds...\n",
      "{'txHash': '0xbef7d453baa3eedbb1a8dce7ac3e9c82cb8f9cdf81245963265e71c4408b2479', 'blockHeight': 1132427, 'blockHash': '0xcca3ed3c3ab409a43696762ffbedf4cddc22269da2e0dacb6a4109670a3483cb', 'txIndex': 1, 'to': 'cx2a4267624dfeb9a79b931424fd8ac7b81c5cf805', 'stepUsed': 149120, 'stepPrice': 10000000000, 'cumulativeStepUsed': 149120, 'eventLogs': [], 'logsBloom': b'\\x00\\x00\\x00\\x00\\x00\\x00\\x00\\x00\\x00\\x00\\x00\\x00\\x00\\x00\\x00\\x00\\x00\\x00\\x00\\x00\\x00\\x00\\x00\\x00\\x00\\x00\\x00\\x00\\x00\\x00\\x00\\x00\\x00\\x00\\x00\\x00\\x00\\x00\\x00\\x00\\x00\\x00\\x00\\x00\\x00\\x00\\x00\\x00\\x00\\x00\\x00\\x00\\x00\\x00\\x00\\x00\\x00\\x00\\x00\\x00\\x00\\x00\\x00\\x00\\x00\\x00\\x00\\x00\\x00\\x00\\x00\\x00\\x00\\x00\\x00\\x00\\x00\\x00\\x00\\x00\\x00\\x00\\x00\\x00\\x00\\x00\\x00\\x00\\x00\\x00\\x00\\x00\\x00\\x00\\x00\\x00\\x00\\x00\\x00\\x00\\x00\\x00\\x00\\x00\\x00\\x00\\x00\\x00\\x00\\x00\\x00\\x00\\x00\\x00\\x00\\x00\\x00\\x00\\x00\\x00\\x00\\x00\\x00\\x00\\x00\\x00\\x00\\x00\\x00\\x00\\x00\\x00\\x00\\x00\\x00\\x00\\x00\\x00\\x00\\x00\\x00\\x00\\x00\\x00\\x00\\x00\\x00\\x00\\x00\\x00\\x00\\x00\\x00\\x00\\x00\\x00\\x00\\x00\\x00\\x00\\x00\\x00\\x00\\x00\\x00\\x00\\x00\\x00\\x00\\x00\\x00\\x00\\x00\\x00\\x00\\x00\\x00\\x00\\x00\\x00\\x00\\x00\\x00\\x00\\x00\\x00\\x00\\x00\\x00\\x00\\x00\\x00\\x00\\x00\\x00\\x00\\x00\\x00\\x00\\x00\\x00\\x00\\x00\\x00\\x00\\x00\\x00\\x00\\x00\\x00\\x00\\x00\\x00\\x00\\x00\\x00\\x00\\x00\\x00\\x00\\x00\\x00\\x00\\x00\\x00\\x00\\x00\\x00\\x00\\x00\\x00\\x00\\x00\\x00\\x00\\x00\\x00\\x00\\x00\\x00\\x00\\x00\\x00\\x00\\x00\\x00\\x00\\x00\\x00\\x00\\x00\\x00\\x00\\x00\\x00\\x00', 'status': 1}\n",
      "\n",
      "\n",
      "Calling setoUSDb, with parameters {'_address': 'cxb7e290801d011961da1974dd84818082cf881246'} on the addressProvider contract.\n",
      "Raised JSONRPCException while returning the custom response. Error message: {'code': -32602, 'message': 'Pending transaction'}\n",
      "{'code': -32602, 'message': 'Pending transaction'} (Json rpc error), Retrying in 1 seconds...\n",
      "{'txHash': '0x9825586d17257e359ef9c9d6e97f0982991aaae76e7f19d53b7af96ce3154d62', 'blockHeight': 1132428, 'blockHash': '0x732097ce103304ada44142e6875a6efaeea19af6825bac4c391f634e450f1cfa', 'txIndex': 1, 'to': 'cx2a4267624dfeb9a79b931424fd8ac7b81c5cf805', 'stepUsed': 149320, 'stepPrice': 10000000000, 'cumulativeStepUsed': 149320, 'eventLogs': [], 'logsBloom': b'\\x00\\x00\\x00\\x00\\x00\\x00\\x00\\x00\\x00\\x00\\x00\\x00\\x00\\x00\\x00\\x00\\x00\\x00\\x00\\x00\\x00\\x00\\x00\\x00\\x00\\x00\\x00\\x00\\x00\\x00\\x00\\x00\\x00\\x00\\x00\\x00\\x00\\x00\\x00\\x00\\x00\\x00\\x00\\x00\\x00\\x00\\x00\\x00\\x00\\x00\\x00\\x00\\x00\\x00\\x00\\x00\\x00\\x00\\x00\\x00\\x00\\x00\\x00\\x00\\x00\\x00\\x00\\x00\\x00\\x00\\x00\\x00\\x00\\x00\\x00\\x00\\x00\\x00\\x00\\x00\\x00\\x00\\x00\\x00\\x00\\x00\\x00\\x00\\x00\\x00\\x00\\x00\\x00\\x00\\x00\\x00\\x00\\x00\\x00\\x00\\x00\\x00\\x00\\x00\\x00\\x00\\x00\\x00\\x00\\x00\\x00\\x00\\x00\\x00\\x00\\x00\\x00\\x00\\x00\\x00\\x00\\x00\\x00\\x00\\x00\\x00\\x00\\x00\\x00\\x00\\x00\\x00\\x00\\x00\\x00\\x00\\x00\\x00\\x00\\x00\\x00\\x00\\x00\\x00\\x00\\x00\\x00\\x00\\x00\\x00\\x00\\x00\\x00\\x00\\x00\\x00\\x00\\x00\\x00\\x00\\x00\\x00\\x00\\x00\\x00\\x00\\x00\\x00\\x00\\x00\\x00\\x00\\x00\\x00\\x00\\x00\\x00\\x00\\x00\\x00\\x00\\x00\\x00\\x00\\x00\\x00\\x00\\x00\\x00\\x00\\x00\\x00\\x00\\x00\\x00\\x00\\x00\\x00\\x00\\x00\\x00\\x00\\x00\\x00\\x00\\x00\\x00\\x00\\x00\\x00\\x00\\x00\\x00\\x00\\x00\\x00\\x00\\x00\\x00\\x00\\x00\\x00\\x00\\x00\\x00\\x00\\x00\\x00\\x00\\x00\\x00\\x00\\x00\\x00\\x00\\x00\\x00\\x00\\x00\\x00\\x00\\x00\\x00\\x00\\x00\\x00\\x00\\x00\\x00\\x00\\x00\\x00\\x00\\x00\\x00\\x00', 'status': 1}\n",
      "\n",
      "\n",
      "Calling setReserveConstants, with parameters {'_constants': [{'reserve': 'cx629b3f914cb8202745ff6da14d69f1aee1087cc1', 'optimalUtilizationRate': '600000000000000000', 'baseBorrowRate': '10000000000000000', 'slopeRate1': '40000000000000000', 'slopeRate2': '500000000000000000'}]} on the lendingPoolCore contract.\n",
      "Raised JSONRPCException while returning the custom response. Error message: {'code': -32602, 'message': 'Pending transaction'}\n",
      "{'code': -32602, 'message': 'Pending transaction'} (Json rpc error), Retrying in 1 seconds...\n",
      "{'txHash': '0x44ff5083c180027719515a27028476c48412e3b65ac5aa33c4c605160e1da70f', 'blockHeight': 1132430, 'blockHash': '0xc9cb2c6917d580bb8af0be7c9073dbe64de2f186a4d4f4d4449df8e3af8442da', 'txIndex': 1, 'to': 'cxaa345a5dbea93b27754e44024d5ea14ccbf09c62', 'stepUsed': 187920, 'stepPrice': 10000000000, 'cumulativeStepUsed': 187920, 'eventLogs': [], 'logsBloom': b'\\x00\\x00\\x00\\x00\\x00\\x00\\x00\\x00\\x00\\x00\\x00\\x00\\x00\\x00\\x00\\x00\\x00\\x00\\x00\\x00\\x00\\x00\\x00\\x00\\x00\\x00\\x00\\x00\\x00\\x00\\x00\\x00\\x00\\x00\\x00\\x00\\x00\\x00\\x00\\x00\\x00\\x00\\x00\\x00\\x00\\x00\\x00\\x00\\x00\\x00\\x00\\x00\\x00\\x00\\x00\\x00\\x00\\x00\\x00\\x00\\x00\\x00\\x00\\x00\\x00\\x00\\x00\\x00\\x00\\x00\\x00\\x00\\x00\\x00\\x00\\x00\\x00\\x00\\x00\\x00\\x00\\x00\\x00\\x00\\x00\\x00\\x00\\x00\\x00\\x00\\x00\\x00\\x00\\x00\\x00\\x00\\x00\\x00\\x00\\x00\\x00\\x00\\x00\\x00\\x00\\x00\\x00\\x00\\x00\\x00\\x00\\x00\\x00\\x00\\x00\\x00\\x00\\x00\\x00\\x00\\x00\\x00\\x00\\x00\\x00\\x00\\x00\\x00\\x00\\x00\\x00\\x00\\x00\\x00\\x00\\x00\\x00\\x00\\x00\\x00\\x00\\x00\\x00\\x00\\x00\\x00\\x00\\x00\\x00\\x00\\x00\\x00\\x00\\x00\\x00\\x00\\x00\\x00\\x00\\x00\\x00\\x00\\x00\\x00\\x00\\x00\\x00\\x00\\x00\\x00\\x00\\x00\\x00\\x00\\x00\\x00\\x00\\x00\\x00\\x00\\x00\\x00\\x00\\x00\\x00\\x00\\x00\\x00\\x00\\x00\\x00\\x00\\x00\\x00\\x00\\x00\\x00\\x00\\x00\\x00\\x00\\x00\\x00\\x00\\x00\\x00\\x00\\x00\\x00\\x00\\x00\\x00\\x00\\x00\\x00\\x00\\x00\\x00\\x00\\x00\\x00\\x00\\x00\\x00\\x00\\x00\\x00\\x00\\x00\\x00\\x00\\x00\\x00\\x00\\x00\\x00\\x00\\x00\\x00\\x00\\x00\\x00\\x00\\x00\\x00\\x00\\x00\\x00\\x00\\x00\\x00\\x00\\x00\\x00\\x00\\x00', 'status': 1}\n"
     ]
    }
   ],
   "source": [
    "for sett in settings:\n",
    "    print(f'\\n')\n",
    "    print(f'Calling {sett[\"method\"]}, with parameters {sett[\"params\"]} on the {sett[\"contract\"]} contract.')\n",
    "    transaction = CallTransactionBuilder()\\\n",
    "        .from_(deployer_wallet.get_address())\\\n",
    "        .to(contracts[sett['contract']]['SCORE'])\\\n",
    "        .value(0)\\\n",
    "        .step_limit(10000000)\\\n",
    "        .nid(NID)\\\n",
    "        .nonce(100)\\\n",
    "        .method(sett['method'])\\\n",
    "        .params(sett['params'])\\\n",
    "        .build()\n",
    "    signed_transaction = SignedTransaction(transaction, deployer_wallet)\n",
    "    tx_hash = icon_service.send_transaction(signed_transaction)\n",
    "    tx_hash\n",
    "    print(get_tx_result(tx_hash))"
   ]
  },
  {
   "cell_type": "markdown",
   "metadata": {},
   "source": [
    "## Additional setup for icx reserve"
   ]
  },
  {
   "cell_type": "code",
   "execution_count": 41,
   "metadata": {},
   "outputs": [],
   "source": [
    "icx_additional=[{'contract': 'lendingPool', 'method': 'setSICXAddress', 'params':{'_address': contracts['sicx']['SCORE']}},\n",
    "                {'contract': 'priceOracle', 'method': 'set_reference_data', 'params':{'_base':'sICX','_quote':'USD','_rate':5*10**17}},\n",
    "                {'contract': 'lendingPoolDataProvider', 'method': 'setSymbol', 'params':{'_reserveAddress': contracts['sicx']['SCORE'],'_sym':\"sICX\"}},\n",
    "                {'contract': 'addressProvider', 'method': 'setsICX', 'params':{'_address':contracts['sicx']['SCORE']}},\n",
    "                {'contract': 'addressProvider', 'method': 'setoICX', 'params':{'_address':contracts['oICX']['SCORE']}},\n",
    "                {'contract': 'lendingPoolCore', 'method': 'setReserveConstants', 'params' :{\"_constants\": [{\"reserve\":contracts['sicx']['SCORE'],\"optimalUtilizationRate\":f\"6{'0'*17}\",\"baseBorrowRate\":f\"0{'0'*17}\",\"slopeRate1\":f\"7{'0'*16}\",\"slopeRate2\":f\"3{'0'*18}\"} ]}},\n",
    "                 \n",
    "                {'contract': 'oICX', 'method': 'setCoreAddress', 'params':{'_address':contracts['lendingPoolCore']['SCORE']}},\n",
    "                {'contract': 'oICX', 'method': 'setReserveAddress', 'params':{'_address':contracts['sicx']['SCORE']}},\n",
    "                {'contract': 'oICX', 'method': 'setDataProviderAddress', 'params':{'_address':contracts['lendingPoolDataProvider']['SCORE']}},\n",
    "                {'contract': 'oICX', 'method': 'setLendingPoolAddress', 'params':{'_address':contracts['lendingPool']['SCORE']}},\n",
    "\n",
    "\n",
    "]"
   ]
  },
  {
   "cell_type": "code",
   "execution_count": 42,
   "metadata": {
    "tags": []
   },
   "outputs": [
    {
     "output_type": "stream",
     "name": "stdout",
     "text": [
      "\n",
      "\n",
      "Calling setSICXAddress, with parameters {'_address': 'cxe74650f0903ef43102b74fb7d4949ad2f42eeff9'} on the lendingPool contract.\n",
      "Raised JSONRPCException while returning the custom response. Error message: {'code': -32602, 'message': 'Pending transaction'}\n",
      "{'code': -32602, 'message': 'Pending transaction'} (Json rpc error), Retrying in 1 seconds...\n",
      "{'txHash': '0x7b99a17e27e933994019e233d8c0878f4e19914e740b60cc68e23650e529d696', 'blockHeight': 1132437, 'blockHash': '0x810d652680a7a5eaf864e7df28c74c306e10efeb4b5620f348dce3744a374ba2', 'txIndex': 1, 'to': 'cx5dbae1f5dc20f2d0d16034a07869b6f0bedd14f6', 'stepUsed': 150520, 'stepPrice': 10000000000, 'cumulativeStepUsed': 150520, 'eventLogs': [], 'logsBloom': b'\\x00\\x00\\x00\\x00\\x00\\x00\\x00\\x00\\x00\\x00\\x00\\x00\\x00\\x00\\x00\\x00\\x00\\x00\\x00\\x00\\x00\\x00\\x00\\x00\\x00\\x00\\x00\\x00\\x00\\x00\\x00\\x00\\x00\\x00\\x00\\x00\\x00\\x00\\x00\\x00\\x00\\x00\\x00\\x00\\x00\\x00\\x00\\x00\\x00\\x00\\x00\\x00\\x00\\x00\\x00\\x00\\x00\\x00\\x00\\x00\\x00\\x00\\x00\\x00\\x00\\x00\\x00\\x00\\x00\\x00\\x00\\x00\\x00\\x00\\x00\\x00\\x00\\x00\\x00\\x00\\x00\\x00\\x00\\x00\\x00\\x00\\x00\\x00\\x00\\x00\\x00\\x00\\x00\\x00\\x00\\x00\\x00\\x00\\x00\\x00\\x00\\x00\\x00\\x00\\x00\\x00\\x00\\x00\\x00\\x00\\x00\\x00\\x00\\x00\\x00\\x00\\x00\\x00\\x00\\x00\\x00\\x00\\x00\\x00\\x00\\x00\\x00\\x00\\x00\\x00\\x00\\x00\\x00\\x00\\x00\\x00\\x00\\x00\\x00\\x00\\x00\\x00\\x00\\x00\\x00\\x00\\x00\\x00\\x00\\x00\\x00\\x00\\x00\\x00\\x00\\x00\\x00\\x00\\x00\\x00\\x00\\x00\\x00\\x00\\x00\\x00\\x00\\x00\\x00\\x00\\x00\\x00\\x00\\x00\\x00\\x00\\x00\\x00\\x00\\x00\\x00\\x00\\x00\\x00\\x00\\x00\\x00\\x00\\x00\\x00\\x00\\x00\\x00\\x00\\x00\\x00\\x00\\x00\\x00\\x00\\x00\\x00\\x00\\x00\\x00\\x00\\x00\\x00\\x00\\x00\\x00\\x00\\x00\\x00\\x00\\x00\\x00\\x00\\x00\\x00\\x00\\x00\\x00\\x00\\x00\\x00\\x00\\x00\\x00\\x00\\x00\\x00\\x00\\x00\\x00\\x00\\x00\\x00\\x00\\x00\\x00\\x00\\x00\\x00\\x00\\x00\\x00\\x00\\x00\\x00\\x00\\x00\\x00\\x00\\x00\\x00', 'status': 1}\n",
      "\n",
      "\n",
      "Calling set_reference_data, with parameters {'_base': 'sICX', '_quote': 'USD', '_rate': 500000000000000000} on the priceOracle contract.\n",
      "Raised JSONRPCException while returning the custom response. Error message: {'code': -32602, 'message': 'Pending transaction'}\n",
      "{'code': -32602, 'message': 'Pending transaction'} (Json rpc error), Retrying in 1 seconds...\n",
      "{'txHash': '0x466c2eb4ef22d1ced528e7337345338022cd8c7688912401eb80df82aa89a65e', 'blockHeight': 1132438, 'blockHash': '0x7c0406ee879739c9b8a9b5809ab95cb4165e507375739ba9375e62e9a90c5133', 'txIndex': 1, 'to': 'cx790de19720a6af19c50d264f53529bab60fe6837', 'stepUsed': 147560, 'stepPrice': 10000000000, 'cumulativeStepUsed': 147560, 'eventLogs': [], 'logsBloom': b'\\x00\\x00\\x00\\x00\\x00\\x00\\x00\\x00\\x00\\x00\\x00\\x00\\x00\\x00\\x00\\x00\\x00\\x00\\x00\\x00\\x00\\x00\\x00\\x00\\x00\\x00\\x00\\x00\\x00\\x00\\x00\\x00\\x00\\x00\\x00\\x00\\x00\\x00\\x00\\x00\\x00\\x00\\x00\\x00\\x00\\x00\\x00\\x00\\x00\\x00\\x00\\x00\\x00\\x00\\x00\\x00\\x00\\x00\\x00\\x00\\x00\\x00\\x00\\x00\\x00\\x00\\x00\\x00\\x00\\x00\\x00\\x00\\x00\\x00\\x00\\x00\\x00\\x00\\x00\\x00\\x00\\x00\\x00\\x00\\x00\\x00\\x00\\x00\\x00\\x00\\x00\\x00\\x00\\x00\\x00\\x00\\x00\\x00\\x00\\x00\\x00\\x00\\x00\\x00\\x00\\x00\\x00\\x00\\x00\\x00\\x00\\x00\\x00\\x00\\x00\\x00\\x00\\x00\\x00\\x00\\x00\\x00\\x00\\x00\\x00\\x00\\x00\\x00\\x00\\x00\\x00\\x00\\x00\\x00\\x00\\x00\\x00\\x00\\x00\\x00\\x00\\x00\\x00\\x00\\x00\\x00\\x00\\x00\\x00\\x00\\x00\\x00\\x00\\x00\\x00\\x00\\x00\\x00\\x00\\x00\\x00\\x00\\x00\\x00\\x00\\x00\\x00\\x00\\x00\\x00\\x00\\x00\\x00\\x00\\x00\\x00\\x00\\x00\\x00\\x00\\x00\\x00\\x00\\x00\\x00\\x00\\x00\\x00\\x00\\x00\\x00\\x00\\x00\\x00\\x00\\x00\\x00\\x00\\x00\\x00\\x00\\x00\\x00\\x00\\x00\\x00\\x00\\x00\\x00\\x00\\x00\\x00\\x00\\x00\\x00\\x00\\x00\\x00\\x00\\x00\\x00\\x00\\x00\\x00\\x00\\x00\\x00\\x00\\x00\\x00\\x00\\x00\\x00\\x00\\x00\\x00\\x00\\x00\\x00\\x00\\x00\\x00\\x00\\x00\\x00\\x00\\x00\\x00\\x00\\x00\\x00\\x00\\x00\\x00\\x00\\x00', 'status': 1}\n",
      "\n",
      "\n",
      "Calling setSymbol, with parameters {'_reserveAddress': 'cxe74650f0903ef43102b74fb7d4949ad2f42eeff9', '_sym': 'sICX'} on the lendingPoolDataProvider contract.\n",
      "{'txHash': '0x7f3843222309c83aef4274b3a939d8ffb617f244305f80b0ce6cc3c0d32d53f9', 'blockHeight': 1132439, 'blockHash': '0x03115347bd62ee59ac0cee3774db350e886772e865c3a1873e35776029784c78', 'txIndex': 1, 'to': 'cxb5083e61b035b31b0bffa7350ff276349069eb60', 'stepUsed': 148280, 'stepPrice': 10000000000, 'cumulativeStepUsed': 148280, 'eventLogs': [], 'logsBloom': b'\\x00\\x00\\x00\\x00\\x00\\x00\\x00\\x00\\x00\\x00\\x00\\x00\\x00\\x00\\x00\\x00\\x00\\x00\\x00\\x00\\x00\\x00\\x00\\x00\\x00\\x00\\x00\\x00\\x00\\x00\\x00\\x00\\x00\\x00\\x00\\x00\\x00\\x00\\x00\\x00\\x00\\x00\\x00\\x00\\x00\\x00\\x00\\x00\\x00\\x00\\x00\\x00\\x00\\x00\\x00\\x00\\x00\\x00\\x00\\x00\\x00\\x00\\x00\\x00\\x00\\x00\\x00\\x00\\x00\\x00\\x00\\x00\\x00\\x00\\x00\\x00\\x00\\x00\\x00\\x00\\x00\\x00\\x00\\x00\\x00\\x00\\x00\\x00\\x00\\x00\\x00\\x00\\x00\\x00\\x00\\x00\\x00\\x00\\x00\\x00\\x00\\x00\\x00\\x00\\x00\\x00\\x00\\x00\\x00\\x00\\x00\\x00\\x00\\x00\\x00\\x00\\x00\\x00\\x00\\x00\\x00\\x00\\x00\\x00\\x00\\x00\\x00\\x00\\x00\\x00\\x00\\x00\\x00\\x00\\x00\\x00\\x00\\x00\\x00\\x00\\x00\\x00\\x00\\x00\\x00\\x00\\x00\\x00\\x00\\x00\\x00\\x00\\x00\\x00\\x00\\x00\\x00\\x00\\x00\\x00\\x00\\x00\\x00\\x00\\x00\\x00\\x00\\x00\\x00\\x00\\x00\\x00\\x00\\x00\\x00\\x00\\x00\\x00\\x00\\x00\\x00\\x00\\x00\\x00\\x00\\x00\\x00\\x00\\x00\\x00\\x00\\x00\\x00\\x00\\x00\\x00\\x00\\x00\\x00\\x00\\x00\\x00\\x00\\x00\\x00\\x00\\x00\\x00\\x00\\x00\\x00\\x00\\x00\\x00\\x00\\x00\\x00\\x00\\x00\\x00\\x00\\x00\\x00\\x00\\x00\\x00\\x00\\x00\\x00\\x00\\x00\\x00\\x00\\x00\\x00\\x00\\x00\\x00\\x00\\x00\\x00\\x00\\x00\\x00\\x00\\x00\\x00\\x00\\x00\\x00\\x00\\x00\\x00\\x00\\x00\\x00', 'status': 1}\n",
      "\n",
      "\n",
      "Calling setsICX, with parameters {'_address': 'cxe74650f0903ef43102b74fb7d4949ad2f42eeff9'} on the addressProvider contract.\n",
      "Raised JSONRPCException while returning the custom response. Error message: {'code': -32602, 'message': 'Pending transaction'}\n",
      "{'code': -32602, 'message': 'Pending transaction'} (Json rpc error), Retrying in 1 seconds...\n",
      "{'txHash': '0xf3be30bf8a2117a3c9cf541aca8f6426b1dbf8c7540766ef5decda6554e7f92c', 'blockHeight': 1132440, 'blockHash': '0x5c45f3a5c9e534107a630d0ec25ab7127627af14be502696811bf619602b5c36', 'txIndex': 1, 'to': 'cx2a4267624dfeb9a79b931424fd8ac7b81c5cf805', 'stepUsed': 149120, 'stepPrice': 10000000000, 'cumulativeStepUsed': 149120, 'eventLogs': [], 'logsBloom': b'\\x00\\x00\\x00\\x00\\x00\\x00\\x00\\x00\\x00\\x00\\x00\\x00\\x00\\x00\\x00\\x00\\x00\\x00\\x00\\x00\\x00\\x00\\x00\\x00\\x00\\x00\\x00\\x00\\x00\\x00\\x00\\x00\\x00\\x00\\x00\\x00\\x00\\x00\\x00\\x00\\x00\\x00\\x00\\x00\\x00\\x00\\x00\\x00\\x00\\x00\\x00\\x00\\x00\\x00\\x00\\x00\\x00\\x00\\x00\\x00\\x00\\x00\\x00\\x00\\x00\\x00\\x00\\x00\\x00\\x00\\x00\\x00\\x00\\x00\\x00\\x00\\x00\\x00\\x00\\x00\\x00\\x00\\x00\\x00\\x00\\x00\\x00\\x00\\x00\\x00\\x00\\x00\\x00\\x00\\x00\\x00\\x00\\x00\\x00\\x00\\x00\\x00\\x00\\x00\\x00\\x00\\x00\\x00\\x00\\x00\\x00\\x00\\x00\\x00\\x00\\x00\\x00\\x00\\x00\\x00\\x00\\x00\\x00\\x00\\x00\\x00\\x00\\x00\\x00\\x00\\x00\\x00\\x00\\x00\\x00\\x00\\x00\\x00\\x00\\x00\\x00\\x00\\x00\\x00\\x00\\x00\\x00\\x00\\x00\\x00\\x00\\x00\\x00\\x00\\x00\\x00\\x00\\x00\\x00\\x00\\x00\\x00\\x00\\x00\\x00\\x00\\x00\\x00\\x00\\x00\\x00\\x00\\x00\\x00\\x00\\x00\\x00\\x00\\x00\\x00\\x00\\x00\\x00\\x00\\x00\\x00\\x00\\x00\\x00\\x00\\x00\\x00\\x00\\x00\\x00\\x00\\x00\\x00\\x00\\x00\\x00\\x00\\x00\\x00\\x00\\x00\\x00\\x00\\x00\\x00\\x00\\x00\\x00\\x00\\x00\\x00\\x00\\x00\\x00\\x00\\x00\\x00\\x00\\x00\\x00\\x00\\x00\\x00\\x00\\x00\\x00\\x00\\x00\\x00\\x00\\x00\\x00\\x00\\x00\\x00\\x00\\x00\\x00\\x00\\x00\\x00\\x00\\x00\\x00\\x00\\x00\\x00\\x00\\x00\\x00\\x00', 'status': 1}\n",
      "\n",
      "\n",
      "Calling setoICX, with parameters {'_address': 'cxe6b279229d10c9230b59cb50349589a015401925'} on the addressProvider contract.\n",
      "{'txHash': '0x6e018ffa90d084b40279f0d6b2f14bc27254caebbf915f42eb0d4cf146197a82', 'blockHeight': 1132441, 'blockHash': '0x193b68129790462a6ddb22a1b788ceec07347b2ed4763249e85a0f7fcd200d1a', 'txIndex': 1, 'to': 'cx2a4267624dfeb9a79b931424fd8ac7b81c5cf805', 'stepUsed': 149120, 'stepPrice': 10000000000, 'cumulativeStepUsed': 149120, 'eventLogs': [], 'logsBloom': b'\\x00\\x00\\x00\\x00\\x00\\x00\\x00\\x00\\x00\\x00\\x00\\x00\\x00\\x00\\x00\\x00\\x00\\x00\\x00\\x00\\x00\\x00\\x00\\x00\\x00\\x00\\x00\\x00\\x00\\x00\\x00\\x00\\x00\\x00\\x00\\x00\\x00\\x00\\x00\\x00\\x00\\x00\\x00\\x00\\x00\\x00\\x00\\x00\\x00\\x00\\x00\\x00\\x00\\x00\\x00\\x00\\x00\\x00\\x00\\x00\\x00\\x00\\x00\\x00\\x00\\x00\\x00\\x00\\x00\\x00\\x00\\x00\\x00\\x00\\x00\\x00\\x00\\x00\\x00\\x00\\x00\\x00\\x00\\x00\\x00\\x00\\x00\\x00\\x00\\x00\\x00\\x00\\x00\\x00\\x00\\x00\\x00\\x00\\x00\\x00\\x00\\x00\\x00\\x00\\x00\\x00\\x00\\x00\\x00\\x00\\x00\\x00\\x00\\x00\\x00\\x00\\x00\\x00\\x00\\x00\\x00\\x00\\x00\\x00\\x00\\x00\\x00\\x00\\x00\\x00\\x00\\x00\\x00\\x00\\x00\\x00\\x00\\x00\\x00\\x00\\x00\\x00\\x00\\x00\\x00\\x00\\x00\\x00\\x00\\x00\\x00\\x00\\x00\\x00\\x00\\x00\\x00\\x00\\x00\\x00\\x00\\x00\\x00\\x00\\x00\\x00\\x00\\x00\\x00\\x00\\x00\\x00\\x00\\x00\\x00\\x00\\x00\\x00\\x00\\x00\\x00\\x00\\x00\\x00\\x00\\x00\\x00\\x00\\x00\\x00\\x00\\x00\\x00\\x00\\x00\\x00\\x00\\x00\\x00\\x00\\x00\\x00\\x00\\x00\\x00\\x00\\x00\\x00\\x00\\x00\\x00\\x00\\x00\\x00\\x00\\x00\\x00\\x00\\x00\\x00\\x00\\x00\\x00\\x00\\x00\\x00\\x00\\x00\\x00\\x00\\x00\\x00\\x00\\x00\\x00\\x00\\x00\\x00\\x00\\x00\\x00\\x00\\x00\\x00\\x00\\x00\\x00\\x00\\x00\\x00\\x00\\x00\\x00\\x00\\x00\\x00', 'status': 1}\n",
      "\n",
      "\n",
      "Calling setReserveConstants, with parameters {'_constants': [{'reserve': 'cxe74650f0903ef43102b74fb7d4949ad2f42eeff9', 'optimalUtilizationRate': '600000000000000000', 'baseBorrowRate': '000000000000000000', 'slopeRate1': '70000000000000000', 'slopeRate2': '3000000000000000000'}]} on the lendingPoolCore contract.\n",
      "Raised JSONRPCException while returning the custom response. Error message: {'code': -32602, 'message': 'Pending transaction'}\n",
      "{'code': -32602, 'message': 'Pending transaction'} (Json rpc error), Retrying in 1 seconds...\n",
      "{'txHash': '0x6f48b64a4d08fb911931db63966d895938d5459ce415bafd80bd248ded928af7', 'blockHeight': 1132442, 'blockHash': '0xedae4c6649370c7ba08a29ae175a7a172c723128ec92120cdf19a2598032914a', 'txIndex': 1, 'to': 'cxaa345a5dbea93b27754e44024d5ea14ccbf09c62', 'stepUsed': 186400, 'stepPrice': 10000000000, 'cumulativeStepUsed': 186400, 'eventLogs': [], 'logsBloom': b'\\x00\\x00\\x00\\x00\\x00\\x00\\x00\\x00\\x00\\x00\\x00\\x00\\x00\\x00\\x00\\x00\\x00\\x00\\x00\\x00\\x00\\x00\\x00\\x00\\x00\\x00\\x00\\x00\\x00\\x00\\x00\\x00\\x00\\x00\\x00\\x00\\x00\\x00\\x00\\x00\\x00\\x00\\x00\\x00\\x00\\x00\\x00\\x00\\x00\\x00\\x00\\x00\\x00\\x00\\x00\\x00\\x00\\x00\\x00\\x00\\x00\\x00\\x00\\x00\\x00\\x00\\x00\\x00\\x00\\x00\\x00\\x00\\x00\\x00\\x00\\x00\\x00\\x00\\x00\\x00\\x00\\x00\\x00\\x00\\x00\\x00\\x00\\x00\\x00\\x00\\x00\\x00\\x00\\x00\\x00\\x00\\x00\\x00\\x00\\x00\\x00\\x00\\x00\\x00\\x00\\x00\\x00\\x00\\x00\\x00\\x00\\x00\\x00\\x00\\x00\\x00\\x00\\x00\\x00\\x00\\x00\\x00\\x00\\x00\\x00\\x00\\x00\\x00\\x00\\x00\\x00\\x00\\x00\\x00\\x00\\x00\\x00\\x00\\x00\\x00\\x00\\x00\\x00\\x00\\x00\\x00\\x00\\x00\\x00\\x00\\x00\\x00\\x00\\x00\\x00\\x00\\x00\\x00\\x00\\x00\\x00\\x00\\x00\\x00\\x00\\x00\\x00\\x00\\x00\\x00\\x00\\x00\\x00\\x00\\x00\\x00\\x00\\x00\\x00\\x00\\x00\\x00\\x00\\x00\\x00\\x00\\x00\\x00\\x00\\x00\\x00\\x00\\x00\\x00\\x00\\x00\\x00\\x00\\x00\\x00\\x00\\x00\\x00\\x00\\x00\\x00\\x00\\x00\\x00\\x00\\x00\\x00\\x00\\x00\\x00\\x00\\x00\\x00\\x00\\x00\\x00\\x00\\x00\\x00\\x00\\x00\\x00\\x00\\x00\\x00\\x00\\x00\\x00\\x00\\x00\\x00\\x00\\x00\\x00\\x00\\x00\\x00\\x00\\x00\\x00\\x00\\x00\\x00\\x00\\x00\\x00\\x00\\x00\\x00\\x00\\x00', 'status': 1}\n",
      "\n",
      "\n",
      "Calling setCoreAddress, with parameters {'_address': 'cxaa345a5dbea93b27754e44024d5ea14ccbf09c62'} on the oICX contract.\n",
      "{'txHash': '0xc2da298511ddddd6bd9c3f8414b43248bb32b3440be361a168b30d7db01c56e5', 'blockHeight': 1132443, 'blockHash': '0x7d475a6801184edfa156ca85aa152d400adf8e4b807a2ef8d199713ead60ac6e', 'txIndex': 1, 'to': 'cxe6b279229d10c9230b59cb50349589a015401925', 'stepUsed': 150520, 'stepPrice': 10000000000, 'cumulativeStepUsed': 150520, 'eventLogs': [], 'logsBloom': b'\\x00\\x00\\x00\\x00\\x00\\x00\\x00\\x00\\x00\\x00\\x00\\x00\\x00\\x00\\x00\\x00\\x00\\x00\\x00\\x00\\x00\\x00\\x00\\x00\\x00\\x00\\x00\\x00\\x00\\x00\\x00\\x00\\x00\\x00\\x00\\x00\\x00\\x00\\x00\\x00\\x00\\x00\\x00\\x00\\x00\\x00\\x00\\x00\\x00\\x00\\x00\\x00\\x00\\x00\\x00\\x00\\x00\\x00\\x00\\x00\\x00\\x00\\x00\\x00\\x00\\x00\\x00\\x00\\x00\\x00\\x00\\x00\\x00\\x00\\x00\\x00\\x00\\x00\\x00\\x00\\x00\\x00\\x00\\x00\\x00\\x00\\x00\\x00\\x00\\x00\\x00\\x00\\x00\\x00\\x00\\x00\\x00\\x00\\x00\\x00\\x00\\x00\\x00\\x00\\x00\\x00\\x00\\x00\\x00\\x00\\x00\\x00\\x00\\x00\\x00\\x00\\x00\\x00\\x00\\x00\\x00\\x00\\x00\\x00\\x00\\x00\\x00\\x00\\x00\\x00\\x00\\x00\\x00\\x00\\x00\\x00\\x00\\x00\\x00\\x00\\x00\\x00\\x00\\x00\\x00\\x00\\x00\\x00\\x00\\x00\\x00\\x00\\x00\\x00\\x00\\x00\\x00\\x00\\x00\\x00\\x00\\x00\\x00\\x00\\x00\\x00\\x00\\x00\\x00\\x00\\x00\\x00\\x00\\x00\\x00\\x00\\x00\\x00\\x00\\x00\\x00\\x00\\x00\\x00\\x00\\x00\\x00\\x00\\x00\\x00\\x00\\x00\\x00\\x00\\x00\\x00\\x00\\x00\\x00\\x00\\x00\\x00\\x00\\x00\\x00\\x00\\x00\\x00\\x00\\x00\\x00\\x00\\x00\\x00\\x00\\x00\\x00\\x00\\x00\\x00\\x00\\x00\\x00\\x00\\x00\\x00\\x00\\x00\\x00\\x00\\x00\\x00\\x00\\x00\\x00\\x00\\x00\\x00\\x00\\x00\\x00\\x00\\x00\\x00\\x00\\x00\\x00\\x00\\x00\\x00\\x00\\x00\\x00\\x00\\x00\\x00', 'status': 1}\n",
      "\n",
      "\n",
      "Calling setReserveAddress, with parameters {'_address': 'cxe74650f0903ef43102b74fb7d4949ad2f42eeff9'} on the oICX contract.\n",
      "Raised JSONRPCException while returning the custom response. Error message: {'code': -32602, 'message': 'Pending transaction'}\n",
      "{'code': -32602, 'message': 'Pending transaction'} (Json rpc error), Retrying in 1 seconds...\n",
      "{'txHash': '0xe041454001a932ffd4d8dfee3a6e69487db940ae0a93382c0afd0dea9912eac5', 'blockHeight': 1132444, 'blockHash': '0xf8c2d5a0f17efd26da10a3e08c074e989cf8db71b791f50c4af9f4ebacbf37df', 'txIndex': 1, 'to': 'cxe6b279229d10c9230b59cb50349589a015401925', 'stepUsed': 151120, 'stepPrice': 10000000000, 'cumulativeStepUsed': 151120, 'eventLogs': [], 'logsBloom': b'\\x00\\x00\\x00\\x00\\x00\\x00\\x00\\x00\\x00\\x00\\x00\\x00\\x00\\x00\\x00\\x00\\x00\\x00\\x00\\x00\\x00\\x00\\x00\\x00\\x00\\x00\\x00\\x00\\x00\\x00\\x00\\x00\\x00\\x00\\x00\\x00\\x00\\x00\\x00\\x00\\x00\\x00\\x00\\x00\\x00\\x00\\x00\\x00\\x00\\x00\\x00\\x00\\x00\\x00\\x00\\x00\\x00\\x00\\x00\\x00\\x00\\x00\\x00\\x00\\x00\\x00\\x00\\x00\\x00\\x00\\x00\\x00\\x00\\x00\\x00\\x00\\x00\\x00\\x00\\x00\\x00\\x00\\x00\\x00\\x00\\x00\\x00\\x00\\x00\\x00\\x00\\x00\\x00\\x00\\x00\\x00\\x00\\x00\\x00\\x00\\x00\\x00\\x00\\x00\\x00\\x00\\x00\\x00\\x00\\x00\\x00\\x00\\x00\\x00\\x00\\x00\\x00\\x00\\x00\\x00\\x00\\x00\\x00\\x00\\x00\\x00\\x00\\x00\\x00\\x00\\x00\\x00\\x00\\x00\\x00\\x00\\x00\\x00\\x00\\x00\\x00\\x00\\x00\\x00\\x00\\x00\\x00\\x00\\x00\\x00\\x00\\x00\\x00\\x00\\x00\\x00\\x00\\x00\\x00\\x00\\x00\\x00\\x00\\x00\\x00\\x00\\x00\\x00\\x00\\x00\\x00\\x00\\x00\\x00\\x00\\x00\\x00\\x00\\x00\\x00\\x00\\x00\\x00\\x00\\x00\\x00\\x00\\x00\\x00\\x00\\x00\\x00\\x00\\x00\\x00\\x00\\x00\\x00\\x00\\x00\\x00\\x00\\x00\\x00\\x00\\x00\\x00\\x00\\x00\\x00\\x00\\x00\\x00\\x00\\x00\\x00\\x00\\x00\\x00\\x00\\x00\\x00\\x00\\x00\\x00\\x00\\x00\\x00\\x00\\x00\\x00\\x00\\x00\\x00\\x00\\x00\\x00\\x00\\x00\\x00\\x00\\x00\\x00\\x00\\x00\\x00\\x00\\x00\\x00\\x00\\x00\\x00\\x00\\x00\\x00\\x00', 'status': 1}\n",
      "\n",
      "\n",
      "Calling setDataProviderAddress, with parameters {'_address': 'cxb5083e61b035b31b0bffa7350ff276349069eb60'} on the oICX contract.\n",
      "{'txHash': '0x810015b6475533593d69ed22e877545e6df08262455d6a83562720ac1f8737ed', 'blockHeight': 1132445, 'blockHash': '0x7e752a02c959a6cb512a9bef9eca9988554096ddf3527878d4cfb573d928acd4', 'txIndex': 1, 'to': 'cxe6b279229d10c9230b59cb50349589a015401925', 'stepUsed': 152120, 'stepPrice': 10000000000, 'cumulativeStepUsed': 152120, 'eventLogs': [], 'logsBloom': b'\\x00\\x00\\x00\\x00\\x00\\x00\\x00\\x00\\x00\\x00\\x00\\x00\\x00\\x00\\x00\\x00\\x00\\x00\\x00\\x00\\x00\\x00\\x00\\x00\\x00\\x00\\x00\\x00\\x00\\x00\\x00\\x00\\x00\\x00\\x00\\x00\\x00\\x00\\x00\\x00\\x00\\x00\\x00\\x00\\x00\\x00\\x00\\x00\\x00\\x00\\x00\\x00\\x00\\x00\\x00\\x00\\x00\\x00\\x00\\x00\\x00\\x00\\x00\\x00\\x00\\x00\\x00\\x00\\x00\\x00\\x00\\x00\\x00\\x00\\x00\\x00\\x00\\x00\\x00\\x00\\x00\\x00\\x00\\x00\\x00\\x00\\x00\\x00\\x00\\x00\\x00\\x00\\x00\\x00\\x00\\x00\\x00\\x00\\x00\\x00\\x00\\x00\\x00\\x00\\x00\\x00\\x00\\x00\\x00\\x00\\x00\\x00\\x00\\x00\\x00\\x00\\x00\\x00\\x00\\x00\\x00\\x00\\x00\\x00\\x00\\x00\\x00\\x00\\x00\\x00\\x00\\x00\\x00\\x00\\x00\\x00\\x00\\x00\\x00\\x00\\x00\\x00\\x00\\x00\\x00\\x00\\x00\\x00\\x00\\x00\\x00\\x00\\x00\\x00\\x00\\x00\\x00\\x00\\x00\\x00\\x00\\x00\\x00\\x00\\x00\\x00\\x00\\x00\\x00\\x00\\x00\\x00\\x00\\x00\\x00\\x00\\x00\\x00\\x00\\x00\\x00\\x00\\x00\\x00\\x00\\x00\\x00\\x00\\x00\\x00\\x00\\x00\\x00\\x00\\x00\\x00\\x00\\x00\\x00\\x00\\x00\\x00\\x00\\x00\\x00\\x00\\x00\\x00\\x00\\x00\\x00\\x00\\x00\\x00\\x00\\x00\\x00\\x00\\x00\\x00\\x00\\x00\\x00\\x00\\x00\\x00\\x00\\x00\\x00\\x00\\x00\\x00\\x00\\x00\\x00\\x00\\x00\\x00\\x00\\x00\\x00\\x00\\x00\\x00\\x00\\x00\\x00\\x00\\x00\\x00\\x00\\x00\\x00\\x00\\x00\\x00', 'status': 1}\n",
      "\n",
      "\n",
      "Calling setLendingPoolAddress, with parameters {'_address': 'cx5dbae1f5dc20f2d0d16034a07869b6f0bedd14f6'} on the oICX contract.\n",
      "Raised JSONRPCException while returning the custom response. Error message: {'code': -32602, 'message': 'Pending transaction'}\n",
      "{'code': -32602, 'message': 'Pending transaction'} (Json rpc error), Retrying in 1 seconds...\n",
      "{'txHash': '0x76e9bdbc4b9d6d85e6c1fddd47e168472090f8ebf947b5667f3b3447d4bfe09a', 'blockHeight': 1132446, 'blockHash': '0x280a510ee1113b5046e3d246cb6922b3341e59cab6da0e6a59a76463db0b5040', 'txIndex': 1, 'to': 'cxe6b279229d10c9230b59cb50349589a015401925', 'stepUsed': 151920, 'stepPrice': 10000000000, 'cumulativeStepUsed': 151920, 'eventLogs': [], 'logsBloom': b'\\x00\\x00\\x00\\x00\\x00\\x00\\x00\\x00\\x00\\x00\\x00\\x00\\x00\\x00\\x00\\x00\\x00\\x00\\x00\\x00\\x00\\x00\\x00\\x00\\x00\\x00\\x00\\x00\\x00\\x00\\x00\\x00\\x00\\x00\\x00\\x00\\x00\\x00\\x00\\x00\\x00\\x00\\x00\\x00\\x00\\x00\\x00\\x00\\x00\\x00\\x00\\x00\\x00\\x00\\x00\\x00\\x00\\x00\\x00\\x00\\x00\\x00\\x00\\x00\\x00\\x00\\x00\\x00\\x00\\x00\\x00\\x00\\x00\\x00\\x00\\x00\\x00\\x00\\x00\\x00\\x00\\x00\\x00\\x00\\x00\\x00\\x00\\x00\\x00\\x00\\x00\\x00\\x00\\x00\\x00\\x00\\x00\\x00\\x00\\x00\\x00\\x00\\x00\\x00\\x00\\x00\\x00\\x00\\x00\\x00\\x00\\x00\\x00\\x00\\x00\\x00\\x00\\x00\\x00\\x00\\x00\\x00\\x00\\x00\\x00\\x00\\x00\\x00\\x00\\x00\\x00\\x00\\x00\\x00\\x00\\x00\\x00\\x00\\x00\\x00\\x00\\x00\\x00\\x00\\x00\\x00\\x00\\x00\\x00\\x00\\x00\\x00\\x00\\x00\\x00\\x00\\x00\\x00\\x00\\x00\\x00\\x00\\x00\\x00\\x00\\x00\\x00\\x00\\x00\\x00\\x00\\x00\\x00\\x00\\x00\\x00\\x00\\x00\\x00\\x00\\x00\\x00\\x00\\x00\\x00\\x00\\x00\\x00\\x00\\x00\\x00\\x00\\x00\\x00\\x00\\x00\\x00\\x00\\x00\\x00\\x00\\x00\\x00\\x00\\x00\\x00\\x00\\x00\\x00\\x00\\x00\\x00\\x00\\x00\\x00\\x00\\x00\\x00\\x00\\x00\\x00\\x00\\x00\\x00\\x00\\x00\\x00\\x00\\x00\\x00\\x00\\x00\\x00\\x00\\x00\\x00\\x00\\x00\\x00\\x00\\x00\\x00\\x00\\x00\\x00\\x00\\x00\\x00\\x00\\x00\\x00\\x00\\x00\\x00\\x00\\x00', 'status': 1}\n"
     ]
    }
   ],
   "source": [
    "for sett in icx_additional:\n",
    "    print(f'\\n')\n",
    "    print(f'Calling {sett[\"method\"]}, with parameters {sett[\"params\"]} on the {sett[\"contract\"]} contract.')\n",
    "    transaction = CallTransactionBuilder()\\\n",
    "        .from_(deployer_wallet.get_address())\\\n",
    "        .to(contracts[sett['contract']]['SCORE'])\\\n",
    "        .value(0)\\\n",
    "        .step_limit(10000000)\\\n",
    "        .nid(NID)\\\n",
    "        .nonce(100)\\\n",
    "        .method(sett['method'])\\\n",
    "        .params(sett['params'])\\\n",
    "        .build()\n",
    "    signed_transaction = SignedTransaction(transaction, deployer_wallet)\n",
    "    tx_hash = icon_service.send_transaction(signed_transaction)\n",
    "    tx_hash\n",
    "    print(get_tx_result(tx_hash))"
   ]
  },
  {
   "cell_type": "markdown",
   "metadata": {},
   "source": [
    "## Adding USDb reserve in LendingPoolCore\n",
    "\n"
   ]
  },
  {
   "cell_type": "code",
   "execution_count": 43,
   "metadata": {
    "tags": []
   },
   "outputs": [
    {
     "output_type": "stream",
     "name": "stderr",
     "text": [
      "Raised JSONRPCException while returning the custom response. Error message: {'code': -32602, 'message': 'Pending transaction'}\n",
      "{'code': -32602, 'message': 'Pending transaction'} (Json rpc error), Retrying in 1 seconds...\n"
     ]
    },
    {
     "output_type": "execute_result",
     "data": {
      "text/plain": [
       "{'txHash': '0x37cb74c1a407726d132e25ed83696a50f40accc5324f79aab85a61d47a4e568d',\n",
       " 'blockHeight': 1132466,\n",
       " 'blockHash': '0x1c341dc542a0db9423cbc18311217968cd0e33c046f99eeb17fa47547580508f',\n",
       " 'txIndex': 1,\n",
       " 'to': 'cxaa345a5dbea93b27754e44024d5ea14ccbf09c62',\n",
       " 'stepUsed': 271600,\n",
       " 'stepPrice': 10000000000,\n",
       " 'cumulativeStepUsed': 271600,\n",
       " 'eventLogs': [],\n",
       " 'logsBloom': b'\\x00\\x00\\x00\\x00\\x00\\x00\\x00\\x00\\x00\\x00\\x00\\x00\\x00\\x00\\x00\\x00\\x00\\x00\\x00\\x00\\x00\\x00\\x00\\x00\\x00\\x00\\x00\\x00\\x00\\x00\\x00\\x00\\x00\\x00\\x00\\x00\\x00\\x00\\x00\\x00\\x00\\x00\\x00\\x00\\x00\\x00\\x00\\x00\\x00\\x00\\x00\\x00\\x00\\x00\\x00\\x00\\x00\\x00\\x00\\x00\\x00\\x00\\x00\\x00\\x00\\x00\\x00\\x00\\x00\\x00\\x00\\x00\\x00\\x00\\x00\\x00\\x00\\x00\\x00\\x00\\x00\\x00\\x00\\x00\\x00\\x00\\x00\\x00\\x00\\x00\\x00\\x00\\x00\\x00\\x00\\x00\\x00\\x00\\x00\\x00\\x00\\x00\\x00\\x00\\x00\\x00\\x00\\x00\\x00\\x00\\x00\\x00\\x00\\x00\\x00\\x00\\x00\\x00\\x00\\x00\\x00\\x00\\x00\\x00\\x00\\x00\\x00\\x00\\x00\\x00\\x00\\x00\\x00\\x00\\x00\\x00\\x00\\x00\\x00\\x00\\x00\\x00\\x00\\x00\\x00\\x00\\x00\\x00\\x00\\x00\\x00\\x00\\x00\\x00\\x00\\x00\\x00\\x00\\x00\\x00\\x00\\x00\\x00\\x00\\x00\\x00\\x00\\x00\\x00\\x00\\x00\\x00\\x00\\x00\\x00\\x00\\x00\\x00\\x00\\x00\\x00\\x00\\x00\\x00\\x00\\x00\\x00\\x00\\x00\\x00\\x00\\x00\\x00\\x00\\x00\\x00\\x00\\x00\\x00\\x00\\x00\\x00\\x00\\x00\\x00\\x00\\x00\\x00\\x00\\x00\\x00\\x00\\x00\\x00\\x00\\x00\\x00\\x00\\x00\\x00\\x00\\x00\\x00\\x00\\x00\\x00\\x00\\x00\\x00\\x00\\x00\\x00\\x00\\x00\\x00\\x00\\x00\\x00\\x00\\x00\\x00\\x00\\x00\\x00\\x00\\x00\\x00\\x00\\x00\\x00\\x00\\x00\\x00\\x00\\x00\\x00',\n",
       " 'status': 1}"
      ]
     },
     "metadata": {},
     "execution_count": 43
    }
   ],
   "source": [
    "params ={\"_reserve\": {\"reserveAddress\":contracts['sample_token']['SCORE'],\"oTokenAddress\":contracts['oToken']['SCORE'],\"totalBorrows\":\"0\",\"lastUpdateTimestamp\": \"0\",\"liquidityRate\":\"0\",\"borrowRate\":\"0\",\"liquidityCumulativeIndex\":f\"1{'0'*18}\",\"borrowCumulativeIndex\":f\"1{'0'*18}\",\"baseLTVasCollateral\":\"600000000000000000\",\"liquidationThreshold\":\"650000000000000000\",\"liquidationBonus\":\"10\",\"decimals\":\"18\",\"borrowingEnabled\": \"1\",\"usageAsCollateralEnabled\":\"1\",\"isFreezed\":\"0\",\"isActive\":\"1\"} }\n",
    "call_transaction = CallTransactionBuilder()\\\n",
    "    .from_(deployer_wallet.get_address())\\\n",
    "    .to(contracts['lendingPoolCore']['SCORE']) \\\n",
    "    .nid(NID) \\\n",
    "    .nonce(100) \\\n",
    "    .method(\"addReserveData\")\\\n",
    "    .params(params)\\\n",
    "    .build()\n",
    "\n",
    "estimate_step = icon_service.estimate_step(call_transaction)\n",
    "step_limit = estimate_step + 100000\n",
    "# Returns the signed transaction object having a signature\n",
    "signed_transaction = SignedTransaction(call_transaction, deployer_wallet,step_limit)\n",
    "\n",
    "# Reads params to transfer to nodes\n",
    "# print(signed_transaction.signed_transaction_dict)\n",
    "\n",
    "# Sends the transaction\n",
    "tx_hash = icon_service.send_transaction(signed_transaction)\n",
    "\n",
    "get_tx_result(tx_hash)"
   ]
  },
  {
   "cell_type": "markdown",
   "metadata": {},
   "source": [
    "## Adding ICX reserve"
   ]
  },
  {
   "cell_type": "code",
   "execution_count": 44,
   "metadata": {
    "tags": []
   },
   "outputs": [
    {
     "output_type": "stream",
     "name": "stderr",
     "text": [
      "Raised JSONRPCException while returning the custom response. Error message: {'code': -32602, 'message': 'Pending transaction'}\n",
      "{'code': -32602, 'message': 'Pending transaction'} (Json rpc error), Retrying in 1 seconds...\n"
     ]
    },
    {
     "output_type": "execute_result",
     "data": {
      "text/plain": [
       "{'txHash': '0x0d62737848162cad4da223d5f2e4b855257ed77b0ae7d775b4bdc874d48cdbb6',\n",
       " 'blockHeight': 1132470,\n",
       " 'blockHash': '0xaadb3c095047f34daae1d0fc74307c98ec70608bd6055a30e2e6c1cd4fa9ba01',\n",
       " 'txIndex': 1,\n",
       " 'to': 'cxaa345a5dbea93b27754e44024d5ea14ccbf09c62',\n",
       " 'stepUsed': 271360,\n",
       " 'stepPrice': 10000000000,\n",
       " 'cumulativeStepUsed': 271360,\n",
       " 'eventLogs': [],\n",
       " 'logsBloom': b'\\x00\\x00\\x00\\x00\\x00\\x00\\x00\\x00\\x00\\x00\\x00\\x00\\x00\\x00\\x00\\x00\\x00\\x00\\x00\\x00\\x00\\x00\\x00\\x00\\x00\\x00\\x00\\x00\\x00\\x00\\x00\\x00\\x00\\x00\\x00\\x00\\x00\\x00\\x00\\x00\\x00\\x00\\x00\\x00\\x00\\x00\\x00\\x00\\x00\\x00\\x00\\x00\\x00\\x00\\x00\\x00\\x00\\x00\\x00\\x00\\x00\\x00\\x00\\x00\\x00\\x00\\x00\\x00\\x00\\x00\\x00\\x00\\x00\\x00\\x00\\x00\\x00\\x00\\x00\\x00\\x00\\x00\\x00\\x00\\x00\\x00\\x00\\x00\\x00\\x00\\x00\\x00\\x00\\x00\\x00\\x00\\x00\\x00\\x00\\x00\\x00\\x00\\x00\\x00\\x00\\x00\\x00\\x00\\x00\\x00\\x00\\x00\\x00\\x00\\x00\\x00\\x00\\x00\\x00\\x00\\x00\\x00\\x00\\x00\\x00\\x00\\x00\\x00\\x00\\x00\\x00\\x00\\x00\\x00\\x00\\x00\\x00\\x00\\x00\\x00\\x00\\x00\\x00\\x00\\x00\\x00\\x00\\x00\\x00\\x00\\x00\\x00\\x00\\x00\\x00\\x00\\x00\\x00\\x00\\x00\\x00\\x00\\x00\\x00\\x00\\x00\\x00\\x00\\x00\\x00\\x00\\x00\\x00\\x00\\x00\\x00\\x00\\x00\\x00\\x00\\x00\\x00\\x00\\x00\\x00\\x00\\x00\\x00\\x00\\x00\\x00\\x00\\x00\\x00\\x00\\x00\\x00\\x00\\x00\\x00\\x00\\x00\\x00\\x00\\x00\\x00\\x00\\x00\\x00\\x00\\x00\\x00\\x00\\x00\\x00\\x00\\x00\\x00\\x00\\x00\\x00\\x00\\x00\\x00\\x00\\x00\\x00\\x00\\x00\\x00\\x00\\x00\\x00\\x00\\x00\\x00\\x00\\x00\\x00\\x00\\x00\\x00\\x00\\x00\\x00\\x00\\x00\\x00\\x00\\x00\\x00\\x00\\x00\\x00\\x00\\x00',\n",
       " 'status': 1}"
      ]
     },
     "metadata": {},
     "execution_count": 44
    }
   ],
   "source": [
    "params ={\"_reserve\": {\"reserveAddress\":contracts['sicx']['SCORE'],\"oTokenAddress\":contracts['oICX']['SCORE'],\"totalBorrows\":\"0\",\"lastUpdateTimestamp\": \"0\",\"liquidityRate\":\"0\",\"borrowRate\":\"0\",\"liquidityCumulativeIndex\":f\"1{'0'*18}\",\"borrowCumulativeIndex\":f\"1{'0'*18}\",\"baseLTVasCollateral\":\"330000000000000000\",\"liquidationThreshold\":\"650000000000000000\",\"liquidationBonus\":\"10\",\"decimals\":\"18\",\"borrowingEnabled\": \"1\",\"usageAsCollateralEnabled\":\"1\",\"isFreezed\":\"0\",\"isActive\":\"1\"} }\n",
    "call_transaction = CallTransactionBuilder()\\\n",
    "    .from_(deployer_wallet.get_address())\\\n",
    "    .to(contracts['lendingPoolCore']['SCORE']) \\\n",
    "    .nid(NID) \\\n",
    "    .nonce(100) \\\n",
    "    .method(\"addReserveData\")\\\n",
    "    .params(params)\\\n",
    "    .build()\n",
    "\n",
    "estimate_step = icon_service.estimate_step(call_transaction)\n",
    "step_limit = estimate_step + 100000\n",
    "# Returns the signed transaction object having a signature\n",
    "signed_transaction = SignedTransaction(call_transaction, deployer_wallet,step_limit)\n",
    "\n",
    "# Reads params to transfer to nodes\n",
    "# print(signed_transaction.signed_transaction_dict)\n",
    "\n",
    "# Sends the transaction\n",
    "tx_hash = icon_service.send_transaction(signed_transaction)\n",
    "\n",
    "get_tx_result(tx_hash)"
   ]
  },
  {
   "cell_type": "markdown",
   "metadata": {},
   "source": [
    "# Transfering USDb to a wallet"
   ]
  },
  {
   "cell_type": "code",
   "execution_count": 45,
   "metadata": {},
   "outputs": [
    {
     "output_type": "stream",
     "name": "stderr",
     "text": [
      "Raised JSONRPCException while returning the custom response. Error message: {'code': -32602, 'message': 'Pending transaction'}\n",
      "{'code': -32602, 'message': 'Pending transaction'} (Json rpc error), Retrying in 1 seconds...\n"
     ]
    },
    {
     "output_type": "execute_result",
     "data": {
      "text/plain": [
       "{'txHash': '0x893d8e2f08a5d3c801c94d361099d8bab16c2e7e071e5c04616b7e89d466c63d',\n",
       " 'blockHeight': 1132480,\n",
       " 'blockHash': '0xd82a6eddf21d8f92c75a87fa9620193067898d121bc88ab97577ac71bce3eaa8',\n",
       " 'txIndex': 1,\n",
       " 'to': 'cx629b3f914cb8202745ff6da14d69f1aee1087cc1',\n",
       " 'stepUsed': 158920,\n",
       " 'stepPrice': 10000000000,\n",
       " 'cumulativeStepUsed': 158920,\n",
       " 'eventLogs': [{'scoreAddress': 'cx629b3f914cb8202745ff6da14d69f1aee1087cc1',\n",
       "   'indexed': ['Transfer(Address,Address,int,bytes)',\n",
       "    'hx91bf040426f226b3bfcd2f0b5967bbb0320525ce',\n",
       "    'hx91bf040426f226b3bfcd2f0b5967bbb0320525ce',\n",
       "    '0x3635c9adc5dea00000'],\n",
       "   'data': ['0x4e6f6e65']}],\n",
       " 'logsBloom': b'\\x00\\x00\\x00\\x00\\x00\\x00\\x00\\x10\\x00\\x00\\x00 \\x00\\x00\\x00\\x00\\x00\\x00\\x00\\x00\\x00\\x00\\x00\\x00\\x00\\x00\\x00\\x00\\x00\\x00\\x00\\x00\\x00\\x00\\x00\\x00\\x00\\x00\\x00\\x00\\x00\\x00\\x00\\x00\\x00\\x00\\x00\\x00\\x00\\x00\\x00\\x80\\x00\\x00\\x00\\x00\\x00\\x00\\x00\\x80\\x00\\x00\\x00\\x00\\x00\\x00\\x00\\x00\\x00\\x00\\x00\\x00\\x00\\x04\\x00\\x00\\x00\\x00\\x00\\x00\\x00\\x00\\x00\\x00\\x00\\x00\\x00\\x00\\x00\\x00\\x00\\x00\\x00\\x00\\x00\\x00\\x00\\x00\\x00\\x00\\x00\\x00\\x00\\x00\\x00\\x00\\x00\\x00\\x00\\x00@\\x00\\x00\\x00\\x00\\x00\\x00\\x00\\x00\\x00\\x00\\x00\\x00\\x00\\x00@\\x00\\x00\\x00\\x00\\x00\\x00\\x00\\x00\\x00\\x00\\x00\\x00\\x00\\x00\\x00\\x00\\x00\\x00\\x00\\x00\\x01\\x00\\x00\\x00\\x00\\x00\\x00\\x00\\x00\\x00\\x00\\x10\\x00\\x10\\x00\\x00\\x00\\x00@\\x00\\x00\\x00\\x00\\x00\\x00\\x00\\x00\\x00\\x00\\x00\\x00\\x00\\x00\\x00\\x00\\x00\\x00\\x80\\x00\\x00\\x00\\x00\\x00\\x00\\x00\\x00\\x00\\x00\\x00\\x00\\x00\\x00\\x00\\x00\\x00\\x00\\x00\\x00\\x00\\x00\\x00\\x00\\x00\\x00\\x00\\x00\\x00\\x01\\x00\\x00\\x00\\x00\\x00\\x00\\x00\\x00\\x00\\x00\\x00\\x00\\x00\\x00\\x00\\x00\\x00\\x00\\x00\\x00\\x00\\x00\\x00\\x00\\x00\\x00\\x00\\x00\\x01\\x00\\x00\\x00\\x00\\x10\\x00\\x00\\x00\\x00\\x00\\x00\\x00\\x00',\n",
       " 'status': 1}"
      ]
     },
     "metadata": {},
     "execution_count": 45
    }
   ],
   "source": [
    "params = {\"_to\": \"hx91bf040426f226b3bfcd2f0b5967bbb0320525ce\", \"_value\": 1000000000000000000000,}\n",
    "transaction = CallTransactionBuilder()\\\n",
    "    .from_(deployer_wallet.get_address())\\\n",
    "    .to(contracts['sample_token']['SCORE'])\\\n",
    "    .value(0)\\\n",
    "    .step_limit(10000000)\\\n",
    "    .nid(3)\\\n",
    "    .nonce(100)\\\n",
    "    .method(\"transfer\")\\\n",
    "    .params(params)\\\n",
    "    .build()\n",
    "signed_transaction = SignedTransaction(transaction, deployer_wallet)\n",
    "tx_hash = icon_service.send_transaction(signed_transaction)\n",
    "get_tx_result(tx_hash)"
   ]
  },
  {
   "cell_type": "markdown",
   "metadata": {},
   "source": [
    "# Depositing USDb from a wallet"
   ]
  },
  {
   "cell_type": "code",
   "execution_count": 68,
   "metadata": {
    "tags": []
   },
   "outputs": [
    {
     "output_type": "stream",
     "name": "stderr",
     "text": [
      "Raised JSONRPCException while returning the custom response. Error message: {'code': -32602, 'message': 'Pending transaction'}\n",
      "{'code': -32602, 'message': 'Pending transaction'} (Json rpc error), Retrying in 1 seconds...\n"
     ]
    },
    {
     "output_type": "execute_result",
     "data": {
      "text/plain": [
       "{'txHash': '0x731107653cf36b689816dd3305c33739fd893840f9da89c4a03cfc4e0c829a46', 'blockHeight': 9633486, 'blockHash': '0x4c23fbf9e810346acfd66ea9117049fcbdea42652289cd7f6331eb9d98395dac', 'txIndex': 2, 'to': 'cx19be1be7b4e7750863edf966faac3f42dec21025', 'stepUsed': 833680, 'stepPrice': 10000000000, 'cumulativeStepUsed': 1024680, 'eventLogs': [{'scoreAddress': 'cx327a386a9f8076045679fc132a8baa9e270ca43b', 'indexed': ['PrintData(str,int,int,int)', 'params check core line 408', '0x3635c9adc5dea00000', '0x0'], 'data': ['0x0']}, {'scoreAddress': 'cx327a386a9f8076045679fc132a8baa9e270ca43b', 'indexed': ['PrintData(str,int,int,int)', 'rate value core line 412', '0x7792aa37489b', '0xeaaa48e230926'], 'data': ['0x0']}, {'scoreAddress': 'cx327a386a9f8076045679fc132a8baa9e270ca43b', 'indexed': ['ReserveUpdated(Address,int,int,int,int)', 'cx19be1be7b4e7750863edf966faac3f42dec21025', '0x7792aa37489b', '0xeaaa48e230926'], 'data': ['0xde0b74e7acd5c12', '0xde0d3bd9dd34a0d']}, {'scoreAddress': 'cx4258464e395b3ef3b73a146947eb41393e8c5873', 'indexed': ['Mint(Address,int)', 'hx91bf040426f226b3bfcd2f0b5967bbb0320525ce'], 'data': ['0xbcff121ce3f90']}, {'scoreAddress': 'cx4258464e395b3ef3b73a146947eb41393e8c5873', 'indexed': ['Mint(Address,int)', 'hx91bf040426f226b3bfcd2f0b5967bbb0320525ce'], 'data': ['0x3635c9adc5dea00000']}, {'scoreAddress': 'cx4258464e395b3ef3b73a146947eb41393e8c5873', 'indexed': ['MintOnDeposit(Address,int,int,int)', 'hx91bf040426f226b3bfcd2f0b5967bbb0320525ce', '0x3635c9adc5dea00000', '0xbcff121ce3f90'], 'data': ['0xde0b74e7acd5c12']}, {'scoreAddress': 'cx19be1be7b4e7750863edf966faac3f42dec21025', 'indexed': ['Transfer(Address,Address,int,bytes)', 'cx35b12ca4e9c672518db3c06d92ed60d50e7d5554', 'cx327a386a9f8076045679fc132a8baa9e270ca43b', '0x3635c9adc5dea00000'], 'data': ['0x4e6f6e65']}, {'scoreAddress': 'cx35b12ca4e9c672518db3c06d92ed60d50e7d5554', 'indexed': ['Deposit(Address,Address,int,int)', 'cx19be1be7b4e7750863edf966faac3f42dec21025', 'hx91bf040426f226b3bfcd2f0b5967bbb0320525ce', '0x3635c9adc5dea00000'], 'data': ['0x5b4e972e69055']}, {'scoreAddress': 'cx19be1be7b4e7750863edf966faac3f42dec21025', 'indexed': ['Transfer(Address,Address,int,bytes)', 'hx91bf040426f226b3bfcd2f0b5967bbb0320525ce', 'cx35b12ca4e9c672518db3c06d92ed60d50e7d5554', '0x3635c9adc5dea00000'], 'data': ['0x7b226d6574686f64223a20226465706f736974222c2022706172616d73223a207b22616d6f756e74223a20313030303030303030303030303030303030303030307d7d']}], 'logsBloom': b'\\x00\\x00\\x00\\x00\\x00\\x00\\x000\\x00\\x00\\x00  \\x00\\x00@\\x00\\x00\\x00\\x00\\x00\\x00\\x00\\x00\\x00\\x00\\x00\\x04\\x00\\x00\\x00\\x00\\x00\\x00\\x00\\x00\\x02\\x00\\x12\\x00\\x00\\x00\\x08\\x00\\x00\\x00\\x00\\x00\\x00\\x00\\x01\\x80\\x00@\\x00\\x00\\x00\\x00\\x00\\x80\\x00\\x00\\x04\\x00\\x00\\x00\\x02\\x00\\x80\\x00\\x00\\x00A\\x00\\x00\\x10\\x01\\x00\\x00\\x00\\x80\\x82\\x00\\x00@\\x00\\x00\\x00\\x80\\x00\\x04\\x00\\x00\\x00\\x04@\\x80\\x80\\x00 \\x00\\x08\\x00\\x00\\x00\\x00\\x00\\x00\\x00\\x00@\\x08\\x00\\x00\\x00\\x02\\x00\\x00\\x10\\x00\\x00\\x80\\x00\\x00\\x00\\x00\\x00\\x02\\x00\\x03\\x000\\x00\\x00\\x00\\x00\\x00\\x00\\x00\\x00\\x00\\x05\\x00\\x00\\x00\\x00\\x01\\x02\\x00\\x00\\x00\\x00\\x00\\x00\\x00\\x00\\x00\\x10\\x00\\x10\\x00\\x00\\x00\\x00B \\x00\\x00@\\x00\\x01\\x00\\x00\\x00\\x00\\x00\\x00\\x00\\x00@\\x00\\x00\\x00\\x80\\x00\\x00\\x00\\x00\\x00\\x10\\x00\\x00\\x00\\x00\\x00\\x00\\x00\\x00\\x00\\x04\\x00\\x00\\x00\\x00\\x00\\x00\\x00\\x00\\x00\\x00\\x00\\x01\\x00\\x03\\x00\\x08\\x00\\x02@\\x00\\x00\\x00\\x00\\x00\\x80\\x00\\x00\\x00\\x00\\x01\\x01\\x02\\x00\\x00\\x00\\x02\\x00\\x00\\x00\\x00\\x00\\x00\\x00\\x00 \\x00\\x00\\x10\\x80\\x00\\x00\\x00\\x00\\x00\\x00\\x00', 'status': 1}"
      ]
     },
     "metadata": {},
     "execution_count": 68
    }
   ],
   "source": [
    "data = \"{\\\"method\\\": \\\"deposit\\\", \\\"params\\\": {\\\"amount\\\": 1000000000000000000000}}\".encode(\"utf-8\")\n",
    "params = {\"_to\": contracts['lendingPool']['SCORE'], \"_value\": 1000000000000000000000, \"_data\": data}\n",
    "transaction = CallTransactionBuilder()\\\n",
    "    .from_(deployer_wallet.get_address())\\\n",
    "    .to(contracts['sample_token']['SCORE'])\\\n",
    "    .value(0)\\\n",
    "    .step_limit(10000000)\\\n",
    "    .nid(3)\\\n",
    "    .nonce(100)\\\n",
    "    .method(\"transfer\")\\\n",
    "    .params(params)\\\n",
    "    .build()\n",
    "signed_transaction = SignedTransaction(transaction, deployer_wallet)\n",
    "tx_hash = icon_service.send_transaction(signed_transaction)\n",
    "get_tx_result(tx_hash)"
   ]
  },
  {
   "cell_type": "markdown",
   "metadata": {},
   "source": [
    "# Borrowing USDb"
   ]
  },
  {
   "cell_type": "code",
   "execution_count": 43,
   "metadata": {
    "tags": []
   },
   "outputs": [
    {
     "output_type": "stream",
     "name": "stderr",
     "text": "Raised JSONRPCException while returning the custom response. Error message: {'code': -32602, 'message': 'Pending transaction'}\n{'version': '0x3', 'from': 'hx91bf040426f226b3bfcd2f0b5967bbb0320525ce', 'to': 'cx288685685cf0a8b8f7653c00f6dc42c8406f0d5d', 'stepLimit': '0x14bbf8', 'timestamp': '0x5b46dd9bf37cd', 'nid': '0x3', 'nonce': '0x64', 'dataType': 'call', 'data': {'method': 'borrow', 'params': {'_reserve': 'cx1592d568457a2881e4bd36117a8295ac2a000377', '_amount': '0x8ac7230489e80000'}}, 'signature': 'Folqgh9js3lLO0q/dtvGledD0lxOz/LirI6qn2i7J4AWTIR7p2T4cxqoKL4lfDXYE9q5cEPlAjdSF6pWXzwJlgA='}\n{'code': -32602, 'message': 'Pending transaction'} (Json rpc error), Retrying in 1 seconds...\nRaised JSONRPCException while returning the custom response. Error message: {'code': -32602, 'message': 'Pending transaction'}\n{'code': -32602, 'message': 'Pending transaction'} (Json rpc error), Retrying in 2 seconds...\n"
    },
    {
     "output_type": "execute_result",
     "data": {
      "text/plain": "{'txHash': '0x8dd5715179fb035028e00749c33effa1d3efd06c4955ec71504df6cc145dd53b',\n 'blockHeight': 4799,\n 'blockHash': '0xbce5c543a5e8b5bd12ed8adf8606a2b135bbe0638fd69bfa816dcddc3651ead2',\n 'txIndex': 1,\n 'to': 'cx288685685cf0a8b8f7653c00f6dc42c8406f0d5d',\n 'stepUsed': 1258840,\n 'stepPrice': 10000000000,\n 'cumulativeStepUsed': 1258840,\n 'eventLogs': [{'scoreAddress': 'cx288685685cf0a8b8f7653c00f6dc42c8406f0d5d',\n   'indexed': ['PrintData(str,int,int,int)',\n    'available liquidity at pool line 245',\n    '0x2e141ea081ca080000',\n    '0x0'],\n   'data': ['0x0']},\n  {'scoreAddress': 'cx288685685cf0a8b8f7653c00f6dc42c8406f0d5d',\n   'indexed': ['PrintData(str,int,int,int)',\n    'data at pool line 256',\n    '0x3635dd4440d4c9f9a8',\n    '0x8274de6e63dbd6b43'],\n   'data': ['0x0']},\n  {'scoreAddress': 'cx288685685cf0a8b8f7653c00f6dc42c8406f0d5d',\n   'indexed': ['PrintData(str,int,int,int)',\n    'amout of collateral needed USD pool line 268',\n    '0x2519f35d8353d2db',\n    '0x0'],\n   'data': ['0x0']},\n  {'scoreAddress': 'cxd2efb802be81bdca98f3024a35c283046a0d9c26',\n   'indexed': ['PrintData(str,int,int,int)',\n    'params check at core line 456',\n    '0x8ac7230489e80000',\n    '0x58d15e17628000'],\n   'data': ['0x0']},\n  {'scoreAddress': 'cxd2efb802be81bdca98f3024a35c283046a0d9c26',\n   'indexed': ['PrintData(str,int,int,int)',\n    'user borrow balances',\n    '0x82738b02dc459515c',\n    '0x1536b8796419e7'],\n   'data': ['0x0']},\n  {'scoreAddress': 'cxd2efb802be81bdca98f3024a35c283046a0d9c26',\n   'indexed': ['PrintData(str,int,int,int)',\n    'initial total borrows core line 497',\n    '0x82738b02dc459515c',\n    '0x0'],\n   'data': ['0x0']},\n  {'scoreAddress': 'cxd2efb802be81bdca98f3024a35c283046a0d9c26',\n   'indexed': ['PrintData(str,int,int,int)',\n    'new total borrows core line 499',\n    '0x8b21509eac7a56b43',\n    '0x0'],\n   'data': ['0x0']},\n  {'scoreAddress': 'cxd2efb802be81bdca98f3024a35c283046a0d9c26',\n   'indexed': ['PrintData(str,int,int,int)',\n    'params check core line 508',\n    '0x8ac7230489e80000',\n    '0x1536b8796419e7'],\n   'data': ['0x58d15e17628000']},\n  {'scoreAddress': 'cxd2efb802be81bdca98f3024a35c283046a0d9c26',\n   'indexed': ['PrintData(str,int,int,int)',\n    'user data core line 514',\n    '0x82738b02dc459515c',\n    '0x0'],\n   'data': ['0xde0dbbe086e1c41']},\n  {'scoreAddress': 'cxd2efb802be81bdca98f3024a35c283046a0d9c26',\n   'indexed': ['PrintData(str,int,int,int)',\n    'params check core line 408',\n    '0x0',\n    '0x8ac7230489e80000'],\n   'data': ['0x0']},\n  {'scoreAddress': 'cxd2efb802be81bdca98f3024a35c283046a0d9c26',\n   'indexed': ['PrintData(str,int,int,int)',\n    'params check core line 593',\n    '0x2d89577d7d40200000',\n    '0x8b21509eac7a56b43'],\n   'data': ['0x0']},\n  {'scoreAddress': 'cxd2efb802be81bdca98f3024a35c283046a0d9c26',\n   'indexed': ['PrintData(str,int,int,int)',\n    'Utilization rate core line 598',\n    '0x239a54bfc429c27',\n    '0x0'],\n   'data': ['0x0']},\n  {'scoreAddress': 'cxd2efb802be81bdca98f3024a35c283046a0d9c26',\n   'indexed': ['PrintData(str,int,int,int)',\n    'rates check core line 609',\n    '0xa9b689d8d17db',\n    '0x4980e66f812c8b'],\n   'data': ['0x239a54bfc429c27']},\n  {'scoreAddress': 'cxd2efb802be81bdca98f3024a35c283046a0d9c26',\n   'indexed': ['PrintData(str,int,int,int)',\n    'rate value core line 412',\n    '0xa9b689d8d17db',\n    '0x4980e66f812c8b'],\n   'data': ['0x0']},\n  {'scoreAddress': 'cxd2efb802be81bdca98f3024a35c283046a0d9c26',\n   'indexed': ['ReserveUpdated(Address,int,int,int,int)',\n    'cx1592d568457a2881e4bd36117a8295ac2a000377',\n    '0xa9b689d8d17db',\n    '0x4980e66f812c8b'],\n   'data': ['0xde0bbb75c5f6f19', '0xde0dbbe086e1c41']},\n  {'scoreAddress': 'cx1592d568457a2881e4bd36117a8295ac2a000377',\n   'indexed': ['Transfer(Address,Address,int,bytes)',\n    'cxd2efb802be81bdca98f3024a35c283046a0d9c26',\n    'hx91bf040426f226b3bfcd2f0b5967bbb0320525ce',\n    '0x8ac7230489e80000'],\n   'data': ['0x4e6f6e65']},\n  {'scoreAddress': 'cx288685685cf0a8b8f7653c00f6dc42c8406f0d5d',\n   'indexed': ['Borrow(Address,Address,int,int,int,int,int)',\n    'cx1592d568457a2881e4bd36117a8295ac2a000377',\n    'hx91bf040426f226b3bfcd2f0b5967bbb0320525ce',\n    '0x8ac7230489e80000'],\n   'data': ['0x4980e66f812c8b',\n    '0x58d15e17628000',\n    '0x1536b8796419e7',\n    '0x5b46dd9d93d44']}],\n 'logsBloom': b'\\x00\\x00\\x00\\x00\\x01\\x00\\x080\\x00\\x08\\x00  \\x00\\x10\\x00\\x00 \\x00\\x08\\x00\\x00\\x00\\x00\\x00\\x0c\\x90 \\x00\\x11\\x00\\x00\\x00\\x00B\\x00\\x00\\x00\\x12\\x00\\x00\\x00\\x04(\\x00@\\x00\\x00\\x08\\x00\\x00\\xc0\\x08\\x00\\x00\\x00\\x80\\x00\\x01\\x00\\x08\\x00\\x10\\x00\\x02\\x10\\x03\\x00\\x00\\x00\\x00\\x12\\x01\\x00\\x00 \\x00\\x01\\x01\\x00@\\x02\\x00\\x00\\x00\\x00\\x00\\x00\\x00\\x00\\x04\\x10\\x00\\x05\\x00\\x00\\x00\"\\x00 \\x00\\x00\\x02\\x00\\x00\\x000\\x80\\x00\\x00\\x00\\x10\\x00\\x00\\x00\\x00\\x00\\x10\\x00\\x00\\x00\\x02\\x00\\x04\\x00\\x04\\x00\\x02\\x00\\x92\\x00\\x10\\x00\\x00\\x00\\x00\\x00\\x88\\x00\\x00\\x80\\x04\\x00\\x00\\x00\\x00 \\x04\\x01\\x00\\x00\\x0c \\x00\\x00\\x00\\x00\\x11\\x00\\x00\\x00\\x04\\x00\\x00\\x02\\x00\\x00\\x04\\x00\\x00\\x00\\x04\\x08\\x00@ \\x00\\x00\\x00\\x00\\x02\\x00\\x00\\x80\\x00\\x00\\x00\\x00\\x00\\x00\\x00\\x00\\x00\\x00\\x00\\x00@\\x01\\x00\\x01\\x00\\t\\x00 @\\x00\\x00\\x08\\x00\\x00\\x00\\x00\\x08C\\x04\\x00\\x02@\\x00\\x00\\x00\\x00\\x00\\x00\\x84\\x00\\x00\\x00\\x05\\x00\\x01\\x00\\x80\\x00@\\x00\\x00\\x00\\x00\\x00\\x80\\x00\\x10\\x08(\\x80 \\x00\\x00\\x00\\x00\\x02\\x00\\x00\\x00\\x06',\n 'status': 1}"
     },
     "metadata": {},
     "execution_count": 43
    }
   ],
   "source": [
    "params ={\"_reserve\": contracts['sample_token']['SCORE'], \"_amount\":10*10**18 }\n",
    "call_transaction = CallTransactionBuilder()\\\n",
    "    .from_(deployer_wallet.get_address())\\\n",
    "    .to(contracts['lendingPool']['SCORE']) \\\n",
    "    .nid(NID) \\\n",
    "    .nonce(100) \\\n",
    "    .method(\"borrow\")\\\n",
    "    .params(params)\\\n",
    "    .build()\n",
    "\n",
    "estimate_step = icon_service.estimate_step(call_transaction)\n",
    "step_limit = estimate_step + 100000\n",
    "# Returns the signed transaction object having a signature\n",
    "signed_transaction = SignedTransaction(call_transaction, deployer_wallet,step_limit)\n",
    "\n",
    "# Reads params to transfer to nodes\n",
    "print(signed_transaction.signed_transaction_dict)\n",
    "\n",
    "# Sends the transaction\n",
    "tx_hash = icon_service.send_transaction(signed_transaction)\n",
    "get_tx_result(tx_hash)"
   ]
  },
  {
   "cell_type": "markdown",
   "metadata": {},
   "source": [
    "# Reedeming/Withdrawing USDb"
   ]
  },
  {
   "cell_type": "code",
   "execution_count": null,
   "metadata": {},
   "outputs": [],
   "source": [
    "params ={\"_amount\": 10*10**18 }\n",
    "call_transaction = CallTransactionBuilder()\\\n",
    "    .from_(deployer_wallet.get_address())\\\n",
    "    .to(contracts['oToken']['SCORE']) \\\n",
    "    .nid(NID) \\\n",
    "    .nonce(100) \\\n",
    "    .method(\"redeem\")\\\n",
    "    .params(params)\\\n",
    "    .build()\n",
    "\n",
    "estimate_step = icon_service.estimate_step(call_transaction)\n",
    "step_limit = estimate_step + 100000\n",
    "# Returns the signed transaction object having a signature\n",
    "signed_transaction = SignedTransaction(call_transaction, deployer_wallet,step_limit)\n",
    "\n",
    "# Reads params to transfer to nodes\n",
    "print(signed_transaction.signed_transaction_dict)\n",
    "\n",
    "# Sends the transaction\n",
    "tx_hash = icon_service.send_transaction(signed_transaction)\n",
    "get_tx_result(tx_hash)"
   ]
  },
  {
   "cell_type": "code",
   "execution_count": 34,
   "metadata": {
    "tags": []
   },
   "outputs": [
    {
     "output_type": "stream",
     "name": "stdout",
     "text": "{'version': '0x3', 'from': 'hx91bf040426f226b3bfcd2f0b5967bbb0320525ce', 'to': 'cx327a386a9f8076045679fc132a8baa9e270ca43b', 'stepLimit': '0x3ea80', 'timestamp': '0x5b4d764400c45', 'nid': '0x3', 'nonce': '0x64', 'dataType': 'call', 'data': {'method': 'updateBaseLTVasCollateral', 'params': {'_reserveAddress': 'cx19be1be7b4e7750863edf966faac3f42dec21025', '_baseLTVasCollateral': '0x494654067e10000'}}, 'signature': 'g7dSUkTfVM+/zeivI3GhttfsbcabIPfbh6ZIJAm+ChEBJ8E8XhbxDdKzf1p2wzyG49tYwISwN7d3G6redmkj9wE='}\nRaised JSONRPCException while returning the custom response. Error message: {'code': -32602, 'message': 'Pending transaction'}\n{'code': -32602, 'message': 'Pending transaction'} (Json rpc error), Retrying in 1 seconds...\nRaised JSONRPCException while returning the custom response. Error message: {'code': -32602, 'message': 'Pending transaction'}\n{'code': -32602, 'message': 'Pending transaction'} (Json rpc error), Retrying in 2 seconds...\n"
    },
    {
     "output_type": "execute_result",
     "data": {
      "text/plain": "{'txHash': '0x84c2bc5d2ef49ac9d74f19a54f43dcd213c10e9e5772c11e2be9ff343133df9c',\n 'blockHeight': 9594840,\n 'blockHash': '0xfb4f010715f54f4a8cc051bf40065e7c388d49af1d35099007e5cc779f515f9d',\n 'txIndex': 4,\n 'to': 'cx327a386a9f8076045679fc132a8baa9e270ca43b',\n 'stepUsed': 156640,\n 'stepPrice': 10000000000,\n 'cumulativeStepUsed': 959180,\n 'eventLogs': [],\n 'logsBloom': b'\\x00\\x00\\x00\\x00\\x00\\x00\\x00\\x00\\x00\\x00\\x00\\x00\\x00\\x00\\x00\\x00\\x00\\x00\\x00\\x00\\x00\\x00\\x00\\x00\\x00\\x00\\x00\\x00\\x00\\x00\\x00\\x00\\x00\\x00\\x00\\x00\\x00\\x00\\x00\\x00\\x00\\x00\\x00\\x00\\x00\\x00\\x00\\x00\\x00\\x00\\x00\\x00\\x00\\x00\\x00\\x00\\x00\\x00\\x00\\x00\\x00\\x00\\x00\\x00\\x00\\x00\\x00\\x00\\x00\\x00\\x00\\x00\\x00\\x00\\x00\\x00\\x00\\x00\\x00\\x00\\x00\\x00\\x00\\x00\\x00\\x00\\x00\\x00\\x00\\x00\\x00\\x00\\x00\\x00\\x00\\x00\\x00\\x00\\x00\\x00\\x00\\x00\\x00\\x00\\x00\\x00\\x00\\x00\\x00\\x00\\x00\\x00\\x00\\x00\\x00\\x00\\x00\\x00\\x00\\x00\\x00\\x00\\x00\\x00\\x00\\x00\\x00\\x00\\x00\\x00\\x00\\x00\\x00\\x00\\x00\\x00\\x00\\x00\\x00\\x00\\x00\\x00\\x00\\x00\\x00\\x00\\x00\\x00\\x00\\x00\\x00\\x00\\x00\\x00\\x00\\x00\\x00\\x00\\x00\\x00\\x00\\x00\\x00\\x00\\x00\\x00\\x00\\x00\\x00\\x00\\x00\\x00\\x00\\x00\\x00\\x00\\x00\\x00\\x00\\x00\\x00\\x00\\x00\\x00\\x00\\x00\\x00\\x00\\x00\\x00\\x00\\x00\\x00\\x00\\x00\\x00\\x00\\x00\\x00\\x00\\x00\\x00\\x00\\x00\\x00\\x00\\x00\\x00\\x00\\x00\\x00\\x00\\x00\\x00\\x00\\x00\\x00\\x00\\x00\\x00\\x00\\x00\\x00\\x00\\x00\\x00\\x00\\x00\\x00\\x00\\x00\\x00\\x00\\x00\\x00\\x00\\x00\\x00\\x00\\x00\\x00\\x00\\x00\\x00\\x00\\x00\\x00\\x00\\x00\\x00\\x00\\x00\\x00\\x00\\x00\\x00',\n 'status': 1}"
     },
     "metadata": {},
     "execution_count": 34
    }
   ],
   "source": [
    "params ={\"_reserveAddress\": contracts['sample_token']['SCORE'],\"_baseLTVasCollateral\" :33*10**16}\n",
    "call_transaction = CallTransactionBuilder()\\\n",
    "    .from_(deployer_wallet.get_address())\\\n",
    "    .to(contracts['lendingPoolCore']['SCORE']) \\\n",
    "    .nid(NID) \\\n",
    "    .nonce(100) \\\n",
    "    .method(\"updateBaseLTVasCollateral\")\\\n",
    "    .params(params)\\\n",
    "    .build()\n",
    "\n",
    "estimate_step = icon_service.estimate_step(call_transaction)\n",
    "step_limit = estimate_step + 100000\n",
    "# Returns the signed transaction object having a signature\n",
    "signed_transaction = SignedTransaction(call_transaction, deployer_wallet,step_limit)\n",
    "\n",
    "# Reads params to transfer to nodes\n",
    "print(signed_transaction.signed_transaction_dict)\n",
    "\n",
    "# Sends the transaction\n",
    "tx_hash = icon_service.send_transaction(signed_transaction)\n",
    "get_tx_result(tx_hash)"
   ]
  },
  {
   "cell_type": "markdown",
   "metadata": {},
   "source": [
    "# Repaying USDb"
   ]
  },
  {
   "cell_type": "code",
   "execution_count": 38,
   "metadata": {
    "tags": []
   },
   "outputs": [
    {
     "output_type": "stream",
     "name": "stderr",
     "text": "Raised JSONRPCException while returning the custom response. Error message: {'code': -32602, 'message': 'Pending transaction'}\n{'code': -32602, 'message': 'Pending transaction'} (Json rpc error), Retrying in 1 seconds...\nRaised JSONRPCException while returning the custom response. Error message: {'code': -32602, 'message': 'Pending transaction'}\n{'code': -32602, 'message': 'Pending transaction'} (Json rpc error), Retrying in 2 seconds...\n"
    },
    {
     "output_type": "execute_result",
     "data": {
      "text/plain": "{'txHash': '0xa00f366c3e3bc59fa930e6c4134a4de0ab0437250175baf3a3342ac194d7049a',\n 'blockHeight': 2668,\n 'blockHash': '0x51bc669d21d2e946367aea11c77091441d579d42044fe1abaf3842a27ded2a41',\n 'txIndex': 1,\n 'to': 'cx1592d568457a2881e4bd36117a8295ac2a000377',\n 'stepUsed': 951460,\n 'stepPrice': 10000000000,\n 'cumulativeStepUsed': 951460,\n 'eventLogs': [{'scoreAddress': 'cxd2efb802be81bdca98f3024a35c283046a0d9c26',\n   'indexed': ['PrintData(str,int,int,int)',\n    'params check core line 408',\n    '0x853a0d2313c00000',\n    '0x0'],\n   'data': ['0x0']},\n  {'scoreAddress': 'cxd2efb802be81bdca98f3024a35c283046a0d9c26',\n   'indexed': ['PrintData(str,int,int,int)',\n    'params check core line 593',\n    '0x2e0e918aa053e00000',\n    '0x82738b02dc459515c'],\n   'data': ['0x0']},\n  {'scoreAddress': 'cxd2efb802be81bdca98f3024a35c283046a0d9c26',\n   'indexed': ['PrintData(str,int,int,int)',\n    'Utilization rate core line 598',\n    '0x216541f7accc0ec',\n    '0x0'],\n   'data': ['0x0']},\n  {'scoreAddress': 'cxd2efb802be81bdca98f3024a35c283046a0d9c26',\n   'indexed': ['PrintData(str,int,int,int)',\n    'rates check core line 609',\n    '0x9a1785fa88c7b',\n    '0x472627bc350cdd'],\n   'data': ['0x216541f7accc0ec']},\n  {'scoreAddress': 'cxd2efb802be81bdca98f3024a35c283046a0d9c26',\n   'indexed': ['PrintData(str,int,int,int)',\n    'rate value core line 412',\n    '0x9a1785fa88c7b',\n    '0x472627bc350cdd'],\n   'data': ['0x0']},\n  {'scoreAddress': 'cxd2efb802be81bdca98f3024a35c283046a0d9c26',\n   'indexed': ['ReserveUpdated(Address,int,int,int,int)',\n    'cx1592d568457a2881e4bd36117a8295ac2a000377',\n    '0x9a1785fa88c7b',\n    '0x472627bc350cdd'],\n   'data': ['0xde0b6d425cd010b', '0xde0b7a240d44b93']},\n  {'scoreAddress': 'cx1592d568457a2881e4bd36117a8295ac2a000377',\n   'indexed': ['Transfer(Address,Address,int,bytes)',\n    'cx288685685cf0a8b8f7653c00f6dc42c8406f0d5d',\n    'cxd2efb802be81bdca98f3024a35c283046a0d9c26',\n    '0x8ac7230489e80000'],\n   'data': ['0x4e6f6e65']},\n  {'scoreAddress': 'cx288685685cf0a8b8f7653c00f6dc42c8406f0d5d',\n   'indexed': ['Repay(Address,Address,int,int,int,int)',\n    'cx1592d568457a2881e4bd36117a8295ac2a000377',\n    'hx91bf040426f226b3bfcd2f0b5967bbb0320525ce',\n    '0x853a0d2313c00000'],\n   'data': ['0x58d15e176280000', '0x13a51de37ffa', '0x5b45f4b7ecb2f']},\n  {'scoreAddress': 'cx1592d568457a2881e4bd36117a8295ac2a000377',\n   'indexed': ['Transfer(Address,Address,int,bytes)',\n    'hx91bf040426f226b3bfcd2f0b5967bbb0320525ce',\n    'cx288685685cf0a8b8f7653c00f6dc42c8406f0d5d',\n    '0x8ac7230489e80000'],\n   'data': ['0x7b226d6574686f64223a20227265706179222c2022706172616d73223a207b22616d6f756e74223a2031303030303030303030303030303030303030307d7d']}],\n 'logsBloom': b'\\x00\\x00\\x00\\x00\\x00\\x00\\x000@\\x08\\x00  \\x00\\x00\\x01\\x00\\x00\\x00\\x88\\x00\\x00\\x00\\x00\\x04\\x08\\x01 \\x00\\x01\\x00\\x04\\x00\\x82B\\x00\\x00\\x00\\x12\\x00\\x00@\\x00\\x00\\x00\\x00\\x00\\x00\\x00\\x00\\x00\\x80\\x00\\x00\\x00\\x00\\x80\\x00\\x00\\x80\\x00\\x00\\x00\\x00\\x00\\x00\\x12\\x01\\x00\\x10\\x00\\x10\\x01\\x00\\x00\\x00\\x00\\x00\\x01\\x00@\\x02\\x00 \\x00\\x00\\x00\\x00\\x00\\x00\\x00\\x10\\x80\\x00\\x00\\x00\\x10\\x00\\x00 \\x00\\x08\\x00\\x00\\x08\\x00\\x10\\x81\\x00\\x00H\\x10\\x00\\x00\\x00\\x00\\x00\\x00\\x02\\x00\\x00\\x00\\x00\\x00\\x00\\x04\\x00\\x02\\x00\\x02\\x00\\x10\\x00\\x00\\x00\\x80\\x00\\x08\\x00\\x00\\x00\\x04\\x00\\x00\\x00\\x00!\\x00\\x00\\x80\\x00\\x00\\x00\\x00\\x00\\x00\\x00P\\x00\\x00\\x00\\x00\\x00\\x00\\x02\\x00\\x00\\x04\\x00\\x00\\x00\\x04\\x08\\x00\\x00\\x00\\x00\\x00\\x00\\x00\\x00\\x00\\x00\\x80\\x00 \\x00\\x00\\x00\\x00\\x00\\x00\\x00\\x00\\x00\\x00\\x00\\x00\\x00\\x00\\x00\\x00\\x00\\x02\\x00\\x00\\x00\\x08@\\x00\\x00\\x00\\x00\\x03\\x00\\x00\\x00\\x00\\x00\\x00\\x00\\x00\\x02\\x00\\x80\\x00\\x00\\x00\\x08\\x00\\x01\\x00\\x00\\x00\\x02\\x00\\x00@\\x00\\x00\\x80\\x00\\x00\\x00 \\x00\\x10\\x00\\x00\\x00\\x00\\x02\\x00\\x00\\x00\\x00',\n 'status': 1}"
     },
     "metadata": {},
     "execution_count": 38
    }
   ],
   "source": [
    "data = \"{\\\"method\\\": \\\"repay\\\", \\\"params\\\": {\\\"amount\\\": 10000000000000000000}}\".encode(\"utf-8\")\n",
    "params = {\"_to\": contracts['lendingPool']['SCORE'], \"_value\": 10000000000000000000, \"_data\": data}\n",
    "transaction = CallTransactionBuilder()\\\n",
    "    .from_(deployer_wallet.get_address())\\\n",
    "    .to(contracts['sample_token']['SCORE'])\\\n",
    "    .value(0)\\\n",
    "    .step_limit(10000000)\\\n",
    "    .nid(3)\\\n",
    "    .nonce(100)\\\n",
    "    .method(\"transfer\")\\\n",
    "    .params(params)\\\n",
    "    .build()\n",
    "signed_transaction = SignedTransaction(transaction, deployer_wallet)\n",
    "tx_hash = icon_service.send_transaction(signed_transaction)\n",
    "get_tx_result(tx_hash)"
   ]
  },
  {
   "cell_type": "code",
   "execution_count": 23,
   "metadata": {},
   "outputs": [
    {
     "output_type": "stream",
     "name": "stdout",
     "text": [
      "9450000385630198414715\n"
     ]
    }
   ],
   "source": [
    "print(icon_service.get_balance(\"hx91bf040426f226b3bfcd2f0b5967bbb0320525ce\"))"
   ]
  },
  {
   "source": [
    "# Depositing ICX from Wallet"
   ],
   "cell_type": "markdown",
   "metadata": {}
  },
  {
   "cell_type": "code",
   "execution_count": 14,
   "metadata": {},
   "outputs": [
    {
     "output_type": "execute_result",
     "data": {
      "text/plain": [
       "{'txHash': '0x6898fffb800cbbfb62fa614e96771389a74e8127ef2fe46baf8d2a419d979472',\n",
       " 'blockHeight': 9634462,\n",
       " 'blockHash': '0x8f9d7cc0a52b0ac173af79dff48a43e2690e37d814b470f5ca250f89ee1f72e5',\n",
       " 'txIndex': 1,\n",
       " 'to': 'cx35b12ca4e9c672518db3c06d92ed60d50e7d5554',\n",
       " 'stepUsed': 633520,\n",
       " 'stepPrice': 10000000000,\n",
       " 'cumulativeStepUsed': 633520,\n",
       " 'eventLogs': [{'scoreAddress': 'cx35b12ca4e9c672518db3c06d92ed60d50e7d5554',\n",
       "   'indexed': ['ICXTransfer(Address,Address,int)',\n",
       "    'cx35b12ca4e9c672518db3c06d92ed60d50e7d5554',\n",
       "    'cx3e9d38175d112cd5cf05a90080cce779f202ba27',\n",
       "    '0x1b1ae4d6e2ef500000'],\n",
       "   'data': []},\n",
       "  {'scoreAddress': 'cx3e9d38175d112cd5cf05a90080cce779f202ba27',\n",
       "   'indexed': ['Mint(Address,int)',\n",
       "    'cx35b12ca4e9c672518db3c06d92ed60d50e7d5554',\n",
       "    '0x1b1ae4d6e2ef500000'],\n",
       "   'data': []},\n",
       "  {'scoreAddress': 'cx327a386a9f8076045679fc132a8baa9e270ca43b',\n",
       "   'indexed': ['PrintData(str,int,int,int)',\n",
       "    'params check core line 408',\n",
       "    '0x1b1ae4d6e2ef500000',\n",
       "    '0x0'],\n",
       "   'data': ['0x0']},\n",
       "  {'scoreAddress': 'cx327a386a9f8076045679fc132a8baa9e270ca43b',\n",
       "   'indexed': ['PrintData(str,int,int,int)',\n",
       "    'rate value core line 412',\n",
       "    '0x0',\n",
       "    '0x0'],\n",
       "   'data': ['0x0']},\n",
       "  {'scoreAddress': 'cx327a386a9f8076045679fc132a8baa9e270ca43b',\n",
       "   'indexed': ['ReserveUpdated(Address,int,int,int,int)',\n",
       "    'cx3e9d38175d112cd5cf05a90080cce779f202ba27',\n",
       "    '0x0',\n",
       "    '0x0'],\n",
       "   'data': ['0xde0b6b3a7640000', '0xde0b6b3a7640000']},\n",
       "  {'scoreAddress': 'cxf6e3d64db674c0edbf732462e80e2e3352280548',\n",
       "   'indexed': ['Mint(Address,int)',\n",
       "    'hx91bf040426f226b3bfcd2f0b5967bbb0320525ce'],\n",
       "   'data': ['0x0']},\n",
       "  {'scoreAddress': 'cxf6e3d64db674c0edbf732462e80e2e3352280548',\n",
       "   'indexed': ['Mint(Address,int)',\n",
       "    'hx91bf040426f226b3bfcd2f0b5967bbb0320525ce'],\n",
       "   'data': ['0x1b1ae4d6e2ef500000']},\n",
       "  {'scoreAddress': 'cxf6e3d64db674c0edbf732462e80e2e3352280548',\n",
       "   'indexed': ['MintOnDeposit(Address,int,int,int)',\n",
       "    'hx91bf040426f226b3bfcd2f0b5967bbb0320525ce',\n",
       "    '0x1b1ae4d6e2ef500000',\n",
       "    '0x0'],\n",
       "   'data': ['0xde0b6b3a7640000']},\n",
       "  {'scoreAddress': 'cx3e9d38175d112cd5cf05a90080cce779f202ba27',\n",
       "   'indexed': ['Transfer(Address,Address,int,bytes)',\n",
       "    'cx35b12ca4e9c672518db3c06d92ed60d50e7d5554',\n",
       "    'cx327a386a9f8076045679fc132a8baa9e270ca43b',\n",
       "    '0x1b1ae4d6e2ef500000'],\n",
       "   'data': ['0x4e6f6e65']},\n",
       "  {'scoreAddress': 'cx35b12ca4e9c672518db3c06d92ed60d50e7d5554',\n",
       "   'indexed': ['Deposit(Address,Address,int,int)',\n",
       "    'cx3e9d38175d112cd5cf05a90080cce779f202ba27',\n",
       "    'hx91bf040426f226b3bfcd2f0b5967bbb0320525ce',\n",
       "    '0x1b1ae4d6e2ef500000'],\n",
       "   'data': ['0x5b4e9e7a80883']}],\n",
       " 'logsBloom': b'\\x00\\x00\\x00\\x00\\x00\\x00\\x000\\x00\\x00\\x00! \\x00\\x00\\x02\\x00\\x00\\x00\\x10\\x00\\x00\\x00\\x00\\x00\\x00\\x00\\x00\\x00\\x00\\x00\\x00\\x00\\x00\\x00\\x00\\x02\\x00\\x12\\x00\\x00\\x00B\\x00\\x00\\x00\\x00\\x00\\x00\\x00\\x01\\x80\\x80\\x00\\x00\\x00\\x00\\x00\\x08\\x80\\x00\\x00\\x00\\x00\\x00\\x00\\x02\\x00\\x00\\x00\\x00\\x00A\\x00\\x00\\x10\\x01\\x01\\x00\\x00\\x00\\x02\\x00\\x00\\x00\\x00\\x00\\x00\\x80\\x00\\x00\\x00\\x00\\x00\\x04\\x00\\x80\\xa0\\x00 \\x00\\x00\\x00\\x00\\x00\\x01\\x00\\x10\\x00\\x00@\\x00\\x00\\x00\\x00\\x02\\x00\\x00\\x00\\x00\\x00\\x00\\x00\\x00\\x00\\x00\\x00\\x00\\x00\\x02\\x000\\x00\\x00\\x00\\x00\\x00\\x00\\x00\\x00\\x00\\x04\\x08\\x00\\x00\\x00\\x01\\x02\\x00\\x00\\x00\\x00 \\x00\\x00 \\x00\\x10\\x00\\x00\\x00\\x00\\x00\\x00\\x02\\x00\\x00\\x00\\x00\\x00\\x00\\x00\\x00\\x00\\x00\\x00\\x00\\x00\\x00@\\x00\\x00\\x00\\x80\\x00\\x00\\x00\\x00\\x00\\x00\\x00\\x00\\x00\\x00\\x00\\x02\\x00\\x12\\x00\\x00\\x00\\x00\\x00\\x00\\x00\\x00\\x00 \\x00\\x00\\x00\\x01\\x00\\x03\\x00\\x08\\x00\\x02\\xc0\\x00\\x00\\x00\\x00\\x00\\x80\\x00\\x00\\x00\\x00\\x00\\x01\\x02\\x00\\x00\\x00\\x02\\x00\\x00\\x00\\x00\\x00\\x00\\x00\\x00`\\x00\\x00\\x00\\x80\\x10\\x01\\x00\\x00\\x00\\x00\\x00',\n",
       " 'status': 1}"
      ]
     },
     "metadata": {},
     "execution_count": 14
    }
   ],
   "source": [
    "params = {\"_amount\": 500 * 10 ** 18}\n",
    "call_transaction = CallTransactionBuilder() \\\n",
    "    .from_(deployer_wallet.get_address()) \\\n",
    "    .to(contracts['lendingPool']['SCORE']) \\\n",
    "    .nid(3) \\\n",
    "    .step_limit(1000000000) \\\n",
    "    .nonce(100) \\\n",
    "    .value(500 * 10 ** 18) \\\n",
    "    .method(\"deposit\") \\\n",
    "    .params(params) \\\n",
    "    .build() \n",
    "\n",
    "signed_transaction = SignedTransaction(call_transaction, deployer_wallet)\n",
    "tx_hash = icon_service.send_transaction(signed_transaction)\n",
    "get_tx_result(tx_hash)\n"
   ]
  },
  {
   "source": [
    "# Withdrawing ICX "
   ],
   "cell_type": "markdown",
   "metadata": {}
  },
  {
   "cell_type": "code",
   "execution_count": 21,
   "metadata": {},
   "outputs": [
    {
     "output_type": "stream",
     "name": "stderr",
     "text": [
      "Raised JSONRPCException while returning the custom response. Error message: {'code': -32602, 'message': 'Pending transaction'}\n",
      "{'code': -32602, 'message': 'Pending transaction'} (Json rpc error), Retrying in 1 seconds...\n",
      "Raised JSONRPCException while returning the custom response. Error message: {'code': -32602, 'message': 'Pending transaction'}\n",
      "{'code': -32602, 'message': 'Pending transaction'} (Json rpc error), Retrying in 2 seconds...\n"
     ]
    },
    {
     "output_type": "execute_result",
     "data": {
      "text/plain": [
       "{'txHash': '0x666b160e4f3cb5584a71b4d898864fa186c769a1e066d92bf71f9b24eb5566f3',\n",
       " 'blockHeight': 9634974,\n",
       " 'blockHash': '0x06d366c10c708bfc4f3d5bc8697b8fd862368d8e410c6d11835c8c17776ca064',\n",
       " 'txIndex': 1,\n",
       " 'to': 'cxf6e3d64db674c0edbf732462e80e2e3352280548',\n",
       " 'stepUsed': 1322300,\n",
       " 'stepPrice': 10000000000,\n",
       " 'cumulativeStepUsed': 1322300,\n",
       " 'eventLogs': [{'scoreAddress': 'cxf6e3d64db674c0edbf732462e80e2e3352280548',\n",
       "   'indexed': ['Mint(Address,int)',\n",
       "    'hx91bf040426f226b3bfcd2f0b5967bbb0320525ce'],\n",
       "   'data': ['0x0']},\n",
       "  {'scoreAddress': 'cxf6e3d64db674c0edbf732462e80e2e3352280548',\n",
       "   'indexed': ['Burn(Address,int)',\n",
       "    'hx91bf040426f226b3bfcd2f0b5967bbb0320525ce'],\n",
       "   'data': ['0xd8d726b7177a80000']},\n",
       "  {'scoreAddress': 'cx327a386a9f8076045679fc132a8baa9e270ca43b',\n",
       "   'indexed': ['PrintData(str,int,int,int)',\n",
       "    'params check core line 408',\n",
       "    '0x0',\n",
       "    '0xd8d726b7177a80000'],\n",
       "   'data': ['0x0']},\n",
       "  {'scoreAddress': 'cx327a386a9f8076045679fc132a8baa9e270ca43b',\n",
       "   'indexed': ['PrintData(str,int,int,int)',\n",
       "    'rate value core line 412',\n",
       "    '0x0',\n",
       "    '0x0'],\n",
       "   'data': ['0x0']},\n",
       "  {'scoreAddress': 'cx327a386a9f8076045679fc132a8baa9e270ca43b',\n",
       "   'indexed': ['ReserveUpdated(Address,int,int,int,int)',\n",
       "    'cx3e9d38175d112cd5cf05a90080cce779f202ba27',\n",
       "    '0x0',\n",
       "    '0x0'],\n",
       "   'data': ['0xde0b6b3a7640000', '0xde0b6b3a7640000']},\n",
       "  {'scoreAddress': 'cx3e9d38175d112cd5cf05a90080cce779f202ba27',\n",
       "   'indexed': ['Transfer(Address,Address,int,bytes)',\n",
       "    'cx327a386a9f8076045679fc132a8baa9e270ca43b',\n",
       "    'hx91bf040426f226b3bfcd2f0b5967bbb0320525ce',\n",
       "    '0xd8d726b7177a80000'],\n",
       "   'data': ['0x4e6f6e65']},\n",
       "  {'scoreAddress': 'cx35b12ca4e9c672518db3c06d92ed60d50e7d5554',\n",
       "   'indexed': ['RedeemUnderlying(Address,Address,int,int)',\n",
       "    'cx3e9d38175d112cd5cf05a90080cce779f202ba27',\n",
       "    'hx91bf040426f226b3bfcd2f0b5967bbb0320525ce',\n",
       "    '0xd8d726b7177a80000'],\n",
       "   'data': ['0x5b4ea24ec7bb9']},\n",
       "  {'scoreAddress': 'cxf6e3d64db674c0edbf732462e80e2e3352280548',\n",
       "   'indexed': ['Redeem(Address,int,int,int)',\n",
       "    'hx91bf040426f226b3bfcd2f0b5967bbb0320525ce',\n",
       "    '0xd8d726b7177a80000',\n",
       "    '0x0'],\n",
       "   'data': ['0xde0b6b3a7640000']}],\n",
       " 'logsBloom': b'\\x00\\x00\\x00\\x08\\x00\\x10\\x000\\x00\\x10\\x00  \\x00\\x00\\x02@\\x00\\x00\\x00\\x00\\x00\\x00\\x00\\x00\\x00\\x00\\x08\\x00\\x00\\x00\\x00\\x00\\x00\\x00\\x00\\x00\\x00\\x12\\x00\\x00\\x00\\x02\\x00\\x00\\x00\\x00\\x00\\x00\\x00\\x00\\x80\\x80\\x00\\x00\\x00\\x00\\x00\\x00\\x80\\x00\\x00\\x00\\x00\\x00\\x00\\x02\\x00\\x00\\x00\\x00\\x00A\\x00\\x00\\x10\\x00\\x01\\x00\\x04\\x00\\x02\\x00\\x00\\x00\\x00\\x00\\x00\\x80\\x08\\x00\\x00\\x04\\x00\\x04\\x00\\x00 \\x00 \\x00\\x00\\x00\\x00\\x00\\x00\\x00\\x10\\x00\\x00@\\x00\\x00\\x00\\x00\\x00\\x00\\x00\\x00\\x00\\x00\\x00\\x80\\x00\\x00\\x00\\x00\\x00\\x00\\x02\\x00\\x10\\x00\\x00\\x00\\x00\\x00\\x00\\x00\\x00\\x00\\x04\\x08\\x01\\x00\\x00\\x01\\x02\\x10\\x00\\x01\\x00 \\x00\\x00\\x00\\x00\\x10\\x00\\x00\\x00\\x00\\x00\\x00\\x02\\x00\\x00\\x00\\x00\\x00\\x00\\x04\\x00\\x00\\x00\\x00\\x00\\x00@\\x00\\x00\\x00\\x00\\x80\\x00\\x00\\x00\\x00\\x00\\x00\\x00\\x00\\x00\\x00\\x00\\x00\\x00\\x00\\x00\\x00\\x00\\x00\\x00\\x00\\x00\\x00\\x00 \\x00\\x01\\x00\\x00\\x00\\x03\\x00\\x08\\x00\\x02\\xc0\\x00\\x00\\x00\\x00\\x00\\x80\\x00\\x00\\x00\\x00\\x00\\x11\\x00\\x00\\x00\\x00\\x00\\x00\\x00\\x00\\x00\\x00\\x04\\x00\\x00 \\x00\\x00\\x02\\x00\\x00\\x01\\x00\\x00\\x00\\x00\\x00',\n",
       " 'status': 1}"
      ]
     },
     "metadata": {},
     "execution_count": 21
    }
   ],
   "source": [
    "params = {\"_amount\": 250 * 10 ** 18}\n",
    "call_transaction = CallTransactionBuilder() \\\n",
    "    .from_(deployer_wallet.get_address())\\\n",
    "    .to(contracts['oICX']['SCORE'])\\\n",
    "    .nid(3) \\\n",
    "    .step_limit(10000000) \\\n",
    "    .nonce(100) \\\n",
    "    .method(\"redeem\") \\\n",
    "    .params(params) \\\n",
    "    .build()\n",
    "signed_transaction = SignedTransaction(call_transaction, deployer_wallet)\n",
    "tx_hash = icon_service.send_transaction(signed_transaction)\n",
    "get_tx_result(tx_hash)\n",
    "        "
   ]
  },
  {
   "cell_type": "markdown",
   "metadata": {},
   "source": [
    "# Readonly methods to get data"
   ]
  },
  {
   "cell_type": "markdown",
   "metadata": {},
   "source": [
    "### Getting all the addresses"
   ]
  },
  {
   "cell_type": "code",
   "execution_count": 37,
   "metadata": {
    "tags": []
   },
   "outputs": [
    {
     "output_type": "stream",
     "name": "stdout",
     "text": [
      "{'collateral': {'USDb': 'cx134a1a0309aaf88a00ad1fee4983b7ed43454ab6',\n                'sICX': 'cx735ee7e87d30d76a83b27c7bc62a84b5beafa34b'},\n 'oTokens': {'oICX': 'cx6dbb85df52d7b12d2c00d673d89c5bf21ee29be2',\n             'oUSDb': 'cx2f4c43ec2c69321573e93549d89462de4a25fdbe'},\n 'systemContract': {'LendingPool': 'cxbfd0ecb9892ca2e1ae3d0494d48f6618620b7e48',\n                    'LendingPoolDataProvider': 'cx726e8bacc442256099dda50438c11d004215afc5'}}\n"
     ]
    }
   ],
   "source": [
    "_call = CallBuilder()\\\n",
    "    .from_(deployer_wallet.get_address())\\\n",
    "    .to(contracts['addressProvider']['SCORE'])\\\n",
    "    .method(\"getAllAddresses\")\\\n",
    "    .build()\n",
    "response = icon_service.call(_call)\n",
    "pprint(response)"
   ]
  },
  {
   "cell_type": "markdown",
   "metadata": {},
   "source": [
    "### Getting specific reserve data"
   ]
  },
  {
   "cell_type": "code",
   "execution_count": 38,
   "metadata": {
    "tags": []
   },
   "outputs": [
    {
     "output_type": "stream",
     "name": "stdout",
     "text": [
      "{'availableLiquidity': '0x0',\n 'baseLTVasCollateral': 0.33,\n 'borrowCumulativeIndex': 1.0,\n 'borrowRate': '0x0',\n 'borrowingEnabled': '0x1',\n 'decimals': 1.8e-17,\n 'isActive': '0x1',\n 'isFreezed': '0x0',\n 'lastUpdateTimestamp': '0x0',\n 'liquidationBonus': 1e-17,\n 'liquidationThreshold': 0.65,\n 'liquidityCumulativeIndex': 1.0,\n 'liquidityRate': '0x0',\n 'oTokenAddress': 'cx6dbb85df52d7b12d2c00d673d89c5bf21ee29be2',\n 'reserveAddress': 'cx735ee7e87d30d76a83b27c7bc62a84b5beafa34b',\n 'totalBorrows': '0x0',\n 'totalLiquidity': '0x0',\n 'usageAsCollateralEnabled': '0x1'}\n"
     ]
    }
   ],
   "source": [
    "#this returns the reserve data of USDb\n",
    "params = {'_reserve': contracts['sicx']['SCORE']}\n",
    "_call = CallBuilder()\\\n",
    "    .from_(deployer_wallet.get_address())\\\n",
    "    .to(contracts['lendingPoolDataProvider']['SCORE'])\\\n",
    "    .method(\"getReserveData\")\\\n",
    "    .params(params)\\\n",
    "    .build()\n",
    "response = icon_service.call(_call)\n",
    "for key,values in response.items():\n",
    "    if values==\"0x1\" or values ==\"0x0\" or \"Address\" in key:\n",
    "        continue\n",
    "    if key!=\"lastUpdateTimestamp\":\n",
    "        response[key]=int(values,0)/10**18\n",
    "    else:\n",
    "        response[key]=int(values,0)\n",
    "\n",
    "pprint(response)"
   ]
  },
  {
   "cell_type": "markdown",
   "metadata": {},
   "source": [
    "# Reserve Account Data"
   ]
  },
  {
   "cell_type": "code",
   "execution_count": 39,
   "metadata": {
    "tags": []
   },
   "outputs": [
    {
     "output_type": "stream",
     "name": "stdout",
     "text": [
      "{'availableLiquidityBalanceUSD': 298500.0,\n 'totalBorrowsBalanceUSD': 501500.1141552619,\n 'totalCollateralBalanceUSD': 800000.1141552619,\n 'totalLiquidityBalanceUSD': 800000.1141552619}\n"
     ]
    }
   ],
   "source": [
    "#this returns the reserve data of USDb\n",
    "\n",
    "_call = CallBuilder()\\\n",
    "    .from_(deployer_wallet.get_address())\\\n",
    "    .to(contracts['lendingPoolDataProvider']['SCORE'])\\\n",
    "    .method(\"getReserveAccountData\")\\\n",
    "    .build()\n",
    "response = icon_service.call(_call)\n",
    "# print(response)\n",
    "for key,values in response.items():\n",
    "    response[key]=int(values,0)/10**18\n",
    "        \n",
    "\n",
    "pprint(response)"
   ]
  },
  {
   "cell_type": "markdown",
   "metadata": {},
   "source": [
    "### Getting data of all reserves"
   ]
  },
  {
   "cell_type": "code",
   "execution_count": 43,
   "metadata": {
    "tags": []
   },
   "outputs": [
    {
     "output_type": "stream",
     "name": "stdout",
     "text": [
      "{'USDb': {'availableLiquidity': 298500.0,\n          'baseLTVasCollateral': 0.6,\n          'borrowCumulativeIndex': 1.0000011584585715,\n          'borrowRate': 0.08359381655340004,\n          'borrowingEnabled': '0x1',\n          'decimals': 1.8e-17,\n          'isActive': '0x1',\n          'isFreezed': '0x0',\n          'lastUpdateTimestamp': 1606110048844793,\n          'liquidationBonus': 1e-17,\n          'liquidationThreshold': 0.65,\n          'liquidityCumulativeIndex': 1.0000005791745306,\n          'liquidityRate': 0.04716259038240734,\n          'oTokenAddress': 'cx2f4c43ec2c69321573e93549d89462de4a25fdbe',\n          'reserveAddress': 'cx134a1a0309aaf88a00ad1fee4983b7ed43454ab6',\n          'totalBorrows': 501500.1141552619,\n          'totalLiquidity': 800000.1141552619,\n          'usageAsCollateralEnabled': '0x1'},\n 'sICX': {'availableLiquidity': '0x0',\n          'baseLTVasCollateral': 0.33,\n          'borrowCumulativeIndex': 1.0,\n          'borrowRate': '0x0',\n          'borrowingEnabled': '0x1',\n          'decimals': 1.8e-17,\n          'isActive': '0x1',\n          'isFreezed': '0x0',\n          'lastUpdateTimestamp': '0x0',\n          'liquidationBonus': 1e-17,\n          'liquidationThreshold': 0.65,\n          'liquidityCumulativeIndex': 1.0,\n          'liquidityRate': '0x0',\n          'oTokenAddress': 'cx6dbb85df52d7b12d2c00d673d89c5bf21ee29be2',\n          'reserveAddress': 'cx735ee7e87d30d76a83b27c7bc62a84b5beafa34b',\n          'totalBorrows': '0x0',\n          'totalLiquidity': '0x0',\n          'usageAsCollateralEnabled': '0x1'}}\n"
     ]
    }
   ],
   "source": [
    "#this returns the reserve data of all the reserves\n",
    "params = {'_reserve': contracts['sample_token']['SCORE']}\n",
    "_call = CallBuilder()\\\n",
    "    .from_(deployer_wallet.get_address())\\\n",
    "    .to(contracts['lendingPoolDataProvider']['SCORE'])\\\n",
    "    .method(\"getAllReserveData\")\\\n",
    "    .build()\n",
    "response = icon_service.call(_call)\n",
    "for key,values in response.items():\n",
    "    for k,v in values.items():\n",
    "        if v==\"0x1\" or v ==\"0x0\" or \"Address\" in k:\n",
    "            continue\n",
    "        if k!=\"lastUpdateTimestamp\":\n",
    "            response[key][k]=int(v,0)/10**18\n",
    "        else:\n",
    "            response[key][k]=int(v,0)\n",
    "pprint(response)"
   ]
  },
  {
   "cell_type": "markdown",
   "metadata": {},
   "source": [
    "### Getting user account data"
   ]
  },
  {
   "cell_type": "code",
   "execution_count": 47,
   "metadata": {
    "tags": []
   },
   "outputs": [
    {
     "output_type": "stream",
     "name": "stdout",
     "text": [
      "{'currentLiquidationThreshold': 0.65,\n 'currentLtv': 0.33,\n 'healthFactor': -1e-18,\n 'healthFactorBelowThreshold': 0.0,\n 'totalBorrowBalanceUSD': 0.0,\n 'totalCollateralBalanceUSD': 5000.003205614853,\n 'totalFeesUSD': 0.0,\n 'totalLiquidityBalanceUSD': 5000.003205614853}\n"
     ]
    }
   ],
   "source": [
    "#returns the user data of all the reserves combined\n",
    "params = {'_user': 'hx91bf040426f226b3bfcd2f0b5967bbb0320525ce'}\n",
    "_call = CallBuilder()\\\n",
    "    .from_(deployer_wallet.get_address())\\\n",
    "    .to(contracts['lendingPoolDataProvider']['SCORE'])\\\n",
    "    .method(\"getUserAccountData\")\\\n",
    "    .params(params)\\\n",
    "    .build()\n",
    "response = icon_service.call(_call)\n",
    "for key,values in response.items():\n",
    "    if key!=\"lastUpdateTimestamp\":\n",
    "        response[key]=int(values,0)/10**18\n",
    "    else:\n",
    "        response[key]=int(values,0)\n",
    "pprint(response)"
   ]
  },
  {
   "cell_type": "code",
   "execution_count": 49,
   "metadata": {
    "tags": []
   },
   "outputs": [
    {
     "output_type": "stream",
     "name": "stdout",
     "text": [
      "20.0\n"
     ]
    }
   ],
   "source": [
    "#returns the user data of all the reserves combined\n",
    "params = {'_reserve': contracts['sample_token']['SCORE'],'_amount':10*10**18,\"_fee\":1,'_userCurrentBorrowBalanceUSD':0,'_userCurrentFeesUSD':0,'_userCurrentLtv':5*10**17}\n",
    "_call = CallBuilder()\\\n",
    "    .from_(deployer_wallet.get_address())\\\n",
    "    .to(contracts['lendingPoolDataProvider']['SCORE'])\\\n",
    "    .method(\"calculateCollateralNeededUSD\")\\\n",
    "    .params(params)\\\n",
    "    .build()\n",
    "response = icon_service.call(_call)\n",
    "response = int(response,0)/10**18\n",
    "# for key,values in response.items():\n",
    "#     if key!=\"lastUpdateTimestamp\":\n",
    "#         response[key]=int(values,0)/10**18\n",
    "#     else:\n",
    "#         response[key]=int(values,0)\n",
    "print(response)"
   ]
  },
  {
   "cell_type": "markdown",
   "metadata": {},
   "source": [
    "### Getting user reserve data"
   ]
  },
  {
   "cell_type": "code",
   "execution_count": 52,
   "metadata": {
    "tags": []
   },
   "outputs": [
    {
     "output_type": "stream",
     "name": "stdout",
     "text": [
      "{'borrowRate': 0.0,\n 'currentBorrowBalance': 0.0,\n 'currentBorrowBalanceUSD': 0.0,\n 'currentOTokenBalance': 0.0,\n 'currentOTokenBalanceUSD': 0.0,\n 'lastUpdateTimestamp': 0,\n 'liquidityRate': 0.0,\n 'originationFee': 0.0,\n 'principalBorrowBalance': 0.0,\n 'principalBorrowBalanceUSD': 0.0,\n 'useAsCollateral': 0.0,\n 'userBorrowCumulativeIndex': 0.0}\n"
     ]
    }
   ],
   "source": [
    "#returns the data of a specific user for a specific reserve\n",
    "#this returns the data of user for USDb reserve\n",
    "params = {'_user': 'hx91bf040426f226b3bfcd2f0b5967bbb0320525ce' ,\"_reserve\":contracts['sicx']['SCORE']}\n",
    "_call = CallBuilder()\\\n",
    "    .from_(deployer_wallet.get_address())\\\n",
    "    .to(contracts['lendingPoolDataProvider']['SCORE'])\\\n",
    "    .method(\"getUserReserveData\")\\\n",
    "    .params(params)\\\n",
    "    .build()\n",
    "response = icon_service.call(_call)\n",
    "for key,values in response.items():\n",
    "    if key!=\"lastUpdateTimestamp\":\n",
    "        response[key]=int(values,0)/10**18\n",
    "    else:\n",
    "        response[key]=int(values,0)\n",
    "pprint(response)"
   ]
  },
  {
   "source": [
    "# Getting All Reserve Data"
   ],
   "cell_type": "markdown",
   "metadata": {}
  },
  {
   "cell_type": "code",
   "execution_count": 44,
   "metadata": {},
   "outputs": [
    {
     "output_type": "stream",
     "name": "stdout",
     "text": [
      "{'USDb': {'availableLiquidity': '0x3f35b7a91f3815900000',\n          'baseLTVasCollateral': '0x853a0d2313c0000',\n          'borrowCumulativeIndex': '0xde0b7c160e6fb0d',\n          'borrowRate': '0x128fc221d15a6e5',\n          'borrowingEnabled': '0x1',\n          'decimals': '0x12',\n          'isActive': '0x1',\n          'isFreezed': '0x0',\n          'lastUpdateTimestamp': '0x5b4bfa2ee7bf9',\n          'liquidationBonus': '0xa',\n          'liquidationThreshold': '0x905438e60010000',\n          'liquidityCumulativeIndex': '0xde0b73a80e1fe23',\n          'liquidityRate': '0xa78e20466e3ea9',\n          'oTokenAddress': 'cx2f4c43ec2c69321573e93549d89462de4a25fdbe',\n          'reserveAddress': 'cx134a1a0309aaf88a00ad1fee4983b7ed43454ab6',\n          'totalBorrows': '0x6a32602b7ababa00e840',\n          'totalLiquidity': '0xa96817d499f2cf90e840',\n          'usageAsCollateralEnabled': '0x1'},\n 'sICX': {'availableLiquidity': '0x0',\n          'baseLTVasCollateral': '0x494654067e10000',\n          'borrowCumulativeIndex': '0xde0b6b3a7640000',\n          'borrowRate': '0x0',\n          'borrowingEnabled': '0x1',\n          'decimals': '0x12',\n          'isActive': '0x1',\n          'isFreezed': '0x0',\n          'lastUpdateTimestamp': '0x0',\n          'liquidationBonus': '0xa',\n          'liquidationThreshold': '0x905438e60010000',\n          'liquidityCumulativeIndex': '0xde0b6b3a7640000',\n          'liquidityRate': '0x0',\n          'oTokenAddress': 'cx6dbb85df52d7b12d2c00d673d89c5bf21ee29be2',\n          'reserveAddress': 'cx735ee7e87d30d76a83b27c7bc62a84b5beafa34b',\n          'totalBorrows': '0x0',\n          'totalLiquidity': '0x0',\n          'usageAsCollateralEnabled': '0x1'}}\n"
     ]
    }
   ],
   "source": [
    "_call = CallBuilder()\\\n",
    "    .from_(deployer_wallet.get_address())\\\n",
    "    .to(contracts['lendingPoolDataProvider']['SCORE'])\\\n",
    "    .method(\"getAllReserveData\")\\\n",
    "    .build()\n",
    "response = icon_service.call(_call)\n",
    "pprint(response)"
   ]
  },
  {
   "cell_type": "markdown",
   "metadata": {},
   "source": [
    "### Getting the data of user for all reserves"
   ]
  },
  {
   "cell_type": "code",
   "execution_count": 45,
   "metadata": {
    "tags": []
   },
   "outputs": [
    {
     "output_type": "stream",
     "name": "stdout",
     "text": [
      "{'USDb': {'borrowRate': 0.08359381655340004,\n          'currentBorrowBalance': 501746.8555771935,\n          'currentBorrowBalanceUSD': 501746.8555771935,\n          'currentOTokenBalance': 800222.1155262836,\n          'currentOTokenBalanceUSD': 800222.1155262836,\n          'lastUpdateTimestamp': 1606109390013725,\n          'liquidityRate': 0.04716259038240734,\n          'originationFee': 0.0,\n          'principalBorrowBalance': 501500.1141552619,\n          'principalBorrowBalanceUSD': 501500.1141552619,\n          'useAsCollateral': 1e-18,\n          'userBorrowCumulativeIndex': 1.0000001902587698},\n 'sICX': {'borrowRate': 0.0,\n          'currentBorrowBalance': 0.0,\n          'currentBorrowBalanceUSD': 0.0,\n          'currentOTokenBalance': 0.0,\n          'currentOTokenBalanceUSD': 0.0,\n          'lastUpdateTimestamp': 0,\n          'liquidityRate': 0.0,\n          'originationFee': 0.0,\n          'principalBorrowBalance': 0.0,\n          'principalBorrowBalanceUSD': 0.0,\n          'useAsCollateral': 0.0,\n          'userBorrowCumulativeIndex': 0.0}}\n"
     ]
    }
   ],
   "source": [
    "#returns the data of a specific user for all reserves\n",
    "\n",
    "params = {'_user': 'hx91bf040426f226b3bfcd2f0b5967bbb0320525ce'}\n",
    "_call = CallBuilder()\\\n",
    "    .from_(deployer_wallet.get_address())\\\n",
    "    .to(contracts['lendingPoolDataProvider']['SCORE'])\\\n",
    "    .method(\"getUserAllReserveData\")\\\n",
    "    .params(params)\\\n",
    "    .build()\n",
    "response = icon_service.call(_call)\n",
    "for key,values in response.items():\n",
    "    for k,v in values.items():\n",
    "        if k!=\"lastUpdateTimestamp\":\n",
    "            response[key][k]=int(v,0)/10**18\n",
    "        else:\n",
    "            response[key][k]=int(v,0)\n",
    "pprint(response)"
   ]
  },
  {
   "cell_type": "markdown",
   "metadata": {},
   "source": [
    "### Get reserve configurations\n"
   ]
  },
  {
   "cell_type": "code",
   "execution_count": 61,
   "metadata": {
    "tags": []
   },
   "outputs": [
    {
     "output_type": "stream",
     "name": "stdout",
     "text": "{'baseLTVasCollateral': 330000000000000000,\n 'borrowingEnabled': 1,\n 'decimals': 18,\n 'isActive': 1,\n 'liquidationBonus': 10,\n 'liquidationThreshold': 650000000000000000,\n 'usageAsCollateralEnabled': 1}\n"
    }
   ],
   "source": [
    "#returns the configurations of a specific reserve\n",
    "params = {\"_reserve\":contracts['sample_token']['SCORE']}\n",
    "_call = CallBuilder()\\\n",
    "    .from_(deployer_wallet.get_address())\\\n",
    "    .to(contracts['lendingPoolDataProvider']['SCORE'])\\\n",
    "    .method(\"getReserveConfigurationData\")\\\n",
    "    .params(params)\\\n",
    "    .build()\n",
    "response = icon_service.call(_call)\n",
    "for key,values in response.items():\n",
    "    response[key]=int(values,0)\n",
    "pprint(response)\n"
   ]
  },
  {
   "cell_type": "markdown",
   "metadata": {},
   "source": [
    "### Get all reserves configurations"
   ]
  },
  {
   "cell_type": "code",
   "execution_count": 62,
   "metadata": {
    "tags": []
   },
   "outputs": [
    {
     "output_type": "stream",
     "name": "stdout",
     "text": "{'USDb': {'baseLTVasCollateral': 330000000000000000,\n          'borrowingEnabled': 1,\n          'decimals': 18,\n          'isActive': 1,\n          'liquidationBonus': 10,\n          'liquidationThreshold': 650000000000000000,\n          'usageAsCollateralEnabled': 1},\n 'icx': {'baseLTVasCollateral': 330000000000000000,\n         'borrowingEnabled': 1,\n         'decimals': 18,\n         'isActive': 1,\n         'liquidationBonus': 10,\n         'liquidationThreshold': 650000000000000000,\n         'usageAsCollateralEnabled': 1}}\n"
    }
   ],
   "source": [
    "#returns the configurations of all the   reserves\n",
    "\n",
    "_call = CallBuilder()\\\n",
    "    .from_(deployer_wallet.get_address())\\\n",
    "    .to(contracts['lendingPoolDataProvider']['SCORE'])\\\n",
    "    .method(\"getAllReserveConfigurationData\")\\\n",
    "    .build()\n",
    "response = icon_service.call(_call)\n",
    "for key,values in response.items():\n",
    "    for k,v in values.items():\n",
    "        response[key][k]=int(v,0)\n",
    "pprint(response)\n"
   ]
  },
  {
   "cell_type": "markdown",
   "metadata": {},
   "source": [
    "## Realtime USDb balance of user(with accrued interest)"
   ]
  },
  {
   "cell_type": "code",
   "execution_count": 33,
   "metadata": {
    "tags": []
   },
   "outputs": [
    {
     "output_type": "stream",
     "name": "stdout",
     "text": "0\n"
    }
   ],
   "source": [
    "\n",
    "params = {'_user': 'hx91bf040426f226b3bfcd2f0b5967bbb0320525ce' }\n",
    "\n",
    "_call = CallBuilder()\\\n",
    "    .from_(deployer_wallet.get_address())\\\n",
    "    .to(contracts['oToken']['SCORE'])\\\n",
    "    .method(\"balanceOf\")\\\n",
    "    .params(params)\\\n",
    "    .build()\n",
    "response = icon_service.call(_call)\n",
    "\n",
    "print(int(response,0))"
   ]
  },
  {
   "cell_type": "code",
   "execution_count": 20,
   "metadata": {
    "tags": []
   },
   "outputs": [
    {
     "output_type": "stream",
     "name": "stdout",
     "text": "cx8397f621adac63d786c24cfdf920e683ae320dfd\n"
    }
   ],
   "source": [
    "\n",
    "# params = {'_owner': 'hx91bf040426f226b3bfcd2f0b5967bbb0320525ce' }\n",
    "\n",
    "_call = CallBuilder()\\\n",
    "    .from_(deployer_wallet.get_address())\\\n",
    "    .to(contracts['lendingPoolDataProvider']['SCORE'])\\\n",
    "    .method(\"getOracleAddress\")\\\n",
    "    .build()\n",
    "response = icon_service.call(_call)\n",
    "print(response)"
   ]
  },
  {
   "cell_type": "code",
   "execution_count": null,
   "metadata": {},
   "outputs": [],
   "source": [
    "995000000570919367819\n",
    "995000000564440311889\n",
    "894000001574533095848\n",
    "894000000615847612243\n",
    "894000001574533095848\n",
    "795000001589272371715\n",
    "795000001731223349511"
   ]
  }
 ],
 "metadata": {
  "celltoolbar": "Slideshow",
  "kernelspec": {
   "display_name": "Python 3",
   "language": "python",
   "name": "python3"
  },
  "language_info": {
   "codemirror_mode": {
    "name": "ipython",
    "version": 3
   },
   "file_extension": ".py",
   "mimetype": "text/x-python",
   "name": "python",
   "nbconvert_exporter": "python",
   "pygments_lexer": "ipython3",
   "version": "3.8.3-final"
  },
  "rise": {
   "scroll": true
  }
 },
 "nbformat": 4,
 "nbformat_minor": 2
}