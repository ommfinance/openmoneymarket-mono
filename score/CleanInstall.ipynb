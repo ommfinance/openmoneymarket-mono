{
 "cells": [
  {
   "cell_type": "markdown",
   "metadata": {
    "slideshow": {
     "slide_type": "slide"
    }
   },
   "source": [
    "# Jupyter Notebook to clean install all the contracts"
   ]
  },
  {
   "cell_type": "markdown",
   "metadata": {
    "slideshow": {
     "slide_type": "slide"
    }
   },
   "source": [
    "\n",
    "### Necessary packages "
   ]
  },
  {
   "cell_type": "code",
   "execution_count": 75,
   "metadata": {},
   "outputs": [
    {
     "output_type": "display_data",
     "data": {
      "text/plain": "<IPython.core.display.HTML object>",
      "text/html": "<style>.container { width:100% !important; }</style>"
     },
     "metadata": {}
    }
   ],
   "source": [
    "from IPython.core.display import display, HTML\n",
    "display(HTML(\"<style>.container { width:100% !important; }</style>\"))\n"
   ]
  },
  {
   "cell_type": "markdown",
   "metadata": {},
   "source": [
    "# Set Up Environment"
   ]
  },
  {
   "cell_type": "code",
   "execution_count": 20,
   "metadata": {},
   "outputs": [],
   "source": [
    "network = \"yeouido\"  # set this to one of mainnet, yeouido, euljiro, pagoda, or custom\n",
    "contracts_file_custom = 'yeouido contracts_20210219095435.pkl'\n",
    "#contracts_20201109120425\n",
    "\n",
    "connections = {\n",
    "    \n",
    "\"mainnet\": {\"iconservice\": \"https://ctz.solidwallet.io\",       \"nid\": 1},\n",
    "\"yeouido\": {\"iconservice\": \"https://bicon.net.solidwallet.io\", \"nid\": 3},\n",
    "\"euljiro\": {\"iconservice\": \"https://test-ctz.solidwallet.io\",  \"nid\": 2},\n",
    "\"pagoda\":  {\"iconservice\": \"https://zicon.net.solidwallet.io\", \"nid\":80},\n",
    "\"custom\":  {\"iconservice\": \"http://18.237.205.52:9000/\",       \"nid\": 3},\n",
    "\"local\":   {\"iconservice\": \"http://localhost:9000/\",           \"nid\": 3}\n",
    "}\n",
    "\n",
    "env = connections[network]"
   ]
  },
  {
   "cell_type": "code",
   "execution_count": 6,
   "metadata": {
    "slideshow": {
     "slide_type": "-"
    }
   },
   "outputs": [],
   "source": [
    "from iconsdk.exception import JSONRPCException\n",
    "from iconsdk.libs.in_memory_zip import gen_deploy_data_content\n",
    "from iconsdk.icon_service import IconService\n",
    "from iconsdk.providers.http_provider import HTTPProvider\n",
    "from iconsdk.builder.transaction_builder import CallTransactionBuilder, TransactionBuilder, DeployTransactionBuilder\n",
    "from iconsdk.builder.call_builder import CallBuilder\n",
    "from iconsdk.signed_transaction import SignedTransaction\n",
    "from iconsdk.wallet.wallet import KeyWallet\n",
    "from iconsdk.utils.convert_type import convert_hex_str_to_int\n",
    "from datetime import datetime\n",
    "from repeater import retry\n",
    "from shutil import make_archive\n",
    "import requests\n",
    "import json\n",
    "import pickle as pkl\n",
    "import csv\n",
    "import os\n",
    "from pprint import pprint\n",
    "from getpass import getpass\n",
    "from lendingPoolCore.Math import *\n",
    "\n",
    "ICX = 1000000000000000000 # 10**18\n",
    "GOVERNANCE_ADDRESS = \"cx0000000000000000000000000000000000000000\"\n",
    "\n",
    "\n",
    "with open(contracts_file_custom, 'rb') as f:\n",
    "    contracts = pkl.load(f)\n",
    "\n",
    "@retry(JSONRPCException, tries=10, delay=1, back_off=2)\n",
    "def get_tx_result(_tx_hash):\n",
    "    tx_result = icon_service.get_transaction_result(_tx_hash)\n",
    "    return tx_result\n",
    "\n",
    "\n"
   ]
  },
  {
   "cell_type": "code",
   "execution_count": 4,
   "metadata": {
    "tags": []
   },
   "outputs": [
    {
     "output_type": "stream",
     "name": "stdout",
     "text": "{'addressProvider': 'cx797bc63e7b27758816910cb35f0fa1f546b57c33',\n 'daoFund': 'cxb2e669fbb8b94f2a4525345f22e466933b8d2075',\n 'delegation': 'cx24e32367425660a67c91d6e3c1077914df4e0286',\n 'feeProvider': 'cxd55f27870c9b219272ea4fc31d5d7ec8dc78a97e',\n 'governance': 'cx672132f49f0ef02969cc6b223613206e46ff34b1',\n 'iusdc': 'cx65f639254090820361da483df233f6d0e69af9b7',\n 'lendingPool': 'cx0be0870a036ef7a08997bd12e1cd0bfed2dd5d85',\n 'lendingPoolCore': 'cx2d844c9613b5f864f5dace7fed82997c4c62ef01',\n 'lendingPoolDataProvider': 'cx88ae036091243916d87cbc3b11f39e317dcd46ad',\n 'liquidationManager': 'cx21b6ee09cd144b2a778bdcf69a46ef2cf898ff1c',\n 'oICX': 'cx9dfe6300788178da4ac43e7eb7114380f5addc69',\n 'oIUSDC': 'cx5bdb716d9d5531927f9cab4dfd26937a595ad52c',\n 'oToken': 'cxf3e8b176a276a1d6bde232638656ed835f5cb058',\n 'oUSDb': 'cx66788ee4dca134edae9ea9b8cc98c4e8073e644b',\n 'ommToken': 'cxa96491850d5dd69efa5d64afa9138fd4a66cd348',\n 'priceOracle': 'cxe76fd817fae3b485ae6e4fea2cf88d050d379b63',\n 'rewards': 'cx3e9b334a82529797818ca824cc58c51b52a26087',\n 'sample_token': 'cxc88e39248bf428d3ab0b9c9fbafef9ff423c3a75',\n 'sicx': 'cxb7eda227d9ed9c6fc2a74aa5dd7e9a3913f6c281',\n 'snapshot': 'cx584f740fedab472057bd8ee6e32d97b9b0a05b9d',\n 'staking': 'cxadd9557a07d4aab925dd04b7a6da4ea1d67bef9c',\n 'usdb': 'cxaa068556df80f9917ef146e889f0b2c4b13ab634',\n 'worker_token': 'cxd4e8a5dd852439ccdec73a2b4cd973148f09775d'}\n"
    }
   ],
   "source": [
    "pprint(contracts)"
   ]
  },
  {
   "cell_type": "code",
   "execution_count": 21,
   "metadata": {
    "tags": []
   },
   "outputs": [
    {
     "output_type": "stream",
     "name": "stdout",
     "text": "{'addressProvider': 'cx797bc63e7b27758816910cb35f0fa1f546b57c33',\n 'daoFund': 'cxb2e669fbb8b94f2a4525345f22e466933b8d2075',\n 'delegation': 'cx24e32367425660a67c91d6e3c1077914df4e0286',\n 'feeProvider': 'cxd55f27870c9b219272ea4fc31d5d7ec8dc78a97e',\n 'governance': 'cx672132f49f0ef02969cc6b223613206e46ff34b1',\n 'iusdc': 'cx65f639254090820361da483df233f6d0e69af9b7',\n 'lendingPool': 'cx0be0870a036ef7a08997bd12e1cd0bfed2dd5d85',\n 'lendingPoolCore': 'cx2d844c9613b5f864f5dace7fed82997c4c62ef01',\n 'lendingPoolDataProvider': 'cx88ae036091243916d87cbc3b11f39e317dcd46ad',\n 'liquidationManager': 'cx21b6ee09cd144b2a778bdcf69a46ef2cf898ff1c',\n 'oICX': 'cx9dfe6300788178da4ac43e7eb7114380f5addc69',\n 'oIUSDC': 'cx5bdb716d9d5531927f9cab4dfd26937a595ad52c',\n 'oToken': 'cxf3e8b176a276a1d6bde232638656ed835f5cb058',\n 'oUSDb': 'cxf3e8b176a276a1d6bde232638656ed835f5cb058',\n 'ommToken': 'cxa96491850d5dd69efa5d64afa9138fd4a66cd348',\n 'priceOracle': 'cxe76fd817fae3b485ae6e4fea2cf88d050d379b63',\n 'rewards': 'cx3e9b334a82529797818ca824cc58c51b52a26087',\n 'sample_token': 'cxc88e39248bf428d3ab0b9c9fbafef9ff423c3a75',\n 'sicx': 'cxb7eda227d9ed9c6fc2a74aa5dd7e9a3913f6c281',\n 'snapshot': 'cx584f740fedab472057bd8ee6e32d97b9b0a05b9d',\n 'staking': 'cxadd9557a07d4aab925dd04b7a6da4ea1d67bef9c',\n 'usdb': 'cxaa068556df80f9917ef146e889f0b2c4b13ab634',\n 'worker_token': 'cxd4e8a5dd852439ccdec73a2b4cd973148f09775d'}\n"
    }
   ],
   "source": [
    "pprint(contracts)"
   ]
  },
  {
   "cell_type": "code",
   "execution_count": 39,
   "metadata": {},
   "outputs": [],
   "source": [
    "contracts['usdb']=\"cxaa068556df80f9917ef146e889f0b2c4b13ab634\"\n",
    "contracts['oUSDb']=\"cx1aef9c66e508cfc32282e27e645ace726e831bd3\""
   ]
  },
  {
   "cell_type": "code",
   "execution_count": 29,
   "metadata": {
    "tags": []
   },
   "outputs": [
    {
     "output_type": "stream",
     "name": "stderr",
     "text": "Raised JSONRPCException while returning the custom response. Error message: {'code': -32602, 'message': 'Pending transaction'}\n{'code': -32602, 'message': 'Pending transaction'} (Json rpc error), Retrying in 1 seconds...\nRaised JSONRPCException while returning the custom response. Error message: {'code': -32602, 'message': 'Pending transaction'}\n{'code': -32602, 'message': 'Pending transaction'} (Json rpc error), Retrying in 2 seconds...\n{'txHash': '0x7bc16e1148e6bc7342ab1c575e17892172d4f3e66a2882f215eb7ea7de5ad5d5', 'blockHeight': 12217995, 'blockHash': '0x6003bcd25699c83e92590d79d682871ff7a25dc88ad3830803450d3cbd1e8f1b', 'txIndex': 1, 'to': 'cx9a5a9c116379ecb9e4aadb423955fc9351771aa6', 'scoreAddress': 'cx9a5a9c116379ecb9e4aadb423955fc9351771aa6', 'stepUsed': 1675653600, 'stepPrice': 10000000000, 'cumulativeStepUsed': 1675653600, 'eventLogs': [], 'logsBloom': b'\\x00\\x00\\x00\\x00\\x00\\x00\\x00\\x00\\x00\\x00\\x00\\x00\\x00\\x00\\x00\\x00\\x00\\x00\\x00\\x00\\x00\\x00\\x00\\x00\\x00\\x00\\x00\\x00\\x00\\x00\\x00\\x00\\x00\\x00\\x00\\x00\\x00\\x00\\x00\\x00\\x00\\x00\\x00\\x00\\x00\\x00\\x00\\x00\\x00\\x00\\x00\\x00\\x00\\x00\\x00\\x00\\x00\\x00\\x00\\x00\\x00\\x00\\x00\\x00\\x00\\x00\\x00\\x00\\x00\\x00\\x00\\x00\\x00\\x00\\x00\\x00\\x00\\x00\\x00\\x00\\x00\\x00\\x00\\x00\\x00\\x00\\x00\\x00\\x00\\x00\\x00\\x00\\x00\\x00\\x00\\x00\\x00\\x00\\x00\\x00\\x00\\x00\\x00\\x00\\x00\\x00\\x00\\x00\\x00\\x00\\x00\\x00\\x00\\x00\\x00\\x00\\x00\\x00\\x00\\x00\\x00\\x00\\x00\\x00\\x00\\x00\\x00\\x00\\x00\\x00\\x00\\x00\\x00\\x00\\x00\\x00\\x00\\x00\\x00\\x00\\x00\\x00\\x00\\x00\\x00\\x00\\x00\\x00\\x00\\x00\\x00\\x00\\x00\\x00\\x00\\x00\\x00\\x00\\x00\\x00\\x00\\x00\\x00\\x00\\x00\\x00\\x00\\x00\\x00\\x00\\x00\\x00\\x00\\x00\\x00\\x00\\x00\\x00\\x00\\x00\\x00\\x00\\x00\\x00\\x00\\x00\\x00\\x00\\x00\\x00\\x00\\x00\\x00\\x00\\x00\\x00\\x00\\x00\\x00\\x00\\x00\\x00\\x00\\x00\\x00\\x00\\x00\\x00\\x00\\x00\\x00\\x00\\x00\\x00\\x00\\x00\\x00\\x00\\x00\\x00\\x00\\x00\\x00\\x00\\x00\\x00\\x00\\x00\\x00\\x00\\x00\\x00\\x00\\x00\\x00\\x00\\x00\\x00\\x00\\x00\\x00\\x00\\x00\\x00\\x00\\x00\\x00\\x00\\x00\\x00\\x00\\x00\\x00\\x00\\x00\\x00', 'status': 1}\n"
    }
   ],
   "source": [
    "\n",
    "deploy_transaction = DeployTransactionBuilder()\\\n",
    "        .from_(deployer_wallet.get_address())\\\n",
    "        .to(\"cx9a5a9c116379ecb9e4aadb423955fc9351771aa6\")\\\n",
    "        .nid(NID)\\\n",
    "        .nonce(100)\\\n",
    "        .content_type(\"application/zip\")\\\n",
    "        .content(gen_deploy_data_content('delegation'))\\\n",
    "        .build()\n",
    "\n",
    "step_limit = icon_service.estimate_step(deploy_transaction) + 100000\n",
    "\n",
    "signed_transaction = SignedTransaction(deploy_transaction, deployer_wallet, step_limit)\n",
    "tx_hash = icon_service.send_transaction(signed_transaction)\n",
    "\n",
    "res = get_tx_result(tx_hash)\n",
    "print(res)"
   ]
  },
  {
   "cell_type": "markdown",
   "metadata": {
    "slideshow": {
     "slide_type": "-"
    }
   },
   "source": [
    "### Required service"
   ]
  },
  {
   "cell_type": "code",
   "execution_count": 7,
   "metadata": {},
   "outputs": [],
   "source": [
    "icon_service = IconService(HTTPProvider(env[\"iconservice\"], 3))\n",
    "NID = env[\"nid\"]"
   ]
  },
  {
   "cell_type": "markdown",
   "metadata": {
    "slideshow": {
     "slide_type": "-"
    }
   },
   "source": [
    "# Importing wallet"
   ]
  },
  {
   "cell_type": "markdown",
   "metadata": {},
   "source": [
    "### Importing from private key"
   ]
  },
  {
   "cell_type": "code",
   "execution_count": 8,
   "metadata": {
    "scrolled": true
   },
   "outputs": [
    {
     "output_type": "execute_result",
     "data": {
      "text/plain": "'hx91bf040426f226b3bfcd2f0b5967bbb0320525ce'"
     },
     "metadata": {},
     "execution_count": 8
    }
   ],
   "source": [
    "\n",
    "private=\"a691ef7d5601f9b5be4f9b9d80215159ea6ff0b88003e3d34e078d40e778b39a\"\n",
    "deployer_wallet = KeyWallet.load(bytes.fromhex(private))\n",
    "deployer_wallet.get_address()\n"
   ]
  },
  {
   "cell_type": "code",
   "execution_count": 83,
   "metadata": {},
   "outputs": [
    {
     "output_type": "execute_result",
     "data": {
      "text/plain": "19139991313150298909795"
     },
     "metadata": {},
     "execution_count": 83
    }
   ],
   "source": [
    "icon_service.get_balance(\"hx91bf040426f226b3bfcd2f0b5967bbb0320525ce\")"
   ]
  },
  {
   "cell_type": "markdown",
   "metadata": {},
   "source": [
    "### Importing wallet from keystore file"
   ]
  },
  {
   "cell_type": "code",
   "execution_count": 8,
   "metadata": {
    "tags": []
   },
   "outputs": [
    {
     "data": {
      "text/plain": [
       "708876575999000000000000000"
      ]
     },
     "execution_count": 8,
     "metadata": {},
     "output_type": "execute_result"
    }
   ],
   "source": [
    "# Set to the address of the keystore file and give the password when prompted\n",
    "password = getpass()\n",
    "deployer_wallet = KeyWallet.load(\"./keystores/keystore_test1.json\",password)\n",
    "deployer_wallet.get_address()\n",
    "icon_service.get_balance(deployer_wallet.get_address())"
   ]
  },
  {
   "cell_type": "code",
   "execution_count": 84,
   "metadata": {
    "tags": []
   },
   "outputs": [
    {
     "output_type": "stream",
     "name": "stdout",
     "text": "hxd29037f1eb8c3f0e8630d797edc7410507c0089a\nhx66ee5acace86d9ce23127599b7c9daae70c9d7c1\nhx65902dd4139d04765534a4539319be874ad7aa0b\n"
    }
   ],
   "source": [
    "private2=\"b3d4e18d733f05dc21f326ba4fe150514874327c738c4a19ddd357d0e8e2efed\"\n",
    "deployer_wallet2 = KeyWallet.load(bytes.fromhex(private2))\n",
    "print(deployer_wallet2.get_address())\n",
    "\n",
    "private3=\"c3d5e9afe753a07c983bb14e34f73907e40a997793ce2f7d2895cddec27f81c6\"\n",
    "deployer_wallet3 = KeyWallet.load(bytes.fromhex(private3))\n",
    "print(deployer_wallet3.get_address())\n",
    "\n",
    "private4=\"2ffb9ef51826d555189d4804161058036cf87ae8290f1a308a79d045f6cdd428\"\n",
    "deployer_wallet4 = KeyWallet.load(bytes.fromhex(private4))\n",
    "print(deployer_wallet4.get_address())\n",
    "wallets=[deployer_wallet2,deployer_wallet3,deployer_wallet4]"
   ]
  },
  {
   "cell_type": "markdown",
   "metadata": {},
   "source": [
    "# Deploying all contracts\n"
   ]
  },
  {
   "cell_type": "code",
   "execution_count": 9,
   "metadata": {
    "slideshow": {
     "slide_type": "-"
    },
    "tags": []
   },
   "outputs": [
    {
     "name": "stderr",
     "output_type": "stream",
     "text": [
      "Raised JSONRPCException while returning the custom response. Error message: {'code': -32602, 'message': 'Pending transaction'}\n",
      "{'code': -32602, 'message': 'Pending transaction'} (Json rpc error), Retrying in 1 seconds...\n",
      "Raised JSONRPCException while returning the custom response. Error message: {'code': -32602, 'message': 'Pending transaction'}\n",
      "{'code': -32602, 'message': 'Pending transaction'} (Json rpc error), Retrying in 1 seconds...\n",
      "Raised JSONRPCException while returning the custom response. Error message: {'code': -32602, 'message': 'Pending transaction'}\n",
      "{'code': -32602, 'message': 'Pending transaction'} (Json rpc error), Retrying in 1 seconds...\n",
      "Raised JSONRPCException while returning the custom response. Error message: {'code': -32602, 'message': 'Pending transaction'}\n",
      "{'code': -32602, 'message': 'Pending transaction'} (Json rpc error), Retrying in 1 seconds...\n",
      "Raised JSONRPCException while returning the custom response. Error message: {'code': -32602, 'message': 'Pending transaction'}\n",
      "{'code': -32602, 'message': 'Pending transaction'} (Json rpc error), Retrying in 1 seconds...\n",
      "{'txHash': '0xe5468682dd8fd027e9e841a65965012688407aa2ccb3848ddb33a1479179f8fc', 'blockHeight': 1870861, 'blockHash': '0x21f789649f85b0f257c7862d586bec33b421003d7779f8a8780e6cbf851fda6e', 'txIndex': 1, 'to': 'cx0000000000000000000000000000000000000000', 'scoreAddress': 'cxf872138faf25dfc5a1216a7a85cad24b8172d988', 'stepUsed': 1144284440, 'stepPrice': 10000000000, 'cumulativeStepUsed': 1144284440, 'eventLogs': [], 'logsBloom': b'\\x00\\x00\\x00\\x00\\x00\\x00\\x00\\x00\\x00\\x00\\x00\\x00\\x00\\x00\\x00\\x00\\x00\\x00\\x00\\x00\\x00\\x00\\x00\\x00\\x00\\x00\\x00\\x00\\x00\\x00\\x00\\x00\\x00\\x00\\x00\\x00\\x00\\x00\\x00\\x00\\x00\\x00\\x00\\x00\\x00\\x00\\x00\\x00\\x00\\x00\\x00\\x00\\x00\\x00\\x00\\x00\\x00\\x00\\x00\\x00\\x00\\x00\\x00\\x00\\x00\\x00\\x00\\x00\\x00\\x00\\x00\\x00\\x00\\x00\\x00\\x00\\x00\\x00\\x00\\x00\\x00\\x00\\x00\\x00\\x00\\x00\\x00\\x00\\x00\\x00\\x00\\x00\\x00\\x00\\x00\\x00\\x00\\x00\\x00\\x00\\x00\\x00\\x00\\x00\\x00\\x00\\x00\\x00\\x00\\x00\\x00\\x00\\x00\\x00\\x00\\x00\\x00\\x00\\x00\\x00\\x00\\x00\\x00\\x00\\x00\\x00\\x00\\x00\\x00\\x00\\x00\\x00\\x00\\x00\\x00\\x00\\x00\\x00\\x00\\x00\\x00\\x00\\x00\\x00\\x00\\x00\\x00\\x00\\x00\\x00\\x00\\x00\\x00\\x00\\x00\\x00\\x00\\x00\\x00\\x00\\x00\\x00\\x00\\x00\\x00\\x00\\x00\\x00\\x00\\x00\\x00\\x00\\x00\\x00\\x00\\x00\\x00\\x00\\x00\\x00\\x00\\x00\\x00\\x00\\x00\\x00\\x00\\x00\\x00\\x00\\x00\\x00\\x00\\x00\\x00\\x00\\x00\\x00\\x00\\x00\\x00\\x00\\x00\\x00\\x00\\x00\\x00\\x00\\x00\\x00\\x00\\x00\\x00\\x00\\x00\\x00\\x00\\x00\\x00\\x00\\x00\\x00\\x00\\x00\\x00\\x00\\x00\\x00\\x00\\x00\\x00\\x00\\x00\\x00\\x00\\x00\\x00\\x00\\x00\\x00\\x00\\x00\\x00\\x00\\x00\\x00\\x00\\x00\\x00\\x00\\x00\\x00\\x00\\x00\\x00\\x00', 'status': 1}\n",
      "saving contracts list as custom_contracts_20201212140312.pkl\n"
     ]
    },
    {
     "data": {
      "text/plain": [
       "{'addressProvider': 'cxc595228d12cc267c748026a6629af41060654dab',\n",
       " 'feeProvider': 'cxb76322c7df895a14e47bc14b4aa21566b3edc069',\n",
       " 'lendingPool': 'cxf44d5c379d7b458fe4bba1ecb0f8fd4a54e9d65c',\n",
       " 'lendingPoolCore': 'cx515613f46e2b333f6bdfa5d7fd1bf93fa3043e14',\n",
       " 'lendingPoolDataProvider': 'cxfdff702158ae5bfce3f25a4c040b850d96e25af8',\n",
       " 'oICX': 'cxf872138faf25dfc5a1216a7a85cad24b8172d988',\n",
       " 'oToken': 'cx9732efc2d75905dfe4d8bc2d055c2cf226391d00',\n",
       " 'priceOracle': 'cx1fbce991b255545bcd31634ab6beda5605201f46',\n",
       " 'sample_token': 'cxc88281539407ee6d766e58d302f27c50d517783c',\n",
       " 'sicx': 'cx400639d22b6bce4def6e7d7be2bc36e7a39192ee',\n",
       " 'liquidationManager': 'cx847bb94d386b34af9ba86dfdcace651dbd5af822'}"
      ]
     },
     "execution_count": 9,
     "metadata": {},
     "output_type": "execute_result"
    }
   ],
   "source": [
    "#contracts=AutoVivification()\n",
    "\n",
    "deploy = ['addressProvider', 'feeProvider', 'lendingPool', 'lendingPoolCore', 'lendingPoolDataProvider','oToken','priceOracle','sample_token', 'sicx', 'liquidationManager']\n",
    "# for directory in {\"score\"}:\n",
    "directory=os.getcwd()\n",
    "for item in deploy:\n",
    "    params = {}\n",
    "    if item == \"sample_token\":\n",
    "        params = {'_initialSupply':500000000, '_decimals': 18}\n",
    "    elif item == \"sicx\":\n",
    "        params = {'_initialSupply':500000000, '_decimals': 18}\n",
    "    elif item == \"oToken\":\n",
    "        params = {\"_name\":\"BridgeUSDInterestToken\",\"_symbol\":\"oUSDb\"}\n",
    "    deploy_transaction = DeployTransactionBuilder()\\\n",
    "        .from_(deployer_wallet.get_address())\\\n",
    "        .to(GOVERNANCE_ADDRESS)\\\n",
    "        .nid(NID)\\\n",
    "        .nonce(100)\\\n",
    "        .content_type(\"application/zip\")\\\n",
    "        .content(gen_deploy_data_content(item))\\\n",
    "        .params(params)\\\n",
    "        .build()\n",
    "\n",
    "    step_limit = icon_service.estimate_step(deploy_transaction) + 100000\n",
    "    \n",
    "    signed_transaction = SignedTransaction(deploy_transaction, deployer_wallet, step_limit)\n",
    "    tx_hash = icon_service.send_transaction(signed_transaction)\n",
    "\n",
    "    res = get_tx_result(tx_hash)\n",
    "    contracts[item] = res.get('scoreAddress', '')\n",
    "\n",
    "#deploy oICX \n",
    "params = {\"_name\":\"ICXinterestToken\",\"_symbol\":\"oICX\"}\n",
    "deploy_transaction = DeployTransactionBuilder()\\\n",
    "        .from_(deployer_wallet.get_address())\\\n",
    "        .to(GOVERNANCE_ADDRESS)\\\n",
    "        .nid(NID)\\\n",
    "        .nonce(100)\\\n",
    "        .content_type(\"application/zip\")\\\n",
    "        .content(gen_deploy_data_content('oToken'))\\\n",
    "        .params(params)\\\n",
    "        .build()\n",
    "\n",
    "step_limit = icon_service.estimate_step(deploy_transaction) + 100000\n",
    "\n",
    "signed_transaction = SignedTransaction(deploy_transaction, deployer_wallet, step_limit)\n",
    "tx_hash = icon_service.send_transaction(signed_transaction)\n",
    "\n",
    "res = get_tx_result(tx_hash)\n",
    "print(res)\n",
    "contracts['oICX'] = res.get('scoreAddress', '')\n",
    "\n",
    "now = datetime.utcnow()\n",
    "\n",
    "filename = f'contracts_{now.year}{str(now.month).zfill(2)}{str(now.day).zfill(2)}{str(now.hour).zfill(2)}{str(now.minute).zfill(2)}{str(now.second).zfill(2)}.pkl'\n",
    "filename=network+'_'+filename\n",
    "print(f'saving contracts list as {filename}')\n",
    "with open(filename, 'wb') as f:\n",
    "    pkl.dump(contracts, f)\n",
    "\n",
    "contracts"
   ]
  },
  {
   "cell_type": "code",
   "execution_count": 12,
   "metadata": {
    "tags": []
   },
   "outputs": [
    {
     "output_type": "stream",
     "name": "stdout",
     "text": "{'addressProvider': 'cxdcbae76661c0edbf968d048c3bba3311bde57e37',\n 'delegation': 'cx5ecc21ade5e4a90586bde6451da3b0d733dd11d6',\n 'feeProvider': 'cx52555a5dda72b98a3ed692b58761f68af9486073',\n 'governance': 'cx9e0ecfd9cc9a0c1cee8fc4a4701e970554835f54',\n 'lendingPool': 'cx348b53ff3bb5c6411f8c3e7082cde123bd86c67e',\n 'lendingPoolCore': 'cxc15058ed8a262ff3b3a2400786848a3c32c274a5',\n 'lendingPoolDataProvider': 'cx45bd68dd4f903160f4c7f2c43791fa741debb582',\n 'liquidationManager': 'cx001794d12ea9170f4bb7a620e0a03a157f35a429',\n 'oICX': 'cx7dcf7232084a085507bf2685f785589ebb0b52a1',\n 'oToken': 'cx77d34d57f7ea300637058ef65babc52da91376a4',\n 'oUSDb': 'cx1aef9c66e508cfc32282e27e645ace726e831bd3',\n 'omm_token': 'cxff036606b11066a142262431b089e8d0af145bef',\n 'priceOracle': 'cx0b57375df6a814ca3f589e91b15015f135fbd046',\n 'rewards': 'cxcccee742d4c1b7a3a84a20a41691d302e25ab3a0',\n 'sample_token': 'cx9da823297393ecb193030b983ce334f25af20aac',\n 'sicx': 'cxb7eda227d9ed9c6fc2a74aa5dd7e9a3913f6c281',\n 'snapshot': 'cxa3bd48427581e6a41e9f03ee4bea14d5e506705b',\n 'staking': 'cxadd9557a07d4aab925dd04b7a6da4ea1d67bef9c',\n 'usdb': 'cxaa068556df80f9917ef146e889f0b2c4b13ab634'}\n"
    }
   ],
   "source": [
    "pprint(contracts)"
   ]
  },
  {
   "cell_type": "code",
   "execution_count": 18,
   "metadata": {
    "tags": []
   },
   "outputs": [
    {
     "output_type": "stream",
     "name": "stderr",
     "text": "Raised JSONRPCException while returning the custom response. Error message: {'code': -32602, 'message': 'Pending transaction'}\n{'code': -32602, 'message': 'Pending transaction'} (Json rpc error), Retrying in 1 seconds...\nRaised JSONRPCException while returning the custom response. Error message: {'code': -32602, 'message': 'Pending transaction'}\n{'code': -32602, 'message': 'Pending transaction'} (Json rpc error), Retrying in 2 seconds...\n{'txHash': '0xc9a123a741d0dda7565aaf94d430b3fe6799c2c7e4766ba63aedc7ff96d4ec13', 'blockHeight': 13316260, 'blockHash': '0x2f80ee431fc2a4d786190c4aa7c7c08e800b784fa7a6990dc5b2204dc3705e22', 'txIndex': 1, 'to': 'cx0000000000000000000000000000000000000000', 'scoreAddress': 'cx147b13e34e1041852ffbd0e4d03523c64ad9b5a7', 'stepUsed': 1146144000, 'stepPrice': 10000000000, 'cumulativeStepUsed': 1146144000, 'eventLogs': [], 'logsBloom': b'\\x00\\x00\\x00\\x00\\x00\\x00\\x00\\x00\\x00\\x00\\x00\\x00\\x00\\x00\\x00\\x00\\x00\\x00\\x00\\x00\\x00\\x00\\x00\\x00\\x00\\x00\\x00\\x00\\x00\\x00\\x00\\x00\\x00\\x00\\x00\\x00\\x00\\x00\\x00\\x00\\x00\\x00\\x00\\x00\\x00\\x00\\x00\\x00\\x00\\x00\\x00\\x00\\x00\\x00\\x00\\x00\\x00\\x00\\x00\\x00\\x00\\x00\\x00\\x00\\x00\\x00\\x00\\x00\\x00\\x00\\x00\\x00\\x00\\x00\\x00\\x00\\x00\\x00\\x00\\x00\\x00\\x00\\x00\\x00\\x00\\x00\\x00\\x00\\x00\\x00\\x00\\x00\\x00\\x00\\x00\\x00\\x00\\x00\\x00\\x00\\x00\\x00\\x00\\x00\\x00\\x00\\x00\\x00\\x00\\x00\\x00\\x00\\x00\\x00\\x00\\x00\\x00\\x00\\x00\\x00\\x00\\x00\\x00\\x00\\x00\\x00\\x00\\x00\\x00\\x00\\x00\\x00\\x00\\x00\\x00\\x00\\x00\\x00\\x00\\x00\\x00\\x00\\x00\\x00\\x00\\x00\\x00\\x00\\x00\\x00\\x00\\x00\\x00\\x00\\x00\\x00\\x00\\x00\\x00\\x00\\x00\\x00\\x00\\x00\\x00\\x00\\x00\\x00\\x00\\x00\\x00\\x00\\x00\\x00\\x00\\x00\\x00\\x00\\x00\\x00\\x00\\x00\\x00\\x00\\x00\\x00\\x00\\x00\\x00\\x00\\x00\\x00\\x00\\x00\\x00\\x00\\x00\\x00\\x00\\x00\\x00\\x00\\x00\\x00\\x00\\x00\\x00\\x00\\x00\\x00\\x00\\x00\\x00\\x00\\x00\\x00\\x00\\x00\\x00\\x00\\x00\\x00\\x00\\x00\\x00\\x00\\x00\\x00\\x00\\x00\\x00\\x00\\x00\\x00\\x00\\x00\\x00\\x00\\x00\\x00\\x00\\x00\\x00\\x00\\x00\\x00\\x00\\x00\\x00\\x00\\x00\\x00\\x00\\x00\\x00\\x00', 'status': 1}\n"
    }
   ],
   "source": [
    "params = {\"_name\":\"USDCInterestToken\",\"_symbol\":\"oIUSDC\",\"_decimals\":6}\n",
    "deploy_transaction = DeployTransactionBuilder()\\\n",
    "    .from_(deployer_wallet.get_address())\\\n",
    "    .to(GOVERNANCE_ADDRESS)\\\n",
    "    .nid(NID)\\\n",
    "    .nonce(100)\\\n",
    "    .content_type(\"application/zip\")\\\n",
    "    .params(params)\\\n",
    "    .content(gen_deploy_data_content('oToken'))\\\n",
    "    .build()\n",
    "\n",
    "step_limit = icon_service.estimate_step(deploy_transaction) + 100000\n",
    "\n",
    "signed_transaction = SignedTransaction(deploy_transaction, deployer_wallet, step_limit)\n",
    "tx_hash = icon_service.send_transaction(signed_transaction)\n",
    "\n",
    "result = get_tx_result(tx_hash)\n",
    "print(result)\n",
    "contracts['oIUSDC']= result.get('scoreAddress','')\n",
    "\n"
   ]
  },
  {
   "cell_type": "code",
   "execution_count": 19,
   "metadata": {
    "tags": []
   },
   "outputs": [
    {
     "output_type": "stream",
     "name": "stdout",
     "text": "{'addressProvider': 'cxdcbae76661c0edbf968d048c3bba3311bde57e37',\n 'delegation': 'cx5ecc21ade5e4a90586bde6451da3b0d733dd11d6',\n 'feeProvider': 'cx52555a5dda72b98a3ed692b58761f68af9486073',\n 'governance': 'cx9e0ecfd9cc9a0c1cee8fc4a4701e970554835f54',\n 'iusdc': 'cx65f639254090820361da483df233f6d0e69af9b7',\n 'lendingPool': 'cx348b53ff3bb5c6411f8c3e7082cde123bd86c67e',\n 'lendingPoolCore': 'cxc15058ed8a262ff3b3a2400786848a3c32c274a5',\n 'lendingPoolDataProvider': 'cx45bd68dd4f903160f4c7f2c43791fa741debb582',\n 'liquidationManager': 'cx001794d12ea9170f4bb7a620e0a03a157f35a429',\n 'oICX': 'cx7dcf7232084a085507bf2685f785589ebb0b52a1',\n 'oIUSDC': 'cx147b13e34e1041852ffbd0e4d03523c64ad9b5a7',\n 'oToken': 'cx77d34d57f7ea300637058ef65babc52da91376a4',\n 'oUSDC': 'cxcb083f613855dc19533f85b35a6605d7a9539cda',\n 'oUSDb': 'cx1aef9c66e508cfc32282e27e645ace726e831bd3',\n 'omm_token': 'cxff036606b11066a142262431b089e8d0af145bef',\n 'priceOracle': 'cx0b57375df6a814ca3f589e91b15015f135fbd046',\n 'rewards': 'cxcccee742d4c1b7a3a84a20a41691d302e25ab3a0',\n 'sample_token': 'cx9da823297393ecb193030b983ce334f25af20aac',\n 'sicx': 'cxb7eda227d9ed9c6fc2a74aa5dd7e9a3913f6c281',\n 'snapshot': 'cxa3bd48427581e6a41e9f03ee4bea14d5e506705b',\n 'staking': 'cxadd9557a07d4aab925dd04b7a6da4ea1d67bef9c',\n 'usdb': 'cxaa068556df80f9917ef146e889f0b2c4b13ab634'}\n"
    }
   ],
   "source": [
    "contracts['iusdc']=\"cx65f639254090820361da483df233f6d0e69af9b7\"\n",
    "pprint(contracts)"
   ]
  },
  {
   "cell_type": "code",
   "execution_count": null,
   "metadata": {},
   "outputs": [],
   "source": [
    "cxf3e8b176a276a1d6bde232638656ed835f5cb058"
   ]
  },
  {
   "cell_type": "code",
   "execution_count": 18,
   "metadata": {
    "tags": []
   },
   "outputs": [
    {
     "output_type": "stream",
     "name": "stdout",
     "text": "{'addressProvider': 'cx797bc63e7b27758816910cb35f0fa1f546b57c33',\n 'daoFund': 'cxb2e669fbb8b94f2a4525345f22e466933b8d2075',\n 'delegation': 'cx24e32367425660a67c91d6e3c1077914df4e0286',\n 'feeProvider': 'cxd55f27870c9b219272ea4fc31d5d7ec8dc78a97e',\n 'governance': 'cx672132f49f0ef02969cc6b223613206e46ff34b1',\n 'iusdc': 'cx65f639254090820361da483df233f6d0e69af9b7',\n 'lendingPool': 'cx0be0870a036ef7a08997bd12e1cd0bfed2dd5d85',\n 'lendingPoolCore': 'cx2d844c9613b5f864f5dace7fed82997c4c62ef01',\n 'lendingPoolDataProvider': 'cx88ae036091243916d87cbc3b11f39e317dcd46ad',\n 'liquidationManager': 'cx21b6ee09cd144b2a778bdcf69a46ef2cf898ff1c',\n 'oICX': 'cx9dfe6300788178da4ac43e7eb7114380f5addc69',\n 'oIUSDC': 'cx5bdb716d9d5531927f9cab4dfd26937a595ad52c',\n 'oToken': 'cxf3e8b176a276a1d6bde232638656ed835f5cb058',\n 'oUSDb': 'cxf3e8b176a276a1d6bde232638656ed835f5cb058',\n 'ommToken': 'cxa96491850d5dd69efa5d64afa9138fd4a66cd348',\n 'priceOracle': 'cxe76fd817fae3b485ae6e4fea2cf88d050d379b63',\n 'rewards': 'cx3e9b334a82529797818ca824cc58c51b52a26087',\n 'sample_token': 'cxc88e39248bf428d3ab0b9c9fbafef9ff423c3a75',\n 'sicx': 'cxb7eda227d9ed9c6fc2a74aa5dd7e9a3913f6c281',\n 'snapshot': 'cx584f740fedab472057bd8ee6e32d97b9b0a05b9d',\n 'staking': 'cxadd9557a07d4aab925dd04b7a6da4ea1d67bef9c',\n 'usdb': 'cxaa068556df80f9917ef146e889f0b2c4b13ab634',\n 'worker_token': 'cxd4e8a5dd852439ccdec73a2b4cd973148f09775d'}\n"
    }
   ],
   "source": [
    "contracts['oUSDb']='cxf3e8b176a276a1d6bde232638656ed835f5cb058'\n",
    "pprint(contracts)"
   ]
  },
  {
   "cell_type": "code",
   "execution_count": 19,
   "metadata": {
    "tags": []
   },
   "outputs": [
    {
     "output_type": "stream",
     "name": "stdout",
     "text": "saving contracts list as yeouido contracts_20210219095435.pkl\n"
    }
   ],
   "source": [
    "now = datetime.utcnow()\n",
    "\n",
    "filename = f'contracts_{now.year}{str(now.month).zfill(2)}{str(now.day).zfill(2)}{str(now.hour).zfill(2)}{str(now.minute).zfill(2)}{str(now.second).zfill(2)}.pkl'\n",
    "filename=\"yeouido contracts_20210219095435.pkl\"\n",
    "print(f'saving contracts list as {filename}')\n",
    "with open(filename, 'wb') as f:\n",
    "    pkl.dump(contracts, f)"
   ]
  },
  {
   "cell_type": "markdown",
   "metadata": {},
   "source": [
    "## Save updated contract"
   ]
  },
  {
   "cell_type": "markdown",
   "metadata": {},
   "source": []
  },
  {
   "cell_type": "markdown",
   "metadata": {},
   "source": [
    "# ICX transfer"
   ]
  },
  {
   "cell_type": "code",
   "execution_count": 17,
   "metadata": {
    "tags": []
   },
   "outputs": [
    {
     "data": {
      "text/plain": [
       "{'txHash': '0x3c546494f559d4ea9d34534f13387c74aa80658c67ac2630ce1adaf514e1bc86',\n",
       " 'blockHeight': 1425621,\n",
       " 'blockHash': '0xc6a2b22340f3c2756027f1926f731d1eaa78ed6c65653e92e85f58e7ee2d2b66',\n",
       " 'txIndex': 1,\n",
       " 'to': 'hx49c8a4c31e84b9abe7f8c8395eb7133b2151aeae',\n",
       " 'stepUsed': 100000,\n",
       " 'stepPrice': 10000000000,\n",
       " 'cumulativeStepUsed': 100000,\n",
       " 'eventLogs': [],\n",
       " 'logsBloom': b'\\x00\\x00\\x00\\x00\\x00\\x00\\x00\\x00\\x00\\x00\\x00\\x00\\x00\\x00\\x00\\x00\\x00\\x00\\x00\\x00\\x00\\x00\\x00\\x00\\x00\\x00\\x00\\x00\\x00\\x00\\x00\\x00\\x00\\x00\\x00\\x00\\x00\\x00\\x00\\x00\\x00\\x00\\x00\\x00\\x00\\x00\\x00\\x00\\x00\\x00\\x00\\x00\\x00\\x00\\x00\\x00\\x00\\x00\\x00\\x00\\x00\\x00\\x00\\x00\\x00\\x00\\x00\\x00\\x00\\x00\\x00\\x00\\x00\\x00\\x00\\x00\\x00\\x00\\x00\\x00\\x00\\x00\\x00\\x00\\x00\\x00\\x00\\x00\\x00\\x00\\x00\\x00\\x00\\x00\\x00\\x00\\x00\\x00\\x00\\x00\\x00\\x00\\x00\\x00\\x00\\x00\\x00\\x00\\x00\\x00\\x00\\x00\\x00\\x00\\x00\\x00\\x00\\x00\\x00\\x00\\x00\\x00\\x00\\x00\\x00\\x00\\x00\\x00\\x00\\x00\\x00\\x00\\x00\\x00\\x00\\x00\\x00\\x00\\x00\\x00\\x00\\x00\\x00\\x00\\x00\\x00\\x00\\x00\\x00\\x00\\x00\\x00\\x00\\x00\\x00\\x00\\x00\\x00\\x00\\x00\\x00\\x00\\x00\\x00\\x00\\x00\\x00\\x00\\x00\\x00\\x00\\x00\\x00\\x00\\x00\\x00\\x00\\x00\\x00\\x00\\x00\\x00\\x00\\x00\\x00\\x00\\x00\\x00\\x00\\x00\\x00\\x00\\x00\\x00\\x00\\x00\\x00\\x00\\x00\\x00\\x00\\x00\\x00\\x00\\x00\\x00\\x00\\x00\\x00\\x00\\x00\\x00\\x00\\x00\\x00\\x00\\x00\\x00\\x00\\x00\\x00\\x00\\x00\\x00\\x00\\x00\\x00\\x00\\x00\\x00\\x00\\x00\\x00\\x00\\x00\\x00\\x00\\x00\\x00\\x00\\x00\\x00\\x00\\x00\\x00\\x00\\x00\\x00\\x00\\x00\\x00\\x00\\x00\\x00\\x00\\x00',\n",
       " 'status': 1}"
      ]
     },
     "execution_count": 17,
     "metadata": {},
     "output_type": "execute_result"
    }
   ],
   "source": [
    "transaction = TransactionBuilder()\\\n",
    "    .from_(deployer_wallet.get_address())\\\n",
    "    .to(\"hx49c8a4c31e84b9abe7f8c8395eb7133b2151aeae\")\\\n",
    "    .nid(3) \\\n",
    "    .nonce(100) \\\n",
    "    .value(1000000*10**18)\\\n",
    "    .build()\n",
    "\n",
    "estimate_step = icon_service.estimate_step(transaction)\n",
    "step_limit = estimate_step + 100000\n",
    "# Returns the signed transaction object having a signature\n",
    "signed_transaction = SignedTransaction(transaction, deployer_wallet,step_limit)\n",
    "\n",
    "\n",
    "# Sends the transaction\n",
    "tx_hash = icon_service.send_transaction(signed_transaction)\n",
    "\n",
    "get_tx_result(tx_hash)"
   ]
  },
  {
   "cell_type": "code",
   "execution_count": 26,
   "metadata": {
    "tags": []
   },
   "outputs": [
    {
     "output_type": "stream",
     "name": "stderr",
     "text": "Raised JSONRPCException while returning the custom response. Error message: {'code': -32602, 'message': 'Pending transaction'}\n{'code': -32602, 'message': 'Pending transaction'} (Json rpc error), Retrying in 1 seconds...\nRaised JSONRPCException while returning the custom response. Error message: {'code': -32602, 'message': 'Pending transaction'}\n{'code': -32602, 'message': 'Pending transaction'} (Json rpc error), Retrying in 2 seconds...\n"
    },
    {
     "output_type": "execute_result",
     "data": {
      "text/plain": "{'txHash': '0x2816bd52f88cf443e5d0133ae314b39e6901e51dc0295a0642066b7c02c2bc41', 'blockHeight': 12723774, 'blockHash': '0xc49da4fbe608653ada7ece5674446f8cd72f3ebb76235fa7e03d5272e4a7d52b', 'txIndex': 1, 'to': 'cx65f639254090820361da483df233f6d0e69af9b7', 'stepUsed': 142400, 'stepPrice': 10000000000, 'cumulativeStepUsed': 142400, 'eventLogs': [], 'logsBloom': b'\\x00\\x00\\x00\\x00\\x00\\x00\\x00\\x00\\x00\\x00\\x00\\x00\\x00\\x00\\x00\\x00\\x00\\x00\\x00\\x00\\x00\\x00\\x00\\x00\\x00\\x00\\x00\\x00\\x00\\x00\\x00\\x00\\x00\\x00\\x00\\x00\\x00\\x00\\x00\\x00\\x00\\x00\\x00\\x00\\x00\\x00\\x00\\x00\\x00\\x00\\x00\\x00\\x00\\x00\\x00\\x00\\x00\\x00\\x00\\x00\\x00\\x00\\x00\\x00\\x00\\x00\\x00\\x00\\x00\\x00\\x00\\x00\\x00\\x00\\x00\\x00\\x00\\x00\\x00\\x00\\x00\\x00\\x00\\x00\\x00\\x00\\x00\\x00\\x00\\x00\\x00\\x00\\x00\\x00\\x00\\x00\\x00\\x00\\x00\\x00\\x00\\x00\\x00\\x00\\x00\\x00\\x00\\x00\\x00\\x00\\x00\\x00\\x00\\x00\\x00\\x00\\x00\\x00\\x00\\x00\\x00\\x00\\x00\\x00\\x00\\x00\\x00\\x00\\x00\\x00\\x00\\x00\\x00\\x00\\x00\\x00\\x00\\x00\\x00\\x00\\x00\\x00\\x00\\x00\\x00\\x00\\x00\\x00\\x00\\x00\\x00\\x00\\x00\\x00\\x00\\x00\\x00\\x00\\x00\\x00\\x00\\x00\\x00\\x00\\x00\\x00\\x00\\x00\\x00\\x00\\x00\\x00\\x00\\x00\\x00\\x00\\x00\\x00\\x00\\x00\\x00\\x00\\x00\\x00\\x00\\x00\\x00\\x00\\x00\\x00\\x00\\x00\\x00\\x00\\x00\\x00\\x00\\x00\\x00\\x00\\x00\\x00\\x00\\x00\\x00\\x00\\x00\\x00\\x00\\x00\\x00\\x00\\x00\\x00\\x00\\x00\\x00\\x00\\x00\\x00\\x00\\x00\\x00\\x00\\x00\\x00\\x00\\x00\\x00\\x00\\x00\\x00\\x00\\x00\\x00\\x00\\x00\\x00\\x00\\x00\\x00\\x00\\x00\\x00\\x00\\x00\\x00\\x00\\x00\\x00\\x00\\x00\\x00\\x00\\x00\\x00', 'status': 1}"
     },
     "metadata": {},
     "execution_count": 26
    }
   ],
   "source": [
    "params = {\"_owner\":\"hx91bf040426f226b3bfcd2f0b5967bbb0320525ce\"}\n",
    "transaction = CallTransactionBuilder()\\\n",
    "    .from_(deployer_wallet.get_address())\\\n",
    "    .to(contracts['iusdc'])\\\n",
    "    .value(0)\\\n",
    "    .step_limit(10000000)\\\n",
    "    .nid(3)\\\n",
    "    .nonce(100)\\\n",
    "    .method(\"balanceOf\")\\\n",
    "    .params(params)\\\n",
    "    .build()\n",
    "signed_transaction = SignedTransaction(transaction, deployer_wallet)\n",
    "tx_hash = icon_service.send_transaction(signed_transaction)\n",
    "get_tx_result(tx_hash)"
   ]
  },
  {
   "cell_type": "markdown",
   "metadata": {
    "tags": []
   },
   "source": [
    "# Updating a contract"
   ]
  },
  {
   "cell_type": "code",
   "execution_count": 11,
   "metadata": {
    "slideshow": {
     "slide_type": "-"
    },
    "tags": []
   },
   "outputs": [
    {
     "output_type": "stream",
     "name": "stdout",
     "text": "update lendingPoolDataProvider cx88ae036091243916d87cbc3b11f39e317dcd46ad\nRaised JSONRPCException while returning the custom response. Error message: {'code': -32602, 'message': 'Pending transaction'}\n{'code': -32602, 'message': 'Pending transaction'} (Json rpc error), Retrying in 1 seconds...\nRaised JSONRPCException while returning the custom response. Error message: {'code': -32602, 'message': 'Pending transaction'}\n{'code': -32602, 'message': 'Pending transaction'} (Json rpc error), Retrying in 2 seconds...\n"
    },
    {
     "output_type": "execute_result",
     "data": {
      "text/plain": "{'txHash': '0xe4f772e6085a5d5d73675aebe6dab537ced45fe6b1d0bb3d71326f865ee911ec',\n 'blockHeight': 13545095,\n 'blockHash': '0xd266da60709acbd7be7225054c2415ce0d59d58325ddaa00a2ef70b458211772',\n 'txIndex': 1,\n 'to': 'cx88ae036091243916d87cbc3b11f39e317dcd46ad',\n 'scoreAddress': 'cx88ae036091243916d87cbc3b11f39e317dcd46ad',\n 'stepUsed': 1772964000,\n 'stepPrice': 10000000000,\n 'cumulativeStepUsed': 1772964000,\n 'eventLogs': [],\n 'logsBloom': b'\\x00\\x00\\x00\\x00\\x00\\x00\\x00\\x00\\x00\\x00\\x00\\x00\\x00\\x00\\x00\\x00\\x00\\x00\\x00\\x00\\x00\\x00\\x00\\x00\\x00\\x00\\x00\\x00\\x00\\x00\\x00\\x00\\x00\\x00\\x00\\x00\\x00\\x00\\x00\\x00\\x00\\x00\\x00\\x00\\x00\\x00\\x00\\x00\\x00\\x00\\x00\\x00\\x00\\x00\\x00\\x00\\x00\\x00\\x00\\x00\\x00\\x00\\x00\\x00\\x00\\x00\\x00\\x00\\x00\\x00\\x00\\x00\\x00\\x00\\x00\\x00\\x00\\x00\\x00\\x00\\x00\\x00\\x00\\x00\\x00\\x00\\x00\\x00\\x00\\x00\\x00\\x00\\x00\\x00\\x00\\x00\\x00\\x00\\x00\\x00\\x00\\x00\\x00\\x00\\x00\\x00\\x00\\x00\\x00\\x00\\x00\\x00\\x00\\x00\\x00\\x00\\x00\\x00\\x00\\x00\\x00\\x00\\x00\\x00\\x00\\x00\\x00\\x00\\x00\\x00\\x00\\x00\\x00\\x00\\x00\\x00\\x00\\x00\\x00\\x00\\x00\\x00\\x00\\x00\\x00\\x00\\x00\\x00\\x00\\x00\\x00\\x00\\x00\\x00\\x00\\x00\\x00\\x00\\x00\\x00\\x00\\x00\\x00\\x00\\x00\\x00\\x00\\x00\\x00\\x00\\x00\\x00\\x00\\x00\\x00\\x00\\x00\\x00\\x00\\x00\\x00\\x00\\x00\\x00\\x00\\x00\\x00\\x00\\x00\\x00\\x00\\x00\\x00\\x00\\x00\\x00\\x00\\x00\\x00\\x00\\x00\\x00\\x00\\x00\\x00\\x00\\x00\\x00\\x00\\x00\\x00\\x00\\x00\\x00\\x00\\x00\\x00\\x00\\x00\\x00\\x00\\x00\\x00\\x00\\x00\\x00\\x00\\x00\\x00\\x00\\x00\\x00\\x00\\x00\\x00\\x00\\x00\\x00\\x00\\x00\\x00\\x00\\x00\\x00\\x00\\x00\\x00\\x00\\x00\\x00\\x00\\x00\\x00\\x00\\x00\\x00',\n 'status': 1}"
     },
     "metadata": {},
     "execution_count": 11
    }
   ],
   "source": [
    "#deploy = ['addressProvider', 'feeProvider', 'lendingPool', 'lendingPoolCore', 'lendingPoolDataProvider','oToken','priceOracle','sample_token', 'sicx', 'oICX', 'liquidationManager']\n",
    "#for contract_ in deploy:\n",
    "\n",
    "\n",
    "contract_ = 'lendingPoolDataProvider'\n",
    "if contract_ == 'oICX':\n",
    "    update = contracts['oICX']\n",
    "    contract_ = 'oToken' \n",
    "elif contract_ == 'oUSDb':\n",
    "    update = contracts['oUSDb']\n",
    "    contract_ = 'oToken' \n",
    "elif contract_ == 'oIUSDC':\n",
    "    update = contracts['oIUSDC']\n",
    "    contract_ = 'oToken' \n",
    "else:\n",
    "    update = contracts[contract_]\n",
    "#update = contracts[contract_]\n",
    "print('update',contract_, update)\n",
    "\n",
    "deploy_transaction = DeployTransactionBuilder()\\\n",
    "    .from_(deployer_wallet.get_address())\\\n",
    "    .to(update)\\\n",
    "    .nid(NID)\\\n",
    "    .nonce(100)\\\n",
    "    .content_type(\"application/zip\")\\\n",
    "    .content(gen_deploy_data_content(contract_))\\\n",
    "    .build()\n",
    "\n",
    "step_limit = icon_service.estimate_step(deploy_transaction) + 100000\n",
    "\n",
    "signed_transaction = SignedTransaction(deploy_transaction, deployer_wallet, step_limit)\n",
    "tx_hash = icon_service.send_transaction(signed_transaction)\n",
    "\n",
    "get_tx_result(tx_hash)\n"
   ]
  },
  {
   "cell_type": "markdown",
   "metadata": {},
   "source": [
    "# Configuring SCOREs's parameters"
   ]
  },
  {
   "cell_type": "code",
   "execution_count": 15,
   "metadata": {
    "scrolled": false,
    "slideshow": {
     "slide_type": "-"
    },
    "tags": []
   },
   "outputs": [],
   "source": [
    "settings = [{'contract': 'lendingPool', 'method': 'setLendingPoolCoreAddress', 'params':{'_address': contracts['lendingPoolCore']}},\n",
    "            {'contract': 'lendingPool', 'method': 'setDataProvider', 'params':{'_address': contracts['lendingPoolDataProvider']}},\n",
    "            {'contract': 'lendingPool', 'method': 'setFeeProvider', 'params':{'_address': contracts['feeProvider']}},\n",
    "            {'contract': 'lendingPool', 'method': 'setLiquidationManagerAddress','params': {'_address':contracts['liquidationManager']}},\n",
    "            {'contract': 'lendingPool', 'method': 'setStakingAddress', 'params':{'_address': contracts['staking']}},\n",
    "            {'contract': 'lendingPool', 'method': 'setOICXAddress', 'params':{'_address': contracts['oICX']}},\n",
    "            {'contract': 'feeProvider', 'method': 'setLoanOriginationFeePercentage', 'params':{'_percentage': 1*10**15}},\n",
    "            {'contract': 'lendingPoolDataProvider', 'method': 'setSymbol', 'params':{'_reserveAddress': contracts['sample_token'],'_sym':\"USDb\"}},\n",
    "            {'contract': 'lendingPoolDataProvider', 'method': 'setSymbol', 'params':{'_reserveAddress': contracts['sicx'],'_sym':\"ICX\"}},\n",
    "            {'contract': 'lendingPoolDataProvider', 'method': 'setLendingPoolCoreAddress', 'params':{'_address': contracts['lendingPoolCore']}},\n",
    "            {'contract': 'lendingPoolDataProvider', 'method': 'setOracleAddress', 'params':{'_address': contracts['priceOracle']}},\n",
    "            {'contract': 'lendingPoolDataProvider', 'method': 'setLendingPoolAddress', 'params':{'_address': contracts['lendingPool']}},\n",
    "            {'contract': 'lendingPoolDataProvider', 'method': 'setLiquidationAddress', 'params':{'_address': contracts['liquidationManager']}},\n",
    "            {'contract': 'lendingPoolDataProvider', 'method': 'setStakingAddress', 'params':{'_address': contracts['staking']}},\n",
    "            {'contract': 'oToken', 'method': 'setCoreAddress', 'params':{'_address':contracts['lendingPoolCore']}},\n",
    "            {'contract': 'oToken', 'method': 'setReserveAddress', 'params':{'_address':contracts['sample_token']}},\n",
    "            {'contract': 'oToken', 'method': 'setDataProviderAddress', 'params':{'_address':contracts['lendingPoolDataProvider']}},\n",
    "            {'contract': 'oToken', 'method': 'setLendingPoolAddress', 'params':{'_address':contracts['lendingPool']}},\n",
    "            {'contract': 'priceOracle', 'method': 'set_reference_data', 'params':{'_base':'USDb','_quote':'USD','_rate':1*10**18}},\n",
    "            {'contract': 'priceOracle', 'method': 'set_reference_data', 'params':{'_base':'ICX','_quote':'USD','_rate':5*10**17}},\n",
    "            {'contract': 'addressProvider', 'method': 'setLendingPool', 'params':{'_address':contracts['lendingPool']}},\n",
    "            {'contract': 'addressProvider', 'method': 'setLendingPoolDataProvider', 'params':{'_address':contracts['lendingPoolDataProvider']}},\n",
    "            {'contract': 'addressProvider', 'method': 'setUSDb', 'params':{'_address':contracts['sample_token']}},\n",
    "            {'contract': 'addressProvider', 'method': 'setoUSDb', 'params':{'_address':contracts['oToken']}},\n",
    "            {'contract': 'addressProvider', 'method': 'setsICX', 'params':{'_address':contracts['sicx']}},\n",
    "            {'contract': 'addressProvider', 'method': 'setoICX', 'params':{'_address':contracts['oICX']}},\n",
    "            {'contract': 'addressProvider', 'method': 'setStaking', 'params':{'_address':contracts['staking']}\n",
    "            {'contract': 'lendingPoolCore', 'method': 'setReserveConstants', 'params' :{\"_constants\": [{\"reserve\":contracts['sample_token'],\"optimalUtilizationRate\":f\"8{'0'*17}\",\"baseBorrowRate\":f\"2{'0'*16}\",\"slopeRate1\":f\"4{'0'*16}\",\"slopeRate2\":f\"1{'0'*18}\"} ]}},\n",
    "            {'contract': 'lendingPool', 'method': 'setSICXAddress', 'params':{'_address': contracts['sicx']}},  \n",
    "            {'contract': 'lendingPoolCore', 'method': 'setReserveConstants', 'params' :{\"_constants\": [{\"reserve\":contracts['sicx'],\"optimalUtilizationRate\":f\"6{'0'*17}\",\"baseBorrowRate\":f\"0{'0'*17}\",\"slopeRate1\":f\"8{'0'*16}\",\"slopeRate2\":f\"2{'0'*18}\"} ]}},\n",
    "            {'contract': 'oICX', 'method': 'setCoreAddress', 'params':{'_address':contracts['lendingPoolCore']}},\n",
    "            {'contract': 'oICX', 'method': 'setReserveAddress', 'params':{'_address':contracts['sicx']}},\n",
    "            {'contract': 'oICX', 'method': 'setDataProviderAddress', 'params':{'_address':contracts['lendingPoolDataProvider']}},\n",
    "            {'contract': 'oICX', 'method': 'setLendingPoolAddress', 'params':{'_address':contracts['lendingPool']}},\n",
    "            {'contract': 'liquidationManager', 'method': 'setDataProviderAddress', 'params': {'_address':contracts['lendingPoolDataProvider']}},\n",
    "            {'contract': 'liquidationManager', 'method': 'setCoreAddress', 'params': {'_address':contracts['lendingPoolCore']}},\n",
    "            {'contract': 'liquidationManager', 'method': 'setOracleAddress','params': {'_address':contracts['priceOracle']}},\n",
    "            {'contract': 'liquidationManager', 'method': 'setFeeProviderAddress','params': {'_address':contracts['feeProvider']}},]"
   ]
  },
  {
   "cell_type": "code",
   "execution_count": 18,
   "metadata": {
    "tags": []
   },
   "outputs": [
    {
     "output_type": "stream",
     "name": "stdout",
     "text": "{'addressProvider': 'cxdcbae76661c0edbf968d048c3bba3311bde57e37',\n 'feeProvider': 'cx52555a5dda72b98a3ed692b58761f68af9486073',\n 'iusdc': 'cx65f639254090820361da483df233f6d0e69af9b7',\n 'lendingPool': 'cx348b53ff3bb5c6411f8c3e7082cde123bd86c67e',\n 'lendingPoolCore': 'cxc15058ed8a262ff3b3a2400786848a3c32c274a5',\n 'lendingPoolDataProvider': 'cx45bd68dd4f903160f4c7f2c43791fa741debb582',\n 'liquidationManager': 'cx001794d12ea9170f4bb7a620e0a03a157f35a429',\n 'oICX': 'cx7dcf7232084a085507bf2685f785589ebb0b52a1',\n 'oIUSDC': 'cx17f109dc5aed3e97ba9309c8a4508e24e594a11b',\n 'oToken': 'cx77d34d57f7ea300637058ef65babc52da91376a4',\n 'oUSDb': 'cx1aef9c66e508cfc32282e27e645ace726e831bd3',\n 'priceOracle': 'cx0b57375df6a814ca3f589e91b15015f135fbd046',\n 'sample_token': 'cx9da823297393ecb193030b983ce334f25af20aac',\n 'sicx': 'cxb7eda227d9ed9c6fc2a74aa5dd7e9a3913f6c281',\n 'staking': 'cxadd9557a07d4aab925dd04b7a6da4ea1d67bef9c',\n 'usdb': 'cxaa068556df80f9917ef146e889f0b2c4b13ab634'}\n"
    }
   ],
   "source": [
    "contracts['iusdc']=\"cx65f639254090820361da483df233f6d0e69af9b7\"\n",
    "pprint(contracts)"
   ]
  },
  {
   "cell_type": "code",
   "execution_count": 41,
   "metadata": {},
   "outputs": [],
   "source": [
    "usdb_settings = [\n",
    "            {'contract': 'lendingPoolDataProvider', 'method': 'setSymbol', 'params':{'_reserveAddress': contracts['usdb'],'_sym':\"USDb\"}},\n",
    "            {'contract': 'oUSDb', 'method': 'setCoreAddress', 'params':{'_address':contracts['lendingPoolCore']}},\n",
    "            {'contract': 'oUSDb', 'method': 'setReserveAddress', 'params':{'_address':contracts['usdb']}},\n",
    "            {'contract': 'oUSDb', 'method': 'setDataProviderAddress', 'params':{'_address':contracts['lendingPoolDataProvider']}},\n",
    "            {'contract': 'oUSDb', 'method': 'setLendingPoolAddress', 'params':{'_address':contracts['lendingPool']}},\n",
    "            {'contract': 'priceOracle', 'method': 'set_reference_data', 'params':{'_base':'USDb','_quote':'USD','_rate':1*10**18}},\n",
    "            {'contract': 'addressProvider', 'method': 'setUSDb', 'params':{'_address':contracts['usdb']}},\n",
    "            {'contract': 'addressProvider', 'method': 'setoUSDb', 'params':{'_address':contracts['oUSDb']}},\n",
    "            {'contract': 'lendingPoolCore', 'method': 'setReserveConstants', 'params' :{\"_constants\": [{\"reserve\":contracts['usdb'],\"optimalUtilizationRate\":f\"8{'0'*17}\",\"baseBorrowRate\":f\"2{'0'*16}\",\"slopeRate1\":f\"4{'0'*16}\",\"slopeRate2\":f\"1{'0'*18}\"} ]}}]\n",
    "for sett in iusdc_settings:\n",
    "    print(f'\\n')\n",
    "    print(f'Calling {sett[\"method\"]}, with parameters {sett[\"params\"]} on the {sett[\"contract\"]} contract.')\n",
    "    transaction = CallTransactionBuilder()\\\n",
    "        .from_(deployer_wallet.get_address())\\\n",
    "        .to(contracts[sett['contract']])\\\n",
    "        .value(0)\\\n",
    "        .step_limit(10000000)\\\n",
    "        .nid(NID)\\\n",
    "        .nonce(100)\\\n",
    "        .method(sett['method'])\\\n",
    "        .params(sett['params'])\\\n",
    "        .build()\n",
    "    signed_transaction = SignedTransaction(transaction, deployer_wallet)\n",
    "    tx_hash = icon_service.send_transaction(signed_transaction)\n",
    "    tx_hash\n",
    "    print(get_tx_result(tx_hash))\n"
   ]
  },
  {
   "cell_type": "code",
   "execution_count": 25,
   "metadata": {
    "tags": []
   },
   "outputs": [
    {
     "output_type": "stream",
     "name": "stdout",
     "text": "\n\nCalling setSymbol, with parameters {'_reserveAddress': 'cx65f639254090820361da483df233f6d0e69af9b7', '_sym': 'USDC'} on the lendingPoolDataProvider contract.\nRaised JSONRPCException while returning the custom response. Error message: {'code': -32602, 'message': 'Pending transaction'}\n{'code': -32602, 'message': 'Pending transaction'} (Json rpc error), Retrying in 1 seconds...\n{'txHash': '0x3a49675ef5033d3b3a9de28554e076c9dcbf23afa6fa296fee77026c77b78d3e', 'blockHeight': 13316556, 'blockHash': '0x3e144fc73eefd39a2c7130a073230a1721280b6ff0eaa6b397c2452477129b49', 'txIndex': 1, 'to': 'cx45bd68dd4f903160f4c7f2c43791fa741debb582', 'stepUsed': 147320, 'stepPrice': 10000000000, 'cumulativeStepUsed': 147320, 'eventLogs': [], 'logsBloom': b'\\x00\\x00\\x00\\x00\\x00\\x00\\x00\\x00\\x00\\x00\\x00\\x00\\x00\\x00\\x00\\x00\\x00\\x00\\x00\\x00\\x00\\x00\\x00\\x00\\x00\\x00\\x00\\x00\\x00\\x00\\x00\\x00\\x00\\x00\\x00\\x00\\x00\\x00\\x00\\x00\\x00\\x00\\x00\\x00\\x00\\x00\\x00\\x00\\x00\\x00\\x00\\x00\\x00\\x00\\x00\\x00\\x00\\x00\\x00\\x00\\x00\\x00\\x00\\x00\\x00\\x00\\x00\\x00\\x00\\x00\\x00\\x00\\x00\\x00\\x00\\x00\\x00\\x00\\x00\\x00\\x00\\x00\\x00\\x00\\x00\\x00\\x00\\x00\\x00\\x00\\x00\\x00\\x00\\x00\\x00\\x00\\x00\\x00\\x00\\x00\\x00\\x00\\x00\\x00\\x00\\x00\\x00\\x00\\x00\\x00\\x00\\x00\\x00\\x00\\x00\\x00\\x00\\x00\\x00\\x00\\x00\\x00\\x00\\x00\\x00\\x00\\x00\\x00\\x00\\x00\\x00\\x00\\x00\\x00\\x00\\x00\\x00\\x00\\x00\\x00\\x00\\x00\\x00\\x00\\x00\\x00\\x00\\x00\\x00\\x00\\x00\\x00\\x00\\x00\\x00\\x00\\x00\\x00\\x00\\x00\\x00\\x00\\x00\\x00\\x00\\x00\\x00\\x00\\x00\\x00\\x00\\x00\\x00\\x00\\x00\\x00\\x00\\x00\\x00\\x00\\x00\\x00\\x00\\x00\\x00\\x00\\x00\\x00\\x00\\x00\\x00\\x00\\x00\\x00\\x00\\x00\\x00\\x00\\x00\\x00\\x00\\x00\\x00\\x00\\x00\\x00\\x00\\x00\\x00\\x00\\x00\\x00\\x00\\x00\\x00\\x00\\x00\\x00\\x00\\x00\\x00\\x00\\x00\\x00\\x00\\x00\\x00\\x00\\x00\\x00\\x00\\x00\\x00\\x00\\x00\\x00\\x00\\x00\\x00\\x00\\x00\\x00\\x00\\x00\\x00\\x00\\x00\\x00\\x00\\x00\\x00\\x00\\x00\\x00\\x00\\x00', 'status': 1}\n\n\nCalling setCoreAddress, with parameters {'_address': 'cxc15058ed8a262ff3b3a2400786848a3c32c274a5'} on the oIUSDC contract.\nRaised JSONRPCException while returning the custom response. Error message: {'code': -32602, 'message': 'Pending transaction'}\n{'code': -32602, 'message': 'Pending transaction'} (Json rpc error), Retrying in 1 seconds...\n{'txHash': '0xa82f510d61eba3653a024a0453e9aa6c0839f571f58b1b04619af92ad5f21e9b', 'blockHeight': 13316558, 'blockHash': '0x8a133237b9bf71c484ca25ffdb339e2e433218ffb5b0389ba129a5a9b904f78c', 'txIndex': 1, 'to': 'cx147b13e34e1041852ffbd0e4d03523c64ad9b5a7', 'stepUsed': 145480, 'stepPrice': 10000000000, 'cumulativeStepUsed': 145480, 'eventLogs': [], 'logsBloom': b'\\x00\\x00\\x00\\x00\\x00\\x00\\x00\\x00\\x00\\x00\\x00\\x00\\x00\\x00\\x00\\x00\\x00\\x00\\x00\\x00\\x00\\x00\\x00\\x00\\x00\\x00\\x00\\x00\\x00\\x00\\x00\\x00\\x00\\x00\\x00\\x00\\x00\\x00\\x00\\x00\\x00\\x00\\x00\\x00\\x00\\x00\\x00\\x00\\x00\\x00\\x00\\x00\\x00\\x00\\x00\\x00\\x00\\x00\\x00\\x00\\x00\\x00\\x00\\x00\\x00\\x00\\x00\\x00\\x00\\x00\\x00\\x00\\x00\\x00\\x00\\x00\\x00\\x00\\x00\\x00\\x00\\x00\\x00\\x00\\x00\\x00\\x00\\x00\\x00\\x00\\x00\\x00\\x00\\x00\\x00\\x00\\x00\\x00\\x00\\x00\\x00\\x00\\x00\\x00\\x00\\x00\\x00\\x00\\x00\\x00\\x00\\x00\\x00\\x00\\x00\\x00\\x00\\x00\\x00\\x00\\x00\\x00\\x00\\x00\\x00\\x00\\x00\\x00\\x00\\x00\\x00\\x00\\x00\\x00\\x00\\x00\\x00\\x00\\x00\\x00\\x00\\x00\\x00\\x00\\x00\\x00\\x00\\x00\\x00\\x00\\x00\\x00\\x00\\x00\\x00\\x00\\x00\\x00\\x00\\x00\\x00\\x00\\x00\\x00\\x00\\x00\\x00\\x00\\x00\\x00\\x00\\x00\\x00\\x00\\x00\\x00\\x00\\x00\\x00\\x00\\x00\\x00\\x00\\x00\\x00\\x00\\x00\\x00\\x00\\x00\\x00\\x00\\x00\\x00\\x00\\x00\\x00\\x00\\x00\\x00\\x00\\x00\\x00\\x00\\x00\\x00\\x00\\x00\\x00\\x00\\x00\\x00\\x00\\x00\\x00\\x00\\x00\\x00\\x00\\x00\\x00\\x00\\x00\\x00\\x00\\x00\\x00\\x00\\x00\\x00\\x00\\x00\\x00\\x00\\x00\\x00\\x00\\x00\\x00\\x00\\x00\\x00\\x00\\x00\\x00\\x00\\x00\\x00\\x00\\x00\\x00\\x00\\x00\\x00\\x00\\x00', 'status': 1}\n\n\nCalling setReserveAddress, with parameters {'_address': 'cx65f639254090820361da483df233f6d0e69af9b7'} on the oIUSDC contract.\nRaised JSONRPCException while returning the custom response. Error message: {'code': -32602, 'message': 'Pending transaction'}\n{'code': -32602, 'message': 'Pending transaction'} (Json rpc error), Retrying in 1 seconds...\nRaised JSONRPCException while returning the custom response. Error message: {'code': -32602, 'message': 'Pending transaction'}\n{'code': -32602, 'message': 'Pending transaction'} (Json rpc error), Retrying in 2 seconds...\n{'txHash': '0x8007593955d2f200c142dda5697da96564a346446f6c14408df9809525880eb9', 'blockHeight': 13316561, 'blockHash': '0x323e7655a8997945b68b081b1cab9dc65847bb48ef4c9a979ce2f046c0d99611', 'txIndex': 1, 'to': 'cx147b13e34e1041852ffbd0e4d03523c64ad9b5a7', 'stepUsed': 146080, 'stepPrice': 10000000000, 'cumulativeStepUsed': 146080, 'eventLogs': [], 'logsBloom': b'\\x00\\x00\\x00\\x00\\x00\\x00\\x00\\x00\\x00\\x00\\x00\\x00\\x00\\x00\\x00\\x00\\x00\\x00\\x00\\x00\\x00\\x00\\x00\\x00\\x00\\x00\\x00\\x00\\x00\\x00\\x00\\x00\\x00\\x00\\x00\\x00\\x00\\x00\\x00\\x00\\x00\\x00\\x00\\x00\\x00\\x00\\x00\\x00\\x00\\x00\\x00\\x00\\x00\\x00\\x00\\x00\\x00\\x00\\x00\\x00\\x00\\x00\\x00\\x00\\x00\\x00\\x00\\x00\\x00\\x00\\x00\\x00\\x00\\x00\\x00\\x00\\x00\\x00\\x00\\x00\\x00\\x00\\x00\\x00\\x00\\x00\\x00\\x00\\x00\\x00\\x00\\x00\\x00\\x00\\x00\\x00\\x00\\x00\\x00\\x00\\x00\\x00\\x00\\x00\\x00\\x00\\x00\\x00\\x00\\x00\\x00\\x00\\x00\\x00\\x00\\x00\\x00\\x00\\x00\\x00\\x00\\x00\\x00\\x00\\x00\\x00\\x00\\x00\\x00\\x00\\x00\\x00\\x00\\x00\\x00\\x00\\x00\\x00\\x00\\x00\\x00\\x00\\x00\\x00\\x00\\x00\\x00\\x00\\x00\\x00\\x00\\x00\\x00\\x00\\x00\\x00\\x00\\x00\\x00\\x00\\x00\\x00\\x00\\x00\\x00\\x00\\x00\\x00\\x00\\x00\\x00\\x00\\x00\\x00\\x00\\x00\\x00\\x00\\x00\\x00\\x00\\x00\\x00\\x00\\x00\\x00\\x00\\x00\\x00\\x00\\x00\\x00\\x00\\x00\\x00\\x00\\x00\\x00\\x00\\x00\\x00\\x00\\x00\\x00\\x00\\x00\\x00\\x00\\x00\\x00\\x00\\x00\\x00\\x00\\x00\\x00\\x00\\x00\\x00\\x00\\x00\\x00\\x00\\x00\\x00\\x00\\x00\\x00\\x00\\x00\\x00\\x00\\x00\\x00\\x00\\x00\\x00\\x00\\x00\\x00\\x00\\x00\\x00\\x00\\x00\\x00\\x00\\x00\\x00\\x00\\x00\\x00\\x00\\x00\\x00\\x00', 'status': 1}\n\n\nCalling setDataProviderAddress, with parameters {'_address': 'cx45bd68dd4f903160f4c7f2c43791fa741debb582'} on the oIUSDC contract.\nRaised JSONRPCException while returning the custom response. Error message: {'code': -32602, 'message': 'Pending transaction'}\n{'code': -32602, 'message': 'Pending transaction'} (Json rpc error), Retrying in 1 seconds...\nRaised JSONRPCException while returning the custom response. Error message: {'code': -32602, 'message': 'Pending transaction'}\n{'code': -32602, 'message': 'Pending transaction'} (Json rpc error), Retrying in 2 seconds...\n{'txHash': '0x25cac357b5c475816954ea938ac2082c172e7904d16d0225c10d05f9c58578ed', 'blockHeight': 13316565, 'blockHash': '0x9ebf232dde4087691c842e4aba3404777f7aae477f940721d12c231336abe016', 'txIndex': 1, 'to': 'cx147b13e34e1041852ffbd0e4d03523c64ad9b5a7', 'stepUsed': 147080, 'stepPrice': 10000000000, 'cumulativeStepUsed': 147080, 'eventLogs': [], 'logsBloom': b'\\x00\\x00\\x00\\x00\\x00\\x00\\x00\\x00\\x00\\x00\\x00\\x00\\x00\\x00\\x00\\x00\\x00\\x00\\x00\\x00\\x00\\x00\\x00\\x00\\x00\\x00\\x00\\x00\\x00\\x00\\x00\\x00\\x00\\x00\\x00\\x00\\x00\\x00\\x00\\x00\\x00\\x00\\x00\\x00\\x00\\x00\\x00\\x00\\x00\\x00\\x00\\x00\\x00\\x00\\x00\\x00\\x00\\x00\\x00\\x00\\x00\\x00\\x00\\x00\\x00\\x00\\x00\\x00\\x00\\x00\\x00\\x00\\x00\\x00\\x00\\x00\\x00\\x00\\x00\\x00\\x00\\x00\\x00\\x00\\x00\\x00\\x00\\x00\\x00\\x00\\x00\\x00\\x00\\x00\\x00\\x00\\x00\\x00\\x00\\x00\\x00\\x00\\x00\\x00\\x00\\x00\\x00\\x00\\x00\\x00\\x00\\x00\\x00\\x00\\x00\\x00\\x00\\x00\\x00\\x00\\x00\\x00\\x00\\x00\\x00\\x00\\x00\\x00\\x00\\x00\\x00\\x00\\x00\\x00\\x00\\x00\\x00\\x00\\x00\\x00\\x00\\x00\\x00\\x00\\x00\\x00\\x00\\x00\\x00\\x00\\x00\\x00\\x00\\x00\\x00\\x00\\x00\\x00\\x00\\x00\\x00\\x00\\x00\\x00\\x00\\x00\\x00\\x00\\x00\\x00\\x00\\x00\\x00\\x00\\x00\\x00\\x00\\x00\\x00\\x00\\x00\\x00\\x00\\x00\\x00\\x00\\x00\\x00\\x00\\x00\\x00\\x00\\x00\\x00\\x00\\x00\\x00\\x00\\x00\\x00\\x00\\x00\\x00\\x00\\x00\\x00\\x00\\x00\\x00\\x00\\x00\\x00\\x00\\x00\\x00\\x00\\x00\\x00\\x00\\x00\\x00\\x00\\x00\\x00\\x00\\x00\\x00\\x00\\x00\\x00\\x00\\x00\\x00\\x00\\x00\\x00\\x00\\x00\\x00\\x00\\x00\\x00\\x00\\x00\\x00\\x00\\x00\\x00\\x00\\x00\\x00\\x00\\x00\\x00\\x00\\x00', 'status': 1}\n\n\nCalling setLendingPoolAddress, with parameters {'_address': 'cx348b53ff3bb5c6411f8c3e7082cde123bd86c67e'} on the oIUSDC contract.\nRaised JSONRPCException while returning the custom response. Error message: {'code': -32602, 'message': 'Pending transaction'}\n{'code': -32602, 'message': 'Pending transaction'} (Json rpc error), Retrying in 1 seconds...\nRaised JSONRPCException while returning the custom response. Error message: {'code': -32602, 'message': 'Pending transaction'}\n{'code': -32602, 'message': 'Pending transaction'} (Json rpc error), Retrying in 2 seconds...\n{'txHash': '0xe63ec3c4183dc2b0f70fa1914e5df1df2e7032a526b6ba4e692c9132bcfe6f61', 'blockHeight': 13316569, 'blockHash': '0x58167099626102cf6984c35e003b326c5d21eb572b00a21cc72c12a93a6ef7e6', 'txIndex': 1, 'to': 'cx147b13e34e1041852ffbd0e4d03523c64ad9b5a7', 'stepUsed': 146880, 'stepPrice': 10000000000, 'cumulativeStepUsed': 146880, 'eventLogs': [], 'logsBloom': b'\\x00\\x00\\x00\\x00\\x00\\x00\\x00\\x00\\x00\\x00\\x00\\x00\\x00\\x00\\x00\\x00\\x00\\x00\\x00\\x00\\x00\\x00\\x00\\x00\\x00\\x00\\x00\\x00\\x00\\x00\\x00\\x00\\x00\\x00\\x00\\x00\\x00\\x00\\x00\\x00\\x00\\x00\\x00\\x00\\x00\\x00\\x00\\x00\\x00\\x00\\x00\\x00\\x00\\x00\\x00\\x00\\x00\\x00\\x00\\x00\\x00\\x00\\x00\\x00\\x00\\x00\\x00\\x00\\x00\\x00\\x00\\x00\\x00\\x00\\x00\\x00\\x00\\x00\\x00\\x00\\x00\\x00\\x00\\x00\\x00\\x00\\x00\\x00\\x00\\x00\\x00\\x00\\x00\\x00\\x00\\x00\\x00\\x00\\x00\\x00\\x00\\x00\\x00\\x00\\x00\\x00\\x00\\x00\\x00\\x00\\x00\\x00\\x00\\x00\\x00\\x00\\x00\\x00\\x00\\x00\\x00\\x00\\x00\\x00\\x00\\x00\\x00\\x00\\x00\\x00\\x00\\x00\\x00\\x00\\x00\\x00\\x00\\x00\\x00\\x00\\x00\\x00\\x00\\x00\\x00\\x00\\x00\\x00\\x00\\x00\\x00\\x00\\x00\\x00\\x00\\x00\\x00\\x00\\x00\\x00\\x00\\x00\\x00\\x00\\x00\\x00\\x00\\x00\\x00\\x00\\x00\\x00\\x00\\x00\\x00\\x00\\x00\\x00\\x00\\x00\\x00\\x00\\x00\\x00\\x00\\x00\\x00\\x00\\x00\\x00\\x00\\x00\\x00\\x00\\x00\\x00\\x00\\x00\\x00\\x00\\x00\\x00\\x00\\x00\\x00\\x00\\x00\\x00\\x00\\x00\\x00\\x00\\x00\\x00\\x00\\x00\\x00\\x00\\x00\\x00\\x00\\x00\\x00\\x00\\x00\\x00\\x00\\x00\\x00\\x00\\x00\\x00\\x00\\x00\\x00\\x00\\x00\\x00\\x00\\x00\\x00\\x00\\x00\\x00\\x00\\x00\\x00\\x00\\x00\\x00\\x00\\x00\\x00\\x00\\x00\\x00', 'status': 1}\n\n\nCalling set_reference_data, with parameters {'_base': 'USDC', '_quote': 'USD', '_rate': 1000000000000000000} on the priceOracle contract.\nRaised JSONRPCException while returning the custom response. Error message: {'code': -32602, 'message': 'Pending transaction'}\n{'code': -32602, 'message': 'Pending transaction'} (Json rpc error), Retrying in 1 seconds...\n{'txHash': '0xa0d3adb20f2bd5b86183db49314fbeaef6f0b64adc90e224b09d9bca90138361', 'blockHeight': 13316573, 'blockHash': '0xf5869e5fe5d9bac2948c74239c12f378716c5810d7576a09b3a71efb9c90f25e', 'txIndex': 1, 'to': 'cx0b57375df6a814ca3f589e91b15015f135fbd046', 'stepUsed': 147560, 'stepPrice': 10000000000, 'cumulativeStepUsed': 147560, 'eventLogs': [], 'logsBloom': b'\\x00\\x00\\x00\\x00\\x00\\x00\\x00\\x00\\x00\\x00\\x00\\x00\\x00\\x00\\x00\\x00\\x00\\x00\\x00\\x00\\x00\\x00\\x00\\x00\\x00\\x00\\x00\\x00\\x00\\x00\\x00\\x00\\x00\\x00\\x00\\x00\\x00\\x00\\x00\\x00\\x00\\x00\\x00\\x00\\x00\\x00\\x00\\x00\\x00\\x00\\x00\\x00\\x00\\x00\\x00\\x00\\x00\\x00\\x00\\x00\\x00\\x00\\x00\\x00\\x00\\x00\\x00\\x00\\x00\\x00\\x00\\x00\\x00\\x00\\x00\\x00\\x00\\x00\\x00\\x00\\x00\\x00\\x00\\x00\\x00\\x00\\x00\\x00\\x00\\x00\\x00\\x00\\x00\\x00\\x00\\x00\\x00\\x00\\x00\\x00\\x00\\x00\\x00\\x00\\x00\\x00\\x00\\x00\\x00\\x00\\x00\\x00\\x00\\x00\\x00\\x00\\x00\\x00\\x00\\x00\\x00\\x00\\x00\\x00\\x00\\x00\\x00\\x00\\x00\\x00\\x00\\x00\\x00\\x00\\x00\\x00\\x00\\x00\\x00\\x00\\x00\\x00\\x00\\x00\\x00\\x00\\x00\\x00\\x00\\x00\\x00\\x00\\x00\\x00\\x00\\x00\\x00\\x00\\x00\\x00\\x00\\x00\\x00\\x00\\x00\\x00\\x00\\x00\\x00\\x00\\x00\\x00\\x00\\x00\\x00\\x00\\x00\\x00\\x00\\x00\\x00\\x00\\x00\\x00\\x00\\x00\\x00\\x00\\x00\\x00\\x00\\x00\\x00\\x00\\x00\\x00\\x00\\x00\\x00\\x00\\x00\\x00\\x00\\x00\\x00\\x00\\x00\\x00\\x00\\x00\\x00\\x00\\x00\\x00\\x00\\x00\\x00\\x00\\x00\\x00\\x00\\x00\\x00\\x00\\x00\\x00\\x00\\x00\\x00\\x00\\x00\\x00\\x00\\x00\\x00\\x00\\x00\\x00\\x00\\x00\\x00\\x00\\x00\\x00\\x00\\x00\\x00\\x00\\x00\\x00\\x00\\x00\\x00\\x00\\x00\\x00', 'status': 1}\n\n\nCalling setIUSDC, with parameters {'_address': 'cx65f639254090820361da483df233f6d0e69af9b7'} on the addressProvider contract.\nRaised JSONRPCException while returning the custom response. Error message: {'code': -32602, 'message': 'Pending transaction'}\n{'code': -32602, 'message': 'Pending transaction'} (Json rpc error), Retrying in 1 seconds...\nRaised JSONRPCException while returning the custom response. Error message: {'code': -32602, 'message': 'Pending transaction'}\n{'code': -32602, 'message': 'Pending transaction'} (Json rpc error), Retrying in 2 seconds...\n{'txHash': '0xde4b1ae597dae83b881fd8b6dd5467767937f57c3c35842eca88140ba0aa0e44', 'blockHeight': 13316576, 'blockHash': '0xc7ae3ac4efcc821683c162182e758e3f536b14b28704776696cd2ef6fce11a37', 'txIndex': 1, 'to': 'cxdcbae76661c0edbf968d048c3bba3311bde57e37', 'stepUsed': 144280, 'stepPrice': 10000000000, 'cumulativeStepUsed': 144280, 'eventLogs': [], 'logsBloom': b'\\x00\\x00\\x00\\x00\\x00\\x00\\x00\\x00\\x00\\x00\\x00\\x00\\x00\\x00\\x00\\x00\\x00\\x00\\x00\\x00\\x00\\x00\\x00\\x00\\x00\\x00\\x00\\x00\\x00\\x00\\x00\\x00\\x00\\x00\\x00\\x00\\x00\\x00\\x00\\x00\\x00\\x00\\x00\\x00\\x00\\x00\\x00\\x00\\x00\\x00\\x00\\x00\\x00\\x00\\x00\\x00\\x00\\x00\\x00\\x00\\x00\\x00\\x00\\x00\\x00\\x00\\x00\\x00\\x00\\x00\\x00\\x00\\x00\\x00\\x00\\x00\\x00\\x00\\x00\\x00\\x00\\x00\\x00\\x00\\x00\\x00\\x00\\x00\\x00\\x00\\x00\\x00\\x00\\x00\\x00\\x00\\x00\\x00\\x00\\x00\\x00\\x00\\x00\\x00\\x00\\x00\\x00\\x00\\x00\\x00\\x00\\x00\\x00\\x00\\x00\\x00\\x00\\x00\\x00\\x00\\x00\\x00\\x00\\x00\\x00\\x00\\x00\\x00\\x00\\x00\\x00\\x00\\x00\\x00\\x00\\x00\\x00\\x00\\x00\\x00\\x00\\x00\\x00\\x00\\x00\\x00\\x00\\x00\\x00\\x00\\x00\\x00\\x00\\x00\\x00\\x00\\x00\\x00\\x00\\x00\\x00\\x00\\x00\\x00\\x00\\x00\\x00\\x00\\x00\\x00\\x00\\x00\\x00\\x00\\x00\\x00\\x00\\x00\\x00\\x00\\x00\\x00\\x00\\x00\\x00\\x00\\x00\\x00\\x00\\x00\\x00\\x00\\x00\\x00\\x00\\x00\\x00\\x00\\x00\\x00\\x00\\x00\\x00\\x00\\x00\\x00\\x00\\x00\\x00\\x00\\x00\\x00\\x00\\x00\\x00\\x00\\x00\\x00\\x00\\x00\\x00\\x00\\x00\\x00\\x00\\x00\\x00\\x00\\x00\\x00\\x00\\x00\\x00\\x00\\x00\\x00\\x00\\x00\\x00\\x00\\x00\\x00\\x00\\x00\\x00\\x00\\x00\\x00\\x00\\x00\\x00\\x00\\x00\\x00\\x00\\x00', 'status': 1}\n\n\nCalling setoIUSDC, with parameters {'_address': 'cx147b13e34e1041852ffbd0e4d03523c64ad9b5a7'} on the addressProvider contract.\nRaised JSONRPCException while returning the custom response. Error message: {'code': -32602, 'message': 'Pending transaction'}\n{'code': -32602, 'message': 'Pending transaction'} (Json rpc error), Retrying in 1 seconds...\n{'txHash': '0x6da8f21ff3d6b8bd1d8f1c150491ac5fb3477bea7cf3946a2ff937c9caae410a', 'blockHeight': 13316580, 'blockHash': '0x54c94c2a3f62cfea54eff53cd474e8fe7b55fa9a8c2edb1e31a40ea772ebf7fb', 'txIndex': 2, 'to': 'cxdcbae76661c0edbf968d048c3bba3311bde57e37', 'stepUsed': 144480, 'stepPrice': 10000000000, 'cumulativeStepUsed': 402080, 'eventLogs': [], 'logsBloom': b'\\x00\\x00\\x00\\x00\\x00\\x00\\x00\\x00\\x00\\x00\\x00\\x00\\x00\\x00\\x00\\x00\\x00\\x00\\x00\\x00\\x00\\x00\\x00\\x00\\x00\\x00\\x00\\x00\\x00\\x00\\x00\\x00\\x00\\x00\\x00\\x00\\x00\\x00\\x00\\x00\\x00\\x00\\x00\\x00\\x00\\x00\\x00\\x00\\x00\\x00\\x00\\x00\\x00\\x00\\x00\\x00\\x00\\x00\\x00\\x00\\x00\\x00\\x00\\x00\\x00\\x00\\x00\\x00\\x00\\x00\\x00\\x00\\x00\\x00\\x00\\x00\\x00\\x00\\x00\\x00\\x00\\x00\\x00\\x00\\x00\\x00\\x00\\x00\\x00\\x00\\x00\\x00\\x00\\x00\\x00\\x00\\x00\\x00\\x00\\x00\\x00\\x00\\x00\\x00\\x00\\x00\\x00\\x00\\x00\\x00\\x00\\x00\\x00\\x00\\x00\\x00\\x00\\x00\\x00\\x00\\x00\\x00\\x00\\x00\\x00\\x00\\x00\\x00\\x00\\x00\\x00\\x00\\x00\\x00\\x00\\x00\\x00\\x00\\x00\\x00\\x00\\x00\\x00\\x00\\x00\\x00\\x00\\x00\\x00\\x00\\x00\\x00\\x00\\x00\\x00\\x00\\x00\\x00\\x00\\x00\\x00\\x00\\x00\\x00\\x00\\x00\\x00\\x00\\x00\\x00\\x00\\x00\\x00\\x00\\x00\\x00\\x00\\x00\\x00\\x00\\x00\\x00\\x00\\x00\\x00\\x00\\x00\\x00\\x00\\x00\\x00\\x00\\x00\\x00\\x00\\x00\\x00\\x00\\x00\\x00\\x00\\x00\\x00\\x00\\x00\\x00\\x00\\x00\\x00\\x00\\x00\\x00\\x00\\x00\\x00\\x00\\x00\\x00\\x00\\x00\\x00\\x00\\x00\\x00\\x00\\x00\\x00\\x00\\x00\\x00\\x00\\x00\\x00\\x00\\x00\\x00\\x00\\x00\\x00\\x00\\x00\\x00\\x00\\x00\\x00\\x00\\x00\\x00\\x00\\x00\\x00\\x00\\x00\\x00\\x00\\x00', 'status': 1}\n\n\nCalling setReserveConstants, with parameters {'_constants': [{'reserve': 'cx65f639254090820361da483df233f6d0e69af9b7', 'optimalUtilizationRate': '800000000000000000', 'baseBorrowRate': '20000000000000000', 'slopeRate1': '40000000000000000', 'slopeRate2': '1000000000000000000'}]} on the lendingPoolCore contract.\nRaised JSONRPCException while returning the custom response. Error message: {'code': -32602, 'message': 'Pending transaction'}\n{'code': -32602, 'message': 'Pending transaction'} (Json rpc error), Retrying in 1 seconds...\nRaised JSONRPCException while returning the custom response. Error message: {'code': -32602, 'message': 'Pending transaction'}\n{'code': -32602, 'message': 'Pending transaction'} (Json rpc error), Retrying in 2 seconds...\n{'txHash': '0x0344065dd5eefd95dc6923b8cf0f9a119f86899181cd469422a44752d0b8fd50', 'blockHeight': 13316583, 'blockHash': '0x67f11a64025c6b844abf4de047faca5a2f2312288351c3c4e61115f9b723026e', 'txIndex': 1, 'to': 'cxc15058ed8a262ff3b3a2400786848a3c32c274a5', 'stepUsed': 180680, 'stepPrice': 10000000000, 'cumulativeStepUsed': 180680, 'eventLogs': [], 'logsBloom': b'\\x00\\x00\\x00\\x00\\x00\\x00\\x00\\x00\\x00\\x00\\x00\\x00\\x00\\x00\\x00\\x00\\x00\\x00\\x00\\x00\\x00\\x00\\x00\\x00\\x00\\x00\\x00\\x00\\x00\\x00\\x00\\x00\\x00\\x00\\x00\\x00\\x00\\x00\\x00\\x00\\x00\\x00\\x00\\x00\\x00\\x00\\x00\\x00\\x00\\x00\\x00\\x00\\x00\\x00\\x00\\x00\\x00\\x00\\x00\\x00\\x00\\x00\\x00\\x00\\x00\\x00\\x00\\x00\\x00\\x00\\x00\\x00\\x00\\x00\\x00\\x00\\x00\\x00\\x00\\x00\\x00\\x00\\x00\\x00\\x00\\x00\\x00\\x00\\x00\\x00\\x00\\x00\\x00\\x00\\x00\\x00\\x00\\x00\\x00\\x00\\x00\\x00\\x00\\x00\\x00\\x00\\x00\\x00\\x00\\x00\\x00\\x00\\x00\\x00\\x00\\x00\\x00\\x00\\x00\\x00\\x00\\x00\\x00\\x00\\x00\\x00\\x00\\x00\\x00\\x00\\x00\\x00\\x00\\x00\\x00\\x00\\x00\\x00\\x00\\x00\\x00\\x00\\x00\\x00\\x00\\x00\\x00\\x00\\x00\\x00\\x00\\x00\\x00\\x00\\x00\\x00\\x00\\x00\\x00\\x00\\x00\\x00\\x00\\x00\\x00\\x00\\x00\\x00\\x00\\x00\\x00\\x00\\x00\\x00\\x00\\x00\\x00\\x00\\x00\\x00\\x00\\x00\\x00\\x00\\x00\\x00\\x00\\x00\\x00\\x00\\x00\\x00\\x00\\x00\\x00\\x00\\x00\\x00\\x00\\x00\\x00\\x00\\x00\\x00\\x00\\x00\\x00\\x00\\x00\\x00\\x00\\x00\\x00\\x00\\x00\\x00\\x00\\x00\\x00\\x00\\x00\\x00\\x00\\x00\\x00\\x00\\x00\\x00\\x00\\x00\\x00\\x00\\x00\\x00\\x00\\x00\\x00\\x00\\x00\\x00\\x00\\x00\\x00\\x00\\x00\\x00\\x00\\x00\\x00\\x00\\x00\\x00\\x00\\x00\\x00\\x00', 'status': 1}\n"
    }
   ],
   "source": [
    "iusdc_settings = [\n",
    "            {'contract': 'lendingPoolDataProvider', 'method': 'setSymbol', 'params':{'_reserveAddress': contracts['iusdc'],'_sym':\"USDC\"}},\n",
    "            {'contract': 'oIUSDC', 'method': 'setCoreAddress', 'params':{'_address':contracts['lendingPoolCore']}},\n",
    "            {'contract': 'oIUSDC', 'method': 'setReserveAddress', 'params':{'_address':contracts['iusdc']}},\n",
    "            {'contract': 'oIUSDC', 'method': 'setDataProviderAddress', 'params':{'_address':contracts['lendingPoolDataProvider']}},\n",
    "            {'contract': 'oIUSDC', 'method': 'setLendingPoolAddress', 'params':{'_address':contracts['lendingPool']}},\n",
    "            {'contract': 'priceOracle', 'method': 'set_reference_data', 'params':{'_base':'USDC','_quote':'USD','_rate':1*10**18}},\n",
    "            {'contract': 'addressProvider', 'method': 'setIUSDC', 'params':{'_address':contracts['iusdc']}},\n",
    "            {'contract': 'addressProvider', 'method': 'setoIUSDC', 'params':{'_address':contracts['oIUSDC']}},\n",
    "            {'contract': 'lendingPoolCore', 'method': 'setReserveConstants', 'params' :{\"_constants\": [{\"reserve\":contracts['iusdc'],\"optimalUtilizationRate\":f\"8{'0'*17}\",\"baseBorrowRate\":f\"2{'0'*16}\",\"slopeRate1\":f\"4{'0'*16}\",\"slopeRate2\":f\"1{'0'*18}\"} ]}}]\n",
    "for sett in iusdc_settings:\n",
    "    print(f'\\n')\n",
    "    print(f'Calling {sett[\"method\"]}, with parameters {sett[\"params\"]} on the {sett[\"contract\"]} contract.')\n",
    "    transaction = CallTransactionBuilder()\\\n",
    "        .from_(deployer_wallet.get_address())\\\n",
    "        .to(contracts[sett['contract']])\\\n",
    "        .value(0)\\\n",
    "        .step_limit(10000000)\\\n",
    "        .nid(NID)\\\n",
    "        .nonce(100)\\\n",
    "        .method(sett['method'])\\\n",
    "        .params(sett['params'])\\\n",
    "        .build()\n",
    "    signed_transaction = SignedTransaction(transaction, deployer_wallet)\n",
    "    tx_hash = icon_service.send_transaction(signed_transaction)\n",
    "    tx_hash\n",
    "    print(get_tx_result(tx_hash))"
   ]
  },
  {
   "cell_type": "code",
   "execution_count": 42,
   "metadata": {
    "tags": []
   },
   "outputs": [
    {
     "output_type": "stream",
     "name": "stdout",
     "text": "\n\nCalling setSymbol, with parameters {'_reserveAddress': 'cxaa068556df80f9917ef146e889f0b2c4b13ab634', '_sym': 'USDb'} on the lendingPoolDataProvider contract.\nRaised JSONRPCException while returning the custom response. Error message: {'code': -32602, 'message': 'Pending transaction'}\n{'code': -32602, 'message': 'Pending transaction'} (Json rpc error), Retrying in 1 seconds...\nRaised JSONRPCException while returning the custom response. Error message: {'code': -32602, 'message': 'Pending transaction'}\n{'code': -32602, 'message': 'Pending transaction'} (Json rpc error), Retrying in 2 seconds...\n{'txHash': '0xd43a330d7b602ada103f04e9ead2f5a67245a406375ac62ccb3adff500ed92bc', 'blockHeight': 11798983, 'blockHash': '0xda80af67633b4675cfad2ed0b12e192cb3e760824354bbebacd3f91545b37885', 'txIndex': 1, 'to': 'cx45bd68dd4f903160f4c7f2c43791fa741debb582', 'stepUsed': 148280, 'stepPrice': 10000000000, 'cumulativeStepUsed': 148280, 'eventLogs': [], 'logsBloom': b'\\x00\\x00\\x00\\x00\\x00\\x00\\x00\\x00\\x00\\x00\\x00\\x00\\x00\\x00\\x00\\x00\\x00\\x00\\x00\\x00\\x00\\x00\\x00\\x00\\x00\\x00\\x00\\x00\\x00\\x00\\x00\\x00\\x00\\x00\\x00\\x00\\x00\\x00\\x00\\x00\\x00\\x00\\x00\\x00\\x00\\x00\\x00\\x00\\x00\\x00\\x00\\x00\\x00\\x00\\x00\\x00\\x00\\x00\\x00\\x00\\x00\\x00\\x00\\x00\\x00\\x00\\x00\\x00\\x00\\x00\\x00\\x00\\x00\\x00\\x00\\x00\\x00\\x00\\x00\\x00\\x00\\x00\\x00\\x00\\x00\\x00\\x00\\x00\\x00\\x00\\x00\\x00\\x00\\x00\\x00\\x00\\x00\\x00\\x00\\x00\\x00\\x00\\x00\\x00\\x00\\x00\\x00\\x00\\x00\\x00\\x00\\x00\\x00\\x00\\x00\\x00\\x00\\x00\\x00\\x00\\x00\\x00\\x00\\x00\\x00\\x00\\x00\\x00\\x00\\x00\\x00\\x00\\x00\\x00\\x00\\x00\\x00\\x00\\x00\\x00\\x00\\x00\\x00\\x00\\x00\\x00\\x00\\x00\\x00\\x00\\x00\\x00\\x00\\x00\\x00\\x00\\x00\\x00\\x00\\x00\\x00\\x00\\x00\\x00\\x00\\x00\\x00\\x00\\x00\\x00\\x00\\x00\\x00\\x00\\x00\\x00\\x00\\x00\\x00\\x00\\x00\\x00\\x00\\x00\\x00\\x00\\x00\\x00\\x00\\x00\\x00\\x00\\x00\\x00\\x00\\x00\\x00\\x00\\x00\\x00\\x00\\x00\\x00\\x00\\x00\\x00\\x00\\x00\\x00\\x00\\x00\\x00\\x00\\x00\\x00\\x00\\x00\\x00\\x00\\x00\\x00\\x00\\x00\\x00\\x00\\x00\\x00\\x00\\x00\\x00\\x00\\x00\\x00\\x00\\x00\\x00\\x00\\x00\\x00\\x00\\x00\\x00\\x00\\x00\\x00\\x00\\x00\\x00\\x00\\x00\\x00\\x00\\x00\\x00\\x00\\x00', 'status': 1}\n\n\nCalling setCoreAddress, with parameters {'_address': 'cxc15058ed8a262ff3b3a2400786848a3c32c274a5'} on the oUSDb contract.\nRaised JSONRPCException while returning the custom response. Error message: {'code': -32602, 'message': 'Pending transaction'}\n{'code': -32602, 'message': 'Pending transaction'} (Json rpc error), Retrying in 1 seconds...\nRaised JSONRPCException while returning the custom response. Error message: {'code': -32602, 'message': 'Pending transaction'}\n{'code': -32602, 'message': 'Pending transaction'} (Json rpc error), Retrying in 2 seconds...\n{'txHash': '0xc56620c89304adfbbc3e79ea430055469869cf85482eb564361baa2507b62a9c', 'blockHeight': 11798986, 'blockHash': '0x9a70a02f81f564ea17541249fdc5ac47d883f68219a2b3ad545b4a07544ba9b5', 'txIndex': 1, 'to': 'cx1aef9c66e508cfc32282e27e645ace726e831bd3', 'stepUsed': 150520, 'stepPrice': 10000000000, 'cumulativeStepUsed': 150520, 'eventLogs': [], 'logsBloom': b'\\x00\\x00\\x00\\x00\\x00\\x00\\x00\\x00\\x00\\x00\\x00\\x00\\x00\\x00\\x00\\x00\\x00\\x00\\x00\\x00\\x00\\x00\\x00\\x00\\x00\\x00\\x00\\x00\\x00\\x00\\x00\\x00\\x00\\x00\\x00\\x00\\x00\\x00\\x00\\x00\\x00\\x00\\x00\\x00\\x00\\x00\\x00\\x00\\x00\\x00\\x00\\x00\\x00\\x00\\x00\\x00\\x00\\x00\\x00\\x00\\x00\\x00\\x00\\x00\\x00\\x00\\x00\\x00\\x00\\x00\\x00\\x00\\x00\\x00\\x00\\x00\\x00\\x00\\x00\\x00\\x00\\x00\\x00\\x00\\x00\\x00\\x00\\x00\\x00\\x00\\x00\\x00\\x00\\x00\\x00\\x00\\x00\\x00\\x00\\x00\\x00\\x00\\x00\\x00\\x00\\x00\\x00\\x00\\x00\\x00\\x00\\x00\\x00\\x00\\x00\\x00\\x00\\x00\\x00\\x00\\x00\\x00\\x00\\x00\\x00\\x00\\x00\\x00\\x00\\x00\\x00\\x00\\x00\\x00\\x00\\x00\\x00\\x00\\x00\\x00\\x00\\x00\\x00\\x00\\x00\\x00\\x00\\x00\\x00\\x00\\x00\\x00\\x00\\x00\\x00\\x00\\x00\\x00\\x00\\x00\\x00\\x00\\x00\\x00\\x00\\x00\\x00\\x00\\x00\\x00\\x00\\x00\\x00\\x00\\x00\\x00\\x00\\x00\\x00\\x00\\x00\\x00\\x00\\x00\\x00\\x00\\x00\\x00\\x00\\x00\\x00\\x00\\x00\\x00\\x00\\x00\\x00\\x00\\x00\\x00\\x00\\x00\\x00\\x00\\x00\\x00\\x00\\x00\\x00\\x00\\x00\\x00\\x00\\x00\\x00\\x00\\x00\\x00\\x00\\x00\\x00\\x00\\x00\\x00\\x00\\x00\\x00\\x00\\x00\\x00\\x00\\x00\\x00\\x00\\x00\\x00\\x00\\x00\\x00\\x00\\x00\\x00\\x00\\x00\\x00\\x00\\x00\\x00\\x00\\x00\\x00\\x00\\x00\\x00\\x00\\x00', 'status': 1}\n\n\nCalling setReserveAddress, with parameters {'_address': 'cxaa068556df80f9917ef146e889f0b2c4b13ab634'} on the oUSDb contract.\nRaised JSONRPCException while returning the custom response. Error message: {'code': -32602, 'message': 'Pending transaction'}\n{'code': -32602, 'message': 'Pending transaction'} (Json rpc error), Retrying in 1 seconds...\nRaised JSONRPCException while returning the custom response. Error message: {'code': -32602, 'message': 'Pending transaction'}\n{'code': -32602, 'message': 'Pending transaction'} (Json rpc error), Retrying in 2 seconds...\n{'txHash': '0x9fe11213a43d7c05eceb25917c998b50e80a527ae81abe4a6c6db6fa18945a66', 'blockHeight': 11798989, 'blockHash': '0x755430fe6adb2de93ef86f9dbf6d19eced72057af098ad00e81156e3f10800d2', 'txIndex': 1, 'to': 'cx1aef9c66e508cfc32282e27e645ace726e831bd3', 'stepUsed': 151120, 'stepPrice': 10000000000, 'cumulativeStepUsed': 151120, 'eventLogs': [], 'logsBloom': b'\\x00\\x00\\x00\\x00\\x00\\x00\\x00\\x00\\x00\\x00\\x00\\x00\\x00\\x00\\x00\\x00\\x00\\x00\\x00\\x00\\x00\\x00\\x00\\x00\\x00\\x00\\x00\\x00\\x00\\x00\\x00\\x00\\x00\\x00\\x00\\x00\\x00\\x00\\x00\\x00\\x00\\x00\\x00\\x00\\x00\\x00\\x00\\x00\\x00\\x00\\x00\\x00\\x00\\x00\\x00\\x00\\x00\\x00\\x00\\x00\\x00\\x00\\x00\\x00\\x00\\x00\\x00\\x00\\x00\\x00\\x00\\x00\\x00\\x00\\x00\\x00\\x00\\x00\\x00\\x00\\x00\\x00\\x00\\x00\\x00\\x00\\x00\\x00\\x00\\x00\\x00\\x00\\x00\\x00\\x00\\x00\\x00\\x00\\x00\\x00\\x00\\x00\\x00\\x00\\x00\\x00\\x00\\x00\\x00\\x00\\x00\\x00\\x00\\x00\\x00\\x00\\x00\\x00\\x00\\x00\\x00\\x00\\x00\\x00\\x00\\x00\\x00\\x00\\x00\\x00\\x00\\x00\\x00\\x00\\x00\\x00\\x00\\x00\\x00\\x00\\x00\\x00\\x00\\x00\\x00\\x00\\x00\\x00\\x00\\x00\\x00\\x00\\x00\\x00\\x00\\x00\\x00\\x00\\x00\\x00\\x00\\x00\\x00\\x00\\x00\\x00\\x00\\x00\\x00\\x00\\x00\\x00\\x00\\x00\\x00\\x00\\x00\\x00\\x00\\x00\\x00\\x00\\x00\\x00\\x00\\x00\\x00\\x00\\x00\\x00\\x00\\x00\\x00\\x00\\x00\\x00\\x00\\x00\\x00\\x00\\x00\\x00\\x00\\x00\\x00\\x00\\x00\\x00\\x00\\x00\\x00\\x00\\x00\\x00\\x00\\x00\\x00\\x00\\x00\\x00\\x00\\x00\\x00\\x00\\x00\\x00\\x00\\x00\\x00\\x00\\x00\\x00\\x00\\x00\\x00\\x00\\x00\\x00\\x00\\x00\\x00\\x00\\x00\\x00\\x00\\x00\\x00\\x00\\x00\\x00\\x00\\x00\\x00\\x00\\x00\\x00', 'status': 1}\n\n\nCalling setDataProviderAddress, with parameters {'_address': 'cx45bd68dd4f903160f4c7f2c43791fa741debb582'} on the oUSDb contract.\nRaised JSONRPCException while returning the custom response. Error message: {'code': -32602, 'message': 'Pending transaction'}\n{'code': -32602, 'message': 'Pending transaction'} (Json rpc error), Retrying in 1 seconds...\nRaised JSONRPCException while returning the custom response. Error message: {'code': -32602, 'message': 'Pending transaction'}\n{'code': -32602, 'message': 'Pending transaction'} (Json rpc error), Retrying in 2 seconds...\n{'txHash': '0x1bb42f79f7ab60452b832c52f8a2ff454f3ae75fa61cd2623cdc29b71a0fc9c9', 'blockHeight': 11798991, 'blockHash': '0x1709f9f107b534593e5e11f89fa99ac1f1f3a528bf6fd07661cf1d4eae7a6536', 'txIndex': 1, 'to': 'cx1aef9c66e508cfc32282e27e645ace726e831bd3', 'stepUsed': 152120, 'stepPrice': 10000000000, 'cumulativeStepUsed': 152120, 'eventLogs': [], 'logsBloom': b'\\x00\\x00\\x00\\x00\\x00\\x00\\x00\\x00\\x00\\x00\\x00\\x00\\x00\\x00\\x00\\x00\\x00\\x00\\x00\\x00\\x00\\x00\\x00\\x00\\x00\\x00\\x00\\x00\\x00\\x00\\x00\\x00\\x00\\x00\\x00\\x00\\x00\\x00\\x00\\x00\\x00\\x00\\x00\\x00\\x00\\x00\\x00\\x00\\x00\\x00\\x00\\x00\\x00\\x00\\x00\\x00\\x00\\x00\\x00\\x00\\x00\\x00\\x00\\x00\\x00\\x00\\x00\\x00\\x00\\x00\\x00\\x00\\x00\\x00\\x00\\x00\\x00\\x00\\x00\\x00\\x00\\x00\\x00\\x00\\x00\\x00\\x00\\x00\\x00\\x00\\x00\\x00\\x00\\x00\\x00\\x00\\x00\\x00\\x00\\x00\\x00\\x00\\x00\\x00\\x00\\x00\\x00\\x00\\x00\\x00\\x00\\x00\\x00\\x00\\x00\\x00\\x00\\x00\\x00\\x00\\x00\\x00\\x00\\x00\\x00\\x00\\x00\\x00\\x00\\x00\\x00\\x00\\x00\\x00\\x00\\x00\\x00\\x00\\x00\\x00\\x00\\x00\\x00\\x00\\x00\\x00\\x00\\x00\\x00\\x00\\x00\\x00\\x00\\x00\\x00\\x00\\x00\\x00\\x00\\x00\\x00\\x00\\x00\\x00\\x00\\x00\\x00\\x00\\x00\\x00\\x00\\x00\\x00\\x00\\x00\\x00\\x00\\x00\\x00\\x00\\x00\\x00\\x00\\x00\\x00\\x00\\x00\\x00\\x00\\x00\\x00\\x00\\x00\\x00\\x00\\x00\\x00\\x00\\x00\\x00\\x00\\x00\\x00\\x00\\x00\\x00\\x00\\x00\\x00\\x00\\x00\\x00\\x00\\x00\\x00\\x00\\x00\\x00\\x00\\x00\\x00\\x00\\x00\\x00\\x00\\x00\\x00\\x00\\x00\\x00\\x00\\x00\\x00\\x00\\x00\\x00\\x00\\x00\\x00\\x00\\x00\\x00\\x00\\x00\\x00\\x00\\x00\\x00\\x00\\x00\\x00\\x00\\x00\\x00\\x00\\x00', 'status': 1}\n\n\nCalling setLendingPoolAddress, with parameters {'_address': 'cx348b53ff3bb5c6411f8c3e7082cde123bd86c67e'} on the oUSDb contract.\nRaised JSONRPCException while returning the custom response. Error message: {'code': -32602, 'message': 'Pending transaction'}\n{'code': -32602, 'message': 'Pending transaction'} (Json rpc error), Retrying in 1 seconds...\nRaised JSONRPCException while returning the custom response. Error message: {'code': -32602, 'message': 'Pending transaction'}\n{'code': -32602, 'message': 'Pending transaction'} (Json rpc error), Retrying in 2 seconds...\n{'txHash': '0x1d33c6344527b40d3771284739a4013cdb171532f55fd0a1ac9c0c0b4bb70fd2', 'blockHeight': 11798994, 'blockHash': '0x7eb48ba21f491d0c51358bf48f6562c59f939a62d90a220ba2527c33673ef796', 'txIndex': 1, 'to': 'cx1aef9c66e508cfc32282e27e645ace726e831bd3', 'stepUsed': 151920, 'stepPrice': 10000000000, 'cumulativeStepUsed': 151920, 'eventLogs': [], 'logsBloom': b'\\x00\\x00\\x00\\x00\\x00\\x00\\x00\\x00\\x00\\x00\\x00\\x00\\x00\\x00\\x00\\x00\\x00\\x00\\x00\\x00\\x00\\x00\\x00\\x00\\x00\\x00\\x00\\x00\\x00\\x00\\x00\\x00\\x00\\x00\\x00\\x00\\x00\\x00\\x00\\x00\\x00\\x00\\x00\\x00\\x00\\x00\\x00\\x00\\x00\\x00\\x00\\x00\\x00\\x00\\x00\\x00\\x00\\x00\\x00\\x00\\x00\\x00\\x00\\x00\\x00\\x00\\x00\\x00\\x00\\x00\\x00\\x00\\x00\\x00\\x00\\x00\\x00\\x00\\x00\\x00\\x00\\x00\\x00\\x00\\x00\\x00\\x00\\x00\\x00\\x00\\x00\\x00\\x00\\x00\\x00\\x00\\x00\\x00\\x00\\x00\\x00\\x00\\x00\\x00\\x00\\x00\\x00\\x00\\x00\\x00\\x00\\x00\\x00\\x00\\x00\\x00\\x00\\x00\\x00\\x00\\x00\\x00\\x00\\x00\\x00\\x00\\x00\\x00\\x00\\x00\\x00\\x00\\x00\\x00\\x00\\x00\\x00\\x00\\x00\\x00\\x00\\x00\\x00\\x00\\x00\\x00\\x00\\x00\\x00\\x00\\x00\\x00\\x00\\x00\\x00\\x00\\x00\\x00\\x00\\x00\\x00\\x00\\x00\\x00\\x00\\x00\\x00\\x00\\x00\\x00\\x00\\x00\\x00\\x00\\x00\\x00\\x00\\x00\\x00\\x00\\x00\\x00\\x00\\x00\\x00\\x00\\x00\\x00\\x00\\x00\\x00\\x00\\x00\\x00\\x00\\x00\\x00\\x00\\x00\\x00\\x00\\x00\\x00\\x00\\x00\\x00\\x00\\x00\\x00\\x00\\x00\\x00\\x00\\x00\\x00\\x00\\x00\\x00\\x00\\x00\\x00\\x00\\x00\\x00\\x00\\x00\\x00\\x00\\x00\\x00\\x00\\x00\\x00\\x00\\x00\\x00\\x00\\x00\\x00\\x00\\x00\\x00\\x00\\x00\\x00\\x00\\x00\\x00\\x00\\x00\\x00\\x00\\x00\\x00\\x00\\x00', 'status': 1}\n\n\nCalling set_reference_data, with parameters {'_base': 'USDb', '_quote': 'USD', '_rate': 1000000000000000000} on the priceOracle contract.\nRaised JSONRPCException while returning the custom response. Error message: {'code': -32602, 'message': 'Pending transaction'}\n{'code': -32602, 'message': 'Pending transaction'} (Json rpc error), Retrying in 1 seconds...\nRaised JSONRPCException while returning the custom response. Error message: {'code': -32602, 'message': 'Pending transaction'}\n{'code': -32602, 'message': 'Pending transaction'} (Json rpc error), Retrying in 2 seconds...\n{'txHash': '0xb2ca84a0e355eebab5b0a35b7da76f4390baee0d868ee85ca11a1719c42c47f6', 'blockHeight': 11798997, 'blockHash': '0x502e82f60e0487606fc4bcbfcb9578b4110bc82a372c8e3c001ea34effc022fd', 'txIndex': 1, 'to': 'cx0b57375df6a814ca3f589e91b15015f135fbd046', 'stepUsed': 145640, 'stepPrice': 10000000000, 'cumulativeStepUsed': 145640, 'eventLogs': [], 'logsBloom': b'\\x00\\x00\\x00\\x00\\x00\\x00\\x00\\x00\\x00\\x00\\x00\\x00\\x00\\x00\\x00\\x00\\x00\\x00\\x00\\x00\\x00\\x00\\x00\\x00\\x00\\x00\\x00\\x00\\x00\\x00\\x00\\x00\\x00\\x00\\x00\\x00\\x00\\x00\\x00\\x00\\x00\\x00\\x00\\x00\\x00\\x00\\x00\\x00\\x00\\x00\\x00\\x00\\x00\\x00\\x00\\x00\\x00\\x00\\x00\\x00\\x00\\x00\\x00\\x00\\x00\\x00\\x00\\x00\\x00\\x00\\x00\\x00\\x00\\x00\\x00\\x00\\x00\\x00\\x00\\x00\\x00\\x00\\x00\\x00\\x00\\x00\\x00\\x00\\x00\\x00\\x00\\x00\\x00\\x00\\x00\\x00\\x00\\x00\\x00\\x00\\x00\\x00\\x00\\x00\\x00\\x00\\x00\\x00\\x00\\x00\\x00\\x00\\x00\\x00\\x00\\x00\\x00\\x00\\x00\\x00\\x00\\x00\\x00\\x00\\x00\\x00\\x00\\x00\\x00\\x00\\x00\\x00\\x00\\x00\\x00\\x00\\x00\\x00\\x00\\x00\\x00\\x00\\x00\\x00\\x00\\x00\\x00\\x00\\x00\\x00\\x00\\x00\\x00\\x00\\x00\\x00\\x00\\x00\\x00\\x00\\x00\\x00\\x00\\x00\\x00\\x00\\x00\\x00\\x00\\x00\\x00\\x00\\x00\\x00\\x00\\x00\\x00\\x00\\x00\\x00\\x00\\x00\\x00\\x00\\x00\\x00\\x00\\x00\\x00\\x00\\x00\\x00\\x00\\x00\\x00\\x00\\x00\\x00\\x00\\x00\\x00\\x00\\x00\\x00\\x00\\x00\\x00\\x00\\x00\\x00\\x00\\x00\\x00\\x00\\x00\\x00\\x00\\x00\\x00\\x00\\x00\\x00\\x00\\x00\\x00\\x00\\x00\\x00\\x00\\x00\\x00\\x00\\x00\\x00\\x00\\x00\\x00\\x00\\x00\\x00\\x00\\x00\\x00\\x00\\x00\\x00\\x00\\x00\\x00\\x00\\x00\\x00\\x00\\x00\\x00\\x00', 'status': 1}\n\n\nCalling setUSDb, with parameters {'_address': 'cxaa068556df80f9917ef146e889f0b2c4b13ab634'} on the addressProvider contract.\nRaised JSONRPCException while returning the custom response. Error message: {'code': -32602, 'message': 'Pending transaction'}\n{'code': -32602, 'message': 'Pending transaction'} (Json rpc error), Retrying in 1 seconds...\nRaised JSONRPCException while returning the custom response. Error message: {'code': -32602, 'message': 'Pending transaction'}\n{'code': -32602, 'message': 'Pending transaction'} (Json rpc error), Retrying in 2 seconds...\n{'txHash': '0x5d2cb885840015b4e9f429fbb9aed9353353dcbf56a5387802a47ee233715b53', 'blockHeight': 11799002, 'blockHash': '0xc4880c4b734ef55f30e1c29b77795bcb5e8cfdde1045f59457760559c392ef4e', 'txIndex': 1, 'to': 'cxdcbae76661c0edbf968d048c3bba3311bde57e37', 'stepUsed': 144080, 'stepPrice': 10000000000, 'cumulativeStepUsed': 144080, 'eventLogs': [], 'logsBloom': b'\\x00\\x00\\x00\\x00\\x00\\x00\\x00\\x00\\x00\\x00\\x00\\x00\\x00\\x00\\x00\\x00\\x00\\x00\\x00\\x00\\x00\\x00\\x00\\x00\\x00\\x00\\x00\\x00\\x00\\x00\\x00\\x00\\x00\\x00\\x00\\x00\\x00\\x00\\x00\\x00\\x00\\x00\\x00\\x00\\x00\\x00\\x00\\x00\\x00\\x00\\x00\\x00\\x00\\x00\\x00\\x00\\x00\\x00\\x00\\x00\\x00\\x00\\x00\\x00\\x00\\x00\\x00\\x00\\x00\\x00\\x00\\x00\\x00\\x00\\x00\\x00\\x00\\x00\\x00\\x00\\x00\\x00\\x00\\x00\\x00\\x00\\x00\\x00\\x00\\x00\\x00\\x00\\x00\\x00\\x00\\x00\\x00\\x00\\x00\\x00\\x00\\x00\\x00\\x00\\x00\\x00\\x00\\x00\\x00\\x00\\x00\\x00\\x00\\x00\\x00\\x00\\x00\\x00\\x00\\x00\\x00\\x00\\x00\\x00\\x00\\x00\\x00\\x00\\x00\\x00\\x00\\x00\\x00\\x00\\x00\\x00\\x00\\x00\\x00\\x00\\x00\\x00\\x00\\x00\\x00\\x00\\x00\\x00\\x00\\x00\\x00\\x00\\x00\\x00\\x00\\x00\\x00\\x00\\x00\\x00\\x00\\x00\\x00\\x00\\x00\\x00\\x00\\x00\\x00\\x00\\x00\\x00\\x00\\x00\\x00\\x00\\x00\\x00\\x00\\x00\\x00\\x00\\x00\\x00\\x00\\x00\\x00\\x00\\x00\\x00\\x00\\x00\\x00\\x00\\x00\\x00\\x00\\x00\\x00\\x00\\x00\\x00\\x00\\x00\\x00\\x00\\x00\\x00\\x00\\x00\\x00\\x00\\x00\\x00\\x00\\x00\\x00\\x00\\x00\\x00\\x00\\x00\\x00\\x00\\x00\\x00\\x00\\x00\\x00\\x00\\x00\\x00\\x00\\x00\\x00\\x00\\x00\\x00\\x00\\x00\\x00\\x00\\x00\\x00\\x00\\x00\\x00\\x00\\x00\\x00\\x00\\x00\\x00\\x00\\x00\\x00', 'status': 1}\n\n\nCalling setoUSDb, with parameters {'_address': 'cx1aef9c66e508cfc32282e27e645ace726e831bd3'} on the addressProvider contract.\nRaised JSONRPCException while returning the custom response. Error message: {'code': -32602, 'message': 'Pending transaction'}\n{'code': -32602, 'message': 'Pending transaction'} (Json rpc error), Retrying in 1 seconds...\nRaised JSONRPCException while returning the custom response. Error message: {'code': -32602, 'message': 'Pending transaction'}\n{'code': -32602, 'message': 'Pending transaction'} (Json rpc error), Retrying in 2 seconds...\n{'txHash': '0x4300110a9f83142a1725629ac00fb7c47eaaa4bcd6e894f9695bd0e3fe438b67', 'blockHeight': 11799005, 'blockHash': '0xea7d9fc02b1340f83da90cd63fe65d75cb89152427b3c003c1a7e1b84e6f2f38', 'txIndex': 1, 'to': 'cxdcbae76661c0edbf968d048c3bba3311bde57e37', 'stepUsed': 144280, 'stepPrice': 10000000000, 'cumulativeStepUsed': 144280, 'eventLogs': [], 'logsBloom': b'\\x00\\x00\\x00\\x00\\x00\\x00\\x00\\x00\\x00\\x00\\x00\\x00\\x00\\x00\\x00\\x00\\x00\\x00\\x00\\x00\\x00\\x00\\x00\\x00\\x00\\x00\\x00\\x00\\x00\\x00\\x00\\x00\\x00\\x00\\x00\\x00\\x00\\x00\\x00\\x00\\x00\\x00\\x00\\x00\\x00\\x00\\x00\\x00\\x00\\x00\\x00\\x00\\x00\\x00\\x00\\x00\\x00\\x00\\x00\\x00\\x00\\x00\\x00\\x00\\x00\\x00\\x00\\x00\\x00\\x00\\x00\\x00\\x00\\x00\\x00\\x00\\x00\\x00\\x00\\x00\\x00\\x00\\x00\\x00\\x00\\x00\\x00\\x00\\x00\\x00\\x00\\x00\\x00\\x00\\x00\\x00\\x00\\x00\\x00\\x00\\x00\\x00\\x00\\x00\\x00\\x00\\x00\\x00\\x00\\x00\\x00\\x00\\x00\\x00\\x00\\x00\\x00\\x00\\x00\\x00\\x00\\x00\\x00\\x00\\x00\\x00\\x00\\x00\\x00\\x00\\x00\\x00\\x00\\x00\\x00\\x00\\x00\\x00\\x00\\x00\\x00\\x00\\x00\\x00\\x00\\x00\\x00\\x00\\x00\\x00\\x00\\x00\\x00\\x00\\x00\\x00\\x00\\x00\\x00\\x00\\x00\\x00\\x00\\x00\\x00\\x00\\x00\\x00\\x00\\x00\\x00\\x00\\x00\\x00\\x00\\x00\\x00\\x00\\x00\\x00\\x00\\x00\\x00\\x00\\x00\\x00\\x00\\x00\\x00\\x00\\x00\\x00\\x00\\x00\\x00\\x00\\x00\\x00\\x00\\x00\\x00\\x00\\x00\\x00\\x00\\x00\\x00\\x00\\x00\\x00\\x00\\x00\\x00\\x00\\x00\\x00\\x00\\x00\\x00\\x00\\x00\\x00\\x00\\x00\\x00\\x00\\x00\\x00\\x00\\x00\\x00\\x00\\x00\\x00\\x00\\x00\\x00\\x00\\x00\\x00\\x00\\x00\\x00\\x00\\x00\\x00\\x00\\x00\\x00\\x00\\x00\\x00\\x00\\x00\\x00\\x00', 'status': 1}\n\n\nCalling setReserveConstants, with parameters {'_constants': [{'reserve': 'cxaa068556df80f9917ef146e889f0b2c4b13ab634', 'optimalUtilizationRate': '800000000000000000', 'baseBorrowRate': '20000000000000000', 'slopeRate1': '40000000000000000', 'slopeRate2': '1000000000000000000'}]} on the lendingPoolCore contract.\nRaised JSONRPCException while returning the custom response. Error message: {'code': -32602, 'message': 'Pending transaction'}\n{'code': -32602, 'message': 'Pending transaction'} (Json rpc error), Retrying in 1 seconds...\nRaised JSONRPCException while returning the custom response. Error message: {'code': -32602, 'message': 'Pending transaction'}\n{'code': -32602, 'message': 'Pending transaction'} (Json rpc error), Retrying in 2 seconds...\n{'txHash': '0xa64fead7cd1f985b4b77ed94f57bafc5eea202cc0d8dd22f679bd8bbce8ed39d', 'blockHeight': 11799015, 'blockHash': '0xb3dd81d56512e0a94c4e47f2e259871aa76224567ef9b0e1c463a175e4bae706', 'txIndex': 2, 'to': 'cxc15058ed8a262ff3b3a2400786848a3c32c274a5', 'stepUsed': 188120, 'stepPrice': 10000000000, 'cumulativeStepUsed': 368400, 'eventLogs': [], 'logsBloom': b'\\x00\\x00\\x00\\x00\\x00\\x00\\x00\\x00\\x00\\x00\\x00\\x00\\x00\\x00\\x00\\x00\\x00\\x00\\x00\\x00\\x00\\x00\\x00\\x00\\x00\\x00\\x00\\x00\\x00\\x00\\x00\\x00\\x00\\x00\\x00\\x00\\x00\\x00\\x00\\x00\\x00\\x00\\x00\\x00\\x00\\x00\\x00\\x00\\x00\\x00\\x00\\x00\\x00\\x00\\x00\\x00\\x00\\x00\\x00\\x00\\x00\\x00\\x00\\x00\\x00\\x00\\x00\\x00\\x00\\x00\\x00\\x00\\x00\\x00\\x00\\x00\\x00\\x00\\x00\\x00\\x00\\x00\\x00\\x00\\x00\\x00\\x00\\x00\\x00\\x00\\x00\\x00\\x00\\x00\\x00\\x00\\x00\\x00\\x00\\x00\\x00\\x00\\x00\\x00\\x00\\x00\\x00\\x00\\x00\\x00\\x00\\x00\\x00\\x00\\x00\\x00\\x00\\x00\\x00\\x00\\x00\\x00\\x00\\x00\\x00\\x00\\x00\\x00\\x00\\x00\\x00\\x00\\x00\\x00\\x00\\x00\\x00\\x00\\x00\\x00\\x00\\x00\\x00\\x00\\x00\\x00\\x00\\x00\\x00\\x00\\x00\\x00\\x00\\x00\\x00\\x00\\x00\\x00\\x00\\x00\\x00\\x00\\x00\\x00\\x00\\x00\\x00\\x00\\x00\\x00\\x00\\x00\\x00\\x00\\x00\\x00\\x00\\x00\\x00\\x00\\x00\\x00\\x00\\x00\\x00\\x00\\x00\\x00\\x00\\x00\\x00\\x00\\x00\\x00\\x00\\x00\\x00\\x00\\x00\\x00\\x00\\x00\\x00\\x00\\x00\\x00\\x00\\x00\\x00\\x00\\x00\\x00\\x00\\x00\\x00\\x00\\x00\\x00\\x00\\x00\\x00\\x00\\x00\\x00\\x00\\x00\\x00\\x00\\x00\\x00\\x00\\x00\\x00\\x00\\x00\\x00\\x00\\x00\\x00\\x00\\x00\\x00\\x00\\x00\\x00\\x00\\x00\\x00\\x00\\x00\\x00\\x00\\x00\\x00\\x00\\x00', 'status': 1}\n"
    }
   ],
   "source": [
    "for sett in settings:\n",
    "    print(f'\\n')\n",
    "    print(f'Calling {sett[\"method\"]}, with parameters {sett[\"params\"]} on the {sett[\"contract\"]} contract.')\n",
    "    transaction = CallTransactionBuilder()\\\n",
    "        .from_(deployer_wallet.get_address())\\\n",
    "        .to(contracts[sett['contract']])\\\n",
    "        .value(0)\\\n",
    "        .step_limit(10000000)\\\n",
    "        .nid(NID)\\\n",
    "        .nonce(100)\\\n",
    "        .method(sett['method'])\\\n",
    "        .params(sett['params'])\\\n",
    "        .build()\n",
    "    signed_transaction = SignedTransaction(transaction, deployer_wallet)\n",
    "    tx_hash = icon_service.send_transaction(signed_transaction)\n",
    "    tx_hash\n",
    "    print(get_tx_result(tx_hash))"
   ]
  },
  {
   "cell_type": "code",
   "execution_count": 44,
   "metadata": {
    "tags": []
   },
   "outputs": [
    {
     "output_type": "stream",
     "name": "stdout",
     "text": "{'addressProvider': 'cxdcbae76661c0edbf968d048c3bba3311bde57e37',\n 'feeProvider': 'cx52555a5dda72b98a3ed692b58761f68af9486073',\n 'lendingPool': 'cx348b53ff3bb5c6411f8c3e7082cde123bd86c67e',\n 'lendingPoolCore': 'cxc15058ed8a262ff3b3a2400786848a3c32c274a5',\n 'lendingPoolDataProvider': 'cx45bd68dd4f903160f4c7f2c43791fa741debb582',\n 'liquidationManager': 'cx001794d12ea9170f4bb7a620e0a03a157f35a429',\n 'oICX': 'cx7dcf7232084a085507bf2685f785589ebb0b52a1',\n 'oToken': 'cx77d34d57f7ea300637058ef65babc52da91376a4',\n 'oUSDb': 'cx1aef9c66e508cfc32282e27e645ace726e831bd3',\n 'priceOracle': 'cx0b57375df6a814ca3f589e91b15015f135fbd046',\n 'sample_token': 'cx9da823297393ecb193030b983ce334f25af20aac',\n 'sicx': 'cxb7eda227d9ed9c6fc2a74aa5dd7e9a3913f6c281',\n 'staking': 'cxadd9557a07d4aab925dd04b7a6da4ea1d67bef9c',\n 'usdb': 'cxaa068556df80f9917ef146e889f0b2c4b13ab634'}\n"
    }
   ],
   "source": [
    "pprint(contracts)"
   ]
  },
  {
   "cell_type": "markdown",
   "metadata": {},
   "source": [
    "## Adding IUSDC reserve in the lendingPoolCore\n"
   ]
  },
  {
   "cell_type": "code",
   "execution_count": 22,
   "metadata": {
    "tags": []
   },
   "outputs": [
    {
     "output_type": "stream",
     "name": "stderr",
     "text": "Raised JSONRPCException while returning the custom response. Error message: {'code': -32602, 'message': 'Pending transaction'}\n{'code': -32602, 'message': 'Pending transaction'} (Json rpc error), Retrying in 1 seconds...\n"
    },
    {
     "output_type": "execute_result",
     "data": {
      "text/plain": "{'txHash': '0xd2009b33326913c9441d9e91aa342343b793c45845dbb7f6998f692dec7eaf64',\n 'blockHeight': 13316406,\n 'blockHash': '0x953a7ea51129e6927a88359824cd68642c83952e50d476e8263913c19391fd34',\n 'txIndex': 1,\n 'to': 'cxc15058ed8a262ff3b3a2400786848a3c32c274a5',\n 'stepUsed': 247960,\n 'stepPrice': 10000000000,\n 'cumulativeStepUsed': 247960,\n 'eventLogs': [],\n 'logsBloom': b'\\x00\\x00\\x00\\x00\\x00\\x00\\x00\\x00\\x00\\x00\\x00\\x00\\x00\\x00\\x00\\x00\\x00\\x00\\x00\\x00\\x00\\x00\\x00\\x00\\x00\\x00\\x00\\x00\\x00\\x00\\x00\\x00\\x00\\x00\\x00\\x00\\x00\\x00\\x00\\x00\\x00\\x00\\x00\\x00\\x00\\x00\\x00\\x00\\x00\\x00\\x00\\x00\\x00\\x00\\x00\\x00\\x00\\x00\\x00\\x00\\x00\\x00\\x00\\x00\\x00\\x00\\x00\\x00\\x00\\x00\\x00\\x00\\x00\\x00\\x00\\x00\\x00\\x00\\x00\\x00\\x00\\x00\\x00\\x00\\x00\\x00\\x00\\x00\\x00\\x00\\x00\\x00\\x00\\x00\\x00\\x00\\x00\\x00\\x00\\x00\\x00\\x00\\x00\\x00\\x00\\x00\\x00\\x00\\x00\\x00\\x00\\x00\\x00\\x00\\x00\\x00\\x00\\x00\\x00\\x00\\x00\\x00\\x00\\x00\\x00\\x00\\x00\\x00\\x00\\x00\\x00\\x00\\x00\\x00\\x00\\x00\\x00\\x00\\x00\\x00\\x00\\x00\\x00\\x00\\x00\\x00\\x00\\x00\\x00\\x00\\x00\\x00\\x00\\x00\\x00\\x00\\x00\\x00\\x00\\x00\\x00\\x00\\x00\\x00\\x00\\x00\\x00\\x00\\x00\\x00\\x00\\x00\\x00\\x00\\x00\\x00\\x00\\x00\\x00\\x00\\x00\\x00\\x00\\x00\\x00\\x00\\x00\\x00\\x00\\x00\\x00\\x00\\x00\\x00\\x00\\x00\\x00\\x00\\x00\\x00\\x00\\x00\\x00\\x00\\x00\\x00\\x00\\x00\\x00\\x00\\x00\\x00\\x00\\x00\\x00\\x00\\x00\\x00\\x00\\x00\\x00\\x00\\x00\\x00\\x00\\x00\\x00\\x00\\x00\\x00\\x00\\x00\\x00\\x00\\x00\\x00\\x00\\x00\\x00\\x00\\x00\\x00\\x00\\x00\\x00\\x00\\x00\\x00\\x00\\x00\\x00\\x00\\x00\\x00\\x00\\x00',\n 'status': 1}"
     },
     "metadata": {},
     "execution_count": 22
    }
   ],
   "source": [
    "params ={\"_reserve\": {\"reserveAddress\":contracts['iusdc'],\"oTokenAddress\":contracts['oIUSDC'],\"totalBorrows\":\"0\",\"lastUpdateTimestamp\": \"0\",\"liquidityRate\":\"0\",\"borrowRate\":\"0\",\"liquidityCumulativeIndex\":f\"1{'0'*18}\",\"borrowCumulativeIndex\":f\"1{'0'*18}\",\"baseLTVasCollateral\":\"500000000000000000\",\"liquidationThreshold\":\"650000000000000000\",\"liquidationBonus\":\"100000000000000000\",\"decimals\":\"6\",\"borrowingEnabled\": \"1\",\"usageAsCollateralEnabled\":\"1\",\"isFreezed\":\"0\",\"isActive\":\"1\"} }\n",
    "call_transaction = CallTransactionBuilder()\\\n",
    "    .from_(deployer_wallet.get_address())\\\n",
    "    .to(contracts['lendingPoolCore']) \\\n",
    "    .nid(NID) \\\n",
    "    .nonce(100) \\\n",
    "    .method(\"addReserveData\")\\\n",
    "    .params(params)\\\n",
    "    .build()\n",
    "\n",
    "estimate_step = icon_service.estimate_step(call_transaction)\n",
    "step_limit = estimate_step + 100000\n",
    "# Returns the signed transaction object having a signature\n",
    "signed_transaction = SignedTransaction(call_transaction, deployer_wallet,step_limit)\n",
    "\n",
    "# Reads params to transfer to nodes\n",
    "# print(signed_transaction.signed_transaction_dict)\n",
    "\n",
    "# Sends the transaction\n",
    "tx_hash = icon_service.send_transaction(signed_transaction)\n",
    "\n",
    "get_tx_result(tx_hash)"
   ]
  },
  {
   "cell_type": "code",
   "execution_count": 29,
   "metadata": {
    "tags": []
   },
   "outputs": [
    {
     "output_type": "stream",
     "name": "stdout",
     "text": "{'addressProvider': 'cx797bc63e7b27758816910cb35f0fa1f546b57c33',\n 'daoFund': 'cxb2e669fbb8b94f2a4525345f22e466933b8d2075',\n 'delegation': 'cx24e32367425660a67c91d6e3c1077914df4e0286',\n 'feeProvider': 'cxd55f27870c9b219272ea4fc31d5d7ec8dc78a97e',\n 'governance': 'cx672132f49f0ef02969cc6b223613206e46ff34b1',\n 'iusdc': 'cx65f639254090820361da483df233f6d0e69af9b7',\n 'lendingPool': 'cx0be0870a036ef7a08997bd12e1cd0bfed2dd5d85',\n 'lendingPoolCore': 'cx2d844c9613b5f864f5dace7fed82997c4c62ef01',\n 'lendingPoolDataProvider': 'cx88ae036091243916d87cbc3b11f39e317dcd46ad',\n 'liquidationManager': 'cx21b6ee09cd144b2a778bdcf69a46ef2cf898ff1c',\n 'oICX': 'cx9dfe6300788178da4ac43e7eb7114380f5addc69',\n 'oIUSDC': 'cx5bdb716d9d5531927f9cab4dfd26937a595ad52c',\n 'oToken': 'cxf3e8b176a276a1d6bde232638656ed835f5cb058',\n 'oUSDb': 'cxf3e8b176a276a1d6bde232638656ed835f5cb058',\n 'ommToken': 'cxa96491850d5dd69efa5d64afa9138fd4a66cd348',\n 'priceOracle': 'cxe76fd817fae3b485ae6e4fea2cf88d050d379b63',\n 'rewards': 'cx3e9b334a82529797818ca824cc58c51b52a26087',\n 'sample_token': 'cxc88e39248bf428d3ab0b9c9fbafef9ff423c3a75',\n 'sicx': 'cxb7eda227d9ed9c6fc2a74aa5dd7e9a3913f6c281',\n 'snapshot': 'cx584f740fedab472057bd8ee6e32d97b9b0a05b9d',\n 'staking': 'cxadd9557a07d4aab925dd04b7a6da4ea1d67bef9c',\n 'usdb': 'cxaa068556df80f9917ef146e889f0b2c4b13ab634',\n 'worker_token': 'cxd4e8a5dd852439ccdec73a2b4cd973148f09775d'}\n"
    }
   ],
   "source": [
    "pprint(contracts)"
   ]
  },
  {
   "cell_type": "markdown",
   "metadata": {},
   "source": [
    "## Adding USDb reserve in LendingPoolCore\n",
    "\n"
   ]
  },
  {
   "cell_type": "code",
   "execution_count": 43,
   "metadata": {
    "tags": []
   },
   "outputs": [
    {
     "output_type": "stream",
     "name": "stderr",
     "text": "Raised JSONRPCException while returning the custom response. Error message: {'code': -32602, 'message': 'Pending transaction'}\n{'code': -32602, 'message': 'Pending transaction'} (Json rpc error), Retrying in 1 seconds...\nRaised JSONRPCException while returning the custom response. Error message: {'code': -32602, 'message': 'Pending transaction'}\n{'code': -32602, 'message': 'Pending transaction'} (Json rpc error), Retrying in 2 seconds...\n"
    },
    {
     "output_type": "execute_result",
     "data": {
      "text/plain": "{'txHash': '0xa35d028251ad66d1c2cb2b822a1391e31c633a39d26eab5bc392cf3f0653abbb',\n 'blockHeight': 11799042,\n 'blockHash': '0x87f6f3dda85ee80559e2b80faef715bb8136dd339e27c16a7a7231f687bbebbe',\n 'txIndex': 1,\n 'to': 'cxc15058ed8a262ff3b3a2400786848a3c32c274a5',\n 'stepUsed': 276800,\n 'stepPrice': 10000000000,\n 'cumulativeStepUsed': 276800,\n 'eventLogs': [],\n 'logsBloom': b'\\x00\\x00\\x00\\x00\\x00\\x00\\x00\\x00\\x00\\x00\\x00\\x00\\x00\\x00\\x00\\x00\\x00\\x00\\x00\\x00\\x00\\x00\\x00\\x00\\x00\\x00\\x00\\x00\\x00\\x00\\x00\\x00\\x00\\x00\\x00\\x00\\x00\\x00\\x00\\x00\\x00\\x00\\x00\\x00\\x00\\x00\\x00\\x00\\x00\\x00\\x00\\x00\\x00\\x00\\x00\\x00\\x00\\x00\\x00\\x00\\x00\\x00\\x00\\x00\\x00\\x00\\x00\\x00\\x00\\x00\\x00\\x00\\x00\\x00\\x00\\x00\\x00\\x00\\x00\\x00\\x00\\x00\\x00\\x00\\x00\\x00\\x00\\x00\\x00\\x00\\x00\\x00\\x00\\x00\\x00\\x00\\x00\\x00\\x00\\x00\\x00\\x00\\x00\\x00\\x00\\x00\\x00\\x00\\x00\\x00\\x00\\x00\\x00\\x00\\x00\\x00\\x00\\x00\\x00\\x00\\x00\\x00\\x00\\x00\\x00\\x00\\x00\\x00\\x00\\x00\\x00\\x00\\x00\\x00\\x00\\x00\\x00\\x00\\x00\\x00\\x00\\x00\\x00\\x00\\x00\\x00\\x00\\x00\\x00\\x00\\x00\\x00\\x00\\x00\\x00\\x00\\x00\\x00\\x00\\x00\\x00\\x00\\x00\\x00\\x00\\x00\\x00\\x00\\x00\\x00\\x00\\x00\\x00\\x00\\x00\\x00\\x00\\x00\\x00\\x00\\x00\\x00\\x00\\x00\\x00\\x00\\x00\\x00\\x00\\x00\\x00\\x00\\x00\\x00\\x00\\x00\\x00\\x00\\x00\\x00\\x00\\x00\\x00\\x00\\x00\\x00\\x00\\x00\\x00\\x00\\x00\\x00\\x00\\x00\\x00\\x00\\x00\\x00\\x00\\x00\\x00\\x00\\x00\\x00\\x00\\x00\\x00\\x00\\x00\\x00\\x00\\x00\\x00\\x00\\x00\\x00\\x00\\x00\\x00\\x00\\x00\\x00\\x00\\x00\\x00\\x00\\x00\\x00\\x00\\x00\\x00\\x00\\x00\\x00\\x00\\x00',\n 'status': 1}"
     },
     "metadata": {},
     "execution_count": 43
    }
   ],
   "source": [
    "params ={\"_reserve\": {\"reserveAddress\":contracts['usdb'],\"oTokenAddress\":contracts['oUSDb'],\"totalBorrows\":\"0\",\"lastUpdateTimestamp\": \"0\",\"liquidityRate\":\"0\",\"borrowRate\":\"0\",\"liquidityCumulativeIndex\":f\"1{'0'*18}\",\"borrowCumulativeIndex\":f\"1{'0'*18}\",\"baseLTVasCollateral\":\"330000000000000000\",\"liquidationThreshold\":\"650000000000000000\",\"liquidationBonus\":\"100000000000000000\",\"decimals\":\"18\",\"borrowingEnabled\": \"1\",\"usageAsCollateralEnabled\":\"1\",\"isFreezed\":\"0\",\"isActive\":\"1\"} }\n",
    "call_transaction = CallTransactionBuilder()\\\n",
    "    .from_(deployer_wallet.get_address())\\\n",
    "    .to(contracts['lendingPoolCore']) \\\n",
    "    .nid(NID) \\\n",
    "    .nonce(100) \\\n",
    "    .method(\"addReserveData\")\\\n",
    "    .params(params)\\\n",
    "    .build()\n",
    "\n",
    "estimate_step = icon_service.estimate_step(call_transaction)\n",
    "step_limit = estimate_step + 100000\n",
    "# Returns the signed transaction object having a signature\n",
    "signed_transaction = SignedTransaction(call_transaction, deployer_wallet,step_limit)\n",
    "\n",
    "# Reads params to transfer to nodes\n",
    "# print(signed_transaction.signed_transaction_dict)\n",
    "\n",
    "# Sends the transaction\n",
    "tx_hash = icon_service.send_transaction(signed_transaction)\n",
    "\n",
    "get_tx_result(tx_hash)"
   ]
  },
  {
   "cell_type": "markdown",
   "metadata": {},
   "source": [
    "## Adding ICX reserve"
   ]
  },
  {
   "cell_type": "code",
   "execution_count": 18,
   "metadata": {
    "tags": []
   },
   "outputs": [
    {
     "data": {
      "text/plain": [
       "{'txHash': '0x62d984b4d8378d1e0cf0c2067ab7ed32da82f111b4cb2755586879824c6434ef',\n",
       " 'blockHeight': 1870960,\n",
       " 'blockHash': '0xa2b37b48ba8f5b076c482ec35d6f822e1c053f20121632ee1a4ce947b73f65a1',\n",
       " 'txIndex': 1,\n",
       " 'to': 'cx515613f46e2b333f6bdfa5d7fd1bf93fa3043e14',\n",
       " 'stepUsed': 276800,\n",
       " 'stepPrice': 10000000000,\n",
       " 'cumulativeStepUsed': 276800,\n",
       " 'eventLogs': [],\n",
       " 'logsBloom': b'\\x00\\x00\\x00\\x00\\x00\\x00\\x00\\x00\\x00\\x00\\x00\\x00\\x00\\x00\\x00\\x00\\x00\\x00\\x00\\x00\\x00\\x00\\x00\\x00\\x00\\x00\\x00\\x00\\x00\\x00\\x00\\x00\\x00\\x00\\x00\\x00\\x00\\x00\\x00\\x00\\x00\\x00\\x00\\x00\\x00\\x00\\x00\\x00\\x00\\x00\\x00\\x00\\x00\\x00\\x00\\x00\\x00\\x00\\x00\\x00\\x00\\x00\\x00\\x00\\x00\\x00\\x00\\x00\\x00\\x00\\x00\\x00\\x00\\x00\\x00\\x00\\x00\\x00\\x00\\x00\\x00\\x00\\x00\\x00\\x00\\x00\\x00\\x00\\x00\\x00\\x00\\x00\\x00\\x00\\x00\\x00\\x00\\x00\\x00\\x00\\x00\\x00\\x00\\x00\\x00\\x00\\x00\\x00\\x00\\x00\\x00\\x00\\x00\\x00\\x00\\x00\\x00\\x00\\x00\\x00\\x00\\x00\\x00\\x00\\x00\\x00\\x00\\x00\\x00\\x00\\x00\\x00\\x00\\x00\\x00\\x00\\x00\\x00\\x00\\x00\\x00\\x00\\x00\\x00\\x00\\x00\\x00\\x00\\x00\\x00\\x00\\x00\\x00\\x00\\x00\\x00\\x00\\x00\\x00\\x00\\x00\\x00\\x00\\x00\\x00\\x00\\x00\\x00\\x00\\x00\\x00\\x00\\x00\\x00\\x00\\x00\\x00\\x00\\x00\\x00\\x00\\x00\\x00\\x00\\x00\\x00\\x00\\x00\\x00\\x00\\x00\\x00\\x00\\x00\\x00\\x00\\x00\\x00\\x00\\x00\\x00\\x00\\x00\\x00\\x00\\x00\\x00\\x00\\x00\\x00\\x00\\x00\\x00\\x00\\x00\\x00\\x00\\x00\\x00\\x00\\x00\\x00\\x00\\x00\\x00\\x00\\x00\\x00\\x00\\x00\\x00\\x00\\x00\\x00\\x00\\x00\\x00\\x00\\x00\\x00\\x00\\x00\\x00\\x00\\x00\\x00\\x00\\x00\\x00\\x00\\x00\\x00\\x00\\x00\\x00\\x00',\n",
       " 'status': 1}"
      ]
     },
     "execution_count": 18,
     "metadata": {},
     "output_type": "execute_result"
    }
   ],
   "source": [
    "params ={\"_reserve\": {\"reserveAddress\":contracts['sicx'],\"oTokenAddress\":contracts['oICX'],\"totalBorrows\":\"0\",\"lastUpdateTimestamp\": \"0\",\"liquidityRate\":\"0\",\"borrowRate\":\"0\",\"liquidityCumulativeIndex\":f\"1{'0'*18}\",\"borrowCumulativeIndex\":f\"1{'0'*18}\",\"baseLTVasCollateral\":\"330000000000000000\",\"liquidationThreshold\":\"650000000000000000\",\"liquidationBonus\":\"100000000000000000\",\"decimals\":\"18\",\"borrowingEnabled\": \"1\",\"usageAsCollateralEnabled\":\"1\",\"isFreezed\":\"0\",\"isActive\":\"1\"} }\n",
    "call_transaction = CallTransactionBuilder()\\\n",
    "    .from_(deployer_wallet.get_address())\\\n",
    "    .to(contracts['lendingPoolCore']) \\\n",
    "    .nid(NID) \\\n",
    "    .nonce(100) \\\n",
    "    .method(\"addReserveData\")\\\n",
    "    .params(params)\\\n",
    "    .build()\n",
    "\n",
    "estimate_step = icon_service.estimate_step(call_transaction)\n",
    "step_limit = estimate_step + 100000\n",
    "# Returns the signed transaction object having a signature\n",
    "signed_transaction = SignedTransaction(call_transaction, deployer_wallet,step_limit)\n",
    "\n",
    "# Reads params to transfer to nodes\n",
    "# print(signed_transaction.signed_transaction_dict)\n",
    "\n",
    "# Sends the transaction\n",
    "tx_hash = icon_service.send_transaction(signed_transaction)\n",
    "\n",
    "get_tx_result(tx_hash)"
   ]
  },
  {
   "cell_type": "markdown",
   "metadata": {},
   "source": [
    "# Transfering USDb to a wallet"
   ]
  },
  {
   "cell_type": "code",
   "execution_count": 28,
   "metadata": {
    "tags": []
   },
   "outputs": [
    {
     "output_type": "stream",
     "name": "stdout",
     "text": "{'addressProvider': 'cx797bc63e7b27758816910cb35f0fa1f546b57c33',\n 'daoFund': 'cxb2e669fbb8b94f2a4525345f22e466933b8d2075',\n 'delegation': 'cx24e32367425660a67c91d6e3c1077914df4e0286',\n 'feeProvider': 'cxd55f27870c9b219272ea4fc31d5d7ec8dc78a97e',\n 'governance': 'cx672132f49f0ef02969cc6b223613206e46ff34b1',\n 'iusdc': 'cx65f639254090820361da483df233f6d0e69af9b7',\n 'lendingPool': 'cx0be0870a036ef7a08997bd12e1cd0bfed2dd5d85',\n 'lendingPoolCore': 'cx2d844c9613b5f864f5dace7fed82997c4c62ef01',\n 'lendingPoolDataProvider': 'cx88ae036091243916d87cbc3b11f39e317dcd46ad',\n 'liquidationManager': 'cx21b6ee09cd144b2a778bdcf69a46ef2cf898ff1c',\n 'oICX': 'cx9dfe6300788178da4ac43e7eb7114380f5addc69',\n 'oIUSDC': 'cx5bdb716d9d5531927f9cab4dfd26937a595ad52c',\n 'oToken': 'cxf3e8b176a276a1d6bde232638656ed835f5cb058',\n 'oUSDb': 'cxf3e8b176a276a1d6bde232638656ed835f5cb058',\n 'ommToken': 'cxa96491850d5dd69efa5d64afa9138fd4a66cd348',\n 'priceOracle': 'cxe76fd817fae3b485ae6e4fea2cf88d050d379b63',\n 'rewards': 'cx3e9b334a82529797818ca824cc58c51b52a26087',\n 'sample_token': 'cxc88e39248bf428d3ab0b9c9fbafef9ff423c3a75',\n 'sicx': 'cxb7eda227d9ed9c6fc2a74aa5dd7e9a3913f6c281',\n 'snapshot': 'cx584f740fedab472057bd8ee6e32d97b9b0a05b9d',\n 'staking': 'cxadd9557a07d4aab925dd04b7a6da4ea1d67bef9c',\n 'usdb': 'cxaa068556df80f9917ef146e889f0b2c4b13ab634',\n 'worker_token': 'cxd4e8a5dd852439ccdec73a2b4cd973148f09775d'}\n"
    }
   ],
   "source": [
    "pprint(contracts)"
   ]
  },
  {
   "cell_type": "code",
   "execution_count": 27,
   "metadata": {
    "tags": []
   },
   "outputs": [
    {
     "output_type": "stream",
     "name": "stdout",
     "text": "2.6845942713817617e+22\n4.141177269799635e+22\n"
    }
   ],
   "source": [
    "total = 26324.16786411345 * 10** 18\n",
    "rate = 1019821133659289600\n",
    "price = 1542571000000000000\n",
    "print(total * rate / 10**18)\n",
    "print(total * rate  * price / 10**36)"
   ]
  },
  {
   "cell_type": "code",
   "execution_count": 25,
   "metadata": {
    "tags": []
   },
   "outputs": [
    {
     "output_type": "stream",
     "name": "stderr",
     "text": "Raised JSONRPCException while returning the custom response. Error message: {'code': -32602, 'message': 'Pending transaction'}\n{'code': -32602, 'message': 'Pending transaction'} (Json rpc error), Retrying in 1 seconds...\nRaised JSONRPCException while returning the custom response. Error message: {'code': -32602, 'message': 'Pending transaction'}\n{'code': -32602, 'message': 'Pending transaction'} (Json rpc error), Retrying in 2 seconds...\n"
    },
    {
     "output_type": "execute_result",
     "data": {
      "text/plain": "{'txHash': '0xc07b16c637e63952a12a3b781feb0850c60c1bbf9a749d471d9dc64d8d4725a9',\n 'blockHeight': 11297686,\n 'blockHash': '0xec3e2eb18730a98e4388d0efe781d08ba83163bc4a56c9fa83723f63a4d94685',\n 'txIndex': 1,\n 'to': 'cx19be1be7b4e7750863edf966faac3f42dec21025',\n 'stepUsed': 161460,\n 'stepPrice': 10000000000,\n 'cumulativeStepUsed': 161460,\n 'eventLogs': [{'scoreAddress': 'cx19be1be7b4e7750863edf966faac3f42dec21025',\n   'indexed': ['Transfer(Address,Address,int,bytes)',\n    'hx91bf040426f226b3bfcd2f0b5967bbb0320525ce',\n    'hxb6084c615cc424ef2fc5329c07e2e6d2fbc7f0f8',\n    '0x21e19e0c9bab2400000'],\n   'data': ['0x4e6f6e65']}],\n 'logsBloom': b'\\x00\\x00\\x00\\x00\\x00\\x00\\x00\\x00\\x00\\x00\\x00 \\x00\\x00\\x00\\x00\\x00\\x00\\x00\\x00\\x00\\x00\\x00\\x00\\x00\\x00\\x00\\x00\\x00\\x00\\x00\\x00\\x00\\x00\\x00\\x00\\x00\\x00\\x00\\x00\\x00\\x00\\x00\\x00\\x00\\x00\\x00\\x00\\x00\\x00\\x00\\x00\\x00\\x00\\x00\\x00\\x00\\x00\\x00\\x80\\x00\\x00\\x00\\x00\\x00\\x00\\x00\\x00\\x00\\x00\\x00\\x00\\x00\\x00\\x00\\x00\\x00\\x00\\x00\\x00\\x00\\x00\\x00\\x00@\\x02\\x00\\x00\\x00\\x00\\x00\\x00\\x00\\x00\\x00\\x00\\x00\\x00\\x00\\x00\\x00\\x00\\x00\\x00\\x00\\x00\\x00\\x00\\x00\\x00@\\x08\\x00\\x00\\x00\\x00\\x00\\x00\\x00\\x00\\x00\\x80\\x00\\x00\\x00\\x00\\x00\\x00\\x00\\x00\\x00\\x00\\x00\\x00\\x00\\x00\\x00\\x00\\x00\\x04\\x00\\x00\\x00\\x00\\x00\\x00\\x01\\x00\\x00\\x00\\x00\\x00\\x00\\x00\\x00\\x00\\x00\\x10\\x00\\x00\\x00\\x00\\x00\\x00\\x00\\x00\\x00\\x00\\x00\\x00\\x00\\x00\\x00\\x80\\x00\\x00\\x00\\x00\\x00\\x00\\x00\\x00\\x00\\x00\\x00\\x00\\x00\\x00\\x00\\x00\\x00\\x00\\x04\\x00\\x00\\x00\\x00\\x00\\x00\\x00\\x00\\x00\\x00\\x00\\x00\\x00\\x00\\x00\\x00\\x00\\x00\\x00\\x00\\x01\\x00\\x00\\x00\\x00\\x00\\x00\\x08\\x00\\x00\\x00\\x00\\x00\\x00\\x00\\x00\\x00\\x00\\x00\\x00\\x00\\x00\\x00\\x00\\x00\\x00\\x00\\x00\\x00\\x00\\x00 \\x00\\x00\\x00\\x00\\x00\\x00\\x00\\x00\\x00\\x00\\x00',\n 'status': 1}"
     },
     "metadata": {},
     "execution_count": 25
    }
   ],
   "source": [
    "params = {\"_to\": \"hxb6084c615cc424ef2fc5329c07e2e6d2fbc7f0f8\", \"_value\": 10000 * 10 ** 18}\n",
    "transaction = CallTransactionBuilder()\\\n",
    "    .from_(deployer_wallet.get_address())\\\n",
    "    .to(contracts['sample_token'])\\\n",
    "    .value(0)\\\n",
    "    .step_limit(10000000)\\\n",
    "    .nid(3)\\\n",
    "    .nonce(100)\\\n",
    "    .method(\"transfer\")\\\n",
    "    .params(params)\\\n",
    "    .build()\n",
    "signed_transaction = SignedTransaction(transaction, deployer_wallet)\n",
    "tx_hash = icon_service.send_transaction(signed_transaction)\n",
    "get_tx_result(tx_hash)"
   ]
  },
  {
   "cell_type": "markdown",
   "metadata": {},
   "source": [
    "# Depositing USDb from a wallet"
   ]
  },
  {
   "cell_type": "code",
   "execution_count": 43,
   "metadata": {
    "tags": []
   },
   "outputs": [
    {
     "output_type": "stream",
     "name": "stderr",
     "text": "Raised JSONRPCException while returning the custom response. Error message: {'code': -32602, 'message': 'Pending transaction'}\n{'code': -32602, 'message': 'Pending transaction'} (Json rpc error), Retrying in 1 seconds...\nRaised JSONRPCException while returning the custom response. Error message: {'code': -32602, 'message': 'Pending transaction'}\n{'code': -32602, 'message': 'Pending transaction'} (Json rpc error), Retrying in 2 seconds...\n"
    },
    {
     "output_type": "execute_result",
     "data": {
      "text/plain": "{'txHash': '0xb174901535307cc8b1dc946c1d8235bc2d2c4d0d1c98ed2b5a040dd21dd5b326',\n 'blockHeight': 13564041,\n 'blockHash': '0xaa826bbcf3c705dafecad1a27c4b261cf4e06dd938e0a08db00d8a91108ca9c8',\n 'txIndex': 1,\n 'to': 'cxaa068556df80f9917ef146e889f0b2c4b13ab634',\n 'stepUsed': 1392100,\n 'stepPrice': 10000000000,\n 'cumulativeStepUsed': 1392100,\n 'eventLogs': [{'scoreAddress': 'cx2d844c9613b5f864f5dace7fed82997c4c62ef01',\n   'indexed': ['ReserveUpdated(Address,int,int,int,int)',\n    'cxaa068556df80f9917ef146e889f0b2c4b13ab634',\n    '0x0',\n    '0x0'],\n   'data': ['0xde0b6b3a7640000', '0xde0b6b3a7640000']},\n  {'scoreAddress': 'cxa15c0e87237dfb3c7818078f34d371398b46fe29',\n   'indexed': ['Mint(Address,int)',\n    'hx91bf040426f226b3bfcd2f0b5967bbb0320525ce'],\n   'data': ['0x0']},\n  {'scoreAddress': 'cxa15c0e87237dfb3c7818078f34d371398b46fe29',\n   'indexed': ['Mint(Address,int)',\n    'hx91bf040426f226b3bfcd2f0b5967bbb0320525ce'],\n   'data': ['0x16345785d8a0000']},\n  {'scoreAddress': 'cxa15c0e87237dfb3c7818078f34d371398b46fe29',\n   'indexed': ['MintOnDeposit(Address,int,int,int)',\n    'hx91bf040426f226b3bfcd2f0b5967bbb0320525ce',\n    '0x16345785d8a0000',\n    '0x0'],\n   'data': ['0xde0b6b3a7640000']},\n  {'scoreAddress': 'cxaa068556df80f9917ef146e889f0b2c4b13ab634',\n   'indexed': ['Transfer(Address,Address,int,bytes)',\n    'cx0be0870a036ef7a08997bd12e1cd0bfed2dd5d85',\n    'cx2d844c9613b5f864f5dace7fed82997c4c62ef01',\n    '0x16345785d8a0000'],\n   'data': ['0x4e6f6e65']},\n  {'scoreAddress': 'cx0be0870a036ef7a08997bd12e1cd0bfed2dd5d85',\n   'indexed': ['Deposit(Address,Address,int,int)',\n    'cxaa068556df80f9917ef146e889f0b2c4b13ab634',\n    'hx91bf040426f226b3bfcd2f0b5967bbb0320525ce',\n    '0x16345785d8a0000'],\n   'data': ['0x5bc5cb5e833f1']},\n  {'scoreAddress': 'cxaa068556df80f9917ef146e889f0b2c4b13ab634',\n   'indexed': ['Transfer(Address,Address,int,bytes)',\n    'hx91bf040426f226b3bfcd2f0b5967bbb0320525ce',\n    'cx0be0870a036ef7a08997bd12e1cd0bfed2dd5d85',\n    '0x16345785d8a0000'],\n   'data': ['0x7b226d6574686f64223a20226465706f736974222c2022706172616d73223a207b22616d6f756e74223a203130303030303030303030303030303030307d7d']}],\n 'logsBloom': b'\\x00\\x00\\x00\\x00\\x00\\x00\\x00\\x10\\x00\\x00\\x00 \\x00\\x00\\x00\\x00\\x00\\x00\\x00\\x00\\x00\\x00\\x00\\x00\\x00\\x04\\x00\\x02\\x00\\x00\\x00\\x00\\x00\\x00\\x00\\x00\\x00\\x00\\x10\\x00\\x00@\\x00\\x00\\x00\\x00\\x00\\x00\\x00\\x00\\x01\\x80\\x00\\x00\\x00\\x00 \\x00\\x00\\x80\\x00\\x00\\x00\\x00\\x00\\x00\\x00\\x00\\x00\\x00\\x00\\x00\\x00\\x00\\x00\\x18\\x00\\x01\\x04\\x00 \\x00\\x00\\x00\\x00\\x00\\x00\\x00\\x00\\x00\\x00\\x00\\x04\\x00\\x00\\x00\\x80    \\x00\\x00\\x00\\x00\\x00\\x00\\x00@\\x00@\\x00\\x00\\x00\\x00\\x02\\x00\\x00\\x00\\x00\\x00 \\x00\\x00\\x00\\x00\\x00\\x00\\x00\\x00\\x00 \\x00\\x00\\x00\\x00\\x00\\x00\\x00\\x00\\x00\\x00\\x00\\x00\\x00\\x00\\x01\\x02\\x00\\x00\\x00\\x00 \\x00\\x00\\x00\\x00\\x10\\x00\\x00\\x00\\x00\\x00\\x10\\x00\\x00\\x00\\x00\\x00\\x00\\x00\\x10\\x00\\x04 \\x00\\x10\\x00 \\x02\\x00\\x00\\x00\\x80\\x00\\x00\\x01\\x00\\x00\\x00\\x00\\x80\\x00\\x00\\x80\\x00\\x00\\x00\\x00\\x00\\x00\\x00\\x00\\x00\\x00\\x00\\x00\\x00\\x00\\x00@\\x10\\x00\\x03\\x00\\x08\\x00\\x00\\x00\\x00\\x00\\x00\\x08\\x00\\x80\\x00\\x00\\x00\\x00\\x00\\x01\\x00\\x00\\x00\\x00\\x02\\x00\\x00\\x00\\x00\\x00\\x00\\x00\\x00 \\x00\\x08\\x00\\x81\\x02\\x00\\x00\\x00\\x00\\x02\\x08',\n 'status': 1}"
     },
     "metadata": {},
     "execution_count": 43
    }
   ],
   "source": [
    "data = \"{\\\"method\\\": \\\"deposit\\\", \\\"params\\\": {\\\"amount\\\": 100000000000000000}}\".encode(\"utf-8\")\n",
    "params = {\"_to\": contracts['lendingPool'], \"_value\": 100000000000000000, \"_data\": data}\n",
    "transaction = CallTransactionBuilder()\\\n",
    "    .from_(deployer_wallet.get_address())\\\n",
    "    .to(contracts['usdb'])\\\n",
    "    .value(0)\\\n",
    "    .step_limit(10000000)\\\n",
    "    .nid(3)\\\n",
    "    .nonce(100)\\\n",
    "    .method(\"transfer\")\\\n",
    "    .params(params)\\\n",
    "    .build()\n",
    "signed_transaction = SignedTransaction(transaction, deployer_wallet)\n",
    "tx_hash = icon_service.send_transaction(signed_transaction)\n",
    "get_tx_result(tx_hash)"
   ]
  },
  {
   "cell_type": "code",
   "execution_count": 48,
   "metadata": {
    "tags": []
   },
   "outputs": [
    {
     "output_type": "stream",
     "name": "stderr",
     "text": "Raised JSONRPCException while returning the custom response. Error message: {'code': -32602, 'message': 'Pending transaction'}\n{'code': -32602, 'message': 'Pending transaction'} (Json rpc error), Retrying in 1 seconds...\nRaised JSONRPCException while returning the custom response. Error message: {'code': -32602, 'message': 'Pending transaction'}\n{'code': -32602, 'message': 'Pending transaction'} (Json rpc error), Retrying in 2 seconds...\n"
    },
    {
     "output_type": "execute_result",
     "data": {
      "text/plain": "{'txHash': '0x0380ab8e9ce03f069e8cd44a81b7d469fc7a7f6a9173c6524a3bfe12228252f3',\n 'blockHeight': 13564868,\n 'blockHash': '0x216064c515a79f2234278c2079effafd69e4ad0dd848f52747b221ec157dcdf2',\n 'txIndex': 1,\n 'to': 'cx65f639254090820361da483df233f6d0e69af9b7',\n 'stepUsed': 3167220,\n 'stepPrice': 10000000000,\n 'cumulativeStepUsed': 3167220,\n 'eventLogs': [{'scoreAddress': 'cxa96491850d5dd69efa5d64afa9138fd4a66cd348',\n   'indexed': ['Transfer(Address,Address,int,bytes)',\n    'cxa96491850d5dd69efa5d64afa9138fd4a66cd348',\n    'cx3e9b334a82529797818ca824cc58c51b52a26087',\n    '0xd3c21bcecceda1000000'],\n   'data': ['0x5472616e7366657272656420746f20526577617264732053434f5245']},\n  {'scoreAddress': 'cxa96491850d5dd69efa5d64afa9138fd4a66cd348',\n   'indexed': ['Mint(int,bytes)', '0xd3c21bcecceda1000000'],\n   'data': ['0x4e6f6e65']},\n  {'scoreAddress': 'cx3e9b334a82529797818ca824cc58c51b52a26087',\n   'indexed': ['Distribution(str,Address,int)',\n    'deposit',\n    'hx91bf040426f226b3bfcd2f0b5967bbb0320525ce',\n    '0x34f086f3b33b68400000'],\n   'data': []},\n  {'scoreAddress': 'cx3e9b334a82529797818ca824cc58c51b52a26087',\n   'indexed': ['Distribution(str,Address,int)',\n    'borrow',\n    'hx91bf040426f226b3bfcd2f0b5967bbb0320525ce',\n    '0x34f086f3b33b68400000'],\n   'data': []},\n  {'scoreAddress': 'cx3e9b334a82529797818ca824cc58c51b52a26087',\n   'indexed': ['Distribution(str,Address,int)',\n    'worker',\n    'hx91bf040426f226b3bfcd2f0b5967bbb0320525ce',\n    '0x2a5a058fc295ed000000'],\n   'data': []},\n  {'scoreAddress': 'cxb2e669fbb8b94f2a4525345f22e466933b8d2075',\n   'indexed': ['FundReceived(int,Address,int)',\n    '0x152d02c7e14af6800000',\n    'cxa96491850d5dd69efa5d64afa9138fd4a66cd348',\n    '0x5bc5d18c5d3d0'],\n   'data': []},\n  {'scoreAddress': 'cxa96491850d5dd69efa5d64afa9138fd4a66cd348',\n   'indexed': ['Transfer(Address,Address,int,bytes)',\n    'cx3e9b334a82529797818ca824cc58c51b52a26087',\n    'cxb2e669fbb8b94f2a4525345f22e466933b8d2075',\n    '0x152d02c7e14af6800000'],\n   'data': ['0x4e6f6e65']},\n  {'scoreAddress': 'cx3e9b334a82529797818ca824cc58c51b52a26087',\n   'indexed': ['Distribution(str,Address,int)',\n    'daoFund',\n    'cxb2e669fbb8b94f2a4525345f22e466933b8d2075',\n    '0x152d02c7e14af6800000'],\n   'data': []},\n  {'scoreAddress': 'cx3e9b334a82529797818ca824cc58c51b52a26087',\n   'indexed': ['Distribution(str,Address,int)',\n    'ommICX',\n    'hx3f01840a599da07b0f620eeae7aa9c574169a4be',\n    '0x152d02c7e14af6800000'],\n   'data': []},\n  {'scoreAddress': 'cx3e9b334a82529797818ca824cc58c51b52a26087',\n   'indexed': ['Distribution(str,Address,int)',\n    'ommUSDb',\n    'hx3f01840a599da07b0f620eeae7aa9c574169a4be',\n    '0x152d02c7e14af6800000'],\n   'data': []},\n  {'scoreAddress': 'cx2d844c9613b5f864f5dace7fed82997c4c62ef01',\n   'indexed': ['ReserveUpdated(Address,int,int,int,int)',\n    'cx65f639254090820361da483df233f6d0e69af9b7',\n    '0xdcd730a41c',\n    '0x47117cdc44fa46'],\n   'data': ['0xde0b6b9215c2ba6', '0xde16d9667254b51']},\n  {'scoreAddress': 'cx5bdb716d9d5531927f9cab4dfd26937a595ad52c',\n   'indexed': ['Mint(Address,int)',\n    'hx91bf040426f226b3bfcd2f0b5967bbb0320525ce'],\n   'data': ['0x0']},\n  {'scoreAddress': 'cx5bdb716d9d5531927f9cab4dfd26937a595ad52c',\n   'indexed': ['Mint(Address,int)',\n    'hx91bf040426f226b3bfcd2f0b5967bbb0320525ce'],\n   'data': ['0x989680']},\n  {'scoreAddress': 'cx5bdb716d9d5531927f9cab4dfd26937a595ad52c',\n   'indexed': ['MintOnDeposit(Address,int,int,int)',\n    'hx91bf040426f226b3bfcd2f0b5967bbb0320525ce',\n    '0x989680',\n    '0x0'],\n   'data': ['0xde0b6b9215c2ba6']},\n  {'scoreAddress': 'cx65f639254090820361da483df233f6d0e69af9b7',\n   'indexed': ['Transfer(Address,Address,int,bytes)',\n    'cx0be0870a036ef7a08997bd12e1cd0bfed2dd5d85',\n    'cx2d844c9613b5f864f5dace7fed82997c4c62ef01',\n    '0x989680'],\n   'data': ['0x4e6f6e65']},\n  {'scoreAddress': 'cx0be0870a036ef7a08997bd12e1cd0bfed2dd5d85',\n   'indexed': ['Deposit(Address,Address,int,int)',\n    'cx65f639254090820361da483df233f6d0e69af9b7',\n    'hx91bf040426f226b3bfcd2f0b5967bbb0320525ce',\n    '0x989680'],\n   'data': ['0x5bc5d18c5d3d0']},\n  {'scoreAddress': 'cx65f639254090820361da483df233f6d0e69af9b7',\n   'indexed': ['Transfer(Address,Address,int,bytes)',\n    'hx91bf040426f226b3bfcd2f0b5967bbb0320525ce',\n    'cx0be0870a036ef7a08997bd12e1cd0bfed2dd5d85',\n    '0x989680'],\n   'data': ['0x7b226d6574686f64223a20226465706f736974222c2022706172616d73223a207b22616d6f756e74223a2031303030303030307d7d']}],\n 'logsBloom': b'\\x08\\x00\\x00\\x10\\x00\\x00\\x00\\x10 \\x04@ \\x00\\x00\\x08\\x00\\x01\\x10\\x01 \\x80\\x00\\x00\\x00\\x00\\x00\\x00\\x00\\x10\\x00\\x00\\x00\\x00\\x10\\x00\\x00\\x00\\x00\\x10\\x00\\x00\\x01\\x00\\x00\\x00\\x00\\x00\\x04!\\x00\\x01\\x80\\x14\\x00\\x00\\x04\\x80\\x00\\x01\\x84\\x00\\x00\\x18@\\x10\\x10\\x00\\x004\\x00@\\x00\\x00\\x80\\x04\\x18\\x00\\x00\\x04\\x00 \\x00\\x00\\x00!\\x00\\x00\\x00\\x00\\x00\\x00\\x00\\x00\\x00P\\x08\\x84\\x00  \\x00$@H\\x00\\x00\\t\\x00P\\x00@\\x00!@\\x00\\x02\\x00\\x00\\x00\\x00@ \\x00\\x80\\x00\\x00\\x08\\x00\\x10\\x00\\x01!\\x00 \\x00\\x00\\x00\\x00\\x00\\x00\\x00\\x00!\\x00\\x00\\x00\\x01\\x02\\x00\\x00\\x00\\x00\\x00\\x00\\x00\\x10\\x00\\x10\\x01\\x00\\x00 \\x00\\x10\\x00\\x00\\x01\\x00\\x00\\x00 \\x10\\x00\\x00\\x00\\x00\\x10\\x01 \\x00\\x00\\x00\\x10\\x80\\x00\\x00\\x01\\x00\\x00\\x00\\x00\\x81\\x00\\x00\\x81\\x00\\x00\\x00@\\x00\\x04\\x00\\x00\\x02\\x00\\x00\\x80\\x04B\\x00\\x00\\x00\\x00\\x03\\x00\\x08\\x00\\x04\\x08\\x00\\x00\\x00@\\x00\\x80\\x00\\x80\\x00\\x00\\x00\\x01\\x00\\x00\\x00\\x04\\x02\\x00\\x00\\x00\\x00\\x10\\x00\\x00\\x02 \\x00\\x00\\x10\\x81A\\x08\\x00\\x01\\x10\\x02\\x00',\n 'status': 1}"
     },
     "metadata": {},
     "execution_count": 48
    }
   ],
   "source": [
    "dataJson = {'method':'deposit','params':{'amount':10 * 10**6}}\n",
    "data = json.dumps(dataJson).encode(\"utf-8\")\n",
    "params = {\"_to\": contracts['lendingPool'], \"_value\": 10 * 10**6, \"_data\": data}\n",
    "transaction = CallTransactionBuilder()\\\n",
    "    .from_(deployer_wallet.get_address())\\\n",
    "    .to(contracts['iusdc'])\\\n",
    "    .value(0)\\\n",
    "    .step_limit(10000000)\\\n",
    "    .nid(3)\\\n",
    "    .nonce(100)\\\n",
    "    .method(\"transfer\")\\\n",
    "    .params(params)\\\n",
    "    .build()\n",
    "signed_transaction = SignedTransaction(transaction, deployer_wallet)\n",
    "tx_hash = icon_service.send_transaction(signed_transaction)\n",
    "get_tx_result(tx_hash)"
   ]
  },
  {
   "cell_type": "markdown",
   "metadata": {},
   "source": [
    "# Borrowing USDb"
   ]
  },
  {
   "cell_type": "code",
   "execution_count": 46,
   "metadata": {
    "tags": []
   },
   "outputs": [
    {
     "output_type": "stream",
     "name": "stdout",
     "text": "{'version': '0x3', 'from': 'hx91bf040426f226b3bfcd2f0b5967bbb0320525ce', 'to': 'cx0be0870a036ef7a08997bd12e1cd0bfed2dd5d85', 'stepLimit': '0x49915c', 'timestamp': '0x5bc5cfd74af6c', 'nid': '0x3', 'nonce': '0x64', 'dataType': 'call', 'data': {'method': 'borrow', 'params': {'_reserve': 'cxaa068556df80f9917ef146e889f0b2c4b13ab634', '_amount': '0x2c68af0bb140000'}}, 'signature': 'q/qtu/o1vq1vOW3IZ+qcjT5yDT2QiSIOFfjofugRBzhGCngOBNhfQayRUtNX/dh6NRNmhEhf0QIYSg93u1W5QgA='}\nRaised JSONRPCException while returning the custom response. Error message: {'code': -32602, 'message': 'Pending transaction'}\n{'code': -32602, 'message': 'Pending transaction'} (Json rpc error), Retrying in 1 seconds...\nRaised JSONRPCException while returning the custom response. Error message: {'code': -32602, 'message': 'Pending transaction'}\n{'code': -32602, 'message': 'Pending transaction'} (Json rpc error), Retrying in 2 seconds...\n"
    },
    {
     "output_type": "execute_result",
     "data": {
      "text/plain": "{'txHash': '0x77ed0fb3b384ecfc83dff484f2501ecb7b6d28c6a10b033c40448128ede864d3',\n 'blockHeight': 13564640,\n 'blockHash': '0x9a4ed15d531ed9ada0e3acefd6b2817a645dbe0fdf0575353fe97b77a76de479',\n 'txIndex': 1,\n 'to': 'cx0be0870a036ef7a08997bd12e1cd0bfed2dd5d85',\n 'stepUsed': 4721340,\n 'stepPrice': 10000000000,\n 'cumulativeStepUsed': 4721340,\n 'eventLogs': [{'scoreAddress': 'cxa96491850d5dd69efa5d64afa9138fd4a66cd348',\n   'indexed': ['Transfer(Address,Address,int,bytes)',\n    'cxa96491850d5dd69efa5d64afa9138fd4a66cd348',\n    'cx3e9b334a82529797818ca824cc58c51b52a26087',\n    '0xd3c21bcecceda1000000'],\n   'data': ['0x5472616e7366657272656420746f20526577617264732053434f5245']},\n  {'scoreAddress': 'cxa96491850d5dd69efa5d64afa9138fd4a66cd348',\n   'indexed': ['Mint(int,bytes)', '0xd3c21bcecceda1000000'],\n   'data': ['0x4e6f6e65']},\n  {'scoreAddress': 'cx3e9b334a82529797818ca824cc58c51b52a26087',\n   'indexed': ['Distribution(str,Address,int)',\n    'deposit',\n    'hx91bf040426f226b3bfcd2f0b5967bbb0320525ce',\n    '0x34f086f3b33b68400000'],\n   'data': []},\n  {'scoreAddress': 'cx3e9b334a82529797818ca824cc58c51b52a26087',\n   'indexed': ['Distribution(str,Address,int)',\n    'borrow',\n    'hx91bf040426f226b3bfcd2f0b5967bbb0320525ce',\n    '0x34f086f3b33b68400000'],\n   'data': []},\n  {'scoreAddress': 'cx3e9b334a82529797818ca824cc58c51b52a26087',\n   'indexed': ['Distribution(str,Address,int)',\n    'worker',\n    'hx91bf040426f226b3bfcd2f0b5967bbb0320525ce',\n    '0x2a5a058fc295ed000000'],\n   'data': []},\n  {'scoreAddress': 'cxb2e669fbb8b94f2a4525345f22e466933b8d2075',\n   'indexed': ['FundReceived(int,Address,int)',\n    '0x152d02c7e14af6800000',\n    'cxa96491850d5dd69efa5d64afa9138fd4a66cd348',\n    '0x5bc5cfd84556e'],\n   'data': []},\n  {'scoreAddress': 'cxa96491850d5dd69efa5d64afa9138fd4a66cd348',\n   'indexed': ['Transfer(Address,Address,int,bytes)',\n    'cx3e9b334a82529797818ca824cc58c51b52a26087',\n    'cxb2e669fbb8b94f2a4525345f22e466933b8d2075',\n    '0x152d02c7e14af6800000'],\n   'data': ['0x4e6f6e65']},\n  {'scoreAddress': 'cx3e9b334a82529797818ca824cc58c51b52a26087',\n   'indexed': ['Distribution(str,Address,int)',\n    'daoFund',\n    'cxb2e669fbb8b94f2a4525345f22e466933b8d2075',\n    '0x152d02c7e14af6800000'],\n   'data': []},\n  {'scoreAddress': 'cx3e9b334a82529797818ca824cc58c51b52a26087',\n   'indexed': ['Distribution(str,Address,int)',\n    'ommICX',\n    'hx3f01840a599da07b0f620eeae7aa9c574169a4be',\n    '0x152d02c7e14af6800000'],\n   'data': []},\n  {'scoreAddress': 'cx3e9b334a82529797818ca824cc58c51b52a26087',\n   'indexed': ['Distribution(str,Address,int)',\n    'ommUSDb',\n    'hx3f01840a599da07b0f620eeae7aa9c574169a4be',\n    '0x152d02c7e14af6800000'],\n   'data': []},\n  {'scoreAddress': 'cxb2e669fbb8b94f2a4525345f22e466933b8d2075',\n   'indexed': ['FundReceived(int,Address,int)',\n    '0x2ebc00',\n    'cxaa068556df80f9917ef146e889f0b2c4b13ab634',\n    '0x5bc5cfd84556e'],\n   'data': []},\n  {'scoreAddress': 'cxaa068556df80f9917ef146e889f0b2c4b13ab634',\n   'indexed': ['Transfer(Address,Address,int,bytes)',\n    'cx2d844c9613b5f864f5dace7fed82997c4c62ef01',\n    'cxb2e669fbb8b94f2a4525345f22e466933b8d2075',\n    '0x2ebc00'],\n   'data': ['0x4e6f6e65']},\n  {'scoreAddress': 'cx2d844c9613b5f864f5dace7fed82997c4c62ef01',\n   'indexed': ['DaoFundTransfer(int,Address,Address)',\n    '0x2ebc00',\n    'cxaa068556df80f9917ef146e889f0b2c4b13ab634',\n    'hx91bf040426f226b3bfcd2f0b5967bbb0320525ce'],\n   'data': []},\n  {'scoreAddress': 'cx2d844c9613b5f864f5dace7fed82997c4c62ef01',\n   'indexed': ['ReserveUpdated(Address,int,int,int,int)',\n    'cxaa068556df80f9917ef146e889f0b2c4b13ab634',\n    '0x13b14957edd19e',\n    '0x77be3eca343d3d'],\n   'data': ['0xde0b8b57ceda424', '0xde0b92ec76d4541']},\n  {'scoreAddress': 'cxaa068556df80f9917ef146e889f0b2c4b13ab634',\n   'indexed': ['Transfer(Address,Address,int,bytes)',\n    'cx2d844c9613b5f864f5dace7fed82997c4c62ef01',\n    'hx91bf040426f226b3bfcd2f0b5967bbb0320525ce',\n    '0x2c68af0bb140000'],\n   'data': ['0x4e6f6e65']},\n  {'scoreAddress': 'cx0be0870a036ef7a08997bd12e1cd0bfed2dd5d85',\n   'indexed': ['Borrow(Address,Address,int,int,int,int,int)',\n    'cxaa068556df80f9917ef146e889f0b2c4b13ab634',\n    'hx91bf040426f226b3bfcd2f0b5967bbb0320525ce',\n    '0x2c68af0bb140000'],\n   'data': ['0x77be3eca343d3d',\n    '0xb5e620f48000',\n    '0x1d35808',\n    '0x5bc5cfd84556e']}],\n 'logsBloom': b'\\x08\\x00\\x00\\x00\\x01\\x00\\x00\\x10 \\x04@ \\x08\\x00\\x08\\x00\\x01\\x10\\x01\\x00\\x80\\x00\\x00\\x00\\x00\\x04\\x00\\x00\\x00\\x00\\x00\\x04\\x00\\x14\\x00\\x00\\x00\\x00\\x02\\x00\\x00A0\\x00\\x00\\x00\\x00\\x04!\\x00\\x00\\x80\\x14\\x02\\x00\\x04\\xa0\\x00\\x01\\x04\\x00\\x00\\x08@\\x00\\x10\\x00\\x08$\\x00@\\x00\\x00\\x80\\x05 \\x00\\x00\\x01\\x00\\x00\\x00\\x00\\x00# @@\\x01\\x00\\x00\\x00\\x04\\x00\\x10\\x08\\x00\\x00  \\x02$@H\\x00\\x00\\t\\x00\\x10\\x00\\x00\\x00\\x01@\\x00\\x00\\x00\\x00\\x00\\x00\\x00 \\x00\\x80\\x00\\x00\\x08\\x00\\x00\\x00\\x01\\x00\\x10 \\x00\\x00\\x00\\x00\\x00\\x00\\x00\\x00\\x01\\x00\\x00\\x00\\x00\\x00\\x00\\x00\\x00\\x00\\x00\\x00\\x10\\x10\\x00\\x10\\x00D\\x00 \\x00\\x10\\x00\\x00!\\x00\\x00\\x00\\x00\\x00\\x00\\x00\\x00\\x00\\x10\\x01 \\x00\\x10\\x04\\x10\\x80\\x00\\x00\\x00\\x00\\x00\\x02\\x00\\x00\\x00\\x00\\x00\\x08\\x00\\x00@\\x00\\x04\\x00\\x00\\x02\\x00\\x00\\x90\\x04B\\x00 \\x00\\x00\\x01\\x00\\x00\\x00\\x04\\x00\\x00\\x00\\x00@\\x00\\x80\\x00\\x00\\x00\\x00\\x00\\x00\\x00\\x00\\x00\\x04\\x00\\x00\\x00\\x00\\x00\\x10\\x00\\x00\\x02 \\x02\\x08\\x00\\x01B\\x08\\x00\\x00\\x10\\x02\\x00',\n 'status': 1}"
     },
     "metadata": {},
     "execution_count": 46
    }
   ],
   "source": [
    "params ={\"_reserve\": contracts['usdb'], \"_amount\":2*10**17 }\n",
    "call_transaction = CallTransactionBuilder()\\\n",
    "    .from_(deployer_wallet.get_address())\\\n",
    "    .to(contracts['lendingPool']) \\\n",
    "    .nid(NID) \\\n",
    "    .nonce(100) \\\n",
    "    .method(\"borrow\")\\\n",
    "    .params(params)\\\n",
    "    .build()\n",
    "\n",
    "estimate_step = icon_service.estimate_step(call_transaction)\n",
    "step_limit = estimate_step + 100000\n",
    "# Returns the signed transaction object having a signature\n",
    "signed_transaction = SignedTransaction(call_transaction, deployer_wallet,step_limit)\n",
    "\n",
    "# Reads params to transfer to nodes\n",
    "print(signed_transaction.signed_transaction_dict)\n",
    "\n",
    "# Sends the transaction\n",
    "tx_hash = icon_service.send_transaction(signed_transaction)\n",
    "get_tx_result(tx_hash)"
   ]
  },
  {
   "cell_type": "code",
   "execution_count": 49,
   "metadata": {
    "tags": []
   },
   "outputs": [
    {
     "output_type": "stream",
     "name": "stdout",
     "text": "{'version': '0x3', 'from': 'hx91bf040426f226b3bfcd2f0b5967bbb0320525ce', 'to': 'cx0be0870a036ef7a08997bd12e1cd0bfed2dd5d85', 'stepLimit': '0x308f18', 'timestamp': '0x5bc5d1b665a34', 'nid': '0x3', 'nonce': '0x64', 'dataType': 'call', 'data': {'method': 'borrow', 'params': {'_reserve': 'cx65f639254090820361da483df233f6d0e69af9b7', '_amount': '0x4c4b40'}}, 'signature': 'e3XIeMZXdIm6WSVrzTvDcuK3i3RECA3tMIVN1z3PtCNBQKKfAL7E6px7tVsalUlM/HapJDUlgH82MBlopoj1IwE='}\nRaised JSONRPCException while returning the custom response. Error message: {'code': -32602, 'message': 'Pending transaction'}\n{'code': -32602, 'message': 'Pending transaction'} (Json rpc error), Retrying in 1 seconds...\nRaised JSONRPCException while returning the custom response. Error message: {'code': -32602, 'message': 'Pending transaction'}\n{'code': -32602, 'message': 'Pending transaction'} (Json rpc error), Retrying in 2 seconds...\n"
    },
    {
     "output_type": "execute_result",
     "data": {
      "text/plain": "{'txHash': '0xec207b427af003ed7783b65e8b1d2ef0dde12e9b210654e27d6bff0c960eb270',\n 'blockHeight': 13564891,\n 'blockHash': '0xcc33b8051c378787c91a8f163f16500469d8f4709e6196c63f70176827d20d75',\n 'txIndex': 1,\n 'to': 'cx0be0870a036ef7a08997bd12e1cd0bfed2dd5d85',\n 'stepUsed': 3082360,\n 'stepPrice': 10000000000,\n 'cumulativeStepUsed': 3082360,\n 'eventLogs': [{'scoreAddress': 'cxb2e669fbb8b94f2a4525345f22e466933b8d2075',\n   'indexed': ['FundReceived(int,Address,int)',\n    '0x0',\n    'cx65f639254090820361da483df233f6d0e69af9b7',\n    '0x5bc5d1b8646a5'],\n   'data': []},\n  {'scoreAddress': 'cx65f639254090820361da483df233f6d0e69af9b7',\n   'indexed': ['Transfer(Address,Address,int,bytes)',\n    'cx2d844c9613b5f864f5dace7fed82997c4c62ef01',\n    'cxb2e669fbb8b94f2a4525345f22e466933b8d2075',\n    '0x0'],\n   'data': ['0x4e6f6e65']},\n  {'scoreAddress': 'cx2d844c9613b5f864f5dace7fed82997c4c62ef01',\n   'indexed': ['DaoFundTransfer(int,Address,Address)',\n    '0x0',\n    'cx65f639254090820361da483df233f6d0e69af9b7',\n    'hx91bf040426f226b3bfcd2f0b5967bbb0320525ce'],\n   'data': []},\n  {'scoreAddress': 'cx2d844c9613b5f864f5dace7fed82997c4c62ef01',\n   'indexed': ['ReserveUpdated(Address,int,int,int,int)',\n    'cx65f639254090820361da483df233f6d0e69af9b7',\n    '0x21722552734d1a',\n    '0x8d300af260db69'],\n   'data': ['0xde0b6b921714814', '0xde16d9d32af8f71']},\n  {'scoreAddress': 'cx65f639254090820361da483df233f6d0e69af9b7',\n   'indexed': ['Transfer(Address,Address,int,bytes)',\n    'cx2d844c9613b5f864f5dace7fed82997c4c62ef01',\n    'hx91bf040426f226b3bfcd2f0b5967bbb0320525ce',\n    '0x4c4b40'],\n   'data': ['0x4e6f6e65']},\n  {'scoreAddress': 'cx0be0870a036ef7a08997bd12e1cd0bfed2dd5d85',\n   'indexed': ['Borrow(Address,Address,int,int,int,int,int)',\n    'cx65f639254090820361da483df233f6d0e69af9b7',\n    'hx91bf040426f226b3bfcd2f0b5967bbb0320525ce',\n    '0x4c4b40'],\n   'data': ['0x8d300af260db69', '0x1388', '0x1', '0x5bc5d1b8646a5']}],\n 'logsBloom': b'\\x00\\x00\\x00\\x00\\x01\\x00\\x00\\x10\\x00\\x80\\x00 \\x00\\x00\\x08\\x00\\x00\\x00\\x00\\x00\\x00\\x00\\x00\\x00\\x00\\x04\\x00\\x00\\x00\\x00\\x00\\x04\\x00\\x14\\x00 \\x00\\x000\\x00\\x00\\x00\\x00\\x00\\x00\\x00\\x00\\x00\\x00\\x00\\x00\\x80\\x10\\x00\\x01\\x00\\x00\\x00\\x00\\x00\\x08\\x00\\x00@\\x10\\x10\\x00\\x08\\x00\\x00\\x00\\x00\\x00\\x00\\x00 \\x10\\x00\\x01\\x00\\x00\\x00\\x00\\x00\\x00\\x00\\x00\\x00\\x01\\x00\\x00\\x00\\x00\\x00\\x00\\x00\\x00\\x00 (\\x02$\\x00\\x00\\x00\\x00\\x08\\x00\\x00\\x00\\x00\\x00\\x00\\x00\\x00\\x00\\x00\\x00\\x00\\x00\\x00 \\x00\\x00\\x00\\x00\\x00\\x80\\x00\\x00\\x00\\x01\\x00\\x00\\x00\\x00\\x00\\x00\\x00\\x00\\x00\\x00 \\x00\\x00\\x00\\x80\\x00\\x00\\x00\\x00\\x00\\x00\\x00\\x10\\x00\\x00\\x14\\x01\\x04\\x00\\x00\\x00\\x10\\x00\\x00\\x01\\x00\\x00\\x00 \\x00\\x01\\x00\\x00\\x00\\x10\\x00\\x00\\x00\\x10\\x00\\x00\\x88\\x00\\x00\\x00\\x00\\x00\\x00\\x00\\x00\\x00\\x00\\x00\\x00\\x08\\x04\\x00\\x00\\x00\\x00\\x00\\x00 \\x00\\x00\\x00\\x02\\x02\\x00\\x00\\x00\\x03\\x00\\x00\\x00\\x02\\x08\\x00\\x00\\x00\\x00\\x00\\x80\\x00\\x00\\x00\\x00\\x00\\x01\\x00\\x00\\x00\\x00\\x00\\x00\\x00\\x00\\x00\\x00\\x00\\x00\\x00 \\x00\\x00\\x00\\x01\\x00\\x00\\x00\\x00\\x00\\x02\\x00',\n 'status': 1}"
     },
     "metadata": {},
     "execution_count": 49
    }
   ],
   "source": [
    "params ={\"_reserve\": contracts['iusdc'], \"_amount\":5*10**6}\n",
    "call_transaction = CallTransactionBuilder()\\\n",
    "    .from_(deployer_wallet.get_address())\\\n",
    "    .to(contracts['lendingPool']) \\\n",
    "    .nid(NID) \\\n",
    "    .nonce(100) \\\n",
    "    .method(\"borrow\")\\\n",
    "    .params(params)\\\n",
    "    .build()\n",
    "\n",
    "estimate_step = icon_service.estimate_step(call_transaction)\n",
    "step_limit = estimate_step + 100000\n",
    "# Returns the signed transaction object having a signature\n",
    "signed_transaction = SignedTransaction(call_transaction, deployer_wallet,step_limit)\n",
    "\n",
    "# Reads params to transfer to nodes\n",
    "print(signed_transaction.signed_transaction_dict)\n",
    "\n",
    "# Sends the transaction\n",
    "tx_hash = icon_service.send_transaction(signed_transaction)\n",
    "get_tx_result(tx_hash)"
   ]
  },
  {
   "cell_type": "markdown",
   "metadata": {},
   "source": [
    "# Reedeming/Withdrawing USDb"
   ]
  },
  {
   "cell_type": "code",
   "execution_count": 201,
   "metadata": {
    "tags": []
   },
   "outputs": [
    {
     "output_type": "stream",
     "name": "stdout",
     "text": "{'version': '0x3', 'from': 'hx91bf040426f226b3bfcd2f0b5967bbb0320525ce', 'to': 'cxf3e8b176a276a1d6bde232638656ed835f5cb058', 'stepLimit': '0x1ebbe4', 'timestamp': '0x5bc134e863935', 'nid': '0x3', 'nonce': '0x64', 'dataType': 'call', 'data': {'method': 'redeem', 'params': {'_amount': '0x8ac7230489e80000'}}, 'signature': 'RQVDJE94BxczSXn1TF+skvwW1ZvrA9vT2st+Vkxw7rVNyeQTO841UBkA4ygSy3QJthed1wpCeXTzofB2xHpdVAE='}\nRaised JSONRPCException while returning the custom response. Error message: {'code': -32602, 'message': 'Pending transaction'}\n{'code': -32602, 'message': 'Pending transaction'} (Json rpc error), Retrying in 1 seconds...\nRaised JSONRPCException while returning the custom response. Error message: {'code': -32602, 'message': 'Pending transaction'}\n{'code': -32602, 'message': 'Pending transaction'} (Json rpc error), Retrying in 2 seconds...\n"
    },
    {
     "output_type": "execute_result",
     "data": {
      "text/plain": "{'txHash': '0x9e6525e9d55f2374571e6b22fc1a1beb01c2cee1758f963ac8824fab195e8861',\n 'blockHeight': 13407706,\n 'blockHash': '0xf97b64c0136d1694c01033915f20b25f18a7c711672d67194d449bb0a9eac788',\n 'txIndex': 1,\n 'to': 'cxf3e8b176a276a1d6bde232638656ed835f5cb058',\n 'stepUsed': 1914180,\n 'stepPrice': 10000000000,\n 'cumulativeStepUsed': 1914180,\n 'eventLogs': [{'scoreAddress': 'cxf3e8b176a276a1d6bde232638656ed835f5cb058',\n   'indexed': ['Mint(Address,int)',\n    'hx91bf040426f226b3bfcd2f0b5967bbb0320525ce'],\n   'data': ['0x262400bb68']},\n  {'scoreAddress': 'cxf3e8b176a276a1d6bde232638656ed835f5cb058',\n   'indexed': ['Burn(Address,int)',\n    'hx91bf040426f226b3bfcd2f0b5967bbb0320525ce'],\n   'data': ['0x8ac7230489e80000']},\n  {'scoreAddress': 'cx2d844c9613b5f864f5dace7fed82997c4c62ef01',\n   'indexed': ['ReserveUpdated(Address,int,int,int,int)',\n    'cxc88e39248bf428d3ab0b9c9fbafef9ff423c3a75',\n    '0xa989db0362d9',\n    '0x48d93c1b747989'],\n   'data': ['0xde0b6b3b12795b1', '0xde0b6b7e447a3c1']},\n  {'scoreAddress': 'cxc88e39248bf428d3ab0b9c9fbafef9ff423c3a75',\n   'indexed': ['Transfer(Address,Address,int,bytes)',\n    'cx2d844c9613b5f864f5dace7fed82997c4c62ef01',\n    'hx91bf040426f226b3bfcd2f0b5967bbb0320525ce',\n    '0x8ac7230489e80000'],\n   'data': ['0x4e6f6e65']},\n  {'scoreAddress': 'cx0be0870a036ef7a08997bd12e1cd0bfed2dd5d85',\n   'indexed': ['RedeemUnderlying(Address,Address,int,int)',\n    'cxc88e39248bf428d3ab0b9c9fbafef9ff423c3a75',\n    'hx91bf040426f226b3bfcd2f0b5967bbb0320525ce',\n    '0x8ac7230489e80000'],\n   'data': ['0x5bc134ea7930a']},\n  {'scoreAddress': 'cxf3e8b176a276a1d6bde232638656ed835f5cb058',\n   'indexed': ['Redeem(Address,int,int,int)',\n    'hx91bf040426f226b3bfcd2f0b5967bbb0320525ce',\n    '0x8ac7230489e80000',\n    '0x262400bb68'],\n   'data': ['0xde0b6b3b12795b1']}],\n 'logsBloom': b'\\x00\\x08\\x00\\x00\\x00\\x00\\x00\\x10\\x00\\x10\\x00 \\x00\\x00\\x00\\x00@\\x00\\x00@\\x00\\x00\\x00\\x00\\x00\\x00\\x00\\x08\\x08\\x00\\x00\\x04\\x00\\x00\\x00\\x00 \\x01\\x10\\x00\\x00\\x00\\x00\\x00\\x00\\x00\\x00\\x00\\x00\\x00\\x00\\x80\\x00\\x00\\x02\\x00\\x80\\x00\\x00\\x80\\x04\\x00\\x00\\x00\\x00\\x00\\x00\\x00\\x00\\x00\\x00\\x08\\x00\\x00\\x000\\x00\\x00\\x00\\x04\\x00\\x00\\x00\\x00\\x00\\x00\\x00\\x00\\x00\\x00\\x00\\x10\\x02\\x00\\x00\\x00\\x00\\x00  \\x00\\x00\\x00\\x00\\x00\\x00\\x10\\x80\\x04\\x00@\\x00\\x00\\x00\\x00\\x00\\x00\\x00\\x00\\x00\\x00 \\x00\\x00\\x00\\x00\\x00\\x00\\x00\\x00\\x00\\x00@\\x00\\x00\\x00\\x00\\x00\\x00\\x00\\x00\\x00\\x00\\x01\\x00\\x00\\x01\\x02\\x10\\x00\\x00\\x00\\x00\\x00\\x10\\x00\\x00\\x10\\x00\\x00\\x00\\x00\\x00\\x10\\x00\\x08\\x00\\x00\\x00\\x00\\x00\\x00\\x00\\x00\\x00\\x00\\x10\\x00\\x00\\x00\\x00\\x00\\x00\\x80\\x00\\x00\\x00\\x00\\x00\\x00\\x00\\x00\\x00\\x00\\x00\\x00\\x00\\x00\\x00\\x00\\x00\\x00\\x00\\x00@\\x00\\x00\\x00\\x00\\x01\\x00\\x00\\x00\\x01\\x04\\t\\x00\\x00\\x00\\x00\\x00\\x00\\x00\\x00\\x80\\x04\\x00\\x00\\x00\\x00\\x10\\x00\\x00\\x08\\x00\\x00\\x00\\x00\\x00\\x00\\x00\\x04\\x00\\x00 \\x00\\x00\\x00\\x01\\x00\\x00\\x00\\x00@\\x02\\x00',\n 'status': 1}"
     },
     "metadata": {},
     "execution_count": 201
    }
   ],
   "source": [
    "params ={\"_amount\": 10*10**18 }\n",
    "call_transaction = CallTransactionBuilder()\\\n",
    "    .from_(deployer_wallet.get_address())\\\n",
    "    .to(contracts['oToken']) \\\n",
    "    .nid(NID) \\\n",
    "    .nonce(100) \\\n",
    "    .method(\"redeem\")\\\n",
    "    .params(params)\\\n",
    "    .build()\n",
    "\n",
    "estimate_step = icon_service.estimate_step(call_transaction)\n",
    "step_limit = estimate_step + 100000\n",
    "# Returns the signed transaction object having a signature\n",
    "signed_transaction = SignedTransaction(call_transaction, deployer_wallet,step_limit)\n",
    "\n",
    "# Reads params to transfer to nodes\n",
    "print(signed_transaction.signed_transaction_dict)\n",
    "\n",
    "# Sends the transaction\n",
    "tx_hash = icon_service.send_transaction(signed_transaction)\n",
    "get_tx_result(tx_hash)"
   ]
  },
  {
   "cell_type": "code",
   "execution_count": 202,
   "metadata": {
    "tags": []
   },
   "outputs": [
    {
     "output_type": "stream",
     "name": "stdout",
     "text": "{'version': '0x3', 'from': 'hx91bf040426f226b3bfcd2f0b5967bbb0320525ce', 'to': 'cx5bdb716d9d5531927f9cab4dfd26937a595ad52c', 'stepLimit': '0x1e9d1c', 'timestamp': '0x5bc134f958f3f', 'nid': '0x3', 'nonce': '0x64', 'dataType': 'call', 'data': {'method': 'redeem', 'params': {'_amount': '0xf4240'}}, 'signature': 'uEpQ0whgdYztMeb4MYVnI5muNWf+H6nfvytz3lBNo499jekz0d2DxpWgcXILJrTeT4Zv+VjShRTTQ6L4mRSmGQE='}\nRaised JSONRPCException while returning the custom response. Error message: {'code': -32602, 'message': 'Pending transaction'}\n{'code': -32602, 'message': 'Pending transaction'} (Json rpc error), Retrying in 1 seconds...\nRaised JSONRPCException while returning the custom response. Error message: {'code': -32602, 'message': 'Pending transaction'}\n{'code': -32602, 'message': 'Pending transaction'} (Json rpc error), Retrying in 2 seconds...\n"
    },
    {
     "output_type": "execute_result",
     "data": {
      "text/plain": "{'txHash': '0xb2a9a89d03392c94d5c6b7d807fcca5989c8165800e582c234481a15e2d70822',\n 'blockHeight': 13407715,\n 'blockHash': '0x0508b1a835e66d51a3345098c0865cbd991e6f494d7332451aefc44ca1e82fa2',\n 'txIndex': 1,\n 'to': 'cx5bdb716d9d5531927f9cab4dfd26937a595ad52c',\n 'stepUsed': 1906300,\n 'stepPrice': 10000000000,\n 'cumulativeStepUsed': 1906300,\n 'eventLogs': [{'scoreAddress': 'cx5bdb716d9d5531927f9cab4dfd26937a595ad52c',\n   'indexed': ['Mint(Address,int)',\n    'hx91bf040426f226b3bfcd2f0b5967bbb0320525ce'],\n   'data': ['0x0']},\n  {'scoreAddress': 'cx5bdb716d9d5531927f9cab4dfd26937a595ad52c',\n   'indexed': ['Burn(Address,int)',\n    'hx91bf040426f226b3bfcd2f0b5967bbb0320525ce'],\n   'data': ['0xf4240']},\n  {'scoreAddress': 'cx2d844c9613b5f864f5dace7fed82997c4c62ef01',\n   'indexed': ['ReserveUpdated(Address,int,int,int,int)',\n    'cx65f639254090820361da483df233f6d0e69af9b7',\n    '0x91443a517b8e3',\n    '0x5acaa472ed38e4'],\n   'data': ['0xde0b6b437fac1af', '0xde0b6b9edef1408']},\n  {'scoreAddress': 'cx65f639254090820361da483df233f6d0e69af9b7',\n   'indexed': ['Transfer(Address,Address,int,bytes)',\n    'cx2d844c9613b5f864f5dace7fed82997c4c62ef01',\n    'hx91bf040426f226b3bfcd2f0b5967bbb0320525ce',\n    '0xf4240'],\n   'data': ['0x4e6f6e65']},\n  {'scoreAddress': 'cx0be0870a036ef7a08997bd12e1cd0bfed2dd5d85',\n   'indexed': ['RedeemUnderlying(Address,Address,int,int)',\n    'cx65f639254090820361da483df233f6d0e69af9b7',\n    'hx91bf040426f226b3bfcd2f0b5967bbb0320525ce',\n    '0xf4240'],\n   'data': ['0x5bc134fbb0cb0']},\n  {'scoreAddress': 'cx5bdb716d9d5531927f9cab4dfd26937a595ad52c',\n   'indexed': ['Redeem(Address,int,int,int)',\n    'hx91bf040426f226b3bfcd2f0b5967bbb0320525ce',\n    '0xf4240',\n    '0x0'],\n   'data': ['0xde0b6b437fac1af']}],\n 'logsBloom': b'\\x00\\x00\\x00\\x00\\x00\\x00\\x00\\x10\\x00\\x10\\x00 \\x00\\x00\\x00\\x00@\\x00\\x00\\x00\\x00\\x00\\x00\\x00\\x00\\x00\\x00\\x08\\x00\\x00\\x00\\x04\\x00\\x00\\x00\\x00\\x00\\x00\\x10\\x00\\x00\\x00\\x00\\x00\\x00\\x00\\x00\\x00\\x00\\x00\\x00\\x80\\x00\\x00\\x00\\x00\\x00\\x00\\x00\\x80\\x00\\x00\\x00\\x00\\x10\\x00\\x00\\x00\\x00\\x00\\x00\\x00\\x00\\x00\\x000\\x00\\x00\\x00\\x04\\x00\\x00\\x00\\x00\\x00\\x00\\x00\\x08\\x00\\x00\\x00\\x00\\x00\\x00\\x00\\x80\\x00\\x04  \\x00\\x00\\x00\\x00\\x00\\x00\\x00\\x00\\x00\\x00@\\x00\\x00\\x00\\x00\\x10@\\x00\\x00\\x00@ \\x00\\x00\\x00\\x00\\x00\\x00\\x10\\x00\\x00\\x01\\x00\\x00\\x00\\x00\\x00\\x00\\x00\\x00\\x00\\x00 \\x01\\x00\\x00\\x01\\x02\\x10\\x00\\x00\\x00\\x00\\x00\\x10\\x00\\x00\\x10\\x01\\x00\\x00\\x00\\x00\\x10\\x00@\\x00\\x00\\x80\\x00 \\x00\\x00\\x00\\x00\\x00\\x10\\x00\\x00\\x00\\x00\\x00\\x00\\x80\\x00\\x00\\x00\\x00\\x00\\x00\\x00\\x00\\x00\\x04\\x00\\x00\\x00\\x00\\x00\\x00\\x00\\x00\\x00\\x00\\x00\\x00\\x00\\x00\\x00\\x01\\x00\\x00\\x00\\x07\\x00\\x08\\x00\\x00\\x08\\x00\\x00\\x00\\x00\\x00\\x80\\x00\\x00\\x00\\x00\\x00\\x11\\x00\\x00\\x00\\x00\\x80\\x00\\x00\\x00\\x00\\x00\\x04\\x00\\x00 \\x00\\x04\\x00\\x01\\x01\\x00\\x80\\x00\\x00\\x02\\x00',\n 'status': 1}"
     },
     "metadata": {},
     "execution_count": 202
    }
   ],
   "source": [
    "params ={\"_amount\": 1*10**6 }\n",
    "call_transaction = CallTransactionBuilder()\\\n",
    "    .from_(deployer_wallet.get_address())\\\n",
    "    .to(contracts['oIUSDC']) \\\n",
    "    .nid(NID) \\\n",
    "    .nonce(100) \\\n",
    "    .method(\"redeem\")\\\n",
    "    .params(params)\\\n",
    "    .build()\n",
    "\n",
    "estimate_step = icon_service.estimate_step(call_transaction)\n",
    "step_limit = estimate_step + 100000\n",
    "# Returns the signed transaction object having a signature\n",
    "signed_transaction = SignedTransaction(call_transaction, deployer_wallet,step_limit)\n",
    "\n",
    "# Reads params to transfer to nodes\n",
    "print(signed_transaction.signed_transaction_dict)\n",
    "\n",
    "# Sends the transaction\n",
    "tx_hash = icon_service.send_transaction(signed_transaction)\n",
    "get_tx_result(tx_hash)"
   ]
  },
  {
   "cell_type": "markdown",
   "metadata": {},
   "source": [
    "# Repaying USDb"
   ]
  },
  {
   "cell_type": "code",
   "execution_count": 45,
   "metadata": {
    "tags": []
   },
   "outputs": [
    {
     "output_type": "stream",
     "name": "stderr",
     "text": "Raised JSONRPCException while returning the custom response. Error message: {'code': -32602, 'message': 'Pending transaction'}\n{'code': -32602, 'message': 'Pending transaction'} (Json rpc error), Retrying in 1 seconds...\nRaised JSONRPCException while returning the custom response. Error message: {'code': -32602, 'message': 'Pending transaction'}\n{'code': -32602, 'message': 'Pending transaction'} (Json rpc error), Retrying in 2 seconds...\n"
    },
    {
     "output_type": "execute_result",
     "data": {
      "text/plain": "{'txHash': '0x105013f8a132d743c0a408ed8865986907c03cd662a8a39a79e5867539017ee6',\n 'blockHeight': 13564616,\n 'blockHash': '0x7a8821d4425d62ef162ef8bd859475294df4612ca002371fff8eaf14dc331a1c',\n 'txIndex': 1,\n 'to': 'cxaa068556df80f9917ef146e889f0b2c4b13ab634',\n 'stepUsed': 1566080,\n 'stepPrice': 10000000000,\n 'cumulativeStepUsed': 1566080,\n 'eventLogs': [{'scoreAddress': 'cxb2e669fbb8b94f2a4525345f22e466933b8d2075',\n   'indexed': ['FundReceived(int,Address,int)',\n    '0x3ecd2354d9',\n    'cxaa068556df80f9917ef146e889f0b2c4b13ab634',\n    '0x5bc5cfaa57979'],\n   'data': []},\n  {'scoreAddress': 'cxaa068556df80f9917ef146e889f0b2c4b13ab634',\n   'indexed': ['Transfer(Address,Address,int,bytes)',\n    'cx2d844c9613b5f864f5dace7fed82997c4c62ef01',\n    'cxb2e669fbb8b94f2a4525345f22e466933b8d2075',\n    '0x3ecd2354d9'],\n   'data': ['0x4e6f6e65']},\n  {'scoreAddress': 'cx2d844c9613b5f864f5dace7fed82997c4c62ef01',\n   'indexed': ['DaoFundTransfer(int,Address,Address)',\n    '0x3ecd2354d9',\n    'cxaa068556df80f9917ef146e889f0b2c4b13ab634',\n    'hx91bf040426f226b3bfcd2f0b5967bbb0320525ce'],\n   'data': []},\n  {'scoreAddress': 'cx2d844c9613b5f864f5dace7fed82997c4c62ef01',\n   'indexed': ['ReserveUpdated(Address,int,int,int,int)',\n    'cxaa068556df80f9917ef146e889f0b2c4b13ab634',\n    '0xef94860c7d9',\n    '0x474c127940bbdd'],\n   'data': ['0xde0b8b57b6f44d8', '0xde0b927aac5507a']},\n  {'scoreAddress': 'cxaa068556df80f9917ef146e889f0b2c4b13ab634',\n   'indexed': ['Transfer(Address,Address,int,bytes)',\n    'cx0be0870a036ef7a08997bd12e1cd0bfed2dd5d85',\n    'cxd55f27870c9b219272ea4fc31d5d7ec8dc78a97e',\n    '0x38d7ea4c68000'],\n   'data': ['0x4e6f6e65']},\n  {'scoreAddress': 'cxaa068556df80f9917ef146e889f0b2c4b13ab634',\n   'indexed': ['Transfer(Address,Address,int,bytes)',\n    'cx0be0870a036ef7a08997bd12e1cd0bfed2dd5d85',\n    'cx2d844c9613b5f864f5dace7fed82997c4c62ef01',\n    '0xddd2935029d8000'],\n   'data': ['0x4e6f6e65']},\n  {'scoreAddress': 'cx0be0870a036ef7a08997bd12e1cd0bfed2dd5d85',\n   'indexed': ['Repay(Address,Address,int,int,int,int)',\n    'cxaa068556df80f9917ef146e889f0b2c4b13ab634',\n    'hx91bf040426f226b3bfcd2f0b5967bbb0320525ce',\n    '0xddd2935029d8000'],\n   'data': ['0x38d7ea4c68000', '0x2740361507a', '0x5bc5cfaa57979']},\n  {'scoreAddress': 'cxaa068556df80f9917ef146e889f0b2c4b13ab634',\n   'indexed': ['Transfer(Address,Address,int,bytes)',\n    'hx91bf040426f226b3bfcd2f0b5967bbb0320525ce',\n    'cx0be0870a036ef7a08997bd12e1cd0bfed2dd5d85',\n    '0xde0b6b3a7640000'],\n   'data': ['0x7b226d6574686f64223a20227265706179222c2022706172616d73223a207b22616d6f756e74223a20313030303030303030303030303030303030307d7d']}],\n 'logsBloom': b'\\x00\\x00\\x00\\x00\\x00\\x00\\x00\\x10\\x00\\x00\\x00!\\x08\\x00\\x08\\x00\\x00\\x00\\x00\\x00\\x00\\x00\\x00\\x00\\x00\\x04\\x00\\x00\\x00\\x00\\x00\\x04\\x00\\x16\\x00\\x00\\x00\\x00\\x02\\x00\\x00@\\x00\\x00\\x00\\x00\\x00\\x00\\x00\\x00\\x00\\x80\\x10\\x00\\x00\\x00 \\x00\\x00\\x80\\x00\\x00\\x80@\\x00\\x10\\x00\\x08\\x80\\x00\\x00\\x00\\x08\\x00\\x00(\\x00\\x80\\x0c\\x00 \\x00\\x00\\x00\\x00\\x00\\x00\\x00\\x01\\x00\\x00\\x00\\x04\\x00\\x00\\x02\\x00\\x00 0\\x02$\\x00\\x00\\x00\\x00\\x08\\x00@\\x00@\\x00\\x00\\x00\\x00\\x00\\x00\\x04\\x02\\x00  \\x00\\x80\\x00\\x00\\x00\\x00\\x00\\x00\\x00\\x00\\x00\\x00\\x00\\x00\\x00\\x00\\x00\\x00\\x00\\x00\\x00\\x00\\x00\\x00\\x01\\x00\\x00\\x00\\x00\\x00\\x00\\x00\\x10\\x00\\x00\\x10\\x00\\x04@ \\x02\\x10\\x00\\x00\\x01\\x00\\x00\\x10\\x00\\x10\\x00\\x00\\x00\\x000\\x00 \\x00\\x10\\x00\\x00\\x80\\x00\\x01\\x01\\x00@\\x00\\x00\\x80\\x00\\x02\\x80\\x00\\x01 \\x00\\x00\\x00\\x00\\x00\\x00\\x00\\x00\\x10\\x00\\x00\\x00\\x00\\x00\\x00\\x01\\x00\\x00\\x00\\x00\\x01\\x00\\x00\\x00\\x00\\x00\\x80\\x00\\x00\\x04\\x08\\x00\\x00\\x00\\x00\\x00\\x00\\x00\\x00\\x00\\x00\\x00\\x08\\x00\\x00\\x00 \\x00\\x08 \\x01\\x02\\x00\\x00\\x00\\x00\\x06\\x00',\n 'status': 1}"
     },
     "metadata": {},
     "execution_count": 45
    }
   ],
   "source": [
    "data = \"{\\\"method\\\": \\\"repay\\\", \\\"params\\\": {\\\"amount\\\": 1000000000000000000}}\".encode(\"utf-8\")\n",
    "params = {\"_to\": contracts['lendingPool'], \"_value\": 1000000000000000000, \"_data\": data}\n",
    "transaction = CallTransactionBuilder()\\\n",
    "    .from_(deployer_wallet.get_address())\\\n",
    "    .to(contracts['usdb'])\\\n",
    "    .value(0)\\\n",
    "    .step_limit(10000000)\\\n",
    "    .nid(3)\\\n",
    "    .nonce(100)\\\n",
    "    .method(\"transfer\")\\\n",
    "    .params(params)\\\n",
    "    .build()\n",
    "signed_transaction = SignedTransaction(transaction, deployer_wallet)\n",
    "tx_hash = icon_service.send_transaction(signed_transaction)\n",
    "get_tx_result(tx_hash)"
   ]
  },
  {
   "cell_type": "code",
   "execution_count": 203,
   "metadata": {
    "tags": []
   },
   "outputs": [
    {
     "output_type": "stream",
     "name": "stderr",
     "text": "Raised JSONRPCException while returning the custom response. Error message: {'code': -32602, 'message': 'Pending transaction'}\n{'code': -32602, 'message': 'Pending transaction'} (Json rpc error), Retrying in 1 seconds...\nRaised JSONRPCException while returning the custom response. Error message: {'code': -32602, 'message': 'Pending transaction'}\n{'code': -32602, 'message': 'Pending transaction'} (Json rpc error), Retrying in 2 seconds...\n"
    },
    {
     "output_type": "execute_result",
     "data": {
      "text/plain": "{'txHash': '0x0a46495c8d08fb0cc96f5ee3c09656d9e2e611d308f40f0f7a7d271ec5db88c8',\n 'blockHeight': 13407721,\n 'blockHash': '0xbdbb898c6eb863bd984b78a4c499ac40ed1629d15232d0df7b1d36ff13ba603b',\n 'txIndex': 1,\n 'to': 'cx65f639254090820361da483df233f6d0e69af9b7',\n 'stepUsed': 1094600,\n 'stepPrice': 10000000000,\n 'cumulativeStepUsed': 1094600,\n 'eventLogs': [{'scoreAddress': 'cxb2e669fbb8b94f2a4525345f22e466933b8d2075',\n   'indexed': ['FundReceived(int,Address,int)',\n    '0x0',\n    'cx65f639254090820361da483df233f6d0e69af9b7',\n    '0x5bc135072f7bf'],\n   'data': []},\n  {'scoreAddress': 'cx65f639254090820361da483df233f6d0e69af9b7',\n   'indexed': ['Transfer(Address,Address,int,bytes)',\n    'cx2d844c9613b5f864f5dace7fed82997c4c62ef01',\n    'cxb2e669fbb8b94f2a4525345f22e466933b8d2075',\n    '0x0'],\n   'data': ['0x4e6f6e65']},\n  {'scoreAddress': 'cx2d844c9613b5f864f5dace7fed82997c4c62ef01',\n   'indexed': ['DaoFundTransfer(int,Address,Address)',\n    '0x0',\n    'cx65f639254090820361da483df233f6d0e69af9b7',\n    'hx91bf040426f226b3bfcd2f0b5967bbb0320525ce'],\n   'data': []},\n  {'scoreAddress': 'cx2d844c9613b5f864f5dace7fed82997c4c62ef01',\n   'indexed': ['ReserveUpdated(Address,int,int,int,int)',\n    'cx65f639254090820361da483df233f6d0e69af9b7',\n    '0x1d241aa5fee',\n    '0x4712f3ab85f81a'],\n   'data': ['0xde0b6b471f0ea86', '0xde0b6bc318cad85']},\n  {'scoreAddress': 'cx65f639254090820361da483df233f6d0e69af9b7',\n   'indexed': ['Transfer(Address,Address,int,bytes)',\n    'cx0be0870a036ef7a08997bd12e1cd0bfed2dd5d85',\n    'cxd55f27870c9b219272ea4fc31d5d7ec8dc78a97e',\n    '0x3e8'],\n   'data': ['0x4e6f6e65']},\n  {'scoreAddress': 'cx65f639254090820361da483df233f6d0e69af9b7',\n   'indexed': ['Transfer(Address,Address,int,bytes)',\n    'cx0be0870a036ef7a08997bd12e1cd0bfed2dd5d85',\n    'cx2d844c9613b5f864f5dace7fed82997c4c62ef01',\n    '0xf3e58'],\n   'data': ['0x4e6f6e65']},\n  {'scoreAddress': 'cx0be0870a036ef7a08997bd12e1cd0bfed2dd5d85',\n   'indexed': ['Repay(Address,Address,int,int,int,int)',\n    'cx65f639254090820361da483df233f6d0e69af9b7',\n    'hx91bf040426f226b3bfcd2f0b5967bbb0320525ce',\n    '0xf3e58'],\n   'data': ['0x3e8', '0x1', '0x5bc135072f7bf']},\n  {'scoreAddress': 'cx65f639254090820361da483df233f6d0e69af9b7',\n   'indexed': ['Transfer(Address,Address,int,bytes)',\n    'hx91bf040426f226b3bfcd2f0b5967bbb0320525ce',\n    'cx0be0870a036ef7a08997bd12e1cd0bfed2dd5d85',\n    '0xf4240'],\n   'data': ['0x7b226d6574686f64223a20227265706179222c2022706172616d73223a207b22616d6f756e74223a20313030303030307d7d']}],\n 'logsBloom': b'\\x00\\x00\\x00\\x00\\x00\\x00\\x00\\x10\\x00\\x80\\x00 \\x00\\x00\\x08\\x04\\x00\\x00\\x00\\x00\\x00\\x00\\x00\\x00\\x00\\x08\\x00\\x00\\x00\\x00\\x00\\x04\\x00\\x16\\x00\\x00\\x00\\x00\\x10\\x00\\x00\\x00\\x00\\x00\\x08\\x00\\x00\\x00\\x00\\x00\\x00\\x80\\x10\\x00\\x01\\x00\\x00\\x00\\x00\\x80\\x00\\x00\\x00@\\x10\\x10\\x00\\x08\\x00\\x00\\x00\\x00\\x00\\x00\\x00(\\x10\\x00\\x04\\x00 \\x00\\x00\\x00\\x80\\x00\\x00\\x00\\x01\\x00\\x00\\x00\\x00\\x00\\x00\\x01\\x00\\x00 1\\x02$\\x00\\x00\\x00\\x00\\x08\\x00\\xc0\\x00P\\x00\\x00\\x00\\x00\\x10B\\x80\\x02\\x00\\x00 \\x00\\x00\\x00\\x00\\x00\\x00\\x00\\x00\\x00\\x01\\x00\\x00\\x00\\x00\\x00\\x00\\x00\\x00\\x00\\x00 \\x00\\x00\\x00\\x81\\x00\\x00\\x00\\x00\\x00\\x00\\x00\\x10\\x00\\x00\\x14\\x01\\x04\\x00\\x00\\x02\\x10\\x00\\x00\\x01\\x08\\x00\\x00 \\x10\\x00\\x00\\x00\\x000\\x00 \\x00\\x10\\x00\\x00\\x80\\x00@\\x01\\x00\\x00\\x00\\x00\\x80\\x00\\x00\\x80@\\x00\\x00\\x00\\x00\\x00\\x00\\x00\\x00\\x00\\x00\\x00\\x00\\x00\\x02\\x00\\x00\\x00\\x83\\x00\\x00\\x00\\x00\\x08\\x00\\x00\\x00\\x00\\x00\\x80@\\x00\\x00\\x08\\x00\\x01\\x00\\x00\\x00\\x00\\x80\\x00\\x00\\x00\\x00\\x00\\x00\\x00\\x00 \\x00\\x00\\x00\\x01\\x00\\x00\\x00\\x00\\x00\\x02\\x00',\n 'status': 1}"
     },
     "metadata": {},
     "execution_count": 203
    }
   ],
   "source": [
    "data = \"{\\\"method\\\": \\\"repay\\\", \\\"params\\\": {\\\"amount\\\": 1000000}}\".encode(\"utf-8\")\n",
    "params = {\"_to\": contracts['lendingPool'], \"_value\": 1000000, \"_data\": data}\n",
    "transaction = CallTransactionBuilder()\\\n",
    "    .from_(deployer_wallet.get_address())\\\n",
    "    .to(contracts['iusdc'])\\\n",
    "    .value(0)\\\n",
    "    .step_limit(10000000)\\\n",
    "    .nid(3)\\\n",
    "    .nonce(100)\\\n",
    "    .method(\"transfer\")\\\n",
    "    .params(params)\\\n",
    "    .build()\n",
    "signed_transaction = SignedTransaction(transaction, deployer_wallet)\n",
    "tx_hash = icon_service.send_transaction(signed_transaction)\n",
    "get_tx_result(tx_hash)"
   ]
  },
  {
   "cell_type": "code",
   "execution_count": 23,
   "metadata": {},
   "outputs": [
    {
     "name": "stdout",
     "output_type": "stream",
     "text": [
      "9450000385630198414715\n"
     ]
    }
   ],
   "source": [
    "print(icon_service.get_balance(\"hx91bf040426f226b3bfcd2f0b5967bbb0320525ce\"))"
   ]
  },
  {
   "cell_type": "markdown",
   "metadata": {},
   "source": [
    "# Depositing ICX from Wallet"
   ]
  },
  {
   "cell_type": "code",
   "execution_count": 205,
   "metadata": {
    "tags": []
   },
   "outputs": [
    {
     "output_type": "stream",
     "name": "stderr",
     "text": "Raised JSONRPCException while returning the custom response. Error message: {'code': -32602, 'message': 'Pending transaction'}\n{'code': -32602, 'message': 'Pending transaction'} (Json rpc error), Retrying in 1 seconds...\n"
    },
    {
     "output_type": "execute_result",
     "data": {
      "text/plain": "{'txHash': '0x8e9b6fdd7bbab0f0871ff7240e8f81bdb8b1fe1b46c0f0c7b504bf6fabdc17b1',\n 'blockHeight': 13408312,\n 'blockHash': '0x3c9a8da3b4a7f9fe22a14f6ef5235d925d42c1e80949dbeaf518d2936898b53e',\n 'txIndex': 1,\n 'to': 'cx0be0870a036ef7a08997bd12e1cd0bfed2dd5d85',\n 'stepUsed': 1035000,\n 'stepPrice': 10000000000,\n 'cumulativeStepUsed': 1035000,\n 'eventLogs': [{'scoreAddress': 'cx0be0870a036ef7a08997bd12e1cd0bfed2dd5d85',\n   'indexed': ['ICXTransfer(Address,Address,int)',\n    'cx0be0870a036ef7a08997bd12e1cd0bfed2dd5d85',\n    'cxadd9557a07d4aab925dd04b7a6da4ea1d67bef9c',\n    '0x2b5e3af16b1880000'],\n   'data': []},\n  {'scoreAddress': 'cxb7eda227d9ed9c6fc2a74aa5dd7e9a3913f6c281',\n   'indexed': ['Transfer(Address,Address,int,bytes)',\n    'cxb7eda227d9ed9c6fc2a74aa5dd7e9a3913f6c281',\n    'cx2d844c9613b5f864f5dace7fed82997c4c62ef01',\n    '0x2aa149d1cfb07e5f7'],\n   'data': ['0x4e6f6e65']},\n  {'scoreAddress': 'cxb7eda227d9ed9c6fc2a74aa5dd7e9a3913f6c281',\n   'indexed': ['Mint(Address,int,bytes)',\n    'cx2d844c9613b5f864f5dace7fed82997c4c62ef01'],\n   'data': ['0x2aa149d1cfb07e5f7', '0x4e6f6e65']},\n  {'scoreAddress': 'cxadd9557a07d4aab925dd04b7a6da4ea1d67bef9c',\n   'indexed': ['TokenTransfer(Address,int,str)',\n    'cx2d844c9613b5f864f5dace7fed82997c4c62ef01',\n    '0x2aa149d1cfb07e5f7'],\n   'data': ['49.14908138119731 sICX minted to cx2d844c9613b5f864f5dace7fed82997c4c62ef01']},\n  {'scoreAddress': 'cx2d844c9613b5f864f5dace7fed82997c4c62ef01',\n   'indexed': ['ReserveUpdated(Address,int,int,int,int)',\n    'cxb7eda227d9ed9c6fc2a74aa5dd7e9a3913f6c281',\n    '0x5a2232',\n    '0xd9ce8dadc1'],\n   'data': ['0xde0b6b3b8507937', '0xde0b6b6ef2c3041']},\n  {'scoreAddress': 'cx9dfe6300788178da4ac43e7eb7114380f5addc69',\n   'indexed': ['Mint(Address,int)',\n    'hx91bf040426f226b3bfcd2f0b5967bbb0320525ce'],\n   'data': ['0x2ec9b6217']},\n  {'scoreAddress': 'cx9dfe6300788178da4ac43e7eb7114380f5addc69',\n   'indexed': ['Mint(Address,int)',\n    'hx91bf040426f226b3bfcd2f0b5967bbb0320525ce'],\n   'data': ['0x2aa149d1cfb07e5f7']},\n  {'scoreAddress': 'cx9dfe6300788178da4ac43e7eb7114380f5addc69',\n   'indexed': ['MintOnDeposit(Address,int,int,int)',\n    'hx91bf040426f226b3bfcd2f0b5967bbb0320525ce',\n    '0x2aa149d1cfb07e5f7',\n    '0x2ec9b6217'],\n   'data': ['0xde0b6b3b8507937']},\n  {'scoreAddress': 'cx0be0870a036ef7a08997bd12e1cd0bfed2dd5d85',\n   'indexed': ['Deposit(Address,Address,int,int)',\n    'cxb7eda227d9ed9c6fc2a74aa5dd7e9a3913f6c281',\n    'hx91bf040426f226b3bfcd2f0b5967bbb0320525ce',\n    '0x2aa149d1cfb07e5f7'],\n   'data': ['0x5bc139719da55']}],\n 'logsBloom': b'\\x00\\x00\\x00\\x00\\x00@\\x00\\x10\\x00\\x00\\x00!\\x00\\x00\\x00\\x00\\x00\\x00\\x00\\x00\\x00\\x00\\x00\\x10\\x00\\x00\\x00D\\x04\\x00\\x00\\x04\\x00\\x00\\x00\\x00\\x00\\x00\\x00\\x00\\x00\\x00\\x02\\x00\\x00\\x00\\x00\\x00\\x00\\x00\\x01\\x80\\x02\\x00\\x00\\x00\\x00@\\x0c\\x80\\x00\\x00\\x00\\x00\\x00\\x00\\x00\\x00\\x00\\x00\\x00\\x00\\x00\\x00 0\\x01\\x02\\x05\\x00 \\x00\\x00\\x00\\x00\\x00\\x00\\x01\\x00\\x00\\x00\\x08\\x00\\x00\\x00\\x00\\x80\\x00 $\\x00\\x00\\x00\\x00\\x00\\x00\\x00\\x00\\xc0\\x00A\\x00\\x00\\x00\\x00\\x02\\x00\\x00\\x00\\x00\\x00(\\x00\\x00\\x00\\x00\\x00\\x00\\x00\\x00\\x00 \\x00\\x00\\x00\\x08\\x00\\x00\\x00\\x00\\x00\\x00\\x00\\x00@\\x00\\x01\\x02\\x00@\\x00\\x00\\x00\\x000(\\x00\\x10\\x00\\x00\\x00\\x00\\x00\\x12\\x00\\x00\\x00\\x01\\x00\\x00\\x00\\x10\\x00\\x00\\x00\\x00\\x10\\x00 \\x00\\x00\\x00\\x00\\x80\\x00\\x00\\x00\\x00\\x00\\x00\\x00\\x00@\\x00\\x88\\x00\\x10\\x00\\x02\\x00\\x00\\x00\\x00\\x00\\x00\\x10\\x00\\x00\\x00\\x00\\x00\\x00\\x00A\\x00\\x08\\x00\\x02\\x00\\x00\\x00\\x00\\x00\\x00\\x80\\x10\\x00\\x00\\x00\\x00\\x00\\x00\\x00\\x80 \\x02\\x00\\x00\\x00\\x00\\x00@\\x00  \\x00\\x00\\x00\\x81\\x00\\x00\\x00\\x00\\x00\\n\\x00',\n 'status': 1}"
     },
     "metadata": {},
     "execution_count": 205
    }
   ],
   "source": [
    "params = {\"_amount\": 50 * 10 ** 18}\n",
    "call_transaction = CallTransactionBuilder() \\\n",
    "    .from_(deployer_wallet.get_address()) \\\n",
    "    .to(contracts['lendingPool']) \\\n",
    "    .nid(3) \\\n",
    "    .step_limit(1000000000) \\\n",
    "    .nonce(100) \\\n",
    "    .value(50 * 10 ** 18) \\\n",
    "    .method(\"deposit\") \\\n",
    "    .params(params) \\\n",
    "    .build() \n",
    "\n",
    "signed_transaction = SignedTransaction(call_transaction, deployer_wallet)\n",
    "tx_hash = icon_service.send_transaction(signed_transaction)\n",
    "get_tx_result(tx_hash)\n"
   ]
  },
  {
   "cell_type": "code",
   "execution_count": 89,
   "metadata": {
    "tags": []
   },
   "outputs": [
    {
     "output_type": "stream",
     "name": "stdout",
     "text": "{'addressProvider': 'cx797bc63e7b27758816910cb35f0fa1f546b57c33',\n 'daoFund': 'cxb2e669fbb8b94f2a4525345f22e466933b8d2075',\n 'delegation': 'cx24e32367425660a67c91d6e3c1077914df4e0286',\n 'feeProvider': 'cxd55f27870c9b219272ea4fc31d5d7ec8dc78a97e',\n 'governance': 'cx672132f49f0ef02969cc6b223613206e46ff34b1',\n 'iusdc': 'cx65f639254090820361da483df233f6d0e69af9b7',\n 'lendingPool': 'cx0be0870a036ef7a08997bd12e1cd0bfed2dd5d85',\n 'lendingPoolCore': 'cx2d844c9613b5f864f5dace7fed82997c4c62ef01',\n 'lendingPoolDataProvider': 'cx88ae036091243916d87cbc3b11f39e317dcd46ad',\n 'liquidationManager': 'cx21b6ee09cd144b2a778bdcf69a46ef2cf898ff1c',\n 'oICX': 'cx9dfe6300788178da4ac43e7eb7114380f5addc69',\n 'oIUSDC': 'cx5bdb716d9d5531927f9cab4dfd26937a595ad52c',\n 'oToken': 'cxf3e8b176a276a1d6bde232638656ed835f5cb058',\n 'oUSDb': 'cx66788ee4dca134edae9ea9b8cc98c4e8073e644b',\n 'ommToken': 'cxa96491850d5dd69efa5d64afa9138fd4a66cd348',\n 'priceOracle': 'cxe76fd817fae3b485ae6e4fea2cf88d050d379b63',\n 'rewards': 'cx3e9b334a82529797818ca824cc58c51b52a26087',\n 'sample_token': 'cxc88e39248bf428d3ab0b9c9fbafef9ff423c3a75',\n 'sicx': 'cxb7eda227d9ed9c6fc2a74aa5dd7e9a3913f6c281',\n 'snapshot': 'cx584f740fedab472057bd8ee6e32d97b9b0a05b9d',\n 'staking': 'cxadd9557a07d4aab925dd04b7a6da4ea1d67bef9c',\n 'usdb': 'cxaa068556df80f9917ef146e889f0b2c4b13ab634',\n 'worker_token': 'cxd4e8a5dd852439ccdec73a2b4cd973148f09775d'}\n"
    }
   ],
   "source": [
    "pprint(contracts)"
   ]
  },
  {
   "cell_type": "markdown",
   "metadata": {},
   "source": [
    "# Withdrawing ICX "
   ]
  },
  {
   "cell_type": "code",
   "execution_count": 162,
   "metadata": {
    "tags": []
   },
   "outputs": [
    {
     "output_type": "stream",
     "name": "stdout",
     "text": "1017313011655355613\n"
    }
   ],
   "source": []
  },
  {
   "cell_type": "code",
   "execution_count": 212,
   "metadata": {
    "tags": []
   },
   "outputs": [
    {
     "output_type": "stream",
     "name": "stdout",
     "text": "\n\nCalling setBandOracle, with parameters {'_address': 'cx61a36e5d10412e03c907a507d1e8c6c3856d9964'} on the priceOracle contract.\nRaised JSONRPCException while returning the custom response. Error message: {'code': -32602, 'message': 'Pending transaction'}\n{'code': -32602, 'message': 'Pending transaction'} (Json rpc error), Retrying in 1 seconds...\n1\n\n\nCalling toggleOraclePriceBool, with parameters {} on the priceOracle contract.\nRaised JSONRPCException while returning the custom response. Error message: {'code': -32602, 'message': 'Pending transaction'}\n{'code': -32602, 'message': 'Pending transaction'} (Json rpc error), Retrying in 1 seconds...\n1\n"
    }
   ],
   "source": [
    "settings_priceOracle =[{'contract':  'priceOracle', 'method': 'setBandOracle','params': {'_address':\"cx61a36e5d10412e03c907a507d1e8c6c3856d9964\"}},\n",
    "                       {'contract':  'priceOracle', 'method': 'toggleOraclePriceBool','params':{}}]\n",
    "for sett in settings_priceOracle:\n",
    "    print(f'\\n')\n",
    "    print(f'Calling {sett[\"method\"]}, with parameters {sett[\"params\"]} on the {sett[\"contract\"]} contract.')\n",
    "    transaction = CallTransactionBuilder()\\\n",
    "        .from_(deployer_wallet.get_address())\\\n",
    "        .to(contracts[sett['contract']])\\\n",
    "        .value(0)\\\n",
    "        .step_limit(10000000)\\\n",
    "        .nid(NID)\\\n",
    "        .nonce(100)\\\n",
    "        .method(sett['method'])\\\n",
    "        .params(sett['params'])\\\n",
    "        .build()\n",
    "    signed_transaction = SignedTransaction(transaction, deployer_wallet)\n",
    "    tx_hash = icon_service.send_transaction(signed_transaction)\n",
    "    tx_hash\n",
    "    print(get_tx_result(tx_hash)['status'])"
   ]
  },
  {
   "cell_type": "code",
   "execution_count": 163,
   "metadata": {
    "tags": []
   },
   "outputs": [
    {
     "output_type": "stream",
     "name": "stderr",
     "text": "Raised JSONRPCException while returning the custom response. Error message: {'code': -32602, 'message': 'Pending transaction'}\n{'code': -32602, 'message': 'Pending transaction'} (Json rpc error), Retrying in 1 seconds...\n"
    },
    {
     "output_type": "execute_result",
     "data": {
      "text/plain": "{'txHash': '0x4a4a1b266d36dffd717fda739d6672b34823fc560d3618ff652a7f9736f2c1ef',\n 'blockHeight': 13406675,\n 'blockHash': '0xd4ad38c2ce177438baba1342ceedb56d3e2a44c5afefca670ed917d8de6723a7',\n 'txIndex': 1,\n 'to': 'cx9dfe6300788178da4ac43e7eb7114380f5addc69',\n 'stepUsed': 1356820,\n 'stepPrice': 10000000000,\n 'cumulativeStepUsed': 1356820,\n 'eventLogs': [],\n 'logsBloom': b'\\x00\\x00\\x00\\x00\\x00\\x00\\x00\\x00\\x00\\x00\\x00\\x00\\x00\\x00\\x00\\x00\\x00\\x00\\x00\\x00\\x00\\x00\\x00\\x00\\x00\\x00\\x00\\x00\\x00\\x00\\x00\\x00\\x00\\x00\\x00\\x00\\x00\\x00\\x00\\x00\\x00\\x00\\x00\\x00\\x00\\x00\\x00\\x00\\x00\\x00\\x00\\x00\\x00\\x00\\x00\\x00\\x00\\x00\\x00\\x00\\x00\\x00\\x00\\x00\\x00\\x00\\x00\\x00\\x00\\x00\\x00\\x00\\x00\\x00\\x00\\x00\\x00\\x00\\x00\\x00\\x00\\x00\\x00\\x00\\x00\\x00\\x00\\x00\\x00\\x00\\x00\\x00\\x00\\x00\\x00\\x00\\x00\\x00\\x00\\x00\\x00\\x00\\x00\\x00\\x00\\x00\\x00\\x00\\x00\\x00\\x00\\x00\\x00\\x00\\x00\\x00\\x00\\x00\\x00\\x00\\x00\\x00\\x00\\x00\\x00\\x00\\x00\\x00\\x00\\x00\\x00\\x00\\x00\\x00\\x00\\x00\\x00\\x00\\x00\\x00\\x00\\x00\\x00\\x00\\x00\\x00\\x00\\x00\\x00\\x00\\x00\\x00\\x00\\x00\\x00\\x00\\x00\\x00\\x00\\x00\\x00\\x00\\x00\\x00\\x00\\x00\\x00\\x00\\x00\\x00\\x00\\x00\\x00\\x00\\x00\\x00\\x00\\x00\\x00\\x00\\x00\\x00\\x00\\x00\\x00\\x00\\x00\\x00\\x00\\x00\\x00\\x00\\x00\\x00\\x00\\x00\\x00\\x00\\x00\\x00\\x00\\x00\\x00\\x00\\x00\\x00\\x00\\x00\\x00\\x00\\x00\\x00\\x00\\x00\\x00\\x00\\x00\\x00\\x00\\x00\\x00\\x00\\x00\\x00\\x00\\x00\\x00\\x00\\x00\\x00\\x00\\x00\\x00\\x00\\x00\\x00\\x00\\x00\\x00\\x00\\x00\\x00\\x00\\x00\\x00\\x00\\x00\\x00\\x00\\x00\\x00\\x00\\x00\\x00\\x00\\x00',\n 'status': 0,\n 'failure': {'code': 1, 'message': 'integer division or modulo by zero'}}"
     },
     "metadata": {},
     "execution_count": 163
    }
   ],
   "source": [
    "_call = CallBuilder()\\\n",
    "    .from_(deployer_wallet.get_address())\\\n",
    "    .to(contracts['staking'])\\\n",
    "    .method(\"getTodayRate\")\\\n",
    "    .build()\n",
    "todayRate = int(icon_service.call(_call),0)\n",
    "pprint(todayRate)\n",
    "# ICX_amount = 10 * ICX\n",
    "# sicx_amount =exaDiv(ICX_amount,todayRate)\n",
    "# print(sicx_amount)\n",
    "ICX_amount = 5 * ICX\n",
    "sicx_amount =exaDiv(ICX_amount,todayRate)\n",
    "params = {\"_amount\": sicx_amount,\"_waitForUnstaking\":0}\n",
    "call_transaction = CallTransactionBuilder() \\\n",
    "    .from_(deployer_wallet.get_address())\\\n",
    "    .to(contracts['oICX'])\\\n",
    "    .nid(3) \\\n",
    "    .step_limit(10000000) \\\n",
    "    .nonce(100) \\\n",
    "    .method(\"redeem\") \\\n",
    "    .params(params) \\\n",
    "    .build()\n",
    "signed_transaction = SignedTransaction(call_transaction, deployer_wallet)\n",
    "tx_hash = icon_service.send_transaction(signed_transaction)\n",
    "get_tx_result(tx_hash)\n",
    "        "
   ]
  },
  {
   "cell_type": "code",
   "execution_count": 52,
   "metadata": {
    "tags": []
   },
   "outputs": [
    {
     "output_type": "stream",
     "name": "stdout",
     "text": "{'addressProvider': 'cxdcbae76661c0edbf968d048c3bba3311bde57e37',\n 'feeProvider': 'cx52555a5dda72b98a3ed692b58761f68af9486073',\n 'lendingPool': 'cx348b53ff3bb5c6411f8c3e7082cde123bd86c67e',\n 'lendingPoolCore': 'cxc15058ed8a262ff3b3a2400786848a3c32c274a5',\n 'lendingPoolDataProvider': 'cx45bd68dd4f903160f4c7f2c43791fa741debb582',\n 'liquidationManager': 'cx001794d12ea9170f4bb7a620e0a03a157f35a429',\n 'oICX': 'cx7dcf7232084a085507bf2685f785589ebb0b52a1',\n 'oToken': 'cx77d34d57f7ea300637058ef65babc52da91376a4',\n 'priceOracle': 'cx0b57375df6a814ca3f589e91b15015f135fbd046',\n 'sample_token': 'cx9da823297393ecb193030b983ce334f25af20aac',\n 'sicx': 'cxb7eda227d9ed9c6fc2a74aa5dd7e9a3913f6c281',\n 'staking': 'cxadd9557a07d4aab925dd04b7a6da4ea1d67bef9c'}\n"
    }
   ],
   "source": [
    "pprint(contracts)"
   ]
  },
  {
   "cell_type": "markdown",
   "metadata": {},
   "source": [
    "# Borrowing sicx"
   ]
  },
  {
   "cell_type": "code",
   "execution_count": 47,
   "metadata": {
    "tags": []
   },
   "outputs": [
    {
     "output_type": "stream",
     "name": "stdout",
     "text": "{'version': '0x3', 'from': 'hx91bf040426f226b3bfcd2f0b5967bbb0320525ce', 'to': 'cx0be0870a036ef7a08997bd12e1cd0bfed2dd5d85', 'stepLimit': '0x31720c', 'timestamp': '0x5bc5d13641b36', 'nid': '0x3', 'nonce': '0x64', 'dataType': 'call', 'data': {'method': 'borrow', 'params': {'_reserve': 'cxb7eda227d9ed9c6fc2a74aa5dd7e9a3913f6c281', '_amount': '0x56bc75e2d63100000'}}, 'signature': 'P6NbU3UDsHwwHd61+foG8sjPuHKc45JbhELAlevM98RmB8TVzgtbrDR8XKx6NcYFIeZifDHzwM5sJEyG8vTgWgA='}\nRaised JSONRPCException while returning the custom response. Error message: {'code': -32602, 'message': 'Pending transaction'}\n{'code': -32602, 'message': 'Pending transaction'} (Json rpc error), Retrying in 1 seconds...\nRaised JSONRPCException while returning the custom response. Error message: {'code': -32602, 'message': 'Pending transaction'}\n{'code': -32602, 'message': 'Pending transaction'} (Json rpc error), Retrying in 2 seconds...\n"
    },
    {
     "output_type": "execute_result",
     "data": {
      "text/plain": "{'txHash': '0xf1082175258d9f31b4eedd14df1fa4cc773a6ef725098df33f0f87b383900e99',\n 'blockHeight': 13564824,\n 'blockHash': '0xdb48e9f6229568f6450312d015c31b6e77546d2a74cac9134cb5e536a701ebc9',\n 'txIndex': 1,\n 'to': 'cx0be0870a036ef7a08997bd12e1cd0bfed2dd5d85',\n 'stepUsed': 3140460,\n 'stepPrice': 10000000000,\n 'cumulativeStepUsed': 3140460,\n 'eventLogs': [{'scoreAddress': 'cxb2e669fbb8b94f2a4525345f22e466933b8d2075',\n   'indexed': ['FundReceived(int,Address,int)',\n    '0x214a8db83',\n    'cxb7eda227d9ed9c6fc2a74aa5dd7e9a3913f6c281',\n    '0x5bc5d13839858'],\n   'data': []},\n  {'scoreAddress': 'cxb7eda227d9ed9c6fc2a74aa5dd7e9a3913f6c281',\n   'indexed': ['Transfer(Address,Address,int,bytes)',\n    'cx2d844c9613b5f864f5dace7fed82997c4c62ef01',\n    'cxb2e669fbb8b94f2a4525345f22e466933b8d2075',\n    '0x214a8db83'],\n   'data': ['0x4e6f6e65']},\n  {'scoreAddress': 'cx2d844c9613b5f864f5dace7fed82997c4c62ef01',\n   'indexed': ['DaoFundTransfer(int,Address,Address)',\n    '0x214a8db83',\n    'cxb7eda227d9ed9c6fc2a74aa5dd7e9a3913f6c281',\n    'hx91bf040426f226b3bfcd2f0b5967bbb0320525ce'],\n   'data': []},\n  {'scoreAddress': 'cx2d844c9613b5f864f5dace7fed82997c4c62ef01',\n   'indexed': ['ReserveUpdated(Address,int,int,int,int)',\n    'cxb7eda227d9ed9c6fc2a74aa5dd7e9a3913f6c281',\n    '0x146d50df8d6',\n    '0x1673004806ff0'],\n   'data': ['0xde0b6b3f4bb176e', '0xde0b756bcf76bff']},\n  {'scoreAddress': 'cxb7eda227d9ed9c6fc2a74aa5dd7e9a3913f6c281',\n   'indexed': ['Transfer(Address,Address,int,bytes)',\n    'cx2d844c9613b5f864f5dace7fed82997c4c62ef01',\n    'hx91bf040426f226b3bfcd2f0b5967bbb0320525ce',\n    '0x56bc75e2d63100000'],\n   'data': ['0x4e6f6e65']},\n  {'scoreAddress': 'cx0be0870a036ef7a08997bd12e1cd0bfed2dd5d85',\n   'indexed': ['Borrow(Address,Address,int,int,int,int,int)',\n    'cxb7eda227d9ed9c6fc2a74aa5dd7e9a3913f6c281',\n    'hx91bf040426f226b3bfcd2f0b5967bbb0320525ce',\n    '0x56bc75e2d63100000'],\n   'data': ['0x1673004806ff0',\n    '0x16345785d8a0000',\n    '0x14ce98931e',\n    '0x5bc5d13839858']}],\n 'logsBloom': b'\\x00\\x00\\x00\\x00\\x01@\\x00\\x10\\x00\\x00\\x00 \\x00\\x00\\x08\\x00\\x00\\x00\\x00\\x08\\x00\\x00\\x00\\x10\\x00\\x04\\x00\\x00\\x00\\x00\\x00\\x04\\x00\\x14\\x00\\x00\\x00\\x00\\x00\\x00\\x00\\x00\\x00@\\x00\\x00\\x00\\x00\\x00\\x00\\x00\\x80\\x10\\x00\\x00\\x00\\x00\\x00\\x00\\x00\\x00\\x00\\x00@\\x00\\x10\\x00\\x08\\x00\\x01\\x00\\x00\\x00\\x00  \\x00\\x00\\x01\\x00\\x00\\x00\\x00\\x00\\x00\\x00\\x00\\x00\\x01\\x00\\x00\\x00\\x01\\x00\\x00\\x00\\x00\\x00($\\x02$\\x00\\x00\\x00\\x00\\x0c\\x00\\x00\\x00\\x00\\x00\\x00\\x10\\x00\\x00\\x00\\x00\\x00\\x00\\x00 \\x00\\x00\\x01 \\x00\\x00\\x00\\x00\\x00\\x00\\x00\\x10\\x00\\x00\\x00\\x00\\x00\\x00\\x00\\x00\\x02\\x10\\x00\\x00\\x00\\x00\\x00A\\x00\\x00 \\x001\\x00\\x00\\x10\\x00\\x84\\x00\\x00\\x00\\x10\\x00\\x00\\x01\\x00\\x00\\x00\\x00\\x00\\x00\\x00\\x00\\x00\\x10\\x00\\x00\\x00\\x10\\x00\\x00\\x80\\x00\\x00\\x00\\x00\\x01\\x00\\x00\\x00\\x00\\x00\\x00\\x00\\x00\\x00\\x00\\x00\\x00\\x00\\x00\\x00\\x00\\x00\\x02\\x00\\x00\\x00\\x00\\x01\\x00\\x01@\\x00\\x00\\x00\\x00\\x00\\x00\\x00\\x00\\x00\\x80\\x00\\x00\\x00\\x00\\x00\\x00\\x00\\x00\\x00\\x00\\x00\\x00\\x00\\x00\\x00\\x00\\x00\\x00\\x00 \\x00\\x00\\x00\\x01@\\x00\\x00\\x00\\x00\\x02\\x00',\n 'status': 1}"
     },
     "metadata": {},
     "execution_count": 47
    }
   ],
   "source": [
    "#borrow sicx\n",
    "params ={\"_reserve\": contracts['sicx'], \"_amount\":100*10**18 }\n",
    "call_transaction = CallTransactionBuilder()\\\n",
    "    .from_(deployer_wallet.get_address())\\\n",
    "    .to(contracts['lendingPool']) \\\n",
    "    .nid(NID) \\\n",
    "    .nonce(100) \\\n",
    "    .method(\"borrow\")\\\n",
    "    .params(params)\\\n",
    "    .build()\n",
    "\n",
    "estimate_step = icon_service.estimate_step(call_transaction)\n",
    "step_limit = estimate_step + 100000\n",
    "# Returns the signed transaction object having a signature\n",
    "signed_transaction = SignedTransaction(call_transaction, deployer_wallet,step_limit)\n",
    "\n",
    "# Reads params to transfer to nodes\n",
    "print(signed_transaction.signed_transaction_dict)\n",
    "\n",
    "# Sends the transaction\n",
    "tx_hash = icon_service.send_transaction(signed_transaction)\n",
    "get_tx_result(tx_hash)"
   ]
  },
  {
   "cell_type": "markdown",
   "metadata": {},
   "source": [
    "# Repay sicx"
   ]
  },
  {
   "cell_type": "code",
   "execution_count": 191,
   "metadata": {
    "tags": []
   },
   "outputs": [
    {
     "output_type": "stream",
     "name": "stderr",
     "text": "Raised JSONRPCException while returning the custom response. Error message: {'code': -32602, 'message': 'Pending transaction'}\n{'code': -32602, 'message': 'Pending transaction'} (Json rpc error), Retrying in 1 seconds...\nRaised JSONRPCException while returning the custom response. Error message: {'code': -32602, 'message': 'Pending transaction'}\n{'code': -32602, 'message': 'Pending transaction'} (Json rpc error), Retrying in 2 seconds...\n"
    },
    {
     "output_type": "execute_result",
     "data": {
      "text/plain": "{'txHash': '0xb42b1a3f14280d5b3a147b544784a609c46c2971a051b467a808ee02435f5acd',\n 'blockHeight': 13407553,\n 'blockHash': '0xaa7eb0947e56ebc0c12406d96eca629d9669799f9f236868db102db68616a8ef',\n 'txIndex': 1,\n 'to': 'cxb7eda227d9ed9c6fc2a74aa5dd7e9a3913f6c281',\n 'stepUsed': 1081440,\n 'stepPrice': 10000000000,\n 'cumulativeStepUsed': 1081440,\n 'eventLogs': [],\n 'logsBloom': b'\\x00\\x00\\x00\\x00\\x00\\x00\\x00\\x00\\x00\\x00\\x00\\x00\\x00\\x00\\x00\\x00\\x00\\x00\\x00\\x00\\x00\\x00\\x00\\x00\\x00\\x00\\x00\\x00\\x00\\x00\\x00\\x00\\x00\\x00\\x00\\x00\\x00\\x00\\x00\\x00\\x00\\x00\\x00\\x00\\x00\\x00\\x00\\x00\\x00\\x00\\x00\\x00\\x00\\x00\\x00\\x00\\x00\\x00\\x00\\x00\\x00\\x00\\x00\\x00\\x00\\x00\\x00\\x00\\x00\\x00\\x00\\x00\\x00\\x00\\x00\\x00\\x00\\x00\\x00\\x00\\x00\\x00\\x00\\x00\\x00\\x00\\x00\\x00\\x00\\x00\\x00\\x00\\x00\\x00\\x00\\x00\\x00\\x00\\x00\\x00\\x00\\x00\\x00\\x00\\x00\\x00\\x00\\x00\\x00\\x00\\x00\\x00\\x00\\x00\\x00\\x00\\x00\\x00\\x00\\x00\\x00\\x00\\x00\\x00\\x00\\x00\\x00\\x00\\x00\\x00\\x00\\x00\\x00\\x00\\x00\\x00\\x00\\x00\\x00\\x00\\x00\\x00\\x00\\x00\\x00\\x00\\x00\\x00\\x00\\x00\\x00\\x00\\x00\\x00\\x00\\x00\\x00\\x00\\x00\\x00\\x00\\x00\\x00\\x00\\x00\\x00\\x00\\x00\\x00\\x00\\x00\\x00\\x00\\x00\\x00\\x00\\x00\\x00\\x00\\x00\\x00\\x00\\x00\\x00\\x00\\x00\\x00\\x00\\x00\\x00\\x00\\x00\\x00\\x00\\x00\\x00\\x00\\x00\\x00\\x00\\x00\\x00\\x00\\x00\\x00\\x00\\x00\\x00\\x00\\x00\\x00\\x00\\x00\\x00\\x00\\x00\\x00\\x00\\x00\\x00\\x00\\x00\\x00\\x00\\x00\\x00\\x00\\x00\\x00\\x00\\x00\\x00\\x00\\x00\\x00\\x00\\x00\\x00\\x00\\x00\\x00\\x00\\x00\\x00\\x00\\x00\\x00\\x00\\x00\\x00\\x00\\x00\\x00\\x00\\x00\\x00',\n 'status': 0,\n 'failure': {'code': 1, 'message': 'integer division or modulo by zero'}}"
     },
     "metadata": {},
     "execution_count": 191
    }
   ],
   "source": [
    "\n",
    "data = \"{\\\"method\\\": \\\"repay\\\", \\\"params\\\": {\\\"amount\\\": 1000000000000000000}}\".encode(\"utf-8\")\n",
    "params = {\"_to\": contracts['lendingPool'], \"_value\": 1000000000000000000, \"_data\": data}\n",
    "transaction = CallTransactionBuilder()\\\n",
    "    .from_(deployer_wallet.get_address())\\\n",
    "    .to(contracts['sicx'])\\\n",
    "    .value(0)\\\n",
    "    .step_limit(10000000)\\\n",
    "    .nid(3)\\\n",
    "    .nonce(100)\\\n",
    "    .method(\"transfer\")\\\n",
    "    .params(params)\\\n",
    "    .build()\n",
    "signed_transaction = SignedTransaction(transaction, deployer_wallet)\n",
    "tx_hash = icon_service.send_transaction(signed_transaction)\n",
    "get_tx_result(tx_hash)"
   ]
  },
  {
   "cell_type": "markdown",
   "metadata": {},
   "source": [
    "# Readonly methods to get data"
   ]
  },
  {
   "cell_type": "markdown",
   "metadata": {},
   "source": [
    "### Getting all the addresses"
   ]
  },
  {
   "cell_type": "code",
   "execution_count": 30,
   "metadata": {
    "tags": []
   },
   "outputs": [
    {
     "output_type": "stream",
     "name": "stdout",
     "text": "{'collateral': {'IUSDC': 'cx65f639254090820361da483df233f6d0e69af9b7',\n                'USDb': 'cxaa068556df80f9917ef146e889f0b2c4b13ab634',\n                'sICX': 'cxb7eda227d9ed9c6fc2a74aa5dd7e9a3913f6c281'},\n 'oTokens': {'oICX': 'cx9dfe6300788178da4ac43e7eb7114380f5addc69',\n             'oIUSDC': 'cx5bdb716d9d5531927f9cab4dfd26937a595ad52c',\n             'oUSDb': 'cxa15c0e87237dfb3c7818078f34d371398b46fe29'},\n 'systemContract': {'Delegation': 'cx24e32367425660a67c91d6e3c1077914df4e0286',\n                    'LendingPool': 'cx0be0870a036ef7a08997bd12e1cd0bfed2dd5d85',\n                    'LendingPoolDataProvider': 'cx88ae036091243916d87cbc3b11f39e317dcd46ad',\n                    'OmmToken': 'cxa96491850d5dd69efa5d64afa9138fd4a66cd348',\n                    'Rewards': 'cx3e9b334a82529797818ca824cc58c51b52a26087',\n                    'Staking': 'cxadd9557a07d4aab925dd04b7a6da4ea1d67bef9c'}}\n"
    }
   ],
   "source": [
    "_call = CallBuilder()\\\n",
    "    .from_(deployer_wallet.get_address())\\\n",
    "    .to(contracts['addressProvider'])\\\n",
    "    .method(\"getAllAddresses\")\\\n",
    "    .build()\n",
    "response = icon_service.call(_call)\n",
    "pprint(response)"
   ]
  },
  {
   "cell_type": "markdown",
   "metadata": {},
   "source": [
    "### Getting specific reserve data"
   ]
  },
  {
   "cell_type": "code",
   "execution_count": 39,
   "metadata": {
    "tags": []
   },
   "outputs": [
    {
     "output_type": "stream",
     "name": "stdout",
     "text": "{'availableLiquidity': '0x0',\n 'availableLiquidityUSD': '0x0',\n 'baseLTVasCollateral': 500000000000.0,\n 'borrowCumulativeIndex': 1000000000000.0,\n 'borrowRate': '0x0',\n 'borrowingEnabled': '0x1',\n 'decimals': 1.8e-05,\n 'exchangePrice': 1000000000000.0,\n 'isActive': '0x1',\n 'isFreezed': '0x0',\n 'lastUpdateTimestamp': '0x0',\n 'liquidationBonus': 100000000000.0,\n 'liquidationThreshold': 650000000000.0,\n 'liquidityCumulativeIndex': 1000000000000.0,\n 'liquidityRate': '0x0',\n 'oTokenAddress': 'cxa15c0e87237dfb3c7818078f34d371398b46fe29',\n 'reserveAddress': 'cxaa068556df80f9917ef146e889f0b2c4b13ab634',\n 'totalBorrows': '0x0',\n 'totalBorrowsUSD': '0x0',\n 'totalLiquidity': '0x0',\n 'totalLiquidityUSD': '0x0',\n 'usageAsCollateralEnabled': '0x1'}\n"
    }
   ],
   "source": [
    "#this returns the reserve data of USDb\n",
    "params = {'_reserve': contracts['usdb']}\n",
    "_call = CallBuilder()\\\n",
    "    .from_(deployer_wallet.get_address())\\\n",
    "    .to(contracts['lendingPoolDataProvider'])\\\n",
    "    .method(\"getReserveData\")\\\n",
    "    .params(params)\\\n",
    "    .build()\n",
    "response = icon_service.call(_call)\n",
    "for key,values in response.items():\n",
    "    if values==\"0x1\" or values ==\"0x0\" or \"Address\" in key:\n",
    "        continue\n",
    "    if key!=\"lastUpdateTimestamp\":\n",
    "        response[key]=int(values,0) / 10**6\n",
    "    else:\n",
    "        response[key]=int(values,0)\n",
    "\n",
    "pprint(response)"
   ]
  },
  {
   "cell_type": "markdown",
   "metadata": {},
   "source": [
    "# Reserve Account Data"
   ]
  },
  {
   "cell_type": "code",
   "execution_count": 54,
   "metadata": {
    "tags": []
   },
   "outputs": [
    {
     "output_type": "stream",
     "name": "stdout",
     "text": "{'availableLiquidityBalanceUSD': 100.50524603864064,\n 'totalBorrowsBalanceUSD': 0.0,\n 'totalCollateralBalanceUSD': 100.50524603864064,\n 'totalLiquidityBalanceUSD': 100.50524603864064}\n"
    }
   ],
   "source": [
    "#this returns the reserve data of USDb\n",
    "\n",
    "_call = CallBuilder()\\\n",
    "    .from_(deployer_wallet.get_address())\\\n",
    "    .to(contracts['lendingPoolDataProvider'])\\\n",
    "    .method(\"getReserveAccountData\")\\\n",
    "    .build()\n",
    "response = icon_service.call(_call)\n",
    "# print(response)\n",
    "for key,values in response.items():\n",
    "    response[key]=int(values,0)/10**18\n",
    "        \n",
    "\n",
    "pprint(response)"
   ]
  },
  {
   "cell_type": "markdown",
   "metadata": {},
   "source": [
    "### Getting data of all reserves"
   ]
  },
  {
   "cell_type": "code",
   "execution_count": 220,
   "metadata": {
    "tags": []
   },
   "outputs": [
    {
     "output_type": "stream",
     "name": "stdout",
     "text": "{'ICX': {'availableLiquidity': 93.3822546228794,\n         'availableLiquidityUSD': 170.0861786002422,\n         'baseLTVasCollateral': 0.5,\n         'borrowCumulativeIndex': 1.0000000140892038,\n         'borrowRate': 9.35473294785e-07,\n         'borrowingEnabled': '0x1',\n         'decimals': 1.8e-17,\n         'exchangePrice': 1.7904,\n         'isActive': '0x1',\n         'isFreezed': '0x0',\n         'lastUpdateTimestamp': 1614167209007701,\n         'liquidationBonus': 0.1,\n         'liquidationThreshold': 0.65,\n         'liquidityCumulativeIndex': 1.0000000002839329,\n         'liquidityRate': 5.906994e-12,\n         'oTokenAddress': 'cx9dfe6300788178da4ac43e7eb7114380f5addc69',\n         'reserveAddress': 'cxb7eda227d9ed9c6fc2a74aa5dd7e9a3913f6c281',\n         'sICXRate': 1.0173130116553557,\n         'totalBorrows': 0.001000013954911065,\n         'totalBorrowsUSD': 0.001821422633503913,\n         'totalLiquidity': 93.38325463683431,\n         'totalLiquidityUSD': 170.0880000228757,\n         'usageAsCollateralEnabled': '0x1'},\n 'USDC': {'availableLiquidity': 8.999,\n          'availableLiquidityUSD': 8.999,\n          'baseLTVasCollateral': 0.5,\n          'borrowCumulativeIndex': 1.00000003667766,\n          'borrowRate': 0.02000556111049321,\n          'borrowingEnabled': '0x1',\n          'decimals': 6e-18,\n          'exchangePrice': 1.0,\n          'isActive': '0x1',\n          'isFreezed': '0x0',\n          'lastUpdateTimestamp': 1614166023665599,\n          'liquidationBonus': 0.1,\n          'liquidationThreshold': 0.65,\n          'liquidityCumulativeIndex': 1.0000000033982328,\n          'liquidityRate': 2.002556444654e-06,\n          'oTokenAddress': 'cx5bdb716d9d5531927f9cab4dfd26937a595ad52c',\n          'reserveAddress': 'cx65f639254090820361da483df233f6d0e69af9b7',\n          'totalBorrows': 0.001001,\n          'totalBorrowsUSD': 0.001001,\n          'totalLiquidity': 9.000001,\n          'totalLiquidityUSD': 9.000001,\n          'usageAsCollateralEnabled': '0x1'},\n 'USDb': {'availableLiquidity': 980.0,\n          'availableLiquidityUSD': 980.0,\n          'baseLTVasCollateral': 0.5,\n          'borrowCumulativeIndex': 1.0000000182014208,\n          'borrowRate': 0.020505050505050505,\n          'borrowingEnabled': '0x1',\n          'decimals': 1.8e-17,\n          'exchangePrice': 1.0,\n          'isActive': '0x1',\n          'isFreezed': '0x0',\n          'lastUpdateTimestamp': 1614165993558794,\n          'liquidationBonus': 0.1,\n          'liquidationThreshold': 0.65,\n          'liquidityCumulativeIndex': 1.0000000001638127,\n          'liquidityRate': 0.000186409550045913,\n          'oTokenAddress': 'cxf3e8b176a276a1d6bde232638656ed835f5cb058',\n          'reserveAddress': 'cxc88e39248bf428d3ab0b9c9fbafef9ff423c3a75',\n          'totalBorrows': 10.0,\n          'totalBorrowsUSD': 10.0,\n          'totalLiquidity': 990.0,\n          'totalLiquidityUSD': 990.0,\n          'usageAsCollateralEnabled': '0x1'}}\n"
    }
   ],
   "source": [
    "#this returns the reserve data of all the reserves\n",
    "params = {'_reserve': contracts['sample_token']}\n",
    "_call = CallBuilder()\\\n",
    "    .from_(deployer_wallet.get_address())\\\n",
    "    .to(contracts['lendingPoolDataProvider'])\\\n",
    "    .method(\"getAllReserveData\")\\\n",
    "    .build()\n",
    "response = icon_service.call(_call)\n",
    "for key,values in response.items():\n",
    "    for k,v in values.items():\n",
    "        if v==\"0x1\" or v ==\"0x0\" or \"Address\" in k:\n",
    "            continue\n",
    "        if k!=\"lastUpdateTimestamp\":\n",
    "            response[key][k]=int(v,0)/10**18\n",
    "        else:\n",
    "            response[key][k]=int(v,0)\n",
    "pprint(response)"
   ]
  },
  {
   "cell_type": "code",
   "execution_count": 17,
   "metadata": {
    "tags": []
   },
   "outputs": [
    {
     "output_type": "stream",
     "name": "stdout",
     "text": "{'addressProvider': 'cx797bc63e7b27758816910cb35f0fa1f546b57c33',\n 'daoFund': 'cxb2e669fbb8b94f2a4525345f22e466933b8d2075',\n 'delegation': 'cx24e32367425660a67c91d6e3c1077914df4e0286',\n 'feeProvider': 'cxd55f27870c9b219272ea4fc31d5d7ec8dc78a97e',\n 'governance': 'cx672132f49f0ef02969cc6b223613206e46ff34b1',\n 'iusdc': 'cx65f639254090820361da483df233f6d0e69af9b7',\n 'lendingPool': 'cx0be0870a036ef7a08997bd12e1cd0bfed2dd5d85',\n 'lendingPoolCore': 'cx2d844c9613b5f864f5dace7fed82997c4c62ef01',\n 'lendingPoolDataProvider': 'cx88ae036091243916d87cbc3b11f39e317dcd46ad',\n 'liquidationManager': 'cx21b6ee09cd144b2a778bdcf69a46ef2cf898ff1c',\n 'oICX': 'cx9dfe6300788178da4ac43e7eb7114380f5addc69',\n 'oIUSDC': 'cx5bdb716d9d5531927f9cab4dfd26937a595ad52c',\n 'oToken': 'cxf3e8b176a276a1d6bde232638656ed835f5cb058',\n 'oUSDb': 'cx66788ee4dca134edae9ea9b8cc98c4e8073e644b',\n 'ommToken': 'cxa96491850d5dd69efa5d64afa9138fd4a66cd348',\n 'priceOracle': 'cxe76fd817fae3b485ae6e4fea2cf88d050d379b63',\n 'rewards': 'cx3e9b334a82529797818ca824cc58c51b52a26087',\n 'sample_token': 'cxc88e39248bf428d3ab0b9c9fbafef9ff423c3a75',\n 'sicx': 'cxb7eda227d9ed9c6fc2a74aa5dd7e9a3913f6c281',\n 'snapshot': 'cx584f740fedab472057bd8ee6e32d97b9b0a05b9d',\n 'staking': 'cxadd9557a07d4aab925dd04b7a6da4ea1d67bef9c',\n 'usdb': 'cxaa068556df80f9917ef146e889f0b2c4b13ab634',\n 'worker_token': 'cxd4e8a5dd852439ccdec73a2b4cd973148f09775d'}\n"
    }
   ],
   "source": [
    "pprint(contracts)"
   ]
  },
  {
   "cell_type": "code",
   "execution_count": 41,
   "metadata": {
    "tags": []
   },
   "outputs": [
    {
     "output_type": "stream",
     "name": "stdout",
     "text": "{'baseBorrowRate': 0.02,\n 'optimalUtilizationRate': 0.8,\n 'reserve': 'cx94afc91e5b1c749afa20ec63c7a91669296417ee',\n 'slopeRate1': 0.04,\n 'slopeRate2': 1.0}\n"
    }
   ],
   "source": [
    "params = {'_reserve': contracts['sample_token']}\n",
    "_call = CallBuilder()\\\n",
    "    .from_(deployer_wallet.get_address())\\\n",
    "    .to(contracts['lendingPoolCore'])\\\n",
    "    .method(\"getReserveConstants\")\\\n",
    "    .params(params)\\\n",
    "    .build()\n",
    "response = icon_service.call(_call)\n",
    "for key,values in response.items():\n",
    "    if key != \"reserve\":\n",
    "        response[key]=int(values,0)/10**18\n",
    "\n",
    "   \n",
    "pprint(response)"
   ]
  },
  {
   "cell_type": "markdown",
   "metadata": {},
   "source": [
    "### Getting user account data"
   ]
  },
  {
   "cell_type": "code",
   "execution_count": 56,
   "metadata": {
    "tags": []
   },
   "outputs": [
    {
     "output_type": "stream",
     "name": "stdout",
     "text": "{'availableBorrowsUSD': 50.25262301932032,\n 'borrowingPower': 0.0,\n 'currentLiquidationThreshold': 0.65,\n 'currentLtv': 0.5,\n 'healthFactor': -1e-18,\n 'healthFactorBelowThreshold': 0.0,\n 'totalBorrowBalanceUSD': 0.0,\n 'totalCollateralBalanceUSD': 100.50524603864064,\n 'totalFeesUSD': 0.0,\n 'totalLiquidityBalanceUSD': 100.50524603864064}\n"
    }
   ],
   "source": [
    "#returns the user data of all the reserves combined\n",
    "params = {'_user': 'hx91bf040426f226b3bfcd2f0b5967bbb0320525ce'}\n",
    "_call = CallBuilder()\\\n",
    "    .from_(deployer_wallet.get_address())\\\n",
    "    .to(contracts['lendingPoolDataProvider'])\\\n",
    "    .method(\"getUserAccountData\")\\\n",
    "    .params(params)\\\n",
    "    .build()\n",
    "response = icon_service.call(_call)\n",
    "for key,values in response.items():\n",
    "    if key!=\"lastUpdateTimestamp\":\n",
    "        response[key]=int(values,0)/10**18\n",
    "    else:\n",
    "        response[key]=int(values,0)\n",
    "pprint(response)"
   ]
  },
  {
   "cell_type": "code",
   "execution_count": 49,
   "metadata": {
    "tags": []
   },
   "outputs": [
    {
     "name": "stdout",
     "output_type": "stream",
     "text": [
      "20.0\n"
     ]
    }
   ],
   "source": [
    "#returns the user data of all the reserves combined\n",
    "params = {'_reserve': contracts['sample_token'],'_amount':10*10**18,\"_fee\":1,'_userCurrentBorrowBalanceUSD':0,'_userCurrentFeesUSD':0,'_userCurrentLtv':5*10**17}\n",
    "_call = CallBuilder()\\\n",
    "    .from_(deployer_wallet.get_address())\\\n",
    "    .to(contracts['lendingPoolDataProvider'])\\\n",
    "    .method(\"calculateCollateralNeededUSD\")\\\n",
    "    .params(params)\\\n",
    "    .build()\n",
    "response = icon_service.call(_call)\n",
    "response = int(response,0)/10**18\n",
    "# for key,values in response.items():\n",
    "#     if key!=\"lastUpdateTimestamp\":\n",
    "#         response[key]=int(values,0)/10**18\n",
    "#     else:\n",
    "#         response[key]=int(values,0)\n",
    "print(response)"
   ]
  },
  {
   "cell_type": "markdown",
   "metadata": {},
   "source": [
    "### Getting user reserve data"
   ]
  },
  {
   "cell_type": "code",
   "execution_count": 57,
   "metadata": {
    "tags": []
   },
   "outputs": [
    {
     "output_type": "stream",
     "name": "stdout",
     "text": "{'borrowRate': 0.0,\n 'currentBorrowBalance': 0.0,\n 'currentBorrowBalanceUSD': 0.0,\n 'currentOTokenBalance': 201.01049207728127,\n 'currentOTokenBalanceUSD': 100.56468866592635,\n 'exchangeRate': 0.5002957190277554,\n 'lastUpdateTimestamp': 0,\n 'liquidityRate': 0.0,\n 'originationFee': 0.0,\n 'principalBorrowBalance': 0.0,\n 'principalBorrowBalanceUSD': 0.0,\n 'principalOTokenBalance': 201.01049207728127,\n 'principalOTokenBalanceUSD': 100.56468866592635,\n 'useAsCollateral': 1e-18,\n 'userBorrowCumulativeIndex': 0.0}\n"
    }
   ],
   "source": [
    "#returns the data of a specific user for a specific reserve\n",
    "#this returns the data of user for USDb reserve\n",
    "params = {'_user': 'hx91bf040426f226b3bfcd2f0b5967bbb0320525ce' ,\"_reserve\":contracts['sicx']}\n",
    "_call = CallBuilder()\\\n",
    "    .from_(deployer_wallet.get_address())\\\n",
    "    .to(contracts['lendingPoolDataProvider'])\\\n",
    "    .method(\"getUserReserveData\")\\\n",
    "    .params(params)\\\n",
    "    .build()\n",
    "response = icon_service.call(_call)\n",
    "for key,values in response.items():\n",
    "    if key!=\"lastUpdateTimestamp\":\n",
    "        response[key]=int(values,0)/10**18\n",
    "    else:\n",
    "        response[key]=int(values,0)\n",
    "pprint(response)"
   ]
  },
  {
   "cell_type": "markdown",
   "metadata": {},
   "source": [
    "# Getting All Reserve Data"
   ]
  },
  {
   "cell_type": "code",
   "execution_count": 214,
   "metadata": {
    "tags": []
   },
   "outputs": [
    {
     "output_type": "stream",
     "name": "stderr",
     "text": "Raised JSONRPCException while returning the custom response. Error message: {'code': -32032, 'message': 'REF_DATA_NOT_AVAILABLE'}\n"
    },
    {
     "output_type": "error",
     "ename": "JSONRPCException",
     "evalue": "{'code': -32032, 'message': 'REF_DATA_NOT_AVAILABLE'} (Json rpc error)",
     "traceback": [
      "\u001b[0;31m---------------------------------------------------------------------------\u001b[0m",
      "\u001b[0;31mJSONRPCException\u001b[0m                          Traceback (most recent call last)",
      "\u001b[0;32m<ipython-input-214-5113ba702553>\u001b[0m in \u001b[0;36m<module>\u001b[0;34m\u001b[0m\n\u001b[1;32m      4\u001b[0m     \u001b[0;34m.\u001b[0m\u001b[0mmethod\u001b[0m\u001b[0;34m(\u001b[0m\u001b[0;34m\"getAllReserveData\"\u001b[0m\u001b[0;34m)\u001b[0m\u001b[0;31m\\\u001b[0m\u001b[0;34m\u001b[0m\u001b[0;34m\u001b[0m\u001b[0m\n\u001b[1;32m      5\u001b[0m     \u001b[0;34m.\u001b[0m\u001b[0mbuild\u001b[0m\u001b[0;34m(\u001b[0m\u001b[0;34m)\u001b[0m\u001b[0;34m\u001b[0m\u001b[0;34m\u001b[0m\u001b[0m\n\u001b[0;32m----> 6\u001b[0;31m \u001b[0mresponse\u001b[0m \u001b[0;34m=\u001b[0m \u001b[0micon_service\u001b[0m\u001b[0;34m.\u001b[0m\u001b[0mcall\u001b[0m\u001b[0;34m(\u001b[0m\u001b[0m_call\u001b[0m\u001b[0;34m)\u001b[0m\u001b[0;34m\u001b[0m\u001b[0;34m\u001b[0m\u001b[0m\n\u001b[0m\u001b[1;32m      7\u001b[0m \u001b[0mpprint\u001b[0m\u001b[0;34m(\u001b[0m\u001b[0mresponse\u001b[0m\u001b[0;34m)\u001b[0m\u001b[0;34m\u001b[0m\u001b[0;34m\u001b[0m\u001b[0m\n",
      "\u001b[0;32m/usr/local/lib/python3.8/dist-packages/iconsdk/icon_service.py\u001b[0m in \u001b[0;36mcall\u001b[0;34m(self, call, full_response)\u001b[0m\n\u001b[1;32m    233\u001b[0m             \u001b[0mparams\u001b[0m\u001b[0;34m[\u001b[0m\u001b[0;34m\"data\"\u001b[0m\u001b[0;34m]\u001b[0m\u001b[0;34m[\u001b[0m\u001b[0;34m\"params\"\u001b[0m\u001b[0;34m]\u001b[0m \u001b[0;34m=\u001b[0m \u001b[0mcall\u001b[0m\u001b[0;34m.\u001b[0m\u001b[0mparams\u001b[0m\u001b[0;34m\u001b[0m\u001b[0;34m\u001b[0m\u001b[0m\n\u001b[1;32m    234\u001b[0m \u001b[0;34m\u001b[0m\u001b[0m\n\u001b[0;32m--> 235\u001b[0;31m         \u001b[0;32mreturn\u001b[0m \u001b[0mself\u001b[0m\u001b[0;34m.\u001b[0m\u001b[0m__provider\u001b[0m\u001b[0;34m.\u001b[0m\u001b[0mmake_request\u001b[0m\u001b[0;34m(\u001b[0m\u001b[0;34m'icx_call'\u001b[0m\u001b[0;34m,\u001b[0m \u001b[0mparams\u001b[0m\u001b[0;34m,\u001b[0m \u001b[0mfull_response\u001b[0m\u001b[0;34m)\u001b[0m\u001b[0;34m\u001b[0m\u001b[0;34m\u001b[0m\u001b[0m\n\u001b[0m\u001b[1;32m    236\u001b[0m \u001b[0;34m\u001b[0m\u001b[0m\n\u001b[1;32m    237\u001b[0m     \u001b[0;32mdef\u001b[0m \u001b[0msend_transaction\u001b[0m\u001b[0;34m(\u001b[0m\u001b[0mself\u001b[0m\u001b[0;34m,\u001b[0m \u001b[0msigned_transaction\u001b[0m\u001b[0;34m:\u001b[0m \u001b[0mSignedTransaction\u001b[0m\u001b[0;34m,\u001b[0m \u001b[0mfull_response\u001b[0m\u001b[0;34m:\u001b[0m \u001b[0mbool\u001b[0m \u001b[0;34m=\u001b[0m \u001b[0;32mFalse\u001b[0m\u001b[0;34m)\u001b[0m \u001b[0;34m->\u001b[0m \u001b[0mUnion\u001b[0m\u001b[0;34m[\u001b[0m\u001b[0mdict\u001b[0m\u001b[0;34m,\u001b[0m \u001b[0mstr\u001b[0m\u001b[0;34m]\u001b[0m\u001b[0;34m:\u001b[0m\u001b[0;34m\u001b[0m\u001b[0;34m\u001b[0m\u001b[0m\n",
      "\u001b[0;32m/usr/local/lib/python3.8/dist-packages/iconsdk/providers/http_provider.py\u001b[0m in \u001b[0;36mmake_request\u001b[0;34m(self, method, params, full_response)\u001b[0m\n\u001b[1;32m    127\u001b[0m         \u001b[0mfull_path_url\u001b[0m \u001b[0;34m=\u001b[0m \u001b[0mself\u001b[0m\u001b[0;34m.\u001b[0m\u001b[0m_full_path_url\u001b[0m \u001b[0;32mif\u001b[0m \u001b[0mself\u001b[0m\u001b[0;34m.\u001b[0m\u001b[0m_full_path_url\u001b[0m \u001b[0;32melse\u001b[0m \u001b[0mself\u001b[0m\u001b[0;34m.\u001b[0m\u001b[0m_get_full_path_url\u001b[0m\u001b[0;34m(\u001b[0m\u001b[0mmethod\u001b[0m\u001b[0;34m)\u001b[0m\u001b[0;34m\u001b[0m\u001b[0;34m\u001b[0m\u001b[0m\n\u001b[1;32m    128\u001b[0m         \u001b[0mresponse\u001b[0m \u001b[0;34m=\u001b[0m \u001b[0mself\u001b[0m\u001b[0;34m.\u001b[0m\u001b[0m_make_post_request\u001b[0m\u001b[0;34m(\u001b[0m\u001b[0mfull_path_url\u001b[0m\u001b[0;34m,\u001b[0m \u001b[0mrpc_dict\u001b[0m\u001b[0;34m,\u001b[0m \u001b[0;34m**\u001b[0m\u001b[0mself\u001b[0m\u001b[0;34m.\u001b[0m\u001b[0m_get_request_kwargs\u001b[0m\u001b[0;34m(\u001b[0m\u001b[0;34m)\u001b[0m\u001b[0;34m)\u001b[0m\u001b[0;34m\u001b[0m\u001b[0;34m\u001b[0m\u001b[0m\n\u001b[0;32m--> 129\u001b[0;31m         \u001b[0mcustom_response\u001b[0m \u001b[0;34m=\u001b[0m \u001b[0mself\u001b[0m\u001b[0;34m.\u001b[0m\u001b[0m_return_custom_response\u001b[0m\u001b[0;34m(\u001b[0m\u001b[0mresponse\u001b[0m\u001b[0;34m,\u001b[0m \u001b[0mfull_response\u001b[0m\u001b[0;34m)\u001b[0m\u001b[0;34m\u001b[0m\u001b[0;34m\u001b[0m\u001b[0m\n\u001b[0m\u001b[1;32m    130\u001b[0m \u001b[0;34m\u001b[0m\u001b[0m\n\u001b[1;32m    131\u001b[0m         \u001b[0mlogger\u001b[0m\u001b[0;34m.\u001b[0m\u001b[0mdebug\u001b[0m\u001b[0;34m(\u001b[0m\u001b[0;34mf\"Request: {rpc_dict}\"\u001b[0m\u001b[0;34m)\u001b[0m\u001b[0;34m\u001b[0m\u001b[0;34m\u001b[0m\u001b[0m\n",
      "\u001b[0;32m/usr/local/lib/python3.8/dist-packages/iconsdk/providers/http_provider.py\u001b[0m in \u001b[0;36m_return_custom_response\u001b[0;34m(response, full_response)\u001b[0m\n\u001b[1;32m    152\u001b[0m                 logger.error(f\"Raised JSONRPCException while returning the custom response. \"\n\u001b[1;32m    153\u001b[0m                              f\"Error message: {content_as_dict['error']}\")\n\u001b[0;32m--> 154\u001b[0;31m                 \u001b[0;32mraise\u001b[0m \u001b[0mJSONRPCException\u001b[0m\u001b[0;34m(\u001b[0m\u001b[0mcontent_as_dict\u001b[0m\u001b[0;34m[\u001b[0m\u001b[0;34m\"error\"\u001b[0m\u001b[0;34m]\u001b[0m\u001b[0;34m)\u001b[0m\u001b[0;34m\u001b[0m\u001b[0;34m\u001b[0m\u001b[0m\n\u001b[0m\u001b[1;32m    155\u001b[0m \u001b[0;34m\u001b[0m\u001b[0m\n\u001b[1;32m    156\u001b[0m     \u001b[0;32mdef\u001b[0m \u001b[0mis_connected\u001b[0m\u001b[0;34m(\u001b[0m\u001b[0mself\u001b[0m\u001b[0;34m)\u001b[0m \u001b[0;34m->\u001b[0m \u001b[0mbool\u001b[0m\u001b[0;34m:\u001b[0m\u001b[0;34m\u001b[0m\u001b[0;34m\u001b[0m\u001b[0m\n",
      "\u001b[0;31mJSONRPCException\u001b[0m: {'code': -32032, 'message': 'REF_DATA_NOT_AVAILABLE'} (Json rpc error)"
     ]
    }
   ],
   "source": [
    "_call = CallBuilder()\\\n",
    "    .from_(deployer_wallet.get_address())\\\n",
    "    .to(contracts['lendingPoolDataProvider'])\\\n",
    "    .method(\"getAllReserveData\")\\\n",
    "    .build()\n",
    "response = icon_service.call(_call)\n",
    "pprint(response)"
   ]
  },
  {
   "cell_type": "markdown",
   "metadata": {},
   "source": [
    "### Getting the data of user for all reserves"
   ]
  },
  {
   "cell_type": "code",
   "execution_count": 42,
   "metadata": {
    "tags": []
   },
   "outputs": [
    {
     "name": "stdout",
     "output_type": "stream",
     "text": [
      "{'USDb': {'borrowRate': 0.0,\n",
      "          'currentBorrowBalance': 0.0,\n",
      "          'currentBorrowBalanceUSD': 0.0,\n",
      "          'currentOTokenBalance': 0.0,\n",
      "          'currentOTokenBalanceUSD': 0.0,\n",
      "          'lastUpdateTimestamp': 0,\n",
      "          'liquidityRate': 0.0,\n",
      "          'originationFee': 0.0,\n",
      "          'principalBorrowBalance': 0.0,\n",
      "          'principalBorrowBalanceUSD': 0.0,\n",
      "          'useAsCollateral': 0.0,\n",
      "          'userBorrowCumulativeIndex': 0.0},\n",
      " 'sICX': {'borrowRate': 0.0,\n",
      "          'currentBorrowBalance': 0.0,\n",
      "          'currentBorrowBalanceUSD': 0.0,\n",
      "          'currentOTokenBalance': 0.0,\n",
      "          'currentOTokenBalanceUSD': 0.0,\n",
      "          'lastUpdateTimestamp': 0,\n",
      "          'liquidityRate': 0.0,\n",
      "          'originationFee': 0.0,\n",
      "          'principalBorrowBalance': 0.0,\n",
      "          'principalBorrowBalanceUSD': 0.0,\n",
      "          'useAsCollateral': 0.0,\n",
      "          'userBorrowCumulativeIndex': 0.0}}\n"
     ]
    }
   ],
   "source": [
    "#returns the data of a specific user for all reserves\n",
    "\n",
    "params = {'_user': 'hx91bf040426f226b3bfcd2f0b5967bbb0320525ce'}\n",
    "_call = CallBuilder()\\\n",
    "    .from_(deployer_wallet.get_address())\\\n",
    "    .to(contracts['lendingPoolDataProvider'])\\\n",
    "    .method(\"getUserAllReserveData\")\\\n",
    "    .params(params)\\\n",
    "    .build()\n",
    "response = icon_service.call(_call)\n",
    "for key,values in response.items():\n",
    "    for k,v in values.items():\n",
    "        if k!=\"lastUpdateTimestamp\":\n",
    "            response[key][k]=int(v,0)/10**18\n",
    "        else:\n",
    "            response[key][k]=int(v,0)\n",
    "pprint(response)"
   ]
  },
  {
   "cell_type": "markdown",
   "metadata": {},
   "source": [
    "### Get reserve configurations\n"
   ]
  },
  {
   "cell_type": "code",
   "execution_count": 61,
   "metadata": {
    "tags": []
   },
   "outputs": [
    {
     "name": "stdout",
     "output_type": "stream",
     "text": [
      "{'baseLTVasCollateral': 330000000000000000,\n",
      " 'borrowingEnabled': 1,\n",
      " 'decimals': 18,\n",
      " 'isActive': 1,\n",
      " 'liquidationBonus': 10,\n",
      " 'liquidationThreshold': 650000000000000000,\n",
      " 'usageAsCollateralEnabled': 1}\n"
     ]
    }
   ],
   "source": [
    "#returns the configurations of a specific reserve\n",
    "params = {\"_reserve\":contracts['sample_token']}\n",
    "_call = CallBuilder()\\\n",
    "    .from_(deployer_wallet.get_address())\\\n",
    "    .to(contracts['lendingPoolDataProvider'])\\\n",
    "    .method(\"getReserveConfigurationData\")\\\n",
    "    .params(params)\\\n",
    "    .build()\n",
    "response = icon_service.call(_call)\n",
    "for key,values in response.items():\n",
    "    response[key]=int(values,0)\n",
    "pprint(response)\n"
   ]
  },
  {
   "cell_type": "markdown",
   "metadata": {},
   "source": [
    "### Get all reserves configurations"
   ]
  },
  {
   "cell_type": "code",
   "execution_count": 62,
   "metadata": {
    "tags": []
   },
   "outputs": [
    {
     "name": "stdout",
     "output_type": "stream",
     "text": [
      "{'USDb': {'baseLTVasCollateral': 330000000000000000,\n",
      "          'borrowingEnabled': 1,\n",
      "          'decimals': 18,\n",
      "          'isActive': 1,\n",
      "          'liquidationBonus': 10,\n",
      "          'liquidationThreshold': 650000000000000000,\n",
      "          'usageAsCollateralEnabled': 1},\n",
      " 'icx': {'baseLTVasCollateral': 330000000000000000,\n",
      "         'borrowingEnabled': 1,\n",
      "         'decimals': 18,\n",
      "         'isActive': 1,\n",
      "         'liquidationBonus': 10,\n",
      "         'liquidationThreshold': 650000000000000000,\n",
      "         'usageAsCollateralEnabled': 1}}\n"
     ]
    }
   ],
   "source": [
    "#returns the configurations of all the   reserves\n",
    "\n",
    "_call = CallBuilder()\\\n",
    "    .from_(deployer_wallet.get_address())\\\n",
    "    .to(contracts['lendingPoolDataProvider'])\\\n",
    "    .method(\"getAllReserveConfigurationData\")\\\n",
    "    .build()\n",
    "response = icon_service.call(_call)\n",
    "for key,values in response.items():\n",
    "    for k,v in values.items():\n",
    "        response[key][k]=int(v,0)\n",
    "pprint(response)\n"
   ]
  },
  {
   "cell_type": "markdown",
   "metadata": {},
   "source": [
    "## Realtime USDb balance of user(with accrued interest)"
   ]
  },
  {
   "cell_type": "code",
   "execution_count": 33,
   "metadata": {
    "tags": []
   },
   "outputs": [
    {
     "name": "stdout",
     "output_type": "stream",
     "text": [
      "0\n"
     ]
    }
   ],
   "source": [
    "\n",
    "params = {'_user': 'hx91bf040426f226b3bfcd2f0b5967bbb0320525ce' }\n",
    "\n",
    "_call = CallBuilder()\\\n",
    "    .from_(deployer_wallet.get_address())\\\n",
    "    .to(contracts['oToken'])\\\n",
    "    .method(\"balanceOf\")\\\n",
    "    .params(params)\\\n",
    "    .build()\n",
    "response = icon_service.call(_call)\n",
    "\n",
    "print(int(response,0))"
   ]
  },
  {
   "cell_type": "code",
   "execution_count": 20,
   "metadata": {
    "tags": []
   },
   "outputs": [
    {
     "name": "stdout",
     "output_type": "stream",
     "text": [
      "cx8397f621adac63d786c24cfdf920e683ae320dfd\n"
     ]
    }
   ],
   "source": [
    "\n",
    "# params = {'_owner': 'hx91bf040426f226b3bfcd2f0b5967bbb0320525ce' }\n",
    "\n",
    "_call = CallBuilder()\\\n",
    "    .from_(deployer_wallet.get_address())\\\n",
    "    .to(contracts['lendingPoolDataProvider'])\\\n",
    "    .method(\"getOracleAddress\")\\\n",
    "    .build()\n",
    "response = icon_service.call(_call)\n",
    "print(response)"
   ]
  }
 ],
 "metadata": {
  "celltoolbar": "Slideshow",
  "kernelspec": {
   "display_name": "Python 3",
   "language": "python",
   "name": "python3"
  },
  "language_info": {
   "codemirror_mode": {
    "name": "ipython",
    "version": 3
   },
   "file_extension": ".py",
   "mimetype": "text/x-python",
   "name": "python",
   "nbconvert_exporter": "python",
   "pygments_lexer": "ipython3",
   "version": "3.8.5"
  },
  "rise": {
   "scroll": true
  }
 },
 "nbformat": 4,
 "nbformat_minor": 2
}