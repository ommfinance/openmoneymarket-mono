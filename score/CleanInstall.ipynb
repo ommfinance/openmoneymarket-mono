{
 "cells": [
  {
   "cell_type": "markdown",
   "metadata": {
    "slideshow": {
     "slide_type": "slide"
    }
   },
   "source": [
    "# Jupyter Notebook to clean install all the contracts"
   ]
  },
  {
   "cell_type": "markdown",
   "metadata": {
    "slideshow": {
     "slide_type": "slide"
    }
   },
   "source": [
    "\n",
    "### Necessary packages "
   ]
  },
  {
   "cell_type": "code",
   "execution_count": 56,
   "metadata": {},
   "outputs": [
    {
     "output_type": "display_data",
     "data": {
      "text/plain": "<IPython.core.display.HTML object>",
      "text/html": "<style>.container { width:100% !important; }</style>"
     },
     "metadata": {}
    }
   ],
   "source": [
    "from IPython.core.display import display, HTML\n",
    "display(HTML(\"<style>.container { width:100% !important; }</style>\"))\n"
   ]
  },
  {
   "cell_type": "markdown",
   "metadata": {},
   "source": [
    "# Set Up Environment"
   ]
  },
  {
   "cell_type": "code",
   "execution_count": 21,
   "metadata": {},
   "outputs": [],
   "source": [
    "network = \"custom\"  # set this to one of mainnet, yeouido, euljiro, pagoda, or custom\n",
    "contracts_file_custom = 'custom_contracts_20201125111607.pkl'\n",
    "#contracts_20201109120425\n",
    "\n",
    "connections = {\n",
    "\"mainnet\": {\"iconservice\": \"https://ctz.solidwallet.io\",       \"nid\": 1},\n",
    "\"yeouido\": {\"iconservice\": \"https://bicon.net.solidwallet.io\", \"nid\": 3},\n",
    "\"euljiro\": {\"iconservice\": \"https://test-ctz.solidwallet.io\",  \"nid\": 2},\n",
    "\"pagoda\":  {\"iconservice\": \"https://zicon.net.solidwallet.io\", \"nid\":80},\n",
    "\"custom\":  {\"iconservice\": \"http://18.237.205.52:9000/\",       \"nid\": 3},\n",
    "\"local\":   {\"iconservice\": \"http://localhost:9000/\",           \"nid\": 3}\n",
    "}\n",
    "\n",
    "env = connections[network]"
   ]
  },
  {
   "cell_type": "code",
   "execution_count": 22,
   "metadata": {},
   "outputs": [],
   "source": [
    "class AutoVivification(dict):\n",
    "    \"\"\"Implementation of perl's autovivification feature.\"\"\"\n",
    "    def __getitem__(self, item):\n",
    "        try:\n",
    "            return dict.__getitem__(self, item)\n",
    "        except KeyError:\n",
    "            value = self[item] = type(self)()\n",
    "            return value"
   ]
  },
  {
   "cell_type": "code",
   "execution_count": 23,
   "metadata": {
    "slideshow": {
     "slide_type": "-"
    }
   },
   "outputs": [],
   "source": [
    "from iconsdk.exception import JSONRPCException\n",
    "from iconsdk.libs.in_memory_zip import gen_deploy_data_content\n",
    "from iconsdk.icon_service import IconService\n",
    "from iconsdk.providers.http_provider import HTTPProvider\n",
    "from iconsdk.builder.transaction_builder import CallTransactionBuilder, TransactionBuilder, DeployTransactionBuilder\n",
    "from iconsdk.builder.call_builder import CallBuilder\n",
    "from iconsdk.signed_transaction import SignedTransaction\n",
    "from iconsdk.wallet.wallet import KeyWallet\n",
    "from iconsdk.utils.convert_type import convert_hex_str_to_int\n",
    "from datetime import datetime\n",
    "from repeater import retry\n",
    "from shutil import make_archive\n",
    "import requests\n",
    "import json\n",
    "import pickle as pkl\n",
    "import csv\n",
    "import os\n",
    "from pprint import pprint\n",
    "from getpass import getpass\n",
    "\n",
    "\n",
    "ICX = 1000000000000000000 # 10**18\n",
    "GOVERNANCE_ADDRESS = \"cx0000000000000000000000000000000000000000\"\n",
    "\n",
    "\n",
    "with open(contracts_file_custom, 'rb') as f:\n",
    "    contracts = pkl.load(f)\n",
    "\n",
    "@retry(JSONRPCException, tries=10, delay=1, back_off=2)\n",
    "def get_tx_result(_tx_hash):\n",
    "    tx_result = icon_service.get_transaction_result(_tx_hash)\n",
    "    return tx_result\n",
    "\n",
    "\n"
   ]
  },
  {
   "cell_type": "markdown",
   "metadata": {
    "slideshow": {
     "slide_type": "-"
    }
   },
   "source": [
    "### Required service"
   ]
  },
  {
   "cell_type": "code",
   "execution_count": 24,
   "metadata": {},
   "outputs": [],
   "source": [
    "icon_service = IconService(HTTPProvider(env[\"iconservice\"], 3))\n",
    "NID = env[\"nid\"]"
   ]
  },
  {
   "cell_type": "code",
   "execution_count": 25,
   "metadata": {
    "tags": []
   },
   "outputs": [
    {
     "output_type": "stream",
     "name": "stdout",
     "text": "{'addressProvider': {'SCORE': 'cx2a4267624dfeb9a79b931424fd8ac7b81c5cf805',\n                     'zip': '/home/elite/Desktop/OMM '\n                            'OG/openmoneymarket-mono/score/addressProvider'},\n 'feeProvider': {'SCORE': 'cx14ed4464849d2b34a43a54e4ae8bbdcf64bae671',\n                 'zip': '/home/elite/Desktop/OMM '\n                        'OG/openmoneymarket-mono/score/feeProvider'},\n 'lendingPool': {'SCORE': 'cx5dbae1f5dc20f2d0d16034a07869b6f0bedd14f6',\n                 'zip': '/home/elite/Desktop/OMM '\n                        'OG/openmoneymarket-mono/score/lendingPool'},\n 'lendingPoolCore': {'SCORE': 'cxaa345a5dbea93b27754e44024d5ea14ccbf09c62',\n                     'zip': '/home/elite/Desktop/OMM '\n                            'OG/openmoneymarket-mono/score/lendingPoolCore'},\n 'lendingPoolDataProvider': {'SCORE': 'cxb5083e61b035b31b0bffa7350ff276349069eb60',\n                             'zip': '/home/elite/Desktop/OMM '\n                                    'OG/openmoneymarket-mono/score/lendingPoolDataProvider'},\n 'oICX': {'SCORE': 'cxe6b279229d10c9230b59cb50349589a015401925',\n          'zip': '/home/elite/Desktop/OMM '\n                 'OG/openmoneymarket-mono/score/oToken'},\n 'oToken': {'SCORE': 'cxb7e290801d011961da1974dd84818082cf881246',\n            'zip': '/home/elite/Desktop/OMM '\n                   'OG/openmoneymarket-mono/score/oToken'},\n 'priceOracle': {'SCORE': 'cx790de19720a6af19c50d264f53529bab60fe6837',\n                 'zip': '/home/elite/Desktop/OMM '\n                        'OG/openmoneymarket-mono/score/priceOracle'},\n 'sample_token': {'SCORE': 'cx629b3f914cb8202745ff6da14d69f1aee1087cc1',\n                  'zip': '/home/elite/Desktop/OMM '\n                         'OG/openmoneymarket-mono/score/sample_token'},\n 'sicx': {'SCORE': 'cxe74650f0903ef43102b74fb7d4949ad2f42eeff9',\n          'zip': '/home/elite/Desktop/OMM OG/openmoneymarket-mono/score/sicx'}}\n"
    }
   ],
   "source": [
    "pprint(contracts)"
   ]
  },
  {
   "source": [
    "## Run this to configure contracts zip to your local file"
   ],
   "cell_type": "markdown",
   "metadata": {}
  },
  {
   "cell_type": "code",
   "execution_count": 69,
   "metadata": {},
   "outputs": [
    {
     "output_type": "stream",
     "name": "stdout",
     "text": [
      "directory /home/elite/Desktop/OMM OG/openmoneymarket-mono/score\n{'addressProvider': {'SCORE': 'cx1e6df31409cf3f68fe4028848dca876314a5fbfc',\n                     'zip': '/home/elite/Desktop/OMM '\n                            'OG/openmoneymarket-mono/score/addressProvider'},\n 'feeProvider': {'SCORE': 'cxe408b46a010ff5f82e9e45610a0aadb4ff2b073c',\n                 'zip': '/home/elite/Desktop/OMM '\n                        'OG/openmoneymarket-mono/score/feeProvider'},\n 'lendingPool': {'SCORE': 'cxbfd0ecb9892ca2e1ae3d0494d48f6618620b7e48',\n                 'zip': '/home/elite/Desktop/OMM '\n                        'OG/openmoneymarket-mono/score/lendingPool'},\n 'lendingPoolCore': {'SCORE': 'cx3daa5c2517fdd44bdf37904e5e537eefafb4d69d',\n                     'zip': '/home/elite/Desktop/OMM '\n                            'OG/openmoneymarket-mono/score/lendingPoolCore'},\n 'lendingPoolDataProvider': {'SCORE': 'cx726e8bacc442256099dda50438c11d004215afc5',\n                             'zip': '/home/elite/Desktop/OMM '\n                                    'OG/openmoneymarket-mono/score/lendingPoolDataProvider'},\n 'oICX': {'SCORE': 'cx6dbb85df52d7b12d2c00d673d89c5bf21ee29be2',\n          'zip': '/home/elite/Desktop/OMM OG/openmoneymarket-mono/score/oICX'},\n 'oToken': {'SCORE': 'cx2f4c43ec2c69321573e93549d89462de4a25fdbe',\n            'zip': '/home/elite/Desktop/OMM '\n                   'OG/openmoneymarket-mono/score/oToken'},\n 'priceOracle': {'SCORE': 'cx6703fdc7e0e65c5195d6dbfb59a838f76a9c19b1',\n                 'zip': '/home/elite/Desktop/OMM '\n                        'OG/openmoneymarket-mono/score/priceOracle'},\n 'sample_token': {'SCORE': 'cx134a1a0309aaf88a00ad1fee4983b7ed43454ab6',\n                  'zip': '/home/elite/Desktop/OMM '\n                         'OG/openmoneymarket-mono/score/sample_token'},\n 'sicx': {'SCORE': 'cx735ee7e87d30d76a83b27c7bc62a84b5beafa34b',\n          'zip': '/home/elite/Desktop/OMM OG/openmoneymarket-mono/score/sicx'}}\n"
     ]
    }
   ],
   "source": [
    "directory=os.getcwd()\n",
    "print('directory',directory)\n",
    "newContracts = []\n",
    "for contract in contracts:\n",
    "    newContracts.append(contract)\n",
    "for i in range(len(contracts)):\n",
    "    name = newContracts[i]\n",
    "    contracts[name]['zip'] = directory + \"/\" + name\n",
    "pprint(contracts)"
   ]
  },
  {
   "cell_type": "markdown",
   "metadata": {
    "slideshow": {
     "slide_type": "-"
    }
   },
   "source": [
    "# Importing wallet"
   ]
  },
  {
   "cell_type": "markdown",
   "metadata": {},
   "source": [
    "### Importing from private key"
   ]
  },
  {
   "cell_type": "code",
   "execution_count": 26,
   "metadata": {
    "scrolled": true
   },
   "outputs": [
    {
     "output_type": "execute_result",
     "data": {
      "text/plain": "'hx91bf040426f226b3bfcd2f0b5967bbb0320525ce'"
     },
     "metadata": {},
     "execution_count": 26
    }
   ],
   "source": [
    "\n",
    "private=\"a691ef7d5601f9b5be4f9b9d80215159ea6ff0b88003e3d34e078d40e778b39a\"\n",
    "deployer_wallet = KeyWallet.load(bytes.fromhex(private))\n",
    "deployer_wallet.get_address()\n"
   ]
  },
  {
   "cell_type": "code",
   "execution_count": 7,
   "metadata": {},
   "outputs": [
    {
     "output_type": "execute_result",
     "data": {
      "text/plain": "78702736970265600000000000"
     },
     "metadata": {},
     "execution_count": 7
    }
   ],
   "source": [
    "icon_service.get_balance(\"hx91bf040426f226b3bfcd2f0b5967bbb0320525ce\")"
   ]
  },
  {
   "cell_type": "markdown",
   "metadata": {},
   "source": [
    "### Importing wallet from keystore file"
   ]
  },
  {
   "cell_type": "code",
   "execution_count": 8,
   "metadata": {
    "tags": []
   },
   "outputs": [
    {
     "output_type": "execute_result",
     "data": {
      "text/plain": "708876575999000000000000000"
     },
     "metadata": {},
     "execution_count": 8
    }
   ],
   "source": [
    "# Set to the address of the keystore file and give the password when prompted\n",
    "password = getpass()\n",
    "deployer_wallet = KeyWallet.load(\"./keystores/keystore_test1.json\",password)\n",
    "deployer_wallet.get_address()\n",
    "icon_service.get_balance(deployer_wallet.get_address())"
   ]
  },
  {
   "cell_type": "markdown",
   "metadata": {},
   "source": [
    "### Creating new wallet"
   ]
  },
  {
   "cell_type": "code",
   "execution_count": null,
   "metadata": {},
   "outputs": [],
   "source": [
    "deployer_wallet = KeyWallet.create()\n",
    "print(deployer_wallet.get_address())\n",
    "caller_wallet = KeyWallet.create()\n",
    "print(caller_wallet.get_address())"
   ]
  },
  {
   "cell_type": "code",
   "execution_count": 94,
   "metadata": {
    "slideshow": {
     "slide_type": "-"
    },
    "tags": []
   },
   "outputs": [
    {
     "output_type": "execute_result",
     "data": {
      "text/plain": [
       "{'oToken': {'zip': '/home/elite/Desktop/OMM OG/openmoneymarket-mono/score/oToken'},\n",
       " 'sicx': {'zip': '/home/elite/Desktop/OMM OG/openmoneymarket-mono/score/sicx'},\n",
       " 'addressProvider': {'zip': '/home/elite/Desktop/OMM OG/openmoneymarket-mono/score/addressProvider'},\n",
       " 'lendingPoolDataProvider': {'zip': '/home/elite/Desktop/OMM OG/openmoneymarket-mono/score/lendingPoolDataProvider'},\n",
       " 'priceOracle': {'zip': '/home/elite/Desktop/OMM OG/openmoneymarket-mono/score/priceOracle'},\n",
       " 'sample_token': {'zip': '/home/elite/Desktop/OMM OG/openmoneymarket-mono/score/sample_token'},\n",
       " 'lendingPoolCore': {'zip': '/home/elite/Desktop/OMM OG/openmoneymarket-mono/score/lendingPoolCore'},\n",
       " 'lendingPool': {'zip': '/home/elite/Desktop/OMM OG/openmoneymarket-mono/score/lendingPool'},\n",
       " 'feeProvider': {'zip': '/home/elite/Desktop/OMM OG/openmoneymarket-mono/score/feeProvider'},\n",
       " 'oICX': {'zip': '/home/elite/Desktop/OMM OG/openmoneymarket-mono/score/oToken'}}"
      ]
     },
     "metadata": {},
     "execution_count": 94
    }
   ],
   "source": [
    "# Add the contracts. Copy the output from this cell the the one above to save the contract addresses.\n",
    "#Run this when you need to zip the contract codes (before deploying them)\n",
    "contracts=AutoVivification()\n",
    "\n",
    "deploy = ['addressProvider', 'feeProvider', 'lendingPool', 'lendingPoolCore', 'lendingPoolDataProvider','oToken','priceOracle','sample_token', 'sicx']\n",
    "# for directory in {\"score\"}:\n",
    "directory=os.getcwd()\n",
    "with os.scandir(directory) as it:\n",
    "    for file in it:\n",
    "        archive_name = directory + \"/\" + file.name\n",
    "        if file.is_dir() and file.name in deploy:\n",
    "            # make_archive(archive_name, \"zip\", directory, file.name)\n",
    "            contracts[file.name]['zip'] = archive_name \n",
    "contracts['oICX']['zip'] = directory + \"/oToken\"\n",
    "\n",
    "contracts"
   ]
  },
  {
   "cell_type": "markdown",
   "metadata": {},
   "source": [
    "# Deploying all contracts\n"
   ]
  },
  {
   "cell_type": "code",
   "execution_count": 95,
   "metadata": {
    "tags": []
   },
   "outputs": [
    {
     "output_type": "stream",
     "name": "stdout",
     "text": [
      "oToken {'zip': '/home/elite/Desktop/OMM OG/openmoneymarket-mono/score/oToken'}\n",
      "sicx {'zip': '/home/elite/Desktop/OMM OG/openmoneymarket-mono/score/sicx'}\n",
      "addressProvider {'zip': '/home/elite/Desktop/OMM OG/openmoneymarket-mono/score/addressProvider'}\n",
      "lendingPoolDataProvider {'zip': '/home/elite/Desktop/OMM OG/openmoneymarket-mono/score/lendingPoolDataProvider'}\n",
      "Raised JSONRPCException while returning the custom response. Error message: {'code': -32602, 'message': 'Pending transaction'}\n",
      "{'code': -32602, 'message': 'Pending transaction'} (Json rpc error), Retrying in 1 seconds...\n",
      "priceOracle {'zip': '/home/elite/Desktop/OMM OG/openmoneymarket-mono/score/priceOracle'}\n",
      "Raised JSONRPCException while returning the custom response. Error message: {'code': -32602, 'message': 'Pending transaction'}\n",
      "{'code': -32602, 'message': 'Pending transaction'} (Json rpc error), Retrying in 1 seconds...\n",
      "sample_token {'zip': '/home/elite/Desktop/OMM OG/openmoneymarket-mono/score/sample_token'}\n",
      "Raised JSONRPCException while returning the custom response. Error message: {'code': -32602, 'message': 'Pending transaction'}\n",
      "{'code': -32602, 'message': 'Pending transaction'} (Json rpc error), Retrying in 1 seconds...\n",
      "lendingPoolCore {'zip': '/home/elite/Desktop/OMM OG/openmoneymarket-mono/score/lendingPoolCore'}\n",
      "lendingPool {'zip': '/home/elite/Desktop/OMM OG/openmoneymarket-mono/score/lendingPool'}\n",
      "feeProvider {'zip': '/home/elite/Desktop/OMM OG/openmoneymarket-mono/score/feeProvider'}\n",
      "oICX {'zip': '/home/elite/Desktop/OMM OG/openmoneymarket-mono/score/oToken'}\n",
      "Raised JSONRPCException while returning the custom response. Error message: {'code': -32602, 'message': 'Pending transaction'}\n",
      "{'code': -32602, 'message': 'Pending transaction'} (Json rpc error), Retrying in 1 seconds...\n",
      "saving contracts list as custom_contracts_20201130141644.pkl\n"
     ]
    },
    {
     "output_type": "execute_result",
     "data": {
      "text/plain": [
       "{'oToken': {'zip': '/home/elite/Desktop/OMM OG/openmoneymarket-mono/score/oToken',\n",
       "  'SCORE': 'cxc3011b3da8a3df88e9411efefe1207c6d3471e65'},\n",
       " 'sicx': {'zip': '/home/elite/Desktop/OMM OG/openmoneymarket-mono/score/sicx',\n",
       "  'SCORE': 'cx2d53c5e8347915733500bda8bdf2aabefdd833d9'},\n",
       " 'addressProvider': {'zip': '/home/elite/Desktop/OMM OG/openmoneymarket-mono/score/addressProvider',\n",
       "  'SCORE': 'cx5f2a0a21f217d032e81b70990de4b10fbba7ca99'},\n",
       " 'lendingPoolDataProvider': {'zip': '/home/elite/Desktop/OMM OG/openmoneymarket-mono/score/lendingPoolDataProvider',\n",
       "  'SCORE': 'cx32586b06dc00d24e1001e0b689353184d61fb3ad'},\n",
       " 'priceOracle': {'zip': '/home/elite/Desktop/OMM OG/openmoneymarket-mono/score/priceOracle',\n",
       "  'SCORE': 'cx03d534d6fbd8a43ca8d7385c16758072e342bcd4'},\n",
       " 'sample_token': {'zip': '/home/elite/Desktop/OMM OG/openmoneymarket-mono/score/sample_token',\n",
       "  'SCORE': 'cxf27f51fe6a092437fd54c5f74983391515dfec2d'},\n",
       " 'lendingPoolCore': {'zip': '/home/elite/Desktop/OMM OG/openmoneymarket-mono/score/lendingPoolCore',\n",
       "  'SCORE': 'cx6146eab7f96fa77400d4c9e9884f0ddc65e01855'},\n",
       " 'lendingPool': {'zip': '/home/elite/Desktop/OMM OG/openmoneymarket-mono/score/lendingPool',\n",
       "  'SCORE': 'cx43184421f5f5743ae5435f59f12720e5b6c9a2c1'},\n",
       " 'feeProvider': {'zip': '/home/elite/Desktop/OMM OG/openmoneymarket-mono/score/feeProvider',\n",
       "  'SCORE': 'cxc4010d900b58dff912c053261ab4cfdc5781e2a4'},\n",
       " 'oICX': {'zip': '/home/elite/Desktop/OMM OG/openmoneymarket-mono/score/oToken',\n",
       "  'SCORE': 'cx91a8f04a2a5adcf110168e68479e34a3b33424c9'}}"
      ]
     },
     "metadata": {},
     "execution_count": 95
    }
   ],
   "source": [
    "#this cell needs to run only when you need to deploy new set of contracts\n",
    "for score, loc in contracts.items():\n",
    "    params = {}\n",
    "    print(score,loc)\n",
    "    if score == \"sample_token\":\n",
    "        params = {'_initialSupply':500000000, '_decimals': 18}\n",
    "    elif score == \"sicx\":\n",
    "        params = {'_initialSupply':500000000, '_decimals': 18}\n",
    "    elif score == \"oICX\":\n",
    "        params = {\"_name\":\"BridgeICXInterestToken\",\"_symbol\":\"oICX\"}\n",
    "    elif score == \"oToken\":\n",
    "        params = {\"_name\":\"BridgeUSDInterestToken\",\"_symbol\":\"oUSDb\"}\n",
    "    deploy_transaction = DeployTransactionBuilder()\\\n",
    "        .from_(deployer_wallet.get_address())\\\n",
    "        .to(GOVERNANCE_ADDRESS)\\\n",
    "        .nid(NID)\\\n",
    "        .nonce(100)\\\n",
    "        .content_type(\"application/zip\")\\\n",
    "        .content(gen_deploy_data_content(loc[\"zip\"]))\\\n",
    "        .params(params)\\\n",
    "        .build()\n",
    "\n",
    "    step_limit = icon_service.estimate_step(deploy_transaction) + 100000\n",
    "    \n",
    "    signed_transaction = SignedTransaction(deploy_transaction, deployer_wallet, step_limit)\n",
    "    tx_hash = icon_service.send_transaction(signed_transaction)\n",
    "\n",
    "    res = get_tx_result(tx_hash)\n",
    "    contracts[score][\"SCORE\"] = res.get('scoreAddress', '')\n",
    "now = datetime.utcnow()\n",
    "filename = f'contracts_{now.year}{str(now.month).zfill(2)}{str(now.day).zfill(2)}{str(now.hour).zfill(2)}{str(now.minute).zfill(2)}{str(now.second).zfill(2)}.pkl'\n",
    "filename=network+'_'+filename\n",
    "print(f'saving contracts list as {filename}')\n",
    "with open(filename, 'wb') as f:\n",
    "    pkl.dump(contracts, f)\n",
    "contracts"
   ]
  },
  {
   "source": [
    "## Save updated contract"
   ],
   "cell_type": "markdown",
   "metadata": {}
  },
  {
   "source": [],
   "cell_type": "markdown",
   "metadata": {}
  },
  {
   "cell_type": "code",
   "execution_count": 46,
   "metadata": {},
   "outputs": [
    {
     "output_type": "stream",
     "name": "stdout",
     "text": [
      "saving contracts list as updated20201125_custom_contracts_20201122161857.pkl\n"
     ]
    },
    {
     "output_type": "execute_result",
     "data": {
      "text/plain": [
       "{'lendingPoolDataProvider': {'zip': '/home/shubham/Work/ICON/openmoneymarket-mono/score/lendingPoolDataProvider',\n",
       "  'SCORE': 'cx726e8bacc442256099dda50438c11d004215afc5'},\n",
       " 'lendingPool': {'zip': '/home/shubham/Work/ICON/openmoneymarket-mono/score/lendingPool',\n",
       "  'SCORE': 'cxbfd0ecb9892ca2e1ae3d0494d48f6618620b7e48'},\n",
       " 'feeProvider': {'zip': '/home/shubham/Work/ICON/openmoneymarket-mono/score/feeProvider',\n",
       "  'SCORE': 'cxe408b46a010ff5f82e9e45610a0aadb4ff2b073c'},\n",
       " 'lendingPoolCore': {'zip': '/home/shubham/Work/ICON/openmoneymarket-mono/score/lendingPoolCore',\n",
       "  'SCORE': 'cx3daa5c2517fdd44bdf37904e5e537eefafb4d69d'},\n",
       " 'oToken': {'zip': '/home/shubham/Work/ICON/openmoneymarket-mono/score/oToken',\n",
       "  'SCORE': 'cx2f4c43ec2c69321573e93549d89462de4a25fdbe'},\n",
       " 'priceOracle': {'zip': '/home/shubham/Work/ICON/openmoneymarket-mono/score/priceOracle',\n",
       "  'SCORE': 'cx6703fdc7e0e65c5195d6dbfb59a838f76a9c19b1'},\n",
       " 'sample_token': {'zip': '/home/shubham/Work/ICON/openmoneymarket-mono/score/sample_token',\n",
       "  'SCORE': 'cx134a1a0309aaf88a00ad1fee4983b7ed43454ab6'},\n",
       " 'addressProvider': {'zip': '/home/shubham/Work/ICON/openmoneymarket-mono/score/addressProvider',\n",
       "  'SCORE': 'cx1e6df31409cf3f68fe4028848dca876314a5fbfc'},\n",
       " 'oICX': {'SCORE': 'cx6dbb85df52d7b12d2c00d673d89c5bf21ee29be2',\n",
       "  'zip': '/home/shubham/Work/ICON/openmoneymarket-mono/score/oToken'},\n",
       " 'sicx': {'SCORE': 'cx735ee7e87d30d76a83b27c7bc62a84b5beafa34b',\n",
       "  'zip': '/home/shubham/Work/ICON/openmoneymarket-mono/score/sicx'}}"
      ]
     },
     "metadata": {},
     "execution_count": 46
    }
   ],
   "source": [
    "#use this to update a pre existing pkl file\n",
    "filename = 'updated20201125_' + contracts_file_custom\n",
    "print(f'saving contracts list as {filename}')\n",
    "with open(filename, 'wb') as f:\n",
    "    pkl.dump(contracts, f)\n",
    "contracts"
   ]
  },
  {
   "cell_type": "code",
   "execution_count": 18,
   "metadata": {
    "tags": []
   },
   "outputs": [
    {
     "output_type": "stream",
     "name": "stdout",
     "text": "1000000.0\n"
    }
   ],
   "source": [
    "wallet_address='hx49c8a4c31e84b9abe7f8c8395eb7133b2151aeae'\n",
    "balance=icon_service.get_balance(wallet_address)\n",
    "print(balance/10**18)"
   ]
  },
  {
   "cell_type": "markdown",
   "metadata": {},
   "source": [
    "# ICX transfer"
   ]
  },
  {
   "cell_type": "code",
   "execution_count": 17,
   "metadata": {
    "tags": []
   },
   "outputs": [
    {
     "output_type": "execute_result",
     "data": {
      "text/plain": "{'txHash': '0x3c546494f559d4ea9d34534f13387c74aa80658c67ac2630ce1adaf514e1bc86',\n 'blockHeight': 1425621,\n 'blockHash': '0xc6a2b22340f3c2756027f1926f731d1eaa78ed6c65653e92e85f58e7ee2d2b66',\n 'txIndex': 1,\n 'to': 'hx49c8a4c31e84b9abe7f8c8395eb7133b2151aeae',\n 'stepUsed': 100000,\n 'stepPrice': 10000000000,\n 'cumulativeStepUsed': 100000,\n 'eventLogs': [],\n 'logsBloom': b'\\x00\\x00\\x00\\x00\\x00\\x00\\x00\\x00\\x00\\x00\\x00\\x00\\x00\\x00\\x00\\x00\\x00\\x00\\x00\\x00\\x00\\x00\\x00\\x00\\x00\\x00\\x00\\x00\\x00\\x00\\x00\\x00\\x00\\x00\\x00\\x00\\x00\\x00\\x00\\x00\\x00\\x00\\x00\\x00\\x00\\x00\\x00\\x00\\x00\\x00\\x00\\x00\\x00\\x00\\x00\\x00\\x00\\x00\\x00\\x00\\x00\\x00\\x00\\x00\\x00\\x00\\x00\\x00\\x00\\x00\\x00\\x00\\x00\\x00\\x00\\x00\\x00\\x00\\x00\\x00\\x00\\x00\\x00\\x00\\x00\\x00\\x00\\x00\\x00\\x00\\x00\\x00\\x00\\x00\\x00\\x00\\x00\\x00\\x00\\x00\\x00\\x00\\x00\\x00\\x00\\x00\\x00\\x00\\x00\\x00\\x00\\x00\\x00\\x00\\x00\\x00\\x00\\x00\\x00\\x00\\x00\\x00\\x00\\x00\\x00\\x00\\x00\\x00\\x00\\x00\\x00\\x00\\x00\\x00\\x00\\x00\\x00\\x00\\x00\\x00\\x00\\x00\\x00\\x00\\x00\\x00\\x00\\x00\\x00\\x00\\x00\\x00\\x00\\x00\\x00\\x00\\x00\\x00\\x00\\x00\\x00\\x00\\x00\\x00\\x00\\x00\\x00\\x00\\x00\\x00\\x00\\x00\\x00\\x00\\x00\\x00\\x00\\x00\\x00\\x00\\x00\\x00\\x00\\x00\\x00\\x00\\x00\\x00\\x00\\x00\\x00\\x00\\x00\\x00\\x00\\x00\\x00\\x00\\x00\\x00\\x00\\x00\\x00\\x00\\x00\\x00\\x00\\x00\\x00\\x00\\x00\\x00\\x00\\x00\\x00\\x00\\x00\\x00\\x00\\x00\\x00\\x00\\x00\\x00\\x00\\x00\\x00\\x00\\x00\\x00\\x00\\x00\\x00\\x00\\x00\\x00\\x00\\x00\\x00\\x00\\x00\\x00\\x00\\x00\\x00\\x00\\x00\\x00\\x00\\x00\\x00\\x00\\x00\\x00\\x00\\x00',\n 'status': 1}"
     },
     "metadata": {},
     "execution_count": 17
    }
   ],
   "source": [
    "transaction = TransactionBuilder()\\\n",
    "    .from_(deployer_wallet.get_address())\\\n",
    "    .to(\"hx49c8a4c31e84b9abe7f8c8395eb7133b2151aeae\")\\\n",
    "    .nid(3) \\\n",
    "    .nonce(100) \\\n",
    "    .value(1000000*10**18)\\\n",
    "    .build()\n",
    "\n",
    "estimate_step = icon_service.estimate_step(transaction)\n",
    "step_limit = estimate_step + 100000\n",
    "# Returns the signed transaction object having a signature\n",
    "signed_transaction = SignedTransaction(transaction, deployer_wallet,step_limit)\n",
    "\n",
    "\n",
    "# Sends the transaction\n",
    "tx_hash = icon_service.send_transaction(signed_transaction)\n",
    "\n",
    "get_tx_result(tx_hash)"
   ]
  },
  {
   "cell_type": "code",
   "execution_count": null,
   "metadata": {},
   "outputs": [],
   "source": [
    "params = {\"_owner\":\"hx91bf040426f226b3bfcd2f0b5967bbb0320525ce\"}\n",
    "transaction = CallTransactionBuilder()\\\n",
    "    .from_(deployer_wallet.get_address())\\\n",
    "    .to(contracts['sample_token']['SCORE'])\\\n",
    "    .value(0)\\\n",
    "    .step_limit(10000000)\\\n",
    "    .nid(3)\\\n",
    "    .nonce(100)\\\n",
    "    .method(\"balanceOf\")\\\n",
    "    .params(params)\\\n",
    "    .build()\n",
    "signed_transaction = SignedTransaction(transaction, deployer_wallet)\n",
    "tx_hash = icon_service.send_transaction(signed_transaction)\n",
    "get_tx_result(tx_hash)"
   ]
  },
  {
   "cell_type": "code",
   "execution_count": 20,
   "metadata": {
    "tags": []
   },
   "outputs": [
    {
     "output_type": "stream",
     "name": "stderr",
     "text": "Raised JSONRPCException while returning the custom response. Error message: {'code': -32002, 'message': 'SCORE not found: cx19be1be7b4e7750863edf966faac3f42dec21025'}\n"
    },
    {
     "output_type": "error",
     "ename": "JSONRPCException",
     "evalue": "{'code': -32002, 'message': 'SCORE not found: cx19be1be7b4e7750863edf966faac3f42dec21025'} (Json rpc error)",
     "traceback": [
      "\u001b[0;31m---------------------------------------------------------------------------\u001b[0m",
      "\u001b[0;31mJSONRPCException\u001b[0m                          Traceback (most recent call last)",
      "\u001b[0;32m<ipython-input-20-376c306d593f>\u001b[0m in \u001b[0;36m<module>\u001b[0;34m\u001b[0m\n\u001b[1;32m      6\u001b[0m     \u001b[0;34m.\u001b[0m\u001b[0mparams\u001b[0m\u001b[0;34m(\u001b[0m\u001b[0mparams\u001b[0m\u001b[0;34m)\u001b[0m\u001b[0;31m\\\u001b[0m\u001b[0;34m\u001b[0m\u001b[0;34m\u001b[0m\u001b[0m\n\u001b[1;32m      7\u001b[0m     \u001b[0;34m.\u001b[0m\u001b[0mbuild\u001b[0m\u001b[0;34m(\u001b[0m\u001b[0;34m)\u001b[0m\u001b[0;34m\u001b[0m\u001b[0;34m\u001b[0m\u001b[0m\n\u001b[0;32m----> 8\u001b[0;31m \u001b[0mresponse\u001b[0m\u001b[0;34m=\u001b[0m\u001b[0micon_service\u001b[0m\u001b[0;34m.\u001b[0m\u001b[0mcall\u001b[0m\u001b[0;34m(\u001b[0m\u001b[0mtransaction\u001b[0m\u001b[0;34m)\u001b[0m\u001b[0;34m\u001b[0m\u001b[0;34m\u001b[0m\u001b[0m\n\u001b[0m\u001b[1;32m      9\u001b[0m \u001b[0mprint\u001b[0m\u001b[0;34m(\u001b[0m\u001b[0mresponse\u001b[0m\u001b[0;34m)\u001b[0m\u001b[0;34m\u001b[0m\u001b[0;34m\u001b[0m\u001b[0m\n",
      "\u001b[0;32m/usr/local/lib/python3.8/dist-packages/iconsdk/icon_service.py\u001b[0m in \u001b[0;36mcall\u001b[0;34m(self, call, full_response)\u001b[0m\n\u001b[1;32m    233\u001b[0m             \u001b[0mparams\u001b[0m\u001b[0;34m[\u001b[0m\u001b[0;34m\"data\"\u001b[0m\u001b[0;34m]\u001b[0m\u001b[0;34m[\u001b[0m\u001b[0;34m\"params\"\u001b[0m\u001b[0;34m]\u001b[0m \u001b[0;34m=\u001b[0m \u001b[0mcall\u001b[0m\u001b[0;34m.\u001b[0m\u001b[0mparams\u001b[0m\u001b[0;34m\u001b[0m\u001b[0;34m\u001b[0m\u001b[0m\n\u001b[1;32m    234\u001b[0m \u001b[0;34m\u001b[0m\u001b[0m\n\u001b[0;32m--> 235\u001b[0;31m         \u001b[0;32mreturn\u001b[0m \u001b[0mself\u001b[0m\u001b[0;34m.\u001b[0m\u001b[0m__provider\u001b[0m\u001b[0;34m.\u001b[0m\u001b[0mmake_request\u001b[0m\u001b[0;34m(\u001b[0m\u001b[0;34m'icx_call'\u001b[0m\u001b[0;34m,\u001b[0m \u001b[0mparams\u001b[0m\u001b[0;34m,\u001b[0m \u001b[0mfull_response\u001b[0m\u001b[0;34m)\u001b[0m\u001b[0;34m\u001b[0m\u001b[0;34m\u001b[0m\u001b[0m\n\u001b[0m\u001b[1;32m    236\u001b[0m \u001b[0;34m\u001b[0m\u001b[0m\n\u001b[1;32m    237\u001b[0m     \u001b[0;32mdef\u001b[0m \u001b[0msend_transaction\u001b[0m\u001b[0;34m(\u001b[0m\u001b[0mself\u001b[0m\u001b[0;34m,\u001b[0m \u001b[0msigned_transaction\u001b[0m\u001b[0;34m:\u001b[0m \u001b[0mSignedTransaction\u001b[0m\u001b[0;34m,\u001b[0m \u001b[0mfull_response\u001b[0m\u001b[0;34m:\u001b[0m \u001b[0mbool\u001b[0m \u001b[0;34m=\u001b[0m \u001b[0;32mFalse\u001b[0m\u001b[0;34m)\u001b[0m \u001b[0;34m->\u001b[0m \u001b[0mUnion\u001b[0m\u001b[0;34m[\u001b[0m\u001b[0mdict\u001b[0m\u001b[0;34m,\u001b[0m \u001b[0mstr\u001b[0m\u001b[0;34m]\u001b[0m\u001b[0;34m:\u001b[0m\u001b[0;34m\u001b[0m\u001b[0;34m\u001b[0m\u001b[0m\n",
      "\u001b[0;32m/usr/local/lib/python3.8/dist-packages/iconsdk/providers/http_provider.py\u001b[0m in \u001b[0;36mmake_request\u001b[0;34m(self, method, params, full_response)\u001b[0m\n\u001b[1;32m    127\u001b[0m         \u001b[0mfull_path_url\u001b[0m \u001b[0;34m=\u001b[0m \u001b[0mself\u001b[0m\u001b[0;34m.\u001b[0m\u001b[0m_full_path_url\u001b[0m \u001b[0;32mif\u001b[0m \u001b[0mself\u001b[0m\u001b[0;34m.\u001b[0m\u001b[0m_full_path_url\u001b[0m \u001b[0;32melse\u001b[0m \u001b[0mself\u001b[0m\u001b[0;34m.\u001b[0m\u001b[0m_get_full_path_url\u001b[0m\u001b[0;34m(\u001b[0m\u001b[0mmethod\u001b[0m\u001b[0;34m)\u001b[0m\u001b[0;34m\u001b[0m\u001b[0;34m\u001b[0m\u001b[0m\n\u001b[1;32m    128\u001b[0m         \u001b[0mresponse\u001b[0m \u001b[0;34m=\u001b[0m \u001b[0mself\u001b[0m\u001b[0;34m.\u001b[0m\u001b[0m_make_post_request\u001b[0m\u001b[0;34m(\u001b[0m\u001b[0mfull_path_url\u001b[0m\u001b[0;34m,\u001b[0m \u001b[0mrpc_dict\u001b[0m\u001b[0;34m,\u001b[0m \u001b[0;34m**\u001b[0m\u001b[0mself\u001b[0m\u001b[0;34m.\u001b[0m\u001b[0m_get_request_kwargs\u001b[0m\u001b[0;34m(\u001b[0m\u001b[0;34m)\u001b[0m\u001b[0;34m)\u001b[0m\u001b[0;34m\u001b[0m\u001b[0;34m\u001b[0m\u001b[0m\n\u001b[0;32m--> 129\u001b[0;31m         \u001b[0mcustom_response\u001b[0m \u001b[0;34m=\u001b[0m \u001b[0mself\u001b[0m\u001b[0;34m.\u001b[0m\u001b[0m_return_custom_response\u001b[0m\u001b[0;34m(\u001b[0m\u001b[0mresponse\u001b[0m\u001b[0;34m,\u001b[0m \u001b[0mfull_response\u001b[0m\u001b[0;34m)\u001b[0m\u001b[0;34m\u001b[0m\u001b[0;34m\u001b[0m\u001b[0m\n\u001b[0m\u001b[1;32m    130\u001b[0m \u001b[0;34m\u001b[0m\u001b[0m\n\u001b[1;32m    131\u001b[0m         \u001b[0mlogger\u001b[0m\u001b[0;34m.\u001b[0m\u001b[0mdebug\u001b[0m\u001b[0;34m(\u001b[0m\u001b[0;34mf\"Request: {rpc_dict}\"\u001b[0m\u001b[0;34m)\u001b[0m\u001b[0;34m\u001b[0m\u001b[0;34m\u001b[0m\u001b[0m\n",
      "\u001b[0;32m/usr/local/lib/python3.8/dist-packages/iconsdk/providers/http_provider.py\u001b[0m in \u001b[0;36m_return_custom_response\u001b[0;34m(response, full_response)\u001b[0m\n\u001b[1;32m    152\u001b[0m                 logger.error(f\"Raised JSONRPCException while returning the custom response. \"\n\u001b[1;32m    153\u001b[0m                              f\"Error message: {content_as_dict['error']}\")\n\u001b[0;32m--> 154\u001b[0;31m                 \u001b[0;32mraise\u001b[0m \u001b[0mJSONRPCException\u001b[0m\u001b[0;34m(\u001b[0m\u001b[0mcontent_as_dict\u001b[0m\u001b[0;34m[\u001b[0m\u001b[0;34m\"error\"\u001b[0m\u001b[0;34m]\u001b[0m\u001b[0;34m)\u001b[0m\u001b[0;34m\u001b[0m\u001b[0;34m\u001b[0m\u001b[0m\n\u001b[0m\u001b[1;32m    155\u001b[0m \u001b[0;34m\u001b[0m\u001b[0m\n\u001b[1;32m    156\u001b[0m     \u001b[0;32mdef\u001b[0m \u001b[0mis_connected\u001b[0m\u001b[0;34m(\u001b[0m\u001b[0mself\u001b[0m\u001b[0;34m)\u001b[0m \u001b[0;34m->\u001b[0m \u001b[0mbool\u001b[0m\u001b[0;34m:\u001b[0m\u001b[0;34m\u001b[0m\u001b[0;34m\u001b[0m\u001b[0m\n",
      "\u001b[0;31mJSONRPCException\u001b[0m: {'code': -32002, 'message': 'SCORE not found: cx19be1be7b4e7750863edf966faac3f42dec21025'} (Json rpc error)"
     ]
    }
   ],
   "source": [
    "params = {\"_owner\":\"hx91bf040426f226b3bfcd2f0b5967bbb0320525ce\"}\n",
    "transaction = CallBuilder()\\\n",
    "    .from_(deployer_wallet.get_address())\\\n",
    "    .to(contracts['sample_token']['SCORE'])\\\n",
    "    .method(\"balanceOf\")\\\n",
    "    .params(params)\\\n",
    "    .build()\n",
    "response=icon_service.call(transaction)\n",
    "print(response)"
   ]
  },
  {
   "cell_type": "markdown",
   "metadata": {},
   "source": [
    "# Deploying otoken and sicx for icx"
   ]
  },
  {
   "cell_type": "code",
   "execution_count": 31,
   "metadata": {},
   "outputs": [
    {
     "output_type": "stream",
     "name": "stderr",
     "text": [
      "Raised JSONRPCException while returning the custom response. Error message: {'code': -32602, 'message': 'Pending transaction'}\n",
      "{'code': -32602, 'message': 'Pending transaction'} (Json rpc error), Retrying in 1 seconds...\n",
      "{'txHash': '0xb1ae2334359e4fb41741ac4bbf66cc9166ee4daeafac8fb2885d800fa62c554c', 'blockHeight': 1128147, 'blockHash': '0xc836630e1d11925b0b4286f38e469d779301c15aa98994c5d795070aa1955a44', 'txIndex': 1, 'to': 'cx0000000000000000000000000000000000000000', 'scoreAddress': 'cx6dbb85df52d7b12d2c00d673d89c5bf21ee29be2', 'stepUsed': 1144284440, 'stepPrice': 10000000000, 'cumulativeStepUsed': 1144284440, 'eventLogs': [], 'logsBloom': b'\\x00\\x00\\x00\\x00\\x00\\x00\\x00\\x00\\x00\\x00\\x00\\x00\\x00\\x00\\x00\\x00\\x00\\x00\\x00\\x00\\x00\\x00\\x00\\x00\\x00\\x00\\x00\\x00\\x00\\x00\\x00\\x00\\x00\\x00\\x00\\x00\\x00\\x00\\x00\\x00\\x00\\x00\\x00\\x00\\x00\\x00\\x00\\x00\\x00\\x00\\x00\\x00\\x00\\x00\\x00\\x00\\x00\\x00\\x00\\x00\\x00\\x00\\x00\\x00\\x00\\x00\\x00\\x00\\x00\\x00\\x00\\x00\\x00\\x00\\x00\\x00\\x00\\x00\\x00\\x00\\x00\\x00\\x00\\x00\\x00\\x00\\x00\\x00\\x00\\x00\\x00\\x00\\x00\\x00\\x00\\x00\\x00\\x00\\x00\\x00\\x00\\x00\\x00\\x00\\x00\\x00\\x00\\x00\\x00\\x00\\x00\\x00\\x00\\x00\\x00\\x00\\x00\\x00\\x00\\x00\\x00\\x00\\x00\\x00\\x00\\x00\\x00\\x00\\x00\\x00\\x00\\x00\\x00\\x00\\x00\\x00\\x00\\x00\\x00\\x00\\x00\\x00\\x00\\x00\\x00\\x00\\x00\\x00\\x00\\x00\\x00\\x00\\x00\\x00\\x00\\x00\\x00\\x00\\x00\\x00\\x00\\x00\\x00\\x00\\x00\\x00\\x00\\x00\\x00\\x00\\x00\\x00\\x00\\x00\\x00\\x00\\x00\\x00\\x00\\x00\\x00\\x00\\x00\\x00\\x00\\x00\\x00\\x00\\x00\\x00\\x00\\x00\\x00\\x00\\x00\\x00\\x00\\x00\\x00\\x00\\x00\\x00\\x00\\x00\\x00\\x00\\x00\\x00\\x00\\x00\\x00\\x00\\x00\\x00\\x00\\x00\\x00\\x00\\x00\\x00\\x00\\x00\\x00\\x00\\x00\\x00\\x00\\x00\\x00\\x00\\x00\\x00\\x00\\x00\\x00\\x00\\x00\\x00\\x00\\x00\\x00\\x00\\x00\\x00\\x00\\x00\\x00\\x00\\x00\\x00\\x00\\x00\\x00\\x00\\x00\\x00', 'status': 1}\n",
      "Raised JSONRPCException while returning the custom response. Error message: {'code': -32602, 'message': 'Pending transaction'}\n",
      "{'code': -32602, 'message': 'Pending transaction'} (Json rpc error), Retrying in 1 seconds...\n",
      "{'txHash': '0x38d17f3fe9eb9608a789a58cab9d6f30224e71a170d599f0c074c6ddc73f56bc', 'blockHeight': 1128149, 'blockHash': '0x2fa1a7706d70ccb146481a97bbcc6c05e632d87a24a353aecbea3c8a0c9839cf', 'txIndex': 1, 'to': 'cx0000000000000000000000000000000000000000', 'scoreAddress': 'cx735ee7e87d30d76a83b27c7bc62a84b5beafa34b', 'stepUsed': 1144284440, 'stepPrice': 10000000000, 'cumulativeStepUsed': 1144284440, 'eventLogs': [], 'logsBloom': b'\\x00\\x00\\x00\\x00\\x00\\x00\\x00\\x00\\x00\\x00\\x00\\x00\\x00\\x00\\x00\\x00\\x00\\x00\\x00\\x00\\x00\\x00\\x00\\x00\\x00\\x00\\x00\\x00\\x00\\x00\\x00\\x00\\x00\\x00\\x00\\x00\\x00\\x00\\x00\\x00\\x00\\x00\\x00\\x00\\x00\\x00\\x00\\x00\\x00\\x00\\x00\\x00\\x00\\x00\\x00\\x00\\x00\\x00\\x00\\x00\\x00\\x00\\x00\\x00\\x00\\x00\\x00\\x00\\x00\\x00\\x00\\x00\\x00\\x00\\x00\\x00\\x00\\x00\\x00\\x00\\x00\\x00\\x00\\x00\\x00\\x00\\x00\\x00\\x00\\x00\\x00\\x00\\x00\\x00\\x00\\x00\\x00\\x00\\x00\\x00\\x00\\x00\\x00\\x00\\x00\\x00\\x00\\x00\\x00\\x00\\x00\\x00\\x00\\x00\\x00\\x00\\x00\\x00\\x00\\x00\\x00\\x00\\x00\\x00\\x00\\x00\\x00\\x00\\x00\\x00\\x00\\x00\\x00\\x00\\x00\\x00\\x00\\x00\\x00\\x00\\x00\\x00\\x00\\x00\\x00\\x00\\x00\\x00\\x00\\x00\\x00\\x00\\x00\\x00\\x00\\x00\\x00\\x00\\x00\\x00\\x00\\x00\\x00\\x00\\x00\\x00\\x00\\x00\\x00\\x00\\x00\\x00\\x00\\x00\\x00\\x00\\x00\\x00\\x00\\x00\\x00\\x00\\x00\\x00\\x00\\x00\\x00\\x00\\x00\\x00\\x00\\x00\\x00\\x00\\x00\\x00\\x00\\x00\\x00\\x00\\x00\\x00\\x00\\x00\\x00\\x00\\x00\\x00\\x00\\x00\\x00\\x00\\x00\\x00\\x00\\x00\\x00\\x00\\x00\\x00\\x00\\x00\\x00\\x00\\x00\\x00\\x00\\x00\\x00\\x00\\x00\\x00\\x00\\x00\\x00\\x00\\x00\\x00\\x00\\x00\\x00\\x00\\x00\\x00\\x00\\x00\\x00\\x00\\x00\\x00\\x00\\x00\\x00\\x00\\x00\\x00', 'status': 1}\n"
     ]
    }
   ],
   "source": [
    "params = {\"_name\":\"ICXinterestToken\",\"_symbol\":\"oICX\"}\n",
    "deploy_transaction = DeployTransactionBuilder()\\\n",
    "        .from_(deployer_wallet.get_address())\\\n",
    "        .to(GOVERNANCE_ADDRESS)\\\n",
    "        .nid(NID)\\\n",
    "        .nonce(100)\\\n",
    "        .content_type(\"application/zip\")\\\n",
    "        .content(gen_deploy_data_content('oToken'))\\\n",
    "        .params(params)\\\n",
    "        .build()\n",
    "\n",
    "step_limit = icon_service.estimate_step(deploy_transaction) + 100000\n",
    "\n",
    "signed_transaction = SignedTransaction(deploy_transaction, deployer_wallet, step_limit)\n",
    "tx_hash = icon_service.send_transaction(signed_transaction)\n",
    "\n",
    "res = get_tx_result(tx_hash)\n",
    "print(res)\n",
    "contracts['oICX'][\"SCORE\"] = res.get('scoreAddress', '')\n",
    "contracts['oICX'][\"zip\"] = '/home/shubham/Work/ICON/openmoneymarket-mono/score/oToken'\n",
    "\n",
    "params = {\"_name\":\"ICXinterestToken\",\"_symbol\":\"oICX\"}\n",
    "deploy_transaction = DeployTransactionBuilder()\\\n",
    "        .from_(deployer_wallet.get_address())\\\n",
    "        .to(GOVERNANCE_ADDRESS)\\\n",
    "        .nid(NID)\\\n",
    "        .nonce(100)\\\n",
    "        .content_type(\"application/zip\")\\\n",
    "        .content(gen_deploy_data_content('oToken'))\\\n",
    "        .params(params)\\\n",
    "        .build()\n",
    "\n",
    "step_limit = icon_service.estimate_step(deploy_transaction) + 100000\n",
    "\n",
    "signed_transaction = SignedTransaction(deploy_transaction, deployer_wallet, step_limit)\n",
    "tx_hash = icon_service.send_transaction(signed_transaction)\n",
    "\n",
    "res = get_tx_result(tx_hash)\n",
    "print(res)\n",
    "contracts['sicx'][\"SCORE\"] = res.get('scoreAddress', '')\n",
    "contracts['sicx'][\"zip\"] = '/home/shubham/Work/ICON/openmoneymarket-mono/score/sicx'"
   ]
  },
  {
   "cell_type": "code",
   "execution_count": 77,
   "metadata": {
    "tags": []
   },
   "outputs": [
    {
     "output_type": "stream",
     "name": "stdout",
     "text": [
      "{'addressProvider': {'SCORE': 'cx1e6df31409cf3f68fe4028848dca876314a5fbfc',\n                     'zip': '/home/elite/Desktop/OMM '\n                            'OG/openmoneymarket-mono/score/addressProvider'},\n 'feeProvider': {'SCORE': 'cxe408b46a010ff5f82e9e45610a0aadb4ff2b073c',\n                 'zip': '/home/elite/Desktop/OMM '\n                        'OG/openmoneymarket-mono/score/feeProvider'},\n 'lendingPool': {'SCORE': 'cxbfd0ecb9892ca2e1ae3d0494d48f6618620b7e48',\n                 'zip': '/home/elite/Desktop/OMM '\n                        'OG/openmoneymarket-mono/score/lendingPool'},\n 'lendingPoolCore': {'SCORE': 'cx3daa5c2517fdd44bdf37904e5e537eefafb4d69d',\n                     'zip': '/home/elite/Desktop/OMM '\n                            'OG/openmoneymarket-mono/score/lendingPoolCore'},\n 'lendingPoolDataProvider': {'SCORE': 'cx726e8bacc442256099dda50438c11d004215afc5',\n                             'zip': '/home/elite/Desktop/OMM '\n                                    'OG/openmoneymarket-mono/score/lendingPoolDataProvider'},\n 'oICX': {'SCORE': 'cx6dbb85df52d7b12d2c00d673d89c5bf21ee29be2',\n          'zip': '/home/elite/Desktop/OMM OG/openmoneymarket-mono/score/oICX'},\n 'oToken': {'SCORE': 'cx2f4c43ec2c69321573e93549d89462de4a25fdbe',\n            'zip': '/home/elite/Desktop/OMM '\n                   'OG/openmoneymarket-mono/score/oToken'},\n 'priceOracle': {'SCORE': 'cx6703fdc7e0e65c5195d6dbfb59a838f76a9c19b1',\n                 'zip': '/home/elite/Desktop/OMM '\n                        'OG/openmoneymarket-mono/score/priceOracle'},\n 'sample_token': {'SCORE': 'cx134a1a0309aaf88a00ad1fee4983b7ed43454ab6',\n                  'zip': '/home/elite/Desktop/OMM '\n                         'OG/openmoneymarket-mono/score/sample_token'},\n 'sicx': {'SCORE': 'cx735ee7e87d30d76a83b27c7bc62a84b5beafa34b',\n          'zip': '/home/elite/Desktop/OMM OG/openmoneymarket-mono/score/sicx'}}\n/home/elite/Desktop/OMM OG/openmoneymarket-mono/score/lendingPool\n"
     ]
    }
   ],
   "source": [
    "pprint(contracts)\n",
    "print(contracts['lendingPool']['zip'])"
   ]
  },
  {
   "cell_type": "markdown",
   "metadata": {
    "tags": []
   },
   "source": [
    "# Updating a contract"
   ]
  },
  {
   "cell_type": "code",
   "execution_count": 28,
   "metadata": {
    "slideshow": {
     "slide_type": "-"
    },
    "tags": []
   },
   "outputs": [
    {
     "output_type": "stream",
     "name": "stderr",
     "text": "Raised JSONRPCException while returning the custom response. Error message: {'code': -32602, 'message': 'Pending transaction'}\n{'code': -32602, 'message': 'Pending transaction'} (Json rpc error), Retrying in 1 seconds...\n"
    },
    {
     "output_type": "execute_result",
     "data": {
      "text/plain": "{'txHash': '0x9a68899a28320df72b364b52060cb6f7d234fe7b771c9e4553c94287eaf1da8d',\n 'blockHeight': 1433914,\n 'blockHash': '0xc78d496f8de8aad0e2c9e5595bebd58bef8f823a448f7aff8b3ec69ef1cd2de7',\n 'txIndex': 1,\n 'to': 'cxb5083e61b035b31b0bffa7350ff276349069eb60',\n 'scoreAddress': 'cxb5083e61b035b31b0bffa7350ff276349069eb60',\n 'stepUsed': 1705749600,\n 'stepPrice': 10000000000,\n 'cumulativeStepUsed': 1705749600,\n 'eventLogs': [],\n 'logsBloom': b'\\x00\\x00\\x00\\x00\\x00\\x00\\x00\\x00\\x00\\x00\\x00\\x00\\x00\\x00\\x00\\x00\\x00\\x00\\x00\\x00\\x00\\x00\\x00\\x00\\x00\\x00\\x00\\x00\\x00\\x00\\x00\\x00\\x00\\x00\\x00\\x00\\x00\\x00\\x00\\x00\\x00\\x00\\x00\\x00\\x00\\x00\\x00\\x00\\x00\\x00\\x00\\x00\\x00\\x00\\x00\\x00\\x00\\x00\\x00\\x00\\x00\\x00\\x00\\x00\\x00\\x00\\x00\\x00\\x00\\x00\\x00\\x00\\x00\\x00\\x00\\x00\\x00\\x00\\x00\\x00\\x00\\x00\\x00\\x00\\x00\\x00\\x00\\x00\\x00\\x00\\x00\\x00\\x00\\x00\\x00\\x00\\x00\\x00\\x00\\x00\\x00\\x00\\x00\\x00\\x00\\x00\\x00\\x00\\x00\\x00\\x00\\x00\\x00\\x00\\x00\\x00\\x00\\x00\\x00\\x00\\x00\\x00\\x00\\x00\\x00\\x00\\x00\\x00\\x00\\x00\\x00\\x00\\x00\\x00\\x00\\x00\\x00\\x00\\x00\\x00\\x00\\x00\\x00\\x00\\x00\\x00\\x00\\x00\\x00\\x00\\x00\\x00\\x00\\x00\\x00\\x00\\x00\\x00\\x00\\x00\\x00\\x00\\x00\\x00\\x00\\x00\\x00\\x00\\x00\\x00\\x00\\x00\\x00\\x00\\x00\\x00\\x00\\x00\\x00\\x00\\x00\\x00\\x00\\x00\\x00\\x00\\x00\\x00\\x00\\x00\\x00\\x00\\x00\\x00\\x00\\x00\\x00\\x00\\x00\\x00\\x00\\x00\\x00\\x00\\x00\\x00\\x00\\x00\\x00\\x00\\x00\\x00\\x00\\x00\\x00\\x00\\x00\\x00\\x00\\x00\\x00\\x00\\x00\\x00\\x00\\x00\\x00\\x00\\x00\\x00\\x00\\x00\\x00\\x00\\x00\\x00\\x00\\x00\\x00\\x00\\x00\\x00\\x00\\x00\\x00\\x00\\x00\\x00\\x00\\x00\\x00\\x00\\x00\\x00\\x00\\x00',\n 'status': 1}"
     },
     "metadata": {},
     "execution_count": 28
    }
   ],
   "source": [
    "contract = 'lendingPoolDataProvider'\n",
    "update = contracts[contract]['SCORE']\n",
    "deploy_transaction = DeployTransactionBuilder()\\\n",
    "    .from_(deployer_wallet.get_address())\\\n",
    "    .to(update)\\\n",
    "    .nid(NID)\\\n",
    "    .nonce(100)\\\n",
    "    .content_type(\"application/zip\")\\\n",
    "    .content(gen_deploy_data_content('lendingPoolDataProvider'))\\\n",
    "    .build()\n",
    "\n",
    "step_limit = icon_service.estimate_step(deploy_transaction) + 100000\n",
    "\n",
    "signed_transaction = SignedTransaction(deploy_transaction, deployer_wallet, step_limit)\n",
    "tx_hash = icon_service.send_transaction(signed_transaction)\n",
    "\n",
    "get_tx_result(tx_hash)"
   ]
  },
  {
   "cell_type": "markdown",
   "metadata": {},
   "source": [
    "# Configuring SCOREs's parameters"
   ]
  },
  {
   "cell_type": "code",
   "execution_count": 101,
   "metadata": {
    "scrolled": false,
    "slideshow": {
     "slide_type": "-"
    },
    "tags": []
   },
   "outputs": [],
   "source": [
    "settings = [{'contract': 'lendingPool', 'method': 'setLendingPoolCoreAddress', 'params':{'_address': contracts['lendingPoolCore']['SCORE']}},\n",
    "            {'contract': 'lendingPool', 'method': 'setUSDbAddress', 'params':{'_address': contracts['sample_token']['SCORE']}},\n",
    "            {'contract': 'lendingPool', 'method': 'setDataProvider', 'params':{'_address': contracts['lendingPoolDataProvider']['SCORE']}},\n",
    "            {'contract': 'lendingPool', 'method': 'setFeeProvider', 'params':{'_address': contracts['feeProvider']['SCORE']}},\n",
    "            {'contract': 'lendingPool', 'method': 'setSicxAddress', 'params':{'_address': contracts['sicx']['SCORE']}},\n",
    "            {'contract': 'feeProvider', 'method': 'setLoanOriginationFeePercentage', 'params':{'_percentage': 1*10**16}},\n",
    "            {'contract': 'lendingPoolDataProvider', 'method': 'setSymbol', 'params':{'_reserveAddress': contracts['sample_token']['SCORE'],'_sym':\"USDb\"}},\n",
    "            {'contract': 'lendingPoolDataProvider', 'method': 'setLendingPoolCoreAddress', 'params':{'_address': contracts['lendingPoolCore']['SCORE']}},\n",
    "            {'contract': 'lendingPoolDataProvider', 'method': 'setOracleAddress', 'params':{'_address': contracts['priceOracle']['SCORE']}},\n",
    "            {'contract': 'oToken', 'method': 'setCoreAddress', 'params':{'_address':contracts['lendingPoolCore']['SCORE']}},\n",
    "            {'contract': 'oToken', 'method': 'setReserveAddress', 'params':{'_address':contracts['sample_token']['SCORE']}},\n",
    "            {'contract': 'oToken', 'method': 'setDataProviderAddress', 'params':{'_address':contracts['lendingPoolDataProvider']['SCORE']}},\n",
    "            {'contract': 'oToken', 'method': 'setLendingPoolAddress', 'params':{'_address':contracts['lendingPool']['SCORE']}},\n",
    "            {'contract': 'priceOracle', 'method': 'set_reference_data', 'params':{'_base':'USDb','_quote':'USD','_rate':1*10**18}},\n",
    "            {'contract': 'addressProvider', 'method': 'setLendingPool', 'params':{'_address':contracts['lendingPool']['SCORE']}},\n",
    "            {'contract': 'addressProvider', 'method': 'setLendingPoolDataProvider', 'params':{'_address':contracts['lendingPoolDataProvider']['SCORE']}},\n",
    "            {'contract': 'addressProvider', 'method': 'setUSDb', 'params':{'_address':contracts['sample_token']['SCORE']}},\n",
    "            {'contract': 'addressProvider', 'method': 'setoUSDb', 'params':{'_address':contracts['oToken']['SCORE']}},\n",
    "            {'contract': 'lendingPoolCore', 'method': 'setReserveConstants', 'params' :{\"_constants\": [{\"reserve\":contracts['sample_token']['SCORE'],\"optimalUtilizationRate\":f\"6{'0'*17}\",\"baseBorrowRate\":f\"1{'0'*16}\",\"slopeRate1\":f\"4{'0'*16}\",\"slopeRate2\":f\"5{'0'*17}\"} ]}}]"
   ]
  },
  {
   "cell_type": "code",
   "execution_count": 29,
   "metadata": {},
   "outputs": [],
   "source": [
    "settings=[{'contract': 'feeProvider', 'method': 'setLoanOriginationFeePercentage', 'params':{'_percentage': 1*10**16}}]"
   ]
  },
  {
   "cell_type": "code",
   "execution_count": 30,
   "metadata": {
    "tags": []
   },
   "outputs": [
    {
     "output_type": "stream",
     "name": "stdout",
     "text": "\n\nCalling setLoanOriginationFeePercentage, with parameters {'_percentage': 10000000000000000} on the feeProvider contract.\nRaised JSONRPCException while returning the custom response. Error message: {'code': -32602, 'message': 'Pending transaction'}\n{'code': -32602, 'message': 'Pending transaction'} (Json rpc error), Retrying in 1 seconds...\n{'txHash': '0xe29f161f36639afbf6919b8b755543b93fe5dd41a40e43457578fa253f211679', 'blockHeight': 1434658, 'blockHash': '0x1ecb66691745086eed6f7a73f39d689edfc3ceb431678ad9ad2bffccece89bfa', 'txIndex': 1, 'to': 'cx14ed4464849d2b34a43a54e4ae8bbdcf64bae671', 'stepUsed': 143160, 'stepPrice': 10000000000, 'cumulativeStepUsed': 143160, 'eventLogs': [], 'logsBloom': b'\\x00\\x00\\x00\\x00\\x00\\x00\\x00\\x00\\x00\\x00\\x00\\x00\\x00\\x00\\x00\\x00\\x00\\x00\\x00\\x00\\x00\\x00\\x00\\x00\\x00\\x00\\x00\\x00\\x00\\x00\\x00\\x00\\x00\\x00\\x00\\x00\\x00\\x00\\x00\\x00\\x00\\x00\\x00\\x00\\x00\\x00\\x00\\x00\\x00\\x00\\x00\\x00\\x00\\x00\\x00\\x00\\x00\\x00\\x00\\x00\\x00\\x00\\x00\\x00\\x00\\x00\\x00\\x00\\x00\\x00\\x00\\x00\\x00\\x00\\x00\\x00\\x00\\x00\\x00\\x00\\x00\\x00\\x00\\x00\\x00\\x00\\x00\\x00\\x00\\x00\\x00\\x00\\x00\\x00\\x00\\x00\\x00\\x00\\x00\\x00\\x00\\x00\\x00\\x00\\x00\\x00\\x00\\x00\\x00\\x00\\x00\\x00\\x00\\x00\\x00\\x00\\x00\\x00\\x00\\x00\\x00\\x00\\x00\\x00\\x00\\x00\\x00\\x00\\x00\\x00\\x00\\x00\\x00\\x00\\x00\\x00\\x00\\x00\\x00\\x00\\x00\\x00\\x00\\x00\\x00\\x00\\x00\\x00\\x00\\x00\\x00\\x00\\x00\\x00\\x00\\x00\\x00\\x00\\x00\\x00\\x00\\x00\\x00\\x00\\x00\\x00\\x00\\x00\\x00\\x00\\x00\\x00\\x00\\x00\\x00\\x00\\x00\\x00\\x00\\x00\\x00\\x00\\x00\\x00\\x00\\x00\\x00\\x00\\x00\\x00\\x00\\x00\\x00\\x00\\x00\\x00\\x00\\x00\\x00\\x00\\x00\\x00\\x00\\x00\\x00\\x00\\x00\\x00\\x00\\x00\\x00\\x00\\x00\\x00\\x00\\x00\\x00\\x00\\x00\\x00\\x00\\x00\\x00\\x00\\x00\\x00\\x00\\x00\\x00\\x00\\x00\\x00\\x00\\x00\\x00\\x00\\x00\\x00\\x00\\x00\\x00\\x00\\x00\\x00\\x00\\x00\\x00\\x00\\x00\\x00\\x00\\x00\\x00\\x00\\x00\\x00', 'status': 1}\n"
    }
   ],
   "source": [
    "for sett in settings:\n",
    "    print(f'\\n')\n",
    "    print(f'Calling {sett[\"method\"]}, with parameters {sett[\"params\"]} on the {sett[\"contract\"]} contract.')\n",
    "    transaction = CallTransactionBuilder()\\\n",
    "        .from_(deployer_wallet.get_address())\\\n",
    "        .to(contracts[sett['contract']]['SCORE'])\\\n",
    "        .value(0)\\\n",
    "        .step_limit(10000000)\\\n",
    "        .nid(NID)\\\n",
    "        .nonce(100)\\\n",
    "        .method(sett['method'])\\\n",
    "        .params(sett['params'])\\\n",
    "        .build()\n",
    "    signed_transaction = SignedTransaction(transaction, deployer_wallet)\n",
    "    tx_hash = icon_service.send_transaction(signed_transaction)\n",
    "    tx_hash\n",
    "    print(get_tx_result(tx_hash))"
   ]
  },
  {
   "cell_type": "markdown",
   "metadata": {},
   "source": [
    "## Additional setup for icx reserve"
   ]
  },
  {
   "cell_type": "code",
   "execution_count": 103,
   "metadata": {},
   "outputs": [],
   "source": [
    "icx_additional=[{'contract': 'lendingPool', 'method': 'setSICXAddress', 'params':{'_address': contracts['sicx']['SCORE']}},\n",
    "                {'contract': 'priceOracle', 'method': 'set_reference_data', 'params':{'_base':'sICX','_quote':'USD','_rate':5*10**17}},\n",
    "                {'contract': 'lendingPoolDataProvider', 'method': 'setSymbol', 'params':{'_reserveAddress': contracts['sicx']['SCORE'],'_sym':\"sICX\"}},\n",
    "                {'contract': 'addressProvider', 'method': 'setsICX', 'params':{'_address':contracts['sicx']['SCORE']}},\n",
    "                {'contract': 'addressProvider', 'method': 'setoICX', 'params':{'_address':contracts['oICX']['SCORE']}},\n",
    "                {'contract': 'lendingPoolCore', 'method': 'setReserveConstants', 'params' :{\"_constants\": [{\"reserve\":contracts['sicx']['SCORE'],\"optimalUtilizationRate\":f\"6{'0'*17}\",\"baseBorrowRate\":f\"0{'0'*17}\",\"slopeRate1\":f\"7{'0'*16}\",\"slopeRate2\":f\"3{'0'*18}\"} ]}},\n",
    "                 \n",
    "                {'contract': 'oICX', 'method': 'setCoreAddress', 'params':{'_address':contracts['lendingPoolCore']['SCORE']}},\n",
    "                {'contract': 'oICX', 'method': 'setReserveAddress', 'params':{'_address':contracts['sicx']['SCORE']}},\n",
    "                {'contract': 'oICX', 'method': 'setDataProviderAddress', 'params':{'_address':contracts['lendingPoolDataProvider']['SCORE']}},\n",
    "                {'contract': 'oICX', 'method': 'setLendingPoolAddress', 'params':{'_address':contracts['lendingPool']['SCORE']}},\n",
    "\n",
    "\n",
    "]"
   ]
  },
  {
   "cell_type": "code",
   "execution_count": 104,
   "metadata": {
    "tags": []
   },
   "outputs": [
    {
     "output_type": "stream",
     "name": "stdout",
     "text": [
      "\n",
      "\n",
      "Calling setSICXAddress, with parameters {'_address': 'cx2d53c5e8347915733500bda8bdf2aabefdd833d9'} on the lendingPool contract.\n",
      "Raised JSONRPCException while returning the custom response. Error message: {'code': -32602, 'message': 'Pending transaction'}\n",
      "{'code': -32602, 'message': 'Pending transaction'} (Json rpc error), Retrying in 1 seconds...\n",
      "{'txHash': '0x78b6e454b09ebbad6e9062b75038c26613a8e69e83b6dcc37f64ed746823c140', 'blockHeight': 1353620, 'blockHash': '0x8c0d1851924354c9764b4e9a60fa893f9a0967506db9fdf172e49beeb3db5279', 'txIndex': 1, 'to': 'cx43184421f5f5743ae5435f59f12720e5b6c9a2c1', 'stepUsed': 150520, 'stepPrice': 10000000000, 'cumulativeStepUsed': 150520, 'eventLogs': [], 'logsBloom': b'\\x00\\x00\\x00\\x00\\x00\\x00\\x00\\x00\\x00\\x00\\x00\\x00\\x00\\x00\\x00\\x00\\x00\\x00\\x00\\x00\\x00\\x00\\x00\\x00\\x00\\x00\\x00\\x00\\x00\\x00\\x00\\x00\\x00\\x00\\x00\\x00\\x00\\x00\\x00\\x00\\x00\\x00\\x00\\x00\\x00\\x00\\x00\\x00\\x00\\x00\\x00\\x00\\x00\\x00\\x00\\x00\\x00\\x00\\x00\\x00\\x00\\x00\\x00\\x00\\x00\\x00\\x00\\x00\\x00\\x00\\x00\\x00\\x00\\x00\\x00\\x00\\x00\\x00\\x00\\x00\\x00\\x00\\x00\\x00\\x00\\x00\\x00\\x00\\x00\\x00\\x00\\x00\\x00\\x00\\x00\\x00\\x00\\x00\\x00\\x00\\x00\\x00\\x00\\x00\\x00\\x00\\x00\\x00\\x00\\x00\\x00\\x00\\x00\\x00\\x00\\x00\\x00\\x00\\x00\\x00\\x00\\x00\\x00\\x00\\x00\\x00\\x00\\x00\\x00\\x00\\x00\\x00\\x00\\x00\\x00\\x00\\x00\\x00\\x00\\x00\\x00\\x00\\x00\\x00\\x00\\x00\\x00\\x00\\x00\\x00\\x00\\x00\\x00\\x00\\x00\\x00\\x00\\x00\\x00\\x00\\x00\\x00\\x00\\x00\\x00\\x00\\x00\\x00\\x00\\x00\\x00\\x00\\x00\\x00\\x00\\x00\\x00\\x00\\x00\\x00\\x00\\x00\\x00\\x00\\x00\\x00\\x00\\x00\\x00\\x00\\x00\\x00\\x00\\x00\\x00\\x00\\x00\\x00\\x00\\x00\\x00\\x00\\x00\\x00\\x00\\x00\\x00\\x00\\x00\\x00\\x00\\x00\\x00\\x00\\x00\\x00\\x00\\x00\\x00\\x00\\x00\\x00\\x00\\x00\\x00\\x00\\x00\\x00\\x00\\x00\\x00\\x00\\x00\\x00\\x00\\x00\\x00\\x00\\x00\\x00\\x00\\x00\\x00\\x00\\x00\\x00\\x00\\x00\\x00\\x00\\x00\\x00\\x00\\x00\\x00\\x00', 'status': 1}\n",
      "\n",
      "\n",
      "Calling set_reference_data, with parameters {'_base': 'sICX', '_quote': 'USD', '_rate': 500000000000000000} on the priceOracle contract.\n",
      "{'txHash': '0xd1ad9f3249901b642099d68bb4dc543b6784aecde43122de64bed21ae750de80', 'blockHeight': 1353621, 'blockHash': '0xa8e87a3de7ba6ffd0196e404f3f007857637f010ac76b4727f12bd051eed5c72', 'txIndex': 1, 'to': 'cx03d534d6fbd8a43ca8d7385c16758072e342bcd4', 'stepUsed': 147560, 'stepPrice': 10000000000, 'cumulativeStepUsed': 147560, 'eventLogs': [], 'logsBloom': b'\\x00\\x00\\x00\\x00\\x00\\x00\\x00\\x00\\x00\\x00\\x00\\x00\\x00\\x00\\x00\\x00\\x00\\x00\\x00\\x00\\x00\\x00\\x00\\x00\\x00\\x00\\x00\\x00\\x00\\x00\\x00\\x00\\x00\\x00\\x00\\x00\\x00\\x00\\x00\\x00\\x00\\x00\\x00\\x00\\x00\\x00\\x00\\x00\\x00\\x00\\x00\\x00\\x00\\x00\\x00\\x00\\x00\\x00\\x00\\x00\\x00\\x00\\x00\\x00\\x00\\x00\\x00\\x00\\x00\\x00\\x00\\x00\\x00\\x00\\x00\\x00\\x00\\x00\\x00\\x00\\x00\\x00\\x00\\x00\\x00\\x00\\x00\\x00\\x00\\x00\\x00\\x00\\x00\\x00\\x00\\x00\\x00\\x00\\x00\\x00\\x00\\x00\\x00\\x00\\x00\\x00\\x00\\x00\\x00\\x00\\x00\\x00\\x00\\x00\\x00\\x00\\x00\\x00\\x00\\x00\\x00\\x00\\x00\\x00\\x00\\x00\\x00\\x00\\x00\\x00\\x00\\x00\\x00\\x00\\x00\\x00\\x00\\x00\\x00\\x00\\x00\\x00\\x00\\x00\\x00\\x00\\x00\\x00\\x00\\x00\\x00\\x00\\x00\\x00\\x00\\x00\\x00\\x00\\x00\\x00\\x00\\x00\\x00\\x00\\x00\\x00\\x00\\x00\\x00\\x00\\x00\\x00\\x00\\x00\\x00\\x00\\x00\\x00\\x00\\x00\\x00\\x00\\x00\\x00\\x00\\x00\\x00\\x00\\x00\\x00\\x00\\x00\\x00\\x00\\x00\\x00\\x00\\x00\\x00\\x00\\x00\\x00\\x00\\x00\\x00\\x00\\x00\\x00\\x00\\x00\\x00\\x00\\x00\\x00\\x00\\x00\\x00\\x00\\x00\\x00\\x00\\x00\\x00\\x00\\x00\\x00\\x00\\x00\\x00\\x00\\x00\\x00\\x00\\x00\\x00\\x00\\x00\\x00\\x00\\x00\\x00\\x00\\x00\\x00\\x00\\x00\\x00\\x00\\x00\\x00\\x00\\x00\\x00\\x00\\x00\\x00', 'status': 1}\n",
      "\n",
      "\n",
      "Calling setSymbol, with parameters {'_reserveAddress': 'cx2d53c5e8347915733500bda8bdf2aabefdd833d9', '_sym': 'sICX'} on the lendingPoolDataProvider contract.\n",
      "Raised JSONRPCException while returning the custom response. Error message: {'code': -32602, 'message': 'Pending transaction'}\n",
      "{'code': -32602, 'message': 'Pending transaction'} (Json rpc error), Retrying in 1 seconds...\n",
      "{'txHash': '0xe25c0d8408660699122123d98c708f5ce708a5be86e423aef8bed62b17fad023', 'blockHeight': 1353622, 'blockHash': '0xcf62d6041f01dddb6bfb0ed36623ae448e87f5c3aeecf0cf11ceee3a68c04bc9', 'txIndex': 1, 'to': 'cx32586b06dc00d24e1001e0b689353184d61fb3ad', 'stepUsed': 148280, 'stepPrice': 10000000000, 'cumulativeStepUsed': 148280, 'eventLogs': [], 'logsBloom': b'\\x00\\x00\\x00\\x00\\x00\\x00\\x00\\x00\\x00\\x00\\x00\\x00\\x00\\x00\\x00\\x00\\x00\\x00\\x00\\x00\\x00\\x00\\x00\\x00\\x00\\x00\\x00\\x00\\x00\\x00\\x00\\x00\\x00\\x00\\x00\\x00\\x00\\x00\\x00\\x00\\x00\\x00\\x00\\x00\\x00\\x00\\x00\\x00\\x00\\x00\\x00\\x00\\x00\\x00\\x00\\x00\\x00\\x00\\x00\\x00\\x00\\x00\\x00\\x00\\x00\\x00\\x00\\x00\\x00\\x00\\x00\\x00\\x00\\x00\\x00\\x00\\x00\\x00\\x00\\x00\\x00\\x00\\x00\\x00\\x00\\x00\\x00\\x00\\x00\\x00\\x00\\x00\\x00\\x00\\x00\\x00\\x00\\x00\\x00\\x00\\x00\\x00\\x00\\x00\\x00\\x00\\x00\\x00\\x00\\x00\\x00\\x00\\x00\\x00\\x00\\x00\\x00\\x00\\x00\\x00\\x00\\x00\\x00\\x00\\x00\\x00\\x00\\x00\\x00\\x00\\x00\\x00\\x00\\x00\\x00\\x00\\x00\\x00\\x00\\x00\\x00\\x00\\x00\\x00\\x00\\x00\\x00\\x00\\x00\\x00\\x00\\x00\\x00\\x00\\x00\\x00\\x00\\x00\\x00\\x00\\x00\\x00\\x00\\x00\\x00\\x00\\x00\\x00\\x00\\x00\\x00\\x00\\x00\\x00\\x00\\x00\\x00\\x00\\x00\\x00\\x00\\x00\\x00\\x00\\x00\\x00\\x00\\x00\\x00\\x00\\x00\\x00\\x00\\x00\\x00\\x00\\x00\\x00\\x00\\x00\\x00\\x00\\x00\\x00\\x00\\x00\\x00\\x00\\x00\\x00\\x00\\x00\\x00\\x00\\x00\\x00\\x00\\x00\\x00\\x00\\x00\\x00\\x00\\x00\\x00\\x00\\x00\\x00\\x00\\x00\\x00\\x00\\x00\\x00\\x00\\x00\\x00\\x00\\x00\\x00\\x00\\x00\\x00\\x00\\x00\\x00\\x00\\x00\\x00\\x00\\x00\\x00\\x00\\x00\\x00\\x00', 'status': 1}\n",
      "\n",
      "\n",
      "Calling setsICX, with parameters {'_address': 'cx2d53c5e8347915733500bda8bdf2aabefdd833d9'} on the addressProvider contract.\n",
      "{'txHash': '0xfa45c3436671d44e890f36304643c7eb44b8027ed650a5408a9808f9762391e1', 'blockHeight': 1353623, 'blockHash': '0xbca36e5e941e220c61a61ae3934e745a1350045b476661978916e0149d47121b', 'txIndex': 1, 'to': 'cx5f2a0a21f217d032e81b70990de4b10fbba7ca99', 'stepUsed': 149120, 'stepPrice': 10000000000, 'cumulativeStepUsed': 149120, 'eventLogs': [], 'logsBloom': b'\\x00\\x00\\x00\\x00\\x00\\x00\\x00\\x00\\x00\\x00\\x00\\x00\\x00\\x00\\x00\\x00\\x00\\x00\\x00\\x00\\x00\\x00\\x00\\x00\\x00\\x00\\x00\\x00\\x00\\x00\\x00\\x00\\x00\\x00\\x00\\x00\\x00\\x00\\x00\\x00\\x00\\x00\\x00\\x00\\x00\\x00\\x00\\x00\\x00\\x00\\x00\\x00\\x00\\x00\\x00\\x00\\x00\\x00\\x00\\x00\\x00\\x00\\x00\\x00\\x00\\x00\\x00\\x00\\x00\\x00\\x00\\x00\\x00\\x00\\x00\\x00\\x00\\x00\\x00\\x00\\x00\\x00\\x00\\x00\\x00\\x00\\x00\\x00\\x00\\x00\\x00\\x00\\x00\\x00\\x00\\x00\\x00\\x00\\x00\\x00\\x00\\x00\\x00\\x00\\x00\\x00\\x00\\x00\\x00\\x00\\x00\\x00\\x00\\x00\\x00\\x00\\x00\\x00\\x00\\x00\\x00\\x00\\x00\\x00\\x00\\x00\\x00\\x00\\x00\\x00\\x00\\x00\\x00\\x00\\x00\\x00\\x00\\x00\\x00\\x00\\x00\\x00\\x00\\x00\\x00\\x00\\x00\\x00\\x00\\x00\\x00\\x00\\x00\\x00\\x00\\x00\\x00\\x00\\x00\\x00\\x00\\x00\\x00\\x00\\x00\\x00\\x00\\x00\\x00\\x00\\x00\\x00\\x00\\x00\\x00\\x00\\x00\\x00\\x00\\x00\\x00\\x00\\x00\\x00\\x00\\x00\\x00\\x00\\x00\\x00\\x00\\x00\\x00\\x00\\x00\\x00\\x00\\x00\\x00\\x00\\x00\\x00\\x00\\x00\\x00\\x00\\x00\\x00\\x00\\x00\\x00\\x00\\x00\\x00\\x00\\x00\\x00\\x00\\x00\\x00\\x00\\x00\\x00\\x00\\x00\\x00\\x00\\x00\\x00\\x00\\x00\\x00\\x00\\x00\\x00\\x00\\x00\\x00\\x00\\x00\\x00\\x00\\x00\\x00\\x00\\x00\\x00\\x00\\x00\\x00\\x00\\x00\\x00\\x00\\x00\\x00', 'status': 1}\n",
      "\n",
      "\n",
      "Calling setoICX, with parameters {'_address': 'cx91a8f04a2a5adcf110168e68479e34a3b33424c9'} on the addressProvider contract.\n",
      "Raised JSONRPCException while returning the custom response. Error message: {'code': -32602, 'message': 'Pending transaction'}\n",
      "{'code': -32602, 'message': 'Pending transaction'} (Json rpc error), Retrying in 1 seconds...\n",
      "{'txHash': '0x0a21708a076cb2a529bff0d9fca4c79acb00df33904ce8eef3bcd285b65d004a', 'blockHeight': 1353624, 'blockHash': '0x34d480b08ba602249fed59797a3f02be255b9e10f359bffba9394cd42ee95c16', 'txIndex': 1, 'to': 'cx5f2a0a21f217d032e81b70990de4b10fbba7ca99', 'stepUsed': 149120, 'stepPrice': 10000000000, 'cumulativeStepUsed': 149120, 'eventLogs': [], 'logsBloom': b'\\x00\\x00\\x00\\x00\\x00\\x00\\x00\\x00\\x00\\x00\\x00\\x00\\x00\\x00\\x00\\x00\\x00\\x00\\x00\\x00\\x00\\x00\\x00\\x00\\x00\\x00\\x00\\x00\\x00\\x00\\x00\\x00\\x00\\x00\\x00\\x00\\x00\\x00\\x00\\x00\\x00\\x00\\x00\\x00\\x00\\x00\\x00\\x00\\x00\\x00\\x00\\x00\\x00\\x00\\x00\\x00\\x00\\x00\\x00\\x00\\x00\\x00\\x00\\x00\\x00\\x00\\x00\\x00\\x00\\x00\\x00\\x00\\x00\\x00\\x00\\x00\\x00\\x00\\x00\\x00\\x00\\x00\\x00\\x00\\x00\\x00\\x00\\x00\\x00\\x00\\x00\\x00\\x00\\x00\\x00\\x00\\x00\\x00\\x00\\x00\\x00\\x00\\x00\\x00\\x00\\x00\\x00\\x00\\x00\\x00\\x00\\x00\\x00\\x00\\x00\\x00\\x00\\x00\\x00\\x00\\x00\\x00\\x00\\x00\\x00\\x00\\x00\\x00\\x00\\x00\\x00\\x00\\x00\\x00\\x00\\x00\\x00\\x00\\x00\\x00\\x00\\x00\\x00\\x00\\x00\\x00\\x00\\x00\\x00\\x00\\x00\\x00\\x00\\x00\\x00\\x00\\x00\\x00\\x00\\x00\\x00\\x00\\x00\\x00\\x00\\x00\\x00\\x00\\x00\\x00\\x00\\x00\\x00\\x00\\x00\\x00\\x00\\x00\\x00\\x00\\x00\\x00\\x00\\x00\\x00\\x00\\x00\\x00\\x00\\x00\\x00\\x00\\x00\\x00\\x00\\x00\\x00\\x00\\x00\\x00\\x00\\x00\\x00\\x00\\x00\\x00\\x00\\x00\\x00\\x00\\x00\\x00\\x00\\x00\\x00\\x00\\x00\\x00\\x00\\x00\\x00\\x00\\x00\\x00\\x00\\x00\\x00\\x00\\x00\\x00\\x00\\x00\\x00\\x00\\x00\\x00\\x00\\x00\\x00\\x00\\x00\\x00\\x00\\x00\\x00\\x00\\x00\\x00\\x00\\x00\\x00\\x00\\x00\\x00\\x00\\x00', 'status': 1}\n",
      "\n",
      "\n",
      "Calling setReserveConstants, with parameters {'_constants': [{'reserve': 'cx2d53c5e8347915733500bda8bdf2aabefdd833d9', 'optimalUtilizationRate': '600000000000000000', 'baseBorrowRate': '000000000000000000', 'slopeRate1': '70000000000000000', 'slopeRate2': '3000000000000000000'}]} on the lendingPoolCore contract.\n",
      "{'txHash': '0x1ab04a13421a9af6ca157bbbd687006bd7a55182cacb8f9b8096d368cb8de469', 'blockHeight': 1353625, 'blockHash': '0xdbb16dbda897a269a64791651def847a7dbbe1e8b1a20bf2d80181d5f1a9cb61', 'txIndex': 1, 'to': 'cx6146eab7f96fa77400d4c9e9884f0ddc65e01855', 'stepUsed': 186400, 'stepPrice': 10000000000, 'cumulativeStepUsed': 186400, 'eventLogs': [], 'logsBloom': b'\\x00\\x00\\x00\\x00\\x00\\x00\\x00\\x00\\x00\\x00\\x00\\x00\\x00\\x00\\x00\\x00\\x00\\x00\\x00\\x00\\x00\\x00\\x00\\x00\\x00\\x00\\x00\\x00\\x00\\x00\\x00\\x00\\x00\\x00\\x00\\x00\\x00\\x00\\x00\\x00\\x00\\x00\\x00\\x00\\x00\\x00\\x00\\x00\\x00\\x00\\x00\\x00\\x00\\x00\\x00\\x00\\x00\\x00\\x00\\x00\\x00\\x00\\x00\\x00\\x00\\x00\\x00\\x00\\x00\\x00\\x00\\x00\\x00\\x00\\x00\\x00\\x00\\x00\\x00\\x00\\x00\\x00\\x00\\x00\\x00\\x00\\x00\\x00\\x00\\x00\\x00\\x00\\x00\\x00\\x00\\x00\\x00\\x00\\x00\\x00\\x00\\x00\\x00\\x00\\x00\\x00\\x00\\x00\\x00\\x00\\x00\\x00\\x00\\x00\\x00\\x00\\x00\\x00\\x00\\x00\\x00\\x00\\x00\\x00\\x00\\x00\\x00\\x00\\x00\\x00\\x00\\x00\\x00\\x00\\x00\\x00\\x00\\x00\\x00\\x00\\x00\\x00\\x00\\x00\\x00\\x00\\x00\\x00\\x00\\x00\\x00\\x00\\x00\\x00\\x00\\x00\\x00\\x00\\x00\\x00\\x00\\x00\\x00\\x00\\x00\\x00\\x00\\x00\\x00\\x00\\x00\\x00\\x00\\x00\\x00\\x00\\x00\\x00\\x00\\x00\\x00\\x00\\x00\\x00\\x00\\x00\\x00\\x00\\x00\\x00\\x00\\x00\\x00\\x00\\x00\\x00\\x00\\x00\\x00\\x00\\x00\\x00\\x00\\x00\\x00\\x00\\x00\\x00\\x00\\x00\\x00\\x00\\x00\\x00\\x00\\x00\\x00\\x00\\x00\\x00\\x00\\x00\\x00\\x00\\x00\\x00\\x00\\x00\\x00\\x00\\x00\\x00\\x00\\x00\\x00\\x00\\x00\\x00\\x00\\x00\\x00\\x00\\x00\\x00\\x00\\x00\\x00\\x00\\x00\\x00\\x00\\x00\\x00\\x00\\x00\\x00', 'status': 1}\n",
      "\n",
      "\n",
      "Calling setCoreAddress, with parameters {'_address': 'cx6146eab7f96fa77400d4c9e9884f0ddc65e01855'} on the oICX contract.\n",
      "Raised JSONRPCException while returning the custom response. Error message: {'code': -32602, 'message': 'Pending transaction'}\n",
      "{'code': -32602, 'message': 'Pending transaction'} (Json rpc error), Retrying in 1 seconds...\n",
      "{'txHash': '0xd5b3be1adcae2dbc3480e706c22c6b7dadb83c9363ea639714e18480813da506', 'blockHeight': 1353626, 'blockHash': '0xc8353556a8e634e780a71229b9c5344d5650ad8d1b6b901200c9369ab62fe178', 'txIndex': 1, 'to': 'cx91a8f04a2a5adcf110168e68479e34a3b33424c9', 'stepUsed': 150520, 'stepPrice': 10000000000, 'cumulativeStepUsed': 150520, 'eventLogs': [], 'logsBloom': b'\\x00\\x00\\x00\\x00\\x00\\x00\\x00\\x00\\x00\\x00\\x00\\x00\\x00\\x00\\x00\\x00\\x00\\x00\\x00\\x00\\x00\\x00\\x00\\x00\\x00\\x00\\x00\\x00\\x00\\x00\\x00\\x00\\x00\\x00\\x00\\x00\\x00\\x00\\x00\\x00\\x00\\x00\\x00\\x00\\x00\\x00\\x00\\x00\\x00\\x00\\x00\\x00\\x00\\x00\\x00\\x00\\x00\\x00\\x00\\x00\\x00\\x00\\x00\\x00\\x00\\x00\\x00\\x00\\x00\\x00\\x00\\x00\\x00\\x00\\x00\\x00\\x00\\x00\\x00\\x00\\x00\\x00\\x00\\x00\\x00\\x00\\x00\\x00\\x00\\x00\\x00\\x00\\x00\\x00\\x00\\x00\\x00\\x00\\x00\\x00\\x00\\x00\\x00\\x00\\x00\\x00\\x00\\x00\\x00\\x00\\x00\\x00\\x00\\x00\\x00\\x00\\x00\\x00\\x00\\x00\\x00\\x00\\x00\\x00\\x00\\x00\\x00\\x00\\x00\\x00\\x00\\x00\\x00\\x00\\x00\\x00\\x00\\x00\\x00\\x00\\x00\\x00\\x00\\x00\\x00\\x00\\x00\\x00\\x00\\x00\\x00\\x00\\x00\\x00\\x00\\x00\\x00\\x00\\x00\\x00\\x00\\x00\\x00\\x00\\x00\\x00\\x00\\x00\\x00\\x00\\x00\\x00\\x00\\x00\\x00\\x00\\x00\\x00\\x00\\x00\\x00\\x00\\x00\\x00\\x00\\x00\\x00\\x00\\x00\\x00\\x00\\x00\\x00\\x00\\x00\\x00\\x00\\x00\\x00\\x00\\x00\\x00\\x00\\x00\\x00\\x00\\x00\\x00\\x00\\x00\\x00\\x00\\x00\\x00\\x00\\x00\\x00\\x00\\x00\\x00\\x00\\x00\\x00\\x00\\x00\\x00\\x00\\x00\\x00\\x00\\x00\\x00\\x00\\x00\\x00\\x00\\x00\\x00\\x00\\x00\\x00\\x00\\x00\\x00\\x00\\x00\\x00\\x00\\x00\\x00\\x00\\x00\\x00\\x00\\x00\\x00', 'status': 1}\n",
      "\n",
      "\n",
      "Calling setReserveAddress, with parameters {'_address': 'cx2d53c5e8347915733500bda8bdf2aabefdd833d9'} on the oICX contract.\n",
      "{'txHash': '0x46cb1b11732d6f4e08e03701c37aaebc6b25b0f8273f201baf9cf2fda6af4559', 'blockHeight': 1353627, 'blockHash': '0x86a8ee11164779bc030813e7493602d54d8f3668c1971995220ee9899f5ca1d4', 'txIndex': 1, 'to': 'cx91a8f04a2a5adcf110168e68479e34a3b33424c9', 'stepUsed': 151120, 'stepPrice': 10000000000, 'cumulativeStepUsed': 151120, 'eventLogs': [], 'logsBloom': b'\\x00\\x00\\x00\\x00\\x00\\x00\\x00\\x00\\x00\\x00\\x00\\x00\\x00\\x00\\x00\\x00\\x00\\x00\\x00\\x00\\x00\\x00\\x00\\x00\\x00\\x00\\x00\\x00\\x00\\x00\\x00\\x00\\x00\\x00\\x00\\x00\\x00\\x00\\x00\\x00\\x00\\x00\\x00\\x00\\x00\\x00\\x00\\x00\\x00\\x00\\x00\\x00\\x00\\x00\\x00\\x00\\x00\\x00\\x00\\x00\\x00\\x00\\x00\\x00\\x00\\x00\\x00\\x00\\x00\\x00\\x00\\x00\\x00\\x00\\x00\\x00\\x00\\x00\\x00\\x00\\x00\\x00\\x00\\x00\\x00\\x00\\x00\\x00\\x00\\x00\\x00\\x00\\x00\\x00\\x00\\x00\\x00\\x00\\x00\\x00\\x00\\x00\\x00\\x00\\x00\\x00\\x00\\x00\\x00\\x00\\x00\\x00\\x00\\x00\\x00\\x00\\x00\\x00\\x00\\x00\\x00\\x00\\x00\\x00\\x00\\x00\\x00\\x00\\x00\\x00\\x00\\x00\\x00\\x00\\x00\\x00\\x00\\x00\\x00\\x00\\x00\\x00\\x00\\x00\\x00\\x00\\x00\\x00\\x00\\x00\\x00\\x00\\x00\\x00\\x00\\x00\\x00\\x00\\x00\\x00\\x00\\x00\\x00\\x00\\x00\\x00\\x00\\x00\\x00\\x00\\x00\\x00\\x00\\x00\\x00\\x00\\x00\\x00\\x00\\x00\\x00\\x00\\x00\\x00\\x00\\x00\\x00\\x00\\x00\\x00\\x00\\x00\\x00\\x00\\x00\\x00\\x00\\x00\\x00\\x00\\x00\\x00\\x00\\x00\\x00\\x00\\x00\\x00\\x00\\x00\\x00\\x00\\x00\\x00\\x00\\x00\\x00\\x00\\x00\\x00\\x00\\x00\\x00\\x00\\x00\\x00\\x00\\x00\\x00\\x00\\x00\\x00\\x00\\x00\\x00\\x00\\x00\\x00\\x00\\x00\\x00\\x00\\x00\\x00\\x00\\x00\\x00\\x00\\x00\\x00\\x00\\x00\\x00\\x00\\x00\\x00', 'status': 1}\n",
      "\n",
      "\n",
      "Calling setDataProviderAddress, with parameters {'_address': 'cx32586b06dc00d24e1001e0b689353184d61fb3ad'} on the oICX contract.\n",
      "Raised JSONRPCException while returning the custom response. Error message: {'code': -32602, 'message': 'Pending transaction'}\n",
      "{'code': -32602, 'message': 'Pending transaction'} (Json rpc error), Retrying in 1 seconds...\n",
      "{'txHash': '0x5c5c636ec88d8f851dbbc0e60634a112e9f4a06e3ba6f73b51611bb70614c559', 'blockHeight': 1353628, 'blockHash': '0xf74fb0cada87e518fe9ef32e98b012ae7e853c6bb8875b618a76b35982e5b924', 'txIndex': 1, 'to': 'cx91a8f04a2a5adcf110168e68479e34a3b33424c9', 'stepUsed': 152120, 'stepPrice': 10000000000, 'cumulativeStepUsed': 152120, 'eventLogs': [], 'logsBloom': b'\\x00\\x00\\x00\\x00\\x00\\x00\\x00\\x00\\x00\\x00\\x00\\x00\\x00\\x00\\x00\\x00\\x00\\x00\\x00\\x00\\x00\\x00\\x00\\x00\\x00\\x00\\x00\\x00\\x00\\x00\\x00\\x00\\x00\\x00\\x00\\x00\\x00\\x00\\x00\\x00\\x00\\x00\\x00\\x00\\x00\\x00\\x00\\x00\\x00\\x00\\x00\\x00\\x00\\x00\\x00\\x00\\x00\\x00\\x00\\x00\\x00\\x00\\x00\\x00\\x00\\x00\\x00\\x00\\x00\\x00\\x00\\x00\\x00\\x00\\x00\\x00\\x00\\x00\\x00\\x00\\x00\\x00\\x00\\x00\\x00\\x00\\x00\\x00\\x00\\x00\\x00\\x00\\x00\\x00\\x00\\x00\\x00\\x00\\x00\\x00\\x00\\x00\\x00\\x00\\x00\\x00\\x00\\x00\\x00\\x00\\x00\\x00\\x00\\x00\\x00\\x00\\x00\\x00\\x00\\x00\\x00\\x00\\x00\\x00\\x00\\x00\\x00\\x00\\x00\\x00\\x00\\x00\\x00\\x00\\x00\\x00\\x00\\x00\\x00\\x00\\x00\\x00\\x00\\x00\\x00\\x00\\x00\\x00\\x00\\x00\\x00\\x00\\x00\\x00\\x00\\x00\\x00\\x00\\x00\\x00\\x00\\x00\\x00\\x00\\x00\\x00\\x00\\x00\\x00\\x00\\x00\\x00\\x00\\x00\\x00\\x00\\x00\\x00\\x00\\x00\\x00\\x00\\x00\\x00\\x00\\x00\\x00\\x00\\x00\\x00\\x00\\x00\\x00\\x00\\x00\\x00\\x00\\x00\\x00\\x00\\x00\\x00\\x00\\x00\\x00\\x00\\x00\\x00\\x00\\x00\\x00\\x00\\x00\\x00\\x00\\x00\\x00\\x00\\x00\\x00\\x00\\x00\\x00\\x00\\x00\\x00\\x00\\x00\\x00\\x00\\x00\\x00\\x00\\x00\\x00\\x00\\x00\\x00\\x00\\x00\\x00\\x00\\x00\\x00\\x00\\x00\\x00\\x00\\x00\\x00\\x00\\x00\\x00\\x00\\x00\\x00', 'status': 1}\n",
      "\n",
      "\n",
      "Calling setLendingPoolAddress, with parameters {'_address': 'cx43184421f5f5743ae5435f59f12720e5b6c9a2c1'} on the oICX contract.\n",
      "{'txHash': '0x380faa2fda04d9a450f16988bca5b9692ea6cf3f5911020e9d963d33f548b8a1', 'blockHeight': 1353629, 'blockHash': '0x162aae34d6028cc44becec6939e91aad3ee1af899786a65c2d5e88755acb3e7c', 'txIndex': 1, 'to': 'cx91a8f04a2a5adcf110168e68479e34a3b33424c9', 'stepUsed': 151920, 'stepPrice': 10000000000, 'cumulativeStepUsed': 151920, 'eventLogs': [], 'logsBloom': b'\\x00\\x00\\x00\\x00\\x00\\x00\\x00\\x00\\x00\\x00\\x00\\x00\\x00\\x00\\x00\\x00\\x00\\x00\\x00\\x00\\x00\\x00\\x00\\x00\\x00\\x00\\x00\\x00\\x00\\x00\\x00\\x00\\x00\\x00\\x00\\x00\\x00\\x00\\x00\\x00\\x00\\x00\\x00\\x00\\x00\\x00\\x00\\x00\\x00\\x00\\x00\\x00\\x00\\x00\\x00\\x00\\x00\\x00\\x00\\x00\\x00\\x00\\x00\\x00\\x00\\x00\\x00\\x00\\x00\\x00\\x00\\x00\\x00\\x00\\x00\\x00\\x00\\x00\\x00\\x00\\x00\\x00\\x00\\x00\\x00\\x00\\x00\\x00\\x00\\x00\\x00\\x00\\x00\\x00\\x00\\x00\\x00\\x00\\x00\\x00\\x00\\x00\\x00\\x00\\x00\\x00\\x00\\x00\\x00\\x00\\x00\\x00\\x00\\x00\\x00\\x00\\x00\\x00\\x00\\x00\\x00\\x00\\x00\\x00\\x00\\x00\\x00\\x00\\x00\\x00\\x00\\x00\\x00\\x00\\x00\\x00\\x00\\x00\\x00\\x00\\x00\\x00\\x00\\x00\\x00\\x00\\x00\\x00\\x00\\x00\\x00\\x00\\x00\\x00\\x00\\x00\\x00\\x00\\x00\\x00\\x00\\x00\\x00\\x00\\x00\\x00\\x00\\x00\\x00\\x00\\x00\\x00\\x00\\x00\\x00\\x00\\x00\\x00\\x00\\x00\\x00\\x00\\x00\\x00\\x00\\x00\\x00\\x00\\x00\\x00\\x00\\x00\\x00\\x00\\x00\\x00\\x00\\x00\\x00\\x00\\x00\\x00\\x00\\x00\\x00\\x00\\x00\\x00\\x00\\x00\\x00\\x00\\x00\\x00\\x00\\x00\\x00\\x00\\x00\\x00\\x00\\x00\\x00\\x00\\x00\\x00\\x00\\x00\\x00\\x00\\x00\\x00\\x00\\x00\\x00\\x00\\x00\\x00\\x00\\x00\\x00\\x00\\x00\\x00\\x00\\x00\\x00\\x00\\x00\\x00\\x00\\x00\\x00\\x00\\x00\\x00', 'status': 1}\n"
     ]
    }
   ],
   "source": [
    "for sett in icx_additional:\n",
    "    print(f'\\n')\n",
    "    print(f'Calling {sett[\"method\"]}, with parameters {sett[\"params\"]} on the {sett[\"contract\"]} contract.')\n",
    "    transaction = CallTransactionBuilder()\\\n",
    "        .from_(deployer_wallet.get_address())\\\n",
    "        .to(contracts[sett['contract']]['SCORE'])\\\n",
    "        .value(0)\\\n",
    "        .step_limit(10000000)\\\n",
    "        .nid(NID)\\\n",
    "        .nonce(100)\\\n",
    "        .method(sett['method'])\\\n",
    "        .params(sett['params'])\\\n",
    "        .build()\n",
    "    signed_transaction = SignedTransaction(transaction, deployer_wallet)\n",
    "    tx_hash = icon_service.send_transaction(signed_transaction)\n",
    "    tx_hash\n",
    "    print(get_tx_result(tx_hash))"
   ]
  },
  {
   "cell_type": "markdown",
   "metadata": {},
   "source": [
    "## Adding USDb reserve in LendingPoolCore\n",
    "\n"
   ]
  },
  {
   "cell_type": "code",
   "execution_count": 105,
   "metadata": {
    "tags": []
   },
   "outputs": [
    {
     "output_type": "stream",
     "name": "stderr",
     "text": [
      "Raised JSONRPCException while returning the custom response. Error message: {'code': -32602, 'message': 'Pending transaction'}\n",
      "{'code': -32602, 'message': 'Pending transaction'} (Json rpc error), Retrying in 1 seconds...\n"
     ]
    },
    {
     "output_type": "execute_result",
     "data": {
      "text/plain": [
       "{'txHash': '0x9091b4ea7ca9a8c53f3d7ec49ce4c2e3a6727aba95f629745531df2841022f04',\n",
       " 'blockHeight': 1353642,\n",
       " 'blockHash': '0x59db7e5cd9dd019ba0a2447f39986fd3b4bb581d8fbf9dd23c98a31f7b0ea270',\n",
       " 'txIndex': 1,\n",
       " 'to': 'cx6146eab7f96fa77400d4c9e9884f0ddc65e01855',\n",
       " 'stepUsed': 271600,\n",
       " 'stepPrice': 10000000000,\n",
       " 'cumulativeStepUsed': 271600,\n",
       " 'eventLogs': [],\n",
       " 'logsBloom': b'\\x00\\x00\\x00\\x00\\x00\\x00\\x00\\x00\\x00\\x00\\x00\\x00\\x00\\x00\\x00\\x00\\x00\\x00\\x00\\x00\\x00\\x00\\x00\\x00\\x00\\x00\\x00\\x00\\x00\\x00\\x00\\x00\\x00\\x00\\x00\\x00\\x00\\x00\\x00\\x00\\x00\\x00\\x00\\x00\\x00\\x00\\x00\\x00\\x00\\x00\\x00\\x00\\x00\\x00\\x00\\x00\\x00\\x00\\x00\\x00\\x00\\x00\\x00\\x00\\x00\\x00\\x00\\x00\\x00\\x00\\x00\\x00\\x00\\x00\\x00\\x00\\x00\\x00\\x00\\x00\\x00\\x00\\x00\\x00\\x00\\x00\\x00\\x00\\x00\\x00\\x00\\x00\\x00\\x00\\x00\\x00\\x00\\x00\\x00\\x00\\x00\\x00\\x00\\x00\\x00\\x00\\x00\\x00\\x00\\x00\\x00\\x00\\x00\\x00\\x00\\x00\\x00\\x00\\x00\\x00\\x00\\x00\\x00\\x00\\x00\\x00\\x00\\x00\\x00\\x00\\x00\\x00\\x00\\x00\\x00\\x00\\x00\\x00\\x00\\x00\\x00\\x00\\x00\\x00\\x00\\x00\\x00\\x00\\x00\\x00\\x00\\x00\\x00\\x00\\x00\\x00\\x00\\x00\\x00\\x00\\x00\\x00\\x00\\x00\\x00\\x00\\x00\\x00\\x00\\x00\\x00\\x00\\x00\\x00\\x00\\x00\\x00\\x00\\x00\\x00\\x00\\x00\\x00\\x00\\x00\\x00\\x00\\x00\\x00\\x00\\x00\\x00\\x00\\x00\\x00\\x00\\x00\\x00\\x00\\x00\\x00\\x00\\x00\\x00\\x00\\x00\\x00\\x00\\x00\\x00\\x00\\x00\\x00\\x00\\x00\\x00\\x00\\x00\\x00\\x00\\x00\\x00\\x00\\x00\\x00\\x00\\x00\\x00\\x00\\x00\\x00\\x00\\x00\\x00\\x00\\x00\\x00\\x00\\x00\\x00\\x00\\x00\\x00\\x00\\x00\\x00\\x00\\x00\\x00\\x00\\x00\\x00\\x00\\x00\\x00\\x00',\n",
       " 'status': 1}"
      ]
     },
     "metadata": {},
     "execution_count": 105
    }
   ],
   "source": [
    "params ={\"_reserve\": {\"reserveAddress\":contracts['sample_token']['SCORE'],\"oTokenAddress\":contracts['oToken']['SCORE'],\"totalBorrows\":\"0\",\"lastUpdateTimestamp\": \"0\",\"liquidityRate\":\"0\",\"borrowRate\":\"0\",\"liquidityCumulativeIndex\":f\"1{'0'*18}\",\"borrowCumulativeIndex\":f\"1{'0'*18}\",\"baseLTVasCollateral\":\"600000000000000000\",\"liquidationThreshold\":\"650000000000000000\",\"liquidationBonus\":\"10\",\"decimals\":\"18\",\"borrowingEnabled\": \"1\",\"usageAsCollateralEnabled\":\"1\",\"isFreezed\":\"0\",\"isActive\":\"1\"} }\n",
    "call_transaction = CallTransactionBuilder()\\\n",
    "    .from_(deployer_wallet.get_address())\\\n",
    "    .to(contracts['lendingPoolCore']['SCORE']) \\\n",
    "    .nid(NID) \\\n",
    "    .nonce(100) \\\n",
    "    .method(\"addReserveData\")\\\n",
    "    .params(params)\\\n",
    "    .build()\n",
    "\n",
    "estimate_step = icon_service.estimate_step(call_transaction)\n",
    "step_limit = estimate_step + 100000\n",
    "# Returns the signed transaction object having a signature\n",
    "signed_transaction = SignedTransaction(call_transaction, deployer_wallet,step_limit)\n",
    "\n",
    "# Reads params to transfer to nodes\n",
    "# print(signed_transaction.signed_transaction_dict)\n",
    "\n",
    "# Sends the transaction\n",
    "tx_hash = icon_service.send_transaction(signed_transaction)\n",
    "\n",
    "get_tx_result(tx_hash)"
   ]
  },
  {
   "cell_type": "markdown",
   "metadata": {},
   "source": [
    "## Adding ICX reserve"
   ]
  },
  {
   "cell_type": "code",
   "execution_count": 106,
   "metadata": {
    "tags": []
   },
   "outputs": [
    {
     "output_type": "stream",
     "name": "stderr",
     "text": [
      "Raised JSONRPCException while returning the custom response. Error message: {'code': -32602, 'message': 'Pending transaction'}\n",
      "{'code': -32602, 'message': 'Pending transaction'} (Json rpc error), Retrying in 1 seconds...\n"
     ]
    },
    {
     "output_type": "execute_result",
     "data": {
      "text/plain": [
       "{'txHash': '0x0ca7769d0458bd1b553b83a5772cd7bd923c3c249942eafceec863e5258c4a7f',\n",
       " 'blockHeight': 1353645,\n",
       " 'blockHash': '0x3d724103e80b38cfcc833b5d54706fd59b86429f51f2d42d082f43fc5989f284',\n",
       " 'txIndex': 1,\n",
       " 'to': 'cx6146eab7f96fa77400d4c9e9884f0ddc65e01855',\n",
       " 'stepUsed': 271360,\n",
       " 'stepPrice': 10000000000,\n",
       " 'cumulativeStepUsed': 271360,\n",
       " 'eventLogs': [],\n",
       " 'logsBloom': b'\\x00\\x00\\x00\\x00\\x00\\x00\\x00\\x00\\x00\\x00\\x00\\x00\\x00\\x00\\x00\\x00\\x00\\x00\\x00\\x00\\x00\\x00\\x00\\x00\\x00\\x00\\x00\\x00\\x00\\x00\\x00\\x00\\x00\\x00\\x00\\x00\\x00\\x00\\x00\\x00\\x00\\x00\\x00\\x00\\x00\\x00\\x00\\x00\\x00\\x00\\x00\\x00\\x00\\x00\\x00\\x00\\x00\\x00\\x00\\x00\\x00\\x00\\x00\\x00\\x00\\x00\\x00\\x00\\x00\\x00\\x00\\x00\\x00\\x00\\x00\\x00\\x00\\x00\\x00\\x00\\x00\\x00\\x00\\x00\\x00\\x00\\x00\\x00\\x00\\x00\\x00\\x00\\x00\\x00\\x00\\x00\\x00\\x00\\x00\\x00\\x00\\x00\\x00\\x00\\x00\\x00\\x00\\x00\\x00\\x00\\x00\\x00\\x00\\x00\\x00\\x00\\x00\\x00\\x00\\x00\\x00\\x00\\x00\\x00\\x00\\x00\\x00\\x00\\x00\\x00\\x00\\x00\\x00\\x00\\x00\\x00\\x00\\x00\\x00\\x00\\x00\\x00\\x00\\x00\\x00\\x00\\x00\\x00\\x00\\x00\\x00\\x00\\x00\\x00\\x00\\x00\\x00\\x00\\x00\\x00\\x00\\x00\\x00\\x00\\x00\\x00\\x00\\x00\\x00\\x00\\x00\\x00\\x00\\x00\\x00\\x00\\x00\\x00\\x00\\x00\\x00\\x00\\x00\\x00\\x00\\x00\\x00\\x00\\x00\\x00\\x00\\x00\\x00\\x00\\x00\\x00\\x00\\x00\\x00\\x00\\x00\\x00\\x00\\x00\\x00\\x00\\x00\\x00\\x00\\x00\\x00\\x00\\x00\\x00\\x00\\x00\\x00\\x00\\x00\\x00\\x00\\x00\\x00\\x00\\x00\\x00\\x00\\x00\\x00\\x00\\x00\\x00\\x00\\x00\\x00\\x00\\x00\\x00\\x00\\x00\\x00\\x00\\x00\\x00\\x00\\x00\\x00\\x00\\x00\\x00\\x00\\x00\\x00\\x00\\x00\\x00',\n",
       " 'status': 1}"
      ]
     },
     "metadata": {},
     "execution_count": 106
    }
   ],
   "source": [
    "params ={\"_reserve\": {\"reserveAddress\":contracts['sicx']['SCORE'],\"oTokenAddress\":contracts['oICX']['SCORE'],\"totalBorrows\":\"0\",\"lastUpdateTimestamp\": \"0\",\"liquidityRate\":\"0\",\"borrowRate\":\"0\",\"liquidityCumulativeIndex\":f\"1{'0'*18}\",\"borrowCumulativeIndex\":f\"1{'0'*18}\",\"baseLTVasCollateral\":\"330000000000000000\",\"liquidationThreshold\":\"650000000000000000\",\"liquidationBonus\":\"10\",\"decimals\":\"18\",\"borrowingEnabled\": \"1\",\"usageAsCollateralEnabled\":\"1\",\"isFreezed\":\"0\",\"isActive\":\"1\"} }\n",
    "call_transaction = CallTransactionBuilder()\\\n",
    "    .from_(deployer_wallet.get_address())\\\n",
    "    .to(contracts['lendingPoolCore']['SCORE']) \\\n",
    "    .nid(NID) \\\n",
    "    .nonce(100) \\\n",
    "    .method(\"addReserveData\")\\\n",
    "    .params(params)\\\n",
    "    .build()\n",
    "\n",
    "estimate_step = icon_service.estimate_step(call_transaction)\n",
    "step_limit = estimate_step + 100000\n",
    "# Returns the signed transaction object having a signature\n",
    "signed_transaction = SignedTransaction(call_transaction, deployer_wallet,step_limit)\n",
    "\n",
    "# Reads params to transfer to nodes\n",
    "# print(signed_transaction.signed_transaction_dict)\n",
    "\n",
    "# Sends the transaction\n",
    "tx_hash = icon_service.send_transaction(signed_transaction)\n",
    "\n",
    "get_tx_result(tx_hash)"
   ]
  },
  {
   "cell_type": "markdown",
   "metadata": {},
   "source": [
    "# Transfering USDb to a wallet"
   ]
  },
  {
   "cell_type": "code",
   "execution_count": 107,
   "metadata": {},
   "outputs": [
    {
     "output_type": "stream",
     "name": "stderr",
     "text": [
      "Raised JSONRPCException while returning the custom response. Error message: {'code': -32602, 'message': 'Pending transaction'}\n",
      "{'code': -32602, 'message': 'Pending transaction'} (Json rpc error), Retrying in 1 seconds...\n"
     ]
    },
    {
     "output_type": "execute_result",
     "data": {
      "text/plain": [
       "{'txHash': '0x6ef1cc84e351239d9b54023facd39dbce650bd65260c11ed80daa06f577f7287',\n",
       " 'blockHeight': 1353648,\n",
       " 'blockHash': '0xb76dfd02caa3182e3db55c8415698635426d6365e213a40a35073a0d67d02b3b',\n",
       " 'txIndex': 1,\n",
       " 'to': 'cxf27f51fe6a092437fd54c5f74983391515dfec2d',\n",
       " 'stepUsed': 158920,\n",
       " 'stepPrice': 10000000000,\n",
       " 'cumulativeStepUsed': 158920,\n",
       " 'eventLogs': [{'scoreAddress': 'cxf27f51fe6a092437fd54c5f74983391515dfec2d',\n",
       "   'indexed': ['Transfer(Address,Address,int,bytes)',\n",
       "    'hx91bf040426f226b3bfcd2f0b5967bbb0320525ce',\n",
       "    'hx91bf040426f226b3bfcd2f0b5967bbb0320525ce',\n",
       "    '0x3635c9adc5dea00000'],\n",
       "   'data': ['0x4e6f6e65']}],\n",
       " 'logsBloom': b'\\x00\\x00\\x00\\x00\\x00\\x00\\x00\\x10\\x00\\x00\\x00 \\x00\\x00\\x00\\x00\\x00\\x00\\x00\\x00\\x00\\x00\\x00\\x00\\x00\\x00\\x00\\x00\\x00\\x00\\x00\\x00\\x00\\x00\\x00\\x00\\x00\\x00\\x00\\x00\\x00\\x00\\x00\\x00\\x00\\x00\\x00\\x00\\x00\\x00\\x00\\x80\\x00\\x00\\x00\\x00\\x00\\x00\\x00\\x80\\x00\\x00\\x80\\x00\\x08\\x00\\x00\\x00\\x00\\x00 \\x00\\x00\\x00\\x00\\x00\\x00\\x00\\x00\\x00\\x00\\x00\\x00\\x00\\x00\\x00\\x00\\x00\\x00\\x00\\x00\\x00\\x00\\x00\\x00\\x00\\x00\\x00\\x00\\x00\\x00\\x00\\x00\\x00\\x00\\x00\\x00\\x00\\x00\\x00@\\x00\\x00\\x00\\x00\\x00\\x00\\x00\\x00\\x00\\x00\\x00\\x00\\x00\\x00\\x00\\x00\\x00\\x00\\x00\\x00\\x00\\x00\\x00\\x00\\x00\\x00\\x00\\x00\\x00\\x00\\x00\\x00\\x00\\x00\\x00\\x01\\x00\\x00\\x00\\x00\\x00\\x00\\x00\\x00\\x00\\x00\\x10\\x00\\x10\\x00\\x00\\x00\\x00@\\x00\\x00\\x00\\x00\\x00\\x00\\x00\\x00\\x00\\x00\\x00\\x00\\x00\\x00\\x00\\x00\\x00\\x00\\x80\\x00\\x00\\x00\\x00\\x00\\x00\\x00\\x00\\x00\\x00\\x00\\x00\\x00\\x00\\x00\\x00\\x00\\x00\\x00\\x00\\x00\\x00\\x00\\x00\\x00\\x00\\x00\\x00\\x00\\x01\\x00\\x00\\x00\\x00\\x00\\x00\\x00\\x00\\x00\\x00\\x00\\x00\\x00\\x00\\x00\\x00\\x00\\x00\\x00\\x00\\x00\\x00\\x00\\x00\\x00\\x00\\x00\\x00\\x00\\x00\\x00\\x00\\x00\\x10\\x00\\x00\\x00\\x00\\x00\\x00\\x00\\x00',\n",
       " 'status': 1}"
      ]
     },
     "metadata": {},
     "execution_count": 107
    }
   ],
   "source": [
    "params = {\"_to\": \"hx91bf040426f226b3bfcd2f0b5967bbb0320525ce\", \"_value\": 1000000000000000000000,}\n",
    "transaction = CallTransactionBuilder()\\\n",
    "    .from_(deployer_wallet.get_address())\\\n",
    "    .to(contracts['sample_token']['SCORE'])\\\n",
    "    .value(0)\\\n",
    "    .step_limit(10000000)\\\n",
    "    .nid(3)\\\n",
    "    .nonce(100)\\\n",
    "    .method(\"transfer\")\\\n",
    "    .params(params)\\\n",
    "    .build()\n",
    "signed_transaction = SignedTransaction(transaction, deployer_wallet)\n",
    "tx_hash = icon_service.send_transaction(signed_transaction)\n",
    "get_tx_result(tx_hash)"
   ]
  },
  {
   "cell_type": "markdown",
   "metadata": {},
   "source": [
    "# Depositing USDb from a wallet"
   ]
  },
  {
   "cell_type": "code",
   "execution_count": 109,
   "metadata": {
    "tags": []
   },
   "outputs": [
    {
     "output_type": "execute_result",
     "data": {
      "text/plain": [
       "{'txHash': '0xd61dd328e5dfa251632609893233dd383a15c76e680cf0b5f4d8751867e6340a',\n",
       " 'blockHeight': 1353677,\n",
       " 'blockHash': '0xa0b52c7c33c17a11f4d114baab6c9a18c87e500fd8e375cdaa00395c2b8aba9c',\n",
       " 'txIndex': 1,\n",
       " 'to': 'cxf27f51fe6a092437fd54c5f74983391515dfec2d',\n",
       " 'stepUsed': 751720,\n",
       " 'stepPrice': 10000000000,\n",
       " 'cumulativeStepUsed': 751720,\n",
       " 'eventLogs': [{'scoreAddress': 'cx6146eab7f96fa77400d4c9e9884f0ddc65e01855',\n",
       "   'indexed': ['PrintData(str,int,int,int)',\n",
       "    'params check core line 408',\n",
       "    '0x3635c9adc5dea00000',\n",
       "    '0x0'],\n",
       "   'data': ['0x0']},\n",
       "  {'scoreAddress': 'cx6146eab7f96fa77400d4c9e9884f0ddc65e01855',\n",
       "   'indexed': ['PrintData(str,int,int,int)',\n",
       "    'rate value core line 412',\n",
       "    '0x0',\n",
       "    '0x2386f26fc10000'],\n",
       "   'data': ['0x0']},\n",
       "  {'scoreAddress': 'cx6146eab7f96fa77400d4c9e9884f0ddc65e01855',\n",
       "   'indexed': ['ReserveUpdated(Address,int,int,int,int)',\n",
       "    'cxf27f51fe6a092437fd54c5f74983391515dfec2d',\n",
       "    '0x0',\n",
       "    '0x2386f26fc10000'],\n",
       "   'data': ['0xde0b6b3a7640000', '0xde0b6b3a7640000']},\n",
       "  {'scoreAddress': 'cxc3011b3da8a3df88e9411efefe1207c6d3471e65',\n",
       "   'indexed': ['Mint(Address,int)',\n",
       "    'hx91bf040426f226b3bfcd2f0b5967bbb0320525ce'],\n",
       "   'data': ['0x0']},\n",
       "  {'scoreAddress': 'cxc3011b3da8a3df88e9411efefe1207c6d3471e65',\n",
       "   'indexed': ['Mint(Address,int)',\n",
       "    'hx91bf040426f226b3bfcd2f0b5967bbb0320525ce'],\n",
       "   'data': ['0x3635c9adc5dea00000']},\n",
       "  {'scoreAddress': 'cxc3011b3da8a3df88e9411efefe1207c6d3471e65',\n",
       "   'indexed': ['MintOnDeposit(Address,int,int,int)',\n",
       "    'hx91bf040426f226b3bfcd2f0b5967bbb0320525ce',\n",
       "    '0x3635c9adc5dea00000',\n",
       "    '0x0'],\n",
       "   'data': ['0xde0b6b3a7640000']},\n",
       "  {'scoreAddress': 'cxf27f51fe6a092437fd54c5f74983391515dfec2d',\n",
       "   'indexed': ['Transfer(Address,Address,int,bytes)',\n",
       "    'cx43184421f5f5743ae5435f59f12720e5b6c9a2c1',\n",
       "    'cx6146eab7f96fa77400d4c9e9884f0ddc65e01855',\n",
       "    '0x3635c9adc5dea00000'],\n",
       "   'data': ['0x4e6f6e65']},\n",
       "  {'scoreAddress': 'cx43184421f5f5743ae5435f59f12720e5b6c9a2c1',\n",
       "   'indexed': ['Deposit(Address,Address,int,int)',\n",
       "    'cxf27f51fe6a092437fd54c5f74983391515dfec2d',\n",
       "    'hx91bf040426f226b3bfcd2f0b5967bbb0320525ce',\n",
       "    '0x3635c9adc5dea00000'],\n",
       "   'data': ['0x5b553bcdb6c3f']},\n",
       "  {'scoreAddress': 'cxf27f51fe6a092437fd54c5f74983391515dfec2d',\n",
       "   'indexed': ['Transfer(Address,Address,int,bytes)',\n",
       "    'hx91bf040426f226b3bfcd2f0b5967bbb0320525ce',\n",
       "    'cx43184421f5f5743ae5435f59f12720e5b6c9a2c1',\n",
       "    '0x3635c9adc5dea00000'],\n",
       "   'data': ['0x7b226d6574686f64223a20226465706f736974222c2022706172616d73223a207b22616d6f756e74223a20313030303030303030303030303030303030303030307d7d']}],\n",
       " 'logsBloom': b'\\x00\\x00\\x00 \\x00\\x00\\x000\\x00\\x00\\x00  \\x00\\x00\\x00\\x00\\x00\\x00\\x00\\x00\\x00\\x00\\x00\\x00\\x00\\x00\\x00\\x00\\x00@\\x00\\x10\\x00\\x00\\x00\\x01@\\x13\\x01\\x00\\x00\\x00\\x00\\x00\\x00\\x00\\x00\\x80\\x00\\x01\\x80\\x00@\\x00\\x00\\x00\\x00\\x00\\x80\\x00\\x00\\x80\\x80\\x08\\x00\\x02\\x00\\x00\\x00 \\x04\\x01\\x00\\x00\\x10\\x00\\x01\\x00\\x00\\x00\\x02\\x00\\x00\\x00\\x00\\x00\\x10\\x00\\x00\\x00\\x00\\x00\\x00\\x00\\x00\\x80 \\x00 @\\x00\\x10\\x00\\x00\\x00\\x00\\x00\\x00\\x00@\\x00\\x00\\x00\\x00\\n\\x00\\x00\\x00\\x00\\x00\\x00\\x00\\x00\\x00\\x00\\x00\\x00\\x00\\x00\\x000\\x00\\x00\\x00\\x00\\x00\\x00\\x00 \\x00\\x04\\x00\\x00\\x00\\x00\\x01\\x02\\x00\\x00\\x00\\x00 \\x00\\x00\\x00\\x00\\x10\\x00\\x10\\x00\\x00\\x00\\x00B \\x02\\x00\\x00\\x00\\x00\\x00\\x00\\x00@\\x00\\x00\\x00\\x00\\x00\\x00\\x00\\x00\\x80\\x00\\x00\\x00\\x00\\x00\\x16\\x00\\x00\\x00\\x00\\x00\\x00\\x00\\x00\\x00\\x00\\x00\\x00\\x00\\x02\\x00\\x00\\x00@\\x00\\x00\\x08\\x00\\x00\\x03\\x00\\x08\\x00\\x00\\x00\\x00\\x00\\x00\\x00\\x00\\x80\\x00\\x00\\x00\\x00\\x00\\x01\\x00\\x00\\x00\\x00\\x02\\x00\\x00\\x01\\x00\\x00\\x00\\x00\\x00 \\x00\\x00\\x10\\x80\\x00\\x00\\x00\\x00\\x00\\x00\\x00',\n",
       " 'status': 1}"
      ]
     },
     "metadata": {},
     "execution_count": 109
    }
   ],
   "source": [
    "data = \"{\\\"method\\\": \\\"deposit\\\", \\\"params\\\": {\\\"amount\\\": 1000000000000000000000}}\".encode(\"utf-8\")\n",
    "params = {\"_to\": contracts['lendingPool']['SCORE'], \"_value\": 1000000000000000000000, \"_data\": data}\n",
    "transaction = CallTransactionBuilder()\\\n",
    "    .from_(deployer_wallet.get_address())\\\n",
    "    .to(contracts['sample_token']['SCORE'])\\\n",
    "    .value(0)\\\n",
    "    .step_limit(10000000)\\\n",
    "    .nid(3)\\\n",
    "    .nonce(100)\\\n",
    "    .method(\"transfer\")\\\n",
    "    .params(params)\\\n",
    "    .build()\n",
    "signed_transaction = SignedTransaction(transaction, deployer_wallet)\n",
    "tx_hash = icon_service.send_transaction(signed_transaction)\n",
    "get_tx_result(tx_hash)"
   ]
  },
  {
   "cell_type": "markdown",
   "metadata": {},
   "source": [
    "# Borrowing USDb"
   ]
  },
  {
   "cell_type": "code",
   "execution_count": 110,
   "metadata": {
    "tags": []
   },
   "outputs": [
    {
     "output_type": "stream",
     "name": "stdout",
     "text": [
      "{'version': '0x3', 'from': 'hx91bf040426f226b3bfcd2f0b5967bbb0320525ce', 'to': 'cx43184421f5f5743ae5435f59f12720e5b6c9a2c1', 'stepLimit': '0x146dc4', 'timestamp': '0x5b553bdb121c6', 'nid': '0x3', 'nonce': '0x64', 'dataType': 'call', 'data': {'method': 'borrow', 'params': {'_reserve': 'cxf27f51fe6a092437fd54c5f74983391515dfec2d', '_amount': '0x8ac7230489e80000'}}, 'signature': 'yxSWWut7ryf4/6NtDopmBxaHiCw+r5dhQzzezt7x14YKG0fSVISEjPYE6Timllqvv4lfWcJ4RD+A7/ww7J3/5gE='}\n",
      "Raised JSONRPCException while returning the custom response. Error message: {'code': -32602, 'message': 'Pending transaction'}\n",
      "{'code': -32602, 'message': 'Pending transaction'} (Json rpc error), Retrying in 1 seconds...\n"
     ]
    },
    {
     "output_type": "execute_result",
     "data": {
      "text/plain": [
       "{'txHash': '0xd14ec29c4c2ecb85012d82d6882410d9399c4a41da0a560a472262781a009594',\n",
       " 'blockHeight': 1353685,\n",
       " 'blockHash': '0x0ccccb53393581722268081256f49cd12598f808c55a12c9189e73283682de1b',\n",
       " 'txIndex': 1,\n",
       " 'to': 'cx43184421f5f5743ae5435f59f12720e5b6c9a2c1',\n",
       " 'stepUsed': 1238820,\n",
       " 'stepPrice': 10000000000,\n",
       " 'cumulativeStepUsed': 1238820,\n",
       " 'eventLogs': [{'scoreAddress': 'cx43184421f5f5743ae5435f59f12720e5b6c9a2c1',\n",
       "   'indexed': ['PrintData(str,int,int,int)',\n",
       "    'available liquidity at pool line 245',\n",
       "    '0x3635c9adc5dea00000',\n",
       "    '0x0'],\n",
       "   'data': ['0x0']},\n",
       "  {'scoreAddress': 'cx43184421f5f5743ae5435f59f12720e5b6c9a2c1',\n",
       "   'indexed': ['PrintData(str,int,int,int)',\n",
       "    'data at pool line 256',\n",
       "    '0x3635c9adc5dea00000',\n",
       "    '0x0'],\n",
       "   'data': ['0x0']},\n",
       "  {'scoreAddress': 'cx43184421f5f5743ae5435f59f12720e5b6c9a2c1',\n",
       "   'indexed': ['PrintData(str,int,int,int)',\n",
       "    'amout of collateral needed USD pool line 268',\n",
       "    '0xe74be5079082aaab',\n",
       "    '0x0'],\n",
       "   'data': ['0x0']},\n",
       "  {'scoreAddress': 'cx6146eab7f96fa77400d4c9e9884f0ddc65e01855',\n",
       "   'indexed': ['PrintData(str,int,int,int)',\n",
       "    'params check at core line 456',\n",
       "    '0x8ac7230489e80000',\n",
       "    '0x58d15e17628000'],\n",
       "   'data': ['0x0']},\n",
       "  {'scoreAddress': 'cx6146eab7f96fa77400d4c9e9884f0ddc65e01855',\n",
       "   'indexed': ['PrintData(str,int,int,int)',\n",
       "    'user borrow balances',\n",
       "    '0x0',\n",
       "    '0x0'],\n",
       "   'data': ['0x0']},\n",
       "  {'scoreAddress': 'cx6146eab7f96fa77400d4c9e9884f0ddc65e01855',\n",
       "   'indexed': ['PrintData(str,int,int,int)',\n",
       "    'initial total borrows core line 497',\n",
       "    '0x0',\n",
       "    '0x0'],\n",
       "   'data': ['0x0']},\n",
       "  {'scoreAddress': 'cx6146eab7f96fa77400d4c9e9884f0ddc65e01855',\n",
       "   'indexed': ['PrintData(str,int,int,int)',\n",
       "    'new total borrows core line 499',\n",
       "    '0x8ac7230489e80000',\n",
       "    '0x0'],\n",
       "   'data': ['0x0']},\n",
       "  {'scoreAddress': 'cx6146eab7f96fa77400d4c9e9884f0ddc65e01855',\n",
       "   'indexed': ['PrintData(str,int,int,int)',\n",
       "    'params check core line 508',\n",
       "    '0x8ac7230489e80000',\n",
       "    '0x0'],\n",
       "   'data': ['0x58d15e17628000']},\n",
       "  {'scoreAddress': 'cx6146eab7f96fa77400d4c9e9884f0ddc65e01855',\n",
       "   'indexed': ['PrintData(str,int,int,int)',\n",
       "    'user data core line 514',\n",
       "    '0x0',\n",
       "    '0x0'],\n",
       "   'data': ['0xde0b6b3a7640000']},\n",
       "  {'scoreAddress': 'cx6146eab7f96fa77400d4c9e9884f0ddc65e01855',\n",
       "   'indexed': ['PrintData(str,int,int,int)',\n",
       "    'params check core line 408',\n",
       "    '0x0',\n",
       "    '0x8ac7230489e80000'],\n",
       "   'data': ['0x0']},\n",
       "  {'scoreAddress': 'cx6146eab7f96fa77400d4c9e9884f0ddc65e01855',\n",
       "   'indexed': ['PrintData(str,int,int,int)',\n",
       "    'rate value core line 412',\n",
       "    '0x574fbde60000',\n",
       "    '0x25e546dd9aaaab'],\n",
       "   'data': ['0x0']},\n",
       "  {'scoreAddress': 'cx6146eab7f96fa77400d4c9e9884f0ddc65e01855',\n",
       "   'indexed': ['ReserveUpdated(Address,int,int,int,int)',\n",
       "    'cxf27f51fe6a092437fd54c5f74983391515dfec2d',\n",
       "    '0x574fbde60000',\n",
       "    '0x25e546dd9aaaab'],\n",
       "   'data': ['0xde0b6b3a7640000', '0xde0b6b3a7640000']},\n",
       "  {'scoreAddress': 'cxf27f51fe6a092437fd54c5f74983391515dfec2d',\n",
       "   'indexed': ['Transfer(Address,Address,int,bytes)',\n",
       "    'cx6146eab7f96fa77400d4c9e9884f0ddc65e01855',\n",
       "    'hx91bf040426f226b3bfcd2f0b5967bbb0320525ce',\n",
       "    '0x8ac7230489e80000'],\n",
       "   'data': ['0x4e6f6e65']},\n",
       "  {'scoreAddress': 'cx43184421f5f5743ae5435f59f12720e5b6c9a2c1',\n",
       "   'indexed': ['Borrow(Address,Address,int,int,int,int,int)',\n",
       "    'cxf27f51fe6a092437fd54c5f74983391515dfec2d',\n",
       "    'hx91bf040426f226b3bfcd2f0b5967bbb0320525ce',\n",
       "    '0x8ac7230489e80000'],\n",
       "   'data': ['0x25e546dd9aaaab',\n",
       "    '0x58d15e17628000',\n",
       "    '0x0',\n",
       "    '0x5b553bdcfe290']}],\n",
       " 'logsBloom': b'\\x00\\x00\\x00\\x00\\x01\\x00\\x080\\x00\\x00\\x00  \\x00\\x00\\x00\\x00\\x00\\x00\\x00\\x00\\x00\\x00\\x00\\x00\\x04\\x90\\x00\\x00\\x10@\\x00\\x10\\x00\\x00\\x00\\x01\\x00\\x13\\x00\\x00\\x00\\x00\\x00@@\\x00\\x00\\x88\\x00\\x00\\xc0\\x00@\\x00\\x00\\x80\\x00\\x01\\x00\\x08\\x00\\x90\\x00\\n\\x00\\x03\\x00\\x00\\x00 \\x82\\x01\\x00\\x00\"\\x00\\x01\\x01\\x00\\x00\\x02\\x00\\x00\\x00\\x00\\x00\\x00\\x00\\x00\\x00\\x10\\x00\\x01\\x00\\x00\\x10 \\x00 \\x00\\x00\\x02\\x00\\x00\\x00\\x10\\x80\\x00\\x00\\x00\\x00\\x00\\x00\\x00\\x08\\x00\\x10\\x00\\x00\\x00\\x02\\x00\\x00\\x00\\x00\\x00\\x00\\x00\\x94\\x00\\x10\\x00\\x00\\x00\\x00\\x00\\x80\\x00 \\x00\\x04\\x00\\x00\\x00\\x00\\x00\\x00\\x01\\x00\\x00\\x04 \\x00\\x00\\x00\\x00\\x10\\x00\\x00\\x08\\x00\\x00\\x00\\x02 \\x02\\x00\\x00\\x00\\x00\\x00\\x00\\x00@`\\x00\\x00\\x04\\x00\\x00\\x00\\x00\\x80\\x02\\x00\\x00\\x00@\\x10\\x00\\x00\\x00\\x00\\x00\\x00\\x00\\x00\\x00\\x00\\x00\\x00\\x00\\x00@\\x00\\x00\\x00\\x00\\x00\\x00\\x00\\x08\\x03\\x04\\x00\\x02\\x00\\x00\\x00\\x00\\x00\\x00\\x00\\x80\\x02\\x80\\x00\\x01\\x00\\x01\\x00\\x00\\x00\\x00\\x00\\x00\\x00\\x00\\x00\\x00\\x00\\x10\\x00 \\x00\\x00\\x00\\x00\\x00\\x00\\x00\\x00\\x00\\x00\\x00',\n",
       " 'status': 1}"
      ]
     },
     "metadata": {},
     "execution_count": 110
    }
   ],
   "source": [
    "params ={\"_reserve\": contracts['sample_token']['SCORE'], \"_amount\":10*10**18 }\n",
    "call_transaction = CallTransactionBuilder()\\\n",
    "    .from_(deployer_wallet.get_address())\\\n",
    "    .to(contracts['lendingPool']['SCORE']) \\\n",
    "    .nid(NID) \\\n",
    "    .nonce(100) \\\n",
    "    .method(\"borrow\")\\\n",
    "    .params(params)\\\n",
    "    .build()\n",
    "\n",
    "estimate_step = icon_service.estimate_step(call_transaction)\n",
    "step_limit = estimate_step + 100000\n",
    "# Returns the signed transaction object having a signature\n",
    "signed_transaction = SignedTransaction(call_transaction, deployer_wallet,step_limit)\n",
    "\n",
    "# Reads params to transfer to nodes\n",
    "print(signed_transaction.signed_transaction_dict)\n",
    "\n",
    "# Sends the transaction\n",
    "tx_hash = icon_service.send_transaction(signed_transaction)\n",
    "get_tx_result(tx_hash)"
   ]
  },
  {
   "cell_type": "markdown",
   "metadata": {},
   "source": [
    "# Reedeming/Withdrawing USDb"
   ]
  },
  {
   "cell_type": "code",
   "execution_count": 111,
   "metadata": {},
   "outputs": [
    {
     "output_type": "stream",
     "name": "stdout",
     "text": [
      "{'version': '0x3', 'from': 'hx91bf040426f226b3bfcd2f0b5967bbb0320525ce', 'to': 'cxc3011b3da8a3df88e9411efefe1207c6d3471e65', 'stepLimit': '0x143ebc', 'timestamp': '0x5b553bf01f180', 'nid': '0x3', 'nonce': '0x64', 'dataType': 'call', 'data': {'method': 'redeem', 'params': {'_amount': '0x8ac7230489e80000'}}, 'signature': 'A6J8pKu1O6z4b6+yRLpfqwyJ4duW7yxDUyS/z0tw5TRaYflRZ4z98yS881ACeFNCL+V/TjvTpJGOWm35iNIKoQE='}\n",
      "Raised JSONRPCException while returning the custom response. Error message: {'code': -32602, 'message': 'Pending transaction'}\n",
      "{'code': -32602, 'message': 'Pending transaction'} (Json rpc error), Retrying in 1 seconds...\n"
     ]
    },
    {
     "output_type": "execute_result",
     "data": {
      "text/plain": [
       "{'txHash': '0x5b0cc66a6ff064bf2ecc8d9d50b0512570308396c11a958925a403a1ec357a5f',\n",
       " 'blockHeight': 1353696,\n",
       " 'blockHash': '0x2a41466d89cd9b869a0500d849a6422bf8e41065b272106100973ce157886430',\n",
       " 'txIndex': 1,\n",
       " 'to': 'cxc3011b3da8a3df88e9411efefe1207c6d3471e65',\n",
       " 'stepUsed': 1226780,\n",
       " 'stepPrice': 10000000000,\n",
       " 'cumulativeStepUsed': 1226780,\n",
       " 'eventLogs': [{'scoreAddress': 'cxc3011b3da8a3df88e9411efefe1207c6d3471e65',\n",
       "   'indexed': ['Mint(Address,int)',\n",
       "    'hx91bf040426f226b3bfcd2f0b5967bbb0320525ce'],\n",
       "   'data': ['0xf97c99928']},\n",
       "  {'scoreAddress': 'cxc3011b3da8a3df88e9411efefe1207c6d3471e65',\n",
       "   'indexed': ['Burn(Address,int)',\n",
       "    'hx91bf040426f226b3bfcd2f0b5967bbb0320525ce'],\n",
       "   'data': ['0x8ac7230489e80000']},\n",
       "  {'scoreAddress': 'cx6146eab7f96fa77400d4c9e9884f0ddc65e01855',\n",
       "   'indexed': ['PrintData(str,int,int,int)',\n",
       "    'params check core line 408',\n",
       "    '0x0',\n",
       "    '0x8ac7230489e80000'],\n",
       "   'data': ['0x0']},\n",
       "  {'scoreAddress': 'cx6146eab7f96fa77400d4c9e9884f0ddc65e01855',\n",
       "   'indexed': ['PrintData(str,int,int,int)',\n",
       "    'rate value core line 412',\n",
       "    '0x583fc53bc5bd',\n",
       "    '0x25eb66bfaef761'],\n",
       "   'data': ['0x0']},\n",
       "  {'scoreAddress': 'cx6146eab7f96fa77400d4c9e9884f0ddc65e01855',\n",
       "   'indexed': ['ReserveUpdated(Address,int,int,int,int)',\n",
       "    'cxf27f51fe6a092437fd54c5f74983391515dfec2d',\n",
       "    '0x583fc53bc5bd',\n",
       "    '0x25eb66bfaef761'],\n",
       "   'data': ['0xde0b6b3ab61e5c9', '0xde0b6b562ec2d65']},\n",
       "  {'scoreAddress': 'cxf27f51fe6a092437fd54c5f74983391515dfec2d',\n",
       "   'indexed': ['Transfer(Address,Address,int,bytes)',\n",
       "    'cx6146eab7f96fa77400d4c9e9884f0ddc65e01855',\n",
       "    'hx91bf040426f226b3bfcd2f0b5967bbb0320525ce',\n",
       "    '0x8ac7230489e80000'],\n",
       "   'data': ['0x4e6f6e65']},\n",
       "  {'scoreAddress': 'cx43184421f5f5743ae5435f59f12720e5b6c9a2c1',\n",
       "   'indexed': ['RedeemUnderlying(Address,Address,int,int)',\n",
       "    'cxf27f51fe6a092437fd54c5f74983391515dfec2d',\n",
       "    'hx91bf040426f226b3bfcd2f0b5967bbb0320525ce',\n",
       "    '0x8ac7230489e80000'],\n",
       "   'data': ['0x5b553bf1ffc5c']},\n",
       "  {'scoreAddress': 'cxc3011b3da8a3df88e9411efefe1207c6d3471e65',\n",
       "   'indexed': ['Redeem(Address,int,int,int)',\n",
       "    'hx91bf040426f226b3bfcd2f0b5967bbb0320525ce',\n",
       "    '0x8ac7230489e80000',\n",
       "    '0xf97c99928'],\n",
       "   'data': ['0xde0b6b3ab61e5c9']}],\n",
       " 'logsBloom': b'\\x00\\x00\\x00 \\x00\\x00\\x000\\x00\\x10\\x00  \\x00\\x00\\x00@\\x00\\x00\\x00\\x00\\x00\\x00\\x00\\x00\\x00\\x00\\x08\\x00\\x00@\\x00\\x10\\x00\\x00\\x00\\x01\\x00\\x03\\x01\\x00\\x00\\x00\\x00\\x00\\x00\\x00\\x00\\x80\\x00 \\x80\\x00\\x00\\x00\\x00\\x80\\x00\\x00\\x80\\x00\\x00\\x80\\x00\\x08\\x00\\x02\\x00\\x00\\x00 \\x08\\x01\\x00\\x00\\x12\\x00\\x01\\x00\\x04\\x00\\x02\\x00\\x00\\x00\\x00\\x00\\x00\\x00\\x00\\x00\\x10\\x00\\x00\\x00\\x00\\x10 \\x00 \\x00\\x00\\x00\\x00\\x00\\x00\\x10\\x80\\x00\\x00@\\x00\\x00\\x00@\\x08\\x00\\x00\\x00\\x00\\x00\\x00\\x10\\x00\\x00\\x00\\x00\\x00\\x00\\x00\\x00\\x10\\x00\\x00\\x00\\x00\\x00\\x00\\x00 \\x00\\x04\\x00\\x01\\x10\\x00\\x01\\x02\\x10\\x00\\x00\\x00 \\x00\\x00\\x00\\x00\\x10\\x04\\x00\\x00\\x00\\x00\\x00\\x02\\x00\\x02\\x00\\x00\\x00\\x02\\x00\\x00\\x00@\\x00\\x00\\x00\\x00\\x00\\x00\\x00\\x00\\x80\\x00\\x00\\x00\\x00\\x00\\x02\\x04\\x00\\x00\\x00\\x00\\x00\\x00\\x00\\x04\\x00\\x00\\x00\\x00\\x00@\\x00\\x00\\x00\\x00\\x01\\x00\\x00\\x00\\x01\\x04\\x08\\x00\\x00\\x00\\x00\\x00\\x00\\x00\\x00\\x80\\x02\\x00\\x00\\x00\\x00\\x10\\x00\\x00\\x00\\x00\\x00\\x00\\x00\\x00\\x00\\x00\\x04\\x00\\x00 \\x00\\x00\\x00\\x00\\x00\\x00\\x00\\x00\\x00\\x00\\x00',\n",
       " 'status': 1}"
      ]
     },
     "metadata": {},
     "execution_count": 111
    }
   ],
   "source": [
    "params ={\"_amount\": 10*10**18 }\n",
    "call_transaction = CallTransactionBuilder()\\\n",
    "    .from_(deployer_wallet.get_address())\\\n",
    "    .to(contracts['oToken']['SCORE']) \\\n",
    "    .nid(NID) \\\n",
    "    .nonce(100) \\\n",
    "    .method(\"redeem\")\\\n",
    "    .params(params)\\\n",
    "    .build()\n",
    "\n",
    "estimate_step = icon_service.estimate_step(call_transaction)\n",
    "step_limit = estimate_step + 100000\n",
    "# Returns the signed transaction object having a signature\n",
    "signed_transaction = SignedTransaction(call_transaction, deployer_wallet,step_limit)\n",
    "\n",
    "# Reads params to transfer to nodes\n",
    "print(signed_transaction.signed_transaction_dict)\n",
    "\n",
    "# Sends the transaction\n",
    "tx_hash = icon_service.send_transaction(signed_transaction)\n",
    "get_tx_result(tx_hash)"
   ]
  },
  {
   "cell_type": "code",
   "execution_count": 112,
   "metadata": {
    "tags": []
   },
   "outputs": [
    {
     "output_type": "stream",
     "name": "stdout",
     "text": [
      "{'version': '0x3', 'from': 'hx91bf040426f226b3bfcd2f0b5967bbb0320525ce', 'to': 'cx6146eab7f96fa77400d4c9e9884f0ddc65e01855', 'stepLimit': '0x3ea80', 'timestamp': '0x5b553c06ebdc6', 'nid': '0x3', 'nonce': '0x64', 'dataType': 'call', 'data': {'method': 'updateBaseLTVasCollateral', 'params': {'_reserveAddress': 'cxf27f51fe6a092437fd54c5f74983391515dfec2d', '_baseLTVasCollateral': '0x494654067e10000'}}, 'signature': '79de8WIdF8kiL8fPiEdEOhCZE8E3ccr1MEVFQLQv1G8+mWWe7G22aAzjG93wIm6O9OG3xu1QOnEF0vcSfNApbAA='}\n",
      "Raised JSONRPCException while returning the custom response. Error message: {'code': -32602, 'message': 'Pending transaction'}\n",
      "{'code': -32602, 'message': 'Pending transaction'} (Json rpc error), Retrying in 1 seconds...\n"
     ]
    },
    {
     "output_type": "execute_result",
     "data": {
      "text/plain": [
       "{'txHash': '0x9b656a472068de6e8f2b40f3003b4cfcae8fb206557ecef3a00da84c67d816c7',\n",
       " 'blockHeight': 1353708,\n",
       " 'blockHash': '0xd794c262f864c4f681a19ed983b8b36cb5f855cdaf0244ecc6ab7b1cace2fcef',\n",
       " 'txIndex': 1,\n",
       " 'to': 'cx6146eab7f96fa77400d4c9e9884f0ddc65e01855',\n",
       " 'stepUsed': 156640,\n",
       " 'stepPrice': 10000000000,\n",
       " 'cumulativeStepUsed': 156640,\n",
       " 'eventLogs': [],\n",
       " 'logsBloom': b'\\x00\\x00\\x00\\x00\\x00\\x00\\x00\\x00\\x00\\x00\\x00\\x00\\x00\\x00\\x00\\x00\\x00\\x00\\x00\\x00\\x00\\x00\\x00\\x00\\x00\\x00\\x00\\x00\\x00\\x00\\x00\\x00\\x00\\x00\\x00\\x00\\x00\\x00\\x00\\x00\\x00\\x00\\x00\\x00\\x00\\x00\\x00\\x00\\x00\\x00\\x00\\x00\\x00\\x00\\x00\\x00\\x00\\x00\\x00\\x00\\x00\\x00\\x00\\x00\\x00\\x00\\x00\\x00\\x00\\x00\\x00\\x00\\x00\\x00\\x00\\x00\\x00\\x00\\x00\\x00\\x00\\x00\\x00\\x00\\x00\\x00\\x00\\x00\\x00\\x00\\x00\\x00\\x00\\x00\\x00\\x00\\x00\\x00\\x00\\x00\\x00\\x00\\x00\\x00\\x00\\x00\\x00\\x00\\x00\\x00\\x00\\x00\\x00\\x00\\x00\\x00\\x00\\x00\\x00\\x00\\x00\\x00\\x00\\x00\\x00\\x00\\x00\\x00\\x00\\x00\\x00\\x00\\x00\\x00\\x00\\x00\\x00\\x00\\x00\\x00\\x00\\x00\\x00\\x00\\x00\\x00\\x00\\x00\\x00\\x00\\x00\\x00\\x00\\x00\\x00\\x00\\x00\\x00\\x00\\x00\\x00\\x00\\x00\\x00\\x00\\x00\\x00\\x00\\x00\\x00\\x00\\x00\\x00\\x00\\x00\\x00\\x00\\x00\\x00\\x00\\x00\\x00\\x00\\x00\\x00\\x00\\x00\\x00\\x00\\x00\\x00\\x00\\x00\\x00\\x00\\x00\\x00\\x00\\x00\\x00\\x00\\x00\\x00\\x00\\x00\\x00\\x00\\x00\\x00\\x00\\x00\\x00\\x00\\x00\\x00\\x00\\x00\\x00\\x00\\x00\\x00\\x00\\x00\\x00\\x00\\x00\\x00\\x00\\x00\\x00\\x00\\x00\\x00\\x00\\x00\\x00\\x00\\x00\\x00\\x00\\x00\\x00\\x00\\x00\\x00\\x00\\x00\\x00\\x00\\x00\\x00\\x00\\x00\\x00\\x00\\x00',\n",
       " 'status': 1}"
      ]
     },
     "metadata": {},
     "execution_count": 112
    }
   ],
   "source": [
    "params ={\"_reserveAddress\": contracts['sample_token']['SCORE'],\"_baseLTVasCollateral\" :33*10**16}\n",
    "call_transaction = CallTransactionBuilder()\\\n",
    "    .from_(deployer_wallet.get_address())\\\n",
    "    .to(contracts['lendingPoolCore']['SCORE']) \\\n",
    "    .nid(NID) \\\n",
    "    .nonce(100) \\\n",
    "    .method(\"updateBaseLTVasCollateral\")\\\n",
    "    .params(params)\\\n",
    "    .build()\n",
    "\n",
    "estimate_step = icon_service.estimate_step(call_transaction)\n",
    "step_limit = estimate_step + 100000\n",
    "# Returns the signed transaction object having a signature\n",
    "signed_transaction = SignedTransaction(call_transaction, deployer_wallet,step_limit)\n",
    "\n",
    "# Reads params to transfer to nodes\n",
    "print(signed_transaction.signed_transaction_dict)\n",
    "\n",
    "# Sends the transaction\n",
    "tx_hash = icon_service.send_transaction(signed_transaction)\n",
    "get_tx_result(tx_hash)"
   ]
  },
  {
   "cell_type": "markdown",
   "metadata": {},
   "source": [
    "# Repaying USDb"
   ]
  },
  {
   "cell_type": "code",
   "execution_count": 113,
   "metadata": {
    "tags": []
   },
   "outputs": [
    {
     "output_type": "stream",
     "name": "stderr",
     "text": [
      "Raised JSONRPCException while returning the custom response. Error message: {'code': -32602, 'message': 'Pending transaction'}\n",
      "{'code': -32602, 'message': 'Pending transaction'} (Json rpc error), Retrying in 1 seconds...\n"
     ]
    },
    {
     "output_type": "execute_result",
     "data": {
      "text/plain": [
       "{'txHash': '0x277fae145ad2b5aba3b4658c75f9c795b9cd26d2a014e803f440349f706b0ed5',\n",
       " 'blockHeight': 1353714,\n",
       " 'blockHash': '0x807be102e3e53321d0192a4fea9efc26acedd859277c2fcfe785651ebea33f5b',\n",
       " 'txIndex': 1,\n",
       " 'to': 'cxf27f51fe6a092437fd54c5f74983391515dfec2d',\n",
       " 'stepUsed': 929860,\n",
       " 'stepPrice': 10000000000,\n",
       " 'cumulativeStepUsed': 929860,\n",
       " 'eventLogs': [{'scoreAddress': 'cx6146eab7f96fa77400d4c9e9884f0ddc65e01855',\n",
       "   'indexed': ['PrintData(str,int,int,int)',\n",
       "    'params check core line 408',\n",
       "    '0x8a6e51a672858000',\n",
       "    '0x0'],\n",
       "   'data': ['0x0']},\n",
       "  {'scoreAddress': 'cx6146eab7f96fa77400d4c9e9884f0ddc65e01855',\n",
       "   'indexed': ['PrintData(str,int,int,int)',\n",
       "    'rate value core line 412',\n",
       "    '0x34ece5a8f5',\n",
       "    '0x23887a690fba23'],\n",
       "   'data': ['0x0']},\n",
       "  {'scoreAddress': 'cx6146eab7f96fa77400d4c9e9884f0ddc65e01855',\n",
       "   'indexed': ['ReserveUpdated(Address,int,int,int,int)',\n",
       "    'cxf27f51fe6a092437fd54c5f74983391515dfec2d',\n",
       "    '0x34ece5a8f5',\n",
       "    '0x23887a690fba23'],\n",
       "   'data': ['0xde0b6b3b1fc0d06', '0xde0b6b839290a2e']},\n",
       "  {'scoreAddress': 'cxf27f51fe6a092437fd54c5f74983391515dfec2d',\n",
       "   'indexed': ['Transfer(Address,Address,int,bytes)',\n",
       "    'cx43184421f5f5743ae5435f59f12720e5b6c9a2c1',\n",
       "    'cx6146eab7f96fa77400d4c9e9884f0ddc65e01855',\n",
       "    '0x8a6e51a672858000'],\n",
       "   'data': ['0x4e6f6e65']},\n",
       "  {'scoreAddress': 'cx43184421f5f5743ae5435f59f12720e5b6c9a2c1',\n",
       "   'indexed': ['Repay(Address,Address,int,int,int,int)',\n",
       "    'cxf27f51fe6a092437fd54c5f74983391515dfec2d',\n",
       "    'hx91bf040426f226b3bfcd2f0b5967bbb0320525ce',\n",
       "    '0x8a6e51a672858000'],\n",
       "   'data': ['0x58d15e17628000', '0x2db1b265cc', '0x5b553c14604f5']},\n",
       "  {'scoreAddress': 'cxf27f51fe6a092437fd54c5f74983391515dfec2d',\n",
       "   'indexed': ['Transfer(Address,Address,int,bytes)',\n",
       "    'hx91bf040426f226b3bfcd2f0b5967bbb0320525ce',\n",
       "    'cx43184421f5f5743ae5435f59f12720e5b6c9a2c1',\n",
       "    '0x8ac7230489e80000'],\n",
       "   'data': ['0x7b226d6574686f64223a20227265706179222c2022706172616d73223a207b22616d6f756e74223a2031303030303030303030303030303030303030307d7d']}],\n",
       " 'logsBloom': b'\\x00\\x00\\x00\\x00\\x00\\x00\\x000\\x00\\x00\\x00  \\x00\\x00\\x00\\x00\\x00\\x00\\x00\\x00\\x00\\x00\\x00\\x00\\x00\\x00\\x00\\x00\\x00@\\x00\\x10\\x02\\x00\\x00\\x01@\\x13\\x00\\x00\\x00\\x00\\x00@\\x00\\x00\\x00\\x80\\x00\\x00\\x81\\x00\\x00\\x00\\x00\\x02\\x00\\x00\\x80\\x00\\x00\\x80\\x80\\x08\\x00\\x02\\x00\\x00\\x00 \\x00\\x01\\x00\\x00\\x00\\x00\\x00\\x04\\x00\\x00\\x02\\x00\\x00\\x00\\x00\\x00\\x00\\x00\\x00\\x00\\x10\\x00\\x00\\x00\\x00\\x00\\x00\\x00 @\\x00\\x10\\x00\\x00\\x00\\x10\\x80\\x02\\x00@\\x00\\x00\\x00\\x00\\x88\\x00\\x00\\x02\\x00\\x00\\x00\\x00\\x00\\x00\\x00\\x00\\x00\\x00\\x00\\x00\\x10\\x00\\x00\\x00\\x00\\x00\\x00\\x00 \\x10\\x84\\x00\\x00\\x00\\x00\\x01\\x00\\x00\\x00\\x00\\x00\\x00\\x00\\x00\\x00\\x00\\x10\\x00\\x00\\x00\\x00\\x00\\x00\\x02\\x00\\x02\\x00\\x00\\x00\\x00\\x00\\x00\\x00@\\x00\\x00\\x00\\x00\\x00\\x00\\x00\\x00\\x80\\x00\\x00\\x00\\x00\\x00\\x04\\x00\\x02\\x00\\x80\\x00\\x00\\x00\\x00\\x00\\x00\\x00\\x00\\x00\\x02\\x00\\x00\\x00@\\x00\\x00\\x00\\x00\\x00\\x03\\x00\\x00\\x00\\x00\\x00\\x00\\x00\\x00\\x00\\x00\\x80\\x00\\x00\\x00\\x08\\x00\\x01\\x00\\x00\\x00\\x00\\x00\\x00\\x00\\x01\\x00\\x00\\x00\\x00\\x00 \\x00\\x00\\x18\\x00\\x00\\x00\\x00\\x00\\x00\\x00\\x00',\n",
       " 'status': 1}"
      ]
     },
     "metadata": {},
     "execution_count": 113
    }
   ],
   "source": [
    "data = \"{\\\"method\\\": \\\"repay\\\", \\\"params\\\": {\\\"amount\\\": 10000000000000000000}}\".encode(\"utf-8\")\n",
    "params = {\"_to\": contracts['lendingPool']['SCORE'], \"_value\": 10000000000000000000, \"_data\": data}\n",
    "transaction = CallTransactionBuilder()\\\n",
    "    .from_(deployer_wallet.get_address())\\\n",
    "    .to(contracts['sample_token']['SCORE'])\\\n",
    "    .value(0)\\\n",
    "    .step_limit(10000000)\\\n",
    "    .nid(3)\\\n",
    "    .nonce(100)\\\n",
    "    .method(\"transfer\")\\\n",
    "    .params(params)\\\n",
    "    .build()\n",
    "signed_transaction = SignedTransaction(transaction, deployer_wallet)\n",
    "tx_hash = icon_service.send_transaction(signed_transaction)\n",
    "get_tx_result(tx_hash)"
   ]
  },
  {
   "cell_type": "code",
   "execution_count": 23,
   "metadata": {},
   "outputs": [
    {
     "output_type": "stream",
     "name": "stdout",
     "text": [
      "9450000385630198414715\n"
     ]
    }
   ],
   "source": [
    "print(icon_service.get_balance(\"hx91bf040426f226b3bfcd2f0b5967bbb0320525ce\"))"
   ]
  },
  {
   "source": [
    "# Depositing ICX from Wallet"
   ],
   "cell_type": "markdown",
   "metadata": {}
  },
  {
   "cell_type": "code",
   "execution_count": 114,
   "metadata": {},
   "outputs": [
    {
     "output_type": "stream",
     "name": "stderr",
     "text": [
      "Raised JSONRPCException while returning the custom response. Error message: {'code': -32602, 'message': 'Pending transaction'}\n",
      "{'code': -32602, 'message': 'Pending transaction'} (Json rpc error), Retrying in 1 seconds...\n"
     ]
    },
    {
     "output_type": "execute_result",
     "data": {
      "text/plain": [
       "{'txHash': '0x5142a4c6b2ed37986f2e06689ec53d7e884a8cd7ccdced40f64e4f482261d568',\n",
       " 'blockHeight': 1353718,\n",
       " 'blockHash': '0x1ce2ce8efae957061913479ec271b5a504a5049d594020d57a18704130fe3de3',\n",
       " 'txIndex': 1,\n",
       " 'to': 'cx43184421f5f5743ae5435f59f12720e5b6c9a2c1',\n",
       " 'stepUsed': 571080,\n",
       " 'stepPrice': 10000000000,\n",
       " 'cumulativeStepUsed': 571080,\n",
       " 'eventLogs': [{'scoreAddress': 'cx43184421f5f5743ae5435f59f12720e5b6c9a2c1',\n",
       "   'indexed': ['ICXTransfer(Address,Address,int)',\n",
       "    'cx43184421f5f5743ae5435f59f12720e5b6c9a2c1',\n",
       "    'cx2d53c5e8347915733500bda8bdf2aabefdd833d9',\n",
       "    '0x1b1ae4d6e2ef500000'],\n",
       "   'data': []},\n",
       "  {'scoreAddress': 'cx2d53c5e8347915733500bda8bdf2aabefdd833d9',\n",
       "   'indexed': ['Mint(Address,int)',\n",
       "    'cx6146eab7f96fa77400d4c9e9884f0ddc65e01855',\n",
       "    '0x1b1ae4d6e2ef500000'],\n",
       "   'data': []},\n",
       "  {'scoreAddress': 'cx6146eab7f96fa77400d4c9e9884f0ddc65e01855',\n",
       "   'indexed': ['PrintData(str,int,int,int)',\n",
       "    'params check core line 408',\n",
       "    '0x1b1ae4d6e2ef500000',\n",
       "    '0x0'],\n",
       "   'data': ['0x0']},\n",
       "  {'scoreAddress': 'cx6146eab7f96fa77400d4c9e9884f0ddc65e01855',\n",
       "   'indexed': ['PrintData(str,int,int,int)',\n",
       "    'rate value core line 412',\n",
       "    '0x0',\n",
       "    '0x0'],\n",
       "   'data': ['0x0']},\n",
       "  {'scoreAddress': 'cx6146eab7f96fa77400d4c9e9884f0ddc65e01855',\n",
       "   'indexed': ['ReserveUpdated(Address,int,int,int,int)',\n",
       "    'cx2d53c5e8347915733500bda8bdf2aabefdd833d9',\n",
       "    '0x0',\n",
       "    '0x0'],\n",
       "   'data': ['0xde0b6b3a7640000', '0xde0b6b3a7640000']},\n",
       "  {'scoreAddress': 'cx91a8f04a2a5adcf110168e68479e34a3b33424c9',\n",
       "   'indexed': ['Mint(Address,int)',\n",
       "    'hx91bf040426f226b3bfcd2f0b5967bbb0320525ce'],\n",
       "   'data': ['0x0']},\n",
       "  {'scoreAddress': 'cx91a8f04a2a5adcf110168e68479e34a3b33424c9',\n",
       "   'indexed': ['Mint(Address,int)',\n",
       "    'hx91bf040426f226b3bfcd2f0b5967bbb0320525ce'],\n",
       "   'data': ['0x1b1ae4d6e2ef500000']},\n",
       "  {'scoreAddress': 'cx91a8f04a2a5adcf110168e68479e34a3b33424c9',\n",
       "   'indexed': ['MintOnDeposit(Address,int,int,int)',\n",
       "    'hx91bf040426f226b3bfcd2f0b5967bbb0320525ce',\n",
       "    '0x1b1ae4d6e2ef500000',\n",
       "    '0x0'],\n",
       "   'data': ['0xde0b6b3a7640000']},\n",
       "  {'scoreAddress': 'cx43184421f5f5743ae5435f59f12720e5b6c9a2c1',\n",
       "   'indexed': ['Deposit(Address,Address,int,int)',\n",
       "    'cx2d53c5e8347915733500bda8bdf2aabefdd833d9',\n",
       "    'hx91bf040426f226b3bfcd2f0b5967bbb0320525ce',\n",
       "    '0x1b1ae4d6e2ef500000'],\n",
       "   'data': ['0x5b553c1c032e3']}],\n",
       " 'logsBloom': b'\\x00\\x00\\x00\\x00\\x00\\x01\\x000\\x00\\x00\\x08\\x01 \\x00 \\x00\\x00\\x00\\x00\\x10\\x00\\x00\\x00\\x00\\x00\\x01\\x00\\x00\\x00\\x00\\x00\\x00\\x10\\x10\\x00\\x00\\x00\\x00\\x13\\x00\\x00\\x00@\\x00\\x00\\x00\\x00\\x00\\x00\\x00\\x01\\x80\\x00\\x00\\x00\\x00\\x00\\x00\\x08\\x80\\x00\\x00\\x00\\x80\\x00\\x00\\x02`\\x00\\x00\\x00\\x00\\x01\\x00\\x00\\x12\\x00\\x01\\x00\\x00\\x00\\x02\\x00\\x00\\x00\\x00\\x00\\x00\\x00\\x00\\x00\\x00\\x00\\x00\\x00\\x00\\x90 \\x00!\\x00\\x00\\x00\\x00\\x00\\x01\\x00\\x00\\x00\\x00@\\x00\\x00\\x00\\x00J\\x00\\x00\\x00\\x00\\x00\\x00\\x00\\x00\\x00\\x00\\x00\\x00\\x00\\x00\\x000\\x00\\x00\\x00\\x00\\x00\\x00\\x00 \\x00\\x04\\x00\\x00\\x00\\x00\\x01\\x02\\x00\\x00\\x00\\x00 \\x00\\x00 \\x04\\x00\\x00\\x00\\x00\\x00\\x00\\x00\\x02\\x00\\x02\\x04\\x00\\x00\\x00\\x00\\x00\\x00@\\x00\\x00\\x00\\x00\\x00\\x00\\x00\\x00\\x80\\x00\\x00\\x00\\x00\\x00\\x04\\x00\\x00\\x00\\x00\\x00\\x02\\x00\\x02\\x00\\x00\\x00\\x00\\x00\\x02\\x00\\x00\\x00\\x00\\x00\\x00\\x00\\x00\\x00\\x02\\x00\\x08\\x00\\x00\\x00\\x00\\x00\\x08\\x00\\x00\\x80\\x02\\x00\\x00\\x00\\x00\\x01\\x00\\x00\\x00\\x00\\x02\\x00\\x00\\x00\\x00\\x00\\x00\\x00\\x00 \\x00\\x00\\x00\\x80\\x00\\x00\\x00\\x00\\x00\\x00\\x00',\n",
       " 'status': 1}"
      ]
     },
     "metadata": {},
     "execution_count": 114
    }
   ],
   "source": [
    "params = {\"_amount\": 500 * 10 ** 18}\n",
    "call_transaction = CallTransactionBuilder() \\\n",
    "    .from_(deployer_wallet.get_address()) \\\n",
    "    .to(contracts['lendingPool']['SCORE']) \\\n",
    "    .nid(3) \\\n",
    "    .step_limit(1000000000) \\\n",
    "    .nonce(100) \\\n",
    "    .value(500 * 10 ** 18) \\\n",
    "    .method(\"deposit\") \\\n",
    "    .params(params) \\\n",
    "    .build() \n",
    "\n",
    "signed_transaction = SignedTransaction(call_transaction, deployer_wallet)\n",
    "tx_hash = icon_service.send_transaction(signed_transaction)\n",
    "get_tx_result(tx_hash)\n"
   ]
  },
  {
   "source": [
    "# Withdrawing ICX "
   ],
   "cell_type": "markdown",
   "metadata": {}
  },
  {
   "cell_type": "code",
   "execution_count": 115,
   "metadata": {},
   "outputs": [
    {
     "output_type": "stream",
     "name": "stderr",
     "text": [
      "Raised JSONRPCException while returning the custom response. Error message: {'code': -32602, 'message': 'Pending transaction'}\n",
      "{'code': -32602, 'message': 'Pending transaction'} (Json rpc error), Retrying in 1 seconds...\n"
     ]
    },
    {
     "output_type": "execute_result",
     "data": {
      "text/plain": [
       "{'txHash': '0x4e18d42ba4451db152afef7509f2ab5c4cbb0efb3e9123ef47930d2a2641721d',\n",
       " 'blockHeight': 1353723,\n",
       " 'blockHash': '0x7e9f49501066c8329b270e447d413c104bab52118103d07edbfff08f78f7e25a',\n",
       " 'txIndex': 1,\n",
       " 'to': 'cx91a8f04a2a5adcf110168e68479e34a3b33424c9',\n",
       " 'stepUsed': 1396820,\n",
       " 'stepPrice': 10000000000,\n",
       " 'cumulativeStepUsed': 1396820,\n",
       " 'eventLogs': [{'scoreAddress': 'cx91a8f04a2a5adcf110168e68479e34a3b33424c9',\n",
       "   'indexed': ['Mint(Address,int)',\n",
       "    'hx91bf040426f226b3bfcd2f0b5967bbb0320525ce'],\n",
       "   'data': ['0x0']},\n",
       "  {'scoreAddress': 'cx91a8f04a2a5adcf110168e68479e34a3b33424c9',\n",
       "   'indexed': ['Burn(Address,int)',\n",
       "    'hx91bf040426f226b3bfcd2f0b5967bbb0320525ce'],\n",
       "   'data': ['0xd8d726b7177a80000']},\n",
       "  {'scoreAddress': 'cx6146eab7f96fa77400d4c9e9884f0ddc65e01855',\n",
       "   'indexed': ['PrintData(str,int,int,int)',\n",
       "    'params check core line 408',\n",
       "    '0x0',\n",
       "    '0xd8d726b7177a80000'],\n",
       "   'data': ['0x0']},\n",
       "  {'scoreAddress': 'cx6146eab7f96fa77400d4c9e9884f0ddc65e01855',\n",
       "   'indexed': ['PrintData(str,int,int,int)',\n",
       "    'rate value core line 412',\n",
       "    '0x0',\n",
       "    '0x0'],\n",
       "   'data': ['0x0']},\n",
       "  {'scoreAddress': 'cx6146eab7f96fa77400d4c9e9884f0ddc65e01855',\n",
       "   'indexed': ['ReserveUpdated(Address,int,int,int,int)',\n",
       "    'cx2d53c5e8347915733500bda8bdf2aabefdd833d9',\n",
       "    '0x0',\n",
       "    '0x0'],\n",
       "   'data': ['0xde0b6b3a7640000', '0xde0b6b3a7640000']},\n",
       "  {'scoreAddress': 'cx2d53c5e8347915733500bda8bdf2aabefdd833d9',\n",
       "   'indexed': ['Transfer(Address,Address,int,bytes)',\n",
       "    'cx6146eab7f96fa77400d4c9e9884f0ddc65e01855',\n",
       "    'hx91bf040426f226b3bfcd2f0b5967bbb0320525ce',\n",
       "    '0xd8d726b7177a80000'],\n",
       "   'data': ['0x4e6f6e65']},\n",
       "  {'scoreAddress': 'cx43184421f5f5743ae5435f59f12720e5b6c9a2c1',\n",
       "   'indexed': ['RedeemUnderlying(Address,Address,int,int)',\n",
       "    'cx2d53c5e8347915733500bda8bdf2aabefdd833d9',\n",
       "    'hx91bf040426f226b3bfcd2f0b5967bbb0320525ce',\n",
       "    '0xd8d726b7177a80000'],\n",
       "   'data': ['0x5b553c258f305']},\n",
       "  {'scoreAddress': 'cx91a8f04a2a5adcf110168e68479e34a3b33424c9',\n",
       "   'indexed': ['Redeem(Address,int,int,int)',\n",
       "    'hx91bf040426f226b3bfcd2f0b5967bbb0320525ce',\n",
       "    '0xd8d726b7177a80000',\n",
       "    '0x0'],\n",
       "   'data': ['0xde0b6b3a7640000']}],\n",
       " 'logsBloom': b'\\x00\\x00\\x00\\x08\\x00\\x11\\x000\\x00\\x10\\x00  \\x00\\x00\\x00@\\x00\\x00\\x00\\x00\\x00\\x00\\x00\\x00\\x01\\x00\\x08\\x00\\x00\\x00\\x00\\x10\\x10\\x00\\x00\\x00\\x00\\x13\\x00\\x00\\x00\\x00\\x00\\x00\\x00\\x00\\x00\\x00\\x00\\x00\\x80\\x00\\x00\\x00\\x00\\x00\\x00\\x00\\x80\\x00\\x00\\x00\\x00\\x00\\x00\\x02@\\x00\\x00\\x00\\x00\\x01\\x00\\x00\\x12\\x00\\x01\\x00\\x04\\x00\\x02\\x00\\x00\\x00\\x00\\x00\\x00\\x00\\x08\\x00\\x00\\x04\\x00\\x00\\x00\\x10 \\x00!\\x00\\x00\\x00\\x00\\x00\\x00\\x00\\x00\\x00\\x00@\\x00\\x00\\x00\\x00H\\x00\\x00\\x00\\x00\\x00\\x00\\x00\\x00\\x00\\x00\\x00\\x00\\x00\\x00\\x00\\x10\\x00\\x00\\x00\\x00\\x00\\x00\\x00 \\x00\\x04\\x00\\x01\\x00\\x00\\x01\\x02\\x10\\x00\\x00\\x00 \\x00\\x00\\x00\\x04\\x10\\x00\\x00\\x00\\x00\\x00\\x00\\x02\\x00\\x02\\x04\\x00\\x00\\x00\\x04\\x00\\x00@\\x00\\x00\\x00\\x00\\x00\\x00\\x00\\x00\\x80\\x00\\x00\\x00\\x00\\x00\\x00\\x00\\x00\\x00\\x00\\x00\\x00\\x00\\x00\\x00\\x00\\x00\\x00\\x00\\x00\\x00\\x00\\x00\\x00\\x00\\x01\\x00\\x00\\x00\\x03\\x00\\x08\\x00\\x00\\x00\\x00\\x00\\x08\\x00\\x00\\x80\\x02\\x00\\x00\\x00\\x00\\x11\\x00\\x00\\x00\\x00\\x00\\x00\\x00\\x00\\x00\\x00\\x04\\x00\\x00 \\x00\\x00\\x02\\x00\\x00\\x00\\x00\\x00\\x00\\x00\\x00',\n",
       " 'status': 1}"
      ]
     },
     "metadata": {},
     "execution_count": 115
    }
   ],
   "source": [
    "params = {\"_amount\": 250 * 10 ** 18}\n",
    "call_transaction = CallTransactionBuilder() \\\n",
    "    .from_(deployer_wallet.get_address())\\\n",
    "    .to(contracts['oICX']['SCORE'])\\\n",
    "    .nid(3) \\\n",
    "    .step_limit(10000000) \\\n",
    "    .nonce(100) \\\n",
    "    .method(\"redeem\") \\\n",
    "    .params(params) \\\n",
    "    .build()\n",
    "signed_transaction = SignedTransaction(call_transaction, deployer_wallet)\n",
    "tx_hash = icon_service.send_transaction(signed_transaction)\n",
    "get_tx_result(tx_hash)\n",
    "        "
   ]
  },
  {
   "cell_type": "markdown",
   "metadata": {},
   "source": [
    "# Borrowing sicx"
   ]
  },
  {
   "cell_type": "code",
   "execution_count": 26,
   "metadata": {
    "tags": []
   },
   "outputs": [
    {
     "output_type": "stream",
     "name": "stdout",
     "text": "{'version': '0x3', 'from': 'hx91bf040426f226b3bfcd2f0b5967bbb0320525ce', 'to': 'cx35b12ca4e9c672518db3c06d92ed60d50e7d5554', 'stepLimit': '0x18a290', 'timestamp': '0x5b56a6cdd75f1', 'nid': '0x3', 'nonce': '0x64', 'dataType': 'call', 'data': {'method': 'borrow', 'params': {'_reserve': 'cx3e9d38175d112cd5cf05a90080cce779f202ba27', '_amount': '0x56bc75e2d63100000'}}, 'signature': 'FpOevHks4R+7T08A8dEF5XIXJgZljUnkjYvuFmke3ytj0fJBOrAu+BrUzZrMTFaKN2P38jH5WgrgHR7N0jnHywE='}\nRaised JSONRPCException while returning the custom response. Error message: {'code': -32602, 'message': 'Invalid params txHash'}\n{'code': -32602, 'message': 'Invalid params txHash'} (Json rpc error), Retrying in 1 seconds...\nRaised JSONRPCException while returning the custom response. Error message: {'code': -32602, 'message': 'Pending transaction'}\n{'code': -32602, 'message': 'Pending transaction'} (Json rpc error), Retrying in 2 seconds...\n"
    },
    {
     "output_type": "execute_result",
     "data": {
      "text/plain": "{'txHash': '0x1f0f72eab1db758de1b644b7e1054de762de98699c7e2f5c4f840d01cc6fb92a',\n 'blockHeight': 9908027,\n 'blockHash': '0xd3b91a1a3a7cf36f636c3a0b57a6f6e7ac032add02a83002308a1415f7524cbd',\n 'txIndex': 1,\n 'to': 'cx35b12ca4e9c672518db3c06d92ed60d50e7d5554',\n 'stepUsed': 1514480,\n 'stepPrice': 10000000000,\n 'cumulativeStepUsed': 1514480,\n 'eventLogs': [{'scoreAddress': 'cx35b12ca4e9c672518db3c06d92ed60d50e7d5554',\n   'indexed': ['PrintData(str,int,int,int)',\n    'available liquidity at pool line 245',\n    '0xba4414334ab230000',\n    '0x0'],\n   'data': ['0x0']},\n  {'scoreAddress': 'cx35b12ca4e9c672518db3c06d92ed60d50e7d5554',\n   'indexed': ['PrintData(str,int,int,int)',\n    'data at pool line 256',\n    '0x14c09b0f07ec6d8a819',\n    '0x1174b6c563054415d'],\n   'data': ['0x0']},\n  {'scoreAddress': 'cx35b12ca4e9c672518db3c06d92ed60d50e7d5554',\n   'indexed': ['PrintData(str,int,int,int)',\n    'amout of collateral needed USD pool line 268',\n    '0xb850adebe4f559f48',\n    '0x0'],\n   'data': ['0x0']},\n  {'scoreAddress': 'cx327a386a9f8076045679fc132a8baa9e270ca43b',\n   'indexed': ['PrintData(str,int,int,int)',\n    'params check at core line 456',\n    '0x56bc75e2d63100000',\n    '0x3782dace9d90000'],\n   'data': ['0x0']},\n  {'scoreAddress': 'cx327a386a9f8076045679fc132a8baa9e270ca43b',\n   'indexed': ['PrintData(str,int,int,int)',\n    'user borrow balances',\n    '0x22e95962bd7eaf0e7',\n    '0x1428088bd91d2'],\n   'data': ['0x0']},\n  {'scoreAddress': 'cx327a386a9f8076045679fc132a8baa9e270ca43b',\n   'indexed': ['PrintData(str,int,int,int)',\n    'initial total borrows core line 497',\n    '0x23c764cdf7f4ef0e7',\n    '0x0'],\n   'data': ['0x0']},\n  {'scoreAddress': 'cx327a386a9f8076045679fc132a8baa9e270ca43b',\n   'indexed': ['PrintData(str,int,int,int)',\n    'new total borrows core line 499',\n    '0x7a83eed8d6b1c82b9',\n    '0x0'],\n   'data': ['0x0']},\n  {'scoreAddress': 'cx327a386a9f8076045679fc132a8baa9e270ca43b',\n   'indexed': ['PrintData(str,int,int,int)',\n    'params check core line 508',\n    '0x56bc75e2d63100000',\n    '0x1428088bd91d2'],\n   'data': ['0x3782dace9d90000']},\n  {'scoreAddress': 'cx327a386a9f8076045679fc132a8baa9e270ca43b',\n   'indexed': ['PrintData(str,int,int,int)',\n    'user data core line 514',\n    '0x22e95962bd7eaf0e7',\n    '0x0'],\n   'data': ['0xde0c0f54a9ce390']},\n  {'scoreAddress': 'cx327a386a9f8076045679fc132a8baa9e270ca43b',\n   'indexed': ['PrintData(str,int,int,int)',\n    'params check core line 408',\n    '0x0',\n    '0x56bc75e2d63100000'],\n   'data': ['0x0']},\n  {'scoreAddress': 'cx327a386a9f8076045679fc132a8baa9e270ca43b',\n   'indexed': ['PrintData(str,int,int,int)',\n    'rate value core line 412',\n    '0x7190e20b4079e4',\n    '0xe4b1df2a4c2a0d'],\n   'data': ['0x0']},\n  {'scoreAddress': 'cx327a386a9f8076045679fc132a8baa9e270ca43b',\n   'indexed': ['ReserveUpdated(Address,int,int,int,int)',\n    'cx3e9d38175d112cd5cf05a90080cce779f202ba27',\n    '0x7190e20b4079e4',\n    '0xe4b1df2a4c2a0d'],\n   'data': ['0xde0b8a722c35090', '0xde0c0f54a9ce390']},\n  {'scoreAddress': 'cx3e9d38175d112cd5cf05a90080cce779f202ba27',\n   'indexed': ['Transfer(Address,Address,int,bytes)',\n    'cx327a386a9f8076045679fc132a8baa9e270ca43b',\n    'hx91bf040426f226b3bfcd2f0b5967bbb0320525ce',\n    '0x56bc75e2d63100000'],\n   'data': ['0x4e6f6e65']},\n  {'scoreAddress': 'cx35b12ca4e9c672518db3c06d92ed60d50e7d5554',\n   'indexed': ['Borrow(Address,Address,int,int,int,int,int)',\n    'cx3e9d38175d112cd5cf05a90080cce779f202ba27',\n    'hx91bf040426f226b3bfcd2f0b5967bbb0320525ce',\n    '0x56bc75e2d63100000'],\n   'data': ['0xe4b1df2a4c2a0d',\n    '0x3782dace9d90000',\n    '0x1428088bd91d2',\n    '0x5b56a6ce8e866']}],\n 'logsBloom': b'\\x00\\x00\\x08\\x00\\x05\\x00\\x180\\x00\\x00\\x00  \\x00\\x00\\x02\\x00\\x00\\x00 \\x00\\x00\\x00\\x00\\x00\\x04\\x80\\x00\\x04\\x10\\x00\\x00\\x80\\x00\\x00\\x00\\x00\\x00\\x12\\x00\\x00\\x00\\x00\\x01\\x00\\x04\\x00\\x00\\x08\\x00\\x00\\xc4\\x00\\x00\\x00\\x00\\x00\\x00\\x01\\x00\\x00\\x00\\x10\\x00\\x02\\x00\\x03\\x00\\x00\\x00\\x00\\x02A\\x00@a\\x00\\x01\\x01\\x00\\x00\\x02\\x00\\x00@\\x00\\x00\\x04\\x80\\x00 \\x00\\x00\\x01\\x04\\x00\\x00 \\x00 \\x00\\x00\\x02\\x00\\x00\\x00\\x00\\x92\\x00\\x00\\x00\\x00\\x00\\x10\\x00\\x00\\x00\\x10\\x00\\x00\\x00\\x02\\x80\\x00\\x00\\x00\\x00 \\x00\\x92\\x00\\x10\\x00\\x00\\x00\\x08\\x00\\x84\\x00\\x00\\x00\\x04\\x08\\x00\\x00\\x01\\x00\\x00\\x01\\x00\\x01\\x04 \\x00\\x00\\x00\\x00\\x10\\x00\\x80\\x80\\x00\\x00\\x00\\x02\\x00\\x00\\x00\\x00\\x00\\x00\\x00\\x00\\x04@ \\x00\\x00@\\x00\\x00\\x00\\x00\\x80\\x00\\x00\\x00\\x00\\x00@\\x00\\x00\\x00\\x00\\x00\\x00\\x00\\x00\\x00\\x00\\x00\\x08\\x00\\x00\\x00\\x00\\x00 \\x80\\x00\\x00\\x00\\x08\\x03@\\x80\\x02\\x02\\xc0\\x08\\x00\\x00\\x00\\x00\\x80\\x00\\x00\\x00\\x05\\x02\\x01\\x00\\x08\\x00\\x00\\x00\\x08\\x00\\x00\\x00\\x10\\x80\\x11\\x00 \\x00\\x02\\x00\\x00\\x00\\x01\\x00\\x00\\x00\\x00\\x00',\n 'status': 1}"
     },
     "metadata": {},
     "execution_count": 26
    }
   ],
   "source": [
    "#borrow sicx\n",
    "params ={\"_reserve\": contracts['sicx']['SCORE'], \"_amount\":100*10**18 }\n",
    "call_transaction = CallTransactionBuilder()\\\n",
    "    .from_(deployer_wallet.get_address())\\\n",
    "    .to(contracts['lendingPool']['SCORE']) \\\n",
    "    .nid(NID) \\\n",
    "    .nonce(100) \\\n",
    "    .method(\"borrow\")\\\n",
    "    .params(params)\\\n",
    "    .build()\n",
    "\n",
    "estimate_step = icon_service.estimate_step(call_transaction)\n",
    "step_limit = estimate_step + 100000\n",
    "# Returns the signed transaction object having a signature\n",
    "signed_transaction = SignedTransaction(call_transaction, deployer_wallet,step_limit)\n",
    "\n",
    "# Reads params to transfer to nodes\n",
    "print(signed_transaction.signed_transaction_dict)\n",
    "\n",
    "# Sends the transaction\n",
    "tx_hash = icon_service.send_transaction(signed_transaction)\n",
    "get_tx_result(tx_hash)"
   ]
  },
  {
   "cell_type": "markdown",
   "metadata": {},
   "source": [
    "# Repay sicx"
   ]
  },
  {
   "cell_type": "code",
   "execution_count": 29,
   "metadata": {
    "tags": []
   },
   "outputs": [
    {
     "output_type": "stream",
     "name": "stderr",
     "text": "Raised JSONRPCException while returning the custom response. Error message: {'code': -32602, 'message': 'Pending transaction'}\n{'code': -32602, 'message': 'Pending transaction'} (Json rpc error), Retrying in 1 seconds...\nRaised JSONRPCException while returning the custom response. Error message: {'code': -32602, 'message': 'Pending transaction'}\n{'code': -32602, 'message': 'Pending transaction'} (Json rpc error), Retrying in 2 seconds...\n"
    },
    {
     "output_type": "execute_result",
     "data": {
      "text/plain": "{'txHash': '0x4b95d8683af8ba72d8ab4ba223c31b1c9c2f5e5b9ad262a4fa6f1a2ad45138f7',\n 'blockHeight': 9908080,\n 'blockHash': '0x51f885287ac717250a1775e9dc72600273acde6d78f3b4689fff9b3a40594a29',\n 'txIndex': 1,\n 'to': 'cx3e9d38175d112cd5cf05a90080cce779f202ba27',\n 'stepUsed': 867000,\n 'stepPrice': 10000000000,\n 'cumulativeStepUsed': 867000,\n 'eventLogs': [{'scoreAddress': 'cx327a386a9f8076045679fc132a8baa9e270ca43b',\n   'indexed': ['PrintData(str,int,int,int)',\n    'params check core line 408',\n    '0x5684f308079370000',\n    '0x0'],\n   'data': ['0x0']},\n  {'scoreAddress': 'cx327a386a9f8076045679fc132a8baa9e270ca43b',\n   'indexed': ['PrintData(str,int,int,int)',\n    'rate value core line 412',\n    '0x9cdabb163294f',\n    '0x433145f3bf1722'],\n   'data': ['0x0']},\n  {'scoreAddress': 'cx327a386a9f8076045679fc132a8baa9e270ca43b',\n   'indexed': ['ReserveUpdated(Address,int,int,int,int)',\n    'cx3e9d38175d112cd5cf05a90080cce779f202ba27',\n    '0x9cdabb163294f',\n    '0x433145f3bf1722'],\n   'data': ['0xde0b8c027031a6b', '0xde0c127ab5dddd2']},\n  {'scoreAddress': 'cx3e9d38175d112cd5cf05a90080cce779f202ba27',\n   'indexed': ['Transfer(Address,Address,int,bytes)',\n    'cx35b12ca4e9c672518db3c06d92ed60d50e7d5554',\n    'cx327a386a9f8076045679fc132a8baa9e270ca43b',\n    '0x5684f308079370000'],\n   'data': ['0x4e6f6e65']},\n  {'scoreAddress': 'cx35b12ca4e9c672518db3c06d92ed60d50e7d5554',\n   'indexed': ['Repay(Address,Address,int,int,int,int)',\n    'cx3e9d38175d112cd5cf05a90080cce779f202ba27',\n    'hx91bf040426f226b3bfcd2f0b5967bbb0320525ce',\n    '0x5684f308079370000'],\n   'data': ['0x3782dace9d90000', '0x1b9975064193', '0x5b56a733f65d8']},\n  {'scoreAddress': 'cx3e9d38175d112cd5cf05a90080cce779f202ba27',\n   'indexed': ['Transfer(Address,Address,int,bytes)',\n    'hx91bf040426f226b3bfcd2f0b5967bbb0320525ce',\n    'cx35b12ca4e9c672518db3c06d92ed60d50e7d5554',\n    '0x56bc75e2d63100000'],\n   'data': ['0x7b226d6574686f64223a20227265706179222c2022706172616d73223a207b22616d6f756e74223a203130303030303030303030303030303030303030307d7d']}],\n 'logsBloom': b'\\x00\\x00\\x00\\x00\\x00\\x00\\x000\\x00\\x00\\x00  \\x00\\x00B\\x00\\x00\\x00\\x00\\x00\\x00\\x00\\x10\\x00\\x00\\x00\\x00\\x00\\x00\\x00\\x00\\x00\\x02\\x00\\x00\\x02\\x00\\x12\\x00\\x00\\x00\\x00\\x00\\x00\\x00\\x00\\x00\\x00\\x00\\x00\\x80\\x01\\x00\\x00\\x00\\x00\\x00\\x00\\x80\\x00\\x00\\x00\\x00\\x00\\x00\\x02\\x00\\x00\\x00\\x00\\x00A\\x00\\x00\\x00\\x01\\x00\\x00\\x80\\x80\\x02\\x00\\x00\\x00\\x00\\x08\\x00\\x80\\x00\\x00\\x00\\x00\\x00\\x04\\x00\\x00\\xc0\\x00 \\x00\\x00\\x00\\x00\\x00\\x00\\x00\\x10\\x00\\x00@\\x00\\x00\\x10\\x00\\x00\\x00\\x00\\x02\\x00\\x00\\x00\\x00\\x00\\x10\\x00\\x00\\x00\\x00\\x02\\x00\\x10\\x00\\x00\\x00\\x00\\x00\\x00\\x00\\x00\\x00\\x04\\x08\\x00\\x00\\x00\\x01\\x00\\x00\\x00\\x00\\x00\\x00\\x00\\x00\\x00\\x00\\x10\\x00\\x80\\x00\\x00\\x00\\x00\\x02\\x00 \\x00\\x00\\x00\\x00\\x00\\x00\\x00\\x00\\x00\\x02\\x00\\x00@\\x00\\x00\\x02\\x80\\x00\\x00\\x00\\x00\\x00\\x00\\x00\\x00\\x00\\x00\\x00\\x00\\x00\\x00\\x00\\x00\\x00\\x00\\x00\\x00\\x00\\x08\\x00 \\x00\\x00\\x00\\x01\\x00\\x03@\\x00\\x00\\x02\\xc0\\x00\\x00\\x00\\x00\\x00\\x88\\x00\\x00\\x00\\x08\\x01\\x01\\x02\\x00\\x00\\x00\\x00\\x00\\x00\\x00\\x00\\x00\\x00\\x00\\x00 \\x00\\x00\\x00\\x00\\x00\\x01\\x00\\x00\\x00\\x00\\x00',\n 'status': 1}"
     },
     "metadata": {},
     "execution_count": 29
    }
   ],
   "source": [
    "\n",
    "data = \"{\\\"method\\\": \\\"repay\\\", \\\"params\\\": {\\\"amount\\\": 100000000000000000000}}\".encode(\"utf-8\")\n",
    "params = {\"_to\": contracts['lendingPool']['SCORE'], \"_value\": 100000000000000000000, \"_data\": data}\n",
    "transaction = CallTransactionBuilder()\\\n",
    "    .from_(deployer_wallet.get_address())\\\n",
    "    .to(contracts['sicx']['SCORE'])\\\n",
    "    .value(0)\\\n",
    "    .step_limit(10000000)\\\n",
    "    .nid(3)\\\n",
    "    .nonce(100)\\\n",
    "    .method(\"transfer\")\\\n",
    "    .params(params)\\\n",
    "    .build()\n",
    "signed_transaction = SignedTransaction(transaction, deployer_wallet)\n",
    "tx_hash = icon_service.send_transaction(signed_transaction)\n",
    "get_tx_result(tx_hash)"
   ]
  },
  {
   "cell_type": "markdown",
   "metadata": {},
   "source": [
    "# Readonly methods to get data"
   ]
  },
  {
   "cell_type": "markdown",
   "metadata": {},
   "source": [
    "### Getting all the addresses"
   ]
  },
  {
   "cell_type": "code",
   "execution_count": 37,
   "metadata": {
    "tags": []
   },
   "outputs": [
    {
     "output_type": "stream",
     "name": "stdout",
     "text": [
      "{'collateral': {'USDb': 'cx134a1a0309aaf88a00ad1fee4983b7ed43454ab6',\n                'sICX': 'cx735ee7e87d30d76a83b27c7bc62a84b5beafa34b'},\n 'oTokens': {'oICX': 'cx6dbb85df52d7b12d2c00d673d89c5bf21ee29be2',\n             'oUSDb': 'cx2f4c43ec2c69321573e93549d89462de4a25fdbe'},\n 'systemContract': {'LendingPool': 'cxbfd0ecb9892ca2e1ae3d0494d48f6618620b7e48',\n                    'LendingPoolDataProvider': 'cx726e8bacc442256099dda50438c11d004215afc5'}}\n"
     ]
    }
   ],
   "source": [
    "_call = CallBuilder()\\\n",
    "    .from_(deployer_wallet.get_address())\\\n",
    "    .to(contracts['addressProvider']['SCORE'])\\\n",
    "    .method(\"getAllAddresses\")\\\n",
    "    .build()\n",
    "response = icon_service.call(_call)\n",
    "pprint(response)"
   ]
  },
  {
   "cell_type": "markdown",
   "metadata": {},
   "source": [
    "### Getting specific reserve data"
   ]
  },
  {
   "cell_type": "code",
   "execution_count": 30,
   "metadata": {
    "tags": []
   },
   "outputs": [
    {
     "output_type": "stream",
     "name": "stdout",
     "text": "{'availableLiquidity': 214.5,\n 'baseLTVasCollateral': 0.33,\n 'borrowCumulativeIndex': 1.000011493399191,\n 'borrowRate': 0.018912999951505187,\n 'borrowingEnabled': '0x1',\n 'decimals': 1.8e-17,\n 'isActive': '0x1',\n 'isFreezed': '0x0',\n 'lastUpdateTimestamp': 1606843688248792,\n 'liquidationBonus': 1e-17,\n 'liquidationThreshold': 0.65,\n 'liquidityCumulativeIndex': 1.0000022527039965,\n 'liquidityRate': 0.002759412089563471,\n 'oTokenAddress': 'cxf6e3d64db674c0edbf732462e80e2e3352280548',\n 'reserveAddress': 'cx3e9d38175d112cd5cf05a90080cce779f202ba27',\n 'totalBorrows': 41.50062730044531,\n 'totalLiquidity': 256.00062730044533,\n 'usageAsCollateralEnabled': '0x1'}\n"
    }
   ],
   "source": [
    "#this returns the reserve data of USDb\n",
    "params = {'_reserve': contracts['sicx']['SCORE']}\n",
    "_call = CallBuilder()\\\n",
    "    .from_(deployer_wallet.get_address())\\\n",
    "    .to(contracts['lendingPoolDataProvider']['SCORE'])\\\n",
    "    .method(\"getReserveData\")\\\n",
    "    .params(params)\\\n",
    "    .build()\n",
    "response = icon_service.call(_call)\n",
    "for key,values in response.items():\n",
    "    if values==\"0x1\" or values ==\"0x0\" or \"Address\" in key:\n",
    "        continue\n",
    "    if key!=\"lastUpdateTimestamp\":\n",
    "        response[key]=int(values,0)/10**18\n",
    "    else:\n",
    "        response[key]=int(values,0)\n",
    "\n",
    "pprint(response)"
   ]
  },
  {
   "cell_type": "markdown",
   "metadata": {},
   "source": [
    "# Reserve Account Data"
   ]
  },
  {
   "cell_type": "code",
   "execution_count": 16,
   "metadata": {
    "tags": []
   },
   "outputs": [
    {
     "output_type": "stream",
     "name": "stdout",
     "text": "{'availableLiquidityBalanceUSD': 24104.87499792432,\n 'totalBorrowsBalanceUSD': 900.5229921951135,\n 'totalCollateralBalanceUSD': 25005.39799011943,\n 'totalLiquidityBalanceUSD': 25005.39799011943}\n"
    }
   ],
   "source": [
    "#this returns the reserve data of USDb\n",
    "\n",
    "_call = CallBuilder()\\\n",
    "    .from_(deployer_wallet.get_address())\\\n",
    "    .to(contracts['lendingPoolDataProvider']['SCORE'])\\\n",
    "    .method(\"getReserveAccountData\")\\\n",
    "    .build()\n",
    "response = icon_service.call(_call)\n",
    "# print(response)\n",
    "for key,values in response.items():\n",
    "    response[key]=int(values,0)/10**18\n",
    "        \n",
    "\n",
    "pprint(response)"
   ]
  },
  {
   "cell_type": "markdown",
   "metadata": {},
   "source": [
    "### Getting data of all reserves"
   ]
  },
  {
   "cell_type": "code",
   "execution_count": 17,
   "metadata": {
    "tags": []
   },
   "outputs": [
    {
     "output_type": "stream",
     "name": "stdout",
     "text": "{'USDb': {'availableLiquidity': 23999.99999792432,\n          'baseLTVasCollateral': 0.33,\n          'borrowCumulativeIndex': 1.0000319286263997,\n          'borrowRate': 0.004128273409968422,\n          'borrowingEnabled': '0x1',\n          'decimals': 1.8e-17,\n          'isActive': '0x1',\n          'isFreezed': '0x0',\n          'lastUpdateTimestamp': 1606289631645781,\n          'liquidationBonus': 1e-17,\n          'liquidationThreshold': 0.65,\n          'liquidityCumulativeIndex': 1.000000664971861,\n          'liquidityRate': 0.000131471804680347,\n          'oTokenAddress': 'cx4258464e395b3ef3b73a146947eb41393e8c5873',\n          'reserveAddress': 'cx19be1be7b4e7750863edf966faac3f42dec21025',\n          'totalBorrows': 880.3978710152415,\n          'totalLiquidity': 24880.39786893956,\n          'usageAsCollateralEnabled': '0x1'},\n 'sICX': {'availableLiquidity': 209.75,\n          'baseLTVasCollateral': 0.33,\n          'borrowCumulativeIndex': 1.0000024672503287,\n          'borrowRate': 0.01878342822515975,\n          'borrowingEnabled': '0x1',\n          'decimals': 1.8e-17,\n          'isActive': '0x1',\n          'isFreezed': '0x0',\n          'lastUpdateTimestamp': 1606828745337435,\n          'liquidationBonus': 1e-17,\n          'liquidationThreshold': 0.65,\n          'liquidityCumulativeIndex': 1.000000872494058,\n          'liquidityRate': 0.002721732499720759,\n          'oTokenAddress': 'cxf6e3d64db674c0edbf732462e80e2e3352280548',\n          'reserveAddress': 'cx3e9d38175d112cd5cf05a90080cce779f202ba27',\n          'totalBorrows': 40.250242359743936,\n          'totalLiquidity': 250.00024235974394,\n          'usageAsCollateralEnabled': '0x1'}}\n"
    }
   ],
   "source": [
    "#this returns the reserve data of all the reserves\n",
    "params = {'_reserve': contracts['sample_token']['SCORE']}\n",
    "_call = CallBuilder()\\\n",
    "    .from_(deployer_wallet.get_address())\\\n",
    "    .to(contracts['lendingPoolDataProvider']['SCORE'])\\\n",
    "    .method(\"getAllReserveData\")\\\n",
    "    .build()\n",
    "response = icon_service.call(_call)\n",
    "for key,values in response.items():\n",
    "    for k,v in values.items():\n",
    "        if v==\"0x1\" or v ==\"0x0\" or \"Address\" in k:\n",
    "            continue\n",
    "        if k!=\"lastUpdateTimestamp\":\n",
    "            response[key][k]=int(v,0)/10**18\n",
    "        else:\n",
    "            response[key][k]=int(v,0)\n",
    "pprint(response)"
   ]
  },
  {
   "cell_type": "markdown",
   "metadata": {},
   "source": [
    "### Getting user account data"
   ]
  },
  {
   "cell_type": "code",
   "execution_count": 32,
   "metadata": {
    "tags": []
   },
   "outputs": [
    {
     "output_type": "stream",
     "name": "stdout",
     "text": "{'currentLiquidationThreshold': 0.65,\n 'currentLtv': 0.33,\n 'healthFactor': 196.60244264643964,\n 'healthFactorBelowThreshold': 0.0,\n 'totalBorrowBalanceUSD': 20.250314476059945,\n 'totalCollateralBalanceUSD': 6125.0173697722175,\n 'totalFeesUSD': 0.0,\n 'totalLiquidityBalanceUSD': 6125.0173697722175}\n"
    }
   ],
   "source": [
    "#returns the user data of all the reserves combined\n",
    "params = {'_user': 'hx91bf040426f226b3bfcd2f0b5967bbb0320525ce'}\n",
    "_call = CallBuilder()\\\n",
    "    .from_(deployer_wallet.get_address())\\\n",
    "    .to(contracts['lendingPoolDataProvider']['SCORE'])\\\n",
    "    .method(\"getUserAccountData\")\\\n",
    "    .params(params)\\\n",
    "    .build()\n",
    "response = icon_service.call(_call)\n",
    "for key,values in response.items():\n",
    "    if key!=\"lastUpdateTimestamp\":\n",
    "        response[key]=int(values,0)/10**18\n",
    "    else:\n",
    "        response[key]=int(values,0)\n",
    "pprint(response)"
   ]
  },
  {
   "cell_type": "code",
   "execution_count": 49,
   "metadata": {
    "tags": []
   },
   "outputs": [
    {
     "output_type": "stream",
     "name": "stdout",
     "text": [
      "20.0\n"
     ]
    }
   ],
   "source": [
    "#returns the user data of all the reserves combined\n",
    "params = {'_reserve': contracts['sample_token']['SCORE'],'_amount':10*10**18,\"_fee\":1,'_userCurrentBorrowBalanceUSD':0,'_userCurrentFeesUSD':0,'_userCurrentLtv':5*10**17}\n",
    "_call = CallBuilder()\\\n",
    "    .from_(deployer_wallet.get_address())\\\n",
    "    .to(contracts['lendingPoolDataProvider']['SCORE'])\\\n",
    "    .method(\"calculateCollateralNeededUSD\")\\\n",
    "    .params(params)\\\n",
    "    .build()\n",
    "response = icon_service.call(_call)\n",
    "response = int(response,0)/10**18\n",
    "# for key,values in response.items():\n",
    "#     if key!=\"lastUpdateTimestamp\":\n",
    "#         response[key]=int(values,0)/10**18\n",
    "#     else:\n",
    "#         response[key]=int(values,0)\n",
    "print(response)"
   ]
  },
  {
   "cell_type": "markdown",
   "metadata": {},
   "source": [
    "### Getting user reserve data"
   ]
  },
  {
   "cell_type": "code",
   "execution_count": 31,
   "metadata": {
    "tags": []
   },
   "outputs": [
    {
     "output_type": "stream",
     "name": "stdout",
     "text": "{'borrowRate': 0.018912999951505187,\n 'currentBorrowBalance': 40.500628612069235,\n 'currentBorrowBalanceUSD': 20.250314306034618,\n 'currentOTokenBalance': 250.00056435725696,\n 'currentOTokenBalanceUSD': 125.00028217862848,\n 'lastUpdateTimestamp': 1606843688248792,\n 'liquidityRate': 0.002759412089563471,\n 'originationFee': 0.0,\n 'principalBorrowBalance': 40.50062730044531,\n 'principalBorrowBalanceUSD': 20.250313650222655,\n 'useAsCollateral': 1e-18,\n 'userBorrowCumulativeIndex': 1.000011493399191}\n"
    }
   ],
   "source": [
    "#returns the data of a specific user for a specific reserve\n",
    "#this returns the data of user for USDb reserve\n",
    "params = {'_user': 'hx91bf040426f226b3bfcd2f0b5967bbb0320525ce' ,\"_reserve\":contracts['sicx']['SCORE']}\n",
    "_call = CallBuilder()\\\n",
    "    .from_(deployer_wallet.get_address())\\\n",
    "    .to(contracts['lendingPoolDataProvider']['SCORE'])\\\n",
    "    .method(\"getUserReserveData\")\\\n",
    "    .params(params)\\\n",
    "    .build()\n",
    "response = icon_service.call(_call)\n",
    "for key,values in response.items():\n",
    "    if key!=\"lastUpdateTimestamp\":\n",
    "        response[key]=int(values,0)/10**18\n",
    "    else:\n",
    "        response[key]=int(values,0)\n",
    "pprint(response)"
   ]
  },
  {
   "source": [
    "# Getting All Reserve Data"
   ],
   "cell_type": "markdown",
   "metadata": {}
  },
  {
   "cell_type": "code",
   "execution_count": 44,
   "metadata": {},
   "outputs": [
    {
     "output_type": "stream",
     "name": "stdout",
     "text": [
      "{'USDb': {'availableLiquidity': '0x3f35b7a91f3815900000',\n          'baseLTVasCollateral': '0x853a0d2313c0000',\n          'borrowCumulativeIndex': '0xde0b7c160e6fb0d',\n          'borrowRate': '0x128fc221d15a6e5',\n          'borrowingEnabled': '0x1',\n          'decimals': '0x12',\n          'isActive': '0x1',\n          'isFreezed': '0x0',\n          'lastUpdateTimestamp': '0x5b4bfa2ee7bf9',\n          'liquidationBonus': '0xa',\n          'liquidationThreshold': '0x905438e60010000',\n          'liquidityCumulativeIndex': '0xde0b73a80e1fe23',\n          'liquidityRate': '0xa78e20466e3ea9',\n          'oTokenAddress': 'cx2f4c43ec2c69321573e93549d89462de4a25fdbe',\n          'reserveAddress': 'cx134a1a0309aaf88a00ad1fee4983b7ed43454ab6',\n          'totalBorrows': '0x6a32602b7ababa00e840',\n          'totalLiquidity': '0xa96817d499f2cf90e840',\n          'usageAsCollateralEnabled': '0x1'},\n 'sICX': {'availableLiquidity': '0x0',\n          'baseLTVasCollateral': '0x494654067e10000',\n          'borrowCumulativeIndex': '0xde0b6b3a7640000',\n          'borrowRate': '0x0',\n          'borrowingEnabled': '0x1',\n          'decimals': '0x12',\n          'isActive': '0x1',\n          'isFreezed': '0x0',\n          'lastUpdateTimestamp': '0x0',\n          'liquidationBonus': '0xa',\n          'liquidationThreshold': '0x905438e60010000',\n          'liquidityCumulativeIndex': '0xde0b6b3a7640000',\n          'liquidityRate': '0x0',\n          'oTokenAddress': 'cx6dbb85df52d7b12d2c00d673d89c5bf21ee29be2',\n          'reserveAddress': 'cx735ee7e87d30d76a83b27c7bc62a84b5beafa34b',\n          'totalBorrows': '0x0',\n          'totalLiquidity': '0x0',\n          'usageAsCollateralEnabled': '0x1'}}\n"
     ]
    }
   ],
   "source": [
    "_call = CallBuilder()\\\n",
    "    .from_(deployer_wallet.get_address())\\\n",
    "    .to(contracts['lendingPoolDataProvider']['SCORE'])\\\n",
    "    .method(\"getAllReserveData\")\\\n",
    "    .build()\n",
    "response = icon_service.call(_call)\n",
    "pprint(response)"
   ]
  },
  {
   "cell_type": "markdown",
   "metadata": {},
   "source": [
    "### Getting the data of user for all reserves"
   ]
  },
  {
   "cell_type": "code",
   "execution_count": 19,
   "metadata": {
    "tags": []
   },
   "outputs": [
    {
     "output_type": "stream",
     "name": "stdout",
     "text": "{'USDb': {'borrowRate': 0.004128273409968422,\n          'currentBorrowBalance': 0.0,\n          'currentBorrowBalanceUSD': 0.0,\n          'currentOTokenBalance': 6000.016846751915,\n          'currentOTokenBalanceUSD': 6000.016846751915,\n          'lastUpdateTimestamp': 0,\n          'liquidityRate': 0.000131471804680347,\n          'originationFee': 0.0,\n          'principalBorrowBalance': 0.0,\n          'principalBorrowBalanceUSD': 0.0,\n          'useAsCollateral': 1e-18,\n          'userBorrowCumulativeIndex': 0.0},\n 'sICX': {'borrowRate': 0.01878342822515975,\n          'currentBorrowBalance': 40.25027750533986,\n          'currentBorrowBalanceUSD': 20.12513875266993,\n          'currentOTokenBalance': 250.00024975453397,\n          'currentOTokenBalanceUSD': 125.00012487726698,\n          'lastUpdateTimestamp': 1606828745337435,\n          'liquidityRate': 0.002721732499720759,\n          'originationFee': 0.0,\n          'principalBorrowBalance': 40.250242359743936,\n          'principalBorrowBalanceUSD': 20.125121179871968,\n          'useAsCollateral': 1e-18,\n          'userBorrowCumulativeIndex': 1.0000024672503287}}\n"
    }
   ],
   "source": [
    "#returns the data of a specific user for all reserves\n",
    "\n",
    "params = {'_user': 'hx91bf040426f226b3bfcd2f0b5967bbb0320525ce'}\n",
    "_call = CallBuilder()\\\n",
    "    .from_(deployer_wallet.get_address())\\\n",
    "    .to(contracts['lendingPoolDataProvider']['SCORE'])\\\n",
    "    .method(\"getUserAllReserveData\")\\\n",
    "    .params(params)\\\n",
    "    .build()\n",
    "response = icon_service.call(_call)\n",
    "for key,values in response.items():\n",
    "    for k,v in values.items():\n",
    "        if k!=\"lastUpdateTimestamp\":\n",
    "            response[key][k]=int(v,0)/10**18\n",
    "        else:\n",
    "            response[key][k]=int(v,0)\n",
    "pprint(response)"
   ]
  },
  {
   "cell_type": "markdown",
   "metadata": {},
   "source": [
    "### Get reserve configurations\n"
   ]
  },
  {
   "cell_type": "code",
   "execution_count": 61,
   "metadata": {
    "tags": []
   },
   "outputs": [
    {
     "output_type": "stream",
     "name": "stdout",
     "text": "{'baseLTVasCollateral': 330000000000000000,\n 'borrowingEnabled': 1,\n 'decimals': 18,\n 'isActive': 1,\n 'liquidationBonus': 10,\n 'liquidationThreshold': 650000000000000000,\n 'usageAsCollateralEnabled': 1}\n"
    }
   ],
   "source": [
    "#returns the configurations of a specific reserve\n",
    "params = {\"_reserve\":contracts['sample_token']['SCORE']}\n",
    "_call = CallBuilder()\\\n",
    "    .from_(deployer_wallet.get_address())\\\n",
    "    .to(contracts['lendingPoolDataProvider']['SCORE'])\\\n",
    "    .method(\"getReserveConfigurationData\")\\\n",
    "    .params(params)\\\n",
    "    .build()\n",
    "response = icon_service.call(_call)\n",
    "for key,values in response.items():\n",
    "    response[key]=int(values,0)\n",
    "pprint(response)\n"
   ]
  },
  {
   "cell_type": "markdown",
   "metadata": {},
   "source": [
    "### Get all reserves configurations"
   ]
  },
  {
   "cell_type": "code",
   "execution_count": 62,
   "metadata": {
    "tags": []
   },
   "outputs": [
    {
     "output_type": "stream",
     "name": "stdout",
     "text": "{'USDb': {'baseLTVasCollateral': 330000000000000000,\n          'borrowingEnabled': 1,\n          'decimals': 18,\n          'isActive': 1,\n          'liquidationBonus': 10,\n          'liquidationThreshold': 650000000000000000,\n          'usageAsCollateralEnabled': 1},\n 'icx': {'baseLTVasCollateral': 330000000000000000,\n         'borrowingEnabled': 1,\n         'decimals': 18,\n         'isActive': 1,\n         'liquidationBonus': 10,\n         'liquidationThreshold': 650000000000000000,\n         'usageAsCollateralEnabled': 1}}\n"
    }
   ],
   "source": [
    "#returns the configurations of all the   reserves\n",
    "\n",
    "_call = CallBuilder()\\\n",
    "    .from_(deployer_wallet.get_address())\\\n",
    "    .to(contracts['lendingPoolDataProvider']['SCORE'])\\\n",
    "    .method(\"getAllReserveConfigurationData\")\\\n",
    "    .build()\n",
    "response = icon_service.call(_call)\n",
    "for key,values in response.items():\n",
    "    for k,v in values.items():\n",
    "        response[key][k]=int(v,0)\n",
    "pprint(response)\n"
   ]
  },
  {
   "cell_type": "markdown",
   "metadata": {},
   "source": [
    "## Realtime USDb balance of user(with accrued interest)"
   ]
  },
  {
   "cell_type": "code",
   "execution_count": 33,
   "metadata": {
    "tags": []
   },
   "outputs": [
    {
     "output_type": "stream",
     "name": "stdout",
     "text": "0\n"
    }
   ],
   "source": [
    "\n",
    "params = {'_user': 'hx91bf040426f226b3bfcd2f0b5967bbb0320525ce' }\n",
    "\n",
    "_call = CallBuilder()\\\n",
    "    .from_(deployer_wallet.get_address())\\\n",
    "    .to(contracts['oToken']['SCORE'])\\\n",
    "    .method(\"balanceOf\")\\\n",
    "    .params(params)\\\n",
    "    .build()\n",
    "response = icon_service.call(_call)\n",
    "\n",
    "print(int(response,0))"
   ]
  },
  {
   "cell_type": "code",
   "execution_count": 20,
   "metadata": {
    "tags": []
   },
   "outputs": [
    {
     "output_type": "stream",
     "name": "stdout",
     "text": "cx8397f621adac63d786c24cfdf920e683ae320dfd\n"
    }
   ],
   "source": [
    "\n",
    "# params = {'_owner': 'hx91bf040426f226b3bfcd2f0b5967bbb0320525ce' }\n",
    "\n",
    "_call = CallBuilder()\\\n",
    "    .from_(deployer_wallet.get_address())\\\n",
    "    .to(contracts['lendingPoolDataProvider']['SCORE'])\\\n",
    "    .method(\"getOracleAddress\")\\\n",
    "    .build()\n",
    "response = icon_service.call(_call)\n",
    "print(response)"
   ]
  },
  {
   "cell_type": "code",
   "execution_count": null,
   "metadata": {},
   "outputs": [],
   "source": [
    "995000000570919367819\n",
    "995000000564440311889\n",
    "894000001574533095848\n",
    "894000000615847612243\n",
    "894000001574533095848\n",
    "795000001589272371715\n",
    "795000001731223349511"
   ]
  }
 ],
 "metadata": {
  "celltoolbar": "Slideshow",
  "kernelspec": {
   "display_name": "Python 3",
   "language": "python",
   "name": "python3"
  },
  "language_info": {
   "codemirror_mode": {
    "name": "ipython",
    "version": 3
   },
   "file_extension": ".py",
   "mimetype": "text/x-python",
   "name": "python",
   "nbconvert_exporter": "python",
   "pygments_lexer": "ipython3",
   "version": "3.8.5-final"
  },
  "rise": {
   "scroll": true
  }
 },
 "nbformat": 4,
 "nbformat_minor": 2
}