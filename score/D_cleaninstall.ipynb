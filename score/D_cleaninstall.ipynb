{
 "cells": [
  {
   "cell_type": "markdown",
   "metadata": {
    "slideshow": {
     "slide_type": "slide"
    }
   },
   "source": [
    "# Jupyter Notebook to clean install all the contracts"
   ]
  },
  {
   "cell_type": "markdown",
   "metadata": {},
   "source": [
    "# Set Up Environment"
   ]
  },
  {
   "cell_type": "code",
   "execution_count": 14,
   "metadata": {},
   "outputs": [],
   "source": [
    "network = \"custom\"  # set this to one of mainnet, yeouido, euljiro, pagoda, or custom\n",
    "contracts_file_custom = 'custom_contracts_20201212140312.pkl'\n",
    "#contracts_20201109120425\n",
    "\n",
    "connections = {\n",
    "\"mainnet\": {\"iconservice\": \"https://ctz.solidwallet.io\",       \"nid\": 1},\n",
    "\"yeouido\": {\"iconservice\": \"https://bicon.net.solidwallet.io\", \"nid\": 3},\n",
    "\"euljiro\": {\"iconservice\": \"https://test-ctz.solidwallet.io\",  \"nid\": 2},\n",
    "\"pagoda\":  {\"iconservice\": \"https://zicon.net.solidwallet.io\", \"nid\":80},\n",
    "\"custom\":  {\"iconservice\": \"http://18.237.205.52:9000/\",       \"nid\": 3},\n",
    "\"local\":   {\"iconservice\": \"http://localhost:9000/\",           \"nid\": 3}\n",
    "}\n",
    "\n",
    "env = connections[network]"
   ]
  },
  {
   "cell_type": "code",
   "execution_count": 15,
   "metadata": {},
   "outputs": [],
   "source": [
    "class AutoVivification(dict):\n",
    "    \"\"\"Implementation of perl's autovivification feature.\"\"\"\n",
    "    def __getitem__(self, item):\n",
    "        try:\n",
    "            return dict.__getitem__(self, item)\n",
    "        except KeyError:\n",
    "            value = self[item] = type(self)()\n",
    "            return value\n",
    "            "
   ]
  },
  {
   "cell_type": "code",
   "execution_count": 16,
   "metadata": {
    "slideshow": {
     "slide_type": "-"
    }
   },
   "outputs": [],
   "source": [
    "from iconsdk.exception import JSONRPCException\n",
    "from iconsdk.libs.in_memory_zip import gen_deploy_data_content\n",
    "from iconsdk.icon_service import IconService\n",
    "from iconsdk.providers.http_provider import HTTPProvider\n",
    "from iconsdk.builder.transaction_builder import CallTransactionBuilder, TransactionBuilder, DeployTransactionBuilder\n",
    "from iconsdk.builder.call_builder import CallBuilder\n",
    "from iconsdk.signed_transaction import SignedTransaction\n",
    "from iconsdk.wallet.wallet import KeyWallet\n",
    "from iconsdk.utils.convert_type import convert_hex_str_to_int\n",
    "from datetime import datetime\n",
    "from repeater import retry\n",
    "from shutil import make_archive\n",
    "import requests\n",
    "import json\n",
    "import pickle as pkl\n",
    "import csv\n",
    "import os\n",
    "from pprint import pprint\n",
    "from getpass import getpass\n",
    "\n",
    "\n",
    "ICX = 1000000000000000000 # 10**18\n",
    "GOVERNANCE_ADDRESS = \"cx0000000000000000000000000000000000000000\"\n",
    "\n",
    "with open(contracts_file_custom, 'rb') as f:\n",
    "    contracts = pkl.load(f)\n",
    "\n",
    "@retry(JSONRPCException, tries=10, delay=1, back_off=2)\n",
    "def get_tx_result(_tx_hash):\n",
    "    tx_result = icon_service.get_transaction_result(_tx_hash)\n",
    "    return tx_result\n",
    "\n",
    "\n"
   ]
  },
  {
   "cell_type": "markdown",
   "metadata": {
    "slideshow": {
     "slide_type": "-"
    }
   },
   "source": [
    "### Required service"
   ]
  },
  {
   "cell_type": "code",
   "execution_count": 17,
   "metadata": {},
   "outputs": [],
   "source": [
    "icon_service = IconService(HTTPProvider(env[\"iconservice\"], 3))\n",
    "NID = env[\"nid\"]"
   ]
  },
  {
   "cell_type": "markdown",
   "metadata": {
    "slideshow": {
     "slide_type": "-"
    }
   },
   "source": [
    "# Importing wallet"
   ]
  },
  {
   "cell_type": "markdown",
   "metadata": {},
   "source": [
    "### Importing from private key and printing ICX balance"
   ]
  },
  {
   "cell_type": "code",
   "execution_count": 20,
   "metadata": {
    "scrolled": true,
    "tags": []
   },
   "outputs": [
    {
     "output_type": "stream",
     "name": "stdout",
     "text": [
      "hx91bf040426f226b3bfcd2f0b5967bbb0320525ce\nhxd29037f1eb8c3f0e8630d797edc7410507c0089a\nhx66ee5acace86d9ce23127599b7c9daae70c9d7c1\nhx65902dd4139d04765534a4539319be874ad7aa0b\n"
     ]
    }
   ],
   "source": [
    "private1=\"a691ef7d5601f9b5be4f9b9d80215159ea6ff0b88003e3d34e078d40e778b39a\"\n",
    "deployer_wallet1 = KeyWallet.load(bytes.fromhex(private1))\n",
    "print(deployer_wallet1.get_address())\n",
    "\n",
    "private2=\"b3d4e18d733f05dc21f326ba4fe150514874327c738c4a19ddd357d0e8e2efed\"\n",
    "deployer_wallet2 = KeyWallet.load(bytes.fromhex(private2))\n",
    "print(deployer_wallet2.get_address())\n",
    "\n",
    "private3=\"c3d5e9afe753a07c983bb14e34f73907e40a997793ce2f7d2895cddec27f81c6\"\n",
    "deployer_wallet3 = KeyWallet.load(bytes.fromhex(private3))\n",
    "print(deployer_wallet3.get_address())\n",
    "\n",
    "private4=\"2ffb9ef51826d555189d4804161058036cf87ae8290f1a308a79d045f6cdd428\"\n",
    "liquidator_wallet = KeyWallet.load(bytes.fromhex(private4))\n",
    "print(liquidator_wallet.get_address())"
   ]
  },
  {
   "source": [
    "### Function to switch wallets to run transaction"
   ],
   "cell_type": "markdown",
   "metadata": {}
  },
  {
   "cell_type": "code",
   "execution_count": 6,
   "metadata": {},
   "outputs": [],
   "source": [
    "wallets={'1':deployer_wallet1,'2':deployer_wallet2,'3':deployer_wallet3, '4':liquidator_wallet }\n",
    "def wallet_selector():\n",
    "    wallet=input(\"Enter the wallet from which you want to run the transaction\")\n",
    "    if str(wallet) not in wallets.keys():\n",
    "        print(\"invalid wallet selected\")\n",
    "        return null\n",
    "    return wallets[str(wallet)]\n"
   ]
  },
  {
   "cell_type": "markdown",
   "metadata": {},
   "source": [
    "# Depositing USDb from a wallet"
   ]
  },
  {
   "cell_type": "code",
   "execution_count": 10,
   "metadata": {
    "tags": []
   },
   "outputs": [
    {
     "output_type": "stream",
     "name": "stderr",
     "text": "Raised JSONRPCException while returning the custom response. Error message: {'code': -32602, 'message': 'Pending transaction'}\n{'code': -32602, 'message': 'Pending transaction'} (Json rpc error), Retrying in 1 seconds...\nRaised JSONRPCException while returning the custom response. Error message: {'code': -32602, 'message': 'Pending transaction'}\n{'code': -32602, 'message': 'Pending transaction'} (Json rpc error), Retrying in 2 seconds...\n"
    },
    {
     "output_type": "execute_result",
     "data": {
      "text/plain": "{'txHash': '0xc4797ace918f983b1024f95d4f8cc8bf4972cfc5df96d2387f024e4254240606',\n 'blockHeight': 10142381,\n 'blockHash': '0x91fb2d6d920a5bd9ccac0943662e603c6bf9af211524559e1658e0518221a863',\n 'txIndex': 1,\n 'to': 'cx19be1be7b4e7750863edf966faac3f42dec21025',\n 'stepUsed': 834040,\n 'stepPrice': 10000000000,\n 'cumulativeStepUsed': 834040,\n 'eventLogs': [{'scoreAddress': 'cx327a386a9f8076045679fc132a8baa9e270ca43b',\n   'indexed': ['PrintData(str,int,int,int)',\n    'params check core line 408',\n    '0x3635c9adc5dea00000',\n    '0x0'],\n   'data': ['0x0']},\n  {'scoreAddress': 'cx327a386a9f8076045679fc132a8baa9e270ca43b',\n   'indexed': ['PrintData(str,int,int,int)',\n    'rate value core line 412',\n    '0x763c82d21c3a',\n    '0x26ab95c0320bff'],\n   'data': ['0x0']},\n  {'scoreAddress': 'cx327a386a9f8076045679fc132a8baa9e270ca43b',\n   'indexed': ['ReserveUpdated(Address,int,int,int,int)',\n    'cx19be1be7b4e7750863edf966faac3f42dec21025',\n    '0x763c82d21c3a',\n    '0x26ab95c0320bff'],\n   'data': ['0xde0b9c5b46071f3', '0xde1a0dc5082872a']},\n  {'scoreAddress': 'cx4258464e395b3ef3b73a146947eb41393e8c5873',\n   'indexed': ['Mint(Address,int)',\n    'hx91bf040426f226b3bfcd2f0b5967bbb0320525ce'],\n   'data': ['0x427fec603328']},\n  {'scoreAddress': 'cx4258464e395b3ef3b73a146947eb41393e8c5873',\n   'indexed': ['Mint(Address,int)',\n    'hx91bf040426f226b3bfcd2f0b5967bbb0320525ce'],\n   'data': ['0x3635c9adc5dea00000']},\n  {'scoreAddress': 'cx4258464e395b3ef3b73a146947eb41393e8c5873',\n   'indexed': ['MintOnDeposit(Address,int,int,int)',\n    'hx91bf040426f226b3bfcd2f0b5967bbb0320525ce',\n    '0x3635c9adc5dea00000',\n    '0x427fec603328'],\n   'data': ['0xde0b9c5b46071f3']},\n  {'scoreAddress': 'cx19be1be7b4e7750863edf966faac3f42dec21025',\n   'indexed': ['Transfer(Address,Address,int,bytes)',\n    'cx35b12ca4e9c672518db3c06d92ed60d50e7d5554',\n    'cx327a386a9f8076045679fc132a8baa9e270ca43b',\n    '0x3635c9adc5dea00000'],\n   'data': ['0x4e6f6e65']},\n  {'scoreAddress': 'cx35b12ca4e9c672518db3c06d92ed60d50e7d5554',\n   'indexed': ['Deposit(Address,Address,int,int)',\n    'cx19be1be7b4e7750863edf966faac3f42dec21025',\n    'hx91bf040426f226b3bfcd2f0b5967bbb0320525ce',\n    '0x3635c9adc5dea00000'],\n   'data': ['0x5b5d7e9e8e779']},\n  {'scoreAddress': 'cx19be1be7b4e7750863edf966faac3f42dec21025',\n   'indexed': ['Transfer(Address,Address,int,bytes)',\n    'hx91bf040426f226b3bfcd2f0b5967bbb0320525ce',\n    'cx35b12ca4e9c672518db3c06d92ed60d50e7d5554',\n    '0x3635c9adc5dea00000'],\n   'data': ['0x7b226d6574686f64223a20226465706f736974222c2022706172616d73223a207b22616d6f756e74223a20313030303030303030303030303030303030303030307d7d']}],\n 'logsBloom': b'\\x08\\x00\\x00\\x00\\x00\\x00\\x000\\x00\\x08\\x00  \\x00\\x00@\\x00\\x00\\x00\\x00\\x00\\x00\\x00@\\x00\\x00\\x00\\x04\\x00\\x00\\x00\\x00\\x00\\x00\\x00\\x00\\x02\\x00\\x12\\x00\\x00\\x00\\x00\\x00\\x00\\x00\\x00\\x00\\x00\\x00\\x01\\x80\\x00@\\x00\\x00\\x00\\x00\\x00\\x80\\x00\\x00\\x00\\x00\\x00\\x00\\x02\\x00\\x00\\x00\\x00\\x00A\\x00\\x00\\x10\\x01\\x00\\x00\\x00\\x80\\x82\\x00\\x00@\\x00\\x00\\x00\\x80\\x00\\x00\\x00\\x00\\x00\\x04\\x00\\x80\\x80\\x00`\\x00\\x00\\x00\\x00\\x00\\x00\\x00\\x00\\x00\\x00@\\x08\\x00\\x00\\x00\\x02\\x00\\x00\\x10\\x00\\x00\\x80\\x00\\x00\\x00 \\x00\\x00\\x00\\x03\\x000\\x00\\x00\\x00\\x00\\x00\\x00\\x00\\x00\\x00\\x05\\x00\\x00\\x00\\x01\\x01\\x02\\x00\\x00\\x00\\x00\\x00\\x00\\x00\\x00\\x00\\x10\\x00\\x10\\x00\\x00\\x00\\x00B \\x00\\x00\\x00\\x00\\x00\\x00\\x00\\x00\\x00\\x00\\x00\\x00\\x00@\\x00\\x00\\x00\\x80\\x00\\x00\\x00\\x00\\x00\\x10\\x00\\x00\\x00\\x00\\x00\\x00\\x00\\x00\\x00\\x04\\x00\\x00\\x00\\x00\\x00\\x02\\x00\\x00\\x00\\x00\\x00\\x01\\x00\\x03\\x00\\x08\\x00\\x02@\\x00\\x00\\x00\\x00\\x00\\x80\\x00\\x00\\x00\\x00\\x01\\t\\x02\\x00\\x00\\x00\\x02\\x00\\x00\\x00\\x00\\x00\\x00\\x00\\x00 \\x00\\x00\\x10\\x80\\x00\\x04\\x00\\x00\\x00\\x00\\x00',\n 'status': 1}"
     },
     "metadata": {},
     "execution_count": 10
    }
   ],
   "source": [
    "deployer_wallet=wallet_selector()\n",
    "data = \"{\\\"method\\\": \\\"deposit\\\", \\\"params\\\": {\\\"amount\\\": 1000000000000000000000}}\".encode(\"utf-8\")\n",
    "params = {\"_to\": contracts['lendingPool'], \"_value\": 1000000000000000000000, \"_data\": data}\n",
    "transaction = CallTransactionBuilder()\\\n",
    "    .from_(deployer_wallet.get_address())\\\n",
    "    .to(contracts['sample_token'])\\\n",
    "    .value(0)\\\n",
    "    .step_limit(10000000)\\\n",
    "    .nid(3)\\\n",
    "    .nonce(100)\\\n",
    "    .method(\"transfer\")\\\n",
    "    .params(params)\\\n",
    "    .build()\n",
    "signed_transaction = SignedTransaction(transaction, deployer_wallet)\n",
    "tx_hash = icon_service.send_transaction(signed_transaction)\n",
    "get_tx_result(tx_hash)"
   ]
  },
  {
   "cell_type": "markdown",
   "metadata": {},
   "source": [
    "# Borrowing USDb"
   ]
  },
  {
   "cell_type": "code",
   "execution_count": 75,
   "metadata": {
    "tags": []
   },
   "outputs": [
    {
     "name": "stdout",
     "output_type": "stream",
     "text": [
      "{'version': '0x3', 'from': 'hx91bf040426f226b3bfcd2f0b5967bbb0320525ce', 'to': 'cx9a1e70f60ee138d8e2c2eee0daf28a7d0645bd02', 'stepLimit': '0x11a350', 'timestamp': '0x5b3ab99c871a5', 'nid': '0x3', 'nonce': '0x64', 'dataType': 'call', 'data': {'method': 'borrow', 'params': {'_reserve': 'cx2c002610b8aeaff84f6cb97c28294b1986016143', '_amount': '0x821ab0d4414980000'}}, 'signature': 'nnBAhBv6BGeWZE63Rr6d02x+c/R36yjf49WvR/G5VLd6hz7tKN6lL6lG/kghrjVg0ZPWIf2KdJi+rmBPoRrFWAA='}\n",
      "Raised JSONRPCException while returning the custom response. Error message: {'code': -32602, 'message': 'Pending transaction'}\n",
      "{'code': -32602, 'message': 'Pending transaction'} (Json rpc error), Retrying in 1 seconds...\n"
     ]
    },
    {
     "data": {
      "text/plain": [
       "{'txHash': '0x4f24f998ab722bbcdd6589d23f1bd67cc98a4f30ff863710b291f60545017e0f',\n",
       " 'blockHeight': 443982,\n",
       " 'blockHash': '0x795f4716b2053eca2b1b8585c02c10fe30705843841760035bf91b80abb581c9',\n",
       " 'txIndex': 1,\n",
       " 'to': 'cx9a1e70f60ee138d8e2c2eee0daf28a7d0645bd02',\n",
       " 'stepUsed': 1055920,\n",
       " 'stepPrice': 10000000000,\n",
       " 'cumulativeStepUsed': 1055920,\n",
       " 'eventLogs': [{'scoreAddress': 'cx879e276135a6f25236a8abf2e4c9801887538f60',\n",
       "   'indexed': ['ReserveUpdated(Address,int,int,int,int)',\n",
       "    'cx2c002610b8aeaff84f6cb97c28294b1986016143',\n",
       "    '0x864ae65482800',\n",
       "    '0x3e2c284391c000'],\n",
       "   'data': ['0xde0b6b3a7640000', '0xde0b6b3a7640000']},\n",
       "  {'scoreAddress': 'cx2c002610b8aeaff84f6cb97c28294b1986016143',\n",
       "   'indexed': ['Transfer(Address,Address,int,bytes)',\n",
       "    'cx879e276135a6f25236a8abf2e4c9801887538f60',\n",
       "    'hx91bf040426f226b3bfcd2f0b5967bbb0320525ce',\n",
       "    '0x821ab0d4414980000'],\n",
       "   'data': ['0x4e6f6e65']}],\n",
       " 'logsBloom': b'\\x00\\x00\\x00\\x00\\x00\\x00\\x00\\x10\\x00\\x00\\x00 \\x00\\x00\\x00\\x00\\x00\\x00\\x00\\x00\\x00\\x00\\x04\\x00\\x00\\x00\\x00\\x00\\x00\\x00\\x00\\x00\\x08\\x00\\x00\\x02\\x00\\x00\\x00\\x00\\x00\\x00\\x00\\x00\\x00\\x00\\x00\\x00\\x00\\x00\\x00\\x80\\x80\\x00\\x00\\x00\\x00\\x00\\x00\\x00\\x00\\x00\\x00\\x00\\x00\\x00\\x00\\x00\\x00\\x00\\x00\\x00\\x00\\x00\\x00\\x00\\x00\\x08\\x00\\x00\\x00\\x00\\x00\\x00\\x00\\x00\\x00\\x00\\x00\\x00\\x01\\x00\\x00\\x00\\x00\\x00\\x80\\x00\\x00 \\x00\\x00\\x00\\x00\\x00\\x00\\x00\\x00\\x00\\x00\\x00\\x00\\x00\\x00\\x00\\x00\\x00\\x00\\x00\\x00\\x00\\x00\\x00\\x00\\x00\\x02\\x00\\x04\\x00\\x00\\x00\\x00\\x00\\x00\\x00\\x00\\x00\\x00\\x00\\x00\\x00\\x00\\x00\\x00\\x00\\x00\\x08\\x00\\x00\\x00\\x00\\x00\\x00\\x01\\x00\\x00\\x00\\x10\\x00\\x00\\x00\\x00\\x00\\x00\\x00\\x00\\x00\\x00\\x00\\x00\\x00\\x00\\x00\\x00\\x00\\x00\\x01\\x00\\x00\\x00@\\x00\\x00\\x80\\x00\\x00\\x00\\x00\\x00\\x00\\x00\\x00\\x00\\x00\\x00\\x01\\x00\\x00  \\x00\\x00\\x00\\x00\\x00\\x00\\x00\\x00\\x00\\x04\\x00\\x00\\x00\\t\\x00\\x00\\x02\\x00\\x00\\x00\\x00\\x00\\x00\\x00\\x80\\x00\\x00\\x00\\x00\\x00\\x00\\x00\\x00\\x00\\x00\\x00\\x00\\x00\\x00\\x00\\x00\\x00\\x00\\x00 \\x00\\x00\\x00\\x80\\x00\\x00\\x00\\x00\\x00\\x00\\x80',\n",
       " 'status': 1}"
      ]
     },
     "execution_count": 75,
     "metadata": {},
     "output_type": "execute_result"
    }
   ],
   "source": [
    "deployer_wallet=wallet_selector()\n",
    "params ={\"_reserve\": contracts['sample_token'], \"_amount\":150*10**18 }\n",
    "call_transaction = CallTransactionBuilder()\\\n",
    "    .from_(deployer_wallet.get_address())\\\n",
    "    .to(contracts['lendingPool']) \\\n",
    "    .nid(NID) \\\n",
    "    .nonce(100) \\\n",
    "    .method(\"borrow\")\\\n",
    "    .params(params)\\\n",
    "    .build()\n",
    "\n",
    "estimate_step = icon_service.estimate_step(call_transaction)\n",
    "step_limit = estimate_step + 100000\n",
    "# Returns the signed transaction object having a signature\n",
    "signed_transaction = SignedTransaction(call_transaction, deployer_wallet,step_limit)\n",
    "\n",
    "# Reads params to transfer to nodes\n",
    "print(signed_transaction.signed_transaction_dict)\n",
    "\n",
    "# Sends the transaction\n",
    "tx_hash = icon_service.send_transaction(signed_transaction)\n",
    "get_tx_result(tx_hash)"
   ]
  },
  {
   "cell_type": "markdown",
   "metadata": {},
   "source": [
    "# Reedeming/Withdrawing USDb"
   ]
  },
  {
   "cell_type": "code",
   "execution_count": null,
   "metadata": {},
   "outputs": [],
   "source": [
    "deployer_wallet=wallet_selector()\n",
    "params ={\"_amount\": 10*10**18 }\n",
    "call_transaction = CallTransactionBuilder()\\\n",
    "    .from_(deployer_wallet.get_address())\\\n",
    "    .to(contracts['oToken']) \\\n",
    "    .nid(NID) \\\n",
    "    .nonce(100) \\\n",
    "    .method(\"redeem\")\\\n",
    "    .params(params)\\\n",
    "    .build()\n",
    "\n",
    "estimate_step = icon_service.estimate_step(call_transaction)\n",
    "step_limit = estimate_step + 100000\n",
    "# Returns the signed transaction object having a signature\n",
    "signed_transaction = SignedTransaction(call_transaction, deployer_wallet,step_limit)\n",
    "\n",
    "# Reads params to transfer to nodes\n",
    "print(signed_transaction.signed_transaction_dict)\n",
    "\n",
    "# Sends the transaction\n",
    "tx_hash = icon_service.send_transaction(signed_transaction)\n",
    "get_tx_result(tx_hash)"
   ]
  },
  {
   "cell_type": "markdown",
   "metadata": {},
   "source": [
    "# Repaying USDb"
   ]
  },
  {
   "cell_type": "code",
   "execution_count": null,
   "metadata": {},
   "outputs": [],
   "source": [
    "deployer_wallet=wallet_selector()\n",
    "data = \"{\\\"method\\\": \\\"repay\\\", \\\"params\\\": {\\\"amount\\\": 100000000000000000000}}\".encode(\"utf-8\")\n",
    "params = {\"_to\": contracts['lendingPool'], \"_value\": 100000000000000000000, \"_data\": data}\n",
    "transaction = CallTransactionBuilder()\\\n",
    "    .from_(deployer_wallet.get_address())\\\n",
    "    .to(contracts['sicx'])\\\n",
    "    .value(0)\\\n",
    "    .step_limit(10000000)\\\n",
    "    .nid(3)\\\n",
    "    .nonce(100)\\\n",
    "    .method(\"transfer\")\\\n",
    "    .params(params)\\\n",
    "    .build()\n",
    "signed_transaction = SignedTransaction(transaction, deployer_wallet)\n",
    "tx_hash = icon_service.send_transaction(signed_transaction)\n",
    "get_tx_result(tx_hash)"
   ]
  },
  {
   "cell_type": "markdown",
   "metadata": {},
   "source": [
    "# Depositing ICX"
   ]
  },
  {
   "cell_type": "code",
   "execution_count": 13,
   "metadata": {
    "tags": []
   },
   "outputs": [
    {
     "output_type": "stream",
     "name": "stderr",
     "text": "Raised JSONRPCException while returning the custom response. Error message: {'code': -32602, 'message': 'Pending transaction'}\n{'code': -32602, 'message': 'Pending transaction'} (Json rpc error), Retrying in 1 seconds...\nRaised JSONRPCException while returning the custom response. Error message: {'code': -32602, 'message': 'Pending transaction'}\n{'code': -32602, 'message': 'Pending transaction'} (Json rpc error), Retrying in 2 seconds...\n"
    },
    {
     "output_type": "execute_result",
     "data": {
      "text/plain": "{'txHash': '0x081e8527008f2f7250bd40b645e192bf61ca5bb9c348055e303fcc9e7a117907',\n 'blockHeight': 10142461,\n 'blockHash': '0xe606a4cd37963728a8c3caef2eb8881cd0018945e75c6b9d8ec07c0ae21eea85',\n 'txIndex': 1,\n 'to': 'cx35b12ca4e9c672518db3c06d92ed60d50e7d5554',\n 'stepUsed': 723640,\n 'stepPrice': 10000000000,\n 'cumulativeStepUsed': 723640,\n 'eventLogs': [{'scoreAddress': 'cx35b12ca4e9c672518db3c06d92ed60d50e7d5554',\n   'indexed': ['ICXTransfer(Address,Address,int)',\n    'cx35b12ca4e9c672518db3c06d92ed60d50e7d5554',\n    'cx3e9d38175d112cd5cf05a90080cce779f202ba27',\n    '0x8ac7230489e80000'],\n   'data': []},\n  {'scoreAddress': 'cx3e9d38175d112cd5cf05a90080cce779f202ba27',\n   'indexed': ['Mint(Address,int)',\n    'cx327a386a9f8076045679fc132a8baa9e270ca43b',\n    '0x8ac7230489e80000'],\n   'data': []},\n  {'scoreAddress': 'cx327a386a9f8076045679fc132a8baa9e270ca43b',\n   'indexed': ['PrintData(str,int,int,int)',\n    'params check core line 408',\n    '0x8ac7230489e80000',\n    '0x0'],\n   'data': ['0x0']},\n  {'scoreAddress': 'cx327a386a9f8076045679fc132a8baa9e270ca43b',\n   'indexed': ['PrintData(str,int,int,int)',\n    'rate value core line 412',\n    '0x86f211bbb58d8',\n    '0x3e52ce980985fd'],\n   'data': ['0x0']},\n  {'scoreAddress': 'cx327a386a9f8076045679fc132a8baa9e270ca43b',\n   'indexed': ['ReserveUpdated(Address,int,int,int,int)',\n    'cx3e9d38175d112cd5cf05a90080cce779f202ba27',\n    '0x86f211bbb58d8',\n    '0x3e52ce980985fd'],\n   'data': ['0xde0de2d875a6418', '0xde1c1b8415c6b60']},\n  {'scoreAddress': 'cxf6e3d64db674c0edbf732462e80e2e3352280548',\n   'indexed': ['Mint(Address,int)',\n    'hx91bf040426f226b3bfcd2f0b5967bbb0320525ce'],\n   'data': ['0x268d04b69dbf70']},\n  {'scoreAddress': 'cxf6e3d64db674c0edbf732462e80e2e3352280548',\n   'indexed': ['Mint(Address,int)',\n    'hx91bf040426f226b3bfcd2f0b5967bbb0320525ce'],\n   'data': ['0x8ac7230489e80000']},\n  {'scoreAddress': 'cxf6e3d64db674c0edbf732462e80e2e3352280548',\n   'indexed': ['MintOnDeposit(Address,int,int,int)',\n    'hx91bf040426f226b3bfcd2f0b5967bbb0320525ce',\n    '0x8ac7230489e80000',\n    '0x268d04b69dbf70'],\n   'data': ['0xde0de2d875a6418']},\n  {'scoreAddress': 'cx35b12ca4e9c672518db3c06d92ed60d50e7d5554',\n   'indexed': ['Deposit(Address,Address,int,int)',\n    'cx3e9d38175d112cd5cf05a90080cce779f202ba27',\n    'hx91bf040426f226b3bfcd2f0b5967bbb0320525ce',\n    '0x8ac7230489e80000'],\n   'data': ['0x5b5d7f379952c']}],\n 'logsBloom': b'\\x00\\x00\\x00\\x00\\x00\\x00\\x000\\x00\\x00\\x00\\x01 \\x00\\x00\\x02\\x00\\x00\\x00\\x00\\x00\\x00\\x00\\x00\\x80\\x00\\x00\\x00\\x00\\x00\\x00\\x00\\x04\\x00\\x00\\x00\\x02\\x00\\x12\\x00\\x00\\x00\\x02\\x00\\x00\\x00\\x00\\x00\\x00@\\x01\\x80\\x80\\x00\\x00\\x00\\x80\\x00\\x08\\x80\\x00\\x00\\x00\\x00\\x00\\x00\\x02\\x00\\x00\\x00\\x00\\x00A\\x00\\x00\\x10\\x01\\x00\\x00\\x00@\\x02\\x00\\x00\\x00\\x00\\x00\\x00\\x80\\x00\\x00\\x10\\x00\\x00\\x04\\x00\\x80\\x00\\x00 \\x00\\x00\\x00\\x00\\x00\\x00\\x10\\x90\\x80\\x00@\\x00\\x00\\x00\\x00\\x02\\x00\\x00\\x00\\x00\\x00\\x00\\x80\\x00\\x00\\x00\\x00\\x00\\x00\\x02\\x000\\x00\\x00\\x00\\x00\\x00\\x00\\x00\\x00\\x00\\x04\\x08\\x00\\x00\\x00\\x01\\x02\\x00\\x00\\x01\\x00\\x00\\x00\\x00 \\x00\\x00\\x00\\x00\\x00\\x00\\x00\\x02\\x02\\x00\\x00\\x00\\x00\\x00\\x00\\x00\\x00\\x00\\x00\\x00\\x00\\x00@@\\x00\\x00\\x00\\x80\\x00\\x00\\x00\\x00\\x00\\x00\\x00\\x00\\x00\\x00\\x00\\x00\\x00\\x10\\x02\\x00\\x00\\x00\\x00\\x00@\\x00\\x00 \\x00\\x00\\x00\\x00\\x00\\x02\\x04\\x08\\x00\\x02\\xc0\\x00\\x00\\x00\\x00\\x00\\x80\\x00\\x00\\x00\\x00\\x00\\x01\\x08\\x00\\x00\\x00\\x02\\x00\\x00\\x00\\x00\\x00\\x00\\x00\\x00`\\x04\\x00\\x00\\x80\\x10\\x01\\x00\\x00\\x00\\x00\\x00',\n 'status': 1}"
     },
     "metadata": {},
     "execution_count": 13
    }
   ],
   "source": [
    "deployer_wallet=wallet_selector()\n",
    "params = {\"_amount\": 10 * 10 ** 18}\n",
    "call_transaction = CallTransactionBuilder() \\\n",
    "    .from_(deployer_wallet.get_address()) \\\n",
    "    .to(contracts['lendingPool']) \\\n",
    "    .nid(3) \\\n",
    "    .step_limit(1000000000) \\\n",
    "    .nonce(100) \\\n",
    "    .value(10 * 10 ** 18) \\\n",
    "    .method(\"deposit\") \\\n",
    "    .params(params) \\\n",
    "    .build() \n",
    "\n",
    "signed_transaction = SignedTransaction(call_transaction, deployer_wallet)\n",
    "tx_hash = icon_service.send_transaction(signed_transaction)\n",
    "get_tx_result(tx_hash)"
   ]
  },
  {
   "cell_type": "markdown",
   "metadata": {},
   "source": [
    "# Withdrawing ICX "
   ]
  },
  {
   "cell_type": "code",
   "execution_count": null,
   "metadata": {},
   "outputs": [],
   "source": [
    "deployer_wallet=wallet_selector()\n",
    "params = {\"_amount\": 250 * 10 ** 18}\n",
    "call_transaction = CallTransactionBuilder() \\\n",
    "    .from_(deployer_wallet.get_address())\\\n",
    "    .to(contracts['oICX'])\\\n",
    "    .nid(3) \\\n",
    "    .step_limit(10000000) \\\n",
    "    .nonce(100) \\\n",
    "    .method(\"redeem\") \\\n",
    "    .params(params) \\\n",
    "    .build()\n",
    "signed_transaction = SignedTransaction(call_transaction, deployer_wallet)\n",
    "tx_hash = icon_service.send_transaction(signed_transaction)\n",
    "get_tx_result(tx_hash)"
   ]
  },
  {
   "cell_type": "markdown",
   "metadata": {},
   "source": [
    "# Borrow sICX"
   ]
  },
  {
   "cell_type": "code",
   "execution_count": null,
   "metadata": {},
   "outputs": [],
   "source": [
    "deployer_wallet=wallet_selector()\n",
    "params ={\"_reserve\": contracts['sicx'], \"_amount\":150 * 10 ** 18 }\n",
    "call_transaction = CallTransactionBuilder()\\\n",
    "    .from_(deployer_wallet.get_address())\\\n",
    "    .to(contracts['lendingPool']) \\\n",
    "    .nid(NID) \\\n",
    "    .nonce(100) \\\n",
    "    .method(\"borrow\")\\\n",
    "    .params(params)\\\n",
    "    .build()\n",
    "\n",
    "estimate_step = icon_service.estimate_step(call_transaction)\n",
    "step_limit = estimate_step + 100000\n",
    "# Returns the signed transaction object having a signature\n",
    "signed_transaction = SignedTransaction(call_transaction, deployer_wallet,step_limit)\n",
    "\n",
    "# Reads params to transfer to nodes\n",
    "print(signed_transaction.signed_transaction_dict)\n",
    "\n",
    "# Sends the transaction\n",
    "tx_hash = icon_service.send_transaction(signed_transaction)\n",
    "get_tx_result(tx_hash)"
   ]
  },
  {
   "cell_type": "markdown",
   "metadata": {},
   "source": [
    "# Repay sICX"
   ]
  },
  {
   "cell_type": "code",
   "execution_count": null,
   "metadata": {},
   "outputs": [],
   "source": [
    "deployer_wallet=wallet_selector()\n",
    "data = \"{\\\"method\\\": \\\"repay\\\", \\\"params\\\": {\\\"amount\\\": 100 * 10 ** 18}}\".encode(\"utf-8\")\n",
    "params = {\"_to\": contracts['lendingPool'], \"_value\": 100 * 10 ** 18, \"_data\": data}\n",
    "transaction = CallTransactionBuilder()\\\n",
    "    .from_(deployer_wallet.get_address())\\\n",
    "    .to(contracts['sicx'])\\\n",
    "    .value(0)\\\n",
    "    .step_limit(10000000)\\\n",
    "    .nid(3)\\\n",
    "    .nonce(100)\\\n",
    "    .method(\"transfer\")\\\n",
    "    .params(params)\\\n",
    "    .build()\n",
    "signed_transaction = SignedTransaction(transaction, deployer_wallet)\n",
    "tx_hash = icon_service.send_transaction(signed_transaction)\n",
    "get_tx_result(tx_hash)"
   ]
  },
  {
   "source": [
    "### Change price of oracle's ICX before testing liquidation"
   ],
   "cell_type": "markdown",
   "metadata": {}
  },
  {
   "cell_type": "code",
   "execution_count": null,
   "metadata": {},
   "outputs": [],
   "source": [
    "settings = [{'contract': 'priceOracle', 'method': 'set_reference_data', 'params':{'_base':'sICX','_quote':'USD','_rate':37*10**16}}]"
   ]
  },
  {
   "cell_type": "code",
   "execution_count": null,
   "metadata": {},
   "outputs": [],
   "source": [
    "for sett in settings:\n",
    "    print(f'\\n')\n",
    "    print(f'Calling {sett[\"method\"]}, with parameters {sett[\"params\"]} on the {sett[\"contract\"]} contract.')\n",
    "    transaction = CallTransactionBuilder()\\\n",
    "        .from_(deployer_wallet1.get_address())\\\n",
    "        .to(contracts[sett['contract']])\\\n",
    "        .value(0)\\\n",
    "        .step_limit(10000000)\\\n",
    "        .nid(NID)\\\n",
    "        .nonce(100)\\\n",
    "        .method(sett['method'])\\\n",
    "        .params(sett['params'])\\\n",
    "        .build()\n",
    "    signed_transaction = SignedTransaction(transaction, deployer_wallet)\n",
    "    tx_hash = icon_service.send_transaction(signed_transaction)\n",
    "    tx_hash\n",
    "    print(get_tx_result(tx_hash))"
   ]
  },
  {
   "source": [
    "## Liquidataion Call"
   ],
   "cell_type": "markdown",
   "metadata": {}
  },
  {
   "cell_type": "code",
   "execution_count": 52,
   "metadata": {},
   "outputs": [
    {
     "output_type": "error",
     "ename": "SyntaxError",
     "evalue": "invalid syntax (<ipython-input-52-d0cd53030c5c>, line 5)",
     "traceback": [
      "\u001b[0;36m  File \u001b[0;32m\"<ipython-input-52-d0cd53030c5c>\"\u001b[0;36m, line \u001b[0;32m5\u001b[0m\n\u001b[0;31m    _loanPayoffAmount =\u001b[0m\n\u001b[0m                        ^\u001b[0m\n\u001b[0;31mSyntaxError\u001b[0m\u001b[0;31m:\u001b[0m invalid syntax\n"
     ]
    }
   ],
   "source": [
    "#Specify the wallet of the borrower\n",
    "_borrowerUser = wallet_selector()\n",
    "#Specify the wallet with which you wish to repay _borrowUser's borrowed asset\n",
    "_liquidatorUser = liquidator_wallet.get_address()\n",
    "_loanPayoffAmount = \n",
    "depositData = {'method': 'liquidationCall', 'params': \n",
    "            {'_collateral': contracts['sicx'],\n",
    "            '_reserve': contracts['sample_token'],\n",
    "            '_user': _borrowerUser.get_address(),\n",
    "            '_purchaseAmount': _loanPayoffAmount}}\n",
    "data = json.dumps(depositData).encode('utf-8')\n",
    "params = {\"_to\": contracts['lendingPool'],\n",
    "            \"_value\": _loanPayoffAmount, \"_data\": data}\n",
    "call_transaction = CallTransactionBuilder() \\\n",
    "    .from_(_liquidatorUser.get_address()) \\\n",
    "    .to(contracts['sample_token']) \\\n",
    "    .nid(3) \\\n",
    "    .step_limit(10000000) \\\n",
    "    .nonce(100) \\\n",
    "    .method(\"transfer\") \\\n",
    "    .params(params) \\\n",
    "    .build()\n",
    "signed_transaction = SignedTransaction(call_transaction, _liquidatorUser)\n",
    "tx_hash = icon_service.send_transaction(signed_transaction)\n",
    "get_tx_result(tx_hash)"
   ]
  },
  {
   "cell_type": "markdown",
   "metadata": {},
   "source": [
    "# Readonly methods to get data"
   ]
  },
  {
   "cell_type": "markdown",
   "metadata": {},
   "source": [
    "## Getting specific reserve data"
   ]
  },
  {
   "cell_type": "markdown",
   "metadata": {},
   "source": [
    "### This returns the reserve data of USDb"
   ]
  },
  {
   "cell_type": "code",
   "execution_count": 25,
   "metadata": {
    "tags": []
   },
   "outputs": [
    {
     "output_type": "stream",
     "name": "stdout",
     "text": [
      "{'availableLiquidity': 3500.0,\n 'baseLTVasCollateral': 0.33,\n 'borrowCumulativeIndex': 1.0,\n 'borrowRate': 0.018333333333333333,\n 'borrowingEnabled': '0x1',\n 'decimals': 1.8e-17,\n 'isActive': '0x1',\n 'isFreezed': '0x0',\n 'lastUpdateTimestamp': 1607490593422876,\n 'liquidationBonus': 1e-17,\n 'liquidationThreshold': 0.65,\n 'liquidityCumulativeIndex': 1.0,\n 'liquidityRate': 0.0020625,\n 'oTokenAddress': 'cx9fa4a72a27f62cb5619d392612c888462a0b7d3e',\n 'reserveAddress': 'cx47cc26110b7346d0038765908ca363948c478f48',\n 'totalBorrows': 500.0,\n 'totalLiquidity': 4000.0,\n 'usageAsCollateralEnabled': '0x1'}\n"
     ]
    }
   ],
   "source": [
    "params = {'_reserve': contracts['sample_token']}\n",
    "_call = CallBuilder()\\\n",
    "    .from_(deployer_wallet1.get_address())\\\n",
    "    .to(contracts['lendingPoolDataProvider'])\\\n",
    "    .method(\"getReserveData\")\\\n",
    "    .params(params)\\\n",
    "    .build()\n",
    "response = icon_service.call(_call)\n",
    "for key,values in response.items():\n",
    "    if values==\"0x1\" or values ==\"0x0\" or \"Address\" in key:\n",
    "        continue\n",
    "    if key!=\"lastUpdateTimestamp\":\n",
    "        response[key]=int(values,0)/10**18\n",
    "    else:\n",
    "        response[key]=int(values,0)\n",
    "\n",
    "pprint(response)"
   ]
  },
  {
   "cell_type": "markdown",
   "metadata": {},
   "source": [
    "### This method returns the reserve data of sICX"
   ]
  },
  {
   "cell_type": "code",
   "execution_count": 26,
   "metadata": {},
   "outputs": [
    {
     "output_type": "stream",
     "name": "stdout",
     "text": [
      "{'availableLiquidity': 5000.0,\n 'baseLTVasCollateral': 0.33,\n 'borrowCumulativeIndex': 1.0,\n 'borrowRate': '0x0',\n 'borrowingEnabled': '0x1',\n 'decimals': 1.8e-17,\n 'isActive': '0x1',\n 'isFreezed': '0x0',\n 'lastUpdateTimestamp': 1607489922569025,\n 'liquidationBonus': 1e-17,\n 'liquidationThreshold': 0.65,\n 'liquidityCumulativeIndex': 1.0,\n 'liquidityRate': '0x0',\n 'oTokenAddress': 'cx8c4af6ca127778a83731f2a2fd8de3bc2dd91ddf',\n 'reserveAddress': 'cx2ec4b2b183c5ff417c55f64bf67374a8061d83e5',\n 'totalBorrows': '0x0',\n 'totalLiquidity': 5000.0,\n 'usageAsCollateralEnabled': '0x1'}\n"
     ]
    }
   ],
   "source": [
    "params = {'_reserve': contracts['sicx']}\n",
    "_call = CallBuilder()\\\n",
    "    .from_(deployer_wallet1.get_address())\\\n",
    "    .to(contracts['lendingPoolDataProvider'])\\\n",
    "    .method(\"getReserveData\")\\\n",
    "    .params(params)\\\n",
    "    .build()\n",
    "response = icon_service.call(_call)\n",
    "for key,values in response.items():\n",
    "    if values==\"0x1\" or values ==\"0x0\" or \"Address\" in key:\n",
    "        continue\n",
    "    if key!=\"lastUpdateTimestamp\":\n",
    "        response[key]=int(values,0)/10**18\n",
    "    else:\n",
    "        response[key]=int(values,0)\n",
    "\n",
    "pprint(response)"
   ]
  },
  {
   "cell_type": "markdown",
   "metadata": {},
   "source": [
    "## Getting data of all reserves"
   ]
  },
  {
   "cell_type": "markdown",
   "metadata": {},
   "source": [
    "### This returns the reserve data of all the reserves"
   ]
  },
  {
   "cell_type": "code",
   "execution_count": 7,
   "metadata": {
    "tags": []
   },
   "outputs": [
    {
     "output_type": "stream",
     "name": "stdout",
     "text": [
      "{'USDb': {'availableLiquidity': '0x0',\n          'baseLTVasCollateral': 0.33,\n          'borrowCumulativeIndex': 1.0,\n          'borrowRate': '0x0',\n          'borrowingEnabled': '0x1',\n          'decimals': 1.8e-17,\n          'isActive': '0x1',\n          'isFreezed': '0x0',\n          'lastUpdateTimestamp': '0x0',\n          'liquidationBonus': 0.1,\n          'liquidationThreshold': 0.65,\n          'liquidityCumulativeIndex': 1.0,\n          'liquidityRate': '0x0',\n          'oTokenAddress': 'cxdac7ce0ae363d472cb5b76e095b5616a77a3116c',\n          'reserveAddress': 'cx46a9cf5b7570f98dfbf1ad19063cdc2e2fe52ad7',\n          'totalBorrows': '0x0',\n          'totalLiquidity': '0x0',\n          'usageAsCollateralEnabled': '0x1'},\n 'sICX': {'availableLiquidity': '0x0',\n          'baseLTVasCollateral': 0.33,\n          'borrowCumulativeIndex': 1.0,\n          'borrowRate': '0x0',\n          'borrowingEnabled': '0x1',\n          'decimals': 1.8e-17,\n          'isActive': '0x1',\n          'isFreezed': '0x0',\n          'lastUpdateTimestamp': '0x0',\n          'liquidationBonus': 0.1,\n          'liquidationThreshold': 0.65,\n          'liquidityCumulativeIndex': 1.0,\n          'liquidityRate': '0x0',\n          'oTokenAddress': 'cxfcc178d49f93f613f08be50cd5623608ee42aa0a',\n          'reserveAddress': 'cxd73ab33bd4cf1569271bd1f9e7dd6ab3f6f32b59',\n          'totalBorrows': '0x0',\n          'totalLiquidity': '0x0',\n          'usageAsCollateralEnabled': '0x1'}}\n"
     ]
    }
   ],
   "source": [
    "params = {'_reserve': contracts['sample_token']}\n",
    "_call = CallBuilder()\\\n",
    "    .from_(deployer_wallet1.get_address())\\\n",
    "    .to(contracts['lendingPoolDataProvider'])\\\n",
    "    .method(\"getAllReserveData\")\\\n",
    "    .build()\n",
    "response = icon_service.call(_call)\n",
    "for key,values in response.items():\n",
    "    for k,v in values.items():\n",
    "        if v==\"0x1\" or v ==\"0x0\" or \"Address\" in k:\n",
    "            continue\n",
    "        if k!=\"lastUpdateTimestamp\":\n",
    "            response[key][k]=int(v,0)/10**18\n",
    "        else:\n",
    "            response[key][k]=int(v,0)\n",
    "pprint(response)"
   ]
  },
  {
   "cell_type": "markdown",
   "metadata": {},
   "source": [
    "## Getting user account data"
   ]
  },
  {
   "cell_type": "markdown",
   "metadata": {},
   "source": [
    "### Returns the user data of all the reserves combined"
   ]
  },
  {
   "cell_type": "code",
   "execution_count": 37,
   "metadata": {
    "tags": []
   },
   "outputs": [
    {
     "output_type": "stream",
     "name": "stdout",
     "text": [
      "{'borrowingPower': 0.0,\n 'currentLiquidationThreshold': 0.0,\n 'currentLtv': 0.0,\n 'healthFactor': -1e-18,\n 'healthFactorBelowThreshold': 0.0,\n 'totalBorrowBalanceUSD': 0.0,\n 'totalCollateralBalanceUSD': 0.0,\n 'totalFeesUSD': 0.0,\n 'totalLiquidityBalanceUSD': 0.0}\n"
     ]
    }
   ],
   "source": [
    "deployer_wallet=wallet_selector()\n",
    "params = {'_user': deployer_wallet.get_address()}\n",
    "_call = CallBuilder()\\\n",
    "    .from_(deployer_wallet.get_address())\\\n",
    "    .to(contracts['lendingPoolDataProvider'])\\\n",
    "    .method(\"getUserAccountData\")\\\n",
    "    .params(params)\\\n",
    "    .build()\n",
    "response = icon_service.call(_call)\n",
    "for key,values in response.items():\n",
    "    if key!=\"lastUpdateTimestamp\":\n",
    "        response[key]=int(values,0)/10**18\n",
    "    else:\n",
    "        response[key]=int(values,0)\n",
    "pprint(response)"
   ]
  },
  {
   "cell_type": "markdown",
   "metadata": {},
   "source": [
    "### Getting user reserve data for USDb reserve"
   ]
  },
  {
   "cell_type": "code",
   "execution_count": 39,
   "metadata": {
    "tags": []
   },
   "outputs": [
    {
     "output_type": "stream",
     "name": "stdout",
     "text": [
      "{'borrowRate': 0.018333333333333333,\n 'currentBorrowBalance': 0.0,\n 'currentBorrowBalanceUSD': 0.0,\n 'currentOTokenBalance': 0.0,\n 'currentOTokenBalanceUSD': 0.0,\n 'lastUpdateTimestamp': 0,\n 'liquidityRate': 0.0020625,\n 'originationFee': 0.0,\n 'principalBorrowBalance': 0.0,\n 'principalBorrowBalanceUSD': 0.0,\n 'useAsCollateral': 0.0,\n 'userBorrowCumulativeIndex': 0.0}\n"
     ]
    }
   ],
   "source": [
    "deployer_wallet=wallet_selector()\n",
    "params = {'_user': deployer_wallet.get_address() ,\"_reserve\":contracts['sample_token']}\n",
    "_call = CallBuilder()\\\n",
    "    .from_(deployer_wallet.get_address())\\\n",
    "    .to(contracts['lendingPoolDataProvider'])\\\n",
    "    .method(\"getUserReserveData\")\\\n",
    "    .params(params)\\\n",
    "    .build()\n",
    "response = icon_service.call(_call)\n",
    "for key,values in response.items():\n",
    "    if key!=\"lastUpdateTimestamp\":\n",
    "        response[key]=int(values,0)/10**18\n",
    "    else:\n",
    "        response[key]=int(values,0)\n",
    "pprint(response)"
   ]
  },
  {
   "cell_type": "markdown",
   "metadata": {},
   "source": [
    "### Getting user reserve data for sICX reserve"
   ]
  },
  {
   "cell_type": "code",
   "execution_count": 16,
   "metadata": {},
   "outputs": [
    {
     "name": "stdout",
     "output_type": "stream",
     "text": [
      "{'borrowRate': 0.0,\n",
      " 'currentBorrowBalance': 0.0,\n",
      " 'currentBorrowBalanceUSD': 0.0,\n",
      " 'currentOTokenBalance': 0.0,\n",
      " 'currentOTokenBalanceUSD': 0.0,\n",
      " 'lastUpdateTimestamp': 0,\n",
      " 'liquidityRate': 0.0,\n",
      " 'originationFee': 0.0,\n",
      " 'principalBorrowBalance': 0.0,\n",
      " 'principalBorrowBalanceUSD': 0.0,\n",
      " 'useAsCollateral': 0.0,\n",
      " 'userBorrowCumulativeIndex': 0.0}\n"
     ]
    }
   ],
   "source": [
    "deployer_wallet=wallet_selector()\n",
    "params = {'_user': deployer_wallet.get_address() ,\"_reserve\":contracts['sicx']}\n",
    "_call = CallBuilder()\\\n",
    "    .from_(deployer_wallet.get_address())\\\n",
    "    .to(contracts['lendingPoolDataProvider'])\\\n",
    "    .method(\"getUserReserveData\")\\\n",
    "    .params(params)\\\n",
    "    .build()\n",
    "response = icon_service.call(_call)\n",
    "for key,values in response.items():\n",
    "    if key!=\"lastUpdateTimestamp\":\n",
    "        response[key]=int(values,0)/10**18\n",
    "    else:\n",
    "        response[key]=int(values,0)\n",
    "pprint(response)"
   ]
  },
  {
   "cell_type": "markdown",
   "metadata": {},
   "source": [
    "### Getting the data of user for all reserves"
   ]
  },
  {
   "cell_type": "code",
   "execution_count": 12,
   "metadata": {
    "tags": []
   },
   "outputs": [
    {
     "output_type": "stream",
     "name": "stdout",
     "text": [
      "{'USDb': {'borrowRate': 0.0,\n          'currentBorrowBalance': 0.0,\n          'currentBorrowBalanceUSD': 0.0,\n          'currentOTokenBalance': 0.0,\n          'currentOTokenBalanceUSD': 0.0,\n          'lastUpdateTimestamp': 0,\n          'liquidityRate': 0.0,\n          'originationFee': 0.0,\n          'principalBorrowBalance': 0.0,\n          'principalBorrowBalanceUSD': 0.0,\n          'useAsCollateral': 0.0,\n          'userBorrowCumulativeIndex': 0.0},\n 'sICX': {'borrowRate': 0.0,\n          'currentBorrowBalance': 0.0,\n          'currentBorrowBalanceUSD': 0.0,\n          'currentOTokenBalance': 0.0,\n          'currentOTokenBalanceUSD': 0.0,\n          'lastUpdateTimestamp': 0,\n          'liquidityRate': 0.0,\n          'originationFee': 0.0,\n          'principalBorrowBalance': 0.0,\n          'principalBorrowBalanceUSD': 0.0,\n          'useAsCollateral': 0.0,\n          'userBorrowCumulativeIndex': 0.0}}\n"
     ]
    }
   ],
   "source": [
    "deployer_wallet=wallet_selector()\n",
    "params = {'_user': deployer_wallet.get_address()}\n",
    "_call = CallBuilder()\\\n",
    "    .from_(deployer_wallet.get_address())\\\n",
    "    .to(contracts['lendingPoolDataProvider'])\\\n",
    "    .method(\"getUserAllReserveData\")\\\n",
    "    .params(params)\\\n",
    "    .build()\n",
    "response = icon_service.call(_call)\n",
    "for key,values in response.items():\n",
    "    for k,v in values.items():\n",
    "        if k!=\"lastUpdateTimestamp\":\n",
    "            response[key][k]=int(v,0)/10**18\n",
    "        else:\n",
    "            response[key][k]=int(v,0)\n",
    "pprint(response)"
   ]
  },
  {
   "cell_type": "markdown",
   "metadata": {},
   "source": [
    "## Get reserve configurations\n"
   ]
  },
  {
   "cell_type": "markdown",
   "metadata": {},
   "source": [
    "### Getting configuration of USDb reserve"
   ]
  },
  {
   "cell_type": "code",
   "execution_count": 11,
   "metadata": {
    "tags": []
   },
   "outputs": [
    {
     "output_type": "stream",
     "name": "stdout",
     "text": [
      "{'baseLTVasCollateral': 330000000000000000,\n 'borrowingEnabled': 1,\n 'decimals': 18,\n 'isActive': 1,\n 'liquidationBonus': 100000000000000000,\n 'liquidationThreshold': 650000000000000000,\n 'usageAsCollateralEnabled': 1}\n"
     ]
    }
   ],
   "source": [
    "params = {\"_reserve\":contracts['sample_token']}\n",
    "_call = CallBuilder()\\\n",
    "    .from_(deployer_wallet1.get_address())\\\n",
    "    .to(contracts['lendingPoolDataProvider'])\\\n",
    "    .method(\"getReserveConfigurationData\")\\\n",
    "    .params(params)\\\n",
    "    .build()\n",
    "response = icon_service.call(_call)\n",
    "for key,values in response.items():\n",
    "    response[key]=int(values,0)\n",
    "pprint(response)\n"
   ]
  },
  {
   "cell_type": "markdown",
   "metadata": {},
   "source": [
    "### Getting configuration of sICX reserve"
   ]
  },
  {
   "cell_type": "code",
   "execution_count": 17,
   "metadata": {},
   "outputs": [
    {
     "name": "stdout",
     "output_type": "stream",
     "text": [
      "{'baseLTVasCollateral': 330000000000000000,\n",
      " 'borrowingEnabled': 1,\n",
      " 'decimals': 18,\n",
      " 'isActive': 1,\n",
      " 'liquidationBonus': 10,\n",
      " 'liquidationThreshold': 650000000000000000,\n",
      " 'usageAsCollateralEnabled': 1}\n"
     ]
    }
   ],
   "source": [
    "params = {\"_reserve\":contracts['sicx']}\n",
    "_call = CallBuilder()\\\n",
    "    .from_(deployer_wallet.get_address())\\\n",
    "    .to(contracts['lendingPoolDataProvider'])\\\n",
    "    .method(\"getReserveConfigurationData\")\\\n",
    "    .params(params)\\\n",
    "    .build()\n",
    "response = icon_service.call(_call)\n",
    "for key,values in response.items():\n",
    "    response[key]=int(values,0)\n",
    "pprint(response)"
   ]
  },
  {
   "cell_type": "markdown",
   "metadata": {},
   "source": [
    "### Get all reserves configurations"
   ]
  },
  {
   "cell_type": "code",
   "execution_count": 40,
   "metadata": {
    "tags": []
   },
   "outputs": [
    {
     "output_type": "stream",
     "name": "stdout",
     "text": [
      "{'USDb': {'baseLTVasCollateral': 330000000000000000,\n          'borrowingEnabled': 1,\n          'decimals': 18,\n          'isActive': 1,\n          'liquidationBonus': 10,\n          'liquidationThreshold': 650000000000000000,\n          'usageAsCollateralEnabled': 1},\n 'sICX': {'baseLTVasCollateral': 330000000000000000,\n          'borrowingEnabled': 1,\n          'decimals': 18,\n          'isActive': 1,\n          'liquidationBonus': 10,\n          'liquidationThreshold': 650000000000000000,\n          'usageAsCollateralEnabled': 1}}\n"
     ]
    }
   ],
   "source": [
    "_call = CallBuilder()\\\n",
    "    .from_(deployer_wallet.get_address())\\\n",
    "    .to(contracts['lendingPoolDataProvider'])\\\n",
    "    .method(\"getAllReserveConfigurationData\")\\\n",
    "    .build()\n",
    "response = icon_service.call(_call)\n",
    "for key,values in response.items():\n",
    "    for k,v in values.items():\n",
    "        response[key][k]=int(v,0)\n",
    "pprint(response)\n"
   ]
  },
  {
   "cell_type": "markdown",
   "metadata": {},
   "source": [
    "### Printing ICX balance from respective wallets"
   ]
  },
  {
   "cell_type": "code",
   "execution_count": 21,
   "metadata": {
    "tags": []
   },
   "outputs": [
    {
     "output_type": "stream",
     "name": "stdout",
     "text": [
      "ICX balance of deployer_wallet1 78699953909126200000000000\n",
      "ICX balance of deployer_wallet2 0\n",
      "ICX balance of deployer_wallet3 0\n",
      "ICX balance of liquidator_wallet 0\n"
     ]
    }
   ],
   "source": [
    "print('ICX balance of deployer_wallet1', icon_service.get_balance(deployer_wallet1.get_address()))\n",
    "print('ICX balance of deployer_wallet2',icon_service.get_balance(deployer_wallet2.get_address())) \n",
    "print('ICX balance of deployer_wallet3',icon_service.get_balance(deployer_wallet3.get_address()))\n",
    "print('ICX balance of liquidator_wallet',icon_service.get_balance(liquidator_wallet.get_address()))  "
   ]
  },
  {
   "cell_type": "markdown",
   "metadata": {},
   "source": [
    "## Realtime USDb balance of user(with accrued interest)"
   ]
  },
  {
   "cell_type": "code",
   "execution_count": 27,
   "metadata": {
    "tags": []
   },
   "outputs": [
    {
     "output_type": "stream",
     "name": "stdout",
     "text": [
      "0\n"
     ]
    }
   ],
   "source": [
    "deployer_wallet=wallet_selector()\n",
    "params = {'_owner': deployer_wallet.get_address() }\n",
    "_call = CallBuilder()\\\n",
    "    .from_(deployer_wallet.get_address())\\\n",
    "    .to(contracts['oToken'])\\\n",
    "    .method(\"balanceOf\")\\\n",
    "    .params(params)\\\n",
    "    .build()\n",
    "response = icon_service.call(_call)\n",
    "\n",
    "print(int(response,0))"
   ]
  },
  {
   "cell_type": "markdown",
   "metadata": {},
   "source": [
    "## Realtime ICX balance of user(with accured interest)"
   ]
  },
  {
   "cell_type": "code",
   "execution_count": 21,
   "metadata": {},
   "outputs": [
    {
     "name": "stdout",
     "output_type": "stream",
     "text": [
      "0\n"
     ]
    }
   ],
   "source": [
    "deployer_wallet=wallet_selector()\n",
    "params = {'_owner': deployer_wallet.get_address() }\n",
    "_call = CallBuilder()\\\n",
    "    .from_(deployer_wallet.get_address())\\\n",
    "    .to(contracts['oICX'])\\\n",
    "    .method(\"balanceOf\")\\\n",
    "    .params(params)\\\n",
    "    .build()\n",
    "response = icon_service.call(_call)\n",
    "\n",
    "print(int(response,0))\n"
   ]
  },
  {
   "cell_type": "markdown",
   "metadata": {},
   "source": [
    "### Printing USDb balance from respective wallets"
   ]
  },
  {
   "cell_type": "code",
   "execution_count": 24,
   "metadata": {
    "tags": []
   },
   "outputs": [
    {
     "output_type": "stream",
     "name": "stdout",
     "text": [
      "USDb balance of  hx91bf040426f226b3bfcd2f0b5967bbb0320525ce is 497000000000000000000000000\n",
      "USDb balance of  hxd29037f1eb8c3f0e8630d797edc7410507c0089a is 1000000000000000000000000\n",
      "USDb balance of  hx66ee5acace86d9ce23127599b7c9daae70c9d7c1 is 1000000000000000000000000\n",
      "USDb balance of  hx65902dd4139d04765534a4539319be874ad7aa0b is 1000000000000000000000000\n"
     ]
    }
   ],
   "source": [
    " wallets = [deployer_wallet1, deployer_wallet2, deployer_wallet3, liquidator_wallet]\n",
    " for wallet in wallets:\n",
    "    params = {'_owner': wallet.get_address()}\n",
    "    _call = CallBuilder() \\\n",
    "        .from_(wallet.get_address()) \\\n",
    "        .to(contracts['sample_token']) \\\n",
    "        .method(\"balanceOf\") \\\n",
    "        .params(params) \\\n",
    "        .build()\n",
    "    response = icon_service.call(_call)\n",
    "    print('USDb balance of ', wallet.get_address(), 'is' ,int(response,16))   "
   ]
  },
  {
   "cell_type": "markdown",
   "metadata": {},
   "source": [
    "### Printing sICX balance from respective wallets"
   ]
  },
  {
   "cell_type": "code",
   "execution_count": 24,
   "metadata": {
    "tags": []
   },
   "outputs": [
    {
     "output_type": "stream",
     "name": "stdout",
     "text": [
      "sICX balance of  hx91bf040426f226b3bfcd2f0b5967bbb0320525ce is 0\n",
      "sICX balance of  hx8c8ccc79c99375de5995ca6057cda7c334d9dd35 is 0\n",
      "sICX balance of  hx49c8a4c31e84b9abe7f8c8395eb7133b2151aeae is 0\n",
      "sICX balance of  hx5ee29ee6d08ce21fdfd0eea849042a9ce2b45102 is 0\n"
     ]
    }
   ],
   "source": [
    " wallets = [deployer_wallet1, deployer_wallet2, deployer_wallet3, liquidator_wallet]\n",
    " for wallet in wallets:\n",
    "    params = {'_owner': wallet.get_address()}\n",
    "    _call = CallBuilder() \\\n",
    "        .from_(wallet.get_address()) \\\n",
    "        .to(contracts['sicx']) \\\n",
    "        .method(\"balanceOf\") \\\n",
    "        .params(params) \\\n",
    "        .build()\n",
    "    response = icon_service.call(_call)\n",
    "    print('sICX balance of ', wallet.get_address(), 'is' ,int(response,16))   "
   ]
  },
  {
   "cell_type": "code",
   "execution_count": null,
   "metadata": {},
   "outputs": [],
   "source": []
  }
 ],
 "metadata": {
  "celltoolbar": "Slideshow",
  "kernelspec": {
   "display_name": "Python 3",
   "language": "python",
   "name": "python3"
  },
  "language_info": {
   "codemirror_mode": {
    "name": "ipython",
    "version": 3
   },
   "file_extension": ".py",
   "mimetype": "text/x-python",
   "name": "python",
   "nbconvert_exporter": "python",
   "pygments_lexer": "ipython3",
   "version": "3.8.3-final"
  },
  "rise": {
   "scroll": true
  }
 },
 "nbformat": 4,
 "nbformat_minor": 2
}