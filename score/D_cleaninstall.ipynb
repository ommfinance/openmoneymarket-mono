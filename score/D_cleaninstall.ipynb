{
 "cells": [
  {
   "cell_type": "markdown",
   "metadata": {
    "slideshow": {
     "slide_type": "slide"
    }
   },
   "source": [
    "# Jupyter Notebook to clean install all the contracts"
   ]
  },
  {
   "cell_type": "markdown",
   "metadata": {},
   "source": [
    "# Set Up Environment"
   ]
  },
  {
   "cell_type": "code",
   "execution_count": 29,
   "metadata": {},
   "outputs": [],
   "source": [
    "network = \"custom\"  # set this to one of mainnet, yeouido, euljiro, pagoda, or custom\n",
    "contracts_file_custom = 'custom_contracts_20201209164911.pkl'\n",
    "#contracts_20201109120425\n",
    "\n",
    "connections = {\n",
    "\"mainnet\": {\"iconservice\": \"https://ctz.solidwallet.io\",       \"nid\": 1},\n",
    "\"yeouido\": {\"iconservice\": \"https://bicon.net.solidwallet.io\", \"nid\": 3},\n",
    "\"euljiro\": {\"iconservice\": \"https://test-ctz.solidwallet.io\",  \"nid\": 2},\n",
    "\"pagoda\":  {\"iconservice\": \"https://zicon.net.solidwallet.io\", \"nid\":80},\n",
    "\"custom\":  {\"iconservice\": \"http://18.237.205.52:9000/\",       \"nid\": 3},\n",
    "\"local\":   {\"iconservice\": \"http://localhost:9000/\",           \"nid\": 3}\n",
    "}\n",
    "\n",
    "env = connections[network]"
   ]
  },
  {
   "cell_type": "code",
   "execution_count": 30,
   "metadata": {},
   "outputs": [],
   "source": [
    "class AutoVivification(dict):\n",
    "    \"\"\"Implementation of perl's autovivification feature.\"\"\"\n",
    "    def __getitem__(self, item):\n",
    "        try:\n",
    "            return dict.__getitem__(self, item)\n",
    "        except KeyError:\n",
    "            value = self[item] = type(self)()\n",
    "            return value\n",
    "            "
   ]
  },
  {
   "cell_type": "code",
   "execution_count": 31,
   "metadata": {
    "slideshow": {
     "slide_type": "-"
    }
   },
   "outputs": [],
   "source": [
    "from iconsdk.exception import JSONRPCException\n",
    "from iconsdk.libs.in_memory_zip import gen_deploy_data_content\n",
    "from iconsdk.icon_service import IconService\n",
    "from iconsdk.providers.http_provider import HTTPProvider\n",
    "from iconsdk.builder.transaction_builder import CallTransactionBuilder, TransactionBuilder, DeployTransactionBuilder\n",
    "from iconsdk.builder.call_builder import CallBuilder\n",
    "from iconsdk.signed_transaction import SignedTransaction\n",
    "from iconsdk.wallet.wallet import KeyWallet\n",
    "from iconsdk.utils.convert_type import convert_hex_str_to_int\n",
    "from datetime import datetime\n",
    "from repeater import retry\n",
    "from shutil import make_archive\n",
    "import requests\n",
    "import json\n",
    "import pickle as pkl\n",
    "import csv\n",
    "import os\n",
    "from pprint import pprint\n",
    "from getpass import getpass\n",
    "\n",
    "\n",
    "ICX = 1000000000000000000 # 10**18\n",
    "GOVERNANCE_ADDRESS = \"cx0000000000000000000000000000000000000000\"\n",
    "\n",
    "with open(contracts_file_custom, 'rb') as f:\n",
    "    contracts = pkl.load(f)\n",
    "\n",
    "@retry(JSONRPCException, tries=10, delay=1, back_off=2)\n",
    "def get_tx_result(_tx_hash):\n",
    "    tx_result = icon_service.get_transaction_result(_tx_hash)\n",
    "    return tx_result\n",
    "\n",
    "\n"
   ]
  },
  {
   "cell_type": "markdown",
   "metadata": {
    "slideshow": {
     "slide_type": "-"
    }
   },
   "source": [
    "### Required service"
   ]
  },
  {
   "cell_type": "code",
   "execution_count": 32,
   "metadata": {},
   "outputs": [],
   "source": [
    "icon_service = IconService(HTTPProvider(env[\"iconservice\"], 3))\n",
    "NID = env[\"nid\"]"
   ]
  },
  {
   "cell_type": "markdown",
   "metadata": {
    "slideshow": {
     "slide_type": "-"
    }
   },
   "source": [
    "# Importing wallet"
   ]
  },
  {
   "cell_type": "markdown",
   "metadata": {},
   "source": [
    "### Importing from private key and printing ICX balance"
   ]
  },
  {
   "cell_type": "code",
   "execution_count": 33,
   "metadata": {
    "scrolled": true,
    "tags": []
   },
   "outputs": [
    {
     "output_type": "stream",
     "name": "stdout",
     "text": [
      "hx91bf040426f226b3bfcd2f0b5967bbb0320525ce\nhx8c8ccc79c99375de5995ca6057cda7c334d9dd35\nhx49c8a4c31e84b9abe7f8c8395eb7133b2151aeae\n"
     ]
    }
   ],
   "source": [
    "private1=\"a691ef7d5601f9b5be4f9b9d80215159ea6ff0b88003e3d34e078d40e778b39a\"\n",
    "deployer_wallet1 = KeyWallet.load(bytes.fromhex(private1))\n",
    "print(deployer_wallet1.get_address())\n",
    "\n",
    "private2=\"94a1471d2fa8114f585bb0c7baca343b2d57d2c65b2d9c0f461da828e3741f04\"\n",
    "deployer_wallet2 = KeyWallet.load(bytes.fromhex(private2))\n",
    "print(deployer_wallet2.get_address())\n",
    "\n",
    "private3=\"d7776d1ae9103bd49eeed8463e4ce50480b1f4bc760108325415998c239fcee5\"\n",
    "deployer_wallet3 = KeyWallet.load(bytes.fromhex(private3))\n",
    "print(deployer_wallet3.get_address())"
   ]
  },
  {
   "source": [
    "### Function to switch wallets to run transaction"
   ],
   "cell_type": "markdown",
   "metadata": {}
  },
  {
   "cell_type": "code",
   "execution_count": 34,
   "metadata": {},
   "outputs": [],
   "source": [
    "wallets={'1':deployer_wallet1,'2':deployer_wallet2,'3':deployer_wallet3}\n",
    "def wallet_selector():\n",
    "    wallet=input(\"Enter the wallet from which you want to run the transaction\")\n",
    "    if str(wallet) not in wallets.keys():\n",
    "        print(\"invalid wallet selected\")\n",
    "        return null\n",
    "    return wallets[str(wallet)]\n"
   ]
  },
  {
   "cell_type": "code",
   "execution_count": 35,
   "metadata": {
    "tags": []
   },
   "outputs": [
    {
     "output_type": "stream",
     "name": "stdout",
     "text": [
      "{'addressProvider': 'cx80d57aa1449fc069aed0381c0307de92b1bff695',\n 'feeProvider': 'cx3b42ca09c085d7910cd3c79b8a214260d2ad7e29',\n 'lendingPool': 'cxc9be0cf0cae369362b6f2c1e618190b850d57920',\n 'lendingPoolCore': 'cxc34e4610de51d36edddcb8822e393dcbb14603a4',\n 'lendingPoolDataProvider': 'cx64dbfc2b86a0cf7aaa52bcb10a946474f18e3dd4',\n 'liquidationManager': 'cxea4d68bccfb8f24afe74fd9f8894d630784b3cbe',\n 'oICX': 'cxfcc178d49f93f613f08be50cd5623608ee42aa0a',\n 'oToken': 'cxdac7ce0ae363d472cb5b76e095b5616a77a3116c',\n 'priceOracle': 'cx9c896c8c781d7accd1a3ba5b2e5e5c728e8c00aa',\n 'sample_token': 'cx46a9cf5b7570f98dfbf1ad19063cdc2e2fe52ad7',\n 'sicx': 'cxd73ab33bd4cf1569271bd1f9e7dd6ab3f6f32b59'}\n"
     ]
    }
   ],
   "source": [
    "#wallet=wallet_selector()\n",
    "#print(wallet.get_address())\n",
    "pprint(contracts)"
   ]
  },
  {
   "cell_type": "markdown",
   "metadata": {},
   "source": [
    "# Depositing USDb from a wallet"
   ]
  },
  {
   "cell_type": "code",
   "execution_count": 10,
   "metadata": {
    "tags": []
   },
   "outputs": [
    {
     "output_type": "stream",
     "name": "stderr",
     "text": "Raised JSONRPCException while returning the custom response. Error message: {'code': -32602, 'message': 'Pending transaction'}\n{'code': -32602, 'message': 'Pending transaction'} (Json rpc error), Retrying in 1 seconds...\nRaised JSONRPCException while returning the custom response. Error message: {'code': -32602, 'message': 'Pending transaction'}\n{'code': -32602, 'message': 'Pending transaction'} (Json rpc error), Retrying in 2 seconds...\n"
    },
    {
     "output_type": "execute_result",
     "data": {
      "text/plain": "{'txHash': '0xc4797ace918f983b1024f95d4f8cc8bf4972cfc5df96d2387f024e4254240606',\n 'blockHeight': 10142381,\n 'blockHash': '0x91fb2d6d920a5bd9ccac0943662e603c6bf9af211524559e1658e0518221a863',\n 'txIndex': 1,\n 'to': 'cx19be1be7b4e7750863edf966faac3f42dec21025',\n 'stepUsed': 834040,\n 'stepPrice': 10000000000,\n 'cumulativeStepUsed': 834040,\n 'eventLogs': [{'scoreAddress': 'cx327a386a9f8076045679fc132a8baa9e270ca43b',\n   'indexed': ['PrintData(str,int,int,int)',\n    'params check core line 408',\n    '0x3635c9adc5dea00000',\n    '0x0'],\n   'data': ['0x0']},\n  {'scoreAddress': 'cx327a386a9f8076045679fc132a8baa9e270ca43b',\n   'indexed': ['PrintData(str,int,int,int)',\n    'rate value core line 412',\n    '0x763c82d21c3a',\n    '0x26ab95c0320bff'],\n   'data': ['0x0']},\n  {'scoreAddress': 'cx327a386a9f8076045679fc132a8baa9e270ca43b',\n   'indexed': ['ReserveUpdated(Address,int,int,int,int)',\n    'cx19be1be7b4e7750863edf966faac3f42dec21025',\n    '0x763c82d21c3a',\n    '0x26ab95c0320bff'],\n   'data': ['0xde0b9c5b46071f3', '0xde1a0dc5082872a']},\n  {'scoreAddress': 'cx4258464e395b3ef3b73a146947eb41393e8c5873',\n   'indexed': ['Mint(Address,int)',\n    'hx91bf040426f226b3bfcd2f0b5967bbb0320525ce'],\n   'data': ['0x427fec603328']},\n  {'scoreAddress': 'cx4258464e395b3ef3b73a146947eb41393e8c5873',\n   'indexed': ['Mint(Address,int)',\n    'hx91bf040426f226b3bfcd2f0b5967bbb0320525ce'],\n   'data': ['0x3635c9adc5dea00000']},\n  {'scoreAddress': 'cx4258464e395b3ef3b73a146947eb41393e8c5873',\n   'indexed': ['MintOnDeposit(Address,int,int,int)',\n    'hx91bf040426f226b3bfcd2f0b5967bbb0320525ce',\n    '0x3635c9adc5dea00000',\n    '0x427fec603328'],\n   'data': ['0xde0b9c5b46071f3']},\n  {'scoreAddress': 'cx19be1be7b4e7750863edf966faac3f42dec21025',\n   'indexed': ['Transfer(Address,Address,int,bytes)',\n    'cx35b12ca4e9c672518db3c06d92ed60d50e7d5554',\n    'cx327a386a9f8076045679fc132a8baa9e270ca43b',\n    '0x3635c9adc5dea00000'],\n   'data': ['0x4e6f6e65']},\n  {'scoreAddress': 'cx35b12ca4e9c672518db3c06d92ed60d50e7d5554',\n   'indexed': ['Deposit(Address,Address,int,int)',\n    'cx19be1be7b4e7750863edf966faac3f42dec21025',\n    'hx91bf040426f226b3bfcd2f0b5967bbb0320525ce',\n    '0x3635c9adc5dea00000'],\n   'data': ['0x5b5d7e9e8e779']},\n  {'scoreAddress': 'cx19be1be7b4e7750863edf966faac3f42dec21025',\n   'indexed': ['Transfer(Address,Address,int,bytes)',\n    'hx91bf040426f226b3bfcd2f0b5967bbb0320525ce',\n    'cx35b12ca4e9c672518db3c06d92ed60d50e7d5554',\n    '0x3635c9adc5dea00000'],\n   'data': ['0x7b226d6574686f64223a20226465706f736974222c2022706172616d73223a207b22616d6f756e74223a20313030303030303030303030303030303030303030307d7d']}],\n 'logsBloom': b'\\x08\\x00\\x00\\x00\\x00\\x00\\x000\\x00\\x08\\x00  \\x00\\x00@\\x00\\x00\\x00\\x00\\x00\\x00\\x00@\\x00\\x00\\x00\\x04\\x00\\x00\\x00\\x00\\x00\\x00\\x00\\x00\\x02\\x00\\x12\\x00\\x00\\x00\\x00\\x00\\x00\\x00\\x00\\x00\\x00\\x00\\x01\\x80\\x00@\\x00\\x00\\x00\\x00\\x00\\x80\\x00\\x00\\x00\\x00\\x00\\x00\\x02\\x00\\x00\\x00\\x00\\x00A\\x00\\x00\\x10\\x01\\x00\\x00\\x00\\x80\\x82\\x00\\x00@\\x00\\x00\\x00\\x80\\x00\\x00\\x00\\x00\\x00\\x04\\x00\\x80\\x80\\x00`\\x00\\x00\\x00\\x00\\x00\\x00\\x00\\x00\\x00\\x00@\\x08\\x00\\x00\\x00\\x02\\x00\\x00\\x10\\x00\\x00\\x80\\x00\\x00\\x00 \\x00\\x00\\x00\\x03\\x000\\x00\\x00\\x00\\x00\\x00\\x00\\x00\\x00\\x00\\x05\\x00\\x00\\x00\\x01\\x01\\x02\\x00\\x00\\x00\\x00\\x00\\x00\\x00\\x00\\x00\\x10\\x00\\x10\\x00\\x00\\x00\\x00B \\x00\\x00\\x00\\x00\\x00\\x00\\x00\\x00\\x00\\x00\\x00\\x00\\x00@\\x00\\x00\\x00\\x80\\x00\\x00\\x00\\x00\\x00\\x10\\x00\\x00\\x00\\x00\\x00\\x00\\x00\\x00\\x00\\x04\\x00\\x00\\x00\\x00\\x00\\x02\\x00\\x00\\x00\\x00\\x00\\x01\\x00\\x03\\x00\\x08\\x00\\x02@\\x00\\x00\\x00\\x00\\x00\\x80\\x00\\x00\\x00\\x00\\x01\\t\\x02\\x00\\x00\\x00\\x02\\x00\\x00\\x00\\x00\\x00\\x00\\x00\\x00 \\x00\\x00\\x10\\x80\\x00\\x04\\x00\\x00\\x00\\x00\\x00',\n 'status': 1}"
     },
     "metadata": {},
     "execution_count": 10
    }
   ],
   "source": [
    "deployer_wallet=wallet_selector()\n",
    "data = \"{\\\"method\\\": \\\"deposit\\\", \\\"params\\\": {\\\"amount\\\": 1000000000000000000000}}\".encode(\"utf-8\")\n",
    "params = {\"_to\": contracts['lendingPool'], \"_value\": 1000000000000000000000, \"_data\": data}\n",
    "transaction = CallTransactionBuilder()\\\n",
    "    .from_(deployer_wallet.get_address())\\\n",
    "    .to(contracts['sample_token'])\\\n",
    "    .value(0)\\\n",
    "    .step_limit(10000000)\\\n",
    "    .nid(3)\\\n",
    "    .nonce(100)\\\n",
    "    .method(\"transfer\")\\\n",
    "    .params(params)\\\n",
    "    .build()\n",
    "signed_transaction = SignedTransaction(transaction, deployer_wallet)\n",
    "tx_hash = icon_service.send_transaction(signed_transaction)\n",
    "get_tx_result(tx_hash)"
   ]
  },
  {
   "cell_type": "markdown",
   "metadata": {},
   "source": [
    "# Borrowing USDb"
   ]
  },
  {
   "cell_type": "code",
   "execution_count": 75,
   "metadata": {
    "tags": []
   },
   "outputs": [
    {
     "name": "stdout",
     "output_type": "stream",
     "text": [
      "{'version': '0x3', 'from': 'hx91bf040426f226b3bfcd2f0b5967bbb0320525ce', 'to': 'cx9a1e70f60ee138d8e2c2eee0daf28a7d0645bd02', 'stepLimit': '0x11a350', 'timestamp': '0x5b3ab99c871a5', 'nid': '0x3', 'nonce': '0x64', 'dataType': 'call', 'data': {'method': 'borrow', 'params': {'_reserve': 'cx2c002610b8aeaff84f6cb97c28294b1986016143', '_amount': '0x821ab0d4414980000'}}, 'signature': 'nnBAhBv6BGeWZE63Rr6d02x+c/R36yjf49WvR/G5VLd6hz7tKN6lL6lG/kghrjVg0ZPWIf2KdJi+rmBPoRrFWAA='}\n",
      "Raised JSONRPCException while returning the custom response. Error message: {'code': -32602, 'message': 'Pending transaction'}\n",
      "{'code': -32602, 'message': 'Pending transaction'} (Json rpc error), Retrying in 1 seconds...\n"
     ]
    },
    {
     "data": {
      "text/plain": [
       "{'txHash': '0x4f24f998ab722bbcdd6589d23f1bd67cc98a4f30ff863710b291f60545017e0f',\n",
       " 'blockHeight': 443982,\n",
       " 'blockHash': '0x795f4716b2053eca2b1b8585c02c10fe30705843841760035bf91b80abb581c9',\n",
       " 'txIndex': 1,\n",
       " 'to': 'cx9a1e70f60ee138d8e2c2eee0daf28a7d0645bd02',\n",
       " 'stepUsed': 1055920,\n",
       " 'stepPrice': 10000000000,\n",
       " 'cumulativeStepUsed': 1055920,\n",
       " 'eventLogs': [{'scoreAddress': 'cx879e276135a6f25236a8abf2e4c9801887538f60',\n",
       "   'indexed': ['ReserveUpdated(Address,int,int,int,int)',\n",
       "    'cx2c002610b8aeaff84f6cb97c28294b1986016143',\n",
       "    '0x864ae65482800',\n",
       "    '0x3e2c284391c000'],\n",
       "   'data': ['0xde0b6b3a7640000', '0xde0b6b3a7640000']},\n",
       "  {'scoreAddress': 'cx2c002610b8aeaff84f6cb97c28294b1986016143',\n",
       "   'indexed': ['Transfer(Address,Address,int,bytes)',\n",
       "    'cx879e276135a6f25236a8abf2e4c9801887538f60',\n",
       "    'hx91bf040426f226b3bfcd2f0b5967bbb0320525ce',\n",
       "    '0x821ab0d4414980000'],\n",
       "   'data': ['0x4e6f6e65']}],\n",
       " 'logsBloom': b'\\x00\\x00\\x00\\x00\\x00\\x00\\x00\\x10\\x00\\x00\\x00 \\x00\\x00\\x00\\x00\\x00\\x00\\x00\\x00\\x00\\x00\\x04\\x00\\x00\\x00\\x00\\x00\\x00\\x00\\x00\\x00\\x08\\x00\\x00\\x02\\x00\\x00\\x00\\x00\\x00\\x00\\x00\\x00\\x00\\x00\\x00\\x00\\x00\\x00\\x00\\x80\\x80\\x00\\x00\\x00\\x00\\x00\\x00\\x00\\x00\\x00\\x00\\x00\\x00\\x00\\x00\\x00\\x00\\x00\\x00\\x00\\x00\\x00\\x00\\x00\\x00\\x08\\x00\\x00\\x00\\x00\\x00\\x00\\x00\\x00\\x00\\x00\\x00\\x00\\x01\\x00\\x00\\x00\\x00\\x00\\x80\\x00\\x00 \\x00\\x00\\x00\\x00\\x00\\x00\\x00\\x00\\x00\\x00\\x00\\x00\\x00\\x00\\x00\\x00\\x00\\x00\\x00\\x00\\x00\\x00\\x00\\x00\\x00\\x02\\x00\\x04\\x00\\x00\\x00\\x00\\x00\\x00\\x00\\x00\\x00\\x00\\x00\\x00\\x00\\x00\\x00\\x00\\x00\\x00\\x08\\x00\\x00\\x00\\x00\\x00\\x00\\x01\\x00\\x00\\x00\\x10\\x00\\x00\\x00\\x00\\x00\\x00\\x00\\x00\\x00\\x00\\x00\\x00\\x00\\x00\\x00\\x00\\x00\\x00\\x01\\x00\\x00\\x00@\\x00\\x00\\x80\\x00\\x00\\x00\\x00\\x00\\x00\\x00\\x00\\x00\\x00\\x00\\x01\\x00\\x00  \\x00\\x00\\x00\\x00\\x00\\x00\\x00\\x00\\x00\\x04\\x00\\x00\\x00\\t\\x00\\x00\\x02\\x00\\x00\\x00\\x00\\x00\\x00\\x00\\x80\\x00\\x00\\x00\\x00\\x00\\x00\\x00\\x00\\x00\\x00\\x00\\x00\\x00\\x00\\x00\\x00\\x00\\x00\\x00 \\x00\\x00\\x00\\x80\\x00\\x00\\x00\\x00\\x00\\x00\\x80',\n",
       " 'status': 1}"
      ]
     },
     "execution_count": 75,
     "metadata": {},
     "output_type": "execute_result"
    }
   ],
   "source": [
    "deployer_wallet=wallet_selector()\n",
    "params ={\"_reserve\": contracts['sample_token'], \"_amount\":150*10**18 }\n",
    "call_transaction = CallTransactionBuilder()\\\n",
    "    .from_(deployer_wallet.get_address())\\\n",
    "    .to(contracts['lendingPool']) \\\n",
    "    .nid(NID) \\\n",
    "    .nonce(100) \\\n",
    "    .method(\"borrow\")\\\n",
    "    .params(params)\\\n",
    "    .build()\n",
    "\n",
    "estimate_step = icon_service.estimate_step(call_transaction)\n",
    "step_limit = estimate_step + 100000\n",
    "# Returns the signed transaction object having a signature\n",
    "signed_transaction = SignedTransaction(call_transaction, deployer_wallet,step_limit)\n",
    "\n",
    "# Reads params to transfer to nodes\n",
    "print(signed_transaction.signed_transaction_dict)\n",
    "\n",
    "# Sends the transaction\n",
    "tx_hash = icon_service.send_transaction(signed_transaction)\n",
    "get_tx_result(tx_hash)"
   ]
  },
  {
   "cell_type": "markdown",
   "metadata": {},
   "source": [
    "# Reedeming/Withdrawing USDb"
   ]
  },
  {
   "cell_type": "code",
   "execution_count": null,
   "metadata": {},
   "outputs": [],
   "source": [
    "deployer_wallet=wallet_selector()\n",
    "params ={\"_amount\": 10*10**18 }\n",
    "call_transaction = CallTransactionBuilder()\\\n",
    "    .from_(deployer_wallet.get_address())\\\n",
    "    .to(contracts['oToken']) \\\n",
    "    .nid(NID) \\\n",
    "    .nonce(100) \\\n",
    "    .method(\"redeem\")\\\n",
    "    .params(params)\\\n",
    "    .build()\n",
    "\n",
    "estimate_step = icon_service.estimate_step(call_transaction)\n",
    "step_limit = estimate_step + 100000\n",
    "# Returns the signed transaction object having a signature\n",
    "signed_transaction = SignedTransaction(call_transaction, deployer_wallet,step_limit)\n",
    "\n",
    "# Reads params to transfer to nodes\n",
    "print(signed_transaction.signed_transaction_dict)\n",
    "\n",
    "# Sends the transaction\n",
    "tx_hash = icon_service.send_transaction(signed_transaction)\n",
    "get_tx_result(tx_hash)"
   ]
  },
  {
   "cell_type": "markdown",
   "metadata": {},
   "source": [
    "# Repaying USDb"
   ]
  },
  {
   "cell_type": "code",
   "execution_count": null,
   "metadata": {},
   "outputs": [],
   "source": [
    "deployer_wallet=wallet_selector()\n",
    "data = \"{\\\"method\\\": \\\"repay\\\", \\\"params\\\": {\\\"amount\\\": 100000000000000000000}}\".encode(\"utf-8\")\n",
    "params = {\"_to\": contracts['lendingPool'], \"_value\": 100000000000000000000, \"_data\": data}\n",
    "transaction = CallTransactionBuilder()\\\n",
    "    .from_(deployer_wallet.get_address())\\\n",
    "    .to(contracts['sicx'])\\\n",
    "    .value(0)\\\n",
    "    .step_limit(10000000)\\\n",
    "    .nid(3)\\\n",
    "    .nonce(100)\\\n",
    "    .method(\"transfer\")\\\n",
    "    .params(params)\\\n",
    "    .build()\n",
    "signed_transaction = SignedTransaction(transaction, deployer_wallet)\n",
    "tx_hash = icon_service.send_transaction(signed_transaction)\n",
    "get_tx_result(tx_hash)"
   ]
  },
  {
   "cell_type": "markdown",
   "metadata": {},
   "source": [
    "# Depositing ICX"
   ]
  },
  {
   "cell_type": "code",
   "execution_count": 13,
   "metadata": {
    "tags": []
   },
   "outputs": [
    {
     "output_type": "stream",
     "name": "stderr",
     "text": "Raised JSONRPCException while returning the custom response. Error message: {'code': -32602, 'message': 'Pending transaction'}\n{'code': -32602, 'message': 'Pending transaction'} (Json rpc error), Retrying in 1 seconds...\nRaised JSONRPCException while returning the custom response. Error message: {'code': -32602, 'message': 'Pending transaction'}\n{'code': -32602, 'message': 'Pending transaction'} (Json rpc error), Retrying in 2 seconds...\n"
    },
    {
     "output_type": "execute_result",
     "data": {
      "text/plain": "{'txHash': '0x081e8527008f2f7250bd40b645e192bf61ca5bb9c348055e303fcc9e7a117907',\n 'blockHeight': 10142461,\n 'blockHash': '0xe606a4cd37963728a8c3caef2eb8881cd0018945e75c6b9d8ec07c0ae21eea85',\n 'txIndex': 1,\n 'to': 'cx35b12ca4e9c672518db3c06d92ed60d50e7d5554',\n 'stepUsed': 723640,\n 'stepPrice': 10000000000,\n 'cumulativeStepUsed': 723640,\n 'eventLogs': [{'scoreAddress': 'cx35b12ca4e9c672518db3c06d92ed60d50e7d5554',\n   'indexed': ['ICXTransfer(Address,Address,int)',\n    'cx35b12ca4e9c672518db3c06d92ed60d50e7d5554',\n    'cx3e9d38175d112cd5cf05a90080cce779f202ba27',\n    '0x8ac7230489e80000'],\n   'data': []},\n  {'scoreAddress': 'cx3e9d38175d112cd5cf05a90080cce779f202ba27',\n   'indexed': ['Mint(Address,int)',\n    'cx327a386a9f8076045679fc132a8baa9e270ca43b',\n    '0x8ac7230489e80000'],\n   'data': []},\n  {'scoreAddress': 'cx327a386a9f8076045679fc132a8baa9e270ca43b',\n   'indexed': ['PrintData(str,int,int,int)',\n    'params check core line 408',\n    '0x8ac7230489e80000',\n    '0x0'],\n   'data': ['0x0']},\n  {'scoreAddress': 'cx327a386a9f8076045679fc132a8baa9e270ca43b',\n   'indexed': ['PrintData(str,int,int,int)',\n    'rate value core line 412',\n    '0x86f211bbb58d8',\n    '0x3e52ce980985fd'],\n   'data': ['0x0']},\n  {'scoreAddress': 'cx327a386a9f8076045679fc132a8baa9e270ca43b',\n   'indexed': ['ReserveUpdated(Address,int,int,int,int)',\n    'cx3e9d38175d112cd5cf05a90080cce779f202ba27',\n    '0x86f211bbb58d8',\n    '0x3e52ce980985fd'],\n   'data': ['0xde0de2d875a6418', '0xde1c1b8415c6b60']},\n  {'scoreAddress': 'cxf6e3d64db674c0edbf732462e80e2e3352280548',\n   'indexed': ['Mint(Address,int)',\n    'hx91bf040426f226b3bfcd2f0b5967bbb0320525ce'],\n   'data': ['0x268d04b69dbf70']},\n  {'scoreAddress': 'cxf6e3d64db674c0edbf732462e80e2e3352280548',\n   'indexed': ['Mint(Address,int)',\n    'hx91bf040426f226b3bfcd2f0b5967bbb0320525ce'],\n   'data': ['0x8ac7230489e80000']},\n  {'scoreAddress': 'cxf6e3d64db674c0edbf732462e80e2e3352280548',\n   'indexed': ['MintOnDeposit(Address,int,int,int)',\n    'hx91bf040426f226b3bfcd2f0b5967bbb0320525ce',\n    '0x8ac7230489e80000',\n    '0x268d04b69dbf70'],\n   'data': ['0xde0de2d875a6418']},\n  {'scoreAddress': 'cx35b12ca4e9c672518db3c06d92ed60d50e7d5554',\n   'indexed': ['Deposit(Address,Address,int,int)',\n    'cx3e9d38175d112cd5cf05a90080cce779f202ba27',\n    'hx91bf040426f226b3bfcd2f0b5967bbb0320525ce',\n    '0x8ac7230489e80000'],\n   'data': ['0x5b5d7f379952c']}],\n 'logsBloom': b'\\x00\\x00\\x00\\x00\\x00\\x00\\x000\\x00\\x00\\x00\\x01 \\x00\\x00\\x02\\x00\\x00\\x00\\x00\\x00\\x00\\x00\\x00\\x80\\x00\\x00\\x00\\x00\\x00\\x00\\x00\\x04\\x00\\x00\\x00\\x02\\x00\\x12\\x00\\x00\\x00\\x02\\x00\\x00\\x00\\x00\\x00\\x00@\\x01\\x80\\x80\\x00\\x00\\x00\\x80\\x00\\x08\\x80\\x00\\x00\\x00\\x00\\x00\\x00\\x02\\x00\\x00\\x00\\x00\\x00A\\x00\\x00\\x10\\x01\\x00\\x00\\x00@\\x02\\x00\\x00\\x00\\x00\\x00\\x00\\x80\\x00\\x00\\x10\\x00\\x00\\x04\\x00\\x80\\x00\\x00 \\x00\\x00\\x00\\x00\\x00\\x00\\x10\\x90\\x80\\x00@\\x00\\x00\\x00\\x00\\x02\\x00\\x00\\x00\\x00\\x00\\x00\\x80\\x00\\x00\\x00\\x00\\x00\\x00\\x02\\x000\\x00\\x00\\x00\\x00\\x00\\x00\\x00\\x00\\x00\\x04\\x08\\x00\\x00\\x00\\x01\\x02\\x00\\x00\\x01\\x00\\x00\\x00\\x00 \\x00\\x00\\x00\\x00\\x00\\x00\\x00\\x02\\x02\\x00\\x00\\x00\\x00\\x00\\x00\\x00\\x00\\x00\\x00\\x00\\x00\\x00@@\\x00\\x00\\x00\\x80\\x00\\x00\\x00\\x00\\x00\\x00\\x00\\x00\\x00\\x00\\x00\\x00\\x00\\x10\\x02\\x00\\x00\\x00\\x00\\x00@\\x00\\x00 \\x00\\x00\\x00\\x00\\x00\\x02\\x04\\x08\\x00\\x02\\xc0\\x00\\x00\\x00\\x00\\x00\\x80\\x00\\x00\\x00\\x00\\x00\\x01\\x08\\x00\\x00\\x00\\x02\\x00\\x00\\x00\\x00\\x00\\x00\\x00\\x00`\\x04\\x00\\x00\\x80\\x10\\x01\\x00\\x00\\x00\\x00\\x00',\n 'status': 1}"
     },
     "metadata": {},
     "execution_count": 13
    }
   ],
   "source": [
    "deployer_wallet=wallet_selector()\n",
    "params = {\"_amount\": 10 * 10 ** 18}\n",
    "call_transaction = CallTransactionBuilder() \\\n",
    "    .from_(deployer_wallet.get_address()) \\\n",
    "    .to(contracts['lendingPool']) \\\n",
    "    .nid(3) \\\n",
    "    .step_limit(1000000000) \\\n",
    "    .nonce(100) \\\n",
    "    .value(10 * 10 ** 18) \\\n",
    "    .method(\"deposit\") \\\n",
    "    .params(params) \\\n",
    "    .build() \n",
    "\n",
    "signed_transaction = SignedTransaction(call_transaction, deployer_wallet)\n",
    "tx_hash = icon_service.send_transaction(signed_transaction)\n",
    "get_tx_result(tx_hash)"
   ]
  },
  {
   "cell_type": "markdown",
   "metadata": {},
   "source": [
    "# Withdrawing ICX "
   ]
  },
  {
   "cell_type": "code",
   "execution_count": null,
   "metadata": {},
   "outputs": [],
   "source": [
    "deployer_wallet=wallet_selector()\n",
    "params = {\"_amount\": 250 * 10 ** 18}\n",
    "call_transaction = CallTransactionBuilder() \\\n",
    "    .from_(deployer_wallet.get_address())\\\n",
    "    .to(contracts['oICX'])\\\n",
    "    .nid(3) \\\n",
    "    .step_limit(10000000) \\\n",
    "    .nonce(100) \\\n",
    "    .method(\"redeem\") \\\n",
    "    .params(params) \\\n",
    "    .build()\n",
    "signed_transaction = SignedTransaction(call_transaction, deployer_wallet)\n",
    "tx_hash = icon_service.send_transaction(signed_transaction)\n",
    "get_tx_result(tx_hash)"
   ]
  },
  {
   "cell_type": "markdown",
   "metadata": {},
   "source": [
    "# Borrow sICX"
   ]
  },
  {
   "cell_type": "code",
   "execution_count": null,
   "metadata": {},
   "outputs": [],
   "source": [
    "deployer_wallet=wallet_selector()\n",
    "params ={\"_reserve\": contracts['sicx'], \"_amount\":150 * 10 ** 18 }\n",
    "call_transaction = CallTransactionBuilder()\\\n",
    "    .from_(deployer_wallet.get_address())\\\n",
    "    .to(contracts['lendingPool']) \\\n",
    "    .nid(NID) \\\n",
    "    .nonce(100) \\\n",
    "    .method(\"borrow\")\\\n",
    "    .params(params)\\\n",
    "    .build()\n",
    "\n",
    "estimate_step = icon_service.estimate_step(call_transaction)\n",
    "step_limit = estimate_step + 100000\n",
    "# Returns the signed transaction object having a signature\n",
    "signed_transaction = SignedTransaction(call_transaction, deployer_wallet,step_limit)\n",
    "\n",
    "# Reads params to transfer to nodes\n",
    "print(signed_transaction.signed_transaction_dict)\n",
    "\n",
    "# Sends the transaction\n",
    "tx_hash = icon_service.send_transaction(signed_transaction)\n",
    "get_tx_result(tx_hash)"
   ]
  },
  {
   "cell_type": "markdown",
   "metadata": {},
   "source": [
    "# Repay sICX"
   ]
  },
  {
   "cell_type": "code",
   "execution_count": null,
   "metadata": {},
   "outputs": [],
   "source": [
    "deployer_wallet=wallet_selector()\n",
    "data = \"{\\\"method\\\": \\\"repay\\\", \\\"params\\\": {\\\"amount\\\": 100 * 10 ** 18}}\".encode(\"utf-8\")\n",
    "params = {\"_to\": contracts['lendingPool'], \"_value\": 100 * 10 ** 18, \"_data\": data}\n",
    "transaction = CallTransactionBuilder()\\\n",
    "    .from_(deployer_wallet.get_address())\\\n",
    "    .to(contracts['sicx'])\\\n",
    "    .value(0)\\\n",
    "    .step_limit(10000000)\\\n",
    "    .nid(3)\\\n",
    "    .nonce(100)\\\n",
    "    .method(\"transfer\")\\\n",
    "    .params(params)\\\n",
    "    .build()\n",
    "signed_transaction = SignedTransaction(transaction, deployer_wallet)\n",
    "tx_hash = icon_service.send_transaction(signed_transaction)\n",
    "get_tx_result(tx_hash)"
   ]
  },
  {
   "cell_type": "markdown",
   "metadata": {},
   "source": [
    "# Readonly methods to get data"
   ]
  },
  {
   "cell_type": "markdown",
   "metadata": {},
   "source": [
    "## Getting specific reserve data"
   ]
  },
  {
   "cell_type": "markdown",
   "metadata": {},
   "source": [
    "### This returns the reserve data of USDb"
   ]
  },
  {
   "cell_type": "code",
   "execution_count": 9,
   "metadata": {
    "tags": []
   },
   "outputs": [
    {
     "output_type": "stream",
     "name": "stdout",
     "text": [
      "{'availableLiquidity': 298500.0,\n 'baseLTVasCollateral': 0.6,\n 'borrowCumulativeIndex': 1.0000011584585715,\n 'borrowRate': 0.08359381655340004,\n 'borrowingEnabled': '0x1',\n 'decimals': 1.8e-17,\n 'isActive': '0x1',\n 'isFreezed': '0x0',\n 'lastUpdateTimestamp': 1606110048844793,\n 'liquidationBonus': 1e-17,\n 'liquidationThreshold': 0.65,\n 'liquidityCumulativeIndex': 1.0000005791745306,\n 'liquidityRate': 0.04716259038240734,\n 'oTokenAddress': 'cx2f4c43ec2c69321573e93549d89462de4a25fdbe',\n 'reserveAddress': 'cx134a1a0309aaf88a00ad1fee4983b7ed43454ab6',\n 'totalBorrows': 501500.1141552619,\n 'totalLiquidity': 800000.1141552619,\n 'usageAsCollateralEnabled': '0x1'}\n"
     ]
    }
   ],
   "source": [
    "params = {'_reserve': contracts['sample_token']}\n",
    "_call = CallBuilder()\\\n",
    "    .from_(deployer_wallet1.get_address())\\\n",
    "    .to(contracts['lendingPoolDataProvider'])\\\n",
    "    .method(\"getReserveData\")\\\n",
    "    .params(params)\\\n",
    "    .build()\n",
    "response = icon_service.call(_call)\n",
    "for key,values in response.items():\n",
    "    if values==\"0x1\" or values ==\"0x0\" or \"Address\" in key:\n",
    "        continue\n",
    "    if key!=\"lastUpdateTimestamp\":\n",
    "        response[key]=int(values,0)/10**18\n",
    "    else:\n",
    "        response[key]=int(values,0)\n",
    "\n",
    "pprint(response)"
   ]
  },
  {
   "cell_type": "markdown",
   "metadata": {},
   "source": [
    "### This method returns the reserve data of sICX"
   ]
  },
  {
   "cell_type": "code",
   "execution_count": 10,
   "metadata": {},
   "outputs": [
    {
     "output_type": "stream",
     "name": "stdout",
     "text": [
      "{'availableLiquidity': '0x0',\n 'baseLTVasCollateral': 0.33,\n 'borrowCumulativeIndex': 1.0,\n 'borrowRate': '0x0',\n 'borrowingEnabled': '0x1',\n 'decimals': 1.8e-17,\n 'isActive': '0x1',\n 'isFreezed': '0x0',\n 'lastUpdateTimestamp': '0x0',\n 'liquidationBonus': 1e-17,\n 'liquidationThreshold': 0.65,\n 'liquidityCumulativeIndex': 1.0,\n 'liquidityRate': '0x0',\n 'oTokenAddress': 'cx6dbb85df52d7b12d2c00d673d89c5bf21ee29be2',\n 'reserveAddress': 'cx735ee7e87d30d76a83b27c7bc62a84b5beafa34b',\n 'totalBorrows': '0x0',\n 'totalLiquidity': '0x0',\n 'usageAsCollateralEnabled': '0x1'}\n"
     ]
    }
   ],
   "source": [
    "params = {'_reserve': contracts['sicx']}\n",
    "_call = CallBuilder()\\\n",
    "    .from_(deployer_wallet1.get_address())\\\n",
    "    .to(contracts['lendingPoolDataProvider'])\\\n",
    "    .method(\"getReserveData\")\\\n",
    "    .params(params)\\\n",
    "    .build()\n",
    "response = icon_service.call(_call)\n",
    "for key,values in response.items():\n",
    "    if values==\"0x1\" or values ==\"0x0\" or \"Address\" in key:\n",
    "        continue\n",
    "    if key!=\"lastUpdateTimestamp\":\n",
    "        response[key]=int(values,0)/10**18\n",
    "    else:\n",
    "        response[key]=int(values,0)\n",
    "\n",
    "pprint(response)"
   ]
  },
  {
   "cell_type": "markdown",
   "metadata": {},
   "source": [
    "## Getting data of all reserves"
   ]
  },
  {
   "cell_type": "markdown",
   "metadata": {},
   "source": [
    "### This returns the reserve data of all the reserves"
   ]
  },
  {
   "cell_type": "code",
   "execution_count": 11,
   "metadata": {
    "tags": []
   },
   "outputs": [
    {
     "output_type": "stream",
     "name": "stdout",
     "text": [
      "{'USDb': {'availableLiquidity': 298500.0,\n          'baseLTVasCollateral': 0.6,\n          'borrowCumulativeIndex': 1.0000011584585715,\n          'borrowRate': 0.08359381655340004,\n          'borrowingEnabled': '0x1',\n          'decimals': 1.8e-17,\n          'isActive': '0x1',\n          'isFreezed': '0x0',\n          'lastUpdateTimestamp': 1606110048844793,\n          'liquidationBonus': 1e-17,\n          'liquidationThreshold': 0.65,\n          'liquidityCumulativeIndex': 1.0000005791745306,\n          'liquidityRate': 0.04716259038240734,\n          'oTokenAddress': 'cx2f4c43ec2c69321573e93549d89462de4a25fdbe',\n          'reserveAddress': 'cx134a1a0309aaf88a00ad1fee4983b7ed43454ab6',\n          'totalBorrows': 501500.1141552619,\n          'totalLiquidity': 800000.1141552619,\n          'usageAsCollateralEnabled': '0x1'},\n 'sICX': {'availableLiquidity': '0x0',\n          'baseLTVasCollateral': 0.33,\n          'borrowCumulativeIndex': 1.0,\n          'borrowRate': '0x0',\n          'borrowingEnabled': '0x1',\n          'decimals': 1.8e-17,\n          'isActive': '0x1',\n          'isFreezed': '0x0',\n          'lastUpdateTimestamp': '0x0',\n          'liquidationBonus': 1e-17,\n          'liquidationThreshold': 0.65,\n          'liquidityCumulativeIndex': 1.0,\n          'liquidityRate': '0x0',\n          'oTokenAddress': 'cx6dbb85df52d7b12d2c00d673d89c5bf21ee29be2',\n          'reserveAddress': 'cx735ee7e87d30d76a83b27c7bc62a84b5beafa34b',\n          'totalBorrows': '0x0',\n          'totalLiquidity': '0x0',\n          'usageAsCollateralEnabled': '0x1'}}\n"
     ]
    }
   ],
   "source": [
    "params = {'_reserve': contracts['sample_token']}\n",
    "_call = CallBuilder()\\\n",
    "    .from_(deployer_wallet1.get_address())\\\n",
    "    .to(contracts['lendingPoolDataProvider'])\\\n",
    "    .method(\"getAllReserveData\")\\\n",
    "    .build()\n",
    "response = icon_service.call(_call)\n",
    "for key,values in response.items():\n",
    "    for k,v in values.items():\n",
    "        if v==\"0x1\" or v ==\"0x0\" or \"Address\" in k:\n",
    "            continue\n",
    "        if k!=\"lastUpdateTimestamp\":\n",
    "            response[key][k]=int(v,0)/10**18\n",
    "        else:\n",
    "            response[key][k]=int(v,0)\n",
    "pprint(response)"
   ]
  },
  {
   "cell_type": "markdown",
   "metadata": {},
   "source": [
    "## Getting user account data"
   ]
  },
  {
   "cell_type": "markdown",
   "metadata": {},
   "source": [
    "### Returns the user data of all the reserves combined"
   ]
  },
  {
   "cell_type": "code",
   "execution_count": 13,
   "metadata": {
    "tags": []
   },
   "outputs": [
    {
     "output_type": "stream",
     "name": "stdout",
     "text": [
      "{'borrowingPower': 0.9660113760378016,\n 'currentLiquidationThreshold': 0.65,\n 'currentLtv': 0.6,\n 'healthFactor': 1.0351844965859578,\n 'healthFactorBelowThreshold': 0.0,\n 'totalBorrowBalanceUSD': 503394.529114464,\n 'totalCollateralBalanceUSD': 801701.8649315103,\n 'totalFeesUSD': 0.0,\n 'totalLiquidityBalanceUSD': 801701.8649315103}\n"
     ]
    }
   ],
   "source": [
    "deployer_wallet=wallet_selector()\n",
    "params = {'_user': deployer_wallet.get_address()}\n",
    "_call = CallBuilder()\\\n",
    "    .from_(deployer_wallet.get_address())\\\n",
    "    .to(contracts['lendingPoolDataProvider'])\\\n",
    "    .method(\"getUserAccountData\")\\\n",
    "    .params(params)\\\n",
    "    .build()\n",
    "response = icon_service.call(_call)\n",
    "for key,values in response.items():\n",
    "    if key!=\"lastUpdateTimestamp\":\n",
    "        response[key]=int(values,0)/10**18\n",
    "    else:\n",
    "        response[key]=int(values,0)\n",
    "pprint(response)"
   ]
  },
  {
   "cell_type": "markdown",
   "metadata": {},
   "source": [
    "### Getting user reserve data for USDb reserve"
   ]
  },
  {
   "cell_type": "code",
   "execution_count": 14,
   "metadata": {
    "tags": []
   },
   "outputs": [
    {
     "output_type": "stream",
     "name": "stdout",
     "text": [
      "{'borrowRate': 0.08359381655340004,\n 'currentBorrowBalance': 503394.55580185045,\n 'currentBorrowBalanceUSD': 503394.55580185045,\n 'currentOTokenBalance': 801701.8888597813,\n 'currentOTokenBalanceUSD': 801701.8888597813,\n 'lastUpdateTimestamp': 1606109390013725,\n 'liquidityRate': 0.04716259038240734,\n 'originationFee': 0.0,\n 'principalBorrowBalance': 501500.1141552619,\n 'principalBorrowBalanceUSD': 501500.1141552619,\n 'useAsCollateral': 1e-18,\n 'userBorrowCumulativeIndex': 1.0000001902587698}\n"
     ]
    }
   ],
   "source": [
    "deployer_wallet=wallet_selector()\n",
    "params = {'_user': deployer_wallet.get_address() ,\"_reserve\":contracts['sample_token']}\n",
    "_call = CallBuilder()\\\n",
    "    .from_(deployer_wallet.get_address())\\\n",
    "    .to(contracts['lendingPoolDataProvider'])\\\n",
    "    .method(\"getUserReserveData\")\\\n",
    "    .params(params)\\\n",
    "    .build()\n",
    "response = icon_service.call(_call)\n",
    "for key,values in response.items():\n",
    "    if key!=\"lastUpdateTimestamp\":\n",
    "        response[key]=int(values,0)/10**18\n",
    "    else:\n",
    "        response[key]=int(values,0)\n",
    "pprint(response)"
   ]
  },
  {
   "cell_type": "markdown",
   "metadata": {},
   "source": [
    "### Getting user reserve data for sICX reserve"
   ]
  },
  {
   "cell_type": "code",
   "execution_count": 16,
   "metadata": {},
   "outputs": [
    {
     "name": "stdout",
     "output_type": "stream",
     "text": [
      "{'borrowRate': 0.0,\n",
      " 'currentBorrowBalance': 0.0,\n",
      " 'currentBorrowBalanceUSD': 0.0,\n",
      " 'currentOTokenBalance': 0.0,\n",
      " 'currentOTokenBalanceUSD': 0.0,\n",
      " 'lastUpdateTimestamp': 0,\n",
      " 'liquidityRate': 0.0,\n",
      " 'originationFee': 0.0,\n",
      " 'principalBorrowBalance': 0.0,\n",
      " 'principalBorrowBalanceUSD': 0.0,\n",
      " 'useAsCollateral': 0.0,\n",
      " 'userBorrowCumulativeIndex': 0.0}\n"
     ]
    }
   ],
   "source": [
    "deployer_wallet=wallet_selector()\n",
    "params = {'_user': deployer_wallet.get_address() ,\"_reserve\":contracts['sample_token']}\n",
    "_call = CallBuilder()\\\n",
    "    .from_(deployer_wallet.get_address())\\\n",
    "    .to(contracts['lendingPoolDataProvider'])\\\n",
    "    .method(\"getUserReserveData\")\\\n",
    "    .params(params)\\\n",
    "    .build()\n",
    "response = icon_service.call(_call)\n",
    "for key,values in response.items():\n",
    "    if key!=\"lastUpdateTimestamp\":\n",
    "        response[key]=int(values,0)/10**18\n",
    "    else:\n",
    "        response[key]=int(values,0)\n",
    "pprint(response)"
   ]
  },
  {
   "cell_type": "markdown",
   "metadata": {},
   "source": [
    "### Getting the data of user for all reserves"
   ]
  },
  {
   "cell_type": "code",
   "execution_count": 37,
   "metadata": {
    "tags": []
   },
   "outputs": [
    {
     "output_type": "stream",
     "name": "stdout",
     "text": [
      "invalid wallet selected\n"
     ]
    },
    {
     "output_type": "error",
     "ename": "NameError",
     "evalue": "name 'null' is not defined",
     "traceback": [
      "\u001b[0;31m---------------------------------------------------------------------------\u001b[0m",
      "\u001b[0;31mNameError\u001b[0m                                 Traceback (most recent call last)",
      "\u001b[0;32m<ipython-input-37-4d60808b42d0>\u001b[0m in \u001b[0;36m<module>\u001b[0;34m\u001b[0m\n\u001b[0;32m----> 1\u001b[0;31m \u001b[0mdeployer_wallet\u001b[0m\u001b[0;34m=\u001b[0m\u001b[0mwallet_selector\u001b[0m\u001b[0;34m(\u001b[0m\u001b[0;34m)\u001b[0m\u001b[0;34m\u001b[0m\u001b[0;34m\u001b[0m\u001b[0m\n\u001b[0m\u001b[1;32m      2\u001b[0m \u001b[0mparams\u001b[0m \u001b[0;34m=\u001b[0m \u001b[0;34m{\u001b[0m\u001b[0;34m'_user'\u001b[0m\u001b[0;34m:\u001b[0m \u001b[0mdeployer_wallet\u001b[0m\u001b[0;34m.\u001b[0m\u001b[0mget_address\u001b[0m\u001b[0;34m(\u001b[0m\u001b[0;34m)\u001b[0m\u001b[0;34m}\u001b[0m\u001b[0;34m\u001b[0m\u001b[0;34m\u001b[0m\u001b[0m\n\u001b[1;32m      3\u001b[0m \u001b[0m_call\u001b[0m \u001b[0;34m=\u001b[0m \u001b[0mCallBuilder\u001b[0m\u001b[0;34m(\u001b[0m\u001b[0;34m)\u001b[0m\u001b[0;31m\\\u001b[0m\u001b[0;34m\u001b[0m\u001b[0;34m\u001b[0m\u001b[0m\n\u001b[1;32m      4\u001b[0m     \u001b[0;34m.\u001b[0m\u001b[0mfrom_\u001b[0m\u001b[0;34m(\u001b[0m\u001b[0mdeployer_wallet\u001b[0m\u001b[0;34m.\u001b[0m\u001b[0mget_address\u001b[0m\u001b[0;34m(\u001b[0m\u001b[0;34m)\u001b[0m\u001b[0;34m)\u001b[0m\u001b[0;31m\\\u001b[0m\u001b[0;34m\u001b[0m\u001b[0;34m\u001b[0m\u001b[0m\n\u001b[1;32m      5\u001b[0m     \u001b[0;34m.\u001b[0m\u001b[0mto\u001b[0m\u001b[0;34m(\u001b[0m\u001b[0mcontracts\u001b[0m\u001b[0;34m[\u001b[0m\u001b[0;34m'lendingPoolDataProvider'\u001b[0m\u001b[0;34m]\u001b[0m\u001b[0;34m)\u001b[0m\u001b[0;31m\\\u001b[0m\u001b[0;34m\u001b[0m\u001b[0;34m\u001b[0m\u001b[0m\n",
      "\u001b[0;32m<ipython-input-34-a71e6dc56dbd>\u001b[0m in \u001b[0;36mwallet_selector\u001b[0;34m()\u001b[0m\n\u001b[1;32m      4\u001b[0m     \u001b[0;32mif\u001b[0m \u001b[0mstr\u001b[0m\u001b[0;34m(\u001b[0m\u001b[0mwallet\u001b[0m\u001b[0;34m)\u001b[0m \u001b[0;32mnot\u001b[0m \u001b[0;32min\u001b[0m \u001b[0mwallets\u001b[0m\u001b[0;34m.\u001b[0m\u001b[0mkeys\u001b[0m\u001b[0;34m(\u001b[0m\u001b[0;34m)\u001b[0m\u001b[0;34m:\u001b[0m\u001b[0;34m\u001b[0m\u001b[0;34m\u001b[0m\u001b[0m\n\u001b[1;32m      5\u001b[0m         \u001b[0mprint\u001b[0m\u001b[0;34m(\u001b[0m\u001b[0;34m\"invalid wallet selected\"\u001b[0m\u001b[0;34m)\u001b[0m\u001b[0;34m\u001b[0m\u001b[0;34m\u001b[0m\u001b[0m\n\u001b[0;32m----> 6\u001b[0;31m         \u001b[0;32mreturn\u001b[0m \u001b[0mnull\u001b[0m\u001b[0;34m\u001b[0m\u001b[0;34m\u001b[0m\u001b[0m\n\u001b[0m\u001b[1;32m      7\u001b[0m     \u001b[0;32mreturn\u001b[0m \u001b[0mwallets\u001b[0m\u001b[0;34m[\u001b[0m\u001b[0mstr\u001b[0m\u001b[0;34m(\u001b[0m\u001b[0mwallet\u001b[0m\u001b[0;34m)\u001b[0m\u001b[0;34m]\u001b[0m\u001b[0;34m\u001b[0m\u001b[0;34m\u001b[0m\u001b[0m\n",
      "\u001b[0;31mNameError\u001b[0m: name 'null' is not defined"
     ]
    }
   ],
   "source": [
    "deployer_wallet=wallet_selector()\n",
    "params = {'_user': deployer_wallet.get_address()}\n",
    "_call = CallBuilder()\\\n",
    "    .from_(deployer_wallet.get_address())\\\n",
    "    .to(contracts['lendingPoolDataProvider'])\\\n",
    "    .method(\"getUserAllReserveData\")\\\n",
    "    .params(params)\\\n",
    "    .build()\n",
    "response = icon_service.call(_call)\n",
    "for key,values in response.items():\n",
    "    for k,v in values.items():\n",
    "        if k!=\"lastUpdateTimestamp\":\n",
    "            response[key][k]=int(v,0)/10**18\n",
    "        else:\n",
    "            response[key][k]=int(v,0)\n",
    "pprint(response)"
   ]
  },
  {
   "cell_type": "markdown",
   "metadata": {},
   "source": [
    "## Get reserve configurations\n"
   ]
  },
  {
   "cell_type": "markdown",
   "metadata": {},
   "source": [
    "### Getting configuration of USDb reserve"
   ]
  },
  {
   "cell_type": "code",
   "execution_count": 20,
   "metadata": {
    "tags": []
   },
   "outputs": [
    {
     "name": "stdout",
     "output_type": "stream",
     "text": [
      "{'baseLTVasCollateral': 600000000000000000,\n",
      " 'borrowingEnabled': 1,\n",
      " 'decimals': 18,\n",
      " 'isActive': 1,\n",
      " 'liquidationBonus': 10,\n",
      " 'liquidationThreshold': 650000000000000000,\n",
      " 'usageAsCollateralEnabled': 1}\n"
     ]
    }
   ],
   "source": [
    "params = {\"_reserve\":contracts['sample_token']}\n",
    "_call = CallBuilder()\\\n",
    "    .from_(deployer_wallet.get_address())\\\n",
    "    .to(contracts['lendingPoolDataProvider'])\\\n",
    "    .method(\"getReserveConfigurationData\")\\\n",
    "    .params(params)\\\n",
    "    .build()\n",
    "response = icon_service.call(_call)\n",
    "for key,values in response.items():\n",
    "    response[key]=int(values,0)\n",
    "pprint(response)\n"
   ]
  },
  {
   "cell_type": "markdown",
   "metadata": {},
   "source": [
    "### Getting configuration of sICX reserve"
   ]
  },
  {
   "cell_type": "code",
   "execution_count": 17,
   "metadata": {},
   "outputs": [
    {
     "name": "stdout",
     "output_type": "stream",
     "text": [
      "{'baseLTVasCollateral': 330000000000000000,\n",
      " 'borrowingEnabled': 1,\n",
      " 'decimals': 18,\n",
      " 'isActive': 1,\n",
      " 'liquidationBonus': 10,\n",
      " 'liquidationThreshold': 650000000000000000,\n",
      " 'usageAsCollateralEnabled': 1}\n"
     ]
    }
   ],
   "source": [
    "params = {\"_reserve\":contracts['sicx']}\n",
    "_call = CallBuilder()\\\n",
    "    .from_(deployer_wallet.get_address())\\\n",
    "    .to(contracts['lendingPoolDataProvider'])\\\n",
    "    .method(\"getReserveConfigurationData\")\\\n",
    "    .params(params)\\\n",
    "    .build()\n",
    "response = icon_service.call(_call)\n",
    "for key,values in response.items():\n",
    "    response[key]=int(values,0)\n",
    "pprint(response)"
   ]
  },
  {
   "cell_type": "markdown",
   "metadata": {},
   "source": [
    "### Get all reserves configurations"
   ]
  },
  {
   "cell_type": "code",
   "execution_count": 36,
   "metadata": {
    "tags": []
   },
   "outputs": [
    {
     "output_type": "stream",
     "name": "stdout",
     "text": [
      "{'USDb': {'baseLTVasCollateral': 330000000000000000,\n          'borrowingEnabled': 1,\n          'decimals': 18,\n          'isActive': 1,\n          'liquidationBonus': 10,\n          'liquidationThreshold': 650000000000000000,\n          'usageAsCollateralEnabled': 1},\n 'sICX': {'baseLTVasCollateral': 330000000000000000,\n          'borrowingEnabled': 1,\n          'decimals': 18,\n          'isActive': 1,\n          'liquidationBonus': 10,\n          'liquidationThreshold': 650000000000000000,\n          'usageAsCollateralEnabled': 1}}\n"
     ]
    }
   ],
   "source": [
    "_call = CallBuilder()\\\n",
    "    .from_(deployer_wallet.get_address())\\\n",
    "    .to(contracts['lendingPoolDataProvider'])\\\n",
    "    .method(\"getAllReserveConfigurationData\")\\\n",
    "    .build()\n",
    "response = icon_service.call(_call)\n",
    "for key,values in response.items():\n",
    "    for k,v in values.items():\n",
    "        response[key][k]=int(v,0)\n",
    "pprint(response)\n"
   ]
  },
  {
   "cell_type": "markdown",
   "metadata": {},
   "source": [
    "### Printing ICX balance from respective wallets"
   ]
  },
  {
   "cell_type": "code",
   "execution_count": 38,
   "metadata": {
    "tags": []
   },
   "outputs": [
    {
     "output_type": "stream",
     "name": "stdout",
     "text": [
      "ICX balance of deployer_wallet3 999999998408600000000000\n",
      "ICX balance of deployer_wallet1 78700234160500600000000000\n",
      "ICX balance of deployer_wallet2 992999977921600000000000\n"
     ]
    }
   ],
   "source": [
    "print('ICX balance of deployer_wallet3',icon_service.get_balance(deployer_wallet3.get_address()))\n",
    "print('ICX balance of deployer_wallet1', icon_service.get_balance(deployer_wallet1.get_address()))\n",
    "print('ICX balance of deployer_wallet2',icon_service.get_balance(deployer_wallet2.get_address()))  "
   ]
  },
  {
   "cell_type": "markdown",
   "metadata": {},
   "source": [
    "## Realtime USDb balance of user(with accrued interest)"
   ]
  },
  {
   "cell_type": "code",
   "execution_count": 10,
   "metadata": {
    "tags": []
   },
   "outputs": [
    {
     "output_type": "stream",
     "name": "stdout",
     "text": [
      "0\n"
     ]
    }
   ],
   "source": [
    "deployer_wallet=wallet_selector()\n",
    "params = {'_owner': deployer_wallet.get_address() }\n",
    "_call = CallBuilder()\\\n",
    "    .from_(deployer_wallet.get_address())\\\n",
    "    .to(contracts['oToken'])\\\n",
    "    .method(\"balanceOf\")\\\n",
    "    .params(params)\\\n",
    "    .build()\n",
    "response = icon_service.call(_call)\n",
    "\n",
    "print(int(response,0))"
   ]
  },
  {
   "cell_type": "markdown",
   "metadata": {},
   "source": [
    "## Realtime ICX balance of user(with accured interest)"
   ]
  },
  {
   "cell_type": "code",
   "execution_count": 21,
   "metadata": {},
   "outputs": [
    {
     "name": "stdout",
     "output_type": "stream",
     "text": [
      "0\n"
     ]
    }
   ],
   "source": [
    "deployer_wallet=wallet_selector()\n",
    "params = {'_owner': deployer_wallet.get_address() }\n",
    "_call = CallBuilder()\\\n",
    "    .from_(deployer_wallet.get_address())\\\n",
    "    .to(contracts['oICX'])\\\n",
    "    .method(\"balanceOf\")\\\n",
    "    .params(params)\\\n",
    "    .build()\n",
    "response = icon_service.call(_call)\n",
    "\n",
    "print(int(response,0))\n"
   ]
  },
  {
   "cell_type": "markdown",
   "metadata": {},
   "source": [
    "### Printing USDb balance from respective wallets"
   ]
  },
  {
   "cell_type": "code",
   "execution_count": 41,
   "metadata": {
    "tags": []
   },
   "outputs": [
    {
     "output_type": "stream",
     "name": "stdout",
     "text": [
      "USDb balance of  hx91bf040426f226b3bfcd2f0b5967bbb0320525ce is 250000000000000000000000000\n",
      "USDb balance of  hx8c8ccc79c99375de5995ca6057cda7c334d9dd35 is 125000000000000000000000000\n",
      "USDb balance of  hx49c8a4c31e84b9abe7f8c8395eb7133b2151aeae is 125000000000000000000000000\n"
     ]
    }
   ],
   "source": [
    " wallets = [deployer_wallet1, deployer_wallet2, deployer_wallet3]\n",
    " for wallet in wallets:\n",
    "    params = {'_owner': wallet.get_address()}\n",
    "    _call = CallBuilder() \\\n",
    "        .from_(wallet.get_address()) \\\n",
    "        .to(contracts['sample_token']) \\\n",
    "        .method(\"balanceOf\") \\\n",
    "        .params(params) \\\n",
    "        .build()\n",
    "    response = icon_service.call(_call)\n",
    "    print('USDb balance of ', wallet.get_address(), 'is' ,int(response,16))   "
   ]
  },
  {
   "cell_type": "markdown",
   "metadata": {},
   "source": [
    "### Printing sICX balance from respective wallets"
   ]
  },
  {
   "cell_type": "code",
   "execution_count": 24,
   "metadata": {
    "tags": []
   },
   "outputs": [
    {
     "output_type": "stream",
     "name": "stdout",
     "text": [
      "sICX balance of  hx91bf040426f226b3bfcd2f0b5967bbb0320525ce is 0\n",
      "sICX balance of  hx8c8ccc79c99375de5995ca6057cda7c334d9dd35 is 0\n",
      "sICX balance of  hx49c8a4c31e84b9abe7f8c8395eb7133b2151aeae is 0\n"
     ]
    }
   ],
   "source": [
    " wallets = [deployer_wallet1, deployer_wallet2, deployer_wallet3]\n",
    " for wallet in wallets:\n",
    "    params = {'_owner': wallet.get_address()}\n",
    "    _call = CallBuilder() \\\n",
    "        .from_(wallet.get_address()) \\\n",
    "        .to(contracts['sicx']) \\\n",
    "        .method(\"balanceOf\") \\\n",
    "        .params(params) \\\n",
    "        .build()\n",
    "    response = icon_service.call(_call)\n",
    "    print('sICX balance of ', wallet.get_address(), 'is' ,int(response,16))   "
   ]
  },
  {
   "cell_type": "code",
   "execution_count": null,
   "metadata": {},
   "outputs": [],
   "source": []
  }
 ],
 "metadata": {
  "celltoolbar": "Slideshow",
  "kernelspec": {
   "display_name": "Python 3",
   "language": "python",
   "name": "python3"
  },
  "language_info": {
   "codemirror_mode": {
    "name": "ipython",
    "version": 3
   },
   "file_extension": ".py",
   "mimetype": "text/x-python",
   "name": "python",
   "nbconvert_exporter": "python",
   "pygments_lexer": "ipython3",
   "version": "3.8.3-final"
  },
  "rise": {
   "scroll": true
  }
 },
 "nbformat": 4,
 "nbformat_minor": 2
}