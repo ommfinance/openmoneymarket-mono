{
 "cells": [
  {
   "cell_type": "markdown",
   "metadata": {
    "slideshow": {
     "slide_type": "slide"
    }
   },
   "source": [
    "# Jupyter Notebook to clean install all the contracts"
   ]
  },
  {
   "cell_type": "markdown",
   "metadata": {},
   "source": [
    "# Set Up Environment"
   ]
  },
  {
   "cell_type": "code",
   "execution_count": 1,
   "metadata": {},
   "outputs": [],
   "source": [
    "network = \"custom\"  # set this to one of mainnet, yeouido, euljiro, pagoda, or custom\n",
    "contracts_file_custom = 'updated20201125_custom_contracts_20201122161857.pkl'\n",
    "#contracts_20201109120425\n",
    "\n",
    "connections = {\n",
    "\"mainnet\": {\"iconservice\": \"https://ctz.solidwallet.io\",       \"nid\": 1},\n",
    "\"yeouido\": {\"iconservice\": \"https://bicon.net.solidwallet.io\", \"nid\": 3},\n",
    "\"euljiro\": {\"iconservice\": \"https://test-ctz.solidwallet.io\",  \"nid\": 2},\n",
    "\"pagoda\":  {\"iconservice\": \"https://zicon.net.solidwallet.io\", \"nid\":80},\n",
    "\"custom\":  {\"iconservice\": \"http://18.237.205.52:9000/\",       \"nid\": 3},\n",
    "\"local\":   {\"iconservice\": \"http://localhost:9000/\",           \"nid\": 3}\n",
    "}\n",
    "\n",
    "env = connections[network]"
   ]
  },
  {
   "cell_type": "code",
   "execution_count": 2,
   "metadata": {},
   "outputs": [
    {
     "output_type": "stream",
     "name": "stdout",
     "text": [
      "{'iconservice': 'http://18.237.205.52:9000/', 'nid': 3}\n"
     ]
    }
   ],
   "source": [
    "print(env)"
   ]
  },
  {
   "cell_type": "code",
   "execution_count": 2,
   "metadata": {},
   "outputs": [],
   "source": [
    "class AutoVivification(dict):\n",
    "    \"\"\"Implementation of perl's autovivification feature.\"\"\"\n",
    "    def __getitem__(self, item):\n",
    "        try:\n",
    "            return dict.__getitem__(self, item)\n",
    "        except KeyError:\n",
    "            value = self[item] = type(self)()\n",
    "            return value\n",
    "            "
   ]
  },
  {
   "cell_type": "code",
   "execution_count": 3,
   "metadata": {
    "slideshow": {
     "slide_type": "-"
    }
   },
   "outputs": [],
   "source": [
    "from iconsdk.exception import JSONRPCException\n",
    "from iconsdk.libs.in_memory_zip import gen_deploy_data_content\n",
    "from iconsdk.icon_service import IconService\n",
    "from iconsdk.providers.http_provider import HTTPProvider\n",
    "from iconsdk.builder.transaction_builder import CallTransactionBuilder, TransactionBuilder, DeployTransactionBuilder\n",
    "from iconsdk.builder.call_builder import CallBuilder\n",
    "from iconsdk.signed_transaction import SignedTransaction\n",
    "from iconsdk.wallet.wallet import KeyWallet\n",
    "from iconsdk.utils.convert_type import convert_hex_str_to_int\n",
    "from datetime import datetime\n",
    "from repeater import retry\n",
    "from shutil import make_archive\n",
    "import requests\n",
    "import json\n",
    "import pickle as pkl\n",
    "import csv\n",
    "import os\n",
    "from pprint import pprint\n",
    "from getpass import getpass\n",
    "\n",
    "\n",
    "ICX = 1000000000000000000 # 10**18\n",
    "GOVERNANCE_ADDRESS = \"cx0000000000000000000000000000000000000000\"\n",
    "\n",
    "with open(contracts_file_custom, 'rb') as f:\n",
    "    contracts = pkl.load(f)\n",
    "\n",
    "@retry(JSONRPCException, tries=10, delay=1, back_off=2)\n",
    "def get_tx_result(_tx_hash):\n",
    "    tx_result = icon_service.get_transaction_result(_tx_hash)\n",
    "    return tx_result\n",
    "\n",
    "\n"
   ]
  },
  {
   "cell_type": "markdown",
   "metadata": {
    "slideshow": {
     "slide_type": "-"
    }
   },
   "source": [
    "### Required service"
   ]
  },
  {
   "cell_type": "code",
   "execution_count": 4,
   "metadata": {},
   "outputs": [],
   "source": [
    "icon_service = IconService(HTTPProvider(env[\"iconservice\"], 3))\n",
    "NID = env[\"nid\"]"
   ]
  },
  {
   "cell_type": "markdown",
   "metadata": {
    "slideshow": {
     "slide_type": "-"
    }
   },
   "source": [
    "# Importing wallet"
   ]
  },
  {
   "cell_type": "markdown",
   "metadata": {},
   "source": [
    "### Importing from private key"
   ]
  },
  {
   "cell_type": "code",
   "execution_count": 8,
   "metadata": {
    "scrolled": true
   },
   "outputs": [
    {
     "output_type": "stream",
     "name": "stdout",
     "text": [
      "hx91bf040426f226b3bfcd2f0b5967bbb0320525ce\n",
      "9339429034030198414715\n"
     ]
    }
   ],
   "source": [
    "\n",
    "private=\"a691ef7d5601f9b5be4f9b9d80215159ea6ff0b88003e3d34e078d40e778b39a\"\n",
    "deployer_wallet = KeyWallet.load(bytes.fromhex(private))\n",
    "print(deployer_wallet.get_address())\n",
    "print(icon_service.get_balance(\"hx91bf040426f226b3bfcd2f0b5967bbb0320525ce\"))"
   ]
  },
  {
   "cell_type": "markdown",
   "metadata": {},
   "source": [
    "#### Check balance"
   ]
  },
  {
   "cell_type": "code",
   "execution_count": 6,
   "metadata": {},
   "outputs": [
    {
     "output_type": "stream",
     "name": "stdout",
     "text": [
      "{'addressProvider': {'SCORE': 'cxb6109397557eedc7c140a157f3358c14e80f533a',\n                     'zip': '/home/elite/Desktop/OMM '\n                            'OG/openmoneymarket-mono/score/addressProvider'},\n 'feeProvider': {'SCORE': 'cx65b6b77e742e57da956bdab61ede5a395dcc8603',\n                 'zip': '/home/elite/Desktop/OMM '\n                        'OG/openmoneymarket-mono/score/feeProvider'},\n 'lendingPool': {'SCORE': 'cx74e824d2da7a0331c9a918dfd0f93fcb89b894ec',\n                 'zip': '/home/elite/Desktop/OMM '\n                        'OG/openmoneymarket-mono/score/lendingPool'},\n 'lendingPoolCore': {'SCORE': 'cx62ff612685e8ac85d2d814467c1ccae26d11a367',\n                     'zip': '/home/elite/Desktop/OMM '\n                            'OG/openmoneymarket-mono/score/lendingPoolCore'},\n 'lendingPoolDataProvider': {'SCORE': 'cxcea1bd2eb07440af158eaa52e58cb06b86681f30',\n                             'zip': '/home/elite/Desktop/OMM '\n                                    'OG/openmoneymarket-mono/score/lendingPoolDataProvider'},\n 'oICX': {'SCORE': 'cxfbdcc880d70dc3f700717a777c8ebab7fe1ed893',\n          'zip': '/home/elite/Desktop/OMM '\n                 'OG/openmoneymarket-mono/score/oToken'},\n 'oToken': {'SCORE': 'cx32294887f083960fb9a03ee8a91c5562f4202120',\n            'zip': '/home/elite/Desktop/OMM '\n                   'OG/openmoneymarket-mono/score/oToken'},\n 'priceOracle': {'SCORE': 'cxc6c6af658663807b7e21cc0ff76978d778409426',\n                 'zip': '/home/elite/Desktop/OMM '\n                        'OG/openmoneymarket-mono/score/priceOracle'},\n 'sample_token': {'SCORE': 'cxf56e9fb10e8a3df294e0c0ee23128e4d0e7231ab',\n                  'zip': '/home/elite/Desktop/OMM '\n                         'OG/openmoneymarket-mono/score/sample_token'},\n 'sicx': {'SCORE': 'cx58b79cb2ed3602f7d71f2a9035d3032620318799',\n          'zip': '/home/elite/Desktop/OMM OG/openmoneymarket-mono/score/sicx'}}\n"
     ]
    }
   ],
   "source": [
    "\n",
    "pprint(contracts)"
   ]
  },
  {
   "cell_type": "markdown",
   "metadata": {},
   "source": [
    "### Importing wallet from keystore file"
   ]
  },
  {
   "cell_type": "code",
   "execution_count": 5,
   "metadata": {
    "tags": []
   },
   "outputs": [
    {
     "data": {
      "text/plain": [
       "708876575999000000000000000"
      ]
     },
     "execution_count": 41,
     "metadata": {},
     "output_type": "execute_result"
    }
   ],
   "source": [
    "# Set to the address of the keystore file and give the password when prompted\n",
    "password = getpass()\n",
    "deployer_wallet = KeyWallet.load(\"./keystores/keystore_test1.json\",password)\n",
    "deployer_wallet.get_address()\n",
    "icon_service.get_balance(deployer_wallet.get_address())"
   ]
  },
  {
   "cell_type": "markdown",
   "metadata": {},
   "source": [
    "### Creating new wallet"
   ]
  },
  {
   "cell_type": "code",
   "execution_count": null,
   "metadata": {},
   "outputs": [],
   "source": [
    "deployer_wallet = KeyWallet.create()\n",
    "print(\"deployer wallet:  \",deployer_wallet.get_address())\n",
    "# caller_wallet = KeyWallet.create()\n",
    "# print(caller_wallet.get_address())"
   ]
  },
  {
   "cell_type": "markdown",
   "metadata": {},
   "source": [
    "### Transferring ICX"
   ]
  },
  {
   "cell_type": "code",
   "execution_count": 6,
   "metadata": {
    "tags": []
   },
   "outputs": [
    {
     "output_type": "stream",
     "name": "stdout",
     "text": "{'version': '0x3', 'from': 'hxe7af5fcfd8dfc67530a01a0e403882687528dfcb', 'to': 'hx682d355d1b745a0284d91e4731408d4a53401ccb', 'stepLimit': '0x30d40', 'timestamp': '0x5b4bf3fb8fcde', 'nid': '0x3', 'value': '0xd8d726b7177a800000', 'nonce': '0x64', 'signature': 'rkqAue7Kmim6R6xsP0XvA99uyCloXmv4HvWmPTcbtQskbROjymdaipHp6s+4NegclM2oAqertNmnH7XaTRkXYQA='}\n"
    },
    {
     "output_type": "execute_result",
     "data": {
      "text/plain": "{'txHash': '0xdc894570efc80dab6e745af05afea34402f1c94984693419b8bca22f541659e9',\n 'blockHeight': 9543161,\n 'blockHash': '0x185e3692e5198172aea3c333ee908ee69c8197d96c15223d452fee2099d34f62',\n 'txIndex': 1,\n 'to': 'hx682d355d1b745a0284d91e4731408d4a53401ccb',\n 'stepUsed': 100000,\n 'stepPrice': 10000000000,\n 'cumulativeStepUsed': 100000,\n 'eventLogs': [],\n 'logsBloom': b'\\x00\\x00\\x00\\x00\\x00\\x00\\x00\\x00\\x00\\x00\\x00\\x00\\x00\\x00\\x00\\x00\\x00\\x00\\x00\\x00\\x00\\x00\\x00\\x00\\x00\\x00\\x00\\x00\\x00\\x00\\x00\\x00\\x00\\x00\\x00\\x00\\x00\\x00\\x00\\x00\\x00\\x00\\x00\\x00\\x00\\x00\\x00\\x00\\x00\\x00\\x00\\x00\\x00\\x00\\x00\\x00\\x00\\x00\\x00\\x00\\x00\\x00\\x00\\x00\\x00\\x00\\x00\\x00\\x00\\x00\\x00\\x00\\x00\\x00\\x00\\x00\\x00\\x00\\x00\\x00\\x00\\x00\\x00\\x00\\x00\\x00\\x00\\x00\\x00\\x00\\x00\\x00\\x00\\x00\\x00\\x00\\x00\\x00\\x00\\x00\\x00\\x00\\x00\\x00\\x00\\x00\\x00\\x00\\x00\\x00\\x00\\x00\\x00\\x00\\x00\\x00\\x00\\x00\\x00\\x00\\x00\\x00\\x00\\x00\\x00\\x00\\x00\\x00\\x00\\x00\\x00\\x00\\x00\\x00\\x00\\x00\\x00\\x00\\x00\\x00\\x00\\x00\\x00\\x00\\x00\\x00\\x00\\x00\\x00\\x00\\x00\\x00\\x00\\x00\\x00\\x00\\x00\\x00\\x00\\x00\\x00\\x00\\x00\\x00\\x00\\x00\\x00\\x00\\x00\\x00\\x00\\x00\\x00\\x00\\x00\\x00\\x00\\x00\\x00\\x00\\x00\\x00\\x00\\x00\\x00\\x00\\x00\\x00\\x00\\x00\\x00\\x00\\x00\\x00\\x00\\x00\\x00\\x00\\x00\\x00\\x00\\x00\\x00\\x00\\x00\\x00\\x00\\x00\\x00\\x00\\x00\\x00\\x00\\x00\\x00\\x00\\x00\\x00\\x00\\x00\\x00\\x00\\x00\\x00\\x00\\x00\\x00\\x00\\x00\\x00\\x00\\x00\\x00\\x00\\x00\\x00\\x00\\x00\\x00\\x00\\x00\\x00\\x00\\x00\\x00\\x00\\x00\\x00\\x00\\x00\\x00\\x00\\x00\\x00\\x00\\x00',\n 'status': 1}"
     },
     "metadata": {},
     "execution_count": 6
    }
   ],
   "source": [
    "transaction = TransactionBuilder()\\\n",
    "    .from_(deployer_wallet.get_address())\\\n",
    "    .to(\"hx682d355d1b745a0284d91e4731408d4a53401ccb\")\\\n",
    "    .nid(3) \\\n",
    "    .nonce(100) \\\n",
    "    .value(4000*10**18)\\\n",
    "    .build()\n",
    "\n",
    "estimate_step = icon_service.estimate_step(transaction)\n",
    "step_limit = estimate_step + 100000\n",
    "# Returns the signed transaction object having a signature\n",
    "signed_transaction = SignedTransaction(transaction, deployer_wallet,step_limit)\n",
    "\n",
    "# Reads params to transfer to nodes\n",
    "print(signed_transaction.signed_transaction_dict)\n",
    "\n",
    "# Sends the transaction\n",
    "tx_hash = icon_service.send_transaction(signed_transaction)\n",
    "\n",
    "get_tx_result(tx_hash)"
   ]
  },
  {
   "cell_type": "markdown",
   "metadata": {},
   "source": [
    "### Transfering USDb to a wallet"
   ]
  },
  {
   "cell_type": "code",
   "execution_count": null,
   "metadata": {},
   "outputs": [],
   "source": [
    "params = {\"_to\": \"\", \"_value\": 1000000000000000000000,}\n",
    "transaction = CallTransactionBuilder()\\\n",
    "    .from_(deployer_wallet.get_address())\\\n",
    "    .to(contracts['sample_token']['SCORE'])\\\n",
    "    .value(0)\\\n",
    "    .step_limit(10000000)\\\n",
    "    .nid(3)\\\n",
    "    .nonce(100)\\\n",
    "    .method(\"transfer\")\\\n",
    "    .params(params)\\\n",
    "    .build()\n",
    "signed_transaction = SignedTransaction(transaction, deployer_wallet)\n",
    "tx_hash = icon_service.send_transaction(signed_transaction)\n",
    "get_tx_result(tx_hash)"
   ]
  },
  {
   "cell_type": "markdown",
   "metadata": {},
   "source": [
    "# Depositing USDb from a wallet"
   ]
  },
  {
   "cell_type": "code",
   "execution_count": 67,
   "metadata": {
    "tags": []
   },
   "outputs": [
    {
     "name": "stderr",
     "output_type": "stream",
     "text": [
      "Raised JSONRPCException while returning the custom response. Error message: {'code': -32602, 'message': 'Pending transaction'}\n",
      "{'code': -32602, 'message': 'Pending transaction'} (Json rpc error), Retrying in 1 seconds...\n"
     ]
    },
    {
     "data": {
      "text/plain": [
       "{'txHash': '0xb1fc5062c7d5fa859a08dd5b505b322bd03450067aec12f06e456c79c25c7d26',\n",
       " 'blockHeight': 443726,\n",
       " 'blockHash': '0x1bcfa6746677749da2e16fb7b42ff3708e2dcb3a9fcb7f6a35458f58c72ea4e6',\n",
       " 'txIndex': 1,\n",
       " 'to': 'cx2c002610b8aeaff84f6cb97c28294b1986016143',\n",
       " 'stepUsed': 729440,\n",
       " 'stepPrice': 10000000000,\n",
       " 'cumulativeStepUsed': 729440,\n",
       " 'eventLogs': [{'scoreAddress': 'cx879e276135a6f25236a8abf2e4c9801887538f60',\n",
       "   'indexed': ['ReserveUpdated(Address,int,int,int,int)',\n",
       "    'cx2c002610b8aeaff84f6cb97c28294b1986016143',\n",
       "    '0x0',\n",
       "    '0x0'],\n",
       "   'data': ['0xde0b6b3a7640000', '0xde0b6b3a7640000']},\n",
       "  {'scoreAddress': 'cx2f9c6ae40e6ae4c8d39961b3f3d701363b361773',\n",
       "   'indexed': ['Mint(Address,int)',\n",
       "    'hx91bf040426f226b3bfcd2f0b5967bbb0320525ce'],\n",
       "   'data': ['0x0']},\n",
       "  {'scoreAddress': 'cx2f9c6ae40e6ae4c8d39961b3f3d701363b361773',\n",
       "   'indexed': ['Mint(Address,int)',\n",
       "    'hx91bf040426f226b3bfcd2f0b5967bbb0320525ce'],\n",
       "   'data': ['0x3635c9adc5dea00000']},\n",
       "  {'scoreAddress': 'cx2f9c6ae40e6ae4c8d39961b3f3d701363b361773',\n",
       "   'indexed': ['MintOnDeposit(Address,int,int,int)',\n",
       "    'hx91bf040426f226b3bfcd2f0b5967bbb0320525ce',\n",
       "    '0x3635c9adc5dea00000',\n",
       "    '0x0'],\n",
       "   'data': ['0xde0b6b3a7640000']},\n",
       "  {'scoreAddress': 'cx2c002610b8aeaff84f6cb97c28294b1986016143',\n",
       "   'indexed': ['Transfer(Address,Address,int,bytes)',\n",
       "    'cx9a1e70f60ee138d8e2c2eee0daf28a7d0645bd02',\n",
       "    'cx879e276135a6f25236a8abf2e4c9801887538f60',\n",
       "    '0x3635c9adc5dea00000'],\n",
       "   'data': ['0x4e6f6e65']},\n",
       "  {'scoreAddress': 'cx2c002610b8aeaff84f6cb97c28294b1986016143',\n",
       "   'indexed': ['Transfer(Address,Address,int,bytes)',\n",
       "    'hx91bf040426f226b3bfcd2f0b5967bbb0320525ce',\n",
       "    'cx9a1e70f60ee138d8e2c2eee0daf28a7d0645bd02',\n",
       "    '0x3635c9adc5dea00000'],\n",
       "   'data': ['0x7b226d6574686f64223a20226465706f736974222c2022706172616d73223a207b22616d6f756e74223a20313030303030303030303030303030303030303030307d7d']}],\n",
       " 'logsBloom': b'\\x00\\x00\\x00\\x00\\x00\\x00\\x00\\x00\\x00\\x00\\x00 \\x00\\x00\\x80\\x00\\x00\\x00\\x00\\t\\x00\\x00\\x00\\x00\\x00\\x00\\x00\\x00\\x00\\x00\\x00\\x00\\x00\\x00\\x00\\x02\\x00\\x00\\x10\\x00\\x00\\x00\\x00\\x00\\x00\\x00\\x00\\x00\\x00\\x00\\x01\\x00\\x00@\\x00\\x00\\x00\\x00\\x00\\x80\\x00\\x08\\x00\\x00\\x00\\x00\\x00\\x00\\x00\\x00\\x00\\x00\\x00\\x00\\x00\\x10\\x00\\t\\x00\\x00\\x08\\x00\\x00\\x00\\x00\\x00\\x00\\x00\\x00\\x00\\x01\\x00\\x00\\x00\\x00\\x00\\x80 \\x01 \\x00\\x00\\x00\\x00\\x00\\x00\\x00\\x00\\x00\\x00@\\x00\\x00\\x01\\x00\\x00\\x00\\x00\\x00\\x00\\x00\\x00\\x00\\x00\\x00\\x02\\x00\\x00\\x00\\x00\\x00\\x00\\x00\\x00\\x00\\x00\\x00\\x00\\x00\\x00\\x00\\x00\\x00\\x00\\x00\\x00\\x01\\x02\\x00\\x00\\x00\\x00 \\x00\\x00\\x00\\x00\\x10\\x00\\x10\\x00\\x00\\x00\\x00@ \\x00\\x00\\x00\\x00\\x00\\x00\\x00\\x00\\x00\\x00\\x01\\x00\\x00\\x00\\x00\\x00\\x00\\x00\\x00\\x00\\x00\\x00\\x00\\x10\\x00\\x02\\x00\\x00\\x00\\x01\\x00\\x02 \\x02\\x00\\x00\\x00\\x00\\x00\\x00\\x00\\x00\\x00\\x00\\x00\\x00\\x00\\x03\\x00\\x08\\x00\\x00\\x00\\x00\\x00\\x00\\x00\\x00\\x80\\x00\\x02\\x00\\x00\\x00\\x01\\x00\\x00\\x00\\x00\\x02\\x00\\x00\\x00\\x00\\x00\\x00\\x04\\x00 \\x00\\x00\\x10\\x80\\x00\\x00\\x00\\x00\\x00\\x00\\x00',\n",
       " 'status': 1}"
      ]
     },
     "execution_count": 67,
     "metadata": {},
     "output_type": "execute_result"
    }
   ],
   "source": [
    "data = \"{\\\"method\\\": \\\"deposit\\\", \\\"params\\\": {\\\"amount\\\": 1000000000000000000000}}\".encode(\"utf-8\")\n",
    "params = {\"_to\": contracts['lendingPool']['SCORE'], \"_value\": 1000000000000000000000, \"_data\": data}\n",
    "transaction = CallTransactionBuilder()\\\n",
    "    .from_(deployer_wallet.get_address())\\\n",
    "    .to(contracts['sample_token']['SCORE'])\\\n",
    "    .value(0)\\\n",
    "    .step_limit(10000000)\\\n",
    "    .nid(3)\\\n",
    "    .nonce(100)\\\n",
    "    .method(\"transfer\")\\\n",
    "    .params(params)\\\n",
    "    .build()\n",
    "signed_transaction = SignedTransaction(transaction, deployer_wallet)\n",
    "tx_hash = icon_service.send_transaction(signed_transaction)\n",
    "get_tx_result(tx_hash)"
   ]
  },
  {
   "cell_type": "markdown",
   "metadata": {},
   "source": [
    "# Borrowing USDb"
   ]
  },
  {
   "cell_type": "code",
   "execution_count": 75,
   "metadata": {
    "tags": []
   },
   "outputs": [
    {
     "name": "stdout",
     "output_type": "stream",
     "text": [
      "{'version': '0x3', 'from': 'hx91bf040426f226b3bfcd2f0b5967bbb0320525ce', 'to': 'cx9a1e70f60ee138d8e2c2eee0daf28a7d0645bd02', 'stepLimit': '0x11a350', 'timestamp': '0x5b3ab99c871a5', 'nid': '0x3', 'nonce': '0x64', 'dataType': 'call', 'data': {'method': 'borrow', 'params': {'_reserve': 'cx2c002610b8aeaff84f6cb97c28294b1986016143', '_amount': '0x821ab0d4414980000'}}, 'signature': 'nnBAhBv6BGeWZE63Rr6d02x+c/R36yjf49WvR/G5VLd6hz7tKN6lL6lG/kghrjVg0ZPWIf2KdJi+rmBPoRrFWAA='}\n",
      "Raised JSONRPCException while returning the custom response. Error message: {'code': -32602, 'message': 'Pending transaction'}\n",
      "{'code': -32602, 'message': 'Pending transaction'} (Json rpc error), Retrying in 1 seconds...\n"
     ]
    },
    {
     "data": {
      "text/plain": [
       "{'txHash': '0x4f24f998ab722bbcdd6589d23f1bd67cc98a4f30ff863710b291f60545017e0f',\n",
       " 'blockHeight': 443982,\n",
       " 'blockHash': '0x795f4716b2053eca2b1b8585c02c10fe30705843841760035bf91b80abb581c9',\n",
       " 'txIndex': 1,\n",
       " 'to': 'cx9a1e70f60ee138d8e2c2eee0daf28a7d0645bd02',\n",
       " 'stepUsed': 1055920,\n",
       " 'stepPrice': 10000000000,\n",
       " 'cumulativeStepUsed': 1055920,\n",
       " 'eventLogs': [{'scoreAddress': 'cx879e276135a6f25236a8abf2e4c9801887538f60',\n",
       "   'indexed': ['ReserveUpdated(Address,int,int,int,int)',\n",
       "    'cx2c002610b8aeaff84f6cb97c28294b1986016143',\n",
       "    '0x864ae65482800',\n",
       "    '0x3e2c284391c000'],\n",
       "   'data': ['0xde0b6b3a7640000', '0xde0b6b3a7640000']},\n",
       "  {'scoreAddress': 'cx2c002610b8aeaff84f6cb97c28294b1986016143',\n",
       "   'indexed': ['Transfer(Address,Address,int,bytes)',\n",
       "    'cx879e276135a6f25236a8abf2e4c9801887538f60',\n",
       "    'hx91bf040426f226b3bfcd2f0b5967bbb0320525ce',\n",
       "    '0x821ab0d4414980000'],\n",
       "   'data': ['0x4e6f6e65']}],\n",
       " 'logsBloom': b'\\x00\\x00\\x00\\x00\\x00\\x00\\x00\\x10\\x00\\x00\\x00 \\x00\\x00\\x00\\x00\\x00\\x00\\x00\\x00\\x00\\x00\\x04\\x00\\x00\\x00\\x00\\x00\\x00\\x00\\x00\\x00\\x08\\x00\\x00\\x02\\x00\\x00\\x00\\x00\\x00\\x00\\x00\\x00\\x00\\x00\\x00\\x00\\x00\\x00\\x00\\x80\\x80\\x00\\x00\\x00\\x00\\x00\\x00\\x00\\x00\\x00\\x00\\x00\\x00\\x00\\x00\\x00\\x00\\x00\\x00\\x00\\x00\\x00\\x00\\x00\\x00\\x08\\x00\\x00\\x00\\x00\\x00\\x00\\x00\\x00\\x00\\x00\\x00\\x00\\x01\\x00\\x00\\x00\\x00\\x00\\x80\\x00\\x00 \\x00\\x00\\x00\\x00\\x00\\x00\\x00\\x00\\x00\\x00\\x00\\x00\\x00\\x00\\x00\\x00\\x00\\x00\\x00\\x00\\x00\\x00\\x00\\x00\\x00\\x02\\x00\\x04\\x00\\x00\\x00\\x00\\x00\\x00\\x00\\x00\\x00\\x00\\x00\\x00\\x00\\x00\\x00\\x00\\x00\\x00\\x08\\x00\\x00\\x00\\x00\\x00\\x00\\x01\\x00\\x00\\x00\\x10\\x00\\x00\\x00\\x00\\x00\\x00\\x00\\x00\\x00\\x00\\x00\\x00\\x00\\x00\\x00\\x00\\x00\\x00\\x01\\x00\\x00\\x00@\\x00\\x00\\x80\\x00\\x00\\x00\\x00\\x00\\x00\\x00\\x00\\x00\\x00\\x00\\x01\\x00\\x00  \\x00\\x00\\x00\\x00\\x00\\x00\\x00\\x00\\x00\\x04\\x00\\x00\\x00\\t\\x00\\x00\\x02\\x00\\x00\\x00\\x00\\x00\\x00\\x00\\x80\\x00\\x00\\x00\\x00\\x00\\x00\\x00\\x00\\x00\\x00\\x00\\x00\\x00\\x00\\x00\\x00\\x00\\x00\\x00 \\x00\\x00\\x00\\x80\\x00\\x00\\x00\\x00\\x00\\x00\\x80',\n",
       " 'status': 1}"
      ]
     },
     "execution_count": 75,
     "metadata": {},
     "output_type": "execute_result"
    }
   ],
   "source": [
    "params ={\"_reserve\": contracts['sample_token']['SCORE'], \"_amount\":150*10**18 }\n",
    "call_transaction = CallTransactionBuilder()\\\n",
    "    .from_(deployer_wallet.get_address())\\\n",
    "    .to(contracts['lendingPool']['SCORE']) \\\n",
    "    .nid(NID) \\\n",
    "    .nonce(100) \\\n",
    "    .method(\"borrow\")\\\n",
    "    .params(params)\\\n",
    "    .build()\n",
    "\n",
    "estimate_step = icon_service.estimate_step(call_transaction)\n",
    "step_limit = estimate_step + 100000\n",
    "# Returns the signed transaction object having a signature\n",
    "signed_transaction = SignedTransaction(call_transaction, deployer_wallet,step_limit)\n",
    "\n",
    "# Reads params to transfer to nodes\n",
    "print(signed_transaction.signed_transaction_dict)\n",
    "\n",
    "# Sends the transaction\n",
    "tx_hash = icon_service.send_transaction(signed_transaction)\n",
    "get_tx_result(tx_hash)"
   ]
  },
  {
   "cell_type": "markdown",
   "metadata": {},
   "source": [
    "# Reedeming/Withdrawing USDb"
   ]
  },
  {
   "cell_type": "code",
   "execution_count": null,
   "metadata": {},
   "outputs": [],
   "source": [
    "params ={\"_amount\": 10*10**18 }\n",
    "call_transaction = CallTransactionBuilder()\\\n",
    "    .from_(deployer_wallet.get_address())\\\n",
    "    .to(contracts['oToken']['SCORE']) \\\n",
    "    .nid(NID) \\\n",
    "    .nonce(100) \\\n",
    "    .method(\"redeem\")\\\n",
    "    .params(params)\\\n",
    "    .build()\n",
    "\n",
    "estimate_step = icon_service.estimate_step(call_transaction)\n",
    "step_limit = estimate_step + 100000\n",
    "# Returns the signed transaction object having a signature\n",
    "signed_transaction = SignedTransaction(call_transaction, deployer_wallet,step_limit)\n",
    "\n",
    "# Reads params to transfer to nodes\n",
    "print(signed_transaction.signed_transaction_dict)\n",
    "\n",
    "# Sends the transaction\n",
    "tx_hash = icon_service.send_transaction(signed_transaction)\n",
    "get_tx_result(tx_hash)"
   ]
  },
  {
   "cell_type": "markdown",
   "metadata": {},
   "source": [
    "# Repaying USDb"
   ]
  },
  {
   "cell_type": "code",
   "execution_count": null,
   "metadata": {},
   "outputs": [],
   "source": [
    "data = \"{\\\"method\\\": \\\"repay\\\", \\\"params\\\": {\\\"amount\\\": 100000000000000000000}}\".encode(\"utf-8\")\n",
    "params = {\"_to\": contracts['lendingPool']['SCORE'], \"_value\": 100000000000000000000, \"_data\": data}\n",
    "transaction = CallTransactionBuilder()\\\n",
    "    .from_(deployer_wallet.get_address())\\\n",
    "    .to(contracts['sicx']['SCORE'])\\\n",
    "    .value(0)\\\n",
    "    .step_limit(10000000)\\\n",
    "    .nid(3)\\\n",
    "    .nonce(100)\\\n",
    "    .method(\"transfer\")\\\n",
    "    .params(params)\\\n",
    "    .build()\n",
    "signed_transaction = SignedTransaction(transaction, deployer_wallet)\n",
    "tx_hash = icon_service.send_transaction(signed_transaction)\n",
    "get_tx_result(tx_hash)"
   ]
  },
  {
   "source": [
    "# Depositing ICX"
   ],
   "cell_type": "markdown",
   "metadata": {}
  },
  {
   "cell_type": "code",
   "execution_count": null,
   "metadata": {},
   "outputs": [],
   "source": [
    "params = {\"_amount\": 500 * 10 ** 18}\n",
    "call_transaction = CallTransactionBuilder() \\\n",
    "    .from_(deployer_wallet.get_address()) \\\n",
    "    .to(contracts['lendingPool']['SCORE']) \\\n",
    "    .nid(3) \\\n",
    "    .step_limit(1000000000) \\\n",
    "    .nonce(100) \\\n",
    "    .value(500 * 10 ** 18) \\\n",
    "    .method(\"deposit\") \\\n",
    "    .params(params) \\\n",
    "    .build() \n",
    "\n",
    "signed_transaction = SignedTransaction(call_transaction, deployer_wallet)\n",
    "tx_hash = icon_service.send_transaction(signed_transaction)\n",
    "get_tx_result(tx_hash)"
   ]
  },
  {
   "source": [
    "# Withdrawing ICX "
   ],
   "cell_type": "markdown",
   "metadata": {}
  },
  {
   "cell_type": "code",
   "execution_count": null,
   "metadata": {},
   "outputs": [],
   "source": [
    "params = {\"_amount\": 250 * 10 ** 18}\n",
    "call_transaction = CallTransactionBuilder() \\\n",
    "    .from_(deployer_wallet.get_address())\\\n",
    "    .to(contracts['oICX']['SCORE'])\\\n",
    "    .nid(3) \\\n",
    "    .step_limit(10000000) \\\n",
    "    .nonce(100) \\\n",
    "    .method(\"redeem\") \\\n",
    "    .params(params) \\\n",
    "    .build()\n",
    "signed_transaction = SignedTransaction(call_transaction, deployer_wallet)\n",
    "tx_hash = icon_service.send_transaction(signed_transaction)\n",
    "get_tx_result(tx_hash)"
   ]
  },
  {
   "source": [
    "# Borrow sICX"
   ],
   "cell_type": "markdown",
   "metadata": {}
  },
  {
   "cell_type": "code",
   "execution_count": null,
   "metadata": {},
   "outputs": [],
   "source": [
    "params ={\"_reserve\": contracts['sicx']['SCORE'], \"_amount\":150 * 10 ** 18 }\n",
    "call_transaction = CallTransactionBuilder()\\\n",
    "    .from_(deployer_wallet.get_address())\\\n",
    "    .to(contracts['lendingPool']['SCORE']) \\\n",
    "    .nid(NID) \\\n",
    "    .nonce(100) \\\n",
    "    .method(\"borrow\")\\\n",
    "    .params(params)\\\n",
    "    .build()\n",
    "\n",
    "estimate_step = icon_service.estimate_step(call_transaction)\n",
    "step_limit = estimate_step + 100000\n",
    "# Returns the signed transaction object having a signature\n",
    "signed_transaction = SignedTransaction(call_transaction, deployer_wallet,step_limit)\n",
    "\n",
    "# Reads params to transfer to nodes\n",
    "print(signed_transaction.signed_transaction_dict)\n",
    "\n",
    "# Sends the transaction\n",
    "tx_hash = icon_service.send_transaction(signed_transaction)\n",
    "get_tx_result(tx_hash)"
   ]
  },
  {
   "source": [
    "# Repay sICX"
   ],
   "cell_type": "markdown",
   "metadata": {}
  },
  {
   "cell_type": "code",
   "execution_count": null,
   "metadata": {},
   "outputs": [],
   "source": [
    "data = \"{\\\"method\\\": \\\"repay\\\", \\\"params\\\": {\\\"amount\\\": 100 * 10 ** 18}}\".encode(\"utf-8\")\n",
    "params = {\"_to\": contracts['lendingPool']['SCORE'], \"_value\": 100 * 10 ** 18, \"_data\": data}\n",
    "transaction = CallTransactionBuilder()\\\n",
    "    .from_(deployer_wallet.get_address())\\\n",
    "    .to(contracts['sicx']['SCORE'])\\\n",
    "    .value(0)\\\n",
    "    .step_limit(10000000)\\\n",
    "    .nid(3)\\\n",
    "    .nonce(100)\\\n",
    "    .method(\"transfer\")\\\n",
    "    .params(params)\\\n",
    "    .build()\n",
    "signed_transaction = SignedTransaction(transaction, deployer_wallet)\n",
    "tx_hash = icon_service.send_transaction(signed_transaction)\n",
    "get_tx_result(tx_hash)"
   ]
  },
  {
   "cell_type": "markdown",
   "metadata": {},
   "source": [
    "# Readonly methods to get data"
   ]
  },
  {
   "cell_type": "markdown",
   "metadata": {},
   "source": [
    "## Getting specific reserve data"
   ]
  },
  {
   "source": [
    "### This returns the reserve data of USDb"
   ],
   "cell_type": "markdown",
   "metadata": {}
  },
  {
   "cell_type": "code",
   "execution_count": 46,
   "metadata": {
    "tags": []
   },
   "outputs": [
    {
     "output_type": "stream",
     "name": "stdout",
     "text": [
      "{'availableLiquidity': 1900.0,\n 'baseLTVasCollateral': 0.6,\n 'borrowCumulativeIndex': 1.0,\n 'borrowRate': 0.013333333333333332,\n 'borrowingEnabled': '0x1',\n 'decimals': 1.8e-17,\n 'isActive': '0x1',\n 'isFreezed': '0x0',\n 'lastUpdateTimestamp': 1606384274330287,\n 'liquidationBonus': 1e-17,\n 'liquidationThreshold': 0.65,\n 'liquidityCumulativeIndex': 1.0,\n 'liquidityRate': 0.0006,\n 'oTokenAddress': 'cx32294887f083960fb9a03ee8a91c5562f4202120',\n 'reserveAddress': 'cxf56e9fb10e8a3df294e0c0ee23128e4d0e7231ab',\n 'totalBorrows': 100.0,\n 'totalLiquidity': 2000.0,\n 'usageAsCollateralEnabled': '0x1'}\n"
     ]
    }
   ],
   "source": [
    "params = {'_reserve': contracts['sample_token']['SCORE']}\n",
    "_call = CallBuilder()\\\n",
    "    .from_(deployer_wallet.get_address())\\\n",
    "    .to(contracts['lendingPoolDataProvider']['SCORE'])\\\n",
    "    .method(\"getReserveData\")\\\n",
    "    .params(params)\\\n",
    "    .build()\n",
    "response = icon_service.call(_call)\n",
    "for key,values in response.items():\n",
    "    if values==\"0x1\" or values ==\"0x0\" or \"Address\" in key:\n",
    "        continue\n",
    "    if key!=\"lastUpdateTimestamp\":\n",
    "        response[key]=int(values,0)/10**18\n",
    "    else:\n",
    "        response[key]=int(values,0)\n",
    "\n",
    "pprint(response)"
   ]
  },
  {
   "source": [
    "### This method returns the reserve data of sICX"
   ],
   "cell_type": "markdown",
   "metadata": {}
  },
  {
   "cell_type": "code",
   "execution_count": 48,
   "metadata": {},
   "outputs": [
    {
     "output_type": "stream",
     "name": "stdout",
     "text": [
      "{'availableLiquidity': 500.0,\n 'baseLTVasCollateral': 0.33,\n 'borrowCumulativeIndex': 1.0,\n 'borrowRate': 0.058333333333333334,\n 'borrowingEnabled': '0x1',\n 'decimals': 1.8e-17,\n 'isActive': '0x1',\n 'isFreezed': '0x0',\n 'lastUpdateTimestamp': 1606381414982641,\n 'liquidationBonus': 1e-17,\n 'liquidationThreshold': 0.65,\n 'liquidityCumulativeIndex': 1.0,\n 'liquidityRate': 0.02625,\n 'oTokenAddress': 'cxfbdcc880d70dc3f700717a777c8ebab7fe1ed893',\n 'reserveAddress': 'cx58b79cb2ed3602f7d71f2a9035d3032620318799',\n 'totalBorrows': 500.0,\n 'totalLiquidity': 1000.0,\n 'usageAsCollateralEnabled': '0x1'}\n"
     ]
    }
   ],
   "source": [
    "params = {'_reserve': contracts['sicx']['SCORE']}\n",
    "_call = CallBuilder()\\\n",
    "    .from_(deployer_wallet.get_address())\\\n",
    "    .to(contracts['lendingPoolDataProvider']['SCORE'])\\\n",
    "    .method(\"getReserveData\")\\\n",
    "    .params(params)\\\n",
    "    .build()\n",
    "response = icon_service.call(_call)\n",
    "for key,values in response.items():\n",
    "    if values==\"0x1\" or values ==\"0x0\" or \"Address\" in key:\n",
    "        continue\n",
    "    if key!=\"lastUpdateTimestamp\":\n",
    "        response[key]=int(values,0)/10**18\n",
    "    else:\n",
    "        response[key]=int(values,0)\n",
    "\n",
    "pprint(response)"
   ]
  },
  {
   "cell_type": "markdown",
   "metadata": {},
   "source": [
    "## Getting data of all reserves"
   ]
  },
  {
   "source": [
    "### This returns the reserve data of all the reserves"
   ],
   "cell_type": "markdown",
   "metadata": {}
  },
  {
   "cell_type": "code",
   "execution_count": 37,
   "metadata": {
    "tags": []
   },
   "outputs": [
    {
     "output_type": "stream",
     "name": "stdout",
     "text": [
      "{'USDb': {'availableLiquidity': 2000.0,\n          'baseLTVasCollateral': 0.6,\n          'borrowCumulativeIndex': 1.0,\n          'borrowRate': 0.01,\n          'borrowingEnabled': '0x1',\n          'decimals': 1.8e-17,\n          'isActive': '0x1',\n          'isFreezed': '0x0',\n          'lastUpdateTimestamp': 1606379856315421,\n          'liquidationBonus': 1e-17,\n          'liquidationThreshold': 0.65,\n          'liquidityCumulativeIndex': 1.0,\n          'liquidityRate': '0x0',\n          'oTokenAddress': 'cx32294887f083960fb9a03ee8a91c5562f4202120',\n          'reserveAddress': 'cxf56e9fb10e8a3df294e0c0ee23128e4d0e7231ab',\n          'totalBorrows': '0x0',\n          'totalLiquidity': 2000.0,\n          'usageAsCollateralEnabled': '0x1'},\n 'sICX': {'availableLiquidity': 500.0,\n          'baseLTVasCollateral': 0.33,\n          'borrowCumulativeIndex': 1.0,\n          'borrowRate': 0.058333333333333334,\n          'borrowingEnabled': '0x1',\n          'decimals': 1.8e-17,\n          'isActive': '0x1',\n          'isFreezed': '0x0',\n          'lastUpdateTimestamp': 1606381414982641,\n          'liquidationBonus': 1e-17,\n          'liquidationThreshold': 0.65,\n          'liquidityCumulativeIndex': 1.0,\n          'liquidityRate': 0.02625,\n          'oTokenAddress': 'cxfbdcc880d70dc3f700717a777c8ebab7fe1ed893',\n          'reserveAddress': 'cx58b79cb2ed3602f7d71f2a9035d3032620318799',\n          'totalBorrows': 500.0,\n          'totalLiquidity': 1000.0,\n          'usageAsCollateralEnabled': '0x1'}}\n"
     ]
    }
   ],
   "source": [
    "params = {'_reserve': contracts['sample_token']['SCORE']}\n",
    "_call = CallBuilder()\\\n",
    "    .from_(deployer_wallet.get_address())\\\n",
    "    .to(contracts['lendingPoolDataProvider']['SCORE'])\\\n",
    "    .method(\"getAllReserveData\")\\\n",
    "    .build()\n",
    "response = icon_service.call(_call)\n",
    "for key,values in response.items():\n",
    "    for k,v in values.items():\n",
    "        if v==\"0x1\" or v ==\"0x0\" or \"Address\" in k:\n",
    "            continue\n",
    "        if k!=\"lastUpdateTimestamp\":\n",
    "            response[key][k]=int(v,0)/10**18\n",
    "        else:\n",
    "            response[key][k]=int(v,0)\n",
    "pprint(response)"
   ]
  },
  {
   "cell_type": "markdown",
   "metadata": {},
   "source": [
    "## Getting user account data"
   ]
  },
  {
   "source": [
    "### Returns the user data of all the reserves combined"
   ],
   "cell_type": "markdown",
   "metadata": {}
  },
  {
   "cell_type": "code",
   "execution_count": 49,
   "metadata": {
    "tags": []
   },
   "outputs": [
    {
     "output_type": "stream",
     "name": "stdout",
     "text": [
      "{'currentLiquidationThreshold': 0.65,\n 'currentLtv': 0.33,\n 'healthFactor': 3.241903299041176,\n 'healthFactorBelowThreshold': 0.0,\n 'totalBorrowBalanceUSD': 100.00001014713393,\n 'totalCollateralBalanceUSD': 500.0012901921613,\n 'totalFeesUSD': 0.25,\n 'totalLiquidityBalanceUSD': 500.0012901921613}\n"
     ]
    }
   ],
   "source": [
    "params = {'_user': 'hx455dfffb56126d29d3542da8cbaabb865af190a0'}\n",
    "_call = CallBuilder()\\\n",
    "    .from_(deployer_wallet.get_address())\\\n",
    "    .to(contracts['lendingPoolDataProvider']['SCORE'])\\\n",
    "    .method(\"getUserAccountData\")\\\n",
    "    .params(params)\\\n",
    "    .build()\n",
    "response = icon_service.call(_call)\n",
    "for key,values in response.items():\n",
    "    if key!=\"lastUpdateTimestamp\":\n",
    "        response[key]=int(values,0)/10**18\n",
    "    else:\n",
    "        response[key]=int(values,0)\n",
    "pprint(response)"
   ]
  },
  {
   "cell_type": "markdown",
   "metadata": {},
   "source": [
    "### Getting user reserve data for USDb reserve"
   ]
  },
  {
   "cell_type": "code",
   "execution_count": 51,
   "metadata": {
    "tags": []
   },
   "outputs": [
    {
     "output_type": "stream",
     "name": "stdout",
     "text": [
      "{'borrowRate': 0.013333333333333332,\n 'currentBorrowBalance': 0.0,\n 'currentBorrowBalanceUSD': 0.0,\n 'currentOTokenBalance': 2000.0000173896499,\n 'currentOTokenBalanceUSD': 2000.0000173896499,\n 'lastUpdateTimestamp': 0,\n 'liquidityRate': 0.0006,\n 'originationFee': 0.0,\n 'principalBorrowBalance': 0.0,\n 'principalBorrowBalanceUSD': 0.0,\n 'useAsCollateral': 1e-18,\n 'userBorrowCumulativeIndex': 0.0}\n"
     ]
    }
   ],
   "source": [
    "params = {'_user': 'hx3ebaf06e2ee517155c879692461872f51b7b1e17' ,\"_reserve\":contracts['sample_token']['SCORE']}\n",
    "_call = CallBuilder()\\\n",
    "    .from_(deployer_wallet.get_address())\\\n",
    "    .to(contracts['lendingPoolDataProvider']['SCORE'])\\\n",
    "    .method(\"getUserReserveData\")\\\n",
    "    .params(params)\\\n",
    "    .build()\n",
    "response = icon_service.call(_call)\n",
    "for key,values in response.items():\n",
    "    if key!=\"lastUpdateTimestamp\":\n",
    "        response[key]=int(values,0)/10**18\n",
    "    else:\n",
    "        response[key]=int(values,0)\n",
    "pprint(response)"
   ]
  },
  {
   "source": [
    "### Getting user reserve data for sICX reserve"
   ],
   "cell_type": "markdown",
   "metadata": {}
  },
  {
   "cell_type": "code",
   "execution_count": 53,
   "metadata": {},
   "outputs": [
    {
     "output_type": "stream",
     "name": "stdout",
     "text": [
      "{'borrowRate': 0.013333333333333332,\n 'currentBorrowBalance': 0.0,\n 'currentBorrowBalanceUSD': 0.0,\n 'currentOTokenBalance': 2000.0000195966516,\n 'currentOTokenBalanceUSD': 2000.0000195966516,\n 'lastUpdateTimestamp': 0,\n 'liquidityRate': 0.0006,\n 'originationFee': 0.0,\n 'principalBorrowBalance': 0.0,\n 'principalBorrowBalanceUSD': 0.0,\n 'useAsCollateral': 1e-18,\n 'userBorrowCumulativeIndex': 0.0}\n"
     ]
    }
   ],
   "source": [
    "params = {'_user': 'hx3ebaf06e2ee517155c879692461872f51b7b1e17' ,\"_reserve\":contracts['sample_token']['SCORE']}\n",
    "_call = CallBuilder()\\\n",
    "    .from_(deployer_wallet.get_address())\\\n",
    "    .to(contracts['lendingPoolDataProvider']['SCORE'])\\\n",
    "    .method(\"getUserReserveData\")\\\n",
    "    .params(params)\\\n",
    "    .build()\n",
    "response = icon_service.call(_call)\n",
    "for key,values in response.items():\n",
    "    if key!=\"lastUpdateTimestamp\":\n",
    "        response[key]=int(values,0)/10**18\n",
    "    else:\n",
    "        response[key]=int(values,0)\n",
    "pprint(response)"
   ]
  },
  {
   "cell_type": "markdown",
   "metadata": {},
   "source": [
    "### Getting the data of user for all reserves"
   ]
  },
  {
   "cell_type": "code",
   "execution_count": 27,
   "metadata": {
    "tags": []
   },
   "outputs": [
    {
     "output_type": "stream",
     "name": "stdout",
     "text": [
      "{'USDb': {'borrowRate': 0.01,\n          'currentBorrowBalance': 0.0,\n          'currentBorrowBalanceUSD': 0.0,\n          'currentOTokenBalance': 2000.0,\n          'currentOTokenBalanceUSD': 2000.0,\n          'lastUpdateTimestamp': 0,\n          'liquidityRate': 0.0,\n          'originationFee': 0.0,\n          'principalBorrowBalance': 0.0,\n          'principalBorrowBalanceUSD': 0.0,\n          'useAsCollateral': 1e-18,\n          'userBorrowCumulativeIndex': 0.0},\n 'sICX': {'borrowRate': 0.0,\n          'currentBorrowBalance': 0.0,\n          'currentBorrowBalanceUSD': 0.0,\n          'currentOTokenBalance': 0.0,\n          'currentOTokenBalanceUSD': 0.0,\n          'lastUpdateTimestamp': 0,\n          'liquidityRate': 0.0,\n          'originationFee': 0.0,\n          'principalBorrowBalance': 0.0,\n          'principalBorrowBalanceUSD': 0.0,\n          'useAsCollateral': 0.0,\n          'userBorrowCumulativeIndex': 0.0}}\n"
     ]
    }
   ],
   "source": [
    "params = {'_user': 'hx3ebaf06e2ee517155c879692461872f51b7b1e17'}\n",
    "_call = CallBuilder()\\\n",
    "    .from_(deployer_wallet.get_address())\\\n",
    "    .to(contracts['lendingPoolDataProvider']['SCORE'])\\\n",
    "    .method(\"getUserAllReserveData\")\\\n",
    "    .params(params)\\\n",
    "    .build()\n",
    "response = icon_service.call(_call)\n",
    "for key,values in response.items():\n",
    "    for k,v in values.items():\n",
    "        if k!=\"lastUpdateTimestamp\":\n",
    "            response[key][k]=int(v,0)/10**18\n",
    "        else:\n",
    "            response[key][k]=int(v,0)\n",
    "pprint(response)"
   ]
  },
  {
   "cell_type": "markdown",
   "metadata": {},
   "source": [
    "## Get reserve configurations\n"
   ]
  },
  {
   "source": [
    "### Getting configuration of USDb reserve"
   ],
   "cell_type": "markdown",
   "metadata": {}
  },
  {
   "cell_type": "code",
   "execution_count": 20,
   "metadata": {
    "tags": []
   },
   "outputs": [
    {
     "output_type": "stream",
     "name": "stdout",
     "text": [
      "{'baseLTVasCollateral': 600000000000000000,\n 'borrowingEnabled': 1,\n 'decimals': 18,\n 'isActive': 1,\n 'liquidationBonus': 10,\n 'liquidationThreshold': 650000000000000000,\n 'usageAsCollateralEnabled': 1}\n"
     ]
    }
   ],
   "source": [
    "params = {\"_reserve\":contracts['sample_token']['SCORE']}\n",
    "_call = CallBuilder()\\\n",
    "    .from_(deployer_wallet.get_address())\\\n",
    "    .to(contracts['lendingPoolDataProvider']['SCORE'])\\\n",
    "    .method(\"getReserveConfigurationData\")\\\n",
    "    .params(params)\\\n",
    "    .build()\n",
    "response = icon_service.call(_call)\n",
    "for key,values in response.items():\n",
    "    response[key]=int(values,0)\n",
    "pprint(response)\n"
   ]
  },
  {
   "source": [
    "### Getting configuration of sICX reserve"
   ],
   "cell_type": "markdown",
   "metadata": {}
  },
  {
   "cell_type": "code",
   "execution_count": 17,
   "metadata": {},
   "outputs": [
    {
     "output_type": "stream",
     "name": "stdout",
     "text": [
      "{'baseLTVasCollateral': 330000000000000000,\n 'borrowingEnabled': 1,\n 'decimals': 18,\n 'isActive': 1,\n 'liquidationBonus': 10,\n 'liquidationThreshold': 650000000000000000,\n 'usageAsCollateralEnabled': 1}\n"
     ]
    }
   ],
   "source": [
    "params = {\"_reserve\":contracts['sicx']['SCORE']}\n",
    "_call = CallBuilder()\\\n",
    "    .from_(deployer_wallet.get_address())\\\n",
    "    .to(contracts['lendingPoolDataProvider']['SCORE'])\\\n",
    "    .method(\"getReserveConfigurationData\")\\\n",
    "    .params(params)\\\n",
    "    .build()\n",
    "response = icon_service.call(_call)\n",
    "for key,values in response.items():\n",
    "    response[key]=int(values,0)\n",
    "pprint(response)"
   ]
  },
  {
   "cell_type": "markdown",
   "metadata": {},
   "source": [
    "### Get all reserves configurations"
   ]
  },
  {
   "cell_type": "code",
   "execution_count": 18,
   "metadata": {
    "tags": []
   },
   "outputs": [
    {
     "output_type": "stream",
     "name": "stdout",
     "text": [
      "{'USDb': {'baseLTVasCollateral': 600000000000000000,\n          'borrowingEnabled': 1,\n          'decimals': 18,\n          'isActive': 1,\n          'liquidationBonus': 10,\n          'liquidationThreshold': 650000000000000000,\n          'usageAsCollateralEnabled': 1},\n 'sICX': {'baseLTVasCollateral': 330000000000000000,\n          'borrowingEnabled': 1,\n          'decimals': 18,\n          'isActive': 1,\n          'liquidationBonus': 10,\n          'liquidationThreshold': 650000000000000000,\n          'usageAsCollateralEnabled': 1}}\n"
     ]
    }
   ],
   "source": [
    "_call = CallBuilder()\\\n",
    "    .from_(deployer_wallet.get_address())\\\n",
    "    .to(contracts['lendingPoolDataProvider']['SCORE'])\\\n",
    "    .method(\"getAllReserveConfigurationData\")\\\n",
    "    .build()\n",
    "response = icon_service.call(_call)\n",
    "for key,values in response.items():\n",
    "    for k,v in values.items():\n",
    "        response[key][k]=int(v,0)\n",
    "pprint(response)\n"
   ]
  },
  {
   "cell_type": "markdown",
   "metadata": {},
   "source": [
    "## Realtime USDb balance of user(with accrued interest)"
   ]
  },
  {
   "cell_type": "code",
   "execution_count": 31,
   "metadata": {
    "tags": []
   },
   "outputs": [
    {
     "output_type": "stream",
     "name": "stdout",
     "text": [
      "800224578941786233351189\n"
     ]
    }
   ],
   "source": [
    "params = {'_owner': 'hx91bf040426f226b3bfcd2f0b5967bbb0320525ce' }\n",
    "\n",
    "_call = CallBuilder()\\\n",
    "    .from_(deployer_wallet.get_address())\\\n",
    "    .to(contracts['oToken']['SCORE'])\\\n",
    "    .method(\"balanceOf\")\\\n",
    "    .params(params)\\\n",
    "    .build()\n",
    "response = icon_service.call(_call)\n",
    "\n",
    "print(int(response,0))"
   ]
  },
  {
   "source": [
    "## Realtime ICX balance of user(with accured interest)"
   ],
   "cell_type": "markdown",
   "metadata": {}
  },
  {
   "cell_type": "code",
   "execution_count": 32,
   "metadata": {},
   "outputs": [
    {
     "output_type": "stream",
     "name": "stdout",
     "text": [
      "0\n"
     ]
    }
   ],
   "source": [
    "params = {'_owner': 'hx91bf040426f226b3bfcd2f0b5967bbb0320525ce' }\n",
    "\n",
    "_call = CallBuilder()\\\n",
    "    .from_(deployer_wallet.get_address())\\\n",
    "    .to(contracts['oICX']['SCORE'])\\\n",
    "    .method(\"balanceOf\")\\\n",
    "    .params(params)\\\n",
    "    .build()\n",
    "response = icon_service.call(_call)\n",
    "\n",
    "print(int(response,0))\n"
   ]
  },
  {
   "cell_type": "code",
   "execution_count": null,
   "metadata": {},
   "outputs": [],
   "source": []
  }
 ],
 "metadata": {
  "celltoolbar": "Slideshow",
  "kernelspec": {
   "display_name": "Python 3",
   "language": "python",
   "name": "python3"
  },
  "language_info": {
   "codemirror_mode": {
    "name": "ipython",
    "version": 3
   },
   "file_extension": ".py",
   "mimetype": "text/x-python",
   "name": "python",
   "nbconvert_exporter": "python",
   "pygments_lexer": "ipython3",
   "version": "3.8.3-final"
  },
  "rise": {
   "scroll": true
  }
 },
 "nbformat": 4,
 "nbformat_minor": 2
}