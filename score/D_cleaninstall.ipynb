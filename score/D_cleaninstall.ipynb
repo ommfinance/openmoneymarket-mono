{
 "cells": [
  {
   "cell_type": "markdown",
   "metadata": {
    "slideshow": {
     "slide_type": "slide"
    }
   },
   "source": [
    "# Jupyter Notebook to clean install all the contracts"
   ]
  },
  {
   "cell_type": "markdown",
   "metadata": {},
   "source": [
    "# Set Up Environment"
   ]
  },
  {
   "cell_type": "code",
   "execution_count": 8,
   "metadata": {},
   "outputs": [],
   "source": [
    "network = \"yeouido\"  # set this to one of mainnet, yeouido, euljiro, pagoda, or custom\n",
    "contracts_file_custom = 'contracts_20201108141815.pkl'\n",
    "#contracts_20201109120425\n",
    "\n",
    "connections = {\n",
    "\"mainnet\": {\"iconservice\": \"https://ctz.solidwallet.io\",       \"nid\": 1},\n",
    "\"yeouido\": {\"iconservice\": \"https://bicon.net.solidwallet.io\", \"nid\": 3},\n",
    "\"euljiro\": {\"iconservice\": \"https://test-ctz.solidwallet.io\",  \"nid\": 2},\n",
    "\"pagoda\":  {\"iconservice\": \"https://zicon.net.solidwallet.io\", \"nid\":80},\n",
    "\"custom\":  {\"iconservice\": \"http://18.237.205.52:9000/\",       \"nid\": 3},\n",
    "\"local\":   {\"iconservice\": \"http://localhost:9000/\",           \"nid\": 3}\n",
    "}\n",
    "\n",
    "env = connections[network]"
   ]
  },
  {
   "cell_type": "code",
   "execution_count": 2,
   "metadata": {},
   "outputs": [],
   "source": [
    "class AutoVivification(dict):\n",
    "    \"\"\"Implementation of perl's autovivification feature.\"\"\"\n",
    "    def __getitem__(self, item):\n",
    "        try:\n",
    "            return dict.__getitem__(self, item)\n",
    "        except KeyError:\n",
    "            value = self[item] = type(self)()\n",
    "            return value\n",
    "            "
   ]
  },
  {
   "cell_type": "code",
   "execution_count": 3,
   "metadata": {
    "slideshow": {
     "slide_type": "-"
    }
   },
   "outputs": [],
   "source": [
    "from iconsdk.exception import JSONRPCException\n",
    "from iconsdk.libs.in_memory_zip import gen_deploy_data_content\n",
    "from iconsdk.icon_service import IconService\n",
    "from iconsdk.providers.http_provider import HTTPProvider\n",
    "from iconsdk.builder.transaction_builder import CallTransactionBuilder, TransactionBuilder, DeployTransactionBuilder\n",
    "from iconsdk.builder.call_builder import CallBuilder\n",
    "from iconsdk.signed_transaction import SignedTransaction\n",
    "from iconsdk.wallet.wallet import KeyWallet\n",
    "from iconsdk.utils.convert_type import convert_hex_str_to_int\n",
    "from datetime import datetime\n",
    "from repeater import retry\n",
    "from shutil import make_archive\n",
    "import requests\n",
    "import json\n",
    "import pickle as pkl\n",
    "import csv\n",
    "import os\n",
    "from pprint import pprint\n",
    "from getpass import getpass\n",
    "\n",
    "\n",
    "ICX = 1000000000000000000 # 10**18\n",
    "GOVERNANCE_ADDRESS = \"cx0000000000000000000000000000000000000000\"\n",
    "\n",
    "with open(contracts_file_custom, 'rb') as f:\n",
    "    contracts = pkl.load(f)\n",
    "\n",
    "@retry(JSONRPCException, tries=10, delay=1, back_off=2)\n",
    "def get_tx_result(_tx_hash):\n",
    "    tx_result = icon_service.get_transaction_result(_tx_hash)\n",
    "    return tx_result\n",
    "\n",
    "\n"
   ]
  },
  {
   "cell_type": "markdown",
   "metadata": {
    "slideshow": {
     "slide_type": "-"
    }
   },
   "source": [
    "### Required service"
   ]
  },
  {
   "cell_type": "code",
   "execution_count": 9,
   "metadata": {},
   "outputs": [],
   "source": [
    "icon_service = IconService(HTTPProvider(env[\"iconservice\"], 3))\n",
    "NID = env[\"nid\"]"
   ]
  },
  {
   "cell_type": "markdown",
   "metadata": {
    "slideshow": {
     "slide_type": "-"
    }
   },
   "source": [
    "# Importing wallet"
   ]
  },
  {
   "cell_type": "markdown",
   "metadata": {},
   "source": [
    "### Importing from private key and printing ICX balance"
   ]
  },
  {
   "cell_type": "code",
   "execution_count": 99,
   "metadata": {},
   "outputs": [
    {
     "data": {
      "text/plain": [
       "'287397cae97a02931e9e6f961ac79706b7f605e850d9f34ab10f99d78091eda0'"
      ]
     },
     "execution_count": 99,
     "metadata": {},
     "output_type": "execute_result"
    }
   ],
   "source": [
    "deployer_wallet4 = KeyWallet.create()\n",
    "deployer_wallet4.get_private_key()"
   ]
  },
  {
   "cell_type": "code",
   "execution_count": 100,
   "metadata": {
    "scrolled": true,
    "tags": []
   },
   "outputs": [
    {
     "name": "stdout",
     "output_type": "stream",
     "text": [
      "hx91bf040426f226b3bfcd2f0b5967bbb0320525ce\n",
      "hx8c8ccc79c99375de5995ca6057cda7c334d9dd35\n",
      "hx49c8a4c31e84b9abe7f8c8395eb7133b2151aeae\n",
      "hxd4ff18afb94cd6cb41d8ff468254112619a19051\n",
      "hx5bb03cc3f3d26b2d27491c2f56d233ed6777a654\n"
     ]
    }
   ],
   "source": [
    "private1=\"a691ef7d5601f9b5be4f9b9d80215159ea6ff0b88003e3d34e078d40e778b39a\"\n",
    "deployer_wallet1 = KeyWallet.load(bytes.fromhex(private1))\n",
    "print(deployer_wallet1.get_address())\n",
    "\n",
    "private2=\"94a1471d2fa8114f585bb0c7baca343b2d57d2c65b2d9c0f461da828e3741f04\"\n",
    "deployer_wallet2 = KeyWallet.load(bytes.fromhex(private2))\n",
    "print(deployer_wallet2.get_address())\n",
    "\n",
    "private3=\"d7776d1ae9103bd49eeed8463e4ce50480b1f4bc760108325415998c239fcee5\"\n",
    "deployer_wallet3 = KeyWallet.load(bytes.fromhex(private3))\n",
    "print(deployer_wallet3.get_address())\n",
    "\n",
    "\n",
    "private4=\"f569eb1cbc8a34f2d36f7b6f569294fb1a0fada68c866250b38d1e6165889855\"\n",
    "deployer_wallet4 = KeyWallet.load(bytes.fromhex(private4))\n",
    "print(deployer_wallet4.get_address())\n",
    "\n",
    "\n",
    "private5=\"287397cae97a02931e9e6f961ac79706b7f605e850d9f34ab10f99d78091eda0\"\n",
    "deployer_wallet5 = KeyWallet.load(bytes.fromhex(private5))\n",
    "print(deployer_wallet5.get_address())\n",
    "\n",
    "\n"
   ]
  },
  {
   "cell_type": "code",
   "execution_count": 101,
   "metadata": {},
   "outputs": [
    {
     "name": "stdout",
     "output_type": "stream",
     "text": [
      "{'version': '0x3', 'from': 'hx91bf040426f226b3bfcd2f0b5967bbb0320525ce', 'to': 'hxd4ff18afb94cd6cb41d8ff468254112619a19051', 'stepLimit': '0x30d40', 'timestamp': '0x5b61ef407ff4c', 'nid': '0x3', 'value': '0x1b1ae4d6e2ef500000', 'nonce': '0x64', 'signature': 'Akf4OAh35W9GKtb7Pcm+gRAndsHMXx8vHlpVdB/k6yInCyPrl7+yhZYrNr3iNt6pXcvKXGJOQ5Cxsi5r4HNAMAE='}\n"
     ]
    },
    {
     "name": "stderr",
     "output_type": "stream",
     "text": [
      "Raised JSONRPCException while returning the custom response. Error message: {'code': -32602, 'message': 'Pending transaction'}\n"
     ]
    },
    {
     "name": "stdout",
     "output_type": "stream",
     "text": [
      "{'code': -32602, 'message': 'Pending transaction'} (Json rpc error), Retrying in 1 seconds...\n"
     ]
    },
    {
     "data": {
      "text/plain": [
       "{'txHash': '0x166e4204b9c182a3a915c9b2b045fa5242850eb058021dcdc464af630979b771',\n",
       " 'blockHeight': 10289153,\n",
       " 'blockHash': '0xac874e17ffd32930098052dc507c4564027a417a52d7d81fa2279d297d3f7707',\n",
       " 'txIndex': 1,\n",
       " 'to': 'hxd4ff18afb94cd6cb41d8ff468254112619a19051',\n",
       " 'stepUsed': 100000,\n",
       " 'stepPrice': 10000000000,\n",
       " 'cumulativeStepUsed': 100000,\n",
       " 'eventLogs': [],\n",
       " 'logsBloom': b'\\x00\\x00\\x00\\x00\\x00\\x00\\x00\\x00\\x00\\x00\\x00\\x00\\x00\\x00\\x00\\x00\\x00\\x00\\x00\\x00\\x00\\x00\\x00\\x00\\x00\\x00\\x00\\x00\\x00\\x00\\x00\\x00\\x00\\x00\\x00\\x00\\x00\\x00\\x00\\x00\\x00\\x00\\x00\\x00\\x00\\x00\\x00\\x00\\x00\\x00\\x00\\x00\\x00\\x00\\x00\\x00\\x00\\x00\\x00\\x00\\x00\\x00\\x00\\x00\\x00\\x00\\x00\\x00\\x00\\x00\\x00\\x00\\x00\\x00\\x00\\x00\\x00\\x00\\x00\\x00\\x00\\x00\\x00\\x00\\x00\\x00\\x00\\x00\\x00\\x00\\x00\\x00\\x00\\x00\\x00\\x00\\x00\\x00\\x00\\x00\\x00\\x00\\x00\\x00\\x00\\x00\\x00\\x00\\x00\\x00\\x00\\x00\\x00\\x00\\x00\\x00\\x00\\x00\\x00\\x00\\x00\\x00\\x00\\x00\\x00\\x00\\x00\\x00\\x00\\x00\\x00\\x00\\x00\\x00\\x00\\x00\\x00\\x00\\x00\\x00\\x00\\x00\\x00\\x00\\x00\\x00\\x00\\x00\\x00\\x00\\x00\\x00\\x00\\x00\\x00\\x00\\x00\\x00\\x00\\x00\\x00\\x00\\x00\\x00\\x00\\x00\\x00\\x00\\x00\\x00\\x00\\x00\\x00\\x00\\x00\\x00\\x00\\x00\\x00\\x00\\x00\\x00\\x00\\x00\\x00\\x00\\x00\\x00\\x00\\x00\\x00\\x00\\x00\\x00\\x00\\x00\\x00\\x00\\x00\\x00\\x00\\x00\\x00\\x00\\x00\\x00\\x00\\x00\\x00\\x00\\x00\\x00\\x00\\x00\\x00\\x00\\x00\\x00\\x00\\x00\\x00\\x00\\x00\\x00\\x00\\x00\\x00\\x00\\x00\\x00\\x00\\x00\\x00\\x00\\x00\\x00\\x00\\x00\\x00\\x00\\x00\\x00\\x00\\x00\\x00\\x00\\x00\\x00\\x00\\x00\\x00\\x00\\x00\\x00\\x00\\x00',\n",
       " 'status': 1}"
      ]
     },
     "execution_count": 101,
     "metadata": {},
     "output_type": "execute_result"
    }
   ],
   "source": [
    "transaction = TransactionBuilder()\\\n",
    "    .from_(deployer_wallet1.get_address())\\\n",
    "    .to(deployer_wallet4.get_address())\\\n",
    "    .nid(3) \\\n",
    "    .nonce(100) \\\n",
    "    .value(500*10**18)\\\n",
    "    .build()\n",
    "\n",
    "estimate_step = icon_service.estimate_step(transaction)\n",
    "step_limit = estimate_step + 100000\n",
    "# Returns the signed transaction object having a signature\n",
    "signed_transaction = SignedTransaction(transaction, deployer_wallet1,step_limit)\n",
    "\n",
    "# Reads params to transfer to nodes\n",
    "print(signed_transaction.signed_transaction_dict)\n",
    "\n",
    "# Sends the transaction\n",
    "tx_hash = icon_service.send_transaction(signed_transaction)\n",
    "\n",
    "get_tx_result(tx_hash)"
   ]
  },
  {
   "cell_type": "code",
   "execution_count": 102,
   "metadata": {},
   "outputs": [
    {
     "name": "stderr",
     "output_type": "stream",
     "text": [
      "Raised JSONRPCException while returning the custom response. Error message: {'code': -32602, 'message': 'Pending transaction'}\n"
     ]
    },
    {
     "name": "stdout",
     "output_type": "stream",
     "text": [
      "{'code': -32602, 'message': 'Pending transaction'} (Json rpc error), Retrying in 1 seconds...\n"
     ]
    },
    {
     "data": {
      "text/plain": [
       "{'txHash': '0x4c99e77d6494d73566c0780a3bafb60d05c703b40f650f5e890bf6df909b0973',\n",
       " 'blockHeight': 10289158,\n",
       " 'blockHash': '0x72f0d5d52df971bd5869cf77cefa16cce34b0a13ddf02b0c353b43e5d38ff661',\n",
       " 'txIndex': 1,\n",
       " 'to': 'cx19be1be7b4e7750863edf966faac3f42dec21025',\n",
       " 'stepUsed': 160840,\n",
       " 'stepPrice': 10000000000,\n",
       " 'cumulativeStepUsed': 160840,\n",
       " 'eventLogs': [{'scoreAddress': 'cx19be1be7b4e7750863edf966faac3f42dec21025',\n",
       "   'indexed': ['Transfer(Address,Address,int,bytes)',\n",
       "    'hx91bf040426f226b3bfcd2f0b5967bbb0320525ce',\n",
       "    'hx5bb03cc3f3d26b2d27491c2f56d233ed6777a654',\n",
       "    '0x1b1ae4d6e2ef500000'],\n",
       "   'data': ['0x4e6f6e65']}],\n",
       " 'logsBloom': b'\\x00\\x00\\x00\\x00\\x00\\x00\\x00\\x00\\x00\\x00\\x00 \\x00\\x00\\x00\\x00\\x00\\x00\\x00\\x00\\x00\\x00\\x00\\x00\\x00\\x00\\x00\\x00\\x00\\x00\\x00\\x00\\x00\\x00\\x00\\x00\\x00\\x00\\x00\\x00\\x00\\x00P\\x00\\x00\\x00\\x00\\x00\\x00\\x00\\x00\\x00\\x00\\x00\\x00\\x00\\x00\\x00\\x00\\x80\\x00\\x00\\x00\\x00\\x00\\x00\\x00\\x00\\x00\\x00\\x00\\x00\\x00\\x00\\x00\\x00\\x00\\x00\\x00\\x00\\x00\\x00\\x00\\x00@\\x00\\x00\\x00\\x00\\x00\\x00\\x00\\x00\\x00\\x00\\x00\\x00\\x00\\x00\\x00\\x00\\x00\\x00\\x00\\x00\\x01\\x00\\x00\\x00\\x00@\\x08\\x00\\x00\\x00\\x00\\x00\\x00\\x00\\x00\\x00\\x80\\x00\\x00\\x00\\x00\\x00\\x00\\x00\\x00\\x00\\x00\\x00\\x00\\x00\\x00\\x00\\x00\\x00\\x00\\x00\\x00\\x00\\x00\\x08\\x00\\x01\\x00\\x00\\x00\\x00\\x00\\x00\\x00\\x00\\x00\\x00\\x10\\x00\\x00\\x00\\x00\\x00\\x00\\x00\\x00\\x00\\x00\\x00\\x00\\x00\\x00\\x00\\x00\\x00\\x00\\x00\\x00\\x00\\x00\\x00\\x00\\x00\\x00\\x00\\x00\\x00\\x00\\x00\\x00\\x00\\x00\\x00\\x00\\x00\\x00\\x00\\x02\\x00\\x00\\x00\\x00\\x00\\x00\\x00\\x04\\x00\\x00\\x00\\x00\\x00\\x00\\x00\\x01\\x00\\x00\\x00\\x00\\x00\\x00\\x00\\x00\\x00\\x00\\x00\\x00\\x00\\x00\\x00\\x00\\x00\\x00\\x00\\x00\\x00\\x00\\x00\\x00\\x00\\x00\\x00\\x00\\x00\\x00\\x00\\x00\\x00\\x00\\x00\\x00\\x00\\x00\\x00\\x00\\x00\\x00',\n",
       " 'status': 1}"
      ]
     },
     "execution_count": 102,
     "metadata": {},
     "output_type": "execute_result"
    }
   ],
   "source": [
    "\n",
    "params = {\"_to\": deployer_wallet5.get_address(), \"_value\": 500*10**18}\n",
    "transaction = CallTransactionBuilder()\\\n",
    "    .from_(deployer_wallet1.get_address())\\\n",
    "    .to(contracts['sample_token']['SCORE'])\\\n",
    "    .value(0)\\\n",
    "    .step_limit(10000000)\\\n",
    "    .nid(3)\\\n",
    "    .nonce(100)\\\n",
    "    .method(\"transfer\")\\\n",
    "    .params(params)\\\n",
    "    .build()\n",
    "signed_transaction = SignedTransaction(transaction, deployer_wallet1)\n",
    "tx_hash = icon_service.send_transaction(signed_transaction)\n",
    "get_tx_result(tx_hash)"
   ]
  },
  {
   "cell_type": "markdown",
   "metadata": {},
   "source": [
    "### Function to switch wallets to run transaction"
   ]
  },
  {
   "cell_type": "code",
   "execution_count": 103,
   "metadata": {},
   "outputs": [],
   "source": [
    "wallets={'1':deployer_wallet1,'2':deployer_wallet2,'3':deployer_wallet3, '4': deployer_wallet4 ,'5': deployer_wallet5}\n",
    "def wallet_selector():\n",
    "    wallet=input(\"Enter the wallet from which you want to run the transaction\")\n",
    "    if str(wallet) not in wallets.keys():\n",
    "        print(\"invalid wallet selected\")\n",
    "        return null\n",
    "    return wallets[str(wallet)]\n"
   ]
  },
  {
   "cell_type": "markdown",
   "metadata": {},
   "source": [
    "# Depositing USDb from a wallet"
   ]
  },
  {
   "cell_type": "code",
   "execution_count": 67,
   "metadata": {
    "tags": []
   },
   "outputs": [
    {
     "name": "stderr",
     "output_type": "stream",
     "text": [
      "Raised JSONRPCException while returning the custom response. Error message: {'code': -32602, 'message': 'Pending transaction'}\n",
      "{'code': -32602, 'message': 'Pending transaction'} (Json rpc error), Retrying in 1 seconds...\n"
     ]
    },
    {
     "data": {
      "text/plain": [
       "{'txHash': '0xb1fc5062c7d5fa859a08dd5b505b322bd03450067aec12f06e456c79c25c7d26',\n",
       " 'blockHeight': 443726,\n",
       " 'blockHash': '0x1bcfa6746677749da2e16fb7b42ff3708e2dcb3a9fcb7f6a35458f58c72ea4e6',\n",
       " 'txIndex': 1,\n",
       " 'to': 'cx2c002610b8aeaff84f6cb97c28294b1986016143',\n",
       " 'stepUsed': 729440,\n",
       " 'stepPrice': 10000000000,\n",
       " 'cumulativeStepUsed': 729440,\n",
       " 'eventLogs': [{'scoreAddress': 'cx879e276135a6f25236a8abf2e4c9801887538f60',\n",
       "   'indexed': ['ReserveUpdated(Address,int,int,int,int)',\n",
       "    'cx2c002610b8aeaff84f6cb97c28294b1986016143',\n",
       "    '0x0',\n",
       "    '0x0'],\n",
       "   'data': ['0xde0b6b3a7640000', '0xde0b6b3a7640000']},\n",
       "  {'scoreAddress': 'cx2f9c6ae40e6ae4c8d39961b3f3d701363b361773',\n",
       "   'indexed': ['Mint(Address,int)',\n",
       "    'hx91bf040426f226b3bfcd2f0b5967bbb0320525ce'],\n",
       "   'data': ['0x0']},\n",
       "  {'scoreAddress': 'cx2f9c6ae40e6ae4c8d39961b3f3d701363b361773',\n",
       "   'indexed': ['Mint(Address,int)',\n",
       "    'hx91bf040426f226b3bfcd2f0b5967bbb0320525ce'],\n",
       "   'data': ['0x3635c9adc5dea00000']},\n",
       "  {'scoreAddress': 'cx2f9c6ae40e6ae4c8d39961b3f3d701363b361773',\n",
       "   'indexed': ['MintOnDeposit(Address,int,int,int)',\n",
       "    'hx91bf040426f226b3bfcd2f0b5967bbb0320525ce',\n",
       "    '0x3635c9adc5dea00000',\n",
       "    '0x0'],\n",
       "   'data': ['0xde0b6b3a7640000']},\n",
       "  {'scoreAddress': 'cx2c002610b8aeaff84f6cb97c28294b1986016143',\n",
       "   'indexed': ['Transfer(Address,Address,int,bytes)',\n",
       "    'cx9a1e70f60ee138d8e2c2eee0daf28a7d0645bd02',\n",
       "    'cx879e276135a6f25236a8abf2e4c9801887538f60',\n",
       "    '0x3635c9adc5dea00000'],\n",
       "   'data': ['0x4e6f6e65']},\n",
       "  {'scoreAddress': 'cx2c002610b8aeaff84f6cb97c28294b1986016143',\n",
       "   'indexed': ['Transfer(Address,Address,int,bytes)',\n",
       "    'hx91bf040426f226b3bfcd2f0b5967bbb0320525ce',\n",
       "    'cx9a1e70f60ee138d8e2c2eee0daf28a7d0645bd02',\n",
       "    '0x3635c9adc5dea00000'],\n",
       "   'data': ['0x7b226d6574686f64223a20226465706f736974222c2022706172616d73223a207b22616d6f756e74223a20313030303030303030303030303030303030303030307d7d']}],\n",
       " 'logsBloom': b'\\x00\\x00\\x00\\x00\\x00\\x00\\x00\\x00\\x00\\x00\\x00 \\x00\\x00\\x80\\x00\\x00\\x00\\x00\\t\\x00\\x00\\x00\\x00\\x00\\x00\\x00\\x00\\x00\\x00\\x00\\x00\\x00\\x00\\x00\\x02\\x00\\x00\\x10\\x00\\x00\\x00\\x00\\x00\\x00\\x00\\x00\\x00\\x00\\x00\\x01\\x00\\x00@\\x00\\x00\\x00\\x00\\x00\\x80\\x00\\x08\\x00\\x00\\x00\\x00\\x00\\x00\\x00\\x00\\x00\\x00\\x00\\x00\\x00\\x10\\x00\\t\\x00\\x00\\x08\\x00\\x00\\x00\\x00\\x00\\x00\\x00\\x00\\x00\\x01\\x00\\x00\\x00\\x00\\x00\\x80 \\x01 \\x00\\x00\\x00\\x00\\x00\\x00\\x00\\x00\\x00\\x00@\\x00\\x00\\x01\\x00\\x00\\x00\\x00\\x00\\x00\\x00\\x00\\x00\\x00\\x00\\x02\\x00\\x00\\x00\\x00\\x00\\x00\\x00\\x00\\x00\\x00\\x00\\x00\\x00\\x00\\x00\\x00\\x00\\x00\\x00\\x00\\x01\\x02\\x00\\x00\\x00\\x00 \\x00\\x00\\x00\\x00\\x10\\x00\\x10\\x00\\x00\\x00\\x00@ \\x00\\x00\\x00\\x00\\x00\\x00\\x00\\x00\\x00\\x00\\x01\\x00\\x00\\x00\\x00\\x00\\x00\\x00\\x00\\x00\\x00\\x00\\x00\\x10\\x00\\x02\\x00\\x00\\x00\\x01\\x00\\x02 \\x02\\x00\\x00\\x00\\x00\\x00\\x00\\x00\\x00\\x00\\x00\\x00\\x00\\x00\\x03\\x00\\x08\\x00\\x00\\x00\\x00\\x00\\x00\\x00\\x00\\x80\\x00\\x02\\x00\\x00\\x00\\x01\\x00\\x00\\x00\\x00\\x02\\x00\\x00\\x00\\x00\\x00\\x00\\x04\\x00 \\x00\\x00\\x10\\x80\\x00\\x00\\x00\\x00\\x00\\x00\\x00',\n",
       " 'status': 1}"
      ]
     },
     "execution_count": 67,
     "metadata": {},
     "output_type": "execute_result"
    }
   ],
   "source": [
    "deployer_wallet=wallet_selector()\n",
    "data = \"{\\\"method\\\": \\\"deposit\\\", \\\"params\\\": {\\\"amount\\\": 1000000000000000000000}}\".encode(\"utf-8\")\n",
    "params = {\"_to\": contracts['lendingPool']['SCORE'], \"_value\": 1000000000000000000000, \"_data\": data}\n",
    "transaction = CallTransactionBuilder()\\\n",
    "    .from_(deployer_wallet.get_address())\\\n",
    "    .to(contracts['sample_token']['SCORE'])\\\n",
    "    .value(0)\\\n",
    "    .step_limit(10000000)\\\n",
    "    .nid(3)\\\n",
    "    .nonce(100)\\\n",
    "    .method(\"transfer\")\\\n",
    "    .params(params)\\\n",
    "    .build()\n",
    "signed_transaction = SignedTransaction(transaction, deployer_wallet)\n",
    "tx_hash = icon_service.send_transaction(signed_transaction)\n",
    "get_tx_result(tx_hash)"
   ]
  },
  {
   "cell_type": "code",
   "execution_count": 26,
   "metadata": {},
   "outputs": [
    {
     "name": "stdout",
     "output_type": "stream",
     "text": [
      "Enter the wallet from which you want to run the transaction1\n",
      "{'version': '0x3', 'from': 'hx91bf040426f226b3bfcd2f0b5967bbb0320525ce', 'to': 'cx327a386a9f8076045679fc132a8baa9e270ca43b', 'stepLimit': '0x3ea80', 'timestamp': '0x5b61ac947ddec', 'nid': '0x3', 'nonce': '0x64', 'dataType': 'call', 'data': {'method': 'updateBaseLTVasCollateral', 'params': {'_reserveAddress': 'cx3e9d38175d112cd5cf05a90080cce779f202ba27', '_baseLTVasCollateral': '0x6f05b59d3b20000'}}, 'signature': 'oJiiqWD8z84P5L8NRI+07ZT0DuSvlnJBliXpuzCJ+2cIE9CAmqdY5sHMy/8tvbfnAXGugQBUF9Q7SHdyM19K5wE='}\n"
     ]
    },
    {
     "name": "stderr",
     "output_type": "stream",
     "text": [
      "Raised JSONRPCException while returning the custom response. Error message: {'code': -32602, 'message': 'Pending transaction'}\n"
     ]
    },
    {
     "name": "stdout",
     "output_type": "stream",
     "text": [
      "{'code': -32602, 'message': 'Pending transaction'} (Json rpc error), Retrying in 1 seconds...\n"
     ]
    },
    {
     "name": "stderr",
     "output_type": "stream",
     "text": [
      "Raised JSONRPCException while returning the custom response. Error message: {'code': -32602, 'message': 'Pending transaction'}\n"
     ]
    },
    {
     "name": "stdout",
     "output_type": "stream",
     "text": [
      "{'code': -32602, 'message': 'Pending transaction'} (Json rpc error), Retrying in 2 seconds...\n"
     ]
    },
    {
     "data": {
      "text/plain": [
       "{'txHash': '0xe97345936a9e5071f79566ba7f55da791dff825b728f7f2653b2a732fc3d6528',\n",
       " 'blockHeight': 10280234,\n",
       " 'blockHash': '0x96c7952c976b62f1fb704a6cba63cebc5f523854133fe84fd3356c833e7fba80',\n",
       " 'txIndex': 1,\n",
       " 'to': 'cx327a386a9f8076045679fc132a8baa9e270ca43b',\n",
       " 'stepUsed': 156640,\n",
       " 'stepPrice': 10000000000,\n",
       " 'cumulativeStepUsed': 156640,\n",
       " 'eventLogs': [],\n",
       " 'logsBloom': b'\\x00\\x00\\x00\\x00\\x00\\x00\\x00\\x00\\x00\\x00\\x00\\x00\\x00\\x00\\x00\\x00\\x00\\x00\\x00\\x00\\x00\\x00\\x00\\x00\\x00\\x00\\x00\\x00\\x00\\x00\\x00\\x00\\x00\\x00\\x00\\x00\\x00\\x00\\x00\\x00\\x00\\x00\\x00\\x00\\x00\\x00\\x00\\x00\\x00\\x00\\x00\\x00\\x00\\x00\\x00\\x00\\x00\\x00\\x00\\x00\\x00\\x00\\x00\\x00\\x00\\x00\\x00\\x00\\x00\\x00\\x00\\x00\\x00\\x00\\x00\\x00\\x00\\x00\\x00\\x00\\x00\\x00\\x00\\x00\\x00\\x00\\x00\\x00\\x00\\x00\\x00\\x00\\x00\\x00\\x00\\x00\\x00\\x00\\x00\\x00\\x00\\x00\\x00\\x00\\x00\\x00\\x00\\x00\\x00\\x00\\x00\\x00\\x00\\x00\\x00\\x00\\x00\\x00\\x00\\x00\\x00\\x00\\x00\\x00\\x00\\x00\\x00\\x00\\x00\\x00\\x00\\x00\\x00\\x00\\x00\\x00\\x00\\x00\\x00\\x00\\x00\\x00\\x00\\x00\\x00\\x00\\x00\\x00\\x00\\x00\\x00\\x00\\x00\\x00\\x00\\x00\\x00\\x00\\x00\\x00\\x00\\x00\\x00\\x00\\x00\\x00\\x00\\x00\\x00\\x00\\x00\\x00\\x00\\x00\\x00\\x00\\x00\\x00\\x00\\x00\\x00\\x00\\x00\\x00\\x00\\x00\\x00\\x00\\x00\\x00\\x00\\x00\\x00\\x00\\x00\\x00\\x00\\x00\\x00\\x00\\x00\\x00\\x00\\x00\\x00\\x00\\x00\\x00\\x00\\x00\\x00\\x00\\x00\\x00\\x00\\x00\\x00\\x00\\x00\\x00\\x00\\x00\\x00\\x00\\x00\\x00\\x00\\x00\\x00\\x00\\x00\\x00\\x00\\x00\\x00\\x00\\x00\\x00\\x00\\x00\\x00\\x00\\x00\\x00\\x00\\x00\\x00\\x00\\x00\\x00\\x00\\x00\\x00\\x00\\x00\\x00',\n",
       " 'status': 1}"
      ]
     },
     "execution_count": 26,
     "metadata": {},
     "output_type": "execute_result"
    }
   ],
   "source": [
    "deployer_wallet=wallet_selector()\n",
    "params ={\"_reserveAddress\": contracts['sicx']['SCORE'], \"_baseLTVasCollateral\":5*10**17 }\n",
    "call_transaction = CallTransactionBuilder()\\\n",
    "    .from_(deployer_wallet.get_address())\\\n",
    "    .to(contracts['lendingPoolCore']['SCORE']) \\\n",
    "    .nid(NID) \\\n",
    "    .nonce(100) \\\n",
    "    .method(\"updateBaseLTVasCollateral\")\\\n",
    "    .params(params)\\\n",
    "    .build()\n",
    "\n",
    "estimate_step = icon_service.estimate_step(call_transaction)\n",
    "step_limit = estimate_step + 100000\n",
    "# Returns the signed transaction object having a signature\n",
    "signed_transaction = SignedTransaction(call_transaction, deployer_wallet,step_limit)\n",
    "\n",
    "# Reads params to transfer to nodes\n",
    "print(signed_transaction.signed_transaction_dict)\n",
    "\n",
    "# Sends the transaction\n",
    "tx_hash = icon_service.send_transaction(signed_transaction)\n",
    "get_tx_result(tx_hash)"
   ]
  },
  {
   "cell_type": "markdown",
   "metadata": {},
   "source": [
    "## Price oracle"
   ]
  },
  {
   "cell_type": "code",
   "execution_count": 107,
   "metadata": {},
   "outputs": [
    {
     "name": "stdout",
     "output_type": "stream",
     "text": [
      "Enter the wallet from which you want to run the transaction1\n",
      "{'version': '0x3', 'from': 'hx91bf040426f226b3bfcd2f0b5967bbb0320525ce', 'to': 'cx3f6477bf290eb91257b806ece614ab18b1c7be41', 'stepLimit': '0x3bf88', 'timestamp': '0x5b61ef8b7e91e', 'nid': '0x3', 'nonce': '0x64', 'dataType': 'call', 'data': {'method': 'set_reference_data', 'params': {'_base': 'sICX', '_quote': 'USD', '_rate': '0x522810a26e50000'}}, 'signature': '9rPT79Jgnocbv41QJVr6WsYTLvxlhl2x5R5x4REMy692Dm6Q+Lt03Vi0nu9QG9Fs6p0G/olqz5TmeuWiKInxNQA='}\n"
     ]
    },
    {
     "data": {
      "text/plain": [
       "{'txHash': '0x9ca746e297876d518bdb7491fcde723b64b14e8e2e4e695b0c77b8b619767b15',\n",
       " 'blockHeight': 10289193,\n",
       " 'blockHash': '0x48c8914d7c3a68f644044b0c50f42fc868a59a35c8e9b84ea268f3a0e2ab9d9f',\n",
       " 'txIndex': 1,\n",
       " 'to': 'cx3f6477bf290eb91257b806ece614ab18b1c7be41',\n",
       " 'stepUsed': 145640,\n",
       " 'stepPrice': 10000000000,\n",
       " 'cumulativeStepUsed': 145640,\n",
       " 'eventLogs': [],\n",
       " 'logsBloom': b'\\x00\\x00\\x00\\x00\\x00\\x00\\x00\\x00\\x00\\x00\\x00\\x00\\x00\\x00\\x00\\x00\\x00\\x00\\x00\\x00\\x00\\x00\\x00\\x00\\x00\\x00\\x00\\x00\\x00\\x00\\x00\\x00\\x00\\x00\\x00\\x00\\x00\\x00\\x00\\x00\\x00\\x00\\x00\\x00\\x00\\x00\\x00\\x00\\x00\\x00\\x00\\x00\\x00\\x00\\x00\\x00\\x00\\x00\\x00\\x00\\x00\\x00\\x00\\x00\\x00\\x00\\x00\\x00\\x00\\x00\\x00\\x00\\x00\\x00\\x00\\x00\\x00\\x00\\x00\\x00\\x00\\x00\\x00\\x00\\x00\\x00\\x00\\x00\\x00\\x00\\x00\\x00\\x00\\x00\\x00\\x00\\x00\\x00\\x00\\x00\\x00\\x00\\x00\\x00\\x00\\x00\\x00\\x00\\x00\\x00\\x00\\x00\\x00\\x00\\x00\\x00\\x00\\x00\\x00\\x00\\x00\\x00\\x00\\x00\\x00\\x00\\x00\\x00\\x00\\x00\\x00\\x00\\x00\\x00\\x00\\x00\\x00\\x00\\x00\\x00\\x00\\x00\\x00\\x00\\x00\\x00\\x00\\x00\\x00\\x00\\x00\\x00\\x00\\x00\\x00\\x00\\x00\\x00\\x00\\x00\\x00\\x00\\x00\\x00\\x00\\x00\\x00\\x00\\x00\\x00\\x00\\x00\\x00\\x00\\x00\\x00\\x00\\x00\\x00\\x00\\x00\\x00\\x00\\x00\\x00\\x00\\x00\\x00\\x00\\x00\\x00\\x00\\x00\\x00\\x00\\x00\\x00\\x00\\x00\\x00\\x00\\x00\\x00\\x00\\x00\\x00\\x00\\x00\\x00\\x00\\x00\\x00\\x00\\x00\\x00\\x00\\x00\\x00\\x00\\x00\\x00\\x00\\x00\\x00\\x00\\x00\\x00\\x00\\x00\\x00\\x00\\x00\\x00\\x00\\x00\\x00\\x00\\x00\\x00\\x00\\x00\\x00\\x00\\x00\\x00\\x00\\x00\\x00\\x00\\x00\\x00\\x00\\x00\\x00\\x00\\x00',\n",
       " 'status': 1}"
      ]
     },
     "execution_count": 107,
     "metadata": {},
     "output_type": "execute_result"
    }
   ],
   "source": [
    "deployer_wallet=wallet_selector()\n",
    "params ={\"_base\": 'sICX', \"_quote\":\"USD\" , \"_rate\": 37 * 10**16}\n",
    "call_transaction = CallTransactionBuilder()\\\n",
    "    .from_(deployer_wallet.get_address())\\\n",
    "    .to(contracts['priceOracle']['SCORE']) \\\n",
    "    .nid(NID) \\\n",
    "    .nonce(100) \\\n",
    "    .method(\"set_reference_data\")\\\n",
    "    .params(params)\\\n",
    "    .build()\n",
    "\n",
    "estimate_step = icon_service.estimate_step(call_transaction)\n",
    "step_limit = estimate_step + 100000\n",
    "# Returns the signed transaction object having a signature\n",
    "signed_transaction = SignedTransaction(call_transaction, deployer_wallet,step_limit)\n",
    "\n",
    "# Reads params to transfer to nodes\n",
    "print(signed_transaction.signed_transaction_dict)\n",
    "\n",
    "# Sends the transaction\n",
    "tx_hash = icon_service.send_transaction(signed_transaction)\n",
    "get_tx_result(tx_hash)"
   ]
  },
  {
   "cell_type": "code",
   "execution_count": null,
   "metadata": {},
   "outputs": [],
   "source": [
    "## Fee Provider"
   ]
  },
  {
   "cell_type": "code",
   "execution_count": 32,
   "metadata": {},
   "outputs": [
    {
     "name": "stdout",
     "output_type": "stream",
     "text": [
      "Enter the wallet from which you want to run the transaction1\n",
      "{'version': '0x3', 'from': 'hx91bf040426f226b3bfcd2f0b5967bbb0320525ce', 'to': 'cxede316aa65b7df13633599e67490daf1fd32b8a5', 'stepLimit': '0x3b5d8', 'timestamp': '0x5b61d03eb5248', 'nid': '0x3', 'nonce': '0x64', 'dataType': 'call', 'data': {'method': 'setLoanOriginationFeePercentage', 'params': {'_percentage': '0x2386f26fc10000'}}, 'signature': 'QkxRhUdlpOGzgVM6muwJNSpc8PK24dvqlJLHaOqVIe1ZVS8FNl+poKrk9q2eG/EKwFBx6wNbR2UAIP02D3B5ZwE='}\n"
     ]
    },
    {
     "name": "stderr",
     "output_type": "stream",
     "text": [
      "Raised JSONRPCException while returning the custom response. Error message: {'code': -32602, 'message': 'Pending transaction'}\n"
     ]
    },
    {
     "name": "stdout",
     "output_type": "stream",
     "text": [
      "{'code': -32602, 'message': 'Pending transaction'} (Json rpc error), Retrying in 1 seconds...\n"
     ]
    },
    {
     "data": {
      "text/plain": [
       "{'txHash': '0x30f45170afe1a74b1f776265d8017c7e98fb8a1cbf5158a029ad251f6343ed29',\n",
       " 'blockHeight': 10285005,\n",
       " 'blockHash': '0x451f05db22966b2beb0c0937294842d181015656f74f2248efc2b4df651ae31e',\n",
       " 'txIndex': 1,\n",
       " 'to': 'cxede316aa65b7df13633599e67490daf1fd32b8a5',\n",
       " 'stepUsed': 143160,\n",
       " 'stepPrice': 10000000000,\n",
       " 'cumulativeStepUsed': 143160,\n",
       " 'eventLogs': [],\n",
       " 'logsBloom': b'\\x00\\x00\\x00\\x00\\x00\\x00\\x00\\x00\\x00\\x00\\x00\\x00\\x00\\x00\\x00\\x00\\x00\\x00\\x00\\x00\\x00\\x00\\x00\\x00\\x00\\x00\\x00\\x00\\x00\\x00\\x00\\x00\\x00\\x00\\x00\\x00\\x00\\x00\\x00\\x00\\x00\\x00\\x00\\x00\\x00\\x00\\x00\\x00\\x00\\x00\\x00\\x00\\x00\\x00\\x00\\x00\\x00\\x00\\x00\\x00\\x00\\x00\\x00\\x00\\x00\\x00\\x00\\x00\\x00\\x00\\x00\\x00\\x00\\x00\\x00\\x00\\x00\\x00\\x00\\x00\\x00\\x00\\x00\\x00\\x00\\x00\\x00\\x00\\x00\\x00\\x00\\x00\\x00\\x00\\x00\\x00\\x00\\x00\\x00\\x00\\x00\\x00\\x00\\x00\\x00\\x00\\x00\\x00\\x00\\x00\\x00\\x00\\x00\\x00\\x00\\x00\\x00\\x00\\x00\\x00\\x00\\x00\\x00\\x00\\x00\\x00\\x00\\x00\\x00\\x00\\x00\\x00\\x00\\x00\\x00\\x00\\x00\\x00\\x00\\x00\\x00\\x00\\x00\\x00\\x00\\x00\\x00\\x00\\x00\\x00\\x00\\x00\\x00\\x00\\x00\\x00\\x00\\x00\\x00\\x00\\x00\\x00\\x00\\x00\\x00\\x00\\x00\\x00\\x00\\x00\\x00\\x00\\x00\\x00\\x00\\x00\\x00\\x00\\x00\\x00\\x00\\x00\\x00\\x00\\x00\\x00\\x00\\x00\\x00\\x00\\x00\\x00\\x00\\x00\\x00\\x00\\x00\\x00\\x00\\x00\\x00\\x00\\x00\\x00\\x00\\x00\\x00\\x00\\x00\\x00\\x00\\x00\\x00\\x00\\x00\\x00\\x00\\x00\\x00\\x00\\x00\\x00\\x00\\x00\\x00\\x00\\x00\\x00\\x00\\x00\\x00\\x00\\x00\\x00\\x00\\x00\\x00\\x00\\x00\\x00\\x00\\x00\\x00\\x00\\x00\\x00\\x00\\x00\\x00\\x00\\x00\\x00\\x00\\x00\\x00\\x00',\n",
       " 'status': 1}"
      ]
     },
     "execution_count": 32,
     "metadata": {},
     "output_type": "execute_result"
    }
   ],
   "source": [
    "deployer_wallet=wallet_selector()\n",
    "params ={\"_percentage\": 10**16}\n",
    "call_transaction = CallTransactionBuilder()\\\n",
    "    .from_(deployer_wallet.get_address())\\\n",
    "    .to(contracts['feeProvider']['SCORE']) \\\n",
    "    .nid(NID) \\\n",
    "    .nonce(100) \\\n",
    "    .method(\"setLoanOriginationFeePercentage\")\\\n",
    "    .params(params)\\\n",
    "    .build()\n",
    "\n",
    "estimate_step = icon_service.estimate_step(call_transaction)\n",
    "step_limit = estimate_step + 100000\n",
    "# Returns the signed transaction object having a signature\n",
    "signed_transaction = SignedTransaction(call_transaction, deployer_wallet,step_limit)\n",
    "\n",
    "# Reads params to transfer to nodes\n",
    "print(signed_transaction.signed_transaction_dict)\n",
    "\n",
    "# Sends the transaction\n",
    "tx_hash = icon_service.send_transaction(signed_transaction)\n",
    "get_tx_result(tx_hash)"
   ]
  },
  {
   "cell_type": "code",
   "execution_count": 33,
   "metadata": {},
   "outputs": [
    {
     "name": "stdout",
     "output_type": "stream",
     "text": [
      "'0x2386f26fc10000'\n"
     ]
    }
   ],
   "source": [
    "\n",
    "_call = CallBuilder()\\\n",
    "    .from_(deployer_wallet1.get_address())\\\n",
    "    .to(contracts['feeProvider']['SCORE'])\\\n",
    "    .method(\"getLoanOriginationFeePercentage\")\\\n",
    "    .build()\n",
    "response = icon_service.call(_call)\n",
    "\n",
    "\n",
    "pprint(response)"
   ]
  },
  {
   "cell_type": "markdown",
   "metadata": {},
   "source": [
    "# Borrowing USDb"
   ]
  },
  {
   "cell_type": "code",
   "execution_count": 106,
   "metadata": {
    "tags": []
   },
   "outputs": [
    {
     "name": "stdout",
     "output_type": "stream",
     "text": [
      "Enter the wallet from which you want to run the transaction4\n",
      "{'version': '0x3', 'from': 'hxd4ff18afb94cd6cb41d8ff468254112619a19051', 'to': 'cx35b12ca4e9c672518db3c06d92ed60d50e7d5554', 'stepLimit': '0x148264', 'timestamp': '0x5b61ef7d1a27e', 'nid': '0x3', 'nonce': '0x64', 'dataType': 'call', 'data': {'method': 'borrow', 'params': {'_reserve': 'cx19be1be7b4e7750863edf966faac3f42dec21025', '_amount': '0x410d586a20a4c0000'}}, 'signature': 'E5880fcAsg9Nz89K7kBA+l2jUyE+oeiu+ydXbcn8u1UjXTWLw4DTJrX9aTdII1fdXoDYh7yhGsSWQdbxRHGNAAE='}\n"
     ]
    },
    {
     "name": "stderr",
     "output_type": "stream",
     "text": [
      "Raised JSONRPCException while returning the custom response. Error message: {'code': -32602, 'message': 'Pending transaction'}\n"
     ]
    },
    {
     "name": "stdout",
     "output_type": "stream",
     "text": [
      "{'code': -32602, 'message': 'Pending transaction'} (Json rpc error), Retrying in 1 seconds...\n"
     ]
    },
    {
     "name": "stderr",
     "output_type": "stream",
     "text": [
      "Raised JSONRPCException while returning the custom response. Error message: {'code': -32602, 'message': 'Pending transaction'}\n"
     ]
    },
    {
     "name": "stdout",
     "output_type": "stream",
     "text": [
      "{'code': -32602, 'message': 'Pending transaction'} (Json rpc error), Retrying in 2 seconds...\n"
     ]
    },
    {
     "data": {
      "text/plain": [
       "{'txHash': '0x12e589d7edcaf079718bcbba853871d2ce25c3a80eb54e2a8bb0bc6263bebf9a',\n",
       " 'blockHeight': 10289184,\n",
       " 'blockHash': '0x66f4802b79628bca12060ae587a5fe85fc242697c7d0ccc2bb34d9d5dccd4dcd',\n",
       " 'txIndex': 1,\n",
       " 'to': 'cx35b12ca4e9c672518db3c06d92ed60d50e7d5554',\n",
       " 'stepUsed': 1244100,\n",
       " 'stepPrice': 10000000000,\n",
       " 'cumulativeStepUsed': 1244100,\n",
       " 'eventLogs': [{'scoreAddress': 'cx35b12ca4e9c672518db3c06d92ed60d50e7d5554',\n",
       "   'indexed': ['PrintData(str,int,int,int)',\n",
       "    'available liquidity at pool line 245',\n",
       "    '0x5cdaf8e257da9a77be1',\n",
       "    '0x0'],\n",
       "   'data': ['0x0']},\n",
       "  {'scoreAddress': 'cx35b12ca4e9c672518db3c06d92ed60d50e7d5554',\n",
       "   'indexed': ['PrintData(str,int,int,int)',\n",
       "    'data at pool line 256',\n",
       "    '0x821ab0d450440cd73',\n",
       "    '0x0'],\n",
       "   'data': ['0x0']},\n",
       "  {'scoreAddress': 'cx35b12ca4e9c672518db3c06d92ed60d50e7d5554',\n",
       "   'indexed': ['PrintData(str,int,int,int)',\n",
       "    'amout of collateral needed USD pool line 268',\n",
       "    '0x821ab0d4414980000',\n",
       "    '0x0'],\n",
       "   'data': ['0x0']},\n",
       "  {'scoreAddress': 'cx327a386a9f8076045679fc132a8baa9e270ca43b',\n",
       "   'indexed': ['PrintData(str,int,int,int)',\n",
       "    'params check at core line 456',\n",
       "    '0x410d586a20a4c0000',\n",
       "    '0xa688906bd8b0000'],\n",
       "   'data': ['0x0']},\n",
       "  {'scoreAddress': 'cx327a386a9f8076045679fc132a8baa9e270ca43b',\n",
       "   'indexed': ['PrintData(str,int,int,int)',\n",
       "    'user borrow balances',\n",
       "    '0x0',\n",
       "    '0x0'],\n",
       "   'data': ['0x0']},\n",
       "  {'scoreAddress': 'cx327a386a9f8076045679fc132a8baa9e270ca43b',\n",
       "   'indexed': ['PrintData(str,int,int,int)',\n",
       "    'initial total borrows core line 497',\n",
       "    '0x152a10db3a643e2813',\n",
       "    '0x0'],\n",
       "   'data': ['0x0']},\n",
       "  {'scoreAddress': 'cx327a386a9f8076045679fc132a8baa9e270ca43b',\n",
       "   'indexed': ['PrintData(str,int,int,int)',\n",
       "    'new total borrows core line 499',\n",
       "    '0x193ae661dc6e8a2813',\n",
       "    '0x0'],\n",
       "   'data': ['0x0']},\n",
       "  {'scoreAddress': 'cx327a386a9f8076045679fc132a8baa9e270ca43b',\n",
       "   'indexed': ['PrintData(str,int,int,int)',\n",
       "    'params check core line 508',\n",
       "    '0x410d586a20a4c0000',\n",
       "    '0x0'],\n",
       "   'data': ['0xa688906bd8b0000']},\n",
       "  {'scoreAddress': 'cx327a386a9f8076045679fc132a8baa9e270ca43b',\n",
       "   'indexed': ['PrintData(str,int,int,int)',\n",
       "    'user data core line 514',\n",
       "    '0x0',\n",
       "    '0x0'],\n",
       "   'data': ['0xde1fd2d36d53171']},\n",
       "  {'scoreAddress': 'cx327a386a9f8076045679fc132a8baa9e270ca43b',\n",
       "   'indexed': ['PrintData(str,int,int,int)',\n",
       "    'params check core line 408',\n",
       "    '0x0',\n",
       "    '0x410d586a20a4c0000'],\n",
       "   'data': ['0x0']},\n",
       "  {'scoreAddress': 'cx327a386a9f8076045679fc132a8baa9e270ca43b',\n",
       "   'indexed': ['PrintData(str,int,int,int)',\n",
       "    'rate value core line 412',\n",
       "    '0x985a3291d01a',\n",
       "    '0x277e29231e2e3f'],\n",
       "   'data': ['0x0']},\n",
       "  {'scoreAddress': 'cx327a386a9f8076045679fc132a8baa9e270ca43b',\n",
       "   'indexed': ['ReserveUpdated(Address,int,int,int,int)',\n",
       "    'cx19be1be7b4e7750863edf966faac3f42dec21025',\n",
       "    '0x985a3291d01a',\n",
       "    '0x277e29231e2e3f'],\n",
       "   'data': ['0xde0ba72c5e32a30', '0xde1fd2d36d53171']},\n",
       "  {'scoreAddress': 'cx19be1be7b4e7750863edf966faac3f42dec21025',\n",
       "   'indexed': ['Transfer(Address,Address,int,bytes)',\n",
       "    'cx327a386a9f8076045679fc132a8baa9e270ca43b',\n",
       "    'hxd4ff18afb94cd6cb41d8ff468254112619a19051',\n",
       "    '0x410d586a20a4c0000'],\n",
       "   'data': ['0x4e6f6e65']},\n",
       "  {'scoreAddress': 'cx35b12ca4e9c672518db3c06d92ed60d50e7d5554',\n",
       "   'indexed': ['Borrow(Address,Address,int,int,int,int,int)',\n",
       "    'cx19be1be7b4e7750863edf966faac3f42dec21025',\n",
       "    'hxd4ff18afb94cd6cb41d8ff468254112619a19051',\n",
       "    '0x410d586a20a4c0000'],\n",
       "   'data': ['0x277e29231e2e3f',\n",
       "    '0xa688906bd8b0000',\n",
       "    '0x0',\n",
       "    '0x5b61ef7e1721c']}],\n",
       " 'logsBloom': b'\\x00\\x00\\x00\\x02\\x01\\x00\\x08 \\x00@ 0 \\x00\\x00\\x04\\x00\\x00\\x00\\x00\\x00\\x00\\x00\\x00\\x00\\x04\\x80\\x00\\x00\\x10\\x00\\x00\\x00\\x00\\x04\\x00\\x00\\x00\\x12\\x00\\x00\\x00\\x00@\\x00\\x00 \\x08\\t\\x00\\x00@\\x00\\x00\\x00\\x00\\x00\\x00A\\x00\\x00\\x00\\x10\\x00\\x02\\x00\\x03\\x00\\x00\\x00\\x00\\x82A\\x00\\x00 \\x00\\x01\\x01\\x00\\x10\\x82\\x00\\x00@\\x10\\x00\\x00\\x80\\x00\\x00\\x00\\x00\\x01\\x04\\x00\\x00 \\x00 \\x00\\x02\\x02@\\x00\\x02\\x00\\x80\\x00\\x00\\x00\\x08\\x00\\x00\\x00\\x00@\\x10\\x00\\x00\\x00\\x82\\x80\\x00\\x00\\x00\\x00\\x00\\x00\\x93\\x00\\x10\\x00\\x00\\x04\\x00\\x00\\x80\\x02\\x00\\x00\\x04\\x00\\x00\\x00\\x00\\x00\\x00!\\x00\\x01\\x04 \\x00\\x00\\x00\\x000\\x00\\x00\\x00\\x80\\x00\\x00\\x02\\x00\\x00\\x00\\x00\\x00\\x00\\x00\\x10\\x00@\"\\x00\\x00@\\x00\\x00\\x00\\x00\\x00\\x00\\x00\\x00\\x10 \\x00\\x00\\x00\\x00\\x00\\x00\\x00\\x00\\x00\\x00\\x04\\x00\\x00\\x00\\x00\\x00\\x00\\x00\\x00\\x00\\x00\\x00\\x00\\x08\\x03\\x00 \\x02\\x02@\\x00\\x00\\x00\\x00\\x00\\x80 \\x00\\x00\\x01\\x00\\x01\\x00\\x00\\x00\\x00\\x00\\x90\\x00\\x00\\x00\\x00\\x00\\x10\\x02 \\x00\\x00\\x00\\x00\\x00\\x00\\x00\\x00\\x00\\x00\\x00',\n",
       " 'status': 1}"
      ]
     },
     "execution_count": 106,
     "metadata": {},
     "output_type": "execute_result"
    }
   ],
   "source": [
    "deployer_wallet=wallet_selector()\n",
    "params ={\"_reserve\": contracts['sample_token']['SCORE'], \"_amount\":75*10**18 }\n",
    "call_transaction = CallTransactionBuilder()\\\n",
    "    .from_(deployer_wallet.get_address())\\\n",
    "    .to(contracts['lendingPool']['SCORE']) \\\n",
    "    .nid(NID) \\\n",
    "    .nonce(100) \\\n",
    "    .method(\"borrow\")\\\n",
    "    .params(params)\\\n",
    "    .build()\n",
    "\n",
    "estimate_step = icon_service.estimate_step(call_transaction)\n",
    "step_limit = estimate_step + 100000\n",
    "# Returns the signed transaction object having a signature\n",
    "signed_transaction = SignedTransaction(call_transaction, deployer_wallet,step_limit)\n",
    "\n",
    "# Reads params to transfer to nodes\n",
    "print(signed_transaction.signed_transaction_dict)\n",
    "\n",
    "# Sends the transaction\n",
    "tx_hash = icon_service.send_transaction(signed_transaction)\n",
    "get_tx_result(tx_hash)"
   ]
  },
  {
   "cell_type": "markdown",
   "metadata": {},
   "source": [
    "# Reedeming/Withdrawing USDb"
   ]
  },
  {
   "cell_type": "code",
   "execution_count": null,
   "metadata": {},
   "outputs": [],
   "source": [
    "deployer_wallet=wallet_selector()\n",
    "params ={\"_amount\": 10*10**18 }\n",
    "call_transaction = CallTransactionBuilder()\\\n",
    "    .from_(deployer_wallet.get_address())\\\n",
    "    .to(contracts['oToken']['SCORE']) \\\n",
    "    .nid(NID) \\\n",
    "    .nonce(100) \\\n",
    "    .method(\"redeem\")\\\n",
    "    .params(params)\\\n",
    "    .build()\n",
    "\n",
    "estimate_step = icon_service.estimate_step(call_transaction)\n",
    "step_limit = estimate_step + 100000\n",
    "# Returns the signed transaction object having a signature\n",
    "signed_transaction = SignedTransaction(call_transaction, deployer_wallet,step_limit)\n",
    "\n",
    "# Reads params to transfer to nodes\n",
    "print(signed_transaction.signed_transaction_dict)\n",
    "\n",
    "# Sends the transaction\n",
    "tx_hash = icon_service.send_transaction(signed_transaction)\n",
    "get_tx_result(tx_hash)"
   ]
  },
  {
   "cell_type": "markdown",
   "metadata": {},
   "source": [
    "# Repaying USDb"
   ]
  },
  {
   "cell_type": "code",
   "execution_count": null,
   "metadata": {},
   "outputs": [],
   "source": [
    "deployer_wallet=wallet_selector()\n",
    "data = \"{\\\"method\\\": \\\"repay\\\", \\\"params\\\": {\\\"amount\\\": 100000000000000000000}}\".encode(\"utf-8\")\n",
    "params = {\"_to\": contracts['lendingPool']['SCORE'], \"_value\": 100000000000000000000, \"_data\": data}\n",
    "transaction = CallTransactionBuilder()\\\n",
    "    .from_(deployer_wallet.get_address())\\\n",
    "    .to(contracts['sicx']['SCORE'])\\\n",
    "    .value(0)\\\n",
    "    .step_limit(10000000)\\\n",
    "    .nid(3)\\\n",
    "    .nonce(100)\\\n",
    "    .method(\"transfer\")\\\n",
    "    .params(params)\\\n",
    "    .build()\n",
    "signed_transaction = SignedTransaction(transaction, deployer_wallet)\n",
    "tx_hash = icon_service.send_transaction(signed_transaction)\n",
    "get_tx_result(tx_hash)"
   ]
  },
  {
   "cell_type": "markdown",
   "metadata": {},
   "source": [
    "# Depositing ICX"
   ]
  },
  {
   "cell_type": "code",
   "execution_count": 105,
   "metadata": {},
   "outputs": [
    {
     "name": "stdout",
     "output_type": "stream",
     "text": [
      "Enter the wallet from which you want to run the transaction4\n"
     ]
    },
    {
     "name": "stderr",
     "output_type": "stream",
     "text": [
      "Raised JSONRPCException while returning the custom response. Error message: {'code': -32602, 'message': 'Pending transaction'}\n"
     ]
    },
    {
     "name": "stdout",
     "output_type": "stream",
     "text": [
      "{'code': -32602, 'message': 'Pending transaction'} (Json rpc error), Retrying in 1 seconds...\n"
     ]
    },
    {
     "name": "stderr",
     "output_type": "stream",
     "text": [
      "Raised JSONRPCException while returning the custom response. Error message: {'code': -32602, 'message': 'Pending transaction'}\n"
     ]
    },
    {
     "name": "stdout",
     "output_type": "stream",
     "text": [
      "{'code': -32602, 'message': 'Pending transaction'} (Json rpc error), Retrying in 2 seconds...\n"
     ]
    },
    {
     "data": {
      "text/plain": [
       "{'txHash': '0x00d4d565300f57271dac3163e6e507377852c7dc0b75389aff6ea7eecd83e119',\n",
       " 'blockHeight': 10289175,\n",
       " 'blockHash': '0xaac659a5dc92ba0b2753ed0df59e4839cb807c2575a050f952b247f230717ac6',\n",
       " 'txIndex': 1,\n",
       " 'to': 'cx35b12ca4e9c672518db3c06d92ed60d50e7d5554',\n",
       " 'stepUsed': 574400,\n",
       " 'stepPrice': 10000000000,\n",
       " 'cumulativeStepUsed': 574400,\n",
       " 'eventLogs': [{'scoreAddress': 'cx35b12ca4e9c672518db3c06d92ed60d50e7d5554',\n",
       "   'indexed': ['ICXTransfer(Address,Address,int)',\n",
       "    'cx35b12ca4e9c672518db3c06d92ed60d50e7d5554',\n",
       "    'cx3e9d38175d112cd5cf05a90080cce779f202ba27',\n",
       "    '0x1043561a8829300000'],\n",
       "   'data': []},\n",
       "  {'scoreAddress': 'cx3e9d38175d112cd5cf05a90080cce779f202ba27',\n",
       "   'indexed': ['Mint(Address,int)',\n",
       "    'cx327a386a9f8076045679fc132a8baa9e270ca43b',\n",
       "    '0x1043561a8829300000'],\n",
       "   'data': []},\n",
       "  {'scoreAddress': 'cx327a386a9f8076045679fc132a8baa9e270ca43b',\n",
       "   'indexed': ['PrintData(str,int,int,int)',\n",
       "    'params check core line 408',\n",
       "    '0x1043561a8829300000',\n",
       "    '0x0'],\n",
       "   'data': ['0x0']},\n",
       "  {'scoreAddress': 'cx327a386a9f8076045679fc132a8baa9e270ca43b',\n",
       "   'indexed': ['PrintData(str,int,int,int)',\n",
       "    'rate value core line 412',\n",
       "    '0x2ab6759637c9',\n",
       "    '0x8c40aa55b7b70'],\n",
       "   'data': ['0x0']},\n",
       "  {'scoreAddress': 'cx327a386a9f8076045679fc132a8baa9e270ca43b',\n",
       "   'indexed': ['ReserveUpdated(Address,int,int,int,int)',\n",
       "    'cx3e9d38175d112cd5cf05a90080cce779f202ba27',\n",
       "    '0x2ab6759637c9',\n",
       "    '0x8c40aa55b7b70'],\n",
       "   'data': ['0xde0f12e5c52d977', '0xde252c0bbefd598']},\n",
       "  {'scoreAddress': 'cxf6e3d64db674c0edbf732462e80e2e3352280548',\n",
       "   'indexed': ['Mint(Address,int)',\n",
       "    'hxd4ff18afb94cd6cb41d8ff468254112619a19051'],\n",
       "   'data': ['0x0']},\n",
       "  {'scoreAddress': 'cxf6e3d64db674c0edbf732462e80e2e3352280548',\n",
       "   'indexed': ['Mint(Address,int)',\n",
       "    'hxd4ff18afb94cd6cb41d8ff468254112619a19051'],\n",
       "   'data': ['0x1043561a8829300000']},\n",
       "  {'scoreAddress': 'cxf6e3d64db674c0edbf732462e80e2e3352280548',\n",
       "   'indexed': ['MintOnDeposit(Address,int,int,int)',\n",
       "    'hxd4ff18afb94cd6cb41d8ff468254112619a19051',\n",
       "    '0x1043561a8829300000',\n",
       "    '0x0'],\n",
       "   'data': ['0xde0f12e5c52d977']},\n",
       "  {'scoreAddress': 'cx35b12ca4e9c672518db3c06d92ed60d50e7d5554',\n",
       "   'indexed': ['Deposit(Address,Address,int,int)',\n",
       "    'cx3e9d38175d112cd5cf05a90080cce779f202ba27',\n",
       "    'hxd4ff18afb94cd6cb41d8ff468254112619a19051',\n",
       "    '0x1043561a8829300000'],\n",
       "   'data': ['0x5b61ef6cdc4fd']}],\n",
       " 'logsBloom': b'\\x04\\x00\\x00\\x00\\x00\\x00\\x00(\\x04\\x00\\x00\\x01 \\x00\\x00\\x06\\x00\\x00\\x00\\x00\\x00\\x00\\x00\\x00\\x00\\x00\\x01\\x00\\x00\\x01\\x02\\x00\\x00\\x00\\x00\\x00\\x02\\x00\\x12\\x00\\x00\\x00\\x02\\x00\\x00\\x00\\x00\\x00\\x00\\x00\\x01\\x81\\x80\\x00\\x00\\x00\\x00\\x00\\x08\\x00\\x00\\x00\\x00\\x00\\x00\\x00\\x02\\x00\\x00\\x00\\x00\\x00A\\x00\\x00\\x10\\x01\\x00\\x00\\x00\\x00\\x02\\x00\\x00\\x00\\x10\\x00\\x00\\x80\\x00\\x00\\x00\\x00\\x00\\x04\\x00\\x80\\x00\\x00 \\x00\\x00\\x00\\x00\\x00\\x00\\x00\\x10\\x00\\x00\\x00\\x00\\x00\\x00\\x00\\x02\\x00\\x00\\x00\\x00\\x00\\x00\\x80\\x00\\x00\\x00\\x00\\x08\\x00\\x02\\x00\\xb0\\x00\\x00\\x00\\x00\\x00\\x00\\x10\\x00\\x00\\x04\\x08\\x00\\x00\\x00\\x00\\x02\\x00\\x00\\x01\\x00\\x00\\x00\\x00 \\x00\\x00\\x00\\x00\\x00\\x00\\x00\\x00\\x02\\x00\\x00\\x00\\x00\\x00\\x00\\x00\\x10\\x00\\x00\\x00\\x00\\x00A@\\x00\\x00\\x00\\x00\\x00\\x00\\x00\\x00\\x00\\x00\\x00\\x00\\x00\\x00\\x00\\x00\\x00\\x10\\x00\\x00\\x00\\x00\\x00\\x10\\x00\\x00\\x00 \\x00\\x00\\x00\\x00\\x00\\x02\\x01\\x08\\x00\\x02\\xc0\\x00\\x00\\x00\\x00\\x00\\x80\\x00\\x00\\x00\\x00\\x00\\x01\\x00\\x00\\x00\\x00\\x02\\x00\\x00\\x00\\x00\\x00\\x00\\x00\\x00`\\x00\\x00\\x00\\x80\\x10\\x01\\x80\\x00\\x00\\x00\\x00',\n",
       " 'status': 1}"
      ]
     },
     "execution_count": 105,
     "metadata": {},
     "output_type": "execute_result"
    }
   ],
   "source": [
    "deployer_wallet=wallet_selector()\n",
    "params = {\"_amount\": 300 * 10 ** 18}\n",
    "call_transaction = CallTransactionBuilder() \\\n",
    "    .from_(deployer_wallet.get_address()) \\\n",
    "    .to(contracts['lendingPool']['SCORE']) \\\n",
    "    .nid(3) \\\n",
    "    .step_limit(1000000000) \\\n",
    "    .nonce(100) \\\n",
    "    .value(300 * 10 ** 18) \\\n",
    "    .method(\"deposit\") \\\n",
    "    .params(params) \\\n",
    "    .build() \n",
    "\n",
    "signed_transaction = SignedTransaction(call_transaction, deployer_wallet)\n",
    "tx_hash = icon_service.send_transaction(signed_transaction)\n",
    "get_tx_result(tx_hash)"
   ]
  },
  {
   "cell_type": "markdown",
   "metadata": {},
   "source": [
    "# Withdrawing ICX "
   ]
  },
  {
   "cell_type": "code",
   "execution_count": null,
   "metadata": {},
   "outputs": [],
   "source": [
    "deployer_wallet=wallet_selector()\n",
    "params = {\"_amount\": 250 * 10 ** 18}\n",
    "call_transaction = CallTransactionBuilder() \\\n",
    "    .from_(deployer_wallet.get_address())\\\n",
    "    .to(contracts['oICX']['SCORE'])\\\n",
    "    .nid(3) \\\n",
    "    .step_limit(10000000) \\\n",
    "    .nonce(100) \\\n",
    "    .method(\"redeem\") \\\n",
    "    .params(params) \\\n",
    "    .build()\n",
    "signed_transaction = SignedTransaction(call_transaction, deployer_wallet)\n",
    "tx_hash = icon_service.send_transaction(signed_transaction)\n",
    "get_tx_result(tx_hash)"
   ]
  },
  {
   "cell_type": "markdown",
   "metadata": {},
   "source": [
    "# Borrow sICX"
   ]
  },
  {
   "cell_type": "code",
   "execution_count": null,
   "metadata": {},
   "outputs": [],
   "source": [
    "deployer_wallet=wallet_selector()\n",
    "params ={\"_reserve\": contracts['sicx']['SCORE'], \"_amount\":150 * 10 ** 18 }\n",
    "call_transaction = CallTransactionBuilder()\\\n",
    "    .from_(deployer_wallet.get_address())\\\n",
    "    .to(contracts['lendingPool']['SCORE']) \\\n",
    "    .nid(NID) \\\n",
    "    .nonce(100) \\\n",
    "    .method(\"borrow\")\\\n",
    "    .params(params)\\\n",
    "    .build()\n",
    "\n",
    "estimate_step = icon_service.estimate_step(call_transaction)\n",
    "step_limit = estimate_step + 100000\n",
    "# Returns the signed transaction object having a signature\n",
    "signed_transaction = SignedTransaction(call_transaction, deployer_wallet,step_limit)\n",
    "\n",
    "# Reads params to transfer to nodes\n",
    "print(signed_transaction.signed_transaction_dict)\n",
    "\n",
    "# Sends the transaction\n",
    "tx_hash = icon_service.send_transaction(signed_transaction)\n",
    "get_tx_result(tx_hash)"
   ]
  },
  {
   "cell_type": "markdown",
   "metadata": {},
   "source": [
    "# Repay sICX"
   ]
  },
  {
   "cell_type": "code",
   "execution_count": null,
   "metadata": {},
   "outputs": [],
   "source": [
    "deployer_wallet=wallet_selector()\n",
    "data = \"{\\\"method\\\": \\\"repay\\\", \\\"params\\\": {\\\"amount\\\": 100 * 10 ** 18}}\".encode(\"utf-8\")\n",
    "params = {\"_to\": contracts['lendingPool']['SCORE'], \"_value\": 100 * 10 ** 18, \"_data\": data}\n",
    "transaction = CallTransactionBuilder()\\\n",
    "    .from_(deployer_wallet.get_address())\\\n",
    "    .to(contracts['sicx']['SCORE'])\\\n",
    "    .value(0)\\\n",
    "    .step_limit(10000000)\\\n",
    "    .nid(3)\\\n",
    "    .nonce(100)\\\n",
    "    .method(\"transfer\")\\\n",
    "    .params(params)\\\n",
    "    .build()\n",
    "signed_transaction = SignedTransaction(transaction, deployer_wallet)\n",
    "tx_hash = icon_service.send_transaction(signed_transaction)\n",
    "get_tx_result(tx_hash)"
   ]
  },
  {
   "cell_type": "markdown",
   "metadata": {},
   "source": [
    "## Liquidation call"
   ]
  },
  {
   "cell_type": "code",
   "execution_count": 111,
   "metadata": {
    "scrolled": true
   },
   "outputs": [
    {
     "name": "stdout",
     "output_type": "stream",
     "text": [
      "Enter the wallet from which you want to run the transaction4\n"
     ]
    },
    {
     "name": "stderr",
     "output_type": "stream",
     "text": [
      "Raised JSONRPCException while returning the custom response. Error message: {'code': -32602, 'message': 'Pending transaction'}\n"
     ]
    },
    {
     "name": "stdout",
     "output_type": "stream",
     "text": [
      "{'code': -32602, 'message': 'Pending transaction'} (Json rpc error), Retrying in 1 seconds...\n"
     ]
    },
    {
     "name": "stderr",
     "output_type": "stream",
     "text": [
      "Raised JSONRPCException while returning the custom response. Error message: {'code': -32602, 'message': 'Pending transaction'}\n"
     ]
    },
    {
     "name": "stdout",
     "output_type": "stream",
     "text": [
      "{'code': -32602, 'message': 'Pending transaction'} (Json rpc error), Retrying in 2 seconds...\n"
     ]
    },
    {
     "data": {
      "text/plain": [
       "{'txHash': '0xb2b13e9d92658e21568e77cbe320a2cd2c16885e13b549e3cca97bda428ea5e5',\n",
       " 'blockHeight': 10289239,\n",
       " 'blockHash': '0xba517c7ad46b2fea6125e7deb2f499b147e5aa6bb68d6d775e243b6741d1dd4d',\n",
       " 'txIndex': 1,\n",
       " 'to': 'cx19be1be7b4e7750863edf966faac3f42dec21025',\n",
       " 'stepUsed': 2720060,\n",
       " 'stepPrice': 10000000000,\n",
       " 'cumulativeStepUsed': 2720060,\n",
       " 'eventLogs': [{'scoreAddress': 'cx327a386a9f8076045679fc132a8baa9e270ca43b',\n",
       "   'indexed': ['PrintData(str,int,int,int)',\n",
       "    'params check core line 408',\n",
       "    '0x1190676589db839a6',\n",
       "    '0x0'],\n",
       "   'data': ['0x0']},\n",
       "  {'scoreAddress': 'cx327a386a9f8076045679fc132a8baa9e270ca43b',\n",
       "   'indexed': ['PrintData(str,int,int,int)',\n",
       "    'rate value core line 412',\n",
       "    '0x91163baed9fb',\n",
       "    '0x2751fd2e2fa6de'],\n",
       "   'data': ['0x0']},\n",
       "  {'scoreAddress': 'cx327a386a9f8076045679fc132a8baa9e270ca43b',\n",
       "   'indexed': ['ReserveUpdated(Address,int,int,int,int)',\n",
       "    'cx19be1be7b4e7750863edf966faac3f42dec21025',\n",
       "    '0x91163baed9fb',\n",
       "    '0x2751fd2e2fa6de'],\n",
       "   'data': ['0xde0ba72c5e32a30', '0xde1fd2d36d53171']},\n",
       "  {'scoreAddress': 'cxf6e3d64db674c0edbf732462e80e2e3352280548',\n",
       "   'indexed': ['Mint(Address,int)',\n",
       "    'cx1fe4c8fdfe24eaf1be5135fdcc34a39dba6a8f4e'],\n",
       "   'data': ['0x0']},\n",
       "  {'scoreAddress': 'cxf6e3d64db674c0edbf732462e80e2e3352280548',\n",
       "   'indexed': ['Burn(Address,int)',\n",
       "    'hxd4ff18afb94cd6cb41d8ff468254112619a19051'],\n",
       "   'data': ['0x3437afef99d8b7af4']},\n",
       "  {'scoreAddress': 'cxf6e3d64db674c0edbf732462e80e2e3352280548',\n",
       "   'indexed': ['BurnOnLiquidation(Address,int,int,int)',\n",
       "    'hxd4ff18afb94cd6cb41d8ff468254112619a19051',\n",
       "    '0x3437afef99d8b7af4',\n",
       "    '0x0'],\n",
       "   'data': ['0xde0f12e730c60c7']},\n",
       "  {'scoreAddress': 'cxf6e3d64db674c0edbf732462e80e2e3352280548',\n",
       "   'indexed': ['Mint(Address,int)',\n",
       "    'cx1fe4c8fdfe24eaf1be5135fdcc34a39dba6a8f4e'],\n",
       "   'data': ['0x0']},\n",
       "  {'scoreAddress': 'cxf6e3d64db674c0edbf732462e80e2e3352280548',\n",
       "   'indexed': ['Burn(Address,int)',\n",
       "    'hxd4ff18afb94cd6cb41d8ff468254112619a19051'],\n",
       "   'data': ['0x1ef1976025ab14c2']},\n",
       "  {'scoreAddress': 'cxf6e3d64db674c0edbf732462e80e2e3352280548',\n",
       "   'indexed': ['BurnOnLiquidation(Address,int,int,int)',\n",
       "    'hxd4ff18afb94cd6cb41d8ff468254112619a19051',\n",
       "    '0x1ef1976025ab14c2',\n",
       "    '0x0'],\n",
       "   'data': ['0xde0f12e730c60c7']},\n",
       "  {'scoreAddress': 'cx3e9d38175d112cd5cf05a90080cce779f202ba27',\n",
       "   'indexed': ['Transfer(Address,Address,int,bytes)',\n",
       "    'cx327a386a9f8076045679fc132a8baa9e270ca43b',\n",
       "    'cxede316aa65b7df13633599e67490daf1fd32b8a5',\n",
       "    '0x1ef1976025ab14c2'],\n",
       "   'data': ['0x4e6f6e65']},\n",
       "  {'scoreAddress': 'cx1fe4c8fdfe24eaf1be5135fdcc34a39dba6a8f4e',\n",
       "   'indexed': ['OriginationFeeLiquidated(Address,Address,Address,int,int,int)',\n",
       "    'cx3e9d38175d112cd5cf05a90080cce779f202ba27',\n",
       "    'cx19be1be7b4e7750863edf966faac3f42dec21025',\n",
       "    'hxd4ff18afb94cd6cb41d8ff468254112619a19051'],\n",
       "   'data': ['0xa688906bd8b0000', '0x1ef1976025ab14c2', '0x5b61efe746aa9']},\n",
       "  {'scoreAddress': 'cx1fe4c8fdfe24eaf1be5135fdcc34a39dba6a8f4e',\n",
       "   'indexed': ['LiquidationCall(Address,Address,Address,int,int,int,Address,int)',\n",
       "    'cx3e9d38175d112cd5cf05a90080cce779f202ba27',\n",
       "    'cx19be1be7b4e7750863edf966faac3f42dec21025',\n",
       "    'hxd4ff18afb94cd6cb41d8ff468254112619a19051'],\n",
       "   'data': ['0x1190676589db839a6',\n",
       "    '0x3437afef99d8b7af4',\n",
       "    '0x2a516a1436c',\n",
       "    'hx5bb03cc3f3d26b2d27491c2f56d233ed6777a654',\n",
       "    '0x5b61efe746aa9']},\n",
       "  {'scoreAddress': 'cx3e9d38175d112cd5cf05a90080cce779f202ba27',\n",
       "   'indexed': ['Transfer(Address,Address,int,bytes)',\n",
       "    'cx327a386a9f8076045679fc132a8baa9e270ca43b',\n",
       "    'hx5bb03cc3f3d26b2d27491c2f56d233ed6777a654',\n",
       "    '0x3437afef99d8b7af4'],\n",
       "   'data': ['0x4e6f6e65']},\n",
       "  {'scoreAddress': 'cx19be1be7b4e7750863edf966faac3f42dec21025',\n",
       "   'indexed': ['Transfer(Address,Address,int,bytes)',\n",
       "    'cx35b12ca4e9c672518db3c06d92ed60d50e7d5554',\n",
       "    'cx327a386a9f8076045679fc132a8baa9e270ca43b',\n",
       "    '0x1190676589db839a6'],\n",
       "   'data': ['0x4e6f6e65']},\n",
       "  {'scoreAddress': 'cx19be1be7b4e7750863edf966faac3f42dec21025',\n",
       "   'indexed': ['Transfer(Address,Address,int,bytes)',\n",
       "    'hx5bb03cc3f3d26b2d27491c2f56d233ed6777a654',\n",
       "    'cx35b12ca4e9c672518db3c06d92ed60d50e7d5554',\n",
       "    '0x15af1d78b58c40000'],\n",
       "   'data': ['0x7b226d6574686f64223a20226c69717569646174696f6e43616c6c222c2022706172616d73223a207b225f636f6c6c61746572616c223a2022637833653964333831373564313132636435636630356139303038306363653737396632303262613237222c20225f72657365727665223a2022637831396265316265376234653737353038363365646639363666616163336634326465633231303235222c20225f75736572223a2022687864346666313861666239346364366362343164386666343638323534313132363139613139303531222c20225f7075726368617365416d6f756e74223a2032353030303030303030303030303030303030307d7d']}],\n",
       " 'logsBloom': b'\\x00\\x00\\x00\\x80\\x00\\x00\\x00 \\x00\\x00\\x00( \\x00\\x00B@\\x00\\x00\\x80\\x00\\x00\\x00\\x00\\x00\\x12\\t\\x04\\x00\\x10\\x08\\x00\\x02\\x00 \\x00\\x03\\x06\\x12\\x00\\x00\\x00\\x12\\x00\\x00\\x00\\x00 \\x00\\x00\\x00\\x00\\x80\\x01\\x10@\\x00\\x00\\x00\\x00 \\x00\\x00\\x00\\x00\\x00\\x02\\x00\\x00\\x00\\x00\\x00A\\x00\\x00\\x10\\x05\\x00\\x00\\x04\\x80\\x82\\x00\\x00@\\x00@\\x00\\x00\\x00\\x00\\x00\\x00\\x00\\x00\\x00\\x00\\x80\\x00 \\x00\\x00\\x00\\x80\\x00\\x00\"\\x10\\x00\\x00\\x00\\x08\\x00\\x00\\x02\\x00\\x00\\x00 \\x00\\x00\\x80\\x80 \\x00\\x80\\x00\\x08\\x00\\x03\\x00\\x10\\x00\\x80\\x00\\x00\\x00\\x00\\x10\\x00\\x04\\x04\\x08\\x01\\x08\\x00\\x00\\x02\\x00@\\x01$\\x00\\x00\\x00\\x80\\x00\\x10\\x00\\x00\\x00\\x00\\x00\\x00\\x03\\x00\\x00@\\x00\\x00\\x00\\x00\\x80\\x00\\x00\\x00\\x00\\x00@@\\x00\\x00\\x00\\x00\\x00\\x00\\x00\\x02\\x00\\x08\\x00\\x00\\x00\\x00\\x00\\x00\\x00\\x00\\x00\\x04\\x00\\x00\\x00\\x00\\x00\\x04\\x00 \\x08\\x00\\x02\\x05\\x00\\x03\\x00\\n\\x00\\x02\\x80\\x00\\x00\\x00\\x02\\x00\\x80\\x00\\x00\\x00\\x00\\x01\\x01\\x02\\x08\\x00\\x00\\x01\\x00\\x00\\x00\\x00\\x80\\x08\\x00\\x00 \\x00\\x04\\x00\\x00\\x00\\x01\\x0c\\x00\\x00\\x00\\x00',\n",
       " 'status': 1}"
      ]
     },
     "execution_count": 111,
     "metadata": {},
     "output_type": "execute_result"
    }
   ],
   "source": [
    "#Specify the wallet of the borrower\n",
    "_borrowerUser = wallet_selector()\n",
    "#Specify the wallet with which you wish to repay _borrowUser's borrowed asset\n",
    "_liquidatorUser = deployer_wallet5\n",
    "_loanPayoffAmount = 25*10**18\n",
    "depositData = {'method': 'liquidationCall', 'params': \n",
    "            {'_collateral': contracts['sicx'][\"SCORE\"],\n",
    "            '_reserve': contracts['sample_token'][\"SCORE\"],\n",
    "            '_user': _borrowerUser.get_address(),\n",
    "            '_purchaseAmount': _loanPayoffAmount}}\n",
    "data = json.dumps(depositData).encode('utf-8')\n",
    "params = {\"_to\": contracts['lendingPool']['SCORE'],\n",
    "            \"_value\": _loanPayoffAmount, \"_data\": data}\n",
    "call_transaction = CallTransactionBuilder() \\\n",
    "    .from_(_liquidatorUser.get_address()) \\\n",
    "    .to(contracts['sample_token'][\"SCORE\"]) \\\n",
    "    .nid(3) \\\n",
    "    .step_limit(10000000) \\\n",
    "    .nonce(100) \\\n",
    "    .method(\"transfer\") \\\n",
    "    .params(params) \\\n",
    "    .build()\n",
    "signed_transaction = SignedTransaction(call_transaction, _liquidatorUser)\n",
    "tx_hash = icon_service.send_transaction(signed_transaction)\n",
    "get_tx_result(tx_hash)"
   ]
  },
  {
   "cell_type": "code",
   "execution_count": 54,
   "metadata": {},
   "outputs": [
    {
     "data": {
      "text/plain": [
       "8399972201400000000000"
      ]
     },
     "execution_count": 54,
     "metadata": {},
     "output_type": "execute_result"
    }
   ],
   "source": [
    "icon_service.get_balance(deployer_wallet5.get_address())"
   ]
  },
  {
   "cell_type": "code",
   "execution_count": 61,
   "metadata": {},
   "outputs": [
    {
     "name": "stdout",
     "output_type": "stream",
     "text": [
      "'0x1e084b60c83e680000'\n"
     ]
    }
   ],
   "source": [
    "params = {'_owner': deployer_wallet5.get_address()}\n",
    "\n",
    "_call = CallBuilder()\\\n",
    "    .from_(deployer_wallet.get_address())\\\n",
    "    .to(contracts['sample_token'][\"SCORE\"])\\\n",
    "    .method(\"balanceOf\")\\\n",
    "    .params(params)\\\n",
    "    .build()\n",
    "response = icon_service.call(_call)\n",
    "pprint(response)"
   ]
  },
  {
   "cell_type": "markdown",
   "metadata": {},
   "source": [
    "# Readonly methods to get data"
   ]
  },
  {
   "cell_type": "code",
   "execution_count": 108,
   "metadata": {},
   "outputs": [
    {
     "name": "stdout",
     "output_type": "stream",
     "text": [
      "Enter the wallet from which you want to run the transaction4\n",
      "{'borrowingPower': 1.049896060813527,\n",
      " 'currentLiquidationThreshold': 0.65,\n",
      " 'currentLtv': 0.5,\n",
      " 'healthFactor': 0.9524752376203179,\n",
      " 'healthFactorBelowThreshold': 1e-18,\n",
      " 'totalBorrowBalanceUSD': 75.00000079311067,\n",
      " 'totalCollateralBalanceUSD': 111.00000000793442,\n",
      " 'totalFeesUSD': 0.75,\n",
      " 'totalLiquidityBalanceUSD': 111.00000000793442}\n"
     ]
    }
   ],
   "source": [
    "deployer_wallet=wallet_selector()\n",
    "params = {'_user': deployer_wallet.get_address()}\n",
    "_call = CallBuilder()\\\n",
    "    .from_(deployer_wallet.get_address())\\\n",
    "    .to(contracts['lendingPoolDataProvider']['SCORE'])\\\n",
    "    .method(\"getUserAccountData\")\\\n",
    "    .params(params)\\\n",
    "    .build()\n",
    "response = icon_service.call(_call)\n",
    "for key,values in response.items():\n",
    "    if key!=\"lastUpdateTimestamp\":\n",
    "        response[key]=int(values,0)/10**18\n",
    "    else:\n",
    "        response[key]=int(v,0)\n",
    "        \n",
    "pprint(response)"
   ]
  },
  {
   "cell_type": "code",
   "execution_count": 112,
   "metadata": {
    "scrolled": true
   },
   "outputs": [
    {
     "name": "stdout",
     "output_type": "stream",
     "text": [
      "Enter the wallet from which you want to run the transaction4\n",
      "{'USDb': {'borrowRate': 0.011067671935166175,\n",
      "          'currentBorrowBalance': 54.750000471732214,\n",
      "          'currentBorrowBalanceUSD': 54.750000471732214,\n",
      "          'currentOTokenBalance': 0.0,\n",
      "          'currentOTokenBalanceUSD': 0.0,\n",
      "          'lastUpdateTimestamp': 1607619117869737,\n",
      "          'liquidityRate': 0.000159524676622843,\n",
      "          'originationFee': 0.0,\n",
      "          'principalBorrowBalance': 54.750000010579214,\n",
      "          'principalBorrowBalanceUSD': 54.750000010579214,\n",
      "          'useAsCollateral': 0.0,\n",
      "          'userBorrowCumulativeIndex': 1.0003589628882579},\n",
      " 'sICX': {'borrowRate': 0.00246734981663832,\n",
      "          'currentBorrowBalance': 0.0,\n",
      "          'currentBorrowBalanceUSD': 0.0,\n",
      "          'currentOTokenBalance': 237.56755905245768,\n",
      "          'currentOTokenBalanceUSD': 87.89999684940933,\n",
      "          'lastUpdateTimestamp': 0,\n",
      "          'liquidityRate': 4.6963145193417e-05,\n",
      "          'originationFee': 0.0,\n",
      "          'principalBorrowBalance': 0.0,\n",
      "          'principalBorrowBalanceUSD': 0.0,\n",
      "          'useAsCollateral': 1e-18,\n",
      "          'userBorrowCumulativeIndex': 0.0}}\n"
     ]
    }
   ],
   "source": [
    "deployer_wallet=wallet_selector()\n",
    "params = {'_user': deployer_wallet.get_address()}\n",
    "_call = CallBuilder()\\\n",
    "    .from_(deployer_wallet.get_address())\\\n",
    "    .to(contracts['lendingPoolDataProvider']['SCORE'])\\\n",
    "    .method(\"getUserAllReserveData\")\\\n",
    "    .params(params)\\\n",
    "    .build()\n",
    "response = icon_service.call(_call)\n",
    "for key,values in response.items():\n",
    "    for k,v in values.items():\n",
    "        if k!=\"lastUpdateTimestamp\":\n",
    "            response[key][k]=int(v,0)/10**18\n",
    "        else:\n",
    "            response[key][k]=int(v,0)\n",
    "pprint(response)"
   ]
  },
  {
   "cell_type": "code",
   "execution_count": 97,
   "metadata": {},
   "outputs": [
    {
     "name": "stdout",
     "output_type": "stream",
     "text": [
      "Enter the wallet from which you want to run the transaction1\n",
      "{'baseLTVasCollateral': '0x6f05b59d3b20000',\n",
      " 'borrowingEnabled': '0x1',\n",
      " 'decimals': '0x12',\n",
      " 'isActive': '0x1',\n",
      " 'liquidationBonus': '0x16345785d8a0000',\n",
      " 'liquidationThreshold': '0x905438e60010000',\n",
      " 'usageAsCollateralEnabled': '0x1'}\n"
     ]
    }
   ],
   "source": [
    "\n",
    "deployer_wallet=wallet_selector()\n",
    "params = {'_reserve': contracts['sicx']['SCORE']}\n",
    "_call = CallBuilder()\\\n",
    "    .from_(deployer_wallet.get_address())\\\n",
    "    .to(contracts['lendingPoolCore']['SCORE'])\\\n",
    "    .method(\"getReserveConfiguration\")\\\n",
    "    .params(params)\\\n",
    "    .build()\n",
    "response = icon_service.call(_call)\n",
    "\n",
    "pprint(response)"
   ]
  },
  {
   "cell_type": "markdown",
   "metadata": {},
   "source": [
    "## Getting specific reserve data"
   ]
  },
  {
   "cell_type": "markdown",
   "metadata": {},
   "source": [
    "### This returns the reserve data of USDb"
   ]
  },
  {
   "cell_type": "code",
   "execution_count": 87,
   "metadata": {
    "tags": []
   },
   "outputs": [
    {
     "name": "stdout",
     "output_type": "stream",
     "text": [
      "{'availableLiquidity': 27385.815034154173,\n",
      " 'baseLTVasCollateral': 0.5,\n",
      " 'borrowCumulativeIndex': 1.000358823081847,\n",
      " 'borrowRate': 0.010984927638586547,\n",
      " 'borrowingEnabled': '0x1',\n",
      " 'decimals': 1.8e-17,\n",
      " 'isActive': '0x1',\n",
      " 'isFreezed': '0x0',\n",
      " 'lastUpdateTimestamp': 1607618407851662,\n",
      " 'liquidationBonus': 0.1,\n",
      " 'liquidationThreshold': 0.65,\n",
      " 'liquidityCumulativeIndex': 1.00000411761864,\n",
      " 'liquidityRate': 0.000146061344328081,\n",
      " 'oTokenAddress': 'cx4258464e395b3ef3b73a146947eb41393e8c5873',\n",
      " 'reserveAddress': 'cx19be1be7b4e7750863edf966faac3f42dec21025',\n",
      " 'totalBorrows': 410.66278894999925,\n",
      " 'totalLiquidity': 27796.47782310417,\n",
      " 'usageAsCollateralEnabled': '0x1'}\n"
     ]
    }
   ],
   "source": [
    "params = {'_reserve': contracts['sample_token']['SCORE']}\n",
    "_call = CallBuilder()\\\n",
    "    .from_(deployer_wallet1.get_address())\\\n",
    "    .to(contracts['lendingPoolDataProvider']['SCORE'])\\\n",
    "    .method(\"getReserveData\")\\\n",
    "    .params(params)\\\n",
    "    .build()\n",
    "response = icon_service.call(_call)\n",
    "for key,values in response.items():\n",
    "    if values==\"0x1\" or values ==\"0x0\" or \"Address\" in key:\n",
    "        continue\n",
    "    if key!=\"lastUpdateTimestamp\":\n",
    "        response[key]=int(values,0)/10**18\n",
    "    else:\n",
    "        response[key]=int(values,0)\n",
    "\n",
    "pprint(response)"
   ]
  },
  {
   "cell_type": "markdown",
   "metadata": {},
   "source": [
    "#### This method returns the reserve data of sICX"
   ]
  },
  {
   "cell_type": "code",
   "execution_count": 24,
   "metadata": {},
   "outputs": [
    {
     "name": "stdout",
     "output_type": "stream",
     "text": [
      "{'availableLiquidity': '0x0',\n",
      " 'baseLTVasCollateral': 0.33,\n",
      " 'borrowCumulativeIndex': 1.0,\n",
      " 'borrowRate': '0x0',\n",
      " 'borrowingEnabled': '0x1',\n",
      " 'decimals': 1.8e-17,\n",
      " 'isActive': '0x1',\n",
      " 'isFreezed': '0x0',\n",
      " 'lastUpdateTimestamp': '0x0',\n",
      " 'liquidationBonus': 1e-17,\n",
      " 'liquidationThreshold': 0.65,\n",
      " 'liquidityCumulativeIndex': 1.0,\n",
      " 'liquidityRate': '0x0',\n",
      " 'oTokenAddress': 'cxe6b279229d10c9230b59cb50349589a015401925',\n",
      " 'reserveAddress': 'cxe74650f0903ef43102b74fb7d4949ad2f42eeff9',\n",
      " 'totalBorrows': '0x0',\n",
      " 'totalLiquidity': '0x0',\n",
      " 'usageAsCollateralEnabled': '0x1'}\n"
     ]
    }
   ],
   "source": [
    "params = {'_reserve': contracts['sicx']['SCORE']}\n",
    "_call = CallBuilder()\\\n",
    "    .from_(deployer_wallet1.get_address())\\\n",
    "    .to(contracts['lendingPoolDataProvider']['SCORE'])\\\n",
    "    .method(\"getReserveData\")\\\n",
    "    .params(params)\\\n",
    "    .build()\n",
    "response = icon_service.call(_call)\n",
    "for key,values in response.items():\n",
    "    if values==\"0x1\" or values ==\"0x0\" or \"Address\" in key:\n",
    "        continue\n",
    "    if key!=\"lastUpdateTimestamp\":\n",
    "        response[key]=int(values,0)/10**18\n",
    "    else:\n",
    "        response[key]=int(values,0)\n",
    "\n",
    "pprint(response)"
   ]
  },
  {
   "cell_type": "markdown",
   "metadata": {},
   "source": [
    "## Getting data of all reserves"
   ]
  },
  {
   "cell_type": "markdown",
   "metadata": {},
   "source": [
    "### This returns the reserve data of all the reserves"
   ]
  },
  {
   "cell_type": "code",
   "execution_count": 16,
   "metadata": {
    "tags": []
   },
   "outputs": [
    {
     "name": "stdout",
     "output_type": "stream",
     "text": [
      "{'USDb': {'availableLiquidity': 27590.564997924317,\n",
      "          'baseLTVasCollateral': 0.33,\n",
      "          'borrowCumulativeIndex': 1.000273798950921,\n",
      "          'borrowRate': 0.010493858227441847,\n",
      "          'borrowingEnabled': '0x1',\n",
      "          'decimals': 1.8e-17,\n",
      "          'isActive': '0x1',\n",
      "          'isFreezed': '0x0',\n",
      "          'lastUpdateTimestamp': 1607361908231307,\n",
      "          'liquidationBonus': 1e-17,\n",
      "          'liquidationThreshold': 0.65,\n",
      "          'liquidityCumulativeIndex': 1.0000035341626332,\n",
      "          'liquidityRate': 6.9963456013611e-05,\n",
      "          'oTokenAddress': 'cx4258464e395b3ef3b73a146947eb41393e8c5873',\n",
      "          'reserveAddress': 'cx19be1be7b4e7750863edf966faac3f42dec21025',\n",
      "          'totalBorrows': 205.91278873267638,\n",
      "          'totalLiquidity': 27796.477786656993,\n",
      "          'usageAsCollateralEnabled': '0x1'},\n",
      " 'sICX': {'availableLiquidity': 240.49,\n",
      "          'baseLTVasCollateral': 0.33,\n",
      "          'borrowCumulativeIndex': 1.000320647242915,\n",
      "          'borrowRate': 0.017173499293938774,\n",
      "          'borrowingEnabled': '0x1',\n",
      "          'decimals': 1.8e-17,\n",
      "          'isActive': '0x1',\n",
      "          'isFreezed': '0x0',\n",
      "          'lastUpdateTimestamp': 1607362883836858,\n",
      "          'liquidationBonus': 1e-17,\n",
      "          'liquidationThreshold': 0.65,\n",
      "          'liquidityCumulativeIndex': 1.000047046382509,\n",
      "          'liquidityRate': 0.002275167173134491,\n",
      "          'oTokenAddress': 'cxf6e3d64db674c0edbf732462e80e2e3352280548',\n",
      "          'reserveAddress': 'cx3e9d38175d112cd5cf05a90080cce779f202ba27',\n",
      "          'totalBorrows': 41.51093943694697,\n",
      "          'totalLiquidity': 282.00093943694696,\n",
      "          'usageAsCollateralEnabled': '0x1'}}\n"
     ]
    }
   ],
   "source": [
    "params = {'_reserve': contracts['sample_token']['SCORE']}\n",
    "_call = CallBuilder()\\\n",
    "    .from_(deployer_wallet1.get_address())\\\n",
    "    .to(contracts['lendingPoolDataProvider']['SCORE'])\\\n",
    "    .method(\"getAllReserveData\")\\\n",
    "    .build()\n",
    "response = icon_service.call(_call)\n",
    "for key,values in response.items():\n",
    "    for k,v in values.items():\n",
    "        if v==\"0x1\" or v ==\"0x0\" or \"Address\" in k:\n",
    "            continue\n",
    "        if k!=\"lastUpdateTimestamp\":\n",
    "            response[key][k]=int(v,0)/10**18\n",
    "        else:\n",
    "            response[key][k]=int(v,0)\n",
    "pprint(response)"
   ]
  },
  {
   "cell_type": "markdown",
   "metadata": {},
   "source": [
    "### Getting user account data"
   ]
  },
  {
   "cell_type": "code",
   "execution_count": null,
   "metadata": {},
   "outputs": [],
   "source": [
    "deployer_wallet=wallet_selector()\n",
    "params = {'_user': deployer_wallet.get_address()}\n",
    "_call = CallBuilder()\\\n",
    "    .from_(deployer_wallet.get_address())\\\n",
    "    .to(contracts['lendingPoolDataProvider']['SCORE'])\\\n",
    "    .method(\"getUserAccountData\")\\\n",
    "    .params(params)\\\n",
    "    .build()\n",
    "response = icon_service.call(_call)\n",
    "for key,values in response.items():\n",
    "    if key!=\"lastUpdateTimestamp\":\n",
    "        response[key]=int(values,0)/10**18\n",
    "    else:\n",
    "        response[key]=int(v,0)"
   ]
  },
  {
   "cell_type": "markdown",
   "metadata": {},
   "source": [
    "### Returns the user data of all the reserves combined"
   ]
  },
  {
   "cell_type": "code",
   "execution_count": null,
   "metadata": {},
   "outputs": [],
   "source": [
    "deployer_wallet=wallet_selector()\n",
    "params = {'_user': deployer_wallet.get_address()}\n",
    "_call = CallBuilder()\\\n",
    "    .from_(deployer_wallet.get_address())\\\n",
    "    .to(contracts['lendingPoolDataProvider']['SCORE'])\\\n",
    "    .method(\"getUserAllReserveData\")\\\n",
    "    .params(params)\\\n",
    "    .build()\n",
    "response = icon_service.call(_call)\n",
    "for key,values in response.items():\n",
    "    for k,v in values.items():\n",
    "        if k!=\"lastUpdateTimestamp\":\n",
    "            response[key][k]=int(v,0)/10**18\n",
    "        else:\n",
    "            response[key][k]=int(v,0)\n",
    "pprint(response)"
   ]
  },
  {
   "cell_type": "markdown",
   "metadata": {},
   "source": [
    "### Getting user reserve data for USDb reserve"
   ]
  },
  {
   "cell_type": "code",
   "execution_count": 15,
   "metadata": {
    "tags": []
   },
   "outputs": [
    {
     "name": "stdout",
     "output_type": "stream",
     "text": [
      "{'borrowRate': 0.0,\n",
      " 'currentBorrowBalance': 0.0,\n",
      " 'currentBorrowBalanceUSD': 0.0,\n",
      " 'currentOTokenBalance': 0.0,\n",
      " 'currentOTokenBalanceUSD': 0.0,\n",
      " 'lastUpdateTimestamp': 0,\n",
      " 'liquidityRate': 0.0,\n",
      " 'originationFee': 0.0,\n",
      " 'principalBorrowBalance': 0.0,\n",
      " 'principalBorrowBalanceUSD': 0.0,\n",
      " 'useAsCollateral': 0.0,\n",
      " 'userBorrowCumulativeIndex': 0.0}\n"
     ]
    }
   ],
   "source": [
    "deployer_wallet=wallet_selector()\n",
    "params = {'_user': deployer_wallet.get_address() ,\"_reserve\":contracts['sample_token']['SCORE']}\n",
    "_call = CallBuilder()\\\n",
    "    .from_(deployer_wallet.get_address())\\\n",
    "    .to(contracts['lendingPoolDataProvider']['SCORE'])\\\n",
    "    .method(\"getUserReserveData\")\\\n",
    "    .params(params)\\\n",
    "    .build()\n",
    "response = icon_service.call(_call)\n",
    "for key,values in response.items():\n",
    "    if key!=\"lastUpdateTimestamp\":\n",
    "        response[key]=int(values,0)/10**18\n",
    "    else:\n",
    "        response[key]=int(values,0)\n",
    "pprint(response)"
   ]
  },
  {
   "cell_type": "markdown",
   "metadata": {},
   "source": [
    "### Getting user reserve data for sICX reserve"
   ]
  },
  {
   "cell_type": "code",
   "execution_count": 16,
   "metadata": {},
   "outputs": [
    {
     "name": "stdout",
     "output_type": "stream",
     "text": [
      "{'borrowRate': 0.0,\n",
      " 'currentBorrowBalance': 0.0,\n",
      " 'currentBorrowBalanceUSD': 0.0,\n",
      " 'currentOTokenBalance': 0.0,\n",
      " 'currentOTokenBalanceUSD': 0.0,\n",
      " 'lastUpdateTimestamp': 0,\n",
      " 'liquidityRate': 0.0,\n",
      " 'originationFee': 0.0,\n",
      " 'principalBorrowBalance': 0.0,\n",
      " 'principalBorrowBalanceUSD': 0.0,\n",
      " 'useAsCollateral': 0.0,\n",
      " 'userBorrowCumulativeIndex': 0.0}\n"
     ]
    }
   ],
   "source": [
    "deployer_wallet=wallet_selector()\n",
    "params = {'_user': deployer_wallet.get_address() ,\"_reserve\":contracts['sample_token']['SCORE']}\n",
    "_call = CallBuilder()\\\n",
    "    .from_(deployer_wallet.get_address())\\\n",
    "    .to(contracts['lendingPoolDataProvider']['SCORE'])\\\n",
    "    .method(\"getUserReserveData\")\\\n",
    "    .params(params)\\\n",
    "    .build()\n",
    "response = icon_service.call(_call)\n",
    "for key,values in response.items():\n",
    "    if key!=\"lastUpdateTimestamp\":\n",
    "        response[key]=int(values,0)/10**18\n",
    "    else:\n",
    "        response[key]=int(values,0)\n",
    "pprint(response)"
   ]
  },
  {
   "cell_type": "markdown",
   "metadata": {},
   "source": [
    "### Getting the data of user for all reserves"
   ]
  },
  {
   "cell_type": "code",
   "execution_count": 62,
   "metadata": {
    "tags": []
   },
   "outputs": [
    {
     "name": "stdout",
     "output_type": "stream",
     "text": [
      "Enter the wallet from which you want to run the transaction4\n",
      "{'USDb': {'borrowRate': 0.010805048733359064,\n",
      "          'currentBorrowBalance': 54.7500433812586,\n",
      "          'currentBorrowBalanceUSD': 54.7500433812586,\n",
      "          'currentOTokenBalance': 0.0,\n",
      "          'currentOTokenBalanceUSD': 0.0,\n",
      "          'lastUpdateTimestamp': 1607612431329189,\n",
      "          'liquidityRate': 0.000117430975755095,\n",
      "          'originationFee': 0.0,\n",
      "          'principalBorrowBalance': 54.75000021732289,\n",
      "          'principalBorrowBalanceUSD': 54.75000021732289,\n",
      "          'useAsCollateral': 0.0,\n",
      "          'userBorrowCumulativeIndex': 1.0003567748171815},\n",
      " 'sICX': {'borrowRate': 0.003267840664224172,\n",
      "          'currentBorrowBalance': 0.0,\n",
      "          'currentBorrowBalanceUSD': 0.0,\n",
      "          'currentOTokenBalance': 243.24314869173278,\n",
      "          'currentOTokenBalanceUSD': 89.99996501594113,\n",
      "          'lastUpdateTimestamp': 0,\n",
      "          'liquidityRate': 8.2379180109269e-05,\n",
      "          'originationFee': 0.0,\n",
      "          'principalBorrowBalance': 0.0,\n",
      "          'principalBorrowBalanceUSD': 0.0,\n",
      "          'useAsCollateral': 1e-18,\n",
      "          'userBorrowCumulativeIndex': 0.0}}\n"
     ]
    }
   ],
   "source": [
    "deployer_wallet=wallet_selector()\n",
    "params = {'_user': deployer_wallet.get_address()}\n",
    "_call = CallBuilder()\\\n",
    "    .from_(deployer_wallet.get_address())\\\n",
    "    .to(contracts['lendingPoolDataProvider']['SCORE'])\\\n",
    "    .method(\"getUserAllReserveData\")\\\n",
    "    .params(params)\\\n",
    "    .build()\n",
    "response = icon_service.call(_call)\n",
    "for key,values in response.items():\n",
    "    for k,v in values.items():\n",
    "        if k!=\"lastUpdateTimestamp\":\n",
    "            response[key][k]=int(v,0)/10**18\n",
    "        else:\n",
    "            response[key][k]=int(v,0)\n",
    "pprint(response)"
   ]
  },
  {
   "cell_type": "markdown",
   "metadata": {},
   "source": [
    "## Get reserve configurations\n"
   ]
  },
  {
   "cell_type": "markdown",
   "metadata": {},
   "source": [
    "### Getting configuration of USDb reserve"
   ]
  },
  {
   "cell_type": "code",
   "execution_count": 20,
   "metadata": {
    "tags": []
   },
   "outputs": [
    {
     "name": "stdout",
     "output_type": "stream",
     "text": [
      "{'baseLTVasCollateral': 600000000000000000,\n",
      " 'borrowingEnabled': 1,\n",
      " 'decimals': 18,\n",
      " 'isActive': 1,\n",
      " 'liquidationBonus': 10,\n",
      " 'liquidationThreshold': 650000000000000000,\n",
      " 'usageAsCollateralEnabled': 1}\n"
     ]
    }
   ],
   "source": [
    "params = {\"_reserve\":contracts['sample_token']['SCORE']}\n",
    "_call = CallBuilder()\\\n",
    "    .from_(deployer_wallet.get_address())\\\n",
    "    .to(contracts['lendingPoolDataProvider']['SCORE'])\\\n",
    "    .method(\"getReserveConfigurationData\")\\\n",
    "    .params(params)\\\n",
    "    .build()\n",
    "response = icon_service.call(_call)\n",
    "for key,values in response.items():\n",
    "    response[key]=int(values,0)\n",
    "pprint(response)\n"
   ]
  },
  {
   "cell_type": "markdown",
   "metadata": {},
   "source": [
    "### Getting configuration of sICX reserve"
   ]
  },
  {
   "cell_type": "code",
   "execution_count": 17,
   "metadata": {},
   "outputs": [
    {
     "name": "stdout",
     "output_type": "stream",
     "text": [
      "{'baseLTVasCollateral': 330000000000000000,\n",
      " 'borrowingEnabled': 1,\n",
      " 'decimals': 18,\n",
      " 'isActive': 1,\n",
      " 'liquidationBonus': 10,\n",
      " 'liquidationThreshold': 650000000000000000,\n",
      " 'usageAsCollateralEnabled': 1}\n"
     ]
    }
   ],
   "source": [
    "params = {\"_reserve\":contracts['sicx']['SCORE']}\n",
    "_call = CallBuilder()\\\n",
    "    .from_(deployer_wallet.get_address())\\\n",
    "    .to(contracts['lendingPoolDataProvider']['SCORE'])\\\n",
    "    .method(\"getReserveConfigurationData\")\\\n",
    "    .params(params)\\\n",
    "    .build()\n",
    "response = icon_service.call(_call)\n",
    "for key,values in response.items():\n",
    "    response[key]=int(values,0)\n",
    "pprint(response)"
   ]
  },
  {
   "cell_type": "markdown",
   "metadata": {},
   "source": [
    "### Get all reserves configurations"
   ]
  },
  {
   "cell_type": "code",
   "execution_count": 18,
   "metadata": {
    "tags": []
   },
   "outputs": [
    {
     "name": "stdout",
     "output_type": "stream",
     "text": [
      "{'USDb': {'baseLTVasCollateral': 600000000000000000,\n",
      "          'borrowingEnabled': 1,\n",
      "          'decimals': 18,\n",
      "          'isActive': 1,\n",
      "          'liquidationBonus': 10,\n",
      "          'liquidationThreshold': 650000000000000000,\n",
      "          'usageAsCollateralEnabled': 1},\n",
      " 'sICX': {'baseLTVasCollateral': 330000000000000000,\n",
      "          'borrowingEnabled': 1,\n",
      "          'decimals': 18,\n",
      "          'isActive': 1,\n",
      "          'liquidationBonus': 10,\n",
      "          'liquidationThreshold': 650000000000000000,\n",
      "          'usageAsCollateralEnabled': 1}}\n"
     ]
    }
   ],
   "source": [
    "_call = CallBuilder()\\\n",
    "    .from_(deployer_wallet.get_address())\\\n",
    "    .to(contracts['lendingPoolDataProvider']['SCORE'])\\\n",
    "    .method(\"getAllReserveConfigurationData\")\\\n",
    "    .build()\n",
    "response = icon_service.call(_call)\n",
    "for key,values in response.items():\n",
    "    for k,v in values.items():\n",
    "        response[key][k]=int(v,0)\n",
    "pprint(response)\n"
   ]
  },
  {
   "cell_type": "markdown",
   "metadata": {},
   "source": [
    "### Printing ICX balance from respective wallets"
   ]
  },
  {
   "cell_type": "code",
   "execution_count": 7,
   "metadata": {
    "tags": []
   },
   "outputs": [
    {
     "name": "stdout",
     "output_type": "stream",
     "text": [
      "ICX balance of deployer_wallet3 999999998408600000000000\n",
      "ICX balance of deployer_wallet1 78702702844323400000000000\n",
      "ICX balance of deployer_wallet2 999999998402400000000000\n"
     ]
    }
   ],
   "source": [
    "print('ICX balance of deployer_wallet3',icon_service.get_balance(deployer_wallet3.get_address()))\n",
    "print('ICX balance of deployer_wallet1', icon_service.get_balance(deployer_wallet1.get_address()))\n",
    "print('ICX balance of deployer_wallet2',icon_service.get_balance(deployer_wallet2.get_address()))  "
   ]
  },
  {
   "cell_type": "markdown",
   "metadata": {},
   "source": [
    "## Realtime USDb balance of user(with accrued interest)"
   ]
  },
  {
   "cell_type": "code",
   "execution_count": 10,
   "metadata": {
    "tags": []
   },
   "outputs": [
    {
     "name": "stdout",
     "output_type": "stream",
     "text": [
      "0\n"
     ]
    }
   ],
   "source": [
    "deployer_wallet=wallet_selector()\n",
    "params = {'_owner': deployer_wallet.get_address() }\n",
    "_call = CallBuilder()\\\n",
    "    .from_(deployer_wallet.get_address())\\\n",
    "    .to(contracts['oToken']['SCORE'])\\\n",
    "    .method(\"balanceOf\")\\\n",
    "    .params(params)\\\n",
    "    .build()\n",
    "response = icon_service.call(_call)\n",
    "\n",
    "print(int(response,0))"
   ]
  },
  {
   "cell_type": "markdown",
   "metadata": {},
   "source": [
    "## Realtime ICX balance of user(with accured interest)"
   ]
  },
  {
   "cell_type": "code",
   "execution_count": 21,
   "metadata": {},
   "outputs": [
    {
     "name": "stdout",
     "output_type": "stream",
     "text": [
      "0\n"
     ]
    }
   ],
   "source": [
    "deployer_wallet=wallet_selector()\n",
    "params = {'_owner': deployer_wallet.get_address() }\n",
    "_call = CallBuilder()\\\n",
    "    .from_(deployer_wallet.get_address())\\\n",
    "    .to(contracts['oICX']['SCORE'])\\\n",
    "    .method(\"balanceOf\")\\\n",
    "    .params(params)\\\n",
    "    .build()\n",
    "response = icon_service.call(_call)\n",
    "\n",
    "print(int(response,0))\n"
   ]
  },
  {
   "cell_type": "markdown",
   "metadata": {},
   "source": [
    "### Printing USDb balance from respective wallets"
   ]
  },
  {
   "cell_type": "code",
   "execution_count": 11,
   "metadata": {
    "tags": []
   },
   "outputs": [
    {
     "name": "stdout",
     "output_type": "stream",
     "text": [
      "USDb balance of  hx91bf040426f226b3bfcd2f0b5967bbb0320525ce is 250000000000000000000000000\n",
      "USDb balance of  hx8c8ccc79c99375de5995ca6057cda7c334d9dd35 is 125000000000000000000000000\n",
      "USDb balance of  hx49c8a4c31e84b9abe7f8c8395eb7133b2151aeae is 125000000000000000000000000\n"
     ]
    }
   ],
   "source": [
    " wallets = [deployer_wallet1, deployer_wallet2, deployer_wallet3]\n",
    " for wallet in wallets:\n",
    "    params = {'_owner': wallet.get_address()}\n",
    "    _call = CallBuilder() \\\n",
    "        .from_(wallet.get_address()) \\\n",
    "        .to(contracts['sample_token']['SCORE']) \\\n",
    "        .method(\"balanceOf\") \\\n",
    "        .params(params) \\\n",
    "        .build()\n",
    "    response = icon_service.call(_call)\n",
    "    print('USDb balance of ', wallet.get_address(), 'is' ,int(response,16))   "
   ]
  },
  {
   "cell_type": "markdown",
   "metadata": {},
   "source": [
    "### Printing sICX balance from respective wallets"
   ]
  },
  {
   "cell_type": "code",
   "execution_count": 12,
   "metadata": {
    "tags": []
   },
   "outputs": [
    {
     "name": "stdout",
     "output_type": "stream",
     "text": [
      "sICX balance of  hx91bf040426f226b3bfcd2f0b5967bbb0320525ce is 500000000000000000000000000\n",
      "sICX balance of  hx8c8ccc79c99375de5995ca6057cda7c334d9dd35 is 0\n",
      "sICX balance of  hx49c8a4c31e84b9abe7f8c8395eb7133b2151aeae is 0\n"
     ]
    }
   ],
   "source": [
    " wallets = [deployer_wallet1, deployer_wallet2, deployer_wallet3]\n",
    " for wallet in wallets:\n",
    "    params = {'_owner': wallet.get_address()}\n",
    "    _call = CallBuilder() \\\n",
    "        .from_(wallet.get_address()) \\\n",
    "        .to(contracts['sicx']['SCORE']) \\\n",
    "        .method(\"balanceOf\") \\\n",
    "        .params(params) \\\n",
    "        .build()\n",
    "    response = icon_service.call(_call)\n",
    "    print('sICX balance of ', wallet.get_address(), 'is' ,int(response,16))   "
   ]
  },
  {
   "cell_type": "code",
   "execution_count": null,
   "metadata": {},
   "outputs": [],
   "source": []
  }
 ],
 "metadata": {
  "celltoolbar": "Slideshow",
  "kernelspec": {
   "display_name": "Python 3",
   "language": "python",
   "name": "python3"
  },
  "language_info": {
   "codemirror_mode": {
    "name": "ipython",
    "version": 3
   },
   "file_extension": ".py",
   "mimetype": "text/x-python",
   "name": "python",
   "nbconvert_exporter": "python",
   "pygments_lexer": "ipython3",
   "version": "3.8.2"
  },
  "rise": {
   "scroll": true
  }
 },
 "nbformat": 4,
 "nbformat_minor": 2
}
