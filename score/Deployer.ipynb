{
 "cells": [
  {
   "cell_type": "markdown",
   "metadata": {
    "slideshow": {
     "slide_type": "slide"
    }
   },
   "source": [
    "# Jupyter Notebook to clean install all the contracts"
   ]
  },
  {
   "cell_type": "markdown",
   "metadata": {
    "slideshow": {
     "slide_type": "slide"
    }
   },
   "source": [
    "\n",
    "### Necessary packages "
   ]
  },
  {
   "cell_type": "code",
   "execution_count": 1,
   "metadata": {},
   "outputs": [
    {
     "data": {
      "text/html": [
       "<style>.container { width:100% !important; }</style>"
      ],
      "text/plain": [
       "<IPython.core.display.HTML object>"
      ]
     },
     "metadata": {},
     "output_type": "display_data"
    }
   ],
   "source": [
    "from IPython.core.display import display, HTML\n",
    "display(HTML(\"<style>.container { width:100% !important; }</style>\"))\n"
   ]
  },
  {
   "cell_type": "markdown",
   "metadata": {},
   "source": [
    "# Set Up Environment"
   ]
  },
  {
   "cell_type": "code",
   "execution_count": 1,
   "metadata": {},
   "outputs": [],
   "source": [
    "network = \"yeouido\"  # set this to one of mainnet, yeouido, euljiro, pagoda, or custom\n",
    "\n",
    "connections = {\n",
    "\"mainnet\": {\"iconservice\": \"https://ctz.solidwallet.io\",       \"nid\": 1},\n",
    "\"yeouido\": {\"iconservice\": \"https://bicon.net.solidwallet.io\", \"nid\": 3},\n",
    "\"euljiro\": {\"iconservice\": \"https://test-ctz.solidwallet.io\",  \"nid\": 2},\n",
    "\"pagoda\":  {\"iconservice\": \"https://zicon.net.solidwallet.io\", \"nid\":80},\n",
    "\"custom\":  {\"iconservice\": \"http://18.237.205.52:9000/\",       \"nid\": 3},\n",
    "\"local\":   {\"iconservice\": \"http://localhost:9000/\",           \"nid\": 3}\n",
    "}\n",
    "\n",
    "env = connections[network]"
   ]
  },
  {
   "cell_type": "code",
   "execution_count": 2,
   "metadata": {
    "slideshow": {
     "slide_type": "-"
    }
   },
   "outputs": [],
   "source": [
    "from iconsdk.exception import JSONRPCException\n",
    "from iconsdk.libs.in_memory_zip import gen_deploy_data_content\n",
    "from iconsdk.icon_service import IconService\n",
    "from iconsdk.providers.http_provider import HTTPProvider\n",
    "from iconsdk.builder.transaction_builder import CallTransactionBuilder, TransactionBuilder, DeployTransactionBuilder\n",
    "from iconsdk.builder.call_builder import CallBuilder\n",
    "from iconsdk.signed_transaction import SignedTransaction\n",
    "from iconsdk.wallet.wallet import KeyWallet\n",
    "from iconsdk.utils.convert_type import convert_hex_str_to_int\n",
    "from datetime import datetime\n",
    "from repeater import retry\n",
    "from shutil import make_archive\n",
    "import requests\n",
    "import json\n",
    "import pickle as pkl\n",
    "import csv\n",
    "import os\n",
    "from pprint import pprint\n",
    "from getpass import getpass\n",
    "\n",
    "\n",
    "ICX = 1000000000000000000 # 10**18\n",
    "GOVERNANCE_ADDRESS = \"cx0000000000000000000000000000000000000000\"\n",
    "\n",
    "\n",
    "\n",
    "\n",
    "@retry(JSONRPCException, tries=10, delay=1, back_off=2)\n",
    "def get_tx_result(_tx_hash):\n",
    "    tx_result = icon_service.get_transaction_result(_tx_hash)\n",
    "    return tx_result\n",
    "\n",
    "\n"
   ]
  },
  {
   "cell_type": "markdown",
   "metadata": {
    "slideshow": {
     "slide_type": "-"
    }
   },
   "source": [
    "### Required service"
   ]
  },
  {
   "cell_type": "code",
   "execution_count": 3,
   "metadata": {},
   "outputs": [],
   "source": [
    "icon_service = IconService(HTTPProvider(env[\"iconservice\"], 3))\n",
    "NID = env[\"nid\"]"
   ]
  },
  {
   "cell_type": "markdown",
   "metadata": {
    "slideshow": {
     "slide_type": "-"
    }
   },
   "source": [
    "# Importing wallet"
   ]
  },
  {
   "cell_type": "markdown",
   "metadata": {},
   "source": [
    "### Importing from private key"
   ]
  },
  {
   "cell_type": "code",
   "execution_count": 4,
   "metadata": {
    "scrolled": true
   },
   "outputs": [
    {
     "data": {
      "text/plain": [
       "'hx91bf040426f226b3bfcd2f0b5967bbb0320525ce'"
      ]
     },
     "execution_count": 4,
     "metadata": {},
     "output_type": "execute_result"
    }
   ],
   "source": [
    "\n",
    "private=\"a691ef7d5601f9b5be4f9b9d80215159ea6ff0b88003e3d34e078d40e778b39a\"\n",
    "deployer_wallet = KeyWallet.load(bytes.fromhex(private))\n",
    "deployer_wallet.get_address()\n"
   ]
  },
  {
   "cell_type": "code",
   "execution_count": 7,
   "metadata": {},
   "outputs": [
    {
     "data": {
      "text/plain": [
       "17953614879150298909795"
      ]
     },
     "execution_count": 7,
     "metadata": {},
     "output_type": "execute_result"
    }
   ],
   "source": [
    "icon_service.get_balance(\"hx91bf040426f226b3bfcd2f0b5967bbb0320525ce\")"
   ]
  },
  {
   "cell_type": "markdown",
   "metadata": {},
   "source": [
    "## Use this to import default tbears wallet and run the transactions\n"
   ]
  },
  {
   "cell_type": "code",
   "execution_count": null,
   "metadata": {
    "tags": []
   },
   "outputs": [],
   "source": [
    "password = \"test1_Account\"\n",
    "deployer_wallet = KeyWallet.load(\"./keystores/keystore_test1.json\",password)\n",
    "print(deployer_wallet.get_address())\n",
    "icon_service.get_balance(deployer_wallet.get_address())"
   ]
  },
  {
   "cell_type": "code",
   "execution_count": 5,
   "metadata": {},
   "outputs": [],
   "source": [
    "contracts_file_custom = \"yeouido robi_contracts_20210315153938.pkl\""
   ]
  },
  {
   "cell_type": "code",
   "execution_count": 6,
   "metadata": {},
   "outputs": [],
   "source": [
    "with open(contracts_file_custom, 'rb') as f:\n",
    "    contracts = pkl.load(f)"
   ]
  },
  {
   "cell_type": "markdown",
   "metadata": {},
   "source": [
    "# Deploying all contracts\n"
   ]
  },
  {
   "cell_type": "code",
   "execution_count": 13,
   "metadata": {
    "tags": [
     "outputPrepend"
    ]
   },
   "outputs": [
    {
     "name": "stderr",
     "output_type": "stream",
     "text": [
      "Raised JSONRPCException while returning the custom response. Error message: {'code': -32602, 'message': 'Pending transaction'}\n"
     ]
    },
    {
     "name": "stdout",
     "output_type": "stream",
     "text": [
      "{'code': -32602, 'message': 'Pending transaction'} (Json rpc error), Retrying in 1 seconds...\n"
     ]
    },
    {
     "name": "stderr",
     "output_type": "stream",
     "text": [
      "Raised JSONRPCException while returning the custom response. Error message: {'code': -32602, 'message': 'Pending transaction'}\n"
     ]
    },
    {
     "name": "stdout",
     "output_type": "stream",
     "text": [
      "{'code': -32602, 'message': 'Pending transaction'} (Json rpc error), Retrying in 2 seconds...\n",
      "{'txHash': '0xca19a232b05600eae9ac12f65312a107b9b6f21960a911d57d642ec312698902', 'blockHeight': 14147802, 'blockHash': '0x629ae578b5b1a307c72e5267d4a91571b2f7bd322ca3b850fe844d7413cba005', 'txIndex': 1, 'to': 'cx0000000000000000000000000000000000000000', 'scoreAddress': 'cx235b492f8393f34cc59abb2b2cb39a7c915d4727', 'stepUsed': 1046165600, 'stepPrice': 10000000000, 'cumulativeStepUsed': 1046165600, 'eventLogs': [], 'logsBloom': b'\\x00\\x00\\x00\\x00\\x00\\x00\\x00\\x00\\x00\\x00\\x00\\x00\\x00\\x00\\x00\\x00\\x00\\x00\\x00\\x00\\x00\\x00\\x00\\x00\\x00\\x00\\x00\\x00\\x00\\x00\\x00\\x00\\x00\\x00\\x00\\x00\\x00\\x00\\x00\\x00\\x00\\x00\\x00\\x00\\x00\\x00\\x00\\x00\\x00\\x00\\x00\\x00\\x00\\x00\\x00\\x00\\x00\\x00\\x00\\x00\\x00\\x00\\x00\\x00\\x00\\x00\\x00\\x00\\x00\\x00\\x00\\x00\\x00\\x00\\x00\\x00\\x00\\x00\\x00\\x00\\x00\\x00\\x00\\x00\\x00\\x00\\x00\\x00\\x00\\x00\\x00\\x00\\x00\\x00\\x00\\x00\\x00\\x00\\x00\\x00\\x00\\x00\\x00\\x00\\x00\\x00\\x00\\x00\\x00\\x00\\x00\\x00\\x00\\x00\\x00\\x00\\x00\\x00\\x00\\x00\\x00\\x00\\x00\\x00\\x00\\x00\\x00\\x00\\x00\\x00\\x00\\x00\\x00\\x00\\x00\\x00\\x00\\x00\\x00\\x00\\x00\\x00\\x00\\x00\\x00\\x00\\x00\\x00\\x00\\x00\\x00\\x00\\x00\\x00\\x00\\x00\\x00\\x00\\x00\\x00\\x00\\x00\\x00\\x00\\x00\\x00\\x00\\x00\\x00\\x00\\x00\\x00\\x00\\x00\\x00\\x00\\x00\\x00\\x00\\x00\\x00\\x00\\x00\\x00\\x00\\x00\\x00\\x00\\x00\\x00\\x00\\x00\\x00\\x00\\x00\\x00\\x00\\x00\\x00\\x00\\x00\\x00\\x00\\x00\\x00\\x00\\x00\\x00\\x00\\x00\\x00\\x00\\x00\\x00\\x00\\x00\\x00\\x00\\x00\\x00\\x00\\x00\\x00\\x00\\x00\\x00\\x00\\x00\\x00\\x00\\x00\\x00\\x00\\x00\\x00\\x00\\x00\\x00\\x00\\x00\\x00\\x00\\x00\\x00\\x00\\x00\\x00\\x00\\x00\\x00\\x00\\x00\\x00\\x00\\x00\\x00', 'status': 1}\n"
     ]
    }
   ],
   "source": [
    "\n",
    "contracts = {}\n",
    "# deploy = ['addressProvider', 'daoFund','delegation','feeProvider','governance', 'lendingPool', 'lendingPoolCore','lendingPoolDataProvider','liquidationManager','ommToken','oToken', 'priceOracle','rewards', 'sample_token','snapshot','worker_token']\n",
    "deploy = ['rewards','snapshot']\n",
    "# for directory in {\"score\"}:\n",
    "# deploy= ['rewards', 'sample_token','snapshot','worker_token']\n",
    "directory=os.getcwd()\n",
    "for item in deploy:\n",
    "    params = {}\n",
    "    if item == \"sample_token\":\n",
    "       params = {'_name': \"BridgeDollars\",'_symbol':'USDb' ,'_decimals': 18}\n",
    "    elif item == \"omm_token\":\n",
    "        params = {'_initialSupply':0, '_decimals': 18}\n",
    "    elif item == \"worker_token\":\n",
    "        params = {'_initialSupply':100, '_decimals': 18}\n",
    "    elif item == \"sicx\":\n",
    "        params = {'_initialSupply':500000000, '_decimals': 18}\n",
    "    elif item == \"oToken\":\n",
    "        params = {\"_name\":\"BridgeUSDInterestToken\",\"_symbol\":\"oUSDb\"}\n",
    "    deploy_transaction = DeployTransactionBuilder()\\\n",
    "        .from_(deployer_wallet.get_address())\\\n",
    "        .to(GOVERNANCE_ADDRESS)\\\n",
    "        .nid(NID)\\\n",
    "        .nonce(100)\\\n",
    "        .content_type(\"application/zip\")\\\n",
    "        .content(gen_deploy_data_content(item))\\\n",
    "        .params(params)\\\n",
    "        .build()\n",
    "\n",
    "    step_limit = icon_service.estimate_step(deploy_transaction) + 100000\n",
    "    \n",
    "    signed_transaction = SignedTransaction(deploy_transaction, deployer_wallet, step_limit)\n",
    "    tx_hash = icon_service.send_transaction(signed_transaction)\n",
    "\n",
    "    res = get_tx_result(tx_hash)\n",
    "    print(res)\n",
    "    contracts[item] = res.get('scoreAddress', '')\n",
    "\n",
    "    "
   ]
  },
  {
   "cell_type": "code",
   "execution_count": 65,
   "metadata": {},
   "outputs": [],
   "source": [
    "contract = {'governance': 'cx235b492f8393f34cc59abb2b2cb39a7c915d4727',\n",
    "             'rewards': 'cx11126e153cea904501af4997398021019b81e405',\n",
    " 'snapshot': 'cx837b298e3e5aae24b7ebcc093f168414c3babcb3'}"
   ]
  },
  {
   "cell_type": "code",
   "execution_count": 71,
   "metadata": {},
   "outputs": [
    {
     "name": "stdout",
     "output_type": "stream",
     "text": [
      "governance cx235b492f8393f34cc59abb2b2cb39a7c915d4727\n",
      "rewards cx11126e153cea904501af4997398021019b81e405\n",
      "snapshot cx837b298e3e5aae24b7ebcc093f168414c3babcb3\n"
     ]
    }
   ],
   "source": [
    "for key in contract:\n",
    "    contracts[key] = contract[key]\n",
    "    print(key,contract[key])"
   ]
  },
  {
   "cell_type": "code",
   "execution_count": 7,
   "metadata": {
    "scrolled": true,
    "tags": []
   },
   "outputs": [
    {
     "name": "stdout",
     "output_type": "stream",
     "text": [
      "{'addressProvider': 'cx797bc63e7b27758816910cb35f0fa1f546b57c33',\n",
      " 'daoFund': 'cxb2e669fbb8b94f2a4525345f22e466933b8d2075',\n",
      " 'delegation': 'cx24e32367425660a67c91d6e3c1077914df4e0286',\n",
      " 'feeProvider': 'cxd55f27870c9b219272ea4fc31d5d7ec8dc78a97e',\n",
      " 'governance': 'cx235b492f8393f34cc59abb2b2cb39a7c915d4727',\n",
      " 'iusdc': 'cx65f639254090820361da483df233f6d0e69af9b7',\n",
      " 'lendingPool': 'cx0be0870a036ef7a08997bd12e1cd0bfed2dd5d85',\n",
      " 'lendingPoolCore': 'cx2d844c9613b5f864f5dace7fed82997c4c62ef01',\n",
      " 'lendingPoolDataProvider': 'cx88ae036091243916d87cbc3b11f39e317dcd46ad',\n",
      " 'liquidationManager': 'cx21b6ee09cd144b2a778bdcf69a46ef2cf898ff1c',\n",
      " 'oICX': 'cx9dfe6300788178da4ac43e7eb7114380f5addc69',\n",
      " 'oIUSDC': 'cx5bdb716d9d5531927f9cab4dfd26937a595ad52c',\n",
      " 'oToken': 'cxf3e8b176a276a1d6bde232638656ed835f5cb058',\n",
      " 'oUSDb': 'cx66788ee4dca134edae9ea9b8cc98c4e8073e644b',\n",
      " 'ommToken': 'cxa96491850d5dd69efa5d64afa9138fd4a66cd348',\n",
      " 'priceOracle': 'cxe76fd817fae3b485ae6e4fea2cf88d050d379b63',\n",
      " 'rewards': 'cx11126e153cea904501af4997398021019b81e405',\n",
      " 'sample_token': 'cxc88e39248bf428d3ab0b9c9fbafef9ff423c3a75',\n",
      " 'sicx': 'cxb7eda227d9ed9c6fc2a74aa5dd7e9a3913f6c281',\n",
      " 'snapshot': 'cx837b298e3e5aae24b7ebcc093f168414c3babcb3',\n",
      " 'staking': 'cxadd9557a07d4aab925dd04b7a6da4ea1d67bef9c',\n",
      " 'usdb': 'cxaa068556df80f9917ef146e889f0b2c4b13ab634',\n",
      " 'worker_token': 'cxd4e8a5dd852439ccdec73a2b4cd973148f09775d'}\n"
     ]
    }
   ],
   "source": [
    "pprint(contracts)"
   ]
  },
  {
   "cell_type": "markdown",
   "metadata": {},
   "source": [
    "## deploying otoken for usdb"
   ]
  },
  {
   "cell_type": "code",
   "execution_count": 12,
   "metadata": {
    "tags": []
   },
   "outputs": [
    {
     "name": "stderr",
     "output_type": "stream",
     "text": [
      "Raised JSONRPCException while returning the custom response. Error message: {'code': -32602, 'message': 'Pending transaction'}\n",
      "{'code': -32602, 'message': 'Pending transaction'} (Json rpc error), Retrying in 1 seconds...\n",
      "{'txHash': '0xb906e8754e315d8fbdc76f9853b6ea94e9cb12a2244e2e1da015328d51dc1cc9', 'blockHeight': 13622341, 'blockHash': '0x9b20336cb73e03c0123e6fc60d565e384fb8280731f15f47fcb7290305a80905', 'txIndex': 1, 'to': 'cx0000000000000000000000000000000000000000', 'scoreAddress': 'cx47549e03024584dca6eeb26b7de8f189bf2b6ff9', 'stepUsed': 1146050240, 'stepPrice': 10000000000, 'cumulativeStepUsed': 1146050240, 'eventLogs': [], 'logsBloom': b'\\x00\\x00\\x00\\x00\\x00\\x00\\x00\\x00\\x00\\x00\\x00\\x00\\x00\\x00\\x00\\x00\\x00\\x00\\x00\\x00\\x00\\x00\\x00\\x00\\x00\\x00\\x00\\x00\\x00\\x00\\x00\\x00\\x00\\x00\\x00\\x00\\x00\\x00\\x00\\x00\\x00\\x00\\x00\\x00\\x00\\x00\\x00\\x00\\x00\\x00\\x00\\x00\\x00\\x00\\x00\\x00\\x00\\x00\\x00\\x00\\x00\\x00\\x00\\x00\\x00\\x00\\x00\\x00\\x00\\x00\\x00\\x00\\x00\\x00\\x00\\x00\\x00\\x00\\x00\\x00\\x00\\x00\\x00\\x00\\x00\\x00\\x00\\x00\\x00\\x00\\x00\\x00\\x00\\x00\\x00\\x00\\x00\\x00\\x00\\x00\\x00\\x00\\x00\\x00\\x00\\x00\\x00\\x00\\x00\\x00\\x00\\x00\\x00\\x00\\x00\\x00\\x00\\x00\\x00\\x00\\x00\\x00\\x00\\x00\\x00\\x00\\x00\\x00\\x00\\x00\\x00\\x00\\x00\\x00\\x00\\x00\\x00\\x00\\x00\\x00\\x00\\x00\\x00\\x00\\x00\\x00\\x00\\x00\\x00\\x00\\x00\\x00\\x00\\x00\\x00\\x00\\x00\\x00\\x00\\x00\\x00\\x00\\x00\\x00\\x00\\x00\\x00\\x00\\x00\\x00\\x00\\x00\\x00\\x00\\x00\\x00\\x00\\x00\\x00\\x00\\x00\\x00\\x00\\x00\\x00\\x00\\x00\\x00\\x00\\x00\\x00\\x00\\x00\\x00\\x00\\x00\\x00\\x00\\x00\\x00\\x00\\x00\\x00\\x00\\x00\\x00\\x00\\x00\\x00\\x00\\x00\\x00\\x00\\x00\\x00\\x00\\x00\\x00\\x00\\x00\\x00\\x00\\x00\\x00\\x00\\x00\\x00\\x00\\x00\\x00\\x00\\x00\\x00\\x00\\x00\\x00\\x00\\x00\\x00\\x00\\x00\\x00\\x00\\x00\\x00\\x00\\x00\\x00\\x00\\x00\\x00\\x00\\x00\\x00\\x00\\x00', 'status': 1}\n"
     ]
    },
    {
     "data": {
      "text/plain": [
       "{'addressProvider': 'cxef67d9fed0a19be8a5b42c5c19ecb7027e30552f',\n",
       " 'daoFund': 'cxf88d1358551774b37fb37e5f1ebd20645060b01c',\n",
       " 'delegation': 'cx0ac8854f9fbe0126e830386046ed26bbb6769bf1',\n",
       " 'feeProvider': 'cx97397bca3097b3d79884fb77158d7abc4cb2f960',\n",
       " 'governance': 'cxcebda5e0deb98c46e6562e487648acffc446eea1',\n",
       " 'lendingPool': 'cx0287ab61ae0bec1af11ccb108257b7d292422d39',\n",
       " 'lendingPoolCore': 'cx4d5ce0111659955ec88bdf31b550eaae1869ceb0',\n",
       " 'lendingPoolDataProvider': 'cx5b611522f541f77dfeab6a8f874e0e87db320a78',\n",
       " 'liquidationManager': 'cxef8e0e57e50c5986e9affc17fb7c490b7bd06924',\n",
       " 'ommToken': 'cx5dc583ebe474fd99db3962e32deff60c76328b61',\n",
       " 'oToken': 'cx502b1186a510a839682b449066adb6a1001c1f86',\n",
       " 'priceOracle': 'cx4e592739a3cd1bbd9f826b41518038fa2e6a35cb',\n",
       " 'rewards': 'cx1c1d88f6039ebb04572d194d52e9b190f37514d6',\n",
       " 'sample_token': 'cx1944afdf75860b703b48c0960b19b212a8c3ae41',\n",
       " 'snapshot': 'cx835f7c1c4d97a6f2f2904da573cc8c3dd8ae9f9e',\n",
       " 'worker_token': 'cx7641d36dc582ae29f1f9d9c97b825a1c75a50f20',\n",
       " 'oUSDb': 'cx47549e03024584dca6eeb26b7de8f189bf2b6ff9'}"
      ]
     },
     "execution_count": 12,
     "metadata": {},
     "output_type": "execute_result"
    }
   ],
   "source": [
    "#deploy oUSDb\n",
    "params = {\"_name\":\"OmmUSDbInterestToken\",\"_symbol\":\"oUSDb\"}\n",
    "deploy_transaction = DeployTransactionBuilder()\\\n",
    "        .from_(deployer_wallet.get_address())\\\n",
    "        .to(GOVERNANCE_ADDRESS)\\\n",
    "        .nid(NID)\\\n",
    "        .nonce(100)\\\n",
    "        .content_type(\"application/zip\")\\\n",
    "        .content(gen_deploy_data_content('oToken'))\\\n",
    "        .params(params)\\\n",
    "        .build()\n",
    "\n",
    "step_limit = icon_service.estimate_step(deploy_transaction) + 100000\n",
    "\n",
    "signed_transaction = SignedTransaction(deploy_transaction, deployer_wallet, step_limit)\n",
    "tx_hash = icon_service.send_transaction(signed_transaction)\n",
    "\n",
    "res = get_tx_result(tx_hash)\n",
    "print(res)\n",
    "contracts['oUSDb'] = res.get('scoreAddress', '')\n",
    "\n",
    "\n",
    "contracts"
   ]
  },
  {
   "cell_type": "markdown",
   "metadata": {},
   "source": [
    "## Deploying otoken for icx"
   ]
  },
  {
   "cell_type": "code",
   "execution_count": 13,
   "metadata": {
    "tags": []
   },
   "outputs": [
    {
     "name": "stderr",
     "output_type": "stream",
     "text": [
      "Raised JSONRPCException while returning the custom response. Error message: {'code': -32602, 'message': 'Pending transaction'}\n",
      "{'code': -32602, 'message': 'Pending transaction'} (Json rpc error), Retrying in 1 seconds...\n",
      "Raised JSONRPCException while returning the custom response. Error message: {'code': -32602, 'message': 'Pending transaction'}\n",
      "{'code': -32602, 'message': 'Pending transaction'} (Json rpc error), Retrying in 2 seconds...\n",
      "{'txHash': '0xfb93812c8e264299396433fd048e50354df97d77f4ad7aad6ff90edcf196ec02', 'blockHeight': 13622347, 'blockHash': '0x5a60aa388891c57a43780fbdd503807936bb71d3e0cca698b1f8eb64642afb59', 'txIndex': 1, 'to': 'cx0000000000000000000000000000000000000000', 'scoreAddress': 'cx04e21bb3d2e09b0e753af2dff0eeddb011a4be75', 'stepUsed': 1146047640, 'stepPrice': 10000000000, 'cumulativeStepUsed': 1146047640, 'eventLogs': [], 'logsBloom': b'\\x00\\x00\\x00\\x00\\x00\\x00\\x00\\x00\\x00\\x00\\x00\\x00\\x00\\x00\\x00\\x00\\x00\\x00\\x00\\x00\\x00\\x00\\x00\\x00\\x00\\x00\\x00\\x00\\x00\\x00\\x00\\x00\\x00\\x00\\x00\\x00\\x00\\x00\\x00\\x00\\x00\\x00\\x00\\x00\\x00\\x00\\x00\\x00\\x00\\x00\\x00\\x00\\x00\\x00\\x00\\x00\\x00\\x00\\x00\\x00\\x00\\x00\\x00\\x00\\x00\\x00\\x00\\x00\\x00\\x00\\x00\\x00\\x00\\x00\\x00\\x00\\x00\\x00\\x00\\x00\\x00\\x00\\x00\\x00\\x00\\x00\\x00\\x00\\x00\\x00\\x00\\x00\\x00\\x00\\x00\\x00\\x00\\x00\\x00\\x00\\x00\\x00\\x00\\x00\\x00\\x00\\x00\\x00\\x00\\x00\\x00\\x00\\x00\\x00\\x00\\x00\\x00\\x00\\x00\\x00\\x00\\x00\\x00\\x00\\x00\\x00\\x00\\x00\\x00\\x00\\x00\\x00\\x00\\x00\\x00\\x00\\x00\\x00\\x00\\x00\\x00\\x00\\x00\\x00\\x00\\x00\\x00\\x00\\x00\\x00\\x00\\x00\\x00\\x00\\x00\\x00\\x00\\x00\\x00\\x00\\x00\\x00\\x00\\x00\\x00\\x00\\x00\\x00\\x00\\x00\\x00\\x00\\x00\\x00\\x00\\x00\\x00\\x00\\x00\\x00\\x00\\x00\\x00\\x00\\x00\\x00\\x00\\x00\\x00\\x00\\x00\\x00\\x00\\x00\\x00\\x00\\x00\\x00\\x00\\x00\\x00\\x00\\x00\\x00\\x00\\x00\\x00\\x00\\x00\\x00\\x00\\x00\\x00\\x00\\x00\\x00\\x00\\x00\\x00\\x00\\x00\\x00\\x00\\x00\\x00\\x00\\x00\\x00\\x00\\x00\\x00\\x00\\x00\\x00\\x00\\x00\\x00\\x00\\x00\\x00\\x00\\x00\\x00\\x00\\x00\\x00\\x00\\x00\\x00\\x00\\x00\\x00\\x00\\x00\\x00\\x00', 'status': 1}\n"
     ]
    },
    {
     "data": {
      "text/plain": [
       "{'addressProvider': 'cxef67d9fed0a19be8a5b42c5c19ecb7027e30552f',\n",
       " 'daoFund': 'cxf88d1358551774b37fb37e5f1ebd20645060b01c',\n",
       " 'delegation': 'cx0ac8854f9fbe0126e830386046ed26bbb6769bf1',\n",
       " 'feeProvider': 'cx97397bca3097b3d79884fb77158d7abc4cb2f960',\n",
       " 'governance': 'cxcebda5e0deb98c46e6562e487648acffc446eea1',\n",
       " 'lendingPool': 'cx0287ab61ae0bec1af11ccb108257b7d292422d39',\n",
       " 'lendingPoolCore': 'cx4d5ce0111659955ec88bdf31b550eaae1869ceb0',\n",
       " 'lendingPoolDataProvider': 'cx5b611522f541f77dfeab6a8f874e0e87db320a78',\n",
       " 'liquidationManager': 'cxef8e0e57e50c5986e9affc17fb7c490b7bd06924',\n",
       " 'ommToken': 'cx5dc583ebe474fd99db3962e32deff60c76328b61',\n",
       " 'oToken': 'cx502b1186a510a839682b449066adb6a1001c1f86',\n",
       " 'priceOracle': 'cx4e592739a3cd1bbd9f826b41518038fa2e6a35cb',\n",
       " 'rewards': 'cx1c1d88f6039ebb04572d194d52e9b190f37514d6',\n",
       " 'sample_token': 'cx1944afdf75860b703b48c0960b19b212a8c3ae41',\n",
       " 'snapshot': 'cx835f7c1c4d97a6f2f2904da573cc8c3dd8ae9f9e',\n",
       " 'worker_token': 'cx7641d36dc582ae29f1f9d9c97b825a1c75a50f20',\n",
       " 'oUSDb': 'cx47549e03024584dca6eeb26b7de8f189bf2b6ff9',\n",
       " 'oICX': 'cx04e21bb3d2e09b0e753af2dff0eeddb011a4be75'}"
      ]
     },
     "execution_count": 13,
     "metadata": {},
     "output_type": "execute_result"
    }
   ],
   "source": [
    "#deploy oICX \n",
    "params = {\"_name\":\"ICXinterestToken\",\"_symbol\":\"oICX\"}\n",
    "deploy_transaction = DeployTransactionBuilder()\\\n",
    "        .from_(deployer_wallet.get_address())\\\n",
    "        .to(GOVERNANCE_ADDRESS)\\\n",
    "        .nid(NID)\\\n",
    "        .nonce(100)\\\n",
    "        .content_type(\"application/zip\")\\\n",
    "        .content(gen_deploy_data_content('oToken'))\\\n",
    "        .params(params)\\\n",
    "        .build()\n",
    "\n",
    "step_limit = icon_service.estimate_step(deploy_transaction) + 100000\n",
    "\n",
    "signed_transaction = SignedTransaction(deploy_transaction, deployer_wallet, step_limit)\n",
    "tx_hash = icon_service.send_transaction(signed_transaction)\n",
    "\n",
    "res = get_tx_result(tx_hash)\n",
    "print(res)\n",
    "contracts['oICX'] = res.get('scoreAddress', '')\n",
    "\n",
    "contracts"
   ]
  },
  {
   "cell_type": "markdown",
   "metadata": {},
   "source": [
    "## Deploying otoken for iusdc\n"
   ]
  },
  {
   "cell_type": "code",
   "execution_count": 14,
   "metadata": {
    "tags": []
   },
   "outputs": [
    {
     "name": "stderr",
     "output_type": "stream",
     "text": [
      "Raised JSONRPCException while returning the custom response. Error message: {'code': -32602, 'message': 'Pending transaction'}\n",
      "{'code': -32602, 'message': 'Pending transaction'} (Json rpc error), Retrying in 1 seconds...\n",
      "Raised JSONRPCException while returning the custom response. Error message: {'code': -32602, 'message': 'Pending transaction'}\n",
      "{'code': -32602, 'message': 'Pending transaction'} (Json rpc error), Retrying in 2 seconds...\n",
      "{'txHash': '0xa233bd99563d0f02c8fe180423358ab0cb4f5e4e7a2732df0a0286f21f4a2f39', 'blockHeight': 13622355, 'blockHash': '0x0b3c00a11995f9a7433f3af776f8cec49b3524418fb237b083414e1cd665116c', 'txIndex': 1, 'to': 'cx0000000000000000000000000000000000000000', 'scoreAddress': 'cx42a4734508068d0f8edd7ef0778b515788b3f3b8', 'stepUsed': 1146051760, 'stepPrice': 10000000000, 'cumulativeStepUsed': 1146051760, 'eventLogs': [], 'logsBloom': b'\\x00\\x00\\x00\\x00\\x00\\x00\\x00\\x00\\x00\\x00\\x00\\x00\\x00\\x00\\x00\\x00\\x00\\x00\\x00\\x00\\x00\\x00\\x00\\x00\\x00\\x00\\x00\\x00\\x00\\x00\\x00\\x00\\x00\\x00\\x00\\x00\\x00\\x00\\x00\\x00\\x00\\x00\\x00\\x00\\x00\\x00\\x00\\x00\\x00\\x00\\x00\\x00\\x00\\x00\\x00\\x00\\x00\\x00\\x00\\x00\\x00\\x00\\x00\\x00\\x00\\x00\\x00\\x00\\x00\\x00\\x00\\x00\\x00\\x00\\x00\\x00\\x00\\x00\\x00\\x00\\x00\\x00\\x00\\x00\\x00\\x00\\x00\\x00\\x00\\x00\\x00\\x00\\x00\\x00\\x00\\x00\\x00\\x00\\x00\\x00\\x00\\x00\\x00\\x00\\x00\\x00\\x00\\x00\\x00\\x00\\x00\\x00\\x00\\x00\\x00\\x00\\x00\\x00\\x00\\x00\\x00\\x00\\x00\\x00\\x00\\x00\\x00\\x00\\x00\\x00\\x00\\x00\\x00\\x00\\x00\\x00\\x00\\x00\\x00\\x00\\x00\\x00\\x00\\x00\\x00\\x00\\x00\\x00\\x00\\x00\\x00\\x00\\x00\\x00\\x00\\x00\\x00\\x00\\x00\\x00\\x00\\x00\\x00\\x00\\x00\\x00\\x00\\x00\\x00\\x00\\x00\\x00\\x00\\x00\\x00\\x00\\x00\\x00\\x00\\x00\\x00\\x00\\x00\\x00\\x00\\x00\\x00\\x00\\x00\\x00\\x00\\x00\\x00\\x00\\x00\\x00\\x00\\x00\\x00\\x00\\x00\\x00\\x00\\x00\\x00\\x00\\x00\\x00\\x00\\x00\\x00\\x00\\x00\\x00\\x00\\x00\\x00\\x00\\x00\\x00\\x00\\x00\\x00\\x00\\x00\\x00\\x00\\x00\\x00\\x00\\x00\\x00\\x00\\x00\\x00\\x00\\x00\\x00\\x00\\x00\\x00\\x00\\x00\\x00\\x00\\x00\\x00\\x00\\x00\\x00\\x00\\x00\\x00\\x00\\x00\\x00', 'status': 1}\n"
     ]
    },
    {
     "data": {
      "text/plain": [
       "{'addressProvider': 'cxef67d9fed0a19be8a5b42c5c19ecb7027e30552f',\n",
       " 'daoFund': 'cxf88d1358551774b37fb37e5f1ebd20645060b01c',\n",
       " 'delegation': 'cx0ac8854f9fbe0126e830386046ed26bbb6769bf1',\n",
       " 'feeProvider': 'cx97397bca3097b3d79884fb77158d7abc4cb2f960',\n",
       " 'governance': 'cxcebda5e0deb98c46e6562e487648acffc446eea1',\n",
       " 'lendingPool': 'cx0287ab61ae0bec1af11ccb108257b7d292422d39',\n",
       " 'lendingPoolCore': 'cx4d5ce0111659955ec88bdf31b550eaae1869ceb0',\n",
       " 'lendingPoolDataProvider': 'cx5b611522f541f77dfeab6a8f874e0e87db320a78',\n",
       " 'liquidationManager': 'cxef8e0e57e50c5986e9affc17fb7c490b7bd06924',\n",
       " 'ommToken': 'cx5dc583ebe474fd99db3962e32deff60c76328b61',\n",
       " 'oToken': 'cx502b1186a510a839682b449066adb6a1001c1f86',\n",
       " 'priceOracle': 'cx4e592739a3cd1bbd9f826b41518038fa2e6a35cb',\n",
       " 'rewards': 'cx1c1d88f6039ebb04572d194d52e9b190f37514d6',\n",
       " 'sample_token': 'cx1944afdf75860b703b48c0960b19b212a8c3ae41',\n",
       " 'snapshot': 'cx835f7c1c4d97a6f2f2904da573cc8c3dd8ae9f9e',\n",
       " 'worker_token': 'cx7641d36dc582ae29f1f9d9c97b825a1c75a50f20',\n",
       " 'oUSDb': 'cx47549e03024584dca6eeb26b7de8f189bf2b6ff9',\n",
       " 'oICX': 'cx04e21bb3d2e09b0e753af2dff0eeddb011a4be75',\n",
       " 'oIUSDC': 'cx42a4734508068d0f8edd7ef0778b515788b3f3b8'}"
      ]
     },
     "execution_count": 14,
     "metadata": {},
     "output_type": "execute_result"
    }
   ],
   "source": [
    "#deploy oIUSDC\n",
    "params = {\"_name\":\"IconUSDInterest\",\"_symbol\":\"oIUSDC\",\"_decimals\":6}\n",
    "deploy_transaction = DeployTransactionBuilder()\\\n",
    "        .from_(deployer_wallet.get_address())\\\n",
    "        .to(GOVERNANCE_ADDRESS)\\\n",
    "        .nid(NID)\\\n",
    "        .nonce(100)\\\n",
    "        .content_type(\"application/zip\")\\\n",
    "        .content(gen_deploy_data_content('oToken'))\\\n",
    "        .params(params)\\\n",
    "        .build()\n",
    "\n",
    "step_limit = icon_service.estimate_step(deploy_transaction) + 100000\n",
    "\n",
    "signed_transaction = SignedTransaction(deploy_transaction, deployer_wallet, step_limit)\n",
    "tx_hash = icon_service.send_transaction(signed_transaction)\n",
    "\n",
    "res = get_tx_result(tx_hash)\n",
    "print(res)\n",
    "contracts['oIUSDC'] = res.get('scoreAddress', '')\n",
    "\n",
    "contracts"
   ]
  },
  {
   "cell_type": "markdown",
   "metadata": {},
   "source": [
    "## Other Contract Addresses"
   ]
  },
  {
   "cell_type": "code",
   "execution_count": 15,
   "metadata": {},
   "outputs": [],
   "source": [
    "contracts['sicx']=\"cxb7eda227d9ed9c6fc2a74aa5dd7e9a3913f6c281\"\n",
    "contracts['staking']=\"cxadd9557a07d4aab925dd04b7a6da4ea1d67bef9c\"\n",
    "contracts['iusdc']=\"cx65f639254090820361da483df233f6d0e69af9b7\"\n",
    "contracts['usdb']=\"cxaa068556df80f9917ef146e889f0b2c4b13ab634\"\n"
   ]
  },
  {
   "cell_type": "code",
   "execution_count": 16,
   "metadata": {
    "tags": []
   },
   "outputs": [
    {
     "name": "stdout",
     "output_type": "stream",
     "text": [
      "{'addressProvider': 'cxef67d9fed0a19be8a5b42c5c19ecb7027e30552f',\n",
      " 'daoFund': 'cxf88d1358551774b37fb37e5f1ebd20645060b01c',\n",
      " 'delegation': 'cx0ac8854f9fbe0126e830386046ed26bbb6769bf1',\n",
      " 'feeProvider': 'cx97397bca3097b3d79884fb77158d7abc4cb2f960',\n",
      " 'governance': 'cxcebda5e0deb98c46e6562e487648acffc446eea1',\n",
      " 'iusdc': 'cx65f639254090820361da483df233f6d0e69af9b7',\n",
      " 'lendingPool': 'cx0287ab61ae0bec1af11ccb108257b7d292422d39',\n",
      " 'lendingPoolCore': 'cx4d5ce0111659955ec88bdf31b550eaae1869ceb0',\n",
      " 'lendingPoolDataProvider': 'cx5b611522f541f77dfeab6a8f874e0e87db320a78',\n",
      " 'liquidationManager': 'cxef8e0e57e50c5986e9affc17fb7c490b7bd06924',\n",
      " 'oICX': 'cx04e21bb3d2e09b0e753af2dff0eeddb011a4be75',\n",
      " 'oIUSDC': 'cx42a4734508068d0f8edd7ef0778b515788b3f3b8',\n",
      " 'oToken': 'cx502b1186a510a839682b449066adb6a1001c1f86',\n",
      " 'oUSDb': 'cx47549e03024584dca6eeb26b7de8f189bf2b6ff9',\n",
      " 'ommToken': 'cx5dc583ebe474fd99db3962e32deff60c76328b61',\n",
      " 'priceOracle': 'cx4e592739a3cd1bbd9f826b41518038fa2e6a35cb',\n",
      " 'rewards': 'cx1c1d88f6039ebb04572d194d52e9b190f37514d6',\n",
      " 'sample_token': 'cx1944afdf75860b703b48c0960b19b212a8c3ae41',\n",
      " 'sicx': 'cxb7eda227d9ed9c6fc2a74aa5dd7e9a3913f6c281',\n",
      " 'snapshot': 'cx835f7c1c4d97a6f2f2904da573cc8c3dd8ae9f9e',\n",
      " 'staking': 'cxadd9557a07d4aab925dd04b7a6da4ea1d67bef9c',\n",
      " 'usdb': 'cxaa068556df80f9917ef146e889f0b2c4b13ab634',\n",
      " 'worker_token': 'cx7641d36dc582ae29f1f9d9c97b825a1c75a50f20'}\n"
     ]
    }
   ],
   "source": [
    "pprint(contracts)"
   ]
  },
  {
   "cell_type": "markdown",
   "metadata": {},
   "source": [
    "## Saving the pkl file\n"
   ]
  },
  {
   "cell_type": "code",
   "execution_count": 73,
   "metadata": {
    "tags": []
   },
   "outputs": [
    {
     "name": "stdout",
     "output_type": "stream",
     "text": [
      "saving contracts list as yeouido robi_contracts_20210315153938.pkl\n"
     ]
    }
   ],
   "source": [
    "now = datetime.utcnow()\n",
    "filename =network +f' robi_contracts_{now.year}{str(now.month).zfill(2)}{str(now.day).zfill(2)}{str(now.hour).zfill(2)}{str(now.minute).zfill(2)}{str(now.second).zfill(2)}.pkl'\n",
    "# filename = \"kailash_custom.pkl\"\n",
    "print(f'saving contracts list as {filename}')\n",
    "with open(filename, 'wb') as f:\n",
    "\n",
    "    pkl.dump(contracts, f)"
   ]
  },
  {
   "cell_type": "markdown",
   "metadata": {},
   "source": [
    "## Updating contracts"
   ]
  },
  {
   "cell_type": "code",
   "execution_count": 84,
   "metadata": {
    "tags": []
   },
   "outputs": [
    {
     "name": "stdout",
     "output_type": "stream",
     "text": [
      "update rewards cx11126e153cea904501af4997398021019b81e405\n"
     ]
    },
    {
     "name": "stderr",
     "output_type": "stream",
     "text": [
      "Raised JSONRPCException while returning the custom response. Error message: {'code': -32602, 'message': 'Pending transaction'}\n"
     ]
    },
    {
     "name": "stdout",
     "output_type": "stream",
     "text": [
      "{'code': -32602, 'message': 'Pending transaction'} (Json rpc error), Retrying in 1 seconds...\n"
     ]
    },
    {
     "data": {
      "text/plain": [
       "{'txHash': '0x76829f48ba59d9ce45f5eed282cbd26ba5917dc6edbe7b51ae4158f51e1b5b97',\n",
       " 'blockHeight': 14204115,\n",
       " 'blockHash': '0x630beec362db627971e31db7a66b607a2599e0b97ff9eeec894479e6c6c54664',\n",
       " 'txIndex': 1,\n",
       " 'to': 'cx11126e153cea904501af4997398021019b81e405',\n",
       " 'scoreAddress': 'cx11126e153cea904501af4997398021019b81e405',\n",
       " 'stepUsed': 1749647200,\n",
       " 'stepPrice': 10000000000,\n",
       " 'cumulativeStepUsed': 1749647200,\n",
       " 'eventLogs': [],\n",
       " 'logsBloom': b'\\x00\\x00\\x00\\x00\\x00\\x00\\x00\\x00\\x00\\x00\\x00\\x00\\x00\\x00\\x00\\x00\\x00\\x00\\x00\\x00\\x00\\x00\\x00\\x00\\x00\\x00\\x00\\x00\\x00\\x00\\x00\\x00\\x00\\x00\\x00\\x00\\x00\\x00\\x00\\x00\\x00\\x00\\x00\\x00\\x00\\x00\\x00\\x00\\x00\\x00\\x00\\x00\\x00\\x00\\x00\\x00\\x00\\x00\\x00\\x00\\x00\\x00\\x00\\x00\\x00\\x00\\x00\\x00\\x00\\x00\\x00\\x00\\x00\\x00\\x00\\x00\\x00\\x00\\x00\\x00\\x00\\x00\\x00\\x00\\x00\\x00\\x00\\x00\\x00\\x00\\x00\\x00\\x00\\x00\\x00\\x00\\x00\\x00\\x00\\x00\\x00\\x00\\x00\\x00\\x00\\x00\\x00\\x00\\x00\\x00\\x00\\x00\\x00\\x00\\x00\\x00\\x00\\x00\\x00\\x00\\x00\\x00\\x00\\x00\\x00\\x00\\x00\\x00\\x00\\x00\\x00\\x00\\x00\\x00\\x00\\x00\\x00\\x00\\x00\\x00\\x00\\x00\\x00\\x00\\x00\\x00\\x00\\x00\\x00\\x00\\x00\\x00\\x00\\x00\\x00\\x00\\x00\\x00\\x00\\x00\\x00\\x00\\x00\\x00\\x00\\x00\\x00\\x00\\x00\\x00\\x00\\x00\\x00\\x00\\x00\\x00\\x00\\x00\\x00\\x00\\x00\\x00\\x00\\x00\\x00\\x00\\x00\\x00\\x00\\x00\\x00\\x00\\x00\\x00\\x00\\x00\\x00\\x00\\x00\\x00\\x00\\x00\\x00\\x00\\x00\\x00\\x00\\x00\\x00\\x00\\x00\\x00\\x00\\x00\\x00\\x00\\x00\\x00\\x00\\x00\\x00\\x00\\x00\\x00\\x00\\x00\\x00\\x00\\x00\\x00\\x00\\x00\\x00\\x00\\x00\\x00\\x00\\x00\\x00\\x00\\x00\\x00\\x00\\x00\\x00\\x00\\x00\\x00\\x00\\x00\\x00\\x00\\x00\\x00\\x00\\x00',\n",
       " 'status': 1}"
      ]
     },
     "execution_count": 84,
     "metadata": {},
     "output_type": "execute_result"
    }
   ],
   "source": [
    "contract_ = 'rewards'\n",
    "if contract_ == 'oICX':\n",
    "    update = contracts['oICX']\n",
    "    contract_ = 'oToken' \n",
    "else:\n",
    "    update = contracts[contract_]\n",
    "#update = contracts[contract_]\n",
    "print('update',contract_, update)\n",
    "\n",
    "deploy_transaction = DeployTransactionBuilder()\\\n",
    "    .from_(deployer_wallet.get_address())\\\n",
    "    .to(contracts[contract_])\\\n",
    "    .nid(NID)\\\n",
    "    .nonce(100)\\\n",
    "    .content_type(\"application/zip\")\\\n",
    "    .content(gen_deploy_data_content(contract_))\\\n",
    "    .build()\n",
    "\n",
    "step_limit = icon_service.estimate_step(deploy_transaction) + 100000\n",
    "\n",
    "signed_transaction = SignedTransaction(deploy_transaction, deployer_wallet, step_limit)\n",
    "tx_hash = icon_service.send_transaction(signed_transaction)\n",
    "\n",
    "get_tx_result(tx_hash)"
   ]
  },
  {
   "cell_type": "markdown",
   "metadata": {},
   "source": [
    "# Configuring SCOREs's parameters"
   ]
  },
  {
   "cell_type": "code",
   "execution_count": 18,
   "metadata": {
    "tags": []
   },
   "outputs": [
    {
     "name": "stdout",
     "output_type": "stream",
     "text": [
      "\n",
      "\n",
      "Calling setReward, with parameters {'_address': 'cx11126e153cea904501af4997398021019b81e405'} on the lendingPool contract.\n"
     ]
    },
    {
     "name": "stderr",
     "output_type": "stream",
     "text": [
      "Raised JSONRPCException while returning the custom response. Error message: {'code': -32602, 'message': 'Pending transaction'}\n"
     ]
    },
    {
     "name": "stdout",
     "output_type": "stream",
     "text": [
      "{'code': -32602, 'message': 'Pending transaction'} (Json rpc error), Retrying in 1 seconds...\n"
     ]
    },
    {
     "name": "stderr",
     "output_type": "stream",
     "text": [
      "Raised JSONRPCException while returning the custom response. Error message: {'code': -32602, 'message': 'Pending transaction'}\n"
     ]
    },
    {
     "name": "stdout",
     "output_type": "stream",
     "text": [
      "{'code': -32602, 'message': 'Pending transaction'} (Json rpc error), Retrying in 2 seconds...\n",
      "{'txHash': '0xd373d8f921c4870a06057afab5ad3d9d976830ac63888f911aada9b2b0afd32c', 'blockHeight': 14148002, 'blockHash': '0x03a64824db0bb7ff912d29436cbc9f7c7ec56be9a79d72d04bde1cf92374559c', 'txIndex': 1, 'to': 'cx0be0870a036ef7a08997bd12e1cd0bfed2dd5d85', 'stepUsed': 144480, 'stepPrice': 10000000000, 'cumulativeStepUsed': 144480, 'eventLogs': [], 'logsBloom': b'\\x00\\x00\\x00\\x00\\x00\\x00\\x00\\x00\\x00\\x00\\x00\\x00\\x00\\x00\\x00\\x00\\x00\\x00\\x00\\x00\\x00\\x00\\x00\\x00\\x00\\x00\\x00\\x00\\x00\\x00\\x00\\x00\\x00\\x00\\x00\\x00\\x00\\x00\\x00\\x00\\x00\\x00\\x00\\x00\\x00\\x00\\x00\\x00\\x00\\x00\\x00\\x00\\x00\\x00\\x00\\x00\\x00\\x00\\x00\\x00\\x00\\x00\\x00\\x00\\x00\\x00\\x00\\x00\\x00\\x00\\x00\\x00\\x00\\x00\\x00\\x00\\x00\\x00\\x00\\x00\\x00\\x00\\x00\\x00\\x00\\x00\\x00\\x00\\x00\\x00\\x00\\x00\\x00\\x00\\x00\\x00\\x00\\x00\\x00\\x00\\x00\\x00\\x00\\x00\\x00\\x00\\x00\\x00\\x00\\x00\\x00\\x00\\x00\\x00\\x00\\x00\\x00\\x00\\x00\\x00\\x00\\x00\\x00\\x00\\x00\\x00\\x00\\x00\\x00\\x00\\x00\\x00\\x00\\x00\\x00\\x00\\x00\\x00\\x00\\x00\\x00\\x00\\x00\\x00\\x00\\x00\\x00\\x00\\x00\\x00\\x00\\x00\\x00\\x00\\x00\\x00\\x00\\x00\\x00\\x00\\x00\\x00\\x00\\x00\\x00\\x00\\x00\\x00\\x00\\x00\\x00\\x00\\x00\\x00\\x00\\x00\\x00\\x00\\x00\\x00\\x00\\x00\\x00\\x00\\x00\\x00\\x00\\x00\\x00\\x00\\x00\\x00\\x00\\x00\\x00\\x00\\x00\\x00\\x00\\x00\\x00\\x00\\x00\\x00\\x00\\x00\\x00\\x00\\x00\\x00\\x00\\x00\\x00\\x00\\x00\\x00\\x00\\x00\\x00\\x00\\x00\\x00\\x00\\x00\\x00\\x00\\x00\\x00\\x00\\x00\\x00\\x00\\x00\\x00\\x00\\x00\\x00\\x00\\x00\\x00\\x00\\x00\\x00\\x00\\x00\\x00\\x00\\x00\\x00\\x00\\x00\\x00\\x00\\x00\\x00\\x00', 'status': 1}\n"
     ]
    }
   ],
   "source": [
    "settings_lendingPool = [\n",
    "# {'contract': 'lendingPool', 'method': 'setLendingPoolCore', 'params':{'_address': contracts['lendingPoolCore']}},\n",
    "#                         {'contract': 'lendingPool', 'method': 'setLendingPoolDataProvider', 'params':{'_address': contracts['lendingPoolDataProvider']}},\n",
    "#                         {'contract': 'lendingPool', 'method': 'setFeeProvider', 'params':{'_address': contracts['feeProvider']}},\n",
    "#                         {'contract': 'lendingPool', 'method': 'setLiquidationManager','params': {'_address':contracts['liquidationManager']}},\n",
    "#                         {'contract': 'lendingPool', 'method': 'setStaking', 'params':{'_address': contracts['staking']}},\n",
    "#                         {'contract': 'lendingPool', 'method': 'setOICX', 'params':{'_address': contracts['oICX']}},\n",
    "                        {'contract': 'lendingPool', 'method': 'setReward','params': {'_address':contracts['rewards']}},\n",
    "#                         {'contract': 'lendingPool', 'method': 'setSICX','params': {'_address':contracts['sicx']}},\n",
    "                       ]\n",
    "for sett in settings_lendingPool:\n",
    "    print(f'\\n')\n",
    "    print(f'Calling {sett[\"method\"]}, with parameters {sett[\"params\"]} on the {sett[\"contract\"]} contract.')\n",
    "    transaction = CallTransactionBuilder()\\\n",
    "        .from_(deployer_wallet.get_address())\\\n",
    "        .to(\"cx0be0870a036ef7a08997bd12e1cd0bfed2dd5d85\")\\\n",
    "        .value(0)\\\n",
    "        .step_limit(10000000)\\\n",
    "        .nid(NID)\\\n",
    "        .nonce(100)\\\n",
    "        .method(sett['method'])\\\n",
    "        .params(sett['params'])\\\n",
    "        .build()\n",
    "    signed_transaction = SignedTransaction(transaction, deployer_wallet)\n",
    "    tx_hash = icon_service.send_transaction(signed_transaction)\n",
    "    \n",
    "    print(get_tx_result(tx_hash))"
   ]
  },
  {
   "cell_type": "code",
   "execution_count": 20,
   "metadata": {
    "tags": []
   },
   "outputs": [
    {
     "name": "stdout",
     "output_type": "stream",
     "text": [
      "\n",
      "\n",
      "Calling setSymbol, with parameters {'_reserve': 'cxaa068556df80f9917ef146e889f0b2c4b13ab634', '_sym': 'USDb'} on the lendingPoolDataProvider contract.\n",
      "Raised JSONRPCException while returning the custom response. Error message: {'code': -32602, 'message': 'Pending transaction'}\n",
      "{'code': -32602, 'message': 'Pending transaction'} (Json rpc error), Retrying in 1 seconds...\n",
      "Raised JSONRPCException while returning the custom response. Error message: {'code': -32602, 'message': 'Pending transaction'}\n",
      "{'code': -32602, 'message': 'Pending transaction'} (Json rpc error), Retrying in 2 seconds...\n",
      "1\n",
      "\n",
      "\n",
      "Calling setSymbol, with parameters {'_reserve': 'cxb7eda227d9ed9c6fc2a74aa5dd7e9a3913f6c281', '_sym': 'ICX'} on the lendingPoolDataProvider contract.\n",
      "Raised JSONRPCException while returning the custom response. Error message: {'code': -32602, 'message': 'Pending transaction'}\n",
      "{'code': -32602, 'message': 'Pending transaction'} (Json rpc error), Retrying in 1 seconds...\n",
      "Raised JSONRPCException while returning the custom response. Error message: {'code': -32602, 'message': 'Pending transaction'}\n",
      "{'code': -32602, 'message': 'Pending transaction'} (Json rpc error), Retrying in 2 seconds...\n",
      "1\n",
      "\n",
      "\n",
      "Calling setSymbol, with parameters {'_reserve': 'cx65f639254090820361da483df233f6d0e69af9b7', '_sym': 'USDC'} on the lendingPoolDataProvider contract.\n",
      "Raised JSONRPCException while returning the custom response. Error message: {'code': -32602, 'message': 'Pending transaction'}\n",
      "{'code': -32602, 'message': 'Pending transaction'} (Json rpc error), Retrying in 1 seconds...\n",
      "1\n",
      "\n",
      "\n",
      "Calling setLendingPoolCore, with parameters {'_address': 'cx4d5ce0111659955ec88bdf31b550eaae1869ceb0'} on the lendingPoolDataProvider contract.\n",
      "Raised JSONRPCException while returning the custom response. Error message: {'code': -32602, 'message': 'Pending transaction'}\n",
      "{'code': -32602, 'message': 'Pending transaction'} (Json rpc error), Retrying in 1 seconds...\n",
      "Raised JSONRPCException while returning the custom response. Error message: {'code': -32602, 'message': 'Pending transaction'}\n",
      "{'code': -32602, 'message': 'Pending transaction'} (Json rpc error), Retrying in 2 seconds...\n",
      "1\n",
      "\n",
      "\n",
      "Calling setPriceOracle, with parameters {'_address': 'cx4e592739a3cd1bbd9f826b41518038fa2e6a35cb'} on the lendingPoolDataProvider contract.\n",
      "Raised JSONRPCException while returning the custom response. Error message: {'code': -32602, 'message': 'Pending transaction'}\n",
      "{'code': -32602, 'message': 'Pending transaction'} (Json rpc error), Retrying in 1 seconds...\n",
      "Raised JSONRPCException while returning the custom response. Error message: {'code': -32602, 'message': 'Pending transaction'}\n",
      "{'code': -32602, 'message': 'Pending transaction'} (Json rpc error), Retrying in 2 seconds...\n",
      "1\n",
      "\n",
      "\n",
      "Calling setLendingPool, with parameters {'_address': 'cx0287ab61ae0bec1af11ccb108257b7d292422d39'} on the lendingPoolDataProvider contract.\n",
      "Raised JSONRPCException while returning the custom response. Error message: {'code': -32602, 'message': 'Pending transaction'}\n",
      "{'code': -32602, 'message': 'Pending transaction'} (Json rpc error), Retrying in 1 seconds...\n",
      "Raised JSONRPCException while returning the custom response. Error message: {'code': -32602, 'message': 'Pending transaction'}\n",
      "{'code': -32602, 'message': 'Pending transaction'} (Json rpc error), Retrying in 2 seconds...\n",
      "1\n",
      "\n",
      "\n",
      "Calling setLiquidationManager, with parameters {'_address': 'cxef8e0e57e50c5986e9affc17fb7c490b7bd06924'} on the lendingPoolDataProvider contract.\n",
      "Raised JSONRPCException while returning the custom response. Error message: {'code': -32602, 'message': 'Pending transaction'}\n",
      "{'code': -32602, 'message': 'Pending transaction'} (Json rpc error), Retrying in 1 seconds...\n",
      "Raised JSONRPCException while returning the custom response. Error message: {'code': -32602, 'message': 'Pending transaction'}\n",
      "{'code': -32602, 'message': 'Pending transaction'} (Json rpc error), Retrying in 2 seconds...\n",
      "1\n",
      "\n",
      "\n",
      "Calling setStaking, with parameters {'_address': 'cxadd9557a07d4aab925dd04b7a6da4ea1d67bef9c'} on the lendingPoolDataProvider contract.\n",
      "Raised JSONRPCException while returning the custom response. Error message: {'code': -32602, 'message': 'Pending transaction'}\n",
      "{'code': -32602, 'message': 'Pending transaction'} (Json rpc error), Retrying in 1 seconds...\n",
      "Raised JSONRPCException while returning the custom response. Error message: {'code': -32602, 'message': 'Pending transaction'}\n",
      "{'code': -32602, 'message': 'Pending transaction'} (Json rpc error), Retrying in 2 seconds...\n",
      "1\n"
     ]
    }
   ],
   "source": [
    "settings_lendinPoolDataProvider=[{'contract': 'lendingPoolDataProvider', 'method': 'setSymbol', 'params':{'_reserve': contracts['usdb'],'_sym':\"USDb\"}},\n",
    "                                {'contract': 'lendingPoolDataProvider', 'method': 'setSymbol', 'params':{'_reserve': contracts['sicx'],'_sym':\"ICX\"}},\n",
    "                                {'contract': 'lendingPoolDataProvider', 'method': 'setSymbol', 'params':{'_reserve': contracts['iusdc'],'_sym':\"USDC\"}},\n",
    "                                {'contract': 'lendingPoolDataProvider', 'method': 'setLendingPoolCore', 'params':{'_address': contracts['lendingPoolCore']}},\n",
    "                                {'contract': 'lendingPoolDataProvider', 'method': 'setPriceOracle', 'params':{'_address': contracts['priceOracle']}},\n",
    "                                {'contract': 'lendingPoolDataProvider', 'method': 'setLendingPool', 'params':{'_address': contracts['lendingPool']}},\n",
    "                                {'contract': 'lendingPoolDataProvider', 'method': 'setLiquidationManager', 'params':{'_address': contracts['liquidationManager']}},\n",
    "                                {'contract': 'lendingPoolDataProvider', 'method': 'setStaking', 'params':{'_address': contracts['staking']}}\n",
    "            ]\n",
    "for sett in settings_lendinPoolDataProvider:\n",
    "    print(f'\\n')\n",
    "    print(f'Calling {sett[\"method\"]}, with parameters {sett[\"params\"]} on the {sett[\"contract\"]} contract.')\n",
    "    transaction = CallTransactionBuilder()\\\n",
    "        .from_(deployer_wallet.get_address())\\\n",
    "        .to(contracts[sett['contract']])\\\n",
    "        .value(0)\\\n",
    "        .step_limit(10000000)\\\n",
    "        .nid(NID)\\\n",
    "        .nonce(100)\\\n",
    "        .method(sett['method'])\\\n",
    "        .params(sett['params'])\\\n",
    "        .build()\n",
    "    signed_transaction = SignedTransaction(transaction, deployer_wallet)\n",
    "    tx_hash = icon_service.send_transaction(signed_transaction)\n",
    "    tx_hash\n",
    "    print(get_tx_result(tx_hash)['status'])"
   ]
  },
  {
   "cell_type": "code",
   "execution_count": 21,
   "metadata": {
    "tags": []
   },
   "outputs": [
    {
     "name": "stdout",
     "output_type": "stream",
     "text": [
      "\n",
      "\n",
      "Calling setLoanOriginationFeePercentage, with parameters {'_percentage': 1000000000000000} on the feeProvider contract.\n",
      "Raised JSONRPCException while returning the custom response. Error message: {'code': -32602, 'message': 'Pending transaction'}\n",
      "{'code': -32602, 'message': 'Pending transaction'} (Json rpc error), Retrying in 1 seconds...\n",
      "1\n"
     ]
    }
   ],
   "source": [
    "settings_feeprovider =[{'contract': 'feeProvider', 'method': 'setLoanOriginationFeePercentage', 'params':{'_percentage': 1*10**15}}]\n",
    "for sett in settings_feeprovider:\n",
    "    print(f'\\n')\n",
    "    print(f'Calling {sett[\"method\"]}, with parameters {sett[\"params\"]} on the {sett[\"contract\"]} contract.')\n",
    "    transaction = CallTransactionBuilder()\\\n",
    "        .from_(deployer_wallet.get_address())\\\n",
    "        .to(contracts[sett['contract']])\\\n",
    "        .value(0)\\\n",
    "        .step_limit(10000000)\\\n",
    "        .nid(NID)\\\n",
    "        .nonce(100)\\\n",
    "        .method(sett['method'])\\\n",
    "        .params(sett['params'])\\\n",
    "        .build()\n",
    "    signed_transaction = SignedTransaction(transaction, deployer_wallet)\n",
    "    tx_hash = icon_service.send_transaction(signed_transaction)\n",
    "    tx_hash\n",
    "    print(get_tx_result(tx_hash)['status'])"
   ]
  },
  {
   "cell_type": "code",
   "execution_count": 22,
   "metadata": {
    "tags": []
   },
   "outputs": [
    {
     "name": "stdout",
     "output_type": "stream",
     "text": [
      "\n",
      "\n",
      "Calling setLendingPoolCore, with parameters {'_address': 'cx4d5ce0111659955ec88bdf31b550eaae1869ceb0'} on the oUSDb contract.\n",
      "Raised JSONRPCException while returning the custom response. Error message: {'code': -32602, 'message': 'Pending transaction'}\n",
      "{'code': -32602, 'message': 'Pending transaction'} (Json rpc error), Retrying in 1 seconds...\n",
      "Raised JSONRPCException while returning the custom response. Error message: {'code': -32602, 'message': 'Pending transaction'}\n",
      "{'code': -32602, 'message': 'Pending transaction'} (Json rpc error), Retrying in 2 seconds...\n",
      "1\n",
      "\n",
      "\n",
      "Calling setReserve, with parameters {'_address': 'cxaa068556df80f9917ef146e889f0b2c4b13ab634'} on the oUSDb contract.\n",
      "Raised JSONRPCException while returning the custom response. Error message: {'code': -32602, 'message': 'Pending transaction'}\n",
      "{'code': -32602, 'message': 'Pending transaction'} (Json rpc error), Retrying in 1 seconds...\n",
      "Raised JSONRPCException while returning the custom response. Error message: {'code': -32602, 'message': 'Pending transaction'}\n",
      "{'code': -32602, 'message': 'Pending transaction'} (Json rpc error), Retrying in 2 seconds...\n",
      "1\n",
      "\n",
      "\n",
      "Calling setLendingPoolDataProvider, with parameters {'_address': 'cx5b611522f541f77dfeab6a8f874e0e87db320a78'} on the oUSDb contract.\n",
      "Raised JSONRPCException while returning the custom response. Error message: {'code': -32602, 'message': 'Pending transaction'}\n",
      "{'code': -32602, 'message': 'Pending transaction'} (Json rpc error), Retrying in 1 seconds...\n",
      "Raised JSONRPCException while returning the custom response. Error message: {'code': -32602, 'message': 'Pending transaction'}\n",
      "{'code': -32602, 'message': 'Pending transaction'} (Json rpc error), Retrying in 2 seconds...\n",
      "1\n",
      "\n",
      "\n",
      "Calling setLendingPool, with parameters {'_address': 'cx0287ab61ae0bec1af11ccb108257b7d292422d39'} on the oUSDb contract.\n",
      "Raised JSONRPCException while returning the custom response. Error message: {'code': -32602, 'message': 'Pending transaction'}\n",
      "{'code': -32602, 'message': 'Pending transaction'} (Json rpc error), Retrying in 1 seconds...\n",
      "Raised JSONRPCException while returning the custom response. Error message: {'code': -32602, 'message': 'Pending transaction'}\n",
      "{'code': -32602, 'message': 'Pending transaction'} (Json rpc error), Retrying in 2 seconds...\n",
      "1\n"
     ]
    }
   ],
   "source": [
    "settings_oToken =[{'contract': 'oUSDb', 'method': 'setLendingPoolCore', 'params':{'_address':contracts['lendingPoolCore']}},\n",
    "            {'contract': 'oUSDb', 'method': 'setReserve', 'params':{'_address':contracts['usdb']}},\n",
    "            {'contract': 'oUSDb', 'method': 'setLendingPoolDataProvider', 'params':{'_address':contracts['lendingPoolDataProvider']}},\n",
    "            {'contract': 'oUSDb', 'method': 'setLendingPool', 'params':{'_address':contracts['lendingPool']}}]\n",
    "for sett in settings_oToken:\n",
    "    print(f'\\n')\n",
    "    print(f'Calling {sett[\"method\"]}, with parameters {sett[\"params\"]} on the {sett[\"contract\"]} contract.')\n",
    "    transaction = CallTransactionBuilder()\\\n",
    "        .from_(deployer_wallet.get_address())\\\n",
    "        .to(contracts[sett['contract']])\\\n",
    "        .value(0)\\\n",
    "        .step_limit(10000000)\\\n",
    "        .nid(NID)\\\n",
    "        .nonce(100)\\\n",
    "        .method(sett['method'])\\\n",
    "        .params(sett['params'])\\\n",
    "        .build()\n",
    "    signed_transaction = SignedTransaction(transaction, deployer_wallet)\n",
    "    tx_hash = icon_service.send_transaction(signed_transaction)\n",
    "    tx_hash\n",
    "    print(get_tx_result(tx_hash)['status'])"
   ]
  },
  {
   "cell_type": "code",
   "execution_count": 33,
   "metadata": {
    "tags": []
   },
   "outputs": [
    {
     "name": "stdout",
     "output_type": "stream",
     "text": [
      "\n",
      "\n",
      "Calling set_reference_data, with parameters {'_base': 'USDb', '_quote': 'USD', '_rate': 1000000000000000000} on the priceOracle contract.\n",
      "Raised JSONRPCException while returning the custom response. Error message: {'code': -32602, 'message': 'Pending transaction'}\n",
      "{'code': -32602, 'message': 'Pending transaction'} (Json rpc error), Retrying in 1 seconds...\n",
      "Raised JSONRPCException while returning the custom response. Error message: {'code': -32602, 'message': 'Pending transaction'}\n",
      "{'code': -32602, 'message': 'Pending transaction'} (Json rpc error), Retrying in 2 seconds...\n",
      "1\n",
      "\n",
      "\n",
      "Calling set_reference_data, with parameters {'_base': 'ICX', '_quote': 'USD', '_rate': 1000000000000000000} on the priceOracle contract.\n",
      "Raised JSONRPCException while returning the custom response. Error message: {'code': -32602, 'message': 'Pending transaction'}\n",
      "{'code': -32602, 'message': 'Pending transaction'} (Json rpc error), Retrying in 1 seconds...\n",
      "Raised JSONRPCException while returning the custom response. Error message: {'code': -32602, 'message': 'Pending transaction'}\n",
      "{'code': -32602, 'message': 'Pending transaction'} (Json rpc error), Retrying in 2 seconds...\n",
      "1\n",
      "\n",
      "\n",
      "Calling set_reference_data, with parameters {'_base': 'IUSDC', '_quote': 'USDC', '_rate': 1000000000000000000} on the priceOracle contract.\n",
      "Raised JSONRPCException while returning the custom response. Error message: {'code': -32602, 'message': 'Pending transaction'}\n",
      "{'code': -32602, 'message': 'Pending transaction'} (Json rpc error), Retrying in 1 seconds...\n",
      "1\n"
     ]
    }
   ],
   "source": [
    "setting_priceOracle =[{'contract': 'priceOracle', 'method': 'set_reference_data', 'params':{'_base':'USDb','_quote':'USD','_rate':1*10**18}},\n",
    "                      {'contract': 'priceOracle', 'method': 'set_reference_data', 'params':{'_base':'ICX','_quote':'USD','_rate':10*10**17}},\n",
    "                      {'contract': 'priceOracle', 'method': 'set_reference_data', 'params':{'_base':'IUSDC','_quote':'USDC','_rate':10*10**17}}\n",
    "\n",
    "                      ]\n",
    "for sett in setting_priceOracle:\n",
    "    print(f'\\n')\n",
    "    print(f'Calling {sett[\"method\"]}, with parameters {sett[\"params\"]} on the {sett[\"contract\"]} contract.')\n",
    "    transaction = CallTransactionBuilder()\\\n",
    "        .from_(deployer_wallet.get_address())\\\n",
    "        .to(contracts[sett['contract']])\\\n",
    "        .value(0)\\\n",
    "        .step_limit(10000000)\\\n",
    "        .nid(NID)\\\n",
    "        .nonce(100)\\\n",
    "        .method(sett['method'])\\\n",
    "        .params(sett['params'])\\\n",
    "        .build()\n",
    "    signed_transaction = SignedTransaction(transaction, deployer_wallet)\n",
    "    tx_hash = icon_service.send_transaction(signed_transaction)\n",
    "    tx_hash\n",
    "    print(get_tx_result(tx_hash)['status'])"
   ]
  },
  {
   "cell_type": "code",
   "execution_count": 24,
   "metadata": {
    "tags": []
   },
   "outputs": [
    {
     "name": "stdout",
     "output_type": "stream",
     "text": [
      "\n",
      "\n",
      "Calling setLendingPool, with parameters {'_address': 'cx0287ab61ae0bec1af11ccb108257b7d292422d39'} on the addressProvider contract.\n",
      "Raised JSONRPCException while returning the custom response. Error message: {'code': -32602, 'message': 'Pending transaction'}\n",
      "{'code': -32602, 'message': 'Pending transaction'} (Json rpc error), Retrying in 1 seconds...\n",
      "Raised JSONRPCException while returning the custom response. Error message: {'code': -32602, 'message': 'Pending transaction'}\n",
      "{'code': -32602, 'message': 'Pending transaction'} (Json rpc error), Retrying in 2 seconds...\n",
      "1\n",
      "\n",
      "\n",
      "Calling setLendingPoolDataProvider, with parameters {'_address': 'cx5b611522f541f77dfeab6a8f874e0e87db320a78'} on the addressProvider contract.\n",
      "Raised JSONRPCException while returning the custom response. Error message: {'code': -32602, 'message': 'Pending transaction'}\n",
      "{'code': -32602, 'message': 'Pending transaction'} (Json rpc error), Retrying in 1 seconds...\n",
      "1\n",
      "\n",
      "\n",
      "Calling setUSDb, with parameters {'_address': 'cxaa068556df80f9917ef146e889f0b2c4b13ab634'} on the addressProvider contract.\n",
      "Raised JSONRPCException while returning the custom response. Error message: {'code': -32602, 'message': 'Pending transaction'}\n",
      "{'code': -32602, 'message': 'Pending transaction'} (Json rpc error), Retrying in 1 seconds...\n",
      "Raised JSONRPCException while returning the custom response. Error message: {'code': -32602, 'message': 'Pending transaction'}\n",
      "{'code': -32602, 'message': 'Pending transaction'} (Json rpc error), Retrying in 2 seconds...\n",
      "1\n",
      "\n",
      "\n",
      "Calling setoUSDb, with parameters {'_address': 'cx47549e03024584dca6eeb26b7de8f189bf2b6ff9'} on the addressProvider contract.\n",
      "Raised JSONRPCException while returning the custom response. Error message: {'code': -32602, 'message': 'Pending transaction'}\n",
      "{'code': -32602, 'message': 'Pending transaction'} (Json rpc error), Retrying in 1 seconds...\n",
      "Raised JSONRPCException while returning the custom response. Error message: {'code': -32602, 'message': 'Pending transaction'}\n",
      "{'code': -32602, 'message': 'Pending transaction'} (Json rpc error), Retrying in 2 seconds...\n",
      "1\n",
      "\n",
      "\n",
      "Calling setsICX, with parameters {'_address': 'cxb7eda227d9ed9c6fc2a74aa5dd7e9a3913f6c281'} on the addressProvider contract.\n",
      "Raised JSONRPCException while returning the custom response. Error message: {'code': -32602, 'message': 'Pending transaction'}\n",
      "{'code': -32602, 'message': 'Pending transaction'} (Json rpc error), Retrying in 1 seconds...\n",
      "Raised JSONRPCException while returning the custom response. Error message: {'code': -32602, 'message': 'Pending transaction'}\n",
      "{'code': -32602, 'message': 'Pending transaction'} (Json rpc error), Retrying in 2 seconds...\n",
      "1\n",
      "\n",
      "\n",
      "Calling setoICX, with parameters {'_address': 'cx04e21bb3d2e09b0e753af2dff0eeddb011a4be75'} on the addressProvider contract.\n",
      "Raised JSONRPCException while returning the custom response. Error message: {'code': -32602, 'message': 'Pending transaction'}\n",
      "{'code': -32602, 'message': 'Pending transaction'} (Json rpc error), Retrying in 1 seconds...\n",
      "Raised JSONRPCException while returning the custom response. Error message: {'code': -32602, 'message': 'Pending transaction'}\n",
      "{'code': -32602, 'message': 'Pending transaction'} (Json rpc error), Retrying in 2 seconds...\n",
      "1\n",
      "\n",
      "\n",
      "Calling setStaking, with parameters {'_address': 'cxadd9557a07d4aab925dd04b7a6da4ea1d67bef9c'} on the addressProvider contract.\n",
      "Raised JSONRPCException while returning the custom response. Error message: {'code': -32602, 'message': 'Pending transaction'}\n",
      "{'code': -32602, 'message': 'Pending transaction'} (Json rpc error), Retrying in 1 seconds...\n",
      "Raised JSONRPCException while returning the custom response. Error message: {'code': -32602, 'message': 'Pending transaction'}\n",
      "{'code': -32602, 'message': 'Pending transaction'} (Json rpc error), Retrying in 2 seconds...\n",
      "1\n",
      "\n",
      "\n",
      "Calling setIUSDC, with parameters {'_address': 'cx65f639254090820361da483df233f6d0e69af9b7'} on the addressProvider contract.\n",
      "Raised JSONRPCException while returning the custom response. Error message: {'code': -32602, 'message': 'Pending transaction'}\n",
      "{'code': -32602, 'message': 'Pending transaction'} (Json rpc error), Retrying in 1 seconds...\n",
      "Raised JSONRPCException while returning the custom response. Error message: {'code': -32602, 'message': 'Pending transaction'}\n",
      "{'code': -32602, 'message': 'Pending transaction'} (Json rpc error), Retrying in 2 seconds...\n",
      "1\n",
      "\n",
      "\n",
      "Calling setoIUSDC, with parameters {'_address': 'cx42a4734508068d0f8edd7ef0778b515788b3f3b8'} on the addressProvider contract.\n",
      "Raised JSONRPCException while returning the custom response. Error message: {'code': -32602, 'message': 'Pending transaction'}\n",
      "{'code': -32602, 'message': 'Pending transaction'} (Json rpc error), Retrying in 1 seconds...\n",
      "Raised JSONRPCException while returning the custom response. Error message: {'code': -32602, 'message': 'Pending transaction'}\n",
      "{'code': -32602, 'message': 'Pending transaction'} (Json rpc error), Retrying in 2 seconds...\n",
      "1\n",
      "\n",
      "\n",
      "Calling setOmmToken, with parameters {'_address': 'cx5dc583ebe474fd99db3962e32deff60c76328b61'} on the addressProvider contract.\n",
      "Raised JSONRPCException while returning the custom response. Error message: {'code': -32602, 'message': 'Pending transaction'}\n",
      "{'code': -32602, 'message': 'Pending transaction'} (Json rpc error), Retrying in 1 seconds...\n",
      "1\n",
      "\n",
      "\n",
      "Calling setDelegation, with parameters {'_address': 'cx0ac8854f9fbe0126e830386046ed26bbb6769bf1'} on the addressProvider contract.\n",
      "Raised JSONRPCException while returning the custom response. Error message: {'code': -32602, 'message': 'Pending transaction'}\n",
      "{'code': -32602, 'message': 'Pending transaction'} (Json rpc error), Retrying in 1 seconds...\n",
      "Raised JSONRPCException while returning the custom response. Error message: {'code': -32602, 'message': 'Pending transaction'}\n",
      "{'code': -32602, 'message': 'Pending transaction'} (Json rpc error), Retrying in 2 seconds...\n",
      "1\n",
      "\n",
      "\n",
      "Calling setRewards, with parameters {'_address': 'cx1c1d88f6039ebb04572d194d52e9b190f37514d6'} on the addressProvider contract.\n",
      "Raised JSONRPCException while returning the custom response. Error message: {'code': -32602, 'message': 'Pending transaction'}\n",
      "{'code': -32602, 'message': 'Pending transaction'} (Json rpc error), Retrying in 1 seconds...\n",
      "Raised JSONRPCException while returning the custom response. Error message: {'code': -32602, 'message': 'Pending transaction'}\n",
      "{'code': -32602, 'message': 'Pending transaction'} (Json rpc error), Retrying in 2 seconds...\n",
      "1\n"
     ]
    }
   ],
   "source": [
    "setting_addressProvider =[  {'contract': 'addressProvider', 'method': 'setLendingPool', 'params':{'_address':contracts['lendingPool']}},\n",
    "                            {'contract': 'addressProvider', 'method': 'setLendingPoolDataProvider', 'params':{'_address':contracts['lendingPoolDataProvider']}},\n",
    "                            {'contract': 'addressProvider', 'method': 'setUSDb', 'params':{'_address':contracts['usdb']}},\n",
    "                            {'contract': 'addressProvider', 'method': 'setoUSDb', 'params':{'_address':contracts['oUSDb']}},\n",
    "                            {'contract': 'addressProvider', 'method': 'setsICX', 'params':{'_address':contracts['sicx']}},\n",
    "                            {'contract': 'addressProvider', 'method': 'setoICX', 'params':{'_address':contracts['oICX']}},\n",
    "                            {'contract': 'addressProvider', 'method': 'setStaking', 'params':{'_address':contracts['staking']}},\n",
    "                            {'contract': 'addressProvider', 'method': 'setIUSDC', 'params':{'_address':contracts['iusdc']}},\n",
    "                            {'contract': 'addressProvider', 'method': 'setoIUSDC', 'params':{'_address':contracts['oIUSDC']}},\n",
    "                            {'contract': 'addressProvider', 'method': 'setOmmToken', 'params':{'_address':contracts['ommToken']}},\n",
    "                            {'contract': 'addressProvider', 'method': 'setDelegation', 'params':{'_address':contracts['delegation']}},\n",
    "                            {'contract': 'addressProvider', 'method': 'setRewards', 'params':{'_address':contracts['rewards']}}\n",
    "                         ]\n",
    "for sett in setting_addressProvider:\n",
    "    print(f'\\n')\n",
    "    print(f'Calling {sett[\"method\"]}, with parameters {sett[\"params\"]} on the {sett[\"contract\"]} contract.')\n",
    "    transaction = CallTransactionBuilder()\\\n",
    "        .from_(deployer_wallet.get_address())\\\n",
    "        .to(contracts[sett['contract']])\\\n",
    "        .value(0)\\\n",
    "        .step_limit(10000000)\\\n",
    "        .nid(NID)\\\n",
    "        .nonce(100)\\\n",
    "        .method(sett['method'])\\\n",
    "        .params(sett['params'])\\\n",
    "        .build()\n",
    "    signed_transaction = SignedTransaction(transaction, deployer_wallet)\n",
    "    tx_hash = icon_service.send_transaction(signed_transaction)\n",
    "    tx_hash\n",
    "    print(get_tx_result(tx_hash)['status'])"
   ]
  },
  {
   "cell_type": "code",
   "execution_count": 25,
   "metadata": {
    "tags": []
   },
   "outputs": [
    {
     "name": "stdout",
     "output_type": "stream",
     "text": [
      "\n",
      "\n",
      "Calling setReserveConstants, with parameters {'_constants': [{'reserve': 'cxaa068556df80f9917ef146e889f0b2c4b13ab634', 'optimalUtilizationRate': '800000000000000000', 'baseBorrowRate': '20000000000000000', 'slopeRate1': '60000000000000000', 'slopeRate2': '1000000000000000000'}]} on the lendingPoolCore contract.\n",
      "Raised JSONRPCException while returning the custom response. Error message: {'code': -32602, 'message': 'Pending transaction'}\n",
      "{'code': -32602, 'message': 'Pending transaction'} (Json rpc error), Retrying in 1 seconds...\n",
      "Raised JSONRPCException while returning the custom response. Error message: {'code': -32602, 'message': 'Pending transaction'}\n",
      "{'code': -32602, 'message': 'Pending transaction'} (Json rpc error), Retrying in 2 seconds...\n",
      "1\n",
      "\n",
      "\n",
      "Calling setReserveConstants, with parameters {'_constants': [{'reserve': 'cxb7eda227d9ed9c6fc2a74aa5dd7e9a3913f6c281', 'optimalUtilizationRate': '800000000000000000', 'baseBorrowRate': '000000000000000000', 'slopeRate1': '80000000000000000', 'slopeRate2': '2000000000000000000'}]} on the lendingPoolCore contract.\n",
      "Raised JSONRPCException while returning the custom response. Error message: {'code': -32602, 'message': 'Pending transaction'}\n",
      "{'code': -32602, 'message': 'Pending transaction'} (Json rpc error), Retrying in 1 seconds...\n",
      "Raised JSONRPCException while returning the custom response. Error message: {'code': -32602, 'message': 'Pending transaction'}\n",
      "{'code': -32602, 'message': 'Pending transaction'} (Json rpc error), Retrying in 2 seconds...\n",
      "1\n",
      "\n",
      "\n",
      "Calling setReserveConstants, with parameters {'_constants': [{'reserve': 'cx65f639254090820361da483df233f6d0e69af9b7', 'optimalUtilizationRate': '800000000000000000', 'baseBorrowRate': '20000000000000000', 'slopeRate1': '60000000000000000', 'slopeRate2': '1000000000000000000'}]} on the lendingPoolCore contract.\n",
      "Raised JSONRPCException while returning the custom response. Error message: {'code': -32602, 'message': 'Pending transaction'}\n",
      "{'code': -32602, 'message': 'Pending transaction'} (Json rpc error), Retrying in 1 seconds...\n",
      "Raised JSONRPCException while returning the custom response. Error message: {'code': -32602, 'message': 'Pending transaction'}\n",
      "{'code': -32602, 'message': 'Pending transaction'} (Json rpc error), Retrying in 2 seconds...\n",
      "1\n"
     ]
    }
   ],
   "source": [
    "settings_reserves = [{'contract': 'lendingPoolCore', \n",
    "                        'method': 'setReserveConstants', \n",
    "                        'params' :{\"_constants\": [{\"reserve\":contracts['usdb'],\n",
    "                                                   \"optimalUtilizationRate\":f\"8{'0'*17}\",\n",
    "                                                   \"baseBorrowRate\":f\"2{'0'*16}\",\n",
    "                                                   \"slopeRate1\":f\"6{'0'*16}\",\n",
    "                                                   \"slopeRate2\":f\"1{'0'*18}\"} ]}},\n",
    "                     {'contract': 'lendingPoolCore', \n",
    "                        'method': 'setReserveConstants', \n",
    "                        'params' :{\"_constants\": [{\"reserve\":contracts['sicx'],\n",
    "                                                    \"optimalUtilizationRate\":f\"8{'0'*17}\",\n",
    "                                                    \"baseBorrowRate\":f\"0{'0'*17}\",\n",
    "                                                    \"slopeRate1\":f\"8{'0'*16}\",\n",
    "                                                    \"slopeRate2\":f\"2{'0'*18}\"} ]}},\n",
    "                    {'contract': 'lendingPoolCore', \n",
    "                        'method': 'setReserveConstants', \n",
    "                        'params' :{\"_constants\": [{\"reserve\":contracts['iusdc'],\n",
    "                                                    \"optimalUtilizationRate\":f\"8{'0'*17}\",\n",
    "                                                   \"baseBorrowRate\":f\"2{'0'*16}\",\n",
    "                                                   \"slopeRate1\":f\"6{'0'*16}\",\n",
    "                                                   \"slopeRate2\":f\"1{'0'*18}\"} ]}}\n",
    "                    ]\n",
    "for sett in settings_reserves:\n",
    "    print(f'\\n')\n",
    "    print(f'Calling {sett[\"method\"]}, with parameters {sett[\"params\"]} on the {sett[\"contract\"]} contract.')\n",
    "    transaction = CallTransactionBuilder()\\\n",
    "        .from_(deployer_wallet.get_address())\\\n",
    "        .to(contracts[sett['contract']])\\\n",
    "        .value(0)\\\n",
    "        .step_limit(10000000)\\\n",
    "        .nid(NID)\\\n",
    "        .nonce(100)\\\n",
    "        .method(sett['method'])\\\n",
    "        .params(sett['params'])\\\n",
    "        .build()\n",
    "    signed_transaction = SignedTransaction(transaction, deployer_wallet)\n",
    "    tx_hash = icon_service.send_transaction(signed_transaction)\n",
    "    tx_hash\n",
    "    print(get_tx_result(tx_hash)['status'])"
   ]
  },
  {
   "cell_type": "code",
   "execution_count": 26,
   "metadata": {
    "tags": []
   },
   "outputs": [
    {
     "name": "stdout",
     "output_type": "stream",
     "text": [
      "\n",
      "\n",
      "Calling setLendingPoolCore, with parameters {'_address': 'cx4d5ce0111659955ec88bdf31b550eaae1869ceb0'} on the oICX contract.\n",
      "Raised JSONRPCException while returning the custom response. Error message: {'code': -32602, 'message': 'Pending transaction'}\n",
      "{'code': -32602, 'message': 'Pending transaction'} (Json rpc error), Retrying in 1 seconds...\n",
      "Raised JSONRPCException while returning the custom response. Error message: {'code': -32602, 'message': 'Pending transaction'}\n",
      "{'code': -32602, 'message': 'Pending transaction'} (Json rpc error), Retrying in 2 seconds...\n",
      "1\n",
      "\n",
      "\n",
      "Calling setReserve, with parameters {'_address': 'cxb7eda227d9ed9c6fc2a74aa5dd7e9a3913f6c281'} on the oICX contract.\n",
      "Raised JSONRPCException while returning the custom response. Error message: {'code': -32602, 'message': 'Pending transaction'}\n",
      "{'code': -32602, 'message': 'Pending transaction'} (Json rpc error), Retrying in 1 seconds...\n",
      "Raised JSONRPCException while returning the custom response. Error message: {'code': -32602, 'message': 'Pending transaction'}\n",
      "{'code': -32602, 'message': 'Pending transaction'} (Json rpc error), Retrying in 2 seconds...\n",
      "1\n",
      "\n",
      "\n",
      "Calling setLendingPoolDataProvider, with parameters {'_address': 'cx5b611522f541f77dfeab6a8f874e0e87db320a78'} on the oICX contract.\n",
      "Raised JSONRPCException while returning the custom response. Error message: {'code': -32602, 'message': 'Pending transaction'}\n",
      "{'code': -32602, 'message': 'Pending transaction'} (Json rpc error), Retrying in 1 seconds...\n",
      "Raised JSONRPCException while returning the custom response. Error message: {'code': -32602, 'message': 'Pending transaction'}\n",
      "{'code': -32602, 'message': 'Pending transaction'} (Json rpc error), Retrying in 2 seconds...\n",
      "1\n",
      "\n",
      "\n",
      "Calling setLendingPool, with parameters {'_address': 'cx0287ab61ae0bec1af11ccb108257b7d292422d39'} on the oICX contract.\n",
      "Raised JSONRPCException while returning the custom response. Error message: {'code': -32602, 'message': 'Pending transaction'}\n",
      "{'code': -32602, 'message': 'Pending transaction'} (Json rpc error), Retrying in 1 seconds...\n",
      "Raised JSONRPCException while returning the custom response. Error message: {'code': -32602, 'message': 'Pending transaction'}\n",
      "{'code': -32602, 'message': 'Pending transaction'} (Json rpc error), Retrying in 2 seconds...\n",
      "1\n"
     ]
    }
   ],
   "source": [
    "settings_oicx = [{'contract': 'oICX', 'method': 'setLendingPoolCore', 'params':{'_address':contracts['lendingPoolCore']}},\n",
    "                {'contract': 'oICX', 'method': 'setReserve', 'params':{'_address':contracts['sicx']}},\n",
    "                {'contract': 'oICX', 'method': 'setLendingPoolDataProvider', 'params':{'_address':contracts['lendingPoolDataProvider']}},\n",
    "                {'contract': 'oICX', 'method': 'setLendingPool', 'params':{'_address':contracts['lendingPool']}}]\n",
    "for sett in settings_oicx:\n",
    "    print(f'\\n')\n",
    "    print(f'Calling {sett[\"method\"]}, with parameters {sett[\"params\"]} on the {sett[\"contract\"]} contract.')\n",
    "    transaction = CallTransactionBuilder()\\\n",
    "        .from_(deployer_wallet.get_address())\\\n",
    "        .to(contracts[sett['contract']])\\\n",
    "        .value(0)\\\n",
    "        .step_limit(10000000)\\\n",
    "        .nid(NID)\\\n",
    "        .nonce(100)\\\n",
    "        .method(sett['method'])\\\n",
    "        .params(sett['params'])\\\n",
    "        .build()\n",
    "    signed_transaction = SignedTransaction(transaction, deployer_wallet)\n",
    "    tx_hash = icon_service.send_transaction(signed_transaction)\n",
    "    tx_hash\n",
    "    print(get_tx_result(tx_hash)['status'])"
   ]
  },
  {
   "cell_type": "code",
   "execution_count": 27,
   "metadata": {
    "tags": []
   },
   "outputs": [
    {
     "name": "stdout",
     "output_type": "stream",
     "text": [
      "\n",
      "\n",
      "Calling setLendingPoolCore, with parameters {'_address': 'cx4d5ce0111659955ec88bdf31b550eaae1869ceb0'} on the oIUSDC contract.\n",
      "Raised JSONRPCException while returning the custom response. Error message: {'code': -32602, 'message': 'Pending transaction'}\n",
      "{'code': -32602, 'message': 'Pending transaction'} (Json rpc error), Retrying in 1 seconds...\n",
      "Raised JSONRPCException while returning the custom response. Error message: {'code': -32602, 'message': 'Pending transaction'}\n",
      "{'code': -32602, 'message': 'Pending transaction'} (Json rpc error), Retrying in 2 seconds...\n",
      "1\n",
      "\n",
      "\n",
      "Calling setReserve, with parameters {'_address': 'cx65f639254090820361da483df233f6d0e69af9b7'} on the oIUSDC contract.\n",
      "Raised JSONRPCException while returning the custom response. Error message: {'code': -32602, 'message': 'Pending transaction'}\n",
      "{'code': -32602, 'message': 'Pending transaction'} (Json rpc error), Retrying in 1 seconds...\n",
      "Raised JSONRPCException while returning the custom response. Error message: {'code': -32602, 'message': 'Pending transaction'}\n",
      "{'code': -32602, 'message': 'Pending transaction'} (Json rpc error), Retrying in 2 seconds...\n",
      "1\n",
      "\n",
      "\n",
      "Calling setLendingPoolDataProvider, with parameters {'_address': 'cx5b611522f541f77dfeab6a8f874e0e87db320a78'} on the oIUSDC contract.\n",
      "Raised JSONRPCException while returning the custom response. Error message: {'code': -32602, 'message': 'Pending transaction'}\n",
      "{'code': -32602, 'message': 'Pending transaction'} (Json rpc error), Retrying in 1 seconds...\n",
      "Raised JSONRPCException while returning the custom response. Error message: {'code': -32602, 'message': 'Pending transaction'}\n",
      "{'code': -32602, 'message': 'Pending transaction'} (Json rpc error), Retrying in 2 seconds...\n",
      "1\n",
      "\n",
      "\n",
      "Calling setLendingPool, with parameters {'_address': 'cx0287ab61ae0bec1af11ccb108257b7d292422d39'} on the oIUSDC contract.\n",
      "Raised JSONRPCException while returning the custom response. Error message: {'code': -32602, 'message': 'Pending transaction'}\n",
      "{'code': -32602, 'message': 'Pending transaction'} (Json rpc error), Retrying in 1 seconds...\n",
      "Raised JSONRPCException while returning the custom response. Error message: {'code': -32602, 'message': 'Pending transaction'}\n",
      "{'code': -32602, 'message': 'Pending transaction'} (Json rpc error), Retrying in 2 seconds...\n",
      "1\n"
     ]
    }
   ],
   "source": [
    "settings_oiusdc = [ {'contract': 'oIUSDC', 'method': 'setLendingPoolCore', 'params':{'_address':contracts['lendingPoolCore']}},\n",
    "                    {'contract': 'oIUSDC', 'method': 'setReserve', 'params':{'_address':contracts['iusdc']}},\n",
    "                    {'contract': 'oIUSDC', 'method': 'setLendingPoolDataProvider', 'params':{'_address':contracts['lendingPoolDataProvider']}},\n",
    "                    {'contract': 'oIUSDC', 'method': 'setLendingPool', 'params':{'_address':contracts['lendingPool']}}]\n",
    "for sett in settings_oiusdc:\n",
    "    print(f'\\n')\n",
    "    print(f'Calling {sett[\"method\"]}, with parameters {sett[\"params\"]} on the {sett[\"contract\"]} contract.')\n",
    "    transaction = CallTransactionBuilder()\\\n",
    "        .from_(deployer_wallet.get_address())\\\n",
    "        .to(contracts[sett['contract']])\\\n",
    "        .value(0)\\\n",
    "        .step_limit(10000000)\\\n",
    "        .nid(NID)\\\n",
    "        .nonce(100)\\\n",
    "        .method(sett['method'])\\\n",
    "        .params(sett['params'])\\\n",
    "        .build()\n",
    "    signed_transaction = SignedTransaction(transaction, deployer_wallet)\n",
    "    tx_hash = icon_service.send_transaction(signed_transaction)\n",
    "    tx_hash\n",
    "    print(get_tx_result(tx_hash)['status'])"
   ]
  },
  {
   "cell_type": "code",
   "execution_count": 28,
   "metadata": {
    "tags": []
   },
   "outputs": [
    {
     "name": "stdout",
     "output_type": "stream",
     "text": [
      "\n",
      "\n",
      "Calling setLendingPoolDataProvider, with parameters {'_address': 'cx5b611522f541f77dfeab6a8f874e0e87db320a78'} on the liquidationManager contract.\n",
      "Raised JSONRPCException while returning the custom response. Error message: {'code': -32602, 'message': 'Pending transaction'}\n",
      "{'code': -32602, 'message': 'Pending transaction'} (Json rpc error), Retrying in 1 seconds...\n",
      "Raised JSONRPCException while returning the custom response. Error message: {'code': -32602, 'message': 'Pending transaction'}\n",
      "{'code': -32602, 'message': 'Pending transaction'} (Json rpc error), Retrying in 2 seconds...\n",
      "1\n",
      "\n",
      "\n",
      "Calling setLendingPoolCore, with parameters {'_address': 'cx4d5ce0111659955ec88bdf31b550eaae1869ceb0'} on the liquidationManager contract.\n",
      "Raised JSONRPCException while returning the custom response. Error message: {'code': -32602, 'message': 'Pending transaction'}\n",
      "{'code': -32602, 'message': 'Pending transaction'} (Json rpc error), Retrying in 1 seconds...\n",
      "1\n",
      "\n",
      "\n",
      "Calling setPriceOracle, with parameters {'_address': 'cx4e592739a3cd1bbd9f826b41518038fa2e6a35cb'} on the liquidationManager contract.\n",
      "Raised JSONRPCException while returning the custom response. Error message: {'code': -32602, 'message': 'Pending transaction'}\n",
      "{'code': -32602, 'message': 'Pending transaction'} (Json rpc error), Retrying in 1 seconds...\n",
      "Raised JSONRPCException while returning the custom response. Error message: {'code': -32602, 'message': 'Pending transaction'}\n",
      "{'code': -32602, 'message': 'Pending transaction'} (Json rpc error), Retrying in 2 seconds...\n",
      "1\n",
      "\n",
      "\n",
      "Calling setFeeProvider, with parameters {'_address': 'cx97397bca3097b3d79884fb77158d7abc4cb2f960'} on the liquidationManager contract.\n",
      "Raised JSONRPCException while returning the custom response. Error message: {'code': -32602, 'message': 'Pending transaction'}\n",
      "{'code': -32602, 'message': 'Pending transaction'} (Json rpc error), Retrying in 1 seconds...\n",
      "1\n"
     ]
    }
   ],
   "source": [
    "settings_liquidationManager =  [{'contract': 'liquidationManager', 'method': 'setLendingPoolDataProvider', 'params': {'_address':contracts['lendingPoolDataProvider']}},\n",
    "                                {'contract': 'liquidationManager', 'method': 'setLendingPoolCore', 'params': {'_address':contracts['lendingPoolCore']}},\n",
    "                                {'contract': 'liquidationManager', 'method': 'setPriceOracle','params': {'_address':contracts['priceOracle']}},\n",
    "                                {'contract': 'liquidationManager', 'method': 'setFeeProvider','params': {'_address':contracts['feeProvider']}}\n",
    "                                ]\n",
    "for sett in settings_liquidationManager:\n",
    "    print(f'\\n')\n",
    "    print(f'Calling {sett[\"method\"]}, with parameters {sett[\"params\"]} on the {sett[\"contract\"]} contract.')\n",
    "    transaction = CallTransactionBuilder()\\\n",
    "        .from_(deployer_wallet.get_address())\\\n",
    "        .to(contracts[sett['contract']])\\\n",
    "        .value(0)\\\n",
    "        .step_limit(10000000)\\\n",
    "        .nid(NID)\\\n",
    "        .nonce(100)\\\n",
    "        .method(sett['method'])\\\n",
    "        .params(sett['params'])\\\n",
    "        .build()\n",
    "    signed_transaction = SignedTransaction(transaction, deployer_wallet)\n",
    "    tx_hash = icon_service.send_transaction(signed_transaction)\n",
    "    tx_hash\n",
    "    print(get_tx_result(tx_hash)['status'])"
   ]
  },
  {
   "cell_type": "code",
   "execution_count": 29,
   "metadata": {
    "tags": []
   },
   "outputs": [
    {
     "name": "stdout",
     "output_type": "stream",
     "text": [
      "\n",
      "\n",
      "Calling setLendingPoolCore, with parameters {'_address': 'cx4d5ce0111659955ec88bdf31b550eaae1869ceb0'} on the delegation contract.\n",
      "Raised JSONRPCException while returning the custom response. Error message: {'code': -32602, 'message': 'Pending transaction'}\n",
      "{'code': -32602, 'message': 'Pending transaction'} (Json rpc error), Retrying in 1 seconds...\n",
      "Raised JSONRPCException while returning the custom response. Error message: {'code': -32602, 'message': 'Pending transaction'}\n",
      "{'code': -32602, 'message': 'Pending transaction'} (Json rpc error), Retrying in 2 seconds...\n",
      "1\n",
      "\n",
      "\n",
      "Calling setOmmToken, with parameters {'_address': 'cx5dc583ebe474fd99db3962e32deff60c76328b61'} on the delegation contract.\n",
      "Raised JSONRPCException while returning the custom response. Error message: {'code': -32602, 'message': 'Pending transaction'}\n",
      "{'code': -32602, 'message': 'Pending transaction'} (Json rpc error), Retrying in 1 seconds...\n",
      "Raised JSONRPCException while returning the custom response. Error message: {'code': -32602, 'message': 'Pending transaction'}\n",
      "{'code': -32602, 'message': 'Pending transaction'} (Json rpc error), Retrying in 2 seconds...\n",
      "1\n"
     ]
    }
   ],
   "source": [
    "settings_delegation =[{'contract': 'delegation', 'method': 'setLendingPoolCore','params': {'_address':contracts['lendingPoolCore']}},\n",
    "                     {'contract':  'delegation', 'method': 'setOmmToken','params': {'_address':contracts['ommToken']}}]\n",
    "for sett in settings_delegation:\n",
    "    print(f'\\n')\n",
    "    print(f'Calling {sett[\"method\"]}, with parameters {sett[\"params\"]} on the {sett[\"contract\"]} contract.')\n",
    "    transaction = CallTransactionBuilder()\\\n",
    "        .from_(deployer_wallet.get_address())\\\n",
    "        .to(contracts[sett['contract']])\\\n",
    "        .value(0)\\\n",
    "        .step_limit(10000000)\\\n",
    "        .nid(NID)\\\n",
    "        .nonce(100)\\\n",
    "        .method(sett['method'])\\\n",
    "        .params(sett['params'])\\\n",
    "        .build()\n",
    "    signed_transaction = SignedTransaction(transaction, deployer_wallet)\n",
    "    tx_hash = icon_service.send_transaction(signed_transaction)\n",
    "    tx_hash\n",
    "    print(get_tx_result(tx_hash)['status'])"
   ]
  },
  {
   "cell_type": "code",
   "execution_count": 30,
   "metadata": {
    "tags": []
   },
   "outputs": [
    {
     "name": "stdout",
     "output_type": "stream",
     "text": [
      "\n",
      "\n",
      "Calling setAdmin, with parameters {'_admin': 'cx1c1d88f6039ebb04572d194d52e9b190f37514d6'} on the ommToken contract.\n",
      "Raised JSONRPCException while returning the custom response. Error message: {'code': -32602, 'message': 'Pending transaction'}\n",
      "{'code': -32602, 'message': 'Pending transaction'} (Json rpc error), Retrying in 1 seconds...\n",
      "{'txHash': '0x30db69a354a4e4edcf82668c84c947053125b21dc3c7847348d4cd915b562cb3', 'blockHeight': 13622624, 'blockHash': '0x715ba1c287815cf8a1101563223c3b0e0c7b760e41671188269cb9d88fa04d63', 'txIndex': 1, 'to': 'cx5dc583ebe474fd99db3962e32deff60c76328b61', 'stepUsed': 148920, 'stepPrice': 10000000000, 'cumulativeStepUsed': 148920, 'eventLogs': [], 'logsBloom': b'\\x00\\x00\\x00\\x00\\x00\\x00\\x00\\x00\\x00\\x00\\x00\\x00\\x00\\x00\\x00\\x00\\x00\\x00\\x00\\x00\\x00\\x00\\x00\\x00\\x00\\x00\\x00\\x00\\x00\\x00\\x00\\x00\\x00\\x00\\x00\\x00\\x00\\x00\\x00\\x00\\x00\\x00\\x00\\x00\\x00\\x00\\x00\\x00\\x00\\x00\\x00\\x00\\x00\\x00\\x00\\x00\\x00\\x00\\x00\\x00\\x00\\x00\\x00\\x00\\x00\\x00\\x00\\x00\\x00\\x00\\x00\\x00\\x00\\x00\\x00\\x00\\x00\\x00\\x00\\x00\\x00\\x00\\x00\\x00\\x00\\x00\\x00\\x00\\x00\\x00\\x00\\x00\\x00\\x00\\x00\\x00\\x00\\x00\\x00\\x00\\x00\\x00\\x00\\x00\\x00\\x00\\x00\\x00\\x00\\x00\\x00\\x00\\x00\\x00\\x00\\x00\\x00\\x00\\x00\\x00\\x00\\x00\\x00\\x00\\x00\\x00\\x00\\x00\\x00\\x00\\x00\\x00\\x00\\x00\\x00\\x00\\x00\\x00\\x00\\x00\\x00\\x00\\x00\\x00\\x00\\x00\\x00\\x00\\x00\\x00\\x00\\x00\\x00\\x00\\x00\\x00\\x00\\x00\\x00\\x00\\x00\\x00\\x00\\x00\\x00\\x00\\x00\\x00\\x00\\x00\\x00\\x00\\x00\\x00\\x00\\x00\\x00\\x00\\x00\\x00\\x00\\x00\\x00\\x00\\x00\\x00\\x00\\x00\\x00\\x00\\x00\\x00\\x00\\x00\\x00\\x00\\x00\\x00\\x00\\x00\\x00\\x00\\x00\\x00\\x00\\x00\\x00\\x00\\x00\\x00\\x00\\x00\\x00\\x00\\x00\\x00\\x00\\x00\\x00\\x00\\x00\\x00\\x00\\x00\\x00\\x00\\x00\\x00\\x00\\x00\\x00\\x00\\x00\\x00\\x00\\x00\\x00\\x00\\x00\\x00\\x00\\x00\\x00\\x00\\x00\\x00\\x00\\x00\\x00\\x00\\x00\\x00\\x00\\x00\\x00\\x00', 'status': 1}\n",
      "\n",
      "\n",
      "Calling setDelegation, with parameters {'_address': 'cx0ac8854f9fbe0126e830386046ed26bbb6769bf1'} on the ommToken contract.\n",
      "Raised JSONRPCException while returning the custom response. Error message: {'code': -32602, 'message': 'Pending transaction'}\n",
      "{'code': -32602, 'message': 'Pending transaction'} (Json rpc error), Retrying in 1 seconds...\n",
      "Raised JSONRPCException while returning the custom response. Error message: {'code': -32602, 'message': 'Pending transaction'}\n",
      "{'code': -32602, 'message': 'Pending transaction'} (Json rpc error), Retrying in 2 seconds...\n",
      "{'txHash': '0xcfb2fb3532e1322e5003b3b732e349e4dfdc443aa5dcec82b1faa26ef18fce6a', 'blockHeight': 13622626, 'blockHash': '0xf6a5b42cf14655234adaf76f619dd33f0d8ac1ab91e859e6ff326bf283d3553e', 'txIndex': 1, 'to': 'cx5dc583ebe474fd99db3962e32deff60c76328b61', 'stepUsed': 150320, 'stepPrice': 10000000000, 'cumulativeStepUsed': 150320, 'eventLogs': [], 'logsBloom': b'\\x00\\x00\\x00\\x00\\x00\\x00\\x00\\x00\\x00\\x00\\x00\\x00\\x00\\x00\\x00\\x00\\x00\\x00\\x00\\x00\\x00\\x00\\x00\\x00\\x00\\x00\\x00\\x00\\x00\\x00\\x00\\x00\\x00\\x00\\x00\\x00\\x00\\x00\\x00\\x00\\x00\\x00\\x00\\x00\\x00\\x00\\x00\\x00\\x00\\x00\\x00\\x00\\x00\\x00\\x00\\x00\\x00\\x00\\x00\\x00\\x00\\x00\\x00\\x00\\x00\\x00\\x00\\x00\\x00\\x00\\x00\\x00\\x00\\x00\\x00\\x00\\x00\\x00\\x00\\x00\\x00\\x00\\x00\\x00\\x00\\x00\\x00\\x00\\x00\\x00\\x00\\x00\\x00\\x00\\x00\\x00\\x00\\x00\\x00\\x00\\x00\\x00\\x00\\x00\\x00\\x00\\x00\\x00\\x00\\x00\\x00\\x00\\x00\\x00\\x00\\x00\\x00\\x00\\x00\\x00\\x00\\x00\\x00\\x00\\x00\\x00\\x00\\x00\\x00\\x00\\x00\\x00\\x00\\x00\\x00\\x00\\x00\\x00\\x00\\x00\\x00\\x00\\x00\\x00\\x00\\x00\\x00\\x00\\x00\\x00\\x00\\x00\\x00\\x00\\x00\\x00\\x00\\x00\\x00\\x00\\x00\\x00\\x00\\x00\\x00\\x00\\x00\\x00\\x00\\x00\\x00\\x00\\x00\\x00\\x00\\x00\\x00\\x00\\x00\\x00\\x00\\x00\\x00\\x00\\x00\\x00\\x00\\x00\\x00\\x00\\x00\\x00\\x00\\x00\\x00\\x00\\x00\\x00\\x00\\x00\\x00\\x00\\x00\\x00\\x00\\x00\\x00\\x00\\x00\\x00\\x00\\x00\\x00\\x00\\x00\\x00\\x00\\x00\\x00\\x00\\x00\\x00\\x00\\x00\\x00\\x00\\x00\\x00\\x00\\x00\\x00\\x00\\x00\\x00\\x00\\x00\\x00\\x00\\x00\\x00\\x00\\x00\\x00\\x00\\x00\\x00\\x00\\x00\\x00\\x00\\x00\\x00\\x00\\x00\\x00\\x00', 'status': 1}\n",
      "\n",
      "\n",
      "Calling setRewards, with parameters {'_address': 'cx1c1d88f6039ebb04572d194d52e9b190f37514d6'} on the ommToken contract.\n",
      "Raised JSONRPCException while returning the custom response. Error message: {'code': -32602, 'message': 'Pending transaction'}\n",
      "{'code': -32602, 'message': 'Pending transaction'} (Json rpc error), Retrying in 1 seconds...\n",
      "Raised JSONRPCException while returning the custom response. Error message: {'code': -32602, 'message': 'Pending transaction'}\n",
      "{'code': -32602, 'message': 'Pending transaction'} (Json rpc error), Retrying in 2 seconds...\n",
      "{'txHash': '0x82705184a36515414f6871441d2dafabf86a9186491fc10790fe8210cfed8dda', 'blockHeight': 13622629, 'blockHash': '0xa7cd3cf7e7f4b9b0c96de09cbdee45f1efd655c078d57e442f28104be3028c35', 'txIndex': 1, 'to': 'cx5dc583ebe474fd99db3962e32deff60c76328b61', 'stepUsed': 149720, 'stepPrice': 10000000000, 'cumulativeStepUsed': 149720, 'eventLogs': [], 'logsBloom': b'\\x00\\x00\\x00\\x00\\x00\\x00\\x00\\x00\\x00\\x00\\x00\\x00\\x00\\x00\\x00\\x00\\x00\\x00\\x00\\x00\\x00\\x00\\x00\\x00\\x00\\x00\\x00\\x00\\x00\\x00\\x00\\x00\\x00\\x00\\x00\\x00\\x00\\x00\\x00\\x00\\x00\\x00\\x00\\x00\\x00\\x00\\x00\\x00\\x00\\x00\\x00\\x00\\x00\\x00\\x00\\x00\\x00\\x00\\x00\\x00\\x00\\x00\\x00\\x00\\x00\\x00\\x00\\x00\\x00\\x00\\x00\\x00\\x00\\x00\\x00\\x00\\x00\\x00\\x00\\x00\\x00\\x00\\x00\\x00\\x00\\x00\\x00\\x00\\x00\\x00\\x00\\x00\\x00\\x00\\x00\\x00\\x00\\x00\\x00\\x00\\x00\\x00\\x00\\x00\\x00\\x00\\x00\\x00\\x00\\x00\\x00\\x00\\x00\\x00\\x00\\x00\\x00\\x00\\x00\\x00\\x00\\x00\\x00\\x00\\x00\\x00\\x00\\x00\\x00\\x00\\x00\\x00\\x00\\x00\\x00\\x00\\x00\\x00\\x00\\x00\\x00\\x00\\x00\\x00\\x00\\x00\\x00\\x00\\x00\\x00\\x00\\x00\\x00\\x00\\x00\\x00\\x00\\x00\\x00\\x00\\x00\\x00\\x00\\x00\\x00\\x00\\x00\\x00\\x00\\x00\\x00\\x00\\x00\\x00\\x00\\x00\\x00\\x00\\x00\\x00\\x00\\x00\\x00\\x00\\x00\\x00\\x00\\x00\\x00\\x00\\x00\\x00\\x00\\x00\\x00\\x00\\x00\\x00\\x00\\x00\\x00\\x00\\x00\\x00\\x00\\x00\\x00\\x00\\x00\\x00\\x00\\x00\\x00\\x00\\x00\\x00\\x00\\x00\\x00\\x00\\x00\\x00\\x00\\x00\\x00\\x00\\x00\\x00\\x00\\x00\\x00\\x00\\x00\\x00\\x00\\x00\\x00\\x00\\x00\\x00\\x00\\x00\\x00\\x00\\x00\\x00\\x00\\x00\\x00\\x00\\x00\\x00\\x00\\x00\\x00\\x00', 'status': 1}\n",
      "\n",
      "\n",
      "Calling setMinimumStake, with parameters {'_min': 100000000000000000000} on the ommToken contract.\n",
      "Raised JSONRPCException while returning the custom response. Error message: {'code': -32602, 'message': 'Pending transaction'}\n",
      "{'code': -32602, 'message': 'Pending transaction'} (Json rpc error), Retrying in 1 seconds...\n",
      "Raised JSONRPCException while returning the custom response. Error message: {'code': -32602, 'message': 'Pending transaction'}\n",
      "{'code': -32602, 'message': 'Pending transaction'} (Json rpc error), Retrying in 2 seconds...\n",
      "{'txHash': '0x238d140b868f16873c36641f7096583d6667c96b67d8fa5f71fa0b27b87531ea', 'blockHeight': 13622633, 'blockHash': '0xc91a87ee384eadd3387bfd48d39d936b90a35242a2ece6db3dfa32437bd649fb', 'txIndex': 1, 'to': 'cx5dc583ebe474fd99db3962e32deff60c76328b61', 'stepUsed': 141480, 'stepPrice': 10000000000, 'cumulativeStepUsed': 141480, 'eventLogs': [], 'logsBloom': b'\\x00\\x00\\x00\\x00\\x00\\x00\\x00\\x00\\x00\\x00\\x00\\x00\\x00\\x00\\x00\\x00\\x00\\x00\\x00\\x00\\x00\\x00\\x00\\x00\\x00\\x00\\x00\\x00\\x00\\x00\\x00\\x00\\x00\\x00\\x00\\x00\\x00\\x00\\x00\\x00\\x00\\x00\\x00\\x00\\x00\\x00\\x00\\x00\\x00\\x00\\x00\\x00\\x00\\x00\\x00\\x00\\x00\\x00\\x00\\x00\\x00\\x00\\x00\\x00\\x00\\x00\\x00\\x00\\x00\\x00\\x00\\x00\\x00\\x00\\x00\\x00\\x00\\x00\\x00\\x00\\x00\\x00\\x00\\x00\\x00\\x00\\x00\\x00\\x00\\x00\\x00\\x00\\x00\\x00\\x00\\x00\\x00\\x00\\x00\\x00\\x00\\x00\\x00\\x00\\x00\\x00\\x00\\x00\\x00\\x00\\x00\\x00\\x00\\x00\\x00\\x00\\x00\\x00\\x00\\x00\\x00\\x00\\x00\\x00\\x00\\x00\\x00\\x00\\x00\\x00\\x00\\x00\\x00\\x00\\x00\\x00\\x00\\x00\\x00\\x00\\x00\\x00\\x00\\x00\\x00\\x00\\x00\\x00\\x00\\x00\\x00\\x00\\x00\\x00\\x00\\x00\\x00\\x00\\x00\\x00\\x00\\x00\\x00\\x00\\x00\\x00\\x00\\x00\\x00\\x00\\x00\\x00\\x00\\x00\\x00\\x00\\x00\\x00\\x00\\x00\\x00\\x00\\x00\\x00\\x00\\x00\\x00\\x00\\x00\\x00\\x00\\x00\\x00\\x00\\x00\\x00\\x00\\x00\\x00\\x00\\x00\\x00\\x00\\x00\\x00\\x00\\x00\\x00\\x00\\x00\\x00\\x00\\x00\\x00\\x00\\x00\\x00\\x00\\x00\\x00\\x00\\x00\\x00\\x00\\x00\\x00\\x00\\x00\\x00\\x00\\x00\\x00\\x00\\x00\\x00\\x00\\x00\\x00\\x00\\x00\\x00\\x00\\x00\\x00\\x00\\x00\\x00\\x00\\x00\\x00\\x00\\x00\\x00\\x00\\x00\\x00', 'status': 1}\n",
      "\n",
      "\n",
      "Calling setUnstakingPeriod, with parameters {'_time': 120} on the ommToken contract.\n",
      "Raised JSONRPCException while returning the custom response. Error message: {'code': -32602, 'message': 'Pending transaction'}\n",
      "{'code': -32602, 'message': 'Pending transaction'} (Json rpc error), Retrying in 1 seconds...\n",
      "Raised JSONRPCException while returning the custom response. Error message: {'code': -32602, 'message': 'Pending transaction'}\n",
      "{'code': -32602, 'message': 'Pending transaction'} (Json rpc error), Retrying in 2 seconds...\n",
      "{'txHash': '0x02253f949652d828017881c6302b944f0039bfa09bf5964fd908f0902e514640', 'blockHeight': 13622636, 'blockHash': '0xd00b447843869e1f126ecb3185dc23d87939c366506de29b4402dc1b62c38fc2', 'txIndex': 1, 'to': 'cx5dc583ebe474fd99db3962e32deff60c76328b61', 'stepUsed': 137680, 'stepPrice': 10000000000, 'cumulativeStepUsed': 137680, 'eventLogs': [], 'logsBloom': b'\\x00\\x00\\x00\\x00\\x00\\x00\\x00\\x00\\x00\\x00\\x00\\x00\\x00\\x00\\x00\\x00\\x00\\x00\\x00\\x00\\x00\\x00\\x00\\x00\\x00\\x00\\x00\\x00\\x00\\x00\\x00\\x00\\x00\\x00\\x00\\x00\\x00\\x00\\x00\\x00\\x00\\x00\\x00\\x00\\x00\\x00\\x00\\x00\\x00\\x00\\x00\\x00\\x00\\x00\\x00\\x00\\x00\\x00\\x00\\x00\\x00\\x00\\x00\\x00\\x00\\x00\\x00\\x00\\x00\\x00\\x00\\x00\\x00\\x00\\x00\\x00\\x00\\x00\\x00\\x00\\x00\\x00\\x00\\x00\\x00\\x00\\x00\\x00\\x00\\x00\\x00\\x00\\x00\\x00\\x00\\x00\\x00\\x00\\x00\\x00\\x00\\x00\\x00\\x00\\x00\\x00\\x00\\x00\\x00\\x00\\x00\\x00\\x00\\x00\\x00\\x00\\x00\\x00\\x00\\x00\\x00\\x00\\x00\\x00\\x00\\x00\\x00\\x00\\x00\\x00\\x00\\x00\\x00\\x00\\x00\\x00\\x00\\x00\\x00\\x00\\x00\\x00\\x00\\x00\\x00\\x00\\x00\\x00\\x00\\x00\\x00\\x00\\x00\\x00\\x00\\x00\\x00\\x00\\x00\\x00\\x00\\x00\\x00\\x00\\x00\\x00\\x00\\x00\\x00\\x00\\x00\\x00\\x00\\x00\\x00\\x00\\x00\\x00\\x00\\x00\\x00\\x00\\x00\\x00\\x00\\x00\\x00\\x00\\x00\\x00\\x00\\x00\\x00\\x00\\x00\\x00\\x00\\x00\\x00\\x00\\x00\\x00\\x00\\x00\\x00\\x00\\x00\\x00\\x00\\x00\\x00\\x00\\x00\\x00\\x00\\x00\\x00\\x00\\x00\\x00\\x00\\x00\\x00\\x00\\x00\\x00\\x00\\x00\\x00\\x00\\x00\\x00\\x00\\x00\\x00\\x00\\x00\\x00\\x00\\x00\\x00\\x00\\x00\\x00\\x00\\x00\\x00\\x00\\x00\\x00\\x00\\x00\\x00\\x00\\x00\\x00', 'status': 1}\n"
     ]
    }
   ],
   "source": [
    "settings_ommToken =[{'contract': 'ommToken', 'method': 'setAdmin','params': {'_admin':contracts['rewards']}},\n",
    "#                     {'contract':  'ommToken', 'method': 'setDelegation','params': {'_address':contracts['delegation']}},\n",
    "                    {'contract':  'ommToken', 'method': 'setRewards','params': {'_address':contracts['rewards']}},\n",
    "#                     {'contract':  'ommToken', 'method': 'setMinimumStake','params': {'_min':100 * 10**18}},\n",
    "#                     {'contract':  'ommToken', 'method': 'setUnstakingPeriod','params': {'_time': 120}}\n",
    "                   ]\n",
    "for sett in settings_ommToken:\n",
    "    print(f'\\n')\n",
    "    print(f'Calling {sett[\"method\"]}, with parameters {sett[\"params\"]} on the {sett[\"contract\"]} contract.')\n",
    "    transaction = CallTransactionBuilder()\\\n",
    "        .from_(deployer_wallet.get_address())\\\n",
    "        .to(contracts[sett['contract']])\\\n",
    "        .value(0)\\\n",
    "        .step_limit(10000000)\\\n",
    "        .nid(NID)\\\n",
    "        .nonce(100)\\\n",
    "        .method(sett['method'])\\\n",
    "        .params(sett['params'])\\\n",
    "        .build()\n",
    "    signed_transaction = SignedTransaction(transaction, deployer_wallet)\n",
    "    tx_hash = icon_service.send_transaction(signed_transaction)\n",
    "    \n",
    "    print(get_tx_result(tx_hash))"
   ]
  },
  {
   "cell_type": "code",
   "execution_count": 20,
   "metadata": {
    "tags": []
   },
   "outputs": [
    {
     "name": "stdout",
     "output_type": "stream",
     "text": [
      "\n",
      "\n",
      "Calling setSnapshot, with parameters {'_address': 'cx837b298e3e5aae24b7ebcc093f168414c3babcb3'} on the lendingPoolCore contract.\n"
     ]
    },
    {
     "name": "stderr",
     "output_type": "stream",
     "text": [
      "Raised JSONRPCException while returning the custom response. Error message: {'code': -32602, 'message': 'Pending transaction'}\n"
     ]
    },
    {
     "name": "stdout",
     "output_type": "stream",
     "text": [
      "{'code': -32602, 'message': 'Pending transaction'} (Json rpc error), Retrying in 1 seconds...\n"
     ]
    },
    {
     "name": "stderr",
     "output_type": "stream",
     "text": [
      "Raised JSONRPCException while returning the custom response. Error message: {'code': -32602, 'message': 'Pending transaction'}\n"
     ]
    },
    {
     "name": "stdout",
     "output_type": "stream",
     "text": [
      "{'code': -32602, 'message': 'Pending transaction'} (Json rpc error), Retrying in 2 seconds...\n"
     ]
    },
    {
     "name": "stderr",
     "output_type": "stream",
     "text": [
      "Raised JSONRPCException while returning the custom response. Error message: {'code': -32602, 'message': 'Pending transaction'}\n"
     ]
    },
    {
     "name": "stdout",
     "output_type": "stream",
     "text": [
      "{'code': -32602, 'message': 'Pending transaction'} (Json rpc error), Retrying in 4 seconds...\n",
      "1\n"
     ]
    }
   ],
   "source": [
    "settings_lendingPoolCore =[{'contract': 'lendingPoolCore', 'method': 'setSnapshot','params': {'_address':contracts['snapshot']}},\n",
    "#                            {'contract': 'lendingPoolCore', 'method': 'setLendingPool','params': {'_address':contracts['lendingPool']}},\n",
    "#                             {'contract': 'lendingPoolCore', 'method': 'setDaoFund','params': {'_address':contracts['daoFund']}},\n",
    "#                             {'contract': 'lendingPoolCore', 'method': 'setPriceOracle','params': {'_address':contracts['priceOracle']}},\n",
    "#                             {'contract': 'lendingPoolCore', 'method': 'setLiquidationManager','params': {'_address':contracts['liquidationManager']}},\n",
    "#                             {'contract': 'lendingPoolCore', 'method': 'setDelegation','params': {'_address':contracts['delegation']}},\n",
    "#                             {'contract': 'lendingPoolCore', 'method': 'setSnapshot','params': {'_address':contracts['snapshot']}},\n",
    "#                             {'contract': 'lendingPoolCore', 'method': 'setStaking','params': {'_address':contracts['staking']}},\n",
    "#                             {'contract': 'lendingPoolCore', 'method': 'set_id','params': {'_value':'1'}},\n",
    "#                             {'contract': 'lendingPoolCore', 'method': 'setSymbol', 'params':{'_reserve': contracts['usdb'],'_sym':\"USDb\"}},\n",
    "#                             {'contract': 'lendingPoolCore', 'method': 'setSymbol', 'params':{'_reserve': contracts['sicx'],'_sym':\"ICX\"}},\n",
    "#                             {'contract': 'lendingPoolCore', 'method': 'setSymbol', 'params':{'_reserve': contracts['iusdc'],'_sym':\"USDC\"}}\n",
    "                          ]\n",
    "for sett in settings_lendingPoolCore:\n",
    "    print(f'\\n')\n",
    "    print(f'Calling {sett[\"method\"]}, with parameters {sett[\"params\"]} on the {sett[\"contract\"]} contract.')\n",
    "    transaction = CallTransactionBuilder()\\\n",
    "        .from_(deployer_wallet.get_address())\\\n",
    "        .to(\"cx2d844c9613b5f864f5dace7fed82997c4c62ef01\")\\\n",
    "        .value(0)\\\n",
    "        .step_limit(10000000)\\\n",
    "        .nid(NID)\\\n",
    "        .nonce(100)\\\n",
    "        .method(sett['method'])\\\n",
    "        .params(sett['params'])\\\n",
    "        .build()\n",
    "    signed_transaction = SignedTransaction(transaction, deployer_wallet)\n",
    "    tx_hash = icon_service.send_transaction(signed_transaction)\n",
    "    tx_hash\n",
    "    print(get_tx_result(tx_hash)['status'])"
   ]
  },
  {
   "cell_type": "code",
   "execution_count": 34,
   "metadata": {
    "tags": []
   },
   "outputs": [
    {
     "name": "stdout",
     "output_type": "stream",
     "text": [
      "\n",
      "\n",
      "Calling setBandOracle, with parameters {'_address': 'cx61a36e5d10412e03c907a507d1e8c6c3856d9964'} on the priceOracle contract.\n",
      "Raised JSONRPCException while returning the custom response. Error message: {'code': -32602, 'message': 'Pending transaction'}\n",
      "{'code': -32602, 'message': 'Pending transaction'} (Json rpc error), Retrying in 1 seconds...\n",
      "Raised JSONRPCException while returning the custom response. Error message: {'code': -32602, 'message': 'Pending transaction'}\n",
      "{'code': -32602, 'message': 'Pending transaction'} (Json rpc error), Retrying in 2 seconds...\n",
      "1\n",
      "\n",
      "\n",
      "Calling toggleOraclePriceBool, with parameters {} on the priceOracle contract.\n",
      "Raised JSONRPCException while returning the custom response. Error message: {'code': -32602, 'message': 'Pending transaction'}\n",
      "{'code': -32602, 'message': 'Pending transaction'} (Json rpc error), Retrying in 1 seconds...\n",
      "Raised JSONRPCException while returning the custom response. Error message: {'code': -32602, 'message': 'Pending transaction'}\n",
      "{'code': -32602, 'message': 'Pending transaction'} (Json rpc error), Retrying in 2 seconds...\n",
      "1\n"
     ]
    }
   ],
   "source": [
    "settings_priceOracle =[{'contract':  'priceOracle', 'method': 'setBandOracle','params': {'_address':\"cx61a36e5d10412e03c907a507d1e8c6c3856d9964\"}},\n",
    "                       {'contract':  'priceOracle', 'method': 'toggleOraclePriceBool','params':{}}]\n",
    "for sett in settings_priceOracle:\n",
    "    print(f'\\n')\n",
    "    print(f'Calling {sett[\"method\"]}, with parameters {sett[\"params\"]} on the {sett[\"contract\"]} contract.')\n",
    "    transaction = CallTransactionBuilder()\\\n",
    "        .from_(deployer_wallet.get_address())\\\n",
    "        .to(contracts[sett['contract']])\\\n",
    "        .value(0)\\\n",
    "        .step_limit(10000000)\\\n",
    "        .nid(NID)\\\n",
    "        .nonce(100)\\\n",
    "        .method(sett['method'])\\\n",
    "        .params(sett['params'])\\\n",
    "        .build()\n",
    "    signed_transaction = SignedTransaction(transaction, deployer_wallet)\n",
    "    tx_hash = icon_service.send_transaction(signed_transaction)\n",
    "    tx_hash\n",
    "    print(get_tx_result(tx_hash)['status'])"
   ]
  },
  {
   "cell_type": "code",
   "execution_count": 56,
   "metadata": {
    "tags": []
   },
   "outputs": [
    {
     "name": "stdout",
     "output_type": "stream",
     "text": [
      "{'addressProvider': 'cxef67d9fed0a19be8a5b42c5c19ecb7027e30552f',\n",
      " 'daoFund': 'cxf88d1358551774b37fb37e5f1ebd20645060b01c',\n",
      " 'delegation': 'cx0ac8854f9fbe0126e830386046ed26bbb6769bf1',\n",
      " 'feeProvider': 'cx97397bca3097b3d79884fb77158d7abc4cb2f960',\n",
      " 'governance': 'cxcebda5e0deb98c46e6562e487648acffc446eea1',\n",
      " 'iusdc': 'cx65f639254090820361da483df233f6d0e69af9b7',\n",
      " 'lendingPool': 'cx0287ab61ae0bec1af11ccb108257b7d292422d39',\n",
      " 'lendingPoolCore': 'cx4d5ce0111659955ec88bdf31b550eaae1869ceb0',\n",
      " 'lendingPoolDataProvider': 'cx5b611522f541f77dfeab6a8f874e0e87db320a78',\n",
      " 'liquidationManager': 'cxef8e0e57e50c5986e9affc17fb7c490b7bd06924',\n",
      " 'oICX': 'cx04e21bb3d2e09b0e753af2dff0eeddb011a4be75',\n",
      " 'oIUSDC': 'cx42a4734508068d0f8edd7ef0778b515788b3f3b8',\n",
      " 'oToken': 'cx502b1186a510a839682b449066adb6a1001c1f86',\n",
      " 'oUSDb': 'cx47549e03024584dca6eeb26b7de8f189bf2b6ff9',\n",
      " 'ommToken': 'cx5dc583ebe474fd99db3962e32deff60c76328b61',\n",
      " 'priceOracle': 'cx4e592739a3cd1bbd9f826b41518038fa2e6a35cb',\n",
      " 'rewards': 'cx1c1d88f6039ebb04572d194d52e9b190f37514d6',\n",
      " 'sample_token': 'cx1944afdf75860b703b48c0960b19b212a8c3ae41',\n",
      " 'sicx': 'cxb7eda227d9ed9c6fc2a74aa5dd7e9a3913f6c281',\n",
      " 'snapshot': 'cx835f7c1c4d97a6f2f2904da573cc8c3dd8ae9f9e',\n",
      " 'staking': 'cxadd9557a07d4aab925dd04b7a6da4ea1d67bef9c',\n",
      " 'usdb': 'cxaa068556df80f9917ef146e889f0b2c4b13ab634',\n",
      " 'worker_token': 'cx7641d36dc582ae29f1f9d9c97b825a1c75a50f20'}\n"
     ]
    }
   ],
   "source": [
    "pprint(contracts)"
   ]
  },
  {
   "cell_type": "code",
   "execution_count": 16,
   "metadata": {
    "tags": []
   },
   "outputs": [
    {
     "name": "stdout",
     "output_type": "stream",
     "text": [
      "\n",
      "\n",
      "Calling setAdmin, with parameters {'_address': 'cx2d844c9613b5f864f5dace7fed82997c4c62ef01'} on the snapshot contract.\n"
     ]
    },
    {
     "name": "stderr",
     "output_type": "stream",
     "text": [
      "Raised JSONRPCException while returning the custom response. Error message: {'code': -32602, 'message': 'Pending transaction'}\n"
     ]
    },
    {
     "name": "stdout",
     "output_type": "stream",
     "text": [
      "{'code': -32602, 'message': 'Pending transaction'} (Json rpc error), Retrying in 1 seconds...\n"
     ]
    },
    {
     "name": "stderr",
     "output_type": "stream",
     "text": [
      "Raised JSONRPCException while returning the custom response. Error message: {'code': -32602, 'message': 'Pending transaction'}\n"
     ]
    },
    {
     "name": "stdout",
     "output_type": "stream",
     "text": [
      "{'code': -32602, 'message': 'Pending transaction'} (Json rpc error), Retrying in 2 seconds...\n",
      "1\n",
      "\n",
      "\n",
      "Calling setGovernance, with parameters {'_address': 'cx235b492f8393f34cc59abb2b2cb39a7c915d4727'} on the snapshot contract.\n"
     ]
    },
    {
     "name": "stderr",
     "output_type": "stream",
     "text": [
      "Raised JSONRPCException while returning the custom response. Error message: {'code': -32602, 'message': 'Pending transaction'}\n"
     ]
    },
    {
     "name": "stdout",
     "output_type": "stream",
     "text": [
      "{'code': -32602, 'message': 'Pending transaction'} (Json rpc error), Retrying in 1 seconds...\n"
     ]
    },
    {
     "name": "stderr",
     "output_type": "stream",
     "text": [
      "Raised JSONRPCException while returning the custom response. Error message: {'code': -32602, 'message': 'Pending transaction'}\n"
     ]
    },
    {
     "name": "stdout",
     "output_type": "stream",
     "text": [
      "{'code': -32602, 'message': 'Pending transaction'} (Json rpc error), Retrying in 2 seconds...\n",
      "1\n"
     ]
    }
   ],
   "source": [
    "settings_snapshot =[{'contract': 'snapshot', 'method': 'setAdmin','params': {'_address':'cx2d844c9613b5f864f5dace7fed82997c4c62ef01'}},\n",
    "                    {'contract': 'snapshot', 'method': 'setGovernance','params': {'_address':contracts['governance']}}]\n",
    "for sett in settings_snapshot:\n",
    "    print(f'\\n')\n",
    "    print(f'Calling {sett[\"method\"]}, with parameters {sett[\"params\"]} on the {sett[\"contract\"]} contract.')\n",
    "    transaction = CallTransactionBuilder()\\\n",
    "        .from_(deployer_wallet.get_address())\\\n",
    "        .to(contracts[sett['contract']])\\\n",
    "        .value(0)\\\n",
    "        .step_limit(10000000)\\\n",
    "        .nid(NID)\\\n",
    "        .nonce(100)\\\n",
    "        .method(sett['method'])\\\n",
    "        .params(sett['params'])\\\n",
    "        .build()\n",
    "    signed_transaction = SignedTransaction(transaction, deployer_wallet)\n",
    "    tx_hash = icon_service.send_transaction(signed_transaction)\n",
    "    tx_hash\n",
    "    print(get_tx_result(tx_hash)['status'])"
   ]
  },
  {
   "cell_type": "code",
   "execution_count": 8,
   "metadata": {},
   "outputs": [
    {
     "name": "stdout",
     "output_type": "stream",
     "text": [
      "{'rewards': 'cx11126e153cea904501af4997398021019b81e405',\n",
      " 'snapshot': 'cx837b298e3e5aae24b7ebcc093f168414c3babcb3'}\n"
     ]
    }
   ],
   "source": [
    "pprint(contracts)"
   ]
  },
  {
   "cell_type": "code",
   "execution_count": 15,
   "metadata": {
    "tags": []
   },
   "outputs": [
    {
     "name": "stdout",
     "output_type": "stream",
     "text": [
      "\n",
      "\n",
      "Calling setLendingPool, with parameters {'_address': 'cx0be0870a036ef7a08997bd12e1cd0bfed2dd5d85'} on the rewards contract.\n"
     ]
    },
    {
     "name": "stderr",
     "output_type": "stream",
     "text": [
      "Raised JSONRPCException while returning the custom response. Error message: {'code': -32602, 'message': 'Pending transaction'}\n"
     ]
    },
    {
     "name": "stdout",
     "output_type": "stream",
     "text": [
      "{'code': -32602, 'message': 'Pending transaction'} (Json rpc error), Retrying in 1 seconds...\n"
     ]
    },
    {
     "name": "stderr",
     "output_type": "stream",
     "text": [
      "Raised JSONRPCException while returning the custom response. Error message: {'code': -32602, 'message': 'Pending transaction'}\n"
     ]
    },
    {
     "name": "stdout",
     "output_type": "stream",
     "text": [
      "{'code': -32602, 'message': 'Pending transaction'} (Json rpc error), Retrying in 2 seconds...\n",
      "1\n",
      "\n",
      "\n",
      "Calling setOmm, with parameters {'_address': 'cxa96491850d5dd69efa5d64afa9138fd4a66cd348'} on the rewards contract.\n"
     ]
    },
    {
     "name": "stderr",
     "output_type": "stream",
     "text": [
      "Raised JSONRPCException while returning the custom response. Error message: {'code': -32602, 'message': 'Pending transaction'}\n"
     ]
    },
    {
     "name": "stdout",
     "output_type": "stream",
     "text": [
      "{'code': -32602, 'message': 'Pending transaction'} (Json rpc error), Retrying in 1 seconds...\n"
     ]
    },
    {
     "name": "stderr",
     "output_type": "stream",
     "text": [
      "Raised JSONRPCException while returning the custom response. Error message: {'code': -32602, 'message': 'Pending transaction'}\n"
     ]
    },
    {
     "name": "stdout",
     "output_type": "stream",
     "text": [
      "{'code': -32602, 'message': 'Pending transaction'} (Json rpc error), Retrying in 2 seconds...\n",
      "1\n",
      "\n",
      "\n",
      "Calling setLendingPoolCore, with parameters {'_address': 'cx2d844c9613b5f864f5dace7fed82997c4c62ef01'} on the rewards contract.\n"
     ]
    },
    {
     "name": "stderr",
     "output_type": "stream",
     "text": [
      "Raised JSONRPCException while returning the custom response. Error message: {'code': -32602, 'message': 'Pending transaction'}\n"
     ]
    },
    {
     "name": "stdout",
     "output_type": "stream",
     "text": [
      "{'code': -32602, 'message': 'Pending transaction'} (Json rpc error), Retrying in 1 seconds...\n"
     ]
    },
    {
     "name": "stderr",
     "output_type": "stream",
     "text": [
      "Raised JSONRPCException while returning the custom response. Error message: {'code': -32602, 'message': 'Pending transaction'}\n"
     ]
    },
    {
     "name": "stdout",
     "output_type": "stream",
     "text": [
      "{'code': -32602, 'message': 'Pending transaction'} (Json rpc error), Retrying in 2 seconds...\n",
      "1\n",
      "\n",
      "\n",
      "Calling setSnapshot, with parameters {'_address': 'cx837b298e3e5aae24b7ebcc093f168414c3babcb3'} on the rewards contract.\n"
     ]
    },
    {
     "name": "stderr",
     "output_type": "stream",
     "text": [
      "Raised JSONRPCException while returning the custom response. Error message: {'code': -32602, 'message': 'Pending transaction'}\n"
     ]
    },
    {
     "name": "stdout",
     "output_type": "stream",
     "text": [
      "{'code': -32602, 'message': 'Pending transaction'} (Json rpc error), Retrying in 1 seconds...\n"
     ]
    },
    {
     "name": "stderr",
     "output_type": "stream",
     "text": [
      "Raised JSONRPCException while returning the custom response. Error message: {'code': -32602, 'message': 'Pending transaction'}\n"
     ]
    },
    {
     "name": "stdout",
     "output_type": "stream",
     "text": [
      "{'code': -32602, 'message': 'Pending transaction'} (Json rpc error), Retrying in 2 seconds...\n",
      "1\n",
      "\n",
      "\n",
      "Calling setWorkerToken, with parameters {'_address': 'cxd4e8a5dd852439ccdec73a2b4cd973148f09775d'} on the rewards contract.\n"
     ]
    },
    {
     "name": "stderr",
     "output_type": "stream",
     "text": [
      "Raised JSONRPCException while returning the custom response. Error message: {'code': -32602, 'message': 'Pending transaction'}\n"
     ]
    },
    {
     "name": "stdout",
     "output_type": "stream",
     "text": [
      "{'code': -32602, 'message': 'Pending transaction'} (Json rpc error), Retrying in 1 seconds...\n"
     ]
    },
    {
     "name": "stderr",
     "output_type": "stream",
     "text": [
      "Raised JSONRPCException while returning the custom response. Error message: {'code': -32602, 'message': 'Pending transaction'}\n"
     ]
    },
    {
     "name": "stdout",
     "output_type": "stream",
     "text": [
      "{'code': -32602, 'message': 'Pending transaction'} (Json rpc error), Retrying in 2 seconds...\n",
      "1\n",
      "\n",
      "\n",
      "Calling setAdmin, with parameters {'_address': 'cx235b492f8393f34cc59abb2b2cb39a7c915d4727'} on the rewards contract.\n"
     ]
    },
    {
     "name": "stderr",
     "output_type": "stream",
     "text": [
      "Raised JSONRPCException while returning the custom response. Error message: {'code': -32602, 'message': 'Pending transaction'}\n"
     ]
    },
    {
     "name": "stdout",
     "output_type": "stream",
     "text": [
      "{'code': -32602, 'message': 'Pending transaction'} (Json rpc error), Retrying in 1 seconds...\n"
     ]
    },
    {
     "name": "stderr",
     "output_type": "stream",
     "text": [
      "Raised JSONRPCException while returning the custom response. Error message: {'code': -32602, 'message': 'Pending transaction'}\n"
     ]
    },
    {
     "name": "stdout",
     "output_type": "stream",
     "text": [
      "{'code': -32602, 'message': 'Pending transaction'} (Json rpc error), Retrying in 2 seconds...\n",
      "1\n",
      "\n",
      "\n",
      "Calling setDaoFund, with parameters {'_address': 'cxb2e669fbb8b94f2a4525345f22e466933b8d2075'} on the rewards contract.\n"
     ]
    },
    {
     "name": "stderr",
     "output_type": "stream",
     "text": [
      "Raised JSONRPCException while returning the custom response. Error message: {'code': -32602, 'message': 'Pending transaction'}\n"
     ]
    },
    {
     "name": "stdout",
     "output_type": "stream",
     "text": [
      "{'code': -32602, 'message': 'Pending transaction'} (Json rpc error), Retrying in 1 seconds...\n"
     ]
    },
    {
     "name": "stderr",
     "output_type": "stream",
     "text": [
      "Raised JSONRPCException while returning the custom response. Error message: {'code': -32602, 'message': 'Pending transaction'}\n"
     ]
    },
    {
     "name": "stdout",
     "output_type": "stream",
     "text": [
      "{'code': -32602, 'message': 'Pending transaction'} (Json rpc error), Retrying in 2 seconds...\n",
      "1\n",
      "\n",
      "\n",
      "Calling setLpToken, with parameters {'_address': 'cx291dacbb875a94b364194a5febaac4e6318681f7'} on the rewards contract.\n"
     ]
    },
    {
     "name": "stderr",
     "output_type": "stream",
     "text": [
      "Raised JSONRPCException while returning the custom response. Error message: {'code': -32602, 'message': 'Pending transaction'}\n"
     ]
    },
    {
     "name": "stdout",
     "output_type": "stream",
     "text": [
      "{'code': -32602, 'message': 'Pending transaction'} (Json rpc error), Retrying in 1 seconds...\n"
     ]
    },
    {
     "name": "stderr",
     "output_type": "stream",
     "text": [
      "Raised JSONRPCException while returning the custom response. Error message: {'code': -32602, 'message': 'Pending transaction'}\n"
     ]
    },
    {
     "name": "stdout",
     "output_type": "stream",
     "text": [
      "{'code': -32602, 'message': 'Pending transaction'} (Json rpc error), Retrying in 2 seconds...\n",
      "1\n"
     ]
    }
   ],
   "source": [
    "settings_rewards=[ {'contract': 'rewards', 'method': 'setLendingPool','params': {'_address':'cx0be0870a036ef7a08997bd12e1cd0bfed2dd5d85'}},\n",
    "            {'contract': 'rewards', 'method': 'setOmm','params': {'_address':'cxa96491850d5dd69efa5d64afa9138fd4a66cd348'}},\n",
    "            {'contract': 'rewards', 'method': 'setLendingPoolCore','params': {'_address':'cx2d844c9613b5f864f5dace7fed82997c4c62ef01'}},\n",
    "            {'contract': 'rewards', 'method': 'setSnapshot','params': {'_address':contracts['snapshot']}},\n",
    "            {'contract': 'rewards', 'method': 'setWorkerToken','params': {'_address':'cxd4e8a5dd852439ccdec73a2b4cd973148f09775d'}},\n",
    "            {'contract': 'rewards', 'method': 'setAdmin','params': {'_address':contracts['governance']}},\n",
    "            {'contract': 'rewards', 'method': 'setDaoFund','params': {'_address':\"cxb2e669fbb8b94f2a4525345f22e466933b8d2075\"}},\n",
    "            {'contract': 'rewards', 'method': 'setLpToken','params': {'_address':\"cx291dacbb875a94b364194a5febaac4e6318681f7\"}},\n",
    "                  \n",
    "            ]\n",
    "for sett in settings_rewards:\n",
    "    print(f'\\n')\n",
    "    print(f'Calling {sett[\"method\"]}, with parameters {sett[\"params\"]} on the {sett[\"contract\"]} contract.')\n",
    "    transaction = CallTransactionBuilder()\\\n",
    "        .from_(deployer_wallet.get_address())\\\n",
    "        .to(contracts[sett['contract']])\\\n",
    "        .value(0)\\\n",
    "        .step_limit(10000000)\\\n",
    "        .nid(NID)\\\n",
    "        .nonce(100)\\\n",
    "        .method(sett['method'])\\\n",
    "        .params(sett['params'])\\\n",
    "        .build()\n",
    "    signed_transaction = SignedTransaction(transaction, deployer_wallet)\n",
    "    tx_hash = icon_service.send_transaction(signed_transaction)\n",
    "    tx_hash\n",
    "    print(get_tx_result(tx_hash)['status'])"
   ]
  },
  {
   "cell_type": "code",
   "execution_count": 17,
   "metadata": {
    "tags": []
   },
   "outputs": [
    {
     "name": "stdout",
     "output_type": "stream",
     "text": [
      "\n",
      "\n",
      "Calling setSnapshot, with parameters {'_address': 'cx837b298e3e5aae24b7ebcc093f168414c3babcb3'} on the governance contract.\n"
     ]
    },
    {
     "name": "stderr",
     "output_type": "stream",
     "text": [
      "Raised JSONRPCException while returning the custom response. Error message: {'code': -32602, 'message': 'Pending transaction'}\n"
     ]
    },
    {
     "name": "stdout",
     "output_type": "stream",
     "text": [
      "{'code': -32602, 'message': 'Pending transaction'} (Json rpc error), Retrying in 1 seconds...\n"
     ]
    },
    {
     "name": "stderr",
     "output_type": "stream",
     "text": [
      "Raised JSONRPCException while returning the custom response. Error message: {'code': -32602, 'message': 'Pending transaction'}\n"
     ]
    },
    {
     "name": "stdout",
     "output_type": "stream",
     "text": [
      "{'code': -32602, 'message': 'Pending transaction'} (Json rpc error), Retrying in 2 seconds...\n",
      "{'txHash': '0x6f9070abd249d3f59825b7f9bbaa20a029875c886d63160e802167a1207e29a1', 'blockHeight': 14147921, 'blockHash': '0xd31c9d5313d9faaafd78a7a99a4d117ce699748b2ed803244dec56caa4ee5c6c', 'txIndex': 1, 'to': 'cx235b492f8393f34cc59abb2b2cb39a7c915d4727', 'stepUsed': 149920, 'stepPrice': 10000000000, 'cumulativeStepUsed': 149920, 'eventLogs': [], 'logsBloom': b'\\x00\\x00\\x00\\x00\\x00\\x00\\x00\\x00\\x00\\x00\\x00\\x00\\x00\\x00\\x00\\x00\\x00\\x00\\x00\\x00\\x00\\x00\\x00\\x00\\x00\\x00\\x00\\x00\\x00\\x00\\x00\\x00\\x00\\x00\\x00\\x00\\x00\\x00\\x00\\x00\\x00\\x00\\x00\\x00\\x00\\x00\\x00\\x00\\x00\\x00\\x00\\x00\\x00\\x00\\x00\\x00\\x00\\x00\\x00\\x00\\x00\\x00\\x00\\x00\\x00\\x00\\x00\\x00\\x00\\x00\\x00\\x00\\x00\\x00\\x00\\x00\\x00\\x00\\x00\\x00\\x00\\x00\\x00\\x00\\x00\\x00\\x00\\x00\\x00\\x00\\x00\\x00\\x00\\x00\\x00\\x00\\x00\\x00\\x00\\x00\\x00\\x00\\x00\\x00\\x00\\x00\\x00\\x00\\x00\\x00\\x00\\x00\\x00\\x00\\x00\\x00\\x00\\x00\\x00\\x00\\x00\\x00\\x00\\x00\\x00\\x00\\x00\\x00\\x00\\x00\\x00\\x00\\x00\\x00\\x00\\x00\\x00\\x00\\x00\\x00\\x00\\x00\\x00\\x00\\x00\\x00\\x00\\x00\\x00\\x00\\x00\\x00\\x00\\x00\\x00\\x00\\x00\\x00\\x00\\x00\\x00\\x00\\x00\\x00\\x00\\x00\\x00\\x00\\x00\\x00\\x00\\x00\\x00\\x00\\x00\\x00\\x00\\x00\\x00\\x00\\x00\\x00\\x00\\x00\\x00\\x00\\x00\\x00\\x00\\x00\\x00\\x00\\x00\\x00\\x00\\x00\\x00\\x00\\x00\\x00\\x00\\x00\\x00\\x00\\x00\\x00\\x00\\x00\\x00\\x00\\x00\\x00\\x00\\x00\\x00\\x00\\x00\\x00\\x00\\x00\\x00\\x00\\x00\\x00\\x00\\x00\\x00\\x00\\x00\\x00\\x00\\x00\\x00\\x00\\x00\\x00\\x00\\x00\\x00\\x00\\x00\\x00\\x00\\x00\\x00\\x00\\x00\\x00\\x00\\x00\\x00\\x00\\x00\\x00\\x00\\x00', 'status': 1}\n",
      "\n",
      "\n",
      "Calling setRewards, with parameters {'_address': 'cx11126e153cea904501af4997398021019b81e405'} on the governance contract.\n"
     ]
    },
    {
     "name": "stderr",
     "output_type": "stream",
     "text": [
      "Raised JSONRPCException while returning the custom response. Error message: {'code': -32602, 'message': 'Pending transaction'}\n"
     ]
    },
    {
     "name": "stdout",
     "output_type": "stream",
     "text": [
      "{'code': -32602, 'message': 'Pending transaction'} (Json rpc error), Retrying in 1 seconds...\n"
     ]
    },
    {
     "name": "stderr",
     "output_type": "stream",
     "text": [
      "Raised JSONRPCException while returning the custom response. Error message: {'code': -32602, 'message': 'Pending transaction'}\n"
     ]
    },
    {
     "name": "stdout",
     "output_type": "stream",
     "text": [
      "{'code': -32602, 'message': 'Pending transaction'} (Json rpc error), Retrying in 2 seconds...\n",
      "{'txHash': '0x8720f594e6e3e52d3851c8277681f61587927654fc57c164d1f9ee0d376345a6', 'blockHeight': 14147924, 'blockHash': '0xa65860a0fcf0e2ca3650d791014120bb66fea91eece56b95e40a1d8b28e4b280', 'txIndex': 1, 'to': 'cx235b492f8393f34cc59abb2b2cb39a7c915d4727', 'stepUsed': 149720, 'stepPrice': 10000000000, 'cumulativeStepUsed': 149720, 'eventLogs': [], 'logsBloom': b'\\x00\\x00\\x00\\x00\\x00\\x00\\x00\\x00\\x00\\x00\\x00\\x00\\x00\\x00\\x00\\x00\\x00\\x00\\x00\\x00\\x00\\x00\\x00\\x00\\x00\\x00\\x00\\x00\\x00\\x00\\x00\\x00\\x00\\x00\\x00\\x00\\x00\\x00\\x00\\x00\\x00\\x00\\x00\\x00\\x00\\x00\\x00\\x00\\x00\\x00\\x00\\x00\\x00\\x00\\x00\\x00\\x00\\x00\\x00\\x00\\x00\\x00\\x00\\x00\\x00\\x00\\x00\\x00\\x00\\x00\\x00\\x00\\x00\\x00\\x00\\x00\\x00\\x00\\x00\\x00\\x00\\x00\\x00\\x00\\x00\\x00\\x00\\x00\\x00\\x00\\x00\\x00\\x00\\x00\\x00\\x00\\x00\\x00\\x00\\x00\\x00\\x00\\x00\\x00\\x00\\x00\\x00\\x00\\x00\\x00\\x00\\x00\\x00\\x00\\x00\\x00\\x00\\x00\\x00\\x00\\x00\\x00\\x00\\x00\\x00\\x00\\x00\\x00\\x00\\x00\\x00\\x00\\x00\\x00\\x00\\x00\\x00\\x00\\x00\\x00\\x00\\x00\\x00\\x00\\x00\\x00\\x00\\x00\\x00\\x00\\x00\\x00\\x00\\x00\\x00\\x00\\x00\\x00\\x00\\x00\\x00\\x00\\x00\\x00\\x00\\x00\\x00\\x00\\x00\\x00\\x00\\x00\\x00\\x00\\x00\\x00\\x00\\x00\\x00\\x00\\x00\\x00\\x00\\x00\\x00\\x00\\x00\\x00\\x00\\x00\\x00\\x00\\x00\\x00\\x00\\x00\\x00\\x00\\x00\\x00\\x00\\x00\\x00\\x00\\x00\\x00\\x00\\x00\\x00\\x00\\x00\\x00\\x00\\x00\\x00\\x00\\x00\\x00\\x00\\x00\\x00\\x00\\x00\\x00\\x00\\x00\\x00\\x00\\x00\\x00\\x00\\x00\\x00\\x00\\x00\\x00\\x00\\x00\\x00\\x00\\x00\\x00\\x00\\x00\\x00\\x00\\x00\\x00\\x00\\x00\\x00\\x00\\x00\\x00\\x00\\x00', 'status': 1}\n",
      "\n",
      "\n",
      "Calling setStartTimestamp, with parameters {} on the governance contract.\n"
     ]
    },
    {
     "name": "stderr",
     "output_type": "stream",
     "text": [
      "Raised JSONRPCException while returning the custom response. Error message: {'code': -32602, 'message': 'Pending transaction'}\n"
     ]
    },
    {
     "name": "stdout",
     "output_type": "stream",
     "text": [
      "{'code': -32602, 'message': 'Pending transaction'} (Json rpc error), Retrying in 1 seconds...\n"
     ]
    },
    {
     "name": "stderr",
     "output_type": "stream",
     "text": [
      "Raised JSONRPCException while returning the custom response. Error message: {'code': -32602, 'message': 'Pending transaction'}\n"
     ]
    },
    {
     "name": "stdout",
     "output_type": "stream",
     "text": [
      "{'code': -32602, 'message': 'Pending transaction'} (Json rpc error), Retrying in 2 seconds...\n",
      "{'txHash': '0xaf702199a1828b2eb8226c84b0626add90fe8eef410834c0585102de50248341', 'blockHeight': 14147927, 'blockHash': '0xe96e644716d922ff2b44a72592edf4813e856dbb8436089ba314efb8c44d4229', 'txIndex': 1, 'to': 'cx235b492f8393f34cc59abb2b2cb39a7c915d4727', 'stepUsed': 185480, 'stepPrice': 10000000000, 'cumulativeStepUsed': 185480, 'eventLogs': [], 'logsBloom': b'\\x00\\x00\\x00\\x00\\x00\\x00\\x00\\x00\\x00\\x00\\x00\\x00\\x00\\x00\\x00\\x00\\x00\\x00\\x00\\x00\\x00\\x00\\x00\\x00\\x00\\x00\\x00\\x00\\x00\\x00\\x00\\x00\\x00\\x00\\x00\\x00\\x00\\x00\\x00\\x00\\x00\\x00\\x00\\x00\\x00\\x00\\x00\\x00\\x00\\x00\\x00\\x00\\x00\\x00\\x00\\x00\\x00\\x00\\x00\\x00\\x00\\x00\\x00\\x00\\x00\\x00\\x00\\x00\\x00\\x00\\x00\\x00\\x00\\x00\\x00\\x00\\x00\\x00\\x00\\x00\\x00\\x00\\x00\\x00\\x00\\x00\\x00\\x00\\x00\\x00\\x00\\x00\\x00\\x00\\x00\\x00\\x00\\x00\\x00\\x00\\x00\\x00\\x00\\x00\\x00\\x00\\x00\\x00\\x00\\x00\\x00\\x00\\x00\\x00\\x00\\x00\\x00\\x00\\x00\\x00\\x00\\x00\\x00\\x00\\x00\\x00\\x00\\x00\\x00\\x00\\x00\\x00\\x00\\x00\\x00\\x00\\x00\\x00\\x00\\x00\\x00\\x00\\x00\\x00\\x00\\x00\\x00\\x00\\x00\\x00\\x00\\x00\\x00\\x00\\x00\\x00\\x00\\x00\\x00\\x00\\x00\\x00\\x00\\x00\\x00\\x00\\x00\\x00\\x00\\x00\\x00\\x00\\x00\\x00\\x00\\x00\\x00\\x00\\x00\\x00\\x00\\x00\\x00\\x00\\x00\\x00\\x00\\x00\\x00\\x00\\x00\\x00\\x00\\x00\\x00\\x00\\x00\\x00\\x00\\x00\\x00\\x00\\x00\\x00\\x00\\x00\\x00\\x00\\x00\\x00\\x00\\x00\\x00\\x00\\x00\\x00\\x00\\x00\\x00\\x00\\x00\\x00\\x00\\x00\\x00\\x00\\x00\\x00\\x00\\x00\\x00\\x00\\x00\\x00\\x00\\x00\\x00\\x00\\x00\\x00\\x00\\x00\\x00\\x00\\x00\\x00\\x00\\x00\\x00\\x00\\x00\\x00\\x00\\x00\\x00\\x00', 'status': 1}\n"
     ]
    }
   ],
   "source": [
    "settings_governance =[{'contract': 'governance', 'method': 'setSnapshot','params': {'_address':contracts['snapshot']}},\n",
    "                      {'contract': 'governance', 'method': 'setRewards','params': {'_address':contracts['rewards']}},\n",
    "                      {'contract': 'governance', 'method': 'setStartTimestamp','params': {}}]\n",
    "for sett in settings_governance:\n",
    "    print(f'\\n')\n",
    "    print(f'Calling {sett[\"method\"]}, with parameters {sett[\"params\"]} on the {sett[\"contract\"]} contract.')\n",
    "    transaction = CallTransactionBuilder()\\\n",
    "        .from_(deployer_wallet.get_address())\\\n",
    "        .to(contracts[sett['contract']])\\\n",
    "        .value(0)\\\n",
    "        .step_limit(10000000)\\\n",
    "        .nid(NID)\\\n",
    "        .nonce(100)\\\n",
    "        .method(sett['method'])\\\n",
    "        .params(sett['params'])\\\n",
    "        .build()\n",
    "    signed_transaction = SignedTransaction(transaction, deployer_wallet)\n",
    "    tx_hash = icon_service.send_transaction(signed_transaction)\n",
    "    tx_hash\n",
    "    print(get_tx_result(tx_hash))"
   ]
  },
  {
   "cell_type": "code",
   "execution_count": null,
   "metadata": {},
   "outputs": [],
   "source": []
  },
  {
   "cell_type": "markdown",
   "metadata": {},
   "source": [
    "## Adding USDb reserve in LendingPoolCore\n",
    "\n"
   ]
  },
  {
   "cell_type": "code",
   "execution_count": 40,
   "metadata": {
    "tags": []
   },
   "outputs": [
    {
     "name": "stderr",
     "output_type": "stream",
     "text": [
      "Raised JSONRPCException while returning the custom response. Error message: {'code': -32602, 'message': 'Pending transaction'}\n",
      "{'code': -32602, 'message': 'Pending transaction'} (Json rpc error), Retrying in 1 seconds...\n",
      "Raised JSONRPCException while returning the custom response. Error message: {'code': -32602, 'message': 'Pending transaction'}\n",
      "{'code': -32602, 'message': 'Pending transaction'} (Json rpc error), Retrying in 2 seconds...\n"
     ]
    },
    {
     "data": {
      "text/plain": [
       "{'txHash': '0xee5584f47733020dfc44181e10d862fe569786ad17773fb63d882ebb12d06dd3',\n",
       " 'blockHeight': 13622907,\n",
       " 'blockHash': '0x0891e9a2da0c4ab21a47de9c11ace73caa27f1f73b89ff40fc9f4fab0a33564e',\n",
       " 'txIndex': 1,\n",
       " 'to': 'cx4d5ce0111659955ec88bdf31b550eaae1869ceb0',\n",
       " 'stepUsed': 277040,\n",
       " 'stepPrice': 10000000000,\n",
       " 'cumulativeStepUsed': 277040,\n",
       " 'eventLogs': [],\n",
       " 'logsBloom': b'\\x00\\x00\\x00\\x00\\x00\\x00\\x00\\x00\\x00\\x00\\x00\\x00\\x00\\x00\\x00\\x00\\x00\\x00\\x00\\x00\\x00\\x00\\x00\\x00\\x00\\x00\\x00\\x00\\x00\\x00\\x00\\x00\\x00\\x00\\x00\\x00\\x00\\x00\\x00\\x00\\x00\\x00\\x00\\x00\\x00\\x00\\x00\\x00\\x00\\x00\\x00\\x00\\x00\\x00\\x00\\x00\\x00\\x00\\x00\\x00\\x00\\x00\\x00\\x00\\x00\\x00\\x00\\x00\\x00\\x00\\x00\\x00\\x00\\x00\\x00\\x00\\x00\\x00\\x00\\x00\\x00\\x00\\x00\\x00\\x00\\x00\\x00\\x00\\x00\\x00\\x00\\x00\\x00\\x00\\x00\\x00\\x00\\x00\\x00\\x00\\x00\\x00\\x00\\x00\\x00\\x00\\x00\\x00\\x00\\x00\\x00\\x00\\x00\\x00\\x00\\x00\\x00\\x00\\x00\\x00\\x00\\x00\\x00\\x00\\x00\\x00\\x00\\x00\\x00\\x00\\x00\\x00\\x00\\x00\\x00\\x00\\x00\\x00\\x00\\x00\\x00\\x00\\x00\\x00\\x00\\x00\\x00\\x00\\x00\\x00\\x00\\x00\\x00\\x00\\x00\\x00\\x00\\x00\\x00\\x00\\x00\\x00\\x00\\x00\\x00\\x00\\x00\\x00\\x00\\x00\\x00\\x00\\x00\\x00\\x00\\x00\\x00\\x00\\x00\\x00\\x00\\x00\\x00\\x00\\x00\\x00\\x00\\x00\\x00\\x00\\x00\\x00\\x00\\x00\\x00\\x00\\x00\\x00\\x00\\x00\\x00\\x00\\x00\\x00\\x00\\x00\\x00\\x00\\x00\\x00\\x00\\x00\\x00\\x00\\x00\\x00\\x00\\x00\\x00\\x00\\x00\\x00\\x00\\x00\\x00\\x00\\x00\\x00\\x00\\x00\\x00\\x00\\x00\\x00\\x00\\x00\\x00\\x00\\x00\\x00\\x00\\x00\\x00\\x00\\x00\\x00\\x00\\x00\\x00\\x00\\x00\\x00\\x00\\x00\\x00\\x00',\n",
       " 'status': 1}"
      ]
     },
     "execution_count": 40,
     "metadata": {},
     "output_type": "execute_result"
    }
   ],
   "source": [
    "params ={\"_reserve\": {\"reserveAddress\":contracts['usdb'],\"oTokenAddress\":contracts['oUSDb'],\"totalBorrows\":\"0\",\"lastUpdateTimestamp\": \"0\",\"liquidityRate\":\"0\",\"borrowRate\":\"0\",\"liquidityCumulativeIndex\":f\"1{'0'*18}\",\"borrowCumulativeIndex\":f\"1{'0'*18}\",\"baseLTVasCollateral\":\"500000000000000000\",\"liquidationThreshold\":\"650000000000000000\",\"liquidationBonus\":\"100000000000000000\",\"decimals\":\"18\",\"borrowingEnabled\": \"1\",\"usageAsCollateralEnabled\":\"1\",\"isFreezed\":\"0\",\"isActive\":\"1\"} }\n",
    "call_transaction = CallTransactionBuilder()\\\n",
    "    .from_(deployer_wallet.get_address())\\\n",
    "    .to(contracts['lendingPoolCore']) \\\n",
    "    .nid(NID) \\\n",
    "    .nonce(100) \\\n",
    "    .method(\"addReserveData\")\\\n",
    "    .params(params)\\\n",
    "    .build()\n",
    "\n",
    "estimate_step = icon_service.estimate_step(call_transaction)\n",
    "step_limit = estimate_step + 100000\n",
    "# Returns the signed transaction object having a signature\n",
    "signed_transaction = SignedTransaction(call_transaction, deployer_wallet,step_limit)\n",
    "\n",
    "# Reads params to transfer to nodes\n",
    "# print(signed_transaction.signed_transaction_dict)\n",
    "\n",
    "# Sends the transaction\n",
    "tx_hash = icon_service.send_transaction(signed_transaction)\n",
    "\n",
    "get_tx_result(tx_hash)"
   ]
  },
  {
   "cell_type": "markdown",
   "metadata": {},
   "source": [
    "## Adding ICX reserve"
   ]
  },
  {
   "cell_type": "code",
   "execution_count": 41,
   "metadata": {
    "tags": []
   },
   "outputs": [
    {
     "name": "stderr",
     "output_type": "stream",
     "text": [
      "Raised JSONRPCException while returning the custom response. Error message: {'code': -32602, 'message': 'Pending transaction'}\n",
      "{'code': -32602, 'message': 'Pending transaction'} (Json rpc error), Retrying in 1 seconds...\n"
     ]
    },
    {
     "data": {
      "text/plain": [
       "{'txHash': '0xe01bdb411a6f92f5e9cdf17f6185242f59adf5232ee18df8cf56750b0195324f',\n",
       " 'blockHeight': 13622914,\n",
       " 'blockHash': '0x641c82cf03789bcd0a2dfdc5034c53b229cce8b4b7ad0706a959c2a456255462',\n",
       " 'txIndex': 1,\n",
       " 'to': 'cx4d5ce0111659955ec88bdf31b550eaae1869ceb0',\n",
       " 'stepUsed': 276800,\n",
       " 'stepPrice': 10000000000,\n",
       " 'cumulativeStepUsed': 276800,\n",
       " 'eventLogs': [],\n",
       " 'logsBloom': b'\\x00\\x00\\x00\\x00\\x00\\x00\\x00\\x00\\x00\\x00\\x00\\x00\\x00\\x00\\x00\\x00\\x00\\x00\\x00\\x00\\x00\\x00\\x00\\x00\\x00\\x00\\x00\\x00\\x00\\x00\\x00\\x00\\x00\\x00\\x00\\x00\\x00\\x00\\x00\\x00\\x00\\x00\\x00\\x00\\x00\\x00\\x00\\x00\\x00\\x00\\x00\\x00\\x00\\x00\\x00\\x00\\x00\\x00\\x00\\x00\\x00\\x00\\x00\\x00\\x00\\x00\\x00\\x00\\x00\\x00\\x00\\x00\\x00\\x00\\x00\\x00\\x00\\x00\\x00\\x00\\x00\\x00\\x00\\x00\\x00\\x00\\x00\\x00\\x00\\x00\\x00\\x00\\x00\\x00\\x00\\x00\\x00\\x00\\x00\\x00\\x00\\x00\\x00\\x00\\x00\\x00\\x00\\x00\\x00\\x00\\x00\\x00\\x00\\x00\\x00\\x00\\x00\\x00\\x00\\x00\\x00\\x00\\x00\\x00\\x00\\x00\\x00\\x00\\x00\\x00\\x00\\x00\\x00\\x00\\x00\\x00\\x00\\x00\\x00\\x00\\x00\\x00\\x00\\x00\\x00\\x00\\x00\\x00\\x00\\x00\\x00\\x00\\x00\\x00\\x00\\x00\\x00\\x00\\x00\\x00\\x00\\x00\\x00\\x00\\x00\\x00\\x00\\x00\\x00\\x00\\x00\\x00\\x00\\x00\\x00\\x00\\x00\\x00\\x00\\x00\\x00\\x00\\x00\\x00\\x00\\x00\\x00\\x00\\x00\\x00\\x00\\x00\\x00\\x00\\x00\\x00\\x00\\x00\\x00\\x00\\x00\\x00\\x00\\x00\\x00\\x00\\x00\\x00\\x00\\x00\\x00\\x00\\x00\\x00\\x00\\x00\\x00\\x00\\x00\\x00\\x00\\x00\\x00\\x00\\x00\\x00\\x00\\x00\\x00\\x00\\x00\\x00\\x00\\x00\\x00\\x00\\x00\\x00\\x00\\x00\\x00\\x00\\x00\\x00\\x00\\x00\\x00\\x00\\x00\\x00\\x00\\x00\\x00\\x00\\x00\\x00',\n",
       " 'status': 1}"
      ]
     },
     "execution_count": 41,
     "metadata": {},
     "output_type": "execute_result"
    }
   ],
   "source": [
    "params ={\"_reserve\": {\"reserveAddress\":contracts['sicx'],\"oTokenAddress\":contracts['oICX'],\"totalBorrows\":\"0\",\"lastUpdateTimestamp\": \"0\",\"liquidityRate\":\"0\",\"borrowRate\":\"0\",\"liquidityCumulativeIndex\":f\"1{'0'*18}\",\"borrowCumulativeIndex\":f\"1{'0'*18}\",\"baseLTVasCollateral\":\"500000000000000000\",\"liquidationThreshold\":\"650000000000000000\",\"liquidationBonus\":\"100000000000000000\",\"decimals\":\"18\",\"borrowingEnabled\": \"1\",\"usageAsCollateralEnabled\":\"1\",\"isFreezed\":\"0\",\"isActive\":\"1\"} }\n",
    "call_transaction = CallTransactionBuilder()\\\n",
    "    .from_(deployer_wallet.get_address())\\\n",
    "    .to(contracts['lendingPoolCore']) \\\n",
    "    .nid(NID) \\\n",
    "    .nonce(100) \\\n",
    "    .method(\"addReserveData\")\\\n",
    "    .params(params)\\\n",
    "    .build()\n",
    "\n",
    "estimate_step = icon_service.estimate_step(call_transaction)\n",
    "step_limit = estimate_step + 100000\n",
    "# Returns the signed transaction object having a signature\n",
    "signed_transaction = SignedTransaction(call_transaction, deployer_wallet,step_limit)\n",
    "\n",
    "# Reads params to transfer to nodes\n",
    "# print(signed_transaction.signed_transaction_dict)\n",
    "\n",
    "# Sends the transaction\n",
    "tx_hash = icon_service.send_transaction(signed_transaction)\n",
    "\n",
    "get_tx_result(tx_hash)"
   ]
  },
  {
   "cell_type": "markdown",
   "metadata": {},
   "source": [
    "## Adding IUSDC reserve"
   ]
  },
  {
   "cell_type": "code",
   "execution_count": 42,
   "metadata": {
    "tags": []
   },
   "outputs": [
    {
     "name": "stderr",
     "output_type": "stream",
     "text": [
      "Raised JSONRPCException while returning the custom response. Error message: {'code': -32602, 'message': 'Pending transaction'}\n",
      "{'code': -32602, 'message': 'Pending transaction'} (Json rpc error), Retrying in 1 seconds...\n",
      "Raised JSONRPCException while returning the custom response. Error message: {'code': -32602, 'message': 'Pending transaction'}\n",
      "{'code': -32602, 'message': 'Pending transaction'} (Json rpc error), Retrying in 2 seconds...\n"
     ]
    },
    {
     "data": {
      "text/plain": [
       "{'txHash': '0xf04b0b71b58f363c4a09b3ab3eec7d04e7a945576f4d3b27680c97881796acfd',\n",
       " 'blockHeight': 13622920,\n",
       " 'blockHash': '0x90be468a3249c369f959ab42bc748e98556f262ceff9b69c91ac0bb2b7391eb4',\n",
       " 'txIndex': 1,\n",
       " 'to': 'cx4d5ce0111659955ec88bdf31b550eaae1869ceb0',\n",
       " 'stepUsed': 276600,\n",
       " 'stepPrice': 10000000000,\n",
       " 'cumulativeStepUsed': 276600,\n",
       " 'eventLogs': [],\n",
       " 'logsBloom': b'\\x00\\x00\\x00\\x00\\x00\\x00\\x00\\x00\\x00\\x00\\x00\\x00\\x00\\x00\\x00\\x00\\x00\\x00\\x00\\x00\\x00\\x00\\x00\\x00\\x00\\x00\\x00\\x00\\x00\\x00\\x00\\x00\\x00\\x00\\x00\\x00\\x00\\x00\\x00\\x00\\x00\\x00\\x00\\x00\\x00\\x00\\x00\\x00\\x00\\x00\\x00\\x00\\x00\\x00\\x00\\x00\\x00\\x00\\x00\\x00\\x00\\x00\\x00\\x00\\x00\\x00\\x00\\x00\\x00\\x00\\x00\\x00\\x00\\x00\\x00\\x00\\x00\\x00\\x00\\x00\\x00\\x00\\x00\\x00\\x00\\x00\\x00\\x00\\x00\\x00\\x00\\x00\\x00\\x00\\x00\\x00\\x00\\x00\\x00\\x00\\x00\\x00\\x00\\x00\\x00\\x00\\x00\\x00\\x00\\x00\\x00\\x00\\x00\\x00\\x00\\x00\\x00\\x00\\x00\\x00\\x00\\x00\\x00\\x00\\x00\\x00\\x00\\x00\\x00\\x00\\x00\\x00\\x00\\x00\\x00\\x00\\x00\\x00\\x00\\x00\\x00\\x00\\x00\\x00\\x00\\x00\\x00\\x00\\x00\\x00\\x00\\x00\\x00\\x00\\x00\\x00\\x00\\x00\\x00\\x00\\x00\\x00\\x00\\x00\\x00\\x00\\x00\\x00\\x00\\x00\\x00\\x00\\x00\\x00\\x00\\x00\\x00\\x00\\x00\\x00\\x00\\x00\\x00\\x00\\x00\\x00\\x00\\x00\\x00\\x00\\x00\\x00\\x00\\x00\\x00\\x00\\x00\\x00\\x00\\x00\\x00\\x00\\x00\\x00\\x00\\x00\\x00\\x00\\x00\\x00\\x00\\x00\\x00\\x00\\x00\\x00\\x00\\x00\\x00\\x00\\x00\\x00\\x00\\x00\\x00\\x00\\x00\\x00\\x00\\x00\\x00\\x00\\x00\\x00\\x00\\x00\\x00\\x00\\x00\\x00\\x00\\x00\\x00\\x00\\x00\\x00\\x00\\x00\\x00\\x00\\x00\\x00\\x00\\x00\\x00\\x00',\n",
       " 'status': 1}"
      ]
     },
     "execution_count": 42,
     "metadata": {},
     "output_type": "execute_result"
    }
   ],
   "source": [
    "params ={\"_reserve\": {\"reserveAddress\":contracts['iusdc'],\"oTokenAddress\":contracts['oIUSDC'],\"totalBorrows\":\"0\",\"lastUpdateTimestamp\": \"0\",\"liquidityRate\":\"0\",\"borrowRate\":\"0\",\"liquidityCumulativeIndex\":f\"1{'0'*18}\",\"borrowCumulativeIndex\":f\"1{'0'*18}\",\"baseLTVasCollateral\":\"500000000000000000\",\"liquidationThreshold\":\"650000000000000000\",\"liquidationBonus\":\"100000000000000000\",\"decimals\":\"6\",\"borrowingEnabled\": \"1\",\"usageAsCollateralEnabled\":\"1\",\"isFreezed\":\"0\",\"isActive\":\"1\"} }\n",
    "call_transaction = CallTransactionBuilder()\\\n",
    "    .from_(deployer_wallet.get_address())\\\n",
    "    .to(contracts['lendingPoolCore']) \\\n",
    "    .nid(NID) \\\n",
    "    .nonce(100) \\\n",
    "    .method(\"addReserveData\")\\\n",
    "    .params(params)\\\n",
    "    .build()\n",
    "\n",
    "estimate_step = icon_service.estimate_step(call_transaction)\n",
    "step_limit = estimate_step + 100000\n",
    "# Returns the signed transaction object having a signature\n",
    "signed_transaction = SignedTransaction(call_transaction, deployer_wallet,step_limit)\n",
    "\n",
    "# Reads params to transfer to nodes\n",
    "# print(signed_transaction.signed_transaction_dict)\n",
    "\n",
    "# Sends the transaction\n",
    "tx_hash = icon_service.send_transaction(signed_transaction)\n",
    "\n",
    "get_tx_result(tx_hash)"
   ]
  },
  {
   "cell_type": "markdown",
   "metadata": {
    "tags": []
   },
   "source": [
    "## Adding to Super address provider"
   ]
  },
  {
   "cell_type": "code",
   "execution_count": 68,
   "metadata": {
    "tags": []
   },
   "outputs": [
    {
     "name": "stderr",
     "output_type": "stream",
     "text": [
      "Raised JSONRPCException while returning the custom response. Error message: {'code': -32602, 'message': 'Pending transaction'}\n",
      "{'code': -32602, 'message': 'Pending transaction'} (Json rpc error), Retrying in 1 seconds...\n",
      "Raised JSONRPCException while returning the custom response. Error message: {'code': -32602, 'message': 'Pending transaction'}\n",
      "{'code': -32602, 'message': 'Pending transaction'} (Json rpc error), Retrying in 2 seconds...\n"
     ]
    },
    {
     "data": {
      "text/plain": [
       "{'txHash': '0x8da6eaaef4295fd5a66b828d6b451655c5e158b4aecd981f66d04290f8d69943',\n",
       " 'blockHeight': 13624889,\n",
       " 'blockHash': '0xc2aa95a885481718b64b19b5896500ecebcd60864c82339ee6b96118f963f049',\n",
       " 'txIndex': 1,\n",
       " 'to': 'cx151289f65d2ccb8191a9efb8fcfc02fa06ce5855',\n",
       " 'stepUsed': 191200,\n",
       " 'stepPrice': 10000000000,\n",
       " 'cumulativeStepUsed': 191200,\n",
       " 'eventLogs': [],\n",
       " 'logsBloom': b'\\x00\\x00\\x00\\x00\\x00\\x00\\x00\\x00\\x00\\x00\\x00\\x00\\x00\\x00\\x00\\x00\\x00\\x00\\x00\\x00\\x00\\x00\\x00\\x00\\x00\\x00\\x00\\x00\\x00\\x00\\x00\\x00\\x00\\x00\\x00\\x00\\x00\\x00\\x00\\x00\\x00\\x00\\x00\\x00\\x00\\x00\\x00\\x00\\x00\\x00\\x00\\x00\\x00\\x00\\x00\\x00\\x00\\x00\\x00\\x00\\x00\\x00\\x00\\x00\\x00\\x00\\x00\\x00\\x00\\x00\\x00\\x00\\x00\\x00\\x00\\x00\\x00\\x00\\x00\\x00\\x00\\x00\\x00\\x00\\x00\\x00\\x00\\x00\\x00\\x00\\x00\\x00\\x00\\x00\\x00\\x00\\x00\\x00\\x00\\x00\\x00\\x00\\x00\\x00\\x00\\x00\\x00\\x00\\x00\\x00\\x00\\x00\\x00\\x00\\x00\\x00\\x00\\x00\\x00\\x00\\x00\\x00\\x00\\x00\\x00\\x00\\x00\\x00\\x00\\x00\\x00\\x00\\x00\\x00\\x00\\x00\\x00\\x00\\x00\\x00\\x00\\x00\\x00\\x00\\x00\\x00\\x00\\x00\\x00\\x00\\x00\\x00\\x00\\x00\\x00\\x00\\x00\\x00\\x00\\x00\\x00\\x00\\x00\\x00\\x00\\x00\\x00\\x00\\x00\\x00\\x00\\x00\\x00\\x00\\x00\\x00\\x00\\x00\\x00\\x00\\x00\\x00\\x00\\x00\\x00\\x00\\x00\\x00\\x00\\x00\\x00\\x00\\x00\\x00\\x00\\x00\\x00\\x00\\x00\\x00\\x00\\x00\\x00\\x00\\x00\\x00\\x00\\x00\\x00\\x00\\x00\\x00\\x00\\x00\\x00\\x00\\x00\\x00\\x00\\x00\\x00\\x00\\x00\\x00\\x00\\x00\\x00\\x00\\x00\\x00\\x00\\x00\\x00\\x00\\x00\\x00\\x00\\x00\\x00\\x00\\x00\\x00\\x00\\x00\\x00\\x00\\x00\\x00\\x00\\x00\\x00\\x00\\x00\\x00\\x00\\x00',\n",
       " 'status': 1}"
      ]
     },
     "execution_count": 68,
     "metadata": {},
     "output_type": "execute_result"
    }
   ],
   "source": [
    "sap=\"cx151289f65d2ccb8191a9efb8fcfc02fa06ce5855\"\n",
    "name=\"LiquidationTest\"\n",
    "\n",
    "params = { \"_env\":{\n",
    "                    \"addressProvider\":contracts['addressProvider'],\n",
    "                    \"envName\":name,\n",
    "                    \"pklName\":filename\n",
    "                    }  \n",
    "          }\n",
    "\n",
    "call_transaction = CallTransactionBuilder()\\\n",
    "    .from_(deployer_wallet.get_address())\\\n",
    "    .to(sap) \\\n",
    "    .nid(NID) \\\n",
    "    .nonce(100) \\\n",
    "    .method(\"addEnv\")\\\n",
    "    .params(params)\\\n",
    "    .build()\n",
    "\n",
    "estimate_step = icon_service.estimate_step(call_transaction)\n",
    "step_limit = estimate_step + 100000\n",
    "# Returns the signed transaction object having a signature\n",
    "signed_transaction = SignedTransaction(call_transaction, deployer_wallet,step_limit)\n",
    "\n",
    "\n",
    "tx_hash = icon_service.send_transaction(signed_transaction)\n",
    "\n",
    "get_tx_result(tx_hash)"
   ]
  },
  {
   "cell_type": "markdown",
   "metadata": {},
   "source": [
    "## Testing deposit"
   ]
  },
  {
   "cell_type": "code",
   "execution_count": 88,
   "metadata": {
    "tags": []
   },
   "outputs": [
    {
     "name": "stderr",
     "output_type": "stream",
     "text": [
      "Raised JSONRPCException while returning the custom response. Error message: {'code': -32602, 'message': 'Pending transaction'}\n"
     ]
    },
    {
     "name": "stdout",
     "output_type": "stream",
     "text": [
      "{'code': -32602, 'message': 'Pending transaction'} (Json rpc error), Retrying in 1 seconds...\n"
     ]
    },
    {
     "name": "stderr",
     "output_type": "stream",
     "text": [
      "Raised JSONRPCException while returning the custom response. Error message: {'code': -32602, 'message': 'Pending transaction'}\n"
     ]
    },
    {
     "name": "stdout",
     "output_type": "stream",
     "text": [
      "{'code': -32602, 'message': 'Pending transaction'} (Json rpc error), Retrying in 2 seconds...\n"
     ]
    },
    {
     "data": {
      "text/plain": [
       "{'txHash': '0xd13b95262ed6bcf71edd513c895b979d10c91781951ec7b8efa870fe1e48501d',\n",
       " 'blockHeight': 14204166,\n",
       " 'blockHash': '0xb8ec033bd8572cc484bc909072a2f85ec4b8249c92a2cdc37b38bc061cc63fe5',\n",
       " 'txIndex': 1,\n",
       " 'to': 'cx0be0870a036ef7a08997bd12e1cd0bfed2dd5d85',\n",
       " 'stepUsed': 963080,\n",
       " 'stepPrice': 10000000000,\n",
       " 'cumulativeStepUsed': 963080,\n",
       " 'eventLogs': [{'scoreAddress': 'cx0be0870a036ef7a08997bd12e1cd0bfed2dd5d85',\n",
       "   'indexed': ['ICXTransfer(Address,Address,int)',\n",
       "    'cx0be0870a036ef7a08997bd12e1cd0bfed2dd5d85',\n",
       "    'cxadd9557a07d4aab925dd04b7a6da4ea1d67bef9c',\n",
       "    '0x4563918244f40000'],\n",
       "   'data': []},\n",
       "  {'scoreAddress': 'cxb7eda227d9ed9c6fc2a74aa5dd7e9a3913f6c281',\n",
       "   'indexed': ['Transfer(Address,Address,int,bytes)',\n",
       "    'cxb7eda227d9ed9c6fc2a74aa5dd7e9a3913f6c281',\n",
       "    'cx2d844c9613b5f864f5dace7fed82997c4c62ef01',\n",
       "    '0x43592000cd391bcf'],\n",
       "   'data': ['0x4e6f6e65']},\n",
       "  {'scoreAddress': 'cxb7eda227d9ed9c6fc2a74aa5dd7e9a3913f6c281',\n",
       "   'indexed': ['Mint(Address,int,bytes)',\n",
       "    'cx2d844c9613b5f864f5dace7fed82997c4c62ef01'],\n",
       "   'data': ['0x43592000cd391bcf', '0x4e6f6e65']},\n",
       "  {'scoreAddress': 'cxadd9557a07d4aab925dd04b7a6da4ea1d67bef9c',\n",
       "   'indexed': ['TokenTransfer(Address,int,str)',\n",
       "    'cx2d844c9613b5f864f5dace7fed82997c4c62ef01',\n",
       "    '0x43592000cd391bcf'],\n",
       "   'data': ['4.852945261283581 sICX minted to cx2d844c9613b5f864f5dace7fed82997c4c62ef01']},\n",
       "  {'scoreAddress': 'cx11126e153cea904501af4997398021019b81e405',\n",
       "   'indexed': ['State(str)', 'distribute borrow'],\n",
       "   'data': []},\n",
       "  {'scoreAddress': 'cx11126e153cea904501af4997398021019b81e405',\n",
       "   'indexed': ['Distribution(str,Address,int)',\n",
       "    'borrow',\n",
       "    'hx91bf040426f226b3bfcd2f0b5967bbb0320525ce',\n",
       "    '0x446f43db88b41a0b390'],\n",
       "   'data': []},\n",
       "  {'scoreAddress': 'cx11126e153cea904501af4997398021019b81e405',\n",
       "   'indexed': ['Distribution(str,Address,int)',\n",
       "    'borrow',\n",
       "    'hx605262e609c7872ea4efe2dd5f117af1e63afcc3',\n",
       "    '0x187721a33250f3031c75'],\n",
       "   'data': []},\n",
       "  {'scoreAddress': 'cx11126e153cea904501af4997398021019b81e405',\n",
       "   'indexed': ['Distribution(str,Address,int)',\n",
       "    'borrow',\n",
       "    'hxa40ebe7ef1e27203544f90835df03bf3fff42fd8',\n",
       "    '0x18327112c85f339c2ffb'],\n",
       "   'data': []},\n",
       "  {'scoreAddress': 'cx2d844c9613b5f864f5dace7fed82997c4c62ef01',\n",
       "   'indexed': ['ReserveUpdated(Address,int,int,int,int)',\n",
       "    'cxb7eda227d9ed9c6fc2a74aa5dd7e9a3913f6c281',\n",
       "    '0x6ac56fc0b9c73',\n",
       "    '0x33531c3e7006b2'],\n",
       "   'data': ['0xde1adef451c201c', '0xde45a1e86ec02b9']},\n",
       "  {'scoreAddress': 'cx9dfe6300788178da4ac43e7eb7114380f5addc69',\n",
       "   'indexed': ['Mint(Address,int)',\n",
       "    'hx91bf040426f226b3bfcd2f0b5967bbb0320525ce'],\n",
       "   'data': ['0x9434fe0950']},\n",
       "  {'scoreAddress': 'cx9dfe6300788178da4ac43e7eb7114380f5addc69',\n",
       "   'indexed': ['Mint(Address,int)',\n",
       "    'hx91bf040426f226b3bfcd2f0b5967bbb0320525ce'],\n",
       "   'data': ['0x43592000cd391bcf']},\n",
       "  {'scoreAddress': 'cx9dfe6300788178da4ac43e7eb7114380f5addc69',\n",
       "   'indexed': ['MintOnDeposit(Address,int,int,int)',\n",
       "    'hx91bf040426f226b3bfcd2f0b5967bbb0320525ce',\n",
       "    '0x43592000cd391bcf',\n",
       "    '0x9434fe0950'],\n",
       "   'data': ['0xde1adef451c201c']},\n",
       "  {'scoreAddress': 'cx0be0870a036ef7a08997bd12e1cd0bfed2dd5d85',\n",
       "   'indexed': ['Deposit(Address,Address,int,int)',\n",
       "    'cxb7eda227d9ed9c6fc2a74aa5dd7e9a3913f6c281',\n",
       "    'hx91bf040426f226b3bfcd2f0b5967bbb0320525ce',\n",
       "    '0x43592000cd391bcf'],\n",
       "   'data': ['0x5bd95c3dad0ef']}],\n",
       " 'logsBloom': b'@\\x00\\x10\\x08\\x08@\\x000\\x00\\x00\\x00!\\x00\\x00\\x00\\x00\\x00\\x00\\x01\\x00\\x80\\x00@\\x10\\x00\\x04\\x00H\\x04\\x00\\x00\\x04\\x00\\x00\\x00\\x00\\x00\\x00\\x00\\x00\\x80\\x00\\x00\\x00\\x00\\x00\\x00\\x00\\x01\\x00\\x01\\x80\\x06\\x00\\x00\\x04\\x00@\\x08\\x80\\x00\\x00\\x10\\x00 \\x00\\x00\\x00\\x00\\x00\\x00\\x00\\x00\\x00 0\\x00\\x02\\x04\\x00 \\x00\\x00\\x00\\x00\\x00\\x00\\x01\\x00\\x00\\x00\\x00\\x00\\x00\\x00\\x00\\x80\\x00 $\\x00\\x00\\x04\\x00\\x00\\x00\\x00\\x00\\xc0\\x00A\\x00\\x00\\x00\\x00\\x02\\x00\\x00 \\x00\\x00(\\x00\\x00\\x00\\x01\\x00\"\\x00\\x00\\x00 \\x00\\x00\\x00\\x08\\x00@\\x01\\x01\\x00\\x00\\x01\\x00@\\x00\\x89\\x02\\x00@\\x00\\x00\\x00\\x000 \\x00\\x90\\x00\\x00\\x00\\x00\\x00\\x10\\x00\\x00\\x00\\x00\\x00\\x00\\x02\\x10\\x00\\x00\\x00\\x00\\x10\\x00`\\x00 \\x00\\x02\\x82\\x00\\x00\\x00\\x00\\x00\\x00\\x00(\\x00\\x00\\x88\\x02\\x10\\x00\\x00\\x00\\x00\\x00\\x00\\x00\\x00\\x01\\x00\\x04\\x04\\x00\\x00\\x00\\x00A\\x00\\x08\\x00\\x00\\x00\\x00\\x00\\x00\\x01\\x00\\x80\\x00\\x00\\x00@\\x08\\x00\\x00\\x04\\x80\\x01\\x02\\x00\\x00\\x00\\x00\\x00\\x00\\x00\\xb0(\\x00\\x00\\x00\\x81\\x00\\x00\\x00\\x00\\x00\\x02\\x00',\n",
       " 'status': 1}"
      ]
     },
     "execution_count": 88,
     "metadata": {},
     "output_type": "execute_result"
    }
   ],
   "source": [
    "params = {\"_amount\": 5 * 10 ** 18}\n",
    "call_transaction = CallTransactionBuilder() \\\n",
    "    .from_(deployer_wallet.get_address()) \\\n",
    "    .to(\"cx0be0870a036ef7a08997bd12e1cd0bfed2dd5d85\") \\\n",
    "    .nid(3) \\\n",
    "    .step_limit(1000000000) \\\n",
    "    .nonce(100) \\\n",
    "    .value(5 * 10 ** 18) \\\n",
    "    .method(\"deposit\") \\\n",
    "    .params(params) \\\n",
    "    .build() \n",
    "\n",
    "signed_transaction = SignedTransaction(call_transaction, deployer_wallet)\n",
    "tx_hash = icon_service.send_transaction(signed_transaction)\n",
    "get_tx_result(tx_hash)\n"
   ]
  },
  {
   "cell_type": "code",
   "execution_count": null,
   "metadata": {},
   "outputs": [],
   "source": []
  }
 ],
 "metadata": {
  "celltoolbar": "Slideshow",
  "kernelspec": {
   "display_name": "Python 3",
   "language": "python",
   "name": "python3"
  },
  "language_info": {
   "codemirror_mode": {
    "name": "ipython",
    "version": 3
   },
   "file_extension": ".py",
   "mimetype": "text/x-python",
   "name": "python",
   "nbconvert_exporter": "python",
   "pygments_lexer": "ipython3",
   "version": "3.7.6"
  },
  "rise": {
   "scroll": true
  }
 },
 "nbformat": 4,
 "nbformat_minor": 2
}
