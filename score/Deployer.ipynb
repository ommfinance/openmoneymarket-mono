{
 "cells": [
  {
   "cell_type": "markdown",
   "metadata": {
    "slideshow": {
     "slide_type": "slide"
    }
   },
   "source": [
    "# Jupyter Notebook to clean install all the contracts"
   ]
  },
  {
   "cell_type": "markdown",
   "metadata": {
    "slideshow": {
     "slide_type": "slide"
    }
   },
   "source": [
    "\n",
    "### Necessary packages "
   ]
  },
  {
   "cell_type": "code",
   "execution_count": 1,
   "metadata": {},
   "outputs": [
    {
     "data": {
      "text/html": [
       "<style>.container { width:100% !important; }</style>"
      ],
      "text/plain": [
       "<IPython.core.display.HTML object>"
      ]
     },
     "metadata": {},
     "output_type": "display_data"
    }
   ],
   "source": [
    "from IPython.core.display import display, HTML\n",
    "display(HTML(\"<style>.container { width:100% !important; }</style>\"))\n"
   ]
  },
  {
   "cell_type": "markdown",
   "metadata": {},
   "source": [
    "# Set Up Environment"
   ]
  },
  {
   "cell_type": "code",
   "execution_count": 60,
   "metadata": {},
   "outputs": [],
   "source": [
    "network = \"yeouido\"  # set this to one of mainnet, yeouido, euljiro, pagoda, or custom\n",
    "\n",
    "connections = {\n",
    "\"mainnet\": {\"iconservice\": \"https://ctz.solidwallet.io\",       \"nid\": 1},\n",
    "\"yeouido\": {\"iconservice\": \"https://bicon.net.solidwallet.io\", \"nid\": 3},\n",
    "\"euljiro\": {\"iconservice\": \"https://test-ctz.solidwallet.io\",  \"nid\": 2},\n",
    "\"pagoda\":  {\"iconservice\": \"https://zicon.net.solidwallet.io\", \"nid\":80},\n",
    "\"custom\":  {\"iconservice\": \"http://18.237.205.52:9000/\",       \"nid\": 3},\n",
    "\"local\":   {\"iconservice\": \"http://localhost:9000/\",           \"nid\": 3}\n",
    "}\n",
    "\n",
    "env = connections[network]"
   ]
  },
  {
   "cell_type": "code",
   "execution_count": 61,
   "metadata": {
    "slideshow": {
     "slide_type": "-"
    }
   },
   "outputs": [],
   "source": [
    "from iconsdk.exception import JSONRPCException\n",
    "from iconsdk.libs.in_memory_zip import gen_deploy_data_content\n",
    "from iconsdk.icon_service import IconService\n",
    "from iconsdk.providers.http_provider import HTTPProvider\n",
    "from iconsdk.builder.transaction_builder import CallTransactionBuilder, TransactionBuilder, DeployTransactionBuilder\n",
    "from iconsdk.builder.call_builder import CallBuilder\n",
    "from iconsdk.signed_transaction import SignedTransaction\n",
    "from iconsdk.wallet.wallet import KeyWallet\n",
    "from iconsdk.utils.convert_type import convert_hex_str_to_int\n",
    "from datetime import datetime\n",
    "from repeater import retry\n",
    "from shutil import make_archive\n",
    "import requests\n",
    "import json\n",
    "import pickle as pkl\n",
    "import csv\n",
    "import os\n",
    "from pprint import pprint\n",
    "from getpass import getpass\n",
    "\n",
    "\n",
    "ICX = 1000000000000000000 # 10**18\n",
    "GOVERNANCE_ADDRESS = \"cx0000000000000000000000000000000000000000\"\n",
    "\n",
    "\n",
    "\n",
    "\n",
    "@retry(JSONRPCException, tries=10, delay=1, back_off=2)\n",
    "def get_tx_result(_tx_hash):\n",
    "    tx_result = icon_service.get_transaction_result(_tx_hash)\n",
    "    return tx_result\n",
    "\n",
    "\n"
   ]
  },
  {
   "cell_type": "markdown",
   "metadata": {
    "slideshow": {
     "slide_type": "-"
    }
   },
   "source": [
    "### Required service"
   ]
  },
  {
   "cell_type": "code",
   "execution_count": 62,
   "metadata": {},
   "outputs": [],
   "source": [
    "icon_service = IconService(HTTPProvider(env[\"iconservice\"], 3))\n",
    "NID = env[\"nid\"]"
   ]
  },
  {
   "cell_type": "markdown",
   "metadata": {
    "slideshow": {
     "slide_type": "-"
    }
   },
   "source": [
    "# Importing wallet"
   ]
  },
  {
   "cell_type": "markdown",
   "metadata": {},
   "source": [
    "### Importing from private key"
   ]
  },
  {
   "cell_type": "code",
   "execution_count": 4,
   "metadata": {
    "scrolled": true
   },
   "outputs": [
    {
     "data": {
      "text/plain": [
       "'hx91bf040426f226b3bfcd2f0b5967bbb0320525ce'"
      ]
     },
     "execution_count": 4,
     "metadata": {},
     "output_type": "execute_result"
    }
   ],
   "source": [
    "\n",
    "private=\"a691ef7d5601f9b5be4f9b9d80215159ea6ff0b88003e3d34e078d40e778b39a\"\n",
    "deployer_wallet = KeyWallet.load(bytes.fromhex(private))\n",
    "deployer_wallet.get_address()\n"
   ]
  },
  {
   "cell_type": "code",
   "execution_count": 52,
   "metadata": {},
   "outputs": [
    {
     "data": {
      "text/plain": [
       "21188774108950298909796"
      ]
     },
     "execution_count": 52,
     "metadata": {},
     "output_type": "execute_result"
    }
   ],
   "source": [
    "icon_service.get_balance(\"hx91bf040426f226b3bfcd2f0b5967bbb0320525ce\")"
   ]
  },
  {
   "cell_type": "markdown",
   "metadata": {},
   "source": [
    "## Use this to import default tbears wallet and run the transactions\n"
   ]
  },
  {
   "cell_type": "code",
   "execution_count": 14,
   "metadata": {
    "tags": []
   },
   "outputs": [
    {
     "name": "stdout",
     "output_type": "stream",
     "text": [
      "hxe7af5fcfd8dfc67530a01a0e403882687528dfcb\n"
     ]
    },
    {
     "data": {
      "text/plain": [
       "786640639999000000000000000"
      ]
     },
     "execution_count": 14,
     "metadata": {},
     "output_type": "execute_result"
    }
   ],
   "source": [
    "password = \"test1_Account\"\n",
    "deployer_wallet = KeyWallet.load(\"./keystores/keystore_test1.json\",password)\n",
    "print(deployer_wallet.get_address())\n",
    "icon_service.get_balance(deployer_wallet.get_address())"
   ]
  },
  {
   "cell_type": "code",
   "execution_count": 63,
   "metadata": {},
   "outputs": [],
   "source": [
    "contracts_file_custom = \"shubh_yeouido_contracts_20210112084238.pkl\""
   ]
  },
  {
   "cell_type": "code",
   "execution_count": 64,
   "metadata": {},
   "outputs": [],
   "source": [
    "with open(contracts_file_custom, 'rb') as f:\n",
    "    contracts = pkl.load(f)"
   ]
  },
  {
   "cell_type": "markdown",
   "metadata": {},
   "source": [
    "# Deploying all contracts\n"
   ]
  },
  {
   "cell_type": "code",
   "execution_count": 35,
   "metadata": {
    "tags": [
     "outputPrepend"
    ]
   },
   "outputs": [
    {
     "name": "stderr",
     "output_type": "stream",
     "text": [
      "Raised JSONRPCException while returning the custom response. Error message: {'code': -32602, 'message': 'Pending transaction'}\n"
     ]
    },
    {
     "name": "stdout",
     "output_type": "stream",
     "text": [
      "{'code': -32602, 'message': 'Pending transaction'} (Json rpc error), Retrying in 1 seconds...\n",
      "{'txHash': '0xe5f3abcd02b2457a27e7156718051c9bad4fcbeacd23bb48839267220fe29329', 'blockHeight': 5020935, 'blockHash': '0x445bd7f1677dff03108ee374843c1ff3ca566b8f2032a4f8d5b06f3790ff2a11', 'txIndex': 1, 'to': 'cx0000000000000000000000000000000000000000', 'scoreAddress': 'cx75b4cd08dd95e1e6a8ed948653ccb413c5d0573f', 'stepUsed': 1053603200, 'stepPrice': 10000000000, 'cumulativeStepUsed': 1053603200, 'eventLogs': [], 'logsBloom': b'\\x00\\x00\\x00\\x00\\x00\\x00\\x00\\x00\\x00\\x00\\x00\\x00\\x00\\x00\\x00\\x00\\x00\\x00\\x00\\x00\\x00\\x00\\x00\\x00\\x00\\x00\\x00\\x00\\x00\\x00\\x00\\x00\\x00\\x00\\x00\\x00\\x00\\x00\\x00\\x00\\x00\\x00\\x00\\x00\\x00\\x00\\x00\\x00\\x00\\x00\\x00\\x00\\x00\\x00\\x00\\x00\\x00\\x00\\x00\\x00\\x00\\x00\\x00\\x00\\x00\\x00\\x00\\x00\\x00\\x00\\x00\\x00\\x00\\x00\\x00\\x00\\x00\\x00\\x00\\x00\\x00\\x00\\x00\\x00\\x00\\x00\\x00\\x00\\x00\\x00\\x00\\x00\\x00\\x00\\x00\\x00\\x00\\x00\\x00\\x00\\x00\\x00\\x00\\x00\\x00\\x00\\x00\\x00\\x00\\x00\\x00\\x00\\x00\\x00\\x00\\x00\\x00\\x00\\x00\\x00\\x00\\x00\\x00\\x00\\x00\\x00\\x00\\x00\\x00\\x00\\x00\\x00\\x00\\x00\\x00\\x00\\x00\\x00\\x00\\x00\\x00\\x00\\x00\\x00\\x00\\x00\\x00\\x00\\x00\\x00\\x00\\x00\\x00\\x00\\x00\\x00\\x00\\x00\\x00\\x00\\x00\\x00\\x00\\x00\\x00\\x00\\x00\\x00\\x00\\x00\\x00\\x00\\x00\\x00\\x00\\x00\\x00\\x00\\x00\\x00\\x00\\x00\\x00\\x00\\x00\\x00\\x00\\x00\\x00\\x00\\x00\\x00\\x00\\x00\\x00\\x00\\x00\\x00\\x00\\x00\\x00\\x00\\x00\\x00\\x00\\x00\\x00\\x00\\x00\\x00\\x00\\x00\\x00\\x00\\x00\\x00\\x00\\x00\\x00\\x00\\x00\\x00\\x00\\x00\\x00\\x00\\x00\\x00\\x00\\x00\\x00\\x00\\x00\\x00\\x00\\x00\\x00\\x00\\x00\\x00\\x00\\x00\\x00\\x00\\x00\\x00\\x00\\x00\\x00\\x00\\x00\\x00\\x00\\x00\\x00\\x00', 'status': 1}\n"
     ]
    }
   ],
   "source": [
    "\n",
    "# contracts = {}\n",
    "deploy = ['addressProvider', 'daoFund','delegation','feeProvider','governance', 'lendingPool', 'lendingPoolCore','lendingPoolDataProvider','liquidationManager','ommToken','oToken', 'priceOracle','rewards', 'sample_token','snapshot','worker_token']\n",
    "deploy = ['sicx']\n",
    "# for directory in {\"score\"}:\n",
    "# deploy= ['rewards', 'sample_token','snapshot','worker_token']\n",
    "directory=os.getcwd()\n",
    "for item in deploy:\n",
    "    params = {}\n",
    "    if item == \"sample_token\":\n",
    "       params = {'_name': \"BridgeDollars\",'_symbol':'USDb' ,'_decimals': 18}\n",
    "    elif item == \"omm_token\":\n",
    "        params = {'_initialSupply':0, '_decimals': 18}\n",
    "    elif item == \"worker_token\":\n",
    "        params = {'_initialSupply':100, '_decimals': 18}\n",
    "    elif item == \"sicx\":\n",
    "        params = {'_initialSupply':500000000, '_decimals': 18}\n",
    "    elif item == \"oToken\":\n",
    "        params = {\"_name\":\"BridgeUSDInterestToken\",\"_symbol\":\"oUSDb\"}\n",
    "    deploy_transaction = DeployTransactionBuilder()\\\n",
    "        .from_(deployer_wallet.get_address())\\\n",
    "        .to(GOVERNANCE_ADDRESS)\\\n",
    "        .nid(NID)\\\n",
    "        .nonce(100)\\\n",
    "        .content_type(\"application/zip\")\\\n",
    "        .content(gen_deploy_data_content(item))\\\n",
    "        .params(params)\\\n",
    "        .build()\n",
    "\n",
    "    step_limit = icon_service.estimate_step(deploy_transaction) + 100000\n",
    "    \n",
    "    signed_transaction = SignedTransaction(deploy_transaction, deployer_wallet, step_limit)\n",
    "    tx_hash = icon_service.send_transaction(signed_transaction)\n",
    "\n",
    "    res = get_tx_result(tx_hash)\n",
    "    print(res)\n",
    "    contracts[item] = res.get('scoreAddress', '')\n",
    "\n",
    "    "
   ]
  },
  {
   "cell_type": "code",
   "execution_count": 65,
   "metadata": {
    "tags": []
   },
   "outputs": [
    {
     "name": "stdout",
     "output_type": "stream",
     "text": [
      "{'addressProvider': 'cxdcbae76661c0edbf968d048c3bba3311bde57e37',\n",
      " 'delegation': 'cx5ecc21ade5e4a90586bde6451da3b0d733dd11d6',\n",
      " 'feeProvider': 'cx52555a5dda72b98a3ed692b58761f68af9486073',\n",
      " 'governance': 'cx9e0ecfd9cc9a0c1cee8fc4a4701e970554835f54',\n",
      " 'lendingPool': 'cx348b53ff3bb5c6411f8c3e7082cde123bd86c67e',\n",
      " 'lendingPoolCore': 'cxc15058ed8a262ff3b3a2400786848a3c32c274a5',\n",
      " 'lendingPoolDataProvider': 'cx45bd68dd4f903160f4c7f2c43791fa741debb582',\n",
      " 'liquidationManager': 'cx001794d12ea9170f4bb7a620e0a03a157f35a429',\n",
      " 'oICX': 'cx7dcf7232084a085507bf2685f785589ebb0b52a1',\n",
      " 'oToken': 'cx77d34d57f7ea300637058ef65babc52da91376a4',\n",
      " 'oUSDb': 'cx1aef9c66e508cfc32282e27e645ace726e831bd3',\n",
      " 'omm_token': 'cxff036606b11066a142262431b089e8d0af145bef',\n",
      " 'priceOracle': 'cx0b57375df6a814ca3f589e91b15015f135fbd046',\n",
      " 'rewards': 'cxcccee742d4c1b7a3a84a20a41691d302e25ab3a0',\n",
      " 'sample_token': 'cx9da823297393ecb193030b983ce334f25af20aac',\n",
      " 'sicx': 'cxb7eda227d9ed9c6fc2a74aa5dd7e9a3913f6c281',\n",
      " 'snapshot': 'cxa3bd48427581e6a41e9f03ee4bea14d5e506705b',\n",
      " 'staking': 'cxadd9557a07d4aab925dd04b7a6da4ea1d67bef9c',\n",
      " 'usdb': 'cxaa068556df80f9917ef146e889f0b2c4b13ab634'}\n"
     ]
    }
   ],
   "source": [
    "pprint(contracts)"
   ]
  },
  {
   "cell_type": "markdown",
   "metadata": {},
   "source": [
    "## deploying otoken for usdb"
   ]
  },
  {
   "cell_type": "code",
   "execution_count": 86,
   "metadata": {
    "tags": []
   },
   "outputs": [
    {
     "name": "stderr",
     "output_type": "stream",
     "text": [
      "Raised JSONRPCException while returning the custom response. Error message: {'code': -32602, 'message': 'Pending transaction'}\n",
      "{'code': -32602, 'message': 'Pending transaction'} (Json rpc error), Retrying in 1 seconds...\n",
      "Raised JSONRPCException while returning the custom response. Error message: {'code': -32602, 'message': 'Pending transaction'}\n",
      "{'code': -32602, 'message': 'Pending transaction'} (Json rpc error), Retrying in 2 seconds...\n",
      "{'txHash': '0xf71114df51fda978919804b55e486b86b9b83aed18721c0100f2f1cfbf5f501d', 'blockHeight': 13205473, 'blockHash': '0x3f5a25f0ea22550cc3ed510752788101bccc9bb25c7a43f9397e277535cd2398', 'txIndex': 1, 'to': 'cx0000000000000000000000000000000000000000', 'scoreAddress': 'cx66788ee4dca134edae9ea9b8cc98c4e8073e644b', 'stepUsed': 1146141440, 'stepPrice': 10000000000, 'cumulativeStepUsed': 1146141440, 'eventLogs': [], 'logsBloom': b'\\x00\\x00\\x00\\x00\\x00\\x00\\x00\\x00\\x00\\x00\\x00\\x00\\x00\\x00\\x00\\x00\\x00\\x00\\x00\\x00\\x00\\x00\\x00\\x00\\x00\\x00\\x00\\x00\\x00\\x00\\x00\\x00\\x00\\x00\\x00\\x00\\x00\\x00\\x00\\x00\\x00\\x00\\x00\\x00\\x00\\x00\\x00\\x00\\x00\\x00\\x00\\x00\\x00\\x00\\x00\\x00\\x00\\x00\\x00\\x00\\x00\\x00\\x00\\x00\\x00\\x00\\x00\\x00\\x00\\x00\\x00\\x00\\x00\\x00\\x00\\x00\\x00\\x00\\x00\\x00\\x00\\x00\\x00\\x00\\x00\\x00\\x00\\x00\\x00\\x00\\x00\\x00\\x00\\x00\\x00\\x00\\x00\\x00\\x00\\x00\\x00\\x00\\x00\\x00\\x00\\x00\\x00\\x00\\x00\\x00\\x00\\x00\\x00\\x00\\x00\\x00\\x00\\x00\\x00\\x00\\x00\\x00\\x00\\x00\\x00\\x00\\x00\\x00\\x00\\x00\\x00\\x00\\x00\\x00\\x00\\x00\\x00\\x00\\x00\\x00\\x00\\x00\\x00\\x00\\x00\\x00\\x00\\x00\\x00\\x00\\x00\\x00\\x00\\x00\\x00\\x00\\x00\\x00\\x00\\x00\\x00\\x00\\x00\\x00\\x00\\x00\\x00\\x00\\x00\\x00\\x00\\x00\\x00\\x00\\x00\\x00\\x00\\x00\\x00\\x00\\x00\\x00\\x00\\x00\\x00\\x00\\x00\\x00\\x00\\x00\\x00\\x00\\x00\\x00\\x00\\x00\\x00\\x00\\x00\\x00\\x00\\x00\\x00\\x00\\x00\\x00\\x00\\x00\\x00\\x00\\x00\\x00\\x00\\x00\\x00\\x00\\x00\\x00\\x00\\x00\\x00\\x00\\x00\\x00\\x00\\x00\\x00\\x00\\x00\\x00\\x00\\x00\\x00\\x00\\x00\\x00\\x00\\x00\\x00\\x00\\x00\\x00\\x00\\x00\\x00\\x00\\x00\\x00\\x00\\x00\\x00\\x00\\x00\\x00\\x00\\x00', 'status': 1}\n"
     ]
    },
    {
     "data": {
      "text/plain": [
       "{'addressProvider': 'cx797bc63e7b27758816910cb35f0fa1f546b57c33',\n",
       " 'daoFund': 'cxb2e669fbb8b94f2a4525345f22e466933b8d2075',\n",
       " 'delegation': 'cx24e32367425660a67c91d6e3c1077914df4e0286',\n",
       " 'feeProvider': 'cxd55f27870c9b219272ea4fc31d5d7ec8dc78a97e',\n",
       " 'governance': 'cx672132f49f0ef02969cc6b223613206e46ff34b1',\n",
       " 'lendingPool': 'cx0be0870a036ef7a08997bd12e1cd0bfed2dd5d85',\n",
       " 'lendingPoolCore': 'cx2d844c9613b5f864f5dace7fed82997c4c62ef01',\n",
       " 'lendingPoolDataProvider': 'cx88ae036091243916d87cbc3b11f39e317dcd46ad',\n",
       " 'liquidationManager': 'cx21b6ee09cd144b2a778bdcf69a46ef2cf898ff1c',\n",
       " 'ommToken': 'cxa96491850d5dd69efa5d64afa9138fd4a66cd348',\n",
       " 'oToken': 'cxf3e8b176a276a1d6bde232638656ed835f5cb058',\n",
       " 'priceOracle': 'cxe76fd817fae3b485ae6e4fea2cf88d050d379b63',\n",
       " 'rewards': 'cx3e9b334a82529797818ca824cc58c51b52a26087',\n",
       " 'sample_token': 'cxc88e39248bf428d3ab0b9c9fbafef9ff423c3a75',\n",
       " 'snapshot': 'cx584f740fedab472057bd8ee6e32d97b9b0a05b9d',\n",
       " 'worker_token': 'cxd4e8a5dd852439ccdec73a2b4cd973148f09775d',\n",
       " 'oUSDb': 'cx66788ee4dca134edae9ea9b8cc98c4e8073e644b'}"
      ]
     },
     "execution_count": 86,
     "metadata": {},
     "output_type": "execute_result"
    }
   ],
   "source": [
    "#deploy oUSDb\n",
    "params = {\"_name\":\"OmmUSDbInterestToken\",\"_symbol\":\"oUSDb\"}\n",
    "deploy_transaction = DeployTransactionBuilder()\\\n",
    "        .from_(deployer_wallet.get_address())\\\n",
    "        .to(GOVERNANCE_ADDRESS)\\\n",
    "        .nid(NID)\\\n",
    "        .nonce(100)\\\n",
    "        .content_type(\"application/zip\")\\\n",
    "        .content(gen_deploy_data_content('oToken'))\\\n",
    "        .params(params)\\\n",
    "        .build()\n",
    "\n",
    "step_limit = icon_service.estimate_step(deploy_transaction) + 100000\n",
    "\n",
    "signed_transaction = SignedTransaction(deploy_transaction, deployer_wallet, step_limit)\n",
    "tx_hash = icon_service.send_transaction(signed_transaction)\n",
    "\n",
    "res = get_tx_result(tx_hash)\n",
    "print(res)\n",
    "contracts['oUSDb'] = res.get('scoreAddress', '')\n",
    "\n",
    "\n",
    "contracts"
   ]
  },
  {
   "cell_type": "markdown",
   "metadata": {},
   "source": [
    "## Deploying otoken for icx"
   ]
  },
  {
   "cell_type": "code",
   "execution_count": 32,
   "metadata": {
    "tags": []
   },
   "outputs": [
    {
     "name": "stderr",
     "output_type": "stream",
     "text": [
      "Raised JSONRPCException while returning the custom response. Error message: {'code': -32602, 'message': 'Pending transaction'}\n"
     ]
    },
    {
     "name": "stdout",
     "output_type": "stream",
     "text": [
      "{'code': -32602, 'message': 'Pending transaction'} (Json rpc error), Retrying in 1 seconds...\n",
      "{'txHash': '0x527bde8bcb020fe33fcca493322b5779bcf9efdab346b62ad82fecf8dfc2c2a6', 'blockHeight': 5020903, 'blockHash': '0x2261c8619d6b379953771487904e2e655ed366e001f11f1e877aaf9b64c9c30c', 'txIndex': 1, 'to': 'cx0000000000000000000000000000000000000000', 'scoreAddress': 'cx2bb91424c10a6ded8b5da01994c33b2b3cc99090', 'stepUsed': 1146047640, 'stepPrice': 10000000000, 'cumulativeStepUsed': 1146047640, 'eventLogs': [], 'logsBloom': b'\\x00\\x00\\x00\\x00\\x00\\x00\\x00\\x00\\x00\\x00\\x00\\x00\\x00\\x00\\x00\\x00\\x00\\x00\\x00\\x00\\x00\\x00\\x00\\x00\\x00\\x00\\x00\\x00\\x00\\x00\\x00\\x00\\x00\\x00\\x00\\x00\\x00\\x00\\x00\\x00\\x00\\x00\\x00\\x00\\x00\\x00\\x00\\x00\\x00\\x00\\x00\\x00\\x00\\x00\\x00\\x00\\x00\\x00\\x00\\x00\\x00\\x00\\x00\\x00\\x00\\x00\\x00\\x00\\x00\\x00\\x00\\x00\\x00\\x00\\x00\\x00\\x00\\x00\\x00\\x00\\x00\\x00\\x00\\x00\\x00\\x00\\x00\\x00\\x00\\x00\\x00\\x00\\x00\\x00\\x00\\x00\\x00\\x00\\x00\\x00\\x00\\x00\\x00\\x00\\x00\\x00\\x00\\x00\\x00\\x00\\x00\\x00\\x00\\x00\\x00\\x00\\x00\\x00\\x00\\x00\\x00\\x00\\x00\\x00\\x00\\x00\\x00\\x00\\x00\\x00\\x00\\x00\\x00\\x00\\x00\\x00\\x00\\x00\\x00\\x00\\x00\\x00\\x00\\x00\\x00\\x00\\x00\\x00\\x00\\x00\\x00\\x00\\x00\\x00\\x00\\x00\\x00\\x00\\x00\\x00\\x00\\x00\\x00\\x00\\x00\\x00\\x00\\x00\\x00\\x00\\x00\\x00\\x00\\x00\\x00\\x00\\x00\\x00\\x00\\x00\\x00\\x00\\x00\\x00\\x00\\x00\\x00\\x00\\x00\\x00\\x00\\x00\\x00\\x00\\x00\\x00\\x00\\x00\\x00\\x00\\x00\\x00\\x00\\x00\\x00\\x00\\x00\\x00\\x00\\x00\\x00\\x00\\x00\\x00\\x00\\x00\\x00\\x00\\x00\\x00\\x00\\x00\\x00\\x00\\x00\\x00\\x00\\x00\\x00\\x00\\x00\\x00\\x00\\x00\\x00\\x00\\x00\\x00\\x00\\x00\\x00\\x00\\x00\\x00\\x00\\x00\\x00\\x00\\x00\\x00\\x00\\x00\\x00\\x00\\x00\\x00', 'status': 1}\n"
     ]
    },
    {
     "data": {
      "text/plain": [
       "{'addressProvider': 'cx827be16fe4efbf2516ef80795301579c823288a6',\n",
       " 'daoFund': 'cx97d4f10f4d793c35886b31cc8c70a872ea3b1448',\n",
       " 'delegation': 'cx7eb823b737f355c08f1911009bb834ffb6773253',\n",
       " 'feeProvider': 'cx09be6d8080af4be3e03a48a6c1b54955e1feefae',\n",
       " 'governance': 'cxc3403b1adc439baa0e3553abb25cc6f290432d26',\n",
       " 'lendingPool': 'cx9ebdfb5b354db434de96b476c49a8fd455d96b1b',\n",
       " 'lendingPoolCore': 'cx3755cee5c580d18c3c46b1816465e765a24d1b85',\n",
       " 'lendingPoolDataProvider': 'cx52fd89a5beeb3a10747a4fd8981b7b866b9bb289',\n",
       " 'liquidationManager': 'cx0242d3eb23c86a8bc32bf13f5681afc75371bec9',\n",
       " 'ommToken': 'cxe2fe821536890b983bc16bdc6217f740c7e40f8b',\n",
       " 'oToken': 'cxcee03a41d9b57fdf08359a9d40029796a47f100e',\n",
       " 'priceOracle': 'cxd902d339f59a0c7344a8d9b92659d8bcaa9c70f9',\n",
       " 'rewards': 'cx4f194dfd4db4bdc658be46985a9583a8808cf38e',\n",
       " 'sample_token': 'cx195a1294e7836f3f865147e4752a7c7852362c43',\n",
       " 'snapshot': 'cx1fe500bdb2d04ae8f0aa6e55e87a283b1e5b8f43',\n",
       " 'worker_token': 'cx7f73b8beeda55f1ca97ebbdc5593b7d15c35376f',\n",
       " 'oICX': 'cx2bb91424c10a6ded8b5da01994c33b2b3cc99090'}"
      ]
     },
     "execution_count": 32,
     "metadata": {},
     "output_type": "execute_result"
    }
   ],
   "source": [
    "#deploy oICX \n",
    "params = {\"_name\":\"ICXinterestToken\",\"_symbol\":\"oICX\"}\n",
    "deploy_transaction = DeployTransactionBuilder()\\\n",
    "        .from_(deployer_wallet.get_address())\\\n",
    "        .to(GOVERNANCE_ADDRESS)\\\n",
    "        .nid(NID)\\\n",
    "        .nonce(100)\\\n",
    "        .content_type(\"application/zip\")\\\n",
    "        .content(gen_deploy_data_content('oToken'))\\\n",
    "        .params(params)\\\n",
    "        .build()\n",
    "\n",
    "step_limit = icon_service.estimate_step(deploy_transaction) + 100000\n",
    "\n",
    "signed_transaction = SignedTransaction(deploy_transaction, deployer_wallet, step_limit)\n",
    "tx_hash = icon_service.send_transaction(signed_transaction)\n",
    "\n",
    "res = get_tx_result(tx_hash)\n",
    "print(res)\n",
    "contracts['oICX'] = res.get('scoreAddress', '')\n",
    "\n",
    "contracts"
   ]
  },
  {
   "cell_type": "markdown",
   "metadata": {},
   "source": [
    "## Deploying otoken for iusdc\n"
   ]
  },
  {
   "cell_type": "code",
   "execution_count": 33,
   "metadata": {
    "tags": []
   },
   "outputs": [
    {
     "name": "stderr",
     "output_type": "stream",
     "text": [
      "Raised JSONRPCException while returning the custom response. Error message: {'code': -32602, 'message': 'Pending transaction'}\n"
     ]
    },
    {
     "name": "stdout",
     "output_type": "stream",
     "text": [
      "{'code': -32602, 'message': 'Pending transaction'} (Json rpc error), Retrying in 1 seconds...\n",
      "{'txHash': '0x10cb5bd2c9e772252feb345e614bce94962c99c75cc5164028175f11f33079dd', 'blockHeight': 5020909, 'blockHash': '0xff542c39c64e52738eee0c65d776e2a512b7ea3271d4a599ef99f252a521deb4', 'txIndex': 1, 'to': 'cx0000000000000000000000000000000000000000', 'scoreAddress': 'cxb75c665e8f0e257b9cbacddc6c7db713362cea99', 'stepUsed': 1146051760, 'stepPrice': 10000000000, 'cumulativeStepUsed': 1146051760, 'eventLogs': [], 'logsBloom': b'\\x00\\x00\\x00\\x00\\x00\\x00\\x00\\x00\\x00\\x00\\x00\\x00\\x00\\x00\\x00\\x00\\x00\\x00\\x00\\x00\\x00\\x00\\x00\\x00\\x00\\x00\\x00\\x00\\x00\\x00\\x00\\x00\\x00\\x00\\x00\\x00\\x00\\x00\\x00\\x00\\x00\\x00\\x00\\x00\\x00\\x00\\x00\\x00\\x00\\x00\\x00\\x00\\x00\\x00\\x00\\x00\\x00\\x00\\x00\\x00\\x00\\x00\\x00\\x00\\x00\\x00\\x00\\x00\\x00\\x00\\x00\\x00\\x00\\x00\\x00\\x00\\x00\\x00\\x00\\x00\\x00\\x00\\x00\\x00\\x00\\x00\\x00\\x00\\x00\\x00\\x00\\x00\\x00\\x00\\x00\\x00\\x00\\x00\\x00\\x00\\x00\\x00\\x00\\x00\\x00\\x00\\x00\\x00\\x00\\x00\\x00\\x00\\x00\\x00\\x00\\x00\\x00\\x00\\x00\\x00\\x00\\x00\\x00\\x00\\x00\\x00\\x00\\x00\\x00\\x00\\x00\\x00\\x00\\x00\\x00\\x00\\x00\\x00\\x00\\x00\\x00\\x00\\x00\\x00\\x00\\x00\\x00\\x00\\x00\\x00\\x00\\x00\\x00\\x00\\x00\\x00\\x00\\x00\\x00\\x00\\x00\\x00\\x00\\x00\\x00\\x00\\x00\\x00\\x00\\x00\\x00\\x00\\x00\\x00\\x00\\x00\\x00\\x00\\x00\\x00\\x00\\x00\\x00\\x00\\x00\\x00\\x00\\x00\\x00\\x00\\x00\\x00\\x00\\x00\\x00\\x00\\x00\\x00\\x00\\x00\\x00\\x00\\x00\\x00\\x00\\x00\\x00\\x00\\x00\\x00\\x00\\x00\\x00\\x00\\x00\\x00\\x00\\x00\\x00\\x00\\x00\\x00\\x00\\x00\\x00\\x00\\x00\\x00\\x00\\x00\\x00\\x00\\x00\\x00\\x00\\x00\\x00\\x00\\x00\\x00\\x00\\x00\\x00\\x00\\x00\\x00\\x00\\x00\\x00\\x00\\x00\\x00\\x00\\x00\\x00\\x00', 'status': 1}\n"
     ]
    },
    {
     "data": {
      "text/plain": [
       "{'addressProvider': 'cx827be16fe4efbf2516ef80795301579c823288a6',\n",
       " 'daoFund': 'cx97d4f10f4d793c35886b31cc8c70a872ea3b1448',\n",
       " 'delegation': 'cx7eb823b737f355c08f1911009bb834ffb6773253',\n",
       " 'feeProvider': 'cx09be6d8080af4be3e03a48a6c1b54955e1feefae',\n",
       " 'governance': 'cxc3403b1adc439baa0e3553abb25cc6f290432d26',\n",
       " 'lendingPool': 'cx9ebdfb5b354db434de96b476c49a8fd455d96b1b',\n",
       " 'lendingPoolCore': 'cx3755cee5c580d18c3c46b1816465e765a24d1b85',\n",
       " 'lendingPoolDataProvider': 'cx52fd89a5beeb3a10747a4fd8981b7b866b9bb289',\n",
       " 'liquidationManager': 'cx0242d3eb23c86a8bc32bf13f5681afc75371bec9',\n",
       " 'ommToken': 'cxe2fe821536890b983bc16bdc6217f740c7e40f8b',\n",
       " 'oToken': 'cxcee03a41d9b57fdf08359a9d40029796a47f100e',\n",
       " 'priceOracle': 'cxd902d339f59a0c7344a8d9b92659d8bcaa9c70f9',\n",
       " 'rewards': 'cx4f194dfd4db4bdc658be46985a9583a8808cf38e',\n",
       " 'sample_token': 'cx195a1294e7836f3f865147e4752a7c7852362c43',\n",
       " 'snapshot': 'cx1fe500bdb2d04ae8f0aa6e55e87a283b1e5b8f43',\n",
       " 'worker_token': 'cx7f73b8beeda55f1ca97ebbdc5593b7d15c35376f',\n",
       " 'oICX': 'cx2bb91424c10a6ded8b5da01994c33b2b3cc99090',\n",
       " 'oIUSDC': 'cxb75c665e8f0e257b9cbacddc6c7db713362cea99'}"
      ]
     },
     "execution_count": 33,
     "metadata": {},
     "output_type": "execute_result"
    }
   ],
   "source": [
    "#deploy oIUSDC\n",
    "params = {\"_name\":\"IconUSDInterest\",\"_symbol\":\"oIUSDC\",\"_decimals\":6}\n",
    "deploy_transaction = DeployTransactionBuilder()\\\n",
    "        .from_(deployer_wallet.get_address())\\\n",
    "        .to(GOVERNANCE_ADDRESS)\\\n",
    "        .nid(NID)\\\n",
    "        .nonce(100)\\\n",
    "        .content_type(\"application/zip\")\\\n",
    "        .content(gen_deploy_data_content('oToken'))\\\n",
    "        .params(params)\\\n",
    "        .build()\n",
    "\n",
    "step_limit = icon_service.estimate_step(deploy_transaction) + 100000\n",
    "\n",
    "signed_transaction = SignedTransaction(deploy_transaction, deployer_wallet, step_limit)\n",
    "tx_hash = icon_service.send_transaction(signed_transaction)\n",
    "\n",
    "res = get_tx_result(tx_hash)\n",
    "print(res)\n",
    "contracts['oIUSDC'] = res.get('scoreAddress', '')\n",
    "\n",
    "contracts"
   ]
  },
  {
   "cell_type": "markdown",
   "metadata": {},
   "source": [
    "## Other Contract Addresses"
   ]
  },
  {
   "cell_type": "code",
   "execution_count": 89,
   "metadata": {},
   "outputs": [],
   "source": [
    "contracts['sicx']=\"cxb7eda227d9ed9c6fc2a74aa5dd7e9a3913f6c281\"\n",
    "contracts['staking']=\"cxadd9557a07d4aab925dd04b7a6da4ea1d67bef9c\"\n",
    "contracts['iusdc']=\"cx65f639254090820361da483df233f6d0e69af9b7\"\n",
    "contracts['usdb']=\"cxaa068556df80f9917ef146e889f0b2c4b13ab634\"\n"
   ]
  },
  {
   "cell_type": "code",
   "execution_count": 34,
   "metadata": {
    "tags": []
   },
   "outputs": [
    {
     "name": "stdout",
     "output_type": "stream",
     "text": [
      "{'addressProvider': 'cx827be16fe4efbf2516ef80795301579c823288a6',\n",
      " 'daoFund': 'cx97d4f10f4d793c35886b31cc8c70a872ea3b1448',\n",
      " 'delegation': 'cx7eb823b737f355c08f1911009bb834ffb6773253',\n",
      " 'feeProvider': 'cx09be6d8080af4be3e03a48a6c1b54955e1feefae',\n",
      " 'governance': 'cxc3403b1adc439baa0e3553abb25cc6f290432d26',\n",
      " 'lendingPool': 'cx9ebdfb5b354db434de96b476c49a8fd455d96b1b',\n",
      " 'lendingPoolCore': 'cx3755cee5c580d18c3c46b1816465e765a24d1b85',\n",
      " 'lendingPoolDataProvider': 'cx52fd89a5beeb3a10747a4fd8981b7b866b9bb289',\n",
      " 'liquidationManager': 'cx0242d3eb23c86a8bc32bf13f5681afc75371bec9',\n",
      " 'oICX': 'cx2bb91424c10a6ded8b5da01994c33b2b3cc99090',\n",
      " 'oIUSDC': 'cxb75c665e8f0e257b9cbacddc6c7db713362cea99',\n",
      " 'oToken': 'cxcee03a41d9b57fdf08359a9d40029796a47f100e',\n",
      " 'ommToken': 'cxe2fe821536890b983bc16bdc6217f740c7e40f8b',\n",
      " 'priceOracle': 'cxd902d339f59a0c7344a8d9b92659d8bcaa9c70f9',\n",
      " 'rewards': 'cx4f194dfd4db4bdc658be46985a9583a8808cf38e',\n",
      " 'sample_token': 'cx195a1294e7836f3f865147e4752a7c7852362c43',\n",
      " 'snapshot': 'cx1fe500bdb2d04ae8f0aa6e55e87a283b1e5b8f43',\n",
      " 'worker_token': 'cx7f73b8beeda55f1ca97ebbdc5593b7d15c35376f'}\n"
     ]
    }
   ],
   "source": [
    "pprint(contracts)"
   ]
  },
  {
   "cell_type": "markdown",
   "metadata": {},
   "source": [
    "## Saving the pkl file\n"
   ]
  },
  {
   "cell_type": "code",
   "execution_count": 58,
   "metadata": {
    "tags": []
   },
   "outputs": [
    {
     "name": "stdout",
     "output_type": "stream",
     "text": [
      "saving contracts list as kailash_custom.pkl\n"
     ]
    }
   ],
   "source": [
    "now = datetime.utcnow()\n",
    "filename =network +f' contracts_{now.year}{str(now.month).zfill(2)}{str(now.day).zfill(2)}{str(now.hour).zfill(2)}{str(now.minute).zfill(2)}{str(now.second).zfill(2)}.pkl'\n",
    "filename = \"kailash_custom.pkl\"\n",
    "print(f'saving contracts list as {filename}')\n",
    "with open(filename, 'wb') as f:\n",
    "\n",
    "    pkl.dump(contracts, f)"
   ]
  },
  {
   "cell_type": "markdown",
   "metadata": {},
   "source": [
    "## Updating contracts"
   ]
  },
  {
   "cell_type": "code",
   "execution_count": 38,
   "metadata": {
    "tags": []
   },
   "outputs": [
    {
     "name": "stdout",
     "output_type": "stream",
     "text": [
      "update lendingPool cx9ebdfb5b354db434de96b476c49a8fd455d96b1b\n"
     ]
    },
    {
     "name": "stderr",
     "output_type": "stream",
     "text": [
      "Raised JSONRPCException while returning the custom response. Error message: {'code': -32602, 'message': 'Pending transaction'}\n"
     ]
    },
    {
     "name": "stdout",
     "output_type": "stream",
     "text": [
      "{'code': -32602, 'message': 'Pending transaction'} (Json rpc error), Retrying in 1 seconds...\n"
     ]
    },
    {
     "data": {
      "text/plain": [
       "{'txHash': '0xf5236e2a69816d175e86043b220bb2004e2d0acfdcbd624d054be4beb2229705',\n",
       " 'blockHeight': 5021013,\n",
       " 'blockHash': '0x6129e7cb212b86e8e30f56f602121b52fb65f31e8df2798b079043a6c43649e0',\n",
       " 'txIndex': 1,\n",
       " 'to': 'cx9ebdfb5b354db434de96b476c49a8fd455d96b1b',\n",
       " 'scoreAddress': 'cx9ebdfb5b354db434de96b476c49a8fd455d96b1b',\n",
       " 'stepUsed': 1739037600,\n",
       " 'stepPrice': 10000000000,\n",
       " 'cumulativeStepUsed': 1739037600,\n",
       " 'eventLogs': [],\n",
       " 'logsBloom': b'\\x00\\x00\\x00\\x00\\x00\\x00\\x00\\x00\\x00\\x00\\x00\\x00\\x00\\x00\\x00\\x00\\x00\\x00\\x00\\x00\\x00\\x00\\x00\\x00\\x00\\x00\\x00\\x00\\x00\\x00\\x00\\x00\\x00\\x00\\x00\\x00\\x00\\x00\\x00\\x00\\x00\\x00\\x00\\x00\\x00\\x00\\x00\\x00\\x00\\x00\\x00\\x00\\x00\\x00\\x00\\x00\\x00\\x00\\x00\\x00\\x00\\x00\\x00\\x00\\x00\\x00\\x00\\x00\\x00\\x00\\x00\\x00\\x00\\x00\\x00\\x00\\x00\\x00\\x00\\x00\\x00\\x00\\x00\\x00\\x00\\x00\\x00\\x00\\x00\\x00\\x00\\x00\\x00\\x00\\x00\\x00\\x00\\x00\\x00\\x00\\x00\\x00\\x00\\x00\\x00\\x00\\x00\\x00\\x00\\x00\\x00\\x00\\x00\\x00\\x00\\x00\\x00\\x00\\x00\\x00\\x00\\x00\\x00\\x00\\x00\\x00\\x00\\x00\\x00\\x00\\x00\\x00\\x00\\x00\\x00\\x00\\x00\\x00\\x00\\x00\\x00\\x00\\x00\\x00\\x00\\x00\\x00\\x00\\x00\\x00\\x00\\x00\\x00\\x00\\x00\\x00\\x00\\x00\\x00\\x00\\x00\\x00\\x00\\x00\\x00\\x00\\x00\\x00\\x00\\x00\\x00\\x00\\x00\\x00\\x00\\x00\\x00\\x00\\x00\\x00\\x00\\x00\\x00\\x00\\x00\\x00\\x00\\x00\\x00\\x00\\x00\\x00\\x00\\x00\\x00\\x00\\x00\\x00\\x00\\x00\\x00\\x00\\x00\\x00\\x00\\x00\\x00\\x00\\x00\\x00\\x00\\x00\\x00\\x00\\x00\\x00\\x00\\x00\\x00\\x00\\x00\\x00\\x00\\x00\\x00\\x00\\x00\\x00\\x00\\x00\\x00\\x00\\x00\\x00\\x00\\x00\\x00\\x00\\x00\\x00\\x00\\x00\\x00\\x00\\x00\\x00\\x00\\x00\\x00\\x00\\x00\\x00\\x00\\x00\\x00\\x00',\n",
       " 'status': 1}"
      ]
     },
     "execution_count": 38,
     "metadata": {},
     "output_type": "execute_result"
    }
   ],
   "source": [
    "contract_ = 'lendingPool'\n",
    "if contract_ == 'oICX':\n",
    "    update = contracts['oICX']\n",
    "    contract_ = 'oToken' \n",
    "else:\n",
    "    update = contracts[contract_]\n",
    "#update = contracts[contract_]\n",
    "print('update',contract_, update)\n",
    "\n",
    "deploy_transaction = DeployTransactionBuilder()\\\n",
    "    .from_(deployer_wallet.get_address())\\\n",
    "    .to(update)\\\n",
    "    .nid(NID)\\\n",
    "    .nonce(100)\\\n",
    "    .content_type(\"application/zip\")\\\n",
    "    .content(gen_deploy_data_content(contract_))\\\n",
    "    .build()\n",
    "\n",
    "step_limit = icon_service.estimate_step(deploy_transaction) + 100000\n",
    "\n",
    "signed_transaction = SignedTransaction(deploy_transaction, deployer_wallet, step_limit)\n",
    "tx_hash = icon_service.send_transaction(signed_transaction)\n",
    "\n",
    "get_tx_result(tx_hash)"
   ]
  },
  {
   "cell_type": "markdown",
   "metadata": {},
   "source": [
    "# Configuring SCOREs's parameters"
   ]
  },
  {
   "cell_type": "code",
   "execution_count": 39,
   "metadata": {
    "tags": []
   },
   "outputs": [
    {
     "name": "stdout",
     "output_type": "stream",
     "text": [
      "\n",
      "\n",
      "Calling setLendingPoolCore, with parameters {'_address': 'cx3755cee5c580d18c3c46b1816465e765a24d1b85'} on the lendingPool contract.\n",
      "{'txHash': '0x9b3c0d76e5f09a50c5aa86cb1f523f18feb18674f1d16071812015cc8d47e8ac', 'blockHeight': 5021015, 'blockHash': '0x1fef1792b6ab2361e7ea5890a1c2201d3f5ffb0871d22dfc9e9e2aaa4b047361', 'txIndex': 1, 'to': 'cx9ebdfb5b354db434de96b476c49a8fd455d96b1b', 'stepUsed': 151320, 'stepPrice': 10000000000, 'cumulativeStepUsed': 151320, 'eventLogs': [], 'logsBloom': b'\\x00\\x00\\x00\\x00\\x00\\x00\\x00\\x00\\x00\\x00\\x00\\x00\\x00\\x00\\x00\\x00\\x00\\x00\\x00\\x00\\x00\\x00\\x00\\x00\\x00\\x00\\x00\\x00\\x00\\x00\\x00\\x00\\x00\\x00\\x00\\x00\\x00\\x00\\x00\\x00\\x00\\x00\\x00\\x00\\x00\\x00\\x00\\x00\\x00\\x00\\x00\\x00\\x00\\x00\\x00\\x00\\x00\\x00\\x00\\x00\\x00\\x00\\x00\\x00\\x00\\x00\\x00\\x00\\x00\\x00\\x00\\x00\\x00\\x00\\x00\\x00\\x00\\x00\\x00\\x00\\x00\\x00\\x00\\x00\\x00\\x00\\x00\\x00\\x00\\x00\\x00\\x00\\x00\\x00\\x00\\x00\\x00\\x00\\x00\\x00\\x00\\x00\\x00\\x00\\x00\\x00\\x00\\x00\\x00\\x00\\x00\\x00\\x00\\x00\\x00\\x00\\x00\\x00\\x00\\x00\\x00\\x00\\x00\\x00\\x00\\x00\\x00\\x00\\x00\\x00\\x00\\x00\\x00\\x00\\x00\\x00\\x00\\x00\\x00\\x00\\x00\\x00\\x00\\x00\\x00\\x00\\x00\\x00\\x00\\x00\\x00\\x00\\x00\\x00\\x00\\x00\\x00\\x00\\x00\\x00\\x00\\x00\\x00\\x00\\x00\\x00\\x00\\x00\\x00\\x00\\x00\\x00\\x00\\x00\\x00\\x00\\x00\\x00\\x00\\x00\\x00\\x00\\x00\\x00\\x00\\x00\\x00\\x00\\x00\\x00\\x00\\x00\\x00\\x00\\x00\\x00\\x00\\x00\\x00\\x00\\x00\\x00\\x00\\x00\\x00\\x00\\x00\\x00\\x00\\x00\\x00\\x00\\x00\\x00\\x00\\x00\\x00\\x00\\x00\\x00\\x00\\x00\\x00\\x00\\x00\\x00\\x00\\x00\\x00\\x00\\x00\\x00\\x00\\x00\\x00\\x00\\x00\\x00\\x00\\x00\\x00\\x00\\x00\\x00\\x00\\x00\\x00\\x00\\x00\\x00\\x00\\x00\\x00\\x00\\x00\\x00', 'status': 1}\n",
      "\n",
      "\n",
      "Calling setLendingPoolDataProvider, with parameters {'_address': 'cx52fd89a5beeb3a10747a4fd8981b7b866b9bb289'} on the lendingPool contract.\n"
     ]
    },
    {
     "name": "stderr",
     "output_type": "stream",
     "text": [
      "Raised JSONRPCException while returning the custom response. Error message: {'code': -32602, 'message': 'Pending transaction'}\n"
     ]
    },
    {
     "name": "stdout",
     "output_type": "stream",
     "text": [
      "{'code': -32602, 'message': 'Pending transaction'} (Json rpc error), Retrying in 1 seconds...\n",
      "{'txHash': '0xc28ddb22f378b598e1cab5be008382d801ad9160b7245fad78e3cc3b029f671c', 'blockHeight': 5021016, 'blockHash': '0x0fe5748f30ae11dea0fe8815e8468e4fe6dd3179c7954c2ca10e60cd13f307d7', 'txIndex': 1, 'to': 'cx9ebdfb5b354db434de96b476c49a8fd455d96b1b', 'stepUsed': 152920, 'stepPrice': 10000000000, 'cumulativeStepUsed': 152920, 'eventLogs': [], 'logsBloom': b'\\x00\\x00\\x00\\x00\\x00\\x00\\x00\\x00\\x00\\x00\\x00\\x00\\x00\\x00\\x00\\x00\\x00\\x00\\x00\\x00\\x00\\x00\\x00\\x00\\x00\\x00\\x00\\x00\\x00\\x00\\x00\\x00\\x00\\x00\\x00\\x00\\x00\\x00\\x00\\x00\\x00\\x00\\x00\\x00\\x00\\x00\\x00\\x00\\x00\\x00\\x00\\x00\\x00\\x00\\x00\\x00\\x00\\x00\\x00\\x00\\x00\\x00\\x00\\x00\\x00\\x00\\x00\\x00\\x00\\x00\\x00\\x00\\x00\\x00\\x00\\x00\\x00\\x00\\x00\\x00\\x00\\x00\\x00\\x00\\x00\\x00\\x00\\x00\\x00\\x00\\x00\\x00\\x00\\x00\\x00\\x00\\x00\\x00\\x00\\x00\\x00\\x00\\x00\\x00\\x00\\x00\\x00\\x00\\x00\\x00\\x00\\x00\\x00\\x00\\x00\\x00\\x00\\x00\\x00\\x00\\x00\\x00\\x00\\x00\\x00\\x00\\x00\\x00\\x00\\x00\\x00\\x00\\x00\\x00\\x00\\x00\\x00\\x00\\x00\\x00\\x00\\x00\\x00\\x00\\x00\\x00\\x00\\x00\\x00\\x00\\x00\\x00\\x00\\x00\\x00\\x00\\x00\\x00\\x00\\x00\\x00\\x00\\x00\\x00\\x00\\x00\\x00\\x00\\x00\\x00\\x00\\x00\\x00\\x00\\x00\\x00\\x00\\x00\\x00\\x00\\x00\\x00\\x00\\x00\\x00\\x00\\x00\\x00\\x00\\x00\\x00\\x00\\x00\\x00\\x00\\x00\\x00\\x00\\x00\\x00\\x00\\x00\\x00\\x00\\x00\\x00\\x00\\x00\\x00\\x00\\x00\\x00\\x00\\x00\\x00\\x00\\x00\\x00\\x00\\x00\\x00\\x00\\x00\\x00\\x00\\x00\\x00\\x00\\x00\\x00\\x00\\x00\\x00\\x00\\x00\\x00\\x00\\x00\\x00\\x00\\x00\\x00\\x00\\x00\\x00\\x00\\x00\\x00\\x00\\x00\\x00\\x00\\x00\\x00\\x00\\x00', 'status': 1}\n",
      "\n",
      "\n",
      "Calling setFeeProvider, with parameters {'_address': 'cx09be6d8080af4be3e03a48a6c1b54955e1feefae'} on the lendingPool contract.\n",
      "{'txHash': '0x2b94ec5208274dc84cb7bdf199750884cd1cd1fb1450fcae2f0e6450412aba49', 'blockHeight': 5021017, 'blockHash': '0xc549b62fb66cbcfb20b8d6452e0dfe898941d280f84bfe3a6c60d4123fc9cb0e', 'txIndex': 1, 'to': 'cx9ebdfb5b354db434de96b476c49a8fd455d96b1b', 'stepUsed': 150520, 'stepPrice': 10000000000, 'cumulativeStepUsed': 150520, 'eventLogs': [], 'logsBloom': b'\\x00\\x00\\x00\\x00\\x00\\x00\\x00\\x00\\x00\\x00\\x00\\x00\\x00\\x00\\x00\\x00\\x00\\x00\\x00\\x00\\x00\\x00\\x00\\x00\\x00\\x00\\x00\\x00\\x00\\x00\\x00\\x00\\x00\\x00\\x00\\x00\\x00\\x00\\x00\\x00\\x00\\x00\\x00\\x00\\x00\\x00\\x00\\x00\\x00\\x00\\x00\\x00\\x00\\x00\\x00\\x00\\x00\\x00\\x00\\x00\\x00\\x00\\x00\\x00\\x00\\x00\\x00\\x00\\x00\\x00\\x00\\x00\\x00\\x00\\x00\\x00\\x00\\x00\\x00\\x00\\x00\\x00\\x00\\x00\\x00\\x00\\x00\\x00\\x00\\x00\\x00\\x00\\x00\\x00\\x00\\x00\\x00\\x00\\x00\\x00\\x00\\x00\\x00\\x00\\x00\\x00\\x00\\x00\\x00\\x00\\x00\\x00\\x00\\x00\\x00\\x00\\x00\\x00\\x00\\x00\\x00\\x00\\x00\\x00\\x00\\x00\\x00\\x00\\x00\\x00\\x00\\x00\\x00\\x00\\x00\\x00\\x00\\x00\\x00\\x00\\x00\\x00\\x00\\x00\\x00\\x00\\x00\\x00\\x00\\x00\\x00\\x00\\x00\\x00\\x00\\x00\\x00\\x00\\x00\\x00\\x00\\x00\\x00\\x00\\x00\\x00\\x00\\x00\\x00\\x00\\x00\\x00\\x00\\x00\\x00\\x00\\x00\\x00\\x00\\x00\\x00\\x00\\x00\\x00\\x00\\x00\\x00\\x00\\x00\\x00\\x00\\x00\\x00\\x00\\x00\\x00\\x00\\x00\\x00\\x00\\x00\\x00\\x00\\x00\\x00\\x00\\x00\\x00\\x00\\x00\\x00\\x00\\x00\\x00\\x00\\x00\\x00\\x00\\x00\\x00\\x00\\x00\\x00\\x00\\x00\\x00\\x00\\x00\\x00\\x00\\x00\\x00\\x00\\x00\\x00\\x00\\x00\\x00\\x00\\x00\\x00\\x00\\x00\\x00\\x00\\x00\\x00\\x00\\x00\\x00\\x00\\x00\\x00\\x00\\x00\\x00', 'status': 1}\n",
      "\n",
      "\n",
      "Calling setLiquidationManager, with parameters {'_address': 'cx0242d3eb23c86a8bc32bf13f5681afc75371bec9'} on the lendingPool contract.\n"
     ]
    },
    {
     "name": "stderr",
     "output_type": "stream",
     "text": [
      "Raised JSONRPCException while returning the custom response. Error message: {'code': -32602, 'message': 'Pending transaction'}\n"
     ]
    },
    {
     "name": "stdout",
     "output_type": "stream",
     "text": [
      "{'code': -32602, 'message': 'Pending transaction'} (Json rpc error), Retrying in 1 seconds...\n",
      "{'txHash': '0xe4e942a3b0696ac9a6b0e3cb026c44a500efb2651b764b9acbb761eb51f5ed8d', 'blockHeight': 5021018, 'blockHash': '0x848e0de0db82863fb2dfb46cafa769923040a7c97d592da980fadcf7c04da8a9', 'txIndex': 1, 'to': 'cx9ebdfb5b354db434de96b476c49a8fd455d96b1b', 'stepUsed': 151920, 'stepPrice': 10000000000, 'cumulativeStepUsed': 151920, 'eventLogs': [], 'logsBloom': b'\\x00\\x00\\x00\\x00\\x00\\x00\\x00\\x00\\x00\\x00\\x00\\x00\\x00\\x00\\x00\\x00\\x00\\x00\\x00\\x00\\x00\\x00\\x00\\x00\\x00\\x00\\x00\\x00\\x00\\x00\\x00\\x00\\x00\\x00\\x00\\x00\\x00\\x00\\x00\\x00\\x00\\x00\\x00\\x00\\x00\\x00\\x00\\x00\\x00\\x00\\x00\\x00\\x00\\x00\\x00\\x00\\x00\\x00\\x00\\x00\\x00\\x00\\x00\\x00\\x00\\x00\\x00\\x00\\x00\\x00\\x00\\x00\\x00\\x00\\x00\\x00\\x00\\x00\\x00\\x00\\x00\\x00\\x00\\x00\\x00\\x00\\x00\\x00\\x00\\x00\\x00\\x00\\x00\\x00\\x00\\x00\\x00\\x00\\x00\\x00\\x00\\x00\\x00\\x00\\x00\\x00\\x00\\x00\\x00\\x00\\x00\\x00\\x00\\x00\\x00\\x00\\x00\\x00\\x00\\x00\\x00\\x00\\x00\\x00\\x00\\x00\\x00\\x00\\x00\\x00\\x00\\x00\\x00\\x00\\x00\\x00\\x00\\x00\\x00\\x00\\x00\\x00\\x00\\x00\\x00\\x00\\x00\\x00\\x00\\x00\\x00\\x00\\x00\\x00\\x00\\x00\\x00\\x00\\x00\\x00\\x00\\x00\\x00\\x00\\x00\\x00\\x00\\x00\\x00\\x00\\x00\\x00\\x00\\x00\\x00\\x00\\x00\\x00\\x00\\x00\\x00\\x00\\x00\\x00\\x00\\x00\\x00\\x00\\x00\\x00\\x00\\x00\\x00\\x00\\x00\\x00\\x00\\x00\\x00\\x00\\x00\\x00\\x00\\x00\\x00\\x00\\x00\\x00\\x00\\x00\\x00\\x00\\x00\\x00\\x00\\x00\\x00\\x00\\x00\\x00\\x00\\x00\\x00\\x00\\x00\\x00\\x00\\x00\\x00\\x00\\x00\\x00\\x00\\x00\\x00\\x00\\x00\\x00\\x00\\x00\\x00\\x00\\x00\\x00\\x00\\x00\\x00\\x00\\x00\\x00\\x00\\x00\\x00\\x00\\x00\\x00', 'status': 1}\n",
      "\n",
      "\n",
      "Calling setOICX, with parameters {'_address': 'cx2bb91424c10a6ded8b5da01994c33b2b3cc99090'} on the lendingPool contract.\n"
     ]
    },
    {
     "name": "stderr",
     "output_type": "stream",
     "text": [
      "Raised JSONRPCException while returning the custom response. Error message: {'code': -32602, 'message': 'Pending transaction'}\n"
     ]
    },
    {
     "name": "stdout",
     "output_type": "stream",
     "text": [
      "{'code': -32602, 'message': 'Pending transaction'} (Json rpc error), Retrying in 1 seconds...\n",
      "{'txHash': '0xbd829bce4a3ffc746c3e1c0a0d4e5e51a2d72f2d240184c98ec14cdf3e8c4b79', 'blockHeight': 5021020, 'blockHash': '0x359a176e67f25bc7048b2f0181e67c80f67ecb210ac0df6659a9b21e910ec53b', 'txIndex': 1, 'to': 'cx9ebdfb5b354db434de96b476c49a8fd455d96b1b', 'stepUsed': 149120, 'stepPrice': 10000000000, 'cumulativeStepUsed': 149120, 'eventLogs': [], 'logsBloom': b'\\x00\\x00\\x00\\x00\\x00\\x00\\x00\\x00\\x00\\x00\\x00\\x00\\x00\\x00\\x00\\x00\\x00\\x00\\x00\\x00\\x00\\x00\\x00\\x00\\x00\\x00\\x00\\x00\\x00\\x00\\x00\\x00\\x00\\x00\\x00\\x00\\x00\\x00\\x00\\x00\\x00\\x00\\x00\\x00\\x00\\x00\\x00\\x00\\x00\\x00\\x00\\x00\\x00\\x00\\x00\\x00\\x00\\x00\\x00\\x00\\x00\\x00\\x00\\x00\\x00\\x00\\x00\\x00\\x00\\x00\\x00\\x00\\x00\\x00\\x00\\x00\\x00\\x00\\x00\\x00\\x00\\x00\\x00\\x00\\x00\\x00\\x00\\x00\\x00\\x00\\x00\\x00\\x00\\x00\\x00\\x00\\x00\\x00\\x00\\x00\\x00\\x00\\x00\\x00\\x00\\x00\\x00\\x00\\x00\\x00\\x00\\x00\\x00\\x00\\x00\\x00\\x00\\x00\\x00\\x00\\x00\\x00\\x00\\x00\\x00\\x00\\x00\\x00\\x00\\x00\\x00\\x00\\x00\\x00\\x00\\x00\\x00\\x00\\x00\\x00\\x00\\x00\\x00\\x00\\x00\\x00\\x00\\x00\\x00\\x00\\x00\\x00\\x00\\x00\\x00\\x00\\x00\\x00\\x00\\x00\\x00\\x00\\x00\\x00\\x00\\x00\\x00\\x00\\x00\\x00\\x00\\x00\\x00\\x00\\x00\\x00\\x00\\x00\\x00\\x00\\x00\\x00\\x00\\x00\\x00\\x00\\x00\\x00\\x00\\x00\\x00\\x00\\x00\\x00\\x00\\x00\\x00\\x00\\x00\\x00\\x00\\x00\\x00\\x00\\x00\\x00\\x00\\x00\\x00\\x00\\x00\\x00\\x00\\x00\\x00\\x00\\x00\\x00\\x00\\x00\\x00\\x00\\x00\\x00\\x00\\x00\\x00\\x00\\x00\\x00\\x00\\x00\\x00\\x00\\x00\\x00\\x00\\x00\\x00\\x00\\x00\\x00\\x00\\x00\\x00\\x00\\x00\\x00\\x00\\x00\\x00\\x00\\x00\\x00\\x00\\x00', 'status': 1}\n",
      "\n",
      "\n",
      "Calling setReward, with parameters {'_address': 'cx4f194dfd4db4bdc658be46985a9583a8808cf38e'} on the lendingPool contract.\n",
      "{'txHash': '0x7ee63fd6e49ec0bd28532b4718c00abb43fdf297a43e1e64a93f1be3e57fa5bd', 'blockHeight': 5021021, 'blockHash': '0x9bb0dcac23075cee778138abb20935975cd66e6a4b2b0b09ecff3fd5683dc22e', 'txIndex': 1, 'to': 'cx9ebdfb5b354db434de96b476c49a8fd455d96b1b', 'stepUsed': 149520, 'stepPrice': 10000000000, 'cumulativeStepUsed': 149520, 'eventLogs': [], 'logsBloom': b'\\x00\\x00\\x00\\x00\\x00\\x00\\x00\\x00\\x00\\x00\\x00\\x00\\x00\\x00\\x00\\x00\\x00\\x00\\x00\\x00\\x00\\x00\\x00\\x00\\x00\\x00\\x00\\x00\\x00\\x00\\x00\\x00\\x00\\x00\\x00\\x00\\x00\\x00\\x00\\x00\\x00\\x00\\x00\\x00\\x00\\x00\\x00\\x00\\x00\\x00\\x00\\x00\\x00\\x00\\x00\\x00\\x00\\x00\\x00\\x00\\x00\\x00\\x00\\x00\\x00\\x00\\x00\\x00\\x00\\x00\\x00\\x00\\x00\\x00\\x00\\x00\\x00\\x00\\x00\\x00\\x00\\x00\\x00\\x00\\x00\\x00\\x00\\x00\\x00\\x00\\x00\\x00\\x00\\x00\\x00\\x00\\x00\\x00\\x00\\x00\\x00\\x00\\x00\\x00\\x00\\x00\\x00\\x00\\x00\\x00\\x00\\x00\\x00\\x00\\x00\\x00\\x00\\x00\\x00\\x00\\x00\\x00\\x00\\x00\\x00\\x00\\x00\\x00\\x00\\x00\\x00\\x00\\x00\\x00\\x00\\x00\\x00\\x00\\x00\\x00\\x00\\x00\\x00\\x00\\x00\\x00\\x00\\x00\\x00\\x00\\x00\\x00\\x00\\x00\\x00\\x00\\x00\\x00\\x00\\x00\\x00\\x00\\x00\\x00\\x00\\x00\\x00\\x00\\x00\\x00\\x00\\x00\\x00\\x00\\x00\\x00\\x00\\x00\\x00\\x00\\x00\\x00\\x00\\x00\\x00\\x00\\x00\\x00\\x00\\x00\\x00\\x00\\x00\\x00\\x00\\x00\\x00\\x00\\x00\\x00\\x00\\x00\\x00\\x00\\x00\\x00\\x00\\x00\\x00\\x00\\x00\\x00\\x00\\x00\\x00\\x00\\x00\\x00\\x00\\x00\\x00\\x00\\x00\\x00\\x00\\x00\\x00\\x00\\x00\\x00\\x00\\x00\\x00\\x00\\x00\\x00\\x00\\x00\\x00\\x00\\x00\\x00\\x00\\x00\\x00\\x00\\x00\\x00\\x00\\x00\\x00\\x00\\x00\\x00\\x00\\x00', 'status': 1}\n",
      "\n",
      "\n",
      "Calling setSICX, with parameters {'_address': 'cx75b4cd08dd95e1e6a8ed948653ccb413c5d0573f'} on the lendingPool contract.\n"
     ]
    },
    {
     "name": "stderr",
     "output_type": "stream",
     "text": [
      "Raised JSONRPCException while returning the custom response. Error message: {'code': -32602, 'message': 'Pending transaction'}\n"
     ]
    },
    {
     "name": "stdout",
     "output_type": "stream",
     "text": [
      "{'code': -32602, 'message': 'Pending transaction'} (Json rpc error), Retrying in 1 seconds...\n",
      "{'txHash': '0x534c7d91fddd1822995388ef0068e36076e4faa9caa568289aa450e41e2225ed', 'blockHeight': 5021022, 'blockHash': '0xb8219b47946f6cf67357a5f4cd31afb13002967a8d9b7e29a8f436d80fc0da19', 'txIndex': 1, 'to': 'cx9ebdfb5b354db434de96b476c49a8fd455d96b1b', 'stepUsed': 149120, 'stepPrice': 10000000000, 'cumulativeStepUsed': 149120, 'eventLogs': [], 'logsBloom': b'\\x00\\x00\\x00\\x00\\x00\\x00\\x00\\x00\\x00\\x00\\x00\\x00\\x00\\x00\\x00\\x00\\x00\\x00\\x00\\x00\\x00\\x00\\x00\\x00\\x00\\x00\\x00\\x00\\x00\\x00\\x00\\x00\\x00\\x00\\x00\\x00\\x00\\x00\\x00\\x00\\x00\\x00\\x00\\x00\\x00\\x00\\x00\\x00\\x00\\x00\\x00\\x00\\x00\\x00\\x00\\x00\\x00\\x00\\x00\\x00\\x00\\x00\\x00\\x00\\x00\\x00\\x00\\x00\\x00\\x00\\x00\\x00\\x00\\x00\\x00\\x00\\x00\\x00\\x00\\x00\\x00\\x00\\x00\\x00\\x00\\x00\\x00\\x00\\x00\\x00\\x00\\x00\\x00\\x00\\x00\\x00\\x00\\x00\\x00\\x00\\x00\\x00\\x00\\x00\\x00\\x00\\x00\\x00\\x00\\x00\\x00\\x00\\x00\\x00\\x00\\x00\\x00\\x00\\x00\\x00\\x00\\x00\\x00\\x00\\x00\\x00\\x00\\x00\\x00\\x00\\x00\\x00\\x00\\x00\\x00\\x00\\x00\\x00\\x00\\x00\\x00\\x00\\x00\\x00\\x00\\x00\\x00\\x00\\x00\\x00\\x00\\x00\\x00\\x00\\x00\\x00\\x00\\x00\\x00\\x00\\x00\\x00\\x00\\x00\\x00\\x00\\x00\\x00\\x00\\x00\\x00\\x00\\x00\\x00\\x00\\x00\\x00\\x00\\x00\\x00\\x00\\x00\\x00\\x00\\x00\\x00\\x00\\x00\\x00\\x00\\x00\\x00\\x00\\x00\\x00\\x00\\x00\\x00\\x00\\x00\\x00\\x00\\x00\\x00\\x00\\x00\\x00\\x00\\x00\\x00\\x00\\x00\\x00\\x00\\x00\\x00\\x00\\x00\\x00\\x00\\x00\\x00\\x00\\x00\\x00\\x00\\x00\\x00\\x00\\x00\\x00\\x00\\x00\\x00\\x00\\x00\\x00\\x00\\x00\\x00\\x00\\x00\\x00\\x00\\x00\\x00\\x00\\x00\\x00\\x00\\x00\\x00\\x00\\x00\\x00\\x00', 'status': 1}\n"
     ]
    }
   ],
   "source": [
    "settings_lendingPool = [{'contract': 'lendingPool', 'method': 'setLendingPoolCore', 'params':{'_address': contracts['lendingPoolCore']}},\n",
    "                        {'contract': 'lendingPool', 'method': 'setLendingPoolDataProvider', 'params':{'_address': contracts['lendingPoolDataProvider']}},\n",
    "                        {'contract': 'lendingPool', 'method': 'setFeeProvider', 'params':{'_address': contracts['feeProvider']}},\n",
    "                        {'contract': 'lendingPool', 'method': 'setLiquidationManager','params': {'_address':contracts['liquidationManager']}},\n",
    "#                         {'contract': 'lendingPool', 'method': 'setStaking', 'params':{'_address': contracts['staking']}},\n",
    "                        {'contract': 'lendingPool', 'method': 'setOICX', 'params':{'_address': contracts['oICX']}},\n",
    "                        {'contract': 'lendingPool', 'method': 'setReward','params': {'_address':contracts['rewards']}},\n",
    "                        {'contract': 'lendingPool', 'method': 'setSICX','params': {'_address':contracts['sicx']}},\n",
    "                       ]\n",
    "for sett in settings_lendingPool:\n",
    "    print(f'\\n')\n",
    "    print(f'Calling {sett[\"method\"]}, with parameters {sett[\"params\"]} on the {sett[\"contract\"]} contract.')\n",
    "    transaction = CallTransactionBuilder()\\\n",
    "        .from_(deployer_wallet.get_address())\\\n",
    "        .to(contracts[sett['contract']])\\\n",
    "        .value(0)\\\n",
    "        .step_limit(10000000)\\\n",
    "        .nid(NID)\\\n",
    "        .nonce(100)\\\n",
    "        .method(sett['method'])\\\n",
    "        .params(sett['params'])\\\n",
    "        .build()\n",
    "    signed_transaction = SignedTransaction(transaction, deployer_wallet)\n",
    "    tx_hash = icon_service.send_transaction(signed_transaction)\n",
    "    \n",
    "    print(get_tx_result(tx_hash))"
   ]
  },
  {
   "cell_type": "code",
   "execution_count": 97,
   "metadata": {
    "tags": []
   },
   "outputs": [
    {
     "name": "stdout",
     "output_type": "stream",
     "text": [
      "\n",
      "\n",
      "Calling setSymbol, with parameters {'_reserve': 'cxc88e39248bf428d3ab0b9c9fbafef9ff423c3a75', '_sym': 'USDb'} on the lendingPoolDataProvider contract.\n",
      "Raised JSONRPCException while returning the custom response. Error message: {'code': -32602, 'message': 'Pending transaction'}\n",
      "{'code': -32602, 'message': 'Pending transaction'} (Json rpc error), Retrying in 1 seconds...\n",
      "Raised JSONRPCException while returning the custom response. Error message: {'code': -32602, 'message': 'Pending transaction'}\n",
      "{'code': -32602, 'message': 'Pending transaction'} (Json rpc error), Retrying in 2 seconds...\n",
      "1\n",
      "\n",
      "\n",
      "Calling setSymbol, with parameters {'_reserve': 'cxb7eda227d9ed9c6fc2a74aa5dd7e9a3913f6c281', '_sym': 'ICX'} on the lendingPoolDataProvider contract.\n",
      "Raised JSONRPCException while returning the custom response. Error message: {'code': -32602, 'message': 'Pending transaction'}\n",
      "{'code': -32602, 'message': 'Pending transaction'} (Json rpc error), Retrying in 1 seconds...\n",
      "1\n",
      "\n",
      "\n",
      "Calling setSymbol, with parameters {'_reserve': 'cx65f639254090820361da483df233f6d0e69af9b7', '_sym': 'IUSDC'} on the lendingPoolDataProvider contract.\n",
      "Raised JSONRPCException while returning the custom response. Error message: {'code': -32602, 'message': 'Pending transaction'}\n",
      "{'code': -32602, 'message': 'Pending transaction'} (Json rpc error), Retrying in 1 seconds...\n",
      "1\n",
      "\n",
      "\n",
      "Calling setLendingPoolCore, with parameters {'_address': 'cx2d844c9613b5f864f5dace7fed82997c4c62ef01'} on the lendingPoolDataProvider contract.\n",
      "Raised JSONRPCException while returning the custom response. Error message: {'code': -32602, 'message': 'Pending transaction'}\n",
      "{'code': -32602, 'message': 'Pending transaction'} (Json rpc error), Retrying in 1 seconds...\n",
      "Raised JSONRPCException while returning the custom response. Error message: {'code': -32602, 'message': 'Pending transaction'}\n",
      "{'code': -32602, 'message': 'Pending transaction'} (Json rpc error), Retrying in 2 seconds...\n",
      "1\n",
      "\n",
      "\n",
      "Calling setPriceOracle, with parameters {'_address': 'cxe76fd817fae3b485ae6e4fea2cf88d050d379b63'} on the lendingPoolDataProvider contract.\n",
      "Raised JSONRPCException while returning the custom response. Error message: {'code': -32602, 'message': 'Pending transaction'}\n",
      "{'code': -32602, 'message': 'Pending transaction'} (Json rpc error), Retrying in 1 seconds...\n",
      "Raised JSONRPCException while returning the custom response. Error message: {'code': -32602, 'message': 'Pending transaction'}\n",
      "{'code': -32602, 'message': 'Pending transaction'} (Json rpc error), Retrying in 2 seconds...\n",
      "1\n",
      "\n",
      "\n",
      "Calling setLendingPool, with parameters {'_address': 'cx0be0870a036ef7a08997bd12e1cd0bfed2dd5d85'} on the lendingPoolDataProvider contract.\n",
      "Raised JSONRPCException while returning the custom response. Error message: {'code': -32602, 'message': 'Pending transaction'}\n",
      "{'code': -32602, 'message': 'Pending transaction'} (Json rpc error), Retrying in 1 seconds...\n",
      "1\n",
      "\n",
      "\n",
      "Calling setLiquidationManager, with parameters {'_address': 'cx21b6ee09cd144b2a778bdcf69a46ef2cf898ff1c'} on the lendingPoolDataProvider contract.\n",
      "Raised JSONRPCException while returning the custom response. Error message: {'code': -32602, 'message': 'Pending transaction'}\n",
      "{'code': -32602, 'message': 'Pending transaction'} (Json rpc error), Retrying in 1 seconds...\n",
      "Raised JSONRPCException while returning the custom response. Error message: {'code': -32602, 'message': 'Pending transaction'}\n",
      "{'code': -32602, 'message': 'Pending transaction'} (Json rpc error), Retrying in 2 seconds...\n",
      "1\n",
      "\n",
      "\n",
      "Calling setStaking, with parameters {'_address': 'cxadd9557a07d4aab925dd04b7a6da4ea1d67bef9c'} on the lendingPoolDataProvider contract.\n",
      "Raised JSONRPCException while returning the custom response. Error message: {'code': -32602, 'message': 'Pending transaction'}\n",
      "{'code': -32602, 'message': 'Pending transaction'} (Json rpc error), Retrying in 1 seconds...\n",
      "Raised JSONRPCException while returning the custom response. Error message: {'code': -32602, 'message': 'Pending transaction'}\n",
      "{'code': -32602, 'message': 'Pending transaction'} (Json rpc error), Retrying in 2 seconds...\n",
      "1\n"
     ]
    }
   ],
   "source": [
    "settings_lendinPoolDataProvider=[{'contract': 'lendingPoolDataProvider', 'method': 'setSymbol', 'params':{'_reserve': contracts['sample_token'],'_sym':\"USDb\"}},\n",
    "                                {'contract': 'lendingPoolDataProvider', 'method': 'setSymbol', 'params':{'_reserve': contracts['sicx'],'_sym':\"ICX\"}},\n",
    "                                {'contract': 'lendingPoolDataProvider', 'method': 'setSymbol', 'params':{'_reserve': contracts['iusdc'],'_sym':\"IUSDC\"}},\n",
    "                                {'contract': 'lendingPoolDataProvider', 'method': 'setLendingPoolCore', 'params':{'_address': contracts['lendingPoolCore']}},\n",
    "                                {'contract': 'lendingPoolDataProvider', 'method': 'setPriceOracle', 'params':{'_address': contracts['priceOracle']}},\n",
    "                                {'contract': 'lendingPoolDataProvider', 'method': 'setLendingPool', 'params':{'_address': contracts['lendingPool']}},\n",
    "                                {'contract': 'lendingPoolDataProvider', 'method': 'setLiquidationManager', 'params':{'_address': contracts['liquidationManager']}},\n",
    "                                {'contract': 'lendingPoolDataProvider', 'method': 'setStaking', 'params':{'_address': contracts['staking']}}\n",
    "            ]\n",
    "for sett in settings_lendinPoolDataProvider:\n",
    "    print(f'\\n')\n",
    "    print(f'Calling {sett[\"method\"]}, with parameters {sett[\"params\"]} on the {sett[\"contract\"]} contract.')\n",
    "    transaction = CallTransactionBuilder()\\\n",
    "        .from_(deployer_wallet.get_address())\\\n",
    "        .to(contracts[sett['contract']])\\\n",
    "        .value(0)\\\n",
    "        .step_limit(10000000)\\\n",
    "        .nid(NID)\\\n",
    "        .nonce(100)\\\n",
    "        .method(sett['method'])\\\n",
    "        .params(sett['params'])\\\n",
    "        .build()\n",
    "    signed_transaction = SignedTransaction(transaction, deployer_wallet)\n",
    "    tx_hash = icon_service.send_transaction(signed_transaction)\n",
    "    tx_hash\n",
    "    print(get_tx_result(tx_hash)['status'])"
   ]
  },
  {
   "cell_type": "code",
   "execution_count": 40,
   "metadata": {
    "tags": []
   },
   "outputs": [
    {
     "name": "stdout",
     "output_type": "stream",
     "text": [
      "\n",
      "\n",
      "Calling setLoanOriginationFeePercentage, with parameters {'_percentage': 1000000000000000} on the feeProvider contract.\n"
     ]
    },
    {
     "name": "stderr",
     "output_type": "stream",
     "text": [
      "Raised JSONRPCException while returning the custom response. Error message: {'code': -32602, 'message': 'Pending transaction'}\n"
     ]
    },
    {
     "name": "stdout",
     "output_type": "stream",
     "text": [
      "{'code': -32602, 'message': 'Pending transaction'} (Json rpc error), Retrying in 1 seconds...\n",
      "1\n"
     ]
    }
   ],
   "source": [
    "settings_feeprovider =[{'contract': 'feeProvider', 'method': 'setLoanOriginationFeePercentage', 'params':{'_percentage': 1*10**15}}]\n",
    "for sett in settings_feeprovider:\n",
    "    print(f'\\n')\n",
    "    print(f'Calling {sett[\"method\"]}, with parameters {sett[\"params\"]} on the {sett[\"contract\"]} contract.')\n",
    "    transaction = CallTransactionBuilder()\\\n",
    "        .from_(deployer_wallet.get_address())\\\n",
    "        .to(contracts[sett['contract']])\\\n",
    "        .value(0)\\\n",
    "        .step_limit(10000000)\\\n",
    "        .nid(NID)\\\n",
    "        .nonce(100)\\\n",
    "        .method(sett['method'])\\\n",
    "        .params(sett['params'])\\\n",
    "        .build()\n",
    "    signed_transaction = SignedTransaction(transaction, deployer_wallet)\n",
    "    tx_hash = icon_service.send_transaction(signed_transaction)\n",
    "    tx_hash\n",
    "    print(get_tx_result(tx_hash)['status'])"
   ]
  },
  {
   "cell_type": "code",
   "execution_count": 41,
   "metadata": {
    "tags": []
   },
   "outputs": [
    {
     "name": "stdout",
     "output_type": "stream",
     "text": [
      "\n",
      "\n",
      "Calling setLendingPoolCore, with parameters {'_address': 'cx3755cee5c580d18c3c46b1816465e765a24d1b85'} on the oToken contract.\n"
     ]
    },
    {
     "name": "stderr",
     "output_type": "stream",
     "text": [
      "Raised JSONRPCException while returning the custom response. Error message: {'code': -32602, 'message': 'Pending transaction'}\n"
     ]
    },
    {
     "name": "stdout",
     "output_type": "stream",
     "text": [
      "{'code': -32602, 'message': 'Pending transaction'} (Json rpc error), Retrying in 1 seconds...\n",
      "1\n",
      "\n",
      "\n",
      "Calling setReserve, with parameters {'_address': 'cx195a1294e7836f3f865147e4752a7c7852362c43'} on the oToken contract.\n",
      "1\n",
      "\n",
      "\n",
      "Calling setLendingPoolDataProvider, with parameters {'_address': 'cx52fd89a5beeb3a10747a4fd8981b7b866b9bb289'} on the oToken contract.\n"
     ]
    },
    {
     "name": "stderr",
     "output_type": "stream",
     "text": [
      "Raised JSONRPCException while returning the custom response. Error message: {'code': -32602, 'message': 'Pending transaction'}\n"
     ]
    },
    {
     "name": "stdout",
     "output_type": "stream",
     "text": [
      "{'code': -32602, 'message': 'Pending transaction'} (Json rpc error), Retrying in 1 seconds...\n",
      "1\n",
      "\n",
      "\n",
      "Calling setLendingPool, with parameters {'_address': 'cx9ebdfb5b354db434de96b476c49a8fd455d96b1b'} on the oToken contract.\n"
     ]
    },
    {
     "name": "stderr",
     "output_type": "stream",
     "text": [
      "Raised JSONRPCException while returning the custom response. Error message: {'code': -32602, 'message': 'Pending transaction'}\n"
     ]
    },
    {
     "name": "stdout",
     "output_type": "stream",
     "text": [
      "{'code': -32602, 'message': 'Pending transaction'} (Json rpc error), Retrying in 1 seconds...\n",
      "1\n"
     ]
    }
   ],
   "source": [
    "settings_oToken =[{'contract': 'oToken', 'method': 'setLendingPoolCore', 'params':{'_address':contracts['lendingPoolCore']}},\n",
    "            {'contract': 'oToken', 'method': 'setReserve', 'params':{'_address':contracts['sample_token']}},\n",
    "            {'contract': 'oToken', 'method': 'setLendingPoolDataProvider', 'params':{'_address':contracts['lendingPoolDataProvider']}},\n",
    "            {'contract': 'oToken', 'method': 'setLendingPool', 'params':{'_address':contracts['lendingPool']}}]\n",
    "for sett in settings_oToken:\n",
    "    print(f'\\n')\n",
    "    print(f'Calling {sett[\"method\"]}, with parameters {sett[\"params\"]} on the {sett[\"contract\"]} contract.')\n",
    "    transaction = CallTransactionBuilder()\\\n",
    "        .from_(deployer_wallet.get_address())\\\n",
    "        .to(contracts[sett['contract']])\\\n",
    "        .value(0)\\\n",
    "        .step_limit(10000000)\\\n",
    "        .nid(NID)\\\n",
    "        .nonce(100)\\\n",
    "        .method(sett['method'])\\\n",
    "        .params(sett['params'])\\\n",
    "        .build()\n",
    "    signed_transaction = SignedTransaction(transaction, deployer_wallet)\n",
    "    tx_hash = icon_service.send_transaction(signed_transaction)\n",
    "    tx_hash\n",
    "    print(get_tx_result(tx_hash)['status'])"
   ]
  },
  {
   "cell_type": "code",
   "execution_count": 42,
   "metadata": {
    "tags": []
   },
   "outputs": [
    {
     "name": "stdout",
     "output_type": "stream",
     "text": [
      "\n",
      "\n",
      "Calling set_reference_data, with parameters {'_base': 'USDb', '_quote': 'USD', '_rate': 1000000000000000000} on the priceOracle contract.\n",
      "1\n",
      "\n",
      "\n",
      "Calling set_reference_data, with parameters {'_base': 'ICX', '_quote': 'USD', '_rate': 1000000000000000000} on the priceOracle contract.\n"
     ]
    },
    {
     "name": "stderr",
     "output_type": "stream",
     "text": [
      "Raised JSONRPCException while returning the custom response. Error message: {'code': -32602, 'message': 'Pending transaction'}\n"
     ]
    },
    {
     "name": "stdout",
     "output_type": "stream",
     "text": [
      "{'code': -32602, 'message': 'Pending transaction'} (Json rpc error), Retrying in 1 seconds...\n",
      "1\n",
      "\n",
      "\n",
      "Calling set_reference_data, with parameters {'_base': 'IUSDC', '_quote': 'IUSDC', '_rate': 1000000000000000000} on the priceOracle contract.\n"
     ]
    },
    {
     "name": "stderr",
     "output_type": "stream",
     "text": [
      "Raised JSONRPCException while returning the custom response. Error message: {'code': -32602, 'message': 'Pending transaction'}\n"
     ]
    },
    {
     "name": "stdout",
     "output_type": "stream",
     "text": [
      "{'code': -32602, 'message': 'Pending transaction'} (Json rpc error), Retrying in 1 seconds...\n",
      "1\n"
     ]
    }
   ],
   "source": [
    "setting_priceOracle =[{'contract': 'priceOracle', 'method': 'set_reference_data', 'params':{'_base':'USDb','_quote':'USD','_rate':1*10**18}},\n",
    "                      {'contract': 'priceOracle', 'method': 'set_reference_data', 'params':{'_base':'ICX','_quote':'USD','_rate':10*10**17}},\n",
    "                      {'contract': 'priceOracle', 'method': 'set_reference_data', 'params':{'_base':'IUSDC','_quote':'IUSDC','_rate':10*10**17}}\n",
    "\n",
    "                      ]\n",
    "for sett in setting_priceOracle:\n",
    "    print(f'\\n')\n",
    "    print(f'Calling {sett[\"method\"]}, with parameters {sett[\"params\"]} on the {sett[\"contract\"]} contract.')\n",
    "    transaction = CallTransactionBuilder()\\\n",
    "        .from_(deployer_wallet.get_address())\\\n",
    "        .to(contracts[sett['contract']])\\\n",
    "        .value(0)\\\n",
    "        .step_limit(10000000)\\\n",
    "        .nid(NID)\\\n",
    "        .nonce(100)\\\n",
    "        .method(sett['method'])\\\n",
    "        .params(sett['params'])\\\n",
    "        .build()\n",
    "    signed_transaction = SignedTransaction(transaction, deployer_wallet)\n",
    "    tx_hash = icon_service.send_transaction(signed_transaction)\n",
    "    tx_hash\n",
    "    print(get_tx_result(tx_hash)['status'])"
   ]
  },
  {
   "cell_type": "code",
   "execution_count": 46,
   "metadata": {
    "tags": []
   },
   "outputs": [
    {
     "name": "stdout",
     "output_type": "stream",
     "text": [
      "\n",
      "\n",
      "Calling setLendingPool, with parameters {'_address': 'cx9ebdfb5b354db434de96b476c49a8fd455d96b1b'} on the addressProvider contract.\n"
     ]
    },
    {
     "name": "stderr",
     "output_type": "stream",
     "text": [
      "Raised JSONRPCException while returning the custom response. Error message: {'code': -32602, 'message': 'Pending transaction'}\n"
     ]
    },
    {
     "name": "stdout",
     "output_type": "stream",
     "text": [
      "{'code': -32602, 'message': 'Pending transaction'} (Json rpc error), Retrying in 1 seconds...\n",
      "1\n",
      "\n",
      "\n",
      "Calling setLendingPoolDataProvider, with parameters {'_address': 'cx52fd89a5beeb3a10747a4fd8981b7b866b9bb289'} on the addressProvider contract.\n"
     ]
    },
    {
     "name": "stderr",
     "output_type": "stream",
     "text": [
      "Raised JSONRPCException while returning the custom response. Error message: {'code': -32602, 'message': 'Pending transaction'}\n"
     ]
    },
    {
     "name": "stdout",
     "output_type": "stream",
     "text": [
      "{'code': -32602, 'message': 'Pending transaction'} (Json rpc error), Retrying in 1 seconds...\n",
      "1\n",
      "\n",
      "\n",
      "Calling setUSDb, with parameters {'_address': 'cx195a1294e7836f3f865147e4752a7c7852362c43'} on the addressProvider contract.\n"
     ]
    },
    {
     "name": "stderr",
     "output_type": "stream",
     "text": [
      "Raised JSONRPCException while returning the custom response. Error message: {'code': -32602, 'message': 'Pending transaction'}\n"
     ]
    },
    {
     "name": "stdout",
     "output_type": "stream",
     "text": [
      "{'code': -32602, 'message': 'Pending transaction'} (Json rpc error), Retrying in 1 seconds...\n",
      "1\n",
      "\n",
      "\n",
      "Calling setoUSDb, with parameters {'_address': 'cxcee03a41d9b57fdf08359a9d40029796a47f100e'} on the addressProvider contract.\n",
      "1\n",
      "\n",
      "\n",
      "Calling setsICX, with parameters {'_address': 'cx75b4cd08dd95e1e6a8ed948653ccb413c5d0573f'} on the addressProvider contract.\n"
     ]
    },
    {
     "name": "stderr",
     "output_type": "stream",
     "text": [
      "Raised JSONRPCException while returning the custom response. Error message: {'code': -32602, 'message': 'Pending transaction'}\n"
     ]
    },
    {
     "name": "stdout",
     "output_type": "stream",
     "text": [
      "{'code': -32602, 'message': 'Pending transaction'} (Json rpc error), Retrying in 1 seconds...\n",
      "1\n",
      "\n",
      "\n",
      "Calling setoICX, with parameters {'_address': 'cx2bb91424c10a6ded8b5da01994c33b2b3cc99090'} on the addressProvider contract.\n"
     ]
    },
    {
     "name": "stderr",
     "output_type": "stream",
     "text": [
      "Raised JSONRPCException while returning the custom response. Error message: {'code': -32602, 'message': 'Pending transaction'}\n"
     ]
    },
    {
     "name": "stdout",
     "output_type": "stream",
     "text": [
      "{'code': -32602, 'message': 'Pending transaction'} (Json rpc error), Retrying in 1 seconds...\n",
      "1\n",
      "\n",
      "\n",
      "Calling setoIUSDC, with parameters {'_address': 'cxb75c665e8f0e257b9cbacddc6c7db713362cea99'} on the addressProvider contract.\n",
      "1\n"
     ]
    }
   ],
   "source": [
    "setting_addressProvider =[  {'contract': 'addressProvider', 'method': 'setLendingPool', 'params':{'_address':contracts['lendingPool']}},\n",
    "                            {'contract': 'addressProvider', 'method': 'setLendingPoolDataProvider', 'params':{'_address':contracts['lendingPoolDataProvider']}},\n",
    "                            {'contract': 'addressProvider', 'method': 'setUSDb', 'params':{'_address':contracts['sample_token']}},\n",
    "                            {'contract': 'addressProvider', 'method': 'setoUSDb', 'params':{'_address':contracts['oToken']}},\n",
    "                            {'contract': 'addressProvider', 'method': 'setsICX', 'params':{'_address':contracts['sicx']}},\n",
    "                            {'contract': 'addressProvider', 'method': 'setoICX', 'params':{'_address':contracts['oICX']}},\n",
    "#                             {'contract': 'addressProvider', 'method': 'setStaking', 'params':{'_address':contracts['staking']}},\n",
    "#                             {'contract': 'addressProvider', 'method': 'setIUSDC', 'params':{'_address':contracts['iusdc']}},\n",
    "                            {'contract': 'addressProvider', 'method': 'setoIUSDC', 'params':{'_address':contracts['oIUSDC']}}]\n",
    "for sett in setting_addressProvider:\n",
    "    print(f'\\n')\n",
    "    print(f'Calling {sett[\"method\"]}, with parameters {sett[\"params\"]} on the {sett[\"contract\"]} contract.')\n",
    "    transaction = CallTransactionBuilder()\\\n",
    "        .from_(deployer_wallet.get_address())\\\n",
    "        .to(contracts[sett['contract']])\\\n",
    "        .value(0)\\\n",
    "        .step_limit(10000000)\\\n",
    "        .nid(NID)\\\n",
    "        .nonce(100)\\\n",
    "        .method(sett['method'])\\\n",
    "        .params(sett['params'])\\\n",
    "        .build()\n",
    "    signed_transaction = SignedTransaction(transaction, deployer_wallet)\n",
    "    tx_hash = icon_service.send_transaction(signed_transaction)\n",
    "    tx_hash\n",
    "    print(get_tx_result(tx_hash)['status'])"
   ]
  },
  {
   "cell_type": "code",
   "execution_count": 48,
   "metadata": {
    "tags": []
   },
   "outputs": [
    {
     "name": "stdout",
     "output_type": "stream",
     "text": [
      "\n",
      "\n",
      "Calling setReserveConstants, with parameters {'_constants': [{'reserve': 'cx195a1294e7836f3f865147e4752a7c7852362c43', 'optimalUtilizationRate': '800000000000000000', 'baseBorrowRate': '20000000000000000', 'slopeRate1': '40000000000000000', 'slopeRate2': '1000000000000000000'}]} on the lendingPoolCore contract.\n",
      "1\n",
      "\n",
      "\n",
      "Calling setReserveConstants, with parameters {'_constants': [{'reserve': 'cx75b4cd08dd95e1e6a8ed948653ccb413c5d0573f', 'optimalUtilizationRate': '600000000000000000', 'baseBorrowRate': '000000000000000000', 'slopeRate1': '80000000000000000', 'slopeRate2': '2000000000000000000'}]} on the lendingPoolCore contract.\n"
     ]
    },
    {
     "name": "stderr",
     "output_type": "stream",
     "text": [
      "Raised JSONRPCException while returning the custom response. Error message: {'code': -32602, 'message': 'Pending transaction'}\n"
     ]
    },
    {
     "name": "stdout",
     "output_type": "stream",
     "text": [
      "{'code': -32602, 'message': 'Pending transaction'} (Json rpc error), Retrying in 1 seconds...\n",
      "1\n"
     ]
    }
   ],
   "source": [
    "settings_reserves = [{'contract': 'lendingPoolCore', \n",
    "                        'method': 'setReserveConstants', \n",
    "                        'params' :{\"_constants\": [{\"reserve\":contracts['sample_token'],\n",
    "                                                   \"optimalUtilizationRate\":f\"8{'0'*17}\",\n",
    "                                                   \"baseBorrowRate\":f\"2{'0'*16}\",\n",
    "                                                   \"slopeRate1\":f\"4{'0'*16}\",\n",
    "                                                   \"slopeRate2\":f\"1{'0'*18}\"} ]}},\n",
    "                     {'contract': 'lendingPoolCore', \n",
    "                        'method': 'setReserveConstants', \n",
    "                        'params' :{\"_constants\": [{\"reserve\":contracts['sicx'],\n",
    "                                                    \"optimalUtilizationRate\":f\"6{'0'*17}\",\n",
    "                                                    \"baseBorrowRate\":f\"0{'0'*17}\",\n",
    "                                                    \"slopeRate1\":f\"8{'0'*16}\",\n",
    "                                                    \"slopeRate2\":f\"2{'0'*18}\"} ]}},\n",
    "#                     {'contract': 'lendingPoolCore', \n",
    "#                         'method': 'setReserveConstants', \n",
    "#                         'params' :{\"_constants\": [{\"reserve\":contracts['iusdc'],\n",
    "#                                                     \"optimalUtilizationRate\":f\"8{'0'*17}\",\n",
    "#                                                    \"baseBorrowRate\":f\"2{'0'*16}\",\n",
    "#                                                    \"slopeRate1\":f\"4{'0'*16}\",\n",
    "#                                                    \"slopeRate2\":f\"1{'0'*18}\"} ]}}\n",
    "                    ]\n",
    "for sett in settings_reserves:\n",
    "    print(f'\\n')\n",
    "    print(f'Calling {sett[\"method\"]}, with parameters {sett[\"params\"]} on the {sett[\"contract\"]} contract.')\n",
    "    transaction = CallTransactionBuilder()\\\n",
    "        .from_(deployer_wallet.get_address())\\\n",
    "        .to(contracts[sett['contract']])\\\n",
    "        .value(0)\\\n",
    "        .step_limit(10000000)\\\n",
    "        .nid(NID)\\\n",
    "        .nonce(100)\\\n",
    "        .method(sett['method'])\\\n",
    "        .params(sett['params'])\\\n",
    "        .build()\n",
    "    signed_transaction = SignedTransaction(transaction, deployer_wallet)\n",
    "    tx_hash = icon_service.send_transaction(signed_transaction)\n",
    "    tx_hash\n",
    "    print(get_tx_result(tx_hash)['status'])"
   ]
  },
  {
   "cell_type": "code",
   "execution_count": 49,
   "metadata": {
    "tags": []
   },
   "outputs": [
    {
     "name": "stdout",
     "output_type": "stream",
     "text": [
      "\n",
      "\n",
      "Calling setLendingPoolCore, with parameters {'_address': 'cx3755cee5c580d18c3c46b1816465e765a24d1b85'} on the oICX contract.\n"
     ]
    },
    {
     "name": "stderr",
     "output_type": "stream",
     "text": [
      "Raised JSONRPCException while returning the custom response. Error message: {'code': -32602, 'message': 'Pending transaction'}\n"
     ]
    },
    {
     "name": "stdout",
     "output_type": "stream",
     "text": [
      "{'code': -32602, 'message': 'Pending transaction'} (Json rpc error), Retrying in 1 seconds...\n",
      "1\n",
      "\n",
      "\n",
      "Calling setReserve, with parameters {'_address': 'cx75b4cd08dd95e1e6a8ed948653ccb413c5d0573f'} on the oICX contract.\n"
     ]
    },
    {
     "name": "stderr",
     "output_type": "stream",
     "text": [
      "Raised JSONRPCException while returning the custom response. Error message: {'code': -32602, 'message': 'Pending transaction'}\n"
     ]
    },
    {
     "name": "stdout",
     "output_type": "stream",
     "text": [
      "{'code': -32602, 'message': 'Pending transaction'} (Json rpc error), Retrying in 1 seconds...\n",
      "1\n",
      "\n",
      "\n",
      "Calling setLendingPoolDataProvider, with parameters {'_address': 'cx52fd89a5beeb3a10747a4fd8981b7b866b9bb289'} on the oICX contract.\n"
     ]
    },
    {
     "name": "stderr",
     "output_type": "stream",
     "text": [
      "Raised JSONRPCException while returning the custom response. Error message: {'code': -32602, 'message': 'Pending transaction'}\n"
     ]
    },
    {
     "name": "stdout",
     "output_type": "stream",
     "text": [
      "{'code': -32602, 'message': 'Pending transaction'} (Json rpc error), Retrying in 1 seconds...\n",
      "1\n",
      "\n",
      "\n",
      "Calling setLendingPool, with parameters {'_address': 'cx9ebdfb5b354db434de96b476c49a8fd455d96b1b'} on the oICX contract.\n"
     ]
    },
    {
     "name": "stderr",
     "output_type": "stream",
     "text": [
      "Raised JSONRPCException while returning the custom response. Error message: {'code': -32602, 'message': 'Pending transaction'}\n"
     ]
    },
    {
     "name": "stdout",
     "output_type": "stream",
     "text": [
      "{'code': -32602, 'message': 'Pending transaction'} (Json rpc error), Retrying in 1 seconds...\n",
      "1\n"
     ]
    }
   ],
   "source": [
    "settings_oicx = [{'contract': 'oICX', 'method': 'setLendingPoolCore', 'params':{'_address':contracts['lendingPoolCore']}},\n",
    "                {'contract': 'oICX', 'method': 'setReserve', 'params':{'_address':contracts['sicx']}},\n",
    "                {'contract': 'oICX', 'method': 'setLendingPoolDataProvider', 'params':{'_address':contracts['lendingPoolDataProvider']}},\n",
    "                {'contract': 'oICX', 'method': 'setLendingPool', 'params':{'_address':contracts['lendingPool']}}]\n",
    "for sett in settings_oicx:\n",
    "    print(f'\\n')\n",
    "    print(f'Calling {sett[\"method\"]}, with parameters {sett[\"params\"]} on the {sett[\"contract\"]} contract.')\n",
    "    transaction = CallTransactionBuilder()\\\n",
    "        .from_(deployer_wallet.get_address())\\\n",
    "        .to(contracts[sett['contract']])\\\n",
    "        .value(0)\\\n",
    "        .step_limit(10000000)\\\n",
    "        .nid(NID)\\\n",
    "        .nonce(100)\\\n",
    "        .method(sett['method'])\\\n",
    "        .params(sett['params'])\\\n",
    "        .build()\n",
    "    signed_transaction = SignedTransaction(transaction, deployer_wallet)\n",
    "    tx_hash = icon_service.send_transaction(signed_transaction)\n",
    "    tx_hash\n",
    "    print(get_tx_result(tx_hash)['status'])"
   ]
  },
  {
   "cell_type": "code",
   "execution_count": 51,
   "metadata": {
    "tags": []
   },
   "outputs": [
    {
     "name": "stdout",
     "output_type": "stream",
     "text": [
      "\n",
      "\n",
      "Calling setLendingPoolCore, with parameters {'_address': 'cx3755cee5c580d18c3c46b1816465e765a24d1b85'} on the oIUSDC contract.\n"
     ]
    },
    {
     "name": "stderr",
     "output_type": "stream",
     "text": [
      "Raised JSONRPCException while returning the custom response. Error message: {'code': -32602, 'message': 'Pending transaction'}\n"
     ]
    },
    {
     "name": "stdout",
     "output_type": "stream",
     "text": [
      "{'code': -32602, 'message': 'Pending transaction'} (Json rpc error), Retrying in 1 seconds...\n",
      "1\n",
      "\n",
      "\n",
      "Calling setLendingPoolDataProvider, with parameters {'_address': 'cx52fd89a5beeb3a10747a4fd8981b7b866b9bb289'} on the oIUSDC contract.\n",
      "1\n",
      "\n",
      "\n",
      "Calling setLendingPool, with parameters {'_address': 'cx9ebdfb5b354db434de96b476c49a8fd455d96b1b'} on the oIUSDC contract.\n"
     ]
    },
    {
     "name": "stderr",
     "output_type": "stream",
     "text": [
      "Raised JSONRPCException while returning the custom response. Error message: {'code': -32602, 'message': 'Pending transaction'}\n"
     ]
    },
    {
     "name": "stdout",
     "output_type": "stream",
     "text": [
      "{'code': -32602, 'message': 'Pending transaction'} (Json rpc error), Retrying in 1 seconds...\n",
      "1\n"
     ]
    }
   ],
   "source": [
    "settings_oiusdc = [ {'contract': 'oIUSDC', 'method': 'setLendingPoolCore', 'params':{'_address':contracts['lendingPoolCore']}},\n",
    "#                     {'contract': 'oIUSDC', 'method': 'setReserve', 'params':{'_address':contracts['iusdc']}},\n",
    "                    {'contract': 'oIUSDC', 'method': 'setLendingPoolDataProvider', 'params':{'_address':contracts['lendingPoolDataProvider']}},\n",
    "                    {'contract': 'oIUSDC', 'method': 'setLendingPool', 'params':{'_address':contracts['lendingPool']}}]\n",
    "for sett in settings_oiusdc:\n",
    "    print(f'\\n')\n",
    "    print(f'Calling {sett[\"method\"]}, with parameters {sett[\"params\"]} on the {sett[\"contract\"]} contract.')\n",
    "    transaction = CallTransactionBuilder()\\\n",
    "        .from_(deployer_wallet.get_address())\\\n",
    "        .to(contracts[sett['contract']])\\\n",
    "        .value(0)\\\n",
    "        .step_limit(10000000)\\\n",
    "        .nid(NID)\\\n",
    "        .nonce(100)\\\n",
    "        .method(sett['method'])\\\n",
    "        .params(sett['params'])\\\n",
    "        .build()\n",
    "    signed_transaction = SignedTransaction(transaction, deployer_wallet)\n",
    "    tx_hash = icon_service.send_transaction(signed_transaction)\n",
    "    tx_hash\n",
    "    print(get_tx_result(tx_hash)['status'])"
   ]
  },
  {
   "cell_type": "code",
   "execution_count": 52,
   "metadata": {
    "tags": []
   },
   "outputs": [
    {
     "name": "stdout",
     "output_type": "stream",
     "text": [
      "\n",
      "\n",
      "Calling setLendingPoolDataProvider, with parameters {'_address': 'cx52fd89a5beeb3a10747a4fd8981b7b866b9bb289'} on the liquidationManager contract.\n",
      "1\n",
      "\n",
      "\n",
      "Calling setLendingPoolCore, with parameters {'_address': 'cx3755cee5c580d18c3c46b1816465e765a24d1b85'} on the liquidationManager contract.\n",
      "1\n",
      "\n",
      "\n",
      "Calling setPriceOracle, with parameters {'_address': 'cxd902d339f59a0c7344a8d9b92659d8bcaa9c70f9'} on the liquidationManager contract.\n"
     ]
    },
    {
     "name": "stderr",
     "output_type": "stream",
     "text": [
      "Raised JSONRPCException while returning the custom response. Error message: {'code': -32602, 'message': 'Pending transaction'}\n"
     ]
    },
    {
     "name": "stdout",
     "output_type": "stream",
     "text": [
      "{'code': -32602, 'message': 'Pending transaction'} (Json rpc error), Retrying in 1 seconds...\n",
      "1\n",
      "\n",
      "\n",
      "Calling setFeeProvider, with parameters {'_address': 'cx09be6d8080af4be3e03a48a6c1b54955e1feefae'} on the liquidationManager contract.\n",
      "1\n"
     ]
    }
   ],
   "source": [
    "settings_liquidationManager =  [{'contract': 'liquidationManager', 'method': 'setLendingPoolDataProvider', 'params': {'_address':contracts['lendingPoolDataProvider']}},\n",
    "                                {'contract': 'liquidationManager', 'method': 'setLendingPoolCore', 'params': {'_address':contracts['lendingPoolCore']}},\n",
    "                                {'contract': 'liquidationManager', 'method': 'setPriceOracle','params': {'_address':contracts['priceOracle']}},\n",
    "                                {'contract': 'liquidationManager', 'method': 'setFeeProvider','params': {'_address':contracts['feeProvider']}}\n",
    "                                ]\n",
    "for sett in settings_liquidationManager:\n",
    "    print(f'\\n')\n",
    "    print(f'Calling {sett[\"method\"]}, with parameters {sett[\"params\"]} on the {sett[\"contract\"]} contract.')\n",
    "    transaction = CallTransactionBuilder()\\\n",
    "        .from_(deployer_wallet.get_address())\\\n",
    "        .to(contracts[sett['contract']])\\\n",
    "        .value(0)\\\n",
    "        .step_limit(10000000)\\\n",
    "        .nid(NID)\\\n",
    "        .nonce(100)\\\n",
    "        .method(sett['method'])\\\n",
    "        .params(sett['params'])\\\n",
    "        .build()\n",
    "    signed_transaction = SignedTransaction(transaction, deployer_wallet)\n",
    "    tx_hash = icon_service.send_transaction(signed_transaction)\n",
    "    tx_hash\n",
    "    print(get_tx_result(tx_hash)['status'])"
   ]
  },
  {
   "cell_type": "code",
   "execution_count": 53,
   "metadata": {},
   "outputs": [
    {
     "ename": "SyntaxError",
     "evalue": "invalid syntax (<ipython-input-53-c739acbb8d86>, line 6)",
     "output_type": "error",
     "traceback": [
      "\u001b[0;36m  File \u001b[0;32m\"<ipython-input-53-c739acbb8d86>\"\u001b[0;36m, line \u001b[0;32m6\u001b[0m\n\u001b[0;31m    {'contract': 'rewards', 'method': 'setReceipients','params': {'_address':}},\u001b[0m\n\u001b[0m                                                                             ^\u001b[0m\n\u001b[0;31mSyntaxError\u001b[0m\u001b[0;31m:\u001b[0m invalid syntax\n"
     ]
    }
   ],
   "source": [
    "settings_rewards =[ {'contract': 'rewards', 'method': 'setLendingPool','params': {'_address':contracts['lendingPool']}},\n",
    "                    {'contract': 'rewards', 'method': 'setDaoFund','params': {'_address':contracts['daoFund']}},\n",
    "                    {'contract': 'rewards', 'method': 'setLendingPoolCore','params': {'_address':contracts['lendingPoolCore']}},\n",
    "                    {'contract': 'rewards', 'method': 'setOmm','params': {'_address':contracts['ommToken']}},\n",
    "#                     {'contract': 'rewards', 'method': 'setLpToken','params': {'_address':}},\n",
    "                    {'contract': 'rewards', 'method': 'setReceipients','params': {'_address':}},\n",
    "                    {'contract': 'rewards', 'method': 'setSnapsot','params': {'_address':contracts['snapshot']}},\n",
    "                    {'contract': 'rewards', 'method': 'setStartTimestamp','params': {'_timestamp':}},\n",
    "                    {'contract': 'rewards', 'method': 'setWorkerToken','params': {'_address':contracts['worker_token']}}]\n",
    "for sett in settings_rewards:\n",
    "    print(f'\\n')\n",
    "    print(f'Calling {sett[\"method\"]}, with parameters {sett[\"params\"]} on the {sett[\"contract\"]} contract.')\n",
    "    transaction = CallTransactionBuilder()\\\n",
    "        .from_(deployer_wallet.get_address())\\\n",
    "        .to(contracts[sett['contract']])\\\n",
    "        .value(0)\\\n",
    "        .step_limit(10000000)\\\n",
    "        .nid(NID)\\\n",
    "        .nonce(100)\\\n",
    "        .method(sett['method'])\\\n",
    "        .params(sett['params'])\\\n",
    "        .build()\n",
    "    signed_transaction = SignedTransaction(transaction, deployer_wallet)\n",
    "    tx_hash = icon_service.send_transaction(signed_transaction)\n",
    "    tx_hash\n",
    "    print(get_tx_result(tx_hash)['status'])"
   ]
  },
  {
   "cell_type": "code",
   "execution_count": 55,
   "metadata": {
    "tags": []
   },
   "outputs": [
    {
     "name": "stdout",
     "output_type": "stream",
     "text": [
      "\n",
      "\n",
      "Calling setLendingPoolCore, with parameters {'_address': 'cx3755cee5c580d18c3c46b1816465e765a24d1b85'} on the delegation contract.\n",
      "1\n",
      "\n",
      "\n",
      "Calling setOmmToken, with parameters {'_address': 'cxe2fe821536890b983bc16bdc6217f740c7e40f8b'} on the delegation contract.\n"
     ]
    },
    {
     "name": "stderr",
     "output_type": "stream",
     "text": [
      "Raised JSONRPCException while returning the custom response. Error message: {'code': -32602, 'message': 'Pending transaction'}\n"
     ]
    },
    {
     "name": "stdout",
     "output_type": "stream",
     "text": [
      "{'code': -32602, 'message': 'Pending transaction'} (Json rpc error), Retrying in 1 seconds...\n",
      "1\n"
     ]
    }
   ],
   "source": [
    "settings_delegation =[{'contract': 'delegation', 'method': 'setLendingPoolCore','params': {'_address':contracts['lendingPoolCore']}},\n",
    "                     {'contract':  'delegation', 'method': 'setOmmToken','params': {'_address':contracts['ommToken']}}]\n",
    "for sett in settings_delegation:\n",
    "    print(f'\\n')\n",
    "    print(f'Calling {sett[\"method\"]}, with parameters {sett[\"params\"]} on the {sett[\"contract\"]} contract.')\n",
    "    transaction = CallTransactionBuilder()\\\n",
    "        .from_(deployer_wallet.get_address())\\\n",
    "        .to(contracts[sett['contract']])\\\n",
    "        .value(0)\\\n",
    "        .step_limit(10000000)\\\n",
    "        .nid(NID)\\\n",
    "        .nonce(100)\\\n",
    "        .method(sett['method'])\\\n",
    "        .params(sett['params'])\\\n",
    "        .build()\n",
    "    signed_transaction = SignedTransaction(transaction, deployer_wallet)\n",
    "    tx_hash = icon_service.send_transaction(signed_transaction)\n",
    "    tx_hash\n",
    "    print(get_tx_result(tx_hash)['status'])"
   ]
  },
  {
   "cell_type": "code",
   "execution_count": 54,
   "metadata": {
    "tags": []
   },
   "outputs": [
    {
     "name": "stdout",
     "output_type": "stream",
     "text": [
      "\n",
      "\n",
      "Calling setAdmin, with parameters {'_admin': 'cx4f194dfd4db4bdc658be46985a9583a8808cf38e'} on the ommToken contract.\n"
     ]
    },
    {
     "name": "stderr",
     "output_type": "stream",
     "text": [
      "Raised JSONRPCException while returning the custom response. Error message: {'code': -32602, 'message': 'Pending transaction'}\n"
     ]
    },
    {
     "name": "stdout",
     "output_type": "stream",
     "text": [
      "{'code': -32602, 'message': 'Pending transaction'} (Json rpc error), Retrying in 1 seconds...\n",
      "{'txHash': '0xe797a92cbf17580ce788895392fafc6159bbed086a4bde0c391e5c60c64d64b6', 'blockHeight': 5021151, 'blockHash': '0x0df1612cfea792e67d09615ef6daf2eddda62cb803ec3761e6bacbdd1b7ab7d1', 'txIndex': 1, 'to': 'cxe2fe821536890b983bc16bdc6217f740c7e40f8b', 'stepUsed': 148920, 'stepPrice': 10000000000, 'cumulativeStepUsed': 148920, 'eventLogs': [], 'logsBloom': b'\\x00\\x00\\x00\\x00\\x00\\x00\\x00\\x00\\x00\\x00\\x00\\x00\\x00\\x00\\x00\\x00\\x00\\x00\\x00\\x00\\x00\\x00\\x00\\x00\\x00\\x00\\x00\\x00\\x00\\x00\\x00\\x00\\x00\\x00\\x00\\x00\\x00\\x00\\x00\\x00\\x00\\x00\\x00\\x00\\x00\\x00\\x00\\x00\\x00\\x00\\x00\\x00\\x00\\x00\\x00\\x00\\x00\\x00\\x00\\x00\\x00\\x00\\x00\\x00\\x00\\x00\\x00\\x00\\x00\\x00\\x00\\x00\\x00\\x00\\x00\\x00\\x00\\x00\\x00\\x00\\x00\\x00\\x00\\x00\\x00\\x00\\x00\\x00\\x00\\x00\\x00\\x00\\x00\\x00\\x00\\x00\\x00\\x00\\x00\\x00\\x00\\x00\\x00\\x00\\x00\\x00\\x00\\x00\\x00\\x00\\x00\\x00\\x00\\x00\\x00\\x00\\x00\\x00\\x00\\x00\\x00\\x00\\x00\\x00\\x00\\x00\\x00\\x00\\x00\\x00\\x00\\x00\\x00\\x00\\x00\\x00\\x00\\x00\\x00\\x00\\x00\\x00\\x00\\x00\\x00\\x00\\x00\\x00\\x00\\x00\\x00\\x00\\x00\\x00\\x00\\x00\\x00\\x00\\x00\\x00\\x00\\x00\\x00\\x00\\x00\\x00\\x00\\x00\\x00\\x00\\x00\\x00\\x00\\x00\\x00\\x00\\x00\\x00\\x00\\x00\\x00\\x00\\x00\\x00\\x00\\x00\\x00\\x00\\x00\\x00\\x00\\x00\\x00\\x00\\x00\\x00\\x00\\x00\\x00\\x00\\x00\\x00\\x00\\x00\\x00\\x00\\x00\\x00\\x00\\x00\\x00\\x00\\x00\\x00\\x00\\x00\\x00\\x00\\x00\\x00\\x00\\x00\\x00\\x00\\x00\\x00\\x00\\x00\\x00\\x00\\x00\\x00\\x00\\x00\\x00\\x00\\x00\\x00\\x00\\x00\\x00\\x00\\x00\\x00\\x00\\x00\\x00\\x00\\x00\\x00\\x00\\x00\\x00\\x00\\x00\\x00', 'status': 1}\n",
      "\n",
      "\n",
      "Calling setDelegation, with parameters {'_address': 'cx7eb823b737f355c08f1911009bb834ffb6773253'} on the ommToken contract.\n"
     ]
    },
    {
     "name": "stderr",
     "output_type": "stream",
     "text": [
      "Raised JSONRPCException while returning the custom response. Error message: {'code': -32602, 'message': 'Pending transaction'}\n"
     ]
    },
    {
     "name": "stdout",
     "output_type": "stream",
     "text": [
      "{'code': -32602, 'message': 'Pending transaction'} (Json rpc error), Retrying in 1 seconds...\n",
      "{'txHash': '0x25a42fb7fa8f5249ec5721074444b875631282e74253220cfb3309b47ece8c92', 'blockHeight': 5021153, 'blockHash': '0xb1d2d813169159859bf08f9b03fe2200231ce219e83113cf75c2a61bb5cd6295', 'txIndex': 1, 'to': 'cxe2fe821536890b983bc16bdc6217f740c7e40f8b', 'stepUsed': 150320, 'stepPrice': 10000000000, 'cumulativeStepUsed': 150320, 'eventLogs': [], 'logsBloom': b'\\x00\\x00\\x00\\x00\\x00\\x00\\x00\\x00\\x00\\x00\\x00\\x00\\x00\\x00\\x00\\x00\\x00\\x00\\x00\\x00\\x00\\x00\\x00\\x00\\x00\\x00\\x00\\x00\\x00\\x00\\x00\\x00\\x00\\x00\\x00\\x00\\x00\\x00\\x00\\x00\\x00\\x00\\x00\\x00\\x00\\x00\\x00\\x00\\x00\\x00\\x00\\x00\\x00\\x00\\x00\\x00\\x00\\x00\\x00\\x00\\x00\\x00\\x00\\x00\\x00\\x00\\x00\\x00\\x00\\x00\\x00\\x00\\x00\\x00\\x00\\x00\\x00\\x00\\x00\\x00\\x00\\x00\\x00\\x00\\x00\\x00\\x00\\x00\\x00\\x00\\x00\\x00\\x00\\x00\\x00\\x00\\x00\\x00\\x00\\x00\\x00\\x00\\x00\\x00\\x00\\x00\\x00\\x00\\x00\\x00\\x00\\x00\\x00\\x00\\x00\\x00\\x00\\x00\\x00\\x00\\x00\\x00\\x00\\x00\\x00\\x00\\x00\\x00\\x00\\x00\\x00\\x00\\x00\\x00\\x00\\x00\\x00\\x00\\x00\\x00\\x00\\x00\\x00\\x00\\x00\\x00\\x00\\x00\\x00\\x00\\x00\\x00\\x00\\x00\\x00\\x00\\x00\\x00\\x00\\x00\\x00\\x00\\x00\\x00\\x00\\x00\\x00\\x00\\x00\\x00\\x00\\x00\\x00\\x00\\x00\\x00\\x00\\x00\\x00\\x00\\x00\\x00\\x00\\x00\\x00\\x00\\x00\\x00\\x00\\x00\\x00\\x00\\x00\\x00\\x00\\x00\\x00\\x00\\x00\\x00\\x00\\x00\\x00\\x00\\x00\\x00\\x00\\x00\\x00\\x00\\x00\\x00\\x00\\x00\\x00\\x00\\x00\\x00\\x00\\x00\\x00\\x00\\x00\\x00\\x00\\x00\\x00\\x00\\x00\\x00\\x00\\x00\\x00\\x00\\x00\\x00\\x00\\x00\\x00\\x00\\x00\\x00\\x00\\x00\\x00\\x00\\x00\\x00\\x00\\x00\\x00\\x00\\x00\\x00\\x00\\x00', 'status': 1}\n",
      "\n",
      "\n",
      "Calling setRewards, with parameters {'_address': 'cx4f194dfd4db4bdc658be46985a9583a8808cf38e'} on the ommToken contract.\n",
      "{'txHash': '0xf9166afc0d22f36cd8df72eeb855f59476c022f457eb6848943d78e81beaa018', 'blockHeight': 5021154, 'blockHash': '0x0b91fd96a47ddf8cebf34a85d94e2904a34267644f29c41282129408e70fb1a4', 'txIndex': 1, 'to': 'cxe2fe821536890b983bc16bdc6217f740c7e40f8b', 'stepUsed': 149720, 'stepPrice': 10000000000, 'cumulativeStepUsed': 149720, 'eventLogs': [], 'logsBloom': b'\\x00\\x00\\x00\\x00\\x00\\x00\\x00\\x00\\x00\\x00\\x00\\x00\\x00\\x00\\x00\\x00\\x00\\x00\\x00\\x00\\x00\\x00\\x00\\x00\\x00\\x00\\x00\\x00\\x00\\x00\\x00\\x00\\x00\\x00\\x00\\x00\\x00\\x00\\x00\\x00\\x00\\x00\\x00\\x00\\x00\\x00\\x00\\x00\\x00\\x00\\x00\\x00\\x00\\x00\\x00\\x00\\x00\\x00\\x00\\x00\\x00\\x00\\x00\\x00\\x00\\x00\\x00\\x00\\x00\\x00\\x00\\x00\\x00\\x00\\x00\\x00\\x00\\x00\\x00\\x00\\x00\\x00\\x00\\x00\\x00\\x00\\x00\\x00\\x00\\x00\\x00\\x00\\x00\\x00\\x00\\x00\\x00\\x00\\x00\\x00\\x00\\x00\\x00\\x00\\x00\\x00\\x00\\x00\\x00\\x00\\x00\\x00\\x00\\x00\\x00\\x00\\x00\\x00\\x00\\x00\\x00\\x00\\x00\\x00\\x00\\x00\\x00\\x00\\x00\\x00\\x00\\x00\\x00\\x00\\x00\\x00\\x00\\x00\\x00\\x00\\x00\\x00\\x00\\x00\\x00\\x00\\x00\\x00\\x00\\x00\\x00\\x00\\x00\\x00\\x00\\x00\\x00\\x00\\x00\\x00\\x00\\x00\\x00\\x00\\x00\\x00\\x00\\x00\\x00\\x00\\x00\\x00\\x00\\x00\\x00\\x00\\x00\\x00\\x00\\x00\\x00\\x00\\x00\\x00\\x00\\x00\\x00\\x00\\x00\\x00\\x00\\x00\\x00\\x00\\x00\\x00\\x00\\x00\\x00\\x00\\x00\\x00\\x00\\x00\\x00\\x00\\x00\\x00\\x00\\x00\\x00\\x00\\x00\\x00\\x00\\x00\\x00\\x00\\x00\\x00\\x00\\x00\\x00\\x00\\x00\\x00\\x00\\x00\\x00\\x00\\x00\\x00\\x00\\x00\\x00\\x00\\x00\\x00\\x00\\x00\\x00\\x00\\x00\\x00\\x00\\x00\\x00\\x00\\x00\\x00\\x00\\x00\\x00\\x00\\x00\\x00', 'status': 1}\n",
      "\n",
      "\n",
      "Calling setMinimumStake, with parameters {'_min': 100000000000000000000} on the ommToken contract.\n"
     ]
    },
    {
     "name": "stderr",
     "output_type": "stream",
     "text": [
      "Raised JSONRPCException while returning the custom response. Error message: {'code': -32602, 'message': 'Pending transaction'}\n"
     ]
    },
    {
     "name": "stdout",
     "output_type": "stream",
     "text": [
      "{'code': -32602, 'message': 'Pending transaction'} (Json rpc error), Retrying in 1 seconds...\n",
      "{'txHash': '0x9b3fabea77573f53fc0c8b8f7515f82e6479ff2309ca74fc8bc80f91bd7a9c69', 'blockHeight': 5021155, 'blockHash': '0x01cad0bb40acc6f22341b93a07fb86e9a10cd99fd971492b19fdb51b4f26c7ba', 'txIndex': 1, 'to': 'cxe2fe821536890b983bc16bdc6217f740c7e40f8b', 'stepUsed': 141480, 'stepPrice': 10000000000, 'cumulativeStepUsed': 141480, 'eventLogs': [], 'logsBloom': b'\\x00\\x00\\x00\\x00\\x00\\x00\\x00\\x00\\x00\\x00\\x00\\x00\\x00\\x00\\x00\\x00\\x00\\x00\\x00\\x00\\x00\\x00\\x00\\x00\\x00\\x00\\x00\\x00\\x00\\x00\\x00\\x00\\x00\\x00\\x00\\x00\\x00\\x00\\x00\\x00\\x00\\x00\\x00\\x00\\x00\\x00\\x00\\x00\\x00\\x00\\x00\\x00\\x00\\x00\\x00\\x00\\x00\\x00\\x00\\x00\\x00\\x00\\x00\\x00\\x00\\x00\\x00\\x00\\x00\\x00\\x00\\x00\\x00\\x00\\x00\\x00\\x00\\x00\\x00\\x00\\x00\\x00\\x00\\x00\\x00\\x00\\x00\\x00\\x00\\x00\\x00\\x00\\x00\\x00\\x00\\x00\\x00\\x00\\x00\\x00\\x00\\x00\\x00\\x00\\x00\\x00\\x00\\x00\\x00\\x00\\x00\\x00\\x00\\x00\\x00\\x00\\x00\\x00\\x00\\x00\\x00\\x00\\x00\\x00\\x00\\x00\\x00\\x00\\x00\\x00\\x00\\x00\\x00\\x00\\x00\\x00\\x00\\x00\\x00\\x00\\x00\\x00\\x00\\x00\\x00\\x00\\x00\\x00\\x00\\x00\\x00\\x00\\x00\\x00\\x00\\x00\\x00\\x00\\x00\\x00\\x00\\x00\\x00\\x00\\x00\\x00\\x00\\x00\\x00\\x00\\x00\\x00\\x00\\x00\\x00\\x00\\x00\\x00\\x00\\x00\\x00\\x00\\x00\\x00\\x00\\x00\\x00\\x00\\x00\\x00\\x00\\x00\\x00\\x00\\x00\\x00\\x00\\x00\\x00\\x00\\x00\\x00\\x00\\x00\\x00\\x00\\x00\\x00\\x00\\x00\\x00\\x00\\x00\\x00\\x00\\x00\\x00\\x00\\x00\\x00\\x00\\x00\\x00\\x00\\x00\\x00\\x00\\x00\\x00\\x00\\x00\\x00\\x00\\x00\\x00\\x00\\x00\\x00\\x00\\x00\\x00\\x00\\x00\\x00\\x00\\x00\\x00\\x00\\x00\\x00\\x00\\x00\\x00\\x00\\x00\\x00', 'status': 1}\n",
      "\n",
      "\n",
      "Calling setUnstakingPeriod, with parameters {'_time': 120} on the ommToken contract.\n"
     ]
    },
    {
     "name": "stderr",
     "output_type": "stream",
     "text": [
      "Raised JSONRPCException while returning the custom response. Error message: {'code': -32602, 'message': 'Pending transaction'}\n"
     ]
    },
    {
     "name": "stdout",
     "output_type": "stream",
     "text": [
      "{'code': -32602, 'message': 'Pending transaction'} (Json rpc error), Retrying in 1 seconds...\n",
      "{'txHash': '0x8e45b7193cb7af926f91b1b835b84ce1aad8892d710e3fa5274e948925c3df1a', 'blockHeight': 5021157, 'blockHash': '0x5a33f911867b0526757da1fe8cfc53c2dd27d0a04b454a15afa6a71c52e15385', 'txIndex': 1, 'to': 'cxe2fe821536890b983bc16bdc6217f740c7e40f8b', 'stepUsed': 137680, 'stepPrice': 10000000000, 'cumulativeStepUsed': 137680, 'eventLogs': [], 'logsBloom': b'\\x00\\x00\\x00\\x00\\x00\\x00\\x00\\x00\\x00\\x00\\x00\\x00\\x00\\x00\\x00\\x00\\x00\\x00\\x00\\x00\\x00\\x00\\x00\\x00\\x00\\x00\\x00\\x00\\x00\\x00\\x00\\x00\\x00\\x00\\x00\\x00\\x00\\x00\\x00\\x00\\x00\\x00\\x00\\x00\\x00\\x00\\x00\\x00\\x00\\x00\\x00\\x00\\x00\\x00\\x00\\x00\\x00\\x00\\x00\\x00\\x00\\x00\\x00\\x00\\x00\\x00\\x00\\x00\\x00\\x00\\x00\\x00\\x00\\x00\\x00\\x00\\x00\\x00\\x00\\x00\\x00\\x00\\x00\\x00\\x00\\x00\\x00\\x00\\x00\\x00\\x00\\x00\\x00\\x00\\x00\\x00\\x00\\x00\\x00\\x00\\x00\\x00\\x00\\x00\\x00\\x00\\x00\\x00\\x00\\x00\\x00\\x00\\x00\\x00\\x00\\x00\\x00\\x00\\x00\\x00\\x00\\x00\\x00\\x00\\x00\\x00\\x00\\x00\\x00\\x00\\x00\\x00\\x00\\x00\\x00\\x00\\x00\\x00\\x00\\x00\\x00\\x00\\x00\\x00\\x00\\x00\\x00\\x00\\x00\\x00\\x00\\x00\\x00\\x00\\x00\\x00\\x00\\x00\\x00\\x00\\x00\\x00\\x00\\x00\\x00\\x00\\x00\\x00\\x00\\x00\\x00\\x00\\x00\\x00\\x00\\x00\\x00\\x00\\x00\\x00\\x00\\x00\\x00\\x00\\x00\\x00\\x00\\x00\\x00\\x00\\x00\\x00\\x00\\x00\\x00\\x00\\x00\\x00\\x00\\x00\\x00\\x00\\x00\\x00\\x00\\x00\\x00\\x00\\x00\\x00\\x00\\x00\\x00\\x00\\x00\\x00\\x00\\x00\\x00\\x00\\x00\\x00\\x00\\x00\\x00\\x00\\x00\\x00\\x00\\x00\\x00\\x00\\x00\\x00\\x00\\x00\\x00\\x00\\x00\\x00\\x00\\x00\\x00\\x00\\x00\\x00\\x00\\x00\\x00\\x00\\x00\\x00\\x00\\x00\\x00\\x00', 'status': 1}\n"
     ]
    }
   ],
   "source": [
    "settings_ommToken =[{'contract': 'ommToken', 'method': 'setAdmin','params': {'_admin':contracts['rewards']}},\n",
    "                    {'contract':  'ommToken', 'method': 'setDelegation','params': {'_address':contracts['delegation']}},\n",
    "                    {'contract':  'ommToken', 'method': 'setRewards','params': {'_address':contracts['rewards']}},\n",
    "                    {'contract':  'ommToken', 'method': 'setMinimumStake','params': {'_min':100 * 10**18}},\n",
    "                    {'contract':  'ommToken', 'method': 'setUnstakingPeriod','params': {'_time': 120}}]\n",
    "for sett in settings_ommToken:\n",
    "    print(f'\\n')\n",
    "    print(f'Calling {sett[\"method\"]}, with parameters {sett[\"params\"]} on the {sett[\"contract\"]} contract.')\n",
    "    transaction = CallTransactionBuilder()\\\n",
    "        .from_(deployer_wallet.get_address())\\\n",
    "        .to(contracts[sett['contract']])\\\n",
    "        .value(0)\\\n",
    "        .step_limit(10000000)\\\n",
    "        .nid(NID)\\\n",
    "        .nonce(100)\\\n",
    "        .method(sett['method'])\\\n",
    "        .params(sett['params'])\\\n",
    "        .build()\n",
    "    signed_transaction = SignedTransaction(transaction, deployer_wallet)\n",
    "    tx_hash = icon_service.send_transaction(signed_transaction)\n",
    "    \n",
    "    print(get_tx_result(tx_hash))"
   ]
  },
  {
   "cell_type": "code",
   "execution_count": 120,
   "metadata": {
    "tags": []
   },
   "outputs": [
    {
     "name": "stdout",
     "output_type": "stream",
     "text": [
      "\n",
      "\n",
      "Calling setLendingPool, with parameters {'_address': 'cx0be0870a036ef7a08997bd12e1cd0bfed2dd5d85'} on the lendingPoolCore contract.\n",
      "Raised JSONRPCException while returning the custom response. Error message: {'code': -32602, 'message': 'Pending transaction'}\n",
      "{'code': -32602, 'message': 'Pending transaction'} (Json rpc error), Retrying in 1 seconds...\n",
      "1\n",
      "\n",
      "\n",
      "Calling setDaoFund, with parameters {'_address': 'cxb2e669fbb8b94f2a4525345f22e466933b8d2075'} on the lendingPoolCore contract.\n",
      "Raised JSONRPCException while returning the custom response. Error message: {'code': -32602, 'message': 'Pending transaction'}\n",
      "{'code': -32602, 'message': 'Pending transaction'} (Json rpc error), Retrying in 1 seconds...\n",
      "Raised JSONRPCException while returning the custom response. Error message: {'code': -32602, 'message': 'Pending transaction'}\n",
      "{'code': -32602, 'message': 'Pending transaction'} (Json rpc error), Retrying in 2 seconds...\n",
      "1\n",
      "\n",
      "\n",
      "Calling setLendingPoolCore, with parameters {'_address': 'cx2d844c9613b5f864f5dace7fed82997c4c62ef01'} on the lendingPoolCore contract.\n",
      "Raised JSONRPCException while returning the custom response. Error message: {'code': -32602, 'message': 'Pending transaction'}\n",
      "{'code': -32602, 'message': 'Pending transaction'} (Json rpc error), Retrying in 1 seconds...\n",
      "0\n",
      "\n",
      "\n",
      "Calling setPriceOracle, with parameters {'_address': 'cxe76fd817fae3b485ae6e4fea2cf88d050d379b63'} on the lendingPoolCore contract.\n",
      "Raised JSONRPCException while returning the custom response. Error message: {'code': -32602, 'message': 'Pending transaction'}\n",
      "{'code': -32602, 'message': 'Pending transaction'} (Json rpc error), Retrying in 1 seconds...\n",
      "1\n",
      "\n",
      "\n",
      "Calling setLiquidationManager, with parameters {'_address': 'cx21b6ee09cd144b2a778bdcf69a46ef2cf898ff1c'} on the lendingPoolCore contract.\n",
      "Raised JSONRPCException while returning the custom response. Error message: {'code': -32602, 'message': 'Pending transaction'}\n",
      "{'code': -32602, 'message': 'Pending transaction'} (Json rpc error), Retrying in 1 seconds...\n",
      "1\n",
      "\n",
      "\n",
      "Calling setDelegation, with parameters {'_address': 'cx24e32367425660a67c91d6e3c1077914df4e0286'} on the lendingPoolCore contract.\n",
      "Raised JSONRPCException while returning the custom response. Error message: {'code': -32602, 'message': 'Pending transaction'}\n",
      "{'code': -32602, 'message': 'Pending transaction'} (Json rpc error), Retrying in 1 seconds...\n",
      "1\n",
      "\n",
      "\n",
      "Calling setSnapshot, with parameters {'_address': 'cx584f740fedab472057bd8ee6e32d97b9b0a05b9d'} on the lendingPoolCore contract.\n",
      "Raised JSONRPCException while returning the custom response. Error message: {'code': -32602, 'message': 'Pending transaction'}\n",
      "{'code': -32602, 'message': 'Pending transaction'} (Json rpc error), Retrying in 1 seconds...\n",
      "1\n",
      "\n",
      "\n",
      "Calling setStaking, with parameters {'_address': 'cxadd9557a07d4aab925dd04b7a6da4ea1d67bef9c'} on the lendingPoolCore contract.\n",
      "Raised JSONRPCException while returning the custom response. Error message: {'code': -32602, 'message': 'Pending transaction'}\n",
      "{'code': -32602, 'message': 'Pending transaction'} (Json rpc error), Retrying in 1 seconds...\n",
      "Raised JSONRPCException while returning the custom response. Error message: {'code': -32602, 'message': 'Pending transaction'}\n",
      "{'code': -32602, 'message': 'Pending transaction'} (Json rpc error), Retrying in 2 seconds...\n",
      "1\n",
      "\n",
      "\n",
      "Calling set_id, with parameters {'_value': '1'} on the lendingPoolCore contract.\n",
      "Raised JSONRPCException while returning the custom response. Error message: {'code': -32602, 'message': 'Pending transaction'}\n",
      "{'code': -32602, 'message': 'Pending transaction'} (Json rpc error), Retrying in 1 seconds...\n",
      "Raised JSONRPCException while returning the custom response. Error message: {'code': -32602, 'message': 'Pending transaction'}\n",
      "{'code': -32602, 'message': 'Pending transaction'} (Json rpc error), Retrying in 2 seconds...\n",
      "1\n",
      "\n",
      "\n",
      "Calling setSymbol, with parameters {'_reserve': 'cxc88e39248bf428d3ab0b9c9fbafef9ff423c3a75', '_sym': 'USDb'} on the lendingPoolCore contract.\n",
      "Raised JSONRPCException while returning the custom response. Error message: {'code': -32602, 'message': 'Pending transaction'}\n",
      "{'code': -32602, 'message': 'Pending transaction'} (Json rpc error), Retrying in 1 seconds...\n",
      "Raised JSONRPCException while returning the custom response. Error message: {'code': -32602, 'message': 'Pending transaction'}\n",
      "{'code': -32602, 'message': 'Pending transaction'} (Json rpc error), Retrying in 2 seconds...\n",
      "1\n",
      "\n",
      "\n",
      "Calling setSymbol, with parameters {'_reserve': 'cxb7eda227d9ed9c6fc2a74aa5dd7e9a3913f6c281', '_sym': 'ICX'} on the lendingPoolCore contract.\n",
      "Raised JSONRPCException while returning the custom response. Error message: {'code': -32602, 'message': 'Pending transaction'}\n",
      "{'code': -32602, 'message': 'Pending transaction'} (Json rpc error), Retrying in 1 seconds...\n",
      "1\n",
      "\n",
      "\n",
      "Calling setSymbol, with parameters {'_reserve': 'cx65f639254090820361da483df233f6d0e69af9b7', '_sym': 'IUSDC'} on the lendingPoolCore contract.\n",
      "Raised JSONRPCException while returning the custom response. Error message: {'code': -32602, 'message': 'Pending transaction'}\n",
      "{'code': -32602, 'message': 'Pending transaction'} (Json rpc error), Retrying in 1 seconds...\n",
      "Raised JSONRPCException while returning the custom response. Error message: {'code': -32602, 'message': 'Pending transaction'}\n",
      "{'code': -32602, 'message': 'Pending transaction'} (Json rpc error), Retrying in 2 seconds...\n",
      "1\n"
     ]
    }
   ],
   "source": [
    "settings_lendingPoolCore =[ {'contract': 'lendingPoolCore', 'method': 'setLendingPool','params': {'_address':contracts['lendingPool']}},\n",
    "                            {'contract': 'lendingPoolCore', 'method': 'setDaoFund','params': {'_address':contracts['daoFund']}},\n",
    "                            {'contract': 'lendingPoolCore', 'method': 'setPriceOracle','params': {'_address':contracts['priceOracle']}},\n",
    "                            {'contract': 'lendingPoolCore', 'method': 'setLiquidationManager','params': {'_address':contracts['liquidationManager']}},\n",
    "                            {'contract': 'lendingPoolCore', 'method': 'setDelegation','params': {'_address':contracts['delegation']}},\n",
    "                            {'contract': 'lendingPoolCore', 'method': 'setSnapshot','params': {'_address':contracts['snapshot']}},\n",
    "                            {'contract': 'lendingPoolCore', 'method': 'setStaking','params': {'_address':contracts['staking']}},\n",
    "                            {'contract': 'lendingPoolCore', 'method': 'set_id','params': {'_value':'1'}},\n",
    "                            {'contract': 'lendingPoolCore', 'method': 'setSymbol', 'params':{'_reserve': contracts['sample_token'],'_sym':\"USDb\"}},\n",
    "                            {'contract': 'lendingPoolCore', 'method': 'setSymbol', 'params':{'_reserve': contracts['sicx'],'_sym':\"ICX\"}},\n",
    "                            {'contract': 'lendingPoolCore', 'method': 'setSymbol', 'params':{'_reserve': contracts['iusdc'],'_sym':\"IUSDC\"}}]\n",
    "for sett in settings_lendingPoolCore:\n",
    "    print(f'\\n')\n",
    "    print(f'Calling {sett[\"method\"]}, with parameters {sett[\"params\"]} on the {sett[\"contract\"]} contract.')\n",
    "    transaction = CallTransactionBuilder()\\\n",
    "        .from_(deployer_wallet.get_address())\\\n",
    "        .to(contracts[sett['contract']])\\\n",
    "        .value(0)\\\n",
    "        .step_limit(10000000)\\\n",
    "        .nid(NID)\\\n",
    "        .nonce(100)\\\n",
    "        .method(sett['method'])\\\n",
    "        .params(sett['params'])\\\n",
    "        .build()\n",
    "    signed_transaction = SignedTransaction(transaction, deployer_wallet)\n",
    "    tx_hash = icon_service.send_transaction(signed_transaction)\n",
    "    tx_hash\n",
    "    print(get_tx_result(tx_hash)['status'])"
   ]
  },
  {
   "cell_type": "code",
   "execution_count": null,
   "metadata": {},
   "outputs": [],
   "source": [
    "settings_snapshot =[{'contract':  'snapshot', 'method': 'setAdmin','params': {'_address':admin}},\n",
    "                    {'contract':  'snapshot', 'method': 'setStartTimestamp','params': {'_timestamp':}}]\n",
    "for sett in settings_snapshot:\n",
    "    print(f'\\n')\n",
    "    print(f'Calling {sett[\"method\"]}, with parameters {sett[\"params\"]} on the {sett[\"contract\"]} contract.')\n",
    "    transaction = CallTransactionBuilder()\\\n",
    "        .from_(deployer_wallet.get_address())\\\n",
    "        .to(contracts[sett['contract']])\\\n",
    "        .value(0)\\\n",
    "        .step_limit(10000000)\\\n",
    "        .nid(NID)\\\n",
    "        .nonce(100)\\\n",
    "        .method(sett['method'])\\\n",
    "        .params(sett['params'])\\\n",
    "        .build()\n",
    "    signed_transaction = SignedTransaction(transaction, deployer_wallet)\n",
    "    tx_hash = icon_service.send_transaction(signed_transaction)\n",
    "    tx_hash\n",
    "    print(get_tx_result(tx_hash)['status'])"
   ]
  },
  {
   "cell_type": "code",
   "execution_count": 121,
   "metadata": {
    "tags": []
   },
   "outputs": [
    {
     "name": "stdout",
     "output_type": "stream",
     "text": [
      "\n",
      "\n",
      "Calling setSnapshot, with parameters {'_address': 'cx584f740fedab472057bd8ee6e32d97b9b0a05b9d'} on the governance contract.\n",
      "Raised JSONRPCException while returning the custom response. Error message: {'code': -32602, 'message': 'Pending transaction'}\n",
      "{'code': -32602, 'message': 'Pending transaction'} (Json rpc error), Retrying in 1 seconds...\n",
      "1\n",
      "\n",
      "\n",
      "Calling setRewards, with parameters {'_address': 'cx3e9b334a82529797818ca824cc58c51b52a26087'} on the governance contract.\n",
      "Raised JSONRPCException while returning the custom response. Error message: {'code': -32602, 'message': 'Pending transaction'}\n",
      "{'code': -32602, 'message': 'Pending transaction'} (Json rpc error), Retrying in 1 seconds...\n",
      "1\n"
     ]
    }
   ],
   "source": [
    "settings_governance =[{'contract': 'governance', 'method': 'setSnapshot','params': {'_address':contracts['snapshot']}},\n",
    "                      {'contract': 'governance', 'method': 'setRewards','params': {'_address':contracts['rewards']}}]\n",
    "for sett in settings_governance:\n",
    "    print(f'\\n')\n",
    "    print(f'Calling {sett[\"method\"]}, with parameters {sett[\"params\"]} on the {sett[\"contract\"]} contract.')\n",
    "    transaction = CallTransactionBuilder()\\\n",
    "        .from_(deployer_wallet.get_address())\\\n",
    "        .to(contracts[sett['contract']])\\\n",
    "        .value(0)\\\n",
    "        .step_limit(10000000)\\\n",
    "        .nid(NID)\\\n",
    "        .nonce(100)\\\n",
    "        .method(sett['method'])\\\n",
    "        .params(sett['params'])\\\n",
    "        .build()\n",
    "    signed_transaction = SignedTransaction(transaction, deployer_wallet)\n",
    "    tx_hash = icon_service.send_transaction(signed_transaction)\n",
    "    tx_hash\n",
    "    print(get_tx_result(tx_hash)['status'])"
   ]
  },
  {
   "cell_type": "code",
   "execution_count": 56,
   "metadata": {
    "tags": []
   },
   "outputs": [
    {
     "name": "stdout",
     "output_type": "stream",
     "text": [
      "{'addressProvider': 'cx827be16fe4efbf2516ef80795301579c823288a6',\n",
      " 'daoFund': 'cx97d4f10f4d793c35886b31cc8c70a872ea3b1448',\n",
      " 'delegation': 'cx7eb823b737f355c08f1911009bb834ffb6773253',\n",
      " 'feeProvider': 'cx09be6d8080af4be3e03a48a6c1b54955e1feefae',\n",
      " 'governance': 'cxc3403b1adc439baa0e3553abb25cc6f290432d26',\n",
      " 'lendingPool': 'cx9ebdfb5b354db434de96b476c49a8fd455d96b1b',\n",
      " 'lendingPoolCore': 'cx3755cee5c580d18c3c46b1816465e765a24d1b85',\n",
      " 'lendingPoolDataProvider': 'cx52fd89a5beeb3a10747a4fd8981b7b866b9bb289',\n",
      " 'liquidationManager': 'cx0242d3eb23c86a8bc32bf13f5681afc75371bec9',\n",
      " 'oICX': 'cx2bb91424c10a6ded8b5da01994c33b2b3cc99090',\n",
      " 'oIUSDC': 'cxb75c665e8f0e257b9cbacddc6c7db713362cea99',\n",
      " 'oToken': 'cxcee03a41d9b57fdf08359a9d40029796a47f100e',\n",
      " 'ommToken': 'cxe2fe821536890b983bc16bdc6217f740c7e40f8b',\n",
      " 'priceOracle': 'cxd902d339f59a0c7344a8d9b92659d8bcaa9c70f9',\n",
      " 'rewards': 'cx4f194dfd4db4bdc658be46985a9583a8808cf38e',\n",
      " 'sample_token': 'cx195a1294e7836f3f865147e4752a7c7852362c43',\n",
      " 'sicx': 'cx75b4cd08dd95e1e6a8ed948653ccb413c5d0573f',\n",
      " 'snapshot': 'cx1fe500bdb2d04ae8f0aa6e55e87a283b1e5b8f43',\n",
      " 'worker_token': 'cx7f73b8beeda55f1ca97ebbdc5593b7d15c35376f'}\n"
     ]
    }
   ],
   "source": [
    "pprint(contracts)"
   ]
  },
  {
   "cell_type": "code",
   "execution_count": 11,
   "metadata": {
    "scrolled": false,
    "slideshow": {
     "slide_type": "-"
    },
    "tags": []
   },
   "outputs": [],
   "source": [
    "settings = [{'contract': 'lendingPool', 'method': 'setLendingPoolCoreAddress', 'params':{'_address': contracts['lendingPoolCore']}},\n",
    "            {'contract': 'lendingPool', 'method': 'setDataProvider', 'params':{'_address': contracts['lendingPoolDataProvider']}},\n",
    "            {'contract': 'lendingPool', 'method': 'setFeeProvider', 'params':{'_address': contracts['feeProvider']}},\n",
    "            {'contract': 'lendingPool', 'method': 'setLiquidationManagerAddress','params': {'_address':contracts['liquidationManager']}},\n",
    "            {'contract': 'lendingPool', 'method': 'setStakingAddress', 'params':{'_address': contracts['staking']}},\n",
    "            {'contract': 'lendingPool', 'method': 'setOICXAddress', 'params':{'_address': contracts['oICX']}},\n",
    "            {'contract': 'lendingPool', 'method': '{'contract': 'feeProvider', 'method': 'setLoanOriginationFeePercentage', 'params':{'_percentage': 1*10**15}}setRewardAddress','params': {'_address':contracts['rewards']}},\n",
    "            {'contract': 'feeProvider', 'method': 'setLoanOriginationFeePercentage', 'params':{'_percentage': 1*10**15}},\n",
    "            {'contract': 'lendingPoolDataProvider', 'method': 'setSymbol', 'params':{'_reserveAddress': contracts['sample_token'],'_sym':\"USDb\"}},\n",
    "            {'contract': 'lendingPoolDataProvider', 'method': 'setSymbol', 'params':{'_reserveAddress': contracts['sicx'],'_sym':\"ICX\"}},\n",
    "            {'contract': 'lendingPoolDataProvider', 'method': 'setLendingPoolCoreAddress', 'params':{'_address': contracts['lendingPoolCore']}},\n",
    "            {'contract': 'lendingPoolDataProvider', 'method': 'setOracleAddress', 'params':{'_address': contracts['priceOracle']}},\n",
    "            {'contract': 'lendingPoolDataProvider', 'method': 'setLendingPoolAddress', 'params':{'_address': contracts['lendingPool']}},\n",
    "            {'contract': 'lendingPoolDataProvider', 'method': 'setLiquidationAddress', 'params':{'_address': contracts['liquidationManager']}},\n",
    "            {'contract': 'lendingPoolDataProvider', 'method': 'setStakingAddress', 'params':{'_address': contracts['staking']}},\n",
    "            {'contract': 'oToken', 'method': 'setCoreAddress', 'params':{'_address':contracts['lendingPoolCore']}},\n",
    "            {'contract': 'oToken', 'method': 'setReserveAddress', 'params':{'_address':contracts['sample_token']}},\n",
    "            {'contract': 'oToken', 'method': 'setDataProviderAddress', 'params':{'_address':contracts['lendingPoolDataProvider']}},\n",
    "            {'contract': 'oToken', 'method': 'setLendingPoolAddress', 'params':{'_address':contracts['lendingPool']}},\n",
    "            {'contract': 'priceOracle', 'method': 'set_reference_data', 'params':{'_base':'USDb','_quote':'USD','_rate':1*10**18}},\n",
    "            {'contract': 'priceOracle', 'method': 'set_reference_data', 'params':{'_base':'ICX','_quote':'USD','_rate':5*10**17}},\n",
    "            {'contract': 'addressProvider', 'method': 'setLendingPool', 'params':{'_address':contracts['lendingPool']}},\n",
    "            {'contract': 'addressProvider', 'method': 'setLendingPoolDataProvider', 'params':{'_address':contracts['lendingPoolDataProvider']}},\n",
    "            {'contract': 'addressProvider', 'method': 'setUSDb', 'params':{'_address':contracts['sample_token']}},\n",
    "            {'contract': 'addressProvider', 'method': 'setoUSDb', 'params':{'_address':contracts['oToken']}},\n",
    "            {'contract': 'addressProvider', 'method': 'setsICX', 'params':{'_address':contracts['sicx']}},\n",
    "            {'contract': 'addressProvider', 'method': 'setoICX', 'params':{'_address':contracts['oICX']}},\n",
    "            {'contract': 'addressProvider', 'method': 'setStaking', 'params':{'_address':contracts['staking']}},\n",
    "            {'contract': 'lendingPoolCore', 'method': 'setReserveConstants', 'params' :{\"_constants\": [{\"reserve\":contracts['sample_token'],\"optimalUtilizationRate\":f\"8{'0'*17}\",\"baseBorrowRate\":f\"2{'0'*16}\",\"slopeRate1\":f\"4{'0'*16}\",\"slopeRate2\":f\"1{'0'*18}\"} ]}},\n",
    "            {'contract': 'lendingPool', 'method': 'setSICXAddress', 'params':{'_address': contracts['sicx']}},  \n",
    "            {'contract': 'lendingPoolCore', 'method': 'setReserveConstants', 'params' :{\"_constants\": [{\"reserve\":contracts['sicx'],\"optimalUtilizationRate\":f\"6{'0'*17}\",\"baseBorrowRate\":f\"0{'0'*17}\",\"slopeRate1\":f\"8{'0'*16}\",\"slopeRate2\":f\"2{'0'*18}\"} ]}},\n",
    "            {'contract': 'lendingPoolCore', 'method': 'setSnapshot','params': {'_val':contracts['snapshot']}},\n",
    "            {'contract': 'oICX', 'method': 'setCoreAddress', 'params':{'_address':contracts['lendingPoolCore']}},\n",
    "            {'contract': 'oICX', 'method': 'setReserveAddress', 'params':{'_address':contracts['sicx']}},\n",
    "            {'contract': 'oICX', 'method': 'setDataProviderAddress', 'params':{'_address':contracts['lendingPoolDataProvider']}},\n",
    "            {'contract': 'oICX', 'method': 'setLendingPoolAddress', 'params':{'_address':contracts['lendingPool']}},\n",
    "            {'contract': 'liquidationManager', 'method': 'setDataProviderAddress', 'params': {'_address':contracts['lendingPoolDataProvider']}},\n",
    "            {'contract': 'liquidationManager', 'method': 'setCoreAddress', 'params': {'_address':contracts['lendingPoolCore']}},\n",
    "            {'contract': 'liquidationManager', 'method': 'setOracleAddress','params': {'_address':contracts['priceOracle']}},\n",
    "            {'contract': 'liquidationManager', 'method': 'setFeeProviderAddress','params': {'_address':contracts['feeProvider']}},\n",
    "            {'contract': 'liquidationManager', 'method': 'setFeeProviderAddress','params': {'_address':contracts['feeProvider']}},\n",
    "            {'contract': 'rewards', 'method': 'setLendingPool','params': {'_val':contracts['lendingPool']}},\n",
    "            {'contract': 'rewards', 'method': 'setLendingPoolCore','params': {'_val':contracts['lendingPoolCore']}},\n",
    "            {'contract': 'rewards', 'method': 'setSnapsot','params': {'_val':contracts['snapshot']}},\n",
    "            {'contract': 'rewards', 'method': 'setWorkerToken','params': {'_address':contracts['worker_token']}}]"
   ]
  },
  {
   "cell_type": "code",
   "execution_count": 23,
   "metadata": {},
   "outputs": [],
   "source": [
    "settings=[  {'contract': 'rewards', 'method': 'setDistPercentage','params': {'_deposit':25*10**16,'_borrow':25*10**16,'_ommUSDb':10**17,''}},\n",
    "            {'contract': 'rewards', 'method': 'setLendingPoolCore','params': {'_val':contracts['lendingPoolCore']}},\n",
    "            {'contract': 'rewards', 'method': 'setSnapshot','params': {'_val':contracts['snapshot']}},\n",
    "            {'contract': 'rewards', 'method': 'setWorkerToken','params': {'_address':contracts['worker_token']}}\n",
    "            ]"
   ]
  },
  {
   "cell_type": "markdown",
   "metadata": {},
   "source": [
    "## Rewards settings"
   ]
  },
  {
   "cell_type": "code",
   "execution_count": null,
   "metadata": {},
   "outputs": [],
   "source": [
    "settings=[ {'contract': 'rewards', 'method': 'setLendingPool','params': {'_val':contracts['lendingPool']}},\n",
    "            {'contract': 'rewards', 'method': 'setLendingPoolCore','params': {'_val':contracts['lendingPoolCore']}},\n",
    "            {'contract': 'rewards', 'method': 'setSnapshot','params': {'_val':contracts['snapshot']}},\n",
    "            {'contract': 'rewards', 'method': 'setWorkerToken','params': {'_address':contracts['worker_token']}}\n",
    "            ]"
   ]
  },
  {
   "cell_type": "code",
   "execution_count": 46,
   "metadata": {
    "tags": []
   },
   "outputs": [
    {
     "name": "stdout",
     "output_type": "stream",
     "text": [
      "0.9259379615952733\n",
      "195709883477838222900 195.70988347783822\n"
     ]
    }
   ],
   "source": [
    "value_hex =\"0xa9c052e1b91a35634\"\n",
    "value_int = int(value_hex,0)\n",
    "value = 925937961595273264\n",
    "print(value/10**18)\n",
    "print(value_int,value_int / 10 ** 18)"
   ]
  },
  {
   "cell_type": "code",
   "execution_count": 30,
   "metadata": {},
   "outputs": [],
   "source": [
    "local_settings = [{'contract': 'lendingPool', 'method': 'setLendingPoolCoreAddress', 'params':{'_address': contracts['lendingPoolCore']}},\n",
    "            {'contract': 'lendingPool', 'method': 'setDataProvider', 'params':{'_address': contracts['lendingPoolDataProvider']}},\n",
    "            {'contract': 'lendingPool', 'method': 'setFeeProvider', 'params':{'_address': contracts['feeProvider']}},\n",
    "            {'contract': 'feeProvider', 'method': 'setLoanOriginationFeePercentage', 'params':{'_percentage': 1*10**16}},\n",
    "            {'contract': 'lendingPoolDataProvider', 'method': 'setSymbol', 'params':{'_reserveAddress': contracts['sample_token'],'_sym':\"USDb\"}},\n",
    "            {'contract': 'lendingPoolDataProvider', 'method': 'setLendingPoolCoreAddress', 'params':{'_address': contracts['lendingPoolCore']}},\n",
    "            {'contract': 'lendingPoolDataProvider', 'method': 'setOracleAddress', 'params':{'_address': contracts['priceOracle']}},\n",
    "            {'contract': 'lendingPoolDataProvider', 'method': 'setLendingPoolAddress', 'params':{'_address': contracts['lendingPool']}},\n",
    "            {'contract': 'lendingPoolDataProvider', 'method': 'setLiquidationAddress', 'params':{'_address': contracts['liquidationManager']}},\n",
    "            {'contract': 'oToken', 'method': 'setCoreAddress', 'params':{'_address':contracts['lendingPoolCore']}},\n",
    "            {'contract': 'oToken', 'method': 'setReserveAddress', 'params':{'_address':contracts['sample_token']}},\n",
    "            {'contract': 'oToken', 'method': 'setDataProviderAddress', 'params':{'_address':contracts['lendingPoolDataProvider']}},\n",
    "            {'contract': 'oToken', 'method': 'setLendingPoolAddress', 'params':{'_address':contracts['lendingPool']}},\n",
    "            {'contract': 'priceOracle', 'method': 'set_reference_data', 'params':{'_base':'USDb','_quote':'USD','_rate':1*10**18}},\n",
    "            {'contract': 'addressProvider', 'method': 'setLendingPool', 'params':{'_address':contracts['lendingPool']}},\n",
    "            {'contract': 'addressProvider', 'method': 'setLendingPoolDataProvider', 'params':{'_address':contracts['lendingPoolDataProvider']}},\n",
    "            {'contract': 'addressProvider', 'method': 'setUSDb', 'params':{'_address':contracts['sample_token']}},\n",
    "            {'contract': 'addressProvider', 'method': 'setoUSDb', 'params':{'_address':contracts['oToken']}},\n",
    "            {'contract': 'lendingPoolCore', 'method': 'setReserveConstants', 'params' :{\"_constants\": [{\"reserve\":contracts['sample_token'],\"optimalUtilizationRate\":f\"8{'0'*17}\",\"baseBorrowRate\":f\"2{'0'*16}\",\"slopeRate1\":f\"4{'0'*16}\",\"slopeRate2\":f\"1{'0'*18}\"} ]}},\n",
    "              {'contract': 'lendingPool', 'method': 'setSICXAddress', 'params':{'_address': contracts['sicx']}},\n",
    "                {'contract': 'priceOracle', 'method': 'set_reference_data', 'params':{'_base':'sICX','_quote':'USD','_rate':5*10**17}},\n",
    "                {'contract': 'lendingPoolDataProvider', 'method': 'setSymbol', 'params':{'_reserveAddress': contracts['sicx'],'_sym':\"sICX\"}},\n",
    "                {'contract': 'addressProvider', 'method': 'setsICX', 'params':{'_address':contracts['sicx']}},\n",
    "                {'contract': 'addressProvider', 'method': 'setoICX', 'params':{'_address':contracts['oICX']}},\n",
    "                {'contract': 'lendingPoolCore', 'method': 'setReserveConstants', 'params' :{\"_constants\": [{\"reserve\":contracts['sicx'],\"optimalUtilizationRate\":f\"6{'0'*17}\",\"baseBorrowRate\":f\"0{'0'*17}\",\"slopeRate1\":f\"8{'0'*16}\",\"slopeRate2\":f\"2{'0'*18}\"} ]}},\n",
    "                {'contract': 'oICX', 'method': 'setCoreAddress', 'params':{'_address':contracts['lendingPoolCore']}},\n",
    "                {'contract': 'oICX', 'method': 'setReserveAddress', 'params':{'_address':contracts['sicx']}},\n",
    "                {'contract': 'oICX', 'method': 'setDataProviderAddress', 'params':{'_address':contracts['lendingPoolDataProvider']}},\n",
    "                {'contract': 'oICX', 'method': 'setLendingPoolAddress', 'params':{'_address':contracts['lendingPool']}},\n",
    "                {'contract': 'lendingPool', 'method': 'setLiquidationManagerAddress',\n",
    "'params': {'_address':contracts['liquidationManager']}},\n",
    "                {'contract': 'liquidationManager', 'method': 'setDataProviderAddress', 'params': {'_address':contracts['lendingPoolDataProvider']}},\n",
    "                    {'contract': 'liquidationManager', 'method': 'setCoreAddress', 'params': {'_address':contracts['lendingPoolCore']}},\n",
    "                {'contract': 'liquidationManager', 'method': 'setOracleAddress',\n",
    "'params': {'_address':contracts['priceOracle']}},\n",
    "                {'contract': 'liquidationManager', 'method': 'setFeeProviderAddress',\n",
    "'params': {'_address':contracts['feeProvider']}},]"
   ]
  },
  {
   "cell_type": "code",
   "execution_count": 29,
   "metadata": {
    "tags": []
   },
   "outputs": [
    {
     "name": "stdout",
     "output_type": "stream",
     "text": [
      "\n",
      "\n",
      "Calling setOracleAddress, with parameters {'_address': 'cx3e335706c9ef4e86fbe1b7d296f7c02689474b9f'} on the lendingPoolDataProvider contract.\n",
      "Raised JSONRPCException while returning the custom response. Error message: {'code': -32602, 'message': 'Pending transaction'}\n",
      "{'code': -32602, 'message': 'Pending transaction'} (Json rpc error), Retrying in 1 seconds...\n",
      "1\n",
      "\n",
      "\n",
      "Calling setLendingPoolAddress, with parameters {'_address': 'cx4ce2b2065370a47cb2e4ef1a6a11658f5de1f825'} on the lendingPoolDataProvider contract.\n",
      "Raised JSONRPCException while returning the custom response. Error message: {'code': -32602, 'message': 'Pending transaction'}\n",
      "{'code': -32602, 'message': 'Pending transaction'} (Json rpc error), Retrying in 1 seconds...\n",
      "1\n",
      "\n",
      "\n",
      "Calling setLiquidationAddress, with parameters {'_address': 'cx8985aa3600fb020fba6f399e338a5e3169521f3a'} on the lendingPoolDataProvider contract.\n",
      "Raised JSONRPCException while returning the custom response. Error message: {'code': -32602, 'message': 'Pending transaction'}\n",
      "{'code': -32602, 'message': 'Pending transaction'} (Json rpc error), Retrying in 1 seconds...\n",
      "1\n"
     ]
    }
   ],
   "source": [
    "for sett in local_settings:\n",
    "    print(f'\\n')\n",
    "    print(f'Calling {sett[\"method\"]}, with parameters {sett[\"params\"]} on the {sett[\"contract\"]} contract.')\n",
    "    transaction = CallTransactionBuilder()\\\n",
    "        .from_(deployer_wallet.get_address())\\\n",
    "        .to(contracts[sett['contract']])\\\n",
    "        .value(0)\\\n",
    "        .step_limit(10000000)\\\n",
    "        .nid(NID)\\\n",
    "        .nonce(100)\\\n",
    "        .method(sett['method'])\\\n",
    "        .params(sett['params'])\\\n",
    "        .build()\n",
    "    signed_transaction = SignedTransaction(transaction, deployer_wallet)\n",
    "    tx_hash = icon_service.send_transaction(signed_transaction)\n",
    "    tx_hash\n",
    "    print(get_tx_result(tx_hash)['status'])"
   ]
  },
  {
   "cell_type": "code",
   "execution_count": null,
   "metadata": {},
   "outputs": [],
   "source": []
  },
  {
   "cell_type": "markdown",
   "metadata": {},
   "source": [
    "## Adding USDb reserve in LendingPoolCore\n",
    "\n"
   ]
  },
  {
   "cell_type": "code",
   "execution_count": 122,
   "metadata": {
    "tags": []
   },
   "outputs": [
    {
     "name": "stderr",
     "output_type": "stream",
     "text": [
      "Raised JSONRPCException while returning the custom response. Error message: {'code': -32602, 'message': 'Pending transaction'}\n",
      "{'code': -32602, 'message': 'Pending transaction'} (Json rpc error), Retrying in 1 seconds...\n",
      "Raised JSONRPCException while returning the custom response. Error message: {'code': -32602, 'message': 'Pending transaction'}\n",
      "{'code': -32602, 'message': 'Pending transaction'} (Json rpc error), Retrying in 2 seconds...\n"
     ]
    },
    {
     "data": {
      "text/plain": [
       "{'txHash': '0x43e8e462268ba6cdca262d8cf8929df4384d6471469dec989b342dcc45c6d276',\n",
       " 'blockHeight': 13206499,\n",
       " 'blockHash': '0xdefceb5d8052e421d3574a50984d13545bcc7c65bea403162300b6f2446d23c5',\n",
       " 'txIndex': 1,\n",
       " 'to': 'cx2d844c9613b5f864f5dace7fed82997c4c62ef01',\n",
       " 'stepUsed': 277040,\n",
       " 'stepPrice': 10000000000,\n",
       " 'cumulativeStepUsed': 277040,\n",
       " 'eventLogs': [],\n",
       " 'logsBloom': b'\\x00\\x00\\x00\\x00\\x00\\x00\\x00\\x00\\x00\\x00\\x00\\x00\\x00\\x00\\x00\\x00\\x00\\x00\\x00\\x00\\x00\\x00\\x00\\x00\\x00\\x00\\x00\\x00\\x00\\x00\\x00\\x00\\x00\\x00\\x00\\x00\\x00\\x00\\x00\\x00\\x00\\x00\\x00\\x00\\x00\\x00\\x00\\x00\\x00\\x00\\x00\\x00\\x00\\x00\\x00\\x00\\x00\\x00\\x00\\x00\\x00\\x00\\x00\\x00\\x00\\x00\\x00\\x00\\x00\\x00\\x00\\x00\\x00\\x00\\x00\\x00\\x00\\x00\\x00\\x00\\x00\\x00\\x00\\x00\\x00\\x00\\x00\\x00\\x00\\x00\\x00\\x00\\x00\\x00\\x00\\x00\\x00\\x00\\x00\\x00\\x00\\x00\\x00\\x00\\x00\\x00\\x00\\x00\\x00\\x00\\x00\\x00\\x00\\x00\\x00\\x00\\x00\\x00\\x00\\x00\\x00\\x00\\x00\\x00\\x00\\x00\\x00\\x00\\x00\\x00\\x00\\x00\\x00\\x00\\x00\\x00\\x00\\x00\\x00\\x00\\x00\\x00\\x00\\x00\\x00\\x00\\x00\\x00\\x00\\x00\\x00\\x00\\x00\\x00\\x00\\x00\\x00\\x00\\x00\\x00\\x00\\x00\\x00\\x00\\x00\\x00\\x00\\x00\\x00\\x00\\x00\\x00\\x00\\x00\\x00\\x00\\x00\\x00\\x00\\x00\\x00\\x00\\x00\\x00\\x00\\x00\\x00\\x00\\x00\\x00\\x00\\x00\\x00\\x00\\x00\\x00\\x00\\x00\\x00\\x00\\x00\\x00\\x00\\x00\\x00\\x00\\x00\\x00\\x00\\x00\\x00\\x00\\x00\\x00\\x00\\x00\\x00\\x00\\x00\\x00\\x00\\x00\\x00\\x00\\x00\\x00\\x00\\x00\\x00\\x00\\x00\\x00\\x00\\x00\\x00\\x00\\x00\\x00\\x00\\x00\\x00\\x00\\x00\\x00\\x00\\x00\\x00\\x00\\x00\\x00\\x00\\x00\\x00\\x00\\x00\\x00',\n",
       " 'status': 1}"
      ]
     },
     "execution_count": 122,
     "metadata": {},
     "output_type": "execute_result"
    }
   ],
   "source": [
    "params ={\"_reserve\": {\"reserveAddress\":contracts['sample_token'],\"oTokenAddress\":contracts['oToken'],\"totalBorrows\":\"0\",\"lastUpdateTimestamp\": \"0\",\"liquidityRate\":\"0\",\"borrowRate\":\"0\",\"liquidityCumulativeIndex\":f\"1{'0'*18}\",\"borrowCumulativeIndex\":f\"1{'0'*18}\",\"baseLTVasCollateral\":\"500000000000000000\",\"liquidationThreshold\":\"650000000000000000\",\"liquidationBonus\":\"100000000000000000\",\"decimals\":\"18\",\"borrowingEnabled\": \"1\",\"usageAsCollateralEnabled\":\"1\",\"isFreezed\":\"0\",\"isActive\":\"1\"} }\n",
    "call_transaction = CallTransactionBuilder()\\\n",
    "    .from_(deployer_wallet.get_address())\\\n",
    "    .to(contracts['lendingPoolCore']) \\\n",
    "    .nid(NID) \\\n",
    "    .nonce(100) \\\n",
    "    .method(\"addReserveData\")\\\n",
    "    .params(params)\\\n",
    "    .build()\n",
    "\n",
    "estimate_step = icon_service.estimate_step(call_transaction)\n",
    "step_limit = estimate_step + 100000\n",
    "# Returns the signed transaction object having a signature\n",
    "signed_transaction = SignedTransaction(call_transaction, deployer_wallet,step_limit)\n",
    "\n",
    "# Reads params to transfer to nodes\n",
    "# print(signed_transaction.signed_transaction_dict)\n",
    "\n",
    "# Sends the transaction\n",
    "tx_hash = icon_service.send_transaction(signed_transaction)\n",
    "\n",
    "get_tx_result(tx_hash)"
   ]
  },
  {
   "cell_type": "markdown",
   "metadata": {},
   "source": [
    "## Adding ICX reserve"
   ]
  },
  {
   "cell_type": "code",
   "execution_count": 123,
   "metadata": {
    "tags": []
   },
   "outputs": [
    {
     "name": "stderr",
     "output_type": "stream",
     "text": [
      "Raised JSONRPCException while returning the custom response. Error message: {'code': -32602, 'message': 'Pending transaction'}\n",
      "{'code': -32602, 'message': 'Pending transaction'} (Json rpc error), Retrying in 1 seconds...\n"
     ]
    },
    {
     "data": {
      "text/plain": [
       "{'txHash': '0x93328a41c1cc6ccd100f4006be0664c8900e7999e58bd2bff54ca07594447b76',\n",
       " 'blockHeight': 13206505,\n",
       " 'blockHash': '0xcef30e84ceeea4814192a4ec21dd3d44de5ff4ef91bdb932488104bea2fafa4a',\n",
       " 'txIndex': 1,\n",
       " 'to': 'cx2d844c9613b5f864f5dace7fed82997c4c62ef01',\n",
       " 'stepUsed': 276800,\n",
       " 'stepPrice': 10000000000,\n",
       " 'cumulativeStepUsed': 276800,\n",
       " 'eventLogs': [],\n",
       " 'logsBloom': b'\\x00\\x00\\x00\\x00\\x00\\x00\\x00\\x00\\x00\\x00\\x00\\x00\\x00\\x00\\x00\\x00\\x00\\x00\\x00\\x00\\x00\\x00\\x00\\x00\\x00\\x00\\x00\\x00\\x00\\x00\\x00\\x00\\x00\\x00\\x00\\x00\\x00\\x00\\x00\\x00\\x00\\x00\\x00\\x00\\x00\\x00\\x00\\x00\\x00\\x00\\x00\\x00\\x00\\x00\\x00\\x00\\x00\\x00\\x00\\x00\\x00\\x00\\x00\\x00\\x00\\x00\\x00\\x00\\x00\\x00\\x00\\x00\\x00\\x00\\x00\\x00\\x00\\x00\\x00\\x00\\x00\\x00\\x00\\x00\\x00\\x00\\x00\\x00\\x00\\x00\\x00\\x00\\x00\\x00\\x00\\x00\\x00\\x00\\x00\\x00\\x00\\x00\\x00\\x00\\x00\\x00\\x00\\x00\\x00\\x00\\x00\\x00\\x00\\x00\\x00\\x00\\x00\\x00\\x00\\x00\\x00\\x00\\x00\\x00\\x00\\x00\\x00\\x00\\x00\\x00\\x00\\x00\\x00\\x00\\x00\\x00\\x00\\x00\\x00\\x00\\x00\\x00\\x00\\x00\\x00\\x00\\x00\\x00\\x00\\x00\\x00\\x00\\x00\\x00\\x00\\x00\\x00\\x00\\x00\\x00\\x00\\x00\\x00\\x00\\x00\\x00\\x00\\x00\\x00\\x00\\x00\\x00\\x00\\x00\\x00\\x00\\x00\\x00\\x00\\x00\\x00\\x00\\x00\\x00\\x00\\x00\\x00\\x00\\x00\\x00\\x00\\x00\\x00\\x00\\x00\\x00\\x00\\x00\\x00\\x00\\x00\\x00\\x00\\x00\\x00\\x00\\x00\\x00\\x00\\x00\\x00\\x00\\x00\\x00\\x00\\x00\\x00\\x00\\x00\\x00\\x00\\x00\\x00\\x00\\x00\\x00\\x00\\x00\\x00\\x00\\x00\\x00\\x00\\x00\\x00\\x00\\x00\\x00\\x00\\x00\\x00\\x00\\x00\\x00\\x00\\x00\\x00\\x00\\x00\\x00\\x00\\x00\\x00\\x00\\x00\\x00',\n",
       " 'status': 1}"
      ]
     },
     "execution_count": 123,
     "metadata": {},
     "output_type": "execute_result"
    }
   ],
   "source": [
    "params ={\"_reserve\": {\"reserveAddress\":contracts['sicx'],\"oTokenAddress\":contracts['oICX'],\"totalBorrows\":\"0\",\"lastUpdateTimestamp\": \"0\",\"liquidityRate\":\"0\",\"borrowRate\":\"0\",\"liquidityCumulativeIndex\":f\"1{'0'*18}\",\"borrowCumulativeIndex\":f\"1{'0'*18}\",\"baseLTVasCollateral\":\"500000000000000000\",\"liquidationThreshold\":\"650000000000000000\",\"liquidationBonus\":\"100000000000000000\",\"decimals\":\"18\",\"borrowingEnabled\": \"1\",\"usageAsCollateralEnabled\":\"1\",\"isFreezed\":\"0\",\"isActive\":\"1\"} }\n",
    "call_transaction = CallTransactionBuilder()\\\n",
    "    .from_(deployer_wallet.get_address())\\\n",
    "    .to(contracts['lendingPoolCore']) \\\n",
    "    .nid(NID) \\\n",
    "    .nonce(100) \\\n",
    "    .method(\"addReserveData\")\\\n",
    "    .params(params)\\\n",
    "    .build()\n",
    "\n",
    "estimate_step = icon_service.estimate_step(call_transaction)\n",
    "step_limit = estimate_step + 100000\n",
    "# Returns the signed transaction object having a signature\n",
    "signed_transaction = SignedTransaction(call_transaction, deployer_wallet,step_limit)\n",
    "\n",
    "# Reads params to transfer to nodes\n",
    "# print(signed_transaction.signed_transaction_dict)\n",
    "\n",
    "# Sends the transaction\n",
    "tx_hash = icon_service.send_transaction(signed_transaction)\n",
    "\n",
    "get_tx_result(tx_hash)"
   ]
  },
  {
   "cell_type": "markdown",
   "metadata": {},
   "source": [
    "## Adding IUSDC reserve"
   ]
  },
  {
   "cell_type": "code",
   "execution_count": 124,
   "metadata": {
    "tags": []
   },
   "outputs": [
    {
     "name": "stderr",
     "output_type": "stream",
     "text": [
      "Raised JSONRPCException while returning the custom response. Error message: {'code': -32602, 'message': 'Pending transaction'}\n",
      "{'code': -32602, 'message': 'Pending transaction'} (Json rpc error), Retrying in 1 seconds...\n"
     ]
    },
    {
     "data": {
      "text/plain": [
       "{'txHash': '0x67f2e2434792d8cfd6e51633ababf47f5f32530a1c48da74829fa2b3b835ff1d',\n",
       " 'blockHeight': 13206513,\n",
       " 'blockHash': '0x8a25cebd819ad9e3087805148b548e201bd303d2d8dfdf121a0f47da5ecf8165',\n",
       " 'txIndex': 1,\n",
       " 'to': 'cx2d844c9613b5f864f5dace7fed82997c4c62ef01',\n",
       " 'stepUsed': 276600,\n",
       " 'stepPrice': 10000000000,\n",
       " 'cumulativeStepUsed': 276600,\n",
       " 'eventLogs': [],\n",
       " 'logsBloom': b'\\x00\\x00\\x00\\x00\\x00\\x00\\x00\\x00\\x00\\x00\\x00\\x00\\x00\\x00\\x00\\x00\\x00\\x00\\x00\\x00\\x00\\x00\\x00\\x00\\x00\\x00\\x00\\x00\\x00\\x00\\x00\\x00\\x00\\x00\\x00\\x00\\x00\\x00\\x00\\x00\\x00\\x00\\x00\\x00\\x00\\x00\\x00\\x00\\x00\\x00\\x00\\x00\\x00\\x00\\x00\\x00\\x00\\x00\\x00\\x00\\x00\\x00\\x00\\x00\\x00\\x00\\x00\\x00\\x00\\x00\\x00\\x00\\x00\\x00\\x00\\x00\\x00\\x00\\x00\\x00\\x00\\x00\\x00\\x00\\x00\\x00\\x00\\x00\\x00\\x00\\x00\\x00\\x00\\x00\\x00\\x00\\x00\\x00\\x00\\x00\\x00\\x00\\x00\\x00\\x00\\x00\\x00\\x00\\x00\\x00\\x00\\x00\\x00\\x00\\x00\\x00\\x00\\x00\\x00\\x00\\x00\\x00\\x00\\x00\\x00\\x00\\x00\\x00\\x00\\x00\\x00\\x00\\x00\\x00\\x00\\x00\\x00\\x00\\x00\\x00\\x00\\x00\\x00\\x00\\x00\\x00\\x00\\x00\\x00\\x00\\x00\\x00\\x00\\x00\\x00\\x00\\x00\\x00\\x00\\x00\\x00\\x00\\x00\\x00\\x00\\x00\\x00\\x00\\x00\\x00\\x00\\x00\\x00\\x00\\x00\\x00\\x00\\x00\\x00\\x00\\x00\\x00\\x00\\x00\\x00\\x00\\x00\\x00\\x00\\x00\\x00\\x00\\x00\\x00\\x00\\x00\\x00\\x00\\x00\\x00\\x00\\x00\\x00\\x00\\x00\\x00\\x00\\x00\\x00\\x00\\x00\\x00\\x00\\x00\\x00\\x00\\x00\\x00\\x00\\x00\\x00\\x00\\x00\\x00\\x00\\x00\\x00\\x00\\x00\\x00\\x00\\x00\\x00\\x00\\x00\\x00\\x00\\x00\\x00\\x00\\x00\\x00\\x00\\x00\\x00\\x00\\x00\\x00\\x00\\x00\\x00\\x00\\x00\\x00\\x00\\x00',\n",
       " 'status': 1}"
      ]
     },
     "execution_count": 124,
     "metadata": {},
     "output_type": "execute_result"
    }
   ],
   "source": [
    "params ={\"_reserve\": {\"reserveAddress\":contracts['iusdc'],\"oTokenAddress\":contracts['oIUSDC'],\"totalBorrows\":\"0\",\"lastUpdateTimestamp\": \"0\",\"liquidityRate\":\"0\",\"borrowRate\":\"0\",\"liquidityCumulativeIndex\":f\"1{'0'*18}\",\"borrowCumulativeIndex\":f\"1{'0'*18}\",\"baseLTVasCollateral\":\"500000000000000000\",\"liquidationThreshold\":\"650000000000000000\",\"liquidationBonus\":\"100000000000000000\",\"decimals\":\"6\",\"borrowingEnabled\": \"1\",\"usageAsCollateralEnabled\":\"1\",\"isFreezed\":\"0\",\"isActive\":\"1\"} }\n",
    "call_transaction = CallTransactionBuilder()\\\n",
    "    .from_(deployer_wallet.get_address())\\\n",
    "    .to(contracts['lendingPoolCore']) \\\n",
    "    .nid(NID) \\\n",
    "    .nonce(100) \\\n",
    "    .method(\"addReserveData\")\\\n",
    "    .params(params)\\\n",
    "    .build()\n",
    "\n",
    "estimate_step = icon_service.estimate_step(call_transaction)\n",
    "step_limit = estimate_step + 100000\n",
    "# Returns the signed transaction object having a signature\n",
    "signed_transaction = SignedTransaction(call_transaction, deployer_wallet,step_limit)\n",
    "\n",
    "# Reads params to transfer to nodes\n",
    "# print(signed_transaction.signed_transaction_dict)\n",
    "\n",
    "# Sends the transaction\n",
    "tx_hash = icon_service.send_transaction(signed_transaction)\n",
    "\n",
    "get_tx_result(tx_hash)"
   ]
  },
  {
   "cell_type": "markdown",
   "metadata": {},
   "source": [
    "## Transfering USDb to wallets"
   ]
  },
  {
   "cell_type": "code",
   "execution_count": 8,
   "metadata": {
    "tags": []
   },
   "outputs": [
    {
     "name": "stdout",
     "output_type": "stream",
     "text": [
      "hxd29037f1eb8c3f0e8630d797edc7410507c0089a\n",
      "hx66ee5acace86d9ce23127599b7c9daae70c9d7c1\n",
      "hx65902dd4139d04765534a4539319be874ad7aa0b\n"
     ]
    }
   ],
   "source": [
    "private2=\"b3d4e18d733f05dc21f326ba4fe150514874327c738c4a19ddd357d0e8e2efed\"\n",
    "deployer_wallet2 = KeyWallet.load(bytes.fromhex(private2))\n",
    "print(deployer_wallet2.get_address())\n",
    "\n",
    "private3=\"c3d5e9afe753a07c983bb14e34f73907e40a997793ce2f7d2895cddec27f81c6\"\n",
    "deployer_wallet3 = KeyWallet.load(bytes.fromhex(private3))\n",
    "print(deployer_wallet3.get_address())\n",
    "\n",
    "private4=\"2ffb9ef51826d555189d4804161058036cf87ae8290f1a308a79d045f6cdd428\"\n",
    "deployer_wallet4 = KeyWallet.load(bytes.fromhex(private4))\n",
    "print(deployer_wallet4.get_address())\n",
    "wallets=[deployer_wallet2,deployer_wallet3,deployer_wallet4]"
   ]
  },
  {
   "cell_type": "code",
   "execution_count": null,
   "metadata": {},
   "outputs": [],
   "source": []
  },
  {
   "cell_type": "code",
   "execution_count": 9,
   "metadata": {
    "tags": []
   },
   "outputs": [
    {
     "name": "stderr",
     "output_type": "stream",
     "text": [
      "Raised JSONRPCException while returning the custom response. Error message: {'code': -32602, 'message': 'Pending transaction'}\n",
      "{'code': -32602, 'message': 'Pending transaction'} (Json rpc error), Retrying in 1 seconds...\n",
      "Raised JSONRPCException while returning the custom response. Error message: {'code': -32602, 'message': 'Pending transaction'}\n",
      "{'code': -32602, 'message': 'Pending transaction'} (Json rpc error), Retrying in 1 seconds...\n",
      "Raised JSONRPCException while returning the custom response. Error message: {'code': -32602, 'message': 'Pending transaction'}\n",
      "{'code': -32602, 'message': 'Pending transaction'} (Json rpc error), Retrying in 1 seconds...\n"
     ]
    }
   ],
   "source": [
    "for wallet in wallets:\n",
    "    params = {\"_to\": wallet.get_address(), \"_value\": 1000000 * 10 ** 18} \n",
    "    transaction = CallTransactionBuilder()\\\n",
    "        .from_(deployer_wallet.get_address())\\\n",
    "        .to(contracts['sample_token'])\\\n",
    "        .value(0)\\\n",
    "        .step_limit(10000000)\\\n",
    "        .nid(3)\\\n",
    "        .nonce(100)\\\n",
    "        .method(\"transfer\")\\\n",
    "        .params(params)\\\n",
    "        .build()\n",
    "    signed_transaction = SignedTransaction(transaction, deployer_wallet)\n",
    "    tx_hash = icon_service.send_transaction(signed_transaction)\n",
    "    get_tx_result(tx_hash)"
   ]
  },
  {
   "cell_type": "code",
   "execution_count": 17,
   "metadata": {
    "tags": []
   },
   "outputs": [
    {
     "name": "stdout",
     "output_type": "stream",
     "text": [
      "{'addressProvider': 'cx4f0a21a7273a6e797715aa0934581aec8d0bf2c2',\n",
      " 'feeProvider': 'cxc2b85e43553f7ad1c4104626891e41e54c4c8214',\n",
      " 'lendingPool': 'cx4ce2b2065370a47cb2e4ef1a6a11658f5de1f825',\n",
      " 'lendingPoolCore': 'cx7b517bf6a6599aeeabdea3aac78c37861672ac27',\n",
      " 'lendingPoolDataProvider': 'cx79758fa04b3bc482bb2b42d790fd71594cfc4661',\n",
      " 'liquidationManager': 'cx8985aa3600fb020fba6f399e338a5e3169521f3a',\n",
      " 'oICX': 'cxf37ac77ae234396d7c6ef4d8356fbbdbedb2d43e',\n",
      " 'oToken': 'cx7161c01f5c77c0c18daf472a08ff4db911ce7616',\n",
      " 'priceOracle': 'cx3e335706c9ef4e86fbe1b7d296f7c02689474b9f',\n",
      " 'sample_token': 'cx067c5e14f71da93476c6ca5c727345b665bf3148',\n",
      " 'sicx': 'cx00cfdf6ac95bbdd5d6e14a2be3db760b6a5a0112'}\n"
     ]
    }
   ],
   "source": [
    "pprint(contracts)"
   ]
  },
  {
   "cell_type": "code",
   "execution_count": 20,
   "metadata": {
    "tags": []
   },
   "outputs": [
    {
     "name": "stdout",
     "output_type": "stream",
     "text": [
      "1000000000000000000000000\n"
     ]
    }
   ],
   "source": [
    "params = {'_owner': \"hx2176d13280d465b68afbf7f9be758e966f654629\"}\n",
    "_call = CallBuilder()\\\n",
    "    .from_(deployer_wallet.get_address())\\\n",
    "    .to(contracts['sample_token'])\\\n",
    "    .method(\"balanceOf\")\\\n",
    "    .params(params)\\\n",
    "    .build()\n",
    "response = icon_service.call(_call)\n",
    "\n",
    "\n",
    "print(int(response,0))"
   ]
  },
  {
   "cell_type": "code",
   "execution_count": 19,
   "metadata": {
    "tags": []
   },
   "outputs": [
    {
     "name": "stderr",
     "output_type": "stream",
     "text": [
      "Raised JSONRPCException while returning the custom response. Error message: {'code': -32602, 'message': 'Pending transaction'}\n",
      "{'code': -32602, 'message': 'Pending transaction'} (Json rpc error), Retrying in 1 seconds...\n",
      "{'txHash': '0xeba90afe431de1c5bb59f475bb2e9312f603428ef5180f7a645342a95e260137', 'blockHeight': 4675475, 'blockHash': '0x3ef16d6ff6fded92063cfdcbf21357fdd27a56430ced2cfe72dce555a2220a7f', 'txIndex': 1, 'to': 'cx067c5e14f71da93476c6ca5c727345b665bf3148', 'stepUsed': 162000, 'stepPrice': 10000000000, 'cumulativeStepUsed': 162000, 'eventLogs': [{'scoreAddress': 'cx067c5e14f71da93476c6ca5c727345b665bf3148', 'indexed': ['Transfer(Address,Address,int,bytes)', 'hx91bf040426f226b3bfcd2f0b5967bbb0320525ce', 'hx2176d13280d465b68afbf7f9be758e966f654629', '0xd3c21bcecceda1000000'], 'data': ['0x4e6f6e65']}], 'logsBloom': b'\\x00\\x00\\x00\\x00\\x00\\x00\\x00\\x00@\\x00\\x00 \\x00\\x00\\x00\\x00\\x00\\x00\\x00\\x00\\x00\\x00\\x00\\x00\\x00\\x00\\x00\\x00\\x00\\x00\\x00\\x00\\x00\\x00\\x00\\x00\\x00\\x00\\x00\\x00\\x00\\x00\\x00\\x00\\x00\\x00\\x00\\x00\\x00\\x00\\x00\\x00\\x00\\x00\\x00\\x00\\x00\\x00\\x00\\x81\\x00\\x00\\x00\\x00\\x00\\x00\\x00\\x00\\x00\\x00\\x00\\x00\\x00\\x00\\x00\\x10\\x00\\x00\\x00\\x00\\x00\\x00\\x00\\x00\\x00\\x00\\x00\\x00\\x00\\x00\\x00\\x00\\x00\\x00\\x00\\x00\\x00\\x00\\x00\\x00\\x00\\x00@@\\x00\\x00\\x01\\x00\\x00\\x00@\\x00\\x00\\x00\\x00\\x00\\x00\\x00\\x00\\x00\\x00\\x00\\x00\\x00\\x00\\x00\\x00\\x00\\x00\\x00\\x00\\x00\\x00\\x00\\x00\\x00\\x00\\x00\\x00\\x00\\x00\\x00\\x00\\x00\\x00\\x00\\x01\\x00\\x00\\x00\\x00\\x00\\x00\\x00\\x00\\x00\\x00\\x10\\x00\\x00\\x00\\x00\\x00\\x00\\x00\\x02\\x00\\x00\\x00\\x00\\x00\\x00\\x00\\x00\\x00\\x00\\x00\\x00\\x00\\x00\\x00\\x00\\x00\\x00\\x00\\x00\\x00\\x00\\x00\\x00\\x00\\x00\\x00\\x00\\x00\\x00\\x00\\x00\\x00\\x00\\x00\\x00 \\x00\\x00\\x00\\x00\\x00\\x00\\x00\\x00\\x00\\x00A\\x00\\x00\\x00\\x00\\x00\\x00\\x00\\x00\\x00\\x00\\x00\\x00\\x00\\x00\\x00\\x00\\x00\\x00\\x00\\x00\\x00\\x00\\x00\\x00\\x00\\x00\\x00\\x00\\x00\\x00\\x00\\x00\\x00\\x00\\x00\\x00\\x00\\x00\\x00\\x00\\x00\\x00', 'status': 1}\n"
     ]
    }
   ],
   "source": [
    "params = {\"_to\": \"hx2176d13280d465b68afbf7f9be758e966f654629\", \"_value\": 1000000 * 10 ** 18}\n",
    "transaction = CallTransactionBuilder()\\\n",
    "    .from_(deployer_wallet.get_address())\\\n",
    "    .to(contracts['sample_token'])\\\n",
    "    .value(0)\\\n",
    "    .step_limit(10000000)\\\n",
    "    .nid(3)\\\n",
    "    .nonce(100)\\\n",
    "    .method(\"transfer\")\\\n",
    "    .params(params)\\\n",
    "    .build()\n",
    "signed_transaction = SignedTransaction(transaction, deployer_wallet)\n",
    "tx_hash = icon_service.send_transaction(signed_transaction)\n",
    "print(get_tx_result(tx_hash))"
   ]
  },
  {
   "cell_type": "code",
   "execution_count": 10,
   "metadata": {
    "tags": []
   },
   "outputs": [
    {
     "name": "stdout",
     "output_type": "stream",
     "text": [
      "hxd29037f1eb8c3f0e8630d797edc7410507c0089a\n",
      "Raised JSONRPCException while returning the custom response. Error message: {'code': -32602, 'message': 'Pending transaction'}\n",
      "{'code': -32602, 'message': 'Pending transaction'} (Json rpc error), Retrying in 1 seconds...\n",
      "{'txHash': '0x3d295167c28f9d45f60e379a5402dab3828fc0b6b9894a7a5161abeb5b5365b3', 'blockHeight': 4538394, 'blockHash': '0x229bd0a9b8e3cee1e0ba4616d71a5cdd14046a9e8a4c09f8a0bf9ccd338d9267', 'txIndex': 1, 'to': 'cx00cfdf6ac95bbdd5d6e14a2be3db760b6a5a0112', 'stepUsed': 162080, 'stepPrice': 10000000000, 'cumulativeStepUsed': 162080, 'eventLogs': [{'scoreAddress': 'cx00cfdf6ac95bbdd5d6e14a2be3db760b6a5a0112', 'indexed': ['Transfer(Address,Address,int,bytes)', 'hx91bf040426f226b3bfcd2f0b5967bbb0320525ce', 'hxd29037f1eb8c3f0e8630d797edc7410507c0089a', '0xd3c21bcecceda1000000'], 'data': ['0x4e6f6e65']}], 'logsBloom': b'\\x00\\x00\\x00\\x00\\x00\\x08\\x00\\x00\\x00\\x00\\x00 \\x00\\x02\\x00\\x00\\x00\\x00\\x00\\x00\\x00\\x00\\x00\\x00\\x00\\x00\\x00\\x00\\x00\\x00\\x80\\x00\\x00\\x00\\x00\\x00\\x00\\x00\\x00\\x00\\x00\\x00\\x00\\x00\\x00\\x00\\x00\\x00\\x00\\x00\\x00\\x00\\x00\\x00\\x00\\x00\\x00\\x00\\x00\\x80\\x80\\x00\\x00\\x00\\x00\\x00\\x00\\x00\\x00\\x00\\x00\\x00\\x00\\x00\\x00\\x00\\x00\\x00\\x00\\x00\\x00\\x00\\x00\\x00\\x00\\x00\\x00\\x00\\x00\\x00\\x00\\x00\\x00\\x04\\x00\\x00\\x00\\x00\\x00\\x00\\x00\\x00@@\\x00\\x00\\x01\\x00\\x00\\x00@\\x00\\x00\\x00\\x00\\x00\\x00\\x00\\x00\\x00\\x00\\x00\\x00\\x00\\x00\\x00\\x00\\x00\\x00\\x00\\x00\\x00\\x00\\x00\\x00\\x00\\x00\\x00\\x00\\x00\\x00\\x00\\x00\\x00\\x00\\x00\\x01\\x00\\x00\\x00\\x00\\x00\\x00\\x00\\x00\\x00\\x00\\x10\\x00\\x00\\x00\\x00\\x00\\x00\\x00\\x00\\x00\\x00\\x00\\x00\\x00\\x00\\x00\\x00\\x00\\x00\\x00\\x00\\x00\\x00\\x00\\x00\\x00\\x00\\x00\\x00\\x00\\x00\\x00@\\x00\\x00\\x00\\x00\\x00\\x00\\x00\\x00\\x00\\x00\\x00\\x00\\x00\\x00\\x00\\x00\\x00\\x00\\x00\\x00\\x00\\x00\\x00\\x01\\x00\\x00\\x00\\x00\\x00\\x00\\x00\\x00\\x00\\x00\\x00\\x00\\x00\\x00\\x00\\x00\\x00\\x00\\x00\\x00\\x00\\x00\\x00\\x00\\x00\\x00\\x00\\x00\\x00\\x00\\x00\\x00\\x00\\x00\\x00\\x00\\x00\\x00\\x00\\x00\\x00\\x00', 'status': 1}\n",
      "hx66ee5acace86d9ce23127599b7c9daae70c9d7c1\n",
      "Raised JSONRPCException while returning the custom response. Error message: {'code': -32602, 'message': 'Pending transaction'}\n",
      "{'code': -32602, 'message': 'Pending transaction'} (Json rpc error), Retrying in 1 seconds...\n",
      "{'txHash': '0xfb3b117923c271de90d0e2fe16fdb2c8c47093f5995abc7fdb4a113ca398bb05', 'blockHeight': 4538395, 'blockHash': '0xd2e6a5718b2b68371840ad6ea5f197794278ab0e3bb142071e601aa28cc3d990', 'txIndex': 1, 'to': 'cx00cfdf6ac95bbdd5d6e14a2be3db760b6a5a0112', 'stepUsed': 162080, 'stepPrice': 10000000000, 'cumulativeStepUsed': 162080, 'eventLogs': [{'scoreAddress': 'cx00cfdf6ac95bbdd5d6e14a2be3db760b6a5a0112', 'indexed': ['Transfer(Address,Address,int,bytes)', 'hx91bf040426f226b3bfcd2f0b5967bbb0320525ce', 'hx66ee5acace86d9ce23127599b7c9daae70c9d7c1', '0xd3c21bcecceda1000000'], 'data': ['0x4e6f6e65']}], 'logsBloom': b'@\\x00\\x00\\x00\\x00\\x00\\x00\\x00\\x00\\x00\\x00 \\x00\\x00\\x00\\x00\\x00\\x00\\x00\\x00\\x00\\x00\\x00\\x00\\x00\\x00\\x00\\x00\\x00\\x00\\x80\\x00\\x00\\x00\\x00\\x00\\x00\\x00\\x00\\x00\\x00\\x00\\x00\\x00\\x00\\x00\\x00\\x00\\x00\\x00\\x00\\x00\\x00\\x00\\x00\\x00\\x00\\x00\\x00\\x80\\x80\\x00\\x00\\x00\\x00\\x00\\x00\\x00\\x00\\x00\\x00\\x00\\x00\\x00\\x00\\x00\\x00\\x00\\x00\\x00\\x00\\x00\\x00\\x00\\x00\\x00\\x00\\x00\\x00\\x00\\x00\\x00\\x00\\x00\\x00\\x00\\x00\\x00\\x00\\x00\\x00\\x00@@\\x00\\x00\\x01\\x00\\x00\\x00@\\x00\\x00\\x00\\x00\\x00\\x00\\x00\\x00\\x00\\x00\\x00\\x04\\x00\\x00\\x00\\x00\\x00\\x00\\x00\\x00\\x00\\x00\\x00\\x00\\x00\\x00\\x00\\x00\\x00\\x00\\x00\\x00\\x00\\x00\\x00\\x01\\x00\\x00\\x00\\x00\\x00\\x00\\x00\\x00\\x00\\x00\\x10\\x00\\x00\\x00\\x00\\x00\\x00\\x00\\x00\\x00\\x00\\x00\\x00\\x00\\x00\\x00\\x00\\x00\\x00\\x00\\x00\\x00\\x00 \\x00\\x00\\x00\\x00\\x00\\x00\\x00\\x00@\\x00\\x00\\x00\\x00\\x00\\x00\\x00\\x00\\x00\\x00\\x00\\x00\\x00\\x00\\x00\\x00\\x00\\x00\\x00\\x00\\x00\\x00\\x00\\x01\\x00\\x00\\x00\\x00\\x00\\x00\\x00\\x00\\x00\\x00\\x00\\x00\\x00\\x00\\x00\\x00\\x00\\x00\\x00\\x00\\x00\\x00\\x00\\x00\\x00\\x00\\x00\\x00\\x00\\x00\\x00\\x00\\x00\\x00\\x00\\x00\\x00\\x00\\x00\\x00\\x00\\x00', 'status': 1}\n",
      "hx65902dd4139d04765534a4539319be874ad7aa0b\n",
      "Raised JSONRPCException while returning the custom response. Error message: {'code': -32602, 'message': 'Pending transaction'}\n",
      "{'code': -32602, 'message': 'Pending transaction'} (Json rpc error), Retrying in 1 seconds...\n",
      "{'txHash': '0x7ab1a2ebbe1b7665057c246ed44de0b04d81cecb3300512855fd804de686b4bb', 'blockHeight': 4538397, 'blockHash': '0x47006f0cb6464e92ee679e96eb3eb0f042f7afc73a820e6b80c80fd0c2e104c8', 'txIndex': 1, 'to': 'cx00cfdf6ac95bbdd5d6e14a2be3db760b6a5a0112', 'stepUsed': 162080, 'stepPrice': 10000000000, 'cumulativeStepUsed': 162080, 'eventLogs': [{'scoreAddress': 'cx00cfdf6ac95bbdd5d6e14a2be3db760b6a5a0112', 'indexed': ['Transfer(Address,Address,int,bytes)', 'hx91bf040426f226b3bfcd2f0b5967bbb0320525ce', 'hx65902dd4139d04765534a4539319be874ad7aa0b', '0xd3c21bcecceda1000000'], 'data': ['0x4e6f6e65']}], 'logsBloom': b'\\x00\\x00\\x00\\x00\\x00\\x00\\x00\\x00\\x00 \\x00 \\x00\\x00\\x00\\x00\\x00\\x00\\x00\\x00\\x00\\x00\\x00\\x00\\x00\\x00\\x00\\x00\\x00\\x00\\x80\\x00\\x00\\x00\\x00\\x00\\x00\\x00\\x00\\x00\\x00\\x00\\x00\\x00\\x00\\x00\\x00\\x00\\x00\\x00\\x00\\x00\\x00\\x00\\x00\\x00\\x00\\x00\\x00\\x80\\x80\\x00\\x00\\x00\\x00\\x00\\x00\\x00\\x00\\x00\\x00\\x00\\x00\\x00\\x00\\x00\\x00\\x00\\x00\\x00\\x00\\x00\\x00\\x00\\x00\\x00\\x00\\x00\\x00\\x00\\x00\\x00\\x00\\x00\\x00\\x00\\x00\\x08\\x00\\x00\\x00\\x00@@\\x00\\x00\\x01\\x00\\x00\\x00@\\x00\\x00\\x00\\x00\\x00\\x00\\x00\\x02\\x00\\x00\\x00\\x00\\x00\\x00\\x00\\x00\\x00\\x00\\x00\\x00\\x00\\x00\\x00\\x00\\x00\\x00\\x00\\x00\\x00\\x00\\x00\\x00\\x00\\x00\\x00\\x01\\x00\\x00\\x00\\x00\\x00\\x00\\x00\\x00\\x00\\x00\\x10\\x00\\x00\\x00\\x00\\x00\\x00\\x00\\x00\\x00\\x00\\x00\\x00\\x00\\x00\\x00\\x00\\x00\\x00\\x00\\x00\\x00\\x00\\x00\\x00\\x00\\x00\\x00\\x00\\x00\\x00\\x00@\\x00\\x00\\x00\\x00\\x00\\x00\\x00\\x00\\x00\\x00\\x00\\x00\\x00\\x00\\x00\\x00\\x00\\x00\\x00\\x00\\x00\\x00\\x00\\x01\\x00\\x00\\x00\\x00\\x00\\x00\\x00\\x00\\x00\\x00\\x00\\x00\\x00\\x00\\x00\\x00\\x00\\x00\\x00\\x00\\x00\\x00\\x00\\x00\\x00\\x00\\x00\\x00\\x00\\x00\\x00\\x00\\x00\\x00\\x00\\x00\\x00\\x00\\x00\\x00\\x00\\x00', 'status': 1}\n"
     ]
    }
   ],
   "source": [
    "for wallet in wallets:\n",
    "    print(wallet.get_address())\n",
    "    params = {\"_to\": wallet.get_address(), \"_value\": 1000000 * 10 ** 18}\n",
    "    transaction = CallTransactionBuilder()\\\n",
    "        .from_(deployer_wallet.get_address())\\\n",
    "        .to(contracts['sicx'])\\\n",
    "        .value(0)\\\n",
    "        .step_limit(10000000)\\\n",
    "        .nid(3)\\\n",
    "        .nonce(100)\\\n",
    "        .method(\"transfer\")\\\n",
    "        .params(params)\\\n",
    "        .build()\n",
    "    signed_transaction = SignedTransaction(transaction, deployer_wallet)\n",
    "    tx_hash = icon_service.send_transaction(signed_transaction)\n",
    "    print(get_tx_result(tx_hash))"
   ]
  },
  {
   "cell_type": "markdown",
   "metadata": {},
   "source": [
    "## Transfering icx\n",
    " (the below cells are optional,if you want to tranfer icx to any of the wallet than only you need to run the cells)\n"
   ]
  },
  {
   "cell_type": "code",
   "execution_count": 21,
   "metadata": {},
   "outputs": [
    {
     "data": {
      "text/plain": [
       "702846553760312000000000000"
      ]
     },
     "execution_count": 21,
     "metadata": {},
     "output_type": "execute_result"
    }
   ],
   "source": [
    "password = \"test1_Account\"\n",
    "icx_wallet = KeyWallet.load(\"./keystores/keystore_test1.json\",password)\n",
    "icx_wallet.get_address()\n",
    "icon_service.get_balance(icx_wallet.get_address())"
   ]
  },
  {
   "cell_type": "markdown",
   "metadata": {},
   "source": [
    "# run the below cell only when you want to transfer ICX to a wallet\n",
    "change the wallet address and the amount of icx to be transferred to that wallet"
   ]
  },
  {
   "cell_type": "code",
   "execution_count": 22,
   "metadata": {
    "tags": []
   },
   "outputs": [
    {
     "data": {
      "text/plain": [
       "{'txHash': '0xcd90762341303fc505b6c6ca500e7a907961b7cc589cffbc00a185950d36f7ee',\n",
       " 'blockHeight': 4675502,\n",
       " 'blockHash': '0xde865ace8b60dba9de40c7859747946f9d456490655d7a5ea1ab21104fff0262',\n",
       " 'txIndex': 1,\n",
       " 'to': 'hx2176d13280d465b68afbf7f9be758e966f654629',\n",
       " 'stepUsed': 100000,\n",
       " 'stepPrice': 10000000000,\n",
       " 'cumulativeStepUsed': 100000,\n",
       " 'eventLogs': [],\n",
       " 'logsBloom': b'\\x00\\x00\\x00\\x00\\x00\\x00\\x00\\x00\\x00\\x00\\x00\\x00\\x00\\x00\\x00\\x00\\x00\\x00\\x00\\x00\\x00\\x00\\x00\\x00\\x00\\x00\\x00\\x00\\x00\\x00\\x00\\x00\\x00\\x00\\x00\\x00\\x00\\x00\\x00\\x00\\x00\\x00\\x00\\x00\\x00\\x00\\x00\\x00\\x00\\x00\\x00\\x00\\x00\\x00\\x00\\x00\\x00\\x00\\x00\\x00\\x00\\x00\\x00\\x00\\x00\\x00\\x00\\x00\\x00\\x00\\x00\\x00\\x00\\x00\\x00\\x00\\x00\\x00\\x00\\x00\\x00\\x00\\x00\\x00\\x00\\x00\\x00\\x00\\x00\\x00\\x00\\x00\\x00\\x00\\x00\\x00\\x00\\x00\\x00\\x00\\x00\\x00\\x00\\x00\\x00\\x00\\x00\\x00\\x00\\x00\\x00\\x00\\x00\\x00\\x00\\x00\\x00\\x00\\x00\\x00\\x00\\x00\\x00\\x00\\x00\\x00\\x00\\x00\\x00\\x00\\x00\\x00\\x00\\x00\\x00\\x00\\x00\\x00\\x00\\x00\\x00\\x00\\x00\\x00\\x00\\x00\\x00\\x00\\x00\\x00\\x00\\x00\\x00\\x00\\x00\\x00\\x00\\x00\\x00\\x00\\x00\\x00\\x00\\x00\\x00\\x00\\x00\\x00\\x00\\x00\\x00\\x00\\x00\\x00\\x00\\x00\\x00\\x00\\x00\\x00\\x00\\x00\\x00\\x00\\x00\\x00\\x00\\x00\\x00\\x00\\x00\\x00\\x00\\x00\\x00\\x00\\x00\\x00\\x00\\x00\\x00\\x00\\x00\\x00\\x00\\x00\\x00\\x00\\x00\\x00\\x00\\x00\\x00\\x00\\x00\\x00\\x00\\x00\\x00\\x00\\x00\\x00\\x00\\x00\\x00\\x00\\x00\\x00\\x00\\x00\\x00\\x00\\x00\\x00\\x00\\x00\\x00\\x00\\x00\\x00\\x00\\x00\\x00\\x00\\x00\\x00\\x00\\x00\\x00\\x00\\x00\\x00\\x00\\x00\\x00\\x00',\n",
       " 'status': 1}"
      ]
     },
     "execution_count": 22,
     "metadata": {},
     "output_type": "execute_result"
    }
   ],
   "source": [
    "# hxd29037f1eb8c3f0e8630d797edc7410507c0089a\n",
    "# hx66ee5acace86d9ce23127599b7c9daae70c9d7c1\n",
    "# hx65902dd4139d04765534a4539319be874ad7aa0b\n",
    "wallet = \"hx2176d13280d465b68afbf7f9be758e966f654629\" \n",
    "amount = 100000*10**18                               #change the amount of icx to transfer here\n",
    "transaction = TransactionBuilder()\\\n",
    "    .from_(icx_wallet.get_address())\\\n",
    "    .to(wallet)\\\n",
    "    .nid(3) \\\n",
    "    .nonce(100) \\\n",
    "    .value(amount)\\\n",
    "    .build()\n",
    "\n",
    "estimate_step = icon_service.estimate_step(transaction)\n",
    "step_limit = estimate_step + 100000\n",
    "signed_transaction = SignedTransaction(transaction, icx_wallet,step_limit)\n",
    "\n",
    "\n",
    "# Sends the transaction\n",
    "tx_hash = icon_service.send_transaction(signed_transaction)\n",
    "\n",
    "get_tx_result(tx_hash)"
   ]
  },
  {
   "cell_type": "code",
   "execution_count": 23,
   "metadata": {},
   "outputs": [
    {
     "name": "stdout",
     "output_type": "stream",
     "text": [
      "update lendingPool cx0be0870a036ef7a08997bd12e1cd0bfed2dd5d85\n"
     ]
    },
    {
     "name": "stderr",
     "output_type": "stream",
     "text": [
      "Raised JSONRPCException while returning the custom response. Error message: {'code': -32602, 'message': 'Pending transaction'}\n"
     ]
    },
    {
     "name": "stdout",
     "output_type": "stream",
     "text": [
      "{'code': -32602, 'message': 'Pending transaction'} (Json rpc error), Retrying in 1 seconds...\n"
     ]
    },
    {
     "name": "stderr",
     "output_type": "stream",
     "text": [
      "Raised JSONRPCException while returning the custom response. Error message: {'code': -32602, 'message': 'Pending transaction'}\n"
     ]
    },
    {
     "name": "stdout",
     "output_type": "stream",
     "text": [
      "{'code': -32602, 'message': 'Pending transaction'} (Json rpc error), Retrying in 2 seconds...\n"
     ]
    },
    {
     "data": {
      "text/plain": [
       "{'txHash': '0x4a4510986957f5208462579a2c6d18ceef715f93b9a33a2f786ca3d500357a97',\n",
       " 'blockHeight': 13370060,\n",
       " 'blockHash': '0x9c25ed55271f789ec49d2d2f1a7d2d1eb9a7266eed839b77f65b57cbcdd3ccc1',\n",
       " 'txIndex': 1,\n",
       " 'to': 'cx0be0870a036ef7a08997bd12e1cd0bfed2dd5d85',\n",
       " 'scoreAddress': 'cx0be0870a036ef7a08997bd12e1cd0bfed2dd5d85',\n",
       " 'stepUsed': 1738976800,\n",
       " 'stepPrice': 10000000000,\n",
       " 'cumulativeStepUsed': 1738976800,\n",
       " 'eventLogs': [],\n",
       " 'logsBloom': b'\\x00\\x00\\x00\\x00\\x00\\x00\\x00\\x00\\x00\\x00\\x00\\x00\\x00\\x00\\x00\\x00\\x00\\x00\\x00\\x00\\x00\\x00\\x00\\x00\\x00\\x00\\x00\\x00\\x00\\x00\\x00\\x00\\x00\\x00\\x00\\x00\\x00\\x00\\x00\\x00\\x00\\x00\\x00\\x00\\x00\\x00\\x00\\x00\\x00\\x00\\x00\\x00\\x00\\x00\\x00\\x00\\x00\\x00\\x00\\x00\\x00\\x00\\x00\\x00\\x00\\x00\\x00\\x00\\x00\\x00\\x00\\x00\\x00\\x00\\x00\\x00\\x00\\x00\\x00\\x00\\x00\\x00\\x00\\x00\\x00\\x00\\x00\\x00\\x00\\x00\\x00\\x00\\x00\\x00\\x00\\x00\\x00\\x00\\x00\\x00\\x00\\x00\\x00\\x00\\x00\\x00\\x00\\x00\\x00\\x00\\x00\\x00\\x00\\x00\\x00\\x00\\x00\\x00\\x00\\x00\\x00\\x00\\x00\\x00\\x00\\x00\\x00\\x00\\x00\\x00\\x00\\x00\\x00\\x00\\x00\\x00\\x00\\x00\\x00\\x00\\x00\\x00\\x00\\x00\\x00\\x00\\x00\\x00\\x00\\x00\\x00\\x00\\x00\\x00\\x00\\x00\\x00\\x00\\x00\\x00\\x00\\x00\\x00\\x00\\x00\\x00\\x00\\x00\\x00\\x00\\x00\\x00\\x00\\x00\\x00\\x00\\x00\\x00\\x00\\x00\\x00\\x00\\x00\\x00\\x00\\x00\\x00\\x00\\x00\\x00\\x00\\x00\\x00\\x00\\x00\\x00\\x00\\x00\\x00\\x00\\x00\\x00\\x00\\x00\\x00\\x00\\x00\\x00\\x00\\x00\\x00\\x00\\x00\\x00\\x00\\x00\\x00\\x00\\x00\\x00\\x00\\x00\\x00\\x00\\x00\\x00\\x00\\x00\\x00\\x00\\x00\\x00\\x00\\x00\\x00\\x00\\x00\\x00\\x00\\x00\\x00\\x00\\x00\\x00\\x00\\x00\\x00\\x00\\x00\\x00\\x00\\x00\\x00\\x00\\x00\\x00',\n",
       " 'status': 1}"
      ]
     },
     "execution_count": 23,
     "metadata": {},
     "output_type": "execute_result"
    }
   ],
   "source": [
    "contract_ = 'lendingPool'\n",
    "if contract_ == 'oICX':\n",
    "    update = contracts['oICX']\n",
    "    contract_ = 'oToken' \n",
    "else:\n",
    "    update = contracts[contract_]\n",
    "#update = contracts[contract_]\n",
    "print('update',contract_, update)\n",
    "\n",
    "deploy_transaction = DeployTransactionBuilder()\\\n",
    "    .from_(deployer_wallet.get_address())\\\n",
    "    .to(update)\\\n",
    "    .nid(NID)\\\n",
    "    .nonce(100)\\\n",
    "    .content_type(\"application/zip\")\\\n",
    "    .content(gen_deploy_data_content(contract_))\\\n",
    "    .build()\n",
    "\n",
    "step_limit = icon_service.estimate_step(deploy_transaction) + 100000\n",
    "\n",
    "signed_transaction = SignedTransaction(deploy_transaction, deployer_wallet, step_limit)\n",
    "tx_hash = icon_service.send_transaction(signed_transaction)\n",
    "\n",
    "get_tx_result(tx_hash)"
   ]
  },
  {
   "cell_type": "code",
   "execution_count": 25,
   "metadata": {},
   "outputs": [
    {
     "name": "stdout",
     "output_type": "stream",
     "text": [
      "{'addressProvider': 'cx797bc63e7b27758816910cb35f0fa1f546b57c33', 'daoFund': 'cxb2e669fbb8b94f2a4525345f22e466933b8d2075', 'delegation': 'cx24e32367425660a67c91d6e3c1077914df4e0286', 'feeProvider': 'cxd55f27870c9b219272ea4fc31d5d7ec8dc78a97e', 'governance': 'cx672132f49f0ef02969cc6b223613206e46ff34b1', 'lendingPool': 'cx0be0870a036ef7a08997bd12e1cd0bfed2dd5d85', 'lendingPoolCore': 'cx2d844c9613b5f864f5dace7fed82997c4c62ef01', 'lendingPoolDataProvider': 'cx88ae036091243916d87cbc3b11f39e317dcd46ad', 'liquidationManager': 'cx21b6ee09cd144b2a778bdcf69a46ef2cf898ff1c', 'ommToken': 'cxa96491850d5dd69efa5d64afa9138fd4a66cd348', 'oToken': 'cxf3e8b176a276a1d6bde232638656ed835f5cb058', 'priceOracle': 'cxe76fd817fae3b485ae6e4fea2cf88d050d379b63', 'rewards': 'cx3e9b334a82529797818ca824cc58c51b52a26087', 'sample_token': 'cxc88e39248bf428d3ab0b9c9fbafef9ff423c3a75', 'snapshot': 'cx584f740fedab472057bd8ee6e32d97b9b0a05b9d', 'worker_token': 'cxd4e8a5dd852439ccdec73a2b4cd973148f09775d', 'oUSDb': 'cx66788ee4dca134edae9ea9b8cc98c4e8073e644b', 'oICX': 'cx9dfe6300788178da4ac43e7eb7114380f5addc69', 'oIUSDC': 'cx5bdb716d9d5531927f9cab4dfd26937a595ad52c', 'sicx': 'cxb7eda227d9ed9c6fc2a74aa5dd7e9a3913f6c281', 'staking': 'cxadd9557a07d4aab925dd04b7a6da4ea1d67bef9c', 'iusdc': 'cx65f639254090820361da483df233f6d0e69af9b7', 'usdb': 'cxaa068556df80f9917ef146e889f0b2c4b13ab634'}\n"
     ]
    }
   ],
   "source": [
    "print(contracts) cx2d844c9613b5f864f5dace7fed82997c4c62ef01"
   ]
  },
  {
   "cell_type": "code",
   "execution_count": 24,
   "metadata": {},
   "outputs": [
    {
     "name": "stdout",
     "output_type": "stream",
     "text": [
      "hx91bf040426f226b3bfcd2f0b5967bbb0320525ce\n"
     ]
    },
    {
     "name": "stderr",
     "output_type": "stream",
     "text": [
      "Raised JSONRPCException while returning the custom response. Error message: {'code': -32602, 'message': 'Pending transaction'}\n"
     ]
    },
    {
     "name": "stdout",
     "output_type": "stream",
     "text": [
      "{'code': -32602, 'message': 'Pending transaction'} (Json rpc error), Retrying in 1 seconds...\n"
     ]
    },
    {
     "data": {
      "text/plain": [
       "{'txHash': '0xe152b5a402138bd76f9b1cf89ba5f8689eb00dff237a11569ede86d8e28c7608',\n",
       " 'blockHeight': 13370064,\n",
       " 'blockHash': '0x37ea19644f988ac6aa9b0d95171f485a2e41224abd20651c5b7813ee54cd4dba',\n",
       " 'txIndex': 1,\n",
       " 'to': 'cx0be0870a036ef7a08997bd12e1cd0bfed2dd5d85',\n",
       " 'stepUsed': 947180,\n",
       " 'stepPrice': 10000000000,\n",
       " 'cumulativeStepUsed': 947180,\n",
       " 'eventLogs': [],\n",
       " 'logsBloom': b'\\x00\\x00\\x00\\x00\\x00\\x00\\x00\\x00\\x00\\x00\\x00\\x00\\x00\\x00\\x00\\x00\\x00\\x00\\x00\\x00\\x00\\x00\\x00\\x00\\x00\\x00\\x00\\x00\\x00\\x00\\x00\\x00\\x00\\x00\\x00\\x00\\x00\\x00\\x00\\x00\\x00\\x00\\x00\\x00\\x00\\x00\\x00\\x00\\x00\\x00\\x00\\x00\\x00\\x00\\x00\\x00\\x00\\x00\\x00\\x00\\x00\\x00\\x00\\x00\\x00\\x00\\x00\\x00\\x00\\x00\\x00\\x00\\x00\\x00\\x00\\x00\\x00\\x00\\x00\\x00\\x00\\x00\\x00\\x00\\x00\\x00\\x00\\x00\\x00\\x00\\x00\\x00\\x00\\x00\\x00\\x00\\x00\\x00\\x00\\x00\\x00\\x00\\x00\\x00\\x00\\x00\\x00\\x00\\x00\\x00\\x00\\x00\\x00\\x00\\x00\\x00\\x00\\x00\\x00\\x00\\x00\\x00\\x00\\x00\\x00\\x00\\x00\\x00\\x00\\x00\\x00\\x00\\x00\\x00\\x00\\x00\\x00\\x00\\x00\\x00\\x00\\x00\\x00\\x00\\x00\\x00\\x00\\x00\\x00\\x00\\x00\\x00\\x00\\x00\\x00\\x00\\x00\\x00\\x00\\x00\\x00\\x00\\x00\\x00\\x00\\x00\\x00\\x00\\x00\\x00\\x00\\x00\\x00\\x00\\x00\\x00\\x00\\x00\\x00\\x00\\x00\\x00\\x00\\x00\\x00\\x00\\x00\\x00\\x00\\x00\\x00\\x00\\x00\\x00\\x00\\x00\\x00\\x00\\x00\\x00\\x00\\x00\\x00\\x00\\x00\\x00\\x00\\x00\\x00\\x00\\x00\\x00\\x00\\x00\\x00\\x00\\x00\\x00\\x00\\x00\\x00\\x00\\x00\\x00\\x00\\x00\\x00\\x00\\x00\\x00\\x00\\x00\\x00\\x00\\x00\\x00\\x00\\x00\\x00\\x00\\x00\\x00\\x00\\x00\\x00\\x00\\x00\\x00\\x00\\x00\\x00\\x00\\x00\\x00\\x00\\x00',\n",
       " 'status': 0,\n",
       " 'failure': {'code': 1,\n",
       "  'message': 'cx2d844c9613b5f864f5dace7fed82997c4c62ef01'}}"
      ]
     },
     "execution_count": 24,
     "metadata": {},
     "output_type": "execute_result"
    }
   ],
   "source": [
    "print(deployer_wallet.get_address())\n",
    "params = {\"_amount\":   10**18 }\n",
    "transaction = CallTransactionBuilder()\\\n",
    "    .from_(deployer_wallet.get_address())\\\n",
    "    .to(contracts['lendingPool'])\\\n",
    "    .value(10**18)\\\n",
    "    .step_limit(10000000)\\\n",
    "    .nid(3)\\\n",
    "    .nonce(100)\\\n",
    "    .method(\"deposit\")\\\n",
    "    .params(params)\\\n",
    "    .build()\n",
    "\n",
    "signed_transaction = SignedTransaction(transaction, deployer_wallet)\n",
    "tx_hash = icon_service.send_transaction(signed_transaction)\n",
    "get_tx_result(tx_hash)"
   ]
  },
  {
   "cell_type": "code",
   "execution_count": 70,
   "metadata": {},
   "outputs": [
    {
     "name": "stderr",
     "output_type": "stream",
     "text": [
      "Raised JSONRPCException while returning the custom response. Error message: {'code': -32602, 'message': 'Pending transaction'}\n"
     ]
    },
    {
     "name": "stdout",
     "output_type": "stream",
     "text": [
      "{'code': -32602, 'message': 'Pending transaction'} (Json rpc error), Retrying in 1 seconds...\n"
     ]
    },
    {
     "name": "stderr",
     "output_type": "stream",
     "text": [
      "Raised JSONRPCException while returning the custom response. Error message: {'code': -32602, 'message': 'Pending transaction'}\n"
     ]
    },
    {
     "name": "stdout",
     "output_type": "stream",
     "text": [
      "{'code': -32602, 'message': 'Pending transaction'} (Json rpc error), Retrying in 2 seconds...\n"
     ]
    },
    {
     "data": {
      "text/plain": [
       "{'txHash': '0x76ab25fd5ebbcc4cf853a7e9dd6f7c146c0fe582da07e0de71b8a497095d5046',\n",
       " 'blockHeight': 12742104,\n",
       " 'blockHash': '0x9e8a2916a7509d73eb45f1fce0a0d07d67053f2ef8aa11fe7e67617043624774',\n",
       " 'txIndex': 1,\n",
       " 'to': 'cxec16da74a4eb849cd9bef1f02f1252ce7a88b788',\n",
       " 'stepUsed': 2306180,\n",
       " 'stepPrice': 10000000000,\n",
       " 'cumulativeStepUsed': 2306180,\n",
       " 'eventLogs': [{'scoreAddress': 'cxd100e81ac0839b6130bf4c6806489a9af6274db6',\n",
       "   'indexed': ['Distribution(str,Address,int)',\n",
       "    'worker',\n",
       "    'hxd64a458c9714775e695f63b2d86f66a22c23f85a',\n",
       "    '0x2a5a058fc295ed000000'],\n",
       "   'data': []},\n",
       "  {'scoreAddress': 'cxd100e81ac0839b6130bf4c6806489a9af6274db6',\n",
       "   'indexed': ['Distribution(str,Address,int)',\n",
       "    'daoFund',\n",
       "    'hx91bf040426f226b3bfcd2f0b5967bbb0320525ce',\n",
       "    '0x152d02c7e14af6800000'],\n",
       "   'data': []},\n",
       "  {'scoreAddress': 'cxd100e81ac0839b6130bf4c6806489a9af6274db6',\n",
       "   'indexed': ['Distribution(str,Address,int)',\n",
       "    'ommICX',\n",
       "    'hx3f01840a599da07b0f620eeae7aa9c574169a4be',\n",
       "    '0x152d02c7e14af6800000'],\n",
       "   'data': []},\n",
       "  {'scoreAddress': 'cxec16da74a4eb849cd9bef1f02f1252ce7a88b788',\n",
       "   'indexed': ['PrintData(str,int,int,int)',\n",
       "    'available liquidity at pool line 245',\n",
       "    '0x853cc37771c0bbee17',\n",
       "    '0x0'],\n",
       "   'data': ['0x0']},\n",
       "  {'scoreAddress': 'cxec16da74a4eb849cd9bef1f02f1252ce7a88b788',\n",
       "   'indexed': ['PrintData(str,int,int,int)',\n",
       "    'data at pool line 256',\n",
       "    '0x43d5abd7613e694ebb',\n",
       "    '0x545fe7d5802282b0'],\n",
       "   'data': ['0x1599933fa73141']},\n",
       "  {'scoreAddress': 'cxec16da74a4eb849cd9bef1f02f1252ce7a88b788',\n",
       "   'indexed': ['PrintData(str,int,int,int)',\n",
       "    'amout of collateral needed USD pool line 268',\n",
       "    '0xb6e5651bb0c59cd3',\n",
       "    '0x0'],\n",
       "   'data': ['0x0']},\n",
       "  {'scoreAddress': 'cxef84c3aec46054d31803c03b2011eb8ed4efaabc',\n",
       "   'indexed': ['PrintData(str,int,int,int)',\n",
       "    'params check at core line 456',\n",
       "    '0xde0b6b3a7640000',\n",
       "    '0x38d7ea4c68000'],\n",
       "   'data': ['0x0']},\n",
       "  {'scoreAddress': 'cxb7eda227d9ed9c6fc2a74aa5dd7e9a3913f6c281',\n",
       "   'indexed': ['Transfer(Address,Address,int,bytes)',\n",
       "    'cxef84c3aec46054d31803c03b2011eb8ed4efaabc',\n",
       "    'hx91bf040426f226b3bfcd2f0b5967bbb0320525ce',\n",
       "    '0x1d0eeaac06'],\n",
       "   'data': ['0x4e6f6e65']},\n",
       "  {'scoreAddress': 'cxef84c3aec46054d31803c03b2011eb8ed4efaabc',\n",
       "   'indexed': ['DaoFundTransfer(int,Address,Address)',\n",
       "    '0x1d0eeaac06',\n",
       "    'cxb7eda227d9ed9c6fc2a74aa5dd7e9a3913f6c281',\n",
       "    'hx91bf040426f226b3bfcd2f0b5967bbb0320525ce'],\n",
       "   'data': []},\n",
       "  {'scoreAddress': 'cxef84c3aec46054d31803c03b2011eb8ed4efaabc',\n",
       "   'indexed': ['PrintData(str,int,int,int)',\n",
       "    'user borrow balances',\n",
       "    '0xa688908ea54ac125',\n",
       "    '0x122952ab845'],\n",
       "   'data': ['0x0']},\n",
       "  {'scoreAddress': 'cxef84c3aec46054d31803c03b2011eb8ed4efaabc',\n",
       "   'indexed': ['PrintData(str,int,int,int)',\n",
       "    'initial total borrows core line 497',\n",
       "    '0xa688908ea54ac125',\n",
       "    '0x0'],\n",
       "   'data': ['0x0']},\n",
       "  {'scoreAddress': 'cxef84c3aec46054d31803c03b2011eb8ed4efaabc',\n",
       "   'indexed': ['PrintData(str,int,int,int)',\n",
       "    'new total borrows core line 499',\n",
       "    '0xb4694864e1d9796a',\n",
       "    '0x0'],\n",
       "   'data': ['0x0']},\n",
       "  {'scoreAddress': 'cxef84c3aec46054d31803c03b2011eb8ed4efaabc',\n",
       "   'indexed': ['PrintData(str,int,int,int)',\n",
       "    'params check core line 508',\n",
       "    '0xde0b6b3a7640000',\n",
       "    '0x122952ab845'],\n",
       "   'data': ['0x38d7ea4c68000']},\n",
       "  {'scoreAddress': 'cxef84c3aec46054d31803c03b2011eb8ed4efaabc',\n",
       "   'indexed': ['PrintData(str,int,int,int)',\n",
       "    'user data core line 514',\n",
       "    '0xa688908ea54ac125',\n",
       "    '0x2aa1efb94e0000'],\n",
       "   'data': ['0xde0b6d32117ae44']},\n",
       "  {'scoreAddress': 'cxef84c3aec46054d31803c03b2011eb8ed4efaabc',\n",
       "   'indexed': ['PrintData(str,int,int,int)',\n",
       "    'params check core line 408',\n",
       "    '0x0',\n",
       "    '0xde0b6b3a7640000'],\n",
       "   'data': ['0x0']},\n",
       "  {'scoreAddress': 'cxef84c3aec46054d31803c03b2011eb8ed4efaabc',\n",
       "   'indexed': ['PrintData(str,int,int,int)',\n",
       "    'rate value core line 412',\n",
       "    '0x30614a5de7a',\n",
       "    '0x27e4b79ce94d6'],\n",
       "   'data': ['0x0']},\n",
       "  {'scoreAddress': 'cxef84c3aec46054d31803c03b2011eb8ed4efaabc',\n",
       "   'indexed': ['ReserveUpdated(Address,int,int,int,int)',\n",
       "    'cxb7eda227d9ed9c6fc2a74aa5dd7e9a3913f6c281',\n",
       "    '0x30614a5de7a',\n",
       "    '0x27e4b79ce94d6'],\n",
       "   'data': ['0xde0b6b3c5c17cfe', '0xde0b6d32117ae44']},\n",
       "  {'scoreAddress': 'cxb7eda227d9ed9c6fc2a74aa5dd7e9a3913f6c281',\n",
       "   'indexed': ['Transfer(Address,Address,int,bytes)',\n",
       "    'cxef84c3aec46054d31803c03b2011eb8ed4efaabc',\n",
       "    'hx91bf040426f226b3bfcd2f0b5967bbb0320525ce',\n",
       "    '0xde0b6b3a7640000'],\n",
       "   'data': ['0x4e6f6e65']},\n",
       "  {'scoreAddress': 'cxec16da74a4eb849cd9bef1f02f1252ce7a88b788',\n",
       "   'indexed': ['Borrow(Address,Address,int,int,int,int,int)',\n",
       "    'cxb7eda227d9ed9c6fc2a74aa5dd7e9a3913f6c281',\n",
       "    'hx91bf040426f226b3bfcd2f0b5967bbb0320525ce',\n",
       "    '0xde0b6b3a7640000'],\n",
       "   'data': ['0x27e4b79ce94d6',\n",
       "    '0x38d7ea4c68000',\n",
       "    '0x122952ab845',\n",
       "    '0x5bad4ea4ccf91']}],\n",
       " 'logsBloom': b'\\x08\\x00\\x00\\x00\\x01@\\x080\\x00\\x00\\x80# \\x00\\x00\\x00\\x01\\x00\\x80\\x80\\x00\\x00\\x00\\x10\\x00\\x04\\x80\\x00\\x00\\x10\\x00\\x00\\x00\\x05\\x00\\x00\\x00\\x00\\x12\\x00\\x00\\x01\\x00\\x00\\x00\\x00\\x00\\x00)@\\x00\\xc0\\x04\\x00\\x00\\x04\\x00\\x00\\x01\\x80\\x08\\x00\\x11@\\n\\x00\\x03\\x08\\x04\\x82\\x00B\\x01   \\x01\\x01\\x01\\x00\\x00\\x02\\x00\\x00\\x00\\x80\\x00\\x00!\\x00\\x00\\x00\\x00\\x01\\x10\\x80\\x00!\\x00$\\x02\\x00\\x02\\x08\\x00\\x01\\x00\\x80\\x00\\x08\\x00\\x00\\x01\\x00\\x00\\x00\\x00\\x10A\\x00 \\x02\\x00\\x80\\x00$\\x10\\x00\\x00\\x90\\x01\\x10\\x00$\\x00\\x00\\x04\\x80\\x00\\x00\\x00\\x04\\x03\\x00\\x00\\x00\\x00\\x00\\x01@\\x00\\x04 \\x00 \\x00\\x00\\x10\\x00\\x04\\x00 \\x00@C\\x01\\x00\\x00\\x000\\x00\\x00\\x00\\x00@ \\x00\\x00 \\x00\\x10\\x00\\x10\\x81\\x00@\\x02\\x00\\x00\\x00\\x00\\x00\\x00\\x00\\x00\\x00\\x00\\xa0\\x01\\x00\\x06\\x00\\x00\\x00\\x00\\x00\\x80\\x00@ \\x00\\x01\\x08\\x03\\x00\\x01\\x02\\x00\\x00\\x00\\x00\\x00A\\x00\\xa0\\x04\\x00\\x00\\x01\\x00\\x01\\x01\\x00\\x00\\x00\\x00\\x00\\x00\\x00\\x00\\x00\\x00\\x10\\x02 \\x00\\x00\\x00\\x00\\x00\\x00\\x00\\x00\\x00\\x04\\x08',\n",
       " 'status': 1}"
      ]
     },
     "execution_count": 70,
     "metadata": {},
     "output_type": "execute_result"
    }
   ],
   "source": [
    "params = {\"_amount\": 10**18 ,\"_reserve\":contracts['sicx'] }\n",
    "transaction = CallTransactionBuilder()\\\n",
    "    .from_(deployer_wallet.get_address())\\\n",
    "    .to(contracts['lendingPool'])\\\n",
    "    .value(0)\\\n",
    "    .step_limit(10000000)\\\n",
    "    .nid(3)\\\n",
    "    .nonce(100)\\\n",
    "    .method(\"borrow\")\\\n",
    "    .params(params)\\\n",
    "    .build()\n",
    "signed_transaction = SignedTransaction(transaction, deployer_wallet)\n",
    "tx_hash = icon_service.send_transaction(signed_transaction)\n",
    "get_tx_result(tx_hash)"
   ]
  },
  {
   "cell_type": "code",
   "execution_count": 13,
   "metadata": {},
   "outputs": [
    {
     "data": {
      "text/plain": [
       "'cxb7eda227d9ed9c6fc2a74aa5dd7e9a3913f6c281'"
      ]
     },
     "execution_count": 13,
     "metadata": {},
     "output_type": "execute_result"
    }
   ],
   "source": [
    "contracts['sicx']"
   ]
  },
  {
   "cell_type": "code",
   "execution_count": null,
   "metadata": {},
   "outputs": [],
   "source": []
  }
 ],
 "metadata": {
  "celltoolbar": "Slideshow",
  "kernelspec": {
   "display_name": "Python 3",
   "language": "python",
   "name": "python3"
  },
  "language_info": {
   "codemirror_mode": {
    "name": "ipython",
    "version": 3
   },
   "file_extension": ".py",
   "mimetype": "text/x-python",
   "name": "python",
   "nbconvert_exporter": "python",
   "pygments_lexer": "ipython3",
   "version": "3.8.2"
  },
  "rise": {
   "scroll": true
  }
 },
 "nbformat": 4,
 "nbformat_minor": 2
}
