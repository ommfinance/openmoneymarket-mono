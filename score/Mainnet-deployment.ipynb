{
 "cells": [
  {
   "cell_type": "markdown",
   "metadata": {
    "slideshow": {
     "slide_type": "slide"
    }
   },
   "source": [
    "# Jupyter Notebook for mainnet deployment\n"
   ]
  },
  {
   "cell_type": "code",
   "execution_count": null,
   "metadata": {},
   "outputs": [],
   "source": [
    "from IPython.core.display import display, HTML\n",
    "\n",
    "display(HTML(\"<style>.container { width:100% !important; }</style>\"))\n"
   ]
  },
  {
   "cell_type": "markdown",
   "metadata": {},
   "source": [
    "# Set Up Environment"
   ]
  },
  {
   "cell_type": "code",
   "execution_count": null,
   "metadata": {},
   "outputs": [],
   "source": [
    "from iconservice import AddressPrefix, Address\n",
    "from iconsdk.exception import JSONRPCException\n",
    "from iconsdk.libs.in_memory_zip import gen_deploy_data_content\n",
    "from iconsdk.icon_service import IconService\n",
    "from iconsdk.providers.http_provider import HTTPProvider\n",
    "from iconsdk.builder.transaction_builder import CallTransactionBuilder, TransactionBuilder, DeployTransactionBuilder,DepositTransactionBuilder\n",
    "from iconsdk.builder.call_builder import CallBuilder\n",
    "from iconsdk.signed_transaction import SignedTransaction\n",
    "from iconsdk.wallet.wallet import KeyWallet\n",
    "from iconsdk.utils.convert_type import convert_hex_str_to_int\n",
    "from datetime import datetime\n",
    "from repeater import retry\n",
    "from shutil import make_archive\n",
    "import requests\n",
    "import json\n",
    "import pickle as pkl\n",
    "import csv\n",
    "import os\n",
    "from pprint import pprint\n",
    "from getpass import getpass\n",
    "from dotenv import dotenv_values\n",
    "\n",
    "response = {}\n",
    "print(1)"
   ]
  },
  {
   "cell_type": "code",
   "execution_count": null,
   "metadata": {},
   "outputs": [],
   "source": [
    "config = dotenv_values(\"./_deployment/.env.jupyter\")\n",
    "\n",
    "EXA = 10 ** 18\n",
    "ICX = 10 ** 18\n",
    "\n",
    "NETWORK = config[\"NETWORK\"]\n",
    "\n",
    "PREPS_LIST_FILE = config[\"PREPS_LIST_FILE\"]\n",
    "with open(PREPS_LIST_FILE, \"r\") as file:\n",
    "    PREP_LIST = json.load(file)\n",
    "\n",
    "# PREP_LIST = config['PREPS_LIST'].split(\",\")\n",
    "TIMESTAMP = int(config[\"TIMESTAMP\"])\n",
    "\n",
    "PRIVATE_KEY = config[\"PRIVATE_KEY\"]\n",
    "\n",
    "GOVERNANCE_ADDRESS = \"cx0000000000000000000000000000000000000000\"\n",
    "\n",
    "#lending and borrow reward\n",
    "LENDING_BORROW_PERCENTAGE = int(config[\"LENDING_BORROW_PERCENTAGE\"]) * EXA // 100\n",
    "#LP and OMM staking reward\n",
    "LP_OMM_STAKING_PERCENTAGE = int(config[\"LP_OMM_STAKING_PERCENTAGE\"]) * EXA // 100\n",
    "#DAO reward percentage\n",
    "DAO_DIST_PERCENTAGE = int(config[\"DAO_DIST_PERCENTAGE\"]) * EXA // 100\n",
    "#Worker reward \n",
    "WORKER_DIST_PERCENTAGE = int(config[\"WORKER_DIST_PERCENTAGE\"]) * EXA // 100\n",
    "\n",
    "assert (LENDING_BORROW_PERCENTAGE + LP_OMM_STAKING_PERCENTAGE + DAO_DIST_PERCENTAGE + WORKER_DIST_PERCENTAGE) // EXA == 1\n",

    "\n",
    "ICX_EMISSION = int(config[\"ICX_PERCENTAGE\"])\n",
    "OICX_EMISSION = int(config[\"OICX_EMISSION\"]) * ICX_EMISSION * EXA // 10000\n",
    "DICX_EMISSION = int(config[\"DICX_EMISSION\"]) * ICX_EMISSION * EXA // 10000\n",
    "\n",
    "USDS_EMISSION = int(config[\"USDS_PERCENTAGE\"])\n",
    "OUSDS_EMISSION = int(config[\"OUSDS_EMISSION\"]) * USDS_EMISSION * EXA // 10000\n",
    "DUSDS_EMISSION = int(config[\"DUSDS_EMISSION\"]) * USDS_EMISSION * EXA // 10000\n",
    "\n",
    "IUSDC_EMISSION = int(config[\"IUSDC_PERCENTAGE\"])\n",
    "OIUSDC_EMISSION = int(config[\"OIUSDC_EMISSION\"]) * IUSDC_EMISSION * EXA // 10000\n",
    "DIUSDC_EMISSION = int(config[\"DIUSDC_EMISSION\"]) * IUSDC_EMISSION * EXA // 10000\n",
    "\n",
    "assert (OICX_EMISSION + DICX_EMISSION + OUSDS_EMISSION + DUSDS_EMISSION + OIUSDC_EMISSION + DIUSDC_EMISSION) // EXA == 1\n",
    "\n",
    "#LP and OMM staking reward\n",
    "\n",
    "OMM_SICX_DIST_PERCENTAGE = int(config[\"OMM_SICX_DIST_PERCENTAGE\"]) * EXA // 100\n",
    "OMM_USDS_DIST_PERCENTAGE = int(config[\"OMM_USDS_DIST_PERCENTAGE\"]) * EXA // 100\n",
    "OMM_USDC_DIST_PERCENTAGE = int(config[\"OMM_USDC_DIST_PERCENTAGE\"]) * EXA // 100\n",
    "OMM_DIST_PERCENTAGE = int(config[\"OMM_DIST_PERCENTAGE\"]) * EXA // 100\n",
    "\n",
    "assert (OMM_SICX_DIST_PERCENTAGE + OMM_USDS_DIST_PERCENTAGE + OMM_USDC_DIST_PERCENTAGE + OMM_DIST_PERCENTAGE) // EXA == 1\n",

    "\n",
    "DEPOSIT_ICX_AMOUNT = int(config[\"DEPOSIT_ICX_AMOUNT\"])\n",
    "FEE_SHARING_TX_LIMIT = int(config[\"FEE_SHARING_TX_LIMIT\"])\n",
    "LOAN_ORIGINATION_PERCENTAGE = int(float(config[\"LOAN_ORIGINATION_PERCENTAGE\"]) * EXA)\n",
    "MINIMUM_OMM_STAKE = int(config[\"MINIMUM_OMM_STAKE\"]) * EXA\n",
    "UNSTAKING_PERIOD = int(config[\"UNSTAKING_PERIOD\"])\n",
    "\n",
    "# id from dex\n",
    "OMM_SICX_ID = int(config[\"OMM_SICX_ID\"])\n",
    "OMM_USDS_ID = int(config[\"OMM_USDS_ID\"])\n",
    "OMM_USDC_ID = int(config[\"OMM_USDC_ID\"])\n",
    "\n",
    "DEPLOYER_WALLERT_KEYSTORE = int(config[\"DEPLOYER_WALLERT_KEYSTORE\"])\n",
    "DEPLOYER_WALLERT_KEYSTORE_PASSWORD = int(config[\"DEPLOYER_WALLERT_KEYSTORE_PASSWORD\"])\n",
    "\n",
    "_contract_file_loaded = False\n",
    "print(1)"
   ]
  },
  {
   "cell_type": "code",
   "execution_count": null,
   "metadata": {},
   "outputs": [],
   "source": [
    "connections = {\n",
    "    \"mainnet\": {\"iconservice\": \"https://ctz.solidwallet.io\", \"nid\": 1},\n",
    "    \"yeouido\": {\"iconservice\": \"https://bicon.net.solidwallet.io\", \"nid\": 3},\n",
    "    \"euljiro\": {\"iconservice\": \"https://test-ctz.solidwallet.io\", \"nid\": 2},\n",
    "    \"pagoda\": {\"iconservice\": \"https://zicon.net.solidwallet.io\", \"nid\": 80},\n",
    "    \"custom\": {\"iconservice\": \"http://18.237.205.52:9000/\", \"nid\": 3},\n",
    "    \"local\": {\"iconservice\": \"http://localhost:9000/\", \"nid\": 3},\n",
    "    \"sejong\": {\"iconservice\": \"https://sejong.net.solidwallet.io\", \"nid\": 83}\n",
    "}\n",
    "\n",
    "env = connections[NETWORK]\n",
    "\n",
    "icon_service = IconService(HTTPProvider(env[\"iconservice\"], 3))\n",
    "NID = env[\"nid\"]\n",
    "\n",
    "\n",
    "@retry(JSONRPCException, tries=10, delay=1, back_off=2)\n",
    "def get_tx_result(_tx_hash):\n",
    "    tx_result = icon_service.get_transaction_result(_tx_hash)\n",
    "    return tx_result\n",
    "\n",
    "\n",
    "print(f\"newtwork -> {NETWORK}\")\n",
    "print(f\"nid -> {NID}\")"
   ]
  },
  {
   "cell_type": "markdown",
   "metadata": {},
   "source": [
    "### Import deployer wallet"
   ]
  },
  {
   "cell_type": "code",
   "execution_count": 3,
   "metadata": {},
   "outputs": [
    {
     "name": "stdout",
     "output_type": "stream",
     "text": [
      "Password for deployer wallet keystore? s@@nu2131\n"
     ]
    },
    {
     "ename": "NameError",
     "evalue": "name 'KeyWallet' is not defined",
     "output_type": "error",
     "traceback": [
      "\u001b[0;31m---------------------------------------------------------------------------\u001b[0m",
      "\u001b[0;31mNameError\u001b[0m                                 Traceback (most recent call last)",
      "\u001b[0;32m<ipython-input-3-e10f13713489>\u001b[0m in \u001b[0;36m<module>\u001b[0;34m\u001b[0m\n\u001b[1;32m      1\u001b[0m \u001b[0mkeystore_password\u001b[0m \u001b[0;34m=\u001b[0m \u001b[0minput\u001b[0m\u001b[0;34m(\u001b[0m\u001b[0;34mf'Password for deployer wallet keystore? '\u001b[0m\u001b[0;34m)\u001b[0m\u001b[0;34m\u001b[0m\u001b[0;34m\u001b[0m\u001b[0m\n\u001b[0;32m----> 2\u001b[0;31m \u001b[0mbtest_wallet\u001b[0m \u001b[0;34m=\u001b[0m \u001b[0mKeyWallet\u001b[0m\u001b[0;34m.\u001b[0m\u001b[0mload\u001b[0m\u001b[0;34m(\u001b[0m\u001b[0mDEPLOYER_WALLERT_KEYSTORE\u001b[0m\u001b[0;34m,\u001b[0m \u001b[0mkeystore_password\u001b[0m\u001b[0;34m)\u001b[0m\u001b[0;34m\u001b[0m\u001b[0;34m\u001b[0m\u001b[0m\n\u001b[0m\u001b[1;32m      3\u001b[0m \u001b[0mprint\u001b[0m\u001b[0;34m(\u001b[0m\u001b[0mdeployer_wallet\u001b[0m\u001b[0;34m.\u001b[0m\u001b[0mget_address\u001b[0m\u001b[0;34m(\u001b[0m\u001b[0;34m)\u001b[0m\u001b[0;34m)\u001b[0m\u001b[0;34m\u001b[0m\u001b[0;34m\u001b[0m\u001b[0m\n\u001b[1;32m      4\u001b[0m \u001b[0mprint\u001b[0m\u001b[0;34m(\u001b[0m\u001b[0micon_service\u001b[0m\u001b[0;34m.\u001b[0m\u001b[0mget_balance\u001b[0m\u001b[0;34m(\u001b[0m\u001b[0mdeployer_wallet\u001b[0m\u001b[0;34m.\u001b[0m\u001b[0mget_address\u001b[0m\u001b[0;34m(\u001b[0m\u001b[0;34m)\u001b[0m\u001b[0;34m)\u001b[0m\u001b[0;34m)\u001b[0m\u001b[0;34m\u001b[0m\u001b[0;34m\u001b[0m\u001b[0m\n",
      "\u001b[0;31mNameError\u001b[0m: name 'KeyWallet' is not defined"
     ]
    }
   ],
   "source": [
    "keystore_password = input(f'Password for deployer wallet keystore? ')\n",
    "btest_wallet = KeyWallet.load(DEPLOYER_WALLERT_KEYSTORE, keystore_password)\n",
    "print(deployer_wallet.get_address())\n",
    "print(icon_service.get_balance(deployer_wallet.get_address()))"
   ]
  },
  {
   "cell_type": "code",
   "execution_count": null,
   "metadata": {},
   "outputs": [],
   "source": [
    "# Run this in case you want to import previous contract addresses\n",
    "contracts_file_custom = config[\"CONTRACT_ADDRESS_FILE\"]\n",
    "with open(contracts_file_custom, 'rb') as f:\n",
    "    contracts = pkl.load(f)\n",
    "    _contract_file_loaded = True"
   ]
  },
  {
   "cell_type": "markdown",
   "metadata": {},
   "source": [
    "## Helper Contracts and Variables"
   ]
  },
  {
   "cell_type": "code",
   "execution_count": null,
   "metadata": {},
   "outputs": [],
   "source": [
    "if not _contract_file_loaded:\n",
    "    contracts = {}\n",
    "    contracts['sicx'] = config[\"SICX\"]\n",
    "    contracts['staking'] = config[\"STAKING\"]\n",
    "    contracts['iusdc'] = config[\"IUSDC\"]\n",
    "    contracts[\"usds\"] = config.get(\"USDS\")\n",
    "    contracts['bandOracle'] = config[\"BAND_ORACLE\"]\n",
    "    contracts[\"dex\"] = config[\"DEX\"]"
   ]
  },
  {
   "cell_type": "markdown",
   "metadata": {},
   "source": [
    "## Deploying all contracts"
   ]
  },
  {
   "cell_type": "code",
   "execution_count": null,
   "metadata": {},
   "outputs": [],
   "source": [
    "def deploy_contract(item):\n",
    "    params = {}\n",
    "    if item == \"workerToken\":\n",
    "        params = {'_initialSupply': int(config.get(\"worker_token_initial\")), '_decimals': 18}\n",
    "    if item == \"rewardDistribution\":\n",
    "        DISTRIBUTION_PERCENTAGE = [\n",
    "            {\"recipient\": \"worker\", \"percentage\": f'{WORKER_DIST_PERCENTAGE}'},\n",
    "            {\"recipient\": \"daoFund\", \"percentage\": f'{DAO_DIST_PERCENTAGE}'},\n",
    "            {\"recipient\": \"lendingBorrow\", \"percentage\": f'{LENDING_BORROW_PERCENTAGE}'},\n",
    "            {\"recipient\": \"liquidityProvider\", \"percentage\": f'{LP_OMM_STAKING_PERCENTAGE}'}\n",
    "        ]\n",
    "        params = {\"_distPercentage\": DISTRIBUTION_PERCENTAGE, '_startTimestamp': TIMESTAMP}\n",
    "\n",
    "    if item not in ['addressProvider',\"workerToken\",\"feeProvider\",\"daoFund\"]:\n",
    "        params['_addressProvider'] = contracts['addressProvider']\n",
    "\n",
    "    deploy_transaction = DeployTransactionBuilder() \\\n",
    "        .from_(deployer_wallet.get_address()) \\\n",
    "        .to(GOVERNANCE_ADDRESS) \\\n",
    "        .nid(NID) \\\n",
    "        .nonce(100) \\\n",
    "        .content_type(\"application/zip\") \\\n",
    "        .content(gen_deploy_data_content(item)) \\\n",
    "        .params(params) \\\n",
    "        .build()\n",
    "\n",
    "\n",
    "    step_limit = icon_service.estimate_step(deploy_transaction) + 100000\n",
    "\n",
    "    signed_transaction = SignedTransaction(deploy_transaction, deployer_wallet, step_limit)\n",
    "    tx_hash = icon_service.send_transaction(signed_transaction)\n",
    "\n",
    "    res = get_tx_result(tx_hash)\n",
    "    message = res.get('failure')\n",
    "    status = res['status']\n",
    "    print(tx_hash)\n",
    "    print(status)\n",
    "    print(message)\n",
    "    response[f\"deploy_contract_{item}\"] = res['status']\n",
    "    return res.get('scoreAddress', '')"
   ]
  },
  {
   "cell_type": "code",
   "execution_count": null,
   "metadata": {},
   "outputs": [],
   "source": [
    "#deploy addresss provider contract\n",
    "contracts['addressProvider'] = deploy_contract('addressProvider')"
   ]
  },
  {
   "cell_type": "code",
   "execution_count": null,
   "metadata": {},
   "outputs": [],
   "source": [
    "assert response.get('deploy_contract_addressProvider',0) == 1,\"addressProvider is not deployed.\" "
   ]
  },
  {
   "cell_type": "code",
   "execution_count": null,
   "metadata": {
    "tags": []
   },
   "outputs": [],
   "source": [
    "#deploy rest of contracts\n",
    "deploy = ['daoFund', 'delegation', 'feeProvider', 'governance',\n",
    "          'lendingPool', 'lendingPoolCore', 'lendingPoolDataProvider',\n",
    "          'liquidationManager', 'ommToken', 'priceOracle', 'rewardDistribution',\n",
    "          'workerToken', 'stakedLp']\n",
    "\n",
    "directory = os.getcwd()\n",
    "for item in deploy:\n",
    "    print(f\"\\n Deploying {item} contract\\n\")\n",
    "    contracts[item] = deploy_contract(item)"
   ]
  },
  {
   "cell_type": "markdown",
   "metadata": {},
   "source": [
    "## Retry contract deploy"
   ]
  },
  {
   "cell_type": "code",
   "execution_count": null,
   "metadata": {},
   "outputs": [],
   "source": [
    "for item in deploy:\n",
    "    if item not in contracts.keys() or contracts[item] == \"\" or contracts[item] == None:\n",
    "        contracts[item] = deploy_contract(item)"
   ]
  },
  {
   "cell_type": "markdown",
   "metadata": {},
   "source": [
    "## reading configuration for otoken and dtoken"
   ]
  },
  {
   "cell_type": "code",
   "execution_count": null,
   "metadata": {},
   "outputs": [],
   "source": [
    "def _deploy_token_contract(token, params):\n",
    "    name = params[\"name\"]\n",
    "    symbol = params[\"symbol\"]\n",
    "    decimals = params[\"decimals\"]\n",
    "    print(f\"deploying {name}::{symbol}::{decimals}\")\n",
    "    params = {\"_name\": name, \"_symbol\": symbol, \"_decimals\": decimals, '_addressProvider': contracts['addressProvider']}\n",
    "    deploy_transaction = DeployTransactionBuilder() \\\n",
    "        .from_(deployer_wallet.get_address()) \\\n",
    "        .to(GOVERNANCE_ADDRESS) \\\n",
    "        .nid(NID) \\\n",
    "        .nonce(100) \\\n",
    "        .content_type(\"application/zip\") \\\n",
    "        .content(gen_deploy_data_content(token)) \\\n",
    "        .params(params) \\\n",
    "        .build()\n",
    "\n",
    "\n",
    "    step_limit = icon_service.estimate_step(deploy_transaction) + 100000\n",
    "\n",
    "    signed_transaction = SignedTransaction(deploy_transaction, deployer_wallet, step_limit)\n",
    "    tx_hash = icon_service.send_transaction(signed_transaction)\n",
    "\n",
    "    res = get_tx_result(tx_hash)\n",
    "    response[f\"deploy_{token}_contract_{symbol}\"] = res['status']\n",
    "    print(res)\n",
    "    return res.get('scoreAddress', '')"
   ]
  },
  {
   "cell_type": "code",
   "execution_count": null,
   "metadata": {},
   "outputs": [],
   "source": [
    "TOKEN_CONFIGURATION_FILE = config[\"TOKEN_CONFIGURATION_FILE\"]\n",
    "with open(TOKEN_CONFIGURATION_FILE, \"r\") as file:\n",
    "    data = json.load(file)\n",
    "\n",
    "for params in data['dToken']:\n",
    "    contracts[params['symbol']] = _deploy_token_contract('dToken', params)\n",
    "\n",
    "for params in data['oToken']:\n",
    "    contracts[params['symbol']] = _deploy_token_contract('oToken', params)"
   ]
  },
  {
   "cell_type": "code",
   "execution_count": null,
   "metadata": {},
   "outputs": [],
   "source": [
    "assert response.get('deploy_contract_addressProvider',0) == 1,\"addressProvider is not deployed.\"\n",
    "assert response.get('deploy_contract_daoFund',0) == 1,\"daoFund is not deployed.\"\n",
    "assert response.get('deploy_contract_delegation',0) == 1,\"delegation is not deployed.\"\n",
    "assert response.get('deploy_contract_feeProvider',0) == 1,\"feeProvider is not deployed.\"\n",
    "assert response.get('deploy_contract_governance',0) == 1,\"governance is not deployed.\"\n",
    "assert response.get('deploy_contract_lendingPool',0) == 1,\"lendingPool is not deployed.\"\n",
    "assert response.get('deploy_contract_lendingPoolCore',0) == 1,\"lendingPoolCore is not deployed.\"\n",
    "assert response.get('deploy_contract_lendingPoolDataProvider',0) == 1,\"lendingPoolDataProvider is not deployed.\"\n",
    "assert response.get('deploy_contract_liquidationManager',0) == 1,\"liquidationManager is not deployed.\"\n",
    "assert response.get('deploy_contract_ommToken',0) == 1,\"ommToken is not deployed.\"\n",
    "assert response.get('deploy_contract_priceOracle',0) == 1,\"priceOracle is not deployed.\"\n",
    "assert response.get('deploy_contract_rewardDistribution',0) == 1,\"rewardDistribution is not deployed.\"\n",
    "assert response.get('deploy_contract_workerToken',0) == 1,\"workerToken is not deployed.\"\n",
    "assert response.get('deploy_contract_stakedLp',0) == 1,\"stakedLp is not deployed.\"\n",
    "assert response.get('deploy_dToken_contract_dUSDS',0) == 1,\"dUSDS is not deployed.\"\n",
    "assert response.get('deploy_dToken_contract_dICX',0) == 1,\"dICX is not deployed.\"\n",
    "assert response.get('deploy_dToken_contract_dIUSDC',0) == 1,\"dIUSDC is not deployed.\"\n",
    "assert response.get('deploy_oToken_contract_oUSDS',0) == 1,\"oUSDS is not deployed.\"\n",
    "assert response.get('deploy_oToken_contract_oICX',0) == 1,\"oICX is not deployed.\"\n",
    "assert response.get('deploy_oToken_contract_oIUSDC',0) == 1,\"oIUSDC is not deployed.\"\n",
    "print(\"----All SCORE deployed successfully----\")"
   ]
  },
  {
   "cell_type": "code",
   "execution_count": null,
   "metadata": {},
   "outputs": [],
   "source": [
    "#create dummy contract address for liquidity pools\n",
    "contracts['OMM/sICX'] = Address.from_data(AddressPrefix.CONTRACT,\n",
    "                                          f\"{contracts['ommToken']}/{contracts['sicx']}\".encode(\"UTF-8\"))\n",
    "contracts['OMM/USDS'] = Address.from_data(AddressPrefix.CONTRACT,\n",
    "                                          f\"{contracts['ommToken']}/{contracts['usds']}\".encode(\"UTF-8\"))\n",
    "contracts['OMM/IUSDC'] = Address.from_data(AddressPrefix.CONTRACT,\n",
    "                                           f\"{contracts['ommToken']}/{contracts['iusdc']}\".encode(\"UTF-8\"))"
   ]
  },
  {
   "cell_type": "markdown",
   "metadata": {},
   "source": [
    "## Deposit fee to Lending Pool"
   ]
  },
  {
   "cell_type": "code",
   "execution_count": null,
   "metadata": {},
   "outputs": [],
   "source": [
    "call_transaction = DepositTransactionBuilder() \\\n",
    "    .from_(deployer_wallet.get_address()) \\\n",
    "    .to(contracts[\"lendingPool\"]) \\\n",
    "    .nid(3) \\\n",
    "    .value(DEPOSIT_ICX_AMOUNT * EXA) \\\n",
    "    .step_limit(1000000000) \\\n",
    "    .nonce(100) \\\n",
    "    .action(\"add\") \\\n",
    "    .build()\n",
    "\n",
    "signed_transaction = SignedTransaction(call_transaction, deployer_wallet)\n",
    "tx_hash = icon_service.send_transaction(signed_transaction)\n",
    "tx = get_tx_result(tx_hash)\n",
    "response['deposit_fee_for_sharing'] = tx['status']\n",
    "tx"
   ]
  },
  {
   "cell_type": "code",
   "execution_count": null,
   "metadata": {},
   "outputs": [],
   "source": [
    "#create dummy contract address for liquidity pools\n",
    "contracts['OMM/sICX'] = Address.from_data(AddressPrefix.CONTRACT,\n",
    "                                          f\"{contracts['ommToken']}/{contracts['sicx']}\".encode(\"UTF-8\"))\n",
    "contracts['OMM/USDS'] = Address.from_data(AddressPrefix.CONTRACT,\n",
    "                                          f\"{contracts['ommToken']}/{contracts['usds']}\".encode(\"UTF-8\"))\n",
    "contracts['OMM/IUSDC'] = Address.from_data(AddressPrefix.CONTRACT,\n",
    "                                           f\"{contracts['ommToken']}/{contracts['iusdc']}\".encode(\"UTF-8\"))"
   ]
  },
  {
   "cell_type": "markdown",
   "metadata": {},
   "source": [
    "## Saving the pkl file\n"
   ]
  },
  {
   "cell_type": "code",
   "execution_count": null,
   "metadata": {
    "tags": []
   },
   "outputs": [],
   "source": [
    "now = datetime.utcnow()\n",
    "filename = \"new\" + f'_contracts_{now.year}{str(now.month).zfill(2)}{str(now.day).zfill(2)}{str(now.hour).zfill(2)}{str(now.minute).zfill(2)}{str(now.second).zfill(2)}.pkl'\n",
    "\n",
    "print(f'saving contracts list as {filename}')\n",
    "with open(filename, 'wb') as f:\n",
    "    pkl.dump(contracts, f)\n",
    "\n",
    "response[\"pkl\"] = filename"
   ]
  },
  {
   "cell_type": "markdown",
   "metadata": {},
   "source": [
    "# Configuring SCOREs's parameters"
   ]
  },
  {
   "cell_type": "code",
   "execution_count": null,
   "metadata": {
    "tags": []
   },
   "outputs": [],
   "source": [
    "contract_details = [\n",
    "    {'name': 'addressProvider', 'address': contracts['addressProvider']},\n",
    "    {'name': 'daoFund', 'address': contracts['daoFund']},\n",
    "    {'name': 'delegation', 'address': contracts['delegation']},\n",
    "    {'name': 'feeProvider', 'address': contracts['feeProvider']},\n",
    "    {'name': 'governance', 'address': contracts['governance']},\n",
    "    {'name': 'lendingPool', 'address': contracts['lendingPool']},\n",
    "    {'name': 'lendingPoolCore', 'address': contracts['lendingPoolCore']},\n",
    "    {'name': 'lendingPoolDataProvider', 'address': contracts['lendingPoolDataProvider']},\n",
    "    {'name': 'liquidationManager', 'address': contracts['liquidationManager']},\n",
    "    {'name': 'ommToken', 'address': contracts['ommToken']},\n",
    "    {'name': 'priceOracle', 'address': contracts['priceOracle']},\n",
    "    {'name': 'bandOracle', 'address': contracts['bandOracle']},\n",
    "    {'name': 'bridgeOToken', 'address': contracts['oUSDS']},\n",
    "    {'name': 'rewards', 'address': contracts['rewardDistribution']},\n",
    "    {'name': 'workerToken', 'address': contracts['workerToken']},\n",
    "    {'name': 'sICX', 'address': contracts['sicx']},\n",
    "    {'name': 'USDS', 'address': contracts['usds']},\n",
    "    {'name': 'IUSDC', 'address': contracts['iusdc']},\n",
    "    {'name': 'staking', 'address': contracts['staking']},\n",
    "    {'name': 'oUSDS', 'address': contracts['oUSDS']},\n",
    "    {'name': 'dUSDS', 'address': contracts['dUSDS']},\n",
    "    {'name': 'oICX', 'address': contracts['oICX']},\n",
    "    {'name': 'dICX', 'address': contracts['dICX']},\n",
    "    {'name': 'oIUSDC', 'address': contracts['oIUSDC']},\n",
    "    {'name': 'dIUSDC', 'address': contracts['dIUSDC']},\n",
    "    {'name': 'stakedLP', 'address': contracts['stakedLp']},\n",
    "    {'name': 'dex', 'address': contracts['dex']}\n",
    "]\n",
    "\n",
    "setting_addressProvider = [\n",
    "    {'contract': 'addressProvider', 'method': 'setAddresses', 'params': {'_addressDetails': contract_details}},\n",
    "    {'contract': 'addressProvider', 'method': 'setSCOREAddresses', 'params': {}},\n",
    "]\n",
    "\n",
    "for sett in setting_addressProvider:\n",
    "    print(f'\\n')\n",
    "    print(f'Calling {sett[\"method\"]}, with parameters {sett[\"params\"]} on the {sett[\"contract\"]} contract.')\n",
    "    transaction = CallTransactionBuilder() \\\n",
    "        .from_(deployer_wallet.get_address()) \\\n",
    "        .to(contracts[sett['contract']]) \\\n",
    "        .value(0) \\\n",
    "        .step_limit(10000000) \\\n",
    "        .nid(NID) \\\n",
    "        .nonce(100) \\\n",
    "        .method(sett['method']) \\\n",
    "        .params(sett['params']) \\\n",
    "        .build()\n",
    "    signed_transaction = SignedTransaction(transaction, deployer_wallet)\n",
    "    tx_hash = icon_service.send_transaction(signed_transaction)\n",
    "    print(tx_hash)\n",
    "    print(get_tx_result(tx_hash))\n",
    "    status = get_tx_result(tx_hash)['status']\n",
    "    response[f\"{sett['method']} in {sett['contract']}\"] = status\n"

   ]
  },
  {
   "cell_type": "code",
   "execution_count": null,
   "metadata": {},
   "outputs": [],
   "source": [
    "assert response['setAddresses in addressProvider'] == 1\n",
    "assert response['setSCOREAddresses in addressProvider'] == 1\n",
    "print(\"ADDRESS PROVIDER CONFIGURED CORRECTLY\")"
   ]
  },
  {
   "cell_type": "code",
   "execution_count": null,
   "metadata": {},
   "outputs": [],
   "source": [
    "settings = [\n",
    "    {'key': 'setFeeSharingTxnLimit', 'contract': 'lendingPool', 'method': 'setFeeSharingTxnLimit',\n",
    "     'params': {'_limit': FEE_SHARING_TX_LIMIT}},\n",
    "    {'key': 'setLoanOriginationFeePercentage', 'contract': 'feeProvider', 'method': 'setLoanOriginationFeePercentage',\n",
    "     'params': {'_percentage': LOAN_ORIGINATION_PERCENTAGE}},\n",
    "    {'key': 'setSymbol (usds)', 'contract': 'lendingPoolDataProvider', 'method': 'setSymbol',\n",
    "     'params': {'_reserve': contracts['usds'], '_sym': \"USDS\"}},\n",
    "    {'key': 'setSymbol (sicx)', 'contract': 'lendingPoolDataProvider', 'method': 'setSymbol',\n",
    "     'params': {'_reserve': contracts['sicx'], '_sym': \"ICX\"}},\n",
    "    {'key': 'setSymbol (iusdc)', 'contract': 'lendingPoolDataProvider', 'method': 'setSymbol',\n",
    "     'params': {'_reserve': contracts['iusdc'], '_sym': \"USDC\"}},\n",
    "    {'key': 'set_reference_data (usds)', 'contract': 'priceOracle', 'method': 'set_reference_data',\n",
    "     'params': {'_base': 'USDS', '_quote': 'USD', '_rate': 1 * 10 ** 18}},\n",
    "    {'key': 'set_reference_data (icx)', 'contract': 'priceOracle', 'method': 'set_reference_data',\n",
    "     'params': {'_base': 'ICX', '_quote': 'USD', '_rate': 10 * 10 ** 17}},\n",
    "    {'key': 'set_reference_data (iusdc)', 'contract': 'priceOracle', 'method': 'set_reference_data',\n",
    "     'params': {'_base': 'IUSDC', '_quote': 'USD', '_rate': 10 * 10 ** 17}},\n",
    "    {'key': 'addAllContributors', 'contract': 'delegation', 'method': 'addAllContributors',\n",
    "     'params': {'_preps': PREP_LIST}},\n",
    "    {'key': 'setMinimumStake', 'contract': 'ommToken', 'method': 'setMinimumStake',\n",
    "     'params': {'_min': f'{MINIMUM_OMM_STAKE}'}}\n",
    "]\n",
    "\n",
    "for sett in settings:\n",
    "    print(f'\\n')\n",
    "    print(f'Calling {sett[\"method\"]}, with parameters {sett[\"params\"]} on the {sett[\"contract\"]} contract.')\n",
    "    transaction = CallTransactionBuilder() \\\n",
    "        .from_(deployer_wallet.get_address()) \\\n",
    "        .to(contracts[sett['contract']]) \\\n",
    "        .value(0) \\\n",
    "        .step_limit(10000000) \\\n",
    "        .nid(NID) \\\n",
    "        .nonce(100) \\\n",
    "        .method(sett['method']) \\\n",
    "        .params(sett['params']) \\\n",
    "        .build()\n",
    "    signed_transaction = SignedTransaction(transaction, deployer_wallet)\n",
    "    tx_hash = icon_service.send_transaction(signed_transaction)\n",
    "    tx_result = get_tx_result(tx_hash)\n",
    "    status = tx_result['status']\n",
    "    print(status)\n",
    "    if status == 0:\n",
    "        print(tx_result)\n",
    "    response[f\"{sett['key']} in {sett['contract']}\"] = status"
   ]
  },
  {
   "cell_type": "code",
   "execution_count": null,
   "metadata": {},
   "outputs": [],
   "source": [
    "asset_configs = [\n",
    "    {\n",
    "        'contract': 'governance', 'method': 'addPools',\n",
    "        'params': {\n",
    "            \"_assetConfig\":\n",
    "                [\n",
    "                    # reserves\n",
    "                    {\"poolID\": f'{-1}', \"rewardEntity\": \"lendingBorrow\", \"asset\": contracts[\"oUSDS\"],\n",
    "                     \"assetName\": \"oUSDS\",\n",
    "                     \"distPercentage\": f\"{OUSDS_EMISSION}\"},\n",
    "                    {\"poolID\": f'{-1}', \"rewardEntity\": \"lendingBorrow\", \"asset\": contracts[\"dUSDS\"],\n",
    "                     \"assetName\": \"dUSDS\",\n",
    "                     \"distPercentage\": f\"{DUSDS_EMISSION}\"},\n",
    "                    {\"poolID\": f'{-1}', \"rewardEntity\": \"lendingBorrow\", \"asset\": contracts[\"dICX\"],\n",
    "                     \"assetName\": \"dICX\",\n",
    "                     \"distPercentage\": f\"{DICX_EMISSION}\"},\n",
    "                    {\"poolID\": f'{-1}', \"rewardEntity\": \"lendingBorrow\", \"asset\": contracts[\"oICX\"],\n",
    "                     \"assetName\": \"oICX\",\n",
    "                     \"distPercentage\": f\"{OICX_EMISSION}\"},\n",
    "                    {\"poolID\": f'{-1}', \"rewardEntity\": \"lendingBorrow\", \"asset\": contracts[\"oIUSDC\"],\n",
    "                     \"assetName\": \"oIUSDC\", \"distPercentage\": f\"{OIUSDC_EMISSION}\"},\n",
    "                    {\"poolID\": f'{-1}', \"rewardEntity\": \"lendingBorrow\", \"asset\": contracts[\"dIUSDC\"],\n",
    "                     \"assetName\": \"dIUSDC\", \"distPercentage\": f\"{DIUSDC_EMISSION}\"},\n",
    "                    # liquidity providers\n",
    "                    {\"poolID\": f'{OMM_SICX_ID}', \"rewardEntity\": \"liquidityProvider\", \"asset\": contracts[\"OMM/sICX\"],\n",
    "                     \"assetName\": \"OMM/sICX\", \"distPercentage\": f\"{OMM_SICX_DIST_PERCENTAGE}\"},\n",
    "                    {\"poolID\": f'{OMM_USDS_ID}', \"rewardEntity\": \"liquidityProvider\", \"asset\": contracts[\"OMM/USDS\"],\n",
    "                     \"assetName\": \"OMM/USDS\", \"distPercentage\": f\"{OMM_USDS_DIST_PERCENTAGE}\"},\n",
    "                    {\"poolID\": f'{OMM_USDC_ID}', \"rewardEntity\": \"liquidityProvider\", \"asset\": contracts[\"OMM/IUSDC\"],\n",
    "                     \"assetName\": \"OMM/IUSDC\", \"distPercentage\": f\"{OMM_USDC_DIST_PERCENTAGE}\"},\n",
    "                    # omm token\n",
    "                    {\"poolID\": f'{-1}', \"rewardEntity\": \"liquidityProvider\", \"asset\": contracts[\"ommToken\"],\n",
    "                     \"assetName\": \"OMM\", \"distPercentage\": f\"{OMM_DIST_PERCENTAGE}\"}\n",
    "                ]\n",
    "        }\n",
    "    }\n",
    "]\n",
    "\n",
    "for sett in asset_configs:\n",
    "    print(f'\\n')\n",
    "    print(f'Calling {sett[\"method\"]}, with parameters {sett[\"params\"]} on the {sett[\"contract\"]} contract.')\n",
    "    transaction = CallTransactionBuilder() \\\n",
    "        .from_(deployer_wallet.get_address()) \\\n",
    "        .to(contracts[sett['contract']]) \\\n",
    "        .value(0) \\\n",
    "        .step_limit(10000000) \\\n",
    "        .nid(NID) \\\n",
    "        .nonce(100) \\\n",
    "        .method(sett['method']) \\\n",
    "        .params(sett['params']) \\\n",
    "        .build()\n",
    "    signed_transaction = SignedTransaction(transaction, deployer_wallet)\n",
    "    tx_hash = icon_service.send_transaction(signed_transaction)\n",
    "    tx_hash\n",
    "    status = get_tx_result(tx_hash)['status']\n",
    "    print(status)\n",
    "    response[f\"{sett['method']} in {sett['contract']}\"] = status"
   ]
  },
  {
   "cell_type": "code",
   "execution_count": null,
   "metadata": {},
   "outputs": [],
   "source": [
    "# was in lending pool core, not in governance\n",
    "settings_reserves = [\n",
    "    {'contract': 'governance',\n",
    "     'key': 'setReserveConstants (usds)',\n",
    "     'method': 'setReserveConstants',\n",
    "     'params': {\"_constants\": [{\"reserve\": contracts['usds'],\n",
    "                                \"optimalUtilizationRate\": f\"8{'0' * 17}\",\n",
    "                                \"baseBorrowRate\": f\"2{'0' * 16}\",\n",
    "                                \"slopeRate1\": f\"6{'0' * 16}\",\n",
    "                                \"slopeRate2\": f\"1{'0' * 18}\"}]}},\n",
    "    {'contract': 'governance',\n",
    "     'key': 'setReserveConstants (sicx)',\n",
    "     'method': 'setReserveConstants',\n",
    "     'params': {\"_constants\": [{\"reserve\": contracts['sicx'],\n",
    "                                \"optimalUtilizationRate\": f\"8{'0' * 17}\",\n",
    "                                \"baseBorrowRate\": f\"0{'0' * 17}\",\n",
    "                                \"slopeRate1\": f\"8{'0' * 16}\",\n",
    "                                \"slopeRate2\": f\"2{'0' * 18}\"}]}},\n",
    "    {'contract': 'governance',\n",
    "     'key': 'setReserveConstants (iusdc)',\n",
    "     'method': 'setReserveConstants',\n",
    "     'params': {\"_constants\": [{\"reserve\": contracts['iusdc'],\n",
    "                                \"optimalUtilizationRate\": f\"8{'0' * 17}\",\n",
    "                                \"baseBorrowRate\": f\"2{'0' * 16}\",\n",
    "                                \"slopeRate1\": f\"6{'0' * 16}\",\n",
    "                                \"slopeRate2\": f\"1{'0' * 18}\"}]}}\n",
    "]\n",
    "\n",
    "for sett in settings_reserves:\n",
    "    print(f'\\n')\n",
    "    print(f'Calling {sett[\"method\"]}, with parameters {sett[\"params\"]} on the {sett[\"contract\"]} contract.')\n",
    "    transaction = CallTransactionBuilder() \\\n",
    "        .from_(deployer_wallet.get_address()) \\\n",
    "        .to(contracts[sett['contract']]) \\\n",
    "        .value(0) \\\n",
    "        .step_limit(10000000) \\\n",
    "        .nid(NID) \\\n",
    "        .nonce(100) \\\n",
    "        .method(sett['method']) \\\n",
    "        .params(sett['params']) \\\n",
    "        .build()\n",
    "    signed_transaction = SignedTransaction(transaction, deployer_wallet)\n",
    "    tx_hash = icon_service.send_transaction(signed_transaction)\n",
    "    tx_hash\n",
    "    status = get_tx_result(tx_hash)['status']\n",
    "    print(status)\n",
    "    response[f\"{sett['key']} in {sett['contract']}\"] = status"
   ]
  },
  {
   "cell_type": "markdown",
   "metadata": {},
   "source": [
    "## Adding USDS reserve in LendingPoolCore via Governance\n",
    "\n"
   ]
  },
  {
   "cell_type": "code",
   "execution_count": null,
   "metadata": {
    "tags": []
   },
   "outputs": [],
   "source": [
    "# initially was in lending pool core, now governance controls it\n",
    "params = {\n",
    "    \"_reserve\": {\n",
    "        \"reserveAddress\": contracts['usds'],\n",
    "        \"oTokenAddress\": contracts['oUSDS'],\n",
    "        \"dTokenAddress\": contracts['dUSDS'],\n",
    "        \"lastUpdateTimestamp\": \"0\",\n",
    "        \"liquidityRate\": \"0\",\n",
    "        \"borrowRate\": \"0\",\n",
    "        \"liquidityCumulativeIndex\": f\"1{'0' * 18}\",\n",
    "        \"borrowCumulativeIndex\": f\"1{'0' * 18}\",\n",
    "        \"baseLTVasCollateral\": \"500000000000000000\",\n",
    "        \"liquidationThreshold\": \"650000000000000000\",\n",
    "        \"liquidationBonus\": \"100000000000000000\",\n",
    "        \"decimals\": \"18\",\n",
    "        \"borrowingEnabled\": \"1\",\n",
    "        \"usageAsCollateralEnabled\": \"1\",\n",
    "        \"isFreezed\": \"0\",\n",
    "        \"isActive\": \"1\"\n",
    "    }\n",
    "}\n",
    "call_transaction = CallTransactionBuilder() \\\n",
    "    .from_(deployer_wallet.get_address()) \\\n",
    "    .to(contracts['governance']) \\\n",
    "    .nid(NID) \\\n",
    "    .nonce(100) \\\n",
    "    .method(\"initializeReserve\") \\\n",
    "    .params(params) \\\n",
    "    .build()\n",
    "\n",
    "estimate_step = icon_service.estimate_step(call_transaction)\n",
    "step_limit = estimate_step + 100000\n",
    "# Returns the signed transaction object having a signature\n",
    "signed_transaction = SignedTransaction(call_transaction, deployer_wallet, step_limit)\n",
    "\n",
    "# Reads params to transfer to nodes\n",
    "# print(signed_transaction.signed_transaction_dict)\n",
    "\n",
    "# Sends the transaction\n",
    "tx_hash = icon_service.send_transaction(signed_transaction)\n",
    "\n",
    "status = get_tx_result(tx_hash)['status']\n",
    "print(status)\n",
    "response['add_usds_reserve'] = status"
   ]
  },
  {
   "cell_type": "markdown",
   "metadata": {},
   "source": [
    "## Adding ICX reserve"
   ]
  },
  {
   "cell_type": "code",
   "execution_count": null,
   "metadata": {
    "tags": []
   },
   "outputs": [],
   "source": [
    "# initially was in lending pool core, now governance controls it\n",
    "params = {\n",
    "    \"_reserve\": {\n",
    "        \"reserveAddress\": contracts['sicx'],\n",
    "        \"oTokenAddress\": contracts['oICX'],\n",
    "        \"dTokenAddress\": contracts['dICX'],\n",
    "        \"lastUpdateTimestamp\": \"0\",\n",
    "        \"liquidityRate\": \"0\",\n",
    "        \"borrowRate\": \"0\",\n",
    "        \"liquidityCumulativeIndex\": f\"1{'0' * 18}\",\n",
    "        \"borrowCumulativeIndex\": f\"1{'0' * 18}\",\n",
    "        \"baseLTVasCollateral\": \"500000000000000000\",\n",
    "        \"liquidationThreshold\": \"650000000000000000\",\n",
    "        \"liquidationBonus\": \"100000000000000000\",\n",
    "        \"decimals\": \"18\",\n",
    "        \"borrowingEnabled\": \"1\",\n",
    "        \"usageAsCollateralEnabled\": \"1\",\n",
    "        \"isFreezed\": \"0\",\n",
    "        \"isActive\": \"1\"\n",
    "    }\n",
    "}\n",
    "call_transaction = CallTransactionBuilder() \\\n",
    "    .from_(deployer_wallet.get_address()) \\\n",
    "    .to(contracts['governance']) \\\n",
    "    .nid(NID) \\\n",
    "    .nonce(100) \\\n",
    "    .method(\"initializeReserve\") \\\n",
    "    .params(params) \\\n",
    "    .build()\n",
    "\n",
    "estimate_step = icon_service.estimate_step(call_transaction)\n",
    "step_limit = estimate_step + 100000\n",
    "# Returns the signed transaction object having a signature\n",
    "signed_transaction = SignedTransaction(call_transaction, deployer_wallet, step_limit)\n",
    "\n",
    "# Reads params to transfer to nodes\n",
    "# print(signed_transaction.signed_transaction_dict)\n",
    "\n",
    "# Sends the transaction\n",
    "tx_hash = icon_service.send_transaction(signed_transaction)\n",
    "\n",
    "status = get_tx_result(tx_hash)['status']\n",
    "print(status)\n",
    "\n",
    "response['add_icx_reserve'] = status"
   ]
  },
  {
   "cell_type": "markdown",
   "metadata": {},
   "source": [
    "## Adding IUSDC reserve"
   ]
  },
  {
   "cell_type": "code",
   "execution_count": null,
   "metadata": {
    "tags": []
   },
   "outputs": [],
   "source": [
    "# initially was in lending pool core, now governance controls it\n",
    "params = {\n",
    "    \"_reserve\": {\n",
    "        \"reserveAddress\": contracts['iusdc'],\n",
    "        \"oTokenAddress\": contracts['oIUSDC'],\n",
    "        \"dTokenAddress\": contracts['dIUSDC'],\n",
    "        \"lastUpdateTimestamp\": \"0\",\n",
    "        \"liquidityRate\": \"0\",\n",
    "        \"borrowRate\": \"0\",\n",
    "        \"liquidityCumulativeIndex\": f\"1{'0' * 18}\",\n",
    "        \"borrowCumulativeIndex\": f\"1{'0' * 18}\",\n",
    "        \"baseLTVasCollateral\": \"500000000000000000\",\n",
    "        \"liquidationThreshold\": \"650000000000000000\",\n",
    "        \"liquidationBonus\": \"100000000000000000\",\n",
    "        \"decimals\": \"6\",\n",
    "        \"borrowingEnabled\": \"1\",\n",
    "        \"usageAsCollateralEnabled\": \"1\",\n",
    "        \"isFreezed\": \"0\",\n",
    "        \"isActive\": \"1\"\n",
    "    }\n",
    "}\n",
    "\n",
    "call_transaction = CallTransactionBuilder() \\\n",
    "    .from_(deployer_wallet.get_address()) \\\n",
    "    .to(contracts['governance']) \\\n",
    "    .nid(NID) \\\n",
    "    .nonce(100) \\\n",
    "    .method(\"initializeReserve\") \\\n",
    "    .params(params) \\\n",
    "    .build()\n",
    "\n",
    "estimate_step = icon_service.estimate_step(call_transaction)\n",
    "step_limit = estimate_step + 100000\n",
    "# Returns the signed transaction object having a signature\n",
    "signed_transaction = SignedTransaction(call_transaction, deployer_wallet, step_limit)\n",
    "\n",
    "# Reads params to transfer to nodes\n",
    "# print(signed_transaction.signed_transaction_dict)\n",
    "\n",
    "# Sends the transaction\n",
    "tx_hash = icon_service.send_transaction(signed_transaction)\n",
    "\n",
    "status = get_tx_result(tx_hash)['status']\n",
    "print(status)\n",
    "response['add_iusdc_reserve'] = status"
   ]
  },
  {
   "cell_type": "code",
   "execution_count": null,
   "metadata": {},
   "outputs": [],
   "source": [
    "assert response['deploy_contract_addressProvider'] == 1\n",
    "assert response['deploy_contract_daoFund'] == 1\n",
    "assert response['deploy_contract_delegation'] == 1\n",
    "assert response['deploy_contract_feeProvider'] == 1\n",
    "assert response['deploy_contract_governance'] == 1\n",
    "assert response['deploy_contract_lendingPool'] == 1\n",
    "assert response['deploy_contract_lendingPoolCore'] == 1\n",
    "assert response['deploy_contract_lendingPoolDataProvider'] == 1\n",
    "assert response['deploy_contract_liquidationManager'] == 1\n",
    "assert response['deploy_contract_ommToken'] == 1\n",
    "assert response['deploy_contract_priceOracle'] == 1\n",
    "assert response['deploy_contract_rewardDistribution'] == 1\n",
    "assert response['deploy_contract_workerToken'] == 1\n",
    "assert response['deploy_contract_stakedLp'] == 1\n",
    "assert response['deploy_dToken_contract_dUSDS'] == 1\n",
    "assert response['deploy_dToken_contract_dICX'] == 1\n",
    "assert response['deploy_dToken_contract_dIUSDC'] == 1\n",
    "assert response['deploy_oToken_contract_oUSDS'] == 1\n",
    "assert response['deploy_oToken_contract_oICX'] == 1\n",
    "assert response['deploy_oToken_contract_oIUSDC'] == 1\n",
    "assert response['deposit_fee_for_sharing'] == 1\n",
    "assert response['setFeeSharingTxnLimit in lendingPool'] == 1\n",
    "assert response['setLoanOriginationFeePercentage in feeProvider'] == 1\n",
    "assert response['setSymbol (usds) in lendingPoolDataProvider'] == 1\n",
    "assert response['setSymbol (sicx) in lendingPoolDataProvider'] == 1\n",
    "assert response['setSymbol (iusdc) in lendingPoolDataProvider'] == 1\n",
    "assert response['set_reference_data (usds) in priceOracle'] == 1\n",
    "assert response['set_reference_data (icx) in priceOracle'] == 1\n",
    "assert response['set_reference_data (iusdc) in priceOracle'] == 1\n",
    "assert response['addAllContributors in delegation'] == 1\n",
    "assert response['setStartTimestamp in governance'] == 1\n",
    "assert response['setMinimumStake in ommToken'] == 1\n",
    "assert response['addPools in governance'] == 1\n",
    "assert response['setReserveConstants (usds) in governance'] == 1\n",
    "assert response['setReserveConstants (sicx) in governance'] == 1\n",
    "assert response['setReserveConstants (iusdc) in governance'] == 1\n",
    "assert response['add_iusdc_reserve'] == 1\n",
    "assert response['add_usds_reserve'] == 1\n",
    "assert response['add_icx_reserve'] == 1\n",
    "print(\"----Configured successfully----\")"
   ]
  },
  {
   "cell_type": "markdown",
   "metadata": {},
   "source": [
    "## Testing deposit"
   ]
  },
  {
   "cell_type": "code",
   "execution_count": null,
   "metadata": {
    "tags": []
   },
   "outputs": [],
   "source": [
    "params = {\"_amount\": 5 * 10 ** 18}\n",
    "call_transaction = CallTransactionBuilder()\n",
    ".from_(deployer_wallet.get_address())\n",
    ".to(contracts['lendingPool'])\n",
    ".nid(3)\n",
    ".step_limit(1000000000)\n",
    ".nonce(100)\n",
    ".value(5 * 10 ** 18)\n",
    ".method(\"deposit\")\n",
    ".params(params)\n",
    ".build()\n",
    "\n",
    "signed_transaction = SignedTransaction(call_transaction, deployer_wallet)\n",
    "tx_hash = icon_service.send_transaction(signed_transaction)\n",
    "get_tx_result(tx_hash)\n"
   ]
  },
  {
   "cell_type": "markdown",
   "metadata": {},
   "source": [
    "## Testing borrow"
   ]
  },
  {
   "cell_type": "code",
   "execution_count": null,
   "metadata": {
    "scrolled": true
   },
   "outputs": [],
   "source": [
    "params = {\"_reserve\": contracts['sicx'], \"_amount\": 1 * 10 ** 18}\n",
    "\n",
    "call_transaction = CallTransactionBuilder() \\\n",
    "    .from_(deployer_wallet.get_address()) \\\n",
    "    .to(contracts['lendingPool']) \\\n",
    "    .nid(3) \\\n",
    "    .step_limit(1000000000) \\\n",
    "    .nonce(100) \\\n",
    "    .method(\"borrow\") \\\n",
    "    .params(params) \\\n",
    "    .build()\n",
    "\n",
    "signed_transaction = SignedTransaction(call_transaction, deployer_wallet)\n",
    "tx_hash = icon_service.send_transaction(signed_transaction)\n",
    "get_tx_result(tx_hash)\n"
   ]
  },
  {
   "cell_type": "markdown",
   "metadata": {},
   "source": [
    "## Updating Contracts"
   ]
  },
  {
   "cell_type": "code",
   "execution_count": null,
   "metadata": {
    "tags": []
   },
   "outputs": [],
   "source": [
    "# Updating mainnet contracts\n",
    "contract_ = 'rewardDistribution'\n",
    "if contract_ == 'oICX':\n",
    "    update = contracts['oICX']\n",
    "    contract_ = 'oToken'\n",
    "elif contract_ == 'oUSDS':\n",
    "    update = contracts['oUSDS']\n",
    "    contract_ = 'oToken'\n",
    "elif contract_ == 'oIUSDC':\n",
    "    update = contracts['oIUSDC']\n",
    "    contract_ = 'oToken'\n",
    "elif contract_ == 'dICX':\n",
    "    update = contracts['dICX']\n",
    "    contract_ = 'dToken'\n",
    "elif contract_ == 'dUSDS':\n",
    "    update = contracts['dUSDS']\n",
    "    contract_ = 'dToken'\n",
    "elif contract_ == 'dIUSDC':\n",
    "    update = contracts['dIUSDC']\n",
    "    contract_ = 'dToken'\n",
    "else:\n",
    "    update = contracts[contract_]\n",
    "# update = contracts[contract_]\n",
    "print('update', contract_, update)\n",
    "\n",
    "deploy_transaction = DeployTransactionBuilder() \\\n",
    "    .from_(deployer_wallet.get_address()) \\\n",
    "    .to(update) \\\n",
    "    .nid(NID) \\\n",
    "    .nonce(100) \\\n",
    "    .content_type(\"application/zip\") \\\n",
    "    .content(gen_deploy_data_content(contract_)) \\\n",
    "    .build()\n",
    "\n",
    "step_limit = icon_service.estimate_step(deploy_transaction) + 100000\n",
    "\n",
    "signed_transaction = SignedTransaction(deploy_transaction, deployer_wallet, step_limit)\n",
    "tx_hash = icon_service.send_transaction(signed_transaction)\n",
    "\n",
    "get_tx_result(tx_hash)\n"
   ]
  }
 ],
 "metadata": {
  "celltoolbar": "Slideshow",
  "kernelspec": {
   "display_name": "Python 3",
   "language": "python",
   "name": "python3"
  },
  "language_info": {
   "codemirror_mode": {
    "name": "ipython",
    "version": 3
   },
   "file_extension": ".py",
   "mimetype": "text/x-python",
   "name": "python",
   "nbconvert_exporter": "python",
   "pygments_lexer": "ipython3",
   "version": "3.7.7"
  },
  "rise": {
   "scroll": true
  }
 },
 "nbformat": 4,
 "nbformat_minor": 2
}
