{
 "cells": [
  {
   "cell_type": "markdown",
   "metadata": {},
   "source": [
    "# Set Up Environment"
   ]
  },
  {
   "cell_type": "code",
   "execution_count": null,
   "metadata": {},
   "outputs": [],
   "source": [
    "# initialize all packages used for deployment of OMM SCOREs\n",
    "# use \n",
    "# pip install -r _deployment/requirement.txt\n",
    "# to install all dependencies\n",
    "\n",
    "from iconservice import AddressPrefix, Address\n",
    "from iconsdk.exception import JSONRPCException\n",
    "from iconsdk.libs.in_memory_zip import gen_deploy_data_content\n",
    "from iconsdk.icon_service import IconService\n",
    "from iconsdk.providers.http_provider import HTTPProvider\n",
    "from iconsdk.builder.transaction_builder import CallTransactionBuilder, TransactionBuilder, DeployTransactionBuilder,DepositTransactionBuilder\n",
    "from iconsdk.builder.call_builder import CallBuilder\n",
    "from iconsdk.signed_transaction import SignedTransaction\n",
    "from iconsdk.wallet.wallet import KeyWallet\n",
    "from iconsdk.utils.convert_type import convert_hex_str_to_int\n",
    "from datetime import datetime\n",
    "from repeater import retry\n",
    "from shutil import make_archive\n",
    "import requests\n",
    "import json\n",
    "import pickle as pkl\n",
    "import csv\n",
    "import os\n",
    "from pprint import pprint\n",
    "from getpass import getpass\n",
    "from dotenv import dotenv_values\n",
    "\n",
    "deployment_status = {}\n",
    "print(1)"
   ]
  },
  {
   "cell_type": "code",
   "execution_count": null,
   "metadata": {},
   "outputs": [],
   "source": [
    "config = dotenv_values(\"./_deployment/.env.jupyter\")\n",
    "\n",
    "EXA = 10 ** 18\n",
    "ICX = 10 ** 18\n",
    "\n",
    "NETWORK = config[\"NETWORK\"]\n",
    "\n",
    "PREPS_LIST_FILE = config[\"PREPS_LIST_FILE\"]\n",
    "with open(PREPS_LIST_FILE, \"r\") as file:\n",
    "    PREP_LIST = json.load(file)\n",
    "\n",
    "TIMESTAMP = int(config[\"TIMESTAMP\"])\n",
    "\n",
    "GOVERNANCE_ADDRESS = \"cx0000000000000000000000000000000000000000\"\n",
    "WORKER_WALLET_ADDRESS=config[\"WORKER_WALLET_ADDRESS\"]\n",
    "\n",
    "\n",
    "#lending and borrow reward\n",
    "LENDING_BORROW_PERCENTAGE = int(config[\"LENDING_BORROW_PERCENTAGE\"]) * EXA // 100\n",
    "#LP and OMM staking reward\n",
    "LP_OMM_STAKING_PERCENTAGE = int(config[\"LP_OMM_STAKING_PERCENTAGE\"]) * EXA // 100\n",
    "#DAO reward percentage\n",
    "DAO_DIST_PERCENTAGE = int(config[\"DAO_DIST_PERCENTAGE\"]) * EXA // 100\n",
    "#Worker reward \n",
    "WORKER_DIST_PERCENTAGE = int(config[\"WORKER_DIST_PERCENTAGE\"]) * EXA // 100\n",
    "\n",
    "assert (LENDING_BORROW_PERCENTAGE + LP_OMM_STAKING_PERCENTAGE + DAO_DIST_PERCENTAGE + WORKER_DIST_PERCENTAGE) // EXA == 1\n",
    "\n",
    "ICX_EMISSION = int(config[\"ICX_PERCENTAGE\"])\n",
    "OICX_EMISSION = int(config[\"OICX_EMISSION\"]) * ICX_EMISSION * EXA // 10000\n",
    "DICX_EMISSION = int(config[\"DICX_EMISSION\"]) * ICX_EMISSION * EXA // 10000\n",
    "\n",
    "USDS_EMISSION = int(config[\"USDS_PERCENTAGE\"])\n",
    "OUSDS_EMISSION = int(config[\"OUSDS_EMISSION\"]) * USDS_EMISSION * EXA // 10000\n",
    "DUSDS_EMISSION = int(config[\"DUSDS_EMISSION\"]) * USDS_EMISSION * EXA // 10000\n",
    "\n",
    "IUSDC_EMISSION = int(config[\"IUSDC_PERCENTAGE\"])\n",
    "OIUSDC_EMISSION = int(config[\"OIUSDC_EMISSION\"]) * IUSDC_EMISSION * EXA // 10000\n",
    "DIUSDC_EMISSION = int(config[\"DIUSDC_EMISSION\"]) * IUSDC_EMISSION * EXA // 10000\n",
    "\n",
    "assert (OICX_EMISSION + DICX_EMISSION + OUSDS_EMISSION + DUSDS_EMISSION + OIUSDC_EMISSION + DIUSDC_EMISSION) // EXA == 1\n",
    "\n",
    "#LP and OMM staking reward\n",
    "\n",
    "OMM_SICX_DIST_PERCENTAGE = int(config[\"OMM_SICX_DIST_PERCENTAGE\"]) * EXA // 100\n",
    "OMM_USDS_DIST_PERCENTAGE = int(config[\"OMM_USDS_DIST_PERCENTAGE\"]) * EXA // 100\n",
    "OMM_USDC_DIST_PERCENTAGE = int(config[\"OMM_USDC_DIST_PERCENTAGE\"]) * EXA // 100\n",
    "OMM_DIST_PERCENTAGE = int(config[\"OMM_DIST_PERCENTAGE\"]) * EXA // 100\n",
    "\n",
    "assert (OMM_SICX_DIST_PERCENTAGE + OMM_USDS_DIST_PERCENTAGE + OMM_USDC_DIST_PERCENTAGE + OMM_DIST_PERCENTAGE) // EXA == 1\n",
    "\n",
    "DEPOSIT_ICX_AMOUNT = int(config[\"DEPOSIT_ICX_AMOUNT\"])\n",
    "FEE_SHARING_TX_LIMIT = int(config[\"FEE_SHARING_TX_LIMIT\"])\n",
    "LOAN_ORIGINATION_PERCENTAGE = int(float(config[\"LOAN_ORIGINATION_PERCENTAGE\"]) * EXA)\n",
    "MINIMUM_OMM_STAKE = int(config[\"MINIMUM_OMM_STAKE\"]) * EXA\n",
    "OMM_UNSTAKING_PERIOD = int(config[\"OMM_UNSTAKING_PERIOD\"])\n",
    "\n",
    "# id from dex\n",
    "OMM_SICX_ID = int(config[\"OMM_SICX_ID\"])\n",
    "OMM_USDS_ID = int(config[\"OMM_USDS_ID\"])\n",
    "OMM_USDC_ID = int(config[\"OMM_USDC_ID\"])\n",
    "\n",
    "DEPLOYER_WALLET_KEYSTORE = config[\"DEPLOYER_WALLET_KEYSTORE\"]\n",
    "\n",
    "_contract_file_loaded = False\n",
    "print(1)"
   ]
  },
  {
   "cell_type": "code",
   "execution_count": null,
   "metadata": {},
   "outputs": [],
   "source": [
    "connections = {\n",
    "    \"mainnet\": {\"iconservice\": \"https://ctz.solidwallet.io\", \"nid\": 1},\n",
    "    \"yeouido\": {\"iconservice\": \"https://bicon.net.solidwallet.io\", \"nid\": 3},\n",
    "    \"euljiro\": {\"iconservice\": \"https://test-ctz.solidwallet.io\", \"nid\": 2},\n",
    "    \"pagoda\": {\"iconservice\": \"https://zicon.net.solidwallet.io\", \"nid\": 80},\n",
    "    \"custom\": {\"iconservice\": \"http://18.237.205.52:9000/\", \"nid\": 3},\n",
    "    \"local\": {\"iconservice\": \"http://localhost:9000/\", \"nid\": 3},\n",
    "    \"sejong\": {\"iconservice\": \"https://sejong.net.solidwallet.io\", \"nid\": 83}\n",
    "}\n",
    "\n",
    "env = connections[NETWORK]\n",
    "\n",
    "icon_service = IconService(HTTPProvider(env[\"iconservice\"], 3))\n",
    "NID = env[\"nid\"]\n",
    "\n",
    "\n",
    "@retry(JSONRPCException, tries=10, delay=1, back_off=2)\n",
    "def get_tx_result(_tx_hash):\n",
    "    tx_result = icon_service.get_transaction_result(_tx_hash)\n",
    "    return tx_result\n",
    "\n",
    "\n",
    "print(f\"network -> {NETWORK}\")\n",
    "print(f\"nid -> {NID}\")"
   ]
  },
  {
   "cell_type": "code",
   "execution_count": null,
   "metadata": {},
   "outputs": [],
   "source": [
    "# initialized all methods\n",
    "def get_status_and_print(to, method, response) -> int:\n",
    "    \"\"\"\n",
    "    get status and print response\n",
    "    :param to:\n",
    "    :param method:\n",
    "    :param response:\n",
    "    :return: status\n",
    "    \"\"\"\n",
    "    status = response['status']\n",
    "    print(f'SCORE {to} ::: Method {method} ::: Status: {status}')\n",
    "    if len(response[\"eventLogs\"]) > 0:\n",
    "        for item in response[\"eventLogs\"]:\n",
    "            print(f'{item} \\n')\n",
    "    if status == 0:\n",
    "        print(f'Failure: {response[\"failure\"]}')\n",
    "    return status\n",
    "\n",
    "\n",
    "def _deploy_contract(_contract_name, params):\n",
    "    deploy_transaction = DeployTransactionBuilder() \\\n",
    "        .from_(deployer_wallet.get_address()) \\\n",
    "        .to(GOVERNANCE_ADDRESS) \\\n",
    "        .nid(NID) \\\n",
    "        .nonce(100) \\\n",
    "        .content_type(\"application/zip\") \\\n",
    "        .content(gen_deploy_data_content(_contract_name)) \\\n",
    "        .params(params) \\\n",
    "        .build()\n",
    "    step_limit = icon_service.estimate_step(deploy_transaction) + 100000\n",
    "    signed_transaction = SignedTransaction(deploy_transaction, deployer_wallet, step_limit)\n",
    "    tx_hash = icon_service.send_transaction(signed_transaction)\n",
    "    res = get_tx_result(tx_hash)\n",
    "    status = get_status_and_print(_contract_name, \"deploy\", res)\n",
    "\n",
    "    return {\n",
    "        \"address\": res.get('scoreAddress', ''),\n",
    "        \"status\": status\n",
    "    }\n",
    "\n",
    "\n",
    "def deploy_contract(_contract_name):\n",
    "    \"\"\"\n",
    "    deploy all contracts excepts oToken and dToken\n",
    "    :param _contract_name:  name of contract - should match with package name\n",
    "    :return: SCORE address\n",
    "    \"\"\"\n",
    "    params = {}\n",
    "    if _contract_name == \"workerToken\":\n",
    "        params = {'_initialSupply': int(config.get(\"worker_token_initial\")), '_decimals': 18}\n",
    "    if _contract_name == \"rewardDistribution\":\n",
    "        DISTRIBUTION_PERCENTAGE = [\n",
    "            {\"recipient\": \"worker\", \"percentage\": f'{WORKER_DIST_PERCENTAGE}'},\n",
    "            {\"recipient\": \"daoFund\", \"percentage\": f'{DAO_DIST_PERCENTAGE}'},\n",
    "            {\"recipient\": \"lendingBorrow\", \"percentage\": f'{LENDING_BORROW_PERCENTAGE}'},\n",
    "            {\"recipient\": \"liquidityProvider\", \"percentage\": f'{LP_OMM_STAKING_PERCENTAGE}'}\n",
    "        ]\n",
    "        params = {\"_distPercentage\": DISTRIBUTION_PERCENTAGE, \"_startTimestamp\": TIMESTAMP}\n",
    "\n",
    "    if _contract_name not in ['addressProvider', \"workerToken\", \"feeProvider\", \"daoFund\"]:\n",
    "        params['_addressProvider'] = contracts['addressProvider']\n",
    "\n",
    "    result = _deploy_contract(_contract_name, params)\n",
    "    deployment_status[f\"deploy_contract_{_contract_name}\"] = result[\"status\"]\n",
    "    return result[\"address\"]\n",
    "\n",
    "def deposit_transaction(_from, _to, _value, _method=\"add\"):\n",
    "    transaction = DepositTransactionBuilder() \\\n",
    "        .from_(_from.get_address()) \\\n",
    "        .to(contracts[_to]) \\\n",
    "        .nid(3) \\\n",
    "        .value(_value) \\\n",
    "        .step_limit(1000000000) \\\n",
    "        .nonce(100) \\\n",
    "        .action(_method) \\\n",
    "        .build()\n",
    "    \n",
    "    signed_transaction = SignedTransaction(transaction, _from)\n",
    "    tx_hash = icon_service.send_transaction(signed_transaction)\n",
    "    response = get_tx_result(tx_hash)\n",
    "    status = get_status_and_print(_to, _method, response)\n",
    "    return status\n",
    "\n",
    "def deploy_token_contract(token, params):\n",
    "    \"\"\"\n",
    "    deploy  oTokens and dTokens\n",
    "    :param token: token name\n",
    "    :param params: parameter\n",
    "    :return: SCORE address\n",
    "    \"\"\"\n",
    "    name = params[\"name\"]\n",
    "    symbol = params[\"symbol\"]\n",
    "    decimals = params[\"decimals\"]\n",
    "    print(f\"deploying {name}::{symbol}::{decimals}\")\n",
    "    params = {\"_name\": name, \"_symbol\": symbol, \"_decimals\": decimals, '_addressProvider': contracts['addressProvider']}\n",
    "\n",
    "    result = _deploy_contract(token, params)\n",
    "    deployment_status[f\"deploy_{token}_contract_{symbol}\"] = result[\"status\"]\n",
    "    return result[\"address\"]\n",
    "\n",
    "\n",
    "def send_tx(_to, _method, _params, _value, _wallet) -> int:\n",
    "    \"\"\"\n",
    "    send transaction to _to\n",
    "    :param _to: destination conract name\n",
    "    :param _method: method\n",
    "    :param _params:  parameters\n",
    "    :param _value:  value\n",
    "    :param _wallet: transaction wallet\n",
    "    :return: status of transaction\n",
    "    \"\"\"\n",
    "    print(f'Calling {_method}, with parameters {_params} on the {_to} contract.')\n",
    "    transaction = CallTransactionBuilder() \\\n",
    "        .from_(_wallet.get_address()) \\\n",
    "        .to(contracts[_to]) \\\n",
    "        .value(_value) \\\n",
    "        .step_limit(10000000) \\\n",
    "        .nid(NID) \\\n",
    "        .nonce(100) \\\n",
    "        .method(_method) \\\n",
    "        .params(_params) \\\n",
    "        .build()\n",
    "    signed_transaction = SignedTransaction(transaction, _wallet)\n",
    "    tx_hash = icon_service.send_transaction(signed_transaction)\n",
    "    response = get_tx_result(tx_hash)\n",
    "    status = get_status_and_print(_to, _method, response)\n",
    "    return status\n"
   ]
  },
  {
   "cell_type": "markdown",
   "metadata": {},
   "source": [
    "### Import deployer wallet"
   ]
  },
  {
   "cell_type": "code",
   "execution_count": null,
   "metadata": {},
   "outputs": [],
   "source": [
    "import getpass\n",
    "\n",
    "keystore_password = getpass.getpass(f'Password for deployer wallet keystore : ')\n",
    "deployer_wallet = KeyWallet.load(DEPLOYER_WALLET_KEYSTORE, keystore_password)\n",
    "print(deployer_wallet.get_address())\n",
    "print(icon_service.get_balance(deployer_wallet.get_address()))"
   ]
  },
  {
   "cell_type": "markdown",
   "metadata": {},
   "source": [
    "## Initialized external SCORE addresses"
   ]
  },
  {
   "cell_type": "code",
   "execution_count": 2,
   "metadata": {},
   "outputs": [],
   "source": [
    "# Run this in case you want to import previous contract addresses\n",
    "contracts_file_custom = \"yeouido_contracts_20210805144758.pkl\"\n",
    "with open(contracts_file_custom, 'rb') as f:\n",
    "    contracts = pkl.load(f)\n",
    "    _contract_file_loaded = True"
   ]
  },
  {
   "cell_type": "code",
   "execution_count": 3,
   "metadata": {},
   "outputs": [
    {
     "data": {
      "text/plain": [
       "{'sicx': 'cxae6334850f13dfd8b50f8544d5acb126bb8ef82d',\n",
       " 'staking': 'cx9d829396d887f9292d8af488fab78ad24ab6b99a',\n",
       " 'iusdc': 'cx65f639254090820361da483df233f6d0e69af9b7',\n",
       " 'usds': 'cxc0666df567a6e0b49342648e98ccbe5362b264ea',\n",
       " 'bandOracle': 'cx61a36e5d10412e03c907a507d1e8c6c3856d9964',\n",
       " 'dex': 'cx399dea56cf199b1c9e43bead0f6a284bdecfbf62',\n",
       " 'addressProvider': 'cxde746472ed16b9629d30271c6b470c1ed349e21a',\n",
       " 'daoFund': 'cxe84608988dc87376f722d63d6ea5b71b27307755',\n",
       " 'delegation': 'cxfba6b8b8f2a1c51ee736fcc447c8169f7497afaa',\n",
       " 'feeProvider': 'cx00c0186b2100f55791863f958616fe56e91cb4cc',\n",
       " 'governance': 'cxd711243d70bbe86a42b8da6979116c618ed1f25f',\n",
       " 'lendingPool': 'cx2eefdfa77e87729951813f26c0a4b44d29d4c1c1',\n",
       " 'lendingPoolCore': 'cxb259af426fb1454235f0473b9824f52051ea7a58',\n",
       " 'lendingPoolDataProvider': 'cxc59fdcf7466fed2a2ab59d51b627351b96595cd9',\n",
       " 'liquidationManager': 'cxe722e5b6d5c9eeb55c862858b913beaa8b9215fa',\n",
       " 'ommToken': 'cx82b3ade9162e3b0dd43bf60584851ced88b04786',\n",
       " 'priceOracle': 'cxfd36684a7e501556d520cd26cc02437c350d11b2',\n",
       " 'rewardDistribution': 'cx8e0e00856916d9310bc82f0409421aeaec844d4c',\n",
       " 'workerToken': 'cx78373104766bf7b1ab64bfc6d4b1c92038db4da5',\n",
       " 'stakedLp': 'cx218dad2ec4945227d311cd0755b6c85aafe82489',\n",
       " 'dUSDS': 'cx63e581f0f077bf1c5b660435067360bc924c4304',\n",
       " 'dICX': 'cx793fb272dbdbd75bd9d7ea353a656385ff378468',\n",
       " 'dIUSDC': 'cxed18792f1aac68591fc7f6891f8fb1ddf59bdcf0',\n",
       " 'oUSDS': 'cxe88e719d15a6b681d693f9237f356a7d3dc7f33f',\n",
       " 'oICX': 'cx1e4aab37fe666d273155c141ae3c1acfd27b6d5c',\n",
       " 'oIUSDC': 'cxcf24731aa43f1159a13271228462b2ad79314855',\n",
       " 'OMM/sICX': cx03eaaf82fe02fe676d950a842670ee5f9bed83f3,\n",
       " 'OMM/USDS': cxb774b1bb7f53822d43a773059bea8fa9a69ee5db,\n",
       " 'OMM/IUSDC': cx9637cf16e2e7d7999037ae971f6ac95630c9783d}"
      ]
     },
     "execution_count": 3,
     "metadata": {},
     "output_type": "execute_result"
    }
   ],
   "source": [
    "contracts"
   ]
  },
  {
   "cell_type": "code",
   "execution_count": null,
   "metadata": {},
   "outputs": [],
   "source": [
    "if not _contract_file_loaded:\n",
    "    contracts = {}\n",
    "    contracts['sicx'] = config[\"SICX\"]\n",
    "    contracts['staking'] = config[\"STAKING\"]\n",
    "    contracts['iusdc'] = config[\"IUSDC\"]\n",
    "    contracts[\"usds\"] = config.get(\"USDS\")\n",
    "    contracts['bandOracle'] = config[\"BAND_ORACLE\"]\n",
    "    contracts[\"dex\"] = config[\"DEX\"]"
   ]
  },
  {
   "cell_type": "markdown",
   "metadata": {},
   "source": [
    "## Deploying all contracts"
   ]
  },
  {
   "cell_type": "code",
   "execution_count": null,
   "metadata": {},
   "outputs": [],
   "source": [
    "#deploy addresss provider contract\n",
    "if not _contract_file_loaded:\n",
    "    contracts['addressProvider'] = deploy_contract('addressProvider')"
   ]
  },
  {
   "cell_type": "code",
   "execution_count": null,
   "metadata": {},
   "outputs": [],
   "source": [
    "assert deployment_status.get('deploy_contract_addressProvider',0) == 1,\"addressProvider is not deployed.\" "
   ]
  },
  {
   "cell_type": "code",
   "execution_count": null,
   "metadata": {
    "tags": []
   },
   "outputs": [],
   "source": [
    "#deploy rest of contracts\n",
    "if not _contract_file_loaded:\n",
    "    deploy = ['daoFund', 'delegation', 'feeProvider', 'governance',\n",
    "              'lendingPool', 'lendingPoolCore', 'lendingPoolDataProvider',\n",
    "              'liquidationManager', 'ommToken', 'priceOracle', 'rewardDistribution',\n",
    "              'workerToken', 'stakedLp']\n",
    "\n",
    "    directory = os.getcwd()\n",
    "    for item in deploy:\n",
    "        print(f\"\\n Deploying {item} contract\\n\")\n",
    "        contracts[item] = deploy_contract(item)"
   ]
  },
  {
   "cell_type": "markdown",
   "metadata": {},
   "source": [
    "## Retry contract deploy"
   ]
  },
  {
   "cell_type": "code",
   "execution_count": null,
   "metadata": {},
   "outputs": [],
   "source": [
    "if not _contract_file_loaded:\n",
    "    for item in deploy:\n",
    "        if item not in contracts.keys() or contracts[item] == \"\" or contracts[item] == None:\n",
    "            contracts[item] = deploy_contract(item)"
   ]
  },
  {
   "cell_type": "markdown",
   "metadata": {},
   "source": [
    "## reading configuration for otoken and dtoken"
   ]
  },
  {
   "cell_type": "code",
   "execution_count": null,
   "metadata": {},
   "outputs": [],
   "source": [
    "if not _contract_file_loaded:\n",
    "    TOKEN_CONFIGURATION_FILE = config[\"TOKEN_CONFIGURATION_FILE\"]\n",
    "    with open(TOKEN_CONFIGURATION_FILE, \"r\") as file:\n",
    "        data = json.load(file)\n",
    "\n",
    "    for params in data['dToken']:\n",
    "        contracts[params['symbol']] = deploy_token_contract('dToken', params)\n",
    "\n",
    "    for params in data['oToken']:\n",
    "        contracts[params['symbol']] = deploy_token_contract('oToken', params)"
   ]
  },
  {
   "cell_type": "code",
   "execution_count": null,
   "metadata": {},
   "outputs": [],
   "source": [
    "assert deployment_status.get('deploy_contract_addressProvider',0) == 1,\"addressProvider is not deployed.\"\n",
    "assert deployment_status.get('deploy_contract_daoFund',0) == 1,\"daoFund is not deployed.\"\n",
    "assert deployment_status.get('deploy_contract_delegation',0) == 1,\"delegation is not deployed.\"\n",
    "assert deployment_status.get('deploy_contract_feeProvider',0) == 1,\"feeProvider is not deployed.\"\n",
    "assert deployment_status.get('deploy_contract_governance',0) == 1,\"governance is not deployed.\"\n",
    "assert deployment_status.get('deploy_contract_lendingPool',0) == 1,\"lendingPool is not deployed.\"\n",
    "assert deployment_status.get('deploy_contract_lendingPoolCore',0) == 1,\"lendingPoolCore is not deployed.\"\n",
    "assert deployment_status.get('deploy_contract_lendingPoolDataProvider',0) == 1,\"lendingPoolDataProvider is not deployed.\"\n",
    "assert deployment_status.get('deploy_contract_liquidationManager',0) == 1,\"liquidationManager is not deployed.\"\n",
    "assert deployment_status.get('deploy_contract_ommToken',0) == 1,\"ommToken is not deployed.\"\n",
    "assert deployment_status.get('deploy_contract_priceOracle',0) == 1,\"priceOracle is not deployed.\"\n",
    "assert deployment_status.get('deploy_contract_rewardDistribution',0) == 1,\"rewardDistribution is not deployed.\"\n",
    "assert deployment_status.get('deploy_contract_workerToken',0) == 1,\"workerToken is not deployed.\"\n",
    "assert deployment_status.get('deploy_contract_stakedLp',0) == 1,\"stakedLp is not deployed.\"\n",
    "assert deployment_status.get('deploy_dToken_contract_dUSDS',0) == 1,\"dUSDS is not deployed.\"\n",
    "assert deployment_status.get('deploy_dToken_contract_dICX',0) == 1,\"dICX is not deployed.\"\n",
    "assert deployment_status.get('deploy_dToken_contract_dIUSDC',0) == 1,\"dIUSDC is not deployed.\"\n",
    "assert deployment_status.get('deploy_oToken_contract_oUSDS',0) == 1,\"oUSDS is not deployed.\"\n",
    "assert deployment_status.get('deploy_oToken_contract_oICX',0) == 1,\"oICX is not deployed.\"\n",
    "assert deployment_status.get('deploy_oToken_contract_oIUSDC',0) == 1,\"oIUSDC is not deployed.\"\n",
    "print(\"----All SCORE deployed successfully----\")"
   ]
  },
  {
   "cell_type": "code",
   "execution_count": null,
   "metadata": {},
   "outputs": [],
   "source": [
    "#create dummy contract address for liquidity pools\n",
    "contracts['OMM/sICX'] = str(Address.from_data(AddressPrefix.CONTRACT,\n",
    "                                          f\"{contracts['ommToken']}/{contracts['sicx']}\".encode(\"UTF-8\")))\n",
    "contracts['OMM/USDS'] = str(Address.from_data(AddressPrefix.CONTRACT,\n",
    "                                          f\"{contracts['ommToken']}/{contracts['usds']}\".encode(\"UTF-8\")))\n",
    "contracts['OMM/IUSDC'] = str(Address.from_data(AddressPrefix.CONTRACT,\n",
    "                                           f\"{contracts['ommToken']}/{contracts['iusdc']}\".encode(\"UTF-8\")))"
   ]
  },
  {
   "cell_type": "markdown",
   "metadata": {},
   "source": [
    "## Saving the pkl file\n"
   ]
  },
  {
   "cell_type": "code",
   "execution_count": null,
   "metadata": {
    "tags": []
   },
   "outputs": [],
   "source": [
    "now = datetime.utcnow()\n",
    "filename = f'{NETWORK}_contracts_{now.year}{str(now.month).zfill(2)}{str(now.day).zfill(2)}{str(now.hour).zfill(2)}{str(now.minute).zfill(2)}{str(now.second).zfill(2)}.pkl'\n",
    "\n",
    "print(f'saving contracts list as {filename}')\n",
    "with open(filename, 'wb') as f:\n",
    "    pkl.dump(contracts, f)\n",
    "\n",
    "response[\"pkl\"] = filename"
   ]
  },
  {
   "cell_type": "markdown",
   "metadata": {},
   "source": [
    "## Deposit fee to Lending Pool"
   ]
  },
  {
   "cell_type": "code",
   "execution_count": null,
   "metadata": {},
   "outputs": [],
   "source": [
    "#deposit fee to lending pool to be used for fee sharing\n",
    "status = deposit_transaction(deployer_wallet, 'lendingPool', DEPOSIT_ICX_AMOUNT * EXA, \"add\")\n",
    "deployment_status['deposit_fee_for_sharing'] = status"
   ]
  },
  {
   "cell_type": "markdown",
   "metadata": {},
   "source": [
    "**Configure wallet for worker token**"
   ]
  },
  {
   "cell_type": "code",
   "execution_count": null,
   "metadata": {},
   "outputs": [],
   "source": [
    "params = {\n",
    "    \"_to\": WORKER_WALLET_ADDRESS,\n",
    "    \"_value\": 100*EXA\n",
    "}\n",
    "status= send_tx('workerToken', 'transfer', params, 0, deployer_wallet)\n",
    "deployment_status['set wallet address to worker token'] = status"
   ]
  },
  {
   "cell_type": "markdown",
   "metadata": {},
   "source": [
    "# Configuring SCOREs's parameters"
   ]
  },
  {
   "cell_type": "code",
   "execution_count": null,
   "metadata": {
    "tags": []
   },
   "outputs": [],
   "source": [
    "# initialzied all address through address provider contract\n",
    "contract_details = [\n",
    "    {'name': 'addressProvider', 'address': contracts['addressProvider']},\n",
    "    {'name': 'daoFund', 'address': contracts['daoFund']},\n",
    "    {'name': 'delegation', 'address': contracts['delegation']},\n",
    "    {'name': 'feeProvider', 'address': contracts['feeProvider']},\n",
    "    {'name': 'governance', 'address': contracts['governance']},\n",
    "    {'name': 'lendingPool', 'address': contracts['lendingPool']},\n",
    "    {'name': 'lendingPoolCore', 'address': contracts['lendingPoolCore']},\n",
    "    {'name': 'lendingPoolDataProvider', 'address': contracts['lendingPoolDataProvider']},\n",
    "    {'name': 'liquidationManager', 'address': contracts['liquidationManager']},\n",
    "    {'name': 'ommToken', 'address': contracts['ommToken']},\n",
    "    {'name': 'priceOracle', 'address': contracts['priceOracle']},\n",
    "    {'name': 'bandOracle', 'address': contracts['bandOracle']},\n",
    "    {'name': 'bridgeOToken', 'address': contracts['oUSDS']},\n",
    "    {'name': 'rewards', 'address': contracts['rewardDistribution']},\n",
    "    {'name': 'workerToken', 'address': contracts['workerToken']},\n",
    "    {'name': 'sICX', 'address': contracts['sicx']},\n",
    "    {'name': 'USDS', 'address': contracts['usds']},\n",
    "    {'name': 'IUSDC', 'address': contracts['iusdc']},\n",
    "    {'name': 'staking', 'address': contracts['staking']},\n",
    "    {'name': 'oUSDS', 'address': contracts['oUSDS']},\n",
    "    {'name': 'dUSDS', 'address': contracts['dUSDS']},\n",
    "    {'name': 'oICX', 'address': contracts['oICX']},\n",
    "    {'name': 'dICX', 'address': contracts['dICX']},\n",
    "    {'name': 'oIUSDC', 'address': contracts['oIUSDC']},\n",
    "    {'name': 'dIUSDC', 'address': contracts['dIUSDC']},\n",
    "    {'name': 'stakedLP', 'address': contracts['stakedLp']},\n",
    "    {'name': 'dex', 'address': contracts['dex']}\n",
    "]\n",
    "\n",
    "setting_addressProvider = [\n",
    "    {'contract': 'addressProvider', 'method': 'setAddresses', 'params': {'_addressDetails': contract_details}},\n",
    "    {'contract': 'addressProvider', 'method': 'setSCOREAddresses', 'params': {}},\n",
    "]\n",
    "\n",
    "for sett in setting_addressProvider:\n",
    "    print(f'\\n')\n",
    "    status= send_tx(sett['contract'], sett['method'], sett['params'], 0, deployer_wallet)\n",
    "    deployment_status[f\"{sett['method']} in {sett['contract']}\"] = status\n"
   ]
  },
  {
   "cell_type": "code",
   "execution_count": null,
   "metadata": {},
   "outputs": [],
   "source": [
    "#verify if all addresses on each SCORE are configured\n",
    "assert deployment_status['setAddresses in addressProvider'] == 1\n",
    "assert deployment_status['setSCOREAddresses in addressProvider'] == 1\n",
    "print(\"ADDRESS PROVIDER CONFIGURED CORRECTLY\")"
   ]
  },
  {
   "cell_type": "code",
   "execution_count": null,
   "metadata": {},
   "outputs": [],
   "source": [
    "#configure contrats\n",
    "settings = [\n",
    "    {'key': 'setFeeSharingTxnLimit', 'contract': 'lendingPool', 'method': 'setFeeSharingTxnLimit',\n",
    "     'params': {'_limit': FEE_SHARING_TX_LIMIT}},\n",
    "    {'key': 'setLoanOriginationFeePercentage', 'contract': 'feeProvider', 'method': 'setLoanOriginationFeePercentage',\n",
    "     'params': {'_percentage': LOAN_ORIGINATION_PERCENTAGE}},\n",
    "    {'key': 'setSymbol (usds)', 'contract': 'lendingPoolDataProvider', 'method': 'setSymbol',\n",
    "     'params': {'_reserve': contracts['usds'], '_sym': \"USDS\"}},\n",
    "    {'key': 'setSymbol (sicx)', 'contract': 'lendingPoolDataProvider', 'method': 'setSymbol',\n",
    "     'params': {'_reserve': contracts['sicx'], '_sym': \"ICX\"}},\n",
    "    {'key': 'setSymbol (iusdc)', 'contract': 'lendingPoolDataProvider', 'method': 'setSymbol',\n",
    "     'params': {'_reserve': contracts['iusdc'], '_sym': \"USDC\"}},\n",
    "    {'key': 'addAllContributors', 'contract': 'delegation', 'method': 'addAllContributors',\n",
    "     'params': {'_preps': PREP_LIST}},\n",
    "    {'key': 'setMinimumStake', 'contract': 'ommToken', 'method': 'setMinimumStake',\n",
    "     'params': {'_min': f'{MINIMUM_OMM_STAKE}'}},\n",
    "        {'key': 'setUnstakingPeriod', 'contract': 'ommToken', 'method': 'setUnstakingPeriod',\n",
    "     'params': {'_timeInSeconds': f'{OMM_UNSTAKING_PERIOD}'}}\n",
    "]\n",
    "\n",
    "for sett in settings:\n",
    "    print(f'\\n')\n",
    "    status= send_tx(sett['contract'], sett['method'], sett['params'], 0, deployer_wallet)\n",
    "    deployment_status[f\"{sett['key']} in {sett['contract']}\"] = status"
   ]
  },
  {
   "cell_type": "code",
   "execution_count": null,
   "metadata": {},
   "outputs": [],
   "source": [
    "#configuring reserves constants\n",
    "settings_reserves = [\n",
    "    {'contract': 'governance',\n",
    "     'key': 'setReserveConstants (usds)',\n",
    "     'method': 'setReserveConstants',\n",
    "     'params': {\"_constants\": [{\"reserve\": contracts['usds'],\n",
    "                                \"optimalUtilizationRate\": f\"8{'0' * 17}\",\n",
    "                                \"baseBorrowRate\": f\"2{'0' * 16}\",\n",
    "                                \"slopeRate1\": f\"6{'0' * 16}\",\n",
    "                                \"slopeRate2\": f\"1{'0' * 18}\"}]}},\n",
    "    {'contract': 'governance',\n",
    "     'key': 'setReserveConstants (sicx)',\n",
    "     'method': 'setReserveConstants',\n",
    "     'params': {\"_constants\": [{\"reserve\": contracts['sicx'],\n",
    "                                \"optimalUtilizationRate\": f\"8{'0' * 17}\",\n",
    "                                \"baseBorrowRate\": f\"0{'0' * 17}\",\n",
    "                                \"slopeRate1\": f\"8{'0' * 16}\",\n",
    "                                \"slopeRate2\": f\"2{'0' * 18}\"}]}},\n",
    "    {'contract': 'governance',\n",
    "     'key': 'setReserveConstants (iusdc)',\n",
    "     'method': 'setReserveConstants',\n",
    "     'params': {\"_constants\": [{\"reserve\": contracts['iusdc'],\n",
    "                                \"optimalUtilizationRate\": f\"8{'0' * 17}\",\n",
    "                                \"baseBorrowRate\": f\"2{'0' * 16}\",\n",
    "                                \"slopeRate1\": f\"6{'0' * 16}\",\n",
    "                                \"slopeRate2\": f\"1{'0' * 18}\"}]}}\n",
    "]\n",
    "\n",
    "for sett in settings_reserves:\n",
    "    print(f'\\n')\n",
    "    status= send_tx(sett['contract'], sett['method'], sett['params'], 0, deployer_wallet)\n",
    "    deployment_status[f\"{sett['key']} in {sett['contract']}\"] = status"
   ]
  },
  {
   "cell_type": "markdown",
   "metadata": {},
   "source": [
    "## Adding USDS reserve in LendingPoolCore via Governance\n",
    "\n"
   ]
  },
  {
   "cell_type": "code",
   "execution_count": null,
   "metadata": {
    "tags": []
   },
   "outputs": [],
   "source": [
    "# initially was in lending pool core, now governance controls it\n",
    "settings = [\n",
    "    {\n",
    "        \"method\": \"initializeReserve\",\n",
    "        \"params\": {\n",
    "            \"_reserve\": {\n",
    "                \"reserveAddress\": contracts['usds'],\n",
    "                \"oTokenAddress\": contracts['oUSDS'],\n",
    "                \"dTokenAddress\": contracts['dUSDS'],\n",
    "                \"lastUpdateTimestamp\": \"0\",\n",
    "                \"liquidityRate\": \"0\",\n",
    "                \"borrowRate\": \"0\",\n",
    "                \"liquidityCumulativeIndex\": f\"1{'0' * 18}\",\n",
    "                \"borrowCumulativeIndex\": f\"1{'0' * 18}\",\n",
    "                \"baseLTVasCollateral\": \"500000000000000000\",\n",
    "                \"liquidationThreshold\": \"650000000000000000\",\n",
    "                \"liquidationBonus\": \"100000000000000000\",\n",
    "                \"decimals\": \"18\",\n",
    "                \"borrowingEnabled\": \"1\",\n",
    "                \"usageAsCollateralEnabled\": \"1\",\n",
    "                \"isFreezed\": \"0\",\n",
    "                \"isActive\": \"1\"\n",
    "            }\n",
    "        }\n",
    "    },\n",
    "    {\n",
    "        \"method\": \"updateBorrowThreshold\",\n",
    "        \"params\": {\n",
    "            \"_reserve\": contracts['usds'],\n",
    "            \"_borrowThreshold\": 80 * EXA // 100\n",
    "\n",
    "        }\n",
    "    }\n",
    "]\n",
    "\n",
    "for setting in settings:\n",
    "    print(f'\\n')\n",
    "    status = send_tx('governance', setting[\"method\"], setting[\"params\"], 0, deployer_wallet)\n",
    "    deployment_status[f\"{setting['method']} in governance (usds)\"] = status"
   ]
  },
  {
   "cell_type": "markdown",
   "metadata": {},
   "source": [
    "## Adding ICX reserve"
   ]
  },
  {
   "cell_type": "code",
   "execution_count": null,
   "metadata": {
    "tags": []
   },
   "outputs": [],
   "source": [
    "# initially was in lending pool core, now governance controls it\n",
    "settings = [\n",
    "    {\n",
    "        \"method\": \"initializeReserve\",\n",
    "        \"params\": {\n",
    "            \"_reserve\": {\n",
    "                \"reserveAddress\": contracts['sicx'],\n",
    "                \"oTokenAddress\": contracts['oICX'],\n",
    "                \"dTokenAddress\": contracts['dICX'],\n",
    "                \"lastUpdateTimestamp\": \"0\",\n",
    "                \"liquidityRate\": \"0\",\n",
    "                \"borrowRate\": \"0\",\n",
    "                \"liquidityCumulativeIndex\": f\"1{'0' * 18}\",\n",
    "                \"borrowCumulativeIndex\": f\"1{'0' * 18}\",\n",
    "                \"baseLTVasCollateral\": \"500000000000000000\",\n",
    "                \"liquidationThreshold\": \"650000000000000000\",\n",
    "                \"liquidationBonus\": \"100000000000000000\",\n",
    "                \"decimals\": \"18\",\n",
    "                \"borrowingEnabled\": \"1\",\n",
    "                \"usageAsCollateralEnabled\": \"1\",\n",
    "                \"isFreezed\": \"0\",\n",
    "                \"isActive\": \"1\"\n",
    "            }\n",
    "        }\n",
    "    },\n",
    "    {\n",
    "        \"method\": \"updateBorrowThreshold\",\n",
    "        \"params\": {\n",
    "            \"_reserve\": contracts['sicx'],\n",
    "            \"_borrowThreshold\": 80 * EXA // 100\n",
    "\n",
    "        }\n",
    "    }\n",
    "]\n",
    "\n",
    "for setting in settings:\n",
    "    print(f'\\n')\n",
    "    status = send_tx('governance', setting[\"method\"], setting[\"params\"], 0, deployer_wallet)\n",
    "    deployment_status[f\"{setting['method']} in governance (sicx)\"] = status"
   ]
  },
  {
   "cell_type": "markdown",
   "metadata": {},
   "source": [
    "## Adding IUSDC reserve"
   ]
  },
  {
   "cell_type": "code",
   "execution_count": null,
   "metadata": {
    "tags": []
   },
   "outputs": [],
   "source": [
    "# initially was in lending pool core, now governance controls it\n",
    "settings = [\n",
    "    {\n",
    "        \"method\": \"initializeReserve\",\n",
    "        \"params\": {\n",
    "            \"_reserve\": {\n",
    "                \"reserveAddress\": contracts['iusdc'],\n",
    "                \"oTokenAddress\": contracts['oIUSDC'],\n",
    "                \"dTokenAddress\": contracts['dIUSDC'],\n",
    "                \"lastUpdateTimestamp\": \"0\",\n",
    "                \"liquidityRate\": \"0\",\n",
    "                \"borrowRate\": \"0\",\n",
    "                \"liquidityCumulativeIndex\": f\"1{'0' * 18}\",\n",
    "                \"borrowCumulativeIndex\": f\"1{'0' * 18}\",\n",
    "                \"baseLTVasCollateral\": \"500000000000000000\",\n",
    "                \"liquidationThreshold\": \"650000000000000000\",\n",
    "                \"liquidationBonus\": \"100000000000000000\",\n",
    "                \"decimals\": \"6\",\n",
    "                \"borrowingEnabled\": \"1\",\n",
    "                \"usageAsCollateralEnabled\": \"1\",\n",
    "                \"isFreezed\": \"0\",\n",
    "                \"isActive\": \"1\"\n",
    "            }\n",
    "        }\n",
    "    },\n",
    "    {\n",
    "        \"method\": \"updateBorrowThreshold\",\n",
    "        \"params\": {\n",
    "            \"_reserve\": contracts['iusdc'],\n",
    "            \"_borrowThreshold\": 80 * EXA // 100\n",
    "\n",
    "        }\n",
    "    }\n",
    "]\n",
    "\n",
    "for setting in settings:\n",
    "    print(f'\\n')\n",
    "    status = send_tx('governance', setting[\"method\"], setting[\"params\"], 0, deployer_wallet)\n",
    "    deployment_status[f\"{setting['method']} in governance (iusdc)\"] = status"
   ]
  },
  {
   "cell_type": "code",
   "execution_count": null,
   "metadata": {},
   "outputs": [],
   "source": [
    "#configure rewards pool for lending borrow\n",
    "params = {\n",
    "    \"_assetConfigs\":\n",
    "        [\n",
    "            # reserves\n",
    "            {\"poolID\": f'{-1}', \"rewardEntity\": \"lendingBorrow\", \"asset\": contracts[\"oUSDS\"],\n",
    "             \"assetName\": \"oUSDS\",\n",
    "             \"distPercentage\": f\"{OUSDS_EMISSION}\"},\n",
    "            {\"poolID\": f'{-1}', \"rewardEntity\": \"lendingBorrow\", \"asset\": contracts[\"dUSDS\"],\n",
    "             \"assetName\": \"dUSDS\",\n",
    "             \"distPercentage\": f\"{DUSDS_EMISSION}\"},\n",
    "            {\"poolID\": f'{-1}', \"rewardEntity\": \"lendingBorrow\", \"asset\": contracts[\"dICX\"],\n",
    "             \"assetName\": \"dICX\",\n",
    "             \"distPercentage\": f\"{DICX_EMISSION}\"},\n",
    "            {\"poolID\": f'{-1}', \"rewardEntity\": \"lendingBorrow\", \"asset\": contracts[\"oICX\"],\n",
    "             \"assetName\": \"oICX\",\n",
    "             \"distPercentage\": f\"{OICX_EMISSION}\"},\n",
    "            {\"poolID\": f'{-1}', \"rewardEntity\": \"lendingBorrow\", \"asset\": contracts[\"oIUSDC\"],\n",
    "             \"assetName\": \"oIUSDC\", \"distPercentage\": f\"{OIUSDC_EMISSION}\"},\n",
    "            {\"poolID\": f'{-1}', \"rewardEntity\": \"lendingBorrow\", \"asset\": contracts[\"dIUSDC\"],\n",
    "             \"assetName\": \"dIUSDC\", \"distPercentage\": f\"{DIUSDC_EMISSION}\"},\n",
    "        ]\n",
    "}\n",
    "\n",
    "status = send_tx('governance', 'addPools', params, 0, deployer_wallet)\n",
    "deployment_status[f\"addPools in governance\"] = status"
   ]
  },
  {
   "cell_type": "code",
   "execution_count": null,
   "metadata": {},
   "outputs": [],
   "source": [
    "assert deployment_status['deploy_contract_addressProvider'] == 1\n",
    "assert deployment_status['deploy_contract_daoFund'] == 1\n",
    "assert deployment_status['deploy_contract_delegation'] == 1\n",
    "assert deployment_status['deploy_contract_feeProvider'] == 1\n",
    "assert deployment_status['deploy_contract_governance'] == 1\n",
    "assert deployment_status['deploy_contract_lendingPool'] == 1\n",
    "assert deployment_status['deploy_contract_lendingPoolCore'] == 1\n",
    "assert deployment_status['deploy_contract_lendingPoolDataProvider'] == 1\n",
    "assert deployment_status['deploy_contract_liquidationManager'] == 1\n",
    "assert deployment_status['deploy_contract_ommToken'] == 1\n",
    "assert deployment_status['deploy_contract_priceOracle'] == 1\n",
    "assert deployment_status['deploy_contract_rewardDistribution'] == 1\n",
    "assert deployment_status['deploy_contract_workerToken'] == 1\n",
    "assert deployment_status['deploy_contract_stakedLp'] == 1\n",
    "assert deployment_status['deploy_dToken_contract_dUSDS'] == 1\n",
    "assert deployment_status['deploy_dToken_contract_dICX'] == 1\n",
    "assert deployment_status['deploy_dToken_contract_dIUSDC'] == 1\n",
    "assert deployment_status['deploy_oToken_contract_oUSDS'] == 1\n",
    "assert deployment_status['deploy_oToken_contract_oICX'] == 1\n",
    "assert deployment_status['deploy_oToken_contract_oIUSDC'] == 1\n",
    "assert deployment_status['deposit_fee_for_sharing'] == 1\n",
    "assert deployment_status['setFeeSharingTxnLimit in lendingPool'] == 1\n",
    "assert deployment_status['setLoanOriginationFeePercentage in feeProvider'] == 1\n",
    "assert deployment_status['setSymbol (usds) in lendingPoolDataProvider'] == 1\n",
    "assert deployment_status['setSymbol (sicx) in lendingPoolDataProvider'] == 1\n",
    "assert deployment_status['setSymbol (iusdc) in lendingPoolDataProvider'] == 1\n",
    "assert deployment_status['addAllContributors in delegation'] == 1\n",
    "assert deployment_status['setMinimumStake in ommToken'] == 1\n",
    "assert deployment_status['setUnstakingPeriod in ommToken'] == 1\n",
    "assert deployment_status['addPools in governance'] == 1\n",
    "assert deployment_status['setReserveConstants (usds) in governance'] == 1\n",
    "assert deployment_status['setReserveConstants (sicx) in governance'] == 1\n",
    "assert deployment_status['setReserveConstants (iusdc) in governance'] == 1\n",
    "assert deployment_status['initializeReserve in governance (usds)'] == 1\n",
    "assert deployment_status['initializeReserve in governance (sicx)'] == 1\n",
    "assert deployment_status['initializeReserve in governance (iusdc)'] == 1\n",
    "assert deployment_status['updateBorrowThreshold in governance (usds)'] == 1\n",
    "assert deployment_status['updateBorrowThreshold in governance (sicx)'] == 1\n",
    "assert deployment_status['updateBorrowThreshold in governance (iusdc)'] == 1\n",
    "assert deployment_status['set wallet address to worker token'] == 1\n",
    "print(\"----Configured successfully----\")"
   ]
  },
  {
   "cell_type": "markdown",
   "metadata": {},
   "source": [
    "### Reward configurations"
   ]
  },
  {
   "cell_type": "code",
   "execution_count": null,
   "metadata": {},
   "outputs": [],
   "source": [
    "#update distritbution percentage\n",
    "DISTRIBUTION_PERCENTAGE = [\n",
    "    {\"recipient\": \"worker\", \"percentage\": f'{WORKER_DIST_PERCENTAGE}'},\n",
    "    {\"recipient\": \"daoFund\", \"percentage\": f'{DAO_DIST_PERCENTAGE}'},\n",
    "    {\"recipient\": \"lendingBorrow\", \"percentage\": f'{LENDING_BORROW_PERCENTAGE}'},\n",
    "    {\"recipient\": \"liquidityProvider\", \"percentage\": f'{LP_OMM_STAKING_PERCENTAGE}'}\n",
    "]\n",
    "assert (WORKER_DIST_PERCENTAGE+DAO_DIST_PERCENTAGE+LENDING_BORROW_PERCENTAGE+LP_OMM_STAKING_PERCENTAGE)==EXA, \"percentage distribution mismatched\"\n",
    "params = {\"_distPercentage\": DISTRIBUTION_PERCENTAGE}\n",
    "status= send_tx('rewardDistribution', 'setDistributionPercentage', params, 0, deployer_wallet)\n"
   ]
  },
  {
   "cell_type": "code",
   "execution_count": null,
   "metadata": {},
   "outputs": [],
   "source": [
    "# remove pool from reward distribution\n",
    "asset = ''  # address of pool \n",
    "\n",
    "params = {\n",
    "    \"_asset\": asset\n",
    "}\n",
    "\n",
    "status = send_tx('governance', removePool, params, 0, deployer_wallet)\n"
   ]
  },
  {
   "cell_type": "code",
   "execution_count": null,
   "metadata": {},
   "outputs": [],
   "source": [
    "# add or update existing pool\n",
    "#use Address.from_data(AddressPrefix.CONTRACT,f\"{contracts['ommToken']}/{contracts['iusdc']}\".encode(\"UTF-8\")) to create address for liquidity provider pool\n",
    "\n",
    "poolID = -1  # pool id from dex set -1 for all other pools\n",
    "rewardEntity = ''  # must be either  lendingBorrow or liquidityProvider\n",
    "asset = ''  # address of pool \n",
    "assetName = ''  # asset name\n",
    "distPercentage = -1  # distribution percentage for pool of lendingBorrow or liquidityProvider\n",
    "params = {\n",
    "    \"_assetConfig\":\n",
    "        {\n",
    "            \"poolID\": f'{poolID}',\n",
    "            \"rewardEntity\": rewardEntity,\n",
    "            \"asset\": asset,\n",
    "            \"assetName\": assetName,\n",
    "            \"distPercentage\": f\"{distPercentage}\"\n",
    "        }\n",
    "}\n",
    "\n",
    "status = send_tx('governance', \"addPool\", params, 0, deployer_wallet)\n"
   ]
  },
  {
   "cell_type": "markdown",
   "metadata": {},
   "source": [
    "## Testing deposit"
   ]
  },
  {
   "cell_type": "code",
   "execution_count": null,
   "metadata": {
    "tags": []
   },
   "outputs": [],
   "source": [
    "params = {\"_amount\": 5 * 10 ** 18}\n",
    "send_tx('lendingPool','deposit',params, params['_amount'], deployer_wallet)"
   ]
  },
  {
   "cell_type": "markdown",
   "metadata": {},
   "source": [
    "## Testing borrow"
   ]
  },
  {
   "cell_type": "code",
   "execution_count": null,
   "metadata": {
    "scrolled": true
   },
   "outputs": [],
   "source": [
    "params = {\"_reserve\": contracts['sicx'], \"_amount\": 1 * 10 ** 18}\n",
    "\n",
    "send_tx('lendingPool','borrow', params, 0, deployer_wallet)"
   ]
  },
  {
   "cell_type": "markdown",
   "metadata": {},
   "source": [
    "## Updating Contracts"
   ]
  },
  {
   "cell_type": "code",
   "execution_count": null,
   "metadata": {
    "tags": []
   },
   "outputs": [],
   "source": [
    "# Updating mainnet contracts\n",
    "contract_ = 'rewardDistribution'\n",
    "if contract_ == 'oICX':\n",
    "    update = contracts['oICX']\n",
    "    contract_ = 'oToken'\n",
    "elif contract_ == 'oUSDS':\n",
    "    update = contracts['oUSDS']\n",
    "    contract_ = 'oToken'\n",
    "elif contract_ == 'oIUSDC':\n",
    "    update = contracts['oIUSDC']\n",
    "    contract_ = 'oToken'\n",
    "elif contract_ == 'dICX':\n",
    "    update = contracts['dICX']\n",
    "    contract_ = 'dToken'\n",
    "elif contract_ == 'dUSDS':\n",
    "    update = contracts['dUSDS']\n",
    "    contract_ = 'dToken'\n",
    "elif contract_ == 'dIUSDC':\n",
    "    update = contracts['dIUSDC']\n",
    "    contract_ = 'dToken'\n",
    "else:\n",
    "    update = contracts[contract_]\n",
    "# update = contracts[contract_]\n",
    "print('update', contract_, update)\n",
    "\n",
    "\n",
    "deploy_transaction = DeployTransactionBuilder() \\\n",
    "    .from_(deployer_wallet.get_address()) \\\n",
    "    .to(update) \\\n",
    "    .nid(NID) \\\n",
    "    .nonce(100) \\\n",
    "    .content_type(\"application/zip\") \\\n",
    "    .content(gen_deploy_data_content(contract_)) \\\n",
    "    .build()\n",
    "\n",
    "step_limit = icon_service.estimate_step(deploy_transaction) + 100000\n",
    "\n",
    "signed_transaction = SignedTransaction(deploy_transaction, deployer_wallet, step_limit)\n",
    "tx_hash = icon_service.send_transaction(signed_transaction)\n",
    "\n",
    "response=get_tx_result(tx_hash)\n",
    "get_status_and_print(\"contract_\", \"update_contract\", response)"
   ]
  }
 ],
 "metadata": {
  "celltoolbar": "Slideshow",
  "kernelspec": {
   "display_name": "Python 3",
   "language": "python",
   "name": "python3"
  },
  "language_info": {
   "codemirror_mode": {
    "name": "ipython",
    "version": 3
   },
   "file_extension": ".py",
   "mimetype": "text/x-python",
   "name": "python",
   "nbconvert_exporter": "python",
   "pygments_lexer": "ipython3",
   "version": "3.7.0"
  },
  "rise": {
   "scroll": true
  }
 },
 "nbformat": 4,
 "nbformat_minor": 2
}
