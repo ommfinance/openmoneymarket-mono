{
 "cells": [
  {
   "cell_type": "markdown",
   "metadata": {
    "slideshow": {
     "slide_type": "slide"
    }
   },
   "source": [
    "# Jupyter Notebook for mainnet deployment\n"
   ]
  },
  {
   "cell_type": "code",
   "execution_count": null,
   "metadata": {},
   "outputs": [],
   "source": [
    "from IPython.core.display import display, HTML\n",
    "display(HTML(\"<style>.container { width:100% !important; }</style>\"))\n"
   ]
  },
  {
   "cell_type": "markdown",
   "metadata": {},
   "source": [
    "# Set Up Environment"
   ]
  },
  {
   "cell_type": "code",
   "execution_count": null,
   "metadata": {},
   "outputs": [],
   "source": [
    "network = \"yeouido\"  # set this to one of mainnet, yeouido, euljiro, pagoda, or custom\n",
    "\n",
    "connections = {\n",
    "\"mainnet\": {\"iconservice\": \"https://ctz.solidwallet.io\",       \"nid\": 1},\n",
    "\"yeouido\": {\"iconservice\": \"https://bicon.net.solidwallet.io\", \"nid\": 3},\n",
    "\"euljiro\": {\"iconservice\": \"https://test-ctz.solidwallet.io\",  \"nid\": 2},\n",
    "\"pagoda\":  {\"iconservice\": \"https://zicon.net.solidwallet.io\", \"nid\":80},\n",
    "\"custom\":  {\"iconservice\": \"http://18.237.205.52:9000/\",       \"nid\": 3},\n",
    "\"local\":   {\"iconservice\": \"http://localhost:9000/\",           \"nid\": 3},\n",
    "\"sejong\":  {\"iconservice\": \"https://sejong.net.solidwallet.io\", \"nid\": 83}\n",
    "}\n",
    "\n",
    "env = connections[network]"
   ]
  },
  {
   "cell_type": "markdown",
   "metadata": {
    "slideshow": {
     "slide_type": "slide"
    }
   },
   "source": [
    "\n",
    "### Necessary packages "
   ]
  },
  {
   "cell_type": "code",
   "execution_count": null,
   "metadata": {
    "slideshow": {
     "slide_type": "-"
    }
   },
   "outputs": [],
   "source": [
    "from iconsdk.exception import JSONRPCException\n",
    "from iconsdk.libs.in_memory_zip import gen_deploy_data_content\n",
    "from iconsdk.icon_service import IconService\n",
    "from iconsdk.providers.http_provider import HTTPProvider\n",
    "from iconsdk.builder.transaction_builder import CallTransactionBuilder, TransactionBuilder, DeployTransactionBuilder, DepositTransactionBuilder\n",
    "from iconsdk.builder.call_builder import CallBuilder\n",
    "from iconsdk.signed_transaction import SignedTransaction\n",
    "from iconsdk.wallet.wallet import KeyWallet\n",
    "from iconsdk.utils.convert_type import convert_hex_str_to_int\n",
    "from datetime import datetime\n",
    "from repeater import retry\n",
    "from shutil import make_archive\n",
    "import requests\n",
    "import json\n",
    "import pickle as pkl\n",
    "import csv\n",
    "import os\n",
    "from pprint import pprint\n",
    "from getpass import getpass\n",
    "\n",
    "\n",
    "ICX = 1000000000000000000 # 10**18\n",
    "GOVERNANCE_ADDRESS = \"cx0000000000000000000000000000000000000000\"\n",
    "\n",
    "@retry(JSONRPCException, tries=10, delay=1, back_off=2)\n",
    "def get_tx_result(_tx_hash):\n",
    "    tx_result = icon_service.get_transaction_result(_tx_hash)\n",
    "    return tx_result\n"
   ]
  },
  {
   "cell_type": "markdown",
   "metadata": {
    "slideshow": {
     "slide_type": "-"
    }
   },
   "source": [
    "### Required service"
   ]
  },
  {
   "cell_type": "code",
   "execution_count": null,
   "metadata": {},
   "outputs": [],
   "source": [
    "icon_service = IconService(HTTPProvider(env[\"iconservice\"], 3))\n",
    "NID = env[\"nid\"]"
   ]
  },
  {
   "cell_type": "markdown",
   "metadata": {
    "slideshow": {
     "slide_type": "-"
    }
   },
   "source": [
    "# Importing wallet"
   ]
  },
  {
   "cell_type": "markdown",
   "metadata": {},
   "source": [
    "### Importing from private key"
   ]
  },
  {
   "cell_type": "code",
   "execution_count": null,
   "metadata": {
    "scrolled": true
   },
   "outputs": [],
   "source": [
    "\n",
    "private=\"a691ef7d5601f9b5be4f9b9d80215159ea6ff0b88003e3d34e078d40e778b39a\"\n",
    "deployer_wallet = KeyWallet.load(bytes.fromhex(private))\n",
    "deployer_wallet.get_address()\n",
    "icon_service.get_balance(deployer_wallet.get_address())\n"
   ]
  },
  {
   "cell_type": "code",
   "execution_count": null,
   "metadata": {},
   "outputs": [],
   "source": [
    "# Run this in case you want to import previous contract addresses\n",
    "contracts_file_custom = \"reward_retest_contracts_20210702015446.pkl\"\n",
    "with open(contracts_file_custom, 'rb') as f:\n",
    "    contracts = pkl.load(f)"
   ]
  },
  {
   "cell_type": "markdown",
   "metadata": {},
   "source": [
    "## Helper Contracts and Variables"
   ]
  },
  {
   "cell_type": "code",
   "execution_count": null,
   "metadata": {},
   "outputs": [],
   "source": [
    "# Dont run this in case you have imported contracts from a pkl file \n",
    "usd = \"usds\" # \"usds\" or \"usdb\"\n",
    "contracts = {}\n",
    "PREP_LIST = [\"hxec79e9c1c882632688f8c8f9a07832bcabe8be8f\",\"hxd3be921dfe193cd49ed7494a53743044e3376cd3\",    \"hx9e7509f86ea3ba5c139161d6e92a3982659e9f30\",\"hxaad52424d4aec9dac7d9f6796da527f471269d2c\"]\n",
    "TIMESTAMP = 1624634100000000 # 9pm NST 25th June\n",
    "\n",
    "EMISSION_PER_DAY= 400000\n",
    "SECONDS_PER_DAY = 86400\n",
    "\n",
    "OICX_EMISSION = int(EMISSION_PER_DAY * 0.2 * 0.9 * 10 ** 18 // SECONDS_PER_DAY)\n",
    "DICX_EMISSION = int(EMISSION_PER_DAY * 0.2 * 0.1 * 10 ** 18 // SECONDS_PER_DAY)\n",
    "OUSDS_EMISSION = int(EMISSION_PER_DAY * 0.4 * 0.5 * 10 ** 18 // SECONDS_PER_DAY)\n",
    "DUSDS_EMISSION = int(EMISSION_PER_DAY * 0.4 * 0.5 * 10 ** 18 // SECONDS_PER_DAY)\n",
    "OIUSDC_EMISSION = int(EMISSION_PER_DAY * 0.4 * 0.5 * 10 ** 18 // SECONDS_PER_DAY)\n",
    "DIUSDC_EMISSION = int(EMISSION_PER_DAY * 0.4 * 0.5 * 10 ** 18 // SECONDS_PER_DAY)\n",
    "\n",
    "\n",
    "contracts['sicx']=\"cxae6334850f13dfd8b50f8544d5acb126bb8ef82d\"\n",
    "contracts['staking']=\"cx9d829396d887f9292d8af488fab78ad24ab6b99a\"\n",
    "contracts['iusdc']=\"cx65f639254090820361da483df233f6d0e69af9b7\"\n",
    "if usd == \"usds\":\n",
    "    contracts[usd]=\"cxaa068556df80f9917ef146e889f0b2c4b13ab634\"\n",
    "elif usd == \"usdb\":\n",
    "    contracts[usd] = \"cxe875b38397fb08b7166acaa0bda74c85249f2eff\"\n",
    "contracts['bandOracle'] = \"cx61a36e5d10412e03c907a507d1e8c6c3856d9964\"\n",
    "contracts[\"dex\"] = \"cx399dea56cf199b1c9e43bead0f6a284bdecfbf62\""
   ]
  },
  {
   "cell_type": "markdown",
   "metadata": {},
   "source": [
    "# Deploying all contracts\n"
   ]
  },
  {
   "cell_type": "code",
   "execution_count": null,
   "metadata": {
    "tags": []
   },
   "outputs": [],
   "source": [
    "\n",
    "deploy = ['addressProvider','daoFund','delegation','feeProvider','governance', \n",
    "          'lendingPool', 'lendingPoolCore','lendingPoolDataProvider',\n",
    "          'liquidationManager','ommToken', 'priceOracle','rewardDistribution' ,\n",
    "          'worker_token']\n",
    "\n",
    "directory=os.getcwd()\n",
    "for item in deploy:\n",
    "    params = {}\n",
    "    if item == \"worker_token\":\n",
    "        params = {'_initialSupply':100, '_decimals': 18}\n",
    "        \n",
    "    deploy_transaction = DeployTransactionBuilder()\\\n",
    "        .from_(deployer_wallet.get_address())\\\n",
    "        .to(GOVERNANCE_ADDRESS)\\\n",
    "        .nid(NID)\\\n",
    "        .nonce(100)\\\n",
    "        .content_type(\"application/zip\")\\\n",
    "        .content(gen_deploy_data_content(item))\\\n",
    "        .params(params)\\\n",
    "        .build()\n",
    "\n",
    "    step_limit = icon_service.estimate_step(deploy_transaction) + 100000\n",
    "    \n",
    "    signed_transaction = SignedTransaction(deploy_transaction, deployer_wallet, step_limit)\n",
    "    tx_hash = icon_service.send_transaction(signed_transaction)\n",
    "\n",
    "    res = get_tx_result(tx_hash)\n",
    "    print(res)\n",
    "    contracts[item] = res.get('scoreAddress', '')"
   ]
  },
  {
   "cell_type": "code",
   "execution_count": null,
   "metadata": {
    "tags": []
   },
   "outputs": [],
   "source": [
    "pprint(contracts)"
   ]
  },
  {
   "cell_type": "markdown",
   "metadata": {},
   "source": [
    "## Deploying remaining contracts\n"
   ]
  },
  {
   "cell_type": "code",
   "execution_count": null,
   "metadata": {},
   "outputs": [],
   "source": [
    "for item in deploy:\n",
    "    if item not in contracts.keys():\n",
    "        params = {}\n",
    "        if item == \"ommToken\":\n",
    "            params = {'_initialSupply':0, '_decimals': 18}\n",
    "        elif item == \"worker_token\":\n",
    "            params = {'_initialSupply':100, '_decimals': 18}\n",
    "       \n",
    "        deploy_transaction = DeployTransactionBuilder()\\\n",
    "            .from_(deployer_wallet.get_address())\\\n",
    "            .to(GOVERNANCE_ADDRESS)\\\n",
    "            .nid(NID)\\\n",
    "            .nonce(100)\\\n",
    "            .content_type(\"application/zip\")\\\n",
    "            .content(gen_deploy_data_content(item))\\\n",
    "            .params(params)\\\n",
    "            .build()\n",
    "\n",
    "        step_limit = icon_service.estimate_step(deploy_transaction) + 100000\n",
    "        \n",
    "        signed_transaction = SignedTransaction(deploy_transaction, deployer_wallet, step_limit)\n",
    "        tx_hash = icon_service.send_transaction(signed_transaction)\n",
    "\n",
    "        res = get_tx_result(tx_hash)\n",
    "        print(res)\n",
    "        contracts[item] = res.get('scoreAddress', '')"
   ]
  },
  {
   "cell_type": "markdown",
   "metadata": {},
   "source": [
    "## Deploying otoken for USDS"
   ]
  },
  {
   "cell_type": "code",
   "execution_count": null,
   "metadata": {
    "tags": []
   },
   "outputs": [],
   "source": [
    "\n",
    "params = {\"_name\":\"Omm USDS Interest Token\",\"_symbol\":\"oUSDS\"}\n",
    "deploy_transaction = DeployTransactionBuilder()\\\n",
    "        .from_(deployer_wallet.get_address())\\\n",
    "        .to(GOVERNANCE_ADDRESS)\\\n",
    "        .nid(NID)\\\n",
    "        .nonce(100)\\\n",
    "        .content_type(\"application/zip\")\\\n",
    "        .content(gen_deploy_data_content('oToken'))\\\n",
    "        .params(params)\\\n",
    "        .build()\n",
    "\n",
    "step_limit = icon_service.estimate_step(deploy_transaction) + 100000\n",
    "\n",
    "signed_transaction = SignedTransaction(deploy_transaction, deployer_wallet, step_limit)\n",
    "tx_hash = icon_service.send_transaction(signed_transaction)\n",
    "\n",
    "res = get_tx_result(tx_hash)\n",
    "print(res)\n",
    "contracts['oUSDS'] = res.get('scoreAddress', '')\n",
    "\n",
    "\n",
    "\n",
    "# contracts"
   ]
  },
  {
   "cell_type": "markdown",
   "metadata": {},
   "source": [
    "## Deploying debt token for usds (dUSDS)"
   ]
  },
  {
   "cell_type": "code",
   "execution_count": null,
   "metadata": {},
   "outputs": [],
   "source": [
    "params = {\"_name\":\"Omm USDS Debt Token\",\"_symbol\":\"dUSDS\"}\n",
    "deploy_transaction = DeployTransactionBuilder()\\\n",
    "        .from_(deployer_wallet.get_address())\\\n",
    "        .to(GOVERNANCE_ADDRESS)\\\n",
    "        .nid(NID)\\\n",
    "        .nonce(100)\\\n",
    "        .content_type(\"application/zip\")\\\n",
    "        .content(gen_deploy_data_content('dToken'))\\\n",
    "        .params(params)\\\n",
    "        .build()\n",
    "\n",
    "step_limit = icon_service.estimate_step(deploy_transaction) + 100000\n",
    "\n",
    "signed_transaction = SignedTransaction(deploy_transaction, deployer_wallet, step_limit)\n",
    "tx_hash = icon_service.send_transaction(signed_transaction)\n",
    "\n",
    "res = get_tx_result(tx_hash)\n",
    "print(res)\n",
    "contracts['dUSDS'] = res.get('scoreAddress', '')\n",
    "\n",
    "\n",
    "\n",
    "# contracts"
   ]
  },
  {
   "cell_type": "markdown",
   "metadata": {},
   "source": [
    "## Deploying otoken for icx"
   ]
  },
  {
   "cell_type": "code",
   "execution_count": null,
   "metadata": {
    "tags": []
   },
   "outputs": [],
   "source": [
    "#deploy oICX \n",
    "params = {\"_name\":\"Omm ICX interest Token\",\"_symbol\":\"oICX\"}\n",
    "deploy_transaction = DeployTransactionBuilder()\\\n",
    "        .from_(deployer_wallet.get_address())\\\n",
    "        .to(GOVERNANCE_ADDRESS)\\\n",
    "        .nid(NID)\\\n",
    "        .nonce(100)\\\n",
    "        .content_type(\"application/zip\")\\\n",
    "        .content(gen_deploy_data_content('oToken'))\\\n",
    "        .params(params)\\\n",
    "        .build()\n",
    "\n",
    "step_limit = icon_service.estimate_step(deploy_transaction) + 100000\n",
    "\n",
    "signed_transaction = SignedTransaction(deploy_transaction, deployer_wallet, step_limit)\n",
    "tx_hash = icon_service.send_transaction(signed_transaction)\n",
    "\n",
    "res = get_tx_result(tx_hash)\n",
    "print(res)\n",
    "contracts['oICX'] = res.get('scoreAddress', '')\n",
    "\n",
    "# contracts"
   ]
  },
  {
   "cell_type": "markdown",
   "metadata": {},
   "source": [
    "## Deploying debt token for icx (dICX)"
   ]
  },
  {
   "cell_type": "code",
   "execution_count": null,
   "metadata": {},
   "outputs": [],
   "source": [
    "\n",
    "params = {\"_name\":\"Omm ICX Debt Token\",\"_symbol\":\"dICX\"}\n",
    "deploy_transaction = DeployTransactionBuilder()\\\n",
    "        .from_(deployer_wallet.get_address())\\\n",
    "        .to(GOVERNANCE_ADDRESS)\\\n",
    "        .nid(NID)\\\n",
    "        .nonce(100)\\\n",
    "        .content_type(\"application/zip\")\\\n",
    "        .content(gen_deploy_data_content('dToken'))\\\n",
    "        .params(params)\\\n",
    "        .build()\n",
    "\n",
    "step_limit = icon_service.estimate_step(deploy_transaction) + 100000\n",
    "\n",
    "signed_transaction = SignedTransaction(deploy_transaction, deployer_wallet, step_limit)\n",
    "tx_hash = icon_service.send_transaction(signed_transaction)\n",
    "\n",
    "res = get_tx_result(tx_hash)\n",
    "print(res)\n",
    "contracts['dICX'] = res.get('scoreAddress', '')\n",
    "\n",
    "\n",
    "\n",
    "# contracts"
   ]
  },
  {
   "cell_type": "markdown",
   "metadata": {},
   "source": [
    "## Deploying otoken for iusdc\n"
   ]
  },
  {
   "cell_type": "code",
   "execution_count": null,
   "metadata": {
    "tags": []
   },
   "outputs": [],
   "source": [
    "#deploy oIUSDC\n",
    "params = {\"_name\":\"Omm IUSDC Interest Token\",\"_symbol\":\"oIUSDC\",\"_decimals\":6}\n",
    "deploy_transaction = DeployTransactionBuilder()\\\n",
    "        .from_(deployer_wallet.get_address())\\\n",
    "        .to(GOVERNANCE_ADDRESS)\\\n",
    "        .nid(NID)\\\n",
    "        .nonce(100)\\\n",
    "        .content_type(\"application/zip\")\\\n",
    "        .content(gen_deploy_data_content('oToken'))\\\n",
    "        .params(params)\\\n",
    "        .build()\n",
    "\n",
    "step_limit = icon_service.estimate_step(deploy_transaction) + 100000\n",
    "\n",
    "signed_transaction = SignedTransaction(deploy_transaction, deployer_wallet, step_limit)\n",
    "tx_hash = icon_service.send_transaction(signed_transaction)\n",
    "\n",
    "res = get_tx_result(tx_hash)\n",
    "print(res)\n",
    "contracts['oIUSDC'] = res.get('scoreAddress', '')\n",
    "\n",
    "# contracts"
   ]
  },
  {
   "cell_type": "markdown",
   "metadata": {},
   "source": [
    "## Deploying debt token for iusdc dIUSDC"
   ]
  },
  {
   "cell_type": "code",
   "execution_count": null,
   "metadata": {},
   "outputs": [],
   "source": [
    "\n",
    "params = {\"_name\":\"Omm IUSDC Debt Token\",\"_symbol\":\"dIUSDC\",\"_decimals\":6}\n",
    "deploy_transaction = DeployTransactionBuilder()\\\n",
    "        .from_(deployer_wallet.get_address())\\\n",
    "        .to(GOVERNANCE_ADDRESS)\\\n",
    "        .nid(NID)\\\n",
    "        .nonce(100)\\\n",
    "        .content_type(\"application/zip\")\\\n",
    "        .content(gen_deploy_data_content('dToken'))\\\n",
    "        .params(params)\\\n",
    "        .build()\n",
    "\n",
    "step_limit = icon_service.estimate_step(deploy_transaction) + 100000\n",
    "\n",
    "signed_transaction = SignedTransaction(deploy_transaction, deployer_wallet, step_limit)\n",
    "tx_hash = icon_service.send_transaction(signed_transaction)\n",
    "\n",
    "res = get_tx_result(tx_hash)\n",
    "print(res)\n",
    "contracts['dIUSDC'] = res.get('scoreAddress', '')\n",
    "\n",
    "\n",
    "\n",
    "# contracts"
   ]
  },
  {
   "cell_type": "markdown",
   "metadata": {},
   "source": [
    "## Deposit fee to Lending Pool"
   ]
  },
  {
   "cell_type": "code",
   "execution_count": null,
   "metadata": {},
   "outputs": [],
   "source": [
    "call_transaction = DepositTransactionBuilder() \\\n",
    "    .from_(deployer_wallet.get_address()) \\\n",
    "    .to(contracts[\"lendingPool\"]) \\\n",
    "    .nid(3) \\\n",
    "    .value(5000 * 10 ** 18)\\\n",
    "    .step_limit(1000000000) \\\n",
    "    .nonce(100) \\\n",
    "    .action(\"add\") \\\n",
    "    .build() \n",
    "\n",
    "signed_transaction = SignedTransaction(call_transaction, deployer_wallet)\n",
    "tx_hash = icon_service.send_transaction(signed_transaction)\n",
    "get_tx_result(tx_hash)"
   ]
  },
  {
   "cell_type": "markdown",
   "metadata": {},
   "source": [
    "## Other Contract Addresses"
   ]
  },
  {
   "cell_type": "code",
   "execution_count": null,
   "metadata": {},
   "outputs": [],
   "source": [
    "pprint(contracts)"
   ]
  },
  {
   "cell_type": "markdown",
   "metadata": {},
   "source": [
    "## Saving the pkl file\n"
   ]
  },
  {
   "cell_type": "code",
   "execution_count": null,
   "metadata": {
    "tags": []
   },
   "outputs": [],
   "source": [
    "now = datetime.utcnow()\n",
    "filename =\"reward_retest\"+f'_contracts_{now.year}{str(now.month).zfill(2)}{str(now.day).zfill(2)}{str(now.hour).zfill(2)}{str(now.minute).zfill(2)}{str(now.second).zfill(2)}.pkl'\n",
    "\n",
    "print(f'saving contracts list as {filename}')\n",
    "with open(filename, 'wb') as f:\n",
    "\n",
    "    pkl.dump(contracts, f)"
   ]
  },
  {
   "cell_type": "markdown",
   "metadata": {},
   "source": [
    "## Updating contracts"
   ]
  },
  {
   "cell_type": "code",
   "execution_count": null,
   "metadata": {
    "tags": []
   },
   "outputs": [],
   "source": [
    "# Updating mainnet contracts\n",
    "contract_ = 'rewardDistribution'\n",
    "if contract_ == 'oICX':\n",
    "    update = contracts['oICX']\n",
    "    contract_ = 'oToken' \n",
    "elif contract_ == 'oUSDS':\n",
    "    update = contracts['oUSDS']\n",
    "    contract_ = 'oToken'\n",
    "elif contract_ == 'oIUSDC':\n",
    "    update = contracts['oIUSDC']\n",
    "    contract_ = 'oToken' \n",
    "elif contract_ == 'dICX':\n",
    "    update = contracts['dICX']\n",
    "    contract_ = 'dToken' \n",
    "elif contract_ == 'dUSDS':\n",
    "    update = contracts['dUSDS']\n",
    "    contract_ = 'dToken'\n",
    "elif contract_ == 'dIUSDC':\n",
    "    update = contracts['dIUSDC']\n",
    "    contract_ = 'dToken' \n",
    "else:\n",
    "    update = contracts[contract_]\n",
    "#update = contracts[contract_]\n",
    "print('update',contract_, update)\n",
    "\n",
    "deploy_transaction = DeployTransactionBuilder()\\\n",
    "    .from_(deployer_wallet.get_address())\\\n",
    "    .to(update)\\\n",
    "    .nid(NID)\\\n",
    "    .nonce(100)\\\n",
    "    .content_type(\"application/zip\")\\\n",
    "    .content(gen_deploy_data_content(contract_))\\\n",
    "    .build()\n",
    "\n",
    "step_limit = icon_service.estimate_step(deploy_transaction) + 100000\n",
    "\n",
    "signed_transaction = SignedTransaction(deploy_transaction, deployer_wallet, step_limit)\n",
    "tx_hash = icon_service.send_transaction(signed_transaction)\n",
    "\n",
    "get_tx_result(tx_hash)"
   ]
  },
  {
   "cell_type": "markdown",
   "metadata": {},
   "source": [
    "# Configuring SCOREs's parameters"
   ]
  },
  {
   "cell_type": "code",
   "execution_count": null,
   "metadata": {
    "tags": []
   },
   "outputs": [],
   "source": [
    "settings_lendingPool = [\n",
    "    {'contract': 'lendingPool', 'method': 'setLendingPoolCore', 'params':{'_address': contracts['lendingPoolCore']}},\n",
    "    {'contract': 'lendingPool', 'method': 'setLendingPoolDataProvider', 'params':{'_address': contracts['lendingPoolDataProvider']}},\n",
    "    {'contract': 'lendingPool', 'method': 'setFeeProvider', 'params':{'_address': contracts['feeProvider']}},\n",
    "    {'contract': 'lendingPool', 'method': 'setLiquidationManager','params': {'_address':contracts['liquidationManager']}},\n",
    "    {'contract': 'lendingPool', 'method': 'setStaking', 'params':{'_address': contracts['staking']}},\n",
    "    {'contract': 'lendingPool', 'method': 'setOICX', 'params':{'_address': contracts['oICX']}},\n",
    "    {'contract': 'lendingPool', 'method': 'setRewardManager','params': {'_address':contracts['rewardDistribution']}},\n",
    "    {'contract': 'lendingPool', 'method': 'setSICX','params': {'_address':contracts['sicx']}},\n",
    "    {'contract': 'lendingPool', 'method': 'setFeeSharingTxnLimit','params': {'_limit': 3}},\n",
    "    {'contract': 'lendingPool', 'method': 'setBridgeOtoken', 'params': {'_address': contracts['oUSDS']}},\n",
    "    {'contract': 'lendingPool', 'method': 'setOmmToken', 'params': {'_address': contracts['ommToken']}}\n",
    "]\n",
    "failed_methods = []\n",
    "for sett in settings_lendingPool:\n",
    "    print(f'\\n')\n",
    "    print(f'Calling {sett[\"method\"]}, with parameters {sett[\"params\"]} on the {sett[\"contract\"]} contract.')\n",
    "    transaction = CallTransactionBuilder()\\\n",
    "        .from_(deployer_wallet.get_address())\\\n",
    "        .to(contracts[sett['contract']])\\\n",
    "        .value(0)\\\n",
    "        .step_limit(10000000)\\\n",
    "        .nid(NID)\\\n",
    "        .nonce(100)\\\n",
    "        .method(sett['method'])\\\n",
    "        .params(sett['params'])\\\n",
    "        .build()\n",
    "    signed_transaction = SignedTransaction(transaction, deployer_wallet)\n",
    "    tx_hash = icon_service.send_transaction(signed_transaction)\n",
    "    print(get_tx_result(tx_hash)['status'])\n",
    "    if get_tx_result(tx_hash)['status'] != 1:\n",
    "        failed_methods.append(sett[\"method\"])\n",
    "print(failed_methods)"
   ]
  },
  {
   "cell_type": "code",
   "execution_count": null,
   "metadata": {},
   "outputs": [],
   "source": [
    "settings_feeProvider = [\n",
    "    {'contract': 'feeProvider', 'method': 'setLoanOriginationFeePercentage', 'params':{'_percentage': 1*10**15}},\n",
    "    \n",
    "]\n",
    "for sett in settings_feeProvider:\n",
    "    print(f'\\n')\n",
    "    print(f'Calling {sett[\"method\"]}, with parameters {sett[\"params\"]} on the {sett[\"contract\"]} contract.')\n",
    "    transaction = CallTransactionBuilder()\\\n",
    "        .from_(deployer_wallet.get_address())\\\n",
    "        .to(contracts[sett['contract']])\\\n",
    "        .value(0)\\\n",
    "        .step_limit(10000000)\\\n",
    "        .nid(NID)\\\n",
    "        .nonce(100)\\\n",
    "        .method(sett['method'])\\\n",
    "        .params(sett['params'])\\\n",
    "        .build()\n",
    "    signed_transaction = SignedTransaction(transaction, deployer_wallet)\n",
    "    tx_hash = icon_service.send_transaction(signed_transaction)\n",
    "    \n",
    "    print(get_tx_result(tx_hash))"
   ]
  },
  {
   "cell_type": "code",
   "execution_count": null,
   "metadata": {
    "tags": []
   },
   "outputs": [],
   "source": [
    "if usd == \"usds\":\n",
    "    symbol = \"USDS\"\n",
    "elif usd == \"usdb\":\n",
    "    symbol = \"USDB\"\n",
    "settings_lendinPoolDataProvider=[\n",
    "    {'contract': 'lendingPoolDataProvider', 'method': 'setSymbol', 'params':{'_reserve': contracts[usd],'_sym':symbol}},\n",
    "    {'contract': 'lendingPoolDataProvider', 'method': 'setSymbol', 'params':{'_reserve': contracts['sicx'],'_sym':\"ICX\"}},\n",
    "    {'contract': 'lendingPoolDataProvider', 'method': 'setSymbol', 'params':{'_reserve': contracts['iusdc'],'_sym':\"USDC\"}},\n",
    "    {'contract': 'lendingPoolDataProvider', 'method': 'setLendingPoolCore', 'params':{'_address': contracts['lendingPoolCore']}},\n",
    "    {'contract': 'lendingPoolDataProvider', 'method': 'setPriceOracle', 'params':{'_address': contracts['priceOracle']}},\n",
    "    {'contract': 'lendingPoolDataProvider', 'method': 'setLendingPool', 'params':{'_address': contracts['lendingPool']}},\n",
    "    {'contract': 'lendingPoolDataProvider', 'method': 'setLiquidationManager', 'params':{'_address': contracts['liquidationManager']}},\n",
    "    {'contract': 'lendingPoolDataProvider', 'method': 'setStaking', 'params':{'_address': contracts['staking']}},\n",
    "    {'contract': 'lendingPoolDataProvider', 'method': 'setFeeProvider', 'params':{'_address': contracts['feeProvider']}}\n",
    "]\n",
    "failed_methods = []\n",
    "for sett in settings_lendinPoolDataProvider:\n",
    "    print(f'\\n')\n",
    "    print(f'Calling {sett[\"method\"]}, with parameters {sett[\"params\"]} on the {sett[\"contract\"]} contract.')\n",
    "    transaction = CallTransactionBuilder()\\\n",
    "        .from_(deployer_wallet.get_address())\\\n",
    "        .to(contracts[sett['contract']])\\\n",
    "        .value(0)\\\n",
    "        .step_limit(10000000)\\\n",
    "        .nid(NID)\\\n",
    "        .nonce(100)\\\n",
    "        .method(sett['method'])\\\n",
    "        .params(sett['params'])\\\n",
    "        .build()\n",
    "    signed_transaction = SignedTransaction(transaction, deployer_wallet)\n",
    "    tx_hash = icon_service.send_transaction(signed_transaction)\n",
    "    tx_hash\n",
    "    status = get_tx_result(tx_hash)['status']\n",
    "    print(status)\n",
    "    if status != 1:\n",
    "        failed_methods.append(sett['method'])\n",
    "print(failed_methods)"
   ]
  },
  {
   "cell_type": "code",
   "execution_count": null,
   "metadata": {
    "tags": []
   },
   "outputs": [],
   "source": [
    "settings_oToken =[\n",
    "    {'contract': 'oUSDS', 'method': 'setLendingPoolCore', 'params':{'_address':contracts['lendingPoolCore']}},\n",
    "    {'contract': 'oUSDS', 'method': 'setReserve', 'params':{'_address':contracts[usd]}},\n",
    "    {'contract': 'oUSDS', 'method': 'setLendingPoolDataProvider', 'params':{'_address':contracts['lendingPoolDataProvider']}},\n",
    "    {'contract': 'oUSDS', 'method': 'setLendingPool', 'params':{'_address':contracts['lendingPool']}},\n",
    "    {'contract': 'oUSDS', 'method': 'setLiquidation', 'params':{'_address':contracts['liquidationManager']}},\n",
    "    {'contract': 'oUSDS', 'method': 'setDistributionManager', 'params':{'_address':contracts['rewardDistribution']}},\n",
    "]\n",
    "failed_methods = []\n",
    "for sett in settings_oToken:\n",
    "    print(f'\\n')\n",
    "    print(f'Calling {sett[\"method\"]}, with parameters {sett[\"params\"]} on the {sett[\"contract\"]} contract.')\n",
    "    transaction = CallTransactionBuilder()\\\n",
    "        .from_(deployer_wallet.get_address())\\\n",
    "        .to(contracts[sett['contract']])\\\n",
    "        .value(0)\\\n",
    "        .step_limit(10000000)\\\n",
    "        .nid(NID)\\\n",
    "        .nonce(100)\\\n",
    "        .method(sett['method'])\\\n",
    "        .params(sett['params'])\\\n",
    "        .build()\n",
    "    signed_transaction = SignedTransaction(transaction, deployer_wallet)\n",
    "    tx_hash = icon_service.send_transaction(signed_transaction)\n",
    "    tx_hash\n",
    "    status = get_tx_result(tx_hash)['status']\n",
    "    print(status)\n",
    "    if status != 1:\n",
    "        failed_methods.append(sett['method'])\n",
    "print(failed_methods)"
   ]
  },
  {
   "cell_type": "code",
   "execution_count": null,
   "metadata": {
    "tags": []
   },
   "outputs": [],
   "source": [
    "setting_priceOracle =[\n",
    "    {'contract': 'priceOracle', 'method': 'set_reference_data', 'params':{'_base':'USDb','_quote':'USD','_rate':1*10**18}},\n",
    "    {'contract': 'priceOracle', 'method': 'set_reference_data', 'params':{'_base':'ICX','_quote':'USD','_rate':10*10**17}},\n",
    "    {'contract': 'priceOracle', 'method': 'set_reference_data', 'params':{'_base':'IUSDC','_quote':'USD','_rate':10*10**17}}\n",
    "]\n",
    "failed_methods = []\n",
    "for sett in setting_priceOracle:\n",
    "    print(f'\\n')\n",
    "    print(f'Calling {sett[\"method\"]}, with parameters {sett[\"params\"]} on the {sett[\"contract\"]} contract.')\n",
    "    transaction = CallTransactionBuilder()\\\n",
    "        .from_(deployer_wallet.get_address())\\\n",
    "        .to(contracts[sett['contract']])\\\n",
    "        .value(0)\\\n",
    "        .step_limit(10000000)\\\n",
    "        .nid(NID)\\\n",
    "        .nonce(100)\\\n",
    "        .method(sett['method'])\\\n",
    "        .params(sett['params'])\\\n",
    "        .build()\n",
    "    signed_transaction = SignedTransaction(transaction, deployer_wallet)\n",
    "    tx_hash = icon_service.send_transaction(signed_transaction)\n",
    "    tx_hash\n",
    "    status = get_tx_result(tx_hash)['status']\n",
    "    print(status)\n",
    "    if status != 1:\n",
    "        failed_methods.append(sett['method'])\n",
    "print(failed_methods)"
   ]
  },
  {
   "cell_type": "code",
   "execution_count": null,
   "metadata": {
    "tags": []
   },
   "outputs": [],
   "source": [
    "setting_addressProvider =[  \n",
    "    {'contract': 'addressProvider', 'method': 'setLendingPool', 'params':{'_address':contracts['lendingPool']}},\n",
    "    {'contract': 'addressProvider', 'method': 'setLendingPoolDataProvider', 'params':{'_address':contracts['lendingPoolDataProvider']}},\n",
    "    {'contract': 'addressProvider', 'method': 'setUSDs', 'params':{'_address':contracts[usd]}},\n",
    "    {'contract': 'addressProvider', 'method': 'setoUSDs', 'params':{'_address':contracts['oUSDS']}},\n",
    "    {'contract': 'addressProvider', 'method': 'setsICX', 'params':{'_address':contracts['sicx']}},\n",
    "    {'contract': 'addressProvider', 'method': 'setoICX', 'params':{'_address':contracts['oICX']}},\n",
    "    {'contract': 'addressProvider', 'method': 'setStaking', 'params':{'_address':contracts['staking']}},\n",
    "    {'contract': 'addressProvider', 'method': 'setIUSDC', 'params':{'_address':contracts['iusdc']}},\n",
    "    {'contract': 'addressProvider', 'method': 'setoIUSDC', 'params':{'_address':contracts['oIUSDC']}},\n",
    "    {'contract': 'addressProvider', 'method': 'setOmmToken', 'params':{'_address':contracts['ommToken']}},\n",
    "    {'contract': 'addressProvider', 'method': 'setDelegation', 'params':{'_address':contracts['delegation']}},\n",
    "    {'contract': 'addressProvider', 'method': 'setRewards', 'params':{'_address':contracts['rewardDistribution']}},\n",
    "    {'contract': 'addressProvider', 'method': 'setdUSDs', 'params':{'_address':contracts['dUSDS']}},\n",
    "    {'contract': 'addressProvider', 'method': 'setdIUSDC', 'params':{'_address':contracts['dIUSDC']}},\n",
    "    {'contract': 'addressProvider', 'method': 'setdICX', 'params':{'_address':contracts['dICX']}}\n",
    "]\n",
    "\n",
    "failed_methods = []\n",
    "\n",
    "for sett in setting_addressProvider:\n",
    "    print(f'\\n')\n",
    "    print(f'Calling {sett[\"method\"]}, with parameters {sett[\"params\"]} on the {sett[\"contract\"]} contract.')\n",
    "    transaction = CallTransactionBuilder()\\\n",
    "        .from_(deployer_wallet.get_address())\\\n",
    "        .to(contracts[sett['contract']])\\\n",
    "        .value(0)\\\n",
    "        .step_limit(10000000)\\\n",
    "        .nid(NID)\\\n",
    "        .nonce(100)\\\n",
    "        .method(sett['method'])\\\n",
    "        .params(sett['params'])\\\n",
    "        .build()\n",
    "    signed_transaction = SignedTransaction(transaction, deployer_wallet)\n",
    "    tx_hash = icon_service.send_transaction(signed_transaction)\n",
    "    tx_hash\n",
    "    status = get_tx_result(tx_hash)['status']\n",
    "    print(status)\n",
    "    if status != 1:\n",
    "        failed_methods.append(sett['method'])\n",
    "print(failed_methods)"
   ]
  },
  {
   "cell_type": "code",
   "execution_count": null,
   "metadata": {
    "tags": []
   },
   "outputs": [],
   "source": [
    "settings_oicx = [\n",
    "    {'contract': 'oICX', 'method': 'setLendingPoolCore', 'params':{'_address':contracts['lendingPoolCore']}},\n",
    "    {'contract': 'oICX', 'method': 'setReserve', 'params':{'_address':contracts['sicx']}},\n",
    "    {'contract': 'oICX', 'method': 'setLendingPoolDataProvider', 'params':{'_address':contracts['lendingPoolDataProvider']}},\n",
    "    {'contract': 'oICX', 'method': 'setLendingPool', 'params':{'_address':contracts['lendingPool']}},\n",
    "    {'contract': 'oICX', 'method': 'setLiquidation', 'params':{'_address':contracts['liquidationManager']}},\n",
    "    {'contract': 'oICX', 'method': 'setDistributionManager', 'params':{'_address':contracts['rewardDistribution']}},\n",
    "]\n",
    "\n",
    "failed_methods = []\n",
    "\n",
    "for sett in settings_oicx:\n",
    "    print(f'\\n')\n",
    "    print(f'Calling {sett[\"method\"]}, with parameters {sett[\"params\"]} on the {sett[\"contract\"]} contract.')\n",
    "    transaction = CallTransactionBuilder()\\\n",
    "        .from_(deployer_wallet.get_address())\\\n",
    "        .to(contracts[sett['contract']])\\\n",
    "        .value(0)\\\n",
    "        .step_limit(10000000)\\\n",
    "        .nid(NID)\\\n",
    "        .nonce(100)\\\n",
    "        .method(sett['method'])\\\n",
    "        .params(sett['params'])\\\n",
    "        .build()\n",
    "    signed_transaction = SignedTransaction(transaction, deployer_wallet)\n",
    "    tx_hash = icon_service.send_transaction(signed_transaction)\n",
    "    tx_hash\n",
    "    status = get_tx_result(tx_hash)['status']\n",
    "    print(status)\n",
    "    if status != 1:\n",
    "        failed_methods.append(sett['method'])\n",
    "print(failed_methods)"
   ]
  },
  {
   "cell_type": "code",
   "execution_count": null,
   "metadata": {
    "tags": []
   },
   "outputs": [],
   "source": [
    "settings_oiusdc = [ \n",
    "    {'contract': 'oIUSDC', 'method': 'setLendingPoolCore', 'params':{'_address':contracts['lendingPoolCore']}},\n",
    "    {'contract': 'oIUSDC', 'method': 'setReserve', 'params':{'_address':contracts['iusdc']}},\n",
    "    {'contract': 'oIUSDC', 'method': 'setLendingPoolDataProvider', 'params':{'_address':contracts['lendingPoolDataProvider']}},\n",
    "    {'contract': 'oIUSDC', 'method': 'setLendingPool', 'params':{'_address':contracts['lendingPool']}},\n",
    "    {'contract': 'oIUSDC', 'method': 'setLiquidation', 'params':{'_address':contracts['liquidationManager']}},    \n",
    "    {'contract': 'oIUSDC', 'method': 'setDistributionManager', 'params':{'_address':contracts['rewardDistribution']}}\n",
    "]\n",
    "failed_methods = []\n",
    "for sett in settings_oiusdc:\n",
    "    print(f'\\n')\n",
    "    print(f'Calling {sett[\"method\"]}, with parameters {sett[\"params\"]} on the {sett[\"contract\"]} contract.')\n",
    "    transaction = CallTransactionBuilder()\\\n",
    "        .from_(deployer_wallet.get_address())\\\n",
    "        .to(contracts[sett['contract']])\\\n",
    "        .value(0)\\\n",
    "        .step_limit(10000000)\\\n",
    "        .nid(NID)\\\n",
    "        .nonce(100)\\\n",
    "        .method(sett['method'])\\\n",
    "        .params(sett['params'])\\\n",
    "        .build()\n",
    "    signed_transaction = SignedTransaction(transaction, deployer_wallet)\n",
    "    tx_hash = icon_service.send_transaction(signed_transaction)\n",
    "    tx_hash\n",
    "    status = get_tx_result(tx_hash)['status']\n",
    "    print(status)\n",
    "    if status != 1:\n",
    "        failed_methods.append(sett['method'])\n",
    "print(failed_methods)"
   ]
  },
  {
   "cell_type": "code",
   "execution_count": null,
   "metadata": {
    "tags": []
   },
   "outputs": [],
   "source": [
    "pprint(contracts)"
   ]
  },
  {
   "cell_type": "code",
   "execution_count": null,
   "metadata": {
    "tags": []
   },
   "outputs": [],
   "source": [
    "# feeProvider is daoFund for now\n",
    "settings_liquidationManager =  [\n",
    "    {'contract': 'liquidationManager', 'method': 'setLendingPoolDataProvider', 'params': {'_address':contracts['lendingPoolDataProvider']}},\n",
    "    {'contract': 'liquidationManager', 'method': 'setLendingPoolCore', 'params': {'_address':contracts['lendingPoolCore']}},\n",
    "    {'contract': 'liquidationManager', 'method': 'setPriceOracle','params': {'_address':contracts['priceOracle']}},\n",
    "    {'contract': 'liquidationManager', 'method': 'setFeeProvider','params': {'_address':contracts['feeProvider']}},    \n",
    "    {'contract': 'liquidationManager', 'method': 'setStaking','params': {'_address':contracts['staking']}}\n",
    "]\n",
    "failed_methods = []\n",
    "for sett in settings_liquidationManager:\n",
    "    print(f'\\n')\n",
    "    print(f'Calling {sett[\"method\"]}, with parameters {sett[\"params\"]} on the {sett[\"contract\"]} contract.')\n",
    "    transaction = CallTransactionBuilder()\\\n",
    "        .from_(deployer_wallet.get_address())\\\n",
    "        .to(contracts[sett['contract']])\\\n",
    "        .value(0)\\\n",
    "        .step_limit(10000000)\\\n",
    "        .nid(NID)\\\n",
    "        .nonce(100)\\\n",
    "        .method(sett['method'])\\\n",
    "        .params(sett['params'])\\\n",
    "        .build()\n",
    "    signed_transaction = SignedTransaction(transaction, deployer_wallet)\n",
    "    tx_hash = icon_service.send_transaction(signed_transaction)\n",
    "    tx_hash\n",
    "    status = get_tx_result(tx_hash)['status']\n",
    "    print(status)\n",
    "    if status != 1:\n",
    "        failed_methods.append(sett['method'])\n",
    "print(failed_methods)"
   ]
  },
  {
   "cell_type": "code",
   "execution_count": null,
   "metadata": {
    "tags": []
   },
   "outputs": [],
   "source": [
    "settings_delegation =[\n",
    "    {'contract': 'delegation', 'method': 'setLendingPoolCore','params': {'_address':contracts['lendingPoolCore']}},\n",
    "    {'contract': 'delegation', 'method': 'addAllContributors','params': {'_preps':PREP_LIST}},\n",
    "    {'contract':  'delegation', 'method': 'setOmmToken','params': {'_address':contracts['ommToken']}},    \n",
    "#     {'contract':  'delegation', 'method': 'setVoteThreshold','params': {'_vote':    }} # set on on_install()\n",
    "]\n",
    "failed_methods = []\n",
    "for sett in settings_delegation:\n",
    "    print(f'\\n')\n",
    "    print(f'Calling {sett[\"method\"]}, with parameters {sett[\"params\"]} on the {sett[\"contract\"]} contract.')\n",
    "    transaction = CallTransactionBuilder()\\\n",
    "        .from_(deployer_wallet.get_address())\\\n",
    "        .to(contracts[sett['contract']])\\\n",
    "        .value(0)\\\n",
    "        .step_limit(10000000)\\\n",
    "        .nid(NID)\\\n",
    "        .nonce(100)\\\n",
    "        .method(sett['method'])\\\n",
    "        .params(sett['params'])\\\n",
    "        .build()\n",
    "    signed_transaction = SignedTransaction(transaction, deployer_wallet)\n",
    "    tx_hash = icon_service.send_transaction(signed_transaction)\n",
    "    tx_hash\n",
    "    status = get_tx_result(tx_hash)['status']\n",
    "    print(status)\n",
    "    if status != 1:\n",
    "        failed_methods.append(sett['method'])\n",
    "print(failed_methods)"
   ]
  },
  {
   "cell_type": "code",
   "execution_count": null,
   "metadata": {
    "tags": []
   },
   "outputs": [],
   "source": [
    "settings_lendingPoolCore =[ \n",
    "    {'contract': 'lendingPoolCore', 'method': 'setLendingPool','params': {'_address':contracts['lendingPool']}},\n",
    "    {'contract': 'lendingPoolCore', 'method': 'setFeeProvider','params': {'_address':contracts['feeProvider']}},\n",
    "    {'contract': 'lendingPoolCore', 'method': 'setLiquidationManager','params': {'_address':contracts['liquidationManager']}},\n",
    "    {'contract': 'lendingPoolCore', 'method': 'setDelegation','params': {'_address':contracts['delegation']}},\n",
    "    {'contract': 'lendingPoolCore', 'method': 'setStaking','params': {'_address':contracts['staking']}},\n",
    "    {'contract': 'lendingPoolCore', 'method': 'setGovernance','params': {'_address':contracts['governance']}},\n",
    "    {'contract': 'lendingPoolCore', 'method': 'set_id','params': {'_value':'1'}}\n",
    "]\n",
    "failed_methods = []\n",
    "for sett in settings_lendingPoolCore:\n",
    "    print(f'\\n')\n",
    "    print(f'Calling {sett[\"method\"]}, with parameters {sett[\"params\"]} on the {sett[\"contract\"]} contract.')\n",
    "    transaction = CallTransactionBuilder()\\\n",
    "        .from_(deployer_wallet.get_address())\\\n",
    "        .to(contracts[sett['contract']])\\\n",
    "        .value(0)\\\n",
    "        .step_limit(10000000)\\\n",
    "        .nid(NID)\\\n",
    "        .nonce(100)\\\n",
    "        .method(sett['method'])\\\n",
    "        .params(sett['params'])\\\n",
    "        .build()\n",
    "    signed_transaction = SignedTransaction(transaction, deployer_wallet)\n",
    "    tx_hash = icon_service.send_transaction(signed_transaction)\n",
    "    status = get_tx_result(tx_hash)['status']\n",
    "    print(status)\n",
    "    if status != 1:\n",
    "        failed_methods.append(sett['method'])\n",
    "print(failed_methods)"
   ]
  },
  {
   "cell_type": "code",
   "execution_count": null,
   "metadata": {
    "tags": []
   },
   "outputs": [],
   "source": [
    "settings_priceOracle =[\n",
    "    {'contract':  'priceOracle', 'method': 'setBandOracle','params': {'_address':contracts['bandOracle']}},\n",
    "    {'contract':  'priceOracle', 'method': 'toggleOraclePriceBool','params':{}}\n",
    "]\n",
    "for sett in settings_priceOracle:\n",
    "    print(f'\\n')\n",
    "    print(f'Calling {sett[\"method\"]}, with parameters {sett[\"params\"]} on the {sett[\"contract\"]} contract.')\n",
    "    transaction = CallTransactionBuilder()\\\n",
    "        .from_(deployer_wallet.get_address())\\\n",
    "        .to(contracts[sett['contract']])\\\n",
    "        .value(0)\\\n",
    "        .step_limit(10000000)\\\n",
    "        .nid(NID)\\\n",
    "        .nonce(100)\\\n",
    "        .method(sett['method'])\\\n",
    "        .params(sett['params'])\\\n",
    "        .build()\n",
    "    signed_transaction = SignedTransaction(transaction, deployer_wallet)\n",
    "    tx_hash = icon_service.send_transaction(signed_transaction)\n",
    "    tx_hash\n",
    "    print(get_tx_result(tx_hash)['status'])"
   ]
  },
  {
   "cell_type": "code",
   "execution_count": null,
   "metadata": {
    "tags": []
   },
   "outputs": [],
   "source": [
    "pprint(contracts)"
   ]
  },
  {
   "cell_type": "code",
   "execution_count": null,
   "metadata": {
    "tags": []
   },
   "outputs": [],
   "source": [
    "# SNAPSHOT CONTRACT NOT USED\n",
    "# settings_snapshot =[\n",
    "#     {'contract': 'snapshot', 'method': 'setAdmin','params': {'_address':contracts['lendingPool']}},\n",
    "#     {'contract': 'snapshot', 'method': 'setGovernance','params': {'_address':contracts['governance']}}\n",
    "# ]\n",
    "# for sett in settings_snapshot:\n",
    "#     print(f'\\n')\n",
    "#     print(f'Calling {sett[\"method\"]}, with parameters {sett[\"params\"]} on the {sett[\"contract\"]} contract.')\n",
    "#     transaction = CallTransactionBuilder()\\\n",
    "#         .from_(deployer_wallet.get_address())\\\n",
    "#         .to(contracts[sett['contract']])\\\n",
    "#         .value(0)\\\n",
    "#         .step_limit(10000000)\\\n",
    "#         .nid(NID)\\\n",
    "#         .nonce(100)\\\n",
    "#         .method(sett['method'])\\\n",
    "#         .params(sett['params'])\\\n",
    "#         .build()\n",
    "#     signed_transaction = SignedTransaction(transaction, deployer_wallet)\n",
    "#     tx_hash = icon_service.send_transaction(signed_transaction)\n",
    "#     tx_hash\n",
    "#     print(get_tx_result(tx_hash)['status'])"
   ]
  },
  {
   "cell_type": "code",
   "execution_count": null,
   "metadata": {
    "tags": []
   },
   "outputs": [],
   "source": [
    "# def setDistPercentage(self, _deposit: int, _borrow: int, _ommICX: int, _ommUSDb: int, _worker: int, _daoFund: int):\n",
    "dist_params = { \n",
    "    \"_ommICX\": 1*10**17, \n",
    "    \"_dex\": 1*10**17, \n",
    "    \"_worker\": 2*10**17, \n",
    "    \"_daoFund\": 2*10**17}\n",
    "setting_reward_percentage =[{'contract':'rewardDistribution','method':'setDistPercentage','params':dist_params}]\n",
    "for sett in setting_reward_percentage:\n",
    "    print(f'\\n')\n",
    "    print(f'Calling {sett[\"method\"]}, with parameters {sett[\"params\"]} on the {sett[\"contract\"]} contract.')\n",
    "    transaction = CallTransactionBuilder()\\\n",
    "        .from_(deployer_wallet.get_address())\\\n",
    "        .to(contracts[sett['contract']])\\\n",
    "        .value(0)\\\n",
    "        .step_limit(10000000)\\\n",
    "        .nid(NID)\\\n",
    "        .nonce(100)\\\n",
    "        .method(sett['method'])\\\n",
    "        .params(sett['params'])\\\n",
    "        .build()\n",
    "    signed_transaction = SignedTransaction(transaction, deployer_wallet)\n",
    "    tx_hash = icon_service.send_transaction(signed_transaction)\n",
    "    tx_hash\n",
    "    print(get_tx_result(tx_hash))\n"
   ]
  },
  {
   "cell_type": "code",
   "execution_count": null,
   "metadata": {
    "tags": []
   },
   "outputs": [],
   "source": [
    "settings_rewards = [\n",
    "            {'contract': 'rewardDistribution', 'method': 'setLendingPoolDataProvider',\n",
    "             'params': {'_address': contracts['lendingPoolDataProvider']}},\n",
    "            {'contract': 'rewardDistribution', 'method': 'setOmm',\n",
    "             'params': {'_address': contracts['ommToken']}},\n",
    "            {'contract': 'rewardDistribution', 'method': 'configureAssetEmission',\n",
    "             'params': {\n",
    "                \"_assetConfig\": \n",
    "                    [\n",
    "                        {\"asset\": contracts[\"oUSDS\"], \"emissionPerSecond\":f\"{OUSDS_EMISSION}\",'totalBalance': \"0\" },\n",
    "                        {\"asset\": contracts[\"dUSDS\"], \"emissionPerSecond\":f\"{DUSDS_EMISSION}\",'totalBalance': \"0\" },\n",
    "                        {\"asset\": contracts[\"dICX\"], \"emissionPerSecond\":f\"{DICX_EMISSION}\",'totalBalance': \"0\" },\n",
    "                        {\"asset\": contracts[\"oICX\"], \"emissionPerSecond\":f\"{OICX_EMISSION}\",'totalBalance': \"0\"}, \n",
    "                        {\"asset\": contracts[\"oIUSDC\"], \"emissionPerSecond\":f\"{OIUSDC_EMISSION}\",'totalBalance': \"0\" },\n",
    "                        {\"asset\": contracts[\"dIUSDC\"], \"emissionPerSecond\":f\"{DIUSDC_EMISSION}\",'totalBalance': \"0\"} \n",
    "                    ]             \n",
    "                }\n",
    "            },\n",
    "            {'contract': 'rewardDistribution', 'method': 'setWorkerToken',\n",
    "             'params': {'_address': contracts['worker_token']}},\n",
    "            {'contract': 'rewardDistribution', 'method': 'setAdmin',\n",
    "             'params': {'_address': contracts['governance']}},\n",
    "            {'contract': 'rewardDistribution', 'method': 'setDaoFund',\n",
    "             'params': {'_address': contracts['daoFund']}},\n",
    "            {'contract': 'rewardDistribution', 'method': 'setLendingPool',\n",
    "             'params': {'_address': contracts['lendingPool']}},\n",
    "            {'contract': 'rewardDistribution', 'method': 'setLpToken',\n",
    "             'params': {'_address': contracts['dex']}},\n",
    "            {'contract': 'rewardDistribution', 'method': 'setGovernance',\n",
    "             'params': {'_address': contracts['governance']}}\n",
    "]\n",
    "\n",
    "failed_methods = []\n",
    "\n",
    "for sett in settings_rewards:\n",
    "    print(f'\\n')\n",
    "    print(f'Calling {sett[\"method\"]}, with parameters {sett[\"params\"]} on the {sett[\"contract\"]} contract.')\n",
    "    transaction = CallTransactionBuilder()\\\n",
    "        .from_(deployer_wallet.get_address())\\\n",
    "        .to(contracts[sett['contract']])\\\n",
    "        .value(0)\\\n",
    "        .step_limit(10000000)\\\n",
    "        .nid(NID)\\\n",
    "        .nonce(100)\\\n",
    "        .method(sett['method'])\\\n",
    "        .params(sett['params'])\\\n",
    "        .build()\n",
    "    signed_transaction = SignedTransaction(transaction, deployer_wallet)\n",
    "    tx_hash = icon_service.send_transaction(signed_transaction)\n",
    "    tx_hash\n",
    "    status = get_tx_result(tx_hash)['status']\n",
    "    print(status)\n",
    "    if status != 1:\n",
    "        failed_methods.append(sett['method'])\n",
    "print(failed_methods)"
   ]
  },
  {
   "cell_type": "markdown",
   "metadata": {},
   "source": [
    "## Timestamp to be added "
   ]
  },
  {
   "cell_type": "code",
   "execution_count": null,
   "metadata": {
    "tags": []
   },
   "outputs": [],
   "source": [
    "settings_governance =[\n",
    "    {'contract': 'governance', 'method': 'setRewards','params': {'_address':contracts['rewardDistribution']}},\n",
    "    {'contract': 'governance', 'method': 'setStartTimestamp','params': {'_timestamp': TIMESTAMP}}, # REWARDS ma we need setStartTimestamp\n",
    "    {'contract': 'governance', 'method': 'setLendingPoolCore', 'params':{'_address':contracts['lendingPoolCore']}}\n",
    "]\n",
    "for sett in settings_governance:\n",
    "    print(f'\\n')\n",
    "    print(f'Calling {sett[\"method\"]}, with parameters {sett[\"params\"]} on the {sett[\"contract\"]} contract.')\n",
    "    transaction = CallTransactionBuilder()\\\n",
    "        .from_(deployer_wallet.get_address())\\\n",
    "        .to(contracts[sett['contract']])\\\n",
    "        .value(0)\\\n",
    "        .step_limit(10000000)\\\n",
    "        .nid(NID)\\\n",
    "        .nonce(100)\\\n",
    "        .method(sett['method'])\\\n",
    "        .params(sett['params'])\\\n",
    "        .build()\n",
    "    signed_transaction = SignedTransaction(transaction, deployer_wallet)\n",
    "    tx_hash = icon_service.send_transaction(signed_transaction)\n",
    "    tx_hash\n",
    "    print(get_tx_result(tx_hash))"
   ]
  },
  {
   "cell_type": "markdown",
   "metadata": {},
   "source": [
    "## Initialize reserve in lending pool via governance"
   ]
  },
  {
   "cell_type": "code",
   "execution_count": null,
   "metadata": {
    "tags": []
   },
   "outputs": [],
   "source": [
    "# was in lending pool core, not in governance\n",
    "settings_reserves = [{'contract': 'governance', \n",
    "                        'method': 'setReserveConstants', \n",
    "                        'params' :{\"_constants\": [{\"reserve\":contracts[usd],\n",
    "                                                   \"optimalUtilizationRate\":f\"8{'0'*17}\",\n",
    "                                                   \"baseBorrowRate\":f\"2{'0'*16}\",\n",
    "                                                   \"slopeRate1\":f\"6{'0'*16}\",\n",
    "                                                   \"slopeRate2\":f\"1{'0'*18}\"} ]}},\n",
    "                     {'contract': 'governance', \n",
    "                        'method': 'setReserveConstants', \n",
    "                        'params' :{\"_constants\": [{\"reserve\":contracts['sicx'],\n",
    "                                                    \"optimalUtilizationRate\":f\"8{'0'*17}\",\n",
    "                                                    \"baseBorrowRate\":f\"0{'0'*17}\",\n",
    "                                                    \"slopeRate1\":f\"8{'0'*16}\",\n",
    "                                                    \"slopeRate2\":f\"2{'0'*18}\"} ]}},\n",
    "                    {'contract': 'governance', \n",
    "                        'method': 'setReserveConstants', \n",
    "                        'params' :{\"_constants\": [{\"reserve\":contracts['iusdc'],\n",
    "                                                    \"optimalUtilizationRate\":f\"8{'0'*17}\",\n",
    "                                                   \"baseBorrowRate\":f\"2{'0'*16}\",\n",
    "                                                   \"slopeRate1\":f\"6{'0'*16}\",\n",
    "                                                   \"slopeRate2\":f\"1{'0'*18}\"} ]}}\n",
    "                    ]\n",
    "\n",
    "failed_methods = []\n",
    "\n",
    "for sett in settings_reserves:\n",
    "    print(f'\\n')\n",
    "    print(f'Calling {sett[\"method\"]}, with parameters {sett[\"params\"]} on the {sett[\"contract\"]} contract.')\n",
    "    transaction = CallTransactionBuilder()\\\n",
    "        .from_(deployer_wallet.get_address())\\\n",
    "        .to(contracts[sett['contract']])\\\n",
    "        .value(0)\\\n",
    "        .step_limit(10000000)\\\n",
    "        .nid(NID)\\\n",
    "        .nonce(100)\\\n",
    "        .method(sett['method'])\\\n",
    "        .params(sett['params'])\\\n",
    "        .build()\n",
    "    signed_transaction = SignedTransaction(transaction, deployer_wallet)\n",
    "    tx_hash = icon_service.send_transaction(signed_transaction)\n",
    "    tx_hash\n",
    "    status = get_tx_result(tx_hash)['status']\n",
    "    print(status)\n",
    "    if status != 1:\n",
    "        failed_methods.append(sett['method'])\n",
    "print(failed_methods)"
   ]
  },
  {
   "cell_type": "code",
   "execution_count": null,
   "metadata": {
    "tags": []
   },
   "outputs": [],
   "source": [
    "settings_ommToken =[\n",
    "    {'contract':  'ommToken', 'method': 'setAdmin','params': {'_admin':contracts['rewardDistribution']}},\n",
    "    {'contract':  'ommToken', 'method': 'setDelegation','params': {'_address':contracts['delegation']}},\n",
    "    {'contract':  'ommToken', 'method': 'setRewards','params': {'_address':contracts['rewardDistribution']}},\n",
    "    {'contract':  'ommToken', 'method': 'setMinimumStake','params': {'_min':10 * 10**18}},\n",
    "    {'contract':  'ommToken', 'method': 'setUnstakingPeriod','params': {'_time': 120}}\n",
    "]\n",
    "failed_methods = []\n",
    "for sett in settings_ommToken:\n",
    "    print(f'\\n')\n",
    "    print(f'Calling {sett[\"method\"]}, with parameters {sett[\"params\"]} on the {sett[\"contract\"]} contract.')\n",
    "    transaction = CallTransactionBuilder()\\\n",
    "        .from_(deployer_wallet.get_address())\\\n",
    "        .to(contracts[sett['contract']])\\\n",
    "        .value(0)\\\n",
    "        .step_limit(10000000)\\\n",
    "        .nid(NID)\\\n",
    "        .nonce(100)\\\n",
    "        .method(sett['method'])\\\n",
    "        .params(sett['params'])\\\n",
    "        .build()\n",
    "    signed_transaction = SignedTransaction(transaction, deployer_wallet)\n",
    "    tx_hash = icon_service.send_transaction(signed_transaction)\n",
    "    status = get_tx_result(tx_hash)['status']\n",
    "    print(status)\n",
    "    if status != 1:\n",
    "        failed_methods.append(sett['method'])\n",
    "print(failed_methods)"
   ]
  },
  {
   "cell_type": "markdown",
   "metadata": {},
   "source": [
    "## Configure ICX Debt Token"
   ]
  },
  {
   "cell_type": "code",
   "execution_count": null,
   "metadata": {},
   "outputs": [],
   "source": [
    "settings_dicx = [\n",
    "    {'contract': 'dICX', 'method': 'setLendingPoolCore', 'params':{'_address':contracts['lendingPoolCore']}},\n",
    "    {'contract': 'dICX', 'method': 'setReserve', 'params':{'_address':contracts['sicx']}},\n",
    "    {'contract': 'dICX', 'method': 'setLendingPoolDataProvider', 'params':{'_address':contracts['lendingPoolDataProvider']}},\n",
    "    {'contract': 'dICX', 'method': 'setLendingPool', 'params':{'_address':contracts['lendingPool']}},\n",
    "    {'contract': 'dICX', 'method': 'setLiquidation', 'params':{'_address':contracts['liquidationManager']}},\n",
    "    {'contract': 'dICX', 'method': 'setDistributionManager', 'params':{'_address':contracts['rewardDistribution']}},\n",
    "]\n",
    "\n",
    "failed_methods = []\n",
    "for sett in settings_dicx:\n",
    "    print(f'\\n')\n",
    "    print(f'Calling {sett[\"method\"]}, with parameters {sett[\"params\"]} on the {sett[\"contract\"]} contract.')\n",
    "    transaction = CallTransactionBuilder()\\\n",
    "        .from_(deployer_wallet.get_address())\\\n",
    "        .to(contracts[sett['contract']])\\\n",
    "        .value(0)\\\n",
    "        .step_limit(10000000)\\\n",
    "        .nid(NID)\\\n",
    "        .nonce(100)\\\n",
    "        .method(sett['method'])\\\n",
    "        .params(sett['params'])\\\n",
    "        .build()\n",
    "    signed_transaction = SignedTransaction(transaction, deployer_wallet)\n",
    "    tx_hash = icon_service.send_transaction(signed_transaction)\n",
    "    tx_hash\n",
    "    status = get_tx_result(tx_hash)['status']\n",
    "    print(status)\n",
    "    if status != 1:\n",
    "        failed_methods.append(sett['method'])\n",
    "print(failed_methods)"
   ]
  },
  {
   "cell_type": "markdown",
   "metadata": {},
   "source": [
    "## Configure USDS Debt Token"
   ]
  },
  {
   "cell_type": "code",
   "execution_count": null,
   "metadata": {},
   "outputs": [],
   "source": [
    "settings_dUSDS = [\n",
    "    {'contract': 'dUSDS', 'method': 'setLendingPoolCore', 'params':{'_address':contracts['lendingPoolCore']}},\n",
    "    {'contract': 'dUSDS', 'method': 'setReserve', 'params':{'_address':contracts[usd]}},\n",
    "    {'contract': 'dUSDS', 'method': 'setLendingPoolDataProvider', 'params':{'_address':contracts['lendingPoolDataProvider']}},\n",
    "    {'contract': 'dUSDS', 'method': 'setLendingPool', 'params':{'_address':contracts['lendingPool']}},\n",
    "    {'contract': 'dUSDS', 'method': 'setLiquidation', 'params':{'_address':contracts['liquidationManager']}},    \n",
    "    {'contract': 'dUSDS', 'method': 'setDistributionManager', 'params':{'_address':contracts['rewardDistribution']}},\n",
    "]\n",
    "failed_methods = []\n",
    "for sett in settings_dUSDS:\n",
    "    print(f'\\n')\n",
    "    print(f'Calling {sett[\"method\"]}, with parameters {sett[\"params\"]} on the {sett[\"contract\"]} contract.')\n",
    "    transaction = CallTransactionBuilder()\\\n",
    "        .from_(deployer_wallet.get_address())\\\n",
    "        .to(contracts[sett['contract']])\\\n",
    "        .value(0)\\\n",
    "        .step_limit(10000000)\\\n",
    "        .nid(NID)\\\n",
    "        .nonce(100)\\\n",
    "        .method(sett['method'])\\\n",
    "        .params(sett['params'])\\\n",
    "        .build()\n",
    "    signed_transaction = SignedTransaction(transaction, deployer_wallet)\n",
    "    tx_hash = icon_service.send_transaction(signed_transaction)\n",
    "    tx_hash\n",
    "    status = get_tx_result(tx_hash)['status']\n",
    "    print(status)\n",
    "    if status != 1:\n",
    "        failed_methods.append(sett['method'])\n",
    "print(failed_methods)"
   ]
  },
  {
   "cell_type": "markdown",
   "metadata": {},
   "source": [
    "## Configure IUSDC Debt Token"
   ]
  },
  {
   "cell_type": "code",
   "execution_count": null,
   "metadata": {},
   "outputs": [],
   "source": [
    "settings_diusdc =[\n",
    "    {'contract': 'dIUSDC', 'method': 'setLendingPoolCore', 'params':{'_address':contracts['lendingPoolCore']}},\n",
    "    {'contract': 'dIUSDC', 'method': 'setReserve', 'params':{'_address':contracts['iusdc']}},\n",
    "    {'contract': 'dIUSDC', 'method': 'setLendingPoolDataProvider', 'params':{'_address':contracts['lendingPoolDataProvider']}},\n",
    "    {'contract': 'dIUSDC', 'method': 'setLendingPool', 'params':{'_address':contracts['lendingPool']}},\n",
    "    {'contract': 'dIUSDC', 'method': 'setLiquidation', 'params':{'_address':contracts['liquidationManager']}},  \n",
    "    {'contract': 'dIUSDC', 'method': 'setDistributionManager', 'params':{'_address':contracts['rewardDistribution']}},\n",
    "]\n",
    "\n",
    "failed_methods = []\n",
    "\n",
    "for sett in settings_diusdc:\n",
    "    print(f'\\n')\n",
    "    print(f'Calling {sett[\"method\"]}, with parameters {sett[\"params\"]} on the {sett[\"contract\"]} contract.')\n",
    "    transaction = CallTransactionBuilder()\\\n",
    "        .from_(deployer_wallet.get_address())\\\n",
    "        .to(contracts[sett['contract']])\\\n",
    "        .value(0)\\\n",
    "        .step_limit(10000000)\\\n",
    "        .nid(NID)\\\n",
    "        .nonce(100)\\\n",
    "        .method(sett['method'])\\\n",
    "        .params(sett['params'])\\\n",
    "        .build()\n",
    "    signed_transaction = SignedTransaction(transaction, deployer_wallet)\n",
    "    tx_hash = icon_service.send_transaction(signed_transaction)\n",
    "    tx_hash\n",
    "    status = get_tx_result(tx_hash)['status']\n",
    "    print(status)\n",
    "    if status != 1:\n",
    "        failed_methods.append(sett['method'])\n",
    "print(failed_methods)\n",
    "    "
   ]
  },
  {
   "cell_type": "markdown",
   "metadata": {},
   "source": [
    "## Adding USDS reserve in LendingPoolCore via Governance\n",
    "\n"
   ]
  },
  {
   "cell_type": "code",
   "execution_count": null,
   "metadata": {
    "tags": []
   },
   "outputs": [],
   "source": [
    "# initially was in lending pool core, now governance controls it\n",
    "params ={\n",
    "    \"_reserve\": {\n",
    "        \"reserveAddress\":contracts[usd],\n",
    "        \"oTokenAddress\":contracts['oUSDS'],\n",
    "        \"dTokenAddress\": contracts['dUSDS'],\n",
    "        \"lastUpdateTimestamp\": \"0\",\n",
    "        \"liquidityRate\":\"0\",\n",
    "        \"borrowRate\":\"0\",\n",
    "        \"liquidityCumulativeIndex\":f\"1{'0'*18}\",\n",
    "        \"borrowCumulativeIndex\":f\"1{'0'*18}\",\n",
    "        \"baseLTVasCollateral\":\"500000000000000000\",\n",
    "        \"liquidationThreshold\":\"650000000000000000\",\n",
    "        \"liquidationBonus\":\"100000000000000000\",\n",
    "        \"decimals\":\"18\",\n",
    "        \"borrowingEnabled\": \"1\",\n",
    "        \"usageAsCollateralEnabled\":\"1\",\n",
    "        \"isFreezed\":\"0\",\n",
    "        \"isActive\":\"1\"\n",
    "    } \n",
    "}\n",
    "call_transaction = CallTransactionBuilder()\\\n",
    "    .from_(deployer_wallet.get_address())\\\n",
    "    .to(contracts['governance']) \\\n",
    "    .nid(NID) \\\n",
    "    .nonce(100) \\\n",
    "    .method(\"initializeReserve\")\\\n",
    "    .params(params)\\\n",
    "    .build()\n",
    "\n",
    "estimate_step = icon_service.estimate_step(call_transaction)\n",
    "step_limit = estimate_step + 100000\n",
    "# Returns the signed transaction object having a signature\n",
    "signed_transaction = SignedTransaction(call_transaction, deployer_wallet,step_limit)\n",
    "\n",
    "# Reads params to transfer to nodes\n",
    "# print(signed_transaction.signed_transaction_dict)\n",
    "\n",
    "# Sends the transaction\n",
    "tx_hash = icon_service.send_transaction(signed_transaction)\n",
    "\n",
    "get_tx_result(tx_hash)"
   ]
  },
  {
   "cell_type": "markdown",
   "metadata": {},
   "source": [
    "## Adding ICX reserve"
   ]
  },
  {
   "cell_type": "code",
   "execution_count": null,
   "metadata": {
    "tags": []
   },
   "outputs": [],
   "source": [
    "# initially was in lending pool core, now governance controls it\n",
    "params ={\n",
    "    \"_reserve\": {\n",
    "        \"reserveAddress\":contracts['sicx'],\n",
    "        \"oTokenAddress\":contracts['oICX'],\n",
    "        \"dTokenAddress\": contracts['dICX'],\n",
    "        \"lastUpdateTimestamp\": \"0\",\n",
    "        \"liquidityRate\":\"0\",\n",
    "        \"borrowRate\":\"0\",\n",
    "        \"liquidityCumulativeIndex\":f\"1{'0'*18}\",\n",
    "        \"borrowCumulativeIndex\":f\"1{'0'*18}\",\n",
    "        \"baseLTVasCollateral\":\"500000000000000000\",\n",
    "        \"liquidationThreshold\":\"650000000000000000\",\n",
    "        \"liquidationBonus\":\"100000000000000000\",\n",
    "        \"decimals\":\"18\",\n",
    "        \"borrowingEnabled\": \"1\",\n",
    "        \"usageAsCollateralEnabled\":\"1\",\n",
    "        \"isFreezed\":\"0\",\n",
    "        \"isActive\":\"1\"\n",
    "    } \n",
    "}\n",
    "call_transaction = CallTransactionBuilder()\\\n",
    "    .from_(deployer_wallet.get_address())\\\n",
    "    .to(contracts['governance']) \\\n",
    "    .nid(NID) \\\n",
    "    .nonce(100) \\\n",
    "    .method(\"initializeReserve\")\\\n",
    "    .params(params)\\\n",
    "    .build()\n",
    "\n",
    "estimate_step = icon_service.estimate_step(call_transaction)\n",
    "step_limit = estimate_step + 100000\n",
    "# Returns the signed transaction object having a signature\n",
    "signed_transaction = SignedTransaction(call_transaction, deployer_wallet,step_limit)\n",
    "\n",
    "# Reads params to transfer to nodes\n",
    "# print(signed_transaction.signed_transaction_dict)\n",
    "\n",
    "# Sends the transaction\n",
    "tx_hash = icon_service.send_transaction(signed_transaction)\n",
    "\n",
    "get_tx_result(tx_hash)"
   ]
  },
  {
   "cell_type": "markdown",
   "metadata": {},
   "source": [
    "## Adding IUSDC reserve"
   ]
  },
  {
   "cell_type": "code",
   "execution_count": null,
   "metadata": {
    "tags": []
   },
   "outputs": [],
   "source": [
    "# initially was in lending pool core, now governance controls it\n",
    "params ={\n",
    "    \"_reserve\": {\n",
    "        \"reserveAddress\":contracts['iusdc'],\n",
    "        \"oTokenAddress\":contracts['oIUSDC'],\n",
    "        \"dTokenAddress\": contracts['dIUSDC'],\n",
    "        \"lastUpdateTimestamp\": \"0\",\n",
    "        \"liquidityRate\":\"0\",\n",
    "        \"borrowRate\":\"0\",\n",
    "        \"liquidityCumulativeIndex\":f\"1{'0'*18}\",\n",
    "        \"borrowCumulativeIndex\":f\"1{'0'*18}\",\n",
    "        \"baseLTVasCollateral\":\"500000000000000000\",\n",
    "        \"liquidationThreshold\":\"650000000000000000\",\n",
    "        \"liquidationBonus\":\"100000000000000000\",\n",
    "        \"decimals\":\"6\",\n",
    "        \"borrowingEnabled\": \"1\",\n",
    "        \"usageAsCollateralEnabled\":\"1\",\n",
    "        \"isFreezed\":\"0\",\n",
    "        \"isActive\":\"1\"\n",
    "    } \n",
    "}\n",
    "\n",
    "call_transaction = CallTransactionBuilder()\\\n",
    "    .from_(deployer_wallet.get_address())\\\n",
    "    .to(contracts['governance']) \\\n",
    "    .nid(NID) \\\n",
    "    .nonce(100) \\\n",
    "    .method(\"initializeReserve\")\\\n",
    "    .params(params)\\\n",
    "    .build()\n",
    "\n",
    "estimate_step = icon_service.estimate_step(call_transaction)\n",
    "step_limit = estimate_step + 100000\n",
    "# Returns the signed transaction object having a signature\n",
    "signed_transaction = SignedTransaction(call_transaction, deployer_wallet,step_limit)\n",
    "\n",
    "# Reads params to transfer to nodes\n",
    "# print(signed_transaction.signed_transaction_dict)\n",
    "\n",
    "# Sends the transaction\n",
    "tx_hash = icon_service.send_transaction(signed_transaction)\n",
    "\n",
    "get_tx_result(tx_hash)"
   ]
  },
  {
   "cell_type": "markdown",
   "metadata": {},
   "source": [
    "## Testing deposit"
   ]
  },
  {
   "cell_type": "code",
   "execution_count": null,
   "metadata": {
    "tags": []
   },
   "outputs": [],
   "source": [
    "params = {\"_amount\": 5 * 10 ** 18}\n",
    "call_transaction = CallTransactionBuilder() \\\n",
    "    .from_(deployer_wallet.get_address()) \\\n",
    "    .to(contracts['lendingPool']) \\\n",
    "    .nid(3) \\\n",
    "    .step_limit(1000000000) \\\n",
    "    .nonce(100) \\\n",
    "    .value(5 * 10 ** 18) \\\n",
    "    .method(\"deposit\") \\\n",
    "    .params(params) \\\n",
    "    .build() \n",
    "\n",
    "signed_transaction = SignedTransaction(call_transaction, deployer_wallet)\n",
    "tx_hash = icon_service.send_transaction(signed_transaction)\n",
    "get_tx_result(tx_hash)\n"
   ]
  },
  {
   "cell_type": "markdown",
   "metadata": {},
   "source": [
    "## Testing borrow"
   ]
  },
  {
   "cell_type": "code",
   "execution_count": null,
   "metadata": {},
   "outputs": [],
   "source": [
    "params ={\"_reserve\": contracts['sicx'], \"_amount\": 1 * 10 ** 18}\n",
    "\n",
    "call_transaction = CallTransactionBuilder() \\\n",
    "    .from_(deployer_wallet.get_address()) \\\n",
    "    .to(contracts['lendingPool']) \\\n",
    "    .nid(3) \\\n",
    "    .step_limit(1000000000) \\\n",
    "    .nonce(100) \\\n",
    "    .method(\"borrow\") \\\n",
    "    .params(params) \\\n",
    "    .build() \n",
    "\n",
    "signed_transaction = SignedTransaction(call_transaction, deployer_wallet)\n",
    "tx_hash = icon_service.send_transaction(signed_transaction)\n",
    "get_tx_result(tx_hash)"
   ]
  }
 ],
 "metadata": {
  "celltoolbar": "Slideshow",
  "kernelspec": {
   "display_name": "Python 3",
   "language": "python",
   "name": "python3"
  },
  "language_info": {
   "codemirror_mode": {
    "name": "ipython",
    "version": 3
   },
   "file_extension": ".py",
   "mimetype": "text/x-python",
   "name": "python",
   "nbconvert_exporter": "python",
   "pygments_lexer": "ipython3",
   "version": "3.7.0"
  },
  "rise": {
   "scroll": true
  }
 },
 "nbformat": 4,
 "nbformat_minor": 2
}
