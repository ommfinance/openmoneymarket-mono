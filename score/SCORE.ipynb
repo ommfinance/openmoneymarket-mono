{
 "cells": [
  {
   "cell_type": "markdown",
   "metadata": {
    "slideshow": {
     "slide_type": "slide"
    }
   },
   "source": [
    "# Jupyter Notebook approach for SCORE interaction"
   ]
  },
  {
   "cell_type": "markdown",
   "metadata": {
    "slideshow": {
     "slide_type": "slide"
    }
   },
   "source": [
    "\n",
    "### Necessary packages "
   ]
  },
  {
   "cell_type": "code",
   "execution_count": 1,
   "metadata": {},
   "outputs": [
    {
     "ename": "ModuleNotFoundError",
     "evalue": "No module named 'checkscore'",
     "output_type": "error",
     "traceback": [
      "\u001b[0;31m---------------------------------------------------------------------------\u001b[0m",
      "\u001b[0;31mModuleNotFoundError\u001b[0m                       Traceback (most recent call last)",
      "\u001b[0;32m<ipython-input-1-4ad88f55b254>\u001b[0m in \u001b[0;36m<module>\u001b[0;34m\u001b[0m\n\u001b[0;32m----> 1\u001b[0;31m \u001b[0;32mfrom\u001b[0m \u001b[0mcheckscore\u001b[0m\u001b[0;34m.\u001b[0m\u001b[0mmethods\u001b[0m \u001b[0;32mimport\u001b[0m \u001b[0mreadonly\u001b[0m\u001b[0;34m,\u001b[0m \u001b[0mexternal\u001b[0m\u001b[0;34m,\u001b[0m \u001b[0mpayable\u001b[0m\u001b[0;34m\u001b[0m\u001b[0;34m\u001b[0m\u001b[0m\n\u001b[0m\u001b[1;32m      2\u001b[0m \u001b[0;32mfrom\u001b[0m \u001b[0mcheckscore\u001b[0m\u001b[0;34m.\u001b[0m\u001b[0mmethods\u001b[0m \u001b[0;32mimport\u001b[0m \u001b[0mCheckscore\u001b[0m\u001b[0;34m\u001b[0m\u001b[0;34m\u001b[0m\u001b[0m\n\u001b[1;32m      3\u001b[0m \u001b[0;32mfrom\u001b[0m \u001b[0miconsdk\u001b[0m\u001b[0;34m.\u001b[0m\u001b[0mwallet\u001b[0m\u001b[0;34m.\u001b[0m\u001b[0mwallet\u001b[0m \u001b[0;32mimport\u001b[0m \u001b[0mKeyWallet\u001b[0m\u001b[0;34m\u001b[0m\u001b[0;34m\u001b[0m\u001b[0m\n\u001b[1;32m      4\u001b[0m \u001b[0;34m\u001b[0m\u001b[0m\n\u001b[1;32m      5\u001b[0m \u001b[0mpassword\u001b[0m \u001b[0;34m=\u001b[0m \u001b[0minput\u001b[0m\u001b[0;34m(\u001b[0m\u001b[0;34m)\u001b[0m\u001b[0;34m\u001b[0m\u001b[0;34m\u001b[0m\u001b[0m\n",
      "\u001b[0;31mModuleNotFoundError\u001b[0m: No module named 'checkscore'"
     ]
    }
   ],
   "source": [
    "from checkscore.methods import readonly, external, payable\n",
    "from checkscore.methods import Checkscore\n",
    "from iconsdk.wallet.wallet import KeyWallet\n",
    "\n",
    "password = input()\n",
    "deployer_wallet = KeyWallet.load(\"keystore_ibriz.json\",password)\n",
    "deployer_wallet.get_address()\n",
    "\n",
    "SCORE_ADDRESS = \"\"\n",
    "Checkscore(SCORE_ADDRESS).fill_methods()"
   ]
  },
  {
   "cell_type": "code",
   "execution_count": 1,
   "metadata": {},
   "outputs": [
    {
     "output_type": "display_data",
     "data": {
      "text/plain": "<IPython.core.display.HTML object>",
      "text/html": "<style>.container { width:100% !important; }</style>"
     },
     "metadata": {}
    }
   ],
   "source": [
    "from IPython.core.display import display, HTML\n",
    "display(HTML(\"<style>.container { width:100% !important; }</style>\"))"
   ]
  },
  {
   "cell_type": "code",
   "execution_count": 21,
   "metadata": {
    "slideshow": {
     "slide_type": "-"
    }
   },
   "outputs": [],
   "source": [
    "from iconsdk.exception import JSONRPCException\n",
    "from iconsdk.libs.in_memory_zip import gen_deploy_data_content\n",
    "from iconsdk.icon_service import IconService\n",
    "from iconsdk.providers.http_provider import HTTPProvider\n",
    "from iconsdk.builder.transaction_builder import CallTransactionBuilder, TransactionBuilder, DeployTransactionBuilder\n",
    "from iconsdk.builder.call_builder import CallBuilder\n",
    "from iconsdk.signed_transaction import SignedTransaction\n",
    "from iconsdk.wallet.wallet import KeyWallet\n",
    "from iconsdk.utils.convert_type import convert_hex_str_to_int\n",
    "from repeater import retry\n",
    "import requests\n",
    "import json\n",
    "import pickle\n",
    "import csv\n",
    "import os\n",
    "from pprint import pprint\n",
    "import getpass\n",
    "\n",
    "@retry(JSONRPCException, tries=10, delay=1, back_off=2)\n",
    "def get_tx_result(_tx_hash):\n",
    "    tx_result = icon_service.get_transaction_result(_tx_hash)\n",
    "    return tx_result\n",
    "\n",
    "mainnet= {\n",
    "    \"iconservice\":\"https://ctz.solidwallet.io\",\n",
    "    \"nid\" :1\n",
    "    \n",
    "}\n",
    "\n",
    "yeouido={\n",
    "     \"iconservice\":\"https://bicon.net.solidwallet.io\",\n",
    "     \"nid\" : 3\n",
    "    \n",
    "}\n",
    "euljiro={\n",
    "     \"iconservice\":\"https://test-ctz.solidwallet.io\",\n",
    "     \"nid\" : 2\n",
    "    \n",
    "}\n",
    "pagoda={\n",
    "    \"iconservice\":\"https://zicon.net.solidwallet.io\",\n",
    "     \"nid\" :80\n",
    "    \n",
    "    \n",
    "}\n",
    "custom={\n",
    "    \"iconservice\":\"http://18.237.205.52:9000/\",\n",
    "     \"nid\":3\n",
    "    \n",
    "    \n",
    "}\n"
   ]
  },
  {
   "cell_type": "markdown",
   "metadata": {
    "slideshow": {
     "slide_type": "-"
    }
   },
   "source": [
    "### Required service"
   ]
  },
  {
   "cell_type": "code",
   "execution_count": 3,
   "metadata": {},
   "outputs": [],
   "source": [
    "env = custom #mainnet,yeouido,euljiro,pagoda,custom\n",
    "icon_service = IconService(HTTPProvider(env[\"iconservice\"], 3))\n",
    "NID = env[\"nid\"]\n",
    "\n"
   ]
  },
  {
   "cell_type": "markdown",
   "metadata": {
    "slideshow": {
     "slide_type": "-"
    }
   },
   "source": [
    "### A list for SCORE addresses "
   ]
  },
  {
   "cell_type": "code",
   "execution_count": 4,
   "metadata": {
    "slideshow": {
     "slide_type": "-"
    }
   },
   "outputs": [],
   "source": [
    "# Yeouido Testnet\n",
    "GOVERNANCE_ADDRESS = \"cx0000000000000000000000000000000000000000\"\n",
    "\n",
    "\n",
    "# SCORE_ADDRESS = \"cxf42190e91701bec907c7c4514eda6ee0af7f795b\"\n",
    "SCORE_ADDRESS = \"cx19f99666108bab3db87d1c633c2bfb8d0b219433\"\n",
    "LENDING_POOL=\"cxbf1a257dcb378b0fd41066fa87abef3f25992832\"\n",
    "LENDING_POOL_CORE=\"cx162fe5b5d3276e9493de1fd440511f0844ca9a7c\"\n",
    "LENDING_POOL_DATA_PROVIDER=\"cx84490f03cc04b799fe668545340eaeac7cae628c\"\n",
    "ADDRESS_PROVIDER=\"cxad29953f5b8957704e9092632bccc3b1aac62eea\"\n",
    "\n",
    "\n",
    "# Mainnet}\n",
    "# SCORE_ADDRESS = \"cx346a2c30ea2712557deb4d7392688750350d1dea\""
   ]
  },
  {
   "cell_type": "code",
   "execution_count": 4,
   "metadata": {},
   "outputs": [],
   "source": [
    "\n",
    "# Yeouido Testnet\n",
    "# SCORE_ADDRESS = \"cxf42190e91701bec907c7c4514eda6ee0af7f795b\"\n",
    "USDb = \"cx072d8f95877a53df350e3dc3d8dba2f379037d42\"\n",
    "oUSDb = \"cx48dd26868c25cfa744aab9f2fccd76ed40c41454\"\n",
    "LENDING_POOL=\"cxbf1a257dcb378b0fd41066fa87abef3f25992832\"\n",
    "LENDING_POOL_CORE=\"cx162fe5b5d3276e9493de1fd440511f0844ca9a7c\"\n",
    "LENDING_POOL_DATA_PROVIDER=\"cx84490f03cc04b799fe668545340eaeac7cae628c\"\n",
    "PRICE_ORACLE=\"cx293582520a75648d91a3c454ad9657aa4cbf1f7d\"\n",
    "ADDRESS_PROVIDER=\"cxad29953f5b8957704e9092632bccc3b1aac62eea\"\n",
    "FEE_PROVIDER=\"cxf293e454a0c8a28142da48a136458a177d047769\"\n",
    "\n",
    "\n",
    "# Mainnet}\n",
    "# SCORE_ADDRESS = \"cx346a2c30ea2712557deb4d7392688750350d1dea\""
   ]
  },
  {
   "cell_type": "markdown",
   "metadata": {
    "slideshow": {
     "slide_type": "slide"
    }
   },
   "source": [
    "### Importing necessary wallets\n",
    "\n",
    "If you want to use your pre-exisiting wallets, execute the cell below:-"
   ]
  },
  {
   "cell_type": "code",
   "execution_count": 5,
   "metadata": {
    "scrolled": true
   },
   "outputs": [
    {
     "output_type": "execute_result",
     "data": {
      "text/plain": "'hx91bf040426f226b3bfcd2f0b5967bbb0320525ce'"
     },
     "metadata": {},
     "execution_count": 5
    }
   ],
   "source": [
    "# password = input()\n",
    "deployer_wallet = KeyWallet.load(bytes.fromhex(private))\n",
    "deployer_wallet.get_address()\n"
   ]
  },
  {
   "cell_type": "markdown",
   "metadata": {},
   "source": [
    "### OR creating new wallets \n",
    "\n",
    "If you want to use new wallets, execute the cell below:-"
   ]
  },
  {
   "cell_type": "markdown",
   "metadata": {
    "slideshow": {
     "slide_type": "slide"
    }
   },
   "source": [
    "### Loading ICX\n",
    "Go to [ibriz faucet](https://icon-faucet.ibriz.ai/) to load ICX into your wallets."
   ]
  },
  {
   "cell_type": "markdown",
   "metadata": {
    "slideshow": {
     "slide_type": "slide"
    }
   },
   "source": [
    "### Deploying contract"
   ]
  },
  {
   "cell_type": "code",
   "execution_count": 30,
   "metadata": {
    "slideshow": {
     "slide_type": "-"
    },
    "tags": []
   },
   "outputs": [
    {
     "output_type": "stream",
     "name": "stderr",
     "text": "Raised JSONRPCException while returning the custom response. Error message: {'code': -32602, 'message': 'Pending transaction'}\n{'code': -32602, 'message': 'Pending transaction'} (Json rpc error), Retrying in 1 seconds...\n"
    },
    {
     "output_type": "execute_result",
     "data": {
      "text/plain": "{'txHash': '0x03bd7e42389a9e43da6ce60c1d04b4cfdeabecb8e5ec7ce873cccb11ddb0cdcd',\n 'blockHeight': 310773,\n 'blockHash': '0x1c57c4cad81ea66900bf91dee6b26988462e889aabde0d601e66582a41bd1288',\n 'txIndex': 1,\n 'to': 'cxad29953f5b8957704e9092632bccc3b1aac62eea',\n 'scoreAddress': 'cxad29953f5b8957704e9092632bccc3b1aac62eea',\n 'stepUsed': 1631208800,\n 'stepPrice': 10000000000,\n 'cumulativeStepUsed': 1631208800,\n 'eventLogs': [],\n 'logsBloom': b'\\x00\\x00\\x00\\x00\\x00\\x00\\x00\\x00\\x00\\x00\\x00\\x00\\x00\\x00\\x00\\x00\\x00\\x00\\x00\\x00\\x00\\x00\\x00\\x00\\x00\\x00\\x00\\x00\\x00\\x00\\x00\\x00\\x00\\x00\\x00\\x00\\x00\\x00\\x00\\x00\\x00\\x00\\x00\\x00\\x00\\x00\\x00\\x00\\x00\\x00\\x00\\x00\\x00\\x00\\x00\\x00\\x00\\x00\\x00\\x00\\x00\\x00\\x00\\x00\\x00\\x00\\x00\\x00\\x00\\x00\\x00\\x00\\x00\\x00\\x00\\x00\\x00\\x00\\x00\\x00\\x00\\x00\\x00\\x00\\x00\\x00\\x00\\x00\\x00\\x00\\x00\\x00\\x00\\x00\\x00\\x00\\x00\\x00\\x00\\x00\\x00\\x00\\x00\\x00\\x00\\x00\\x00\\x00\\x00\\x00\\x00\\x00\\x00\\x00\\x00\\x00\\x00\\x00\\x00\\x00\\x00\\x00\\x00\\x00\\x00\\x00\\x00\\x00\\x00\\x00\\x00\\x00\\x00\\x00\\x00\\x00\\x00\\x00\\x00\\x00\\x00\\x00\\x00\\x00\\x00\\x00\\x00\\x00\\x00\\x00\\x00\\x00\\x00\\x00\\x00\\x00\\x00\\x00\\x00\\x00\\x00\\x00\\x00\\x00\\x00\\x00\\x00\\x00\\x00\\x00\\x00\\x00\\x00\\x00\\x00\\x00\\x00\\x00\\x00\\x00\\x00\\x00\\x00\\x00\\x00\\x00\\x00\\x00\\x00\\x00\\x00\\x00\\x00\\x00\\x00\\x00\\x00\\x00\\x00\\x00\\x00\\x00\\x00\\x00\\x00\\x00\\x00\\x00\\x00\\x00\\x00\\x00\\x00\\x00\\x00\\x00\\x00\\x00\\x00\\x00\\x00\\x00\\x00\\x00\\x00\\x00\\x00\\x00\\x00\\x00\\x00\\x00\\x00\\x00\\x00\\x00\\x00\\x00\\x00\\x00\\x00\\x00\\x00\\x00\\x00\\x00\\x00\\x00\\x00\\x00\\x00\\x00\\x00\\x00\\x00\\x00',\n 'status': 1}"
     },
     "metadata": {},
     "execution_count": 30
    }
   ],
   "source": [
    "# params = {'_initialSupply':500000000, '_decimals': 18}\n",
    "params = {}\n",
    "deploy_transaction = DeployTransactionBuilder()\\\n",
    "    .from_(deployer_wallet.get_address())\\\n",
    "    .to(oUSDb)\\\n",
    "    .nid(3)\\\n",
    "    .nonce(100)\\\n",
    "    .content_type(\"application/zip\")\\\n",
    "    .content(gen_deploy_data_content('addressProvider'))\\\n",
    "    .params(params)\\\n",
    "    .build()\n",
    "\n",
    "estimate_step = icon_service.estimate_step(deploy_transaction)\n",
    "step_limit = estimate_step + 100000\n",
    "signed_transaction = SignedTransaction(deploy_transaction, deployer_wallet, step_limit)\n",
    "\n",
    "tx_hash = icon_service.send_transaction(signed_transaction)\n",
    "\n",
    "get_tx_result(tx_hash)"
   ]
  },
  {
   "cell_type": "markdown",
   "metadata": {
    "slideshow": {
     "slide_type": "slide"
    }
   },
   "source": [
    "### Updating contract"
   ]
  },
  {
   "cell_type": "code",
   "execution_count": 42,
   "metadata": {
    "scrolled": false,
    "slideshow": {
     "slide_type": "-"
    },
    "tags": []
   },
   "outputs": [
    {
     "output_type": "stream",
     "name": "stderr",
     "text": "Raised JSONRPCException while returning the custom response. Error message: {'code': -32602, 'message': 'Pending transaction'}\n{'code': -32602, 'message': 'Pending transaction'} (Json rpc error), Retrying in 1 seconds...\n"
    },
    {
     "output_type": "execute_result",
     "data": {
      "text/plain": "{'txHash': '0xd312f1fd42e227a13ec13c8a19a341fc1876bd9899ac3ce9080b111c5dc643e3',\n 'blockHeight': 269364,\n 'blockHash': '0xfb774aaca3b6b7a6087f7e5393297f84a67cff67429cca99ea475566309111d5',\n 'txIndex': 1,\n 'to': 'cx84490f03cc04b799fe668545340eaeac7cae628c',\n 'scoreAddress': 'cx84490f03cc04b799fe668545340eaeac7cae628c',\n 'stepUsed': 1702345120,\n 'stepPrice': 10000000000,\n 'cumulativeStepUsed': 1702345120,\n 'eventLogs': [],\n 'logsBloom': b'\\x00\\x00\\x00\\x00\\x00\\x00\\x00\\x00\\x00\\x00\\x00\\x00\\x00\\x00\\x00\\x00\\x00\\x00\\x00\\x00\\x00\\x00\\x00\\x00\\x00\\x00\\x00\\x00\\x00\\x00\\x00\\x00\\x00\\x00\\x00\\x00\\x00\\x00\\x00\\x00\\x00\\x00\\x00\\x00\\x00\\x00\\x00\\x00\\x00\\x00\\x00\\x00\\x00\\x00\\x00\\x00\\x00\\x00\\x00\\x00\\x00\\x00\\x00\\x00\\x00\\x00\\x00\\x00\\x00\\x00\\x00\\x00\\x00\\x00\\x00\\x00\\x00\\x00\\x00\\x00\\x00\\x00\\x00\\x00\\x00\\x00\\x00\\x00\\x00\\x00\\x00\\x00\\x00\\x00\\x00\\x00\\x00\\x00\\x00\\x00\\x00\\x00\\x00\\x00\\x00\\x00\\x00\\x00\\x00\\x00\\x00\\x00\\x00\\x00\\x00\\x00\\x00\\x00\\x00\\x00\\x00\\x00\\x00\\x00\\x00\\x00\\x00\\x00\\x00\\x00\\x00\\x00\\x00\\x00\\x00\\x00\\x00\\x00\\x00\\x00\\x00\\x00\\x00\\x00\\x00\\x00\\x00\\x00\\x00\\x00\\x00\\x00\\x00\\x00\\x00\\x00\\x00\\x00\\x00\\x00\\x00\\x00\\x00\\x00\\x00\\x00\\x00\\x00\\x00\\x00\\x00\\x00\\x00\\x00\\x00\\x00\\x00\\x00\\x00\\x00\\x00\\x00\\x00\\x00\\x00\\x00\\x00\\x00\\x00\\x00\\x00\\x00\\x00\\x00\\x00\\x00\\x00\\x00\\x00\\x00\\x00\\x00\\x00\\x00\\x00\\x00\\x00\\x00\\x00\\x00\\x00\\x00\\x00\\x00\\x00\\x00\\x00\\x00\\x00\\x00\\x00\\x00\\x00\\x00\\x00\\x00\\x00\\x00\\x00\\x00\\x00\\x00\\x00\\x00\\x00\\x00\\x00\\x00\\x00\\x00\\x00\\x00\\x00\\x00\\x00\\x00\\x00\\x00\\x00\\x00\\x00\\x00\\x00\\x00\\x00\\x00',\n 'status': 1}"
     },
     "metadata": {},
     "execution_count": 42
    }
   ],
   "source": [
    "deploy_transaction = DeployTransactionBuilder()\\\n",
    "    .from_(deployer_wallet.get_address())\\\n",
    "    .to(LENDING_POOL_DATA_PROVIDER)\\\n",
    "    .nid(NID)\\\n",
    "    .nonce(100)\\\n",
    "    .content_type(\"application/zip\")\\\n",
    "    .content(gen_deploy_data_content('lendingPoolDataProvider'))\\\n",
    "    .build()\n",
    "\n",
    "estimate_step = icon_service.estimate_step(deploy_transaction)\n",
    "step_limit = estimate_step + 100000\n",
    "signed_transaction = SignedTransaction(deploy_transaction, deployer_wallet, step_limit)\n",
    "\n",
    "tx_hash = icon_service.send_transaction(signed_transaction)\n",
    "\n",
    "\n",
    "get_tx_result(tx_hash)"
   ]
  },
  {
   "cell_type": "markdown",
   "metadata": {},
   "source": [
    "# Setting symbol"
   ]
  },
  {
   "cell_type": "code",
   "execution_count": 13,
   "metadata": {
    "tags": []
   },
   "outputs": [
    {
     "output_type": "stream",
     "name": "stdout",
     "text": "{'version': '0x3', 'from': 'hx91bf040426f226b3bfcd2f0b5967bbb0320525ce', 'to': 'cx84490f03cc04b799fe668545340eaeac7cae628c', 'stepLimit': '0x3c618', 'timestamp': '0x5b30a3728b128', 'nid': '0x3', 'nonce': '0x64', 'dataType': 'call', 'data': {'method': 'setSymbol', 'params': {'_reserveAddress': 'cx072d8f95877a53df350e3dc3d8dba2f379037d42', '_sym': 'USDb'}}, 'signature': '1535yLs0HCmecpllTL5zWx9RULWCaPt8cPlOOeaF3TZUBgjVLjTTy3XdVbQOYvRjii8xGePSbmTi+k9eJlgFTQA='}\nRaised JSONRPCException while returning the custom response. Error message: {'code': -32602, 'message': 'Pending transaction'}\n{'code': -32602, 'message': 'Pending transaction'} (Json rpc error), Retrying in 1 seconds...\n"
    },
    {
     "output_type": "execute_result",
     "data": {
      "text/plain": "{'txHash': '0xe7b7ea5eec172f11f77ad1e40a3ced5e27e04aefee433db58292bed46f3a4006',\n 'blockHeight': 97841,\n 'blockHash': '0x1aeffab680d31e8d320bd432bec4ae04914b5311230d325fa25b0e99e058e708',\n 'txIndex': 1,\n 'to': 'cx84490f03cc04b799fe668545340eaeac7cae628c',\n 'stepUsed': 147320,\n 'stepPrice': 10000000000,\n 'cumulativeStepUsed': 147320,\n 'eventLogs': [],\n 'logsBloom': b'\\x00\\x00\\x00\\x00\\x00\\x00\\x00\\x00\\x00\\x00\\x00\\x00\\x00\\x00\\x00\\x00\\x00\\x00\\x00\\x00\\x00\\x00\\x00\\x00\\x00\\x00\\x00\\x00\\x00\\x00\\x00\\x00\\x00\\x00\\x00\\x00\\x00\\x00\\x00\\x00\\x00\\x00\\x00\\x00\\x00\\x00\\x00\\x00\\x00\\x00\\x00\\x00\\x00\\x00\\x00\\x00\\x00\\x00\\x00\\x00\\x00\\x00\\x00\\x00\\x00\\x00\\x00\\x00\\x00\\x00\\x00\\x00\\x00\\x00\\x00\\x00\\x00\\x00\\x00\\x00\\x00\\x00\\x00\\x00\\x00\\x00\\x00\\x00\\x00\\x00\\x00\\x00\\x00\\x00\\x00\\x00\\x00\\x00\\x00\\x00\\x00\\x00\\x00\\x00\\x00\\x00\\x00\\x00\\x00\\x00\\x00\\x00\\x00\\x00\\x00\\x00\\x00\\x00\\x00\\x00\\x00\\x00\\x00\\x00\\x00\\x00\\x00\\x00\\x00\\x00\\x00\\x00\\x00\\x00\\x00\\x00\\x00\\x00\\x00\\x00\\x00\\x00\\x00\\x00\\x00\\x00\\x00\\x00\\x00\\x00\\x00\\x00\\x00\\x00\\x00\\x00\\x00\\x00\\x00\\x00\\x00\\x00\\x00\\x00\\x00\\x00\\x00\\x00\\x00\\x00\\x00\\x00\\x00\\x00\\x00\\x00\\x00\\x00\\x00\\x00\\x00\\x00\\x00\\x00\\x00\\x00\\x00\\x00\\x00\\x00\\x00\\x00\\x00\\x00\\x00\\x00\\x00\\x00\\x00\\x00\\x00\\x00\\x00\\x00\\x00\\x00\\x00\\x00\\x00\\x00\\x00\\x00\\x00\\x00\\x00\\x00\\x00\\x00\\x00\\x00\\x00\\x00\\x00\\x00\\x00\\x00\\x00\\x00\\x00\\x00\\x00\\x00\\x00\\x00\\x00\\x00\\x00\\x00\\x00\\x00\\x00\\x00\\x00\\x00\\x00\\x00\\x00\\x00\\x00\\x00\\x00\\x00\\x00\\x00\\x00\\x00',\n 'status': 1}"
     },
     "metadata": {},
     "execution_count": 13
    }
   ],
   "source": [
    "params ={\"_reserveAddress\":\"cx072d8f95877a53df350e3dc3d8dba2f379037d42\",\"_sym\":\"USDb\" }\n",
    "call_transaction = CallTransactionBuilder()\\\n",
    "    .from_(deployer_wallet.get_address())\\\n",
    "    .to(LENDING_POOL_DATA_PROVIDER) \\\n",
    "    .nid(NID) \\\n",
    "    .nonce(100) \\\n",
    "    .method(\"setSymbol\")\\\n",
    "    .params(params)\\\n",
    "    .build()\n",
    "\n",
    "estimate_step = icon_service.estimate_step(call_transaction)\n",
    "step_limit = estimate_step + 100000\n",
    "# Returns the signed transaction object having a signature\n",
    "signed_transaction = SignedTransaction(call_transaction, deployer_wallet,step_limit)\n",
    "\n",
    "# Reads params to transfer to nodes\n",
    "print(signed_transaction.signed_transaction_dict)\n",
    "\n",
    "# Sends the transaction\n",
    "tx_hash = icon_service.send_transaction(signed_transaction)\n",
    "\n",
    "get_tx_result(tx_hash)"
   ]
  },
  {
   "cell_type": "code",
   "execution_count": 15,
   "metadata": {
    "tags": []
   },
   "outputs": [
    {
     "output_type": "stream",
     "name": "stdout",
     "text": "{'collateral': {'USDb': 'cx072d8f95877a53df350e3dc3d8dba2f379037d42',\n                'sICX': ''},\n 'oTokens': {'oICX': '', 'oUSDb': 'cx48dd26868c25cfa744aab9f2fccd76ed40c41454'},\n 'systemContract': {'LendingPool': 'cxbf1a257dcb378b0fd41066fa87abef3f25992832',\n                    'LendingPoolDataProvider': 'cx84490f03cc04b799fe668545340eaeac7cae628c'}}\n"
    }
   ],
   "source": [
    "from pprint import pprint\n",
    "params= {\"_reserve\":\"cx072d8f95877a53df350e3dc3d8dba2f379037d42\"}\n",
    "call = CallBuilder()\\\n",
    "    .from_(deployer_wallet.get_address())\\\n",
    "    .to(ADDRESS_PROVIDER)\\\n",
    "    .method(\"getAllAddresses\")\\\n",
    "    .build()\n",
    "response = icon_service.call(call)\n",
    "pprint(response)"
   ]
  },
  {
   "cell_type": "markdown",
   "metadata": {},
   "source": [
    "# Setting  Addressess"
   ]
  },
  {
   "cell_type": "code",
   "execution_count": 14,
   "metadata": {
    "tags": []
   },
   "outputs": [
    {
     "output_type": "stream",
     "name": "stdout",
     "text": "{'version': '0x3', 'from': 'hx91bf040426f226b3bfcd2f0b5967bbb0320525ce', 'to': 'cxad29953f5b8957704e9092632bccc3b1aac62eea', 'stepLimit': '0x3cde8', 'timestamp': '0x5b318213950a2', 'nid': '0x3', 'nonce': '0x64', 'dataType': 'call', 'data': {'method': 'setoUSDb', 'params': {'_address': 'cx48dd26868c25cfa744aab9f2fccd76ed40c41454'}}, 'signature': '8+n+iQJexwiTc9c+cUNlxee1Fx+eh0lX76/hdwCXCsIND79PtKSRp5DvTDZGI+IUPl+b45EFWtHzZWYXYuSBXwE='}\nRaised JSONRPCException while returning the custom response. Error message: {'code': -32602, 'message': 'Pending transaction'}\n{'code': -32602, 'message': 'Pending transaction'} (Json rpc error), Retrying in 1 seconds...\n"
    },
    {
     "output_type": "execute_result",
     "data": {
      "text/plain": "{'txHash': '0x0c2bfd5f0f7819c85dc2946f8484773296ba32abae45dbf409a2c715b822bd4b',\n 'blockHeight': 127685,\n 'blockHash': '0x0da223d4633b461411726abe56284f723047620ec5d2c119e6e3e33a30798893',\n 'txIndex': 1,\n 'to': 'cxad29953f5b8957704e9092632bccc3b1aac62eea',\n 'stepUsed': 149320,\n 'stepPrice': 10000000000,\n 'cumulativeStepUsed': 149320,\n 'eventLogs': [],\n 'logsBloom': b'\\x00\\x00\\x00\\x00\\x00\\x00\\x00\\x00\\x00\\x00\\x00\\x00\\x00\\x00\\x00\\x00\\x00\\x00\\x00\\x00\\x00\\x00\\x00\\x00\\x00\\x00\\x00\\x00\\x00\\x00\\x00\\x00\\x00\\x00\\x00\\x00\\x00\\x00\\x00\\x00\\x00\\x00\\x00\\x00\\x00\\x00\\x00\\x00\\x00\\x00\\x00\\x00\\x00\\x00\\x00\\x00\\x00\\x00\\x00\\x00\\x00\\x00\\x00\\x00\\x00\\x00\\x00\\x00\\x00\\x00\\x00\\x00\\x00\\x00\\x00\\x00\\x00\\x00\\x00\\x00\\x00\\x00\\x00\\x00\\x00\\x00\\x00\\x00\\x00\\x00\\x00\\x00\\x00\\x00\\x00\\x00\\x00\\x00\\x00\\x00\\x00\\x00\\x00\\x00\\x00\\x00\\x00\\x00\\x00\\x00\\x00\\x00\\x00\\x00\\x00\\x00\\x00\\x00\\x00\\x00\\x00\\x00\\x00\\x00\\x00\\x00\\x00\\x00\\x00\\x00\\x00\\x00\\x00\\x00\\x00\\x00\\x00\\x00\\x00\\x00\\x00\\x00\\x00\\x00\\x00\\x00\\x00\\x00\\x00\\x00\\x00\\x00\\x00\\x00\\x00\\x00\\x00\\x00\\x00\\x00\\x00\\x00\\x00\\x00\\x00\\x00\\x00\\x00\\x00\\x00\\x00\\x00\\x00\\x00\\x00\\x00\\x00\\x00\\x00\\x00\\x00\\x00\\x00\\x00\\x00\\x00\\x00\\x00\\x00\\x00\\x00\\x00\\x00\\x00\\x00\\x00\\x00\\x00\\x00\\x00\\x00\\x00\\x00\\x00\\x00\\x00\\x00\\x00\\x00\\x00\\x00\\x00\\x00\\x00\\x00\\x00\\x00\\x00\\x00\\x00\\x00\\x00\\x00\\x00\\x00\\x00\\x00\\x00\\x00\\x00\\x00\\x00\\x00\\x00\\x00\\x00\\x00\\x00\\x00\\x00\\x00\\x00\\x00\\x00\\x00\\x00\\x00\\x00\\x00\\x00\\x00\\x00\\x00\\x00\\x00\\x00',\n 'status': 1}"
     },
     "metadata": {},
     "execution_count": 14
    }
   ],
   "source": [
    "params ={\"_address\":\"cx48dd26868c25cfa744aab9f2fccd76ed40c41454\"}\n",
    "call_transaction = CallTransactionBuilder()\\\n",
    "    .from_(deployer_wallet.get_address())\\\n",
    "    .to(ADDRESS_PROVIDER) \\\n",
    "    .nid(NID) \\\n",
    "    .nonce(100) \\\n",
    "    .method(\"setoUSDb\")\\\n",
    "    .params(params)\\\n",
    "    .build()\n",
    "\n",
    "estimate_step = icon_service.estimate_step(call_transaction)\n",
    "step_limit = estimate_step + 100000\n",
    "# Returns the signed transaction object having a signature\n",
    "signed_transaction = SignedTransaction(call_transaction, deployer_wallet,step_limit)\n",
    "\n",
    "# Reads params to transfer to nodes\n",
    "print(signed_transaction.signed_transaction_dict)\n",
    "\n",
    "# Sends the transaction\n",
    "tx_hash = icon_service.send_transaction(signed_transaction)\n",
    "\n",
    "get_tx_result(tx_hash)"
   ]
  },
  {
   "cell_type": "markdown",
   "metadata": {},
   "source": [
    "## Adding new reserve in LendingPoolCore\n",
    "\n"
   ]
  },
  {
   "cell_type": "code",
   "execution_count": null,
   "metadata": {},
   "outputs": [],
   "source": [
    "params ={\"_reserve\": {\"reserveAddress\":\"cx072d8f95877a53df350e3dc3d8dba2f379037d42\",\"oTokenAddress\":\"cx48dd26868c25cfa744aab9f2fccd76ed40c41454\",\"totalBorrows\":\"0\",\"lastUpdateTimestamp\": \"0\",\"liquidityRate\":\"0\",\"borrowRate\":\"0\",\"liquidityCumulativeIndex\":f\"1{'0'*18}\",\"borrowCumulativeIndex\":f\"1{'0'*18}\",\"baseLTVasCollateral\":\"60\",\"liquidationThreshold\":\"65\",\"liquidationBonus\":\"10\",\"decimals\":\"18\",\"borrowingEnabled\": \"1\",\"usageAsCollateralEnabled\":\"1\",\"isFreezed\":\"0\",\"isActive\":\"1\"} }\n",
    "call_transaction = CallTransactionBuilder()\\\n",
    "    .from_(deployer_wallet.get_address())\\\n",
    "    .to(\"cx162fe5b5d3276e9493de1fd440511f0844ca9a7c\") \\\n",
    "    .nid(NID) \\\n",
    "    .nonce(100) \\\n",
    "    .method(\"addReserveData\")\\\n",
    "    .params(params)\\\n",
    "    .build()\n",
    "\n",
    "estimate_step = icon_service.estimate_step(call_transaction)\n",
    "step_limit = estimate_step + 100000\n",
    "# Returns the signed transaction object having a signature\n",
    "signed_transaction = SignedTransaction(call_transaction, deployer_wallet,step_limit)\n",
    "\n",
    "# Reads params to transfer to nodes\n",
    "print(signed_transaction.signed_transaction_dict)\n",
    "\n",
    "# Sends the transaction\n",
    "tx_hash = icon_service.send_transaction(signed_transaction)\n",
    "\n",
    "get_tx_result(tx_hash)"
   ]
  },
  {
   "cell_type": "markdown",
   "metadata": {},
   "source": [
    "## Setting reserve constants in LendingPoolCore"
   ]
  },
  {
   "cell_type": "code",
   "execution_count": 8,
   "metadata": {},
   "outputs": [
    {
     "name": "stdout",
     "output_type": "stream",
     "text": [
      "{'version': '0x3', 'from': 'hx91bf040426f226b3bfcd2f0b5967bbb0320525ce', 'to': 'cx162fe5b5d3276e9493de1fd440511f0844ca9a7c', 'stepLimit': '0x45178', 'timestamp': '0x5b308f33b3bd9', 'nid': '0x3', 'nonce': '0x64', 'dataType': 'call', 'data': {'method': 'setReserveConstants', 'params': {'_constants': [{'reserve': 'cx072d8f95877a53df350e3dc3d8dba2f379037d42', 'optimalUtilizationRate': '600000000000000000', 'baseBorrowRate': '0', 'slopeRate1': '70000000000000000', 'slopeRate2': '3000000000000000000'}]}}, 'signature': 'J1RWKTbkS02BgRN4jZH6LrSP2ympGg/bmxdGFV9G2sM/C9CZn3CX5aunvQKh2DmupJM6LxO72corUhrQ1VFfLAA='}\n"
     ]
    },
    {
     "name": "stderr",
     "output_type": "stream",
     "text": [
      "Raised JSONRPCException while returning the custom response. Error message: {'code': -32602, 'message': 'Pending transaction'}\n"
     ]
    },
    {
     "name": "stdout",
     "output_type": "stream",
     "text": [
      "{'code': -32602, 'message': 'Pending transaction'} (Json rpc error), Retrying in 1 seconds...\n"
     ]
    },
    {
     "data": {
      "text/plain": [
       "{'txHash': '0x5ba2b5b85cc0f9a9d25a3108984d4e7fffa4f106d358df17e93cd0ad8bbb0518',\n",
       " 'blockHeight': 95127,\n",
       " 'blockHash': '0x6baea1a60b2dc04d17a42eba1e6c144dfa4219faf70b8372bcd40fa637ddf2dc',\n",
       " 'txIndex': 1,\n",
       " 'to': 'cx162fe5b5d3276e9493de1fd440511f0844ca9a7c',\n",
       " 'stepUsed': 183000,\n",
       " 'stepPrice': 10000000000,\n",
       " 'cumulativeStepUsed': 183000,\n",
       " 'eventLogs': [],\n",
       " 'logsBloom': b'\\x00\\x00\\x00\\x00\\x00\\x00\\x00\\x00\\x00\\x00\\x00\\x00\\x00\\x00\\x00\\x00\\x00\\x00\\x00\\x00\\x00\\x00\\x00\\x00\\x00\\x00\\x00\\x00\\x00\\x00\\x00\\x00\\x00\\x00\\x00\\x00\\x00\\x00\\x00\\x00\\x00\\x00\\x00\\x00\\x00\\x00\\x00\\x00\\x00\\x00\\x00\\x00\\x00\\x00\\x00\\x00\\x00\\x00\\x00\\x00\\x00\\x00\\x00\\x00\\x00\\x00\\x00\\x00\\x00\\x00\\x00\\x00\\x00\\x00\\x00\\x00\\x00\\x00\\x00\\x00\\x00\\x00\\x00\\x00\\x00\\x00\\x00\\x00\\x00\\x00\\x00\\x00\\x00\\x00\\x00\\x00\\x00\\x00\\x00\\x00\\x00\\x00\\x00\\x00\\x00\\x00\\x00\\x00\\x00\\x00\\x00\\x00\\x00\\x00\\x00\\x00\\x00\\x00\\x00\\x00\\x00\\x00\\x00\\x00\\x00\\x00\\x00\\x00\\x00\\x00\\x00\\x00\\x00\\x00\\x00\\x00\\x00\\x00\\x00\\x00\\x00\\x00\\x00\\x00\\x00\\x00\\x00\\x00\\x00\\x00\\x00\\x00\\x00\\x00\\x00\\x00\\x00\\x00\\x00\\x00\\x00\\x00\\x00\\x00\\x00\\x00\\x00\\x00\\x00\\x00\\x00\\x00\\x00\\x00\\x00\\x00\\x00\\x00\\x00\\x00\\x00\\x00\\x00\\x00\\x00\\x00\\x00\\x00\\x00\\x00\\x00\\x00\\x00\\x00\\x00\\x00\\x00\\x00\\x00\\x00\\x00\\x00\\x00\\x00\\x00\\x00\\x00\\x00\\x00\\x00\\x00\\x00\\x00\\x00\\x00\\x00\\x00\\x00\\x00\\x00\\x00\\x00\\x00\\x00\\x00\\x00\\x00\\x00\\x00\\x00\\x00\\x00\\x00\\x00\\x00\\x00\\x00\\x00\\x00\\x00\\x00\\x00\\x00\\x00\\x00\\x00\\x00\\x00\\x00\\x00\\x00\\x00\\x00\\x00\\x00\\x00',\n",
       " 'status': 1}"
      ]
     },
     "execution_count": 8,
     "metadata": {},
     "output_type": "execute_result"
    }
   ],
   "source": [
    "params ={\"_constants\": [{\"reserve\":\"cx072d8f95877a53df350e3dc3d8dba2f379037d42\",\"optimalUtilizationRate\":f\"6{'0'*17}\",\"baseBorrowRate\":\"0\",\"slopeRate1\":f\"7{'0'*16}\",\"slopeRate2\":f\"3{'0'*18}\"} ]}\n",
    "call_transaction = CallTransactionBuilder()\\\n",
    "    .from_(deployer_wallet.get_address())\\\n",
    "    .to(\"cx162fe5b5d3276e9493de1fd440511f0844ca9a7c\") \\\n",
    "    .nid(NID) \\\n",
    "    .nonce(100) \\\n",
    "    .method(\"setReserveConstants\")\\\n",
    "    .params(params)\\\n",
    "    .build()\n",
    "\n",
    "estimate_step = icon_service.estimate_step(call_transaction)\n",
    "step_limit = estimate_step + 100000\n",
    "# Returns the signed transaction object having a signature\n",
    "signed_transaction = SignedTransaction(call_transaction, deployer_wallet,step_limit)\n",
    "\n",
    "# Reads params to transfer to nodes\n",
    "print(signed_transaction.signed_transaction_dict)\n",
    "\n",
    "# Sends the transaction\n",
    "tx_hash = icon_service.send_transaction(signed_transaction)\n",
    "\n",
    "get_tx_result(tx_hash)"
   ]
  },
  {
   "cell_type": "markdown",
   "metadata": {},
   "source": [
    "## Setting interfaces in LendingPool"
   ]
  },
  {
   "cell_type": "code",
   "execution_count": 11,
   "metadata": {
    "tags": []
   },
   "outputs": [
    {
     "output_type": "stream",
     "name": "stdout",
     "text": "{'version': '0x3', 'from': 'hx91bf040426f226b3bfcd2f0b5967bbb0320525ce', 'to': 'cxbf1a257dcb378b0fd41066fa87abef3f25992832', 'stepLimit': '0x3bee8', 'timestamp': '0x5b3492664bfdc', 'nid': '0x3', 'nonce': '0x64', 'dataType': 'call', 'data': {'method': 'setFeeProvider', 'params': {'_address': 'cxf293e454a0c8a28142da48a136458a177d047769'}}, 'signature': 'V41tcss5WILKdOrlEmy8mFiCw8kr26F8rMKsiOinuh4RJ4jGeUiwbItQzu0CRIAG7wZDPagVzdAcIw688xZk2QE='}\n"
    },
    {
     "output_type": "execute_result",
     "data": {
      "text/plain": "{'txHash': '0xd0acd44d1f60b8fc4c35fd702c72690f102ff64f8e95df85d584aabe980340f3',\n 'blockHeight': 232822,\n 'blockHash': '0x52ece2ec8c4541c867bf399eff82af38a86a6e0df97824fc4828fb78a8fe29c5',\n 'txIndex': 1,\n 'to': 'cxbf1a257dcb378b0fd41066fa87abef3f25992832',\n 'stepUsed': 145480,\n 'stepPrice': 10000000000,\n 'cumulativeStepUsed': 145480,\n 'eventLogs': [],\n 'logsBloom': b'\\x00\\x00\\x00\\x00\\x00\\x00\\x00\\x00\\x00\\x00\\x00\\x00\\x00\\x00\\x00\\x00\\x00\\x00\\x00\\x00\\x00\\x00\\x00\\x00\\x00\\x00\\x00\\x00\\x00\\x00\\x00\\x00\\x00\\x00\\x00\\x00\\x00\\x00\\x00\\x00\\x00\\x00\\x00\\x00\\x00\\x00\\x00\\x00\\x00\\x00\\x00\\x00\\x00\\x00\\x00\\x00\\x00\\x00\\x00\\x00\\x00\\x00\\x00\\x00\\x00\\x00\\x00\\x00\\x00\\x00\\x00\\x00\\x00\\x00\\x00\\x00\\x00\\x00\\x00\\x00\\x00\\x00\\x00\\x00\\x00\\x00\\x00\\x00\\x00\\x00\\x00\\x00\\x00\\x00\\x00\\x00\\x00\\x00\\x00\\x00\\x00\\x00\\x00\\x00\\x00\\x00\\x00\\x00\\x00\\x00\\x00\\x00\\x00\\x00\\x00\\x00\\x00\\x00\\x00\\x00\\x00\\x00\\x00\\x00\\x00\\x00\\x00\\x00\\x00\\x00\\x00\\x00\\x00\\x00\\x00\\x00\\x00\\x00\\x00\\x00\\x00\\x00\\x00\\x00\\x00\\x00\\x00\\x00\\x00\\x00\\x00\\x00\\x00\\x00\\x00\\x00\\x00\\x00\\x00\\x00\\x00\\x00\\x00\\x00\\x00\\x00\\x00\\x00\\x00\\x00\\x00\\x00\\x00\\x00\\x00\\x00\\x00\\x00\\x00\\x00\\x00\\x00\\x00\\x00\\x00\\x00\\x00\\x00\\x00\\x00\\x00\\x00\\x00\\x00\\x00\\x00\\x00\\x00\\x00\\x00\\x00\\x00\\x00\\x00\\x00\\x00\\x00\\x00\\x00\\x00\\x00\\x00\\x00\\x00\\x00\\x00\\x00\\x00\\x00\\x00\\x00\\x00\\x00\\x00\\x00\\x00\\x00\\x00\\x00\\x00\\x00\\x00\\x00\\x00\\x00\\x00\\x00\\x00\\x00\\x00\\x00\\x00\\x00\\x00\\x00\\x00\\x00\\x00\\x00\\x00\\x00\\x00\\x00\\x00\\x00\\x00',\n 'status': 1}"
     },
     "metadata": {},
     "execution_count": 11
    }
   ],
   "source": [
    "params ={\"_address\": \"cxf293e454a0c8a28142da48a136458a177d047769\" }\n",
    "call_transaction = CallTransactionBuilder()\\\n",
    "    .from_(deployer_wallet.get_address())\\\n",
    "    .to(LENDING_POOL) \\\n",
    "    .nid(NID) \\\n",
    "    .nonce(100) \\\n",
    "    .method(\"setFeeProvider\")\\\n",
    "    .params(params)\\\n",
    "    .build()\n",
    "\n",
    "estimate_step = icon_service.estimate_step(call_transaction)\n",
    "step_limit = estimate_step + 100000\n",
    "# Returns the signed transaction object having a signature\n",
    "signed_transaction = SignedTransaction(call_transaction, deployer_wallet,step_limit)\n",
    "\n",
    "# Reads params to transfer to nodes\n",
    "print(signed_transaction.signed_transaction_dict)\n",
    "\n",
    "# Sends the transaction\n",
    "tx_hash = icon_service.send_transaction(signed_transaction)\n",
    "\n",
    "get_tx_result(tx_hash)"
   ]
  },
  {
   "cell_type": "markdown",
   "metadata": {},
   "source": [
    "# Borrowing USDb"
   ]
  },
  {
   "cell_type": "code",
   "execution_count": 40,
   "metadata": {
    "tags": []
   },
   "outputs": [
    {
     "output_type": "stream",
     "name": "stdout",
     "text": "{'version': '0x3', 'from': 'hx91bf040426f226b3bfcd2f0b5967bbb0320525ce', 'to': 'cxbf1a257dcb378b0fd41066fa87abef3f25992832', 'stepLimit': '0x118e38', 'timestamp': '0x5b35a05b0f8a4', 'nid': '0x3', 'nonce': '0x64', 'dataType': 'call', 'data': {'method': 'borrow', 'params': {'_reserve': 'cx072d8f95877a53df350e3dc3d8dba2f379037d42', '_amount': '0xde0b6b3a7640000'}}, 'signature': 'qUPcgNJ6GAnY5QMfYNtnvlPGztPNQiK2vpx0XUNcZiRi7K8sTPOQFkv5uwCjtJxNZ7rVB7oW8P2Kayd6Kp+ChwA='}\n"
    },
    {
     "output_type": "execute_result",
     "data": {
      "text/plain": "{'txHash': '0x37d376bbec9f44cea3a4d2256d921ae1907daf28832b43e4afe8127c368f9a9c',\n 'blockHeight': 269010,\n 'blockHash': '0x600fb1885bc071cb1426c485e0dc85f0841c907c1a54abd1aa8855cbe7a3c8eb',\n 'txIndex': 1,\n 'to': 'cxbf1a257dcb378b0fd41066fa87abef3f25992832',\n 'stepUsed': 1050520,\n 'stepPrice': 10000000000,\n 'cumulativeStepUsed': 1050520,\n 'eventLogs': [{'scoreAddress': 'cx162fe5b5d3276e9493de1fd440511f0844ca9a7c',\n   'indexed': ['ReserveUpdated(Address,int,int,int,int)',\n    'cx072d8f95877a53df350e3dc3d8dba2f379037d42',\n    '0xde3de7f147',\n    '0x13fec39f610b9'],\n   'data': ['0xde0b6b3a7f89cc9', '0xde0b6b4fe72f867']},\n  {'scoreAddress': 'cx072d8f95877a53df350e3dc3d8dba2f379037d42',\n   'indexed': ['Transfer(Address,Address,int,bytes)',\n    'cx162fe5b5d3276e9493de1fd440511f0844ca9a7c',\n    'hx91bf040426f226b3bfcd2f0b5967bbb0320525ce',\n    '0xde0b6b3a7640000'],\n   'data': ['0x4e6f6e65']}],\n 'logsBloom': b'\\x00\\x00\\x00\\x00\\x00\\x00\\x00\\x10\\x00\\x00\\x00 \\x00\\x00\\x00\\x00\\x00\\x00\\x00\\x00\\x00\\x00\\x00\\x02\\x00\\x00\\x00\\x00\\x00\\x00\\x00\\x00\\x00\\x00\\x00\\x00\\x00\\x00\\x00\\x00\\x00\\x00@\\x00\\x00\\x00\\x00\\x00\\x00\\x00\\x00\\x88\\x00\\x00\\x00\\x00\\x00\\x00\\x00\\x00\\x00\\x00\\x00\\x00\\x00\\x00\\x00\\x00\\x00\\x00\\x00\\x00\\x00\\x00\\x00\\x00\\x00\\x00\\x00\\x00\\x00\\x00\\x00\\x00\\x00\\x00\\x00\\x00\\x00\\x01\\x00\\x00\\x00\\x00\\x00\\x00\\x00\\x00\\x00 \\x00\\x00\\x00\\x00\\x00\\x00\\x00\\x00\\x00\\x00\\x00\\x00\\x00\\x00\\x00\\x00\\x00\\x00\\x00\\x00 \\x00\\x00\\x00\\x00\\x00\\x00\\x00\\x00\\x02\\x00\\x00\\x00\\x00\\x01\\x00\\x00\\x00\\x00\\x00\\x00\\x00\\x00\\x00\\x00\\x00\\x00\\x00\\x00\\x00\\x00\\x00\\x00\\x00\\x00\\x00\\x00\\x10\\x00\\x00\\x00!\\x00\\x00\\x00\\x00\\x00\\x00\\x000\\x01\\x00\\x00\\x00\\x00\\x00\\x00\\x00\\x00\\x00\\x00\\x00\\x00\\x82\\x00\\x00\\x00\\x00\\x00\\x00\\x00\\x00\\x00\\x00\\x00\\x00\\x00@\\x00\\x00\\x00\\x00\\x00\\x02\\x00\\x00\\x00\\x00\\x00\\x00\\x00\\x00\\x00\\x01\\x00\\x00\\x02 \\x00\\x00\\x00\\x00\\x00@\\x80\\x10\\x02\\x00\\x00\\x00\\x00\\x00\\x00\\x00@\\x00\\x00\\x00\\x00\\x00\\x00\\x00\\x00\\x00 \\x00\\x00\\x00\\x00\\x00\\x00\\x00\\x00\\x00\\x00\\x00',\n 'status': 1}"
     },
     "metadata": {},
     "execution_count": 40
    }
   ],
   "source": [
    "params ={\"_reserve\": \"cx072d8f95877a53df350e3dc3d8dba2f379037d42\", \"_amount\":1*10**18 }\n",
    "call_transaction = CallTransactionBuilder()\\\n",
    "    .from_(deployer_wallet.get_address())\\\n",
    "    .to(LENDING_POOL) \\\n",
    "    .nid(NID) \\\n",
    "    .nonce(100) \\\n",
    "    .method(\"borrow\")\\\n",
    "    .params(params)\\\n",
    "    .build()\n",
    "\n",
    "estimate_step = icon_service.estimate_step(call_transaction)\n",
    "step_limit = estimate_step + 100000\n",
    "# Returns the signed transaction object having a signature\n",
    "signed_transaction = SignedTransaction(call_transaction, deployer_wallet,step_limit)\n",
    "\n",
    "# Reads params to transfer to nodes\n",
    "print(signed_transaction.signed_transaction_dict)\n",
    "\n",
    "# Sends the transaction\n",
    "tx_hash = icon_service.send_transaction(signed_transaction)\n",
    "get_tx_result(tx_hash)"
   ]
  },
  {
   "cell_type": "code",
   "execution_count": 12,
   "metadata": {},
   "outputs": [
    {
     "name": "stdout",
     "output_type": "stream",
     "text": [
      "{'version': '0x3', 'from': 'hx91bf040426f226b3bfcd2f0b5967bbb0320525ce', 'to': 'cxbf1a257dcb378b0fd41066fa87abef3f25992832', 'stepLimit': '0x3d298', 'timestamp': '0x5b309044d16af', 'nid': '0x3', 'nonce': '0x64', 'dataType': 'call', 'data': {'method': 'setUSDbAddress', 'params': {'_address': 'cx072d8f95877a53df350e3dc3d8dba2f379037d42'}}, 'signature': 'QudO9QJkDPtvc5UFbQIgBvjDMc/Vj7RJ5zlKcljU6PU9qKdNNaXZIVLeuAWsCCoNGLaFg88mm+pt3L7QhVeDFgE='}\n"
     ]
    },
    {
     "name": "stderr",
     "output_type": "stream",
     "text": [
      "Raised JSONRPCException while returning the custom response. Error message: {'code': -32602, 'message': 'Pending transaction'}\n"
     ]
    },
    {
     "name": "stdout",
     "output_type": "stream",
     "text": [
      "{'code': -32602, 'message': 'Pending transaction'} (Json rpc error), Retrying in 1 seconds...\n"
     ]
    },
    {
     "data": {
      "text/plain": [
       "{'txHash': '0x6d25b73a67de8cc1c15422d1bd91b24d987fd7049fe1c2ff095231082048ef2b',\n",
       " 'blockHeight': 95270,\n",
       " 'blockHash': '0xa6c15d3ae47aeac3a6d0159aebb685bb1cadad28aee31bf411631542e1f621db',\n",
       " 'txIndex': 1,\n",
       " 'to': 'cxbf1a257dcb378b0fd41066fa87abef3f25992832',\n",
       " 'stepUsed': 150520,\n",
       " 'stepPrice': 10000000000,\n",
       " 'cumulativeStepUsed': 150520,\n",
       " 'eventLogs': [],\n",
       " 'logsBloom': b'\\x00\\x00\\x00\\x00\\x00\\x00\\x00\\x00\\x00\\x00\\x00\\x00\\x00\\x00\\x00\\x00\\x00\\x00\\x00\\x00\\x00\\x00\\x00\\x00\\x00\\x00\\x00\\x00\\x00\\x00\\x00\\x00\\x00\\x00\\x00\\x00\\x00\\x00\\x00\\x00\\x00\\x00\\x00\\x00\\x00\\x00\\x00\\x00\\x00\\x00\\x00\\x00\\x00\\x00\\x00\\x00\\x00\\x00\\x00\\x00\\x00\\x00\\x00\\x00\\x00\\x00\\x00\\x00\\x00\\x00\\x00\\x00\\x00\\x00\\x00\\x00\\x00\\x00\\x00\\x00\\x00\\x00\\x00\\x00\\x00\\x00\\x00\\x00\\x00\\x00\\x00\\x00\\x00\\x00\\x00\\x00\\x00\\x00\\x00\\x00\\x00\\x00\\x00\\x00\\x00\\x00\\x00\\x00\\x00\\x00\\x00\\x00\\x00\\x00\\x00\\x00\\x00\\x00\\x00\\x00\\x00\\x00\\x00\\x00\\x00\\x00\\x00\\x00\\x00\\x00\\x00\\x00\\x00\\x00\\x00\\x00\\x00\\x00\\x00\\x00\\x00\\x00\\x00\\x00\\x00\\x00\\x00\\x00\\x00\\x00\\x00\\x00\\x00\\x00\\x00\\x00\\x00\\x00\\x00\\x00\\x00\\x00\\x00\\x00\\x00\\x00\\x00\\x00\\x00\\x00\\x00\\x00\\x00\\x00\\x00\\x00\\x00\\x00\\x00\\x00\\x00\\x00\\x00\\x00\\x00\\x00\\x00\\x00\\x00\\x00\\x00\\x00\\x00\\x00\\x00\\x00\\x00\\x00\\x00\\x00\\x00\\x00\\x00\\x00\\x00\\x00\\x00\\x00\\x00\\x00\\x00\\x00\\x00\\x00\\x00\\x00\\x00\\x00\\x00\\x00\\x00\\x00\\x00\\x00\\x00\\x00\\x00\\x00\\x00\\x00\\x00\\x00\\x00\\x00\\x00\\x00\\x00\\x00\\x00\\x00\\x00\\x00\\x00\\x00\\x00\\x00\\x00\\x00\\x00\\x00\\x00\\x00\\x00\\x00\\x00\\x00',\n",
       " 'status': 1}"
      ]
     },
     "execution_count": 12,
     "metadata": {},
     "output_type": "execute_result"
    }
   ],
   "source": [
    "params ={\"_address\": \"cx072d8f95877a53df350e3dc3d8dba2f379037d42\" }\n",
    "call_transaction = CallTransactionBuilder()\\\n",
    "    .from_(deployer_wallet.get_address())\\\n",
    "    .to(\"cxbf1a257dcb378b0fd41066fa87abef3f25992832\") \\\n",
    "    .nid(NID) \\\n",
    "    .nonce(100) \\\n",
    "    .method(\"setUSDbAddress\")\\\n",
    "    .params(params)\\\n",
    "    .build()\n",
    "\n",
    "estimate_step = icon_service.estimate_step(call_transaction)\n",
    "step_limit = estimate_step + 100000\n",
    "# Returns the signed transaction object having a signature\n",
    "signed_transaction = SignedTransaction(call_transaction, deployer_wallet,step_limit)\n",
    "\n",
    "# Reads params to transfer to nodes\n",
    "print(signed_transaction.signed_transaction_dict)\n",
    "\n",
    "# Sends the transaction\n",
    "tx_hash = icon_service.send_transaction(signed_transaction)\n",
    "\n",
    "get_tx_result(tx_hash)"
   ]
  },
  {
   "cell_type": "markdown",
   "metadata": {},
   "source": [
    "## Setting interfaces in LendingPoolDataProvider"
   ]
  },
  {
   "cell_type": "code",
   "execution_count": 14,
   "metadata": {},
   "outputs": [
    {
     "name": "stdout",
     "output_type": "stream",
     "text": [
      "{'version': '0x3', 'from': 'hx91bf040426f226b3bfcd2f0b5967bbb0320525ce', 'to': 'cx84490f03cc04b799fe668545340eaeac7cae628c', 'stepLimit': '0x3db30', 'timestamp': '0x5b30905a139f8', 'nid': '0x3', 'nonce': '0x64', 'dataType': 'call', 'data': {'method': 'setLendingPoolCoreAddress', 'params': {'_address': 'cx162fe5b5d3276e9493de1fd440511f0844ca9a7c'}}, 'signature': 'sATOVxx94uGnvFWux4iUTuPReQMw4M1yVjPo1GBLSdxH+m8AQwftr5gJh86bX5sD7T1/Lh2FlIL/YBPj94USdAE='}\n"
     ]
    },
    {
     "name": "stderr",
     "output_type": "stream",
     "text": [
      "Raised JSONRPCException while returning the custom response. Error message: {'code': -32602, 'message': 'Pending transaction'}\n"
     ]
    },
    {
     "name": "stdout",
     "output_type": "stream",
     "text": [
      "{'code': -32602, 'message': 'Pending transaction'} (Json rpc error), Retrying in 1 seconds...\n"
     ]
    },
    {
     "data": {
      "text/plain": [
       "{'txHash': '0x78af14823370c3c75204802d846d3f9cf849e8016b741b03e0c953d0b75b14b2',\n",
       " 'blockHeight': 95281,\n",
       " 'blockHash': '0xdb46541a96584cfcaba5ac4a106349cf6eedf765561f2f824721b37b25e4ac83',\n",
       " 'txIndex': 1,\n",
       " 'to': 'cx84490f03cc04b799fe668545340eaeac7cae628c',\n",
       " 'stepUsed': 152720,\n",
       " 'stepPrice': 10000000000,\n",
       " 'cumulativeStepUsed': 152720,\n",
       " 'eventLogs': [],\n",
       " 'logsBloom': b'\\x00\\x00\\x00\\x00\\x00\\x00\\x00\\x00\\x00\\x00\\x00\\x00\\x00\\x00\\x00\\x00\\x00\\x00\\x00\\x00\\x00\\x00\\x00\\x00\\x00\\x00\\x00\\x00\\x00\\x00\\x00\\x00\\x00\\x00\\x00\\x00\\x00\\x00\\x00\\x00\\x00\\x00\\x00\\x00\\x00\\x00\\x00\\x00\\x00\\x00\\x00\\x00\\x00\\x00\\x00\\x00\\x00\\x00\\x00\\x00\\x00\\x00\\x00\\x00\\x00\\x00\\x00\\x00\\x00\\x00\\x00\\x00\\x00\\x00\\x00\\x00\\x00\\x00\\x00\\x00\\x00\\x00\\x00\\x00\\x00\\x00\\x00\\x00\\x00\\x00\\x00\\x00\\x00\\x00\\x00\\x00\\x00\\x00\\x00\\x00\\x00\\x00\\x00\\x00\\x00\\x00\\x00\\x00\\x00\\x00\\x00\\x00\\x00\\x00\\x00\\x00\\x00\\x00\\x00\\x00\\x00\\x00\\x00\\x00\\x00\\x00\\x00\\x00\\x00\\x00\\x00\\x00\\x00\\x00\\x00\\x00\\x00\\x00\\x00\\x00\\x00\\x00\\x00\\x00\\x00\\x00\\x00\\x00\\x00\\x00\\x00\\x00\\x00\\x00\\x00\\x00\\x00\\x00\\x00\\x00\\x00\\x00\\x00\\x00\\x00\\x00\\x00\\x00\\x00\\x00\\x00\\x00\\x00\\x00\\x00\\x00\\x00\\x00\\x00\\x00\\x00\\x00\\x00\\x00\\x00\\x00\\x00\\x00\\x00\\x00\\x00\\x00\\x00\\x00\\x00\\x00\\x00\\x00\\x00\\x00\\x00\\x00\\x00\\x00\\x00\\x00\\x00\\x00\\x00\\x00\\x00\\x00\\x00\\x00\\x00\\x00\\x00\\x00\\x00\\x00\\x00\\x00\\x00\\x00\\x00\\x00\\x00\\x00\\x00\\x00\\x00\\x00\\x00\\x00\\x00\\x00\\x00\\x00\\x00\\x00\\x00\\x00\\x00\\x00\\x00\\x00\\x00\\x00\\x00\\x00\\x00\\x00\\x00\\x00\\x00\\x00',\n",
       " 'status': 1}"
      ]
     },
     "execution_count": 14,
     "metadata": {},
     "output_type": "execute_result"
    }
   ],
   "source": [
    "params ={\"_address\": \"cx162fe5b5d3276e9493de1fd440511f0844ca9a7c\" }\n",
    "call_transaction = CallTransactionBuilder()\\\n",
    "    .from_(deployer_wallet.get_address())\\\n",
    "    .to(\"cx84490f03cc04b799fe668545340eaeac7cae628c\") \\\n",
    "    .nid(NID) \\\n",
    "    .nonce(100) \\\n",
    "    .method(\"setLendingPoolCoreAddress\")\\\n",
    "    .params(params)\\\n",
    "    .build()\n",
    "\n",
    "estimate_step = icon_service.estimate_step(call_transaction)\n",
    "step_limit = estimate_step + 100000\n",
    "# Returns the signed transaction object having a signature\n",
    "signed_transaction = SignedTransaction(call_transaction, deployer_wallet,step_limit)\n",
    "\n",
    "# Reads params to transfer to nodes\n",
    "print(signed_transaction.signed_transaction_dict)\n",
    "\n",
    "# Sends the transaction\n",
    "tx_hash = icon_service.send_transaction(signed_transaction)\n",
    "\n",
    "get_tx_result(tx_hash)"
   ]
  },
  {
   "cell_type": "code",
   "execution_count": 35,
   "metadata": {
    "tags": []
   },
   "outputs": [
    {
     "output_type": "stream",
     "name": "stdout",
     "text": "{'version': '0x3', 'from': 'hx91bf040426f226b3bfcd2f0b5967bbb0320525ce', 'to': 'cx84490f03cc04b799fe668545340eaeac7cae628c', 'stepLimit': '0x3c078', 'timestamp': '0x5b359dbe2723c', 'nid': '0x3', 'nonce': '0x64', 'dataType': 'call', 'data': {'method': 'setOracleAddress', 'params': {'_address': 'cx293582520a75648d91a3c454ad9657aa4cbf1f7d'}}, 'signature': '9q0sZRMcbIvPw2pvt+7ZOunIcpAOIdyBiLAHQ/fVzXclrTnA4o+ZZWy9cxOWlsyy78rjl/16MipQRq7B5PjnngA='}\nRaised JSONRPCException while returning the custom response. Error message: {'code': -32602, 'message': 'Pending transaction'}\n{'code': -32602, 'message': 'Pending transaction'} (Json rpc error), Retrying in 1 seconds...\n"
    },
    {
     "output_type": "execute_result",
     "data": {
      "text/plain": "{'txHash': '0x8a168be45024860194630773f6d0138afde77816ebcf6e2ac18897fc668631c7',\n 'blockHeight': 268660,\n 'blockHash': '0xa05f1cf548e5729beef265c55259e85c8dc3ff5e01baa11c6bb61e150bd109ee',\n 'txIndex': 1,\n 'to': 'cx84490f03cc04b799fe668545340eaeac7cae628c',\n 'stepUsed': 145880,\n 'stepPrice': 10000000000,\n 'cumulativeStepUsed': 145880,\n 'eventLogs': [],\n 'logsBloom': b'\\x00\\x00\\x00\\x00\\x00\\x00\\x00\\x00\\x00\\x00\\x00\\x00\\x00\\x00\\x00\\x00\\x00\\x00\\x00\\x00\\x00\\x00\\x00\\x00\\x00\\x00\\x00\\x00\\x00\\x00\\x00\\x00\\x00\\x00\\x00\\x00\\x00\\x00\\x00\\x00\\x00\\x00\\x00\\x00\\x00\\x00\\x00\\x00\\x00\\x00\\x00\\x00\\x00\\x00\\x00\\x00\\x00\\x00\\x00\\x00\\x00\\x00\\x00\\x00\\x00\\x00\\x00\\x00\\x00\\x00\\x00\\x00\\x00\\x00\\x00\\x00\\x00\\x00\\x00\\x00\\x00\\x00\\x00\\x00\\x00\\x00\\x00\\x00\\x00\\x00\\x00\\x00\\x00\\x00\\x00\\x00\\x00\\x00\\x00\\x00\\x00\\x00\\x00\\x00\\x00\\x00\\x00\\x00\\x00\\x00\\x00\\x00\\x00\\x00\\x00\\x00\\x00\\x00\\x00\\x00\\x00\\x00\\x00\\x00\\x00\\x00\\x00\\x00\\x00\\x00\\x00\\x00\\x00\\x00\\x00\\x00\\x00\\x00\\x00\\x00\\x00\\x00\\x00\\x00\\x00\\x00\\x00\\x00\\x00\\x00\\x00\\x00\\x00\\x00\\x00\\x00\\x00\\x00\\x00\\x00\\x00\\x00\\x00\\x00\\x00\\x00\\x00\\x00\\x00\\x00\\x00\\x00\\x00\\x00\\x00\\x00\\x00\\x00\\x00\\x00\\x00\\x00\\x00\\x00\\x00\\x00\\x00\\x00\\x00\\x00\\x00\\x00\\x00\\x00\\x00\\x00\\x00\\x00\\x00\\x00\\x00\\x00\\x00\\x00\\x00\\x00\\x00\\x00\\x00\\x00\\x00\\x00\\x00\\x00\\x00\\x00\\x00\\x00\\x00\\x00\\x00\\x00\\x00\\x00\\x00\\x00\\x00\\x00\\x00\\x00\\x00\\x00\\x00\\x00\\x00\\x00\\x00\\x00\\x00\\x00\\x00\\x00\\x00\\x00\\x00\\x00\\x00\\x00\\x00\\x00\\x00\\x00\\x00\\x00\\x00\\x00',\n 'status': 1}"
     },
     "metadata": {},
     "execution_count": 35
    }
   ],
   "source": [
    "params ={\"_address\": \"cx293582520a75648d91a3c454ad9657aa4cbf1f7d\" }\n",
    "call_transaction = CallTransactionBuilder()\\\n",
    "    .from_(deployer_wallet.get_address())\\\n",
    "    .to(\"cx84490f03cc04b799fe668545340eaeac7cae628c\") \\\n",
    "    .nid(NID) \\\n",
    "    .nonce(100) \\\n",
    "    .method(\"setOracleAddress\")\\\n",
    "    .params(params)\\\n",
    "    .build()\n",
    "\n",
    "estimate_step = icon_service.estimate_step(call_transaction)\n",
    "step_limit = estimate_step + 100000\n",
    "# Returns the signed transaction object having a signature\n",
    "signed_transaction = SignedTransaction(call_transaction, deployer_wallet,step_limit)\n",
    "\n",
    "# Reads params to transfer to nodes\n",
    "print(signed_transaction.signed_transaction_dict)\n",
    "\n",
    "# Sends the transaction\n",
    "tx_hash = icon_service.send_transaction(signed_transaction)\n",
    "get_tx_result(tx_hash)"
   ]
  },
  {
   "cell_type": "markdown",
   "metadata": {},
   "source": [
    "## Setting Price in Oracle"
   ]
  },
  {
   "cell_type": "code",
   "execution_count": 34,
   "metadata": {
    "tags": []
   },
   "outputs": [
    {
     "name": "stdout",
     "output_type": "stream",
     "text": [
      "{'version': '0x3', 'from': 'hx91bf040426f226b3bfcd2f0b5967bbb0320525ce', 'to': 'cx293582520a75648d91a3c454ad9657aa4cbf1f7d', 'stepLimit': '0x3bf88', 'timestamp': '0x5b359d9761695', 'nid': '0x3', 'nonce': '0x64', 'dataType': 'call', 'data': {'method': 'set_reference_data', 'params': {'_base': 'USDb', '_quote': 'USD', '_rate': '0x6f05b59d3b20000'}}, 'signature': 'xoc94hdu+Sc6ZdL31oIjltkGCRJFGbg9ogT6WSoB/DsDQuS4iQtvGzGVN9t5sddKk6VtKBV38v4KGaTRSXVb6AA='}\n",
      "Raised JSONRPCException while returning the custom response. Error message: {'code': -32602, 'message': 'Pending transaction'}\n",
      "{'code': -32602, 'message': 'Pending transaction'} (Json rpc error), Retrying in 1 seconds...\n"
     ]
    },
    {
     "data": {
      "text/plain": [
       "{'txHash': '0x88f684bc4419ee00c4d3bfbec318f38a822764693bbadba8c5fc38a3b74bf093',\n",
       " 'blockHeight': 268640,\n",
       " 'blockHash': '0x4c2025fa7a09f4b9687b0550bdefd2b7b523c63df44989e0332e19512232ea73',\n",
       " 'txIndex': 1,\n",
       " 'to': 'cx293582520a75648d91a3c454ad9657aa4cbf1f7d',\n",
       " 'stepUsed': 145640,\n",
       " 'stepPrice': 10000000000,\n",
       " 'cumulativeStepUsed': 145640,\n",
       " 'eventLogs': [],\n",
       " 'logsBloom': b'\\x00\\x00\\x00\\x00\\x00\\x00\\x00\\x00\\x00\\x00\\x00\\x00\\x00\\x00\\x00\\x00\\x00\\x00\\x00\\x00\\x00\\x00\\x00\\x00\\x00\\x00\\x00\\x00\\x00\\x00\\x00\\x00\\x00\\x00\\x00\\x00\\x00\\x00\\x00\\x00\\x00\\x00\\x00\\x00\\x00\\x00\\x00\\x00\\x00\\x00\\x00\\x00\\x00\\x00\\x00\\x00\\x00\\x00\\x00\\x00\\x00\\x00\\x00\\x00\\x00\\x00\\x00\\x00\\x00\\x00\\x00\\x00\\x00\\x00\\x00\\x00\\x00\\x00\\x00\\x00\\x00\\x00\\x00\\x00\\x00\\x00\\x00\\x00\\x00\\x00\\x00\\x00\\x00\\x00\\x00\\x00\\x00\\x00\\x00\\x00\\x00\\x00\\x00\\x00\\x00\\x00\\x00\\x00\\x00\\x00\\x00\\x00\\x00\\x00\\x00\\x00\\x00\\x00\\x00\\x00\\x00\\x00\\x00\\x00\\x00\\x00\\x00\\x00\\x00\\x00\\x00\\x00\\x00\\x00\\x00\\x00\\x00\\x00\\x00\\x00\\x00\\x00\\x00\\x00\\x00\\x00\\x00\\x00\\x00\\x00\\x00\\x00\\x00\\x00\\x00\\x00\\x00\\x00\\x00\\x00\\x00\\x00\\x00\\x00\\x00\\x00\\x00\\x00\\x00\\x00\\x00\\x00\\x00\\x00\\x00\\x00\\x00\\x00\\x00\\x00\\x00\\x00\\x00\\x00\\x00\\x00\\x00\\x00\\x00\\x00\\x00\\x00\\x00\\x00\\x00\\x00\\x00\\x00\\x00\\x00\\x00\\x00\\x00\\x00\\x00\\x00\\x00\\x00\\x00\\x00\\x00\\x00\\x00\\x00\\x00\\x00\\x00\\x00\\x00\\x00\\x00\\x00\\x00\\x00\\x00\\x00\\x00\\x00\\x00\\x00\\x00\\x00\\x00\\x00\\x00\\x00\\x00\\x00\\x00\\x00\\x00\\x00\\x00\\x00\\x00\\x00\\x00\\x00\\x00\\x00\\x00\\x00\\x00\\x00\\x00\\x00',\n",
       " 'status': 1}"
      ]
     },
     "execution_count": 34,
     "metadata": {},
     "output_type": "execute_result"
    }
   ],
   "source": [
    "params ={\"_base\": \"USDb\", \"_quote\":\"USD\",\"_rate\": 5 * 10**17 }\n",
    "call_transaction = CallTransactionBuilder()\\\n",
    "    .from_(deployer_wallet.get_address())\\\n",
    "    .to(\"cx293582520a75648d91a3c454ad9657aa4cbf1f7d\") \\\n",
    "    .nid(NID) \\\n",
    "    .nonce(100) \\\n",
    "    .method(\"set_reference_data\")\\\n",
    "    .params(params)\\\n",
    "    .build()\n",
    "signed_transaction = SignedTransaction(transaction, deployer_wallet)\n",
    "tx_hash = icon_service.send_transaction(signed_transaction)\n",
    "get_tx_result(tx_hash)"
   ]
  },
  {
   "cell_type": "markdown",
   "metadata": {},
   "source": [
    "## Withdraw USDb"
   ]
  },
  {
   "cell_type": "code",
   "execution_count": 21,
   "metadata": {},
   "outputs": [
    {
     "data": {
      "text/plain": [
       "{'txHash': '0x92bf19e380edba727dc293b05b1c8fb8722325b6f0c1edf718e5e8fc5838dad9',\n",
       " 'blockHeight': 408422,\n",
       " 'blockHash': '0x60bf7da093c2daf566e02669fbf6610be1eb3049926481c07112eaaf34d66a5e',\n",
       " 'txIndex': 1,\n",
       " 'to': 'cx48dd26868c25cfa744aab9f2fccd76ed40c41454',\n",
       " 'stepUsed': 1114480,\n",
       " 'stepPrice': 10000000000,\n",
       " 'cumulativeStepUsed': 1114480,\n",
       " 'eventLogs': [{'scoreAddress': 'cx48dd26868c25cfa744aab9f2fccd76ed40c41454',\n",
       "   'indexed': ['Mint(Address,int)',\n",
       "    'hx91bf040426f226b3bfcd2f0b5967bbb0320525ce'],\n",
       "   'data': ['0x763ac7b8cf9']},\n",
       "  {'scoreAddress': 'cx48dd26868c25cfa744aab9f2fccd76ed40c41454',\n",
       "   'indexed': ['Burn(Address,int)',\n",
       "    'hx91bf040426f226b3bfcd2f0b5967bbb0320525ce'],\n",
       "   'data': ['0x56bc75e2d63100000']},\n",
       "  {'scoreAddress': 'cx162fe5b5d3276e9493de1fd440511f0844ca9a7c',\n",
       "   'indexed': ['ReserveUpdated(Address,int,int,int,int)',\n",
       "    'cx072d8f95877a53df350e3dc3d8dba2f379037d42',\n",
       "    '0x112ade44fc2',\n",
       "    '0x163ab16f662af'],\n",
       "   'data': ['0xde0b6b66e555971', '0xde0ba0c9ce15fc5']},\n",
       "  {'scoreAddress': 'cx072d8f95877a53df350e3dc3d8dba2f379037d42',\n",
       "   'indexed': ['Transfer(Address,Address,int,bytes)',\n",
       "    'cx162fe5b5d3276e9493de1fd440511f0844ca9a7c',\n",
       "    'hx91bf040426f226b3bfcd2f0b5967bbb0320525ce',\n",
       "    '0x56bc75e2d63100000'],\n",
       "   'data': ['0x4e6f6e65']},\n",
       "  {'scoreAddress': 'cxbf1a257dcb378b0fd41066fa87abef3f25992832',\n",
       "   'indexed': ['RedeemUnderlying(Address,Address,int,int)',\n",
       "    'cx072d8f95877a53df350e3dc3d8dba2f379037d42',\n",
       "    'hx91bf040426f226b3bfcd2f0b5967bbb0320525ce',\n",
       "    '0x56bc75e2d63100000'],\n",
       "   'data': ['0x5b39b0580598d']},\n",
       "  {'scoreAddress': 'cx48dd26868c25cfa744aab9f2fccd76ed40c41454',\n",
       "   'indexed': ['Redeem(Address,int,int,int)',\n",
       "    'hx91bf040426f226b3bfcd2f0b5967bbb0320525ce',\n",
       "    '0x56bc75e2d63100000',\n",
       "    '0x763ac7b8cf9'],\n",
       "   'data': ['0xde0b6b66e555971']}],\n",
       " 'logsBloom': b'\\x00\\x00\\x00\\x00\\x00\\x00\\x00\\x10\\x00\\x10\\x00 \\x00\\x00\\x00\\x00@\\x01\\x00\\x00@\\x00\\x00\\x02\\x00\\x00\\x00\\x08\\x00\\x00\\x00\\x00\\x00\\x00\\x00\\x00\\x00\\x00\\x00\\x00\\x00\\x00\\x00\\x00\\x00\\x00\\x00\\x00\\x00\\x00\\x00\\x88\\x00\\x00\\x00\\x00\\x00\\x00\\x00\\x80\\x00\\x00\\x00\\x00\\x00\\x00\\x00\\x00\\x00\\x00\\x00\\x00\\x00\\x00\\x00\\x10\\x00\\x00\\x00\\x04\\x00\\x00\\x00\\x00\\x00\\x00\\x00\\x00\\x00\\x00\\x00\\x00\\x00\\x08\\x00\\x00\\x00\\x00\\x00 \\x00\\x00\\x00\\x00\\x00\\x00\\x00\\x00\\x00\\x00B\\x00\\x00\\x10\\x00\\x00\\x00\\x08\\x00\\x00\\x00\\x00\\x00\\x00\\x00\\x00\\x00\\x00\\x00\\x02\\x00\\x00\\x00\\x00\\x01\\x08\\x00\\x04\\x00\\x00\\x00\\x00@\\x01\\x00\\x00\\x01\\xc2\\x10\\x00\\x00\\x00\\x00\\x00\\x00\\x00\\x00\\x10\\x00\\x80\\x00\\x00\\x00\\x00\\x00\\x00\\x00\\x00\\x10 \\x01\\x00\\x00 \\x00\\x00\\x00\\x00\\x00\\x00\\x00@\\x00\\x82\\x00\\x00\\x00\\x00\\x80\\x00\\x00\\x00\\x00\\x00\\x00\\x00\\x00@\\x00\\x00\\x00\\x00\\x00\\x82\\x00\\x00\\x00\\x00\\x00\\x01\\x00\\x00\\x00\\x01@\\x88\\x02\\x00\\x00\\x00\\x00\\x00\\x00\\x00\\x80\\x10\\x02\\x00\\x00\\x00\\x18\\x00\\x00\\x00\\x00\\x00\\x00\\x00\\x00\\x00\\x00\\x04\\x00\\x00 \\x00\\x00\\x00\\x00\\x00\\x00\\x00\\x00\\x00\\x00\\x00',\n",
       " 'status': 1}"
      ]
     },
     "execution_count": 21,
     "metadata": {},
     "output_type": "execute_result"
    }
   ],
   "source": [
    "params = {\"_amount\": 100000000000000000000}\n",
    "transaction = CallTransactionBuilder()\\\n",
    "    .from_(deployer_wallet.get_address())\\\n",
    "    .to(oUSDb)\\\n",
    "    .value(0)\\\n",
    "    .step_limit(10000000)\\\n",
    "    .nid(3)\\\n",
    "    .nonce(100)\\\n",
    "    .method(\"redeem\")\\\n",
    "    .params(params)\\\n",
    "    .build()\n",
    "signed_transaction = SignedTransaction(transaction, deployer_wallet)\n",
    "tx_hash = icon_service.send_transaction(signed_transaction)\n",
    "get_tx_result(tx_hash)"
   ]
  },
  {
   "cell_type": "code",
   "execution_count": 40,
   "metadata": {},
   "outputs": [
    {
     "data": {
      "text/plain": [
       "{'txHash': '0x6a6484fdfaf726b3c344a88c7ee69e7899199adbfbe5680cb6581a9d5b9ae222',\n",
       " 'blockHeight': 409216,\n",
       " 'blockHash': '0x3b7800710eb22c4b255e3a541877fae1ba9f633cc41ea1aeb430fa660e411588',\n",
       " 'txIndex': 1,\n",
       " 'to': 'cx072d8f95877a53df350e3dc3d8dba2f379037d42',\n",
       " 'stepUsed': 917100,\n",
       " 'stepPrice': 10000000000,\n",
       " 'cumulativeStepUsed': 917100,\n",
       " 'eventLogs': [{'scoreAddress': 'cx162fe5b5d3276e9493de1fd440511f0844ca9a7c',\n",
       "   'indexed': ['ReserveUpdated(Address,int,int,int,int)',\n",
       "    'cx072d8f95877a53df350e3dc3d8dba2f379037d42',\n",
       "    '0xca737158c5',\n",
       "    '0x131588f9de4f5'],\n",
       "   'data': ['0xde0b6b671e0f407', '0xde0ba113418579e']},\n",
       "  {'scoreAddress': 'cx072d8f95877a53df350e3dc3d8dba2f379037d42',\n",
       "   'indexed': ['Transfer(Address,Address,int,bytes)',\n",
       "    'cxbf1a257dcb378b0fd41066fa87abef3f25992832',\n",
       "    'cx162fe5b5d3276e9493de1fd440511f0844ca9a7c',\n",
       "    '0xdfb5f45b0d9cc27'],\n",
       "   'data': ['0x4e6f6e65']},\n",
       "  {'scoreAddress': 'cxbf1a257dcb378b0fd41066fa87abef3f25992832',\n",
       "   'indexed': ['Repay(Address,Address,int,int,int,int)',\n",
       "    'cx072d8f95877a53df350e3dc3d8dba2f379037d42',\n",
       "    'hx91bf040426f226b3bfcd2f0b5967bbb0320525ce',\n",
       "    '0xde0ba0fdd090c27'],\n",
       "   'data': ['0x1aa535d3d0c000', '0x35c35a50c27', '0x5b39b6445d85c']},\n",
       "  {'scoreAddress': 'cx072d8f95877a53df350e3dc3d8dba2f379037d42',\n",
       "   'indexed': ['Transfer(Address,Address,int,bytes)',\n",
       "    'hx91bf040426f226b3bfcd2f0b5967bbb0320525ce',\n",
       "    'cxbf1a257dcb378b0fd41066fa87abef3f25992832',\n",
       "    '0x8ac7230489e80000'],\n",
       "   'data': ['0x7b226d6574686f64223a20227265706179222c2022706172616d73223a207b22616d6f756e74223a2031303030303030303030303030303030303030307d7d']}],\n",
       " 'logsBloom': b'\\x00\\x00\\x00\\x00\\x00\\x00\\x00\\x10\\x00\\x00\\x00 \\x00\\x00\\x00\\x00\\x80\\x00\\x00\\x00\\x01\\x00\\x00\\x02\\x00\\x00\\x00\\x00\\x08\\x00\\x00\\x00\\x00\\x02\\x00\\x00\\x00\\x00\\x00\\x00\\x04\\x00\\x10\\x00\\x00\\x00\\x00\\x00\\x00\\x00\\x01\\x80\\x00\\x00\\x00\\x00\\x00\\x00\\x00\\x80\\x00\\x00\\x00\\x00\\x00\\x00\\x00\\x00\\x00\\x00\\x00\\x00\\x00\\x00\\x00@\\x00\\x00\\x00\\x00\\x00\\x04\\x00\\x00\\x01\\x00\\x00\\x00\\x00\\x00\\x00\\x10\\x00\\x00\\x00 \\x00\\x00\\x00 \\x00\\x01\\x00\\x00\\x00\\x00\\x10\\x80\\x00\\x00B\\x00\\x00\\x00\\x00\\x00\\x00\\x00\\x02\\x00\\x00\\x00\\x00\\x00\\x00\\x00\\x00\\x00\\x10\\x00\\x00\\x00\\x00\\x04\\x01\\x00\\x00\\x00\\x00\\x00\\x00\\x00\\x00\\x00\\x00\\x00\\x01@\\x00\\x00\\x00\\x00\\x00\\x00\\x00\\x00\\x00\\x10\\x00\\x00\\x00\\x00\\x00\\x00\\x00\\x00\\x00\\x00\\x000\\x01\\x00\\x00\\x00\\x00\\x00\\x00\\x00\\x00\\x00\\x00\\x00 \\x82\\x00@\\x00\\x00\\x80\\x00\\x01\\x00\\x00\\x00\\x00\\x00\\x00@\\x00\\x00\\x00\\x00\\x00\\x00\\x00\\x00\\x10@\\x00\\x00\\x00\\x00\\x00\\x01\\x00\\x00\\x02\\x00\\x00\\x00\\x00\\x00\\x00\\x00\\x80\\x10\"\\x00\\x08\\x00\\x00\\x00\\x00\\x00\\x00\\x00\\x00\\x00\\x00\\x00\\x00\\x00\\x02\\x00 \\x00\\x00\\x00\\x00\\x00\\x00\\x00\\x00\\x00\\x00\\x00',\n",
       " 'status': 1}"
      ]
     },
     "execution_count": 40,
     "metadata": {},
     "output_type": "execute_result"
    }
   ],
   "source": [
    "\n",
    "data = \"{\\\"method\\\": \\\"repay\\\", \\\"params\\\": {\\\"amount\\\": 10000000000000000000}}\".encode(\"utf-8\")\n",
    "params = {\"_to\": LendingPool, \"_value\": 10000000000000000000, \"_data\": data}\n",
    "transaction = CallTransactionBuilder()\\\n",
    "    .from_(deployer_wallet.get_address())\\\n",
    "    .to(USDb)\\\n",
    "    .value(0)\\\n",
    "    .step_limit(10000000)\\\n",
    "    .nid(3)\\\n",
    "    .nonce(100)\\\n",
    "    .method(\"transfer\")\\\n",
    "    .params(params)\\\n",
    "    .build()\n",
    "signed_transaction = SignedTransaction(transaction, deployer_wallet)\n",
    "tx_hash = icon_service.send_transaction(signed_transaction)\n",
    "get_tx_result(tx_hash)"
    "\n",
    "estimate_step = icon_service.estimate_step(call_transaction)\n",
    "step_limit = estimate_step + 100000\n",
    "# Returns the signed transaction object having a signature\n",
    "signed_transaction = SignedTransaction(call_transaction, deployer_wallet,step_limit)\n",
    "\n",
    "# Reads params to transfer to nodes\n",
    "print(signed_transaction.signed_transaction_dict)\n",
    "\n",
    "# Sends the transaction\n",
    "tx_hash = icon_service.send_transaction(signed_transaction)\n"
   ]
  },
  {
   "cell_type": "markdown",
   "metadata": {
    "slideshow": {
     "slide_type": "slide"
    }
   },
   "source": [
    "### ICX Transfer"
   ]
  },
  {
   "cell_type": "code",
   "execution_count": 8,
   "metadata": {
    "scrolled": true,
    "slideshow": {
     "slide_type": "-"
    },
    "tags": []
   },
   "outputs": [
    {
     "name": "stdout",
     "output_type": "stream",
     "text": [
      "{'version': '0x3', 'from': 'hx91bf040426f226b3bfcd2f0b5967bbb0320525ce', 'to': 'hx177b10efe3018961a405cc7c20ee811c552831a5', 'stepLimit': '0x30d40', 'timestamp': '0x5b352f9520905', 'nid': '0x3', 'value': '0x10f0cf064dd59200000', 'nonce': '0x64', 'signature': 'k2uHKccWbioV8N5TkAXuffsOprQ90Jb5nMD9M2u3PiBE1WO3h2c0zzDsmNR3/8nq2Ypz20vvh2bVFm2L1kQhFAE='}\n",
      "Raised JSONRPCException while returning the custom response. Error message: {'code': -32602, 'message': 'Pending transaction'}\n",
      "{'code': -32602, 'message': 'Pending transaction'} (Json rpc error), Retrying in 1 seconds...\n"
     ]
    },
    {
     "data": {
      "text/plain": [
       "{'txHash': '0x8f67dc35d0b967bdac94eb8431b7956c0f21d72de631f6e5538cd01612c0379c',\n",
       " 'blockHeight': 253893,\n",
       " 'blockHash': '0xde3f86e1c017936f5a60e9ddf7381590423c9c69a440e1420fe42036acea9a9b',\n",
       " 'txIndex': 1,\n",
       " 'to': 'hx177b10efe3018961a405cc7c20ee811c552831a5',\n",
       " 'stepUsed': 100000,\n",
       " 'stepPrice': 10000000000,\n",
       " 'cumulativeStepUsed': 100000,\n",
       " 'eventLogs': [],\n",
       " 'logsBloom': b'\\x00\\x00\\x00\\x00\\x00\\x00\\x00\\x00\\x00\\x00\\x00\\x00\\x00\\x00\\x00\\x00\\x00\\x00\\x00\\x00\\x00\\x00\\x00\\x00\\x00\\x00\\x00\\x00\\x00\\x00\\x00\\x00\\x00\\x00\\x00\\x00\\x00\\x00\\x00\\x00\\x00\\x00\\x00\\x00\\x00\\x00\\x00\\x00\\x00\\x00\\x00\\x00\\x00\\x00\\x00\\x00\\x00\\x00\\x00\\x00\\x00\\x00\\x00\\x00\\x00\\x00\\x00\\x00\\x00\\x00\\x00\\x00\\x00\\x00\\x00\\x00\\x00\\x00\\x00\\x00\\x00\\x00\\x00\\x00\\x00\\x00\\x00\\x00\\x00\\x00\\x00\\x00\\x00\\x00\\x00\\x00\\x00\\x00\\x00\\x00\\x00\\x00\\x00\\x00\\x00\\x00\\x00\\x00\\x00\\x00\\x00\\x00\\x00\\x00\\x00\\x00\\x00\\x00\\x00\\x00\\x00\\x00\\x00\\x00\\x00\\x00\\x00\\x00\\x00\\x00\\x00\\x00\\x00\\x00\\x00\\x00\\x00\\x00\\x00\\x00\\x00\\x00\\x00\\x00\\x00\\x00\\x00\\x00\\x00\\x00\\x00\\x00\\x00\\x00\\x00\\x00\\x00\\x00\\x00\\x00\\x00\\x00\\x00\\x00\\x00\\x00\\x00\\x00\\x00\\x00\\x00\\x00\\x00\\x00\\x00\\x00\\x00\\x00\\x00\\x00\\x00\\x00\\x00\\x00\\x00\\x00\\x00\\x00\\x00\\x00\\x00\\x00\\x00\\x00\\x00\\x00\\x00\\x00\\x00\\x00\\x00\\x00\\x00\\x00\\x00\\x00\\x00\\x00\\x00\\x00\\x00\\x00\\x00\\x00\\x00\\x00\\x00\\x00\\x00\\x00\\x00\\x00\\x00\\x00\\x00\\x00\\x00\\x00\\x00\\x00\\x00\\x00\\x00\\x00\\x00\\x00\\x00\\x00\\x00\\x00\\x00\\x00\\x00\\x00\\x00\\x00\\x00\\x00\\x00\\x00\\x00\\x00\\x00\\x00\\x00\\x00',\n",
       " 'status': 1}"
      ]
     },
     "execution_count": 8,
     "metadata": {},
     "output_type": "execute_result"
    }
   ],
   "source": [
    "transaction = TransactionBuilder()\\\n",
    "    .from_(deployer_wallet.get_address())\\\n",
    "    .to(\"hx177b10efe3018961a405cc7c20ee811c552831a5\")\\\n",
    "    .nid(3) \\\n",
    "    .nonce(100) \\\n",
    "    .value(10000*10**18)\\\n",
    "    .build()\n",
    "\n",
    "estimate_step = icon_service.estimate_step(transaction)\n",
    "step_limit = estimate_step + 100000\n",
    "# Returns the signed transaction object having a signature\n",
    "signed_transaction = SignedTransaction(transaction, deployer_wallet,step_limit)\n",
    "\n",
    "# Reads params to transfer to nodes\n",
    "print(signed_transaction.signed_transaction_dict)\n",
    "\n",
    "# Sends the transaction\n",
    "tx_hash = icon_service.send_transaction(signed_transaction)\n",
    "\n",
    "get_tx_result(tx_hash)"
   ]
  },
  {
   "cell_type": "code",
   "execution_count": 10,
   "metadata": {
    "slideshow": {
     "slide_type": "-"
    },
    "tags": []
   },
   "outputs": [
    {
     "name": "stdout",
     "output_type": "stream",
     "text": [
      "78735532.9413376\n"
     ]
    }
   ],
   "source": [
    "# hx91bf040426f226b3bfcd2f0b5967bbb0320525ce\n",
    "balance = icon_service.get_balance(\"hx91bf040426f226b3bfcd2f0b5967bbb0320525ce\")\n",
    "print(balance/10**18)"
   ]
  },
  {
   "cell_type": "code",
   "execution_count": 29,
   "metadata": {
    "tags": []
   },
   "outputs": [
    {
     "output_type": "stream",
     "name": "stdout",
     "text": "{'currentLiquidationThreshold': 2.5838e-14,\n 'currentLtv': 60.0,\n 'healthFactor': 203882.82366782034,\n 'healthFactorBelowThreshold': 0.0,\n 'totalBorrowBalanceUSD': 0.5000003816736971,\n 'totalCollateralBalanceUSD': 397.5000009264478,\n 'totalFeesUSD': 0.00375,\n 'totalLiquidityBalanceUSD': 397.5000009264478}\n"
    }
   ],
   "source": [
    "\n",
    "_call = CallBuilder()\\\n",
    "    .from_(deployer_wallet.get_address())\\\n",
    "    .to(\"cxad29953f5b8957704e9092632bccc3b1aac62eea\")\\\n",
    "    .method(\"getAllAddress\")\\\n",
    "    .build()\n",
    "response = icon_service.call(_call)\n",
    "print(response)"
   ]
  },
  {
   "cell_type": "code",
   "execution_count": 60,
   "metadata": {},
   "outputs": [
    {
     "name": "stdout",
     "output_type": "stream",
     "text": [
      "{'totalLiquidityBalanceUSD': '0x1af8330e6448ec313b', 'totalCollateralBalanceUSD': '0x0', 'totalBorrowBalanceUSD': '0x6f05b72089d1c31', 'totalFeesUSD': '0xd529ae9e86000', 'currentLtv': '0x0', 'currentLiquidationThreshold': '0x0', 'healthFactor': '0x0', 'healthFactorBelowThreshold': '0x1'}\n"
     ]
    }
   ],
   "source": [
    "params = {'_user': 'hx91bf040426f226b3bfcd2f0b5967bbb0320525ce' }\n",
    "\n",
    "_call = CallBuilder()\\\n",
    "    .from_(deployer_wallet.get_address())\\\n",
    "    .to(LENDING_POOL_DATA_PROVIDER)\\\n",
    "    .method(\"getUserAccountData\")\\\n",
    "    .params(params)\\\n",
    "    .build()\n",
    "response = icon_service.call(_call)\n",
    "for key,values in response.items():\n",
    "    if key!=\"lastUpdateTimestamp\":\n",
    "        response[key]=int(values,0)/10**18\n",
    "    else:\n",
    "        response[key]=int(values,0)\n",
    "pprint(response)"
   ]
  },
  {
   "cell_type": "code",
   "execution_count": 81,
   "metadata": {
    "tags": []
   },
   "outputs": [
    {
     "name": "stdout",
     "output_type": "stream",
     "text": [
      "0x43a0ad274cb19f39504a\n"
     ]
     "text": "{'borrowRate': 0.000440251572327044,\n 'currentBorrowBalance': 1.0000007629006646,\n 'currentBorrowBalanceUSD': 0.5000003814503323,\n 'currentOTokenBalance': 795.0000018516895,\n 'currentOTokenBalanceUSD': 397.50000092584474,\n 'lastUpdateTimestamp': 1604574108126959,\n 'liquidityRate': 1.495194019224e-06,\n 'originationFee': 0.0075,\n 'principalBorrowBalance': 1.0,\n 'principalBorrowBalanceUSD': 0.5,\n 'useAsCollateral': 1e-18,\n 'userBorrowCumulativeIndex': 1.0000000057555662}\n"
    }
   ],
   "source": [
    "params = {'_user': 'hx91bf040426f226b3bfcd2f0b5967bbb0320525ce' ,\"_reserve\":\"cx072d8f95877a53df350e3dc3d8dba2f379037d42\",\"_amount\":1000000000000000000}\n",
    "\n",
    "_call = CallBuilder()\\\n",
    "    .from_(deployer_wallet.get_address())\\\n",
    "    .to(LENDING_POOL_DATA_PROVIDER)\\\n",
    "    .method(\"balanceDecreaseAllowed\")\\\n",
    "    .params(params)\\\n",
    "    .build()\n",
    "response = icon_service.call(_call)\n",
    "for key,values in response.items():\n",
    "    if key!=\"lastUpdateTimestamp\":\n",
    "        response[key]=int(values,0)/10**18\n",
    "    else:\n",
    "        response[key]=int(values,0)\n",
    "pprint(response)"
   ]
  },
  {
   "cell_type": "code",
   "execution_count": 86,
   "execution_count": null,
   "metadata": {},
   "outputs": [],
   "source": [
    "1000000012771556790\n",
    "1000000000000000000"
   ]
  },
  {
   "cell_type": "code",
   "execution_count": 25,
   "metadata": {
    "tags": []
   },
   "outputs": [
    {
     "name": "stdout",
     "output_type": "stream",
     "text": [
      "{'totalLiquidityBalanceUSD': '0x183b5f03f8fff821e3', 'totalCollateralBalanceUSD': '0x183b5f03f8fff821e3', 'totalBorrowBalanceUSD': '0x6f05b73f9c74aad', 'totalFeesUSD': '0xd529ae9e86000', 'currentLtv': '0x340aad21b3b700000', 'currentLiquidationThreshold': '0x717f', 'healthFactor': '0x36985798df8377294589', 'healthFactorBelowThreshold': '0x0'}\n"
     ]
     "text": "{'baseLTVasCollateral': 60000000000000000000,\n 'borrowingEnabled': 1,\n 'decimals': 18,\n 'isActive': 1,\n 'liquidationBonus': 10,\n 'liquidationThreshold': 65,\n 'usageAsCollateralEnabled': 1}\n"
    }
   ],
   "source": [
    "params = {\"_user\":\"hx91bf040426f226b3bfcd2f0b5967bbb0320525ce\"}\n",
    "# params={\"_base\":\"USDb\",\"_quote\":\"USD\"}\n",
    "_call = CallBuilder()\\\n",
    "    .from_(deployer_wallet.get_address())\\\n",
    "    .to(LendingPoolDataProvider)\\\n",
    "    .method(\"getUserAccountData\")\\\n",
    "    .params(params)\\\n",
    "    .build()\n",
    "response = icon_service.call(_call)\n",
    "for key,values in response.items():\n",
    "    response[key]=int(values,0)\n",
    "pprint(response)\n"
   ]
  },
  {
   "cell_type": "code",
   "execution_count": 63,
   "metadata": {
    "tags": []
   },
   "outputs": [
    {
     "name": "stdout",
     "output_type": "stream",
     "text": [
      "{'version': '0x3', 'from': 'hx91bf040426f226b3bfcd2f0b5967bbb0320525ce', 'to': 'cx162fe5b5d3276e9493de1fd440511f0844ca9a7c', 'stepLimit': '0x40e98', 'timestamp': '0x5b35e68b690d2', 'nid': '0x3', 'nonce': '0x64', 'dataType': 'call', 'data': {'method': 'updateUserReserveUseAsCollateral', 'params': {'_reserveAddress': 'cx072d8f95877a53df350e3dc3d8dba2f379037d42', '_userAddress': 'hx91bf040426f226b3bfcd2f0b5967bbb0320525ce', '_useAsCollateral': '0x1'}}, 'signature': 'KL/M3PTyJ6j3s9GFLtkZQkHSkRJiAuhfJ56/JI4wImldTmTwgX9PKeevGwajGq6ClvK99iM+dha6Potw3JK/9QE='}\n"
     ]
    },
    {
     "data": {
      "text/plain": [
       "{'txHash': '0x53e3c9d6fad192bf400c3a9b6f52fae48845e16c05f2cd68d9e54f129c08f25d',\n",
       " 'blockHeight': 278419,\n",
       " 'blockHash': '0x4ad50deba15abb533f771053471ba0a610762e298de144f7304a5d7d74b27394',\n",
       " 'txIndex': 1,\n",
       " 'to': 'cx162fe5b5d3276e9493de1fd440511f0844ca9a7c',\n",
       " 'stepUsed': 165880,\n",
       " 'stepPrice': 10000000000,\n",
       " 'cumulativeStepUsed': 165880,\n",
       " 'eventLogs': [],\n",
       " 'logsBloom': b'\\x00\\x00\\x00\\x00\\x00\\x00\\x00\\x00\\x00\\x00\\x00\\x00\\x00\\x00\\x00\\x00\\x00\\x00\\x00\\x00\\x00\\x00\\x00\\x00\\x00\\x00\\x00\\x00\\x00\\x00\\x00\\x00\\x00\\x00\\x00\\x00\\x00\\x00\\x00\\x00\\x00\\x00\\x00\\x00\\x00\\x00\\x00\\x00\\x00\\x00\\x00\\x00\\x00\\x00\\x00\\x00\\x00\\x00\\x00\\x00\\x00\\x00\\x00\\x00\\x00\\x00\\x00\\x00\\x00\\x00\\x00\\x00\\x00\\x00\\x00\\x00\\x00\\x00\\x00\\x00\\x00\\x00\\x00\\x00\\x00\\x00\\x00\\x00\\x00\\x00\\x00\\x00\\x00\\x00\\x00\\x00\\x00\\x00\\x00\\x00\\x00\\x00\\x00\\x00\\x00\\x00\\x00\\x00\\x00\\x00\\x00\\x00\\x00\\x00\\x00\\x00\\x00\\x00\\x00\\x00\\x00\\x00\\x00\\x00\\x00\\x00\\x00\\x00\\x00\\x00\\x00\\x00\\x00\\x00\\x00\\x00\\x00\\x00\\x00\\x00\\x00\\x00\\x00\\x00\\x00\\x00\\x00\\x00\\x00\\x00\\x00\\x00\\x00\\x00\\x00\\x00\\x00\\x00\\x00\\x00\\x00\\x00\\x00\\x00\\x00\\x00\\x00\\x00\\x00\\x00\\x00\\x00\\x00\\x00\\x00\\x00\\x00\\x00\\x00\\x00\\x00\\x00\\x00\\x00\\x00\\x00\\x00\\x00\\x00\\x00\\x00\\x00\\x00\\x00\\x00\\x00\\x00\\x00\\x00\\x00\\x00\\x00\\x00\\x00\\x00\\x00\\x00\\x00\\x00\\x00\\x00\\x00\\x00\\x00\\x00\\x00\\x00\\x00\\x00\\x00\\x00\\x00\\x00\\x00\\x00\\x00\\x00\\x00\\x00\\x00\\x00\\x00\\x00\\x00\\x00\\x00\\x00\\x00\\x00\\x00\\x00\\x00\\x00\\x00\\x00\\x00\\x00\\x00\\x00\\x00\\x00\\x00\\x00\\x00\\x00\\x00',\n",
       " 'status': 1}"
      ]
     },
     "execution_count": 63,
     "metadata": {},
     "output_type": "execute_result"
    }
   ],
   "source": [
    "params ={\"_reserveAddress\":\"cx072d8f95877a53df350e3dc3d8dba2f379037d42\",\"_userAddress\": \"hx91bf040426f226b3bfcd2f0b5967bbb0320525ce\",\"_useAsCollateral\": 1}\n",
    "call_transaction = CallTransactionBuilder()\\\n",
    "    .from_(deployer_wallet.get_address())\\\n",
    "    .to(LENDING_POOL_CORE) \\\n",
    "    .nid(NID) \\\n",
    "    .nonce(100) \\\n",
    "    .method(\"updateUserReserveUseAsCollateral\")\\\n",
    "    .params(params)\\\n",
    "    .build()\n",
    "\n",
    "estimate_step = icon_service.estimate_step(call_transaction)\n",
    "step_limit = estimate_step + 100000\n",
    "# Returns the signed transaction object having a signature\n",
    "signed_transaction = SignedTransaction(call_transaction, deployer_wallet,step_limit)\n",
    "\n",
    "# Reads params to transfer to nodes\n",
    "print(signed_transaction.signed_transaction_dict)\n",
    "\n",
    "# Sends the transaction\n",
    "tx_hash = icon_service.send_transaction(signed_transaction)\n",
    "\n",
    "get_tx_result(tx_hash)"
   ]
  },
  {
   "cell_type": "code",
   "execution_count": 12,
   "metadata": {},
   "outputs": [
    {
     "data": {
      "text/plain": [
       "'a691ef7d5601f9b5be4f9b9d80215159ea6ff0b88003e3d34e078d40e778b39a'"
      ]
     },
     "execution_count": 12,
     "metadata": {},
     "output_type": "execute_result"
    }
   ],
   "source": [
    "deployer_wallet.get_private_key()"
   "execution_count": 17,
   "metadata": {
    "tags": []
   },
   "outputs": [
    {
     "output_type": "stream",
     "name": "stdout",
     "text": "795000001589272371715\n"
    }
   ],
   "source": [
    "\n",
    "params = {'_user': 'hx91bf040426f226b3bfcd2f0b5967bbb0320525ce' }\n",
    "\n",
    "_call = CallBuilder()\\\n",
    "    .from_(deployer_wallet.get_address())\\\n",
    "    .to(oUSDb)\\\n",
    "    .method(\"principalBalanceOf\")\\\n",
    "    .params(params)\\\n",
    "    .build()\n",
    "response = icon_service.call(_call)\n",
    "\n",
    "print(int(response,0))"
   ]
  },
  {
   "cell_type": "code",
   "execution_count": 18,
   "metadata": {
    "tags": []
   },
   "outputs": [
    {
     "output_type": "stream",
     "name": "stdout",
     "text": "795000001744001199280\n"
    }
   ],
   "source": [
    "\n",
    "params = {'_owner': 'hx91bf040426f226b3bfcd2f0b5967bbb0320525ce' }\n",
    "\n",
    "_call = CallBuilder()\\\n",
    "    .from_(deployer_wallet.get_address())\\\n",
    "    .to(oUSDb)\\\n",
    "    .method(\"balanceOf\")\\\n",
    "    .params(params)\\\n",
    "    .build()\n",
    "response = icon_service.call(_call)\n",
    "print(int(response,0))"
   ]
  },
  {
   "cell_type": "code",
   "execution_count": null,
   "metadata": {},
   "outputs": [],
   "source": [
    "995000000570919367819\n",
    "995000000564440311889\n",
    "894000001574533095848\n",
    "894000000615847612243\n",
    "894000001574533095848\n",
    "795000001589272371715\n",
    "795000001731223349511"
   ]
  }
 ],
 "metadata": {
  "celltoolbar": "Slideshow",
  "kernelspec": {
   "display_name": "Python 3",
   "language": "python",
   "name": "python3"
  },
  "language_info": {
   "codemirror_mode": {
    "name": "ipython",
    "version": 3
   },
   "file_extension": ".py",
   "mimetype": "text/x-python",
   "name": "python",
   "nbconvert_exporter": "python",
   "pygments_lexer": "ipython3",
   "version": "3.8.5-final"
  },
  "rise": {
   "scroll": true
  }
 },
 "nbformat": 4,
 "nbformat_minor": 2
}