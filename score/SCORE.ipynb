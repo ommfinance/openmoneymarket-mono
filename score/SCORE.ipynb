{
 "cells": [
  {
   "cell_type": "markdown",
   "metadata": {
    "slideshow": {
     "slide_type": "slide"
    }
   },
   "source": [
    "# Jupyter Notebook approach for SCORE interaction"
   ]
  },
  {
   "cell_type": "markdown",
   "metadata": {
    "slideshow": {
     "slide_type": "slide"
    }
   },
   "source": [
    "\n",
    "### Necessary packages "
   ]
  },
  {
   "cell_type": "code",
   "execution_count": 1,
   "metadata": {},
   "outputs": [
    {
     "ename": "ModuleNotFoundError",
     "evalue": "No module named 'checkscore'",
     "output_type": "error",
     "traceback": [
      "\u001b[0;31m---------------------------------------------------------------------------\u001b[0m",
      "\u001b[0;31mModuleNotFoundError\u001b[0m                       Traceback (most recent call last)",
      "\u001b[0;32m<ipython-input-1-4ad88f55b254>\u001b[0m in \u001b[0;36m<module>\u001b[0;34m\u001b[0m\n\u001b[0;32m----> 1\u001b[0;31m \u001b[0;32mfrom\u001b[0m \u001b[0mcheckscore\u001b[0m\u001b[0;34m.\u001b[0m\u001b[0mmethods\u001b[0m \u001b[0;32mimport\u001b[0m \u001b[0mreadonly\u001b[0m\u001b[0;34m,\u001b[0m \u001b[0mexternal\u001b[0m\u001b[0;34m,\u001b[0m \u001b[0mpayable\u001b[0m\u001b[0;34m\u001b[0m\u001b[0;34m\u001b[0m\u001b[0m\n\u001b[0m\u001b[1;32m      2\u001b[0m \u001b[0;32mfrom\u001b[0m \u001b[0mcheckscore\u001b[0m\u001b[0;34m.\u001b[0m\u001b[0mmethods\u001b[0m \u001b[0;32mimport\u001b[0m \u001b[0mCheckscore\u001b[0m\u001b[0;34m\u001b[0m\u001b[0;34m\u001b[0m\u001b[0m\n\u001b[1;32m      3\u001b[0m \u001b[0;32mfrom\u001b[0m \u001b[0miconsdk\u001b[0m\u001b[0;34m.\u001b[0m\u001b[0mwallet\u001b[0m\u001b[0;34m.\u001b[0m\u001b[0mwallet\u001b[0m \u001b[0;32mimport\u001b[0m \u001b[0mKeyWallet\u001b[0m\u001b[0;34m\u001b[0m\u001b[0;34m\u001b[0m\u001b[0m\n\u001b[1;32m      4\u001b[0m \u001b[0;34m\u001b[0m\u001b[0m\n\u001b[1;32m      5\u001b[0m \u001b[0mpassword\u001b[0m \u001b[0;34m=\u001b[0m \u001b[0minput\u001b[0m\u001b[0;34m(\u001b[0m\u001b[0;34m)\u001b[0m\u001b[0;34m\u001b[0m\u001b[0;34m\u001b[0m\u001b[0m\n",
      "\u001b[0;31mModuleNotFoundError\u001b[0m: No module named 'checkscore'"
     ]
    }
   ],
   "source": [
    "from checkscore.methods import readonly, external, payable\n",
    "from checkscore.methods import Checkscore\n",
    "from iconsdk.wallet.wallet import KeyWallet\n",
    "\n",
    "password = input()\n",
    "deployer_wallet = KeyWallet.load(\"keystore_ibriz.json\",password)\n",
    "deployer_wallet.get_address()\n",
    "\n",
    "SCORE_ADDRESS = \"\"\n",
    "Checkscore(SCORE_ADDRESS).fill_methods()"
   ]
  },
  {
   "cell_type": "code",
   "execution_count": 1,
   "metadata": {},
   "outputs": [
    {
     "output_type": "display_data",
     "data": {
      "text/plain": "<IPython.core.display.HTML object>",
      "text/html": "<style>.container { width:100% !important; }</style>"
     },
     "metadata": {}
    }
   ],
   "source": [
    "from IPython.core.display import display, HTML\n",
    "display(HTML(\"<style>.container { width:100% !important; }</style>\"))"
   ]
  },
  {
   "cell_type": "code",
   "execution_count": 16,
   "metadata": {
    "slideshow": {
     "slide_type": "-"
    }
   },
   "outputs": [],
   "source": [
    "from iconsdk.exception import JSONRPCException\n",
    "from iconsdk.libs.in_memory_zip import gen_deploy_data_content\n",
    "from iconsdk.icon_service import IconService\n",
    "from iconsdk.providers.http_provider import HTTPProvider\n",
    "from iconsdk.builder.transaction_builder import CallTransactionBuilder, TransactionBuilder, DeployTransactionBuilder\n",
    "from iconsdk.builder.call_builder import CallBuilder\n",
    "from iconsdk.signed_transaction import SignedTransaction\n",
    "from iconsdk.wallet.wallet import KeyWallet\n",
    "from iconsdk.utils.convert_type import convert_hex_str_to_int\n",
    "from repeater import retry\n",
    "import requests\n",
    "import json\n",
    "import pickle\n",
    "import csv\n",
    "import os\n",
    "\n",
    "@retry(JSONRPCException, tries=10, delay=1, back_off=2)\n",
    "def get_tx_result(_tx_hash):\n",
    "    tx_result = icon_service.get_transaction_result(_tx_hash)\n",
    "    return tx_result\n",
    "\n",
    "mainnet= {\n",
    "    \"iconservice\":\"https://ctz.solidwallet.io\",\n",
    "    \"nid\" :1\n",
    "    \n",
    "}\n",
    "\n",
    "yeouido={\n",
    "     \"iconservice\":\"https://bicon.net.solidwallet.io\",\n",
    "     \"nid\" : 3\n",
    "    \n",
    "}\n",
    "euljiro={\n",
    "     \"iconservice\":\"https://test-ctz.solidwallet.io\",\n",
    "     \"nid\" : 2\n",
    "    \n",
    "}\n",
    "pagoda={\n",
    "    \"iconservice\":\"https://zicon.net.solidwallet.io\",\n",
    "     \"nid\" :80\n",
    "    \n",
    "    \n",
    "}\n",
    "custom={\n",
    "    \"iconservice\":\"http://18.237.205.52:9000/\",\n",
    "     \"nid\":3\n",
    "    \n",
    "    \n",
    "}\n"
   ]
  },
  {
   "cell_type": "markdown",
   "metadata": {
    "slideshow": {
     "slide_type": "-"
    }
   },
   "source": [
    "### Required service"
   ]
  },
  {
   "cell_type": "code",
   "execution_count": 21,
   "metadata": {},
   "outputs": [],
   "source": [
    "env = yeouido #mainnet,yeouido,euljiro,pagoda,custom\n",
    "icon_service = IconService(HTTPProvider(env[\"iconservice\"], 3))\n",
    "NID = env[\"nid\"]\n",
    "\n"
   ]
  },
  {
   "cell_type": "markdown",
   "metadata": {
    "slideshow": {
     "slide_type": "-"
    }
   },
   "source": [
    "### A list for SCORE addresses "
   ]
  },
  {
   "cell_type": "code",
   "execution_count": 39,
   "metadata": {
    "slideshow": {
     "slide_type": "-"
    }
   },
   "outputs": [],
   "source": [
    "GOVERNANCE_ADDRESS = \"cx0000000000000000000000000000000000000000\"\n",
    "\n",
    "# Yeouido Testnet\n",
    "# SCORE_ADDRESS = \"cxf42190e91701bec907c7c4514eda6ee0af7f795b\"\n",
    "SAMPLE_TOKEN=\"cx34b763e96dec767254b5c20edc6ba362ca6cec9e\"\n",
    "oUSDb = \"cx6ecc3d356cbf4dbd9c5d273bc391e8b5ca65feb2\"\n",
    "LENDING_POOL=\"cxbe82d9312bc5b904b4908add8a0ba9a714ae0c1d\"\n",
    "LENDING_POOL_CORE=\"cx2459bd8744dcb90d469073e1c6a11fb31ad61eef\"\n",
    "LENDING_POOL_DATA_PROVIDER=\"cx54d0cdc85326c6be067f2120f2d9ff6cd6929696\"\n",
    "PRICE_ORACLE=\"cxdd8b594ffe5b537069346bab6e4c8bf16ba291ad\"\n",
    "ADDRESS_PROVIDER=\"cx8cf852997cfdadabd6d0c9bcb107d7db177d4404\"\n",
    "Wallet3_priv_key=\"eaffd6206b461cd001aaa366a58ad60ffc36e1c6b5b18e315cfe6a2b36e4cae8\"\n",
    "\n",
    "# Mainnet}\n",
    "# SCORE_ADDRESS = \"cx346a2c30ea2712557deb4d7392688750350d1dea\""
   ]
  },
  {
   "cell_type": "markdown",
   "metadata": {
    "slideshow": {
     "slide_type": "slide"
    }
   },
   "source": [
    "### Importing necessary wallets\n",
    "\n",
    "If you want to use your pre-exisiting wallets, execute the cell below:-"
   ]
  },
  {
   "cell_type": "code",
   "execution_count": 23,
   "metadata": {
    "scrolled": true
   },
   "outputs": [
    {
     "output_type": "execute_result",
     "data": {
      "text/plain": "'hx91bf040426f226b3bfcd2f0b5967bbb0320525ce'"
     },
     "metadata": {},
     "execution_count": 23
    }
   ],
   "source": [
    "# password = input()\n",
    "private=\"a691ef7d5601f9b5be4f9b9d80215159ea6ff0b88003e3d34e078d40e778b39a\"\n",
    "deployer_wallet = KeyWallet.load(bytes.fromhex(private))\n",
    "deployer_wallet.get_address()\n"
   ]
  },
  {
   "cell_type": "code",
   "execution_count": 43,
   "metadata": {},
   "outputs": [
    {
     "output_type": "execute_result",
     "data": {
      "text/plain": "'a691ef7d5601f9b5be4f9b9d80215159ea6ff0b88003e3d34e078d40e778b39a'"
     },
     "metadata": {},
     "execution_count": 43
    }
   ],
   "source": [
    "deployer_wallet.get_private_key()"
   ]
  },
  {
   "cell_type": "markdown",
   "metadata": {},
   "source": [
    "### OR creating new wallets \n",
    "\n",
    "If you want to use new wallets, execute the cell below:-"
   ]
  },
  {
   "cell_type": "markdown",
   "metadata": {
    "slideshow": {
     "slide_type": "slide"
    }
   },
   "source": [
    "### Loading ICX\n",
    "Go to [ibriz faucet](https://icon-faucet.ibriz.ai/) to load ICX into your wallets."
   ]
  },
  {
   "cell_type": "markdown",
   "metadata": {
    "slideshow": {
     "slide_type": "slide"
    }
   },
   "source": [
    "### Deploying contract"
   ]
  },
  {
   "cell_type": "code",
   "execution_count": 31,
   "metadata": {
    "slideshow": {
     "slide_type": "-"
    },
    "tags": []
   },
   "outputs": [
    {
     "output_type": "stream",
     "name": "stderr",
     "text": "Raised JSONRPCException while returning the custom response. Error message: {'code': -32602, 'message': 'Pending transaction'}\n{'code': -32602, 'message': 'Pending transaction'} (Json rpc error), Retrying in 1 seconds...\n"
    },
    {
     "output_type": "execute_result",
     "data": {
      "text/plain": "{'txHash': '0xe783f2fa85b175fe9ecbc54085b06d7f680a85c312d010c333704723bfbacb47',\n 'blockHeight': 8883842,\n 'blockHash': '0x2eeb45d387125a9ad8ea3864d4d02f0945d99d40975a0cfebde641e0811c869d',\n 'txIndex': 2,\n 'to': 'cx0000000000000000000000000000000000000000',\n 'scoreAddress': 'cx8cf852997cfdadabd6d0c9bcb107d7db177d4404',\n 'stepUsed': 0,\n 'stepPrice': 0,\n 'cumulativeStepUsed': 0,\n 'eventLogs': [],\n 'logsBloom': b'\\x00\\x00\\x00\\x00\\x00\\x00\\x00\\x00\\x00\\x00\\x00\\x00\\x00\\x00\\x00\\x00\\x00\\x00\\x00\\x00\\x00\\x00\\x00\\x00\\x00\\x00\\x00\\x00\\x00\\x00\\x00\\x00\\x00\\x00\\x00\\x00\\x00\\x00\\x00\\x00\\x00\\x00\\x00\\x00\\x00\\x00\\x00\\x00\\x00\\x00\\x00\\x00\\x00\\x00\\x00\\x00\\x00\\x00\\x00\\x00\\x00\\x00\\x00\\x00\\x00\\x00\\x00\\x00\\x00\\x00\\x00\\x00\\x00\\x00\\x00\\x00\\x00\\x00\\x00\\x00\\x00\\x00\\x00\\x00\\x00\\x00\\x00\\x00\\x00\\x00\\x00\\x00\\x00\\x00\\x00\\x00\\x00\\x00\\x00\\x00\\x00\\x00\\x00\\x00\\x00\\x00\\x00\\x00\\x00\\x00\\x00\\x00\\x00\\x00\\x00\\x00\\x00\\x00\\x00\\x00\\x00\\x00\\x00\\x00\\x00\\x00\\x00\\x00\\x00\\x00\\x00\\x00\\x00\\x00\\x00\\x00\\x00\\x00\\x00\\x00\\x00\\x00\\x00\\x00\\x00\\x00\\x00\\x00\\x00\\x00\\x00\\x00\\x00\\x00\\x00\\x00\\x00\\x00\\x00\\x00\\x00\\x00\\x00\\x00\\x00\\x00\\x00\\x00\\x00\\x00\\x00\\x00\\x00\\x00\\x00\\x00\\x00\\x00\\x00\\x00\\x00\\x00\\x00\\x00\\x00\\x00\\x00\\x00\\x00\\x00\\x00\\x00\\x00\\x00\\x00\\x00\\x00\\x00\\x00\\x00\\x00\\x00\\x00\\x00\\x00\\x00\\x00\\x00\\x00\\x00\\x00\\x00\\x00\\x00\\x00\\x00\\x00\\x00\\x00\\x00\\x00\\x00\\x00\\x00\\x00\\x00\\x00\\x00\\x00\\x00\\x00\\x00\\x00\\x00\\x00\\x00\\x00\\x00\\x00\\x00\\x00\\x00\\x00\\x00\\x00\\x00\\x00\\x00\\x00\\x00\\x00\\x00\\x00\\x00\\x00\\x00',\n 'status': 1}"
     },
     "metadata": {},
     "execution_count": 31
    }
   ],
   "source": [
    "# params = {'_name':\"USDbTokenBearing\", '_decimals': 18,'_symbol':'oUSDb'}\n",
    "deploy_transaction = DeployTransactionBuilder()\\\n",
    "    .from_(deployer_wallet.get_address())\\\n",
    "    .to(GOVERNANCE_ADDRESS)\\\n",
    "    .nid(3)\\\n",
    "    .nonce(100)\\\n",
    "    .content_type(\"application/zip\")\\\n",
    "    .content(gen_deploy_data_content('addressProvider'))\\\n",
    "    .build()\n",
    "\n",
    "estimate_step = icon_service.estimate_step(deploy_transaction)\n",
    "step_limit = estimate_step + 100000\n",
    "signed_transaction = SignedTransaction(deploy_transaction, deployer_wallet, step_limit)\n",
    "\n",
    "tx_hash = icon_service.send_transaction(signed_transaction)\n",
    "\n",
    "get_tx_result(tx_hash)"
   ]
  },
  {
   "cell_type": "markdown",
   "metadata": {
    "slideshow": {
     "slide_type": "slide"
    }
   },
   "source": [
    "### Updating contract"
   ]
  },
  {
   "cell_type": "code",
   "execution_count": 42,
   "metadata": {
    "scrolled": false,
    "slideshow": {
     "slide_type": "-"
    },
    "tags": []
   },
   "outputs": [
    {
     "output_type": "stream",
     "name": "stderr",
     "text": "Raised JSONRPCException while returning the custom response. Error message: {'code': -32602, 'message': 'Pending transaction'}\n{'code': -32602, 'message': 'Pending transaction'} (Json rpc error), Retrying in 1 seconds...\nRaised JSONRPCException while returning the custom response. Error message: {'code': -32602, 'message': 'Pending transaction'}\n{'code': -32602, 'message': 'Pending transaction'} (Json rpc error), Retrying in 2 seconds...\n"
    },
    {
     "output_type": "execute_result",
     "data": {
      "text/plain": "{'txHash': '0x765dd8444d68691ba214981a06058abc5d5fcb0918becd7cf0ad4cc30249d025',\n 'blockHeight': 8896916,\n 'blockHash': '0x2ca2bf695c1a6cab37d2dff323b2c043606c8b31bbbe17d24e7221d41b9759d6',\n 'txIndex': 1,\n 'to': 'cxbe82d9312bc5b904b4908add8a0ba9a714ae0c1d',\n 'scoreAddress': 'cxbe82d9312bc5b904b4908add8a0ba9a714ae0c1d',\n 'stepUsed': 0,\n 'stepPrice': 0,\n 'cumulativeStepUsed': 0,\n 'eventLogs': [],\n 'logsBloom': b'\\x00\\x00\\x00\\x00\\x00\\x00\\x00\\x00\\x00\\x00\\x00\\x00\\x00\\x00\\x00\\x00\\x00\\x00\\x00\\x00\\x00\\x00\\x00\\x00\\x00\\x00\\x00\\x00\\x00\\x00\\x00\\x00\\x00\\x00\\x00\\x00\\x00\\x00\\x00\\x00\\x00\\x00\\x00\\x00\\x00\\x00\\x00\\x00\\x00\\x00\\x00\\x00\\x00\\x00\\x00\\x00\\x00\\x00\\x00\\x00\\x00\\x00\\x00\\x00\\x00\\x00\\x00\\x00\\x00\\x00\\x00\\x00\\x00\\x00\\x00\\x00\\x00\\x00\\x00\\x00\\x00\\x00\\x00\\x00\\x00\\x00\\x00\\x00\\x00\\x00\\x00\\x00\\x00\\x00\\x00\\x00\\x00\\x00\\x00\\x00\\x00\\x00\\x00\\x00\\x00\\x00\\x00\\x00\\x00\\x00\\x00\\x00\\x00\\x00\\x00\\x00\\x00\\x00\\x00\\x00\\x00\\x00\\x00\\x00\\x00\\x00\\x00\\x00\\x00\\x00\\x00\\x00\\x00\\x00\\x00\\x00\\x00\\x00\\x00\\x00\\x00\\x00\\x00\\x00\\x00\\x00\\x00\\x00\\x00\\x00\\x00\\x00\\x00\\x00\\x00\\x00\\x00\\x00\\x00\\x00\\x00\\x00\\x00\\x00\\x00\\x00\\x00\\x00\\x00\\x00\\x00\\x00\\x00\\x00\\x00\\x00\\x00\\x00\\x00\\x00\\x00\\x00\\x00\\x00\\x00\\x00\\x00\\x00\\x00\\x00\\x00\\x00\\x00\\x00\\x00\\x00\\x00\\x00\\x00\\x00\\x00\\x00\\x00\\x00\\x00\\x00\\x00\\x00\\x00\\x00\\x00\\x00\\x00\\x00\\x00\\x00\\x00\\x00\\x00\\x00\\x00\\x00\\x00\\x00\\x00\\x00\\x00\\x00\\x00\\x00\\x00\\x00\\x00\\x00\\x00\\x00\\x00\\x00\\x00\\x00\\x00\\x00\\x00\\x00\\x00\\x00\\x00\\x00\\x00\\x00\\x00\\x00\\x00\\x00\\x00\\x00',\n 'status': 1}"
     },
     "metadata": {},
     "execution_count": 42
    }
   ],
   "source": [
    "deploy_transaction = DeployTransactionBuilder()\\\n",
    "    .from_(deployer_wallet.get_address())\\\n",
    "    .to(LENDING_POOL)\\\n",
    "    .nid(NID)\\\n",
    "    .nonce(100)\\\n",
    "    .content_type(\"application/zip\")\\\n",
    "    .content(gen_deploy_data_content('lendingPool'))\\\n",
    "    .build()\n",
    "\n",
    "estimate_step = icon_service.estimate_step(deploy_transaction)\n",
    "step_limit = estimate_step + 100000\n",
    "signed_transaction = SignedTransaction(deploy_transaction, deployer_wallet, step_limit)\n",
    "\n",
    "tx_hash = icon_service.send_transaction(signed_transaction)\n",
    "\n",
    "\n",
    "get_tx_result(tx_hash)"
   ]
  },
  {
   "cell_type": "code",
   "execution_count": null,
   "metadata": {},
   "outputs": [],
   "source": []
  },
  {
   "cell_type": "markdown",
   "metadata": {},
   "source": [
    "# Setting symbol"
   ]
  },
  {
   "cell_type": "code",
   "execution_count": 13,
   "metadata": {
    "tags": []
   },
   "outputs": [
    {
     "output_type": "stream",
     "name": "stdout",
     "text": "{'version': '0x3', 'from': 'hx91bf040426f226b3bfcd2f0b5967bbb0320525ce', 'to': 'cx84490f03cc04b799fe668545340eaeac7cae628c', 'stepLimit': '0x3c618', 'timestamp': '0x5b30a3728b128', 'nid': '0x3', 'nonce': '0x64', 'dataType': 'call', 'data': {'method': 'setSymbol', 'params': {'_reserveAddress': 'cx072d8f95877a53df350e3dc3d8dba2f379037d42', '_sym': 'USDb'}}, 'signature': '1535yLs0HCmecpllTL5zWx9RULWCaPt8cPlOOeaF3TZUBgjVLjTTy3XdVbQOYvRjii8xGePSbmTi+k9eJlgFTQA='}\nRaised JSONRPCException while returning the custom response. Error message: {'code': -32602, 'message': 'Pending transaction'}\n{'code': -32602, 'message': 'Pending transaction'} (Json rpc error), Retrying in 1 seconds...\n"
    },
    {
     "output_type": "execute_result",
     "data": {
      "text/plain": "{'txHash': '0xe7b7ea5eec172f11f77ad1e40a3ced5e27e04aefee433db58292bed46f3a4006',\n 'blockHeight': 97841,\n 'blockHash': '0x1aeffab680d31e8d320bd432bec4ae04914b5311230d325fa25b0e99e058e708',\n 'txIndex': 1,\n 'to': 'cx84490f03cc04b799fe668545340eaeac7cae628c',\n 'stepUsed': 147320,\n 'stepPrice': 10000000000,\n 'cumulativeStepUsed': 147320,\n 'eventLogs': [],\n 'logsBloom': b'\\x00\\x00\\x00\\x00\\x00\\x00\\x00\\x00\\x00\\x00\\x00\\x00\\x00\\x00\\x00\\x00\\x00\\x00\\x00\\x00\\x00\\x00\\x00\\x00\\x00\\x00\\x00\\x00\\x00\\x00\\x00\\x00\\x00\\x00\\x00\\x00\\x00\\x00\\x00\\x00\\x00\\x00\\x00\\x00\\x00\\x00\\x00\\x00\\x00\\x00\\x00\\x00\\x00\\x00\\x00\\x00\\x00\\x00\\x00\\x00\\x00\\x00\\x00\\x00\\x00\\x00\\x00\\x00\\x00\\x00\\x00\\x00\\x00\\x00\\x00\\x00\\x00\\x00\\x00\\x00\\x00\\x00\\x00\\x00\\x00\\x00\\x00\\x00\\x00\\x00\\x00\\x00\\x00\\x00\\x00\\x00\\x00\\x00\\x00\\x00\\x00\\x00\\x00\\x00\\x00\\x00\\x00\\x00\\x00\\x00\\x00\\x00\\x00\\x00\\x00\\x00\\x00\\x00\\x00\\x00\\x00\\x00\\x00\\x00\\x00\\x00\\x00\\x00\\x00\\x00\\x00\\x00\\x00\\x00\\x00\\x00\\x00\\x00\\x00\\x00\\x00\\x00\\x00\\x00\\x00\\x00\\x00\\x00\\x00\\x00\\x00\\x00\\x00\\x00\\x00\\x00\\x00\\x00\\x00\\x00\\x00\\x00\\x00\\x00\\x00\\x00\\x00\\x00\\x00\\x00\\x00\\x00\\x00\\x00\\x00\\x00\\x00\\x00\\x00\\x00\\x00\\x00\\x00\\x00\\x00\\x00\\x00\\x00\\x00\\x00\\x00\\x00\\x00\\x00\\x00\\x00\\x00\\x00\\x00\\x00\\x00\\x00\\x00\\x00\\x00\\x00\\x00\\x00\\x00\\x00\\x00\\x00\\x00\\x00\\x00\\x00\\x00\\x00\\x00\\x00\\x00\\x00\\x00\\x00\\x00\\x00\\x00\\x00\\x00\\x00\\x00\\x00\\x00\\x00\\x00\\x00\\x00\\x00\\x00\\x00\\x00\\x00\\x00\\x00\\x00\\x00\\x00\\x00\\x00\\x00\\x00\\x00\\x00\\x00\\x00\\x00',\n 'status': 1}"
     },
     "metadata": {},
     "execution_count": 13
    }
   ],
   "source": [
    "params ={\"_reserveAddress\":\"cx072d8f95877a53df350e3dc3d8dba2f379037d42\",\"_sym\":\"USDb\" }\n",
    "call_transaction = CallTransactionBuilder()\\\n",
    "    .from_(deployer_wallet.get_address())\\\n",
    "    .to(LENDING_POOL_DATA_PROVIDER) \\\n",
    "    .nid(NID) \\\n",
    "    .nonce(100) \\\n",
    "    .method(\"setSymbol\")\\\n",
    "    .params(params)\\\n",
    "    .build()\n",
    "\n",
    "estimate_step = icon_service.estimate_step(call_transaction)\n",
    "step_limit = estimate_step + 100000\n",
    "# Returns the signed transaction object having a signature\n",
    "signed_transaction = SignedTransaction(call_transaction, deployer_wallet,step_limit)\n",
    "\n",
    "# Reads params to transfer to nodes\n",
    "print(signed_transaction.signed_transaction_dict)\n",
    "\n",
    "# Sends the transaction\n",
    "tx_hash = icon_service.send_transaction(signed_transaction)\n",
    "\n",
    "get_tx_result(tx_hash)"
   ]
  },
  {
   "cell_type": "code",
   "execution_count": 15,
   "metadata": {
    "tags": []
   },
   "outputs": [
    {
     "output_type": "stream",
     "name": "stdout",
     "text": "{'collateral': {'USDb': 'cx072d8f95877a53df350e3dc3d8dba2f379037d42',\n                'sICX': ''},\n 'oTokens': {'oICX': '', 'oUSDb': 'cx48dd26868c25cfa744aab9f2fccd76ed40c41454'},\n 'systemContract': {'LendingPool': 'cxbf1a257dcb378b0fd41066fa87abef3f25992832',\n                    'LendingPoolDataProvider': 'cx84490f03cc04b799fe668545340eaeac7cae628c'}}\n"
    }
   ],
   "source": [
    "from pprint import pprint\n",
    "params= {\"_reserve\":\"cx072d8f95877a53df350e3dc3d8dba2f379037d42\"}\n",
    "call = CallBuilder()\\\n",
    "    .from_(deployer_wallet.get_address())\\\n",
    "    .to(ADDRESS_PROVIDER)\\\n",
    "    .method(\"getAllAddresses\")\\\n",
    "    .build()\n",
    "response = icon_service.call(call)\n",
    "pprint(response)"
   ]
  },
  {
   "cell_type": "markdown",
   "metadata": {},
   "source": [
    "# Setting  Addressess"
   ]
  },
  {
   "cell_type": "code",
   "execution_count": 14,
   "metadata": {
    "tags": []
   },
   "outputs": [
    {
     "output_type": "stream",
     "name": "stdout",
     "text": "{'version': '0x3', 'from': 'hx91bf040426f226b3bfcd2f0b5967bbb0320525ce', 'to': 'cxad29953f5b8957704e9092632bccc3b1aac62eea', 'stepLimit': '0x3cde8', 'timestamp': '0x5b318213950a2', 'nid': '0x3', 'nonce': '0x64', 'dataType': 'call', 'data': {'method': 'setoUSDb', 'params': {'_address': 'cx48dd26868c25cfa744aab9f2fccd76ed40c41454'}}, 'signature': '8+n+iQJexwiTc9c+cUNlxee1Fx+eh0lX76/hdwCXCsIND79PtKSRp5DvTDZGI+IUPl+b45EFWtHzZWYXYuSBXwE='}\nRaised JSONRPCException while returning the custom response. Error message: {'code': -32602, 'message': 'Pending transaction'}\n{'code': -32602, 'message': 'Pending transaction'} (Json rpc error), Retrying in 1 seconds...\n"
    },
    {
     "output_type": "execute_result",
     "data": {
      "text/plain": "{'txHash': '0x0c2bfd5f0f7819c85dc2946f8484773296ba32abae45dbf409a2c715b822bd4b',\n 'blockHeight': 127685,\n 'blockHash': '0x0da223d4633b461411726abe56284f723047620ec5d2c119e6e3e33a30798893',\n 'txIndex': 1,\n 'to': 'cxad29953f5b8957704e9092632bccc3b1aac62eea',\n 'stepUsed': 149320,\n 'stepPrice': 10000000000,\n 'cumulativeStepUsed': 149320,\n 'eventLogs': [],\n 'logsBloom': b'\\x00\\x00\\x00\\x00\\x00\\x00\\x00\\x00\\x00\\x00\\x00\\x00\\x00\\x00\\x00\\x00\\x00\\x00\\x00\\x00\\x00\\x00\\x00\\x00\\x00\\x00\\x00\\x00\\x00\\x00\\x00\\x00\\x00\\x00\\x00\\x00\\x00\\x00\\x00\\x00\\x00\\x00\\x00\\x00\\x00\\x00\\x00\\x00\\x00\\x00\\x00\\x00\\x00\\x00\\x00\\x00\\x00\\x00\\x00\\x00\\x00\\x00\\x00\\x00\\x00\\x00\\x00\\x00\\x00\\x00\\x00\\x00\\x00\\x00\\x00\\x00\\x00\\x00\\x00\\x00\\x00\\x00\\x00\\x00\\x00\\x00\\x00\\x00\\x00\\x00\\x00\\x00\\x00\\x00\\x00\\x00\\x00\\x00\\x00\\x00\\x00\\x00\\x00\\x00\\x00\\x00\\x00\\x00\\x00\\x00\\x00\\x00\\x00\\x00\\x00\\x00\\x00\\x00\\x00\\x00\\x00\\x00\\x00\\x00\\x00\\x00\\x00\\x00\\x00\\x00\\x00\\x00\\x00\\x00\\x00\\x00\\x00\\x00\\x00\\x00\\x00\\x00\\x00\\x00\\x00\\x00\\x00\\x00\\x00\\x00\\x00\\x00\\x00\\x00\\x00\\x00\\x00\\x00\\x00\\x00\\x00\\x00\\x00\\x00\\x00\\x00\\x00\\x00\\x00\\x00\\x00\\x00\\x00\\x00\\x00\\x00\\x00\\x00\\x00\\x00\\x00\\x00\\x00\\x00\\x00\\x00\\x00\\x00\\x00\\x00\\x00\\x00\\x00\\x00\\x00\\x00\\x00\\x00\\x00\\x00\\x00\\x00\\x00\\x00\\x00\\x00\\x00\\x00\\x00\\x00\\x00\\x00\\x00\\x00\\x00\\x00\\x00\\x00\\x00\\x00\\x00\\x00\\x00\\x00\\x00\\x00\\x00\\x00\\x00\\x00\\x00\\x00\\x00\\x00\\x00\\x00\\x00\\x00\\x00\\x00\\x00\\x00\\x00\\x00\\x00\\x00\\x00\\x00\\x00\\x00\\x00\\x00\\x00\\x00\\x00\\x00',\n 'status': 1}"
     },
     "metadata": {},
     "execution_count": 14
    }
   ],
   "source": [
    "params ={\"_address\":\"cx48dd26868c25cfa744aab9f2fccd76ed40c41454\"}\n",
    "call_transaction = CallTransactionBuilder()\\\n",
    "    .from_(deployer_wallet.get_address())\\\n",
    "    .to(ADDRESS_PROVIDER) \\\n",
    "    .nid(NID) \\\n",
    "    .nonce(100) \\\n",
    "    .method(\"setoUSDb\")\\\n",
    "    .params(params)\\\n",
    "    .build()\n",
    "\n",
    "estimate_step = icon_service.estimate_step(call_transaction)\n",
    "step_limit = estimate_step + 100000\n",
    "# Returns the signed transaction object having a signature\n",
    "signed_transaction = SignedTransaction(call_transaction, deployer_wallet,step_limit)\n",
    "\n",
    "# Reads params to transfer to nodes\n",
    "print(signed_transaction.signed_transaction_dict)\n",
    "\n",
    "# Sends the transaction\n",
    "tx_hash = icon_service.send_transaction(signed_transaction)\n",
    "\n",
    "get_tx_result(tx_hash)"
   ]
  },
  {
   "cell_type": "markdown",
   "metadata": {},
   "source": [
    "## Adding new reserve in LendingPoolCore\n",
    "\n"
   ]
  },
  {
   "cell_type": "code",
   "execution_count": 38,
   "metadata": {
    "tags": []
   },
   "outputs": [
    {
     "output_type": "stream",
     "name": "stdout",
     "text": "{'version': '0x3', 'from': 'hx91bf040426f226b3bfcd2f0b5967bbb0320525ce', 'to': 'cx2459bd8744dcb90d469073e1c6a11fb31ad61eef', 'stepLimit': '0x186a0', 'timestamp': '0x5b31c29963501', 'nid': '0x3', 'nonce': '0x64', 'dataType': 'call', 'data': {'method': 'addReserveData', 'params': {'_reserve': {'reserveAddress': 'cx34b763e96dec767254b5c20edc6ba362ca6cec9e', 'oTokenAddress': 'cx6ecc3d356cbf4dbd9c5d273bc391e8b5ca65feb2', 'totalBorrows': '0', 'lastUpdateTimestamp': '0', 'liquidityRate': '0', 'borrowRate': '0', 'liquidityCumulativeIndex': '1000000000000000000', 'borrowCumulativeIndex': '1000000000000000000', 'baseLTVasCollateral': '60', 'liquidationThreshold': '65', 'liquidationBonus': '10', 'decimals': '18', 'borrowingEnabled': '1', 'usageAsCollateralEnabled': '1', 'isFreezed': '0', 'isActive': '1'}}}, 'signature': 'SQSHS/DontTvjNR/o95i3AfnvCj9zXWUkZD7nGL8A7xhrX7uChpSeKD1Bu5ZGzCqpDdUbhhR43/whbiJ1qAcrAE='}\nRaised JSONRPCException while returning the custom response. Error message: {'code': -32602, 'message': 'Pending transaction'}\n{'code': -32602, 'message': 'Pending transaction'} (Json rpc error), Retrying in 1 seconds...\nRaised JSONRPCException while returning the custom response. Error message: {'code': -32602, 'message': 'Pending transaction'}\n{'code': -32602, 'message': 'Pending transaction'} (Json rpc error), Retrying in 2 seconds...\n"
    },
    {
     "output_type": "execute_result",
     "data": {
      "text/plain": "{'txHash': '0xcd5474aedb42750379a26bae6ae56b4700297c3e4f434e3147f42f5d3214eeb6',\n 'blockHeight': 8884297,\n 'blockHash': '0xa9f182dd1d591a0acc77686955d437c1eb3c0ec2870ffca79e919e91b1c85096',\n 'txIndex': 2,\n 'to': 'cx2459bd8744dcb90d469073e1c6a11fb31ad61eef',\n 'stepUsed': 0,\n 'stepPrice': 0,\n 'cumulativeStepUsed': 0,\n 'eventLogs': [],\n 'logsBloom': b'\\x00\\x00\\x00\\x00\\x00\\x00\\x00\\x00\\x00\\x00\\x00\\x00\\x00\\x00\\x00\\x00\\x00\\x00\\x00\\x00\\x00\\x00\\x00\\x00\\x00\\x00\\x00\\x00\\x00\\x00\\x00\\x00\\x00\\x00\\x00\\x00\\x00\\x00\\x00\\x00\\x00\\x00\\x00\\x00\\x00\\x00\\x00\\x00\\x00\\x00\\x00\\x00\\x00\\x00\\x00\\x00\\x00\\x00\\x00\\x00\\x00\\x00\\x00\\x00\\x00\\x00\\x00\\x00\\x00\\x00\\x00\\x00\\x00\\x00\\x00\\x00\\x00\\x00\\x00\\x00\\x00\\x00\\x00\\x00\\x00\\x00\\x00\\x00\\x00\\x00\\x00\\x00\\x00\\x00\\x00\\x00\\x00\\x00\\x00\\x00\\x00\\x00\\x00\\x00\\x00\\x00\\x00\\x00\\x00\\x00\\x00\\x00\\x00\\x00\\x00\\x00\\x00\\x00\\x00\\x00\\x00\\x00\\x00\\x00\\x00\\x00\\x00\\x00\\x00\\x00\\x00\\x00\\x00\\x00\\x00\\x00\\x00\\x00\\x00\\x00\\x00\\x00\\x00\\x00\\x00\\x00\\x00\\x00\\x00\\x00\\x00\\x00\\x00\\x00\\x00\\x00\\x00\\x00\\x00\\x00\\x00\\x00\\x00\\x00\\x00\\x00\\x00\\x00\\x00\\x00\\x00\\x00\\x00\\x00\\x00\\x00\\x00\\x00\\x00\\x00\\x00\\x00\\x00\\x00\\x00\\x00\\x00\\x00\\x00\\x00\\x00\\x00\\x00\\x00\\x00\\x00\\x00\\x00\\x00\\x00\\x00\\x00\\x00\\x00\\x00\\x00\\x00\\x00\\x00\\x00\\x00\\x00\\x00\\x00\\x00\\x00\\x00\\x00\\x00\\x00\\x00\\x00\\x00\\x00\\x00\\x00\\x00\\x00\\x00\\x00\\x00\\x00\\x00\\x00\\x00\\x00\\x00\\x00\\x00\\x00\\x00\\x00\\x00\\x00\\x00\\x00\\x00\\x00\\x00\\x00\\x00\\x00\\x00\\x00\\x00\\x00',\n 'status': 1}"
     },
     "metadata": {},
     "execution_count": 38
    }
   ],
   "source": [
    "params ={\"_reserve\": {\"reserveAddress\":\"cx34b763e96dec767254b5c20edc6ba362ca6cec9e\",\"oTokenAddress\":\"cx6ecc3d356cbf4dbd9c5d273bc391e8b5ca65feb2\",\"totalBorrows\":\"0\",\"lastUpdateTimestamp\": \"0\",\"liquidityRate\":\"0\",\"borrowRate\":\"0\",\"liquidityCumulativeIndex\":f\"1{'0'*18}\",\"borrowCumulativeIndex\":f\"1{'0'*18}\",\"baseLTVasCollateral\":\"60\",\"liquidationThreshold\":\"65\",\"liquidationBonus\":\"10\",\"decimals\":\"18\",\"borrowingEnabled\": \"1\",\"usageAsCollateralEnabled\":\"1\",\"isFreezed\":\"0\",\"isActive\":\"1\"} }\n",
    "call_transaction = CallTransactionBuilder()\\\n",
    "    .from_(deployer_wallet.get_address())\\\n",
    "    .to(LENDING_POOL_CORE) \\\n",
    "    .nid(NID) \\\n",
    "    .nonce(100) \\\n",
    "    .method(\"addReserveData\")\\\n",
    "    .params(params)\\\n",
    "    .build()\n",
    "\n",
    "estimate_step = icon_service.estimate_step(call_transaction)\n",
    "step_limit = estimate_step + 100000\n",
    "# Returns the signed transaction object having a signature\n",
    "signed_transaction = SignedTransaction(call_transaction, deployer_wallet,step_limit)\n",
    "\n",
    "# Reads params to transfer to nodes\n",
    "print(signed_transaction.signed_transaction_dict)\n",
    "\n",
    "# Sends the transaction\n",
    "tx_hash = icon_service.send_transaction(signed_transaction)\n",
    "\n",
    "get_tx_result(tx_hash)"
   ]
  },
  {
   "cell_type": "markdown",
   "metadata": {},
   "source": [
    "## Setting reserve constants in LendingPoolCore"
   ]
  },
  {
   "cell_type": "code",
   "execution_count": 36,
   "metadata": {
    "tags": []
   },
   "outputs": [
    {
     "output_type": "stream",
     "name": "stdout",
     "text": "{'version': '0x3', 'from': 'hx91bf040426f226b3bfcd2f0b5967bbb0320525ce', 'to': 'cx2459bd8744dcb90d469073e1c6a11fb31ad61eef', 'stepLimit': '0x186a0', 'timestamp': '0x5b31c22f3dfda', 'nid': '0x3', 'nonce': '0x64', 'dataType': 'call', 'data': {'method': 'setReserveConstants', 'params': {'_constants': [{'reserve': 'cx34b763e96dec767254b5c20edc6ba362ca6cec9e', 'optimalUtilizationRate': '600000000000000000', 'baseBorrowRate': '0', 'slopeRate1': '70000000000000000', 'slopeRate2': '3000000000000000000'}]}}, 'signature': 'CK3+MZViWFpxsAtvEJXRGYRR24e39u9AB84yY1VyGENPURA/AmtPH5Be7UzUe03MKnVikJLCOnORP4fiechl4AE='}\nRaised JSONRPCException while returning the custom response. Error message: {'code': -32602, 'message': 'Pending transaction'}\n{'code': -32602, 'message': 'Pending transaction'} (Json rpc error), Retrying in 1 seconds...\nRaised JSONRPCException while returning the custom response. Error message: {'code': -32602, 'message': 'Pending transaction'}\n{'code': -32602, 'message': 'Pending transaction'} (Json rpc error), Retrying in 2 seconds...\n"
    },
    {
     "output_type": "execute_result",
     "data": {
      "text/plain": "{'txHash': '0x2a35b91aef6fb9cb3878e2383a22d20486df8f5cf37f8589c11655ab1f435f61',\n 'blockHeight': 8884242,\n 'blockHash': '0x5fe3bee41a5420ef29a3232b6c576134c26a67f1adfd046b04cbca1a26c769da',\n 'txIndex': 1,\n 'to': 'cx2459bd8744dcb90d469073e1c6a11fb31ad61eef',\n 'stepUsed': 0,\n 'stepPrice': 0,\n 'cumulativeStepUsed': 0,\n 'eventLogs': [],\n 'logsBloom': b'\\x00\\x00\\x00\\x00\\x00\\x00\\x00\\x00\\x00\\x00\\x00\\x00\\x00\\x00\\x00\\x00\\x00\\x00\\x00\\x00\\x00\\x00\\x00\\x00\\x00\\x00\\x00\\x00\\x00\\x00\\x00\\x00\\x00\\x00\\x00\\x00\\x00\\x00\\x00\\x00\\x00\\x00\\x00\\x00\\x00\\x00\\x00\\x00\\x00\\x00\\x00\\x00\\x00\\x00\\x00\\x00\\x00\\x00\\x00\\x00\\x00\\x00\\x00\\x00\\x00\\x00\\x00\\x00\\x00\\x00\\x00\\x00\\x00\\x00\\x00\\x00\\x00\\x00\\x00\\x00\\x00\\x00\\x00\\x00\\x00\\x00\\x00\\x00\\x00\\x00\\x00\\x00\\x00\\x00\\x00\\x00\\x00\\x00\\x00\\x00\\x00\\x00\\x00\\x00\\x00\\x00\\x00\\x00\\x00\\x00\\x00\\x00\\x00\\x00\\x00\\x00\\x00\\x00\\x00\\x00\\x00\\x00\\x00\\x00\\x00\\x00\\x00\\x00\\x00\\x00\\x00\\x00\\x00\\x00\\x00\\x00\\x00\\x00\\x00\\x00\\x00\\x00\\x00\\x00\\x00\\x00\\x00\\x00\\x00\\x00\\x00\\x00\\x00\\x00\\x00\\x00\\x00\\x00\\x00\\x00\\x00\\x00\\x00\\x00\\x00\\x00\\x00\\x00\\x00\\x00\\x00\\x00\\x00\\x00\\x00\\x00\\x00\\x00\\x00\\x00\\x00\\x00\\x00\\x00\\x00\\x00\\x00\\x00\\x00\\x00\\x00\\x00\\x00\\x00\\x00\\x00\\x00\\x00\\x00\\x00\\x00\\x00\\x00\\x00\\x00\\x00\\x00\\x00\\x00\\x00\\x00\\x00\\x00\\x00\\x00\\x00\\x00\\x00\\x00\\x00\\x00\\x00\\x00\\x00\\x00\\x00\\x00\\x00\\x00\\x00\\x00\\x00\\x00\\x00\\x00\\x00\\x00\\x00\\x00\\x00\\x00\\x00\\x00\\x00\\x00\\x00\\x00\\x00\\x00\\x00\\x00\\x00\\x00\\x00\\x00\\x00',\n 'status': 1}"
     },
     "metadata": {},
     "execution_count": 36
    }
   ],
   "source": [
    "params ={\"_constants\": [{\"reserve\":\"cx34b763e96dec767254b5c20edc6ba362ca6cec9e\",\"optimalUtilizationRate\":f\"6{'0'*17}\",\"baseBorrowRate\":\"0\",\"slopeRate1\":f\"7{'0'*16}\",\"slopeRate2\":f\"3{'0'*18}\"} ]}\n",
    "call_transaction = CallTransactionBuilder()\\\n",
    "    .from_(deployer_wallet.get_address())\\\n",
    "    .to(LENDING_POOL_CORE) \\\n",
    "    .nid(NID) \\\n",
    "    .nonce(100) \\\n",
    "    .method(\"setReserveConstants\")\\\n",
    "    .params(params)\\\n",
    "    .build()\n",
    "\n",
    "estimate_step = icon_service.estimate_step(call_transaction)\n",
    "step_limit = estimate_step + 100000\n",
    "# Returns the signed transaction object having a signature\n",
    "signed_transaction = SignedTransaction(call_transaction, deployer_wallet,step_limit)\n",
    "\n",
    "# Reads params to transfer to nodes\n",
    "print(signed_transaction.signed_transaction_dict)\n",
    "\n",
    "# Sends the transaction\n",
    "tx_hash = icon_service.send_transaction(signed_transaction)\n",
    "\n",
    "get_tx_result(tx_hash)"
   ]
  },
  {
   "cell_type": "markdown",
   "metadata": {},
   "source": [
    "# Transferrng USDB"
   ]
  },
  {
   "cell_type": "code",
   "execution_count": null,
   "metadata": {},
   "outputs": [],
   "source": [
    "\n",
    "data = \"{\\\"method\\\": \\\"deposit\\\", \\\"params\\\": {\\\"amount\\\": 5000000000000000000000}}\".encode(\"utf-8\")\n",
    "params = {\"_to\": \"cxbe82d9312bc5b904b4908add8a0ba9a714ae0c1d\", \"_value\": 5000000000000000000000, \"_data\": data}\n",
    "transaction = CallTransactionBuilder()\\\n",
    "    .from_(wallet3.get_address())\\\n",
    "    .to('cx34b763e96dec767254b5c20edc6ba362ca6cec9e')\\\n",
    "    .value(0)\\\n",
    "    .step_limit(10000000)\\\n",
    "    .nid(3)\\\n",
    "    .nonce(100)\\\n",
    "    .method(\"transfer\")\\\n",
    "    .params(params)\\\n",
    "    .build()\n",
    "signed_transaction = SignedTransaction(transaction, wallet3)\n",
    "tx_hash = icon_service.send_transaction(signed_transaction)\n",
    "get_tx_result(tx_hash)"
   ]
  },
  {
   "cell_type": "markdown",
   "metadata": {},
   "source": [
    "## Setting interfaces in LendingPool"
   ]
  },
  {
   "cell_type": "code",
   "execution_count": 10,
   "metadata": {},
   "outputs": [
    {
     "name": "stdout",
     "output_type": "stream",
     "text": [
      "{'version': '0x3', 'from': 'hx91bf040426f226b3bfcd2f0b5967bbb0320525ce', 'to': 'cxbf1a257dcb378b0fd41066fa87abef3f25992832', 'stepLimit': '0x3db30', 'timestamp': '0x5b30902f19fad', 'nid': '0x3', 'nonce': '0x64', 'dataType': 'call', 'data': {'method': 'setLendingPoolCoreAddress', 'params': {'_address': 'cx162fe5b5d3276e9493de1fd440511f0844ca9a7c'}}, 'signature': '9FBOBTy4THd08vYX10xdGDs7kCmf3A++5OrFGxMPsIliQJQkOOirZ7EY01llX27DV+lOY8Y21skkp1GublMWUwE='}\n"
     ]
    },
    {
     "data": {
      "text/plain": [
       "{'txHash': '0x5ca1ed7362148f9b117259ef94d858e6402732d2fdf9b26bc7aabde69477fc96',\n",
       " 'blockHeight': 95258,\n",
       " 'blockHash': '0xedf8170764a54de4541ceb21875022bedecfdd2433bd757018d36145c020fd49',\n",
       " 'txIndex': 1,\n",
       " 'to': 'cxbf1a257dcb378b0fd41066fa87abef3f25992832',\n",
       " 'stepUsed': 152720,\n",
       " 'stepPrice': 10000000000,\n",
       " 'cumulativeStepUsed': 152720,\n",
       " 'eventLogs': [],\n",
       " 'logsBloom': b'\\x00\\x00\\x00\\x00\\x00\\x00\\x00\\x00\\x00\\x00\\x00\\x00\\x00\\x00\\x00\\x00\\x00\\x00\\x00\\x00\\x00\\x00\\x00\\x00\\x00\\x00\\x00\\x00\\x00\\x00\\x00\\x00\\x00\\x00\\x00\\x00\\x00\\x00\\x00\\x00\\x00\\x00\\x00\\x00\\x00\\x00\\x00\\x00\\x00\\x00\\x00\\x00\\x00\\x00\\x00\\x00\\x00\\x00\\x00\\x00\\x00\\x00\\x00\\x00\\x00\\x00\\x00\\x00\\x00\\x00\\x00\\x00\\x00\\x00\\x00\\x00\\x00\\x00\\x00\\x00\\x00\\x00\\x00\\x00\\x00\\x00\\x00\\x00\\x00\\x00\\x00\\x00\\x00\\x00\\x00\\x00\\x00\\x00\\x00\\x00\\x00\\x00\\x00\\x00\\x00\\x00\\x00\\x00\\x00\\x00\\x00\\x00\\x00\\x00\\x00\\x00\\x00\\x00\\x00\\x00\\x00\\x00\\x00\\x00\\x00\\x00\\x00\\x00\\x00\\x00\\x00\\x00\\x00\\x00\\x00\\x00\\x00\\x00\\x00\\x00\\x00\\x00\\x00\\x00\\x00\\x00\\x00\\x00\\x00\\x00\\x00\\x00\\x00\\x00\\x00\\x00\\x00\\x00\\x00\\x00\\x00\\x00\\x00\\x00\\x00\\x00\\x00\\x00\\x00\\x00\\x00\\x00\\x00\\x00\\x00\\x00\\x00\\x00\\x00\\x00\\x00\\x00\\x00\\x00\\x00\\x00\\x00\\x00\\x00\\x00\\x00\\x00\\x00\\x00\\x00\\x00\\x00\\x00\\x00\\x00\\x00\\x00\\x00\\x00\\x00\\x00\\x00\\x00\\x00\\x00\\x00\\x00\\x00\\x00\\x00\\x00\\x00\\x00\\x00\\x00\\x00\\x00\\x00\\x00\\x00\\x00\\x00\\x00\\x00\\x00\\x00\\x00\\x00\\x00\\x00\\x00\\x00\\x00\\x00\\x00\\x00\\x00\\x00\\x00\\x00\\x00\\x00\\x00\\x00\\x00\\x00\\x00\\x00\\x00\\x00\\x00',\n",
       " 'status': 1}"
      ]
     },
     "execution_count": 10,
     "metadata": {},
     "output_type": "execute_result"
    }
   ],
   "source": [
    "params ={\"_address\": \"cx162fe5b5d3276e9493de1fd440511f0844ca9a7c\" }\n",
    "call_transaction = CallTransactionBuilder()\\\n",
    "    .from_(deployer_wallet.get_address())\\\n",
    "    .to(\"cxbf1a257dcb378b0fd41066fa87abef3f25992832\") \\\n",
    "    .nid(NID) \\\n",
    "    .nonce(100) \\\n",
    "    .method(\"setLendingPoolCoreAddress\")\\\n",
    "    .params(params)\\\n",
    "    .build()\n",
    "\n",
    "estimate_step = icon_service.estimate_step(call_transaction)\n",
    "step_limit = estimate_step + 100000\n",
    "# Returns the signed transaction object having a signature\n",
    "signed_transaction = SignedTransaction(call_transaction, deployer_wallet,step_limit)\n",
    "\n",
    "# Reads params to transfer to nodes\n",
    "print(signed_transaction.signed_transaction_dict)\n",
    "\n",
    "# Sends the transaction\n",
    "tx_hash = icon_service.send_transaction(signed_transaction)\n",
    "\n",
    "get_tx_result(tx_hash)"
   ]
  },
  {
   "cell_type": "code",
   "execution_count": 12,
   "metadata": {},
   "outputs": [
    {
     "name": "stdout",
     "output_type": "stream",
     "text": [
      "{'version': '0x3', 'from': 'hx91bf040426f226b3bfcd2f0b5967bbb0320525ce', 'to': 'cxbf1a257dcb378b0fd41066fa87abef3f25992832', 'stepLimit': '0x3d298', 'timestamp': '0x5b309044d16af', 'nid': '0x3', 'nonce': '0x64', 'dataType': 'call', 'data': {'method': 'setUSDbAddress', 'params': {'_address': 'cx072d8f95877a53df350e3dc3d8dba2f379037d42'}}, 'signature': 'QudO9QJkDPtvc5UFbQIgBvjDMc/Vj7RJ5zlKcljU6PU9qKdNNaXZIVLeuAWsCCoNGLaFg88mm+pt3L7QhVeDFgE='}\n"
     ]
    },
    {
     "name": "stderr",
     "output_type": "stream",
     "text": [
      "Raised JSONRPCException while returning the custom response. Error message: {'code': -32602, 'message': 'Pending transaction'}\n"
     ]
    },
    {
     "name": "stdout",
     "output_type": "stream",
     "text": [
      "{'code': -32602, 'message': 'Pending transaction'} (Json rpc error), Retrying in 1 seconds...\n"
     ]
    },
    {
     "data": {
      "text/plain": [
       "{'txHash': '0x6d25b73a67de8cc1c15422d1bd91b24d987fd7049fe1c2ff095231082048ef2b',\n",
       " 'blockHeight': 95270,\n",
       " 'blockHash': '0xa6c15d3ae47aeac3a6d0159aebb685bb1cadad28aee31bf411631542e1f621db',\n",
       " 'txIndex': 1,\n",
       " 'to': 'cxbf1a257dcb378b0fd41066fa87abef3f25992832',\n",
       " 'stepUsed': 150520,\n",
       " 'stepPrice': 10000000000,\n",
       " 'cumulativeStepUsed': 150520,\n",
       " 'eventLogs': [],\n",
       " 'logsBloom': b'\\x00\\x00\\x00\\x00\\x00\\x00\\x00\\x00\\x00\\x00\\x00\\x00\\x00\\x00\\x00\\x00\\x00\\x00\\x00\\x00\\x00\\x00\\x00\\x00\\x00\\x00\\x00\\x00\\x00\\x00\\x00\\x00\\x00\\x00\\x00\\x00\\x00\\x00\\x00\\x00\\x00\\x00\\x00\\x00\\x00\\x00\\x00\\x00\\x00\\x00\\x00\\x00\\x00\\x00\\x00\\x00\\x00\\x00\\x00\\x00\\x00\\x00\\x00\\x00\\x00\\x00\\x00\\x00\\x00\\x00\\x00\\x00\\x00\\x00\\x00\\x00\\x00\\x00\\x00\\x00\\x00\\x00\\x00\\x00\\x00\\x00\\x00\\x00\\x00\\x00\\x00\\x00\\x00\\x00\\x00\\x00\\x00\\x00\\x00\\x00\\x00\\x00\\x00\\x00\\x00\\x00\\x00\\x00\\x00\\x00\\x00\\x00\\x00\\x00\\x00\\x00\\x00\\x00\\x00\\x00\\x00\\x00\\x00\\x00\\x00\\x00\\x00\\x00\\x00\\x00\\x00\\x00\\x00\\x00\\x00\\x00\\x00\\x00\\x00\\x00\\x00\\x00\\x00\\x00\\x00\\x00\\x00\\x00\\x00\\x00\\x00\\x00\\x00\\x00\\x00\\x00\\x00\\x00\\x00\\x00\\x00\\x00\\x00\\x00\\x00\\x00\\x00\\x00\\x00\\x00\\x00\\x00\\x00\\x00\\x00\\x00\\x00\\x00\\x00\\x00\\x00\\x00\\x00\\x00\\x00\\x00\\x00\\x00\\x00\\x00\\x00\\x00\\x00\\x00\\x00\\x00\\x00\\x00\\x00\\x00\\x00\\x00\\x00\\x00\\x00\\x00\\x00\\x00\\x00\\x00\\x00\\x00\\x00\\x00\\x00\\x00\\x00\\x00\\x00\\x00\\x00\\x00\\x00\\x00\\x00\\x00\\x00\\x00\\x00\\x00\\x00\\x00\\x00\\x00\\x00\\x00\\x00\\x00\\x00\\x00\\x00\\x00\\x00\\x00\\x00\\x00\\x00\\x00\\x00\\x00\\x00\\x00\\x00\\x00\\x00\\x00',\n",
       " 'status': 1}"
      ]
     },
     "execution_count": 12,
     "metadata": {},
     "output_type": "execute_result"
    }
   ],
   "source": [
    "params ={\"_address\": \"cx072d8f95877a53df350e3dc3d8dba2f379037d42\" }\n",
    "call_transaction = CallTransactionBuilder()\\\n",
    "    .from_(deployer_wallet.get_address())\\\n",
    "    .to(\"cxbf1a257dcb378b0fd41066fa87abef3f25992832\") \\\n",
    "    .nid(NID) \\\n",
    "    .nonce(100) \\\n",
    "    .method(\"setUSDbAddress\")\\\n",
    "    .params(params)\\\n",
    "    .build()\n",
    "\n",
    "estimate_step = icon_service.estimate_step(call_transaction)\n",
    "step_limit = estimate_step + 100000\n",
    "# Returns the signed transaction object having a signature\n",
    "signed_transaction = SignedTransaction(call_transaction, deployer_wallet,step_limit)\n",
    "\n",
    "# Reads params to transfer to nodes\n",
    "print(signed_transaction.signed_transaction_dict)\n",
    "\n",
    "# Sends the transaction\n",
    "tx_hash = icon_service.send_transaction(signed_transaction)\n",
    "\n",
    "get_tx_result(tx_hash)"
   ]
  },
  {
   "cell_type": "markdown",
   "metadata": {},
   "source": [
    "## Setting interfaces in LendingPoolDataProvider"
   ]
  },
  {
   "cell_type": "code",
   "execution_count": 14,
   "metadata": {},
   "outputs": [
    {
     "name": "stdout",
     "output_type": "stream",
     "text": [
      "{'version': '0x3', 'from': 'hx91bf040426f226b3bfcd2f0b5967bbb0320525ce', 'to': 'cx84490f03cc04b799fe668545340eaeac7cae628c', 'stepLimit': '0x3db30', 'timestamp': '0x5b30905a139f8', 'nid': '0x3', 'nonce': '0x64', 'dataType': 'call', 'data': {'method': 'setLendingPoolCoreAddress', 'params': {'_address': 'cx162fe5b5d3276e9493de1fd440511f0844ca9a7c'}}, 'signature': 'sATOVxx94uGnvFWux4iUTuPReQMw4M1yVjPo1GBLSdxH+m8AQwftr5gJh86bX5sD7T1/Lh2FlIL/YBPj94USdAE='}\n"
     ]
    },
    {
     "name": "stderr",
     "output_type": "stream",
     "text": [
      "Raised JSONRPCException while returning the custom response. Error message: {'code': -32602, 'message': 'Pending transaction'}\n"
     ]
    },
    {
     "name": "stdout",
     "output_type": "stream",
     "text": [
      "{'code': -32602, 'message': 'Pending transaction'} (Json rpc error), Retrying in 1 seconds...\n"
     ]
    },
    {
     "data": {
      "text/plain": [
       "{'txHash': '0x78af14823370c3c75204802d846d3f9cf849e8016b741b03e0c953d0b75b14b2',\n",
       " 'blockHeight': 95281,\n",
       " 'blockHash': '0xdb46541a96584cfcaba5ac4a106349cf6eedf765561f2f824721b37b25e4ac83',\n",
       " 'txIndex': 1,\n",
       " 'to': 'cx84490f03cc04b799fe668545340eaeac7cae628c',\n",
       " 'stepUsed': 152720,\n",
       " 'stepPrice': 10000000000,\n",
       " 'cumulativeStepUsed': 152720,\n",
       " 'eventLogs': [],\n",
       " 'logsBloom': b'\\x00\\x00\\x00\\x00\\x00\\x00\\x00\\x00\\x00\\x00\\x00\\x00\\x00\\x00\\x00\\x00\\x00\\x00\\x00\\x00\\x00\\x00\\x00\\x00\\x00\\x00\\x00\\x00\\x00\\x00\\x00\\x00\\x00\\x00\\x00\\x00\\x00\\x00\\x00\\x00\\x00\\x00\\x00\\x00\\x00\\x00\\x00\\x00\\x00\\x00\\x00\\x00\\x00\\x00\\x00\\x00\\x00\\x00\\x00\\x00\\x00\\x00\\x00\\x00\\x00\\x00\\x00\\x00\\x00\\x00\\x00\\x00\\x00\\x00\\x00\\x00\\x00\\x00\\x00\\x00\\x00\\x00\\x00\\x00\\x00\\x00\\x00\\x00\\x00\\x00\\x00\\x00\\x00\\x00\\x00\\x00\\x00\\x00\\x00\\x00\\x00\\x00\\x00\\x00\\x00\\x00\\x00\\x00\\x00\\x00\\x00\\x00\\x00\\x00\\x00\\x00\\x00\\x00\\x00\\x00\\x00\\x00\\x00\\x00\\x00\\x00\\x00\\x00\\x00\\x00\\x00\\x00\\x00\\x00\\x00\\x00\\x00\\x00\\x00\\x00\\x00\\x00\\x00\\x00\\x00\\x00\\x00\\x00\\x00\\x00\\x00\\x00\\x00\\x00\\x00\\x00\\x00\\x00\\x00\\x00\\x00\\x00\\x00\\x00\\x00\\x00\\x00\\x00\\x00\\x00\\x00\\x00\\x00\\x00\\x00\\x00\\x00\\x00\\x00\\x00\\x00\\x00\\x00\\x00\\x00\\x00\\x00\\x00\\x00\\x00\\x00\\x00\\x00\\x00\\x00\\x00\\x00\\x00\\x00\\x00\\x00\\x00\\x00\\x00\\x00\\x00\\x00\\x00\\x00\\x00\\x00\\x00\\x00\\x00\\x00\\x00\\x00\\x00\\x00\\x00\\x00\\x00\\x00\\x00\\x00\\x00\\x00\\x00\\x00\\x00\\x00\\x00\\x00\\x00\\x00\\x00\\x00\\x00\\x00\\x00\\x00\\x00\\x00\\x00\\x00\\x00\\x00\\x00\\x00\\x00\\x00\\x00\\x00\\x00\\x00\\x00',\n",
       " 'status': 1}"
      ]
     },
     "execution_count": 14,
     "metadata": {},
     "output_type": "execute_result"
    }
   ],
   "source": [
    "params ={\"_address\": \"cx162fe5b5d3276e9493de1fd440511f0844ca9a7c\" }\n",
    "call_transaction = CallTransactionBuilder()\\\n",
    "    .from_(deployer_wallet.get_address())\\\n",
    "    .to(\"cx84490f03cc04b799fe668545340eaeac7cae628c\") \\\n",
    "    .nid(NID) \\\n",
    "    .nonce(100) \\\n",
    "    .method(\"setLendingPoolCoreAddress\")\\\n",
    "    .params(params)\\\n",
    "    .build()\n",
    "\n",
    "estimate_step = icon_service.estimate_step(call_transaction)\n",
    "step_limit = estimate_step + 100000\n",
    "# Returns the signed transaction object having a signature\n",
    "signed_transaction = SignedTransaction(call_transaction, deployer_wallet,step_limit)\n",
    "\n",
    "# Reads params to transfer to nodes\n",
    "print(signed_transaction.signed_transaction_dict)\n",
    "\n",
    "# Sends the transaction\n",
    "tx_hash = icon_service.send_transaction(signed_transaction)\n",
    "\n",
    "get_tx_result(tx_hash)"
   ]
  },
  {
   "cell_type": "code",
   "execution_count": 15,
   "metadata": {},
   "outputs": [
    {
     "name": "stdout",
     "output_type": "stream",
     "text": [
      "{'version': '0x3', 'from': 'hx91bf040426f226b3bfcd2f0b5967bbb0320525ce', 'to': 'cx84490f03cc04b799fe668545340eaeac7cae628c', 'stepLimit': '0x3d428', 'timestamp': '0x5b30906951406', 'nid': '0x3', 'nonce': '0x64', 'dataType': 'call', 'data': {'method': 'setOracleAddress', 'params': {'_address': 'cx293582520a75648d91a3c454ad9657aa4cbf1f7d'}}, 'signature': 'v4cU6qZb3shonfTy/1wZHgeAyWKfqj2Ynv91VJMOwzoIL6zOdtlAnkotsc4zIlBWvz7CbMsweBL8RN+A/L0sSgA='}\n"
     ]
    }
   ],
   "source": [
    "params ={\"_address\": \"cx293582520a75648d91a3c454ad9657aa4cbf1f7d\" }\n",
    "call_transaction = CallTransactionBuilder()\\\n",
    "    .from_(deployer_wallet.get_address())\\\n",
    "    .to(\"cx84490f03cc04b799fe668545340eaeac7cae628c\") \\\n",
    "    .nid(NID) \\\n",
    "    .nonce(100) \\\n",
    "    .method(\"setOracleAddress\")\\\n",
    "    .params(params)\\\n",
    "    .build()\n",
    "\n",
    "estimate_step = icon_service.estimate_step(call_transaction)\n",
    "step_limit = estimate_step + 100000\n",
    "# Returns the signed transaction object having a signature\n",
    "signed_transaction = SignedTransaction(call_transaction, deployer_wallet,step_limit)\n",
    "\n",
    "# Reads params to transfer to nodes\n",
    "print(signed_transaction.signed_transaction_dict)\n",
    "\n",
    "# Sends the transaction\n",
    "tx_hash = icon_service.send_transaction(signed_transaction)\n"
   ]
  },
  {
   "cell_type": "markdown",
   "metadata": {},
   "source": [
    "## Setting Price in Oracle"
   ]
  },
  {
   "cell_type": "code",
   "execution_count": 18,
   "metadata": {},
   "outputs": [
    {
     "name": "stdout",
     "output_type": "stream",
     "text": [
      "{'version': '0x3', 'from': 'hx91bf040426f226b3bfcd2f0b5967bbb0320525ce', 'to': 'cx293582520a75648d91a3c454ad9657aa4cbf1f7d', 'stepLimit': '0x3c708', 'timestamp': '0x5b3090ef50dfe', 'nid': '0x3', 'nonce': '0x64', 'dataType': 'call', 'data': {'method': 'set_reference_data', 'params': {'_base': 'USDb', '_quote': 'USD', '_rate': '0x6f05b59d3b20000'}}, 'signature': 'tyWQsOlMOTprefx9NKpxGzxkh2jZYMyew7ZuGuyfS29lfH6nCHRZtj+dkVfKvNTRzXcs4CG4DW3cPMK3ptEPbwA='}\n"
     ]
    }
   ],
   "source": [
    "params ={\"_base\": \"USDb\", \"_quote\":\"USD\",\"_rate\": 5 * 10**17 }\n",
    "call_transaction = CallTransactionBuilder()\\\n",
    "    .from_(deployer_wallet.get_address())\\\n",
    "    .to(\"cx293582520a75648d91a3c454ad9657aa4cbf1f7d\") \\\n",
    "    .nid(NID) \\\n",
    "    .nonce(100) \\\n",
    "    .method(\"set_reference_data\")\\\n",
    "    .params(params)\\\n",
    "    .build()\n",
    "\n",
    "estimate_step = icon_service.estimate_step(call_transaction)\n",
    "step_limit = estimate_step + 100000\n",
    "# Returns the signed transaction object having a signature\n",
    "signed_transaction = SignedTransaction(call_transaction, deployer_wallet,step_limit)\n",
    "\n",
    "# Reads params to transfer to nodes\n",
    "print(signed_transaction.signed_transaction_dict)\n",
    "\n",
    "# Sends the transaction\n",
    "tx_hash = icon_service.send_transaction(signed_transaction)"
   ]
  },
  {
   "cell_type": "markdown",
   "metadata": {
    "slideshow": {
     "slide_type": "slide"
    }
   },
   "source": [
    "### ICX Transfer"
   ]
  },
  {
   "cell_type": "code",
   "execution_count": null,
   "metadata": {
    "scrolled": true,
    "slideshow": {
     "slide_type": "-"
    }
   },
   "outputs": [],
   "source": [
    "transaction = TransactionBuilder()\\\n",
    "    .from_(deployer_wallet.get_address())\\\n",
    "    .to(\"hx233633ad3d85fe2aed5ac71863ac5d7a2f31d16b\")\\\n",
    "    .nid(3) \\\n",
    "    .nonce(100) \\\n",
    "    .value(10000*10**18)\\\n",
    "    .build()\n",
    "\n",
    "estimate_step = icon_service.estimate_step(transaction)\n",
    "step_limit = estimate_step + 100000\n",
    "# Returns the signed transaction object having a signature\n",
    "signed_transaction = SignedTransaction(transaction, deployer_wallet,step_limit)\n",
    "\n",
    "# Reads params to transfer to nodes\n",
    "print(signed_transaction.signed_transaction_dict)\n",
    "\n",
    "# Sends the transaction\n",
    "tx_hash = icon_service.send_transaction(signed_transaction)\n",
    "\n",
    "get_tx_result(tx_hash)"
   ]
  },
  {
   "cell_type": "code",
   "execution_count": null,
   "metadata": {
    "slideshow": {
     "slide_type": "-"
    }
   },
   "outputs": [],
   "source": [
    "balance = icon_service.get_balance(\"hxedcdfa97532eb690cf65c0f27ca1b5d4374b8122\")\n",
    "print(balance)"
   ]
  },
  {
   "cell_type": "code",
   "execution_count": null,
   "metadata": {},
   "outputs": [],
   "source": []
  },
  {
   "cell_type": "code",
   "execution_count": 37,
   "metadata": {},
   "outputs": [
    {
     "name": "stdout",
     "output_type": "stream",
     "text": [
      "{'collateral': {'USDb': 'cx072d8f95877a53df350e3dc3d8dba2f379037d42', 'sICX': ''}, 'oTokens': {'oUSDb': 'cx48dd26868c25cfa744aab9f2fccd76ed40c41454', 'oICX': ''}, 'systemContract': {'LendingPool': 'cxbf1a257dcb378b0fd41066fa87abef3f25992832', 'LendingPoolDataProvider': 'cx84490f03cc04b799fe668545340eaeac7cae628c'}}\n"
     ]
    }
   ],
   "source": [
    "# params = {'_address': 'hxc9319d218ffff1672c9f1c15365c6f6c0d161c7b' }\n",
    "\n",
    "_call = CallBuilder()\\\n",
    "    .from_(deployer_wallet.get_address())\\\n",
    "    .to(\"cxad29953f5b8957704e9092632bccc3b1aac62eea\")\\\n",
    "    .method(\"getAllAddress\")\\\n",
    "    .build()\n",
    "response = icon_service.call(_call)\n",
    "print(response)"
   ]
  },
  {
   "cell_type": "code",
   "execution_count": null,
   "metadata": {},
   "outputs": [],
   "source": []
  }
 ],
 "metadata": {
  "celltoolbar": "Slideshow",
  "kernelspec": {
   "display_name": "Python 3",
   "language": "python",
   "name": "python3"
  },
  "language_info": {
   "codemirror_mode": {
    "name": "ipython",
    "version": 3
   },
   "file_extension": ".py",
   "mimetype": "text/x-python",
   "name": "python",
   "nbconvert_exporter": "python",
   "pygments_lexer": "ipython3",
   "version": "3.8.5-final"
  },
  "rise": {
   "scroll": true
  }
 },
 "nbformat": 4,
 "nbformat_minor": 2
}